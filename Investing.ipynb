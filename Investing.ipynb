{
  "nbformat": 4,
  "nbformat_minor": 0,
  "metadata": {
    "colab": {
      "name": "Investing",
      "provenance": [],
      "collapsed_sections": [],
      "authorship_tag": "ABX9TyN4aryD+b8D12k0FHS6f0Gw",
      "include_colab_link": true
    },
    "kernelspec": {
      "name": "python3",
      "display_name": "Python 3"
    },
    "language_info": {
      "name": "python"
    }
  },
  "cells": [
    {
      "cell_type": "markdown",
      "metadata": {
        "id": "view-in-github",
        "colab_type": "text"
      },
      "source": [
        "<a href=\"https://colab.research.google.com/github/brayanricardo13/Analisis-Econometrico/blob/main/Investing.ipynb\" target=\"_parent\"><img src=\"https://colab.research.google.com/assets/colab-badge.svg\" alt=\"Open In Colab\"/></a>"
      ]
    },
    {
      "cell_type": "code",
      "metadata": {
        "id": "QVWLUVn2wJWP"
      },
      "source": [
        "pip install investpy"
      ],
      "execution_count": null,
      "outputs": []
    },
    {
      "cell_type": "code",
      "metadata": {
        "id": "CHNGAVDnwTMj"
      },
      "source": [
        "import investpy as inv\n",
        "import pandas as pd"
      ],
      "execution_count": null,
      "outputs": []
    },
    {
      "cell_type": "code",
      "metadata": {
        "id": "E7jx7UfKBceV"
      },
      "source": [
        "from google.colab import files"
      ],
      "execution_count": null,
      "outputs": []
    },
    {
      "cell_type": "markdown",
      "metadata": {
        "id": "l9vXtOsgYR8m"
      },
      "source": [
        "**Futuros de indices renta variable**"
      ]
    },
    {
      "cell_type": "markdown",
      "metadata": {
        "id": "xG4KMGTDCEqC"
      },
      "source": [
        "**Dow Jones**"
      ]
    },
    {
      "cell_type": "code",
      "metadata": {
        "colab": {
          "base_uri": "https://localhost:8080/"
        },
        "id": "1dUthN5S-IZO",
        "outputId": "730ca625-3b65-49da-a93c-0c27a92fea4e"
      },
      "source": [
        "dow_jones=inv.search_quotes(text='dow jones futures', products=['indices'],countries=['united states'], n_results=1)\n",
        "print(dow_jones)"
      ],
      "execution_count": null,
      "outputs": [
        {
          "output_type": "stream",
          "name": "stdout",
          "text": [
            "{\"id_\": 8873, \"name\": \"Dow Jones Futures\", \"symbol\": \"1YMc1\", \"country\": \"united states\", \"tag\": \"/indices/us-30-futures\", \"pair_type\": \"indices\", \"exchange\": \"CME\"}\n"
          ]
        }
      ]
    },
    {
      "cell_type": "code",
      "metadata": {
        "id": "YkBvRIwr_72J"
      },
      "source": [
        ""
      ],
      "execution_count": null,
      "outputs": []
    },
    {
      "cell_type": "markdown",
      "metadata": {
        "id": "gtLhno6-CK8K"
      },
      "source": [
        "**S&p500** "
      ]
    },
    {
      "cell_type": "code",
      "metadata": {
        "colab": {
          "base_uri": "https://localhost:8080/"
        },
        "id": "AIfgEMHPCbxm",
        "outputId": "daf7c060-75d8-4a28-e610-d10d91502c61"
      },
      "source": [
        "Standarpoor500=inv.search_quotes(\"S&P 500 Futures\", products=['indices'],countries=['united states'], n_results=1)\n",
        "print(Standarpoor500)"
      ],
      "execution_count": null,
      "outputs": [
        {
          "output_type": "stream",
          "name": "stdout",
          "text": [
            "{\"id_\": 8839, \"name\": \"S&P 500 Futures\", \"symbol\": \"ESc1\", \"country\": \"united states\", \"tag\": \"/indices/us-spx-500-futures\", \"pair_type\": \"indices\", \"exchange\": \"CME\"}\n"
          ]
        }
      ]
    },
    {
      "cell_type": "code",
      "metadata": {
        "id": "kaWqOd2UI_B-"
      },
      "source": [
        ""
      ],
      "execution_count": null,
      "outputs": []
    },
    {
      "cell_type": "markdown",
      "metadata": {
        "id": "26XOOhcSCcX2"
      },
      "source": [
        "**Euro Stoxx 50**"
      ]
    },
    {
      "cell_type": "code",
      "metadata": {
        "colab": {
          "base_uri": "https://localhost:8080/"
        },
        "id": "GVyjSVfzCeKa",
        "outputId": "cb1f730f-1846-420d-df7b-98c3f545dd91"
      },
      "source": [
        "Euro_stoxx_50=inv.search_quotes(text='Euro Stoxx 50 Futures', products=['indices'],countries=['euro zone'], n_results=1)\n",
        "print(Euro_stoxx_50)"
      ],
      "execution_count": null,
      "outputs": [
        {
          "output_type": "stream",
          "name": "stdout",
          "text": [
            "{\"id_\": 8867, \"name\": \"Euro Stoxx 50 Futures\", \"symbol\": \"EU50\", \"country\": \"euro zone\", \"tag\": \"/indices/eu-stocks-50-futures\", \"pair_type\": \"indices\", \"exchange\": \"Eurex\"}\n"
          ]
        }
      ]
    },
    {
      "cell_type": "code",
      "metadata": {
        "id": "IBHKiM7oEULL"
      },
      "source": [
        ""
      ],
      "execution_count": null,
      "outputs": []
    },
    {
      "cell_type": "markdown",
      "metadata": {
        "id": "TcTs_n0GCena"
      },
      "source": [
        "**Dax (Alemania)**"
      ]
    },
    {
      "cell_type": "code",
      "metadata": {
        "colab": {
          "base_uri": "https://localhost:8080/"
        },
        "id": "ueXDrPqbCj7b",
        "outputId": "7c706115-331a-4a26-bd58-2b1ef650c9ef"
      },
      "source": [
        "Dax_Alemania=inv.search_quotes(text='DAX Futures', products=['indices'],countries=['germany'], n_results=1)\n",
        "print(Dax_Alemania)"
      ],
      "execution_count": null,
      "outputs": [
        {
          "output_type": "stream",
          "name": "stdout",
          "text": [
            "{\"id_\": 8826, \"name\": \"DAX Futures\", \"symbol\": \"DE30\", \"country\": \"germany\", \"tag\": \"/indices/germany-30-futures\", \"pair_type\": \"indices\", \"exchange\": \"Eurex\"}\n"
          ]
        }
      ]
    },
    {
      "cell_type": "markdown",
      "metadata": {
        "id": "x8i_3KHMCkdZ"
      },
      "source": [
        "**Nikkei (Japón)**"
      ]
    },
    {
      "cell_type": "code",
      "metadata": {
        "colab": {
          "base_uri": "https://localhost:8080/"
        },
        "id": "QkdjzXzMCrrI",
        "outputId": "6157e71d-ddd6-42cb-db86-b99c4ec7310d"
      },
      "source": [
        "Nikkei_japon=inv.search_quotes(text='Nikkei 225 Futures', products=['indices'],countries=['japan'], n_results=1)\n",
        "print(Nikkei_japon)"
      ],
      "execution_count": null,
      "outputs": [
        {
          "output_type": "stream",
          "name": "stdout",
          "text": [
            "{\"id_\": 8859, \"name\": \"Nikkei 225 Futures\", \"symbol\": \"JP225\", \"country\": \"japan\", \"tag\": \"/indices/japan-225-futures\", \"pair_type\": \"indices\", \"exchange\": \"OSE\"}\n"
          ]
        }
      ]
    },
    {
      "cell_type": "code",
      "metadata": {
        "id": "MMEO8XueGR0x"
      },
      "source": [
        ""
      ],
      "execution_count": null,
      "outputs": []
    },
    {
      "cell_type": "markdown",
      "metadata": {
        "id": "b_6kv2VqCt4i"
      },
      "source": [
        "**Hang Seng (China)**"
      ]
    },
    {
      "cell_type": "code",
      "metadata": {
        "id": "9csxbgZeCvfC"
      },
      "source": [
        ""
      ],
      "execution_count": null,
      "outputs": []
    },
    {
      "cell_type": "markdown",
      "metadata": {
        "id": "uAOISXZUw-cV"
      },
      "source": [
        "**Indices Renta variable Sudamerica**"
      ]
    },
    {
      "cell_type": "markdown",
      "metadata": {
        "id": "z75vbO46EcND"
      },
      "source": [
        "**Brasil**"
      ]
    },
    {
      "cell_type": "code",
      "metadata": {
        "id": "Rg5r9Fp5EqEd",
        "colab": {
          "base_uri": "https://localhost:8080/"
        },
        "outputId": "5bcfe9bb-2df4-46ba-8b80-f18333de6145"
      },
      "source": [
        "inv.get_indices_list(\"brazil\")"
      ],
      "execution_count": null,
      "outputs": [
        {
          "output_type": "execute_result",
          "data": {
            "text/plain": [
              "['MSCI Brazil Net USD',\n",
              " 'DJ Brazil',\n",
              " 'TR Brazil 50',\n",
              " 'MSCI Brazil Price USD',\n",
              " 'DJ Brazil Titans 20 ADR',\n",
              " 'BNY Mellon Brazil ADR',\n",
              " 'BNY Mellon Brazil ADR TR',\n",
              " 'BNY Mellon Brazil Classic ADR',\n",
              " 'BNY Mellon Brazil Classic ADR TR',\n",
              " 'FTSE RAFI Brazil 50',\n",
              " 'MSCI Brazil 10 40',\n",
              " 'DJ BRIC Brazil 15 Capped NTR',\n",
              " 'DJ BRIC Brazil 15 USD',\n",
              " 'DJ BRIC Brazil 15 EUR',\n",
              " 'FTSE Brazil Infrastructure Extended',\n",
              " 'MSCI Brazil Gross',\n",
              " 'DJ Brazil Titans 20 ADR TR',\n",
              " 'MSCI Brazil 25-50 Price',\n",
              " 'MSCI Brazil 20-50 Gross Return',\n",
              " 'MSCI Brazil 25-50 Net Return',\n",
              " 'FTSE Brazil Infrastructure Extended USD PR',\n",
              " 'FTSE Brazil Infrastructure Extended Total Return',\n",
              " 'FTSE Brazil Infrastructure Extended Net Tax Total',\n",
              " 'FTSE Brazil Infrastructure Extended Net Tax USD TR',\n",
              " 'DJ BRIC Brazil 15 DR',\n",
              " 'MSCI Brazil',\n",
              " 'BM&FBOVESPA Unsponsored BDRX',\n",
              " 'Small Cap Index',\n",
              " 'Tag Along',\n",
              " 'Brazil broad-Based',\n",
              " 'Brazil Index',\n",
              " 'Mid-Large Cap Index',\n",
              " 'Public Utilities',\n",
              " 'BM&FBOVESPA Real Estate IFIX',\n",
              " 'Financials',\n",
              " 'Carbon Efficient',\n",
              " 'Corporate Governance IGCNM',\n",
              " 'Bovespa Dividend',\n",
              " 'Brazil 50',\n",
              " 'Corporate Gov Trade',\n",
              " 'FTSE Brazil',\n",
              " 'Ibovespa EUR',\n",
              " 'Ibovespa USD',\n",
              " 'IVBX',\n",
              " 'IGCX',\n",
              " 'Consumption',\n",
              " 'Industrial Sector',\n",
              " 'Electrical Energy',\n",
              " 'Basic Materials',\n",
              " 'Bovespa',\n",
              " 'Corporate Sustainability',\n",
              " 'Real Estate']"
            ]
          },
          "metadata": {},
          "execution_count": 9
        }
      ]
    },
    {
      "cell_type": "code",
      "metadata": {
        "id": "AUu9-_5MEyhD",
        "colab": {
          "base_uri": "https://localhost:8080/"
        },
        "outputId": "dea8684a-cb5a-4802-e909-7dbe55879219"
      },
      "source": [
        "data1=inv.get_index_recent_data(\"bovespa\",country=\"brazil\")\n",
        "print(data1)"
      ],
      "execution_count": null,
      "outputs": [
        {
          "output_type": "stream",
          "name": "stdout",
          "text": [
            "                Open      High       Low     Close    Volume Currency\n",
            "Date                                                                 \n",
            "2021-10-19  114422.0  114422.0  109947.0  110673.0  14129179      BRL\n",
            "2021-10-20  110677.0  112023.0  110176.0  110786.0  11735808      BRL\n",
            "2021-10-21  110767.0  110767.0  105714.0  107735.0  16507711      BRL\n",
            "2021-10-22  107714.0  107749.0  102854.0  106296.0  21165664      BRL\n",
            "2021-10-25  106298.0  109372.0  106296.0  108715.0  11512089      BRL\n",
            "2021-10-26  108713.0  108713.0  106321.0  106420.0  10762210      BRL\n",
            "2021-10-27  106433.0  108224.0  106045.0  106363.0  10831312      BRL\n",
            "2021-10-28  106369.0  107210.0  105282.0  105705.0  11502914      BRL\n",
            "2021-10-29  105707.0  105954.0  103430.0  103501.0  12595750      BRL\n",
            "2021-11-01  103514.0  106136.0  103514.0  105551.0  10734753      BRL\n",
            "2021-11-03  105547.0  106754.0  104205.0  105617.0  14696898      BRL\n",
            "2021-11-04  105617.0  105627.0  102835.0  103412.0  12084002      BRL\n",
            "2021-11-05  103412.0  105555.0  103412.0  104824.0  12594990      BRL\n",
            "2021-11-08  104824.0  105679.0  104182.0  104781.0   9357997      BRL\n",
            "2021-11-09  104783.0  106674.0  104783.0  105535.0  11021248      BRL\n",
            "2021-11-10  105535.0  107407.0  105140.0  105968.0  12277371      BRL\n",
            "2021-11-11  105988.0  108669.0  105988.0  107595.0  12661428      BRL\n",
            "2021-11-12  107576.0  107915.0  105842.0  106335.0  13248079      BRL\n",
            "2021-11-16  106336.0  106971.0  104113.0  104404.0  11579374      BRL\n",
            "2021-11-17  104405.0  105535.0  102551.0  102948.0  12832165      BRL\n",
            "2021-11-18  102948.0  103757.0  102014.0  102426.0  10905699      BRL\n",
            "2021-11-19  102426.0  103975.0  102143.0  103397.0   7545578      BRL\n"
          ]
        }
      ]
    },
    {
      "cell_type": "code",
      "metadata": {
        "id": "cjz5AAbUFAGz",
        "colab": {
          "base_uri": "https://localhost:8080/"
        },
        "outputId": "b31e02a6-dfcc-4b78-9779-4205cb1b2dd0"
      },
      "source": [
        "Historica_data1 =inv.get_index_historical_data(\"bovespa\",country=\"brazil\",from_date=\"05/09/2021\",to_date=\"10/09/2021\")\n",
        "print(Historica_data1)"
      ],
      "execution_count": null,
      "outputs": [
        {
          "output_type": "stream",
          "name": "stdout",
          "text": [
            "                Open      High       Low     Close    Volume Currency\n",
            "Date                                                                 \n",
            "2021-09-06  116926.0  117981.0  116156.0  117869.0   5111268      BRL\n",
            "2021-09-08  117866.0  117866.0  113172.0  113413.0  12321413      BRL\n",
            "2021-09-09  113413.0  116354.0  112435.0  115361.0  13890581      BRL\n",
            "2021-09-10  115370.0  116896.0  114286.0  114286.0  11155712      BRL\n"
          ]
        }
      ]
    },
    {
      "cell_type": "markdown",
      "metadata": {
        "id": "MnvD9JPpFb9O"
      },
      "source": [
        "**Mexico**"
      ]
    },
    {
      "cell_type": "code",
      "metadata": {
        "id": "0yGL7xYBFiA8",
        "colab": {
          "base_uri": "https://localhost:8080/"
        },
        "outputId": "eaa9d925-896f-46e1-e7e0-a52e7358db1b"
      },
      "source": [
        "inv.get_indices_list(\"Mexico\")"
      ],
      "execution_count": null,
      "outputs": [
        {
          "output_type": "execute_result",
          "data": {
            "text/plain": [
              "['S&P/BMV IRT LargeCap',\n",
              " 'S&P/BMV IRT MidCap',\n",
              " 'S&P/BMV IRT SmallCap',\n",
              " 'S&P/BMV IMeBz',\n",
              " 'S&P/BMV IMeBz RT',\n",
              " 'MSCI Mexico Gross',\n",
              " 'BURSA OPTIMO RT',\n",
              " 'BNY Mellon Mexico Classic ADR',\n",
              " 'BNY Mellon Mexico ADR TR',\n",
              " 'BNY Mellon Mexico ADR',\n",
              " 'NQ Mexico Financials',\n",
              " 'DJ Mexico USD',\n",
              " 'DJ Mexico',\n",
              " 'MSCI Mexico',\n",
              " 'BNY Mellon Mexico Classic ADR TR',\n",
              " 'S&P/BMV IRT CompMx',\n",
              " 'MSCI Mexico Special Capping Net USD',\n",
              " 'S&P/BMV IPC SUSTENTABLE RT',\n",
              " 'S&P/BMV-EXTR RT',\n",
              " 'S&P/BMV-COMERCIO RT',\n",
              " 'Banamex',\n",
              " 'FTSE BIVA Eod Net Tax',\n",
              " 'FTSE BIVA EOD Price',\n",
              " 'FTSE BIVA EOD TR',\n",
              " 'FTSE BIVA Real Time Net Tax',\n",
              " 'FTSE BIVA Real Time Total Return',\n",
              " 'FTSE Mexico',\n",
              " 'Mexico 50',\n",
              " 'S&P/BMV BMBra 15',\n",
              " 'S&P/BMV BMBra 15 RT',\n",
              " 'S&P/BMV-SRVCM RT',\n",
              " 'S&P/BMV DDBOL',\n",
              " 'S&P/BMV IRT',\n",
              " 'S&P/BMV-MAT RT',\n",
              " 'S&P/BMV-TRANS RT',\n",
              " 'S&P/BMV-ENL RT',\n",
              " 'S&P/BMV-INDU RT',\n",
              " 'S&P/BMV-MAT',\n",
              " 'S&P/BMV-INDU',\n",
              " 'S&P/BMV HABITA',\n",
              " 'S&P/BMV SALUD',\n",
              " 'S&P/BMV SERVS FINAN',\n",
              " 'S&P/BMV PROD CONS FREC',\n",
              " 'S&P/BMV SRVS CONS NO BCO',\n",
              " 'FTSE BIVA Real Time Price',\n",
              " 'S&P/BMV-SRVCM',\n",
              " 'S&P/BMV IPC CompMx',\n",
              " 'S&P/BMV IMC30',\n",
              " 'S&P/BMV-CONST RT',\n",
              " 'S&P/BMV-ICF RT',\n",
              " 'S&P/BMV-SERV RT',\n",
              " 'S&P/BMV-FINAN RT',\n",
              " 'S&P/BMV HABITA RT',\n",
              " 'S&P/BMV IPC',\n",
              " 'S&P/BMV TELECOM',\n",
              " 'S&P/BMV INMEX',\n",
              " 'S&P/BMV IPC MidCap',\n",
              " 'S&P/BMV IPC LargeCap',\n",
              " 'S&P/BMV DIBOL',\n",
              " 'S&P/BMV IPC SUSTENTABLE',\n",
              " 'S&P/BMV IPC SmallCap']"
            ]
          },
          "metadata": {},
          "execution_count": 12
        }
      ]
    },
    {
      "cell_type": "code",
      "metadata": {
        "id": "aWEMdeslFngE",
        "colab": {
          "base_uri": "https://localhost:8080/"
        },
        "outputId": "e5e3fcb7-40d5-448f-975d-170a62d57cc9"
      },
      "source": [
        "data2=inv.get_index_recent_data(\"S&P/BMV IPC\",country=\"Mexico\")\n",
        "print(data2)"
      ],
      "execution_count": null,
      "outputs": [
        {
          "output_type": "stream",
          "name": "stdout",
          "text": [
            "                Open      High       Low     Close     Volume Currency\n",
            "Date                                                                  \n",
            "2021-10-19  52672.46  52733.61  52242.73  52402.73  127365000      MXN\n",
            "2021-10-20  52336.63  52688.22  52234.78  52298.20  130916000      MXN\n",
            "2021-10-21  52236.10  52252.39  51521.94  52020.05  170060992      MXN\n",
            "2021-10-22  51970.58  52250.55  51737.39  51889.66  142807008      MXN\n",
            "2021-10-25  51892.32  52144.97  51655.96  51833.80  123949000      MXN\n",
            "2021-10-26  52051.63  52244.72  51885.63  52206.59  138935008      MXN\n",
            "2021-10-27  52189.61  52194.23  51648.86  51714.60  118291000      MXN\n",
            "2021-10-28  51762.00  51767.42  51200.40  51248.84  151378000      MXN\n",
            "2021-10-29  51193.84  51503.58  50997.11  51309.84  145759008      MXN\n",
            "2021-11-01  51353.61  51880.02  51353.61  51653.26   91187000      MXN\n",
            "2021-11-03  51648.84  51965.52  51503.13  51876.81  203220992      MXN\n",
            "2021-11-04  51838.63  51967.41  51338.69  51873.46  182212000      MXN\n",
            "2021-11-05  51907.27  52220.40  51779.24  51977.96  197700992      MXN\n",
            "2021-11-08  52000.21  52577.33  51979.51  52251.49  201344000      MXN\n",
            "2021-11-09  52250.49  52340.00  51778.03  52114.12  183571008      MXN\n",
            "2021-11-10  52153.94  52171.25  51590.52  51704.40  127671000      MXN\n",
            "2021-11-11  51767.80  51815.51  51514.88  51707.01  134927008      MXN\n",
            "2021-11-12  51739.88  51937.37  51350.36  51432.54  184079008      MXN\n",
            "2021-11-16  51422.13  51585.64  51000.91  51161.50  211551008      MXN\n",
            "2021-11-17  51197.98  51210.84  50678.34  51045.10  134528000      MXN\n",
            "2021-11-18  51134.91  51233.66  50552.45  50831.95  162724368      MXN\n",
            "2021-11-19  50724.29  50891.14  50535.11  50719.91   77685040      MXN\n"
          ]
        }
      ]
    },
    {
      "cell_type": "code",
      "metadata": {
        "id": "KO_dMz3DGB2h",
        "colab": {
          "base_uri": "https://localhost:8080/"
        },
        "outputId": "eee43a1c-75d6-4b17-cd70-462e703427f0"
      },
      "source": [
        "Historica_data2 =inv.get_index_historical_data(\"COLCAP\",country=\"Colombia\",from_date=\"05/09/2021\",to_date=\"10/09/2021\")\n",
        "print(Historica_data2)"
      ],
      "execution_count": null,
      "outputs": [
        {
          "output_type": "stream",
          "name": "stdout",
          "text": [
            "               Open     High      Low    Close  Volume Currency\n",
            "Date                                                           \n",
            "2021-09-06  1327.49  1327.74  1320.13  1327.09       0      COP\n",
            "2021-09-07  1326.51  1327.83  1320.98  1320.98       0      COP\n",
            "2021-09-08  1322.70  1323.99  1313.63  1320.39       0      COP\n",
            "2021-09-09  1319.81  1323.01  1314.16  1322.78       0      COP\n",
            "2021-09-10  1325.13  1325.13  1317.22  1320.52       0      COP\n"
          ]
        }
      ]
    },
    {
      "cell_type": "markdown",
      "metadata": {
        "id": "XLqQ8FD_GMfr"
      },
      "source": [
        "**Chile**"
      ]
    },
    {
      "cell_type": "code",
      "metadata": {
        "id": "0cl_uW4kGPYe",
        "colab": {
          "base_uri": "https://localhost:8080/"
        },
        "outputId": "3ec1378b-0ee1-4b32-d7c8-297ae4f2538d"
      },
      "source": [
        "inv.get_indices_list(\"chile\")"
      ],
      "execution_count": null,
      "outputs": [
        {
          "output_type": "execute_result",
          "data": {
            "text/plain": [
              "['BNY Mellon Chile ADR TR',\n",
              " 'Inter 10',\n",
              " 'FTSE Chile',\n",
              " 'S&P CLX IPSA',\n",
              " 'BNY Mellon Chile ADR',\n",
              " 'S&P CLX IGPA',\n",
              " 'DJ Chile',\n",
              " 'MSCI Chile Net USD',\n",
              " 'MSCI Chile',\n",
              " 'DJ Chile USD']"
            ]
          },
          "metadata": {},
          "execution_count": 15
        }
      ]
    },
    {
      "cell_type": "code",
      "metadata": {
        "id": "L6fyDg-YGV1F",
        "colab": {
          "base_uri": "https://localhost:8080/"
        },
        "outputId": "76e8bd34-b387-46ca-c3a2-27ec51684f32"
      },
      "source": [
        "data3=inv.get_index_recent_data(\"S&P CLX IPSA \",country=\"chile\")\n",
        "print(data3)\n"
      ],
      "execution_count": null,
      "outputs": [
        {
          "output_type": "stream",
          "name": "stdout",
          "text": [
            "               Open     High      Low    Close  Volume Currency\n",
            "Date                                                           \n",
            "2021-10-19  4008.74  4036.48  3994.22  3994.91       0      CLP\n",
            "2021-10-20  3994.91  4062.87  3975.21  4037.49       0      CLP\n",
            "2021-10-21  4037.49  4075.03  4031.53  4053.40       0      CLP\n",
            "2021-10-22  4053.40  4100.06  4052.04  4084.35       0      CLP\n",
            "2021-10-25  4084.35  4176.22  4084.35  4175.95       0      CLP\n",
            "2021-10-26  4175.95  4269.49  4175.95  4245.91       0      CLP\n",
            "2021-10-27  4245.91  4260.89  4115.66  4115.66       0      CLP\n",
            "2021-10-28  4115.66  4127.10  4073.76  4096.24       0      CLP\n",
            "2021-10-29  4096.24  4122.84  4068.77  4092.20       0      CLP\n",
            "2021-11-02  4092.20  4214.42  4092.20  4207.20       0      CLP\n",
            "2021-11-03  4207.20  4310.26  4205.81  4309.93       0      CLP\n",
            "2021-11-04  4309.93  4473.80  4309.93  4473.80       0      CLP\n",
            "2021-11-05  4473.80  4512.90  4387.36  4388.19       0      CLP\n",
            "2021-11-08  4388.19  4434.12  4357.13  4363.33       0      CLP\n",
            "2021-11-09  4363.33  4472.98  4331.36  4470.52       0      CLP\n",
            "2021-11-10  4470.52  4489.24  4429.39  4489.04       0      CLP\n",
            "2021-11-11  4489.04  4519.86  4463.71  4519.38       0      CLP\n",
            "2021-11-12  4519.38  4532.36  4485.83  4485.97       0      CLP\n",
            "2021-11-15  4486.05  4488.39  4370.87  4382.46       0      CLP\n",
            "2021-11-16  4382.46  4387.49  4294.82  4304.80       0      CLP\n",
            "2021-11-17  4304.80  4325.14  4257.99  4293.18       0      CLP\n",
            "2021-11-18  4293.18  4356.25  4253.56  4281.66       0      CLP\n",
            "2021-11-19  4281.66  4373.54  4251.44  4355.33       0      CLP\n"
          ]
        }
      ]
    },
    {
      "cell_type": "code",
      "metadata": {
        "id": "iuTk1gU9GltO",
        "colab": {
          "base_uri": "https://localhost:8080/"
        },
        "outputId": "8e2b503c-383f-40b2-d91b-b1d0f34c4975"
      },
      "source": [
        "Historica_data3 =inv.get_index_historical_data(\"COLCAP\",country=\"Colombia\",from_date=\"05/09/2021\",to_date=\"10/09/2021\")\n",
        "print(Historica_data3)"
      ],
      "execution_count": null,
      "outputs": [
        {
          "output_type": "stream",
          "name": "stdout",
          "text": [
            "               Open     High      Low    Close  Volume Currency\n",
            "Date                                                           \n",
            "2021-09-06  1327.49  1327.74  1320.13  1327.09       0      COP\n",
            "2021-09-07  1326.51  1327.83  1320.98  1320.98       0      COP\n",
            "2021-09-08  1322.70  1323.99  1313.63  1320.39       0      COP\n",
            "2021-09-09  1319.81  1323.01  1314.16  1322.78       0      COP\n",
            "2021-09-10  1325.13  1325.13  1317.22  1320.52       0      COP\n"
          ]
        }
      ]
    },
    {
      "cell_type": "markdown",
      "metadata": {
        "id": "9xF7odN1ENHE"
      },
      "source": [
        "**Colombia**"
      ]
    },
    {
      "cell_type": "code",
      "metadata": {
        "id": "JQqp994Q0iHw",
        "colab": {
          "base_uri": "https://localhost:8080/"
        },
        "outputId": "501fe1fd-ceb6-44c9-8235-1b0329b3edc0"
      },
      "source": [
        "inv.get_indices_list(\"Colombia\")"
      ],
      "execution_count": null,
      "outputs": [
        {
          "output_type": "execute_result",
          "data": {
            "text/plain": [
              "['FTSE Colombia',\n",
              " 'COLEQTY',\n",
              " 'COLSC',\n",
              " 'COL20',\n",
              " 'COLIR',\n",
              " 'COL General',\n",
              " 'COL Financial',\n",
              " 'COL Public Services',\n",
              " 'Investment',\n",
              " 'COL Industrial',\n",
              " 'COLCAP',\n",
              " 'MSCI Colombia',\n",
              " 'COL Services']"
            ]
          },
          "metadata": {},
          "execution_count": 18
        }
      ]
    },
    {
      "cell_type": "code",
      "metadata": {
        "id": "7EcPWIFn3Dvx",
        "colab": {
          "base_uri": "https://localhost:8080/"
        },
        "outputId": "6cfa1a13-35c1-4ab5-bc52-455c962d517f"
      },
      "source": [
        "data=inv.get_index_recent_data(\"COLCAP\",country=\"Colombia\")\n",
        "print(data)"
      ],
      "execution_count": null,
      "outputs": [
        {
          "output_type": "stream",
          "name": "stdout",
          "text": [
            "               Open     High      Low    Close  Volume Currency\n",
            "Date                                                           \n",
            "2021-10-19  1425.62  1425.62  1413.50  1416.49       0      COP\n",
            "2021-10-20  1417.35  1418.82  1411.40  1414.10       0      COP\n",
            "2021-10-21  1414.10  1417.14  1406.28  1410.20       0      COP\n",
            "2021-10-22  1410.90  1411.41  1399.64  1399.64       0      COP\n",
            "2021-10-25  1396.30  1402.20  1395.44  1402.04       0      COP\n",
            "2021-10-26  1401.04  1413.32  1400.60  1413.32       0      COP\n",
            "2021-10-27  1408.57  1415.22  1403.26  1404.09       0      COP\n",
            "2021-10-28  1403.59  1407.92  1399.83  1407.92       0      COP\n",
            "2021-10-29  1404.92  1404.92  1390.28  1394.04       0      COP\n",
            "2021-11-02  1395.62  1400.00  1389.55  1390.50       0      COP\n",
            "2021-11-03  1392.41  1404.52  1388.09  1404.52       0      COP\n",
            "2021-11-04  1407.60  1409.86  1390.90  1392.19       0      COP\n",
            "2021-11-05  1392.52  1400.08  1385.63  1388.56       0      COP\n",
            "2021-11-08  1388.25  1394.23  1388.25  1394.23       0      COP\n",
            "2021-11-09  1395.66  1397.00  1375.71  1384.59       0      COP\n",
            "2021-11-10  1385.95  1386.10  1360.02  1365.65       0      COP\n",
            "2021-11-11  1377.42  1379.43  1363.74  1365.84       0      COP\n",
            "2021-11-12  1365.92  1367.47  1354.09  1356.48       0      COP\n",
            "2021-11-16  1352.40  1353.55  1333.47  1333.47       0      COP\n",
            "2021-11-17  1335.12  1339.07  1317.11  1330.57       0      COP\n",
            "2021-11-18  1330.56  1332.78  1323.50  1328.89       0      COP\n",
            "2021-11-19  1335.17  1335.17  1314.88  1315.86       0      COP\n"
          ]
        }
      ]
    },
    {
      "cell_type": "code",
      "metadata": {
        "id": "UmPjy5e84w6Y",
        "colab": {
          "base_uri": "https://localhost:8080/"
        },
        "outputId": "6180cbcb-7b4d-4dba-db12-52558332d1f6"
      },
      "source": [
        "Historica_data =inv.get_index_historical_data(\"COLCAP\",country=\"Colombia\",from_date=\"05/09/2021\",to_date=\"10/09/2021\")\n",
        "print(Historica_data)"
      ],
      "execution_count": null,
      "outputs": [
        {
          "output_type": "stream",
          "name": "stdout",
          "text": [
            "               Open     High      Low    Close  Volume Currency\n",
            "Date                                                           \n",
            "2021-09-06  1327.49  1327.74  1320.13  1327.09       0      COP\n",
            "2021-09-07  1326.51  1327.83  1320.98  1320.98       0      COP\n",
            "2021-09-08  1322.70  1323.99  1313.63  1320.39       0      COP\n",
            "2021-09-09  1319.81  1323.01  1314.16  1322.78       0      COP\n",
            "2021-09-10  1325.13  1325.13  1317.22  1320.52       0      COP\n"
          ]
        }
      ]
    },
    {
      "cell_type": "markdown",
      "metadata": {
        "id": "TfHT9MJ0Fk0x"
      },
      "source": [
        "**Materia Primas**"
      ]
    },
    {
      "cell_type": "markdown",
      "metadata": {
        "id": "ZaAJ2gQfGq2g"
      },
      "source": [
        "**Petroleo brent**"
      ]
    },
    {
      "cell_type": "code",
      "metadata": {
        "id": "bSm2XgfWFrfV",
        "colab": {
          "base_uri": "https://localhost:8080/",
          "height": 903
        },
        "outputId": "8e75f021-d0de-4034-f498-4c27dadbae42"
      },
      "source": [
        "inv.get_commodities(group=\"energy\")"
      ],
      "execution_count": null,
      "outputs": [
        {
          "output_type": "execute_result",
          "data": {
            "text/html": [
              "<div>\n",
              "<style scoped>\n",
              "    .dataframe tbody tr th:only-of-type {\n",
              "        vertical-align: middle;\n",
              "    }\n",
              "\n",
              "    .dataframe tbody tr th {\n",
              "        vertical-align: top;\n",
              "    }\n",
              "\n",
              "    .dataframe thead th {\n",
              "        text-align: right;\n",
              "    }\n",
              "</style>\n",
              "<table border=\"1\" class=\"dataframe\">\n",
              "  <thead>\n",
              "    <tr style=\"text-align: right;\">\n",
              "      <th></th>\n",
              "      <th>title</th>\n",
              "      <th>country</th>\n",
              "      <th>name</th>\n",
              "      <th>full_name</th>\n",
              "      <th>currency</th>\n",
              "      <th>group</th>\n",
              "    </tr>\n",
              "  </thead>\n",
              "  <tbody>\n",
              "    <tr>\n",
              "      <th>0</th>\n",
              "      <td>Real Time Streaming Futures Quotes</td>\n",
              "      <td>united kingdom</td>\n",
              "      <td>Brent Oil</td>\n",
              "      <td>Brent Oil Futures</td>\n",
              "      <td>USD</td>\n",
              "      <td>energy</td>\n",
              "    </tr>\n",
              "    <tr>\n",
              "      <th>1</th>\n",
              "      <td>Real Time Streaming Futures Quotes</td>\n",
              "      <td>united states</td>\n",
              "      <td>Crude Oil WTI</td>\n",
              "      <td>Crude Oil WTI Futures</td>\n",
              "      <td>USD</td>\n",
              "      <td>energy</td>\n",
              "    </tr>\n",
              "    <tr>\n",
              "      <th>2</th>\n",
              "      <td>Real Time Streaming Futures Quotes</td>\n",
              "      <td>united kingdom</td>\n",
              "      <td>London Gas Oil</td>\n",
              "      <td>London Gas Oil Futures</td>\n",
              "      <td>USD</td>\n",
              "      <td>energy</td>\n",
              "    </tr>\n",
              "    <tr>\n",
              "      <th>3</th>\n",
              "      <td>Real Time Streaming Futures Quotes</td>\n",
              "      <td>united states</td>\n",
              "      <td>Natural Gas</td>\n",
              "      <td>Natural Gas Futures</td>\n",
              "      <td>USD</td>\n",
              "      <td>energy</td>\n",
              "    </tr>\n",
              "    <tr>\n",
              "      <th>4</th>\n",
              "      <td>Real Time Streaming Futures Quotes</td>\n",
              "      <td>united states</td>\n",
              "      <td>Heating Oil</td>\n",
              "      <td>Heating Oil Futures</td>\n",
              "      <td>USD</td>\n",
              "      <td>energy</td>\n",
              "    </tr>\n",
              "    <tr>\n",
              "      <th>5</th>\n",
              "      <td>Real Time Streaming Futures Quotes</td>\n",
              "      <td>united kingdom</td>\n",
              "      <td>Carbon Emissions</td>\n",
              "      <td>Carbon Emissions Futures</td>\n",
              "      <td>EUR</td>\n",
              "      <td>energy</td>\n",
              "    </tr>\n",
              "    <tr>\n",
              "      <th>6</th>\n",
              "      <td>Real Time Streaming Futures Quotes</td>\n",
              "      <td>united states</td>\n",
              "      <td>Gasoline RBOB</td>\n",
              "      <td>Gasoline RBOB Futures</td>\n",
              "      <td>USD</td>\n",
              "      <td>energy</td>\n",
              "    </tr>\n",
              "    <tr>\n",
              "      <th>7</th>\n",
              "      <td>MCX Futures Market Quotes</td>\n",
              "      <td>india</td>\n",
              "      <td>MCX Brent Oil</td>\n",
              "      <td>Brent Oil Futures</td>\n",
              "      <td>INR</td>\n",
              "      <td>energy</td>\n",
              "    </tr>\n",
              "    <tr>\n",
              "      <th>8</th>\n",
              "      <td>MCX Futures Market Quotes</td>\n",
              "      <td>india</td>\n",
              "      <td>MCX Crude Oil WTI</td>\n",
              "      <td>Crude Oil WTI Futures</td>\n",
              "      <td>INR</td>\n",
              "      <td>energy</td>\n",
              "    </tr>\n",
              "    <tr>\n",
              "      <th>9</th>\n",
              "      <td>MCX Futures Market Quotes</td>\n",
              "      <td>india</td>\n",
              "      <td>MCX Natural Gas</td>\n",
              "      <td>Natural Gas Futures</td>\n",
              "      <td>INR</td>\n",
              "      <td>energy</td>\n",
              "    </tr>\n",
              "  </tbody>\n",
              "</table>\n",
              "</div>"
            ],
            "text/plain": [
              "                                title         country  ... currency   group\n",
              "0  Real Time Streaming Futures Quotes  united kingdom  ...      USD  energy\n",
              "1  Real Time Streaming Futures Quotes   united states  ...      USD  energy\n",
              "2  Real Time Streaming Futures Quotes  united kingdom  ...      USD  energy\n",
              "3  Real Time Streaming Futures Quotes   united states  ...      USD  energy\n",
              "4  Real Time Streaming Futures Quotes   united states  ...      USD  energy\n",
              "5  Real Time Streaming Futures Quotes  united kingdom  ...      EUR  energy\n",
              "6  Real Time Streaming Futures Quotes   united states  ...      USD  energy\n",
              "7           MCX Futures Market Quotes           india  ...      INR  energy\n",
              "8           MCX Futures Market Quotes           india  ...      INR  energy\n",
              "9           MCX Futures Market Quotes           india  ...      INR  energy\n",
              "\n",
              "[10 rows x 6 columns]"
            ]
          },
          "metadata": {},
          "execution_count": 21
        }
      ]
    },
    {
      "cell_type": "code",
      "metadata": {
        "id": "c--CN3WAG9p3",
        "colab": {
          "base_uri": "https://localhost:8080/"
        },
        "outputId": "13a79bd3-9b90-4fde-943c-0fec2a13665f"
      },
      "source": [
        "brent=inv.get_commodity_recent_data(\"Brent Oil\t\",country=\"united kingdom\")\n",
        "print(brent)"
      ],
      "execution_count": null,
      "outputs": [
        {
          "output_type": "stream",
          "name": "stdout",
          "text": [
            "             Open   High    Low  Close  Volume Currency\n",
            "Date                                                   \n",
            "2021-10-19  84.21  85.40  83.70  85.08  371791      USD\n",
            "2021-10-20  85.19  85.89  83.61  85.82  378692      USD\n",
            "2021-10-21  85.90  86.10  83.36  84.61  373646      USD\n",
            "2021-10-22  84.52  85.93  83.82  85.53  298347      USD\n",
            "2021-10-25  85.65  86.70  85.43  85.99  294554      USD\n",
            "2021-10-26  86.03  86.50  85.27  86.40  222562      USD\n",
            "2021-10-27  86.07  86.28  84.05  84.58  149747      USD\n",
            "2021-10-28  84.21  84.59  82.32  84.32  118142      USD\n",
            "2021-10-29  84.33  84.83  83.79  84.38   22766      USD\n",
            "2021-11-01  83.63  85.12  83.03  84.71  302904      USD\n",
            "2021-11-02  84.45  85.23  83.76  84.72  317069      USD\n",
            "2021-11-03  84.07  84.20  81.10  81.99  380105      USD\n",
            "2021-11-04  81.58  84.49  80.20  80.54  472428      USD\n",
            "2021-11-05  81.25  83.16  80.26  82.74  379685      USD\n",
            "2021-11-08  82.58  84.00  82.53  83.43  269601      USD\n",
            "2021-11-09  83.47  85.30  83.16  84.78  346571      USD\n",
            "2021-11-10  84.99  85.50  82.08  82.64  366309      USD\n",
            "2021-11-11  82.85  83.44  81.66  82.87  336137      USD\n",
            "2021-11-12  82.83  82.87  81.26  82.17  289298      USD\n",
            "2021-11-15  81.92  82.49  80.67  82.05  273717      USD\n",
            "2021-11-16  82.00  83.14  81.52  82.43  340716      USD\n",
            "2021-11-17  82.05  82.22  79.78  80.28  406749      USD\n",
            "2021-11-18  80.10  81.39  79.28  81.03       0      USD\n",
            "2021-11-19  81.01  82.23  78.05  78.84       0      USD\n"
          ]
        }
      ]
    },
    {
      "cell_type": "markdown",
      "metadata": {
        "id": "yrvoK7DjGunG"
      },
      "source": [
        "**Petroleo WTI**"
      ]
    },
    {
      "cell_type": "code",
      "metadata": {
        "id": "6kNi6d5nG0PW",
        "colab": {
          "base_uri": "https://localhost:8080/"
        },
        "outputId": "c8cd696e-451f-45cd-fb48-318ed52a1845"
      },
      "source": [
        "WTI=inv.get_commodity_recent_data(\"Crude Oil WTI\",country=\"united states\")\n",
        "print(WTI)"
      ],
      "execution_count": null,
      "outputs": [
        {
          "output_type": "stream",
          "name": "stdout",
          "text": [
            "             Open   High    Low  Close  Volume Currency\n",
            "Date                                                   \n",
            "2021-10-19  82.37  83.74  81.80  82.96   82607      USD\n",
            "2021-10-20  83.34  84.25  81.30  83.87   25720      USD\n",
            "2021-10-21  83.58  83.96  80.79  82.50  567503      USD\n",
            "2021-10-22  82.61  84.22  81.76  83.76  465355      USD\n",
            "2021-10-25  83.98  85.41  83.39  83.76  568725      USD\n",
            "2021-10-26  83.72  84.88  82.97  84.65  467716      USD\n",
            "2021-10-27  84.39  84.51  82.01  82.66  529952      USD\n",
            "2021-10-28  82.25  83.21  80.58  82.81  491585      USD\n",
            "2021-10-29  83.09  83.74  81.41  83.57  507309      USD\n",
            "2021-11-01  83.36  84.88  82.74  84.05  412309      USD\n",
            "2021-11-02  83.87  84.41  82.92  83.91  429608      USD\n",
            "2021-11-03  83.07  83.08  79.69  80.86  546577      USD\n",
            "2021-11-04  80.18  83.42  78.25  78.81  701119      USD\n",
            "2021-11-05  79.37  81.80  78.96  81.27  531054      USD\n",
            "2021-11-08  81.13  82.67  81.05  81.93  393953      USD\n",
            "2021-11-09  82.16  84.63  81.78  84.15  504832      USD\n",
            "2021-11-10  84.53  84.97  80.81  81.34  555215      USD\n",
            "2021-11-11  81.41  82.33  80.20  81.59  475436      USD\n",
            "2021-11-12  81.21  81.62  79.78  80.79  390304      USD\n",
            "2021-11-15  80.66  81.20  79.30  80.88  343484      USD\n",
            "2021-11-16  80.93  81.81  80.03  80.76  325668      USD\n",
            "2021-11-17  80.54  80.69  77.69  78.36  174471      USD\n",
            "2021-11-18  77.53  78.78  76.45  78.31       0      USD\n",
            "2021-11-19  78.30  79.32  75.11  76.12       0      USD\n"
          ]
        }
      ]
    },
    {
      "cell_type": "markdown",
      "metadata": {
        "id": "K6ZObKHYH-Nf"
      },
      "source": [
        "**Oro**"
      ]
    },
    {
      "cell_type": "code",
      "metadata": {
        "id": "zScHHevlNP4e",
        "colab": {
          "base_uri": "https://localhost:8080/",
          "height": 1000
        },
        "outputId": "ac44baf2-e7b4-469b-eeb0-77dde5f664e7"
      },
      "source": [
        "inv.get_commodities(group=\"metals\")"
      ],
      "execution_count": null,
      "outputs": [
        {
          "output_type": "execute_result",
          "data": {
            "text/html": [
              "<div>\n",
              "<style scoped>\n",
              "    .dataframe tbody tr th:only-of-type {\n",
              "        vertical-align: middle;\n",
              "    }\n",
              "\n",
              "    .dataframe tbody tr th {\n",
              "        vertical-align: top;\n",
              "    }\n",
              "\n",
              "    .dataframe thead th {\n",
              "        text-align: right;\n",
              "    }\n",
              "</style>\n",
              "<table border=\"1\" class=\"dataframe\">\n",
              "  <thead>\n",
              "    <tr style=\"text-align: right;\">\n",
              "      <th></th>\n",
              "      <th>title</th>\n",
              "      <th>country</th>\n",
              "      <th>name</th>\n",
              "      <th>full_name</th>\n",
              "      <th>currency</th>\n",
              "      <th>group</th>\n",
              "    </tr>\n",
              "  </thead>\n",
              "  <tbody>\n",
              "    <tr>\n",
              "      <th>0</th>\n",
              "      <td>Real Time Streaming Futures Quotes</td>\n",
              "      <td></td>\n",
              "      <td>Gold</td>\n",
              "      <td>Gold Futures</td>\n",
              "      <td>USD</td>\n",
              "      <td>metals</td>\n",
              "    </tr>\n",
              "    <tr>\n",
              "      <th>1</th>\n",
              "      <td>Real Time Streaming Futures Quotes</td>\n",
              "      <td>united states</td>\n",
              "      <td>Copper</td>\n",
              "      <td>Copper Futures</td>\n",
              "      <td>USD</td>\n",
              "      <td>metals</td>\n",
              "    </tr>\n",
              "    <tr>\n",
              "      <th>2</th>\n",
              "      <td>Real Time Streaming Futures Quotes</td>\n",
              "      <td></td>\n",
              "      <td>Silver</td>\n",
              "      <td>Silver Futures</td>\n",
              "      <td>USD</td>\n",
              "      <td>metals</td>\n",
              "    </tr>\n",
              "    <tr>\n",
              "      <th>3</th>\n",
              "      <td>Real Time Streaming Futures Quotes</td>\n",
              "      <td>united states</td>\n",
              "      <td>Palladium</td>\n",
              "      <td>Palladium Futures</td>\n",
              "      <td>USD</td>\n",
              "      <td>metals</td>\n",
              "    </tr>\n",
              "    <tr>\n",
              "      <th>4</th>\n",
              "      <td>Real Time Streaming Futures Quotes</td>\n",
              "      <td>united states</td>\n",
              "      <td>Platinum</td>\n",
              "      <td>Platinum Futures</td>\n",
              "      <td>USD</td>\n",
              "      <td>metals</td>\n",
              "    </tr>\n",
              "    <tr>\n",
              "      <th>5</th>\n",
              "      <td>Real Time Streaming Futures Quotes</td>\n",
              "      <td>united kingdom</td>\n",
              "      <td>Aluminum</td>\n",
              "      <td>Aluminum Futures</td>\n",
              "      <td>USD</td>\n",
              "      <td>metals</td>\n",
              "    </tr>\n",
              "    <tr>\n",
              "      <th>6</th>\n",
              "      <td>Real Time Streaming Futures Quotes</td>\n",
              "      <td>united kingdom</td>\n",
              "      <td>Zinc</td>\n",
              "      <td>Zinc Futures</td>\n",
              "      <td>USD</td>\n",
              "      <td>metals</td>\n",
              "    </tr>\n",
              "    <tr>\n",
              "      <th>7</th>\n",
              "      <td>Real Time Streaming Futures Quotes</td>\n",
              "      <td>united kingdom</td>\n",
              "      <td>Lead</td>\n",
              "      <td>Lead Futures</td>\n",
              "      <td>USD</td>\n",
              "      <td>metals</td>\n",
              "    </tr>\n",
              "    <tr>\n",
              "      <th>8</th>\n",
              "      <td>Real Time Streaming Futures Quotes</td>\n",
              "      <td>united kingdom</td>\n",
              "      <td>Nickel</td>\n",
              "      <td>Nickel Futures</td>\n",
              "      <td>USD</td>\n",
              "      <td>metals</td>\n",
              "    </tr>\n",
              "    <tr>\n",
              "      <th>9</th>\n",
              "      <td>Real Time Streaming Futures Quotes</td>\n",
              "      <td>united kingdom</td>\n",
              "      <td>Tin</td>\n",
              "      <td>Tin Futures</td>\n",
              "      <td>USD</td>\n",
              "      <td>metals</td>\n",
              "    </tr>\n",
              "    <tr>\n",
              "      <th>10</th>\n",
              "      <td>Real Time Streaming Futures Quotes</td>\n",
              "      <td>united kingdom</td>\n",
              "      <td>Copper</td>\n",
              "      <td>Copper Futures</td>\n",
              "      <td>USD</td>\n",
              "      <td>metals</td>\n",
              "    </tr>\n",
              "    <tr>\n",
              "      <th>11</th>\n",
              "      <td>EUREX Futures Market Quotes</td>\n",
              "      <td>euro zone</td>\n",
              "      <td>Xetra-Gold</td>\n",
              "      <td>Xetra-Gold Futures</td>\n",
              "      <td>EUR</td>\n",
              "      <td>metals</td>\n",
              "    </tr>\n",
              "    <tr>\n",
              "      <th>12</th>\n",
              "      <td>MCX Futures Market Quotes</td>\n",
              "      <td>india</td>\n",
              "      <td>MCX Aluminum Mini</td>\n",
              "      <td>Aluminum Mini Futures</td>\n",
              "      <td>INR</td>\n",
              "      <td>metals</td>\n",
              "    </tr>\n",
              "    <tr>\n",
              "      <th>13</th>\n",
              "      <td>MCX Futures Market Quotes</td>\n",
              "      <td>india</td>\n",
              "      <td>MCX Aluminum</td>\n",
              "      <td>Aluminum Futures</td>\n",
              "      <td>INR</td>\n",
              "      <td>metals</td>\n",
              "    </tr>\n",
              "    <tr>\n",
              "      <th>14</th>\n",
              "      <td>MCX Futures Market Quotes</td>\n",
              "      <td>india</td>\n",
              "      <td>MCX Copper</td>\n",
              "      <td>Copper Futures</td>\n",
              "      <td>INR</td>\n",
              "      <td>metals</td>\n",
              "    </tr>\n",
              "    <tr>\n",
              "      <th>15</th>\n",
              "      <td>MCX Futures Market Quotes</td>\n",
              "      <td>india</td>\n",
              "      <td>MCX Copper Mini</td>\n",
              "      <td>Copper Mini Futures</td>\n",
              "      <td>INR</td>\n",
              "      <td>metals</td>\n",
              "    </tr>\n",
              "    <tr>\n",
              "      <th>16</th>\n",
              "      <td>MCX Futures Market Quotes</td>\n",
              "      <td>india</td>\n",
              "      <td>MCX Gold 1 Kg</td>\n",
              "      <td>Gold 1 Kg</td>\n",
              "      <td>INR</td>\n",
              "      <td>metals</td>\n",
              "    </tr>\n",
              "    <tr>\n",
              "      <th>17</th>\n",
              "      <td>MCX Futures Market Quotes</td>\n",
              "      <td>india</td>\n",
              "      <td>MCX Gold Guinea</td>\n",
              "      <td>Gold Guinea Futures</td>\n",
              "      <td>INR</td>\n",
              "      <td>metals</td>\n",
              "    </tr>\n",
              "    <tr>\n",
              "      <th>18</th>\n",
              "      <td>MCX Futures Market Quotes</td>\n",
              "      <td>india</td>\n",
              "      <td>MCX Gold Mini</td>\n",
              "      <td>Gold Mini Futures</td>\n",
              "      <td>INR</td>\n",
              "      <td>metals</td>\n",
              "    </tr>\n",
              "    <tr>\n",
              "      <th>19</th>\n",
              "      <td>MCX Futures Market Quotes</td>\n",
              "      <td>india</td>\n",
              "      <td>MCX Gold Petal</td>\n",
              "      <td>Gold Petal Futures</td>\n",
              "      <td>INR</td>\n",
              "      <td>metals</td>\n",
              "    </tr>\n",
              "    <tr>\n",
              "      <th>20</th>\n",
              "      <td>MCX Futures Market Quotes</td>\n",
              "      <td>india</td>\n",
              "      <td>MCX Gold Petal Del</td>\n",
              "      <td>Gold Petal (New Delhi) Futures</td>\n",
              "      <td>INR</td>\n",
              "      <td>metals</td>\n",
              "    </tr>\n",
              "    <tr>\n",
              "      <th>21</th>\n",
              "      <td>MCX Futures Market Quotes</td>\n",
              "      <td>india</td>\n",
              "      <td>MCX Lead</td>\n",
              "      <td>Lead Futures</td>\n",
              "      <td>INR</td>\n",
              "      <td>metals</td>\n",
              "    </tr>\n",
              "    <tr>\n",
              "      <th>22</th>\n",
              "      <td>MCX Futures Market Quotes</td>\n",
              "      <td>india</td>\n",
              "      <td>MCX Lead Mini</td>\n",
              "      <td>Lead Mini Futures</td>\n",
              "      <td>INR</td>\n",
              "      <td>metals</td>\n",
              "    </tr>\n",
              "    <tr>\n",
              "      <th>23</th>\n",
              "      <td>MCX Futures Market Quotes</td>\n",
              "      <td>india</td>\n",
              "      <td>MCX Nickel</td>\n",
              "      <td>Nickel Futures</td>\n",
              "      <td>INR</td>\n",
              "      <td>metals</td>\n",
              "    </tr>\n",
              "    <tr>\n",
              "      <th>24</th>\n",
              "      <td>MCX Futures Market Quotes</td>\n",
              "      <td>india</td>\n",
              "      <td>MCX Nickel Mini</td>\n",
              "      <td>Nickel Mini Futures</td>\n",
              "      <td>INR</td>\n",
              "      <td>metals</td>\n",
              "    </tr>\n",
              "    <tr>\n",
              "      <th>25</th>\n",
              "      <td>MCX Futures Market Quotes</td>\n",
              "      <td>india</td>\n",
              "      <td>MCX Silver</td>\n",
              "      <td>Silver Futures</td>\n",
              "      <td>INR</td>\n",
              "      <td>metals</td>\n",
              "    </tr>\n",
              "    <tr>\n",
              "      <th>26</th>\n",
              "      <td>MCX Futures Market Quotes</td>\n",
              "      <td>india</td>\n",
              "      <td>MCX Silver Micro</td>\n",
              "      <td>Silver Micro Futures</td>\n",
              "      <td>INR</td>\n",
              "      <td>metals</td>\n",
              "    </tr>\n",
              "    <tr>\n",
              "      <th>27</th>\n",
              "      <td>MCX Futures Market Quotes</td>\n",
              "      <td>india</td>\n",
              "      <td>MCX Silver Mini</td>\n",
              "      <td>Silver Mini Futures</td>\n",
              "      <td>INR</td>\n",
              "      <td>metals</td>\n",
              "    </tr>\n",
              "    <tr>\n",
              "      <th>28</th>\n",
              "      <td>MCX Futures Market Quotes</td>\n",
              "      <td>india</td>\n",
              "      <td>MCX Zinc</td>\n",
              "      <td>Zinc Futures</td>\n",
              "      <td>INR</td>\n",
              "      <td>metals</td>\n",
              "    </tr>\n",
              "    <tr>\n",
              "      <th>29</th>\n",
              "      <td>MCX Futures Market Quotes</td>\n",
              "      <td>india</td>\n",
              "      <td>MCX Zinc Mini</td>\n",
              "      <td>Zinc Mini Futures</td>\n",
              "      <td>INR</td>\n",
              "      <td>metals</td>\n",
              "    </tr>\n",
              "  </tbody>\n",
              "</table>\n",
              "</div>"
            ],
            "text/plain": [
              "                                 title         country  ... currency   group\n",
              "0   Real Time Streaming Futures Quotes                  ...      USD  metals\n",
              "1   Real Time Streaming Futures Quotes   united states  ...      USD  metals\n",
              "2   Real Time Streaming Futures Quotes                  ...      USD  metals\n",
              "3   Real Time Streaming Futures Quotes   united states  ...      USD  metals\n",
              "4   Real Time Streaming Futures Quotes   united states  ...      USD  metals\n",
              "5   Real Time Streaming Futures Quotes  united kingdom  ...      USD  metals\n",
              "6   Real Time Streaming Futures Quotes  united kingdom  ...      USD  metals\n",
              "7   Real Time Streaming Futures Quotes  united kingdom  ...      USD  metals\n",
              "8   Real Time Streaming Futures Quotes  united kingdom  ...      USD  metals\n",
              "9   Real Time Streaming Futures Quotes  united kingdom  ...      USD  metals\n",
              "10  Real Time Streaming Futures Quotes  united kingdom  ...      USD  metals\n",
              "11         EUREX Futures Market Quotes       euro zone  ...      EUR  metals\n",
              "12           MCX Futures Market Quotes           india  ...      INR  metals\n",
              "13           MCX Futures Market Quotes           india  ...      INR  metals\n",
              "14           MCX Futures Market Quotes           india  ...      INR  metals\n",
              "15           MCX Futures Market Quotes           india  ...      INR  metals\n",
              "16           MCX Futures Market Quotes           india  ...      INR  metals\n",
              "17           MCX Futures Market Quotes           india  ...      INR  metals\n",
              "18           MCX Futures Market Quotes           india  ...      INR  metals\n",
              "19           MCX Futures Market Quotes           india  ...      INR  metals\n",
              "20           MCX Futures Market Quotes           india  ...      INR  metals\n",
              "21           MCX Futures Market Quotes           india  ...      INR  metals\n",
              "22           MCX Futures Market Quotes           india  ...      INR  metals\n",
              "23           MCX Futures Market Quotes           india  ...      INR  metals\n",
              "24           MCX Futures Market Quotes           india  ...      INR  metals\n",
              "25           MCX Futures Market Quotes           india  ...      INR  metals\n",
              "26           MCX Futures Market Quotes           india  ...      INR  metals\n",
              "27           MCX Futures Market Quotes           india  ...      INR  metals\n",
              "28           MCX Futures Market Quotes           india  ...      INR  metals\n",
              "29           MCX Futures Market Quotes           india  ...      INR  metals\n",
              "\n",
              "[30 rows x 6 columns]"
            ]
          },
          "metadata": {},
          "execution_count": 24
        }
      ]
    },
    {
      "cell_type": "code",
      "metadata": {
        "id": "fA3vUDs9wMRE",
        "colab": {
          "base_uri": "https://localhost:8080/"
        },
        "outputId": "093ff84c-0ebd-4c25-f17b-c4451351507f"
      },
      "source": [
        "Oro=inv.get_commodity_recent_data(\"gold\")\n",
        "print(Oro)"
      ],
      "execution_count": null,
      "outputs": [
        {
          "output_type": "stream",
          "name": "stdout",
          "text": [
            "               Open     High      Low    Close  Volume Currency\n",
            "Date                                                           \n",
            "2021-10-19  1764.80  1786.00  1763.40  1770.50  166972      USD\n",
            "2021-10-20  1769.40  1789.60  1767.10  1784.90  174076      USD\n",
            "2021-10-21  1782.50  1790.30  1776.80  1781.90  138729      USD\n",
            "2021-10-22  1783.70  1815.50  1783.40  1796.30  312812      USD\n",
            "2021-10-25  1794.20  1811.50  1793.00  1806.80  153589      USD\n",
            "2021-10-26  1808.70  1809.80  1783.00  1793.40  197929      USD\n",
            "2021-10-27  1795.00  1801.00  1784.30  1798.80  182801      USD\n",
            "2021-10-28  1798.70  1812.70  1793.10  1802.60  220876      USD\n",
            "2021-10-29  1801.50  1802.90  1772.40  1783.90  254513      USD\n",
            "2021-11-01  1785.30  1797.50  1780.20  1795.80  143332      USD\n",
            "2021-11-02  1794.80  1797.80  1787.40  1789.40  145786      USD\n",
            "2021-11-03  1789.20  1789.30  1758.50  1763.90  257427      USD\n",
            "2021-11-04  1769.90  1800.30  1769.30  1793.50  222609      USD\n",
            "2021-11-05  1792.60  1820.10  1785.30  1816.80  299618      USD\n",
            "2021-11-08  1820.60  1828.30  1813.80  1828.00  200412      USD\n",
            "2021-11-09  1826.90  1834.80  1821.00  1830.80  224407      USD\n",
            "2021-11-10  1834.50  1870.60  1823.00  1848.30  352787      USD\n",
            "2021-11-11  1851.50  1868.70  1845.10  1863.90  205312      USD\n",
            "2021-11-12  1864.30  1871.40  1847.50  1868.50  201358      USD\n",
            "2021-11-15  1872.60  1873.00  1858.50  1866.60  221208      USD\n",
            "2021-11-16  1864.90  1879.50  1851.00  1854.10  220431      USD\n",
            "2021-11-17  1851.60  1870.60  1851.10  1870.20  172417      USD\n",
            "2021-11-18  1868.95  1873.30  1856.65  1861.10       0      USD\n",
            "2021-11-19  1861.05  1867.95  1844.35  1851.05       0      USD\n"
          ]
        }
      ]
    },
    {
      "cell_type": "markdown",
      "metadata": {
        "id": "iXzWdAMIIFuG"
      },
      "source": [
        "**Cobre**"
      ]
    },
    {
      "cell_type": "code",
      "metadata": {
        "id": "hZZWyqzzNQU3",
        "colab": {
          "base_uri": "https://localhost:8080/"
        },
        "outputId": "c7967126-6e41-4ec5-b061-ca62df6ffe0a"
      },
      "source": [
        "Cobre=inv.get_commodity_recent_data(\"copper\",country=\"united states\")\n",
        "print(Cobre)"
      ],
      "execution_count": null,
      "outputs": [
        {
          "output_type": "stream",
          "name": "stdout",
          "text": [
            "              Open    High     Low   Close  Volume Currency\n",
            "Date                                                       \n",
            "2021-10-19  4.7160  4.8150  4.6685  4.7030   73557      USD\n",
            "2021-10-20  4.6875  4.7490  4.5935  4.7345   71769      USD\n",
            "2021-10-21  4.7335  4.7575  4.5370  4.5585   82450      USD\n",
            "2021-10-22  4.5625  4.6190  4.4610  4.4980   88778      USD\n",
            "2021-10-25  4.5140  4.5685  4.5015  4.5280   54919      USD\n",
            "2021-10-26  4.5300  4.5545  4.4720  4.4860   58889      USD\n",
            "2021-10-27  4.4955  4.5100  4.3630  4.3895   71050      USD\n",
            "2021-10-28  4.3885  4.4635  4.3525  4.4385   67880      USD\n",
            "2021-10-29  4.4345  4.4530  4.3340  4.3680   69260      USD\n",
            "2021-11-01  4.3775  4.4030  4.3285  4.3935   50444      USD\n",
            "2021-11-02  4.3900  4.4330  4.3330  4.3660   53956      USD\n",
            "2021-11-03  4.3700  4.4505  4.2800  4.3210   76594      USD\n",
            "2021-11-04  4.3520  4.4040  4.2780  4.3205   71370      USD\n",
            "2021-11-05  4.3260  4.3735  4.2820  4.3430   68682      USD\n",
            "2021-11-08  4.3600  4.4145  4.3300  4.3990   63098      USD\n",
            "2021-11-09  4.3990  4.4475  4.3375  4.3730   68140      USD\n",
            "2021-11-10  4.3740  4.4140  4.2850  4.3230   71745      USD\n",
            "2021-11-11  4.3045  4.4320  4.3005  4.3995   72511      USD\n",
            "2021-11-12  4.4030  4.4590  4.3740  4.4495   48083      USD\n",
            "2021-11-15  4.4550  4.4890  4.3910  4.4000   58383      USD\n",
            "2021-11-16  4.4115  4.4425  4.3230  4.3515   67475      USD\n",
            "2021-11-17  4.3440  4.3605  4.1915  4.2660   75473      USD\n",
            "2021-11-18  4.2280  4.3230  4.2203  4.2988       0      USD\n",
            "2021-11-19  4.2983  4.4188  4.2920  4.3978       0      USD\n"
          ]
        }
      ]
    },
    {
      "cell_type": "markdown",
      "metadata": {
        "id": "SlR69UDdIJI1"
      },
      "source": [
        "**Maiz**"
      ]
    },
    {
      "cell_type": "code",
      "metadata": {
        "id": "CDAqj7TXymFS",
        "colab": {
          "base_uri": "https://localhost:8080/",
          "height": 736
        },
        "outputId": "d664917d-68c9-4ff8-eddc-03c63640ac29"
      },
      "source": [
        "inv.get_commodities(group=\"grains\")"
      ],
      "execution_count": null,
      "outputs": [
        {
          "output_type": "execute_result",
          "data": {
            "text/html": [
              "<div>\n",
              "<style scoped>\n",
              "    .dataframe tbody tr th:only-of-type {\n",
              "        vertical-align: middle;\n",
              "    }\n",
              "\n",
              "    .dataframe tbody tr th {\n",
              "        vertical-align: top;\n",
              "    }\n",
              "\n",
              "    .dataframe thead th {\n",
              "        text-align: right;\n",
              "    }\n",
              "</style>\n",
              "<table border=\"1\" class=\"dataframe\">\n",
              "  <thead>\n",
              "    <tr style=\"text-align: right;\">\n",
              "      <th></th>\n",
              "      <th>title</th>\n",
              "      <th>country</th>\n",
              "      <th>name</th>\n",
              "      <th>full_name</th>\n",
              "      <th>currency</th>\n",
              "      <th>group</th>\n",
              "    </tr>\n",
              "  </thead>\n",
              "  <tbody>\n",
              "    <tr>\n",
              "      <th>0</th>\n",
              "      <td>Real Time Streaming Futures Quotes</td>\n",
              "      <td>united kingdom</td>\n",
              "      <td>London Wheat</td>\n",
              "      <td>London Wheat Futures</td>\n",
              "      <td>GBP</td>\n",
              "      <td>grains</td>\n",
              "    </tr>\n",
              "    <tr>\n",
              "      <th>1</th>\n",
              "      <td>Real Time Streaming Futures Quotes</td>\n",
              "      <td>united states</td>\n",
              "      <td>Rough Rice</td>\n",
              "      <td>Rough Rice Futures</td>\n",
              "      <td>USD</td>\n",
              "      <td>grains</td>\n",
              "    </tr>\n",
              "    <tr>\n",
              "      <th>2</th>\n",
              "      <td>Real Time Streaming Futures Quotes</td>\n",
              "      <td>united states</td>\n",
              "      <td>US Soybean Oil</td>\n",
              "      <td>US Soybean Oil Futures</td>\n",
              "      <td>USD</td>\n",
              "      <td>grains</td>\n",
              "    </tr>\n",
              "    <tr>\n",
              "      <th>3</th>\n",
              "      <td>Real Time Streaming Futures Quotes</td>\n",
              "      <td>united states</td>\n",
              "      <td>US Soybean Meal</td>\n",
              "      <td>US Soybean Meal Futures</td>\n",
              "      <td>USD</td>\n",
              "      <td>grains</td>\n",
              "    </tr>\n",
              "    <tr>\n",
              "      <th>4</th>\n",
              "      <td>Real Time Streaming Futures Quotes</td>\n",
              "      <td>united states</td>\n",
              "      <td>US Soybeans</td>\n",
              "      <td>US Soybeans Futures</td>\n",
              "      <td>USD</td>\n",
              "      <td>grains</td>\n",
              "    </tr>\n",
              "    <tr>\n",
              "      <th>5</th>\n",
              "      <td>Real Time Streaming Futures Quotes</td>\n",
              "      <td>united states</td>\n",
              "      <td>US Wheat</td>\n",
              "      <td>US Wheat Futures</td>\n",
              "      <td>USD</td>\n",
              "      <td>grains</td>\n",
              "    </tr>\n",
              "    <tr>\n",
              "      <th>6</th>\n",
              "      <td>Real Time Streaming Futures Quotes</td>\n",
              "      <td>united states</td>\n",
              "      <td>US Corn</td>\n",
              "      <td>US Corn Futures</td>\n",
              "      <td>USD</td>\n",
              "      <td>grains</td>\n",
              "    </tr>\n",
              "    <tr>\n",
              "      <th>7</th>\n",
              "      <td>Real Time Streaming Futures Quotes</td>\n",
              "      <td>united states</td>\n",
              "      <td>Oats</td>\n",
              "      <td>Oats Futures</td>\n",
              "      <td>USD</td>\n",
              "      <td>grains</td>\n",
              "    </tr>\n",
              "  </tbody>\n",
              "</table>\n",
              "</div>"
            ],
            "text/plain": [
              "                                title         country  ... currency   group\n",
              "0  Real Time Streaming Futures Quotes  united kingdom  ...      GBP  grains\n",
              "1  Real Time Streaming Futures Quotes   united states  ...      USD  grains\n",
              "2  Real Time Streaming Futures Quotes   united states  ...      USD  grains\n",
              "3  Real Time Streaming Futures Quotes   united states  ...      USD  grains\n",
              "4  Real Time Streaming Futures Quotes   united states  ...      USD  grains\n",
              "5  Real Time Streaming Futures Quotes   united states  ...      USD  grains\n",
              "6  Real Time Streaming Futures Quotes   united states  ...      USD  grains\n",
              "7  Real Time Streaming Futures Quotes   united states  ...      USD  grains\n",
              "\n",
              "[8 rows x 6 columns]"
            ]
          },
          "metadata": {},
          "execution_count": 27
        }
      ]
    },
    {
      "cell_type": "code",
      "metadata": {
        "id": "GkxUAABdNQz5",
        "colab": {
          "base_uri": "https://localhost:8080/"
        },
        "outputId": "e99674d2-a881-4076-99b0-fac1227214a8"
      },
      "source": [
        "Maiz=inv.get_commodity_recent_data(\"US Corn\",country=\"united states\")\n",
        "print(Maiz)"
      ],
      "execution_count": null,
      "outputs": [
        {
          "output_type": "stream",
          "name": "stdout",
          "text": [
            "              Open    High     Low   Close  Volume Currency\n",
            "Date                                                       \n",
            "2021-10-19  532.00  537.00  529.50  530.25  119081      USD\n",
            "2021-10-20  530.00  540.00  528.50  539.25  129884      USD\n",
            "2021-10-21  539.00  540.00  530.75  532.25  119388      USD\n",
            "2021-10-22  533.00  540.00  532.00  538.00  109345      USD\n",
            "2021-10-25  537.00  542.00  535.00  538.00  107050      USD\n",
            "2021-10-26  538.00  547.25  533.00  543.50  146995      USD\n",
            "2021-10-27  542.50  563.25  539.50  557.25  241141      USD\n",
            "2021-10-28  556.50  568.75  554.00  562.75  164258      USD\n",
            "2021-10-29  562.50  569.25  558.75  568.25  135195      USD\n",
            "2021-11-01  568.00  582.00  565.25  579.00  197409      USD\n",
            "2021-11-02  578.25  586.00  572.00  573.00  174067      USD\n",
            "2021-11-03  572.00  573.25  563.00  564.00  149892      USD\n",
            "2021-11-04  563.75  569.75  556.50  559.25  149483      USD\n",
            "2021-11-05  560.00  562.75  552.25  553.00  192123      USD\n",
            "2021-11-08  552.00  554.75  549.50  551.50  166976      USD\n",
            "2021-11-09  551.00  564.00  547.75  554.75  246899      USD\n",
            "2021-11-10  555.50  571.75  555.00  569.25  209267      USD\n",
            "2021-11-11  567.75  579.00  566.00  569.50  264523      USD\n",
            "2021-11-12  569.25  582.00  566.75  577.25  163539      USD\n",
            "2021-11-15  576.25  578.75  569.75  576.50  128056      USD\n",
            "2021-11-16  576.00  577.50  570.00  571.00  137344      USD\n",
            "2021-11-17  570.75  584.00  570.00  575.25  185381      USD\n",
            "2021-11-18  574.62  582.62  572.10  573.00       0      USD\n",
            "2021-11-19  573.25  576.00  568.10  569.10       0      USD\n"
          ]
        }
      ]
    },
    {
      "cell_type": "markdown",
      "metadata": {
        "id": "cjUuWNSyIT4p"
      },
      "source": [
        "**Soja**"
      ]
    },
    {
      "cell_type": "code",
      "metadata": {
        "id": "1nrm3ALdNRen",
        "colab": {
          "base_uri": "https://localhost:8080/"
        },
        "outputId": "c6e2575a-1eb2-44d9-93f1-aea2dcb93d79"
      },
      "source": [
        "soja=inv.get_commodity_recent_data(\"US Soybeans\",country=\"united states\")\n",
        "print(soja)"
      ],
      "execution_count": null,
      "outputs": [
        {
          "output_type": "stream",
          "name": "stdout",
          "text": [
            "               Open     High      Low    Close  Volume Currency\n",
            "Date                                                           \n",
            "2021-10-19  1220.50  1239.25  1216.25  1228.00  139462      USD\n",
            "2021-10-20  1227.75  1249.50  1224.75  1245.50  134395      USD\n",
            "2021-10-21  1243.25  1249.50  1222.00  1224.00  105786      USD\n",
            "2021-10-22  1224.00  1230.50  1217.00  1220.50  176315      USD\n",
            "2021-10-25  1218.75  1238.25  1216.00  1237.25  137468      USD\n",
            "2021-10-26  1236.25  1246.25  1230.00  1238.00   94349      USD\n",
            "2021-10-27  1237.25  1257.50  1227.00  1239.25  122469      USD\n",
            "2021-10-28  1238.50  1249.50  1229.50  1233.75   73201      USD\n",
            "2021-10-29  1230.25  1242.00  1227.75  1235.75   10990      USD\n",
            "2021-11-01  1236.25  1246.50  1225.00  1236.75    3899      USD\n",
            "2021-11-02  1236.50  1250.25  1234.75  1244.00    2003      USD\n",
            "2021-11-03  1242.25  1245.00  1228.50  1231.50    1263      USD\n",
            "2021-11-04  1230.50  1233.25  1205.50  1209.25    2676      USD\n",
            "2021-11-05  1210.00  1211.25  1191.00  1192.25     776      USD\n",
            "2021-11-08  1190.00  1196.00  1177.75  1178.00       0      USD\n",
            "2021-11-09  1178.00  1213.75  1171.25  1199.50       0      USD\n",
            "2021-11-10  1200.00  1209.75  1198.50  1203.50       0      USD\n",
            "2021-11-11  1204.50  1217.00  1200.00  1212.25       0      USD\n",
            "2021-11-12  1215.00  1237.75  1215.00  1234.00       0      USD\n",
            "2021-11-15  1242.25  1259.75  1238.00  1257.25       0      USD\n",
            "2021-11-16  1255.75  1261.50  1248.50  1251.25       0      USD\n",
            "2021-11-17  1252.00  1289.25  1250.75  1277.00       0      USD\n",
            "2021-11-18  1276.12  1287.38  1262.88  1265.50       0      USD\n",
            "2021-11-19  1267.25  1277.25  1257.00  1260.38       0      USD\n"
          ]
        }
      ]
    },
    {
      "cell_type": "markdown",
      "metadata": {
        "id": "r0j_iHpsIWpf"
      },
      "source": [
        "**Cafe**"
      ]
    },
    {
      "cell_type": "code",
      "metadata": {
        "id": "2r0SVlcl5PRx",
        "colab": {
          "base_uri": "https://localhost:8080/",
          "height": 1000
        },
        "outputId": "c3e2bb69-8e19-40fc-82ea-f3f0dbf9136a"
      },
      "source": [
        "inv.get_commodities(group=\"softs\")"
      ],
      "execution_count": null,
      "outputs": [
        {
          "output_type": "execute_result",
          "data": {
            "text/html": [
              "<div>\n",
              "<style scoped>\n",
              "    .dataframe tbody tr th:only-of-type {\n",
              "        vertical-align: middle;\n",
              "    }\n",
              "\n",
              "    .dataframe tbody tr th {\n",
              "        vertical-align: top;\n",
              "    }\n",
              "\n",
              "    .dataframe thead th {\n",
              "        text-align: right;\n",
              "    }\n",
              "</style>\n",
              "<table border=\"1\" class=\"dataframe\">\n",
              "  <thead>\n",
              "    <tr style=\"text-align: right;\">\n",
              "      <th></th>\n",
              "      <th>title</th>\n",
              "      <th>country</th>\n",
              "      <th>name</th>\n",
              "      <th>full_name</th>\n",
              "      <th>currency</th>\n",
              "      <th>group</th>\n",
              "    </tr>\n",
              "  </thead>\n",
              "  <tbody>\n",
              "    <tr>\n",
              "      <th>0</th>\n",
              "      <td>Real Time Streaming Futures Quotes</td>\n",
              "      <td>united states</td>\n",
              "      <td>US Coffee C</td>\n",
              "      <td>US Coffee C Futures</td>\n",
              "      <td>USD</td>\n",
              "      <td>softs</td>\n",
              "    </tr>\n",
              "    <tr>\n",
              "      <th>1</th>\n",
              "      <td>Real Time Streaming Futures Quotes</td>\n",
              "      <td>united states</td>\n",
              "      <td>US Cotton #2</td>\n",
              "      <td>US Cotton #2 Futures</td>\n",
              "      <td>USD</td>\n",
              "      <td>softs</td>\n",
              "    </tr>\n",
              "    <tr>\n",
              "      <th>2</th>\n",
              "      <td>Real Time Streaming Futures Quotes</td>\n",
              "      <td>united states</td>\n",
              "      <td>US Sugar #11</td>\n",
              "      <td>US Sugar #11 Futures</td>\n",
              "      <td>USD</td>\n",
              "      <td>softs</td>\n",
              "    </tr>\n",
              "    <tr>\n",
              "      <th>3</th>\n",
              "      <td>Real Time Streaming Futures Quotes</td>\n",
              "      <td>united states</td>\n",
              "      <td>Orange Juice</td>\n",
              "      <td>Orange Juice Futures</td>\n",
              "      <td>USD</td>\n",
              "      <td>softs</td>\n",
              "    </tr>\n",
              "    <tr>\n",
              "      <th>4</th>\n",
              "      <td>Real Time Streaming Futures Quotes</td>\n",
              "      <td>united states</td>\n",
              "      <td>US Cocoa</td>\n",
              "      <td>US Cocoa Futures</td>\n",
              "      <td>USD</td>\n",
              "      <td>softs</td>\n",
              "    </tr>\n",
              "    <tr>\n",
              "      <th>5</th>\n",
              "      <td>Real Time Streaming Futures Quotes</td>\n",
              "      <td>united kingdom</td>\n",
              "      <td>London Coffee</td>\n",
              "      <td>London Robusta Coffee Futures</td>\n",
              "      <td>USD</td>\n",
              "      <td>softs</td>\n",
              "    </tr>\n",
              "    <tr>\n",
              "      <th>6</th>\n",
              "      <td>Real Time Streaming Futures Quotes</td>\n",
              "      <td>united kingdom</td>\n",
              "      <td>London Cocoa</td>\n",
              "      <td>London Cocoa Futures</td>\n",
              "      <td>GBP</td>\n",
              "      <td>softs</td>\n",
              "    </tr>\n",
              "    <tr>\n",
              "      <th>7</th>\n",
              "      <td>Real Time Streaming Futures Quotes</td>\n",
              "      <td>united kingdom</td>\n",
              "      <td>London Sugar</td>\n",
              "      <td>London Sugar Futures</td>\n",
              "      <td>USD</td>\n",
              "      <td>softs</td>\n",
              "    </tr>\n",
              "    <tr>\n",
              "      <th>8</th>\n",
              "      <td>Real Time Streaming Futures Quotes</td>\n",
              "      <td>united states</td>\n",
              "      <td>Lumber</td>\n",
              "      <td>Lumber Futures</td>\n",
              "      <td>USD</td>\n",
              "      <td>softs</td>\n",
              "    </tr>\n",
              "    <tr>\n",
              "      <th>9</th>\n",
              "      <td>MCX Futures Market Quotes</td>\n",
              "      <td>india</td>\n",
              "      <td>MCX Cardamom</td>\n",
              "      <td>Cardamom Futures</td>\n",
              "      <td>INR</td>\n",
              "      <td>softs</td>\n",
              "    </tr>\n",
              "    <tr>\n",
              "      <th>10</th>\n",
              "      <td>MCX Futures Market Quotes</td>\n",
              "      <td>india</td>\n",
              "      <td>MCX Cotton</td>\n",
              "      <td>Cotton 29mm Futures</td>\n",
              "      <td>INR</td>\n",
              "      <td>softs</td>\n",
              "    </tr>\n",
              "    <tr>\n",
              "      <th>11</th>\n",
              "      <td>MCX Futures Market Quotes</td>\n",
              "      <td>india</td>\n",
              "      <td>MCX Crude Palm Oil</td>\n",
              "      <td>Crude Palm Oil Futures</td>\n",
              "      <td>INR</td>\n",
              "      <td>softs</td>\n",
              "    </tr>\n",
              "    <tr>\n",
              "      <th>12</th>\n",
              "      <td>MCX Futures Market Quotes</td>\n",
              "      <td>india</td>\n",
              "      <td>MCX Kapas</td>\n",
              "      <td>Kapas Futures</td>\n",
              "      <td>INR</td>\n",
              "      <td>softs</td>\n",
              "    </tr>\n",
              "    <tr>\n",
              "      <th>13</th>\n",
              "      <td>MCX Futures Market Quotes</td>\n",
              "      <td>india</td>\n",
              "      <td>MCX Mentha Oil</td>\n",
              "      <td>Mentha Oil Futures</td>\n",
              "      <td>INR</td>\n",
              "      <td>softs</td>\n",
              "    </tr>\n",
              "    <tr>\n",
              "      <th>14</th>\n",
              "      <td>MCX Futures Market Quotes</td>\n",
              "      <td>india</td>\n",
              "      <td>MCX Castor Seed</td>\n",
              "      <td>Castor Seed Futures</td>\n",
              "      <td>INR</td>\n",
              "      <td>softs</td>\n",
              "    </tr>\n",
              "  </tbody>\n",
              "</table>\n",
              "</div>"
            ],
            "text/plain": [
              "                                 title         country  ... currency  group\n",
              "0   Real Time Streaming Futures Quotes   united states  ...      USD  softs\n",
              "1   Real Time Streaming Futures Quotes   united states  ...      USD  softs\n",
              "2   Real Time Streaming Futures Quotes   united states  ...      USD  softs\n",
              "3   Real Time Streaming Futures Quotes   united states  ...      USD  softs\n",
              "4   Real Time Streaming Futures Quotes   united states  ...      USD  softs\n",
              "5   Real Time Streaming Futures Quotes  united kingdom  ...      USD  softs\n",
              "6   Real Time Streaming Futures Quotes  united kingdom  ...      GBP  softs\n",
              "7   Real Time Streaming Futures Quotes  united kingdom  ...      USD  softs\n",
              "8   Real Time Streaming Futures Quotes   united states  ...      USD  softs\n",
              "9            MCX Futures Market Quotes           india  ...      INR  softs\n",
              "10           MCX Futures Market Quotes           india  ...      INR  softs\n",
              "11           MCX Futures Market Quotes           india  ...      INR  softs\n",
              "12           MCX Futures Market Quotes           india  ...      INR  softs\n",
              "13           MCX Futures Market Quotes           india  ...      INR  softs\n",
              "14           MCX Futures Market Quotes           india  ...      INR  softs\n",
              "\n",
              "[15 rows x 6 columns]"
            ]
          },
          "metadata": {},
          "execution_count": 30
        }
      ]
    },
    {
      "cell_type": "code",
      "metadata": {
        "id": "r2ADPRAgNSB3",
        "colab": {
          "base_uri": "https://localhost:8080/"
        },
        "outputId": "6f5e4e40-c17f-404f-dfb2-708328dcb17b"
      },
      "source": [
        "Cafe=inv.get_commodity_recent_data(\"US Coffee C\",country=\"united states\")\n",
        "print(Cafe)"
      ],
      "execution_count": null,
      "outputs": [
        {
          "output_type": "stream",
          "name": "stdout",
          "text": [
            "              Open    High     Low   Close  Volume Currency\n",
            "Date                                                       \n",
            "2021-10-19  202.60  205.60  201.70  204.25   14850      USD\n",
            "2021-10-20  205.20  207.00  203.50  205.55   14926      USD\n",
            "2021-10-21  205.15  208.65  201.55  203.30   26494      USD\n",
            "2021-10-22  203.80  206.40  198.40  199.85   16734      USD\n",
            "2021-10-25  199.95  203.80  197.25  202.55   20159      USD\n",
            "2021-10-26  203.35  210.30  202.30  208.10   21060      USD\n",
            "2021-10-27  207.30  208.70  199.65  201.35   23299      USD\n",
            "2021-10-28  201.00  203.20  198.60  199.95   19290      USD\n",
            "2021-10-29  200.90  204.40  198.65  203.95   18594      USD\n",
            "2021-11-01  203.20  209.85  202.20  208.70   19674      USD\n",
            "2021-11-02  208.20  209.00  204.70  208.05   22683      USD\n",
            "2021-11-03  208.05  212.00  205.85  209.30   21821      USD\n",
            "2021-11-04  209.50  211.40  206.00  208.60   21756      USD\n",
            "2021-11-05  209.50  209.50  202.30  203.55   33987      USD\n",
            "2021-11-08  203.60  206.10  199.30  199.65   30475      USD\n",
            "2021-11-09  201.20  206.70  198.70  205.90   35050      USD\n",
            "2021-11-10  206.40  206.60  203.50  204.00   30418      USD\n",
            "2021-11-11  206.10  212.60  205.40  210.90   40191      USD\n",
            "2021-11-12  211.40  221.50  209.25  219.70   36014      USD\n",
            "2021-11-15  219.45  225.90  217.00  222.75   16876      USD\n",
            "2021-11-16  223.85  224.65  221.30  222.05   11044      USD\n",
            "2021-11-17  224.30  233.75  224.00  232.60   13236      USD\n",
            "2021-11-18  235.98  238.35  226.68  231.05       0      USD\n",
            "2021-11-19  231.05  239.48  227.10  233.43       0      USD\n"
          ]
        }
      ]
    },
    {
      "cell_type": "markdown",
      "metadata": {
        "id": "2NU8qF3HIc6n"
      },
      "source": [
        "**Azucar**"
      ]
    },
    {
      "cell_type": "code",
      "metadata": {
        "id": "H8TPGZC_NSru",
        "colab": {
          "base_uri": "https://localhost:8080/"
        },
        "outputId": "90dc5397-22b7-4b8f-83f7-70ea3b8ba8f1"
      },
      "source": [
        "Azucar=inv.get_commodity_recent_data(\"US Sugar #11\t\",country=\"united states\")\n",
        "print(Azucar)"
      ],
      "execution_count": null,
      "outputs": [
        {
          "output_type": "stream",
          "name": "stdout",
          "text": [
            "             Open   High    Low  Close  Volume Currency\n",
            "Date                                                   \n",
            "2021-10-19  19.35  19.44  18.82  18.87   78462      USD\n",
            "2021-10-20  19.01  19.11  18.84  18.97   48794      USD\n",
            "2021-10-21  19.00  19.19  18.87  18.94   41910      USD\n",
            "2021-10-22  19.03  19.15  18.92  19.08   33440      USD\n",
            "2021-10-25  19.15  19.44  18.98  19.39   46854      USD\n",
            "2021-10-26  19.37  19.69  19.32  19.66   41996      USD\n",
            "2021-10-27  19.60  19.86  19.53  19.70   42565      USD\n",
            "2021-10-28  19.70  19.83  19.50  19.62   41433      USD\n",
            "2021-10-29  19.62  19.70  19.21  19.27   41160      USD\n",
            "2021-11-01  19.28  19.54  19.19  19.37   29774      USD\n",
            "2021-11-02  19.37  19.65  19.29  19.54   38147      USD\n",
            "2021-11-03  19.53  19.53  19.33  19.38   31455      USD\n",
            "2021-11-04  19.42  19.83  19.38  19.63   55253      USD\n",
            "2021-11-05  19.66  19.99  19.56  19.94   48965      USD\n",
            "2021-11-08  19.99  20.10  19.88  19.92   40920      USD\n",
            "2021-11-09  19.94  20.10  19.80  19.90   38927      USD\n",
            "2021-11-10  19.90  19.98  19.52  19.60   56007      USD\n",
            "2021-11-11  19.62  20.15  19.62  20.12   52172      USD\n",
            "2021-11-12  20.11  20.17  19.92  20.01   40905      USD\n",
            "2021-11-15  20.01  20.12  19.64  19.74   38841      USD\n",
            "2021-11-16  19.70  20.01  19.67  19.99   35087      USD\n",
            "2021-11-17  19.99  20.51  19.96  20.42   67013      USD\n",
            "2021-11-18  20.45  20.68  20.11  20.16       0      USD\n",
            "2021-11-19  20.15  20.29  19.89  20.00       0      USD\n"
          ]
        }
      ]
    },
    {
      "cell_type": "markdown",
      "metadata": {
        "id": "9-ZodFiyIt7E"
      },
      "source": [
        "**Bonos a 10Años**"
      ]
    },
    {
      "cell_type": "code",
      "metadata": {
        "id": "k4SBEmTyJqft",
        "colab": {
          "base_uri": "https://localhost:8080/"
        },
        "outputId": "ee3ac23c-ae43-4b5f-9830-eacf9d6ce351"
      },
      "source": [
        "inv.get_bond_countries()"
      ],
      "execution_count": null,
      "outputs": [
        {
          "output_type": "execute_result",
          "data": {
            "text/plain": [
              "['argentina',\n",
              " 'australia',\n",
              " 'austria',\n",
              " 'bahrain',\n",
              " 'bangladesh',\n",
              " 'belgium',\n",
              " 'botswana',\n",
              " 'brazil',\n",
              " 'bulgaria',\n",
              " 'canada',\n",
              " 'chile',\n",
              " 'china',\n",
              " 'colombia',\n",
              " 'croatia',\n",
              " 'cyprus',\n",
              " 'czech republic',\n",
              " 'denmark',\n",
              " 'egypt',\n",
              " 'finland',\n",
              " 'france',\n",
              " 'germany',\n",
              " 'greece',\n",
              " 'hong kong',\n",
              " 'hungary',\n",
              " 'iceland',\n",
              " 'india',\n",
              " 'indonesia',\n",
              " 'ireland',\n",
              " 'israel',\n",
              " 'italy',\n",
              " 'japan',\n",
              " 'jordan',\n",
              " 'kenya',\n",
              " 'latvia',\n",
              " 'lithuania',\n",
              " 'luxembourg',\n",
              " 'malaysia',\n",
              " 'malta',\n",
              " 'mauritius',\n",
              " 'mexico',\n",
              " 'morocco',\n",
              " 'namibia',\n",
              " 'netherlands',\n",
              " 'new zealand',\n",
              " 'nigeria',\n",
              " 'norway',\n",
              " 'pakistan',\n",
              " 'peru',\n",
              " 'philippines',\n",
              " 'poland',\n",
              " 'portugal',\n",
              " 'qatar',\n",
              " 'romania',\n",
              " 'russia',\n",
              " 'saudi arabia',\n",
              " 'serbia',\n",
              " 'singapore',\n",
              " 'slovakia',\n",
              " 'slovenia',\n",
              " 'south africa',\n",
              " 'south korea',\n",
              " 'spain',\n",
              " 'sri lanka',\n",
              " 'sweden',\n",
              " 'switzerland',\n",
              " 'taiwan',\n",
              " 'thailand',\n",
              " 'turkey',\n",
              " 'uganda',\n",
              " 'ukraine',\n",
              " 'united kingdom',\n",
              " 'united states',\n",
              " 'venezuela',\n",
              " 'vietnam']"
            ]
          },
          "metadata": {},
          "execution_count": 33
        }
      ]
    },
    {
      "cell_type": "markdown",
      "metadata": {
        "id": "S6zrc3EZIxYH"
      },
      "source": [
        "**Desarrollados**"
      ]
    },
    {
      "cell_type": "markdown",
      "metadata": {
        "id": "hr28tn32I6my"
      },
      "source": [
        "**EEUU**"
      ]
    },
    {
      "cell_type": "code",
      "metadata": {
        "id": "0pJNQ8NkLyr_",
        "colab": {
          "base_uri": "https://localhost:8080/"
        },
        "outputId": "16ccb6e9-2aa5-4841-9186-78ba40968c68"
      },
      "source": [
        "inv.get_bonds_list(\"united states\")"
      ],
      "execution_count": null,
      "outputs": [
        {
          "output_type": "execute_result",
          "data": {
            "text/plain": [
              "['U.S. 30Y',\n",
              " 'U.S. 10Y',\n",
              " 'U.S. 7Y',\n",
              " 'U.S. 5Y',\n",
              " 'U.S. 3Y',\n",
              " 'U.S. 3M',\n",
              " 'U.S. 1Y',\n",
              " 'U.S. 6M',\n",
              " 'U.S. 1M',\n",
              " 'U.S. 2Y']"
            ]
          },
          "metadata": {},
          "execution_count": 34
        }
      ]
    },
    {
      "cell_type": "code",
      "metadata": {
        "id": "MHMC6kaeI_t-",
        "colab": {
          "base_uri": "https://localhost:8080/"
        },
        "outputId": "e4126fd5-2bfa-4466-d52e-a0bc014d9394"
      },
      "source": [
        "Estados_unidos=inv.get_bond_recent_data(bond=\"U.S. 10Y\")\n",
        "print(Estados_unidos)"
      ],
      "execution_count": null,
      "outputs": [
        {
          "output_type": "stream",
          "name": "stdout",
          "text": [
            "             Open   High    Low  Close\n",
            "Date                                  \n",
            "2021-10-19  1.591  1.646  1.566  1.641\n",
            "2021-10-20  1.658  1.673  1.620  1.660\n",
            "2021-10-21  1.665  1.705  1.638  1.696\n",
            "2021-10-22  1.692  1.699  1.634  1.638\n",
            "2021-10-24  1.647  1.650  1.647  1.648\n",
            "2021-10-25  1.648  1.673  1.620  1.633\n",
            "2021-10-26  1.636  1.654  1.609  1.610\n",
            "2021-10-27  1.617  1.634  1.520  1.550\n",
            "2021-10-28  1.541  1.584  1.530  1.578\n",
            "2021-10-29  1.568  1.619  1.536  1.561\n",
            "2021-10-31  1.575  1.577  1.573  1.577\n",
            "2021-11-01  1.575  1.605  1.554  1.561\n",
            "2021-11-02  1.568  1.573  1.528  1.547\n",
            "2021-11-03  1.554  1.609  1.519  1.603\n",
            "2021-11-04  1.593  1.609  1.509  1.530\n",
            "2021-11-05  1.545  1.552  1.436  1.455\n",
            "2021-11-07  1.460  1.462  1.460  1.462\n",
            "2021-11-08  1.464  1.504  1.460  1.493\n",
            "2021-11-09  1.490  1.490  1.415  1.439\n",
            "2021-11-10  1.463  1.592  1.454  1.570\n",
            "2021-11-11  1.585  1.585  1.578  1.578\n",
            "2021-11-12  1.577  1.589  1.541  1.570\n",
            "2021-11-14  1.570  1.573  1.570  1.573\n",
            "2021-11-15  1.575  1.632  1.541  1.618\n",
            "2021-11-16  1.618  1.646  1.594  1.640\n",
            "2021-11-17  1.644  1.649  1.584  1.585\n",
            "2021-11-18  1.599  1.611  1.577  1.587\n",
            "2021-11-19  1.592  1.606  1.519  1.534\n"
          ]
        }
      ]
    },
    {
      "cell_type": "markdown",
      "metadata": {
        "id": "Xx6E7ZZEMCw8"
      },
      "source": [
        "**Alemania**"
      ]
    },
    {
      "cell_type": "code",
      "metadata": {
        "id": "HFHUq0OoMHJn",
        "colab": {
          "base_uri": "https://localhost:8080/"
        },
        "outputId": "ee8251ad-a3cb-4451-fee1-d4e6e04270cc"
      },
      "source": [
        "inv.get_bonds_list(\"germany\")"
      ],
      "execution_count": null,
      "outputs": [
        {
          "output_type": "execute_result",
          "data": {
            "text/plain": [
              "['Germany 10Y',\n",
              " 'Germany 9Y',\n",
              " 'Germany 15Y',\n",
              " 'Germany 8Y',\n",
              " 'Germany 25Y',\n",
              " 'Germany 30Y',\n",
              " 'Germany 20Y',\n",
              " 'Germany 7Y',\n",
              " 'Germany 1Y',\n",
              " 'Germany 5Y',\n",
              " 'Germany 4Y',\n",
              " 'Germany 3Y',\n",
              " 'Germany 2Y',\n",
              " 'Germany 6Y',\n",
              " 'Germany 9M',\n",
              " 'Germany 6M',\n",
              " 'Germany 3M']"
            ]
          },
          "metadata": {},
          "execution_count": 36
        }
      ]
    },
    {
      "cell_type": "code",
      "metadata": {
        "id": "hIG_YwWxOFJv",
        "colab": {
          "base_uri": "https://localhost:8080/"
        },
        "outputId": "6113b64b-dd07-4f9c-965b-58f6a13c90d0"
      },
      "source": [
        "Alemania=inv.get_bond_recent_data(bond=\"Germany 10Y\")\n",
        "print(Alemania)"
      ],
      "execution_count": null,
      "outputs": [
        {
          "output_type": "stream",
          "name": "stdout",
          "text": [
            "              Open    High     Low   Close\n",
            "Date                                      \n",
            "2021-10-19 -0.1470 -0.0960 -0.1730 -0.1140\n",
            "2021-10-20 -0.0940 -0.0920 -0.1340 -0.1230\n",
            "2021-10-21 -0.1170 -0.0850 -0.1290 -0.0970\n",
            "2021-10-22 -0.0900 -0.0690 -0.1070 -0.0970\n",
            "2021-10-23 -0.1035 -0.1035 -0.1035 -0.1035\n",
            "2021-10-25 -0.1090 -0.0780 -0.1210 -0.1120\n",
            "2021-10-26 -0.1060 -0.1020 -0.1410 -0.1200\n",
            "2021-10-27 -0.1200 -0.1160 -0.1840 -0.1760\n",
            "2021-10-28 -0.1770 -0.1000 -0.1820 -0.1500\n",
            "2021-10-29 -0.1100 -0.0640 -0.1270 -0.0940\n",
            "2021-10-30 -0.1065 -0.1065 -0.1065 -0.1065\n",
            "2021-11-01 -0.1100 -0.0650 -0.1190 -0.1030\n",
            "2021-11-02 -0.1040 -0.1040 -0.1710 -0.1600\n",
            "2021-11-03 -0.1620 -0.1500 -0.1940 -0.1670\n",
            "2021-11-04 -0.1650 -0.1560 -0.2310 -0.2250\n",
            "2021-11-05 -0.2200 -0.2160 -0.2850 -0.2800\n",
            "2021-11-08 -0.2770 -0.2440 -0.2820 -0.2470\n",
            "2021-11-09 -0.2530 -0.2400 -0.2990 -0.2960\n",
            "2021-11-10 -0.2970 -0.2430 -0.2980 -0.2480\n",
            "2021-11-11 -0.2480 -0.2170 -0.2600 -0.2260\n",
            "2021-11-12 -0.2320 -0.2170 -0.2690 -0.2560\n",
            "2021-11-15 -0.2630 -0.2370 -0.2900 -0.2450\n",
            "2021-11-16 -0.2330 -0.2190 -0.2520 -0.2440\n",
            "2021-11-17 -0.2400 -0.2290 -0.2560 -0.2440\n",
            "2021-11-18 -0.2460 -0.2450 -0.2820 -0.2800\n",
            "2021-11-19 -0.2735 -0.2580 -0.3480 -0.3400\n"
          ]
        }
      ]
    },
    {
      "cell_type": "markdown",
      "metadata": {
        "id": "JvQbI6OXMPKD"
      },
      "source": [
        "**Reino Unido**"
      ]
    },
    {
      "cell_type": "code",
      "metadata": {
        "id": "BEoxX7u1MViz",
        "colab": {
          "base_uri": "https://localhost:8080/"
        },
        "outputId": "dd4f7e18-76fc-43d8-91c9-73efcafba874"
      },
      "source": [
        "inv.get_bonds_list(\"United Kingdom\")"
      ],
      "execution_count": null,
      "outputs": [
        {
          "output_type": "execute_result",
          "data": {
            "text/plain": [
              "['U.K. 40Y',\n",
              " 'U.K. 50Y',\n",
              " 'U.K. 30Y',\n",
              " 'U.K. 25Y',\n",
              " 'U.K. 15Y',\n",
              " 'U.K. 12Y',\n",
              " 'U.K. 10Y',\n",
              " 'U.K. 9Y',\n",
              " 'U.K. 8Y',\n",
              " 'U.K. 20Y',\n",
              " 'U.K. 6Y',\n",
              " 'U.K. 5Y',\n",
              " 'U.K. 4Y',\n",
              " 'U.K. 3Y',\n",
              " 'U.K. 2Y',\n",
              " 'U.K. 1Y',\n",
              " 'U.K. 6M',\n",
              " 'U.K. 3M',\n",
              " 'U.K. 1M',\n",
              " 'U.K. 7Y']"
            ]
          },
          "metadata": {},
          "execution_count": 38
        }
      ]
    },
    {
      "cell_type": "code",
      "metadata": {
        "id": "mC1yyX36OLCh",
        "colab": {
          "base_uri": "https://localhost:8080/"
        },
        "outputId": "7b86d4bb-9e0a-4877-8342-106028211b5c"
      },
      "source": [
        "Reino_unido=inv.get_bond_recent_data(bond=\"U.K. 10Y\")\n",
        "print(Reino_unido)"
      ],
      "execution_count": null,
      "outputs": [
        {
          "output_type": "stream",
          "name": "stdout",
          "text": [
            "              Open    High     Low   Close\n",
            "Date                                      \n",
            "2021-10-19  1.1050  1.1690  1.1020  1.1650\n",
            "2021-10-20  1.1710  1.1770  1.1120  1.1480\n",
            "2021-10-21  1.1550  1.2190  1.1440  1.2010\n",
            "2021-10-22  1.1940  1.2050  1.1470  1.1540\n",
            "2021-10-24  1.1680  1.1680  1.1680  1.1680\n",
            "2021-10-25  1.1550  1.1880  1.1280  1.1410\n",
            "2021-10-26  1.1380  1.1500  1.1030  1.1090\n",
            "2021-10-27  1.0910  1.1000  0.9670  0.9800\n",
            "2021-10-28  0.9960  1.0410  0.9640  1.0080\n",
            "2021-10-29  1.0400  1.0740  1.0140  1.0320\n",
            "2021-10-30  1.0345  1.0345  1.0345  1.0345\n",
            "2021-10-31  1.0480  1.0480  1.0480  1.0480\n",
            "2021-11-01  1.0420  1.1170  1.0380  1.0630\n",
            "2021-11-02  1.0340  1.0640  1.0230  1.0370\n",
            "2021-11-03  1.0370  1.0850  1.0030  1.0730\n",
            "2021-11-04  1.0670  1.0700  0.9220  0.9430\n",
            "2021-11-05  0.9390  0.9490  0.8360  0.8470\n",
            "2021-11-06  0.8480  0.8480  0.8480  0.8480\n",
            "2021-11-07  0.8385  0.8385  0.8385  0.8385\n",
            "2021-11-08  0.8440  0.8900  0.8420  0.8570\n",
            "2021-11-09  0.8570  0.8650  0.8230  0.8230\n",
            "2021-11-10  0.8600  0.9310  0.8410  0.9260\n",
            "2021-11-11  0.9450  0.9450  0.9060  0.9220\n",
            "2021-11-12  0.9140  0.9390  0.8900  0.9130\n",
            "2021-11-13  0.9220  0.9220  0.9220  0.9220\n",
            "2021-11-14  0.9150  0.9150  0.9150  0.9150\n",
            "2021-11-15  0.8810  0.9650  0.8690  0.9590\n",
            "2021-11-16  0.9750  0.9930  0.9390  0.9930\n",
            "2021-11-17  1.0120  1.0130  0.9630  0.9640\n",
            "2021-11-18  0.9715  0.9715  0.9090  0.9225\n",
            "2021-11-19  0.9195  0.9470  0.8555  0.8920\n"
          ]
        }
      ]
    },
    {
      "cell_type": "markdown",
      "metadata": {
        "id": "5Rm_c2tQMWOq"
      },
      "source": [
        "**Francia**"
      ]
    },
    {
      "cell_type": "code",
      "metadata": {
        "id": "TQOew382Max3",
        "colab": {
          "base_uri": "https://localhost:8080/"
        },
        "outputId": "3204ec58-4c4d-46a8-e39c-dbc33d02a1f6"
      },
      "source": [
        "inv.get_bonds_list(\"france\")"
      ],
      "execution_count": null,
      "outputs": [
        {
          "output_type": "execute_result",
          "data": {
            "text/plain": [
              "['France 8Y',\n",
              " 'France 30Y',\n",
              " 'France 25Y',\n",
              " 'France 20Y',\n",
              " 'France 50Y',\n",
              " 'France 15Y',\n",
              " 'France 10Y',\n",
              " 'France 9Y',\n",
              " 'France 7Y',\n",
              " 'France 9M',\n",
              " 'France 5Y',\n",
              " 'France 4Y',\n",
              " 'France 3Y',\n",
              " 'France 2Y',\n",
              " 'France 1Y',\n",
              " 'France 6M',\n",
              " 'France 3M',\n",
              " 'France 1M',\n",
              " 'France 6Y']"
            ]
          },
          "metadata": {},
          "execution_count": 40
        }
      ]
    },
    {
      "cell_type": "code",
      "metadata": {
        "id": "vbqp_pyFOZG7",
        "colab": {
          "base_uri": "https://localhost:8080/"
        },
        "outputId": "f0f8a15e-2d2b-43c6-a57e-8df0a54bdd03"
      },
      "source": [
        "Francia=inv.get_bond_recent_data(bond=\"France 10Y\")\n",
        "print(Francia)"
      ],
      "execution_count": null,
      "outputs": [
        {
          "output_type": "stream",
          "name": "stdout",
          "text": [
            "             Open   High    Low  Close\n",
            "Date                                  \n",
            "2021-10-19  0.193  0.249  0.165  0.236\n",
            "2021-10-20  0.236  0.251  0.207  0.215\n",
            "2021-10-21  0.220  0.250  0.208  0.237\n",
            "2021-10-22  0.248  0.265  0.233  0.238\n",
            "2021-10-23  0.236  0.236  0.236  0.236\n",
            "2021-10-25  0.232  0.258  0.216  0.222\n",
            "2021-10-26  0.220  0.235  0.196  0.221\n",
            "2021-10-27  0.215  0.229  0.157  0.165\n",
            "2021-10-28  0.166  0.259  0.164  0.211\n",
            "2021-10-29  0.243  0.308  0.231  0.275\n",
            "2021-10-30  0.269  0.269  0.269  0.269\n",
            "2021-11-01  0.263  0.317  0.255  0.277\n",
            "2021-11-02  0.241  0.247  0.178  0.191\n",
            "2021-11-03  0.182  0.201  0.151  0.181\n",
            "2021-11-04  0.174  0.191  0.107  0.115\n",
            "2021-11-05  0.116  0.126  0.057  0.060\n",
            "2021-11-08  0.071  0.097  0.060  0.095\n",
            "2021-11-09  0.089  0.100  0.041  0.046\n",
            "2021-11-10  0.060  0.118  0.048  0.116\n",
            "2021-11-11  0.114  0.138  0.096  0.129\n",
            "2021-11-12  0.132  0.146  0.092  0.104\n",
            "2021-11-15  0.083  0.133  0.069  0.132\n",
            "2021-11-16  0.126  0.139  0.102  0.112\n",
            "2021-11-17  0.119  0.133  0.100  0.113\n",
            "2021-11-18  0.108  0.109  0.058  0.058\n",
            "2021-11-19  0.067  0.083 -0.002  0.007\n"
          ]
        }
      ]
    },
    {
      "cell_type": "markdown",
      "metadata": {
        "id": "PUrwzaETMbHL"
      },
      "source": [
        "**Italia**"
      ]
    },
    {
      "cell_type": "code",
      "metadata": {
        "id": "THR85NXtNIne",
        "colab": {
          "base_uri": "https://localhost:8080/"
        },
        "outputId": "5325bc12-0b75-46f6-cf8e-ea00d25942ec"
      },
      "source": [
        "inv.get_bonds_list(\"Italy\")"
      ],
      "execution_count": null,
      "outputs": [
        {
          "output_type": "execute_result",
          "data": {
            "text/plain": [
              "['Italy 50Y',\n",
              " 'Italy 30Y',\n",
              " 'Italy 20Y',\n",
              " 'Italy 15Y',\n",
              " 'Italy 10Y',\n",
              " 'Italy 9Y',\n",
              " 'Italy 8Y',\n",
              " 'Italy 6Y',\n",
              " 'Italy 7Y',\n",
              " 'Italy 4Y',\n",
              " 'Italy 5Y',\n",
              " 'Italy 3M',\n",
              " 'Italy 6M',\n",
              " 'Italy 9M',\n",
              " 'Italy 1M',\n",
              " 'Italy 2Y',\n",
              " 'Italy 3Y',\n",
              " 'Italy 1Y']"
            ]
          },
          "metadata": {},
          "execution_count": 42
        }
      ]
    },
    {
      "cell_type": "code",
      "metadata": {
        "id": "FyMZ1B9COZ5f",
        "colab": {
          "base_uri": "https://localhost:8080/"
        },
        "outputId": "c0c800df-70f8-4d03-8810-7998e48f7ef4"
      },
      "source": [
        "Italia=inv.get_bond_recent_data(bond=\"Italy 10Y\")\n",
        "print(Italia)"
      ],
      "execution_count": null,
      "outputs": [
        {
          "output_type": "stream",
          "name": "stdout",
          "text": [
            "             Open   High    Low  Close\n",
            "Date                                  \n",
            "2021-10-19  0.872  0.954  0.871  0.938\n",
            "2021-10-20  0.957  0.960  0.911  0.919\n",
            "2021-10-21  0.928  0.960  0.916  0.951\n",
            "2021-10-22  0.960  0.988  0.951  0.964\n",
            "2021-10-23  0.955  0.955  0.955  0.955\n",
            "2021-10-25  0.929  0.955  0.915  0.920\n",
            "2021-10-26  0.913  0.948  0.898  0.943\n",
            "2021-10-27  0.940  0.957  0.875  0.889\n",
            "2021-10-28  0.935  1.050  0.929  0.984\n",
            "2021-10-29  1.085  1.189  1.051  1.140\n",
            "2021-10-30  1.125  1.125  1.125  1.125\n",
            "2021-11-01  1.195  1.289  1.164  1.227\n",
            "2021-11-02  1.163  1.163  1.069  1.086\n",
            "2021-11-03  1.074  1.075  1.020  1.050\n",
            "2021-11-04  1.028  1.044  0.923  0.941\n",
            "2021-11-05  0.949  0.957  0.876  0.878\n",
            "2021-11-08  0.886  0.905  0.869  0.890\n",
            "2021-11-09  0.882  0.888  0.842  0.847\n",
            "2021-11-10  0.858  0.939  0.839  0.932\n",
            "2021-11-11  0.961  0.972  0.932  0.960\n",
            "2021-11-12  0.968  1.022  0.955  0.960\n",
            "2021-11-15  0.919  1.004  0.905  0.985\n",
            "2021-11-16  0.993  1.011  0.962  0.971\n",
            "2021-11-17  0.977  1.000  0.954  0.981\n",
            "2021-11-18  0.951  0.970  0.916  0.932\n",
            "2021-11-19  0.936  1.356  0.858  0.861\n"
          ]
        }
      ]
    },
    {
      "cell_type": "markdown",
      "metadata": {
        "id": "o5yfHBEuMfjM"
      },
      "source": [
        "**Japon**"
      ]
    },
    {
      "cell_type": "code",
      "metadata": {
        "id": "mazN_e0qNJJu",
        "colab": {
          "base_uri": "https://localhost:8080/"
        },
        "outputId": "7458e306-a220-4128-87a6-b8a891820eb6"
      },
      "source": [
        "inv.get_bonds_list(\"japan\")"
      ],
      "execution_count": null,
      "outputs": [
        {
          "output_type": "execute_result",
          "data": {
            "text/plain": [
              "['Japan 7Y',\n",
              " 'Japan 30Y',\n",
              " 'Japan 20Y',\n",
              " 'Japan 15Y',\n",
              " 'Japan 10Y',\n",
              " 'Japan 9Y',\n",
              " 'Japan 8Y',\n",
              " 'Japan 6Y',\n",
              " 'Japan 40Y',\n",
              " 'Japan 4Y',\n",
              " 'Japan 3Y',\n",
              " 'Japan 2Y',\n",
              " 'Japan 1Y',\n",
              " 'Japan 9M',\n",
              " 'Japan 6M',\n",
              " 'Japan 3M',\n",
              " 'Japan 1M',\n",
              " 'Japan 5Y']"
            ]
          },
          "metadata": {},
          "execution_count": 44
        }
      ]
    },
    {
      "cell_type": "code",
      "metadata": {
        "id": "MARdyCtVOalS",
        "colab": {
          "base_uri": "https://localhost:8080/"
        },
        "outputId": "66d511d9-9cb6-4b22-94f5-a54c8bc17e91"
      },
      "source": [
        "Japon=inv.get_bond_recent_data(bond=\"Japan 10Y\")\n",
        "print(Japon)"
      ],
      "execution_count": null,
      "outputs": [
        {
          "output_type": "stream",
          "name": "stdout",
          "text": [
            "             Open   High    Low  Close\n",
            "Date                                  \n",
            "2021-10-19  0.089  0.090  0.084  0.089\n",
            "2021-10-20  0.091  0.099  0.089  0.093\n",
            "2021-10-21  0.093  0.095  0.085  0.089\n",
            "2021-10-22  0.097  0.099  0.089  0.089\n",
            "2021-10-24  0.090  0.091  0.090  0.091\n",
            "2021-10-25  0.095  0.099  0.089  0.098\n",
            "2021-10-26  0.101  0.104  0.094  0.104\n",
            "2021-10-27  0.104  0.109  0.099  0.099\n",
            "2021-10-28  0.086  0.094  0.083  0.089\n",
            "2021-10-29  0.090  0.099  0.089  0.094\n",
            "2021-10-31  0.094  0.095  0.094  0.095\n",
            "2021-11-01  0.097  0.110  0.094  0.094\n",
            "2021-11-02  0.095  0.096  0.079  0.084\n",
            "2021-11-03  0.077  0.077  0.077  0.077\n",
            "2021-11-04  0.080  0.085  0.070  0.075\n",
            "2021-11-05  0.064  0.069  0.059  0.060\n",
            "2021-11-07  0.054  0.054  0.054  0.054\n",
            "2021-11-08  0.057  0.064  0.050  0.060\n",
            "2021-11-09  0.063  0.064  0.054  0.059\n",
            "2021-11-10  0.057  0.059  0.054  0.059\n",
            "2021-11-11  0.067  0.075  0.065  0.065\n",
            "2021-11-12  0.074  0.075  0.070  0.074\n",
            "2021-11-14  0.071  0.072  0.071  0.072\n",
            "2021-11-15  0.076  0.079  0.064  0.065\n",
            "2021-11-16  0.073  0.075  0.070  0.074\n",
            "2021-11-17  0.077  0.078  0.072  0.075\n",
            "2021-11-18  0.075  0.091  0.069  0.081\n",
            "2021-11-19  0.072  0.078  0.063  0.063\n"
          ]
        }
      ]
    },
    {
      "cell_type": "markdown",
      "metadata": {
        "id": "rKK9TQ7kMjRD"
      },
      "source": [
        "**Latinoamerica**"
      ]
    },
    {
      "cell_type": "markdown",
      "metadata": {
        "id": "LNiOh-Z9MpBj"
      },
      "source": [
        "**Brasil**"
      ]
    },
    {
      "cell_type": "code",
      "metadata": {
        "id": "zcnN1t2fNKU9",
        "colab": {
          "base_uri": "https://localhost:8080/"
        },
        "outputId": "71add55e-d864-412f-ccc8-c7fb294b72ca"
      },
      "source": [
        "inv.get_bonds_list(\"Brazil\")"
      ],
      "execution_count": null,
      "outputs": [
        {
          "output_type": "execute_result",
          "data": {
            "text/plain": [
              "['Brazil 3M',\n",
              " 'Brazil 6M',\n",
              " 'Brazil 9M',\n",
              " 'Brazil 1Y',\n",
              " 'Brazil 2Y',\n",
              " 'Brazil 3Y',\n",
              " 'Brazil 5Y',\n",
              " 'Brazil 8Y',\n",
              " 'Brazil 10Y']"
            ]
          },
          "metadata": {},
          "execution_count": 46
        }
      ]
    },
    {
      "cell_type": "code",
      "metadata": {
        "id": "-k_ScMydObo7",
        "colab": {
          "base_uri": "https://localhost:8080/"
        },
        "outputId": "1972b9cb-f819-4ad5-c77a-7363790bbc20"
      },
      "source": [
        "Brazil=inv.get_bond_recent_data(bond=\"Brazil 10Y\")\n",
        "print(Brazil)"
      ],
      "execution_count": null,
      "outputs": [
        {
          "output_type": "stream",
          "name": "stdout",
          "text": [
            "              Open    High     Low   Close\n",
            "Date                                      \n",
            "2021-10-19  11.145  11.565  11.145  11.565\n",
            "2021-10-20  11.565  11.650  11.565  11.650\n",
            "2021-10-21  12.135  12.135  12.135  12.135\n",
            "2021-10-22  12.135  12.135  12.135  12.135\n",
            "2021-10-25  12.135  12.135  11.965  11.965\n",
            "2021-10-26  11.990  11.990  11.990  11.990\n",
            "2021-10-27  11.990  11.990  11.935  11.935\n",
            "2021-10-28  11.935  11.935  11.935  11.935\n",
            "2021-10-29  12.280  12.280  12.245  12.245\n",
            "2021-11-01  12.245  12.245  12.245  12.245\n",
            "2021-11-03  12.315  12.315  11.875  11.875\n",
            "2021-11-04  12.010  12.010  12.010  12.010\n",
            "2021-11-05  12.010  12.010  11.890  11.890\n",
            "2021-11-06  11.841  11.841  11.841  11.841\n",
            "2021-11-08  11.890  11.890  11.790  11.790\n",
            "2021-11-09  11.790  11.790  11.555  11.555\n",
            "2021-11-10  11.555  11.555  11.515  11.515\n",
            "2021-11-11  11.515  11.520  11.515  11.520\n",
            "2021-11-12  11.580  11.580  11.580  11.580\n",
            "2021-11-16  11.580  11.675  11.580  11.675\n",
            "2021-11-17  11.675  11.785  11.675  11.785\n",
            "2021-11-18  11.746  11.746  11.746  11.746\n"
          ]
        }
      ]
    },
    {
      "cell_type": "markdown",
      "metadata": {
        "id": "dcIOm9liMtFJ"
      },
      "source": [
        "**Mexico**"
      ]
    },
    {
      "cell_type": "code",
      "metadata": {
        "id": "EYHQ5xwvNK-c",
        "colab": {
          "base_uri": "https://localhost:8080/"
        },
        "outputId": "c7aed55c-6db2-402e-cd3c-2cd6336d0979"
      },
      "source": [
        "inv.get_bonds_list(\"Mexico\")"
      ],
      "execution_count": null,
      "outputs": [
        {
          "output_type": "execute_result",
          "data": {
            "text/plain": [
              "['Mexico 7Y',\n",
              " 'Mexico 30Y',\n",
              " 'Mexico 20Y',\n",
              " 'Mexico 15Y',\n",
              " 'Mexico 10Y',\n",
              " 'Mexico 5Y',\n",
              " 'Mexico 1Y',\n",
              " 'Mexico 9M',\n",
              " 'Mexico 3M',\n",
              " 'Mexico 1M',\n",
              " 'Mexico 3Y',\n",
              " 'Mexico 6M']"
            ]
          },
          "metadata": {},
          "execution_count": 48
        }
      ]
    },
    {
      "cell_type": "code",
      "metadata": {
        "id": "RDhFio2sOcSx",
        "colab": {
          "base_uri": "https://localhost:8080/"
        },
        "outputId": "595a937d-8962-4a12-c158-58afdfc7fe1e"
      },
      "source": [
        "Mexico=inv.get_bond_recent_data(bond=\"Mexico 10Y\")\n",
        "print(Mexico)"
      ],
      "execution_count": null,
      "outputs": [
        {
          "output_type": "stream",
          "name": "stdout",
          "text": [
            "             Open   High    Low  Close\n",
            "Date                                  \n",
            "2021-10-19  7.475  7.475  7.475  7.425\n",
            "2021-10-20  7.515  7.515  7.515  7.465\n",
            "2021-10-21  7.605  7.605  7.605  7.555\n",
            "2021-10-22  7.572  7.572  7.572  7.541\n",
            "2021-10-25  7.584  7.584  7.584  7.576\n",
            "2021-10-26  7.574  7.584  7.574  7.576\n",
            "2021-10-27  7.534  7.534  7.534  7.526\n",
            "2021-10-28  7.554  7.554  7.554  7.546\n",
            "2021-10-29  7.494  7.494  7.494  7.486\n",
            "2021-11-01  7.524  7.584  7.524  7.576\n",
            "2021-11-03  7.574  7.574  7.544  7.536\n",
            "2021-11-04  7.530  7.530  7.414  7.406\n",
            "2021-11-05  7.325  7.325  7.269  7.281\n",
            "2021-11-08  7.345  7.345  7.294  7.286\n",
            "2021-11-09  7.311  7.311  7.244  7.236\n",
            "2021-11-10  7.286  7.344  7.286  7.326\n",
            "2021-11-11  7.373  7.377  7.199  7.216\n",
            "2021-11-12  7.262  7.374  7.262  7.366\n",
            "2021-11-13  7.540  7.540  7.540  7.540\n",
            "2021-11-16  7.374  7.374  7.374  7.366\n",
            "2021-11-17  7.525  7.525  7.470  7.430\n",
            "2021-11-18  7.728  7.742  7.701  7.737\n",
            "2021-11-19  7.715  7.715  7.715  7.715\n"
          ]
        }
      ]
    },
    {
      "cell_type": "markdown",
      "metadata": {
        "id": "2MwZpJvRMv9O"
      },
      "source": [
        "**Chile**"
      ]
    },
    {
      "cell_type": "code",
      "metadata": {
        "id": "ypZ9JmNENLZm",
        "colab": {
          "base_uri": "https://localhost:8080/"
        },
        "outputId": "36bd0803-cf2c-433e-a74d-af72d41fb4c5"
      },
      "source": [
        "inv.get_bonds_list(\"chile\")"
      ],
      "execution_count": null,
      "outputs": [
        {
          "output_type": "execute_result",
          "data": {
            "text/plain": [
              "['Chile 10Y',\n",
              " 'Chile 8Y',\n",
              " 'Chile 5Y',\n",
              " 'Chile 3Y',\n",
              " 'Chile 2Y',\n",
              " 'Chile 1Y',\n",
              " 'Chile 4Y']"
            ]
          },
          "metadata": {},
          "execution_count": 50
        }
      ]
    },
    {
      "cell_type": "code",
      "metadata": {
        "id": "4WoEuevrOc74",
        "colab": {
          "base_uri": "https://localhost:8080/"
        },
        "outputId": "5c16a1fe-8fe6-4e5c-fe5e-53bff05f84ac"
      },
      "source": [
        "Chile=inv.get_bond_recent_data(bond=\"Chile 10Y\")\n",
        "print(Chile)"
      ],
      "execution_count": null,
      "outputs": [
        {
          "output_type": "stream",
          "name": "stdout",
          "text": [
            "            Open  High   Low  Close\n",
            "Date                               \n",
            "2021-10-19  6.49  6.49  6.49   6.49\n",
            "2021-10-20  6.45  6.45  6.45   6.45\n",
            "2021-10-21  6.52  6.52  6.52   6.52\n",
            "2021-10-22  6.54  6.54  6.54   6.54\n",
            "2021-10-25  6.38  6.38  6.38   6.38\n",
            "2021-10-26  6.30  6.30  6.30   6.30\n",
            "2021-10-27  6.31  6.31  6.31   6.31\n",
            "2021-10-28  6.26  6.26  6.26   6.26\n",
            "2021-10-29  6.22  6.22  6.22   6.22\n",
            "2021-11-02  6.12  6.12  6.12   6.12\n",
            "2021-11-03  6.14  6.14  6.14   6.14\n",
            "2021-11-04  6.17  6.17  6.17   6.17\n",
            "2021-11-05  6.18  6.18  6.18   6.18\n",
            "2021-11-08  6.20  6.20  6.20   6.20\n",
            "2021-11-09  6.16  6.16  6.16   6.16\n",
            "2021-11-10  5.79  5.79  5.79   5.79\n",
            "2021-11-11  5.80  5.80  5.80   5.80\n",
            "2021-11-12  5.80  5.80  5.80   5.80\n",
            "2021-11-15  5.89  5.89  5.89   5.89\n",
            "2021-11-16  5.96  5.96  5.96   5.96\n",
            "2021-11-17  5.99  5.99  5.99   5.99\n",
            "2021-11-18  6.04  6.04  6.04   6.04\n"
          ]
        }
      ]
    },
    {
      "cell_type": "markdown",
      "metadata": {
        "id": "vx8eKrtGM1f0"
      },
      "source": [
        "**Argentina**"
      ]
    },
    {
      "cell_type": "code",
      "metadata": {
        "id": "hGlkCxvoNL-d",
        "colab": {
          "base_uri": "https://localhost:8080/"
        },
        "outputId": "78e5b07b-d198-4306-bdb7-e4e754445104"
      },
      "source": [
        "inv.get_bonds_list(\"argentina\")"
      ],
      "execution_count": null,
      "outputs": [
        {
          "output_type": "execute_result",
          "data": {
            "text/plain": [
              "['Argentina 1Y', 'Argentina 3Y', 'Argentina 5Y', 'Argentina 9Y']"
            ]
          },
          "metadata": {},
          "execution_count": 52
        }
      ]
    },
    {
      "cell_type": "code",
      "metadata": {
        "id": "j1l9S9lEOdpr",
        "colab": {
          "base_uri": "https://localhost:8080/"
        },
        "outputId": "066e52b5-a9fd-4d81-91b9-82b1b658b197"
      },
      "source": [
        "Argentina=inv.get_bond_recent_data(bond=\"Argentina 1Y\")\n",
        "print(Argentina)"
      ],
      "execution_count": null,
      "outputs": [
        {
          "output_type": "stream",
          "name": "stdout",
          "text": [
            "             Open   High    Low  Close\n",
            "Date                                  \n",
            "2021-10-19  47.16  49.93  46.79  49.93\n",
            "2021-10-20  50.40  50.40  41.60  50.40\n",
            "2021-10-21  51.55  51.55  47.28  51.55\n",
            "2021-10-22  51.96  51.96  46.60  51.96\n",
            "2021-10-25  52.42  52.42  45.27  52.42\n",
            "2021-10-26  52.89  52.89  45.67  52.89\n",
            "2021-10-27  52.89  53.22  45.67  53.22\n",
            "2021-10-28  54.55  58.50  48.52  58.50\n",
            "2021-10-29  59.00  59.00  48.18  59.00\n",
            "2021-11-01  59.00  59.50  48.18  59.50\n",
            "2021-11-02  60.02  60.02  46.40  60.02\n",
            "2021-11-03  60.65  60.65  51.02  60.65\n",
            "2021-11-04  62.17  62.17  48.75  62.17\n",
            "2021-11-05  62.73  62.73  49.17  62.73\n",
            "2021-11-08  63.35  63.35  50.83  63.35\n",
            "2021-11-09  63.99  63.99  48.19  63.99\n",
            "2021-11-10  64.58  64.58  48.61  64.58\n",
            "2021-11-11  66.37  66.37  50.08  66.37\n",
            "2021-11-12  67.01  67.01  49.52  50.54\n",
            "2021-11-15  50.84  67.48  49.81  67.48\n",
            "2021-11-16  68.26  68.26  48.34  58.98\n",
            "2021-11-17  59.55  68.93  47.16  68.93\n",
            "2021-11-18  60.99  60.99  47.17  47.59\n",
            "2021-11-19  52.04  52.04  45.44  51.21\n"
          ]
        }
      ]
    },
    {
      "cell_type": "markdown",
      "metadata": {
        "id": "2_RdJM4JM8de"
      },
      "source": [
        "**Colombia**"
      ]
    },
    {
      "cell_type": "code",
      "metadata": {
        "id": "7_3UzmQ4M_zn",
        "colab": {
          "base_uri": "https://localhost:8080/"
        },
        "outputId": "47605449-82db-49e4-a290-8083d32de932"
      },
      "source": [
        "inv.get_bonds_list(\"colombia\")"
      ],
      "execution_count": null,
      "outputs": [
        {
          "output_type": "execute_result",
          "data": {
            "text/plain": [
              "['Colombia 1Y', 'Colombia 4Y', 'Colombia 5Y', 'Colombia 10Y', 'Colombia 15Y']"
            ]
          },
          "metadata": {},
          "execution_count": 54
        }
      ]
    },
    {
      "cell_type": "code",
      "metadata": {
        "id": "0lbAXwJ6OePv",
        "colab": {
          "base_uri": "https://localhost:8080/"
        },
        "outputId": "0ab37afa-f83e-495e-b651-573de013c072"
      },
      "source": [
        "Colombia=inv.get_bond_recent_data(bond=\"Colombia 10Y\")\n",
        "print(Colombia)"
      ],
      "execution_count": null,
      "outputs": [
        {
          "output_type": "stream",
          "name": "stdout",
          "text": [
            "             Open   High    Low  Close\n",
            "Date                                  \n",
            "2021-10-19  7.560  7.579  7.540  7.550\n",
            "2021-10-20  7.550  7.550  7.520  7.520\n",
            "2021-10-21  7.550  7.573  7.550  7.573\n",
            "2021-10-22  7.630  7.730  7.630  7.730\n",
            "2021-10-25  7.630  7.700  7.630  7.700\n",
            "2021-10-26  7.720  7.850  7.691  7.850\n",
            "2021-10-27  7.800  7.800  7.770  7.780\n",
            "2021-10-28  7.855  7.900  7.830  7.900\n",
            "2021-10-29  7.874  7.881  7.772  7.772\n",
            "2021-11-02  7.680  7.710  7.600  7.689\n",
            "2021-11-03  7.640  7.850  7.640  7.793\n",
            "2021-11-04  7.700  7.877  7.700  7.800\n",
            "2021-11-05  7.750  7.860  7.750  7.830\n",
            "2021-11-08  7.750  7.790  7.750  7.760\n",
            "2021-11-09  7.790  7.820  7.745  7.745\n",
            "2021-11-10  7.800  7.805  7.730  7.730\n",
            "2021-11-11  7.741  7.810  7.741  7.810\n",
            "2021-11-12  7.854  7.939  7.854  7.939\n",
            "2021-11-13  7.939  7.939  7.939  7.939\n",
            "2021-11-14  7.939  7.939  7.939  7.939\n",
            "2021-11-16  8.109  8.109  8.099  8.099\n",
            "2021-11-17  8.100  8.100  7.942  7.942\n",
            "2021-11-18  8.045  8.045  7.834  7.915\n",
            "2021-11-19  7.900  7.945  7.900  7.945\n"
          ]
        }
      ]
    },
    {
      "cell_type": "markdown",
      "metadata": {
        "id": "5-oNZkdGNAKX"
      },
      "source": [
        "**Peru** "
      ]
    },
    {
      "cell_type": "code",
      "metadata": {
        "id": "LMJ4nNWXNHAp",
        "colab": {
          "base_uri": "https://localhost:8080/"
        },
        "outputId": "c30c3aa6-0699-4b91-edbe-90a277f2c958"
      },
      "source": [
        "inv.get_bonds_list(\"peru\")"
      ],
      "execution_count": null,
      "outputs": [
        {
          "output_type": "execute_result",
          "data": {
            "text/plain": [
              "['Peru 2Y', 'Peru 5Y', 'Peru 10Y', 'Peru 15Y', 'Peru 20Y', 'Peru 30Y']"
            ]
          },
          "metadata": {},
          "execution_count": 56
        }
      ]
    },
    {
      "cell_type": "code",
      "metadata": {
        "id": "bahdqkDZOe0U",
        "colab": {
          "base_uri": "https://localhost:8080/"
        },
        "outputId": "0969b7c9-d936-4896-c979-3e333076b80f"
      },
      "source": [
        "Peru=inv.get_bond_recent_data(bond=\"Peru 10Y\")\n",
        "print(Peru)"
      ],
      "execution_count": null,
      "outputs": [
        {
          "output_type": "stream",
          "name": "stdout",
          "text": [
            "             Open   High    Low  Close\n",
            "Date                                  \n",
            "2021-10-19  5.865  5.940  5.865  5.940\n",
            "2021-10-20  5.946  5.946  5.946  5.946\n",
            "2021-10-21  5.912  5.912  5.912  5.912\n",
            "2021-10-22  5.900  5.900  5.900  5.900\n",
            "2021-10-25  5.896  5.896  5.896  5.896\n",
            "2021-10-26  5.942  5.942  5.942  5.942\n",
            "2021-10-30  5.881  5.881  5.823  5.823\n",
            "2021-11-04  5.893  5.893  5.893  5.893\n",
            "2021-11-05  5.845  5.845  5.845  5.845\n",
            "2021-11-06  5.782  5.782  5.782  5.782\n",
            "2021-11-08  5.782  5.782  5.782  5.782\n",
            "2021-11-09  5.716  5.716  5.716  5.716\n",
            "2021-11-10  5.868  5.868  5.868  5.868\n",
            "2021-11-11  5.867  5.867  5.867  5.867\n",
            "2021-11-12  5.828  5.828  5.828  5.828\n",
            "2021-11-15  5.799  5.799  5.799  5.799\n",
            "2021-11-16  5.840  5.840  5.840  5.840\n",
            "2021-11-17  5.848  5.848  5.848  5.848\n",
            "2021-11-18  5.820  5.820  5.820  5.820\n"
          ]
        }
      ]
    },
    {
      "cell_type": "markdown",
      "metadata": {
        "id": "g93HhYTUNuSo"
      },
      "source": [
        "**Monedas**"
      ]
    },
    {
      "cell_type": "markdown",
      "metadata": {
        "id": "6G9b8ApkNw5_"
      },
      "source": [
        "**Dolar**"
      ]
    },
    {
      "cell_type": "code",
      "metadata": {
        "id": "rU_iqnjGN8KG",
        "colab": {
          "base_uri": "https://localhost:8080/"
        },
        "outputId": "7fad8069-7c1f-49fc-b4fe-b687118d4465"
      },
      "source": [
        "Dolar=inv.get_currency_cross_recent_data(\"USD/COP\")\n",
        "print(Dolar)"
      ],
      "execution_count": null,
      "outputs": [
        {
          "output_type": "stream",
          "name": "stdout",
          "text": [
            "               Open     High      Low    Close Currency\n",
            "Date                                                   \n",
            "2021-10-19  3769.00  3772.00  3750.50  3764.33      COP\n",
            "2021-10-20  3766.80  3776.50  3760.00  3765.62      COP\n",
            "2021-10-21  3768.09  3788.00  3765.43  3778.53      COP\n",
            "2021-10-22  3781.00  3789.00  3766.47  3765.53      COP\n",
            "2021-10-25  3768.00  3775.14  3757.00  3764.53      COP\n",
            "2021-10-26  3767.00  3779.00  3765.91  3766.48      COP\n",
            "2021-10-27  3771.50  3771.69  3751.60  3757.53      COP\n",
            "2021-10-28  3760.00  3778.56  3749.00  3775.23      COP\n",
            "2021-10-29  3779.50  3798.30  3760.00  3757.53      COP\n",
            "2021-11-01  3760.00  3767.62  3757.03  3757.53      COP\n",
            "2021-11-02  3760.00  3799.00  3757.10  3796.53      COP\n",
            "2021-11-03  3799.00  3852.95  3793.57  3827.63      COP\n",
            "2021-11-04  3830.10  3885.00  3818.75  3869.53      COP\n",
            "2021-11-05  3872.00  3898.90  3863.70  3870.03      COP\n",
            "2021-11-08  3872.50  3890.30  3857.00  3874.53      COP\n",
            "2021-11-09  3877.00  3892.84  3864.70  3864.52      COP\n",
            "2021-11-10  3866.99  3884.00  3862.00  3875.03      COP\n",
            "2021-11-11  3877.50  3887.32  3876.59  3876.53      COP\n",
            "2021-11-12  3879.00  3900.00  3875.26  3880.33      COP\n",
            "2021-11-15  3882.80  3885.14  3882.67  3882.33      COP\n",
            "2021-11-16  3884.80  3912.00  3884.31  3892.53      COP\n",
            "2021-11-17  3895.00  3936.00  3892.80  3916.53      COP\n",
            "2021-11-18  3919.00  3959.50  3918.43  3935.00      COP\n",
            "2021-11-19  3935.00  3949.50  3913.35  3916.18      COP\n"
          ]
        }
      ]
    },
    {
      "cell_type": "markdown",
      "metadata": {
        "id": "LEJ-am6_N39V"
      },
      "source": [
        "**Euro**"
      ]
    },
    {
      "cell_type": "code",
      "metadata": {
        "id": "rp8ZBd0ON8z8",
        "colab": {
          "base_uri": "https://localhost:8080/"
        },
        "outputId": "e529d3d1-cc25-4a2e-d6c5-673a2d7f0d2a"
      },
      "source": [
        "Euro=inv.get_currency_cross_recent_data(\"EUR/COP\")\n",
        "print(Euro)"
      ],
      "execution_count": null,
      "outputs": [
        {
          "output_type": "stream",
          "name": "stdout",
          "text": [
            "              Open    High     Low   Close Currency\n",
            "Date                                               \n",
            "2021-10-19  4376.5  4398.5  4367.5  4379.0      COP\n",
            "2021-10-20  4382.5  4399.5  4375.0  4387.0      COP\n",
            "2021-10-21  4389.5  4413.5  4382.5  4391.0      COP\n",
            "2021-10-22  4394.5  4413.0  4380.0  4386.0      COP\n",
            "2021-10-25  4389.5  4395.5  4360.5  4369.0      COP\n",
            "2021-10-26  4372.5  4385.5  4367.5  4366.0      COP\n",
            "2021-10-27  4370.5  4384.5  4355.5  4360.0      COP\n",
            "2021-10-28  4363.5  4417.0  4354.5  4409.0      COP\n",
            "2021-10-29  4412.0  4418.5  4344.5  4344.0      COP\n",
            "2021-11-01  4347.5  4366.0  4341.5  4360.0      COP\n",
            "2021-11-02  4364.5  4399.5  4356.5  4395.0      COP\n",
            "2021-11-03  4398.5  4463.5  4393.5  4444.0      COP\n",
            "2021-11-04  4447.5  4486.5  4415.0  4470.0      COP\n",
            "2021-11-05  4473.5  4501.0  4450.5  4476.0      COP\n",
            "2021-11-08  4479.5  4509.5  4465.0  4489.0      COP\n",
            "2021-11-09  4492.5  4514.0  4474.0  4479.0      COP\n",
            "2021-11-10  4483.0  4485.5  4449.5  4448.0      COP\n",
            "2021-11-11  4451.5  4460.0  4438.5  4439.0      COP\n",
            "2021-11-12  4443.0  4465.0  4435.5  4443.0      COP\n",
            "2021-11-15  4446.5  4451.5  4411.5  4413.0      COP\n",
            "2021-11-16  4416.5  4439.0  4403.0  4406.0      COP\n",
            "2021-11-17  4409.5  4457.5  4387.0  4433.0      COP\n",
            "2021-11-18  4435.5  4495.0  4434.0  4473.5      COP\n",
            "2021-11-19  4473.5  4474.0  4418.0  4421.5      COP\n"
          ]
        }
      ]
    },
    {
      "cell_type": "markdown",
      "metadata": {
        "id": "S8J_1X2RHLyq"
      },
      "source": [
        "**Unir datos**"
      ]
    },
    {
      "cell_type": "code",
      "metadata": {
        "id": "FMXQjWY3JS21",
        "colab": {
          "base_uri": "https://localhost:8080/"
        },
        "outputId": "66e45460-a1d7-4a98-9fed-c2e076f7e1da"
      },
      "source": [
        "Historica_data5= pd.concat([Historica_data1,Historica_data2,Historica_data3,Historica_data],axis=1)\n",
        "print(Historica_data5)"
      ],
      "execution_count": null,
      "outputs": [
        {
          "output_type": "stream",
          "name": "stdout",
          "text": [
            "                Open      High       Low  ...    Close  Volume Currency\n",
            "Date                                      ...                          \n",
            "2021-09-06  116926.0  117981.0  116156.0  ...  1327.09       0      COP\n",
            "2021-09-07       NaN       NaN       NaN  ...  1320.98       0      COP\n",
            "2021-09-08  117866.0  117866.0  113172.0  ...  1320.39       0      COP\n",
            "2021-09-09  113413.0  116354.0  112435.0  ...  1322.78       0      COP\n",
            "2021-09-10  115370.0  116896.0  114286.0  ...  1320.52       0      COP\n",
            "\n",
            "[5 rows x 24 columns]\n"
          ]
        }
      ]
    },
    {
      "cell_type": "code",
      "metadata": {
        "id": "GWGL1jBUB5-u",
        "colab": {
          "base_uri": "https://localhost:8080/"
        },
        "outputId": "cd0fec55-37de-4ba7-fe09-04ce1adb47ca"
      },
      "source": [
        "data10=pd.concat([data1,data2,data3,data,brent,WTI,Oro,Cobre,Maiz,Cafe,Azucar,Estados_unidos,\n",
        "                  Alemania,Reino_unido,Francia,Italia,Japon,Brazil,Mexico,Chile,Argentina,Colombia,Peru,Dolar,Euro],axis=1)\n",
        "print(data10)"
      ],
      "execution_count": null,
      "outputs": [
        {
          "output_type": "stream",
          "name": "stdout",
          "text": [
            "                Open      High       Low  ...     Low   Close Currency\n",
            "Date                                      ...                         \n",
            "2021-10-19  114422.0  114422.0  109947.0  ...  4367.5  4379.0      COP\n",
            "2021-10-20  110677.0  112023.0  110176.0  ...  4375.0  4387.0      COP\n",
            "2021-10-21  110767.0  110767.0  105714.0  ...  4382.5  4391.0      COP\n",
            "2021-10-22  107714.0  107749.0  102854.0  ...  4380.0  4386.0      COP\n",
            "2021-10-23       NaN       NaN       NaN  ...     NaN     NaN      NaN\n",
            "2021-10-24       NaN       NaN       NaN  ...     NaN     NaN      NaN\n",
            "2021-10-25  106298.0  109372.0  106296.0  ...  4360.5  4369.0      COP\n",
            "2021-10-26  108713.0  108713.0  106321.0  ...  4367.5  4366.0      COP\n",
            "2021-10-27  106433.0  108224.0  106045.0  ...  4355.5  4360.0      COP\n",
            "2021-10-28  106369.0  107210.0  105282.0  ...  4354.5  4409.0      COP\n",
            "2021-10-29  105707.0  105954.0  103430.0  ...  4344.5  4344.0      COP\n",
            "2021-10-30       NaN       NaN       NaN  ...     NaN     NaN      NaN\n",
            "2021-10-31       NaN       NaN       NaN  ...     NaN     NaN      NaN\n",
            "2021-11-01  103514.0  106136.0  103514.0  ...  4341.5  4360.0      COP\n",
            "2021-11-02       NaN       NaN       NaN  ...  4356.5  4395.0      COP\n",
            "2021-11-03  105547.0  106754.0  104205.0  ...  4393.5  4444.0      COP\n",
            "2021-11-04  105617.0  105627.0  102835.0  ...  4415.0  4470.0      COP\n",
            "2021-11-05  103412.0  105555.0  103412.0  ...  4450.5  4476.0      COP\n",
            "2021-11-06       NaN       NaN       NaN  ...     NaN     NaN      NaN\n",
            "2021-11-07       NaN       NaN       NaN  ...     NaN     NaN      NaN\n",
            "2021-11-08  104824.0  105679.0  104182.0  ...  4465.0  4489.0      COP\n",
            "2021-11-09  104783.0  106674.0  104783.0  ...  4474.0  4479.0      COP\n",
            "2021-11-10  105535.0  107407.0  105140.0  ...  4449.5  4448.0      COP\n",
            "2021-11-11  105988.0  108669.0  105988.0  ...  4438.5  4439.0      COP\n",
            "2021-11-12  107576.0  107915.0  105842.0  ...  4435.5  4443.0      COP\n",
            "2021-11-13       NaN       NaN       NaN  ...     NaN     NaN      NaN\n",
            "2021-11-14       NaN       NaN       NaN  ...     NaN     NaN      NaN\n",
            "2021-11-15       NaN       NaN       NaN  ...  4411.5  4413.0      COP\n",
            "2021-11-16  106336.0  106971.0  104113.0  ...  4403.0  4406.0      COP\n",
            "2021-11-17  104405.0  105535.0  102551.0  ...  4387.0  4433.0      COP\n",
            "2021-11-18  102948.0  103757.0  102014.0  ...  4434.0  4473.5      COP\n",
            "2021-11-19  102426.0  103975.0  102143.0  ...  4418.0  4421.5      COP\n",
            "\n",
            "[32 rows x 124 columns]\n"
          ]
        }
      ]
    },
    {
      "cell_type": "markdown",
      "metadata": {
        "id": "6szvWYcuGvPX"
      },
      "source": [
        "**Descargar datos**"
      ]
    },
    {
      "cell_type": "code",
      "metadata": {
        "colab": {
          "base_uri": "https://localhost:8080/",
          "height": 17
        },
        "id": "Areidc1-CP-s",
        "outputId": "b2b07d6a-f3a5-4019-cb0a-2e12d244adeb"
      },
      "source": [
        "data10.to_excel(\"data.xlsx\")\n",
        "files.download(\"data.xlsx\")"
      ],
      "execution_count": null,
      "outputs": [
        {
          "output_type": "display_data",
          "data": {
            "application/javascript": [
              "\n",
              "    async function download(id, filename, size) {\n",
              "      if (!google.colab.kernel.accessAllowed) {\n",
              "        return;\n",
              "      }\n",
              "      const div = document.createElement('div');\n",
              "      const label = document.createElement('label');\n",
              "      label.textContent = `Downloading \"${filename}\": `;\n",
              "      div.appendChild(label);\n",
              "      const progress = document.createElement('progress');\n",
              "      progress.max = size;\n",
              "      div.appendChild(progress);\n",
              "      document.body.appendChild(div);\n",
              "\n",
              "      const buffers = [];\n",
              "      let downloaded = 0;\n",
              "\n",
              "      const channel = await google.colab.kernel.comms.open(id);\n",
              "      // Send a message to notify the kernel that we're ready.\n",
              "      channel.send({})\n",
              "\n",
              "      for await (const message of channel.messages) {\n",
              "        // Send a message to notify the kernel that we're ready.\n",
              "        channel.send({})\n",
              "        if (message.buffers) {\n",
              "          for (const buffer of message.buffers) {\n",
              "            buffers.push(buffer);\n",
              "            downloaded += buffer.byteLength;\n",
              "            progress.value = downloaded;\n",
              "          }\n",
              "        }\n",
              "      }\n",
              "      const blob = new Blob(buffers, {type: 'application/binary'});\n",
              "      const a = document.createElement('a');\n",
              "      a.href = window.URL.createObjectURL(blob);\n",
              "      a.download = filename;\n",
              "      div.appendChild(a);\n",
              "      a.click();\n",
              "      div.remove();\n",
              "    }\n",
              "  "
            ],
            "text/plain": [
              "<IPython.core.display.Javascript object>"
            ]
          },
          "metadata": {}
        },
        {
          "output_type": "display_data",
          "data": {
            "application/javascript": [
              "download(\"download_02b15f40-5559-4438-8449-9e01a0a64d92\", \"data.xlsx\", 24304)"
            ],
            "text/plain": [
              "<IPython.core.display.Javascript object>"
            ]
          },
          "metadata": {}
        }
      ]
    }
  ]
}
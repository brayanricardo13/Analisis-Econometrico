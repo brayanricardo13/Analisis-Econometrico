{
  "nbformat": 4,
  "nbformat_minor": 0,
  "metadata": {
    "colab": {
      "name": "Investing",
      "provenance": [],
      "collapsed_sections": [],
      "authorship_tag": "ABX9TyMmdI/GJ+7fl1jwVHenfkem",
      "include_colab_link": true
    },
    "kernelspec": {
      "name": "python3",
      "display_name": "Python 3"
    },
    "language_info": {
      "name": "python"
    }
  },
  "cells": [
    {
      "cell_type": "markdown",
      "metadata": {
        "id": "view-in-github",
        "colab_type": "text"
      },
      "source": [
        "<a href=\"https://colab.research.google.com/github/brayanricardo13/Analisis-Econometrico/blob/main/Investing.ipynb\" target=\"_parent\"><img src=\"https://colab.research.google.com/assets/colab-badge.svg\" alt=\"Open In Colab\"/></a>"
      ]
    },
    {
      "cell_type": "code",
      "metadata": {
        "id": "QVWLUVn2wJWP",
        "colab": {
          "base_uri": "https://localhost:8080/"
        },
        "outputId": "a3b26e3c-3a3a-4b99-c842-4020fdb7b68a"
      },
      "source": [
        "pip install investpy"
      ],
      "execution_count": 125,
      "outputs": [
        {
          "output_type": "stream",
          "name": "stdout",
          "text": [
            "Requirement already satisfied: investpy in /usr/local/lib/python3.7/dist-packages (1.0.7)\n",
            "Requirement already satisfied: lxml>=4.4.1 in /usr/local/lib/python3.7/dist-packages (from investpy) (4.7.1)\n",
            "Requirement already satisfied: pandas>=0.25.1 in /usr/local/lib/python3.7/dist-packages (from investpy) (1.1.5)\n",
            "Requirement already satisfied: pytz>=2019.3 in /usr/local/lib/python3.7/dist-packages (from investpy) (2021.3)\n",
            "Requirement already satisfied: Unidecode>=1.1.1 in /usr/local/lib/python3.7/dist-packages (from investpy) (1.3.2)\n",
            "Requirement already satisfied: numpy>=1.17.2 in /usr/local/lib/python3.7/dist-packages (from investpy) (1.19.5)\n",
            "Requirement already satisfied: setuptools>=41.2.0 in /usr/local/lib/python3.7/dist-packages (from investpy) (57.4.0)\n",
            "Requirement already satisfied: requests>=2.22.0 in /usr/local/lib/python3.7/dist-packages (from investpy) (2.23.0)\n",
            "Requirement already satisfied: python-dateutil>=2.7.3 in /usr/local/lib/python3.7/dist-packages (from pandas>=0.25.1->investpy) (2.8.2)\n",
            "Requirement already satisfied: six>=1.5 in /usr/local/lib/python3.7/dist-packages (from python-dateutil>=2.7.3->pandas>=0.25.1->investpy) (1.15.0)\n",
            "Requirement already satisfied: idna<3,>=2.5 in /usr/local/lib/python3.7/dist-packages (from requests>=2.22.0->investpy) (2.10)\n",
            "Requirement already satisfied: certifi>=2017.4.17 in /usr/local/lib/python3.7/dist-packages (from requests>=2.22.0->investpy) (2021.10.8)\n",
            "Requirement already satisfied: chardet<4,>=3.0.2 in /usr/local/lib/python3.7/dist-packages (from requests>=2.22.0->investpy) (3.0.4)\n",
            "Requirement already satisfied: urllib3!=1.25.0,!=1.25.1,<1.26,>=1.21.1 in /usr/local/lib/python3.7/dist-packages (from requests>=2.22.0->investpy) (1.24.3)\n"
          ]
        }
      ]
    },
    {
      "cell_type": "code",
      "metadata": {
        "id": "CHNGAVDnwTMj"
      },
      "source": [
        "import investpy as inv\n",
        "import pandas as pd"
      ],
      "execution_count": 126,
      "outputs": []
    },
    {
      "cell_type": "code",
      "metadata": {
        "id": "E7jx7UfKBceV"
      },
      "source": [
        "from google.colab import files"
      ],
      "execution_count": 127,
      "outputs": []
    },
    {
      "cell_type": "markdown",
      "metadata": {
        "id": "l9vXtOsgYR8m"
      },
      "source": [
        "**Futuros de indices renta variable**"
      ]
    },
    {
      "cell_type": "markdown",
      "metadata": {
        "id": "xG4KMGTDCEqC"
      },
      "source": [
        "**Dow Jones**"
      ]
    },
    {
      "cell_type": "code",
      "metadata": {
        "id": "YF3rdzW2v9dH"
      },
      "source": [
        " ## indices de united states inv.get_indices_list(\"united states\")"
      ],
      "execution_count": 128,
      "outputs": []
    },
    {
      "cell_type": "code",
      "metadata": {
        "id": "1dUthN5S-IZO",
        "colab": {
          "base_uri": "https://localhost:8080/"
        },
        "outputId": "f6be183c-8ec2-485b-985d-eb4a63e205d0"
      },
      "source": [
        "dow_jones=inv.search_quotes(text='dow jones futures', products=['indices'],countries=['united states'], n_results=1)\n",
        "print(dow_jones)"
      ],
      "execution_count": 129,
      "outputs": [
        {
          "output_type": "stream",
          "name": "stdout",
          "text": [
            "{\"id_\": 8873, \"name\": \"Dow Jones Futures\", \"symbol\": \"1YMc1\", \"country\": \"united states\", \"tag\": \"/indices/us-30-futures\", \"pair_type\": \"indices\", \"exchange\": \"CME\"}\n"
          ]
        }
      ]
    },
    {
      "cell_type": "code",
      "metadata": {
        "id": "CFk61gI7vPn-",
        "colab": {
          "base_uri": "https://localhost:8080/"
        },
        "outputId": "9ad49d75-4c3f-4d28-ffe4-96ca77743ef9"
      },
      "source": [
        "data = inv.get_index_recent_data(index='ibex 35', country='spain')\n",
        "print(data)"
      ],
      "execution_count": 130,
      "outputs": [
        {
          "output_type": "stream",
          "name": "stdout",
          "text": [
            "              Open    High     Low   Close     Volume Currency\n",
            "Date                                                          \n",
            "2021-12-02  8335.7  8390.0  8264.3  8300.8  197930000      EUR\n",
            "2021-12-03  8371.9  8374.3  8210.2  8241.7  169542000      EUR\n",
            "2021-12-06  8323.8  8446.7  8288.6  8439.7  143536000      EUR\n",
            "2021-12-07  8523.6  8560.9  8472.7  8559.5  170695008      EUR\n",
            "2021-12-08  8527.6  8582.4  8462.5  8478.4  221534000      EUR\n",
            "2021-12-09  8490.3  8490.3  8394.3  8399.6  144640000      EUR\n",
            "2021-12-10  8356.7  8410.4  8339.5  8360.2  116319000      EUR\n",
            "2021-12-13  8380.6  8408.9  8289.6  8322.7  140412000      EUR\n",
            "2021-12-14  8358.8  8411.7  8356.2  8378.5  163939008      EUR\n",
            "2021-12-15  8382.9  8382.9  8268.0  8275.0  147414000      EUR\n",
            "2021-12-16  8387.4  8433.7  8356.8  8380.0  198863008      EUR\n",
            "2021-12-17  8328.5  8344.4  8246.8  8311.6  323191008      EUR\n",
            "2021-12-20  8113.5  8271.7  8082.4  8242.4  172112992      EUR\n",
            "2021-12-21  8344.7  8394.2  8274.8  8387.5  143384992      EUR\n",
            "2021-12-22  8388.9  8461.8  8373.2  8459.1  115841000      EUR\n",
            "2021-12-23  8476.8  8587.7  8469.7  8563.7  142487008      EUR\n",
            "2021-12-27  8512.2  8634.3  8508.4  8622.1   93359000      EUR\n",
            "2021-12-28  8623.5  8703.6  8617.0  8688.9   90378000      EUR\n",
            "2021-12-29  8691.5  8697.6  8641.3  8673.7  110776000      EUR\n",
            "2021-12-30  8665.8  8728.0  8661.5  8713.8  127210000      EUR\n"
          ]
        }
      ]
    },
    {
      "cell_type": "markdown",
      "metadata": {
        "id": "gtLhno6-CK8K"
      },
      "source": [
        "**S&p500** "
      ]
    },
    {
      "cell_type": "code",
      "metadata": {
        "id": "AIfgEMHPCbxm",
        "colab": {
          "base_uri": "https://localhost:8080/"
        },
        "outputId": "c6fa8aa6-9492-4273-8d77-7d558d25dfd1"
      },
      "source": [
        "Standarpoor500=inv.search_quotes(\"S&P 500 Futures\", products=['indices'],countries=['united states'], n_results=1)\n",
        "print(Standarpoor500)"
      ],
      "execution_count": 131,
      "outputs": [
        {
          "output_type": "stream",
          "name": "stdout",
          "text": [
            "{\"id_\": 8839, \"name\": \"S&P 500 Futures\", \"symbol\": \"ESc1\", \"country\": \"united states\", \"tag\": \"/indices/us-spx-500-futures\", \"pair_type\": \"indices\", \"exchange\": \"CME\"}\n"
          ]
        }
      ]
    },
    {
      "cell_type": "markdown",
      "metadata": {
        "id": "26XOOhcSCcX2"
      },
      "source": [
        "**Euro Stoxx 50**"
      ]
    },
    {
      "cell_type": "code",
      "metadata": {
        "id": "GVyjSVfzCeKa",
        "colab": {
          "base_uri": "https://localhost:8080/"
        },
        "outputId": "e008bd6b-a79b-4f32-e725-9f3199a17426"
      },
      "source": [
        "Euro_stoxx_50=inv.search_quotes(text='Euro Stoxx 50 Futures', products=['indices'],countries=['euro zone'], n_results=1)\n",
        "print(Euro_stoxx_50)"
      ],
      "execution_count": 132,
      "outputs": [
        {
          "output_type": "stream",
          "name": "stdout",
          "text": [
            "{\"id_\": 8867, \"name\": \"Euro Stoxx 50 Futures\", \"symbol\": \"EU50\", \"country\": \"euro zone\", \"tag\": \"/indices/eu-stocks-50-futures\", \"pair_type\": \"indices\", \"exchange\": \"Eurex\"}\n"
          ]
        }
      ]
    },
    {
      "cell_type": "markdown",
      "metadata": {
        "id": "TcTs_n0GCena"
      },
      "source": [
        "**Dax (Alemania)**"
      ]
    },
    {
      "cell_type": "code",
      "metadata": {
        "id": "ueXDrPqbCj7b",
        "colab": {
          "base_uri": "https://localhost:8080/"
        },
        "outputId": "2292bc1e-5122-4e14-e1ca-d4c138c2dfb1"
      },
      "source": [
        "Dax_Alemania=inv.search_quotes(text='DAX Futures', products=['indices'],countries=['germany'], n_results=1)\n",
        "print(Dax_Alemania)"
      ],
      "execution_count": 133,
      "outputs": [
        {
          "output_type": "stream",
          "name": "stdout",
          "text": [
            "{\"id_\": 8826, \"name\": \"DAX Futures\", \"symbol\": \"DE30\", \"country\": \"germany\", \"tag\": \"/indices/germany-30-futures\", \"pair_type\": \"indices\", \"exchange\": \"Eurex\"}\n"
          ]
        }
      ]
    },
    {
      "cell_type": "markdown",
      "metadata": {
        "id": "x8i_3KHMCkdZ"
      },
      "source": [
        "**Nikkei (Japón)**"
      ]
    },
    {
      "cell_type": "code",
      "metadata": {
        "id": "QkdjzXzMCrrI",
        "colab": {
          "base_uri": "https://localhost:8080/"
        },
        "outputId": "5543d68a-dca8-405a-d0b0-51630d53420c"
      },
      "source": [
        "Nikkei_japon=inv.search_quotes(text='Nikkei 225 Futures', products=['indices'],countries=['japan'], n_results=1)\n",
        "print(Nikkei_japon)"
      ],
      "execution_count": 134,
      "outputs": [
        {
          "output_type": "stream",
          "name": "stdout",
          "text": [
            "{\"id_\": 8859, \"name\": \"Nikkei 225 Futures\", \"symbol\": \"JP225\", \"country\": \"japan\", \"tag\": \"/indices/japan-225-futures\", \"pair_type\": \"indices\", \"exchange\": \"OSE\"}\n"
          ]
        }
      ]
    },
    {
      "cell_type": "markdown",
      "metadata": {
        "id": "b_6kv2VqCt4i"
      },
      "source": [
        "**Hang Seng (China)**"
      ]
    },
    {
      "cell_type": "code",
      "metadata": {
        "id": "9csxbgZeCvfC"
      },
      "source": [
        ""
      ],
      "execution_count": 134,
      "outputs": []
    },
    {
      "cell_type": "markdown",
      "metadata": {
        "id": "uAOISXZUw-cV"
      },
      "source": [
        "**Indices Renta variable Sudamerica**"
      ]
    },
    {
      "cell_type": "markdown",
      "metadata": {
        "id": "z75vbO46EcND"
      },
      "source": [
        "**Brasil**"
      ]
    },
    {
      "cell_type": "code",
      "metadata": {
        "id": "Rg5r9Fp5EqEd",
        "colab": {
          "base_uri": "https://localhost:8080/"
        },
        "outputId": "4d569c9c-e31c-483c-acdb-c8f0ad55fd79"
      },
      "source": [
        "inv.get_indices_list(\"brazil\")"
      ],
      "execution_count": 135,
      "outputs": [
        {
          "output_type": "execute_result",
          "data": {
            "text/plain": [
              "['MSCI Brazil Net USD',\n",
              " 'DJ Brazil',\n",
              " 'TR Brazil 50',\n",
              " 'MSCI Brazil Price USD',\n",
              " 'DJ Brazil Titans 20 ADR',\n",
              " 'BNY Mellon Brazil ADR',\n",
              " 'BNY Mellon Brazil ADR TR',\n",
              " 'BNY Mellon Brazil Classic ADR',\n",
              " 'BNY Mellon Brazil Classic ADR TR',\n",
              " 'FTSE RAFI Brazil 50',\n",
              " 'MSCI Brazil 10 40',\n",
              " 'DJ BRIC Brazil 15 Capped NTR',\n",
              " 'DJ BRIC Brazil 15 USD',\n",
              " 'DJ BRIC Brazil 15 EUR',\n",
              " 'FTSE Brazil Infrastructure Extended',\n",
              " 'MSCI Brazil Gross',\n",
              " 'DJ Brazil Titans 20 ADR TR',\n",
              " 'MSCI Brazil 25-50 Price',\n",
              " 'MSCI Brazil 20-50 Gross Return',\n",
              " 'MSCI Brazil 25-50 Net Return',\n",
              " 'FTSE Brazil Infrastructure Extended USD PR',\n",
              " 'FTSE Brazil Infrastructure Extended Total Return',\n",
              " 'FTSE Brazil Infrastructure Extended Net Tax Total',\n",
              " 'FTSE Brazil Infrastructure Extended Net Tax USD TR',\n",
              " 'DJ BRIC Brazil 15 DR',\n",
              " 'MSCI Brazil',\n",
              " 'BM&FBOVESPA Unsponsored BDRX',\n",
              " 'Small Cap Index',\n",
              " 'Tag Along',\n",
              " 'Brazil broad-Based',\n",
              " 'Brazil Index',\n",
              " 'Mid-Large Cap Index',\n",
              " 'Public Utilities',\n",
              " 'BM&FBOVESPA Real Estate IFIX',\n",
              " 'Financials',\n",
              " 'Carbon Efficient',\n",
              " 'Corporate Governance IGCNM',\n",
              " 'Bovespa Dividend',\n",
              " 'Brazil 50',\n",
              " 'Corporate Gov Trade',\n",
              " 'FTSE Brazil',\n",
              " 'Ibovespa EUR',\n",
              " 'Ibovespa USD',\n",
              " 'IVBX',\n",
              " 'IGCX',\n",
              " 'Consumption',\n",
              " 'Industrial Sector',\n",
              " 'Electrical Energy',\n",
              " 'Basic Materials',\n",
              " 'Bovespa',\n",
              " 'Corporate Sustainability',\n",
              " 'Real Estate']"
            ]
          },
          "metadata": {},
          "execution_count": 135
        }
      ]
    },
    {
      "cell_type": "code",
      "metadata": {
        "id": "AUu9-_5MEyhD",
        "colab": {
          "base_uri": "https://localhost:8080/"
        },
        "outputId": "3308a7fb-c5ed-48d1-fa50-f025375e4586"
      },
      "source": [
        "data1=inv.get_index_recent_data(\"Bovespa\",country=\"brazil\")\n",
        "Bovespa=data1[[\"Close\",\"Open\"]].tail()\n",
        "print(Bovespa)"
      ],
      "execution_count": 136,
      "outputs": [
        {
          "output_type": "stream",
          "name": "stdout",
          "text": [
            "               Close      Open\n",
            "Date                          \n",
            "2021-12-23  104891.0  105251.0\n",
            "2021-12-27  105554.0  104892.0\n",
            "2021-12-28  104864.0  105555.0\n",
            "2021-12-29  104107.0  104863.0\n",
            "2021-12-30  104822.0  104106.0\n"
          ]
        }
      ]
    },
    {
      "cell_type": "code",
      "metadata": {
        "id": "cjz5AAbUFAGz"
      },
      "source": [
        "## No es necesario\n",
        "## Historica_data1 =inv.get_index_historical_data(\"bovespa\",country=\"brazil\",from_date=\"05/09/2021\",to_date=\"10/09/2021\")\n",
        "## print(Historica_data1)"
      ],
      "execution_count": 137,
      "outputs": []
    },
    {
      "cell_type": "markdown",
      "metadata": {
        "id": "MnvD9JPpFb9O"
      },
      "source": [
        "**Mexico**"
      ]
    },
    {
      "cell_type": "code",
      "metadata": {
        "id": "0yGL7xYBFiA8",
        "colab": {
          "base_uri": "https://localhost:8080/"
        },
        "outputId": "95dcd54b-6038-4441-9de5-705ab214811e"
      },
      "source": [
        "inv.get_indices_list(\"Mexico\")"
      ],
      "execution_count": 138,
      "outputs": [
        {
          "output_type": "execute_result",
          "data": {
            "text/plain": [
              "['S&P/BMV IRT LargeCap',\n",
              " 'S&P/BMV IRT MidCap',\n",
              " 'S&P/BMV IRT SmallCap',\n",
              " 'S&P/BMV IMeBz',\n",
              " 'S&P/BMV IMeBz RT',\n",
              " 'MSCI Mexico Gross',\n",
              " 'BURSA OPTIMO RT',\n",
              " 'BNY Mellon Mexico Classic ADR',\n",
              " 'BNY Mellon Mexico ADR TR',\n",
              " 'BNY Mellon Mexico ADR',\n",
              " 'NQ Mexico Financials',\n",
              " 'DJ Mexico USD',\n",
              " 'DJ Mexico',\n",
              " 'MSCI Mexico',\n",
              " 'BNY Mellon Mexico Classic ADR TR',\n",
              " 'S&P/BMV IRT CompMx',\n",
              " 'MSCI Mexico Special Capping Net USD',\n",
              " 'S&P/BMV IPC SUSTENTABLE RT',\n",
              " 'S&P/BMV-EXTR RT',\n",
              " 'S&P/BMV-COMERCIO RT',\n",
              " 'Banamex',\n",
              " 'FTSE BIVA Eod Net Tax',\n",
              " 'FTSE BIVA EOD Price',\n",
              " 'FTSE BIVA EOD TR',\n",
              " 'FTSE BIVA Real Time Net Tax',\n",
              " 'FTSE BIVA Real Time Total Return',\n",
              " 'FTSE Mexico',\n",
              " 'Mexico 50',\n",
              " 'S&P/BMV BMBra 15',\n",
              " 'S&P/BMV BMBra 15 RT',\n",
              " 'S&P/BMV-SRVCM RT',\n",
              " 'S&P/BMV DDBOL',\n",
              " 'S&P/BMV IRT',\n",
              " 'S&P/BMV-MAT RT',\n",
              " 'S&P/BMV-TRANS RT',\n",
              " 'S&P/BMV-ENL RT',\n",
              " 'S&P/BMV-INDU RT',\n",
              " 'S&P/BMV-MAT',\n",
              " 'S&P/BMV-INDU',\n",
              " 'S&P/BMV HABITA',\n",
              " 'S&P/BMV SALUD',\n",
              " 'S&P/BMV SERVS FINAN',\n",
              " 'S&P/BMV PROD CONS FREC',\n",
              " 'S&P/BMV SRVS CONS NO BCO',\n",
              " 'FTSE BIVA Real Time Price',\n",
              " 'S&P/BMV-SRVCM',\n",
              " 'S&P/BMV IPC CompMx',\n",
              " 'S&P/BMV IMC30',\n",
              " 'S&P/BMV-CONST RT',\n",
              " 'S&P/BMV-ICF RT',\n",
              " 'S&P/BMV-SERV RT',\n",
              " 'S&P/BMV-FINAN RT',\n",
              " 'S&P/BMV HABITA RT',\n",
              " 'S&P/BMV IPC',\n",
              " 'S&P/BMV TELECOM',\n",
              " 'S&P/BMV INMEX',\n",
              " 'S&P/BMV IPC MidCap',\n",
              " 'S&P/BMV IPC LargeCap',\n",
              " 'S&P/BMV DIBOL',\n",
              " 'S&P/BMV IPC SUSTENTABLE',\n",
              " 'S&P/BMV IPC SmallCap']"
            ]
          },
          "metadata": {},
          "execution_count": 138
        }
      ]
    },
    {
      "cell_type": "code",
      "metadata": {
        "id": "aWEMdeslFngE",
        "colab": {
          "base_uri": "https://localhost:8080/"
        },
        "outputId": "dc5f5823-8431-45b0-be4a-43ff972986e6"
      },
      "source": [
        "data2=inv.get_index_recent_data(\"S&P/BMV IPC\",country=\"Mexico\")\n",
        "Mexico=data2[[\"Close\",\"Open\"]].tail()\n",
        "print(Mexico)"
      ],
      "execution_count": 139,
      "outputs": [
        {
          "output_type": "stream",
          "name": "stdout",
          "text": [
            "               Close      Open\n",
            "Date                          \n",
            "2021-12-27  53259.56  52853.66\n",
            "2021-12-28  53238.48  53201.69\n",
            "2021-12-29  52748.93  53223.76\n",
            "2021-12-30  53175.25  52809.78\n",
            "2021-12-31  53272.44  53099.77\n"
          ]
        }
      ]
    },
    {
      "cell_type": "code",
      "metadata": {
        "id": "KO_dMz3DGB2h"
      },
      "source": [
        "## No es necesario\n",
        "## Historica_data2 =inv.get_index_historical_data(\"COLCAP\",country=\"Colombia\",from_date=\"05/09/2021\",to_date=\"10/09/2021\")\n",
        "## print(Historica_data2)"
      ],
      "execution_count": 140,
      "outputs": []
    },
    {
      "cell_type": "markdown",
      "metadata": {
        "id": "XLqQ8FD_GMfr"
      },
      "source": [
        "**Chile**"
      ]
    },
    {
      "cell_type": "code",
      "metadata": {
        "id": "0cl_uW4kGPYe",
        "colab": {
          "base_uri": "https://localhost:8080/"
        },
        "outputId": "ac9d0909-2e17-486d-c6b1-35c5795cb8d9"
      },
      "source": [
        "inv.get_indices_list(\"chile\")"
      ],
      "execution_count": 141,
      "outputs": [
        {
          "output_type": "execute_result",
          "data": {
            "text/plain": [
              "['BNY Mellon Chile ADR TR',\n",
              " 'Inter 10',\n",
              " 'FTSE Chile',\n",
              " 'S&P CLX IPSA',\n",
              " 'BNY Mellon Chile ADR',\n",
              " 'S&P CLX IGPA',\n",
              " 'DJ Chile',\n",
              " 'MSCI Chile Net USD',\n",
              " 'MSCI Chile',\n",
              " 'DJ Chile USD']"
            ]
          },
          "metadata": {},
          "execution_count": 141
        }
      ]
    },
    {
      "cell_type": "code",
      "metadata": {
        "id": "L6fyDg-YGV1F",
        "colab": {
          "base_uri": "https://localhost:8080/"
        },
        "outputId": "fd35e0f0-61a9-493b-f181-a4bdfb8e2241"
      },
      "source": [
        "data3=inv.get_index_recent_data(\"S&P CLX IPSA \",country=\"chile\")\n",
        "Chile=data3[[\"Close\",\"Open\"]].tail()\n",
        "print(Chile)"
      ],
      "execution_count": 142,
      "outputs": [
        {
          "output_type": "stream",
          "name": "stdout",
          "text": [
            "              Close     Open\n",
            "Date                        \n",
            "2021-12-24  4297.86  4241.63\n",
            "2021-12-27  4281.89  4299.09\n",
            "2021-12-28  4269.37  4281.89\n",
            "2021-12-29  4250.29  4269.37\n",
            "2021-12-30  4300.12  4250.29\n"
          ]
        }
      ]
    },
    {
      "cell_type": "code",
      "metadata": {
        "id": "iuTk1gU9GltO"
      },
      "source": [
        "# No es necesario\n",
        "## Historica_data3 =inv.get_index_historical_data(\"COLCAP\",country=\"Colombia\",from_date=\"05/09/2021\",to_date=\"10/09/2021\")\n",
        "## print(Historica_data3)"
      ],
      "execution_count": 143,
      "outputs": []
    },
    {
      "cell_type": "markdown",
      "metadata": {
        "id": "9xF7odN1ENHE"
      },
      "source": [
        "**Colombia**"
      ]
    },
    {
      "cell_type": "code",
      "metadata": {
        "id": "JQqp994Q0iHw",
        "colab": {
          "base_uri": "https://localhost:8080/"
        },
        "outputId": "71551d88-293d-44f0-8830-710c9db14e35"
      },
      "source": [
        "inv.get_indices_list(\"Colombia\")"
      ],
      "execution_count": 144,
      "outputs": [
        {
          "output_type": "execute_result",
          "data": {
            "text/plain": [
              "['FTSE Colombia',\n",
              " 'COLEQTY',\n",
              " 'COLSC',\n",
              " 'COL20',\n",
              " 'COLIR',\n",
              " 'COL General',\n",
              " 'COL Financial',\n",
              " 'COL Public Services',\n",
              " 'Investment',\n",
              " 'COL Industrial',\n",
              " 'COLCAP',\n",
              " 'MSCI Colombia',\n",
              " 'COL Services']"
            ]
          },
          "metadata": {},
          "execution_count": 144
        }
      ]
    },
    {
      "cell_type": "code",
      "source": [
        "data4=inv.get_index_recent_data(\"COLCAP\",country=\"Colombia\")\n",
        "Colombia=data4[[\"Close\",\"Open\"]].tail()\n",
        "print(Colombia)"
      ],
      "metadata": {
        "id": "gpwWmhHgHhqF",
        "colab": {
          "base_uri": "https://localhost:8080/"
        },
        "outputId": "27e8da0d-2df9-4182-b830-a4fdfc173aa0"
      },
      "execution_count": 145,
      "outputs": [
        {
          "output_type": "stream",
          "name": "stdout",
          "text": [
            "              Close     Open\n",
            "Date                        \n",
            "2021-12-24  1401.66  1394.59\n",
            "2021-12-27  1404.62  1401.66\n",
            "2021-12-28  1408.20  1404.58\n",
            "2021-12-29  1415.79  1408.20\n",
            "2021-12-30  1410.97  1415.79\n"
          ]
        }
      ]
    },
    {
      "cell_type": "code",
      "metadata": {
        "id": "UmPjy5e84w6Y"
      },
      "source": [
        "# No es necesario\n",
        "## Historica_data =inv.get_index_historical_data(\"COLCAP\",country=\"Colombia\",from_date=\"05/09/2021\",to_date=\"10/09/2021\")\n",
        "## print(Historica_data)"
      ],
      "execution_count": 146,
      "outputs": []
    },
    {
      "cell_type": "markdown",
      "metadata": {
        "id": "TfHT9MJ0Fk0x"
      },
      "source": [
        "**Materia Primas**"
      ]
    },
    {
      "cell_type": "markdown",
      "metadata": {
        "id": "ZaAJ2gQfGq2g"
      },
      "source": [
        "**Petroleo brent**"
      ]
    },
    {
      "cell_type": "code",
      "metadata": {
        "id": "bSm2XgfWFrfV",
        "colab": {
          "base_uri": "https://localhost:8080/",
          "height": 363
        },
        "outputId": "fc33c99b-e14e-41ec-cd55-5e3e1da111bc"
      },
      "source": [
        "inv.get_commodities(group=\"energy\")"
      ],
      "execution_count": 147,
      "outputs": [
        {
          "output_type": "execute_result",
          "data": {
            "text/html": [
              "\n",
              "  <div id=\"df-5a34e8e9-ce31-4b5e-82f2-4c749e4498fa\">\n",
              "    <div class=\"colab-df-container\">\n",
              "      <div>\n",
              "<style scoped>\n",
              "    .dataframe tbody tr th:only-of-type {\n",
              "        vertical-align: middle;\n",
              "    }\n",
              "\n",
              "    .dataframe tbody tr th {\n",
              "        vertical-align: top;\n",
              "    }\n",
              "\n",
              "    .dataframe thead th {\n",
              "        text-align: right;\n",
              "    }\n",
              "</style>\n",
              "<table border=\"1\" class=\"dataframe\">\n",
              "  <thead>\n",
              "    <tr style=\"text-align: right;\">\n",
              "      <th></th>\n",
              "      <th>title</th>\n",
              "      <th>country</th>\n",
              "      <th>name</th>\n",
              "      <th>full_name</th>\n",
              "      <th>currency</th>\n",
              "      <th>group</th>\n",
              "    </tr>\n",
              "  </thead>\n",
              "  <tbody>\n",
              "    <tr>\n",
              "      <th>0</th>\n",
              "      <td>Real Time Streaming Futures Quotes</td>\n",
              "      <td>united kingdom</td>\n",
              "      <td>Brent Oil</td>\n",
              "      <td>Brent Oil Futures</td>\n",
              "      <td>USD</td>\n",
              "      <td>energy</td>\n",
              "    </tr>\n",
              "    <tr>\n",
              "      <th>1</th>\n",
              "      <td>Real Time Streaming Futures Quotes</td>\n",
              "      <td>united states</td>\n",
              "      <td>Crude Oil WTI</td>\n",
              "      <td>Crude Oil WTI Futures</td>\n",
              "      <td>USD</td>\n",
              "      <td>energy</td>\n",
              "    </tr>\n",
              "    <tr>\n",
              "      <th>2</th>\n",
              "      <td>Real Time Streaming Futures Quotes</td>\n",
              "      <td>united kingdom</td>\n",
              "      <td>London Gas Oil</td>\n",
              "      <td>London Gas Oil Futures</td>\n",
              "      <td>USD</td>\n",
              "      <td>energy</td>\n",
              "    </tr>\n",
              "    <tr>\n",
              "      <th>3</th>\n",
              "      <td>Real Time Streaming Futures Quotes</td>\n",
              "      <td>united states</td>\n",
              "      <td>Natural Gas</td>\n",
              "      <td>Natural Gas Futures</td>\n",
              "      <td>USD</td>\n",
              "      <td>energy</td>\n",
              "    </tr>\n",
              "    <tr>\n",
              "      <th>4</th>\n",
              "      <td>Real Time Streaming Futures Quotes</td>\n",
              "      <td>united states</td>\n",
              "      <td>Heating Oil</td>\n",
              "      <td>Heating Oil Futures</td>\n",
              "      <td>USD</td>\n",
              "      <td>energy</td>\n",
              "    </tr>\n",
              "    <tr>\n",
              "      <th>5</th>\n",
              "      <td>Real Time Streaming Futures Quotes</td>\n",
              "      <td>united kingdom</td>\n",
              "      <td>Carbon Emissions</td>\n",
              "      <td>Carbon Emissions Futures</td>\n",
              "      <td>EUR</td>\n",
              "      <td>energy</td>\n",
              "    </tr>\n",
              "    <tr>\n",
              "      <th>6</th>\n",
              "      <td>Real Time Streaming Futures Quotes</td>\n",
              "      <td>united states</td>\n",
              "      <td>Gasoline RBOB</td>\n",
              "      <td>Gasoline RBOB Futures</td>\n",
              "      <td>USD</td>\n",
              "      <td>energy</td>\n",
              "    </tr>\n",
              "    <tr>\n",
              "      <th>7</th>\n",
              "      <td>MCX Futures Market Quotes</td>\n",
              "      <td>india</td>\n",
              "      <td>MCX Brent Oil</td>\n",
              "      <td>Brent Oil Futures</td>\n",
              "      <td>INR</td>\n",
              "      <td>energy</td>\n",
              "    </tr>\n",
              "    <tr>\n",
              "      <th>8</th>\n",
              "      <td>MCX Futures Market Quotes</td>\n",
              "      <td>india</td>\n",
              "      <td>MCX Crude Oil WTI</td>\n",
              "      <td>Crude Oil WTI Futures</td>\n",
              "      <td>INR</td>\n",
              "      <td>energy</td>\n",
              "    </tr>\n",
              "    <tr>\n",
              "      <th>9</th>\n",
              "      <td>MCX Futures Market Quotes</td>\n",
              "      <td>india</td>\n",
              "      <td>MCX Natural Gas</td>\n",
              "      <td>Natural Gas Futures</td>\n",
              "      <td>INR</td>\n",
              "      <td>energy</td>\n",
              "    </tr>\n",
              "  </tbody>\n",
              "</table>\n",
              "</div>\n",
              "      <button class=\"colab-df-convert\" onclick=\"convertToInteractive('df-5a34e8e9-ce31-4b5e-82f2-4c749e4498fa')\"\n",
              "              title=\"Convert this dataframe to an interactive table.\"\n",
              "              style=\"display:none;\">\n",
              "        \n",
              "  <svg xmlns=\"http://www.w3.org/2000/svg\" height=\"24px\"viewBox=\"0 0 24 24\"\n",
              "       width=\"24px\">\n",
              "    <path d=\"M0 0h24v24H0V0z\" fill=\"none\"/>\n",
              "    <path d=\"M18.56 5.44l.94 2.06.94-2.06 2.06-.94-2.06-.94-.94-2.06-.94 2.06-2.06.94zm-11 1L8.5 8.5l.94-2.06 2.06-.94-2.06-.94L8.5 2.5l-.94 2.06-2.06.94zm10 10l.94 2.06.94-2.06 2.06-.94-2.06-.94-.94-2.06-.94 2.06-2.06.94z\"/><path d=\"M17.41 7.96l-1.37-1.37c-.4-.4-.92-.59-1.43-.59-.52 0-1.04.2-1.43.59L10.3 9.45l-7.72 7.72c-.78.78-.78 2.05 0 2.83L4 21.41c.39.39.9.59 1.41.59.51 0 1.02-.2 1.41-.59l7.78-7.78 2.81-2.81c.8-.78.8-2.07 0-2.86zM5.41 20L4 18.59l7.72-7.72 1.47 1.35L5.41 20z\"/>\n",
              "  </svg>\n",
              "      </button>\n",
              "      \n",
              "  <style>\n",
              "    .colab-df-container {\n",
              "      display:flex;\n",
              "      flex-wrap:wrap;\n",
              "      gap: 12px;\n",
              "    }\n",
              "\n",
              "    .colab-df-convert {\n",
              "      background-color: #E8F0FE;\n",
              "      border: none;\n",
              "      border-radius: 50%;\n",
              "      cursor: pointer;\n",
              "      display: none;\n",
              "      fill: #1967D2;\n",
              "      height: 32px;\n",
              "      padding: 0 0 0 0;\n",
              "      width: 32px;\n",
              "    }\n",
              "\n",
              "    .colab-df-convert:hover {\n",
              "      background-color: #E2EBFA;\n",
              "      box-shadow: 0px 1px 2px rgba(60, 64, 67, 0.3), 0px 1px 3px 1px rgba(60, 64, 67, 0.15);\n",
              "      fill: #174EA6;\n",
              "    }\n",
              "\n",
              "    [theme=dark] .colab-df-convert {\n",
              "      background-color: #3B4455;\n",
              "      fill: #D2E3FC;\n",
              "    }\n",
              "\n",
              "    [theme=dark] .colab-df-convert:hover {\n",
              "      background-color: #434B5C;\n",
              "      box-shadow: 0px 1px 3px 1px rgba(0, 0, 0, 0.15);\n",
              "      filter: drop-shadow(0px 1px 2px rgba(0, 0, 0, 0.3));\n",
              "      fill: #FFFFFF;\n",
              "    }\n",
              "  </style>\n",
              "\n",
              "      <script>\n",
              "        const buttonEl =\n",
              "          document.querySelector('#df-5a34e8e9-ce31-4b5e-82f2-4c749e4498fa button.colab-df-convert');\n",
              "        buttonEl.style.display =\n",
              "          google.colab.kernel.accessAllowed ? 'block' : 'none';\n",
              "\n",
              "        async function convertToInteractive(key) {\n",
              "          const element = document.querySelector('#df-5a34e8e9-ce31-4b5e-82f2-4c749e4498fa');\n",
              "          const dataTable =\n",
              "            await google.colab.kernel.invokeFunction('convertToInteractive',\n",
              "                                                     [key], {});\n",
              "          if (!dataTable) return;\n",
              "\n",
              "          const docLinkHtml = 'Like what you see? Visit the ' +\n",
              "            '<a target=\"_blank\" href=https://colab.research.google.com/notebooks/data_table.ipynb>data table notebook</a>'\n",
              "            + ' to learn more about interactive tables.';\n",
              "          element.innerHTML = '';\n",
              "          dataTable['output_type'] = 'display_data';\n",
              "          await google.colab.output.renderOutput(dataTable, element);\n",
              "          const docLink = document.createElement('div');\n",
              "          docLink.innerHTML = docLinkHtml;\n",
              "          element.appendChild(docLink);\n",
              "        }\n",
              "      </script>\n",
              "    </div>\n",
              "  </div>\n",
              "  "
            ],
            "text/plain": [
              "                                title         country  ... currency   group\n",
              "0  Real Time Streaming Futures Quotes  united kingdom  ...      USD  energy\n",
              "1  Real Time Streaming Futures Quotes   united states  ...      USD  energy\n",
              "2  Real Time Streaming Futures Quotes  united kingdom  ...      USD  energy\n",
              "3  Real Time Streaming Futures Quotes   united states  ...      USD  energy\n",
              "4  Real Time Streaming Futures Quotes   united states  ...      USD  energy\n",
              "5  Real Time Streaming Futures Quotes  united kingdom  ...      EUR  energy\n",
              "6  Real Time Streaming Futures Quotes   united states  ...      USD  energy\n",
              "7           MCX Futures Market Quotes           india  ...      INR  energy\n",
              "8           MCX Futures Market Quotes           india  ...      INR  energy\n",
              "9           MCX Futures Market Quotes           india  ...      INR  energy\n",
              "\n",
              "[10 rows x 6 columns]"
            ]
          },
          "metadata": {},
          "execution_count": 147
        }
      ]
    },
    {
      "cell_type": "code",
      "metadata": {
        "id": "c--CN3WAG9p3",
        "colab": {
          "base_uri": "https://localhost:8080/"
        },
        "outputId": "8c4c22c2-92df-49f6-ea1a-14a6a65fced4"
      },
      "source": [
        "brent=inv.get_commodity_recent_data(\"Brent Oil\",country=\"united kingdom\")\n",
        "brent10=brent[[\"Close\",\"Open\"]].tail()\n",
        "print(brent10)"
      ],
      "execution_count": 148,
      "outputs": [
        {
          "output_type": "stream",
          "name": "stdout",
          "text": [
            "            Close   Open\n",
            "Date                    \n",
            "2021-12-28  78.94  78.67\n",
            "2021-12-29  79.23  79.28\n",
            "2021-12-30  79.32  79.19\n",
            "2021-12-31  77.78  78.81\n",
            "2022-01-02  78.41  78.17\n"
          ]
        }
      ]
    },
    {
      "cell_type": "markdown",
      "metadata": {
        "id": "yrvoK7DjGunG"
      },
      "source": [
        "**Petroleo WTI**"
      ]
    },
    {
      "cell_type": "code",
      "metadata": {
        "id": "6kNi6d5nG0PW",
        "colab": {
          "base_uri": "https://localhost:8080/"
        },
        "outputId": "de5c8264-1720-465a-c5a4-3a7c86aadd2e"
      },
      "source": [
        "WTI=inv.get_commodity_recent_data(\"Crude Oil WTI\",country=\"united states\")\n",
        "WTI10=WTI[[\"Close\",\"Open\"]].tail()\n",
        "print(WTI10)"
      ],
      "execution_count": 149,
      "outputs": [
        {
          "output_type": "stream",
          "name": "stdout",
          "text": [
            "            Close   Open\n",
            "Date                    \n",
            "2021-12-28  75.98  75.97\n",
            "2021-12-29  76.56  76.04\n",
            "2021-12-30  76.99  76.58\n",
            "2021-12-31  75.21  76.66\n",
            "2022-01-02  75.83  75.62\n"
          ]
        }
      ]
    },
    {
      "cell_type": "markdown",
      "metadata": {
        "id": "K6ZObKHYH-Nf"
      },
      "source": [
        "**Oro**"
      ]
    },
    {
      "cell_type": "code",
      "metadata": {
        "id": "zScHHevlNP4e",
        "colab": {
          "base_uri": "https://localhost:8080/",
          "height": 990
        },
        "outputId": "f2f1f5b1-f80c-4b70-e542-934d1ab2c3a5"
      },
      "source": [
        "inv.get_commodities(group=\"metals\")"
      ],
      "execution_count": 150,
      "outputs": [
        {
          "output_type": "execute_result",
          "data": {
            "text/html": [
              "\n",
              "  <div id=\"df-663ea67e-6c0d-4e14-b8de-f0ee9a3bac1a\">\n",
              "    <div class=\"colab-df-container\">\n",
              "      <div>\n",
              "<style scoped>\n",
              "    .dataframe tbody tr th:only-of-type {\n",
              "        vertical-align: middle;\n",
              "    }\n",
              "\n",
              "    .dataframe tbody tr th {\n",
              "        vertical-align: top;\n",
              "    }\n",
              "\n",
              "    .dataframe thead th {\n",
              "        text-align: right;\n",
              "    }\n",
              "</style>\n",
              "<table border=\"1\" class=\"dataframe\">\n",
              "  <thead>\n",
              "    <tr style=\"text-align: right;\">\n",
              "      <th></th>\n",
              "      <th>title</th>\n",
              "      <th>country</th>\n",
              "      <th>name</th>\n",
              "      <th>full_name</th>\n",
              "      <th>currency</th>\n",
              "      <th>group</th>\n",
              "    </tr>\n",
              "  </thead>\n",
              "  <tbody>\n",
              "    <tr>\n",
              "      <th>0</th>\n",
              "      <td>Real Time Streaming Futures Quotes</td>\n",
              "      <td></td>\n",
              "      <td>Gold</td>\n",
              "      <td>Gold Futures</td>\n",
              "      <td>USD</td>\n",
              "      <td>metals</td>\n",
              "    </tr>\n",
              "    <tr>\n",
              "      <th>1</th>\n",
              "      <td>Real Time Streaming Futures Quotes</td>\n",
              "      <td>united states</td>\n",
              "      <td>Copper</td>\n",
              "      <td>Copper Futures</td>\n",
              "      <td>USD</td>\n",
              "      <td>metals</td>\n",
              "    </tr>\n",
              "    <tr>\n",
              "      <th>2</th>\n",
              "      <td>Real Time Streaming Futures Quotes</td>\n",
              "      <td></td>\n",
              "      <td>Silver</td>\n",
              "      <td>Silver Futures</td>\n",
              "      <td>USD</td>\n",
              "      <td>metals</td>\n",
              "    </tr>\n",
              "    <tr>\n",
              "      <th>3</th>\n",
              "      <td>Real Time Streaming Futures Quotes</td>\n",
              "      <td>united states</td>\n",
              "      <td>Palladium</td>\n",
              "      <td>Palladium Futures</td>\n",
              "      <td>USD</td>\n",
              "      <td>metals</td>\n",
              "    </tr>\n",
              "    <tr>\n",
              "      <th>4</th>\n",
              "      <td>Real Time Streaming Futures Quotes</td>\n",
              "      <td>united states</td>\n",
              "      <td>Platinum</td>\n",
              "      <td>Platinum Futures</td>\n",
              "      <td>USD</td>\n",
              "      <td>metals</td>\n",
              "    </tr>\n",
              "    <tr>\n",
              "      <th>5</th>\n",
              "      <td>Real Time Streaming Futures Quotes</td>\n",
              "      <td>united kingdom</td>\n",
              "      <td>Aluminum</td>\n",
              "      <td>Aluminum Futures</td>\n",
              "      <td>USD</td>\n",
              "      <td>metals</td>\n",
              "    </tr>\n",
              "    <tr>\n",
              "      <th>6</th>\n",
              "      <td>Real Time Streaming Futures Quotes</td>\n",
              "      <td>united kingdom</td>\n",
              "      <td>Zinc</td>\n",
              "      <td>Zinc Futures</td>\n",
              "      <td>USD</td>\n",
              "      <td>metals</td>\n",
              "    </tr>\n",
              "    <tr>\n",
              "      <th>7</th>\n",
              "      <td>Real Time Streaming Futures Quotes</td>\n",
              "      <td>united kingdom</td>\n",
              "      <td>Lead</td>\n",
              "      <td>Lead Futures</td>\n",
              "      <td>USD</td>\n",
              "      <td>metals</td>\n",
              "    </tr>\n",
              "    <tr>\n",
              "      <th>8</th>\n",
              "      <td>Real Time Streaming Futures Quotes</td>\n",
              "      <td>united kingdom</td>\n",
              "      <td>Nickel</td>\n",
              "      <td>Nickel Futures</td>\n",
              "      <td>USD</td>\n",
              "      <td>metals</td>\n",
              "    </tr>\n",
              "    <tr>\n",
              "      <th>9</th>\n",
              "      <td>Real Time Streaming Futures Quotes</td>\n",
              "      <td>united kingdom</td>\n",
              "      <td>Tin</td>\n",
              "      <td>Tin Futures</td>\n",
              "      <td>USD</td>\n",
              "      <td>metals</td>\n",
              "    </tr>\n",
              "    <tr>\n",
              "      <th>10</th>\n",
              "      <td>Real Time Streaming Futures Quotes</td>\n",
              "      <td>united kingdom</td>\n",
              "      <td>Copper</td>\n",
              "      <td>Copper Futures</td>\n",
              "      <td>USD</td>\n",
              "      <td>metals</td>\n",
              "    </tr>\n",
              "    <tr>\n",
              "      <th>11</th>\n",
              "      <td>EUREX Futures Market Quotes</td>\n",
              "      <td>euro zone</td>\n",
              "      <td>Xetra-Gold</td>\n",
              "      <td>Xetra-Gold Futures</td>\n",
              "      <td>EUR</td>\n",
              "      <td>metals</td>\n",
              "    </tr>\n",
              "    <tr>\n",
              "      <th>12</th>\n",
              "      <td>MCX Futures Market Quotes</td>\n",
              "      <td>india</td>\n",
              "      <td>MCX Aluminum Mini</td>\n",
              "      <td>Aluminum Mini Futures</td>\n",
              "      <td>INR</td>\n",
              "      <td>metals</td>\n",
              "    </tr>\n",
              "    <tr>\n",
              "      <th>13</th>\n",
              "      <td>MCX Futures Market Quotes</td>\n",
              "      <td>india</td>\n",
              "      <td>MCX Aluminum</td>\n",
              "      <td>Aluminum Futures</td>\n",
              "      <td>INR</td>\n",
              "      <td>metals</td>\n",
              "    </tr>\n",
              "    <tr>\n",
              "      <th>14</th>\n",
              "      <td>MCX Futures Market Quotes</td>\n",
              "      <td>india</td>\n",
              "      <td>MCX Copper</td>\n",
              "      <td>Copper Futures</td>\n",
              "      <td>INR</td>\n",
              "      <td>metals</td>\n",
              "    </tr>\n",
              "    <tr>\n",
              "      <th>15</th>\n",
              "      <td>MCX Futures Market Quotes</td>\n",
              "      <td>india</td>\n",
              "      <td>MCX Copper Mini</td>\n",
              "      <td>Copper Mini Futures</td>\n",
              "      <td>INR</td>\n",
              "      <td>metals</td>\n",
              "    </tr>\n",
              "    <tr>\n",
              "      <th>16</th>\n",
              "      <td>MCX Futures Market Quotes</td>\n",
              "      <td>india</td>\n",
              "      <td>MCX Gold 1 Kg</td>\n",
              "      <td>Gold 1 Kg</td>\n",
              "      <td>INR</td>\n",
              "      <td>metals</td>\n",
              "    </tr>\n",
              "    <tr>\n",
              "      <th>17</th>\n",
              "      <td>MCX Futures Market Quotes</td>\n",
              "      <td>india</td>\n",
              "      <td>MCX Gold Guinea</td>\n",
              "      <td>Gold Guinea Futures</td>\n",
              "      <td>INR</td>\n",
              "      <td>metals</td>\n",
              "    </tr>\n",
              "    <tr>\n",
              "      <th>18</th>\n",
              "      <td>MCX Futures Market Quotes</td>\n",
              "      <td>india</td>\n",
              "      <td>MCX Gold Mini</td>\n",
              "      <td>Gold Mini Futures</td>\n",
              "      <td>INR</td>\n",
              "      <td>metals</td>\n",
              "    </tr>\n",
              "    <tr>\n",
              "      <th>19</th>\n",
              "      <td>MCX Futures Market Quotes</td>\n",
              "      <td>india</td>\n",
              "      <td>MCX Gold Petal</td>\n",
              "      <td>Gold Petal Futures</td>\n",
              "      <td>INR</td>\n",
              "      <td>metals</td>\n",
              "    </tr>\n",
              "    <tr>\n",
              "      <th>20</th>\n",
              "      <td>MCX Futures Market Quotes</td>\n",
              "      <td>india</td>\n",
              "      <td>MCX Gold Petal Del</td>\n",
              "      <td>Gold Petal (New Delhi) Futures</td>\n",
              "      <td>INR</td>\n",
              "      <td>metals</td>\n",
              "    </tr>\n",
              "    <tr>\n",
              "      <th>21</th>\n",
              "      <td>MCX Futures Market Quotes</td>\n",
              "      <td>india</td>\n",
              "      <td>MCX Lead</td>\n",
              "      <td>Lead Futures</td>\n",
              "      <td>INR</td>\n",
              "      <td>metals</td>\n",
              "    </tr>\n",
              "    <tr>\n",
              "      <th>22</th>\n",
              "      <td>MCX Futures Market Quotes</td>\n",
              "      <td>india</td>\n",
              "      <td>MCX Lead Mini</td>\n",
              "      <td>Lead Mini Futures</td>\n",
              "      <td>INR</td>\n",
              "      <td>metals</td>\n",
              "    </tr>\n",
              "    <tr>\n",
              "      <th>23</th>\n",
              "      <td>MCX Futures Market Quotes</td>\n",
              "      <td>india</td>\n",
              "      <td>MCX Nickel</td>\n",
              "      <td>Nickel Futures</td>\n",
              "      <td>INR</td>\n",
              "      <td>metals</td>\n",
              "    </tr>\n",
              "    <tr>\n",
              "      <th>24</th>\n",
              "      <td>MCX Futures Market Quotes</td>\n",
              "      <td>india</td>\n",
              "      <td>MCX Nickel Mini</td>\n",
              "      <td>Nickel Mini Futures</td>\n",
              "      <td>INR</td>\n",
              "      <td>metals</td>\n",
              "    </tr>\n",
              "    <tr>\n",
              "      <th>25</th>\n",
              "      <td>MCX Futures Market Quotes</td>\n",
              "      <td>india</td>\n",
              "      <td>MCX Silver</td>\n",
              "      <td>Silver Futures</td>\n",
              "      <td>INR</td>\n",
              "      <td>metals</td>\n",
              "    </tr>\n",
              "    <tr>\n",
              "      <th>26</th>\n",
              "      <td>MCX Futures Market Quotes</td>\n",
              "      <td>india</td>\n",
              "      <td>MCX Silver Micro</td>\n",
              "      <td>Silver Micro Futures</td>\n",
              "      <td>INR</td>\n",
              "      <td>metals</td>\n",
              "    </tr>\n",
              "    <tr>\n",
              "      <th>27</th>\n",
              "      <td>MCX Futures Market Quotes</td>\n",
              "      <td>india</td>\n",
              "      <td>MCX Silver Mini</td>\n",
              "      <td>Silver Mini Futures</td>\n",
              "      <td>INR</td>\n",
              "      <td>metals</td>\n",
              "    </tr>\n",
              "    <tr>\n",
              "      <th>28</th>\n",
              "      <td>MCX Futures Market Quotes</td>\n",
              "      <td>india</td>\n",
              "      <td>MCX Zinc</td>\n",
              "      <td>Zinc Futures</td>\n",
              "      <td>INR</td>\n",
              "      <td>metals</td>\n",
              "    </tr>\n",
              "    <tr>\n",
              "      <th>29</th>\n",
              "      <td>MCX Futures Market Quotes</td>\n",
              "      <td>india</td>\n",
              "      <td>MCX Zinc Mini</td>\n",
              "      <td>Zinc Mini Futures</td>\n",
              "      <td>INR</td>\n",
              "      <td>metals</td>\n",
              "    </tr>\n",
              "  </tbody>\n",
              "</table>\n",
              "</div>\n",
              "      <button class=\"colab-df-convert\" onclick=\"convertToInteractive('df-663ea67e-6c0d-4e14-b8de-f0ee9a3bac1a')\"\n",
              "              title=\"Convert this dataframe to an interactive table.\"\n",
              "              style=\"display:none;\">\n",
              "        \n",
              "  <svg xmlns=\"http://www.w3.org/2000/svg\" height=\"24px\"viewBox=\"0 0 24 24\"\n",
              "       width=\"24px\">\n",
              "    <path d=\"M0 0h24v24H0V0z\" fill=\"none\"/>\n",
              "    <path d=\"M18.56 5.44l.94 2.06.94-2.06 2.06-.94-2.06-.94-.94-2.06-.94 2.06-2.06.94zm-11 1L8.5 8.5l.94-2.06 2.06-.94-2.06-.94L8.5 2.5l-.94 2.06-2.06.94zm10 10l.94 2.06.94-2.06 2.06-.94-2.06-.94-.94-2.06-.94 2.06-2.06.94z\"/><path d=\"M17.41 7.96l-1.37-1.37c-.4-.4-.92-.59-1.43-.59-.52 0-1.04.2-1.43.59L10.3 9.45l-7.72 7.72c-.78.78-.78 2.05 0 2.83L4 21.41c.39.39.9.59 1.41.59.51 0 1.02-.2 1.41-.59l7.78-7.78 2.81-2.81c.8-.78.8-2.07 0-2.86zM5.41 20L4 18.59l7.72-7.72 1.47 1.35L5.41 20z\"/>\n",
              "  </svg>\n",
              "      </button>\n",
              "      \n",
              "  <style>\n",
              "    .colab-df-container {\n",
              "      display:flex;\n",
              "      flex-wrap:wrap;\n",
              "      gap: 12px;\n",
              "    }\n",
              "\n",
              "    .colab-df-convert {\n",
              "      background-color: #E8F0FE;\n",
              "      border: none;\n",
              "      border-radius: 50%;\n",
              "      cursor: pointer;\n",
              "      display: none;\n",
              "      fill: #1967D2;\n",
              "      height: 32px;\n",
              "      padding: 0 0 0 0;\n",
              "      width: 32px;\n",
              "    }\n",
              "\n",
              "    .colab-df-convert:hover {\n",
              "      background-color: #E2EBFA;\n",
              "      box-shadow: 0px 1px 2px rgba(60, 64, 67, 0.3), 0px 1px 3px 1px rgba(60, 64, 67, 0.15);\n",
              "      fill: #174EA6;\n",
              "    }\n",
              "\n",
              "    [theme=dark] .colab-df-convert {\n",
              "      background-color: #3B4455;\n",
              "      fill: #D2E3FC;\n",
              "    }\n",
              "\n",
              "    [theme=dark] .colab-df-convert:hover {\n",
              "      background-color: #434B5C;\n",
              "      box-shadow: 0px 1px 3px 1px rgba(0, 0, 0, 0.15);\n",
              "      filter: drop-shadow(0px 1px 2px rgba(0, 0, 0, 0.3));\n",
              "      fill: #FFFFFF;\n",
              "    }\n",
              "  </style>\n",
              "\n",
              "      <script>\n",
              "        const buttonEl =\n",
              "          document.querySelector('#df-663ea67e-6c0d-4e14-b8de-f0ee9a3bac1a button.colab-df-convert');\n",
              "        buttonEl.style.display =\n",
              "          google.colab.kernel.accessAllowed ? 'block' : 'none';\n",
              "\n",
              "        async function convertToInteractive(key) {\n",
              "          const element = document.querySelector('#df-663ea67e-6c0d-4e14-b8de-f0ee9a3bac1a');\n",
              "          const dataTable =\n",
              "            await google.colab.kernel.invokeFunction('convertToInteractive',\n",
              "                                                     [key], {});\n",
              "          if (!dataTable) return;\n",
              "\n",
              "          const docLinkHtml = 'Like what you see? Visit the ' +\n",
              "            '<a target=\"_blank\" href=https://colab.research.google.com/notebooks/data_table.ipynb>data table notebook</a>'\n",
              "            + ' to learn more about interactive tables.';\n",
              "          element.innerHTML = '';\n",
              "          dataTable['output_type'] = 'display_data';\n",
              "          await google.colab.output.renderOutput(dataTable, element);\n",
              "          const docLink = document.createElement('div');\n",
              "          docLink.innerHTML = docLinkHtml;\n",
              "          element.appendChild(docLink);\n",
              "        }\n",
              "      </script>\n",
              "    </div>\n",
              "  </div>\n",
              "  "
            ],
            "text/plain": [
              "                                 title         country  ... currency   group\n",
              "0   Real Time Streaming Futures Quotes                  ...      USD  metals\n",
              "1   Real Time Streaming Futures Quotes   united states  ...      USD  metals\n",
              "2   Real Time Streaming Futures Quotes                  ...      USD  metals\n",
              "3   Real Time Streaming Futures Quotes   united states  ...      USD  metals\n",
              "4   Real Time Streaming Futures Quotes   united states  ...      USD  metals\n",
              "5   Real Time Streaming Futures Quotes  united kingdom  ...      USD  metals\n",
              "6   Real Time Streaming Futures Quotes  united kingdom  ...      USD  metals\n",
              "7   Real Time Streaming Futures Quotes  united kingdom  ...      USD  metals\n",
              "8   Real Time Streaming Futures Quotes  united kingdom  ...      USD  metals\n",
              "9   Real Time Streaming Futures Quotes  united kingdom  ...      USD  metals\n",
              "10  Real Time Streaming Futures Quotes  united kingdom  ...      USD  metals\n",
              "11         EUREX Futures Market Quotes       euro zone  ...      EUR  metals\n",
              "12           MCX Futures Market Quotes           india  ...      INR  metals\n",
              "13           MCX Futures Market Quotes           india  ...      INR  metals\n",
              "14           MCX Futures Market Quotes           india  ...      INR  metals\n",
              "15           MCX Futures Market Quotes           india  ...      INR  metals\n",
              "16           MCX Futures Market Quotes           india  ...      INR  metals\n",
              "17           MCX Futures Market Quotes           india  ...      INR  metals\n",
              "18           MCX Futures Market Quotes           india  ...      INR  metals\n",
              "19           MCX Futures Market Quotes           india  ...      INR  metals\n",
              "20           MCX Futures Market Quotes           india  ...      INR  metals\n",
              "21           MCX Futures Market Quotes           india  ...      INR  metals\n",
              "22           MCX Futures Market Quotes           india  ...      INR  metals\n",
              "23           MCX Futures Market Quotes           india  ...      INR  metals\n",
              "24           MCX Futures Market Quotes           india  ...      INR  metals\n",
              "25           MCX Futures Market Quotes           india  ...      INR  metals\n",
              "26           MCX Futures Market Quotes           india  ...      INR  metals\n",
              "27           MCX Futures Market Quotes           india  ...      INR  metals\n",
              "28           MCX Futures Market Quotes           india  ...      INR  metals\n",
              "29           MCX Futures Market Quotes           india  ...      INR  metals\n",
              "\n",
              "[30 rows x 6 columns]"
            ]
          },
          "metadata": {},
          "execution_count": 150
        }
      ]
    },
    {
      "cell_type": "code",
      "metadata": {
        "id": "fA3vUDs9wMRE",
        "colab": {
          "base_uri": "https://localhost:8080/"
        },
        "outputId": "1636daef-6b5f-4dad-c678-8d0de7d55a98"
      },
      "source": [
        "Oro=inv.get_commodity_recent_data(\"gold\")\n",
        "Oro10=Oro[[\"Close\",\"Open\"]].tail()\n",
        "print(Oro10)"
      ],
      "execution_count": 151,
      "outputs": [
        {
          "output_type": "stream",
          "name": "stdout",
          "text": [
            "             Close     Open\n",
            "Date                       \n",
            "2021-12-28  1810.9  1812.10\n",
            "2021-12-29  1805.8  1806.60\n",
            "2021-12-30  1814.1  1805.60\n",
            "2021-12-31  1828.6  1817.00\n",
            "2022-01-02  1830.0  1830.15\n"
          ]
        }
      ]
    },
    {
      "cell_type": "markdown",
      "metadata": {
        "id": "iXzWdAMIIFuG"
      },
      "source": [
        "**Cobre**"
      ]
    },
    {
      "cell_type": "code",
      "metadata": {
        "id": "hZZWyqzzNQU3",
        "colab": {
          "base_uri": "https://localhost:8080/"
        },
        "outputId": "cecea657-0531-40b8-c1c5-ae7968b7b632"
      },
      "source": [
        "Cobre=inv.get_commodity_recent_data(\"copper\",country=\"united states\")\n",
        "Cobre10=Cobre[[\"Close\",\"Open\"]].tail()\n",
        "print(Cobre10)"
      ],
      "execution_count": 152,
      "outputs": [
        {
          "output_type": "stream",
          "name": "stdout",
          "text": [
            "             Close    Open\n",
            "Date                      \n",
            "2021-12-28  4.4200  4.4580\n",
            "2021-12-29  4.4020  4.4120\n",
            "2021-12-30  4.3925  4.4143\n",
            "2021-12-31  4.4595  4.3918\n",
            "2022-01-02  4.4582  4.4618\n"
          ]
        }
      ]
    },
    {
      "cell_type": "markdown",
      "metadata": {
        "id": "SlR69UDdIJI1"
      },
      "source": [
        "**Maiz**"
      ]
    },
    {
      "cell_type": "code",
      "metadata": {
        "id": "CDAqj7TXymFS",
        "colab": {
          "base_uri": "https://localhost:8080/",
          "height": 300
        },
        "outputId": "7d9ee51f-0e76-4108-e992-606db3807451"
      },
      "source": [
        "inv.get_commodities(group=\"grains\")"
      ],
      "execution_count": 153,
      "outputs": [
        {
          "output_type": "execute_result",
          "data": {
            "text/html": [
              "\n",
              "  <div id=\"df-405c151a-9132-4153-8994-45fd947ed055\">\n",
              "    <div class=\"colab-df-container\">\n",
              "      <div>\n",
              "<style scoped>\n",
              "    .dataframe tbody tr th:only-of-type {\n",
              "        vertical-align: middle;\n",
              "    }\n",
              "\n",
              "    .dataframe tbody tr th {\n",
              "        vertical-align: top;\n",
              "    }\n",
              "\n",
              "    .dataframe thead th {\n",
              "        text-align: right;\n",
              "    }\n",
              "</style>\n",
              "<table border=\"1\" class=\"dataframe\">\n",
              "  <thead>\n",
              "    <tr style=\"text-align: right;\">\n",
              "      <th></th>\n",
              "      <th>title</th>\n",
              "      <th>country</th>\n",
              "      <th>name</th>\n",
              "      <th>full_name</th>\n",
              "      <th>currency</th>\n",
              "      <th>group</th>\n",
              "    </tr>\n",
              "  </thead>\n",
              "  <tbody>\n",
              "    <tr>\n",
              "      <th>0</th>\n",
              "      <td>Real Time Streaming Futures Quotes</td>\n",
              "      <td>united kingdom</td>\n",
              "      <td>London Wheat</td>\n",
              "      <td>London Wheat Futures</td>\n",
              "      <td>GBP</td>\n",
              "      <td>grains</td>\n",
              "    </tr>\n",
              "    <tr>\n",
              "      <th>1</th>\n",
              "      <td>Real Time Streaming Futures Quotes</td>\n",
              "      <td>united states</td>\n",
              "      <td>Rough Rice</td>\n",
              "      <td>Rough Rice Futures</td>\n",
              "      <td>USD</td>\n",
              "      <td>grains</td>\n",
              "    </tr>\n",
              "    <tr>\n",
              "      <th>2</th>\n",
              "      <td>Real Time Streaming Futures Quotes</td>\n",
              "      <td>united states</td>\n",
              "      <td>US Soybean Oil</td>\n",
              "      <td>US Soybean Oil Futures</td>\n",
              "      <td>USD</td>\n",
              "      <td>grains</td>\n",
              "    </tr>\n",
              "    <tr>\n",
              "      <th>3</th>\n",
              "      <td>Real Time Streaming Futures Quotes</td>\n",
              "      <td>united states</td>\n",
              "      <td>US Soybean Meal</td>\n",
              "      <td>US Soybean Meal Futures</td>\n",
              "      <td>USD</td>\n",
              "      <td>grains</td>\n",
              "    </tr>\n",
              "    <tr>\n",
              "      <th>4</th>\n",
              "      <td>Real Time Streaming Futures Quotes</td>\n",
              "      <td>united states</td>\n",
              "      <td>US Soybeans</td>\n",
              "      <td>US Soybeans Futures</td>\n",
              "      <td>USD</td>\n",
              "      <td>grains</td>\n",
              "    </tr>\n",
              "    <tr>\n",
              "      <th>5</th>\n",
              "      <td>Real Time Streaming Futures Quotes</td>\n",
              "      <td>united states</td>\n",
              "      <td>US Wheat</td>\n",
              "      <td>US Wheat Futures</td>\n",
              "      <td>USD</td>\n",
              "      <td>grains</td>\n",
              "    </tr>\n",
              "    <tr>\n",
              "      <th>6</th>\n",
              "      <td>Real Time Streaming Futures Quotes</td>\n",
              "      <td>united states</td>\n",
              "      <td>US Corn</td>\n",
              "      <td>US Corn Futures</td>\n",
              "      <td>USD</td>\n",
              "      <td>grains</td>\n",
              "    </tr>\n",
              "    <tr>\n",
              "      <th>7</th>\n",
              "      <td>Real Time Streaming Futures Quotes</td>\n",
              "      <td>united states</td>\n",
              "      <td>Oats</td>\n",
              "      <td>Oats Futures</td>\n",
              "      <td>USD</td>\n",
              "      <td>grains</td>\n",
              "    </tr>\n",
              "  </tbody>\n",
              "</table>\n",
              "</div>\n",
              "      <button class=\"colab-df-convert\" onclick=\"convertToInteractive('df-405c151a-9132-4153-8994-45fd947ed055')\"\n",
              "              title=\"Convert this dataframe to an interactive table.\"\n",
              "              style=\"display:none;\">\n",
              "        \n",
              "  <svg xmlns=\"http://www.w3.org/2000/svg\" height=\"24px\"viewBox=\"0 0 24 24\"\n",
              "       width=\"24px\">\n",
              "    <path d=\"M0 0h24v24H0V0z\" fill=\"none\"/>\n",
              "    <path d=\"M18.56 5.44l.94 2.06.94-2.06 2.06-.94-2.06-.94-.94-2.06-.94 2.06-2.06.94zm-11 1L8.5 8.5l.94-2.06 2.06-.94-2.06-.94L8.5 2.5l-.94 2.06-2.06.94zm10 10l.94 2.06.94-2.06 2.06-.94-2.06-.94-.94-2.06-.94 2.06-2.06.94z\"/><path d=\"M17.41 7.96l-1.37-1.37c-.4-.4-.92-.59-1.43-.59-.52 0-1.04.2-1.43.59L10.3 9.45l-7.72 7.72c-.78.78-.78 2.05 0 2.83L4 21.41c.39.39.9.59 1.41.59.51 0 1.02-.2 1.41-.59l7.78-7.78 2.81-2.81c.8-.78.8-2.07 0-2.86zM5.41 20L4 18.59l7.72-7.72 1.47 1.35L5.41 20z\"/>\n",
              "  </svg>\n",
              "      </button>\n",
              "      \n",
              "  <style>\n",
              "    .colab-df-container {\n",
              "      display:flex;\n",
              "      flex-wrap:wrap;\n",
              "      gap: 12px;\n",
              "    }\n",
              "\n",
              "    .colab-df-convert {\n",
              "      background-color: #E8F0FE;\n",
              "      border: none;\n",
              "      border-radius: 50%;\n",
              "      cursor: pointer;\n",
              "      display: none;\n",
              "      fill: #1967D2;\n",
              "      height: 32px;\n",
              "      padding: 0 0 0 0;\n",
              "      width: 32px;\n",
              "    }\n",
              "\n",
              "    .colab-df-convert:hover {\n",
              "      background-color: #E2EBFA;\n",
              "      box-shadow: 0px 1px 2px rgba(60, 64, 67, 0.3), 0px 1px 3px 1px rgba(60, 64, 67, 0.15);\n",
              "      fill: #174EA6;\n",
              "    }\n",
              "\n",
              "    [theme=dark] .colab-df-convert {\n",
              "      background-color: #3B4455;\n",
              "      fill: #D2E3FC;\n",
              "    }\n",
              "\n",
              "    [theme=dark] .colab-df-convert:hover {\n",
              "      background-color: #434B5C;\n",
              "      box-shadow: 0px 1px 3px 1px rgba(0, 0, 0, 0.15);\n",
              "      filter: drop-shadow(0px 1px 2px rgba(0, 0, 0, 0.3));\n",
              "      fill: #FFFFFF;\n",
              "    }\n",
              "  </style>\n",
              "\n",
              "      <script>\n",
              "        const buttonEl =\n",
              "          document.querySelector('#df-405c151a-9132-4153-8994-45fd947ed055 button.colab-df-convert');\n",
              "        buttonEl.style.display =\n",
              "          google.colab.kernel.accessAllowed ? 'block' : 'none';\n",
              "\n",
              "        async function convertToInteractive(key) {\n",
              "          const element = document.querySelector('#df-405c151a-9132-4153-8994-45fd947ed055');\n",
              "          const dataTable =\n",
              "            await google.colab.kernel.invokeFunction('convertToInteractive',\n",
              "                                                     [key], {});\n",
              "          if (!dataTable) return;\n",
              "\n",
              "          const docLinkHtml = 'Like what you see? Visit the ' +\n",
              "            '<a target=\"_blank\" href=https://colab.research.google.com/notebooks/data_table.ipynb>data table notebook</a>'\n",
              "            + ' to learn more about interactive tables.';\n",
              "          element.innerHTML = '';\n",
              "          dataTable['output_type'] = 'display_data';\n",
              "          await google.colab.output.renderOutput(dataTable, element);\n",
              "          const docLink = document.createElement('div');\n",
              "          docLink.innerHTML = docLinkHtml;\n",
              "          element.appendChild(docLink);\n",
              "        }\n",
              "      </script>\n",
              "    </div>\n",
              "  </div>\n",
              "  "
            ],
            "text/plain": [
              "                                title         country  ... currency   group\n",
              "0  Real Time Streaming Futures Quotes  united kingdom  ...      GBP  grains\n",
              "1  Real Time Streaming Futures Quotes   united states  ...      USD  grains\n",
              "2  Real Time Streaming Futures Quotes   united states  ...      USD  grains\n",
              "3  Real Time Streaming Futures Quotes   united states  ...      USD  grains\n",
              "4  Real Time Streaming Futures Quotes   united states  ...      USD  grains\n",
              "5  Real Time Streaming Futures Quotes   united states  ...      USD  grains\n",
              "6  Real Time Streaming Futures Quotes   united states  ...      USD  grains\n",
              "7  Real Time Streaming Futures Quotes   united states  ...      USD  grains\n",
              "\n",
              "[8 rows x 6 columns]"
            ]
          },
          "metadata": {},
          "execution_count": 153
        }
      ]
    },
    {
      "cell_type": "code",
      "metadata": {
        "id": "GkxUAABdNQz5",
        "colab": {
          "base_uri": "https://localhost:8080/"
        },
        "outputId": "59fc9208-9639-46c0-a2f0-9c70f1ff0172"
      },
      "source": [
        "Maiz=inv.get_commodity_recent_data(\"US Corn\",country=\"united states\")\n",
        "Maiz10=Maiz[[\"Close\",\"Open\"]].tail()\n",
        "print(Maiz10)"
      ],
      "execution_count": 154,
      "outputs": [
        {
          "output_type": "stream",
          "name": "stdout",
          "text": [
            "             Close    Open\n",
            "Date                      \n",
            "2021-12-27  614.75  608.25\n",
            "2021-12-28  604.75  614.25\n",
            "2021-12-29  605.50  604.00\n",
            "2021-12-30  596.00  605.50\n",
            "2021-12-31  593.25  595.75\n"
          ]
        }
      ]
    },
    {
      "cell_type": "markdown",
      "metadata": {
        "id": "cjUuWNSyIT4p"
      },
      "source": [
        "**Soja**"
      ]
    },
    {
      "cell_type": "code",
      "metadata": {
        "id": "1nrm3ALdNRen",
        "colab": {
          "base_uri": "https://localhost:8080/"
        },
        "outputId": "f2ace382-3d6b-423d-998d-0a084da1db05"
      },
      "source": [
        "soja=inv.get_commodity_recent_data(\"US Soybeans\",country=\"united states\")\n",
        "soja10=soja[[\"Close\",\"Open\"]].tail()\n",
        "print(soja10)"
      ],
      "execution_count": 155,
      "outputs": [
        {
          "output_type": "stream",
          "name": "stdout",
          "text": [
            "              Close     Open\n",
            "Date                        \n",
            "2021-12-28  1359.25  1360.50\n",
            "2021-12-29  1356.50  1359.50\n",
            "2021-12-30  1327.75  1354.75\n",
            "2021-12-31  1328.75  1328.50\n",
            "2022-01-02  1340.62  1340.88\n"
          ]
        }
      ]
    },
    {
      "cell_type": "markdown",
      "metadata": {
        "id": "r0j_iHpsIWpf"
      },
      "source": [
        "**Cafe**"
      ]
    },
    {
      "cell_type": "code",
      "metadata": {
        "id": "2r0SVlcl5PRx",
        "colab": {
          "base_uri": "https://localhost:8080/",
          "height": 520
        },
        "outputId": "fb118e02-c1d4-40e6-d201-8c39e1f60812"
      },
      "source": [
        "inv.get_commodities(group=\"softs\")"
      ],
      "execution_count": 156,
      "outputs": [
        {
          "output_type": "execute_result",
          "data": {
            "text/html": [
              "\n",
              "  <div id=\"df-21db202a-d27f-47e4-8f8a-dabfe9f24396\">\n",
              "    <div class=\"colab-df-container\">\n",
              "      <div>\n",
              "<style scoped>\n",
              "    .dataframe tbody tr th:only-of-type {\n",
              "        vertical-align: middle;\n",
              "    }\n",
              "\n",
              "    .dataframe tbody tr th {\n",
              "        vertical-align: top;\n",
              "    }\n",
              "\n",
              "    .dataframe thead th {\n",
              "        text-align: right;\n",
              "    }\n",
              "</style>\n",
              "<table border=\"1\" class=\"dataframe\">\n",
              "  <thead>\n",
              "    <tr style=\"text-align: right;\">\n",
              "      <th></th>\n",
              "      <th>title</th>\n",
              "      <th>country</th>\n",
              "      <th>name</th>\n",
              "      <th>full_name</th>\n",
              "      <th>currency</th>\n",
              "      <th>group</th>\n",
              "    </tr>\n",
              "  </thead>\n",
              "  <tbody>\n",
              "    <tr>\n",
              "      <th>0</th>\n",
              "      <td>Real Time Streaming Futures Quotes</td>\n",
              "      <td>united states</td>\n",
              "      <td>US Coffee C</td>\n",
              "      <td>US Coffee C Futures</td>\n",
              "      <td>USD</td>\n",
              "      <td>softs</td>\n",
              "    </tr>\n",
              "    <tr>\n",
              "      <th>1</th>\n",
              "      <td>Real Time Streaming Futures Quotes</td>\n",
              "      <td>united states</td>\n",
              "      <td>US Cotton #2</td>\n",
              "      <td>US Cotton #2 Futures</td>\n",
              "      <td>USD</td>\n",
              "      <td>softs</td>\n",
              "    </tr>\n",
              "    <tr>\n",
              "      <th>2</th>\n",
              "      <td>Real Time Streaming Futures Quotes</td>\n",
              "      <td>united states</td>\n",
              "      <td>US Sugar #11</td>\n",
              "      <td>US Sugar #11 Futures</td>\n",
              "      <td>USD</td>\n",
              "      <td>softs</td>\n",
              "    </tr>\n",
              "    <tr>\n",
              "      <th>3</th>\n",
              "      <td>Real Time Streaming Futures Quotes</td>\n",
              "      <td>united states</td>\n",
              "      <td>Orange Juice</td>\n",
              "      <td>Orange Juice Futures</td>\n",
              "      <td>USD</td>\n",
              "      <td>softs</td>\n",
              "    </tr>\n",
              "    <tr>\n",
              "      <th>4</th>\n",
              "      <td>Real Time Streaming Futures Quotes</td>\n",
              "      <td>united states</td>\n",
              "      <td>US Cocoa</td>\n",
              "      <td>US Cocoa Futures</td>\n",
              "      <td>USD</td>\n",
              "      <td>softs</td>\n",
              "    </tr>\n",
              "    <tr>\n",
              "      <th>5</th>\n",
              "      <td>Real Time Streaming Futures Quotes</td>\n",
              "      <td>united kingdom</td>\n",
              "      <td>London Coffee</td>\n",
              "      <td>London Robusta Coffee Futures</td>\n",
              "      <td>USD</td>\n",
              "      <td>softs</td>\n",
              "    </tr>\n",
              "    <tr>\n",
              "      <th>6</th>\n",
              "      <td>Real Time Streaming Futures Quotes</td>\n",
              "      <td>united kingdom</td>\n",
              "      <td>London Cocoa</td>\n",
              "      <td>London Cocoa Futures</td>\n",
              "      <td>GBP</td>\n",
              "      <td>softs</td>\n",
              "    </tr>\n",
              "    <tr>\n",
              "      <th>7</th>\n",
              "      <td>Real Time Streaming Futures Quotes</td>\n",
              "      <td>united kingdom</td>\n",
              "      <td>London Sugar</td>\n",
              "      <td>London Sugar Futures</td>\n",
              "      <td>USD</td>\n",
              "      <td>softs</td>\n",
              "    </tr>\n",
              "    <tr>\n",
              "      <th>8</th>\n",
              "      <td>Real Time Streaming Futures Quotes</td>\n",
              "      <td>united states</td>\n",
              "      <td>Lumber</td>\n",
              "      <td>Lumber Futures</td>\n",
              "      <td>USD</td>\n",
              "      <td>softs</td>\n",
              "    </tr>\n",
              "    <tr>\n",
              "      <th>9</th>\n",
              "      <td>MCX Futures Market Quotes</td>\n",
              "      <td>india</td>\n",
              "      <td>MCX Cardamom</td>\n",
              "      <td>Cardamom Futures</td>\n",
              "      <td>INR</td>\n",
              "      <td>softs</td>\n",
              "    </tr>\n",
              "    <tr>\n",
              "      <th>10</th>\n",
              "      <td>MCX Futures Market Quotes</td>\n",
              "      <td>india</td>\n",
              "      <td>MCX Cotton</td>\n",
              "      <td>Cotton 29mm Futures</td>\n",
              "      <td>INR</td>\n",
              "      <td>softs</td>\n",
              "    </tr>\n",
              "    <tr>\n",
              "      <th>11</th>\n",
              "      <td>MCX Futures Market Quotes</td>\n",
              "      <td>india</td>\n",
              "      <td>MCX Crude Palm Oil</td>\n",
              "      <td>Crude Palm Oil Futures</td>\n",
              "      <td>INR</td>\n",
              "      <td>softs</td>\n",
              "    </tr>\n",
              "    <tr>\n",
              "      <th>12</th>\n",
              "      <td>MCX Futures Market Quotes</td>\n",
              "      <td>india</td>\n",
              "      <td>MCX Kapas</td>\n",
              "      <td>Kapas Futures</td>\n",
              "      <td>INR</td>\n",
              "      <td>softs</td>\n",
              "    </tr>\n",
              "    <tr>\n",
              "      <th>13</th>\n",
              "      <td>MCX Futures Market Quotes</td>\n",
              "      <td>india</td>\n",
              "      <td>MCX Mentha Oil</td>\n",
              "      <td>Mentha Oil Futures</td>\n",
              "      <td>INR</td>\n",
              "      <td>softs</td>\n",
              "    </tr>\n",
              "    <tr>\n",
              "      <th>14</th>\n",
              "      <td>MCX Futures Market Quotes</td>\n",
              "      <td>india</td>\n",
              "      <td>MCX Castor Seed</td>\n",
              "      <td>Castor Seed Futures</td>\n",
              "      <td>INR</td>\n",
              "      <td>softs</td>\n",
              "    </tr>\n",
              "  </tbody>\n",
              "</table>\n",
              "</div>\n",
              "      <button class=\"colab-df-convert\" onclick=\"convertToInteractive('df-21db202a-d27f-47e4-8f8a-dabfe9f24396')\"\n",
              "              title=\"Convert this dataframe to an interactive table.\"\n",
              "              style=\"display:none;\">\n",
              "        \n",
              "  <svg xmlns=\"http://www.w3.org/2000/svg\" height=\"24px\"viewBox=\"0 0 24 24\"\n",
              "       width=\"24px\">\n",
              "    <path d=\"M0 0h24v24H0V0z\" fill=\"none\"/>\n",
              "    <path d=\"M18.56 5.44l.94 2.06.94-2.06 2.06-.94-2.06-.94-.94-2.06-.94 2.06-2.06.94zm-11 1L8.5 8.5l.94-2.06 2.06-.94-2.06-.94L8.5 2.5l-.94 2.06-2.06.94zm10 10l.94 2.06.94-2.06 2.06-.94-2.06-.94-.94-2.06-.94 2.06-2.06.94z\"/><path d=\"M17.41 7.96l-1.37-1.37c-.4-.4-.92-.59-1.43-.59-.52 0-1.04.2-1.43.59L10.3 9.45l-7.72 7.72c-.78.78-.78 2.05 0 2.83L4 21.41c.39.39.9.59 1.41.59.51 0 1.02-.2 1.41-.59l7.78-7.78 2.81-2.81c.8-.78.8-2.07 0-2.86zM5.41 20L4 18.59l7.72-7.72 1.47 1.35L5.41 20z\"/>\n",
              "  </svg>\n",
              "      </button>\n",
              "      \n",
              "  <style>\n",
              "    .colab-df-container {\n",
              "      display:flex;\n",
              "      flex-wrap:wrap;\n",
              "      gap: 12px;\n",
              "    }\n",
              "\n",
              "    .colab-df-convert {\n",
              "      background-color: #E8F0FE;\n",
              "      border: none;\n",
              "      border-radius: 50%;\n",
              "      cursor: pointer;\n",
              "      display: none;\n",
              "      fill: #1967D2;\n",
              "      height: 32px;\n",
              "      padding: 0 0 0 0;\n",
              "      width: 32px;\n",
              "    }\n",
              "\n",
              "    .colab-df-convert:hover {\n",
              "      background-color: #E2EBFA;\n",
              "      box-shadow: 0px 1px 2px rgba(60, 64, 67, 0.3), 0px 1px 3px 1px rgba(60, 64, 67, 0.15);\n",
              "      fill: #174EA6;\n",
              "    }\n",
              "\n",
              "    [theme=dark] .colab-df-convert {\n",
              "      background-color: #3B4455;\n",
              "      fill: #D2E3FC;\n",
              "    }\n",
              "\n",
              "    [theme=dark] .colab-df-convert:hover {\n",
              "      background-color: #434B5C;\n",
              "      box-shadow: 0px 1px 3px 1px rgba(0, 0, 0, 0.15);\n",
              "      filter: drop-shadow(0px 1px 2px rgba(0, 0, 0, 0.3));\n",
              "      fill: #FFFFFF;\n",
              "    }\n",
              "  </style>\n",
              "\n",
              "      <script>\n",
              "        const buttonEl =\n",
              "          document.querySelector('#df-21db202a-d27f-47e4-8f8a-dabfe9f24396 button.colab-df-convert');\n",
              "        buttonEl.style.display =\n",
              "          google.colab.kernel.accessAllowed ? 'block' : 'none';\n",
              "\n",
              "        async function convertToInteractive(key) {\n",
              "          const element = document.querySelector('#df-21db202a-d27f-47e4-8f8a-dabfe9f24396');\n",
              "          const dataTable =\n",
              "            await google.colab.kernel.invokeFunction('convertToInteractive',\n",
              "                                                     [key], {});\n",
              "          if (!dataTable) return;\n",
              "\n",
              "          const docLinkHtml = 'Like what you see? Visit the ' +\n",
              "            '<a target=\"_blank\" href=https://colab.research.google.com/notebooks/data_table.ipynb>data table notebook</a>'\n",
              "            + ' to learn more about interactive tables.';\n",
              "          element.innerHTML = '';\n",
              "          dataTable['output_type'] = 'display_data';\n",
              "          await google.colab.output.renderOutput(dataTable, element);\n",
              "          const docLink = document.createElement('div');\n",
              "          docLink.innerHTML = docLinkHtml;\n",
              "          element.appendChild(docLink);\n",
              "        }\n",
              "      </script>\n",
              "    </div>\n",
              "  </div>\n",
              "  "
            ],
            "text/plain": [
              "                                 title         country  ... currency  group\n",
              "0   Real Time Streaming Futures Quotes   united states  ...      USD  softs\n",
              "1   Real Time Streaming Futures Quotes   united states  ...      USD  softs\n",
              "2   Real Time Streaming Futures Quotes   united states  ...      USD  softs\n",
              "3   Real Time Streaming Futures Quotes   united states  ...      USD  softs\n",
              "4   Real Time Streaming Futures Quotes   united states  ...      USD  softs\n",
              "5   Real Time Streaming Futures Quotes  united kingdom  ...      USD  softs\n",
              "6   Real Time Streaming Futures Quotes  united kingdom  ...      GBP  softs\n",
              "7   Real Time Streaming Futures Quotes  united kingdom  ...      USD  softs\n",
              "8   Real Time Streaming Futures Quotes   united states  ...      USD  softs\n",
              "9            MCX Futures Market Quotes           india  ...      INR  softs\n",
              "10           MCX Futures Market Quotes           india  ...      INR  softs\n",
              "11           MCX Futures Market Quotes           india  ...      INR  softs\n",
              "12           MCX Futures Market Quotes           india  ...      INR  softs\n",
              "13           MCX Futures Market Quotes           india  ...      INR  softs\n",
              "14           MCX Futures Market Quotes           india  ...      INR  softs\n",
              "\n",
              "[15 rows x 6 columns]"
            ]
          },
          "metadata": {},
          "execution_count": 156
        }
      ]
    },
    {
      "cell_type": "code",
      "metadata": {
        "id": "r2ADPRAgNSB3",
        "colab": {
          "base_uri": "https://localhost:8080/"
        },
        "outputId": "b89ea39b-2b3e-446b-ebe5-c3b54d7c79fd"
      },
      "source": [
        "Cafe=inv.get_commodity_recent_data(\"US Coffee C\",country=\"united states\")\n",
        "Cafe10=Cafe[[\"Close\",\"Open\"]].tail()\n",
        "print(Cafe10)"
      ],
      "execution_count": 157,
      "outputs": [
        {
          "output_type": "stream",
          "name": "stdout",
          "text": [
            "             Close    Open\n",
            "Date                      \n",
            "2021-12-27  227.05  229.55\n",
            "2021-12-28  225.60  227.90\n",
            "2021-12-29  228.90  225.60\n",
            "2021-12-30  228.85  229.10\n",
            "2021-12-31  226.10  228.50\n"
          ]
        }
      ]
    },
    {
      "cell_type": "markdown",
      "metadata": {
        "id": "2NU8qF3HIc6n"
      },
      "source": [
        "**Azucar**"
      ]
    },
    {
      "cell_type": "code",
      "metadata": {
        "id": "H8TPGZC_NSru",
        "colab": {
          "base_uri": "https://localhost:8080/"
        },
        "outputId": "eaef2764-80ee-4a7b-e90c-41b979b930ba"
      },
      "source": [
        "Azucar=inv.get_commodity_recent_data(\"US Sugar #11\t\",country=\"united states\")\n",
        "Azucar10=Azucar[[\"Close\",\"Open\"]].tail()\n",
        "print(Azucar10)"
      ],
      "execution_count": 158,
      "outputs": [
        {
          "output_type": "stream",
          "name": "stdout",
          "text": [
            "            Close   Open\n",
            "Date                    \n",
            "2021-12-27  19.21  19.15\n",
            "2021-12-28  18.96  19.22\n",
            "2021-12-29  19.10  18.97\n",
            "2021-12-30  18.78  19.10\n",
            "2021-12-31  18.88  18.78\n"
          ]
        }
      ]
    },
    {
      "cell_type": "markdown",
      "metadata": {
        "id": "9-ZodFiyIt7E"
      },
      "source": [
        "**Bonos a 10Años**"
      ]
    },
    {
      "cell_type": "code",
      "metadata": {
        "id": "k4SBEmTyJqft",
        "colab": {
          "base_uri": "https://localhost:8080/"
        },
        "outputId": "f4e6c41b-9238-4b48-8185-c1b90e8e21d9"
      },
      "source": [
        "inv.get_bond_countries()"
      ],
      "execution_count": 159,
      "outputs": [
        {
          "output_type": "execute_result",
          "data": {
            "text/plain": [
              "['argentina',\n",
              " 'australia',\n",
              " 'austria',\n",
              " 'bahrain',\n",
              " 'bangladesh',\n",
              " 'belgium',\n",
              " 'botswana',\n",
              " 'brazil',\n",
              " 'bulgaria',\n",
              " 'canada',\n",
              " 'chile',\n",
              " 'china',\n",
              " 'colombia',\n",
              " 'croatia',\n",
              " 'cyprus',\n",
              " 'czech republic',\n",
              " 'denmark',\n",
              " 'egypt',\n",
              " 'finland',\n",
              " 'france',\n",
              " 'germany',\n",
              " 'greece',\n",
              " 'hong kong',\n",
              " 'hungary',\n",
              " 'iceland',\n",
              " 'india',\n",
              " 'indonesia',\n",
              " 'ireland',\n",
              " 'israel',\n",
              " 'italy',\n",
              " 'japan',\n",
              " 'jordan',\n",
              " 'kenya',\n",
              " 'latvia',\n",
              " 'lithuania',\n",
              " 'luxembourg',\n",
              " 'malaysia',\n",
              " 'malta',\n",
              " 'mauritius',\n",
              " 'mexico',\n",
              " 'morocco',\n",
              " 'namibia',\n",
              " 'netherlands',\n",
              " 'new zealand',\n",
              " 'nigeria',\n",
              " 'norway',\n",
              " 'pakistan',\n",
              " 'peru',\n",
              " 'philippines',\n",
              " 'poland',\n",
              " 'portugal',\n",
              " 'qatar',\n",
              " 'romania',\n",
              " 'russia',\n",
              " 'saudi arabia',\n",
              " 'serbia',\n",
              " 'singapore',\n",
              " 'slovakia',\n",
              " 'slovenia',\n",
              " 'south africa',\n",
              " 'south korea',\n",
              " 'spain',\n",
              " 'sri lanka',\n",
              " 'sweden',\n",
              " 'switzerland',\n",
              " 'taiwan',\n",
              " 'thailand',\n",
              " 'turkey',\n",
              " 'uganda',\n",
              " 'ukraine',\n",
              " 'united kingdom',\n",
              " 'united states',\n",
              " 'venezuela',\n",
              " 'vietnam']"
            ]
          },
          "metadata": {},
          "execution_count": 159
        }
      ]
    },
    {
      "cell_type": "markdown",
      "metadata": {
        "id": "S6zrc3EZIxYH"
      },
      "source": [
        "**Desarrollados**"
      ]
    },
    {
      "cell_type": "markdown",
      "metadata": {
        "id": "hr28tn32I6my"
      },
      "source": [
        "**EEUU**"
      ]
    },
    {
      "cell_type": "code",
      "metadata": {
        "id": "0pJNQ8NkLyr_",
        "colab": {
          "base_uri": "https://localhost:8080/"
        },
        "outputId": "c49fd670-40b8-4241-8d56-03a0a676c64e"
      },
      "source": [
        "inv.get_bonds_list(\"united states\")"
      ],
      "execution_count": 160,
      "outputs": [
        {
          "output_type": "execute_result",
          "data": {
            "text/plain": [
              "['U.S. 30Y',\n",
              " 'U.S. 10Y',\n",
              " 'U.S. 7Y',\n",
              " 'U.S. 5Y',\n",
              " 'U.S. 3Y',\n",
              " 'U.S. 3M',\n",
              " 'U.S. 1Y',\n",
              " 'U.S. 6M',\n",
              " 'U.S. 1M',\n",
              " 'U.S. 2Y']"
            ]
          },
          "metadata": {},
          "execution_count": 160
        }
      ]
    },
    {
      "cell_type": "code",
      "metadata": {
        "id": "MHMC6kaeI_t-",
        "colab": {
          "base_uri": "https://localhost:8080/"
        },
        "outputId": "143d97c7-10cd-43cf-e432-229a7b6251af"
      },
      "source": [
        "Estados_unidos=inv.get_bond_recent_data(bond=\"U.S. 10Y\")\n",
        "Estados_unidos10=Estados_unidos[[\"Close\",\"Open\"]].tail()\n",
        "print(Estados_unidos10)"
      ],
      "execution_count": 161,
      "outputs": [
        {
          "output_type": "stream",
          "name": "stdout",
          "text": [
            "            Close   Open\n",
            "Date                    \n",
            "2021-12-27  1.477  1.486\n",
            "2021-12-28  1.484  1.479\n",
            "2021-12-29  1.556  1.477\n",
            "2021-12-30  1.507  1.551\n",
            "2021-12-31  1.512  1.512\n"
          ]
        }
      ]
    },
    {
      "cell_type": "markdown",
      "metadata": {
        "id": "Xx6E7ZZEMCw8"
      },
      "source": [
        "**Alemania**"
      ]
    },
    {
      "cell_type": "code",
      "metadata": {
        "id": "HFHUq0OoMHJn",
        "colab": {
          "base_uri": "https://localhost:8080/"
        },
        "outputId": "d01b399a-9252-40d2-bf94-5f65b2ef70b7"
      },
      "source": [
        "inv.get_bonds_list(\"germany\")"
      ],
      "execution_count": 162,
      "outputs": [
        {
          "output_type": "execute_result",
          "data": {
            "text/plain": [
              "['Germany 10Y',\n",
              " 'Germany 9Y',\n",
              " 'Germany 15Y',\n",
              " 'Germany 8Y',\n",
              " 'Germany 25Y',\n",
              " 'Germany 30Y',\n",
              " 'Germany 20Y',\n",
              " 'Germany 7Y',\n",
              " 'Germany 1Y',\n",
              " 'Germany 5Y',\n",
              " 'Germany 4Y',\n",
              " 'Germany 3Y',\n",
              " 'Germany 2Y',\n",
              " 'Germany 6Y',\n",
              " 'Germany 9M',\n",
              " 'Germany 6M',\n",
              " 'Germany 3M']"
            ]
          },
          "metadata": {},
          "execution_count": 162
        }
      ]
    },
    {
      "cell_type": "code",
      "metadata": {
        "id": "hIG_YwWxOFJv",
        "colab": {
          "base_uri": "https://localhost:8080/"
        },
        "outputId": "2433b8b4-548f-46e5-c5f3-bd32319254b5"
      },
      "source": [
        "Alemania=inv.get_bond_recent_data(bond=\"Germany 10Y\")\n",
        "Alemania10=Alemania[[\"Close\",\"Open\"]].tail()\n",
        "print(Alemania10)"
      ],
      "execution_count": 163,
      "outputs": [
        {
          "output_type": "stream",
          "name": "stdout",
          "text": [
            "            Close   Open\n",
            "Date                    \n",
            "2021-12-27 -0.244 -0.254\n",
            "2021-12-28 -0.239 -0.241\n",
            "2021-12-29 -0.180 -0.240\n",
            "2021-12-30 -0.176 -0.180\n",
            "2021-12-31 -0.179 -0.179\n"
          ]
        }
      ]
    },
    {
      "cell_type": "markdown",
      "metadata": {
        "id": "JvQbI6OXMPKD"
      },
      "source": [
        "**Reino Unido**"
      ]
    },
    {
      "cell_type": "code",
      "metadata": {
        "id": "BEoxX7u1MViz",
        "colab": {
          "base_uri": "https://localhost:8080/"
        },
        "outputId": "6195b30e-1bf1-41b3-e48f-f4cc0197b465"
      },
      "source": [
        "inv.get_bonds_list(\"United Kingdom\")"
      ],
      "execution_count": 164,
      "outputs": [
        {
          "output_type": "execute_result",
          "data": {
            "text/plain": [
              "['U.K. 40Y',\n",
              " 'U.K. 50Y',\n",
              " 'U.K. 30Y',\n",
              " 'U.K. 25Y',\n",
              " 'U.K. 15Y',\n",
              " 'U.K. 12Y',\n",
              " 'U.K. 10Y',\n",
              " 'U.K. 9Y',\n",
              " 'U.K. 8Y',\n",
              " 'U.K. 20Y',\n",
              " 'U.K. 6Y',\n",
              " 'U.K. 5Y',\n",
              " 'U.K. 4Y',\n",
              " 'U.K. 3Y',\n",
              " 'U.K. 2Y',\n",
              " 'U.K. 1Y',\n",
              " 'U.K. 6M',\n",
              " 'U.K. 3M',\n",
              " 'U.K. 1M',\n",
              " 'U.K. 7Y']"
            ]
          },
          "metadata": {},
          "execution_count": 164
        }
      ]
    },
    {
      "cell_type": "code",
      "metadata": {
        "id": "mC1yyX36OLCh",
        "colab": {
          "base_uri": "https://localhost:8080/"
        },
        "outputId": "0d4c08ab-8e22-4795-e3bb-9fe26651a79e"
      },
      "source": [
        "Reino_unido=inv.get_bond_recent_data(bond=\"U.K. 10Y\")\n",
        "Reino_unido10=Reino_unido[[\"Close\",\"Open\"]].tail()\n",
        "print(Reino_unido10)"
      ],
      "execution_count": 165,
      "outputs": [
        {
          "output_type": "stream",
          "name": "stdout",
          "text": [
            "             Close    Open\n",
            "Date                      \n",
            "2021-12-29  1.0140  0.9260\n",
            "2021-12-30  0.9770  1.0040\n",
            "2021-12-31  0.9720  0.9740\n",
            "2022-01-01  0.9695  0.9695\n",
            "2022-01-02  0.9730  0.9730\n"
          ]
        }
      ]
    },
    {
      "cell_type": "markdown",
      "metadata": {
        "id": "5Rm_c2tQMWOq"
      },
      "source": [
        "**Francia**"
      ]
    },
    {
      "cell_type": "code",
      "metadata": {
        "id": "TQOew382Max3",
        "colab": {
          "base_uri": "https://localhost:8080/"
        },
        "outputId": "0f2ff5fb-e09f-466a-ad24-ad3b93402a82"
      },
      "source": [
        "inv.get_bonds_list(\"france\")"
      ],
      "execution_count": 166,
      "outputs": [
        {
          "output_type": "execute_result",
          "data": {
            "text/plain": [
              "['France 8Y',\n",
              " 'France 30Y',\n",
              " 'France 25Y',\n",
              " 'France 20Y',\n",
              " 'France 50Y',\n",
              " 'France 15Y',\n",
              " 'France 10Y',\n",
              " 'France 9Y',\n",
              " 'France 7Y',\n",
              " 'France 9M',\n",
              " 'France 5Y',\n",
              " 'France 4Y',\n",
              " 'France 3Y',\n",
              " 'France 2Y',\n",
              " 'France 1Y',\n",
              " 'France 6M',\n",
              " 'France 3M',\n",
              " 'France 1M',\n",
              " 'France 6Y']"
            ]
          },
          "metadata": {},
          "execution_count": 166
        }
      ]
    },
    {
      "cell_type": "code",
      "metadata": {
        "id": "vbqp_pyFOZG7",
        "colab": {
          "base_uri": "https://localhost:8080/"
        },
        "outputId": "3e00ad72-03e3-4aba-efd2-10847df044b5"
      },
      "source": [
        "Francia=inv.get_bond_recent_data(bond=\"France 10Y\")\n",
        "Francia10=Francia[[\"Close\",\"Open\"]].tail()\n",
        "print(Francia10)"
      ],
      "execution_count": 167,
      "outputs": [
        {
          "output_type": "stream",
          "name": "stdout",
          "text": [
            "            Close   Open\n",
            "Date                    \n",
            "2021-12-27  0.127  0.122\n",
            "2021-12-28  0.124  0.129\n",
            "2021-12-29  0.194  0.127\n",
            "2021-12-30  0.199  0.189\n",
            "2021-12-31  0.194  0.192\n"
          ]
        }
      ]
    },
    {
      "cell_type": "markdown",
      "metadata": {
        "id": "PUrwzaETMbHL"
      },
      "source": [
        "**Italia**"
      ]
    },
    {
      "cell_type": "code",
      "metadata": {
        "id": "THR85NXtNIne",
        "colab": {
          "base_uri": "https://localhost:8080/"
        },
        "outputId": "591dba70-18a0-4738-f729-3b26beb6e215"
      },
      "source": [
        "inv.get_bonds_list(\"Italy\")"
      ],
      "execution_count": 168,
      "outputs": [
        {
          "output_type": "execute_result",
          "data": {
            "text/plain": [
              "['Italy 50Y',\n",
              " 'Italy 30Y',\n",
              " 'Italy 20Y',\n",
              " 'Italy 15Y',\n",
              " 'Italy 10Y',\n",
              " 'Italy 9Y',\n",
              " 'Italy 8Y',\n",
              " 'Italy 6Y',\n",
              " 'Italy 7Y',\n",
              " 'Italy 4Y',\n",
              " 'Italy 5Y',\n",
              " 'Italy 3M',\n",
              " 'Italy 6M',\n",
              " 'Italy 9M',\n",
              " 'Italy 1M',\n",
              " 'Italy 2Y',\n",
              " 'Italy 3Y',\n",
              " 'Italy 1Y']"
            ]
          },
          "metadata": {},
          "execution_count": 168
        }
      ]
    },
    {
      "cell_type": "code",
      "metadata": {
        "id": "FyMZ1B9COZ5f",
        "colab": {
          "base_uri": "https://localhost:8080/"
        },
        "outputId": "49b8eff9-dcda-4f33-f27f-282c7651c322"
      },
      "source": [
        "Italia=inv.get_bond_recent_data(bond=\"Italy 10Y\")\n",
        "Italia10=Italia[[\"Close\",\"Open\"]].tail()\n",
        "print(Italia10)"
      ],
      "execution_count": 169,
      "outputs": [
        {
          "output_type": "stream",
          "name": "stdout",
          "text": [
            "            Close   Open\n",
            "Date                    \n",
            "2021-12-27  1.129  1.126\n",
            "2021-12-28  1.101  1.134\n",
            "2021-12-29  1.163  1.108\n",
            "2021-12-30  1.176  1.151\n",
            "2021-12-31  1.185  1.192\n"
          ]
        }
      ]
    },
    {
      "cell_type": "markdown",
      "metadata": {
        "id": "o5yfHBEuMfjM"
      },
      "source": [
        "**Japon**"
      ]
    },
    {
      "cell_type": "code",
      "metadata": {
        "id": "mazN_e0qNJJu",
        "colab": {
          "base_uri": "https://localhost:8080/"
        },
        "outputId": "2f055cc5-de6d-42e6-ae72-edf056fe4985"
      },
      "source": [
        "inv.get_bonds_list(\"japan\")"
      ],
      "execution_count": 170,
      "outputs": [
        {
          "output_type": "execute_result",
          "data": {
            "text/plain": [
              "['Japan 7Y',\n",
              " 'Japan 30Y',\n",
              " 'Japan 20Y',\n",
              " 'Japan 15Y',\n",
              " 'Japan 10Y',\n",
              " 'Japan 9Y',\n",
              " 'Japan 8Y',\n",
              " 'Japan 6Y',\n",
              " 'Japan 40Y',\n",
              " 'Japan 4Y',\n",
              " 'Japan 3Y',\n",
              " 'Japan 2Y',\n",
              " 'Japan 1Y',\n",
              " 'Japan 9M',\n",
              " 'Japan 6M',\n",
              " 'Japan 3M',\n",
              " 'Japan 1M',\n",
              " 'Japan 5Y']"
            ]
          },
          "metadata": {},
          "execution_count": 170
        }
      ]
    },
    {
      "cell_type": "code",
      "metadata": {
        "id": "MARdyCtVOalS",
        "colab": {
          "base_uri": "https://localhost:8080/"
        },
        "outputId": "eebd37b5-df98-455a-cca0-ce2c284f4a68"
      },
      "source": [
        "Japon=inv.get_bond_recent_data(bond=\"Japan 10Y\")\n",
        "Japon10=Japon[[\"Close\",\"Open\"]].tail()\n",
        "print(Japon10)"
      ],
      "execution_count": 171,
      "outputs": [
        {
          "output_type": "stream",
          "name": "stdout",
          "text": [
            "            Close   Open\n",
            "Date                    \n",
            "2021-12-26  0.060  0.060\n",
            "2021-12-27  0.059  0.063\n",
            "2021-12-28  0.059  0.057\n",
            "2021-12-29  0.059  0.059\n",
            "2021-12-30  0.070  0.065\n"
          ]
        }
      ]
    },
    {
      "cell_type": "markdown",
      "metadata": {
        "id": "rKK9TQ7kMjRD"
      },
      "source": [
        "**Latinoamerica**"
      ]
    },
    {
      "cell_type": "markdown",
      "metadata": {
        "id": "LNiOh-Z9MpBj"
      },
      "source": [
        "**Brasil**"
      ]
    },
    {
      "cell_type": "code",
      "metadata": {
        "id": "zcnN1t2fNKU9",
        "colab": {
          "base_uri": "https://localhost:8080/"
        },
        "outputId": "a6310158-d1a4-46fe-bfa2-5090168e85ea"
      },
      "source": [
        "inv.get_bonds_list(\"Brazil\")"
      ],
      "execution_count": 172,
      "outputs": [
        {
          "output_type": "execute_result",
          "data": {
            "text/plain": [
              "['Brazil 3M',\n",
              " 'Brazil 6M',\n",
              " 'Brazil 9M',\n",
              " 'Brazil 1Y',\n",
              " 'Brazil 2Y',\n",
              " 'Brazil 3Y',\n",
              " 'Brazil 5Y',\n",
              " 'Brazil 8Y',\n",
              " 'Brazil 10Y']"
            ]
          },
          "metadata": {},
          "execution_count": 172
        }
      ]
    },
    {
      "cell_type": "code",
      "metadata": {
        "id": "-k_ScMydObo7",
        "colab": {
          "base_uri": "https://localhost:8080/"
        },
        "outputId": "44c7e1d0-5a83-41dd-d530-9ddf75dd2f06"
      },
      "source": [
        "Brazil=inv.get_bond_recent_data(bond=\"Brazil 10Y\")\n",
        "Brazil10=Brazil[[\"Close\",\"Open\"]].tail()\n",
        "print(Brazil10)"
      ],
      "execution_count": 173,
      "outputs": [
        {
          "output_type": "stream",
          "name": "stdout",
          "text": [
            "            Close   Open\n",
            "Date                    \n",
            "2021-12-23  10.63  10.63\n",
            "2021-12-27  10.35  10.74\n",
            "2021-12-28  10.31  10.75\n",
            "2021-12-29  10.44  10.73\n",
            "2021-12-30  10.31  10.85\n"
          ]
        }
      ]
    },
    {
      "cell_type": "markdown",
      "metadata": {
        "id": "dcIOm9liMtFJ"
      },
      "source": [
        "**Mexico**"
      ]
    },
    {
      "cell_type": "code",
      "metadata": {
        "id": "EYHQ5xwvNK-c",
        "colab": {
          "base_uri": "https://localhost:8080/"
        },
        "outputId": "dd908bab-80b3-4166-d42a-fb7ee3fe2ab2"
      },
      "source": [
        "inv.get_bonds_list(\"Mexico\")"
      ],
      "execution_count": 174,
      "outputs": [
        {
          "output_type": "execute_result",
          "data": {
            "text/plain": [
              "['Mexico 7Y',\n",
              " 'Mexico 30Y',\n",
              " 'Mexico 20Y',\n",
              " 'Mexico 15Y',\n",
              " 'Mexico 10Y',\n",
              " 'Mexico 5Y',\n",
              " 'Mexico 1Y',\n",
              " 'Mexico 9M',\n",
              " 'Mexico 3M',\n",
              " 'Mexico 1M',\n",
              " 'Mexico 3Y',\n",
              " 'Mexico 6M']"
            ]
          },
          "metadata": {},
          "execution_count": 174
        }
      ]
    },
    {
      "cell_type": "code",
      "metadata": {
        "id": "RDhFio2sOcSx",
        "colab": {
          "base_uri": "https://localhost:8080/"
        },
        "outputId": "f0c3fa81-7bc6-49e4-e852-6db273b4eee1"
      },
      "source": [
        "Mexico=inv.get_bond_recent_data(bond=\"Mexico 10Y\")\n",
        "Mexico10=Mexico[[\"Close\",\"Open\"]].tail()\n",
        "print(Mexico10)"
      ],
      "execution_count": 175,
      "outputs": [
        {
          "output_type": "stream",
          "name": "stdout",
          "text": [
            "            Close   Open\n",
            "Date                    \n",
            "2021-12-28  7.556  7.665\n",
            "2021-12-29  7.586  7.625\n",
            "2021-12-30  7.581  7.646\n",
            "2021-12-31  7.556  7.629\n",
            "2022-01-01  7.819  7.819\n"
          ]
        }
      ]
    },
    {
      "cell_type": "markdown",
      "metadata": {
        "id": "2MwZpJvRMv9O"
      },
      "source": [
        "**Chile**"
      ]
    },
    {
      "cell_type": "code",
      "metadata": {
        "id": "ypZ9JmNENLZm",
        "colab": {
          "base_uri": "https://localhost:8080/"
        },
        "outputId": "90dc8c17-b210-4232-ab43-42d48192301a"
      },
      "source": [
        "inv.get_bonds_list(\"chile\")"
      ],
      "execution_count": 176,
      "outputs": [
        {
          "output_type": "execute_result",
          "data": {
            "text/plain": [
              "['Chile 10Y',\n",
              " 'Chile 8Y',\n",
              " 'Chile 5Y',\n",
              " 'Chile 3Y',\n",
              " 'Chile 2Y',\n",
              " 'Chile 1Y',\n",
              " 'Chile 4Y']"
            ]
          },
          "metadata": {},
          "execution_count": 176
        }
      ]
    },
    {
      "cell_type": "code",
      "metadata": {
        "id": "4WoEuevrOc74",
        "colab": {
          "base_uri": "https://localhost:8080/"
        },
        "outputId": "47d06139-f87c-44b1-d666-cc873a50d190"
      },
      "source": [
        "Chile=inv.get_bond_recent_data(bond=\"Chile 10Y\")\n",
        "Chile10=Chile[[\"Close\",\"Open\"]].tail()\n",
        "print(Chile10)"
      ],
      "execution_count": 177,
      "outputs": [
        {
          "output_type": "stream",
          "name": "stdout",
          "text": [
            "            Close  Open\n",
            "Date                   \n",
            "2021-12-27   5.78  5.78\n",
            "2021-12-28   5.74  5.74\n",
            "2021-12-29   5.74  5.74\n",
            "2021-12-30   5.72  5.72\n",
            "2021-12-31   5.77  5.77\n"
          ]
        }
      ]
    },
    {
      "cell_type": "markdown",
      "metadata": {
        "id": "vx8eKrtGM1f0"
      },
      "source": [
        "**Argentina**"
      ]
    },
    {
      "cell_type": "code",
      "metadata": {
        "id": "hGlkCxvoNL-d",
        "colab": {
          "base_uri": "https://localhost:8080/"
        },
        "outputId": "e820db50-60c2-4cfb-ebc2-c6076a35b5b7"
      },
      "source": [
        "inv.get_bonds_list(\"argentina\")"
      ],
      "execution_count": 178,
      "outputs": [
        {
          "output_type": "execute_result",
          "data": {
            "text/plain": [
              "['Argentina 1Y', 'Argentina 3Y', 'Argentina 5Y', 'Argentina 9Y']"
            ]
          },
          "metadata": {},
          "execution_count": 178
        }
      ]
    },
    {
      "cell_type": "code",
      "metadata": {
        "id": "j1l9S9lEOdpr",
        "colab": {
          "base_uri": "https://localhost:8080/"
        },
        "outputId": "f26563e5-e689-405d-bcd0-0434ce2b19b3"
      },
      "source": [
        "Argentina=inv.get_bond_recent_data(bond=\"Argentina 1Y\")\n",
        "Argentina10=Argentina[[\"Close\",\"Open\"]].tail()\n",
        "print(Argentina10)"
      ],
      "execution_count": 179,
      "outputs": [
        {
          "output_type": "stream",
          "name": "stdout",
          "text": [
            "            Close   Open\n",
            "Date                    \n",
            "2021-12-23  45.61  56.96\n",
            "2021-12-27  46.22  58.49\n",
            "2021-12-28  43.24  46.85\n",
            "2021-12-29  43.24  43.24\n",
            "2021-12-30  58.74  58.74\n"
          ]
        }
      ]
    },
    {
      "cell_type": "markdown",
      "metadata": {
        "id": "2_RdJM4JM8de"
      },
      "source": [
        "**Colombia**"
      ]
    },
    {
      "cell_type": "code",
      "metadata": {
        "id": "7_3UzmQ4M_zn",
        "colab": {
          "base_uri": "https://localhost:8080/"
        },
        "outputId": "6a492143-b22e-43c2-ca06-cf33f9f9dd45"
      },
      "source": [
        "inv.get_bonds_list(\"colombia\")"
      ],
      "execution_count": 180,
      "outputs": [
        {
          "output_type": "execute_result",
          "data": {
            "text/plain": [
              "['Colombia 1Y', 'Colombia 4Y', 'Colombia 5Y', 'Colombia 10Y', 'Colombia 15Y']"
            ]
          },
          "metadata": {},
          "execution_count": 180
        }
      ]
    },
    {
      "cell_type": "code",
      "metadata": {
        "id": "0lbAXwJ6OePv",
        "colab": {
          "base_uri": "https://localhost:8080/"
        },
        "outputId": "c03d7b6c-34bd-4bb2-f9f2-cbe6af957dff"
      },
      "source": [
        "Colombia=inv.get_bond_recent_data(bond=\"Colombia 10Y\")\n",
        "Colombia10=Colombia[[\"Close\",\"Open\"]].tail()\n",
        "print(Colombia10)"
      ],
      "execution_count": 181,
      "outputs": [
        {
          "output_type": "stream",
          "name": "stdout",
          "text": [
            "            Close   Open\n",
            "Date                    \n",
            "2021-12-21  8.000  7.950\n",
            "2021-12-22  8.070  8.023\n",
            "2021-12-23  8.100  8.100\n",
            "2021-12-28  8.060  8.055\n",
            "2021-12-29  8.135  8.089\n"
          ]
        }
      ]
    },
    {
      "cell_type": "markdown",
      "metadata": {
        "id": "5-oNZkdGNAKX"
      },
      "source": [
        "**Peru** "
      ]
    },
    {
      "cell_type": "code",
      "metadata": {
        "id": "LMJ4nNWXNHAp",
        "colab": {
          "base_uri": "https://localhost:8080/"
        },
        "outputId": "fab72d87-8c5f-483a-a3fe-98b6e0ce2f28"
      },
      "source": [
        "inv.get_bonds_list(\"peru\")"
      ],
      "execution_count": 182,
      "outputs": [
        {
          "output_type": "execute_result",
          "data": {
            "text/plain": [
              "['Peru 2Y', 'Peru 5Y', 'Peru 10Y', 'Peru 15Y', 'Peru 20Y', 'Peru 30Y']"
            ]
          },
          "metadata": {},
          "execution_count": 182
        }
      ]
    },
    {
      "cell_type": "code",
      "metadata": {
        "id": "bahdqkDZOe0U",
        "colab": {
          "base_uri": "https://localhost:8080/"
        },
        "outputId": "d3aa2ae9-a7e0-46c2-9a93-e82dd57b6b9b"
      },
      "source": [
        "Peru=inv.get_bond_recent_data(bond=\"Peru 10Y\")\n",
        "Peru10=Peru[[\"Close\",\"Open\"]].tail()\n",
        "print(Peru10)"
      ],
      "execution_count": 183,
      "outputs": [
        {
          "output_type": "stream",
          "name": "stdout",
          "text": [
            "            Close   Open\n",
            "Date                    \n",
            "2021-12-21  5.986  5.965\n",
            "2021-12-22  5.979  5.979\n",
            "2021-12-24  5.937  5.937\n",
            "2021-12-28  5.880  5.880\n",
            "2021-12-30  5.915  5.925\n"
          ]
        }
      ]
    },
    {
      "cell_type": "markdown",
      "metadata": {
        "id": "g93HhYTUNuSo"
      },
      "source": [
        "**Monedas**"
      ]
    },
    {
      "cell_type": "markdown",
      "metadata": {
        "id": "6G9b8ApkNw5_"
      },
      "source": [
        "**Dolar**"
      ]
    },
    {
      "cell_type": "code",
      "metadata": {
        "id": "rU_iqnjGN8KG",
        "colab": {
          "base_uri": "https://localhost:8080/"
        },
        "outputId": "f517b2b1-eecc-4d79-d366-9957b09f412a"
      },
      "source": [
        "Dolar=inv.get_currency_cross_recent_data(\"USD/COP\")\n",
        "Dolar10=Dolar[[\"Close\",\"Open\"]].tail()\n",
        "print(Dolar10)"
      ],
      "execution_count": 184,
      "outputs": [
        {
          "output_type": "stream",
          "name": "stdout",
          "text": [
            "              Close     Open\n",
            "Date                        \n",
            "2021-12-28  4005.60  4000.00\n",
            "2021-12-29  4034.46  4009.00\n",
            "2021-12-30  4065.41  4039.05\n",
            "2021-12-31  4065.41  4070.00\n",
            "2022-01-02  4070.00  4070.00\n"
          ]
        }
      ]
    },
    {
      "cell_type": "markdown",
      "metadata": {
        "id": "LEJ-am6_N39V"
      },
      "source": [
        "**Euro**"
      ]
    },
    {
      "cell_type": "code",
      "metadata": {
        "id": "rp8ZBd0ON8z8",
        "colab": {
          "base_uri": "https://localhost:8080/"
        },
        "outputId": "817448ed-38cf-4241-af5d-3770a7569e52"
      },
      "source": [
        "Euro=inv.get_currency_cross_recent_data(\"EUR/COP\")\n",
        "Euro10=Euro[[\"Close\",\"Open\"]].tail()\n",
        "print(Euro10)"
      ],
      "execution_count": 185,
      "outputs": [
        {
          "output_type": "stream",
          "name": "stdout",
          "text": [
            "             Close    Open\n",
            "Date                      \n",
            "2021-12-28  4530.0  4531.5\n",
            "2021-12-29  4578.0  4534.5\n",
            "2021-12-30  4603.0  4584.0\n",
            "2021-12-31  4622.0  4609.0\n",
            "2022-01-02  4628.5  4627.0\n"
          ]
        }
      ]
    },
    {
      "cell_type": "markdown",
      "metadata": {
        "id": "S8J_1X2RHLyq"
      },
      "source": [
        "**Unir datos**"
      ]
    },
    {
      "cell_type": "code",
      "metadata": {
        "id": "FMXQjWY3JS21"
      },
      "source": [
        "##Historica_data5= pd.concat([Historica_data1,Historica_data2,Historica_data3,Historica_data],axis=1)\n",
        "## print(Historica_data5)"
      ],
      "execution_count": 186,
      "outputs": []
    },
    {
      "cell_type": "code",
      "metadata": {
        "id": "GWGL1jBUB5-u",
        "colab": {
          "base_uri": "https://localhost:8080/"
        },
        "outputId": "cb8aa2cf-2375-4da1-bc21-6c0d354a6e38"
      },
      "source": [
        "data1=pd.concat([Bovespa,Mexico,Chile,Colombia,brent10,WTI10,Oro10,Cobre10,Maiz10,soja10,Cafe10,Azucar10,Estados_unidos10,\n",
        "                  Alemania10,Reino_unido10,Francia10,Italia10,Japon10,Brazil10,Mexico10,Chile10,Argentina10,Colombia10,Peru10,Dolar10,Euro10],axis=1)     \n",
        "print(data1)"
      ],
      "execution_count": 187,
      "outputs": [
        {
          "output_type": "stream",
          "name": "stdout",
          "text": [
            "               Close      Open   Open   High  ...    Close     Open   Close    Open\n",
            "Date                                          ...                                  \n",
            "2021-12-02       NaN       NaN  7.474  7.474  ...      NaN      NaN     NaN     NaN\n",
            "2021-12-03       NaN       NaN  7.477  7.477  ...      NaN      NaN     NaN     NaN\n",
            "2021-12-04       NaN       NaN  7.634  7.634  ...      NaN      NaN     NaN     NaN\n",
            "2021-12-06       NaN       NaN  7.348  7.394  ...      NaN      NaN     NaN     NaN\n",
            "2021-12-07       NaN       NaN  7.446  7.446  ...      NaN      NaN     NaN     NaN\n",
            "2021-12-08       NaN       NaN  7.406  7.406  ...      NaN      NaN     NaN     NaN\n",
            "2021-12-09       NaN       NaN  7.417  7.417  ...      NaN      NaN     NaN     NaN\n",
            "2021-12-10       NaN       NaN  7.324  7.334  ...      NaN      NaN     NaN     NaN\n",
            "2021-12-11       NaN       NaN    NaN    NaN  ...      NaN      NaN     NaN     NaN\n",
            "2021-12-12       NaN       NaN    NaN    NaN  ...      NaN      NaN     NaN     NaN\n",
            "2021-12-13       NaN       NaN  7.340  7.340  ...      NaN      NaN     NaN     NaN\n",
            "2021-12-14       NaN       NaN  7.368  7.369  ...      NaN      NaN     NaN     NaN\n",
            "2021-12-15       NaN       NaN  7.364  7.364  ...      NaN      NaN     NaN     NaN\n",
            "2021-12-16       NaN       NaN  7.368  7.368  ...      NaN      NaN     NaN     NaN\n",
            "2021-12-17       NaN       NaN  7.324  7.324  ...      NaN      NaN     NaN     NaN\n",
            "2021-12-18       NaN       NaN    NaN    NaN  ...      NaN      NaN     NaN     NaN\n",
            "2021-12-19       NaN       NaN    NaN    NaN  ...      NaN      NaN     NaN     NaN\n",
            "2021-12-20       NaN       NaN  7.387  7.387  ...      NaN      NaN     NaN     NaN\n",
            "2021-12-21       NaN       NaN  7.417  7.424  ...      NaN      NaN     NaN     NaN\n",
            "2021-12-22       NaN       NaN  7.511  7.511  ...      NaN      NaN     NaN     NaN\n",
            "2021-12-23  104891.0  105251.0  7.552  7.552  ...      NaN      NaN     NaN     NaN\n",
            "2021-12-24       NaN       NaN  7.651  7.651  ...      NaN      NaN     NaN     NaN\n",
            "2021-12-25       NaN       NaN  7.806  7.806  ...      NaN      NaN     NaN     NaN\n",
            "2021-12-26       NaN       NaN    NaN    NaN  ...      NaN      NaN     NaN     NaN\n",
            "2021-12-27  105554.0  104892.0  7.653  7.653  ...      NaN      NaN     NaN     NaN\n",
            "2021-12-28  104864.0  105555.0  7.665  7.665  ...  4005.60  4000.00  4530.0  4531.5\n",
            "2021-12-29  104107.0  104863.0  7.625  7.625  ...  4034.46  4009.00  4578.0  4534.5\n",
            "2021-12-30  104822.0  104106.0  7.646  7.646  ...  4065.41  4039.05  4603.0  4584.0\n",
            "2021-12-31       NaN       NaN  7.629  7.629  ...  4065.41  4070.00  4622.0  4609.0\n",
            "2022-01-01       NaN       NaN  7.819  7.819  ...      NaN      NaN     NaN     NaN\n",
            "2022-01-02       NaN       NaN    NaN    NaN  ...  4070.00  4070.00  4628.5  4627.0\n",
            "\n",
            "[31 rows x 58 columns]\n"
          ]
        }
      ]
    },
    {
      "cell_type": "code",
      "source": [
        "data2=data1.fillna(method=\"ffill\")#rellenar Datos Hacia adelante \n",
        "print(data2)"
      ],
      "metadata": {
        "id": "zvq2fHSLADYT",
        "colab": {
          "base_uri": "https://localhost:8080/"
        },
        "outputId": "27665dbb-218b-40c4-a916-c7780caaccdf"
      },
      "execution_count": 188,
      "outputs": [
        {
          "output_type": "stream",
          "name": "stdout",
          "text": [
            "               Close      Open   Open   High  ...    Close     Open   Close    Open\n",
            "Date                                          ...                                  \n",
            "2021-12-02       NaN       NaN  7.474  7.474  ...      NaN      NaN     NaN     NaN\n",
            "2021-12-03       NaN       NaN  7.477  7.477  ...      NaN      NaN     NaN     NaN\n",
            "2021-12-04       NaN       NaN  7.634  7.634  ...      NaN      NaN     NaN     NaN\n",
            "2021-12-06       NaN       NaN  7.348  7.394  ...      NaN      NaN     NaN     NaN\n",
            "2021-12-07       NaN       NaN  7.446  7.446  ...      NaN      NaN     NaN     NaN\n",
            "2021-12-08       NaN       NaN  7.406  7.406  ...      NaN      NaN     NaN     NaN\n",
            "2021-12-09       NaN       NaN  7.417  7.417  ...      NaN      NaN     NaN     NaN\n",
            "2021-12-10       NaN       NaN  7.324  7.334  ...      NaN      NaN     NaN     NaN\n",
            "2021-12-11       NaN       NaN  7.324  7.334  ...      NaN      NaN     NaN     NaN\n",
            "2021-12-12       NaN       NaN  7.324  7.334  ...      NaN      NaN     NaN     NaN\n",
            "2021-12-13       NaN       NaN  7.340  7.340  ...      NaN      NaN     NaN     NaN\n",
            "2021-12-14       NaN       NaN  7.368  7.369  ...      NaN      NaN     NaN     NaN\n",
            "2021-12-15       NaN       NaN  7.364  7.364  ...      NaN      NaN     NaN     NaN\n",
            "2021-12-16       NaN       NaN  7.368  7.368  ...      NaN      NaN     NaN     NaN\n",
            "2021-12-17       NaN       NaN  7.324  7.324  ...      NaN      NaN     NaN     NaN\n",
            "2021-12-18       NaN       NaN  7.324  7.324  ...      NaN      NaN     NaN     NaN\n",
            "2021-12-19       NaN       NaN  7.324  7.324  ...      NaN      NaN     NaN     NaN\n",
            "2021-12-20       NaN       NaN  7.387  7.387  ...      NaN      NaN     NaN     NaN\n",
            "2021-12-21       NaN       NaN  7.417  7.424  ...      NaN      NaN     NaN     NaN\n",
            "2021-12-22       NaN       NaN  7.511  7.511  ...      NaN      NaN     NaN     NaN\n",
            "2021-12-23  104891.0  105251.0  7.552  7.552  ...      NaN      NaN     NaN     NaN\n",
            "2021-12-24  104891.0  105251.0  7.651  7.651  ...      NaN      NaN     NaN     NaN\n",
            "2021-12-25  104891.0  105251.0  7.806  7.806  ...      NaN      NaN     NaN     NaN\n",
            "2021-12-26  104891.0  105251.0  7.806  7.806  ...      NaN      NaN     NaN     NaN\n",
            "2021-12-27  105554.0  104892.0  7.653  7.653  ...      NaN      NaN     NaN     NaN\n",
            "2021-12-28  104864.0  105555.0  7.665  7.665  ...  4005.60  4000.00  4530.0  4531.5\n",
            "2021-12-29  104107.0  104863.0  7.625  7.625  ...  4034.46  4009.00  4578.0  4534.5\n",
            "2021-12-30  104822.0  104106.0  7.646  7.646  ...  4065.41  4039.05  4603.0  4584.0\n",
            "2021-12-31  104822.0  104106.0  7.629  7.629  ...  4065.41  4070.00  4622.0  4609.0\n",
            "2022-01-01  104822.0  104106.0  7.819  7.819  ...  4065.41  4070.00  4622.0  4609.0\n",
            "2022-01-02  104822.0  104106.0  7.819  7.819  ...  4070.00  4070.00  4628.5  4627.0\n",
            "\n",
            "[31 rows x 58 columns]\n"
          ]
        }
      ]
    },
    {
      "cell_type": "code",
      "source": [
        "data3=data2.fillna(method=\"bfill\")#rellenar Datos hacia atras \n",
        "print(data3)"
      ],
      "metadata": {
        "id": "eLq8FJ9CDwR7",
        "colab": {
          "base_uri": "https://localhost:8080/"
        },
        "outputId": "09cec5c2-3262-466b-8def-1a23ee8fce41"
      },
      "execution_count": 189,
      "outputs": [
        {
          "output_type": "stream",
          "name": "stdout",
          "text": [
            "               Close      Open   Open   High  ...    Close     Open   Close    Open\n",
            "Date                                          ...                                  \n",
            "2021-12-02  104891.0  105251.0  7.474  7.474  ...  4005.60  4000.00  4530.0  4531.5\n",
            "2021-12-03  104891.0  105251.0  7.477  7.477  ...  4005.60  4000.00  4530.0  4531.5\n",
            "2021-12-04  104891.0  105251.0  7.634  7.634  ...  4005.60  4000.00  4530.0  4531.5\n",
            "2021-12-06  104891.0  105251.0  7.348  7.394  ...  4005.60  4000.00  4530.0  4531.5\n",
            "2021-12-07  104891.0  105251.0  7.446  7.446  ...  4005.60  4000.00  4530.0  4531.5\n",
            "2021-12-08  104891.0  105251.0  7.406  7.406  ...  4005.60  4000.00  4530.0  4531.5\n",
            "2021-12-09  104891.0  105251.0  7.417  7.417  ...  4005.60  4000.00  4530.0  4531.5\n",
            "2021-12-10  104891.0  105251.0  7.324  7.334  ...  4005.60  4000.00  4530.0  4531.5\n",
            "2021-12-11  104891.0  105251.0  7.324  7.334  ...  4005.60  4000.00  4530.0  4531.5\n",
            "2021-12-12  104891.0  105251.0  7.324  7.334  ...  4005.60  4000.00  4530.0  4531.5\n",
            "2021-12-13  104891.0  105251.0  7.340  7.340  ...  4005.60  4000.00  4530.0  4531.5\n",
            "2021-12-14  104891.0  105251.0  7.368  7.369  ...  4005.60  4000.00  4530.0  4531.5\n",
            "2021-12-15  104891.0  105251.0  7.364  7.364  ...  4005.60  4000.00  4530.0  4531.5\n",
            "2021-12-16  104891.0  105251.0  7.368  7.368  ...  4005.60  4000.00  4530.0  4531.5\n",
            "2021-12-17  104891.0  105251.0  7.324  7.324  ...  4005.60  4000.00  4530.0  4531.5\n",
            "2021-12-18  104891.0  105251.0  7.324  7.324  ...  4005.60  4000.00  4530.0  4531.5\n",
            "2021-12-19  104891.0  105251.0  7.324  7.324  ...  4005.60  4000.00  4530.0  4531.5\n",
            "2021-12-20  104891.0  105251.0  7.387  7.387  ...  4005.60  4000.00  4530.0  4531.5\n",
            "2021-12-21  104891.0  105251.0  7.417  7.424  ...  4005.60  4000.00  4530.0  4531.5\n",
            "2021-12-22  104891.0  105251.0  7.511  7.511  ...  4005.60  4000.00  4530.0  4531.5\n",
            "2021-12-23  104891.0  105251.0  7.552  7.552  ...  4005.60  4000.00  4530.0  4531.5\n",
            "2021-12-24  104891.0  105251.0  7.651  7.651  ...  4005.60  4000.00  4530.0  4531.5\n",
            "2021-12-25  104891.0  105251.0  7.806  7.806  ...  4005.60  4000.00  4530.0  4531.5\n",
            "2021-12-26  104891.0  105251.0  7.806  7.806  ...  4005.60  4000.00  4530.0  4531.5\n",
            "2021-12-27  105554.0  104892.0  7.653  7.653  ...  4005.60  4000.00  4530.0  4531.5\n",
            "2021-12-28  104864.0  105555.0  7.665  7.665  ...  4005.60  4000.00  4530.0  4531.5\n",
            "2021-12-29  104107.0  104863.0  7.625  7.625  ...  4034.46  4009.00  4578.0  4534.5\n",
            "2021-12-30  104822.0  104106.0  7.646  7.646  ...  4065.41  4039.05  4603.0  4584.0\n",
            "2021-12-31  104822.0  104106.0  7.629  7.629  ...  4065.41  4070.00  4622.0  4609.0\n",
            "2022-01-01  104822.0  104106.0  7.819  7.819  ...  4065.41  4070.00  4622.0  4609.0\n",
            "2022-01-02  104822.0  104106.0  7.819  7.819  ...  4070.00  4070.00  4628.5  4627.0\n",
            "\n",
            "[31 rows x 58 columns]\n"
          ]
        }
      ]
    },
    {
      "cell_type": "markdown",
      "metadata": {
        "id": "6szvWYcuGvPX"
      },
      "source": [
        "**Descargar datos**"
      ]
    },
    {
      "cell_type": "code",
      "metadata": {
        "id": "Areidc1-CP-s",
        "colab": {
          "base_uri": "https://localhost:8080/",
          "height": 17
        },
        "outputId": "21718f1e-b6d7-4722-c4cc-accd696fd959"
      },
      "source": [
        "data3.to_excel(\"Bitacora.xlsx\")\n",
        "files.download(\"Bitacora.xlsx\")"
      ],
      "execution_count": 191,
      "outputs": [
        {
          "output_type": "display_data",
          "data": {
            "application/javascript": [
              "\n",
              "    async function download(id, filename, size) {\n",
              "      if (!google.colab.kernel.accessAllowed) {\n",
              "        return;\n",
              "      }\n",
              "      const div = document.createElement('div');\n",
              "      const label = document.createElement('label');\n",
              "      label.textContent = `Downloading \"${filename}\": `;\n",
              "      div.appendChild(label);\n",
              "      const progress = document.createElement('progress');\n",
              "      progress.max = size;\n",
              "      div.appendChild(progress);\n",
              "      document.body.appendChild(div);\n",
              "\n",
              "      const buffers = [];\n",
              "      let downloaded = 0;\n",
              "\n",
              "      const channel = await google.colab.kernel.comms.open(id);\n",
              "      // Send a message to notify the kernel that we're ready.\n",
              "      channel.send({})\n",
              "\n",
              "      for await (const message of channel.messages) {\n",
              "        // Send a message to notify the kernel that we're ready.\n",
              "        channel.send({})\n",
              "        if (message.buffers) {\n",
              "          for (const buffer of message.buffers) {\n",
              "            buffers.push(buffer);\n",
              "            downloaded += buffer.byteLength;\n",
              "            progress.value = downloaded;\n",
              "          }\n",
              "        }\n",
              "      }\n",
              "      const blob = new Blob(buffers, {type: 'application/binary'});\n",
              "      const a = document.createElement('a');\n",
              "      a.href = window.URL.createObjectURL(blob);\n",
              "      a.download = filename;\n",
              "      div.appendChild(a);\n",
              "      a.click();\n",
              "      div.remove();\n",
              "    }\n",
              "  "
            ],
            "text/plain": [
              "<IPython.core.display.Javascript object>"
            ]
          },
          "metadata": {}
        },
        {
          "output_type": "display_data",
          "data": {
            "application/javascript": [
              "download(\"download_9baf4e2f-039b-4091-9cd6-fb1bfd6928c7\", \"Bitacora.xlsx\", 12318)"
            ],
            "text/plain": [
              "<IPython.core.display.Javascript object>"
            ]
          },
          "metadata": {}
        }
      ]
    }
  ]
}
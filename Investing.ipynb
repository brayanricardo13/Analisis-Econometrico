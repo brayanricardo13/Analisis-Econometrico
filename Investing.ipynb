{
  "nbformat": 4,
  "nbformat_minor": 0,
  "metadata": {
    "colab": {
      "name": "Investing",
      "provenance": [],
      "collapsed_sections": [
        "6OFuLQbgaHr7",
        "S8J_1X2RHLyq",
        "oq5Exu6Zak7n",
        "AtDkHPKWgbnr",
        "Cga03zaN4XPn"
      ],
      "authorship_tag": "ABX9TyM3vlpHt+U5SwlkpMomWg7Y",
      "include_colab_link": true
    },
    "kernelspec": {
      "name": "python3",
      "display_name": "Python 3"
    },
    "language_info": {
      "name": "python"
    }
  },
  "cells": [
    {
      "cell_type": "markdown",
      "metadata": {
        "id": "view-in-github",
        "colab_type": "text"
      },
      "source": [
        "<a href=\"https://colab.research.google.com/github/brayanricardo13/Analisis-Econometrico/blob/main/Investing.ipynb\" target=\"_parent\"><img src=\"https://colab.research.google.com/assets/colab-badge.svg\" alt=\"Open In Colab\"/></a>"
      ]
    },
    {
      "cell_type": "code",
      "metadata": {
        "id": "QVWLUVn2wJWP"
      },
      "source": [
        "pip install investpy # tarea TradingView-TA , # yfinance "
      ],
      "execution_count": null,
      "outputs": []
    },
    {
      "cell_type": "code",
      "source": [
        " pip install yfinance"
      ],
      "metadata": {
        "id": "KAH6rQdYtZSi"
      },
      "execution_count": null,
      "outputs": []
    },
    {
      "cell_type": "code",
      "metadata": {
        "id": "CHNGAVDnwTMj"
      },
      "source": [
        "import investpy as inv\n",
        "import pandas as pd # Dataframe\n",
        "import matplotlib.pyplot as plt # Estadistica descriptiva y graficos \n",
        "import seaborn as sns # Diagrama de correlaccciones \n",
        "from openpyxl import workbook   # leer excel \n",
        "from openpyxl import load_workbook # leer excel \n",
        "import statsmodels.formula.api as smf # Regresion multiple\n",
        "import yfinance as yf # yahoo finance\n",
        "import pandas_datareader.data as wb"
      ],
      "execution_count": null,
      "outputs": []
    },
    {
      "cell_type": "code",
      "metadata": {
        "id": "E7jx7UfKBceV"
      },
      "source": [
        "from google.colab import files # Descargar archivos Excel "
      ],
      "execution_count": null,
      "outputs": []
    },
    {
      "cell_type": "markdown",
      "source": [
        "# **Extraccion de datos**"
      ],
      "metadata": {
        "id": "6OFuLQbgaHr7"
      }
    },
    {
      "cell_type": "code",
      "source": [
        "# Calendario\n",
        "lista_paises =  [\"united states\",\"Brazil\",\"germany\",'euro zone',\"colombia\",\"china\"]\n",
        "Importancia = [\"high\",\"medium\"]\n",
        "Calendario = inv.economic_calendar(\"GMT +5:30\",countries= lista_paises, importances= Importancia)\n",
        "Calendario.head()"
      ],
      "metadata": {
        "id": "7v2T3UNOi7sq",
        "colab": {
          "base_uri": "https://localhost:8080/"
        },
        "outputId": "4d5a17e3-f6bf-43b8-8c5c-e6c5d6d6279d"
      },
      "execution_count": null,
      "outputs": [
        {
          "output_type": "execute_result",
          "data": {
            "text/html": [
              "\n",
              "  <div id=\"df-b74ab280-ec90-44f0-af35-8e12bd549816\">\n",
              "    <div class=\"colab-df-container\">\n",
              "      <div>\n",
              "<style scoped>\n",
              "    .dataframe tbody tr th:only-of-type {\n",
              "        vertical-align: middle;\n",
              "    }\n",
              "\n",
              "    .dataframe tbody tr th {\n",
              "        vertical-align: top;\n",
              "    }\n",
              "\n",
              "    .dataframe thead th {\n",
              "        text-align: right;\n",
              "    }\n",
              "</style>\n",
              "<table border=\"1\" class=\"dataframe\">\n",
              "  <thead>\n",
              "    <tr style=\"text-align: right;\">\n",
              "      <th></th>\n",
              "      <th>id</th>\n",
              "      <th>date</th>\n",
              "      <th>time</th>\n",
              "      <th>zone</th>\n",
              "      <th>currency</th>\n",
              "      <th>importance</th>\n",
              "      <th>event</th>\n",
              "      <th>actual</th>\n",
              "      <th>forecast</th>\n",
              "      <th>previous</th>\n",
              "    </tr>\n",
              "  </thead>\n",
              "  <tbody>\n",
              "    <tr>\n",
              "      <th>0</th>\n",
              "      <td>750</td>\n",
              "      <td>01/02/2022</td>\n",
              "      <td>All Day</td>\n",
              "      <td>china</td>\n",
              "      <td>None</td>\n",
              "      <td>None</td>\n",
              "      <td>China - Spring Festival</td>\n",
              "      <td>None</td>\n",
              "      <td>None</td>\n",
              "      <td>None</td>\n",
              "    </tr>\n",
              "    <tr>\n",
              "      <th>1</th>\n",
              "      <td>750</td>\n",
              "      <td>01/02/2022</td>\n",
              "      <td>All Day</td>\n",
              "      <td>china</td>\n",
              "      <td>None</td>\n",
              "      <td>None</td>\n",
              "      <td>China - Spring Festival</td>\n",
              "      <td>None</td>\n",
              "      <td>None</td>\n",
              "      <td>None</td>\n",
              "    </tr>\n",
              "    <tr>\n",
              "      <th>2</th>\n",
              "      <td>443963</td>\n",
              "      <td>01/02/2022</td>\n",
              "      <td>12:30</td>\n",
              "      <td>germany</td>\n",
              "      <td>EUR</td>\n",
              "      <td>medium</td>\n",
              "      <td>German Retail Sales (MoM)  (Dec)</td>\n",
              "      <td>-5.5%</td>\n",
              "      <td>-1.4%</td>\n",
              "      <td>0.8%</td>\n",
              "    </tr>\n",
              "    <tr>\n",
              "      <th>3</th>\n",
              "      <td>443979</td>\n",
              "      <td>01/02/2022</td>\n",
              "      <td>14:25</td>\n",
              "      <td>germany</td>\n",
              "      <td>EUR</td>\n",
              "      <td>high</td>\n",
              "      <td>German Manufacturing PMI  (Jan)</td>\n",
              "      <td>59.8</td>\n",
              "      <td>60.5</td>\n",
              "      <td>57.4</td>\n",
              "    </tr>\n",
              "    <tr>\n",
              "      <th>4</th>\n",
              "      <td>443980</td>\n",
              "      <td>01/02/2022</td>\n",
              "      <td>14:25</td>\n",
              "      <td>germany</td>\n",
              "      <td>EUR</td>\n",
              "      <td>high</td>\n",
              "      <td>German Unemployment Change  (Jan)</td>\n",
              "      <td>-48K</td>\n",
              "      <td>-6K</td>\n",
              "      <td>-29K</td>\n",
              "    </tr>\n",
              "  </tbody>\n",
              "</table>\n",
              "</div>\n",
              "      <button class=\"colab-df-convert\" onclick=\"convertToInteractive('df-b74ab280-ec90-44f0-af35-8e12bd549816')\"\n",
              "              title=\"Convert this dataframe to an interactive table.\"\n",
              "              style=\"display:none;\">\n",
              "        \n",
              "  <svg xmlns=\"http://www.w3.org/2000/svg\" height=\"24px\"viewBox=\"0 0 24 24\"\n",
              "       width=\"24px\">\n",
              "    <path d=\"M0 0h24v24H0V0z\" fill=\"none\"/>\n",
              "    <path d=\"M18.56 5.44l.94 2.06.94-2.06 2.06-.94-2.06-.94-.94-2.06-.94 2.06-2.06.94zm-11 1L8.5 8.5l.94-2.06 2.06-.94-2.06-.94L8.5 2.5l-.94 2.06-2.06.94zm10 10l.94 2.06.94-2.06 2.06-.94-2.06-.94-.94-2.06-.94 2.06-2.06.94z\"/><path d=\"M17.41 7.96l-1.37-1.37c-.4-.4-.92-.59-1.43-.59-.52 0-1.04.2-1.43.59L10.3 9.45l-7.72 7.72c-.78.78-.78 2.05 0 2.83L4 21.41c.39.39.9.59 1.41.59.51 0 1.02-.2 1.41-.59l7.78-7.78 2.81-2.81c.8-.78.8-2.07 0-2.86zM5.41 20L4 18.59l7.72-7.72 1.47 1.35L5.41 20z\"/>\n",
              "  </svg>\n",
              "      </button>\n",
              "      \n",
              "  <style>\n",
              "    .colab-df-container {\n",
              "      display:flex;\n",
              "      flex-wrap:wrap;\n",
              "      gap: 12px;\n",
              "    }\n",
              "\n",
              "    .colab-df-convert {\n",
              "      background-color: #E8F0FE;\n",
              "      border: none;\n",
              "      border-radius: 50%;\n",
              "      cursor: pointer;\n",
              "      display: none;\n",
              "      fill: #1967D2;\n",
              "      height: 32px;\n",
              "      padding: 0 0 0 0;\n",
              "      width: 32px;\n",
              "    }\n",
              "\n",
              "    .colab-df-convert:hover {\n",
              "      background-color: #E2EBFA;\n",
              "      box-shadow: 0px 1px 2px rgba(60, 64, 67, 0.3), 0px 1px 3px 1px rgba(60, 64, 67, 0.15);\n",
              "      fill: #174EA6;\n",
              "    }\n",
              "\n",
              "    [theme=dark] .colab-df-convert {\n",
              "      background-color: #3B4455;\n",
              "      fill: #D2E3FC;\n",
              "    }\n",
              "\n",
              "    [theme=dark] .colab-df-convert:hover {\n",
              "      background-color: #434B5C;\n",
              "      box-shadow: 0px 1px 3px 1px rgba(0, 0, 0, 0.15);\n",
              "      filter: drop-shadow(0px 1px 2px rgba(0, 0, 0, 0.3));\n",
              "      fill: #FFFFFF;\n",
              "    }\n",
              "  </style>\n",
              "\n",
              "      <script>\n",
              "        const buttonEl =\n",
              "          document.querySelector('#df-b74ab280-ec90-44f0-af35-8e12bd549816 button.colab-df-convert');\n",
              "        buttonEl.style.display =\n",
              "          google.colab.kernel.accessAllowed ? 'block' : 'none';\n",
              "\n",
              "        async function convertToInteractive(key) {\n",
              "          const element = document.querySelector('#df-b74ab280-ec90-44f0-af35-8e12bd549816');\n",
              "          const dataTable =\n",
              "            await google.colab.kernel.invokeFunction('convertToInteractive',\n",
              "                                                     [key], {});\n",
              "          if (!dataTable) return;\n",
              "\n",
              "          const docLinkHtml = 'Like what you see? Visit the ' +\n",
              "            '<a target=\"_blank\" href=https://colab.research.google.com/notebooks/data_table.ipynb>data table notebook</a>'\n",
              "            + ' to learn more about interactive tables.';\n",
              "          element.innerHTML = '';\n",
              "          dataTable['output_type'] = 'display_data';\n",
              "          await google.colab.output.renderOutput(dataTable, element);\n",
              "          const docLink = document.createElement('div');\n",
              "          docLink.innerHTML = docLinkHtml;\n",
              "          element.appendChild(docLink);\n",
              "        }\n",
              "      </script>\n",
              "    </div>\n",
              "  </div>\n",
              "  "
            ],
            "text/plain": [
              "       id        date     time  ... actual forecast previous\n",
              "0     750  01/02/2022  All Day  ...   None     None     None\n",
              "1     750  01/02/2022  All Day  ...   None     None     None\n",
              "2  443963  01/02/2022    12:30  ...  -5.5%    -1.4%     0.8%\n",
              "3  443979  01/02/2022    14:25  ...   59.8     60.5     57.4\n",
              "4  443980  01/02/2022    14:25  ...   -48K      -6K     -29K\n",
              "\n",
              "[5 rows x 10 columns]"
            ]
          },
          "metadata": {},
          "execution_count": 5
        }
      ]
    },
    {
      "cell_type": "markdown",
      "metadata": {
        "id": "l9vXtOsgYR8m"
      },
      "source": [
        "**Futuros de indices renta variable**"
      ]
    },
    {
      "cell_type": "markdown",
      "metadata": {
        "id": "xG4KMGTDCEqC"
      },
      "source": [
        "**Dow Jones**"
      ]
    },
    {
      "cell_type": "code",
      "metadata": {
        "id": "YF3rdzW2v9dH",
        "colab": {
          "base_uri": "https://localhost:8080/"
        },
        "outputId": "25b48508-87a1-4360-87e9-e87276d6d1ec"
      },
      "source": [
        "inv.get_indices_list(\"united states\")"
      ],
      "execution_count": null,
      "outputs": [
        {
          "output_type": "execute_result",
          "data": {
            "text/plain": [
              "['NQ US Mid Cap Value',\n",
              " 'NQ US Mid Cap Growth',\n",
              " 'NQ US Mid Cap Telecommunications Equipment',\n",
              " 'NQ US Mid Cap Semiconductors',\n",
              " 'NQ US Mid Cap Computer Hardware',\n",
              " 'NQ US Mid Cap Technology Hardware & Equipment',\n",
              " 'NQ US Mid Cap Technology',\n",
              " 'NQ US Mid Cap Software',\n",
              " 'NQ US Mid Cap Software & Computer Services',\n",
              " 'NQ US Mid Cap Investment Services',\n",
              " 'NQ US Mid Cap Asset Managers',\n",
              " 'NQ US Small Cap Oil & Gas',\n",
              " 'NQ US Mid Cap Financial Service',\n",
              " 'NQ US Mid Cap Financial Services Sector',\n",
              " 'NQ US Mid Cap Mortgage REITs',\n",
              " 'NQ US Small Cap Oil & Gas Producers',\n",
              " 'NQ US Small Cap Forestry & Paper',\n",
              " 'NQ US Small Cap Oil Equipment & Services',\n",
              " 'NQ US Small Cap General Mining',\n",
              " 'NQ US Small Cap Coal',\n",
              " 'NQ US Mid Cap Specialty REITs',\n",
              " 'NQ US Small Cap Mining',\n",
              " 'NQ US Small Cap Iron & Steel',\n",
              " 'NQ US Small Cap Nonferrous Metals',\n",
              " 'NQ US Small Cap Industrial Metals & Mining',\n",
              " 'NQ US Small Cap Paper',\n",
              " 'NQ US Small Cap Basic Resources',\n",
              " 'NQ US Small Cap Specialty Chemicals',\n",
              " 'NQ US Small Cap Commodity Chemicals',\n",
              " 'NQ US Small Cap Chemicals',\n",
              " 'NQ US Small Cap Basic Materials',\n",
              " 'NQ US Small Cap Renewable Energy Equipment',\n",
              " 'NQ US Small Cap Alternative Energy',\n",
              " 'NQ US Small Cap Exploration & Production',\n",
              " 'NQ US Mid Cap Residential REITs',\n",
              " 'NQ US Mid Cap Specialty Retailers',\n",
              " 'NQ US Mid Cap Industrial & Office REITs',\n",
              " 'NQ US Mid Cap Broadcasting & Entertainment',\n",
              " 'NQ US Mid Cap Media',\n",
              " 'NQ US Mid Cap Specialized Consumer Services',\n",
              " 'NQ US Mid Cap Apparel Retailers',\n",
              " 'NQ US Mid Cap General Retailers',\n",
              " 'NQ US Mid Cap Food Retailers & Wholesalers',\n",
              " 'NQ US Mid Cap Food & Drug Retailers',\n",
              " 'NQ US Mid Cap Retail',\n",
              " 'NQ US Mid Cap Consumer Services',\n",
              " 'NQ US Mid Cap Pharmaceuticals',\n",
              " 'NQ US Mid Cap Biotechnology',\n",
              " 'NQ US Mid Cap Pharmaceuticals & Biotechnology',\n",
              " 'NQ US Mid Cap Medical Supplies',\n",
              " 'NQ US Small Cap Gold Mining',\n",
              " 'NQ US Mid Cap Medical Equipment',\n",
              " 'NQ US Mid Cap Publishing',\n",
              " 'NQ US Mid Cap Retail REITs',\n",
              " 'NQ US Mid Cap Travel & Leisure',\n",
              " 'NQ US Mid Cap Restaurants & Bars',\n",
              " 'NQ US Mid Cap Real Estate Investment Trusts',\n",
              " 'NQ US Mid Cap Real Estate Investment & Services',\n",
              " 'NQ US Mid Cap Real Estate',\n",
              " 'NQ US Mid Cap Life Insurance',\n",
              " 'NQ US Mid Cap Reinsurance',\n",
              " 'NQ US Mid Cap Property & Casualty Insurance',\n",
              " 'NQ US Mid Cap Nonlife Insurance',\n",
              " 'NQ US Mid Cap Insurance',\n",
              " 'NQ US Mid Cap Banks',\n",
              " 'NQ US Mid Cap Financials',\n",
              " 'NQ US Mid Cap Gas, Water & Multiutilities',\n",
              " 'NQ US Mid Cap Conventional Electricity',\n",
              " 'NQ US Mid Cap Electricity',\n",
              " 'NQ US Mid Cap Utilities',\n",
              " 'NQ US Mid Cap Telecom',\n",
              " 'NQ US Mid Cap Recreational Services',\n",
              " 'NQ US Small Cap Industrials',\n",
              " 'NQ US Small Cap Pharmaceuticals',\n",
              " 'NQ US Small Cap Building Materials & Fixtures',\n",
              " 'NQ US Small Cap Food Retailers & Wholesalers',\n",
              " 'NQ US Small Cap Food & Drug Retailers',\n",
              " 'NQ US Small Cap Retail',\n",
              " 'NQ US Small Cap Consumer Services',\n",
              " 'NQ US Small Cap Biotechnology',\n",
              " 'NQ US Small Cap Pharmaceuticals & Biotechnology',\n",
              " 'NQ US Small Cap General Retailers',\n",
              " 'NQ US Small Cap Medical Supplies',\n",
              " 'NQ US Small Cap Health Care Providers',\n",
              " 'NQ US Small Cap Health Care Equipment & Services',\n",
              " 'NQ US Small Cap Health Care',\n",
              " 'NQ US Small Cap Tobacco',\n",
              " 'NQ US Small Cap Personal Products',\n",
              " 'NQ US Small Cap Footwear',\n",
              " 'NQ US Small Cap Medical Equipment',\n",
              " 'NQ US Small Cap Apparel Retailers',\n",
              " 'NQ US Small Cap Broadline Retailers',\n",
              " 'NQ US Small Cap Home Improvement Retailers',\n",
              " 'NQ US Mid Cap Health Care Providers',\n",
              " 'NQ US Sml Cap Telecommunicati',\n",
              " 'NQ US Small Cap Travel & Tourism',\n",
              " 'NQ US Small Cap Restaurants & Bars',\n",
              " 'NQ US Small Cap Recreational Services',\n",
              " 'NQ US Small Cap Hotels',\n",
              " 'NQ US Small Cap Gambling',\n",
              " 'NQ US Small Cap Airlines',\n",
              " 'NQ US Sml Cap Travel & Leisure',\n",
              " 'NQ US Small Cap Publishing',\n",
              " 'NQ US Small Cap Media Agencies',\n",
              " 'NQ US Small Cap Broadcasting & Entertainment',\n",
              " 'NQ US Small Cap Media',\n",
              " 'NQ US Small Cap Specialty Retailers',\n",
              " 'NQ US Small Cap Specialized Consumer Services',\n",
              " 'NQ US Small Cap Clothing & Accessories',\n",
              " 'NQ US Small Cap Personal Goods',\n",
              " 'NQ US Small Cap Toys',\n",
              " 'NQ US Small Cap Recreational Products',\n",
              " 'NQ US Small Cap Trucking',\n",
              " 'NQ US Small Cap Transportation Services',\n",
              " 'NQ US Small Cap Industrial Transportation',\n",
              " 'NQ US Small Cap Industrial Machinery',\n",
              " 'NQ US Small Cap Commercial Vehicles & Trucks',\n",
              " 'NQ US Small Cap Industrial Engineering',\n",
              " 'NQ US Small Cap Electronic Equipment',\n",
              " 'NQ US Small Cap Electrical Components & Equipment',\n",
              " 'NQ US Small Cap Electronic & Electrical Equipment',\n",
              " 'NQ US Small Cap Containers & Packaging',\n",
              " 'NQ US Small Cap General Industrials',\n",
              " 'NQ US Small Cap Defense',\n",
              " 'NQ US Small Cap Aerospace',\n",
              " 'NQ US Small Cap Aerospace & Defense',\n",
              " 'NQ US Small Cap Industrial G&S',\n",
              " 'NQ US Small Cap Support Services',\n",
              " 'NQ US Sml Cap Construct & Mtrl',\n",
              " 'NQ US Small Cap Business Support Services',\n",
              " 'NQ US Small Cap Financial Administration',\n",
              " 'NQ US Small Cap Consumer Electronics',\n",
              " 'NQ US Small Cap Leisure Goods',\n",
              " 'NQ US Small Cap Furnishings',\n",
              " 'NQ US Small Cap Nondurable Household Products',\n",
              " 'NQ US Small Cap Durable Household Products',\n",
              " 'NQ US Small Cap Personal & Household Goods',\n",
              " 'NQ US Small Cap Food Products',\n",
              " 'NQ US Small Cap Food Producers',\n",
              " 'NQ US Small Cap Beverages',\n",
              " 'NQ US Small Cap Food & Beverage',\n",
              " 'NQ US Small Cap Auto Parts',\n",
              " 'NQ US Small Cap Automobiles & Parts',\n",
              " 'NQ US Small Cap Consumer Goods',\n",
              " 'NQ US Small Cap Waste & Disposal Services',\n",
              " 'NQ US Small Cap Industrial Suppliers',\n",
              " 'NQ US Small Cap Business Training & Employment Age',\n",
              " 'NQ US Mid Cap Health Care Equipment & Services',\n",
              " 'NQ US Large Cap Industrial Machinery',\n",
              " 'NQ US Mid Cap Clothing and Accessories',\n",
              " 'NQ US Large Cap Consumer Goods',\n",
              " 'NQ US Large Cap Financial Administration',\n",
              " 'NQ US Large Cap Business Support Services',\n",
              " 'NQ US Large Cap Support Services',\n",
              " 'NQ US Large Cap Industrial Transportation',\n",
              " 'NQ US Small Cap Fixed Line Telecommunications',\n",
              " 'NQ US Large Cap Automobiles & Parts',\n",
              " 'NQ US Large Cap Commercial Vehicles & Trucks',\n",
              " 'NQ US Large Cap Electronic Equipment',\n",
              " 'NQ US Large Cap Electronic & Electrical Equipment',\n",
              " 'NQ US Large Cap Diversified Industrials',\n",
              " 'NQ US Large Cap General Industrials',\n",
              " 'NQ US Large Cap Defense',\n",
              " 'NQ US Large Cap Aerospace',\n",
              " 'NQ US Large Cap Industrial Engineering',\n",
              " 'NQ US Large Cap Food & Beverage',\n",
              " 'NQ US Large Cap Beverages',\n",
              " 'NQ US Large Cap Food Producers',\n",
              " 'NQ US Large Cap Drug Retailers',\n",
              " 'NQ US Large Cap Food & Drug Retailers',\n",
              " 'NQ US Large Cap Retail',\n",
              " 'NQ US Large Cap Consumer Services',\n",
              " 'NQ US Large Cap Pharmaceuticals',\n",
              " 'NQ US Large Cap Biotechnology',\n",
              " 'NQ US Large Cap Pharmaceuticals & Biotechnology',\n",
              " 'NQ US Large Cap Medical Supplies',\n",
              " 'NQ US Large Cap Medical Equipment',\n",
              " 'NQ US Large Cap Health Care Providers',\n",
              " 'NQ US Large Cap Health Care Equipment & Services',\n",
              " 'NQ US Large Cap Health Care',\n",
              " 'NQ US Large Cap Personal Goods',\n",
              " 'NQ US Large Cap Personal & Household Goods',\n",
              " 'NQ US Large Cap Food Products',\n",
              " 'NQ US Large Cap Aerospace & Defense',\n",
              " 'NQ US Large Cap Industrial G&S',\n",
              " 'NQ US Large Cap Industrials',\n",
              " 'NQ US Large Cap Industrial Metals & Mining',\n",
              " 'NQ US Benchmark Mortgage Finance',\n",
              " 'NQ US Benchmark Investment Services',\n",
              " 'NQ US Benchmark Specialty Finance',\n",
              " 'NQ US Benchmark Consumer Finance',\n",
              " 'NQ US Benchmark Asset Managers',\n",
              " 'NQ US Benchmark Financial Services Sector',\n",
              " 'NQ US Benchmark Hotel & Lodging REITs',\n",
              " 'NQ US Benchmark Mortgage REITs',\n",
              " 'NQ US Benchmark Specialty REITs',\n",
              " 'NQ US Benchmark Diversified REITs',\n",
              " 'NQ US Benchmark Residential REITs',\n",
              " 'NQ US Benchmark Retail REITs',\n",
              " 'NQ US Benchmark Industrial & Office REITs',\n",
              " 'NQ US Benchmark Real Estate Investment Trusts',\n",
              " 'NQ US Benchmark Real Estate Services',\n",
              " 'NQ US Benchmark Software & Computer Services',\n",
              " 'NQ US Large Cap General Retailers',\n",
              " 'NQ US Benchmark Computer Services',\n",
              " 'NQ US Benchmark Software',\n",
              " 'NQ US Large Cap Basic Resources',\n",
              " 'NQ US Large Cap Specialty Chemicals',\n",
              " 'NQ US Large Cap Commodity Chemicals',\n",
              " 'NQ US Large Cap Chemicals',\n",
              " 'NQ US Large Cap Basic Materials',\n",
              " 'NQ US Large Cap Oil Equipment & Services',\n",
              " 'NQ US Large Cap Integrated Oil & Gas',\n",
              " 'NQ US Large Cap Exploration & Production',\n",
              " 'NQ US Large Cap Oil & Gas Producers',\n",
              " 'NQ US Large Cap Oil & Gas',\n",
              " 'NQ Chaikin Power US Small Cap',\n",
              " 'NQ US Benchmark Telecommunications Equipment',\n",
              " 'NQ US Benchmark Semiconductors',\n",
              " 'NQ US Benchmark Computer Hardware',\n",
              " 'NQ US Benchmark Technology Hardware & Equipment',\n",
              " 'NQ US Benchmark Internet',\n",
              " 'NQ US Mid Cap Health Care',\n",
              " 'NQ US Large Cap Apparel Retailers',\n",
              " 'NQ US Large Cap Specialty Retailers',\n",
              " 'NQ US Mid Cap Aerospace',\n",
              " 'NQ US Mid Cap Industrial G&S',\n",
              " 'NQ US Mid Cap Building Materials & Fixtures',\n",
              " 'NQ US Mid Cap Construct & Mater',\n",
              " 'NQ US Mid Cap Industrials',\n",
              " 'NQ US Mid Cap Iron and Steel',\n",
              " 'NQ US Mid Cap General Industrials',\n",
              " 'NQ US Mid Cap Basic Resources',\n",
              " 'NQ US Mid Cap Commodity Chemicals',\n",
              " 'NQ US Mid Cap Chemicals',\n",
              " 'NQ US Mid Cap Basic Materials',\n",
              " 'NQ US Mid Cap Oil Equipment & Services',\n",
              " 'NQ US Mid Cap Exploration & Production',\n",
              " 'NQ US Mid Cap Oil & Gas Producers',\n",
              " 'NQ US Mid Cap Specialty Chemicals',\n",
              " 'NQ US Mid Cap Containers & Packaging',\n",
              " 'NQ US Mid Cap Electronic & Electrical Equipment',\n",
              " 'NQ US Mid Cap Electrical Components & Equipment',\n",
              " 'NQ US Mid Cap Leisure Goods',\n",
              " 'NQ US Mid Cap Personal & Household Goods',\n",
              " 'NQ US Mid Cap Food Products',\n",
              " 'NQ US Mid Cap Food Producers',\n",
              " 'NQ US Mid Cap Food & Beverage',\n",
              " 'NQ US Mid Cap Automobiles & Parts',\n",
              " 'NQ US Mid Cap Consumer Goods',\n",
              " 'NQ US Mid Cap Financial Administration',\n",
              " 'NQ US Mid Cap Business Support Services',\n",
              " 'NQ US Mid Cap Support Services',\n",
              " 'NQ US Md Cap Ind Transportation',\n",
              " 'NQ US Mid Cap Industrial Machinery',\n",
              " 'NQ US Mid Cap Commercial Vehicles & Trucks',\n",
              " 'NQ US Mid Cap Industrial Engineering',\n",
              " 'NQ US Mid Cap Electronic Equipment',\n",
              " 'NQ US Mid Cap Oil & Gas',\n",
              " 'NQ US Large Cap Value',\n",
              " 'NQ US Large Cap Growth',\n",
              " 'NQ US Large Cap Telecommunications Equipment',\n",
              " 'NQ US Large Cap Nonlife Insurance',\n",
              " 'NQ US Large Cap Insurance',\n",
              " 'NQ US Large Cap Banks',\n",
              " 'NQ US Large Cap Financials',\n",
              " 'NQ US Large Cap Multiutilities',\n",
              " 'NQ US Large Cap Gas, Water & Multiutilities',\n",
              " 'NQ US Large Cap Conventional Electricity',\n",
              " 'NQ US Large Cap Electricity',\n",
              " 'NQ US Large Cap Utilities',\n",
              " 'NQ US Large Cap Fixed Line Telecommunications',\n",
              " 'NQ US Large Cap Telecommunications',\n",
              " 'NQ US Large Cap Restaurants & Bars',\n",
              " 'NQ US Large Cap Travel& Leisure',\n",
              " 'NQ US Large Cap Broadcasting & Entertainment',\n",
              " 'NQ US Large Cap Media',\n",
              " 'NQ US Large Cap Property & Casualty Insurance',\n",
              " 'NQ US Large Cap Broadline Retailers',\n",
              " 'NQ US Large Cap Life Insurance',\n",
              " 'NQ US Large Cap Real Estate Investment Trusts',\n",
              " 'NQ US Large Cap Semiconductors',\n",
              " 'NQ US Large Cap Computer Hardware',\n",
              " 'NQ US Large Cap Technology Hardware & Equipment',\n",
              " 'NQ US Large Cap Software',\n",
              " 'NQ US Large Cap Computer Services',\n",
              " 'NQ US Large Cap Software & Computer Services',\n",
              " 'NQ US Large Cap Technology',\n",
              " 'NQ US Large Cap Investment Services',\n",
              " 'NQ US Large Cap Consumer Finance',\n",
              " 'NQ US Large Cap Asset Managers',\n",
              " 'NQ US Large Cap Financial Services Sector',\n",
              " 'NQ US Lr Cap Financial Services',\n",
              " 'NQ US Large Cap Specialty REITs',\n",
              " 'NQ US Large Cap Retail REITs',\n",
              " 'NQ US Large Cap Industrial and Office REITs',\n",
              " 'NQ US Large Cap Real Estate',\n",
              " 'NQ US Small Cap Mobile Telecommunications',\n",
              " 'Low Volatility Short Only TR',\n",
              " 'NQ US Small Cap Electricity',\n",
              " 'DJ Asset Managers',\n",
              " 'DJ Auto Parts Makers',\n",
              " 'DJ Automobiles',\n",
              " 'DJ Automobiles & Parts',\n",
              " 'DJ Banks',\n",
              " 'DJ Basic Resources',\n",
              " 'DJ Apparel Retailers',\n",
              " 'DJ Beverages',\n",
              " 'DJ Brewers',\n",
              " 'DJ Broadcasting & Entertainment',\n",
              " 'DJ Broadline Retailers',\n",
              " 'DJ Building Materials & Fixtures',\n",
              " 'DJ Business Support Services',\n",
              " 'DJ Business Training & Employment Agencies',\n",
              " 'DJ Biotechnology',\n",
              " 'DJ Aluminum',\n",
              " 'DJ Airlines',\n",
              " 'DJ Aerospace & Defense',\n",
              " 'ARCA Mini-Natural Gas',\n",
              " 'ARCA Mini-Oil',\n",
              " 'ARCA Mini-Pharmaceutical',\n",
              " 'ARCA Mini-Securities',\n",
              " 'ARCA Natural Gas',\n",
              " 'ARCA Networking',\n",
              " 'ARCA North American Telecommunications',\n",
              " 'ARCA Oil',\n",
              " 'ARCA Pharmaceutical',\n",
              " 'ARCA Securities Broker',\n",
              " 'ARCA Steel',\n",
              " 'ARCA Technology 100',\n",
              " 'ARCA Telecom',\n",
              " 'ARCA Tobacco',\n",
              " 'DJ Aerospace',\n",
              " 'DJ Chemicals',\n",
              " 'DJ Clothing & Accessories',\n",
              " 'DJ Coal',\n",
              " 'DJ Commercial Vehicles & Trucks',\n",
              " 'DJ Equity All REIT',\n",
              " 'DJ Exploration & Production',\n",
              " 'DJ Financial Administration',\n",
              " 'DJ Financial Services',\n",
              " 'DJ Financial Services',\n",
              " 'DJ Financial Services Composite',\n",
              " 'DJ Food & Beverage Makers',\n",
              " 'DJ Food & Drug Retailers',\n",
              " 'DJ Food Producers',\n",
              " 'DJ Food Product Makers',\n",
              " 'DJ Food Retail & Wholesale',\n",
              " 'DJ Footwear',\n",
              " 'DJ Forestry & Paper',\n",
              " 'DJ Full Line Insurance',\n",
              " 'DJ Furnishings',\n",
              " 'DJ Electronic Equipment',\n",
              " 'ARCA Mini-Biotechnology',\n",
              " 'DJ Electronic & Electrical Equipment',\n",
              " 'DJ Electrical Components & Equipment',\n",
              " 'DJ Commodity Chemicals',\n",
              " 'DJ Composite',\n",
              " 'DJ Computer Hardware',\n",
              " 'DJ Computer Services',\n",
              " 'DJ Construction & Materials',\n",
              " 'DJ Consumer Finance',\n",
              " 'DJ Containers & Packaging',\n",
              " 'DJ Conventional Electricity',\n",
              " 'DJ Defense',\n",
              " 'DJ Delivery Services',\n",
              " 'DJ Distillers & Vintners',\n",
              " 'DJ Diversified Industrials',\n",
              " 'DJ Diversified REITs',\n",
              " 'DJ Drug Retailers',\n",
              " 'DJ Durable Household Products',\n",
              " 'DJ Electricity',\n",
              " 'DJ Gambling',\n",
              " 'ARCA Junior Gold BUGS',\n",
              " 'ARCA Gold Miners',\n",
              " 'NQ Industrial',\n",
              " 'NQ Insurance',\n",
              " 'NQ Internet',\n",
              " 'NQ Other Finance',\n",
              " 'NQ Telecommunications',\n",
              " 'NQ Transportation',\n",
              " 'NASDAQ Health Care',\n",
              " 'NYSE Energy',\n",
              " 'NYSE Healthcare',\n",
              " 'NYSE TMT',\n",
              " 'PHLX Semiconductor',\n",
              " 'Russell 1000 Financial Services',\n",
              " 'S&P 500 Consumer Discretionary',\n",
              " 'S&P 500 Consumer Staples',\n",
              " 'NYSE Financials',\n",
              " 'NQ Financial 100',\n",
              " 'NQ Computer',\n",
              " 'NQ Biotechnology',\n",
              " 'Dow 30',\n",
              " 'Nasdaq 100',\n",
              " 'Nasdaq',\n",
              " 'S&P 500',\n",
              " 'DJ Basic Materials',\n",
              " 'DJ Consumer Goods',\n",
              " 'DJ Consumer Services',\n",
              " 'DJ Financials',\n",
              " 'DJ Health Care',\n",
              " 'DJ Industrials',\n",
              " 'DJ Oil&Gas',\n",
              " 'DJ Technology',\n",
              " 'DJ Telecom',\n",
              " 'DJ Utilities',\n",
              " 'NQ Bank',\n",
              " 'S&P 500 Energy',\n",
              " 'S&P 500 Financials',\n",
              " 'S&P 500 Health Care',\n",
              " 'S&P 500 Industrials',\n",
              " 'Braclays Capital Commodities',\n",
              " 'Canadian Crude Excess Return',\n",
              " 'Canadian Crude Reference Price',\n",
              " 'ISE Natural Gas TR',\n",
              " 'ARCA Airline',\n",
              " 'ARCA Biotechnology',\n",
              " 'ARCA Computer Hardware',\n",
              " 'ARCA Computer Technology',\n",
              " 'ARCA Defense',\n",
              " 'ARCA Disk Drive',\n",
              " 'ARCA Electric Power & Natural Gas Infrastructure',\n",
              " 'ARCA Environmental Svcs',\n",
              " 'ARCA Equal Weighted Pharmaceutical',\n",
              " 'ARCA Global Airline',\n",
              " 'ARCA Gold BUGS',\n",
              " 'Bloomberg Corn Subindex TR',\n",
              " 'ARCA Institutional',\n",
              " 'Bloomberg Brent Crude Subindex TR',\n",
              " '10-year US Treasury VIX',\n",
              " 'S&P 500 Information Technology',\n",
              " 'S&P 500 Materials',\n",
              " 'S&P 500 Real Estate',\n",
              " 'S&P 500 Telecom Services',\n",
              " 'S&P 500 Utilities',\n",
              " 'S&P 500 VIX',\n",
              " 'DJ Composite',\n",
              " 'DJ Transportation',\n",
              " 'DJ Utility',\n",
              " 'NYSE AMEX Composite',\n",
              " 'NYSE Composite',\n",
              " 'OTCM ADR',\n",
              " 'OTCM QX ADR 30',\n",
              " 'S&P 100',\n",
              " 'SmallCap 2000',\n",
              " 'Barclays WTI Crude Oil Pure Beta TR',\n",
              " 'DJ Gas Distribution',\n",
              " 'DJ Gas Water & Multiutilities',\n",
              " 'DJ General Industrials',\n",
              " 'FTSE USA Large Cap Super Liquid Net Of Tax',\n",
              " 'FTSE RAFI US Low Volatility',\n",
              " 'FTSE RAFI US 3000 QSR',\n",
              " 'FTSE RAFI US 1500 Mid Small QSR',\n",
              " 'FTSE RAFI US 1000 QSR',\n",
              " 'FTSE EPRA/NAREIT US Dividend+',\n",
              " 'FTSE USA Super Liquid',\n",
              " 'WisdomTree US Equity Income iNAV',\n",
              " 'NQ 100 Settlement',\n",
              " 'NQ Composite Settlement',\n",
              " 'NQ Premarket',\n",
              " 'NQ After Market',\n",
              " 'NQ US Small Cap Value',\n",
              " 'NQ US Small Cap Growth',\n",
              " 'WisdomTree US SmallCap Dividend iNAV',\n",
              " 'FTSE Renaissance US IPO',\n",
              " 'FTSE Renaissance US IPO Investable',\n",
              " 'FTSE USA Large Cap Super Liquid 2x Daily Leveraged',\n",
              " 'Stoxx USA 50  Daily EUR',\n",
              " 'Stoxx USA 50 Daily EUR',\n",
              " 'Stoxx USA 50 Daily 4 EUR',\n",
              " 'Federal Funds Composite Interest Rate',\n",
              " 'MSCI US Small Gross',\n",
              " 'MSCI USA Quality GR',\n",
              " 'FTSE RAFI US 1000 Hedged In CAD',\n",
              " 'DJ U.S. Select REIT TR',\n",
              " 'DJ U.S. Select Dividend TR',\n",
              " 'DJ U.S. Select Dividend Net TR',\n",
              " 'FTSE USA Large Cap Super Liquid 3x Daily Leveraged',\n",
              " 'FTSE USA Large Cap Super Liquid 3x Daily Short',\n",
              " 'FTSE USA Large Cap Super Liquid 2x Daily Short',\n",
              " 'FTSE USA Large Cap Super Liquid Daily Short',\n",
              " 'FTSE USA Large Cap Super Liquid 4x Daily Leveraged',\n",
              " 'NQ US Small Cap Telecommunications Equipment',\n",
              " 'NQ US Small Cap Semiconductors',\n",
              " 'NQ US Small Cap Computer Hardware',\n",
              " 'NQ US Small Cap Technology Hardware & Equipment',\n",
              " 'NQ US Small Cap Real Estate Investment Trusts',\n",
              " 'NQ US Small Cap Real Estate Services',\n",
              " 'NQ US Small Cap Real Estate Holding & Development',\n",
              " 'NQ US Small Cap Real Estate Investment & Services',\n",
              " 'NQ US Small Cap Real Estate',\n",
              " 'NQ US Small Cap Life Insurance',\n",
              " 'NQ US Small Cap Reinsurance',\n",
              " 'NQ US Small Cap Property & Casualty Insurance',\n",
              " 'NQ US Small Cap Nonlife Insurance',\n",
              " 'NQ US Small Cap Insurance',\n",
              " 'NQ US Small Cap Banks',\n",
              " 'NQ US Small Cap Financials',\n",
              " 'NQ US Small Cap Water',\n",
              " 'NQ US Small Cap Gas, Water & Multiutilities',\n",
              " 'NQ US Small Cap Conventional Electricity',\n",
              " 'NQ US Small Cap Industrial & Office REITs',\n",
              " 'Stoxx USA 50 Risk 10% RV USD',\n",
              " 'NQ US Small Cap Retail REITs',\n",
              " 'NQ US Small Cap Diversified REITs',\n",
              " 'NQ US Small Cap Software',\n",
              " 'NQ US Small Cap Internet',\n",
              " 'NQ US Small Cap Computer Services',\n",
              " 'NQ US Small Cap Software & Computer Services',\n",
              " 'NQ US Small Cap Technology',\n",
              " 'NQ US Small Cap Mortgage Finance',\n",
              " 'NQ US Small Cap Investment Services',\n",
              " 'NQ US Small Cap Specialty Finance',\n",
              " 'NQ US Small Cap Consumer Finance',\n",
              " 'NQ US Small Cap Asset Managers',\n",
              " 'NQ US Small Cap Financial Services Sector',\n",
              " 'NQ US Small Cap Financial Services',\n",
              " 'NQ US Small Cap Hotel & Lodging REITs',\n",
              " 'NQ US Small Cap Mortgage REITs',\n",
              " 'NQ US Small Cap Specialty REITs',\n",
              " 'NQ US Small Cap Residential REITs',\n",
              " 'Stoxx USA 50 Risk 10% RV EUR',\n",
              " 'Stoxx USA 50 Risk 15% RV USD',\n",
              " 'Stoxx USA 50 Risk 15% RV EUR',\n",
              " 'Merrill Lynch MOVE Index 1 Month',\n",
              " 'FTSE USA Core Infrastructure Capped Net Tax',\n",
              " 'FTSE US Risk Premium Dividend Yield Short only TR',\n",
              " 'FTSE US Risk Premium Dividend Yield Long only TR',\n",
              " 'Forward Earnings Yield Short only TR',\n",
              " 'Dividend Yield Long only TR',\n",
              " 'Seasonality Short only TR',\n",
              " 'FTSE US Risk Premium Dividend Yield Long only Pric',\n",
              " 'Cash flow Yield Long only Net Tax',\n",
              " 'Low Volatility Long Only TR',\n",
              " 'Cash flow Yield short only TR',\n",
              " 'FTSE US Risk Premium Dividend Yield Short only Pri',\n",
              " 'Cash flow/Invested Capital short only TR',\n",
              " 'Forward Dividend Yield Short only TR',\n",
              " 'Scaled NOA Differential Long only TR',\n",
              " 'Merrill Lynch MOVE Index 3 Month',\n",
              " 'Cash flow/Invested Capital Trend long only TR',\n",
              " 'Merrill Lynch MOVE Index 6 Month',\n",
              " 'DJ Industrial Suppliers',\n",
              " 'DJ General Retailers',\n",
              " 'DJ Gold Mining',\n",
              " 'DJ Health Care Equipment & Services',\n",
              " 'DJ Health Care Providers',\n",
              " 'DJ Heavy Construction',\n",
              " 'DJ Home Construction',\n",
              " 'DJ Home Improvement Retailers',\n",
              " 'DJ Hotel & Lodging REITs',\n",
              " 'DJ Hotels',\n",
              " 'DJ Household Goods & Home Construction',\n",
              " 'DJ Industrial & Office REITs',\n",
              " 'DJ Industrial Engineering',\n",
              " 'DJ Industrial Goods & Services',\n",
              " 'DJ Industrial Machinery',\n",
              " 'DJ Industrial Metals & Mining',\n",
              " 'DJ Industrial Transportation',\n",
              " 'NQ US Small Cap Utilities',\n",
              " 'Forward Dividend Yield Long only TR',\n",
              " 'ROE short only TR',\n",
              " 'S&P Midcap 400 Growth Total Return',\n",
              " 'S&P 500 Growth Total Return',\n",
              " 'MSCI United States Broad Gross',\n",
              " 'S&P 500 Net TR',\n",
              " 'CEMP US Small Cap 500 Vol Weighted TR',\n",
              " 'CEMP US Small Cap 500 Vol Weighted',\n",
              " 'CEMP US Large Cap 500 Vol Weighted TR',\n",
              " 'CEMP US Large Cap 500 Vol Weighted',\n",
              " 'CEMP US Equity Hedge Vol Weighted TR',\n",
              " 'CEMP US Large Cap High Dividend',\n",
              " 'CEMP US Large Cap High Dividend 100 Vol Weighted',\n",
              " 'Stoxx USA 50 Risk 5% RV EUR',\n",
              " 'Stoxx USA 50 Risk 5% RV USD',\n",
              " 'Stoxx USA 50 Risk 20% RV EUR',\n",
              " 'Stoxx USA 50 Risk 20% RV USD',\n",
              " 'S&P Midcap 400 Value Total Return',\n",
              " 'Price Momentum long only TR',\n",
              " 'S&P SmallCap 600 Growth Total Return',\n",
              " 'S&P 400 Total Return',\n",
              " 'Cash flow/Invested Capital Trend short only TR',\n",
              " 'Cash flow Yield Long only TR',\n",
              " 'Extended Price Momentum Long only TR',\n",
              " 'Size Long only TR',\n",
              " 'Price Momentum short only TR',\n",
              " 'Cash flow/Invested Capital long only TR',\n",
              " 'Scaled NOA Differential short only TR',\n",
              " 'Dividend Yield Short only TR',\n",
              " 'NQ US Benchmark Real Estate Holding & Development',\n",
              " 'Extended Price Momentum Short only TR',\n",
              " 'Size Short only TR',\n",
              " 'Forward Earnings Yield Long only TR',\n",
              " 'Seasonality Long only TR',\n",
              " 'ROE Long only TR',\n",
              " 'LadderRite 0-10year USD Corporate Bond',\n",
              " 'S&P SmallCap 600 Value Total Return',\n",
              " 'NQ US Benchmark Real Estate Investment & Services',\n",
              " 'MSCI US Gross',\n",
              " 'NQ US Benchmark Reinsurance',\n",
              " 'CBOE Energy Sector Etf Volitlity',\n",
              " 'CBOE Equity VIX on Amazon',\n",
              " 'CBOE Equity VIX on Apple',\n",
              " 'CBOE Equity VIX on Goldman Sachs',\n",
              " 'CBOE Equity VIX on Google',\n",
              " 'Sabrient Global Balanced Income',\n",
              " 'Sabrient Global Balanced Growth',\n",
              " 'S&P Smallcap 600 Value',\n",
              " 'S&P SmallCap 600 Pure Value',\n",
              " 'CBOE Emerging Markets Etf Volitlity',\n",
              " 'S&P SmallCap 600 Pure Growth',\n",
              " 'S&P Midcap 400 Value',\n",
              " 'S&P MidCap 400 Pure Value',\n",
              " 'S&P MidCap 400 Pure Growth',\n",
              " 'S&P Midcap 400 Growth',\n",
              " 'S&P Midcap 400',\n",
              " 'S&P High Yield Dividend Aristocrats',\n",
              " 'S&P GSCI Natural Gas ER',\n",
              " 'S&P GSCI Crude Oil ER',\n",
              " 'SP GSCI 3Month Forward Capped Sector EW',\n",
              " 'S&P Smallcap 600 Growth',\n",
              " 'S&P Goldman Sachs Commodity',\n",
              " 'CBOE Dyn Short Vix Fut',\n",
              " 'CBOE Crude Oil Volatility',\n",
              " 'ARCA Hong Kong Option',\n",
              " 'ARCA International Market',\n",
              " 'ARCA Japan',\n",
              " 'ARCA Major Markets',\n",
              " 'ARCA Mexico',\n",
              " 'Total Return Fed Funds Investable',\n",
              " 'Barron’s 400',\n",
              " 'Barron’s 400 TR',\n",
              " 'Gemini Bitcoin',\n",
              " 'CBOE Dyn Long Vix Fut',\n",
              " 'Bitcoin Real-Time',\n",
              " 'SP500 VIX Futures Enhanced Roll TR',\n",
              " 'SmallCap 2000 NR',\n",
              " 'CBOE Binary Options S&P 500',\n",
              " 'CBOE Binary Options Volatility',\n",
              " 'SGI Smart WTI Long Invest',\n",
              " 'CBOE Brazil Etf Volatility',\n",
              " 'CBOE Capped Vix Premium Strateg',\n",
              " 'CBOE China Etf Volatility',\n",
              " 'CBOE Citigroup Bxm Pistons Net',\n",
              " 'Brent Oil x5 Leveraged',\n",
              " 'S&P Composite 1500',\n",
              " 'S&P Completion',\n",
              " 'S&P 600 Small Cap',\n",
              " 'CBOE NASDAQ 100 Settle',\n",
              " 'SP 500 CAD Hdg TR',\n",
              " 'SP 500 Buyback NTR',\n",
              " 'S&P 1000',\n",
              " 'Russell Midcap TR',\n",
              " 'Russell 3000 TR',\n",
              " 'Russell 1000',\n",
              " 'Reality Shares Drone PR',\n",
              " 'Reality Shares Drone NTR',\n",
              " 'CBOE Ms Strategic Total Return',\n",
              " 'Reality Shares Drone GTR',\n",
              " 'PHLX Euro',\n",
              " 'PHLX Canadian Dollar',\n",
              " 'PHLX Australian Dollar',\n",
              " 'Philadelphia Gold/Silver',\n",
              " 'OTCM ADR TR',\n",
              " 'NYSE World Leaders Mini Value',\n",
              " 'NYSE World Leaders',\n",
              " 'NYSE TOP US 100',\n",
              " 'NYSE TOP International 100',\n",
              " 'PHLX Swiss Franc',\n",
              " 'CBOE Ms 8% Targeted Income Stra',\n",
              " 'CBOE Morgan Stanley U.S. Strate',\n",
              " 'CBOE Mid Term Volatility',\n",
              " 'S&P 600',\n",
              " 'S&P 500 Vix Short Term Futures ER',\n",
              " 'S&P 500 Value TR',\n",
              " 'S&P500 Pure Value',\n",
              " 'S&P500 Pure Growth',\n",
              " 'SP 500 Minimum Volatility Net TR',\n",
              " 'SP 500 Low Volatility TR',\n",
              " 'S&P500 Equal Weighted',\n",
              " 'CBOE Equity VIX on Ibm',\n",
              " 'SP 500 Dividends Aristocrats TR',\n",
              " 'S&P 500 Daily Hedged EUR Net TR',\n",
              " 'CBOE Euro Currency Volatility',\n",
              " 'CBOE Far-Term Vix',\n",
              " 'CBOE Gold Miners Etf Volatility',\n",
              " 'CBOE Gold Volatitity',\n",
              " 'CBOE Jumbo Dj Volatility Ask',\n",
              " 'CBOE Jumbo Dj Volatility Bid',\n",
              " 'CBOE Large Cap Over Small Cap S',\n",
              " 'CBOE Low Volatility',\n",
              " 'CBOE Market Volatility Spx Bid',\n",
              " 'CBOE Market Volatility Spx Offe',\n",
              " 'ARCA Hong Kong 30',\n",
              " 'ARCA China',\n",
              " 'US Dollar Index',\n",
              " 'AMEX TRIN',\n",
              " 'PHLX Gold Silver Settlement',\n",
              " 'PHLX Gold Silver TR',\n",
              " 'PHLX Housing',\n",
              " 'PHLX Housing Settlement',\n",
              " 'PHLX Housing TR',\n",
              " 'PHLX Oil Service',\n",
              " 'PHLX Semiconductor Settlement',\n",
              " 'PHLX Semiconductor TR',\n",
              " 'PHLX Utility',\n",
              " 'NYSE Technology',\n",
              " 'PHLX Utility Settlement',\n",
              " 'S&P 400 Consumer Discretionary',\n",
              " 'S&P 400 Consumer Staples',\n",
              " 'S&P 400 Energy',\n",
              " 'S&P 400 Financials',\n",
              " 'S&P 400 Health Care',\n",
              " 'S&P 400 Industrials',\n",
              " 'S&P 400 Information Technology',\n",
              " 'S&P 400 Materials',\n",
              " 'S&P 400 Telecommunication Services',\n",
              " 'PHLX Utility TR',\n",
              " 'NYSE Market Composite Technology',\n",
              " 'NYSE Market Composite Natural Resources',\n",
              " 'NYSE Market Composite Industrial',\n",
              " 'NQ OMX Natural Resources',\n",
              " 'NQ OMX Natural Resources TR',\n",
              " 'NQ OMX Pollution Mitigation',\n",
              " 'NQ OMX Pollution Mitigation TR',\n",
              " 'NQ OMX Recycling',\n",
              " 'NQ OMX Recycling TR',\n",
              " 'NQ OMX Renewable Energy Generation',\n",
              " 'NQ OMX Renewable Energy Generation TR',\n",
              " 'NQ OMX Smart Grid',\n",
              " 'NQ OMX Smart Grid TR',\n",
              " 'NQ OMX Solar',\n",
              " 'NQ OMX Solar Total Return',\n",
              " 'NQ OMX US Water',\n",
              " 'NQ OMX US Water TR',\n",
              " 'NQ OMX Water',\n",
              " 'NQ OMX Water TR',\n",
              " 'NQ OMX Wind',\n",
              " 'NQ OMX Wind TR',\n",
              " 'NYSE Arca Gold Miners GTR',\n",
              " 'NYSE Market Composite Financial',\n",
              " 'NYSE Market Composite Healthcare',\n",
              " 'S&P 400 Utilities',\n",
              " 'NYSE Tick Index',\n",
              " 'S&P 600 Consumer Discretionary',\n",
              " 'S&P 600 Energy',\n",
              " 'S&P Computer Hardware',\n",
              " 'S&P Health Care Equipment',\n",
              " 'S&P Health Care Services',\n",
              " 'S&P Homebuilders',\n",
              " 'S&P Industrials Composite',\n",
              " 'S&P Metals & Mining',\n",
              " 'S&P Oil & Gas Equipment & Services',\n",
              " 'S&P Oil & Gas Exploration & Production',\n",
              " 'S&P Pharmaceuticals',\n",
              " 'Wilder Hill New Energy Global',\n",
              " 'S&P Retail Select Industry',\n",
              " 'S&P Telecom Select Industry',\n",
              " 'S&P Transportation SI',\n",
              " 'Technology Select Sector NTR',\n",
              " '1/100 Dow Jones Industrial Average',\n",
              " 'Alerian MLP EW',\n",
              " 'Alerian MLP EW TR',\n",
              " 'Alerian MLP Infrastructure TR',\n",
              " 'AMEX Japan',\n",
              " 'AMEX Mexico',\n",
              " 'S&P Semiconductors',\n",
              " 'Wilshire 4500 Completion',\n",
              " 'Wilshire 5000 Total Market Full Cap',\n",
              " 'Wisdom Tree Earnings',\n",
              " 'S&P 600 Financials',\n",
              " 'S&P 600 Health Care',\n",
              " 'S&P 600 Industrials',\n",
              " 'S&P 600 Information Technology',\n",
              " 'S&P 600 Materials',\n",
              " 'S&P 600 Telecommunication Services',\n",
              " 'S&P 600 Utilities',\n",
              " 'S&P Aerospace & Defense',\n",
              " 'S&P Biotech Select Industry',\n",
              " 'S&P Composite 1500 Consumer Discretionary',\n",
              " 'S&P Composite 1500 Consumer Staples',\n",
              " 'S&P Composite 1500 Energy',\n",
              " 'S&P Composite 1500 Financials',\n",
              " 'S&P Composite 1500 Health Care',\n",
              " 'S&P Composite 1500 Industrials',\n",
              " 'S&P Composite 1500 Information Technology',\n",
              " 'S&P Composite 1500 Materials',\n",
              " 'S&P Composite 1500 Telecommunication Services',\n",
              " 'S&P Composite 1500 Utilities',\n",
              " 'WisdomTree LargeCap Value',\n",
              " 'Wisdom Tree MidCap earnings',\n",
              " 'S&P 600 Consumer Staples',\n",
              " 'NQ OMX Lighting TR',\n",
              " 'NYSE TRIN',\n",
              " 'NYSE FANG+TM',\n",
              " 'NQ Global Market Composite',\n",
              " 'Nasdaq Factor Dog',\n",
              " 'Nasdaq Emerging Select Leaders',\n",
              " 'Nasdaq Dorsey Wright Peoples Portfolio',\n",
              " 'Nasdaq Developed Select Leaders',\n",
              " 'NQ Composite TR',\n",
              " 'NQ Capital Market Composite',\n",
              " 'Nasdaq BulletShares Investment Grade 7 Year Ladder',\n",
              " 'Nasdaq BulletShares Investment Grade 7 Year Ladder',\n",
              " 'NQ Global Select Market Composite',\n",
              " 'Nasdaq BulletShares Investment Grade 5 Year Ladder',\n",
              " 'Nasdaq BulletShares Investment Grade 3 Year Ladder',\n",
              " 'Nasdaq BulletShares Investment Grade 3 Year Ladder',\n",
              " 'Nasdaq BulletShares High Yield 7 Year Ladder TR',\n",
              " 'Nasdaq BulletShares High Yield 7 Year Ladder',\n",
              " 'Nasdaq BulletShares High Yield 5 Year Ladder TR',\n",
              " 'Nasdaq BulletShares High Yield 5 Year Ladder',\n",
              " 'Nasdaq BulletShares High Yield 3 Year Ladder TR',\n",
              " 'Nasdaq BulletShares High Yield 3 Year Ladder',\n",
              " 'Nasdaq Australia Completion Cap Gross Local Return',\n",
              " 'Nasdaq BulletShares Investment Grade 5 Year Ladder',\n",
              " 'Nasdaq 100 TR',\n",
              " 'Nasdaq International Dividend Achievers Local',\n",
              " 'NASDAQ Nordea SmartBeta Dividend Sweden PR',\n",
              " 'Dow Jones U.S. Completion TSM',\n",
              " 'DJ US',\n",
              " 'DJ Value',\n",
              " 'Dynamic Daily Long Exposure to Vol',\n",
              " 'Dynamic Emarket Intellidex',\n",
              " 'EFA ETF Vol',\n",
              " 'Energy Select Sector NTR',\n",
              " 'FTSE Environmental Opportunities USA',\n",
              " 'FTSE GWA US',\n",
              " 'NASDAQ Nordea SmartBeta Dividend Momentum PR',\n",
              " 'NQ OMX Russia 15',\n",
              " 'NASDAQ Nordea SmartBeta Volatility Sweden PR',\n",
              " 'NASDAQ Nordea SmartBeta Momentum Volatility PR',\n",
              " 'NASDAQ Nordea SmartBeta Momentum Sweden PR',\n",
              " 'FTSE RAFI US 1000',\n",
              " 'FTSE RAFI US 1000 Net',\n",
              " 'FTSE RAFI US 1500 Mid Small',\n",
              " 'FTSE RAFI US Mid Small 1500',\n",
              " 'FTSE Shariah USA',\n",
              " 'NASDAQ Nordea SmartBeta Dividend Volatility PR',\n",
              " 'Nasdaq North America Air Transportation',\n",
              " 'NQ 100 Leveraged Notional Net Return',\n",
              " 'NQ 100 Hedged EUR Net TR',\n",
              " 'NQ 100 Double Leverage',\n",
              " 'ISE BICK TR',\n",
              " 'ISE BICK',\n",
              " 'Investing.com US 500',\n",
              " 'US 50',\n",
              " 'Investing US 30',\n",
              " 'ICE Crude Oil',\n",
              " 'Horizon Kinetics ISE Wealth TR',\n",
              " 'Horizon Kinetics ISE Wealth',\n",
              " 'Horizon Kinetics ISE International Wealth PR',\n",
              " 'ISE British Pound FX',\n",
              " 'HK ISE Global Wealth TR',\n",
              " 'HK ISE Asia ex Japan Wealth TR',\n",
              " 'HK ISE Asia ex Japan Wealth Price',\n",
              " 'HFRX GlbFdIdx',\n",
              " 'Hashdex Digital Assets',\n",
              " 'FTSE US 500',\n",
              " 'FTSE USA',\n",
              " 'FTSE4Good US 100',\n",
              " 'FTSE4Good US Benchmark',\n",
              " 'Gold x5 Leveraged',\n",
              " 'HK ISE Global Wealth Price',\n",
              " 'ISE CHIndia',\n",
              " 'ISE ChIndia TR',\n",
              " 'ISE ETF 50 Price Return',\n",
              " 'Mini Nasdaq 100',\n",
              " 'Kinetics ISE International Wealth TR',\n",
              " 'KBW Nasdaq Financial Technology NNR 85',\n",
              " 'KBW Nasdaq Financial Technology NNR 70',\n",
              " 'Jumbo CBOE Volatility',\n",
              " 'ISE Water TR',\n",
              " 'ISE SINdex TR',\n",
              " 'ISE SINdex',\n",
              " 'ISE Mobile Payments GTR',\n",
              " 'ISE Mobile Payments',\n",
              " 'ISE Junior Silver Small Cap Miners/Explorers TR',\n",
              " 'ISE HiInc TR',\n",
              " 'ISE HiInc PR',\n",
              " 'ISE Global Wind Energy TR',\n",
              " 'ISE Global Engineerng and Construction',\n",
              " 'ISE Global Engineering & Construction TR',\n",
              " 'ISE Exclusively Homebuilders TR',\n",
              " 'ISE Exclusively Homebuilders',\n",
              " 'ISE ETF Composite TR',\n",
              " 'ISE ETF Composite',\n",
              " 'ISE ETF 50 TR',\n",
              " 'DJ Top-Cap',\n",
              " 'DJ Small-Cap Value',\n",
              " 'DJ Small-Cap Growth',\n",
              " 'DJ Small-Cap',\n",
              " 'NQ US Benchmark Life Insurance',\n",
              " 'NQ US Large Cap',\n",
              " 'Nasdaq US High Yield Factor',\n",
              " 'Nasdaq US Growth Factor',\n",
              " 'NQ US Benchmark',\n",
              " 'NQ US 450 TR',\n",
              " 'NQ US 450',\n",
              " 'NQ US 300 TR',\n",
              " 'NQ US 300',\n",
              " 'Nasdaq US Large Cap Equities for Rising Rates',\n",
              " 'NQ US 1500',\n",
              " 'Nasdaq Riskalyze US Mid Cap',\n",
              " 'Nasdaq Riskalyze US Large Cap Select Dividend',\n",
              " 'Nasdaq Riskalyze US Large Cap',\n",
              " 'Nasdaq Riskalyze Emerging Markets',\n",
              " 'Nasdaq Riskalyze Developed Markets',\n",
              " 'CBOE Oil 1/10 Value',\n",
              " 'CBOE Reduced-Value',\n",
              " 'NQ Q-50',\n",
              " 'CBOE Russell 2000 Buy Write',\n",
              " 'Nasdaq Riskalyze US Small Cap',\n",
              " 'NQ US Large Cap TR',\n",
              " 'Nasdaq US Low Volatility Factor',\n",
              " 'NQ US Mid Cap',\n",
              " 'NYSE Composite TR',\n",
              " 'NYSE Composite Mini Value',\n",
              " 'NYSE Bitcoin',\n",
              " 'NASDAQ-100 Target 25 Net Excess Return',\n",
              " 'NASDAQ-100 Target 25 Excess Return',\n",
              " 'NASDAQ 100 VIX',\n",
              " 'NASDAQ-100 Target 25',\n",
              " 'CBOE Nasdaq100 Buywrite',\n",
              " 'Nasdaq-100 Notional Net TR',\n",
              " 'NQ-100 Ex-Tech TR',\n",
              " 'Nasdaq Victory Multi-Factor US Minimum Volatility',\n",
              " 'CBOE Near-Term Vix',\n",
              " 'Nasdaq Victory Dividend Accelerator Dividend Point',\n",
              " 'Nasdaq Victory Dividend Accelerator',\n",
              " 'Nasdaq US Value Factor',\n",
              " 'NQ US Small Cap',\n",
              " 'CBOE OEX Implied Volatility',\n",
              " 'Nasdaq US Quality Factor',\n",
              " 'Nasdaq US Multi-Asset Diversified Income NTR',\n",
              " 'Nasdaq US Momentum Factor',\n",
              " 'NQ US Mid Cap TR',\n",
              " 'CBOE Russell 2000 Volatility',\n",
              " 'NYSE International 100 Mini',\n",
              " 'CBOE S&P 500 3 Month Volatility',\n",
              " 'CBOE S&P 500 Implied Correlation 2014',\n",
              " 'Cohen & Steers Realty Majors Portfolio',\n",
              " 'CRSP US Mid Cap TR',\n",
              " 'CRSP US Small Cap TR',\n",
              " 'CRSP US Total Market TR',\n",
              " 'DJIA BuyWrite',\n",
              " 'DJIA Volatility',\n",
              " 'DJl Average Net TR',\n",
              " 'DJ Dividend 100',\n",
              " 'DJ EW US Corporate Bond',\n",
              " 'Cohen Steers Global Realty Majors Portfolio',\n",
              " 'DJ Growth',\n",
              " 'DJ Large-Cap',\n",
              " 'DJ Large-Cap Growth',\n",
              " 'DJ Large-Cap Value',\n",
              " 'DJ Low-Cap',\n",
              " 'DJ Mid-Cap',\n",
              " 'DJ Mid-Cap Growth',\n",
              " 'DJ Mid-Cap Value',\n",
              " 'DJ Select Dividend',\n",
              " 'DJ Select Micro-Cap',\n",
              " 'DJ High Yield Select 10',\n",
              " 'FX Yen Volatility',\n",
              " 'FX Euro Volatility',\n",
              " 'FX British Pound Volatility',\n",
              " 'CBOE S&P 500 Implied Correlation 2015',\n",
              " 'CBOE S&P 500 Putwrite',\n",
              " 'S&P 500 Short Term Volatility',\n",
              " 'CBOE S&P500 Buy Write 2% Otm',\n",
              " 'CBOE S&P500 Dec Volatility',\n",
              " 'CBOE S&P500 Jun Volatility',\n",
              " 'CBOE S&P500 Mar Volatility',\n",
              " 'CBOE S&P500 Sep Volatility',\n",
              " 'CBOE Silver Etf Volatility',\n",
              " 'CBOE SKEW',\n",
              " 'SPX Far Term VXST',\n",
              " 'SPX Near Term VXST',\n",
              " 'CBOE Spx Nearterm Expiry Vix',\n",
              " 'CBOE U.S.-Europe-Japan Basket',\n",
              " 'CBOE Vix Premium Strategy',\n",
              " 'CBOE Vix Tail Hedge',\n",
              " 'CBOE Vix Volatility',\n",
              " 'CBOE Vxeem Ask',\n",
              " 'CBOE Vxeem Bid',\n",
              " 'CBOE/Cbot Corn Volatility',\n",
              " 'CBOE/Cbot Soybean Volatility',\n",
              " 'CBOE S&P 500 95-110 Collar',\n",
              " 'NQ OMX Lighting',\n",
              " 'AMEX Tick Index',\n",
              " 'NQ OMX Healthy Living',\n",
              " 'DJ U.S. Relative Value',\n",
              " 'DJ U.S. Thematic Long Size',\n",
              " 'DJ U.S. Thematic Long Quality',\n",
              " 'DJ U.S. High Momentum',\n",
              " 'DJ US Low Beta',\n",
              " 'DJ U.S. Select Regional Banks',\n",
              " 'DJ US Select Pharmaceuticals',\n",
              " 'DJ US Select Oil Equipment Services',\n",
              " 'DJ US Select Oil Exploration Prod',\n",
              " ...]"
            ]
          },
          "metadata": {},
          "execution_count": 6
        }
      ]
    },
    {
      "cell_type": "code",
      "metadata": {
        "id": "1dUthN5S-IZO",
        "colab": {
          "base_uri": "https://localhost:8080/"
        },
        "outputId": "fd2503f3-7d9a-4405-f878-b487b06a9dae"
      },
      "source": [
        "dow_jones=inv.search_quotes(text='dow jones', products=['indices'],countries=['united states'], n_results=1)\n",
        "print(dow_jones)"
      ],
      "execution_count": null,
      "outputs": [
        {
          "output_type": "stream",
          "name": "stdout",
          "text": [
            "{\"id_\": 169, \"name\": \"Dow Jones Industrial Average\", \"symbol\": \"DJI\", \"country\": \"united states\", \"tag\": \"/indices/us-30\", \"pair_type\": \"indices\", \"exchange\": \"NYSE\"}\n"
          ]
        }
      ]
    },
    {
      "cell_type": "code",
      "source": [
        "Dow_Jones= inv.get_index_recent_data(\"Dow 30\",country=\"united states\")\n",
        "Dow_Jones_Industrial= Dow_Jones[[\"Close\",\"Open\"]].tail()\n",
        "print(Dow_Jones_Industrial)"
      ],
      "metadata": {
        "id": "Zd3CtzkF40s3",
        "colab": {
          "base_uri": "https://localhost:8080/"
        },
        "outputId": "3344966a-ebfa-4858-98ef-120fc8985266"
      },
      "execution_count": null,
      "outputs": [
        {
          "output_type": "stream",
          "name": "stdout",
          "text": [
            "               Close      Open\n",
            "Date                          \n",
            "2022-01-25  34296.74  34186.64\n",
            "2022-01-26  34166.84  34520.82\n",
            "2022-01-27  34160.51  34261.75\n",
            "2022-01-28  34726.20  34135.24\n",
            "2022-01-31  35131.46  34612.80\n"
          ]
        }
      ]
    },
    {
      "cell_type": "code",
      "source": [
        "Apertura_indice_Dow_Jones_Industrial = (Dow_Jones_Industrial.iat[4,1])#Este comando esta extraer un valor especifico de un dataframe\n",
        "print(Apertura_indice_Dow_Jones_Industrial)"
      ],
      "metadata": {
        "id": "jYVOV3r_7I0i",
        "colab": {
          "base_uri": "https://localhost:8080/"
        },
        "outputId": "1070d717-c348-4daf-983b-58c1541ccac4"
      },
      "execution_count": null,
      "outputs": [
        {
          "output_type": "stream",
          "name": "stdout",
          "text": [
            "34612.8\n"
          ]
        }
      ]
    },
    {
      "cell_type": "code",
      "source": [
        "Cierre_precio_anterior_Dow_Jones_Industrial = Dow_Jones_Industrial.iat[3,0]\n",
        "print(Cierre_precio_anterior_Dow_Jones_Industrial)"
      ],
      "metadata": {
        "id": "vwgKhJJd7JAQ",
        "colab": {
          "base_uri": "https://localhost:8080/"
        },
        "outputId": "9ad7b698-c88b-4b05-a5ca-e637a5b62d33"
      },
      "execution_count": null,
      "outputs": [
        {
          "output_type": "stream",
          "name": "stdout",
          "text": [
            "34726.2\n"
          ]
        }
      ]
    },
    {
      "cell_type": "code",
      "source": [
        "Cierre_precio_anterior5dias_Dow_Jones_Industrial= Dow_Jones_Industrial.iat[0,0]\n",
        "print(Cierre_precio_anterior5dias_Dow_Jones_Industrial)"
      ],
      "metadata": {
        "id": "m03sKAGz7JJ_",
        "colab": {
          "base_uri": "https://localhost:8080/"
        },
        "outputId": "0dd8165d-f75a-44d8-dd78-5ec8da9fb176"
      },
      "execution_count": null,
      "outputs": [
        {
          "output_type": "stream",
          "name": "stdout",
          "text": [
            "34296.74\n"
          ]
        }
      ]
    },
    {
      "cell_type": "markdown",
      "metadata": {
        "id": "gtLhno6-CK8K"
      },
      "source": [
        "**S&p500** "
      ]
    },
    {
      "cell_type": "code",
      "metadata": {
        "id": "AIfgEMHPCbxm",
        "colab": {
          "base_uri": "https://localhost:8080/"
        },
        "outputId": "e4f3e44d-a04f-4b95-9b6e-11018d5d0239"
      },
      "source": [
        "Standarpoor500=inv.search_quotes(\"S&P 500 \", products=['indices'],countries=['united states'], n_results=1)\n",
        "print(Standarpoor500)"
      ],
      "execution_count": null,
      "outputs": [
        {
          "output_type": "stream",
          "name": "stdout",
          "text": [
            "{\"id_\": 166, \"name\": \"S&P 500\", \"symbol\": \"US500\", \"country\": \"united states\", \"tag\": \"/indices/us-spx-500\", \"pair_type\": \"indices\", \"exchange\": \"NYSE\"}\n"
          ]
        }
      ]
    },
    {
      "cell_type": "code",
      "source": [
        "SP_500= inv.get_index_recent_data(\"S&P 500\",country=\"united states\")\n",
        "SP_500_1 = SP_500[[\"Close\",\"Open\"]].tail()\n",
        "print(SP_500_1)"
      ],
      "metadata": {
        "id": "srbHQzNk6a0M",
        "colab": {
          "base_uri": "https://localhost:8080/"
        },
        "outputId": "7203c348-bae3-452d-caf2-7b741161b9dc"
      },
      "execution_count": null,
      "outputs": [
        {
          "output_type": "stream",
          "name": "stdout",
          "text": [
            "              Close     Open\n",
            "Date                        \n",
            "2022-01-25  4356.45  4366.64\n",
            "2022-01-26  4349.93  4408.43\n",
            "2022-01-27  4326.50  4380.58\n",
            "2022-01-28  4431.85  4336.19\n",
            "2022-01-31  4515.55  4431.79\n"
          ]
        }
      ]
    },
    {
      "cell_type": "code",
      "source": [
        "Apertura_indice_SP_500 = (SP_500_1.iat[4,1])#Este comando esta extraer un valor especifico de un dataframe\n",
        "print(Apertura_indice_SP_500)"
      ],
      "metadata": {
        "id": "eeJh3D_w7Ks5",
        "colab": {
          "base_uri": "https://localhost:8080/"
        },
        "outputId": "e19482c3-8d88-404b-ec29-03e8ea4d80fd"
      },
      "execution_count": null,
      "outputs": [
        {
          "output_type": "stream",
          "name": "stdout",
          "text": [
            "4431.79\n"
          ]
        }
      ]
    },
    {
      "cell_type": "code",
      "source": [
        "Cierre_precio_anterior_SP_500= SP_500_1.iat[3,0]\n",
        "print(Cierre_precio_anterior_SP_500)"
      ],
      "metadata": {
        "id": "o-F3V-AZ7K3j",
        "colab": {
          "base_uri": "https://localhost:8080/"
        },
        "outputId": "43e64579-dc57-47f4-faad-2e9abd544df3"
      },
      "execution_count": null,
      "outputs": [
        {
          "output_type": "stream",
          "name": "stdout",
          "text": [
            "4431.85\n"
          ]
        }
      ]
    },
    {
      "cell_type": "code",
      "source": [
        "Cierre_precio_anterior5dias_SP_500= SP_500_1.iat[0,0]\n",
        "print(Cierre_precio_anterior5dias_SP_500)"
      ],
      "metadata": {
        "id": "logCNJwr7K-1",
        "colab": {
          "base_uri": "https://localhost:8080/"
        },
        "outputId": "e144b6c5-c671-464a-b72b-a24e995878b6"
      },
      "execution_count": null,
      "outputs": [
        {
          "output_type": "stream",
          "name": "stdout",
          "text": [
            "4356.45\n"
          ]
        }
      ]
    },
    {
      "cell_type": "markdown",
      "metadata": {
        "id": "26XOOhcSCcX2"
      },
      "source": [
        "**Euro Stoxx 50**"
      ]
    },
    {
      "cell_type": "code",
      "metadata": {
        "id": "GVyjSVfzCeKa",
        "colab": {
          "base_uri": "https://localhost:8080/"
        },
        "outputId": "68a40d7e-9105-4890-f74a-fb5f57c10cd6"
      },
      "source": [
        "Euro_stoxx_50=inv.search_quotes(text='Euro Stoxx 50', products=['indices'],countries=['euro zone'], n_results=1)\n",
        "print(Euro_stoxx_50)"
      ],
      "execution_count": null,
      "outputs": [
        {
          "output_type": "stream",
          "name": "stdout",
          "text": [
            "{\"id_\": 175, \"name\": \"Euro Stoxx 50\", \"symbol\": \"STOXX50\", \"country\": \"euro zone\", \"tag\": \"/indices/eu-stoxx50\", \"pair_type\": \"indices\", \"exchange\": \"Xetra\"}\n"
          ]
        }
      ]
    },
    {
      "cell_type": "code",
      "source": [
        "inv.get_indices_list(\"euro zone\")"
      ],
      "metadata": {
        "id": "N_7BfFsvgdPL",
        "colab": {
          "base_uri": "https://localhost:8080/"
        },
        "outputId": "59bb7ffa-022b-43de-d375-50b08c896c99"
      },
      "execution_count": null,
      "outputs": [
        {
          "output_type": "execute_result",
          "data": {
            "text/plain": [
              "['FTSE MTS Highest Rated Macro-Weighted Government B',\n",
              " 'FTSE MTS Eurozone Government Broad IG 10-15Y',\n",
              " 'FTSE MTS Eurozone Government Broad IG 5-7Y',\n",
              " 'FTSE MTS Eurozone Government Broad IG 3-5Y',\n",
              " 'FTSE MTS Eurozone Government Bond IG Ex-CNO',\n",
              " 'FTSE MTS Eur Gov Bond IG 15Y+ Ex-CNO',\n",
              " 'FTSE MTS Eur Gov Bond IG 10-15Y Ex-CNO',\n",
              " 'FTSE MTS Eur Gov Bond IG 7-10Y Ex-CNO',\n",
              " 'TR Eurozone 2 Years Government Benchmark',\n",
              " 'TR Eurozone 3 Years Government Benchmark',\n",
              " 'TR Eurozone 5 Years Government Benchmark',\n",
              " 'TR Eurozone 7 Years Government Benchmark',\n",
              " 'TR Eurozone 10 Years Government Benchmark',\n",
              " 'TR Eurozone 15 Years Government Benchmark',\n",
              " 'FTSE MTS Eur Gov Bond IG 3-5Y Ex-CNO',\n",
              " 'FTSE MTS Eurozone Government Broad IG',\n",
              " 'FTSE MTS Eur Gov Bond IG 5-7Y Ex-CNO',\n",
              " 'FTSE MTS Eur Gov Bond IG 1-3Y Ex-CNO',\n",
              " 'FTSE MTS Highest-Rated Eurozone Government Bond',\n",
              " 'TR Eurozone 20 Years Government Benchmark',\n",
              " 'TR Eurozone 30 Years Government Benchmark',\n",
              " 'Amundi Float Rate Eur Corp 1-3',\n",
              " 'iBoxx EUR Liquid Investment Grade Ultrashort',\n",
              " 'FTSE MTS Short Eurozone Government Broad IG 10-15Y',\n",
              " 'FTSE MTS Eurozone Inflation-Linked Bond IG',\n",
              " 'MSCI Europe Industrials NR USD',\n",
              " 'MSCI EMU',\n",
              " 'MSCI EMU Small Cap',\n",
              " 'MSCI EMU Mid Cap',\n",
              " 'MSCI EMU Large Cap',\n",
              " 'MSCI EM Europe',\n",
              " 'MSCI EM Eastern Europe',\n",
              " 'MSCI Europe Ex EMU',\n",
              " 'MSCI Europe Ex UK',\n",
              " 'MSCI EMU Ex Germany',\n",
              " 'MSCI AC Europe',\n",
              " 'FTSE EPRA NAREIT Eurozone Capped Net TRI',\n",
              " 'EURO STOXX 50 Daily Short',\n",
              " 'EURO STOXX 50 Daily Leverage',\n",
              " 'EURO STOXX Small Cap',\n",
              " 'MSCI Euro In Euro',\n",
              " 'MSCI Pan-Euro In Euro',\n",
              " 'MSCI EM Eastern Europe Ex RU',\n",
              " 'FTSE Nordic 30 USD',\n",
              " 'FTSE Nordic 30',\n",
              " 'FTSE All World Europe',\n",
              " 'BNY Mellon Europe Classic ADR TR',\n",
              " 'FTSE MTS Eonia Investable',\n",
              " 'BNY Mellon Europe ADR TR',\n",
              " 'BNY Mellon Europe Classic ADR',\n",
              " 'BNY Mellon Europe ADR',\n",
              " 'The Europe Dow USD',\n",
              " 'STOXX Europe 600 EUR NR',\n",
              " 'MSCI Europe FX Hedge',\n",
              " 'MSCI Europe Standard',\n",
              " 'MSCI Europe Ex Switzerland',\n",
              " 'FTSE RAFI Europe NR',\n",
              " 'EuroMTS Lowest-Rated Eurozone IG Go',\n",
              " 'EURO STOXX Oil Gas NR',\n",
              " 'EuroMTS Eurozone Government Broad A',\n",
              " 'FTSEurofirst Euro Personal & Household Goods',\n",
              " 'FTSEurofirst Euro Food & Beverage',\n",
              " 'FTSEurofirst Euro Automobiles & Parts',\n",
              " 'FTSEurofirst Euro Industrial Goods & Services',\n",
              " 'FTSEurofirst Euro Construction & Materials',\n",
              " 'FTSEurofirst Euro Basic Resources',\n",
              " 'FTSEurofirst Euro Chemicals',\n",
              " 'FTSEurofirst Euro Oil & Gas',\n",
              " 'FTSEurofirst Technology',\n",
              " 'FTSEurofirst Financial Services',\n",
              " 'FTSEurofirst Real Estate',\n",
              " 'FTSEurofirst Insurance',\n",
              " 'FTSEurofirst Banks',\n",
              " 'FTSEurofirst Euro Health Care',\n",
              " 'FTSEurofirst Utilities',\n",
              " 'FTSEurofirst Travel & Leisure',\n",
              " 'FTSEurofirst Media',\n",
              " 'FTSEurofirst Retail',\n",
              " 'FTSEurofirst Health Care',\n",
              " 'FTSEurofirst 300 Real Estate Investment & Services',\n",
              " 'FTSEurofirst 300 Banks',\n",
              " 'FTSEurofirst 300 Financials',\n",
              " 'FTSEurofirst 300 Utilities',\n",
              " 'FTSEurofirst 300 Telecommunications',\n",
              " 'FTSEurofirst 300 Travel & Leisure',\n",
              " 'FTSEurofirst 300 Media',\n",
              " 'FTSEurofirst 300 General Retailers',\n",
              " 'FTSEurofirst 300 Food & Drug Retailers',\n",
              " 'FTSEurofirst Telecommunications',\n",
              " 'FTSEurofirst Euro Retail',\n",
              " 'FTSEurofirst Euro Media',\n",
              " 'FTSEurofirst Euro Travel & Leisure',\n",
              " 'EuroMTS Eurozone IG Government Broa',\n",
              " 'EuroMTS Eurozone IG 7-10Y Governmen',\n",
              " 'EuroMTS Eurozone IG 1-3Y Government',\n",
              " 'EuroMTS Highest Rated Government Bo',\n",
              " 'FTSE MTS Highest-Rated Eurozone Gov',\n",
              " 'Short EuroMTS IG Broad All 1100',\n",
              " 'Short EuroMTS IG Broad All 1730',\n",
              " 'EuroMTS Highest Rated MW 5-7 1730',\n",
              " 'EuroMTS Highest Rated MW 3-5 1730',\n",
              " 'EuroMTS Highest Rated MW 1-3 1730',\n",
              " 'SGI Bond EONIA',\n",
              " 'iBoxx EUR Liquid Sov Capped 1-5 TRI',\n",
              " 'IBX EUREZ AAA 1-3T',\n",
              " 'IBX EURSOV GC3M2',\n",
              " 'CBK EONIA EUR',\n",
              " 'iBoxx EUR Liquid Sover Divers 1-10',\n",
              " 'Stoxx 600 Banks PR',\n",
              " 'EURO STOXX Telecommunications 30-15',\n",
              " 'MSCI Europe MID CAP',\n",
              " 'EURO STOXX Health Care Price',\n",
              " 'EURO STOXX Banks 30-15',\n",
              " 'STOXX Europe 600 Real Estate Cap NR',\n",
              " 'FTSEurofirst Euro Technology',\n",
              " 'FTSEurofirst Euro Financial Services',\n",
              " 'FTSEurofirst Eurozone Real Estate',\n",
              " 'FTSEurofirst Euro Insurance',\n",
              " 'FTSEurofirst Euro Banks',\n",
              " 'FTSEurofirst Euro Utilities',\n",
              " 'FTSEurofirst Euro Telecommunications',\n",
              " 'EuroMTS Lowest Rated Investment Gra',\n",
              " 'MSCI Europe Small Cap',\n",
              " 'EURO ISTOXX 50 Equal Risk',\n",
              " 'MSCI Europe IMI',\n",
              " 'STOXX 50 Daily Leverage x3 EUR NR',\n",
              " 'STOXX 50 Daily Short 3 EUR GR',\n",
              " 'STOXX 50 Volatility Mid-Term Futures EUR TR',\n",
              " 'STOXX 50 Volatility VSTOXX EUR',\n",
              " 'STOXX Europe 600 Equal Weight EUR NR',\n",
              " 'STOXX Europe 600 Retail EUR NR',\n",
              " 'STOXX Europe 600 Optimised Retail',\n",
              " 'STOXX Europe 600 Optimised Media',\n",
              " 'STOXX Europe 600 Opt Chem EUR NR',\n",
              " 'STOXX Europe 600 Chemicals EUR NR',\n",
              " 'STOXX Europe Strong Value 20 EUR',\n",
              " 'STOXX Europe Strong Style Composite 40 EUR Price',\n",
              " 'STOXX Total Market Large EUR NR',\n",
              " 'SX5EF 3XL',\n",
              " 'STOXX Total Market Large EUR P',\n",
              " 'STOXX Total Market Growth Large Price EUR',\n",
              " 'Short DAX',\n",
              " 'STOXX Europe Strong Growth 20 EUR P',\n",
              " 'STOXX Global Select Div 100 EUR',\n",
              " 'STOXX Select Div 30 EUR P',\n",
              " 'STOXX Small EUR NR',\n",
              " 'STOXX Europe Small 200 EUR NR',\n",
              " 'STOXX Europe Small 200 EUR Price',\n",
              " 'STOXX Europe 600 RE Cap EUR Price',\n",
              " 'MSCI Europe Materials Sector EUR',\n",
              " 'MSCI Europe Consumer Staples EUR',\n",
              " 'MSCI Europe Consumer Discretionary Price EUR',\n",
              " 'MSCI Europe Small Price EUR',\n",
              " 'STOXX Total Market Growth Large NR EUR',\n",
              " 'SX5EF 4XL',\n",
              " 'SX5EF 3XS',\n",
              " 'SX5EF 4XS',\n",
              " 'NQ EURO 50',\n",
              " 'NQ EM Europe Media',\n",
              " 'NQ AlphaDEX Eurozone',\n",
              " 'NQ AlphaDEX Europe',\n",
              " 'BNY Mellon Eastern Europe GDR TR',\n",
              " 'BNY Mellon Eastern Europe DR TR',\n",
              " 'BNY Mellon Euroland ADR',\n",
              " 'DJ Europe - Nordic',\n",
              " 'DJ Europe ex-UK',\n",
              " 'DJ Europe ex-UK Consumer Services',\n",
              " 'DJ Europe exUK Basic Materials',\n",
              " 'DJ Europe Industrials',\n",
              " 'DJ Europe Consumer Services',\n",
              " 'DJ Europe Basic Materials',\n",
              " 'DJ Europe Select Real Estate',\n",
              " 'DJ Islamic Euro Small-Cap',\n",
              " 'DJ Islamic Euro Large-Cap',\n",
              " 'DJ Islamic Market Euro',\n",
              " 'DJ Islamic Europe Mid-Cap',\n",
              " 'DJ Islamic Market Europe',\n",
              " 'DJ Eurozone SelDiv 30 USD',\n",
              " 'DJ Eurozone SelDiv 30 EUR',\n",
              " 'DJ Eurozone SelDiv 30 Dist EUR',\n",
              " 'DJ Europe SelDiv 30 USD',\n",
              " 'DJ Europe SelDiv 30 EUR',\n",
              " 'DJ Europe SelDiv 30 Distr EUR',\n",
              " 'DJ Islamic Europe Titans 25',\n",
              " 'STOXX Value Large EUR Net Return',\n",
              " 'STOXX Value Large EUR Price',\n",
              " 'MSCI Intl EMU P EUR',\n",
              " 'MSCI Europe SMID',\n",
              " 'MSCI Europe Information Tech NR USD',\n",
              " 'MSCI Intl EMU Growth P EUR',\n",
              " 'EURO STOXX Mid EUR Price',\n",
              " 'FTSE EPRA NAREIT Europe Ex UK Div',\n",
              " 'Stoxx 600 Travel & Leisure PR',\n",
              " 'Stoxx 600 Personal Goods PR',\n",
              " 'Stoxx 600 Basic Resources PR',\n",
              " 'Stoxx 600 Industrial Goods Srvcs PR',\n",
              " 'Stoxx 600 Media NR',\n",
              " 'Stoxx 600 Media PR',\n",
              " 'Stoxx 600 Financial Services PR',\n",
              " 'FTSEurofirst 300 Pharmaceuticals & Biotechnology',\n",
              " 'STXE Technology NR',\n",
              " 'Stoxx 600 Chemicals PR',\n",
              " 'MSCI Europe Barra Value',\n",
              " 'EURO STOXX Select Div 30 EUR NR',\n",
              " 'MSCI Europe Barra Momentum',\n",
              " 'MSCI Europe Barra Low Lev',\n",
              " 'MSCI EM Eastern Europe 10 40',\n",
              " 'MSCI Europe Materials',\n",
              " 'MSCI Europe It',\n",
              " 'MSCI Europe Energy',\n",
              " 'MSCI Europe Consumer Staples',\n",
              " 'MSCI Europe Consumer Disc',\n",
              " 'MSCI EMU Materials',\n",
              " 'MSCI EMU IT',\n",
              " 'MSCI EMU Energy',\n",
              " 'MSCI EMU EAFE',\n",
              " 'MSCI EMU Consumer Disc',\n",
              " 'MSCI Europe Large Cap',\n",
              " 'MSCI Europe Barra Low Vol',\n",
              " 'FTSE EUROFIRST 100 Market',\n",
              " 'FTSE EUROFIRST 80 Market',\n",
              " 'FTSE Eurofirst 100',\n",
              " 'MSCI Europe ex UK Net USD',\n",
              " 'MSCI EM Europe Net USD',\n",
              " 'MSCI EM East Europe Net EUR',\n",
              " 'MSCI EM East Europe Net USD',\n",
              " 'MSCI Europe ex EMU Net EUR',\n",
              " 'MSCI Europe ex Swiss Net EUR',\n",
              " 'MSCI Europe Materials NR USD',\n",
              " 'MSCI Europe Consumer Staples NR USD',\n",
              " 'MSCI Intl Europe Consumer Discr NR USD',\n",
              " 'MSCI Europe Small Cap NR USD',\n",
              " 'MSCI Intl Europe Value Net EUR',\n",
              " 'MSCI Europe Growth Net EUR',\n",
              " 'MSCI Europe Short Gross EUR',\n",
              " 'MSCI Europe Net USD',\n",
              " 'MSCI Europe Net EUR',\n",
              " 'MSCI Europe Leveraged 2x Net EUR',\n",
              " 'MSCI EMU Small Net EUR',\n",
              " 'MSCI EMU Value Net EUR',\n",
              " 'MSCI EMU Growth Net EUR',\n",
              " 'MSCI EMU Net USD',\n",
              " 'MSCI EMU Net EUR',\n",
              " 'STOXX Mid EUR NR',\n",
              " 'STOXX Europe Mid 200 EUR NR',\n",
              " 'STOXX Europe Mid 200 EUR P',\n",
              " 'STOXX Europe Large 200 EUR Price',\n",
              " 'Europe Minimum Variance NR EUR',\n",
              " 'FTSE EPRA/NAREIT Dev Europe Net TRI',\n",
              " 'FTSE RAFI Europe USD',\n",
              " 'FTSE RAFI Europe EUR',\n",
              " 'MSCI Intl EMU Small P EUR',\n",
              " 'FTSEurofirst 300 Health Care',\n",
              " 'MSCI Intl EMU Value P EUR',\n",
              " 'FTSEurofirst 300 Household Goods & Home Constructi',\n",
              " 'Stoxx 600 Banks PR',\n",
              " 'Stoxx 600 Banks NR',\n",
              " 'Stoxx 600 Automobiles & Parts RP',\n",
              " 'Stoxx 600 Automobiles & Parts NR',\n",
              " 'STXE Health Care PR',\n",
              " 'STXE Health Care NR',\n",
              " 'STXE Oil & Gas NR',\n",
              " 'Stoxx 600 Insurance PR',\n",
              " 'Stoxx 600 Insurance NR',\n",
              " 'STXE Telecommunications NR',\n",
              " 'Stoxx 600 Construction Materials PR',\n",
              " 'STXE Construction & Materials NR',\n",
              " 'MSCI Europe Energy NR USD',\n",
              " 'MSCI Europe Health Care NR USD',\n",
              " 'MSCI Europe RE P EUR',\n",
              " 'MSCI Europe Telecom Svc NR USD',\n",
              " 'MSCI Europe Utilities NR USD',\n",
              " 'MSCI Europe Energy Price EUR',\n",
              " 'MSCI Europe Financials Price EUR',\n",
              " 'MSCI Europe Health Care EUR',\n",
              " 'MSCI Europe Industrials EUR',\n",
              " 'MSCI Europe Info Tech P EUR',\n",
              " 'MSCI Europe Telecom Srvcs Price EUR',\n",
              " 'MSCI Europe Utilities Sector EUR',\n",
              " 'STOXX 600 Banks Daily Short EUR GR',\n",
              " 'STXE Utilities NR',\n",
              " 'Stoxx 600 Food & Beverage NR',\n",
              " 'Stoxx 600 Food & Beverage PR',\n",
              " 'MSCI Europe Utilities',\n",
              " 'MSCI Europe',\n",
              " 'FTSE Europe',\n",
              " 'MSCI Mexico Net USD',\n",
              " 'DJ Europe',\n",
              " 'The Europe Dow EUR',\n",
              " 'FTSE4Good Europe 50',\n",
              " 'STOXX 600',\n",
              " 'REIT Europe NR',\n",
              " 'REIT Europe GR',\n",
              " 'REIT Europe',\n",
              " 'STOXX Europe 600 Utilities',\n",
              " 'STOXX Europe 600 Technology',\n",
              " 'STOXX Europe 600 RE EUR NR',\n",
              " 'STOXX Europe 600 Oil & Gas',\n",
              " 'STOXX Europe 600 Retail',\n",
              " 'MSCI EMU Financials',\n",
              " 'MSCI EMU Health Care',\n",
              " 'MSCI EMU Industrials',\n",
              " 'MSCI EMU Telecom',\n",
              " 'MSCI EMU Utilities',\n",
              " 'MSCI Europe Financials',\n",
              " 'MSCI Europe Health Care',\n",
              " 'FTSEurofirst 300 Personal Goods',\n",
              " 'MSCI EU',\n",
              " 'MSCI Europe Industrials',\n",
              " 'MSCI Europe Telecom',\n",
              " 'STOXX Europe 600 Telecom',\n",
              " 'STOXX Europe 600 Oil Gas Short EUR GR',\n",
              " 'STOXX 600',\n",
              " 'STOXX Europe 600 Opt Food Beverage',\n",
              " 'BNY Mellon European Telecom ADR',\n",
              " 'BNY Mellon European Oil & Gas ADR',\n",
              " 'FTSEurofirst 300 Food Producers',\n",
              " 'FTSEurofirst 300 Beverages',\n",
              " 'FTSEurofirst 300 Automobiles & Parts',\n",
              " 'FTSEurofirst 300 Consumer Goods',\n",
              " 'FTSEurofirst 300 Electronic & Electrical Equipment',\n",
              " 'FTSEurofirst 300 Aerospace & Defense',\n",
              " 'FTSEurofirst 300 Construction & Materials',\n",
              " 'BNY Mellon European Oil & Gas ADR TR',\n",
              " 'FTSEurofirst 300 Industrials',\n",
              " 'FTSEurofirst 300 Mining',\n",
              " 'DJ Europe ex-U.K. Utilities',\n",
              " 'FTSEurofirst 300 Chemicals',\n",
              " 'FTSEurofirst 300 Oil & Gas',\n",
              " 'FTSEurofirst Personal & Household Goods',\n",
              " 'FTSEurofirst Food & Beverage',\n",
              " 'FTSEurofirst Automobiles & Parts',\n",
              " 'BNY Mellon European Telecom ADR TR',\n",
              " 'FTSEurofirst Industrial Goods & Services',\n",
              " 'FTSEurofirst Construction & Materials',\n",
              " 'FTSEurofirst Basic Resources',\n",
              " 'FTSEurofirst Chemicals',\n",
              " 'NQ EM MEA Technology',\n",
              " 'NQ EM Europe Health Care',\n",
              " 'STOXX Europe 600 Fin Srvcs EUR NR',\n",
              " 'FTSEurofirst 300 Basic Materials',\n",
              " 'DJ Europe ex-UK Telecom',\n",
              " 'FTSEurofirst 300 Industrial Metals & Mining',\n",
              " 'DJ Europe ex-UK Consumer Goods',\n",
              " 'DJ Europe ex-U.K. Technology',\n",
              " 'STOXX Europe 600 Optimised Tech',\n",
              " 'STOXX Europe 600 Optim HealthCare',\n",
              " 'STOXX Europe 600 Optimised Oil Gas',\n",
              " 'STOXX Europe 600 Optimised Fin Srvc',\n",
              " 'STOXX Europe 600 Optim Insurance',\n",
              " 'STOXX Europe 600 Optimised Telecom',\n",
              " 'MSCI International EMU Defensive Sectors Capped PR',\n",
              " 'STOXX Banks EUR NR',\n",
              " 'STOXX Food Beverage EUR Net Return',\n",
              " 'STOXX 600 ex UK Retail EUR NR',\n",
              " 'EURO STOXX Retail USD Price',\n",
              " 'STOXX Europe 600 Retail USD Price',\n",
              " 'MSCI International EMU Cyclical Sectors Capped PR',\n",
              " 'DJ Europe Select REIT',\n",
              " 'DJ Europe ex-UK Industrials',\n",
              " 'DJ Europe ex-U.K. Health Care',\n",
              " 'DJ Europe ex-U.K. Financials',\n",
              " 'DJ Europe ex-U.K. Oil & Gas',\n",
              " 'DJ Europe Utilities',\n",
              " 'DJ Europe Telecommunications',\n",
              " 'STOXX Europe 600 Optim Utilities',\n",
              " 'DJ Europe Consumer Goods',\n",
              " 'DJ Europe Health Care',\n",
              " 'DJ Europe Financials',\n",
              " 'DJ Europe Oil Gas',\n",
              " 'DJ Europe Technology']"
            ]
          },
          "metadata": {},
          "execution_count": 18
        }
      ]
    },
    {
      "cell_type": "code",
      "source": [
        "Euro_Stoxx_50=inv.get_index_recent_data(\"Euro Stoxx 50\",country=\"germany\")\n",
        "Stoxx_50=Euro_Stoxx_50[[\"Close\",\"Open\"]].tail()\n",
        "print(Stoxx_50)"
      ],
      "metadata": {
        "id": "WFrmZIxqfn_A",
        "colab": {
          "base_uri": "https://localhost:8080/"
        },
        "outputId": "3b6b23d5-3f78-4892-d2c2-8c86479af16d"
      },
      "execution_count": null,
      "outputs": [
        {
          "output_type": "stream",
          "name": "stdout",
          "text": [
            "              Close     Open\n",
            "Date                        \n",
            "2022-01-26  4164.60  4096.51\n",
            "2022-01-27  4184.97  4144.78\n",
            "2022-01-28  4136.91  4174.57\n",
            "2022-01-31  4174.60  4161.77\n",
            "2022-02-01  4215.45  4206.15\n"
          ]
        }
      ]
    },
    {
      "cell_type": "code",
      "source": [
        "Apertura_indice_Euro_Stoxx_50 = (Stoxx_50.iat[4,1])#Este comando esta extraer un valor especifico de un dataframe\n",
        "print(Apertura_indice_Euro_Stoxx_50)"
      ],
      "metadata": {
        "id": "VLZVVS38xax8",
        "colab": {
          "base_uri": "https://localhost:8080/"
        },
        "outputId": "ef00f077-ed00-4864-cad9-79dbf6d98df5"
      },
      "execution_count": null,
      "outputs": [
        {
          "output_type": "stream",
          "name": "stdout",
          "text": [
            "4206.15\n"
          ]
        }
      ]
    },
    {
      "cell_type": "code",
      "source": [
        "Cierre_precio_anterior_Euro_Stoxx_50 = Stoxx_50.iat[3,0]\n",
        "print(Cierre_precio_anterior_Euro_Stoxx_50 )"
      ],
      "metadata": {
        "id": "u8LW1u0Zxa9m",
        "colab": {
          "base_uri": "https://localhost:8080/"
        },
        "outputId": "69fb4aac-0a15-4e89-e9bb-c59b5aa2517a"
      },
      "execution_count": null,
      "outputs": [
        {
          "output_type": "stream",
          "name": "stdout",
          "text": [
            "4174.6\n"
          ]
        }
      ]
    },
    {
      "cell_type": "code",
      "source": [
        "Cierre_precio_anterior5dias_Euro_Stoxx_50= Stoxx_50.iat[0,0]\n",
        "print(Cierre_precio_anterior5dias_Euro_Stoxx_50)"
      ],
      "metadata": {
        "id": "zbsShRihxbKo",
        "colab": {
          "base_uri": "https://localhost:8080/"
        },
        "outputId": "6aff2cb1-6abf-469c-bd5e-8ba4896b560d"
      },
      "execution_count": null,
      "outputs": [
        {
          "output_type": "stream",
          "name": "stdout",
          "text": [
            "4164.6\n"
          ]
        }
      ]
    },
    {
      "cell_type": "markdown",
      "metadata": {
        "id": "TcTs_n0GCena"
      },
      "source": [
        "**Dax (Alemania)**"
      ]
    },
    {
      "cell_type": "code",
      "metadata": {
        "id": "ueXDrPqbCj7b",
        "colab": {
          "base_uri": "https://localhost:8080/"
        },
        "outputId": "991103cb-4de9-45a2-cafb-7d044c36a987"
      },
      "source": [
        "Dax_Alemania=inv.search_quotes(text='DAX Futures', products=['indices'],countries=['germany'], n_results=1)\n",
        "print(Dax_Alemania)"
      ],
      "execution_count": null,
      "outputs": [
        {
          "output_type": "stream",
          "name": "stdout",
          "text": [
            "{\"id_\": 8826, \"name\": \"DAX Futures\", \"symbol\": \"DE30\", \"country\": \"germany\", \"tag\": \"/indices/germany-30-futures\", \"pair_type\": \"indices\", \"exchange\": \"Eurex\"}\n"
          ]
        }
      ]
    },
    {
      "cell_type": "code",
      "source": [
        "inv.get_indices_list(\"germany\")"
      ],
      "metadata": {
        "id": "Ud4oEi8nnz1f",
        "colab": {
          "base_uri": "https://localhost:8080/"
        },
        "outputId": "6790bf77-982a-4574-c2a6-39411166a42b"
      },
      "execution_count": null,
      "outputs": [
        {
          "output_type": "execute_result",
          "data": {
            "text/plain": [
              "['Technology All Share',\n",
              " 'Pharma & Healthcare',\n",
              " 'Software',\n",
              " 'Technology',\n",
              " 'Telecom',\n",
              " 'Transport & Logistics',\n",
              " 'DJ Germany Titans 30 TR US',\n",
              " 'Midcap',\n",
              " 'Retail',\n",
              " 'Classic All Share',\n",
              " 'XETRA DAX Price',\n",
              " 'Prime All Share',\n",
              " 'REX 10 Years',\n",
              " 'REX 10 Year Performance',\n",
              " 'REX 1 Year Performance',\n",
              " 'REX 1 Year',\n",
              " 'REX',\n",
              " 'PRIME IG MINING',\n",
              " 'Prime All Share Price',\n",
              " 'North American Marijuana',\n",
              " 'NISAX 20',\n",
              " 'MVIS Vietnam TR Net',\n",
              " 'MVIS US Listed Retail 25 Pr',\n",
              " 'MVIS US Business Development Companies Pr',\n",
              " 'MVIS Russia TR Net',\n",
              " 'MVIS Russia Small Cap',\n",
              " 'MVIS Russia',\n",
              " 'MVIS Poland TR Net',\n",
              " 'MVIS India Small-Cap TR Net',\n",
              " 'MVIS Global Rare Earth/Strategic Metals TR Net',\n",
              " 'MVIS Global Junior Gold Miners TR Net',\n",
              " 'MVIS Egypt TR Net',\n",
              " 'MVIS Brazil Small-Cap TR Net',\n",
              " 'REX 2 Year Performance',\n",
              " 'Long DAX x3 AR TR',\n",
              " 'REX 2 Years',\n",
              " 'REX 3 Years',\n",
              " 'TecDAX Price',\n",
              " 'STOXX Europe 50 EUR Price',\n",
              " 'STOXX 50 EUR Net Return',\n",
              " 'Solactive Leveraged Short x 7 BTP Futures',\n",
              " 'Solacative Computing Cloud Performance',\n",
              " 'ShortDAX x2 TR',\n",
              " 'Short DAX x3 AR TR',\n",
              " 'SDAX Price',\n",
              " 'REX Performance',\n",
              " 'REX 9 Years',\n",
              " 'REX 9 Year Performance',\n",
              " 'REX 8 Years',\n",
              " 'REX 8 Year Performance',\n",
              " 'REX 7 Years',\n",
              " 'REX 7 Year Performance',\n",
              " 'REX 6 Years',\n",
              " 'REX 6 Year Performance',\n",
              " 'REX 5 Years',\n",
              " 'REX 5 Year Performance',\n",
              " 'REX 4 Years',\n",
              " 'REX 4 Year Performance',\n",
              " 'REX 3 Year Performance',\n",
              " 'HDAX',\n",
              " 'LEVDAX X5 TR',\n",
              " 'Germany 50',\n",
              " 'Transport & Logistics Price',\n",
              " 'Telecom Price',\n",
              " 'Technology Price',\n",
              " 'Software Price',\n",
              " 'Retail Price',\n",
              " 'Pharma & Healthcare Price',\n",
              " 'Media Price',\n",
              " 'Insurance Price',\n",
              " 'Industrial Price',\n",
              " 'Food & Beverages Price',\n",
              " 'Financial Services Price',\n",
              " 'Consumer & Cyclical Price',\n",
              " 'Construction Price',\n",
              " 'Chemicals Price',\n",
              " 'Basic Resources Price',\n",
              " 'Banks Price',\n",
              " 'Automobile Price',\n",
              " 'EUROGOV Fance 1-10Y Price',\n",
              " 'Media',\n",
              " 'TecDAX',\n",
              " 'SDAX',\n",
              " 'Utilities Price',\n",
              " 'LevDAX x2 TR EUR',\n",
              " 'EURO STOXX 50 DVP Futures EUR Price',\n",
              " 'BNP Paribas Next 11 Core 8 TR',\n",
              " 'HDAX Price',\n",
              " 'HDAX Pref',\n",
              " 'GEX Price',\n",
              " 'GEX',\n",
              " 'FTSE Germany',\n",
              " 'FAZ Share',\n",
              " 'EURO STOXX 50 Daily Leverage NR',\n",
              " 'EURO STOXX 50 Daily Double Short GR',\n",
              " 'DAXplus Price',\n",
              " 'DAXplus',\n",
              " 'Technology All Share Price',\n",
              " 'DAX Price',\n",
              " 'VDAX New',\n",
              " 'Midcap Price',\n",
              " 'Midcap Market Price',\n",
              " 'DAX BRIC PR',\n",
              " 'CRYPTOINDEX.com 100',\n",
              " 'Continental Star',\n",
              " 'Classic All Share Price',\n",
              " 'Cannabis World Index GTR',\n",
              " 'Bundesbank Yield',\n",
              " 'BEI Marijuana Sector Price',\n",
              " 'Insurance',\n",
              " 'DJ Germany 30 TR',\n",
              " 'Food & Beverage',\n",
              " 'DivDAX PF',\n",
              " 'DivDAX PR',\n",
              " 'DAX Kursindex',\n",
              " 'BNY Mellon Germany Classic ADR TR',\n",
              " 'BNY Mellon Germany Classic ADR',\n",
              " 'BNY Mellon Germany ADR TR',\n",
              " 'BNY Mellon Germany ADR',\n",
              " 'DJ Germany Titans 30 USD',\n",
              " 'LevDAX x2 Kursindex',\n",
              " 'DJ Germany Titans 30 EUR',\n",
              " 'Eb.Rexx Government Germany 10.5+ TR',\n",
              " 'Eb.Rexx Government Germany TR',\n",
              " 'Eb.Rexx Government Germany 5.5-10.5 TR',\n",
              " 'Eb.Rexx Government Germany 2.5-5.5 TR',\n",
              " 'Eb.Rexx Government Germany 1.5-2.5 TR',\n",
              " 'TR Germany 30 Years Government Benchmark',\n",
              " 'TR Germany 20 Years Government Benchmark',\n",
              " 'TR Germany 10 Years Government Benchmark',\n",
              " 'TR Germany 50',\n",
              " 'DAX x3 Levereged EUR TR',\n",
              " 'ShortDAX x3 EUR TR',\n",
              " 'DAXF 3XL',\n",
              " 'DJ Germany Select Dividend 20 TR',\n",
              " 'FTSE Germany SMID Cap Tradable Plus Price',\n",
              " 'FTSE Germany SMID Cap Tradable Plus TR',\n",
              " 'Industrial',\n",
              " 'MSCI Germany NR',\n",
              " 'DJ Germany Select Dividend 20',\n",
              " 'DJ Germany SelDiv 20 Distr EUR',\n",
              " 'X DAX PR',\n",
              " 'TECDAXF 4XS INDX',\n",
              " 'TECDAXF 3XS INDX',\n",
              " 'TECDAXF 4XL INDX',\n",
              " 'TECDAXF 3XL INDX',\n",
              " 'MDAXF 4XS',\n",
              " 'MDAXF 3XS',\n",
              " 'MDAXF 4XL',\n",
              " 'MDAXF 3XL',\n",
              " 'DAXF 4XS',\n",
              " 'DAXF 3XS',\n",
              " 'DAXF 4XL',\n",
              " 'TR Germany 7 Years Government Benchmark',\n",
              " 'TR Germany 5 Years Government Benchmark',\n",
              " 'Utilities',\n",
              " 'TR Germany 2 Years Government Benchmark',\n",
              " 'DBAG Eurogov Germany 10+ PR',\n",
              " 'DBAG Eurogov Germany 5-10 PR',\n",
              " 'DBAG Eurogov Germany 3-5 PR',\n",
              " 'DBAG Eurogov Germany 1-3 PR',\n",
              " 'SGI Double Short Bund',\n",
              " 'DJ Germany USD',\n",
              " 'DJ Germany',\n",
              " 'MSCI Germany Net EUR',\n",
              " 'DBAG Eurogov Germany 1-10 PR',\n",
              " 'MSCI Germany',\n",
              " 'DAX',\n",
              " 'Euro Stoxx 50',\n",
              " 'Banks',\n",
              " 'Basic Resources',\n",
              " 'Consumer & Cyclical',\n",
              " 'Construction',\n",
              " 'TR Germany 3 Years Government Benchmark',\n",
              " 'Chemicals',\n",
              " 'Financial Services',\n",
              " 'DBAG Eurogov Germany Money Market',\n",
              " 'Automobile',\n",
              " 'CBK Bund-Future Strategie Leveraged EUR',\n",
              " 'SCHATZF 10XL IDX',\n",
              " 'CBK Bund-Future Strategie EUR',\n",
              " 'SCHATZF 15XL IDX',\n",
              " 'SCHATZF 5XL INDX',\n",
              " 'BUNDF 15XS',\n",
              " 'BUNDF 5XS',\n",
              " 'BUNDF 15XL',\n",
              " 'BUNDF 10XL',\n",
              " 'BUNDF 5XL',\n",
              " 'BUNDF 10XS',\n",
              " 'SCHATZF 10XS IDX',\n",
              " 'SCHATZF 5XS INDX',\n",
              " 'EB REXX Germany 10.5+ PR',\n",
              " 'EB REXX Government Price',\n",
              " 'CBK Bund-Future Strategie 2xShort EUR',\n",
              " 'EB REXX Germany 5.5-10.5 PR',\n",
              " 'EB REXX Germany 2.5-5.5 PR',\n",
              " 'EB REXX Germany 1.5-2.5 PR',\n",
              " 'SCHATZF 15XS IDX',\n",
              " 'CBK Bund-Future Strategie Short']"
            ]
          },
          "metadata": {},
          "execution_count": 24
        }
      ]
    },
    {
      "cell_type": "code",
      "source": [
        "Dax_Alemania=inv.get_index_recent_data(\"DAX\",country=\"germany\")\n",
        "Dax=Dax_Alemania[[\"Close\",\"Open\"]].tail()\n",
        "print(Dax)"
      ],
      "metadata": {
        "id": "04mA0yzgo2hH",
        "colab": {
          "base_uri": "https://localhost:8080/"
        },
        "outputId": "ecb3185f-9371-426a-abb9-27a2b22aaa9f"
      },
      "execution_count": null,
      "outputs": [
        {
          "output_type": "stream",
          "name": "stdout",
          "text": [
            "               Close      Open\n",
            "Date                          \n",
            "2022-01-26  15459.39  15273.06\n",
            "2022-01-27  15524.27  15229.98\n",
            "2022-01-28  15318.95  15411.86\n",
            "2022-01-31  15471.20  15506.79\n",
            "2022-02-01  15639.39  15571.04\n"
          ]
        }
      ]
    },
    {
      "cell_type": "code",
      "source": [
        "Apertura_indice_Dax_Alemania = (Dax.iat[4,1])#Este comando esta extraer un valor especifico de un dataframe\n",
        "print(Apertura_indice_Dax_Alemania )"
      ],
      "metadata": {
        "id": "Qk8zWQdNzsmx",
        "colab": {
          "base_uri": "https://localhost:8080/"
        },
        "outputId": "fcd284a1-bf82-45f0-bf7c-ffaedb487b86"
      },
      "execution_count": null,
      "outputs": [
        {
          "output_type": "stream",
          "name": "stdout",
          "text": [
            "15571.04\n"
          ]
        }
      ]
    },
    {
      "cell_type": "code",
      "source": [
        "Cierre_precio_anterior_Dax_Alemania = Dax.iat[3,0]\n",
        "print(Cierre_precio_anterior_Dax_Alemania)"
      ],
      "metadata": {
        "id": "l4ZobseUzszP",
        "colab": {
          "base_uri": "https://localhost:8080/"
        },
        "outputId": "df3e014c-feaa-444a-b5d0-e5107506301c"
      },
      "execution_count": null,
      "outputs": [
        {
          "output_type": "stream",
          "name": "stdout",
          "text": [
            "15471.2\n"
          ]
        }
      ]
    },
    {
      "cell_type": "code",
      "source": [
        "Cierre_precio_anterior5dias_Dax_Alemania= Dax.iat[0,0]\n",
        "print(Cierre_precio_anterior5dias_Dax_Alemania)"
      ],
      "metadata": {
        "id": "M86ergPkzs_s",
        "colab": {
          "base_uri": "https://localhost:8080/"
        },
        "outputId": "7ebbced0-1960-44df-a1a8-4b1bc8bd3ba4"
      },
      "execution_count": null,
      "outputs": [
        {
          "output_type": "stream",
          "name": "stdout",
          "text": [
            "15459.39\n"
          ]
        }
      ]
    },
    {
      "cell_type": "markdown",
      "metadata": {
        "id": "x8i_3KHMCkdZ"
      },
      "source": [
        "**Nikkei (Japón)**"
      ]
    },
    {
      "cell_type": "code",
      "metadata": {
        "id": "QkdjzXzMCrrI",
        "colab": {
          "base_uri": "https://localhost:8080/"
        },
        "outputId": "36008d0d-ecea-4413-f8b7-3981fc474c1c"
      },
      "source": [
        "Nikkei_japon=inv.search_quotes(text='Nikkei 225 Futures', products=['indices'],countries=['japan'], n_results=1)\n",
        "print(Nikkei_japon)"
      ],
      "execution_count": null,
      "outputs": [
        {
          "output_type": "stream",
          "name": "stdout",
          "text": [
            "{\"id_\": 8859, \"name\": \"Nikkei 225 Futures\", \"symbol\": \"JP225\", \"country\": \"japan\", \"tag\": \"/indices/japan-225-futures\", \"pair_type\": \"indices\", \"exchange\": \"OSE\"}\n"
          ]
        }
      ]
    },
    {
      "cell_type": "code",
      "source": [
        "inv.get_indices_list(\"japan\")"
      ],
      "metadata": {
        "id": "2OhDKav7qjEY",
        "colab": {
          "base_uri": "https://localhost:8080/"
        },
        "outputId": "168bd92e-0015-41c0-d590-62878611b1d3"
      },
      "execution_count": null,
      "outputs": [
        {
          "output_type": "execute_result",
          "data": {
            "text/plain": [
              "['TSE TOPIX17 Wholesale Stock Price',\n",
              " 'TOPIX Banks',\n",
              " 'TSE TOPIX17 Transportation Stock Price',\n",
              " 'TOPIX Air Transportation',\n",
              " 'TSE TOPIX17 Steel Stock Price',\n",
              " 'TSE TOPIX17 IT Services Stock Price',\n",
              " 'TSE TOPIX17 Real Estate Stock Price',\n",
              " 'TSE TOPIX17 Power Gas Stock Price',\n",
              " 'TSE TOPIX17 Pharmacetical Stock Price',\n",
              " 'TSE TOPIX17 Machinery Stock Price',\n",
              " 'TSE TOPIX17 Food Stock Price',\n",
              " 'TOPIX Chemicals',\n",
              " 'TSE TOPIX17 Retail Stock Price',\n",
              " 'TOPIX Construction',\n",
              " 'TOPIX Insurance',\n",
              " 'TOPIX Electric Power & Gas',\n",
              " 'Stoxx Japan 50  Daily EUR',\n",
              " 'Stoxx Japan 50 Risk 10% RV USD',\n",
              " 'Stoxx Japan 50 Risk 10% RV EUR',\n",
              " 'Stoxx Japan 50 Risk 15% RV EUR',\n",
              " 'Stoxx Japan 50 Risk 20% RV USD',\n",
              " 'Stoxx Japan 50 Risk 20% RV EUR',\n",
              " 'Stoxx Japan 50 Risk 5% RV USD',\n",
              " 'Stoxx Japan 50 Risk 5% RV EUR',\n",
              " 'TOPIX Other Products',\n",
              " 'TOPIX Other Financing Business',\n",
              " 'TOPIX Electric Appliances',\n",
              " 'TOPIX Oil & Coal Products',\n",
              " 'TOPIX Mining',\n",
              " 'TOPIX Metal Products',\n",
              " 'TOPIX Marine Transportation',\n",
              " 'TOPIX Machinery',\n",
              " 'TOPIX Land Transportation',\n",
              " 'TOPIX Iron & Steel',\n",
              " 'TOPIX Information & Communication',\n",
              " 'TOPIX Glass & Ceramics Products',\n",
              " 'TOPIX Foods',\n",
              " 'TOPIX Fishery Agriculture & Forestry',\n",
              " 'TOPIX Nonferrous Metals',\n",
              " 'TOPIX Pharmaceutical',\n",
              " 'REIT Office Ex-Div',\n",
              " 'TOPIX Pulp & Paper',\n",
              " 'TOPIX Small Growth',\n",
              " 'Topix Small Market',\n",
              " 'Topix Small Market Div',\n",
              " 'TOPIX Small Value',\n",
              " 'TOPIX Value',\n",
              " 'TSE Dividend Focus 100',\n",
              " 'Large Stock Price',\n",
              " 'Large Stock Price Div',\n",
              " 'Medium Stock Price',\n",
              " 'Medium Stock Price Div',\n",
              " 'TSE Mothers Core',\n",
              " 'Second Section',\n",
              " 'Second Section Div',\n",
              " 'Small Stock Price',\n",
              " 'Small Stock Price Div',\n",
              " 'TOPIX Net TR',\n",
              " 'TSE TOPIX17 Financials Stock Price',\n",
              " 'Topix Mother Market',\n",
              " 'Topix Mid 400 Market Div',\n",
              " 'TOPIX 1500',\n",
              " 'TOPIX Composite for Mothers',\n",
              " 'Topix Core 30',\n",
              " 'TOPIX Core 30 Market Dividend included',\n",
              " 'TOPIX Core30 Dividend',\n",
              " 'TOPIX Dividend',\n",
              " 'TOPIX Double Inverse',\n",
              " 'Stoxx Japan 50 Daily EUR',\n",
              " 'Topix DV',\n",
              " 'TOPIX Ex-Financials Dividend',\n",
              " 'TOPIX Growth',\n",
              " 'TOPIX Inverse x1',\n",
              " 'Topix Large 70 Market',\n",
              " 'Topix Large 70 Market Div',\n",
              " 'TOPIX Leveraged x2',\n",
              " 'TOPIX Mid 400 Market',\n",
              " 'TOPIX Ex-Financials',\n",
              " 'Stoxx Japan 50 Daily 4 EUR',\n",
              " 'MSCI Japan Price',\n",
              " 'MSCI Japan Gross',\n",
              " 'BNY Mellon Japan Classic ADR',\n",
              " 'BNY Mellon Japan ADR',\n",
              " 'TR Japan 50',\n",
              " 'TR Japan 30 Year Government Benchmark',\n",
              " 'TR Japan 20 Years Government Benchmark',\n",
              " 'TR Japan 15 Year Government Benchmark',\n",
              " 'TR Japan 10 Years Government Benchmark',\n",
              " 'BNY Mellon Japan ADR TR',\n",
              " 'TR Japan 7 Years Government Benchmark',\n",
              " 'TR Japan 3 Years Government Benchmark',\n",
              " 'TR Japan 2 Years Government Benchmark',\n",
              " 'FTSE Japan',\n",
              " 'DJ Japan USD',\n",
              " 'DJ Japan',\n",
              " 'MSCI Japan Net USD',\n",
              " 'MSCI Japan Net JPY',\n",
              " 'TR Japan 5 Years Government Benchmark',\n",
              " 'TOPIX 500 Value',\n",
              " 'BNY Mellon Japan Classic ADR TR',\n",
              " 'MSCI Japan Mid Price JPY',\n",
              " 'FTSE Japan EUR',\n",
              " 'FTSE Japan Large Cap Super Liquid 3x Daily Short',\n",
              " 'FTSE Japan Large Cap Super Liquid 2x Daily Short',\n",
              " 'FTSE Japan Large Cap Super Liquid Daily Short',\n",
              " 'FTSE Japan Large Cap Super Liquid 3x Daily Leverag',\n",
              " 'FTSE Japan Large Cap Super Liquid 2x Daily Leverag',\n",
              " 'FTSE Japan All Cap',\n",
              " 'MSCI Japan Large Price JPY',\n",
              " 'FTSE Value Stocks Japan',\n",
              " 'FTSE RAFI Japan 350 QSR',\n",
              " 'NQ AlphaDEX Japan',\n",
              " 'NQ AlphaDEX Japan JPY',\n",
              " 'DJ Japan Select Dividend 30',\n",
              " 'DJ Islamic Market Japan',\n",
              " 'MSCI Japan Price JPY',\n",
              " 'MSCI Japan Hedged P EUR',\n",
              " 'FTSE RAFI Japan QSR',\n",
              " 'TOPIX 500 Growth',\n",
              " 'Topix 500 Dividend included',\n",
              " 'TOPIX 1000 Div',\n",
              " 'Topix 1000',\n",
              " 'Topix 500',\n",
              " 'TOPIX Composite',\n",
              " 'FTSE Japan Green Chip 35',\n",
              " 'REIT Retail & Logistics, Other Ex-Div',\n",
              " 'REIT Residential Ex-Div',\n",
              " 'FTSE Env. Opportunities Japan',\n",
              " 'Topix 100',\n",
              " 'FTSE Japan',\n",
              " 'FTSE RAFI Japan CAD',\n",
              " 'FTSE Shariah Japan 100',\n",
              " 'FTSE Shariah Japan 100 USD',\n",
              " 'FTSE4Good Japan Benchmark',\n",
              " 'Japan 50',\n",
              " 'JASDAQ Growth',\n",
              " 'JASDAQ J-Stock',\n",
              " 'FTSE RAFI Japan',\n",
              " 'JASDAQ Standard',\n",
              " 'TOPIX',\n",
              " 'Nikkei JQ Average',\n",
              " 'TOPIX Real Estate',\n",
              " 'Topix REIT Market',\n",
              " 'TOPIX Retail Trade',\n",
              " 'TOPIX Rubber Products',\n",
              " 'TOPIX Securities',\n",
              " 'TOPIX Services',\n",
              " 'TOPIX Textiles & Apparels',\n",
              " 'Nikkei Volatility',\n",
              " 'TOPIX Transportation Equipment',\n",
              " 'TOPIX Wholesale Trade',\n",
              " 'JASDAQ',\n",
              " 'JASDAQ 20',\n",
              " 'JPX-Nikkei 400',\n",
              " 'Nikkei 1000',\n",
              " 'Nikkei 300',\n",
              " 'Nikkei 500',\n",
              " 'TOPIX Warehouse & Harbour Transport',\n",
              " 'TOPIX Precision Instruments',\n",
              " 'JPX Nikkei 400 Double Inverse 2x',\n",
              " 'JPX Nikkei 400 Leveraged 2x',\n",
              " 'NK-TCE Crude Oil',\n",
              " 'NK-TCE Gasoline',\n",
              " 'NK-TCE Gold',\n",
              " 'NK-TCE Indust Com',\n",
              " 'NK-TCE Kerosene',\n",
              " 'NK-TCE Nearby Month',\n",
              " 'NK-TCE Oil',\n",
              " 'NK-TCE Corn',\n",
              " 'NK-TCE Palladium',\n",
              " 'NK-TCE Precious Metals',\n",
              " 'NK-TCE Rubber',\n",
              " 'NK-TCE Silver',\n",
              " 'NK-TCE Soybean',\n",
              " 'TSE JPX-Nikkei 400 Net TR',\n",
              " 'Tokyo SE JPX-Nikkei Div 400',\n",
              " 'TOPIX 100 Div',\n",
              " 'NK-TCE Platinum',\n",
              " 'JPX Nikkei 400 Inverse 1x',\n",
              " 'NK-TCE Azuki',\n",
              " 'Nikkei China Related Stock 50',\n",
              " 'JPX-Nikkei Mid and Small Cap',\n",
              " 'Mothers General TR',\n",
              " 'MSCI Japan JPY',\n",
              " 'Nikkei 225 Covered Call',\n",
              " 'Nikkei 225 Double Inverse',\n",
              " 'Nikkei 225 EUR Hedged',\n",
              " 'Nikkei 225 Inverse',\n",
              " 'NK-TCE Agri & Sugar',\n",
              " 'Nikkei 225 Leveraged',\n",
              " 'Nikkei 225 Risk Control',\n",
              " 'Nikkei 225 Total Return',\n",
              " 'Nikkei 225 TR EUR Hedged',\n",
              " 'Nikkei 225 TR USD Hedged',\n",
              " 'Nikkei 225 USD Hedged',\n",
              " 'Nikkei 225 VI Futures',\n",
              " 'Nikkei Average Dividend',\n",
              " 'Nikkei 225 Net Total Return',\n",
              " 'TSE TOPIX17 Energy Resources Stock Price',\n",
              " 'Stoxx Japan 50 Risk 15% RV USD',\n",
              " 'TSE TOPIX17 Construction Stock Price',\n",
              " 'N500 Mining',\n",
              " 'N500 Marine Transport',\n",
              " 'N500 Machinery',\n",
              " 'N500 Land Transport',\n",
              " 'N500 Insurance',\n",
              " 'N500 Glass & Ceramics',\n",
              " 'N500 Gas',\n",
              " 'N500 Foods',\n",
              " 'N500 Fishery',\n",
              " 'N500 Electric Power',\n",
              " 'Nikkei 225',\n",
              " 'N500 Electric Machinery',\n",
              " 'N500 Construction',\n",
              " 'N500 Communications',\n",
              " 'N500 Chemicals',\n",
              " 'N500 Banking',\n",
              " 'N500 Automobiles & Auto parts',\n",
              " 'N500 Air Transport',\n",
              " 'FTSE EPRA/NAREIT Japan',\n",
              " 'N500 Nonferrous Metals',\n",
              " 'N500 Other Financial Services',\n",
              " 'TSE TOPIX17 Electric Stock Price',\n",
              " 'N500 Petroleum',\n",
              " 'N500 Other Manufacturing',\n",
              " 'N500 Steel',\n",
              " 'N500 Textiles & Apparel',\n",
              " 'N500 Trading Companies',\n",
              " 'N500 Transportation Equipment',\n",
              " 'N500 Warehousing',\n",
              " 'REIT General Div',\n",
              " 'TSE TOPIX17 Banks Stock Price',\n",
              " 'TSE TOPIX17 Chemicals Stock Price',\n",
              " 'TSE TOPIX17 Automobile Stock Price',\n",
              " 'N500 Services',\n",
              " 'N500 Securities',\n",
              " 'N500 Rubber',\n",
              " 'N500 Retail',\n",
              " 'N500 Real Estate',\n",
              " 'N500 Railway & Bus',\n",
              " 'N500 Pulp & Paper',\n",
              " 'N500 Shipbuilding',\n",
              " 'N500 Precision Instruments',\n",
              " 'N500 Pharmaceuticals']"
            ]
          },
          "metadata": {},
          "execution_count": 30
        }
      ]
    },
    {
      "cell_type": "code",
      "source": [
        "Nikkei_225=inv.get_index_recent_data(\"Nikkei 225\",country=\"japan\")\n",
        "Nikkei=Nikkei_225[[\"Close\",\"Open\"]].tail()\n",
        "print(Nikkei)"
      ],
      "metadata": {
        "id": "0EfNQGursT2g",
        "colab": {
          "base_uri": "https://localhost:8080/"
        },
        "outputId": "5cd70975-41de-416f-9703-df0438a7b4eb"
      },
      "execution_count": null,
      "outputs": [
        {
          "output_type": "stream",
          "name": "stdout",
          "text": [
            "               Close      Open\n",
            "Date                          \n",
            "2022-01-26  27011.33  27105.98\n",
            "2022-01-27  26170.30  27139.88\n",
            "2022-01-28  26717.34  26429.85\n",
            "2022-01-31  27001.98  26690.60\n",
            "2022-02-01  27078.48  27167.14\n"
          ]
        }
      ]
    },
    {
      "cell_type": "code",
      "source": [
        "Apertura_indice_Dax_Nikkei_225 = (Nikkei.iat[4,1])#Este comando esta extraer un valor especifico de un dataframe\n",
        "print(Apertura_indice_Dax_Nikkei_225  )"
      ],
      "metadata": {
        "id": "AHAbp64X0RXS",
        "colab": {
          "base_uri": "https://localhost:8080/"
        },
        "outputId": "32bd4c67-3dbc-4d4f-8d4c-e1d399293b1e"
      },
      "execution_count": null,
      "outputs": [
        {
          "output_type": "stream",
          "name": "stdout",
          "text": [
            "27167.14\n"
          ]
        }
      ]
    },
    {
      "cell_type": "code",
      "source": [
        "Cierre_precio_anterior_Dax_Nikkei_225 = Nikkei.iat[3,0]\n",
        "print(Cierre_precio_anterior_Dax_Nikkei_225)"
      ],
      "metadata": {
        "id": "Tm9rjlcP0Rhk",
        "colab": {
          "base_uri": "https://localhost:8080/"
        },
        "outputId": "7e90e994-ec78-4322-89cc-9a197e96e642"
      },
      "execution_count": null,
      "outputs": [
        {
          "output_type": "stream",
          "name": "stdout",
          "text": [
            "27001.98\n"
          ]
        }
      ]
    },
    {
      "cell_type": "code",
      "source": [
        "Cierre_precio_anterior5dias_Dax_Nikkei_225= Nikkei.iat[0,0]\n",
        "print(Cierre_precio_anterior5dias_Dax_Nikkei_225)"
      ],
      "metadata": {
        "id": "bkQyItY60Rqs",
        "colab": {
          "base_uri": "https://localhost:8080/"
        },
        "outputId": "c68ec9c7-5564-4199-dfe8-48f099c8c49c"
      },
      "execution_count": null,
      "outputs": [
        {
          "output_type": "stream",
          "name": "stdout",
          "text": [
            "27011.33\n"
          ]
        }
      ]
    },
    {
      "cell_type": "markdown",
      "metadata": {
        "id": "b_6kv2VqCt4i"
      },
      "source": [
        "**Hang Seng (China)**"
      ]
    },
    {
      "cell_type": "code",
      "metadata": {
        "id": "9csxbgZeCvfC",
        "colab": {
          "base_uri": "https://localhost:8080/"
        },
        "outputId": "b2b9146f-449b-499e-a52a-7af1f7457d31"
      },
      "source": [
        "Hang_seng_china= inv.search_quotes(text='Hang Seng', products=['indices'],countries=['Hong Kong'], n_results=1)\n",
        "print(Hang_seng_china)"
      ],
      "execution_count": null,
      "outputs": [
        {
          "output_type": "stream",
          "name": "stdout",
          "text": [
            "{\"id_\": 8984, \"name\": \"Hang Seng Futures\", \"symbol\": \"HK50\", \"country\": \"hong kong\", \"tag\": \"/indices/hong-kong-40-futures\", \"pair_type\": \"indices\", \"exchange\": \"HKEx\"}\n"
          ]
        }
      ]
    },
    {
      "cell_type": "code",
      "source": [
        "inv.get_indices_list(\"china\")"
      ],
      "metadata": {
        "id": "CvtdOr6ftCV1",
        "colab": {
          "base_uri": "https://localhost:8080/"
        },
        "outputId": "3515a5ec-3b74-4112-e5f3-0b37abd7c8d1"
      },
      "execution_count": null,
      "outputs": [
        {
          "output_type": "execute_result",
          "data": {
            "text/plain": [
              "['MSCI China Price HKD',\n",
              " 'MSCI China A NR USD',\n",
              " 'AlphaShares China All Cap',\n",
              " 'AlphaShares China Technology',\n",
              " 'S Box China Energy TR',\n",
              " 'S Box China Industrial TR',\n",
              " 'S Box China Consumer TR',\n",
              " 'CSI Overseas China Internet USD',\n",
              " 'HSCEIF 3XL',\n",
              " 'HSIF 4XS',\n",
              " 'HSCEIF 4XL',\n",
              " 'HSIF 1XL',\n",
              " 'HSIF 2XL',\n",
              " 'HSIF 1XS',\n",
              " 'HSIF 2XS',\n",
              " 'HSIF 3XS',\n",
              " 'CSI Overseas China 5y Plan USD',\n",
              " 'China Securities 300 Consumer Disc',\n",
              " 'DJ China Offshore 50',\n",
              " 'CSI 300 Net TR USD',\n",
              " 'DJ Shenzhen',\n",
              " 'DJ Shanghai',\n",
              " 'BNY Mellon China Select ADRSM',\n",
              " 'HSCEIF 3XS',\n",
              " 'BNY Mellon China ADR',\n",
              " 'BNY Mellon China Classic ADR',\n",
              " 'BNY Mellon China xià yī dài ADR',\n",
              " 'DJ China Offshore 50 Tot',\n",
              " 'BNY Mellon China ADR TR',\n",
              " 'BNY Mellon China Select ADR TRSM',\n",
              " 'FTSE China A-H 50',\n",
              " 'FTSE China A All Share',\n",
              " 'FTSE RAFI Hong Kong/China',\n",
              " 'MSCI Golden Dragon',\n",
              " 'MSCI Zhong Hua',\n",
              " 'DJ BRIC China 15 Capped NTR',\n",
              " 'BNY Mellon China Classic ADR TR',\n",
              " 'HSCEIF 1XL',\n",
              " 'HSCEIF 2XL',\n",
              " 'HSCEIF 1XS',\n",
              " 'FTSE China Chemicals EUR',\n",
              " 'FTSE China Beverages GBP',\n",
              " 'FTSE China Beverages JPY',\n",
              " 'FTSE China Beverages USD',\n",
              " 'FTSE China Beverages EUR',\n",
              " 'FTSE China Basic Materials GBP',\n",
              " 'FTSE China Basic Materials JPY',\n",
              " 'FTSE China Basic Materials USD',\n",
              " 'FTSE China Basic Materials EUR',\n",
              " 'FTSE China Banks GBP',\n",
              " 'FTSE China Chemicals USD',\n",
              " 'FTSE China Banks JPY',\n",
              " 'FTSE China Banks EUR',\n",
              " 'FTSE China Automobiles Parts GBP',\n",
              " 'FTSE China Automobiles Parts JPY',\n",
              " 'FTSE China Automobiles Parts USD',\n",
              " 'FTSE China Automobiles Parts EUR',\n",
              " 'FTSE China A TR CHF',\n",
              " 'FTSE China A TR CNY',\n",
              " 'FTSE China A TR JPY',\n",
              " 'FTSE China A TR GBP',\n",
              " 'FTSE China A TR EUR',\n",
              " 'FTSE China Banks USD',\n",
              " 'FTSE China Chemicals JPY',\n",
              " 'FTSE China Chemicals GBP',\n",
              " 'FTSE China Construction Materi EUR',\n",
              " 'FTSE China Financials GBP',\n",
              " 'FTSE China Financials JPY',\n",
              " 'FTSE China Financials USD',\n",
              " 'FTSE China Financials EUR',\n",
              " 'FTSE China Electronic Electric GBP',\n",
              " 'FTSE China Electronic Electric JPY',\n",
              " 'FTSE China Electronic Electric USD',\n",
              " 'FTSE China Electronic Electric EUR',\n",
              " 'FTSE China Electricity GBP',\n",
              " 'FTSE China Electricity JPY',\n",
              " 'FTSE China Electricity USD',\n",
              " 'FTSE China Electricity EUR',\n",
              " 'FTSE China Consumer Services GBP',\n",
              " 'FTSE China Consumer Services JPY',\n",
              " 'FTSE China Consumer Services USD',\n",
              " 'FTSE China Consumer Services EUR',\n",
              " 'FTSE China Consumer Goods GBP',\n",
              " 'FTSE China Consumer Goods JPY',\n",
              " 'FTSE China Consumer Goods USD',\n",
              " 'FTSE China Consumer Goods EUR',\n",
              " 'FTSE China Construction Materi GBP',\n",
              " 'FTSE China Construction Materi JPY',\n",
              " 'FTSE China Construction Materi USD',\n",
              " 'FTSE China A TR USD',\n",
              " 'MSCI China ex Hong Kong Net USD',\n",
              " 'FTSE China A TR CAD',\n",
              " 'FTSE China A Small Cap USD',\n",
              " 'FTSE Value Stocks China A Share',\n",
              " 'FTSE China A50 Shariah',\n",
              " 'FTSE Emerging incl China Overseas non R/QFII GDP W',\n",
              " 'FTSE China Small Cap',\n",
              " 'FTSE China A 400',\n",
              " 'FTSE China A 600',\n",
              " 'FTSE China A 200',\n",
              " 'NQ Golden Dragon China',\n",
              " 'NQ OMX China Technology',\n",
              " 'BNY Mellon China xia yi dai ADR TR',\n",
              " 'FTSE Renaissance Hong Kong/China Top IPO',\n",
              " 'DJ Islam China/HK Titans 30 USD',\n",
              " 'DJ China 88',\n",
              " 'DJ China Broad Market',\n",
              " 'DJ BRIC China 15 EUR',\n",
              " 'DJ BRIC China 15 USD',\n",
              " 'DJ BRIC China 15 DR USD',\n",
              " 'China Securities 500',\n",
              " 'HSIF 4XL',\n",
              " 'HSIF 3XL',\n",
              " 'HSCEIF 4XS',\n",
              " 'HSCEIF 2XS',\n",
              " 'DJ Islam China/HK Titans 30 HKD',\n",
              " 'FTSE China 50 Net Tax CAD',\n",
              " 'FTSE China 50 TR HKD',\n",
              " 'FTSE China 50 TR',\n",
              " 'FTSE China A Small Cap CNY',\n",
              " 'FTSE China A Small Cap HKD',\n",
              " 'FTSE China A Net Tax USD',\n",
              " 'FTSE China A All Share USD',\n",
              " 'FTSE China A All Share CNY',\n",
              " 'FTSE China A All Share HKD',\n",
              " 'FTSE China A 600 USD',\n",
              " 'FTSE China A 600 CNY',\n",
              " 'FTSE China A 600 HKD',\n",
              " 'FTSE China A 400 USD',\n",
              " 'FTSE China A 400 CNY',\n",
              " 'FTSE China A 400 HKD',\n",
              " 'FTSE China A 200 USD',\n",
              " 'FTSE China A 200 CNY',\n",
              " 'FTSE China A 200 HKD',\n",
              " 'FTSE China A50 Net CNY',\n",
              " 'CSI All Share TR',\n",
              " 'BNY China Select ADR TR',\n",
              " 'BNY China Select ADR TR Hedged',\n",
              " 'BNY China Select ADR Hedged',\n",
              " 'BNY China Select ADR',\n",
              " 'MSCI Golden Dragon Net',\n",
              " 'FTSE China A50 TR',\n",
              " 'FTSE China A TR AUD',\n",
              " 'FTSE China 50 TR NET',\n",
              " 'SME-Chinext 500',\n",
              " 'SSE 5 year China T Note',\n",
              " 'FTSE China Aerospace&Defence',\n",
              " 'FTSE China Altenative Energy',\n",
              " 'FTSE China Auto&Parts',\n",
              " 'FTSE China Basic Materials',\n",
              " 'FTSE China Beverages',\n",
              " 'FTSE China Chemicals',\n",
              " 'SSE Enterprise Bond',\n",
              " 'FTSE China Constr&Materials',\n",
              " 'FTSE China Consumer Svcs',\n",
              " 'FTSE China E&E Equip',\n",
              " 'FTSE China Food&Drug Retail',\n",
              " 'FTSE China Food Producers',\n",
              " 'FTSE China Forestry Paper',\n",
              " 'FTSE China General Financial',\n",
              " 'FTSE China Consumer Goods',\n",
              " 'FTSE China General Industr',\n",
              " 'SSE Credit Bond 100',\n",
              " 'SSE CB 30',\n",
              " 'SZSE Technology',\n",
              " 'SZSE Telecom',\n",
              " 'SZSE Transportation',\n",
              " 'SZSE Upstream Industry',\n",
              " 'SZSE Utilities',\n",
              " 'SZSE Wholesale & Retail',\n",
              " 'SSE Convertible Bond',\n",
              " 'China A50',\n",
              " 'S&P/CITIC50',\n",
              " 'Shanghai SE A Share',\n",
              " 'SSE 100',\n",
              " 'Shanghai SE Corporate Bond',\n",
              " 'Shanghai SE Treasury Bond',\n",
              " 'SSE 5-Year Credit Bond',\n",
              " 'S&P/CITIC300',\n",
              " 'FTSE China Health Care',\n",
              " 'FTSE China Household Goods',\n",
              " 'FTSE China H. Goods&Textiles',\n",
              " 'FTSE China',\n",
              " 'FTSE China China',\n",
              " 'FTSE China H Share',\n",
              " 'FTSE Greater China',\n",
              " 'FTSE Greater China All Cap',\n",
              " 'FTSE Shariah China',\n",
              " 'CITIC Corp Bond',\n",
              " 'FTSE Value Stocks China',\n",
              " 'Shanghai SE 180 Financial',\n",
              " 'Shanghai SE 50',\n",
              " 'Shanghai SE B Share',\n",
              " 'CSI 300',\n",
              " 'SME 300 Growth Price',\n",
              " 'SME 300 Value Price',\n",
              " 'Shanghai SE 180',\n",
              " 'Chinext Return',\n",
              " 'Chinext Price',\n",
              " 'Chinext Composite',\n",
              " 'FTSE China Ind. Engineering',\n",
              " 'FTSE China Industrial Metal',\n",
              " 'FTSE China Industr Transport',\n",
              " 'FTSE China Industrials',\n",
              " 'FTSE China Mining',\n",
              " 'FTSE China Oil&Gas',\n",
              " 'FTSE China Oil&Gas Producers',\n",
              " 'FTSE China Personal Goods',\n",
              " 'FTSE China Pharma&Biotech',\n",
              " 'FTSE China Support Svcs',\n",
              " 'SSE Consumer Commodity',\n",
              " 'SSE Corporate Governance',\n",
              " 'SSE Investment Commodity',\n",
              " 'Chinext 300 Growth',\n",
              " 'Chinext 300 Value',\n",
              " 'SZSE Responsibility Price',\n",
              " 'SZSE Research & Development',\n",
              " 'SZSE Real Estate',\n",
              " 'SZSE Performance',\n",
              " 'FTSE China Travel&Leisure',\n",
              " 'FTSE China Utilities',\n",
              " 'FTSE China BlueChip Value 100',\n",
              " 'FTSE China Mobile',\n",
              " 'FTSE China Telecom',\n",
              " 'SSE Banks',\n",
              " 'FTSE China Tech Hardware&Equip',\n",
              " 'SSE Commodity Equity',\n",
              " 'SSE Consumer Staples',\n",
              " 'SSE Emerging Industries',\n",
              " 'SSE Energy',\n",
              " 'SSE Financials',\n",
              " 'SSE Health Care',\n",
              " 'SSE Industrials',\n",
              " 'SSE Consumer Discretionary',\n",
              " 'FTSE China Technology',\n",
              " 'FTSE China Software&Comp Svcs',\n",
              " 'FTSE China RE Invest&Svcs',\n",
              " 'FTSE China 50 USD',\n",
              " 'FTSE China 50 HKD',\n",
              " 'MSCI China Net USD',\n",
              " 'FTSE China Fixed Line TelecommunEUR',\n",
              " 'SGEX Gold 99.99 Commodity Cash',\n",
              " 'Shanghai',\n",
              " 'SZSE Component',\n",
              " 'FTSE China Oil Equip Svcs&Dist',\n",
              " 'FTSE China Banks',\n",
              " 'FTSE China Electricity',\n",
              " 'FTSE China Financials',\n",
              " 'FTSE China Gas&Water Utilities',\n",
              " 'FTSE China General Retailers',\n",
              " 'FTSE China Life Insurance',\n",
              " 'FTSE China Media',\n",
              " 'SSE Information Technology',\n",
              " 'TR China 50',\n",
              " 'SSE Materials',\n",
              " 'SSE Natural Resource',\n",
              " 'SZSE Financials',\n",
              " 'SZSE Health Care',\n",
              " 'SZSE Health Care 50',\n",
              " 'SZSE Hotel & Catering',\n",
              " 'SZSE Individual Businesses Price',\n",
              " 'SZSE Industrials',\n",
              " 'SZSE Equipment Manufacturing',\n",
              " 'SZSE Industry Top',\n",
              " 'SZSE Investment Clock',\n",
              " 'SZSE Manufacturing',\n",
              " 'SZSE Materials',\n",
              " 'SZSE Media',\n",
              " 'SZSE Midstream Industry',\n",
              " 'SZSE Mining',\n",
              " 'SZSE Information Technology',\n",
              " 'SZSE Environmental Protection',\n",
              " 'SZSE Energy',\n",
              " 'SZSE Downstream Industry',\n",
              " 'SSE New Comp',\n",
              " 'SSE Telecommunication Services',\n",
              " 'SSE Utilities',\n",
              " 'SZSE Agriculture',\n",
              " 'SZSE Business Service',\n",
              " 'SZSE Central Company',\n",
              " 'SZSE Chinext 50',\n",
              " 'SZSE Commodities Producer',\n",
              " 'SZSE Conglomerates',\n",
              " 'SZSE Construction',\n",
              " 'SZSE Consumer 50',\n",
              " 'SZSE Consumer Discretionary',\n",
              " 'SZSE Consumer Staples',\n",
              " 'SZSE Culture',\n",
              " 'SZSE Defensive 50',\n",
              " 'SSE Misc Sub',\n",
              " 'FTSE China Fixed Line TelecommunUSD',\n",
              " 'FTSE China Fixed Line TelecommunJPY',\n",
              " 'FTSE China Fixed Line TelecommunGBP',\n",
              " 'FTSE China A50 CNY',\n",
              " 'FTSE China A50 HKD',\n",
              " 'FTSE/Xinhua China A50 Total Return',\n",
              " 'FTSE China 50 Total Return',\n",
              " 'FTSE China 50 Mini',\n",
              " 'FTSE Intl All-World Regional Indices - Greater Chi',\n",
              " 'FTSE Intl All-World Regional Indices - Greater Chi',\n",
              " 'FTSE Intl All-World Regional Indices - Greater Chi',\n",
              " 'FTSE China A50 USD',\n",
              " 'FTSE Intl All-World Regional Indices - Greater Chi',\n",
              " 'FTSE Intl All-World Country Indices - China JPY',\n",
              " 'FTSE Intl All-World Country Indices - China GBP',\n",
              " 'FTSE Mpf Domestic Hong Kong',\n",
              " 'FTSE China Health Care Equipment & Services Total',\n",
              " 'FTSE MPF China Total Return',\n",
              " 'FTSE China Support Services Total Return USD',\n",
              " 'FTSE China Mobile Telecommunications Total Return',\n",
              " 'FTSE China Food Producers Total Return USD',\n",
              " 'FTSE Intl All-World Country Indices - China EUR',\n",
              " 'FTSE China Real Estate Investment & Services Total',\n",
              " 'FTSE China 50 Net Tax',\n",
              " 'FTSE China A 200 Total Return CNY',\n",
              " 'FTSE China 200 Oil Equipment Services & Distributi',\n",
              " 'FTSE China 200 Oil & Gas Producers HKD',\n",
              " 'FTSE China A50 Shariah',\n",
              " 'FTSE China A50 CNHUSD Net Total Return',\n",
              " 'FTSE Custom China 50 CAD Total Return',\n",
              " 'FTSE China 50 3x Daily Leveraged',\n",
              " 'FTSE China 50 2x Daily Leveraged',\n",
              " 'FTSE China 50 3x Daily Short',\n",
              " 'FTSE China A Net Tax',\n",
              " 'FTSE Custom China 50 CAD',\n",
              " 'FTSE China 50 Daily Short',\n",
              " 'FTSE China 50 2x Daily Short',\n",
              " 'FTSE China A-H 50',\n",
              " 'FTSE Emerging Markets All Cap China A Inclusion Ne',\n",
              " 'FTSE Emerging incl China Overseas non-R/QFII GDP W',\n",
              " 'FTSE China 50 Net Tax USD',\n",
              " 'FTSE China A 200 Total Return USD',\n",
              " 'FTSE Emerging incl China Overseas non-R/QFII Total',\n",
              " 'FTSE Emerging incl China Overseas non-R/QFII Net T',\n",
              " 'FTSE China Health Care Equipment & Services Total',\n",
              " 'FTSE China Alternative Energy Total Return JPY',\n",
              " 'FTSE China Financial Services Total Return GBP',\n",
              " 'FTSE China Support Services Price JPY',\n",
              " 'FTSE China Real Estate Investment & Services Price',\n",
              " 'FTSE China Real Estate Investment & Services Price',\n",
              " 'FTSE China Real Estate Investment & Services Price',\n",
              " 'FTSE China Real Estate Investment & Services Price',\n",
              " 'FTSE China Mobile Telecommunications Price JPY',\n",
              " 'FTSE China Mobile Telecommunications Price EUR',\n",
              " 'FTSE China Mobile Telecommunications Price USD',\n",
              " 'FTSE China Support Services Price GBP',\n",
              " 'FTSE China Mobile Telecommunications Price GBP',\n",
              " 'FTSE China Health Care Equipment & Services Price',\n",
              " 'FTSE China Health Care Equipment & Services Price',\n",
              " 'FTSE China Health Care Equipment & Services Price',\n",
              " 'FTSE China Food Producers Price EUR',\n",
              " 'FTSE China Food Producers Price USD',\n",
              " 'FTSE China Food Producers Price JPY',\n",
              " 'FTSE China Food Producers Price GBP',\n",
              " 'FTSE China Financial Services Price JPY',\n",
              " 'FTSE China Health Care Equipment & Services Price',\n",
              " 'FTSE China Support Services Price EUR',\n",
              " 'FTSE China Support Services Price USD',\n",
              " 'FTSE China Alternative Energy Total Return EUR',\n",
              " 'FTSE China Real Estate Investment & Services Total',\n",
              " 'FTSE China Health Care Equipment & Services Total',\n",
              " 'FTSE China Food Producers Total Return JPY',\n",
              " 'FTSE China Financial Services Total Return JPY',\n",
              " 'FTSE China Real Estate Investment & Services Total',\n",
              " 'FTSE China Support Services Total Return JPY',\n",
              " 'FTSE China Financial Services Total Return EUR',\n",
              " 'FTSE China Health Care Equipment & Services Total',\n",
              " 'FTSE China Alternative Energy Total Return USD',\n",
              " 'FTSE China Alternative Energy Total Return GBP',\n",
              " 'FTSE China Mobile Telecommunications Total Return',\n",
              " 'FTSE China Food Producers Total Return EUR',\n",
              " 'FTSE China Mobile Telecommunications Total Return',\n",
              " 'FTSE China Support Services Total Return GBP',\n",
              " 'FTSE China Support Services Total Return EUR',\n",
              " 'FTSE China Mobile Telecommunications Total Return',\n",
              " 'FTSE China Food Producers Total Return GBP',\n",
              " 'FTSE China Financial Services Total Return USD',\n",
              " 'FTSE China Real Estate Investment & Services Total',\n",
              " 'FTSE China 200 Chemicals HKD',\n",
              " 'FTSE China 200 Industrial Metals HKD',\n",
              " 'FTSE China 200 Mining HKD',\n",
              " 'FTSE China 200 Construction & Materials HKD',\n",
              " 'FTSE China 200 Beverages USD',\n",
              " 'FTSE China 200 Automobiles & Parts USD',\n",
              " 'FTSE China 200 Industrial Transportation USD',\n",
              " 'FTSE China 200 Industrial Engineering USD',\n",
              " 'FTSE China 200 Electronic & Electrical Equipment U',\n",
              " 'FTSE China 200 General Industrials USD',\n",
              " 'FTSE China 200 Aerospace & Defence USD',\n",
              " 'FTSE China 200 Construction & Materials USD',\n",
              " 'FTSE China 200 Food Producers USD',\n",
              " 'FTSE China 200 Mining USD',\n",
              " 'FTSE China 200 Chemicals USD',\n",
              " 'FTSE China 200 Oil Equipment Services & Distributi',\n",
              " 'FTSE China 200 Oil & Gas Producers USD',\n",
              " 'FTSE China 200 Technology Hardware & Equipment CNY',\n",
              " 'FTSE China 200 Software and Computer Services CNY',\n",
              " 'FTSE China 200 General Financial CNY',\n",
              " 'FTSE China 200 Life Insurance CNY',\n",
              " 'FTSE China 200 Banks CNY',\n",
              " 'FTSE China 200 Industrial Metals USD',\n",
              " 'FTSE China 200 Household Goods USD',\n",
              " 'FTSE China 200 Leisure Goods USD',\n",
              " 'FTSE China 200 Personal Goods USD',\n",
              " 'MSCI China A Onshore Price CNY',\n",
              " 'MSCI China A International Pr USD',\n",
              " 'FTSE China 200 Real Estate Investment and Services',\n",
              " 'FTSE China 200 Alternate Energy HKD',\n",
              " 'FTSE China 200 Real Estate Investment and Services',\n",
              " 'FTSE China 200 Real Estate Investment and Services',\n",
              " 'FTSE China 200 Alternate Energy USD',\n",
              " 'FTSE China 200 Alternate Energy CNY',\n",
              " 'FTSE China 200 General Financial USD',\n",
              " 'FTSE China 200 Banks USD',\n",
              " 'FTSE China 200 Electricity USD',\n",
              " 'FTSE China 200 Pharmaceuticals & Biotechnology USD',\n",
              " 'FTSE China 200 Technology Hardware & Equipment USD',\n",
              " 'FTSE China 200 Software and Computer Services USD',\n",
              " 'FTSE China 200 Life Insurance USD',\n",
              " 'FTSE China 200 Mobile Telecommunication USD',\n",
              " 'FTSE China 200 Travel & Leisure USD',\n",
              " 'FTSE China 200 Media USD',\n",
              " 'FTSE China 200 General Retailers USD',\n",
              " 'FTSE China 200 Electricity CNY',\n",
              " 'FTSE China Financial Services Price USD',\n",
              " 'FTSE China 200 Mobile Telecommunication CNY',\n",
              " 'FTSE China 200 Media CNY',\n",
              " 'FTSE China 200 Oil & Gas Producers CNY',\n",
              " 'FTSE China 200 Life Insurance HKD',\n",
              " 'FTSE China 200 Mobile Telecommunication HKD',\n",
              " 'FTSE China 200 Travel & Leisure HKD',\n",
              " 'FTSE China 200 Media HKD',\n",
              " 'FTSE China 200 General Retailers HKD',\n",
              " 'FTSE China 200 Pharmaceuticals & Biotechnology HKD',\n",
              " 'FTSE China 200 Personal Goods HKD',\n",
              " 'FTSE China 200 Chemicals CNY',\n",
              " 'FTSE China 200 Leisure Goods HKD',\n",
              " 'FTSE China 200 Food Producers HKD',\n",
              " 'FTSE China 200 Beverages HKD',\n",
              " 'FTSE China 200 Automobiles & Parts HKD',\n",
              " 'FTSE China 200 Industrial Transportation HKD',\n",
              " 'FTSE China 200 Industrial Engineering HKD',\n",
              " 'FTSE China 200 Electronic & Electrical Equipment H',\n",
              " 'FTSE China 200 General Industrials HKD',\n",
              " 'FTSE China 200 Aerospace & Defence HKD',\n",
              " 'FTSE China 200 Household Goods HKD',\n",
              " 'FTSE China 200 Industrial Metals CNY',\n",
              " 'FTSE China 200 Mining CNY',\n",
              " 'FTSE China 200 Aerospace & Defence CNY',\n",
              " 'FTSE China 200 General Retailers CNY',\n",
              " 'FTSE China 200 Pharmaceuticals & Biotechnology CNY',\n",
              " 'FTSE China 200 Personal Goods CNY',\n",
              " 'FTSE China 200 Leisure Goods CNY',\n",
              " 'FTSE China 200 Household Goods CNY',\n",
              " 'FTSE China 200 Food Producers CNY',\n",
              " 'FTSE China 200 Beverages CNY',\n",
              " 'FTSE China 200 Automobiles & Parts CNY',\n",
              " 'FTSE China 200 Industrial Transportation CNY',\n",
              " 'FTSE China 200 Industrial Engineering CNY',\n",
              " 'FTSE China 200 Construction & Materials CNY',\n",
              " 'FTSE China 200 Oil Equipment Services & Distributi',\n",
              " 'FTSE China 200 Technology Hardware & Equipment HKD',\n",
              " 'FTSE China 200 Software and Computer Services HKD',\n",
              " 'FTSE China 200 General Financial HKD',\n",
              " 'FTSE China 200 Banks HKD',\n",
              " 'FTSE China 200 Electricity HKD',\n",
              " 'FTSE China 200 Electronic & Electrical Equipment C',\n",
              " 'FTSE China 200 General Industrials CNY',\n",
              " 'FTSE China 200 Travel & Leisure CNY',\n",
              " 'FTSE China Financial Services Price EUR',\n",
              " 'FTSE China Financial Services Price GBP',\n",
              " 'FTSE China Alternative Energy Price USD',\n",
              " 'FTSE China Oil Equipment Servi JPY',\n",
              " 'FTSE China Oil Equipment Servi USD',\n",
              " 'FTSE China Oil Equipment Servi EUR',\n",
              " 'FTSE China Oil Gas Producers GBP',\n",
              " 'FTSE China Oil Gas Producers JPY',\n",
              " 'FTSE China Oil Gas Producers USD',\n",
              " 'SME-Chinext 400',\n",
              " 'FTSE China Oil Gas GBP',\n",
              " 'FTSE China Oil Equipment Servi GBP',\n",
              " 'FTSE China Oil Gas JPY',\n",
              " 'FTSE China Oil Gas EUR',\n",
              " 'FTSE China Nonlife Insurance GBP',\n",
              " 'FTSE China Nonlife Insurance JPY',\n",
              " 'FTSE China Nonlife Insurance USD',\n",
              " 'FTSE China Nonlife Insurance EUR',\n",
              " 'FTSE China Mining GBP',\n",
              " 'FTSE China Mining JPY',\n",
              " 'FTSE China Mining USD',\n",
              " 'FTSE China Oil Gas USD',\n",
              " 'FTSE China Personal Goods EUR',\n",
              " 'FTSE China Personal Goods USD',\n",
              " 'FTSE China Personal Goods JPY',\n",
              " 'FTSE China Telecommunication USD',\n",
              " 'FTSE China Telecommunication EUR',\n",
              " 'FTSE China Technology Hardware  GBP',\n",
              " 'FTSE China Technology Hardware  JPY',\n",
              " 'FTSE China Technology Hardware  USD',\n",
              " 'FTSE China Technology Hardware  EUR',\n",
              " 'FTSE China Technology GBP',\n",
              " 'FTSE China Technology JPY',\n",
              " 'FTSE China Technology USD',\n",
              " 'FTSE China Technology EUR',\n",
              " 'FTSE China Software Computer S GBP',\n",
              " 'FTSE China Software Computer S JPY',\n",
              " 'FTSE China Software Computer S USD',\n",
              " 'FTSE China Software Computer S EUR',\n",
              " 'FTSE China Pharmaceuticals Bio GBP',\n",
              " 'FTSE China Pharmaceuticals Bio JPY',\n",
              " 'FTSE China Pharmaceuticals Bio USD',\n",
              " 'FTSE China Pharmaceuticals Bio EUR',\n",
              " 'FTSE China Personal Goods GBP',\n",
              " 'FTSE China Mining EUR',\n",
              " 'FTSE China Telecommunication JPY',\n",
              " 'FTSE China Life Insurance GBP',\n",
              " 'FTSE China Life Insurance USD',\n",
              " 'FTSE China Health Care USD',\n",
              " 'FTSE China Health Care EUR',\n",
              " 'FTSE China General Retailers GBP',\n",
              " 'FTSE China General Retailers JPY',\n",
              " 'FTSE China General Retailers USD',\n",
              " 'FTSE China General Retailers EUR',\n",
              " 'FTSE China General Industrials GBP',\n",
              " 'FTSE China General Industrials JPY',\n",
              " 'FTSE China Health Care JPY',\n",
              " 'FTSE China General Industrials USD',\n",
              " 'FTSE China Gas Water Multiutil GBP',\n",
              " 'FTSE China Gas Water Multiutil JPY',\n",
              " 'FTSE China Gas Water Multiutil USD',\n",
              " 'FTSE China Gas Water Multiutil EUR',\n",
              " 'FTSE China Forestry Paper GBP',\n",
              " 'FTSE China Forestry Paper JPY',\n",
              " 'FTSE China Forestry Paper USD',\n",
              " 'FTSE China Forestry Paper EUR',\n",
              " 'FTSE China General Industrials EUR',\n",
              " 'FTSE China Health Care GBP',\n",
              " 'FTSE China Household Goods EUR',\n",
              " 'FTSE China Household Goods USD',\n",
              " 'FTSE China Life Insurance EUR',\n",
              " 'FTSE China Industrials GBP',\n",
              " 'FTSE China Industrials JPY',\n",
              " 'FTSE China Industrials USD',\n",
              " 'FTSE China Industrials EUR',\n",
              " 'FTSE China Industrial TransportaGBP',\n",
              " 'FTSE China Industrial TransportaJPY',\n",
              " 'FTSE China Industrial TransportaUSD',\n",
              " 'FTSE China Industrial TransportaEUR',\n",
              " 'FTSE China Industrial Metals GBP',\n",
              " 'FTSE China Industrial Metals JPY',\n",
              " 'FTSE China Industrial Metals USD',\n",
              " 'FTSE China Industrial Metals EUR',\n",
              " 'FTSE China Industrial Engineerin GBP',\n",
              " 'FTSE China Industrial Engineerin JPY',\n",
              " 'FTSE China Industrial Engineerin USD',\n",
              " 'FTSE China Industrial Engineerin EUR',\n",
              " 'FTSE China Household Goods GBP',\n",
              " 'FTSE China Household Goods JPY',\n",
              " 'FTSE China Life Insurance JPY',\n",
              " 'SME-Chinext 100 Price',\n",
              " 'FTSE China Telecommunication GBP',\n",
              " 'FTSE China Travel Leisure USD',\n",
              " 'FTSE Greater China Total Return GBP',\n",
              " 'FTSE Greater China Total Return JPY',\n",
              " 'FTSE China A 200 Composite',\n",
              " 'FTSE Greater China Small Cap YEN',\n",
              " 'FTSE Greater China Small Cap EURO',\n",
              " 'FTSE Greater China Small Cap GBP',\n",
              " 'FTSE GREATER CHINA SMALL CAP USD',\n",
              " 'FTSE AW China Total Return JPY',\n",
              " 'FTSE Greater China Total Return USD',\n",
              " 'FTSE AW China Total Return GBP',\n",
              " 'FTSE AW China Total Return EUR',\n",
              " 'FTSE Global Equity Series Wi China EURO',\n",
              " 'FTSE Global Equity Series Wi China YEN',\n",
              " 'FTSE Intl All-World Country Indices - China USD',\n",
              " 'FTSE Global Equity Series Wi China GBP',\n",
              " 'FTSE CHINA SMALL CAP USD',\n",
              " 'FTSE China 50',\n",
              " 'FTSE China HY150 TR HKD',\n",
              " 'FTSE AW China Total Return USD',\n",
              " 'FTSE Greater China Total Return EUR',\n",
              " 'FTSE Global All Cap ex Canada China A Inclusion Ne',\n",
              " 'FT V China A TR',\n",
              " 'FTSE China Alternative Energy Price EUR',\n",
              " 'FTSE China Alternative Energy Price GBP',\n",
              " 'FTSE China Alternative Energy Price JPY',\n",
              " 'FTSE RAFI Hong Kong/China 80 - QSR GBP TR',\n",
              " 'FTSE RAFI Hong Kong/China 80 - QSR AUD TR',\n",
              " 'FTSE RAFI Hong Kong/China 80 - QSR CAD TR',\n",
              " 'FTSE RAFI Hong Kong/China 80 - QSR CHF PR',\n",
              " 'FTSE RAFI Hong Kong/China 80 - QSR JPY TR',\n",
              " 'FTSE RAFI Hong Kong/China 80 - QSR EUR TR',\n",
              " 'FTSE RAFI Hong Kong/China 80 - QSR USD TR',\n",
              " 'FTSE RAFI Hong Kong/China 80 - QSR CAD PR',\n",
              " 'FTSE RAFI Hong Kong/China 80 - QSR CHF TR',\n",
              " 'FTSE China 50 NET',\n",
              " 'FTSE Global All Cap ex Canada China A Inclusion Ne',\n",
              " 'FTSE RAFI Hong Kong/China 80 - QSR USD PR',\n",
              " 'FTSE RAFI Hong Kong/China 80 - QSR EUR PR',\n",
              " 'FTSE RAFI Hong Kong/China 80 - QSR AUD PR',\n",
              " 'FTSE RAFI Hong Kong/China 80 - QSR JPY PR',\n",
              " 'FTSE RAFI Hong Kong/China 80 - QSR GBP PR',\n",
              " 'FTSE China HY150 TR CNY',\n",
              " 'FTSE China Travel Leisure EUR',\n",
              " 'FTSE China HY150 TR USD',\n",
              " 'FTSE ChinaA HY150 CNY',\n",
              " 'FTSE Mpf China',\n",
              " 'FTSE Greater China 150',\n",
              " 'FTSE EPRANAREIT Emerging Net TRIUSD',\n",
              " 'FTSE EPRANAREIT Emerging Net TRIGBP',\n",
              " 'FTSE EPRANAREIT Emerging Net TRIEUR',\n",
              " 'FTSE EPRANAREIT Emerging Net TRIAUD',\n",
              " 'FTSE EPRANAREIT Emerging Net TRIJPY',\n",
              " 'FTSE EPRANAREIT Emerging CHINA EUR',\n",
              " 'FTSE Mpf Greater China',\n",
              " 'FTSE EPRANAREIT Emerging CHINA JPY',\n",
              " 'FTSE EPRANAREIT Emerging CHINA AUD',\n",
              " 'FTSE EPRANAREIT Emerging CHINA GBP',\n",
              " 'FTSE China Utilities GBP',\n",
              " 'FTSE China Utilities JPY',\n",
              " 'FTSE China Utilities USD',\n",
              " 'FTSE China Utilities EUR',\n",
              " 'FTSE China Travel Leisure GBP',\n",
              " 'FTSE China Travel Leisure JPY',\n",
              " 'FTSE EPRANAREIT Emerging CHINA USD',\n",
              " 'FTSE RAFI Hong Kong China HKD',\n",
              " 'FTSE RAFI Hong Kong China AUD',\n",
              " 'FTSE RAFI Hong Kong China EUR',\n",
              " 'FTSE ChinaA HY150 HKD',\n",
              " 'FTSE V SK China TR CHF',\n",
              " 'FTSE V SK China TR AUD',\n",
              " 'FTSE V SK China TR JPY',\n",
              " 'FTSE V SK China TR GBP',\n",
              " 'FTSE V SK China TR EUR',\n",
              " 'FTSE V SK China TR USD',\n",
              " 'FTSE V SK China TR CAD',\n",
              " 'FTSE Shariah Greater China USD',\n",
              " 'FTSE Shariah Greater China JPY',\n",
              " 'FTSE Shariah Greater China GBP',\n",
              " 'FTSE Shariah Greater China EUR',\n",
              " 'FTSE Shariah China USD',\n",
              " 'FTSE Shariah China JPY',\n",
              " 'FTSE Shariah China GBP',\n",
              " 'FTSE Shariah China EUR',\n",
              " 'FTSE RAFI Hong Kong China USD',\n",
              " 'FTSE RAFI Hong Kong China JPY',\n",
              " 'FTSE RAFI Hong Kong China GBP',\n",
              " 'FTSE ChinaA HY150 USD',\n",
              " 'SME-Chinext 100 TRN',\n",
              " 'FTSE China Oil Gas Producers EUR',\n",
              " 'SSE MidCap',\n",
              " 'SSE Upstream Industry',\n",
              " 'SSE Utilities EW',\n",
              " 'SSE Utility Sub',\n",
              " 'SSE Wealth Mid-Small',\n",
              " 'SSE180 Growth',\n",
              " 'SSE180 Relative Growth',\n",
              " 'SSE180 Relative Value',\n",
              " 'SSE180 Value',\n",
              " 'SSEF 200',\n",
              " 'SSEF 300',\n",
              " 'SSEF 500',\n",
              " 'SZFI 120',\n",
              " 'SZFI 200',\n",
              " 'SZFI 60',\n",
              " 'SZSE 100',\n",
              " 'SSE Telecommunication Services EW',\n",
              " 'SZSE 100 Equal Weight',\n",
              " 'SSE Sustainable Development Industry',\n",
              " 'SSE State-owned Enterprises 100',\n",
              " 'SSE Midstream Industry',\n",
              " 'SSE non-Cyclical Industry 100',\n",
              " 'SSE Overseas-listing A Share',\n",
              " 'SSE Private-owned Enterprises 50',\n",
              " 'SSE Private-owned Enterprises Dividend',\n",
              " 'SSE Property Sub',\n",
              " 'SSE Resource 50',\n",
              " 'SSE Select Consumption Industries',\n",
              " 'SSE Select Consumption Industries TR',\n",
              " 'SSE Select Manufacturing Industries',\n",
              " 'SSE Select Resources Industries',\n",
              " 'SSE Select Resources Industries TR',\n",
              " 'SSE Shanghai Enterprises',\n",
              " 'SSE SmallCap',\n",
              " 'SSE Social Responsibility',\n",
              " 'SSE State-owned Enterprises Dividend',\n",
              " 'SSE Mid&Small Cap',\n",
              " 'SZSE 100 Low Volatility',\n",
              " 'SZSE 100 Price',\n",
              " 'SZSE B Share',\n",
              " 'SZSE B Share Sub',\n",
              " 'SZSE Chinext 300',\n",
              " 'SZSE Chinext Equal Weight',\n",
              " 'SZSE Chinext Prime Market',\n",
              " 'SZSE Chinext Strategic Emerging Industries',\n",
              " 'SZSE Component Equal Weighted',\n",
              " 'SZSE Corp Governance Price',\n",
              " 'SZSE Cyclical 50',\n",
              " 'SZSE Dividend Price',\n",
              " 'SZSE GDP 100',\n",
              " 'SZSE Growth Price',\n",
              " 'SZSE Innovation',\n",
              " 'SZSE New',\n",
              " 'SZSE Press',\n",
              " 'SZSE A Share Sub',\n",
              " 'SZSE 100 Performance Weighted',\n",
              " 'SZSE A Share',\n",
              " 'SZSE 700 Growth',\n",
              " 'SZSE 1000',\n",
              " 'SZSE 1000 Growth',\n",
              " 'SZSE 1000 Value',\n",
              " 'SZSE 200',\n",
              " 'SZSE 300',\n",
              " 'SZSE 300 Equal Weight',\n",
              " 'SZSE 300 Growth Price',\n",
              " 'SZSE 300 High Beta',\n",
              " 'SZSE 300 Low Volatility',\n",
              " 'SZSE 300 Performance Weighted',\n",
              " 'SZSE 300 Price',\n",
              " 'SZSE 300 Value Price',\n",
              " 'SZSE 500 High Beta',\n",
              " 'SZSE 500 Low Volatility',\n",
              " 'SZSE 700',\n",
              " 'SZSE 700 Value',\n",
              " 'SZSE Press Composite',\n",
              " 'SSE Mega-cap',\n",
              " 'SSE Materials EW',\n",
              " 'SSE 380 Dividend',\n",
              " 'SSE 380 Dynamic',\n",
              " 'SSE 380 Energy',\n",
              " 'SSE 380 EW',\n",
              " 'SSE 380 Financials',\n",
              " 'SSE 380 Fundamental Weighted',\n",
              " 'SSE 380 Growth',\n",
              " 'SSE 380 Health Care',\n",
              " 'SSE 380 High Beta',\n",
              " 'SSE 380 Industrials',\n",
              " 'SSE 380 Information Technology',\n",
              " 'SSE 380 Low Beta',\n",
              " 'SSE 380 Materials',\n",
              " 'SSE 380 Relative Growth',\n",
              " 'SSE 380 Relative Value',\n",
              " 'SSE 380 Consumer Staples',\n",
              " 'SSE 380 Stability',\n",
              " 'SSE 380 Consumer Discretionary',\n",
              " 'SSE 180 Volatility Weighted',\n",
              " 'SME-Chinext Growth',\n",
              " 'SME-Chinext Tec 100 Price',\n",
              " 'SME-Chinext Value',\n",
              " 'SSE 150',\n",
              " 'SSE 180 Corporate Governance',\n",
              " 'SSE 180 Dividend',\n",
              " 'SSE 180 Dynamic',\n",
              " 'SSE 180 EW',\n",
              " 'SSE 180 Fundamental Weighted',\n",
              " 'SSE 180 High Beta',\n",
              " 'SSE 180 Infrastructure',\n",
              " 'SSE 180 Low Beta',\n",
              " 'SSE 180 Natural Resource',\n",
              " 'SSE 180 Stability',\n",
              " 'SSE 180 Transportation',\n",
              " 'SSE 380',\n",
              " 'SSE Medium Enterprise Composite',\n",
              " 'SSE 380 Telecommunication Services',\n",
              " 'SSE 380 Value',\n",
              " 'SSE Health Care theme',\n",
              " 'SSE High And New Technology Enterprises',\n",
              " 'SSE High-End Equipment Manufacturing 60',\n",
              " 'SSE Industrial Sub',\n",
              " 'SSE Industrials EW',\n",
              " 'SSE Industry Top',\n",
              " 'SSE Information Technology EW',\n",
              " 'SSE Large&Mid&Small Cap',\n",
              " 'SSE Large&Mid&Small Cap Growth',\n",
              " 'SSE Large&Mid&Small Cap Relative Growth',\n",
              " 'SSE Large&Mid&Small Cap Relative Value',\n",
              " 'SSE Large&Mid&Small Cap Value',\n",
              " 'SSE Leading Consumption and Services',\n",
              " 'SSE Local State-owned Enterprises 50',\n",
              " 'SSE Market Value Top 100',\n",
              " 'SSE Health Care EW',\n",
              " 'SSE 380 Utilities',\n",
              " 'SSE Free Float',\n",
              " 'SSE Environmental Protection Industry',\n",
              " 'SSE 380 Volatility Weighted',\n",
              " 'SSE 50 EW',\n",
              " 'SSE 50 Fundamental Weighted',\n",
              " 'SSE Agriculture theme',\n",
              " 'SSE Banks Total Return',\n",
              " 'SSE Central State-owned Enterprises 50',\n",
              " 'SSE Commercial Sub',\n",
              " 'SSE Consumer 50',\n",
              " 'SSE Consumer 80',\n",
              " 'SSE Consumer Discretionary EW',\n",
              " 'SSE Consumer Staples EW',\n",
              " 'SSE Cyclical Industry 50',\n",
              " 'SSE Dividend',\n",
              " 'SSE Downstream Industry',\n",
              " 'SSE Energy EW',\n",
              " 'SSE Financials EW',\n",
              " 'SZSE SME 300 Price',\n",
              " 'SZSE Composite',\n",
              " 'SZSE SME Corp Governance',\n",
              " 'SZSE TMT50 Price',\n",
              " 'SZSE Strategic Emerging Industries',\n",
              " 'SZSE SME-Chinext Hnte',\n",
              " 'SZSE SME-Chinext 100 Equal Weighted',\n",
              " 'SZSE SME Strategic Emerging Industries',\n",
              " 'SZSE SME Return',\n",
              " 'SZSE SME Prime Market',\n",
              " 'SZSE SME Performance Weighted',\n",
              " 'SZSE SME Low Volatility',\n",
              " 'SZSE SME High Beta',\n",
              " 'SZSE SME Equal Weight',\n",
              " 'SZSE SME Dividend',\n",
              " 'SZSE SME CSR',\n",
              " 'SZSE SME Price',\n",
              " 'SZSE SME Composite']"
            ]
          },
          "metadata": {},
          "execution_count": 36
        }
      ]
    },
    {
      "cell_type": "code",
      "source": [
        "Hang_seng_china=inv.get_index_recent_data(\"Hang Seng\",country=\"Hong Kong\")\n",
        "Hang_seng=Hang_seng_china[[\"Close\",\"Open\"]].tail()\n",
        "print(Hang_seng)"
      ],
      "metadata": {
        "id": "SnBuT8C2tTo_",
        "colab": {
          "base_uri": "https://localhost:8080/"
        },
        "outputId": "3b7f34d0-ef96-46e3-c6e0-a9f98351c75c"
      },
      "execution_count": null,
      "outputs": [
        {
          "output_type": "stream",
          "name": "stdout",
          "text": [
            "               Close      Open\n",
            "Date                          \n",
            "2022-01-25  24243.61  24251.52\n",
            "2022-01-26  24289.90  24342.90\n",
            "2022-01-27  23807.00  23952.01\n",
            "2022-01-28  23550.08  23818.94\n",
            "2022-01-31  23802.26  23624.14\n"
          ]
        }
      ]
    },
    {
      "cell_type": "code",
      "source": [
        "Apertura_indice_Hang_seng = (Hang_seng.iat[4,1])#Este comando esta extraer un valor especifico de un dataframe\n",
        "print(Apertura_indice_Hang_seng )"
      ],
      "metadata": {
        "id": "qBj3SChg0Swu",
        "colab": {
          "base_uri": "https://localhost:8080/"
        },
        "outputId": "c9d6a4e0-595b-4367-c5c4-2bdd1c71fb7b"
      },
      "execution_count": null,
      "outputs": [
        {
          "output_type": "stream",
          "name": "stdout",
          "text": [
            "23624.14\n"
          ]
        }
      ]
    },
    {
      "cell_type": "code",
      "source": [
        "Cierre_precio_anterior_Hang_seng = Hang_seng.iat[3,0]\n",
        "print(Cierre_precio_anterior_Hang_seng )"
      ],
      "metadata": {
        "id": "T2h3xKsR0S6r",
        "colab": {
          "base_uri": "https://localhost:8080/"
        },
        "outputId": "c0e99d76-1783-4d84-afd6-f3b4a4b8ad5d"
      },
      "execution_count": null,
      "outputs": [
        {
          "output_type": "stream",
          "name": "stdout",
          "text": [
            "23550.08\n"
          ]
        }
      ]
    },
    {
      "cell_type": "code",
      "source": [
        "Cierre_precio_anterior5dias_Hang_seng= Hang_seng.iat[0,0]\n",
        "print(Cierre_precio_anterior5dias_Hang_seng)"
      ],
      "metadata": {
        "id": "YyVmdcnB0TD0",
        "colab": {
          "base_uri": "https://localhost:8080/"
        },
        "outputId": "99710386-e291-44b7-b9ef-bf20c1c58639"
      },
      "execution_count": null,
      "outputs": [
        {
          "output_type": "stream",
          "name": "stdout",
          "text": [
            "24243.61\n"
          ]
        }
      ]
    },
    {
      "cell_type": "markdown",
      "metadata": {
        "id": "uAOISXZUw-cV"
      },
      "source": [
        "**Indices Renta variable Sudamerica**"
      ]
    },
    {
      "cell_type": "markdown",
      "metadata": {
        "id": "z75vbO46EcND"
      },
      "source": [
        "**Brasil**"
      ]
    },
    {
      "cell_type": "code",
      "metadata": {
        "id": "Rg5r9Fp5EqEd",
        "colab": {
          "base_uri": "https://localhost:8080/"
        },
        "outputId": "5bac33f8-d941-470a-aaac-8f133ddd414a"
      },
      "source": [
        "inv.get_indices_list(\"brazil\")"
      ],
      "execution_count": null,
      "outputs": [
        {
          "output_type": "execute_result",
          "data": {
            "text/plain": [
              "['MSCI Brazil Net USD',\n",
              " 'DJ Brazil',\n",
              " 'TR Brazil 50',\n",
              " 'MSCI Brazil Price USD',\n",
              " 'DJ Brazil Titans 20 ADR',\n",
              " 'BNY Mellon Brazil ADR',\n",
              " 'BNY Mellon Brazil ADR TR',\n",
              " 'BNY Mellon Brazil Classic ADR',\n",
              " 'BNY Mellon Brazil Classic ADR TR',\n",
              " 'FTSE RAFI Brazil 50',\n",
              " 'MSCI Brazil 10 40',\n",
              " 'DJ BRIC Brazil 15 Capped NTR',\n",
              " 'DJ BRIC Brazil 15 USD',\n",
              " 'DJ BRIC Brazil 15 EUR',\n",
              " 'FTSE Brazil Infrastructure Extended',\n",
              " 'MSCI Brazil Gross',\n",
              " 'DJ Brazil Titans 20 ADR TR',\n",
              " 'MSCI Brazil 25-50 Price',\n",
              " 'MSCI Brazil 20-50 Gross Return',\n",
              " 'MSCI Brazil 25-50 Net Return',\n",
              " 'FTSE Brazil Infrastructure Extended USD PR',\n",
              " 'FTSE Brazil Infrastructure Extended Total Return',\n",
              " 'FTSE Brazil Infrastructure Extended Net Tax Total',\n",
              " 'FTSE Brazil Infrastructure Extended Net Tax USD TR',\n",
              " 'DJ BRIC Brazil 15 DR',\n",
              " 'MSCI Brazil',\n",
              " 'BM&FBOVESPA Unsponsored BDRX',\n",
              " 'Small Cap Index',\n",
              " 'Tag Along',\n",
              " 'Brazil broad-Based',\n",
              " 'Brazil Index',\n",
              " 'Mid-Large Cap Index',\n",
              " 'Public Utilities',\n",
              " 'BM&FBOVESPA Real Estate IFIX',\n",
              " 'Financials',\n",
              " 'Carbon Efficient',\n",
              " 'Corporate Governance IGCNM',\n",
              " 'Bovespa Dividend',\n",
              " 'Brazil 50',\n",
              " 'Corporate Gov Trade',\n",
              " 'FTSE Brazil',\n",
              " 'Ibovespa EUR',\n",
              " 'Ibovespa USD',\n",
              " 'IVBX',\n",
              " 'IGCX',\n",
              " 'Consumption',\n",
              " 'Industrial Sector',\n",
              " 'Electrical Energy',\n",
              " 'Basic Materials',\n",
              " 'Bovespa',\n",
              " 'Corporate Sustainability',\n",
              " 'Real Estate']"
            ]
          },
          "metadata": {},
          "execution_count": 41
        }
      ]
    },
    {
      "cell_type": "code",
      "metadata": {
        "id": "AUu9-_5MEyhD",
        "colab": {
          "base_uri": "https://localhost:8080/"
        },
        "outputId": "d0b0304d-55b7-4b45-93c1-0db5940a18cc"
      },
      "source": [
        "data1=inv.get_index_recent_data(\"Bovespa\",country=\"brazil\")\n",
        "Brazil1=data1[[\"Close\",\"Open\"]].tail()\n",
        "print(Brazil1)"
      ],
      "execution_count": null,
      "outputs": [
        {
          "output_type": "stream",
          "name": "stdout",
          "text": [
            "               Close      Open\n",
            "Date                          \n",
            "2022-01-25  110204.0  107935.0\n",
            "2022-01-26  111289.0  110207.0\n",
            "2022-01-27  112612.0  111303.0\n",
            "2022-01-28  111910.0  112611.0\n",
            "2022-01-31  112144.0  111910.0\n"
          ]
        }
      ]
    },
    {
      "cell_type": "code",
      "source": [
        "Apertura_indice_Brazil = (Brazil1.iat[4,1]) # Este comando esta extraer un valor especifico de un dataframe\n",
        "print(Apertura_indice_Brazil)"
      ],
      "metadata": {
        "id": "_xlgVCeKKsoV",
        "colab": {
          "base_uri": "https://localhost:8080/"
        },
        "outputId": "e3946fa5-9b7f-4cda-b230-c9be5a76ecdb"
      },
      "execution_count": null,
      "outputs": [
        {
          "output_type": "stream",
          "name": "stdout",
          "text": [
            "111910.0\n"
          ]
        }
      ]
    },
    {
      "cell_type": "code",
      "source": [
        "Cierre_precio_anterior__indice_Brazil = Brazil1.iat[3,0]\n",
        "print(Cierre_precio_anterior__indice_Brazil)"
      ],
      "metadata": {
        "id": "IBQmCKC3Kszp",
        "colab": {
          "base_uri": "https://localhost:8080/"
        },
        "outputId": "31a1f042-1a79-445f-f216-cbc79c3b36c4"
      },
      "execution_count": null,
      "outputs": [
        {
          "output_type": "stream",
          "name": "stdout",
          "text": [
            "111910.0\n"
          ]
        }
      ]
    },
    {
      "cell_type": "code",
      "source": [
        "Cierre_precio_anterior5dias_indice_Brazil= Brazil1.iat[0,0]\n",
        "print(Cierre_precio_anterior5dias_indice_Brazil)"
      ],
      "metadata": {
        "id": "WnEH6m81Ks9z",
        "colab": {
          "base_uri": "https://localhost:8080/"
        },
        "outputId": "523c75f6-e4c4-4ce4-831a-9da37db9fcf5"
      },
      "execution_count": null,
      "outputs": [
        {
          "output_type": "stream",
          "name": "stdout",
          "text": [
            "110204.0\n"
          ]
        }
      ]
    },
    {
      "cell_type": "markdown",
      "metadata": {
        "id": "MnvD9JPpFb9O"
      },
      "source": [
        "**Mexico**"
      ]
    },
    {
      "cell_type": "code",
      "metadata": {
        "id": "0yGL7xYBFiA8",
        "colab": {
          "base_uri": "https://localhost:8080/"
        },
        "outputId": "3b6be3b6-dbbb-4eea-8b24-52c7c3ab7749"
      },
      "source": [
        "inv.get_indices_list(\"Mexico\")"
      ],
      "execution_count": null,
      "outputs": [
        {
          "output_type": "execute_result",
          "data": {
            "text/plain": [
              "['S&P/BMV IRT LargeCap',\n",
              " 'S&P/BMV IRT MidCap',\n",
              " 'S&P/BMV IRT SmallCap',\n",
              " 'S&P/BMV IMeBz',\n",
              " 'S&P/BMV IMeBz RT',\n",
              " 'MSCI Mexico Gross',\n",
              " 'BURSA OPTIMO RT',\n",
              " 'BNY Mellon Mexico Classic ADR',\n",
              " 'BNY Mellon Mexico ADR TR',\n",
              " 'BNY Mellon Mexico ADR',\n",
              " 'NQ Mexico Financials',\n",
              " 'DJ Mexico USD',\n",
              " 'DJ Mexico',\n",
              " 'MSCI Mexico',\n",
              " 'BNY Mellon Mexico Classic ADR TR',\n",
              " 'S&P/BMV IRT CompMx',\n",
              " 'MSCI Mexico Special Capping Net USD',\n",
              " 'S&P/BMV IPC SUSTENTABLE RT',\n",
              " 'S&P/BMV-EXTR RT',\n",
              " 'S&P/BMV-COMERCIO RT',\n",
              " 'Banamex',\n",
              " 'FTSE BIVA Eod Net Tax',\n",
              " 'FTSE BIVA EOD Price',\n",
              " 'FTSE BIVA EOD TR',\n",
              " 'FTSE BIVA Real Time Net Tax',\n",
              " 'FTSE BIVA Real Time Total Return',\n",
              " 'FTSE Mexico',\n",
              " 'Mexico 50',\n",
              " 'S&P/BMV BMBra 15',\n",
              " 'S&P/BMV BMBra 15 RT',\n",
              " 'S&P/BMV-SRVCM RT',\n",
              " 'S&P/BMV DDBOL',\n",
              " 'S&P/BMV IRT',\n",
              " 'S&P/BMV-MAT RT',\n",
              " 'S&P/BMV-TRANS RT',\n",
              " 'S&P/BMV-ENL RT',\n",
              " 'S&P/BMV-INDU RT',\n",
              " 'S&P/BMV-MAT',\n",
              " 'S&P/BMV-INDU',\n",
              " 'S&P/BMV HABITA',\n",
              " 'S&P/BMV SALUD',\n",
              " 'S&P/BMV SERVS FINAN',\n",
              " 'S&P/BMV PROD CONS FREC',\n",
              " 'S&P/BMV SRVS CONS NO BCO',\n",
              " 'FTSE BIVA Real Time Price',\n",
              " 'S&P/BMV-SRVCM',\n",
              " 'S&P/BMV IPC CompMx',\n",
              " 'S&P/BMV IMC30',\n",
              " 'S&P/BMV-CONST RT',\n",
              " 'S&P/BMV-ICF RT',\n",
              " 'S&P/BMV-SERV RT',\n",
              " 'S&P/BMV-FINAN RT',\n",
              " 'S&P/BMV HABITA RT',\n",
              " 'S&P/BMV IPC',\n",
              " 'S&P/BMV TELECOM',\n",
              " 'S&P/BMV INMEX',\n",
              " 'S&P/BMV IPC MidCap',\n",
              " 'S&P/BMV IPC LargeCap',\n",
              " 'S&P/BMV DIBOL',\n",
              " 'S&P/BMV IPC SUSTENTABLE',\n",
              " 'S&P/BMV IPC SmallCap']"
            ]
          },
          "metadata": {},
          "execution_count": 46
        }
      ]
    },
    {
      "cell_type": "code",
      "metadata": {
        "id": "aWEMdeslFngE",
        "colab": {
          "base_uri": "https://localhost:8080/"
        },
        "outputId": "23df78ef-cb88-4a23-97e0-f1d0c5e11350"
      },
      "source": [
        "data2=inv.get_index_recent_data(\"S&P/BMV IPC\",country=\"Mexico\")\n",
        "Mexico1=data2[[\"Close\",\"Open\"]].tail()\n",
        "print(Mexico1)"
      ],
      "execution_count": null,
      "outputs": [
        {
          "output_type": "stream",
          "name": "stdout",
          "text": [
            "               Close      Open\n",
            "Date                          \n",
            "2022-01-25  51104.39  50792.00\n",
            "2022-01-26  51037.05  51314.27\n",
            "2022-01-27  50466.02  51208.23\n",
            "2022-01-28  50661.86  50522.00\n",
            "2022-01-31  51330.85  50670.28\n"
          ]
        }
      ]
    },
    {
      "cell_type": "code",
      "source": [
        "Apertura_indice_Mexico = (Mexico1.iat[4,1])#Este comando esta extraer un valor especifico de un dataframe\n",
        "print(Apertura_indice_Mexico)"
      ],
      "metadata": {
        "id": "uaA0bZ6jKYKg",
        "colab": {
          "base_uri": "https://localhost:8080/"
        },
        "outputId": "f39d198c-bcb6-4148-cdc2-583a7a81407f"
      },
      "execution_count": null,
      "outputs": [
        {
          "output_type": "stream",
          "name": "stdout",
          "text": [
            "50670.28\n"
          ]
        }
      ]
    },
    {
      "cell_type": "code",
      "source": [
        "Cierre_precio_anterior_indice_Mexico = Mexico1.iat[3,0]\n",
        "print(Cierre_precio_anterior_indice_Mexico)"
      ],
      "metadata": {
        "id": "IYU5nOkwKYX9",
        "colab": {
          "base_uri": "https://localhost:8080/"
        },
        "outputId": "868879b2-775a-4b16-dc69-df91ed9e844a"
      },
      "execution_count": null,
      "outputs": [
        {
          "output_type": "stream",
          "name": "stdout",
          "text": [
            "50661.86\n"
          ]
        }
      ]
    },
    {
      "cell_type": "code",
      "source": [
        "Cierre_precio_anterior5dias_indice_Mexico = Mexico1.iat[0,0]\n",
        "print(Cierre_precio_anterior5dias_indice_Mexico)"
      ],
      "metadata": {
        "id": "asr-x4fFKYjB",
        "colab": {
          "base_uri": "https://localhost:8080/"
        },
        "outputId": "694870aa-9d03-456a-8684-833d51daf1fc"
      },
      "execution_count": null,
      "outputs": [
        {
          "output_type": "stream",
          "name": "stdout",
          "text": [
            "51104.39\n"
          ]
        }
      ]
    },
    {
      "cell_type": "markdown",
      "metadata": {
        "id": "XLqQ8FD_GMfr"
      },
      "source": [
        "**Chile**"
      ]
    },
    {
      "cell_type": "code",
      "metadata": {
        "id": "0cl_uW4kGPYe",
        "colab": {
          "base_uri": "https://localhost:8080/"
        },
        "outputId": "099a7de8-025b-4abe-c2a6-6d6e2bee5dea"
      },
      "source": [
        "inv.get_indices_list(\"chile\")"
      ],
      "execution_count": null,
      "outputs": [
        {
          "output_type": "execute_result",
          "data": {
            "text/plain": [
              "['BNY Mellon Chile ADR TR',\n",
              " 'Inter 10',\n",
              " 'FTSE Chile',\n",
              " 'S&P CLX IPSA',\n",
              " 'BNY Mellon Chile ADR',\n",
              " 'S&P CLX IGPA',\n",
              " 'DJ Chile',\n",
              " 'MSCI Chile Net USD',\n",
              " 'MSCI Chile',\n",
              " 'DJ Chile USD']"
            ]
          },
          "metadata": {},
          "execution_count": 51
        }
      ]
    },
    {
      "cell_type": "code",
      "metadata": {
        "id": "L6fyDg-YGV1F",
        "colab": {
          "base_uri": "https://localhost:8080/"
        },
        "outputId": "398ec9c2-1fdc-4fbc-ab64-af4959eaf556"
      },
      "source": [
        "data3=inv.get_index_recent_data(\"S&P CLX IPSA \",country=\"chile\")\n",
        "Chile1=data3[[\"Close\",\"Open\"]].tail()\n",
        "print(Chile1)"
      ],
      "execution_count": null,
      "outputs": [
        {
          "output_type": "stream",
          "name": "stdout",
          "text": [
            "              Close     Open\n",
            "Date                        \n",
            "2022-01-25  4529.30  4503.17\n",
            "2022-01-26  4552.33  4529.30\n",
            "2022-01-27  4562.74  4552.33\n",
            "2022-01-28  4542.86  4562.74\n",
            "2022-01-31  4548.45  4542.86\n"
          ]
        }
      ]
    },
    {
      "cell_type": "code",
      "source": [
        "Apertura__indice_Chile = (Chile1.iat[4,1])# Este comando esta extraer un valor especifico de un dataframe\n",
        "print(Apertura__indice_Chile)"
      ],
      "metadata": {
        "id": "jjaDw7OOKADe",
        "colab": {
          "base_uri": "https://localhost:8080/"
        },
        "outputId": "7f977a98-0f48-4a66-9acf-c70235a41a18"
      },
      "execution_count": null,
      "outputs": [
        {
          "output_type": "stream",
          "name": "stdout",
          "text": [
            "4542.86\n"
          ]
        }
      ]
    },
    {
      "cell_type": "code",
      "source": [
        "Cierre_precio_anterior_indice_Chile= Chile1.iat[3,0]\n",
        "print(Cierre_precio_anterior_indice_Chile)"
      ],
      "metadata": {
        "id": "f96FAsOlKAOL",
        "colab": {
          "base_uri": "https://localhost:8080/"
        },
        "outputId": "d17d1b0a-7bab-4f5a-b845-61cf8e5daa31"
      },
      "execution_count": null,
      "outputs": [
        {
          "output_type": "stream",
          "name": "stdout",
          "text": [
            "4542.86\n"
          ]
        }
      ]
    },
    {
      "cell_type": "code",
      "source": [
        "Cierre_precio_anterior5dias_indice_Chile = Chile1.iat[0,0]\n",
        "print(Cierre_precio_anterior5dias_indice_Chile )"
      ],
      "metadata": {
        "id": "vbs1Q_3OKAWr",
        "colab": {
          "base_uri": "https://localhost:8080/"
        },
        "outputId": "cd82a1d6-14cc-4730-9d12-df43eb8bcf8d"
      },
      "execution_count": null,
      "outputs": [
        {
          "output_type": "stream",
          "name": "stdout",
          "text": [
            "4529.3\n"
          ]
        }
      ]
    },
    {
      "cell_type": "markdown",
      "metadata": {
        "id": "9xF7odN1ENHE"
      },
      "source": [
        "**Colombia**"
      ]
    },
    {
      "cell_type": "code",
      "metadata": {
        "id": "JQqp994Q0iHw",
        "colab": {
          "base_uri": "https://localhost:8080/"
        },
        "outputId": "9bfc4881-60b3-4dce-de78-67b6706fe41d"
      },
      "source": [
        "inv.get_indices_list(\"Colombia\")"
      ],
      "execution_count": null,
      "outputs": [
        {
          "output_type": "execute_result",
          "data": {
            "text/plain": [
              "['FTSE Colombia',\n",
              " 'COLEQTY',\n",
              " 'COLSC',\n",
              " 'COL20',\n",
              " 'COLIR',\n",
              " 'COL General',\n",
              " 'COL Financial',\n",
              " 'COL Public Services',\n",
              " 'Investment',\n",
              " 'COL Industrial',\n",
              " 'COLCAP',\n",
              " 'MSCI Colombia',\n",
              " 'COL Services']"
            ]
          },
          "metadata": {},
          "execution_count": 56
        }
      ]
    },
    {
      "cell_type": "code",
      "source": [
        "data4=inv.get_index_recent_data(\"COLCAP\",country=\"Colombia\")\n",
        "Colombia1=data4[[\"Close\",\"Open\"]].tail()\n",
        "print(Colombia1)"
      ],
      "metadata": {
        "id": "gpwWmhHgHhqF",
        "colab": {
          "base_uri": "https://localhost:8080/"
        },
        "outputId": "bf56123e-b308-406c-c143-ce13abb7840f"
      },
      "execution_count": null,
      "outputs": [
        {
          "output_type": "stream",
          "name": "stdout",
          "text": [
            "              Close     Open\n",
            "Date                        \n",
            "2022-01-25  1527.48  1521.74\n",
            "2022-01-26  1522.26  1534.39\n",
            "2022-01-27  1520.63  1524.18\n",
            "2022-01-28  1529.85  1522.82\n",
            "2022-01-31  1536.92  1530.65\n"
          ]
        }
      ]
    },
    {
      "cell_type": "code",
      "source": [
        "Apertura_indice_Colombia = (Colombia1.iat[4,1])# Este comando esta extraer un valor especifico de un dataframe\n",
        "print(Apertura_indice_Colombia )"
      ],
      "metadata": {
        "id": "FkJsxDouJtiG",
        "colab": {
          "base_uri": "https://localhost:8080/"
        },
        "outputId": "13739ab9-f7b2-4fc1-db95-b142b93dcf16"
      },
      "execution_count": null,
      "outputs": [
        {
          "output_type": "stream",
          "name": "stdout",
          "text": [
            "1530.65\n"
          ]
        }
      ]
    },
    {
      "cell_type": "code",
      "source": [
        "Cierre_precio_anterior_indice_Colombia= Colombia1.iat[3,0]\n",
        "print(Cierre_precio_anterior_indice_Colombia)"
      ],
      "metadata": {
        "id": "6cISed_9Jt1s",
        "colab": {
          "base_uri": "https://localhost:8080/"
        },
        "outputId": "ea494e47-005e-4c7b-967f-7b8221ae2fe3"
      },
      "execution_count": null,
      "outputs": [
        {
          "output_type": "stream",
          "name": "stdout",
          "text": [
            "1529.85\n"
          ]
        }
      ]
    },
    {
      "cell_type": "code",
      "source": [
        "Cierre_precio_anterior5dias_indice_Colombia = Colombia1.iat[0,0]\n",
        "print(Cierre_precio_anterior5dias_indice_Colombia  ) "
      ],
      "metadata": {
        "id": "-0tyNU5NJuAj",
        "colab": {
          "base_uri": "https://localhost:8080/"
        },
        "outputId": "d7185c04-c718-4590-8841-7c4b2ca993b2"
      },
      "execution_count": null,
      "outputs": [
        {
          "output_type": "stream",
          "name": "stdout",
          "text": [
            "1527.48\n"
          ]
        }
      ]
    },
    {
      "cell_type": "markdown",
      "metadata": {
        "id": "TfHT9MJ0Fk0x"
      },
      "source": [
        "**Materia Primas**"
      ]
    },
    {
      "cell_type": "markdown",
      "metadata": {
        "id": "ZaAJ2gQfGq2g"
      },
      "source": [
        "**Petroleo brent**"
      ]
    },
    {
      "cell_type": "code",
      "metadata": {
        "id": "bSm2XgfWFrfV",
        "colab": {
          "base_uri": "https://localhost:8080/"
        },
        "outputId": "c66af5c3-db67-4368-dd8c-873afe509507"
      },
      "source": [
        "inv.get_commodities(group=\"energy\")"
      ],
      "execution_count": null,
      "outputs": [
        {
          "output_type": "execute_result",
          "data": {
            "text/html": [
              "\n",
              "  <div id=\"df-52f490ca-9f13-4b8f-929a-2f0b15095944\">\n",
              "    <div class=\"colab-df-container\">\n",
              "      <div>\n",
              "<style scoped>\n",
              "    .dataframe tbody tr th:only-of-type {\n",
              "        vertical-align: middle;\n",
              "    }\n",
              "\n",
              "    .dataframe tbody tr th {\n",
              "        vertical-align: top;\n",
              "    }\n",
              "\n",
              "    .dataframe thead th {\n",
              "        text-align: right;\n",
              "    }\n",
              "</style>\n",
              "<table border=\"1\" class=\"dataframe\">\n",
              "  <thead>\n",
              "    <tr style=\"text-align: right;\">\n",
              "      <th></th>\n",
              "      <th>title</th>\n",
              "      <th>country</th>\n",
              "      <th>name</th>\n",
              "      <th>full_name</th>\n",
              "      <th>currency</th>\n",
              "      <th>group</th>\n",
              "    </tr>\n",
              "  </thead>\n",
              "  <tbody>\n",
              "    <tr>\n",
              "      <th>0</th>\n",
              "      <td>Real Time Streaming Futures Quotes</td>\n",
              "      <td>united kingdom</td>\n",
              "      <td>Brent Oil</td>\n",
              "      <td>Brent Oil Futures</td>\n",
              "      <td>USD</td>\n",
              "      <td>energy</td>\n",
              "    </tr>\n",
              "    <tr>\n",
              "      <th>1</th>\n",
              "      <td>Real Time Streaming Futures Quotes</td>\n",
              "      <td>united states</td>\n",
              "      <td>Crude Oil WTI</td>\n",
              "      <td>Crude Oil WTI Futures</td>\n",
              "      <td>USD</td>\n",
              "      <td>energy</td>\n",
              "    </tr>\n",
              "    <tr>\n",
              "      <th>2</th>\n",
              "      <td>Real Time Streaming Futures Quotes</td>\n",
              "      <td>united kingdom</td>\n",
              "      <td>London Gas Oil</td>\n",
              "      <td>London Gas Oil Futures</td>\n",
              "      <td>USD</td>\n",
              "      <td>energy</td>\n",
              "    </tr>\n",
              "    <tr>\n",
              "      <th>3</th>\n",
              "      <td>Real Time Streaming Futures Quotes</td>\n",
              "      <td>united states</td>\n",
              "      <td>Natural Gas</td>\n",
              "      <td>Natural Gas Futures</td>\n",
              "      <td>USD</td>\n",
              "      <td>energy</td>\n",
              "    </tr>\n",
              "    <tr>\n",
              "      <th>4</th>\n",
              "      <td>Real Time Streaming Futures Quotes</td>\n",
              "      <td>united states</td>\n",
              "      <td>Heating Oil</td>\n",
              "      <td>Heating Oil Futures</td>\n",
              "      <td>USD</td>\n",
              "      <td>energy</td>\n",
              "    </tr>\n",
              "    <tr>\n",
              "      <th>5</th>\n",
              "      <td>Real Time Streaming Futures Quotes</td>\n",
              "      <td>united kingdom</td>\n",
              "      <td>Carbon Emissions</td>\n",
              "      <td>Carbon Emissions Futures</td>\n",
              "      <td>EUR</td>\n",
              "      <td>energy</td>\n",
              "    </tr>\n",
              "    <tr>\n",
              "      <th>6</th>\n",
              "      <td>Real Time Streaming Futures Quotes</td>\n",
              "      <td>united states</td>\n",
              "      <td>Gasoline RBOB</td>\n",
              "      <td>Gasoline RBOB Futures</td>\n",
              "      <td>USD</td>\n",
              "      <td>energy</td>\n",
              "    </tr>\n",
              "    <tr>\n",
              "      <th>7</th>\n",
              "      <td>MCX Futures Market Quotes</td>\n",
              "      <td>india</td>\n",
              "      <td>MCX Brent Oil</td>\n",
              "      <td>Brent Oil Futures</td>\n",
              "      <td>INR</td>\n",
              "      <td>energy</td>\n",
              "    </tr>\n",
              "    <tr>\n",
              "      <th>8</th>\n",
              "      <td>MCX Futures Market Quotes</td>\n",
              "      <td>india</td>\n",
              "      <td>MCX Crude Oil WTI</td>\n",
              "      <td>Crude Oil WTI Futures</td>\n",
              "      <td>INR</td>\n",
              "      <td>energy</td>\n",
              "    </tr>\n",
              "    <tr>\n",
              "      <th>9</th>\n",
              "      <td>MCX Futures Market Quotes</td>\n",
              "      <td>india</td>\n",
              "      <td>MCX Natural Gas</td>\n",
              "      <td>Natural Gas Futures</td>\n",
              "      <td>INR</td>\n",
              "      <td>energy</td>\n",
              "    </tr>\n",
              "  </tbody>\n",
              "</table>\n",
              "</div>\n",
              "      <button class=\"colab-df-convert\" onclick=\"convertToInteractive('df-52f490ca-9f13-4b8f-929a-2f0b15095944')\"\n",
              "              title=\"Convert this dataframe to an interactive table.\"\n",
              "              style=\"display:none;\">\n",
              "        \n",
              "  <svg xmlns=\"http://www.w3.org/2000/svg\" height=\"24px\"viewBox=\"0 0 24 24\"\n",
              "       width=\"24px\">\n",
              "    <path d=\"M0 0h24v24H0V0z\" fill=\"none\"/>\n",
              "    <path d=\"M18.56 5.44l.94 2.06.94-2.06 2.06-.94-2.06-.94-.94-2.06-.94 2.06-2.06.94zm-11 1L8.5 8.5l.94-2.06 2.06-.94-2.06-.94L8.5 2.5l-.94 2.06-2.06.94zm10 10l.94 2.06.94-2.06 2.06-.94-2.06-.94-.94-2.06-.94 2.06-2.06.94z\"/><path d=\"M17.41 7.96l-1.37-1.37c-.4-.4-.92-.59-1.43-.59-.52 0-1.04.2-1.43.59L10.3 9.45l-7.72 7.72c-.78.78-.78 2.05 0 2.83L4 21.41c.39.39.9.59 1.41.59.51 0 1.02-.2 1.41-.59l7.78-7.78 2.81-2.81c.8-.78.8-2.07 0-2.86zM5.41 20L4 18.59l7.72-7.72 1.47 1.35L5.41 20z\"/>\n",
              "  </svg>\n",
              "      </button>\n",
              "      \n",
              "  <style>\n",
              "    .colab-df-container {\n",
              "      display:flex;\n",
              "      flex-wrap:wrap;\n",
              "      gap: 12px;\n",
              "    }\n",
              "\n",
              "    .colab-df-convert {\n",
              "      background-color: #E8F0FE;\n",
              "      border: none;\n",
              "      border-radius: 50%;\n",
              "      cursor: pointer;\n",
              "      display: none;\n",
              "      fill: #1967D2;\n",
              "      height: 32px;\n",
              "      padding: 0 0 0 0;\n",
              "      width: 32px;\n",
              "    }\n",
              "\n",
              "    .colab-df-convert:hover {\n",
              "      background-color: #E2EBFA;\n",
              "      box-shadow: 0px 1px 2px rgba(60, 64, 67, 0.3), 0px 1px 3px 1px rgba(60, 64, 67, 0.15);\n",
              "      fill: #174EA6;\n",
              "    }\n",
              "\n",
              "    [theme=dark] .colab-df-convert {\n",
              "      background-color: #3B4455;\n",
              "      fill: #D2E3FC;\n",
              "    }\n",
              "\n",
              "    [theme=dark] .colab-df-convert:hover {\n",
              "      background-color: #434B5C;\n",
              "      box-shadow: 0px 1px 3px 1px rgba(0, 0, 0, 0.15);\n",
              "      filter: drop-shadow(0px 1px 2px rgba(0, 0, 0, 0.3));\n",
              "      fill: #FFFFFF;\n",
              "    }\n",
              "  </style>\n",
              "\n",
              "      <script>\n",
              "        const buttonEl =\n",
              "          document.querySelector('#df-52f490ca-9f13-4b8f-929a-2f0b15095944 button.colab-df-convert');\n",
              "        buttonEl.style.display =\n",
              "          google.colab.kernel.accessAllowed ? 'block' : 'none';\n",
              "\n",
              "        async function convertToInteractive(key) {\n",
              "          const element = document.querySelector('#df-52f490ca-9f13-4b8f-929a-2f0b15095944');\n",
              "          const dataTable =\n",
              "            await google.colab.kernel.invokeFunction('convertToInteractive',\n",
              "                                                     [key], {});\n",
              "          if (!dataTable) return;\n",
              "\n",
              "          const docLinkHtml = 'Like what you see? Visit the ' +\n",
              "            '<a target=\"_blank\" href=https://colab.research.google.com/notebooks/data_table.ipynb>data table notebook</a>'\n",
              "            + ' to learn more about interactive tables.';\n",
              "          element.innerHTML = '';\n",
              "          dataTable['output_type'] = 'display_data';\n",
              "          await google.colab.output.renderOutput(dataTable, element);\n",
              "          const docLink = document.createElement('div');\n",
              "          docLink.innerHTML = docLinkHtml;\n",
              "          element.appendChild(docLink);\n",
              "        }\n",
              "      </script>\n",
              "    </div>\n",
              "  </div>\n",
              "  "
            ],
            "text/plain": [
              "                                title         country  ... currency   group\n",
              "0  Real Time Streaming Futures Quotes  united kingdom  ...      USD  energy\n",
              "1  Real Time Streaming Futures Quotes   united states  ...      USD  energy\n",
              "2  Real Time Streaming Futures Quotes  united kingdom  ...      USD  energy\n",
              "3  Real Time Streaming Futures Quotes   united states  ...      USD  energy\n",
              "4  Real Time Streaming Futures Quotes   united states  ...      USD  energy\n",
              "5  Real Time Streaming Futures Quotes  united kingdom  ...      EUR  energy\n",
              "6  Real Time Streaming Futures Quotes   united states  ...      USD  energy\n",
              "7           MCX Futures Market Quotes           india  ...      INR  energy\n",
              "8           MCX Futures Market Quotes           india  ...      INR  energy\n",
              "9           MCX Futures Market Quotes           india  ...      INR  energy\n",
              "\n",
              "[10 rows x 6 columns]"
            ]
          },
          "metadata": {},
          "execution_count": 61
        }
      ]
    },
    {
      "cell_type": "code",
      "metadata": {
        "id": "c--CN3WAG9p3",
        "colab": {
          "base_uri": "https://localhost:8080/"
        },
        "outputId": "f9ff6b9a-ef6f-4f31-e843-32bbebe3f48f"
      },
      "source": [
        "brent=inv.get_commodity_recent_data(\"Brent Oil\",country=\"united kingdom\")\n",
        "brent10=brent[[\"Close\",\"Open\"]].tail()\n",
        "print(brent10)"
      ],
      "execution_count": null,
      "outputs": [
        {
          "output_type": "stream",
          "name": "stdout",
          "text": [
            "            Close   Open\n",
            "Date                    \n",
            "2022-01-26  89.96  87.95\n",
            "2022-01-27  89.34  89.70\n",
            "2022-01-28  90.03  89.98\n",
            "2022-01-31  91.21  90.80\n",
            "2022-02-01  89.16  89.65\n"
          ]
        }
      ]
    },
    {
      "cell_type": "code",
      "source": [
        "brent1=inv.get_commodity_historical_data(\"Brent Oil\",country=\"united kingdom\",from_date='01/01/2007',to_date=\"19/01/2022\")\n",
        "brent2=brent1[\"Close\"]\n",
        "brent3=pd.DataFrame(brent2)\n",
        "brent3.plot.line()"
      ],
      "metadata": {
        "id": "U9tdt3hBeRwo",
        "colab": {
          "base_uri": "https://localhost:8080/"
        },
        "outputId": "70769624-6ed7-46b8-969e-6c8321a030d0"
      },
      "execution_count": null,
      "outputs": [
        {
          "output_type": "execute_result",
          "data": {
            "text/plain": [
              "<matplotlib.axes._subplots.AxesSubplot at 0x7fe46b2c6450>"
            ]
          },
          "metadata": {},
          "execution_count": 63
        },
        {
          "output_type": "display_data",
          "data": {
            "image/png": "[encoded data removed]",
            "text/plain": [
              "<Figure size 432x288 with 1 Axes>"
            ]
          },
          "metadata": {
            "needs_background": "light"
          }
        }
      ]
    },
    {
      "cell_type": "code",
      "source": [
        "Dolar1=inv.get_currency_cross_historical_data(\"USD/COP\",from_date='01/01/2007',to_date=\"19/01/2022\")\n",
        "Dolar2=Dolar1[[\"Close\"]]\n",
        "Dolar3=pd.DataFrame(Dolar2)\n",
        "Dolar3.plot.line()"
      ],
      "metadata": {
        "id": "JUkph52jr9WI",
        "colab": {
          "base_uri": "https://localhost:8080/"
        },
        "outputId": "fdfbc7f9-9a1c-434a-9101-a4df2cc7b927"
      },
      "execution_count": null,
      "outputs": [
        {
          "output_type": "execute_result",
          "data": {
            "text/plain": [
              "<matplotlib.axes._subplots.AxesSubplot at 0x7fe46acba590>"
            ]
          },
          "metadata": {},
          "execution_count": 64
        },
        {
          "output_type": "display_data",
          "data": {
            "image/png": "[encoded data removed]",
            "text/plain": [
              "<Figure size 432x288 with 1 Axes>"
            ]
          },
          "metadata": {
            "needs_background": "light"
          }
        }
      ]
    },
    {
      "cell_type": "code",
      "source": [
        "brent_pesos=Dolar3*brent3\n",
        "brent_pesos.plot.line()"
      ],
      "metadata": {
        "id": "fSL4OuWitSEZ",
        "colab": {
          "base_uri": "https://localhost:8080/"
        },
        "outputId": "3553ddc4-da20-4f32-e1f9-d879ea5bcce1"
      },
      "execution_count": null,
      "outputs": [
        {
          "output_type": "execute_result",
          "data": {
            "text/plain": [
              "<matplotlib.axes._subplots.AxesSubplot at 0x7fe46b2b7a90>"
            ]
          },
          "metadata": {},
          "execution_count": 65
        },
        {
          "output_type": "display_data",
          "data": {
            "image/png": "[encoded data removed]",
            "text/plain": [
              "<Figure size 432x288 with 1 Axes>"
            ]
          },
          "metadata": {
            "needs_background": "light"
          }
        }
      ]
    },
    {
      "cell_type": "code",
      "source": [
        "Apertura_brent = (brent10.iat[4,1])# Este comando esta extraer un valor especifico de un dataframe\n",
        "print(Apertura_brent)"
      ],
      "metadata": {
        "id": "RMeiQDXkJDBk",
        "colab": {
          "base_uri": "https://localhost:8080/"
        },
        "outputId": "d6946063-c772-42c9-f45c-3fa9260de0ce"
      },
      "execution_count": null,
      "outputs": [
        {
          "output_type": "stream",
          "name": "stdout",
          "text": [
            "89.65\n"
          ]
        }
      ]
    },
    {
      "cell_type": "code",
      "source": [
        "Cierre_precio_anterior_brent= brent10.iat[3,0]\n",
        "print(Cierre_precio_anterior_brent)"
      ],
      "metadata": {
        "id": "13WlZweXJDMh",
        "colab": {
          "base_uri": "https://localhost:8080/"
        },
        "outputId": "68d009b0-e2c0-47e1-da31-a5e743abd8ae"
      },
      "execution_count": null,
      "outputs": [
        {
          "output_type": "stream",
          "name": "stdout",
          "text": [
            "91.21\n"
          ]
        }
      ]
    },
    {
      "cell_type": "code",
      "source": [
        "Cierre_precio_anterior5dias_brent = brent10.iat[0,0]\n",
        "print(Cierre_precio_anterior5dias_brent ) "
      ],
      "metadata": {
        "id": "ibrKYQXZJDWk",
        "colab": {
          "base_uri": "https://localhost:8080/"
        },
        "outputId": "8eb390b3-31db-438c-e725-ebb75bf8dd90"
      },
      "execution_count": null,
      "outputs": [
        {
          "output_type": "stream",
          "name": "stdout",
          "text": [
            "89.96\n"
          ]
        }
      ]
    },
    {
      "cell_type": "markdown",
      "metadata": {
        "id": "yrvoK7DjGunG"
      },
      "source": [
        "**Petroleo WTI**"
      ]
    },
    {
      "cell_type": "code",
      "metadata": {
        "id": "6kNi6d5nG0PW",
        "colab": {
          "base_uri": "https://localhost:8080/"
        },
        "outputId": "d3fc14c7-8e61-4fce-9c2d-47c0ce04caf1"
      },
      "source": [
        "WTI=inv.get_commodity_recent_data(\"Crude Oil WTI\",country=\"united states\")\n",
        "WTI10=WTI[[\"Close\",\"Open\"]].tail()\n",
        "print(WTI10)"
      ],
      "execution_count": null,
      "outputs": [
        {
          "output_type": "stream",
          "name": "stdout",
          "text": [
            "            Close   Open\n",
            "Date                    \n",
            "2022-01-26  87.35  85.26\n",
            "2022-01-27  86.61  87.15\n",
            "2022-01-28  86.82  87.50\n",
            "2022-01-31  88.15  87.45\n",
            "2022-02-01  88.09  88.39\n"
          ]
        }
      ]
    },
    {
      "cell_type": "code",
      "source": [
        "Apertura_WTI = (WTI10.iat[4,1])# Este comando esta extraer un valor especifico de un dataframe\n",
        "print(Apertura_WTI)"
      ],
      "metadata": {
        "id": "fjXtn6WzJVkY",
        "colab": {
          "base_uri": "https://localhost:8080/"
        },
        "outputId": "ecad312b-3b29-4f51-d73b-09ef51c0c74c"
      },
      "execution_count": null,
      "outputs": [
        {
          "output_type": "stream",
          "name": "stdout",
          "text": [
            "88.39\n"
          ]
        }
      ]
    },
    {
      "cell_type": "code",
      "source": [
        "Cierre_precio_anterior_WTI= WTI10.iat[3,0]\n",
        "print(Cierre_precio_anterior_WTI)"
      ],
      "metadata": {
        "id": "l6iPtgngJVvd",
        "colab": {
          "base_uri": "https://localhost:8080/"
        },
        "outputId": "0ef71966-a23b-4cdc-ed5e-e53724725fe8"
      },
      "execution_count": null,
      "outputs": [
        {
          "output_type": "stream",
          "name": "stdout",
          "text": [
            "88.15\n"
          ]
        }
      ]
    },
    {
      "cell_type": "code",
      "source": [
        "Cierre_precio_anterior5dias_WTI = WTI10.iat[0,0]\n",
        "print(Cierre_precio_anterior5dias_WTI ) "
      ],
      "metadata": {
        "id": "MBL3eHYxJV5B",
        "colab": {
          "base_uri": "https://localhost:8080/"
        },
        "outputId": "56c407fa-18d0-47cd-9b00-d0d8df811b07"
      },
      "execution_count": null,
      "outputs": [
        {
          "output_type": "stream",
          "name": "stdout",
          "text": [
            "87.35\n"
          ]
        }
      ]
    },
    {
      "cell_type": "markdown",
      "metadata": {
        "id": "K6ZObKHYH-Nf"
      },
      "source": [
        "**Oro**"
      ]
    },
    {
      "cell_type": "code",
      "metadata": {
        "id": "zScHHevlNP4e",
        "colab": {
          "base_uri": "https://localhost:8080/"
        },
        "outputId": "aa296121-afdc-46f2-9ad8-c4e88e78a71d"
      },
      "source": [
        "inv.get_commodities(group=\"metals\")"
      ],
      "execution_count": null,
      "outputs": [
        {
          "output_type": "execute_result",
          "data": {
            "text/html": [
              "\n",
              "  <div id=\"df-0da3e859-0b5a-4af5-9d99-d561a394d1b6\">\n",
              "    <div class=\"colab-df-container\">\n",
              "      <div>\n",
              "<style scoped>\n",
              "    .dataframe tbody tr th:only-of-type {\n",
              "        vertical-align: middle;\n",
              "    }\n",
              "\n",
              "    .dataframe tbody tr th {\n",
              "        vertical-align: top;\n",
              "    }\n",
              "\n",
              "    .dataframe thead th {\n",
              "        text-align: right;\n",
              "    }\n",
              "</style>\n",
              "<table border=\"1\" class=\"dataframe\">\n",
              "  <thead>\n",
              "    <tr style=\"text-align: right;\">\n",
              "      <th></th>\n",
              "      <th>title</th>\n",
              "      <th>country</th>\n",
              "      <th>name</th>\n",
              "      <th>full_name</th>\n",
              "      <th>currency</th>\n",
              "      <th>group</th>\n",
              "    </tr>\n",
              "  </thead>\n",
              "  <tbody>\n",
              "    <tr>\n",
              "      <th>0</th>\n",
              "      <td>Real Time Streaming Futures Quotes</td>\n",
              "      <td></td>\n",
              "      <td>Gold</td>\n",
              "      <td>Gold Futures</td>\n",
              "      <td>USD</td>\n",
              "      <td>metals</td>\n",
              "    </tr>\n",
              "    <tr>\n",
              "      <th>1</th>\n",
              "      <td>Real Time Streaming Futures Quotes</td>\n",
              "      <td>united states</td>\n",
              "      <td>Copper</td>\n",
              "      <td>Copper Futures</td>\n",
              "      <td>USD</td>\n",
              "      <td>metals</td>\n",
              "    </tr>\n",
              "    <tr>\n",
              "      <th>2</th>\n",
              "      <td>Real Time Streaming Futures Quotes</td>\n",
              "      <td></td>\n",
              "      <td>Silver</td>\n",
              "      <td>Silver Futures</td>\n",
              "      <td>USD</td>\n",
              "      <td>metals</td>\n",
              "    </tr>\n",
              "    <tr>\n",
              "      <th>3</th>\n",
              "      <td>Real Time Streaming Futures Quotes</td>\n",
              "      <td>united states</td>\n",
              "      <td>Palladium</td>\n",
              "      <td>Palladium Futures</td>\n",
              "      <td>USD</td>\n",
              "      <td>metals</td>\n",
              "    </tr>\n",
              "    <tr>\n",
              "      <th>4</th>\n",
              "      <td>Real Time Streaming Futures Quotes</td>\n",
              "      <td>united states</td>\n",
              "      <td>Platinum</td>\n",
              "      <td>Platinum Futures</td>\n",
              "      <td>USD</td>\n",
              "      <td>metals</td>\n",
              "    </tr>\n",
              "    <tr>\n",
              "      <th>5</th>\n",
              "      <td>Real Time Streaming Futures Quotes</td>\n",
              "      <td>united kingdom</td>\n",
              "      <td>Aluminum</td>\n",
              "      <td>Aluminum Futures</td>\n",
              "      <td>USD</td>\n",
              "      <td>metals</td>\n",
              "    </tr>\n",
              "    <tr>\n",
              "      <th>6</th>\n",
              "      <td>Real Time Streaming Futures Quotes</td>\n",
              "      <td>united kingdom</td>\n",
              "      <td>Zinc</td>\n",
              "      <td>Zinc Futures</td>\n",
              "      <td>USD</td>\n",
              "      <td>metals</td>\n",
              "    </tr>\n",
              "    <tr>\n",
              "      <th>7</th>\n",
              "      <td>Real Time Streaming Futures Quotes</td>\n",
              "      <td>united kingdom</td>\n",
              "      <td>Lead</td>\n",
              "      <td>Lead Futures</td>\n",
              "      <td>USD</td>\n",
              "      <td>metals</td>\n",
              "    </tr>\n",
              "    <tr>\n",
              "      <th>8</th>\n",
              "      <td>Real Time Streaming Futures Quotes</td>\n",
              "      <td>united kingdom</td>\n",
              "      <td>Nickel</td>\n",
              "      <td>Nickel Futures</td>\n",
              "      <td>USD</td>\n",
              "      <td>metals</td>\n",
              "    </tr>\n",
              "    <tr>\n",
              "      <th>9</th>\n",
              "      <td>Real Time Streaming Futures Quotes</td>\n",
              "      <td>united kingdom</td>\n",
              "      <td>Tin</td>\n",
              "      <td>Tin Futures</td>\n",
              "      <td>USD</td>\n",
              "      <td>metals</td>\n",
              "    </tr>\n",
              "    <tr>\n",
              "      <th>10</th>\n",
              "      <td>Real Time Streaming Futures Quotes</td>\n",
              "      <td>united kingdom</td>\n",
              "      <td>Copper</td>\n",
              "      <td>Copper Futures</td>\n",
              "      <td>USD</td>\n",
              "      <td>metals</td>\n",
              "    </tr>\n",
              "    <tr>\n",
              "      <th>11</th>\n",
              "      <td>EUREX Futures Market Quotes</td>\n",
              "      <td>euro zone</td>\n",
              "      <td>Xetra-Gold</td>\n",
              "      <td>Xetra-Gold Futures</td>\n",
              "      <td>EUR</td>\n",
              "      <td>metals</td>\n",
              "    </tr>\n",
              "    <tr>\n",
              "      <th>12</th>\n",
              "      <td>MCX Futures Market Quotes</td>\n",
              "      <td>india</td>\n",
              "      <td>MCX Aluminum Mini</td>\n",
              "      <td>Aluminum Mini Futures</td>\n",
              "      <td>INR</td>\n",
              "      <td>metals</td>\n",
              "    </tr>\n",
              "    <tr>\n",
              "      <th>13</th>\n",
              "      <td>MCX Futures Market Quotes</td>\n",
              "      <td>india</td>\n",
              "      <td>MCX Aluminum</td>\n",
              "      <td>Aluminum Futures</td>\n",
              "      <td>INR</td>\n",
              "      <td>metals</td>\n",
              "    </tr>\n",
              "    <tr>\n",
              "      <th>14</th>\n",
              "      <td>MCX Futures Market Quotes</td>\n",
              "      <td>india</td>\n",
              "      <td>MCX Copper</td>\n",
              "      <td>Copper Futures</td>\n",
              "      <td>INR</td>\n",
              "      <td>metals</td>\n",
              "    </tr>\n",
              "    <tr>\n",
              "      <th>15</th>\n",
              "      <td>MCX Futures Market Quotes</td>\n",
              "      <td>india</td>\n",
              "      <td>MCX Copper Mini</td>\n",
              "      <td>Copper Mini Futures</td>\n",
              "      <td>INR</td>\n",
              "      <td>metals</td>\n",
              "    </tr>\n",
              "    <tr>\n",
              "      <th>16</th>\n",
              "      <td>MCX Futures Market Quotes</td>\n",
              "      <td>india</td>\n",
              "      <td>MCX Gold 1 Kg</td>\n",
              "      <td>Gold 1 Kg</td>\n",
              "      <td>INR</td>\n",
              "      <td>metals</td>\n",
              "    </tr>\n",
              "    <tr>\n",
              "      <th>17</th>\n",
              "      <td>MCX Futures Market Quotes</td>\n",
              "      <td>india</td>\n",
              "      <td>MCX Gold Guinea</td>\n",
              "      <td>Gold Guinea Futures</td>\n",
              "      <td>INR</td>\n",
              "      <td>metals</td>\n",
              "    </tr>\n",
              "    <tr>\n",
              "      <th>18</th>\n",
              "      <td>MCX Futures Market Quotes</td>\n",
              "      <td>india</td>\n",
              "      <td>MCX Gold Mini</td>\n",
              "      <td>Gold Mini Futures</td>\n",
              "      <td>INR</td>\n",
              "      <td>metals</td>\n",
              "    </tr>\n",
              "    <tr>\n",
              "      <th>19</th>\n",
              "      <td>MCX Futures Market Quotes</td>\n",
              "      <td>india</td>\n",
              "      <td>MCX Gold Petal</td>\n",
              "      <td>Gold Petal Futures</td>\n",
              "      <td>INR</td>\n",
              "      <td>metals</td>\n",
              "    </tr>\n",
              "    <tr>\n",
              "      <th>20</th>\n",
              "      <td>MCX Futures Market Quotes</td>\n",
              "      <td>india</td>\n",
              "      <td>MCX Gold Petal Del</td>\n",
              "      <td>Gold Petal (New Delhi) Futures</td>\n",
              "      <td>INR</td>\n",
              "      <td>metals</td>\n",
              "    </tr>\n",
              "    <tr>\n",
              "      <th>21</th>\n",
              "      <td>MCX Futures Market Quotes</td>\n",
              "      <td>india</td>\n",
              "      <td>MCX Lead</td>\n",
              "      <td>Lead Futures</td>\n",
              "      <td>INR</td>\n",
              "      <td>metals</td>\n",
              "    </tr>\n",
              "    <tr>\n",
              "      <th>22</th>\n",
              "      <td>MCX Futures Market Quotes</td>\n",
              "      <td>india</td>\n",
              "      <td>MCX Lead Mini</td>\n",
              "      <td>Lead Mini Futures</td>\n",
              "      <td>INR</td>\n",
              "      <td>metals</td>\n",
              "    </tr>\n",
              "    <tr>\n",
              "      <th>23</th>\n",
              "      <td>MCX Futures Market Quotes</td>\n",
              "      <td>india</td>\n",
              "      <td>MCX Nickel</td>\n",
              "      <td>Nickel Futures</td>\n",
              "      <td>INR</td>\n",
              "      <td>metals</td>\n",
              "    </tr>\n",
              "    <tr>\n",
              "      <th>24</th>\n",
              "      <td>MCX Futures Market Quotes</td>\n",
              "      <td>india</td>\n",
              "      <td>MCX Nickel Mini</td>\n",
              "      <td>Nickel Mini Futures</td>\n",
              "      <td>INR</td>\n",
              "      <td>metals</td>\n",
              "    </tr>\n",
              "    <tr>\n",
              "      <th>25</th>\n",
              "      <td>MCX Futures Market Quotes</td>\n",
              "      <td>india</td>\n",
              "      <td>MCX Silver</td>\n",
              "      <td>Silver Futures</td>\n",
              "      <td>INR</td>\n",
              "      <td>metals</td>\n",
              "    </tr>\n",
              "    <tr>\n",
              "      <th>26</th>\n",
              "      <td>MCX Futures Market Quotes</td>\n",
              "      <td>india</td>\n",
              "      <td>MCX Silver Micro</td>\n",
              "      <td>Silver Micro Futures</td>\n",
              "      <td>INR</td>\n",
              "      <td>metals</td>\n",
              "    </tr>\n",
              "    <tr>\n",
              "      <th>27</th>\n",
              "      <td>MCX Futures Market Quotes</td>\n",
              "      <td>india</td>\n",
              "      <td>MCX Silver Mini</td>\n",
              "      <td>Silver Mini Futures</td>\n",
              "      <td>INR</td>\n",
              "      <td>metals</td>\n",
              "    </tr>\n",
              "    <tr>\n",
              "      <th>28</th>\n",
              "      <td>MCX Futures Market Quotes</td>\n",
              "      <td>india</td>\n",
              "      <td>MCX Zinc</td>\n",
              "      <td>Zinc Futures</td>\n",
              "      <td>INR</td>\n",
              "      <td>metals</td>\n",
              "    </tr>\n",
              "    <tr>\n",
              "      <th>29</th>\n",
              "      <td>MCX Futures Market Quotes</td>\n",
              "      <td>india</td>\n",
              "      <td>MCX Zinc Mini</td>\n",
              "      <td>Zinc Mini Futures</td>\n",
              "      <td>INR</td>\n",
              "      <td>metals</td>\n",
              "    </tr>\n",
              "  </tbody>\n",
              "</table>\n",
              "</div>\n",
              "      <button class=\"colab-df-convert\" onclick=\"convertToInteractive('df-0da3e859-0b5a-4af5-9d99-d561a394d1b6')\"\n",
              "              title=\"Convert this dataframe to an interactive table.\"\n",
              "              style=\"display:none;\">\n",
              "        \n",
              "  <svg xmlns=\"http://www.w3.org/2000/svg\" height=\"24px\"viewBox=\"0 0 24 24\"\n",
              "       width=\"24px\">\n",
              "    <path d=\"M0 0h24v24H0V0z\" fill=\"none\"/>\n",
              "    <path d=\"M18.56 5.44l.94 2.06.94-2.06 2.06-.94-2.06-.94-.94-2.06-.94 2.06-2.06.94zm-11 1L8.5 8.5l.94-2.06 2.06-.94-2.06-.94L8.5 2.5l-.94 2.06-2.06.94zm10 10l.94 2.06.94-2.06 2.06-.94-2.06-.94-.94-2.06-.94 2.06-2.06.94z\"/><path d=\"M17.41 7.96l-1.37-1.37c-.4-.4-.92-.59-1.43-.59-.52 0-1.04.2-1.43.59L10.3 9.45l-7.72 7.72c-.78.78-.78 2.05 0 2.83L4 21.41c.39.39.9.59 1.41.59.51 0 1.02-.2 1.41-.59l7.78-7.78 2.81-2.81c.8-.78.8-2.07 0-2.86zM5.41 20L4 18.59l7.72-7.72 1.47 1.35L5.41 20z\"/>\n",
              "  </svg>\n",
              "      </button>\n",
              "      \n",
              "  <style>\n",
              "    .colab-df-container {\n",
              "      display:flex;\n",
              "      flex-wrap:wrap;\n",
              "      gap: 12px;\n",
              "    }\n",
              "\n",
              "    .colab-df-convert {\n",
              "      background-color: #E8F0FE;\n",
              "      border: none;\n",
              "      border-radius: 50%;\n",
              "      cursor: pointer;\n",
              "      display: none;\n",
              "      fill: #1967D2;\n",
              "      height: 32px;\n",
              "      padding: 0 0 0 0;\n",
              "      width: 32px;\n",
              "    }\n",
              "\n",
              "    .colab-df-convert:hover {\n",
              "      background-color: #E2EBFA;\n",
              "      box-shadow: 0px 1px 2px rgba(60, 64, 67, 0.3), 0px 1px 3px 1px rgba(60, 64, 67, 0.15);\n",
              "      fill: #174EA6;\n",
              "    }\n",
              "\n",
              "    [theme=dark] .colab-df-convert {\n",
              "      background-color: #3B4455;\n",
              "      fill: #D2E3FC;\n",
              "    }\n",
              "\n",
              "    [theme=dark] .colab-df-convert:hover {\n",
              "      background-color: #434B5C;\n",
              "      box-shadow: 0px 1px 3px 1px rgba(0, 0, 0, 0.15);\n",
              "      filter: drop-shadow(0px 1px 2px rgba(0, 0, 0, 0.3));\n",
              "      fill: #FFFFFF;\n",
              "    }\n",
              "  </style>\n",
              "\n",
              "      <script>\n",
              "        const buttonEl =\n",
              "          document.querySelector('#df-0da3e859-0b5a-4af5-9d99-d561a394d1b6 button.colab-df-convert');\n",
              "        buttonEl.style.display =\n",
              "          google.colab.kernel.accessAllowed ? 'block' : 'none';\n",
              "\n",
              "        async function convertToInteractive(key) {\n",
              "          const element = document.querySelector('#df-0da3e859-0b5a-4af5-9d99-d561a394d1b6');\n",
              "          const dataTable =\n",
              "            await google.colab.kernel.invokeFunction('convertToInteractive',\n",
              "                                                     [key], {});\n",
              "          if (!dataTable) return;\n",
              "\n",
              "          const docLinkHtml = 'Like what you see? Visit the ' +\n",
              "            '<a target=\"_blank\" href=https://colab.research.google.com/notebooks/data_table.ipynb>data table notebook</a>'\n",
              "            + ' to learn more about interactive tables.';\n",
              "          element.innerHTML = '';\n",
              "          dataTable['output_type'] = 'display_data';\n",
              "          await google.colab.output.renderOutput(dataTable, element);\n",
              "          const docLink = document.createElement('div');\n",
              "          docLink.innerHTML = docLinkHtml;\n",
              "          element.appendChild(docLink);\n",
              "        }\n",
              "      </script>\n",
              "    </div>\n",
              "  </div>\n",
              "  "
            ],
            "text/plain": [
              "                                 title         country  ... currency   group\n",
              "0   Real Time Streaming Futures Quotes                  ...      USD  metals\n",
              "1   Real Time Streaming Futures Quotes   united states  ...      USD  metals\n",
              "2   Real Time Streaming Futures Quotes                  ...      USD  metals\n",
              "3   Real Time Streaming Futures Quotes   united states  ...      USD  metals\n",
              "4   Real Time Streaming Futures Quotes   united states  ...      USD  metals\n",
              "5   Real Time Streaming Futures Quotes  united kingdom  ...      USD  metals\n",
              "6   Real Time Streaming Futures Quotes  united kingdom  ...      USD  metals\n",
              "7   Real Time Streaming Futures Quotes  united kingdom  ...      USD  metals\n",
              "8   Real Time Streaming Futures Quotes  united kingdom  ...      USD  metals\n",
              "9   Real Time Streaming Futures Quotes  united kingdom  ...      USD  metals\n",
              "10  Real Time Streaming Futures Quotes  united kingdom  ...      USD  metals\n",
              "11         EUREX Futures Market Quotes       euro zone  ...      EUR  metals\n",
              "12           MCX Futures Market Quotes           india  ...      INR  metals\n",
              "13           MCX Futures Market Quotes           india  ...      INR  metals\n",
              "14           MCX Futures Market Quotes           india  ...      INR  metals\n",
              "15           MCX Futures Market Quotes           india  ...      INR  metals\n",
              "16           MCX Futures Market Quotes           india  ...      INR  metals\n",
              "17           MCX Futures Market Quotes           india  ...      INR  metals\n",
              "18           MCX Futures Market Quotes           india  ...      INR  metals\n",
              "19           MCX Futures Market Quotes           india  ...      INR  metals\n",
              "20           MCX Futures Market Quotes           india  ...      INR  metals\n",
              "21           MCX Futures Market Quotes           india  ...      INR  metals\n",
              "22           MCX Futures Market Quotes           india  ...      INR  metals\n",
              "23           MCX Futures Market Quotes           india  ...      INR  metals\n",
              "24           MCX Futures Market Quotes           india  ...      INR  metals\n",
              "25           MCX Futures Market Quotes           india  ...      INR  metals\n",
              "26           MCX Futures Market Quotes           india  ...      INR  metals\n",
              "27           MCX Futures Market Quotes           india  ...      INR  metals\n",
              "28           MCX Futures Market Quotes           india  ...      INR  metals\n",
              "29           MCX Futures Market Quotes           india  ...      INR  metals\n",
              "\n",
              "[30 rows x 6 columns]"
            ]
          },
          "metadata": {},
          "execution_count": 73
        }
      ]
    },
    {
      "cell_type": "code",
      "metadata": {
        "id": "fA3vUDs9wMRE",
        "colab": {
          "base_uri": "https://localhost:8080/"
        },
        "outputId": "85fedc0a-0923-49e8-bd2e-2379d716b60d"
      },
      "source": [
        "Oro=inv.get_commodity_recent_data(\"gold\")\n",
        "Oro1=Oro[[\"Close\",\"Open\"]].tail()\n",
        "Oro10 = pd.DataFrame(Oro1)\n",
        "print(Oro10)"
      ],
      "execution_count": null,
      "outputs": [
        {
          "output_type": "stream",
          "name": "stdout",
          "text": [
            "             Close     Open\n",
            "Date                       \n",
            "2022-01-26  1829.7  1848.00\n",
            "2022-01-27  1793.1  1819.00\n",
            "2022-01-28  1784.9  1797.50\n",
            "2022-01-31  1795.0  1788.50\n",
            "2022-02-01  1805.7  1797.25\n"
          ]
        }
      ]
    },
    {
      "cell_type": "code",
      "source": [
        "Apertura_oro = (Oro10.iat[4,1])# Este comando esta extraer un valor especifico de un dataframe\n",
        "print(Apertura_oro)"
      ],
      "metadata": {
        "id": "DlT5kcTVb8BS",
        "colab": {
          "base_uri": "https://localhost:8080/"
        },
        "outputId": "74c92382-33c2-4dab-898a-5f0d0d9d46af"
      },
      "execution_count": null,
      "outputs": [
        {
          "output_type": "stream",
          "name": "stdout",
          "text": [
            "1797.25\n"
          ]
        }
      ]
    },
    {
      "cell_type": "code",
      "source": [
        "Cierre_precio_anterior_oro= Oro10.iat[3,0]\n",
        "print(Cierre_precio_anterior_oro)"
      ],
      "metadata": {
        "id": "LEukkXDHdyE2",
        "colab": {
          "base_uri": "https://localhost:8080/"
        },
        "outputId": "a1e4bbb1-786a-4653-8e47-6c71a6c365f3"
      },
      "execution_count": null,
      "outputs": [
        {
          "output_type": "stream",
          "name": "stdout",
          "text": [
            "1795.0\n"
          ]
        }
      ]
    },
    {
      "cell_type": "code",
      "source": [
        "Cierre_precio_anterior5dias_oro = Oro10.iat[0,0]\n",
        "print(Cierre_precio_anterior5dias_oro )"
      ],
      "metadata": {
        "id": "02szCCjReoxC",
        "colab": {
          "base_uri": "https://localhost:8080/"
        },
        "outputId": "3cc2ff02-f55c-4ec3-8d1a-2d54bccf3cbd"
      },
      "execution_count": null,
      "outputs": [
        {
          "output_type": "stream",
          "name": "stdout",
          "text": [
            "1829.7\n"
          ]
        }
      ]
    },
    {
      "cell_type": "markdown",
      "metadata": {
        "id": "iXzWdAMIIFuG"
      },
      "source": [
        "**Cobre**"
      ]
    },
    {
      "cell_type": "code",
      "metadata": {
        "id": "hZZWyqzzNQU3",
        "colab": {
          "base_uri": "https://localhost:8080/"
        },
        "outputId": "839c6a1e-0353-49c9-aeac-0c61c4fb5740"
      },
      "source": [
        "Cobre=inv.get_commodity_recent_data(\"copper\",country=\"united states\")\n",
        "Cobre10=Cobre[[\"Close\",\"Open\"]].tail()\n",
        "print(Cobre10)"
      ],
      "execution_count": null,
      "outputs": [
        {
          "output_type": "stream",
          "name": "stdout",
          "text": [
            "             Close    Open\n",
            "Date                      \n",
            "2022-01-27  4.4195  4.4675\n",
            "2022-01-28  4.3297  4.4195\n",
            "2022-01-30  4.3305  4.3295\n",
            "2022-01-31  4.3350  4.3295\n",
            "2022-02-01  4.3805  4.3345\n"
          ]
        }
      ]
    },
    {
      "cell_type": "code",
      "source": [
        "Apertura_cobre = (Cobre10.iat[4,1]) # Este comando esta extraer un valor especifico de un dataframe\n",
        "print(Apertura_cobre)"
      ],
      "metadata": {
        "id": "xxWPa3llAW5I",
        "colab": {
          "base_uri": "https://localhost:8080/"
        },
        "outputId": "1495329d-a3ca-407b-b491-f06bab4ca72f"
      },
      "execution_count": null,
      "outputs": [
        {
          "output_type": "stream",
          "name": "stdout",
          "text": [
            "4.3345\n"
          ]
        }
      ]
    },
    {
      "cell_type": "code",
      "source": [
        "Cierre_precio_anterior_cobre= Cobre10.iat[3,0]\n",
        "print(Cierre_precio_anterior_cobre)"
      ],
      "metadata": {
        "id": "EkPPLuz1Azs-",
        "colab": {
          "base_uri": "https://localhost:8080/"
        },
        "outputId": "03d34a4b-0d70-4002-a75b-2ac7a0b9656a"
      },
      "execution_count": null,
      "outputs": [
        {
          "output_type": "stream",
          "name": "stdout",
          "text": [
            "4.335\n"
          ]
        }
      ]
    },
    {
      "cell_type": "code",
      "source": [
        "Cierre_precio_anterior5dias_Cobre = Cobre10.iat[0,0]\n",
        "print(Cierre_precio_anterior5dias_Cobre)"
      ],
      "metadata": {
        "id": "AuRdeqZxAz76",
        "colab": {
          "base_uri": "https://localhost:8080/"
        },
        "outputId": "fef1aac8-9251-43c2-cb09-6e76fbb4167b"
      },
      "execution_count": null,
      "outputs": [
        {
          "output_type": "stream",
          "name": "stdout",
          "text": [
            "4.4195\n"
          ]
        }
      ]
    },
    {
      "cell_type": "markdown",
      "metadata": {
        "id": "SlR69UDdIJI1"
      },
      "source": [
        "**Maiz**"
      ]
    },
    {
      "cell_type": "code",
      "metadata": {
        "id": "CDAqj7TXymFS",
        "colab": {
          "base_uri": "https://localhost:8080/"
        },
        "outputId": "0ce79238-ae93-4da9-ad21-2017a0c3cc3e"
      },
      "source": [
        "inv.get_commodities(group=\"grains\")"
      ],
      "execution_count": null,
      "outputs": [
        {
          "output_type": "execute_result",
          "data": {
            "text/html": [
              "\n",
              "  <div id=\"df-ce45f1d9-7d27-4a97-9959-a86090786489\">\n",
              "    <div class=\"colab-df-container\">\n",
              "      <div>\n",
              "<style scoped>\n",
              "    .dataframe tbody tr th:only-of-type {\n",
              "        vertical-align: middle;\n",
              "    }\n",
              "\n",
              "    .dataframe tbody tr th {\n",
              "        vertical-align: top;\n",
              "    }\n",
              "\n",
              "    .dataframe thead th {\n",
              "        text-align: right;\n",
              "    }\n",
              "</style>\n",
              "<table border=\"1\" class=\"dataframe\">\n",
              "  <thead>\n",
              "    <tr style=\"text-align: right;\">\n",
              "      <th></th>\n",
              "      <th>title</th>\n",
              "      <th>country</th>\n",
              "      <th>name</th>\n",
              "      <th>full_name</th>\n",
              "      <th>currency</th>\n",
              "      <th>group</th>\n",
              "    </tr>\n",
              "  </thead>\n",
              "  <tbody>\n",
              "    <tr>\n",
              "      <th>0</th>\n",
              "      <td>Real Time Streaming Futures Quotes</td>\n",
              "      <td>united kingdom</td>\n",
              "      <td>London Wheat</td>\n",
              "      <td>London Wheat Futures</td>\n",
              "      <td>GBP</td>\n",
              "      <td>grains</td>\n",
              "    </tr>\n",
              "    <tr>\n",
              "      <th>1</th>\n",
              "      <td>Real Time Streaming Futures Quotes</td>\n",
              "      <td>united states</td>\n",
              "      <td>Rough Rice</td>\n",
              "      <td>Rough Rice Futures</td>\n",
              "      <td>USD</td>\n",
              "      <td>grains</td>\n",
              "    </tr>\n",
              "    <tr>\n",
              "      <th>2</th>\n",
              "      <td>Real Time Streaming Futures Quotes</td>\n",
              "      <td>united states</td>\n",
              "      <td>US Soybean Oil</td>\n",
              "      <td>US Soybean Oil Futures</td>\n",
              "      <td>USD</td>\n",
              "      <td>grains</td>\n",
              "    </tr>\n",
              "    <tr>\n",
              "      <th>3</th>\n",
              "      <td>Real Time Streaming Futures Quotes</td>\n",
              "      <td>united states</td>\n",
              "      <td>US Soybean Meal</td>\n",
              "      <td>US Soybean Meal Futures</td>\n",
              "      <td>USD</td>\n",
              "      <td>grains</td>\n",
              "    </tr>\n",
              "    <tr>\n",
              "      <th>4</th>\n",
              "      <td>Real Time Streaming Futures Quotes</td>\n",
              "      <td>united states</td>\n",
              "      <td>US Soybeans</td>\n",
              "      <td>US Soybeans Futures</td>\n",
              "      <td>USD</td>\n",
              "      <td>grains</td>\n",
              "    </tr>\n",
              "    <tr>\n",
              "      <th>5</th>\n",
              "      <td>Real Time Streaming Futures Quotes</td>\n",
              "      <td>united states</td>\n",
              "      <td>US Wheat</td>\n",
              "      <td>US Wheat Futures</td>\n",
              "      <td>USD</td>\n",
              "      <td>grains</td>\n",
              "    </tr>\n",
              "    <tr>\n",
              "      <th>6</th>\n",
              "      <td>Real Time Streaming Futures Quotes</td>\n",
              "      <td>united states</td>\n",
              "      <td>US Corn</td>\n",
              "      <td>US Corn Futures</td>\n",
              "      <td>USD</td>\n",
              "      <td>grains</td>\n",
              "    </tr>\n",
              "    <tr>\n",
              "      <th>7</th>\n",
              "      <td>Real Time Streaming Futures Quotes</td>\n",
              "      <td>united states</td>\n",
              "      <td>Oats</td>\n",
              "      <td>Oats Futures</td>\n",
              "      <td>USD</td>\n",
              "      <td>grains</td>\n",
              "    </tr>\n",
              "  </tbody>\n",
              "</table>\n",
              "</div>\n",
              "      <button class=\"colab-df-convert\" onclick=\"convertToInteractive('df-ce45f1d9-7d27-4a97-9959-a86090786489')\"\n",
              "              title=\"Convert this dataframe to an interactive table.\"\n",
              "              style=\"display:none;\">\n",
              "        \n",
              "  <svg xmlns=\"http://www.w3.org/2000/svg\" height=\"24px\"viewBox=\"0 0 24 24\"\n",
              "       width=\"24px\">\n",
              "    <path d=\"M0 0h24v24H0V0z\" fill=\"none\"/>\n",
              "    <path d=\"M18.56 5.44l.94 2.06.94-2.06 2.06-.94-2.06-.94-.94-2.06-.94 2.06-2.06.94zm-11 1L8.5 8.5l.94-2.06 2.06-.94-2.06-.94L8.5 2.5l-.94 2.06-2.06.94zm10 10l.94 2.06.94-2.06 2.06-.94-2.06-.94-.94-2.06-.94 2.06-2.06.94z\"/><path d=\"M17.41 7.96l-1.37-1.37c-.4-.4-.92-.59-1.43-.59-.52 0-1.04.2-1.43.59L10.3 9.45l-7.72 7.72c-.78.78-.78 2.05 0 2.83L4 21.41c.39.39.9.59 1.41.59.51 0 1.02-.2 1.41-.59l7.78-7.78 2.81-2.81c.8-.78.8-2.07 0-2.86zM5.41 20L4 18.59l7.72-7.72 1.47 1.35L5.41 20z\"/>\n",
              "  </svg>\n",
              "      </button>\n",
              "      \n",
              "  <style>\n",
              "    .colab-df-container {\n",
              "      display:flex;\n",
              "      flex-wrap:wrap;\n",
              "      gap: 12px;\n",
              "    }\n",
              "\n",
              "    .colab-df-convert {\n",
              "      background-color: #E8F0FE;\n",
              "      border: none;\n",
              "      border-radius: 50%;\n",
              "      cursor: pointer;\n",
              "      display: none;\n",
              "      fill: #1967D2;\n",
              "      height: 32px;\n",
              "      padding: 0 0 0 0;\n",
              "      width: 32px;\n",
              "    }\n",
              "\n",
              "    .colab-df-convert:hover {\n",
              "      background-color: #E2EBFA;\n",
              "      box-shadow: 0px 1px 2px rgba(60, 64, 67, 0.3), 0px 1px 3px 1px rgba(60, 64, 67, 0.15);\n",
              "      fill: #174EA6;\n",
              "    }\n",
              "\n",
              "    [theme=dark] .colab-df-convert {\n",
              "      background-color: #3B4455;\n",
              "      fill: #D2E3FC;\n",
              "    }\n",
              "\n",
              "    [theme=dark] .colab-df-convert:hover {\n",
              "      background-color: #434B5C;\n",
              "      box-shadow: 0px 1px 3px 1px rgba(0, 0, 0, 0.15);\n",
              "      filter: drop-shadow(0px 1px 2px rgba(0, 0, 0, 0.3));\n",
              "      fill: #FFFFFF;\n",
              "    }\n",
              "  </style>\n",
              "\n",
              "      <script>\n",
              "        const buttonEl =\n",
              "          document.querySelector('#df-ce45f1d9-7d27-4a97-9959-a86090786489 button.colab-df-convert');\n",
              "        buttonEl.style.display =\n",
              "          google.colab.kernel.accessAllowed ? 'block' : 'none';\n",
              "\n",
              "        async function convertToInteractive(key) {\n",
              "          const element = document.querySelector('#df-ce45f1d9-7d27-4a97-9959-a86090786489');\n",
              "          const dataTable =\n",
              "            await google.colab.kernel.invokeFunction('convertToInteractive',\n",
              "                                                     [key], {});\n",
              "          if (!dataTable) return;\n",
              "\n",
              "          const docLinkHtml = 'Like what you see? Visit the ' +\n",
              "            '<a target=\"_blank\" href=https://colab.research.google.com/notebooks/data_table.ipynb>data table notebook</a>'\n",
              "            + ' to learn more about interactive tables.';\n",
              "          element.innerHTML = '';\n",
              "          dataTable['output_type'] = 'display_data';\n",
              "          await google.colab.output.renderOutput(dataTable, element);\n",
              "          const docLink = document.createElement('div');\n",
              "          docLink.innerHTML = docLinkHtml;\n",
              "          element.appendChild(docLink);\n",
              "        }\n",
              "      </script>\n",
              "    </div>\n",
              "  </div>\n",
              "  "
            ],
            "text/plain": [
              "                                title         country  ... currency   group\n",
              "0  Real Time Streaming Futures Quotes  united kingdom  ...      GBP  grains\n",
              "1  Real Time Streaming Futures Quotes   united states  ...      USD  grains\n",
              "2  Real Time Streaming Futures Quotes   united states  ...      USD  grains\n",
              "3  Real Time Streaming Futures Quotes   united states  ...      USD  grains\n",
              "4  Real Time Streaming Futures Quotes   united states  ...      USD  grains\n",
              "5  Real Time Streaming Futures Quotes   united states  ...      USD  grains\n",
              "6  Real Time Streaming Futures Quotes   united states  ...      USD  grains\n",
              "7  Real Time Streaming Futures Quotes   united states  ...      USD  grains\n",
              "\n",
              "[8 rows x 6 columns]"
            ]
          },
          "metadata": {},
          "execution_count": 82
        }
      ]
    },
    {
      "cell_type": "code",
      "metadata": {
        "id": "GkxUAABdNQz5",
        "colab": {
          "base_uri": "https://localhost:8080/"
        },
        "outputId": "4cff1424-48d8-4c57-ed07-bd1334e49e3c"
      },
      "source": [
        "Maiz=inv.get_commodity_recent_data(\"US Corn\",country=\"united states\")\n",
        "Maiz10=Maiz[[\"Close\",\"Open\"]].tail()\n",
        "print(Maiz10)"
      ],
      "execution_count": null,
      "outputs": [
        {
          "output_type": "stream",
          "name": "stdout",
          "text": [
            "             Close    Open\n",
            "Date                      \n",
            "2022-01-26  627.00  619.00\n",
            "2022-01-27  625.25  625.00\n",
            "2022-01-28  636.00  623.25\n",
            "2022-01-31  626.00  635.75\n",
            "2022-02-01  628.10  626.38\n"
          ]
        }
      ]
    },
    {
      "cell_type": "code",
      "source": [
        "Apertura_Maiz = (Maiz10.iat[4,1]) # Este comando esta extraer un valor especifico de un dataframe\n",
        "print(Apertura_Maiz)"
      ],
      "metadata": {
        "id": "PXqWNYvFBm5a",
        "colab": {
          "base_uri": "https://localhost:8080/"
        },
        "outputId": "e7537900-78d5-4d7f-8c82-30a4efde1cb3"
      },
      "execution_count": null,
      "outputs": [
        {
          "output_type": "stream",
          "name": "stdout",
          "text": [
            "626.38\n"
          ]
        }
      ]
    },
    {
      "cell_type": "code",
      "source": [
        "Cierre_precio_anterior_Maiz= Maiz10.iat[3,0]\n",
        "print(Cierre_precio_anterior_Maiz)"
      ],
      "metadata": {
        "id": "i8DJj2scBnEl",
        "colab": {
          "base_uri": "https://localhost:8080/"
        },
        "outputId": "62f61036-474f-4b7d-b90e-11316b322023"
      },
      "execution_count": null,
      "outputs": [
        {
          "output_type": "stream",
          "name": "stdout",
          "text": [
            "626.0\n"
          ]
        }
      ]
    },
    {
      "cell_type": "code",
      "source": [
        "Cierre_precio_anterior5dias_Maiz = Maiz10.iat[0,0]\n",
        "print(Cierre_precio_anterior5dias_Maiz)"
      ],
      "metadata": {
        "id": "IEOvoTmHBnO_",
        "colab": {
          "base_uri": "https://localhost:8080/"
        },
        "outputId": "f546b562-2019-4c27-a58d-003fe1594091"
      },
      "execution_count": null,
      "outputs": [
        {
          "output_type": "stream",
          "name": "stdout",
          "text": [
            "627.0\n"
          ]
        }
      ]
    },
    {
      "cell_type": "markdown",
      "metadata": {
        "id": "cjUuWNSyIT4p"
      },
      "source": [
        "**Soja**"
      ]
    },
    {
      "cell_type": "code",
      "metadata": {
        "id": "1nrm3ALdNRen",
        "colab": {
          "base_uri": "https://localhost:8080/"
        },
        "outputId": "ca2ca61c-5564-44da-b82e-cfad9ec5ad1d"
      },
      "source": [
        "soja=inv.get_commodity_recent_data(\"US Soybeans\",country=\"united states\")\n",
        "soja10=soja[[\"Close\",\"Open\"]].tail()\n",
        "print(soja10)"
      ],
      "execution_count": null,
      "outputs": [
        {
          "output_type": "stream",
          "name": "stdout",
          "text": [
            "              Close     Open\n",
            "Date                        \n",
            "2022-01-26  1440.00  1405.75\n",
            "2022-01-27  1448.25  1436.00\n",
            "2022-01-28  1470.00  1446.50\n",
            "2022-01-31  1490.50  1474.00\n",
            "2022-02-01  1492.25  1489.62\n"
          ]
        }
      ]
    },
    {
      "cell_type": "code",
      "source": [
        "Apertura_soja = (soja10.iat[4,1]) # Este comando esta extraer un valor especifico de un dataframe\n",
        "print(Apertura_soja)"
      ],
      "metadata": {
        "id": "a_OCj3VdCAvB",
        "colab": {
          "base_uri": "https://localhost:8080/"
        },
        "outputId": "1c1c2d7c-2711-49f2-cf8b-ddcd6658ada6"
      },
      "execution_count": null,
      "outputs": [
        {
          "output_type": "stream",
          "name": "stdout",
          "text": [
            "1489.62\n"
          ]
        }
      ]
    },
    {
      "cell_type": "code",
      "source": [
        "Cierre_precio_anterior_soja= soja10.iat[3,0]\n",
        "print(Cierre_precio_anterior_soja)"
      ],
      "metadata": {
        "id": "jRP0fi59CA6P",
        "colab": {
          "base_uri": "https://localhost:8080/"
        },
        "outputId": "5b81513b-5797-4363-c0a6-26fc9fac050b"
      },
      "execution_count": null,
      "outputs": [
        {
          "output_type": "stream",
          "name": "stdout",
          "text": [
            "1490.5\n"
          ]
        }
      ]
    },
    {
      "cell_type": "code",
      "source": [
        "Cierre_precio_anterior5dias_soja = soja10.iat[0,0]\n",
        "print(Cierre_precio_anterior5dias_soja)"
      ],
      "metadata": {
        "id": "8dqBhg0pCBD2",
        "colab": {
          "base_uri": "https://localhost:8080/"
        },
        "outputId": "5b744f05-96fd-4f5e-853f-3d473573a996"
      },
      "execution_count": null,
      "outputs": [
        {
          "output_type": "stream",
          "name": "stdout",
          "text": [
            "1440.0\n"
          ]
        }
      ]
    },
    {
      "cell_type": "markdown",
      "metadata": {
        "id": "r0j_iHpsIWpf"
      },
      "source": [
        "**Cafe**"
      ]
    },
    {
      "cell_type": "code",
      "metadata": {
        "id": "2r0SVlcl5PRx",
        "colab": {
          "base_uri": "https://localhost:8080/"
        },
        "outputId": "78631e7c-2f8d-47b7-f958-e0e01982696f"
      },
      "source": [
        "inv.get_commodities(group=\"softs\")"
      ],
      "execution_count": null,
      "outputs": [
        {
          "output_type": "execute_result",
          "data": {
            "text/html": [
              "\n",
              "  <div id=\"df-a65d591b-fedc-4593-bf23-925ec714ac75\">\n",
              "    <div class=\"colab-df-container\">\n",
              "      <div>\n",
              "<style scoped>\n",
              "    .dataframe tbody tr th:only-of-type {\n",
              "        vertical-align: middle;\n",
              "    }\n",
              "\n",
              "    .dataframe tbody tr th {\n",
              "        vertical-align: top;\n",
              "    }\n",
              "\n",
              "    .dataframe thead th {\n",
              "        text-align: right;\n",
              "    }\n",
              "</style>\n",
              "<table border=\"1\" class=\"dataframe\">\n",
              "  <thead>\n",
              "    <tr style=\"text-align: right;\">\n",
              "      <th></th>\n",
              "      <th>title</th>\n",
              "      <th>country</th>\n",
              "      <th>name</th>\n",
              "      <th>full_name</th>\n",
              "      <th>currency</th>\n",
              "      <th>group</th>\n",
              "    </tr>\n",
              "  </thead>\n",
              "  <tbody>\n",
              "    <tr>\n",
              "      <th>0</th>\n",
              "      <td>Real Time Streaming Futures Quotes</td>\n",
              "      <td>united states</td>\n",
              "      <td>US Coffee C</td>\n",
              "      <td>US Coffee C Futures</td>\n",
              "      <td>USD</td>\n",
              "      <td>softs</td>\n",
              "    </tr>\n",
              "    <tr>\n",
              "      <th>1</th>\n",
              "      <td>Real Time Streaming Futures Quotes</td>\n",
              "      <td>united states</td>\n",
              "      <td>US Cotton #2</td>\n",
              "      <td>US Cotton #2 Futures</td>\n",
              "      <td>USD</td>\n",
              "      <td>softs</td>\n",
              "    </tr>\n",
              "    <tr>\n",
              "      <th>2</th>\n",
              "      <td>Real Time Streaming Futures Quotes</td>\n",
              "      <td>united states</td>\n",
              "      <td>US Sugar #11</td>\n",
              "      <td>US Sugar #11 Futures</td>\n",
              "      <td>USD</td>\n",
              "      <td>softs</td>\n",
              "    </tr>\n",
              "    <tr>\n",
              "      <th>3</th>\n",
              "      <td>Real Time Streaming Futures Quotes</td>\n",
              "      <td>united states</td>\n",
              "      <td>Orange Juice</td>\n",
              "      <td>Orange Juice Futures</td>\n",
              "      <td>USD</td>\n",
              "      <td>softs</td>\n",
              "    </tr>\n",
              "    <tr>\n",
              "      <th>4</th>\n",
              "      <td>Real Time Streaming Futures Quotes</td>\n",
              "      <td>united states</td>\n",
              "      <td>US Cocoa</td>\n",
              "      <td>US Cocoa Futures</td>\n",
              "      <td>USD</td>\n",
              "      <td>softs</td>\n",
              "    </tr>\n",
              "    <tr>\n",
              "      <th>5</th>\n",
              "      <td>Real Time Streaming Futures Quotes</td>\n",
              "      <td>united kingdom</td>\n",
              "      <td>London Coffee</td>\n",
              "      <td>London Robusta Coffee Futures</td>\n",
              "      <td>USD</td>\n",
              "      <td>softs</td>\n",
              "    </tr>\n",
              "    <tr>\n",
              "      <th>6</th>\n",
              "      <td>Real Time Streaming Futures Quotes</td>\n",
              "      <td>united kingdom</td>\n",
              "      <td>London Cocoa</td>\n",
              "      <td>London Cocoa Futures</td>\n",
              "      <td>GBP</td>\n",
              "      <td>softs</td>\n",
              "    </tr>\n",
              "    <tr>\n",
              "      <th>7</th>\n",
              "      <td>Real Time Streaming Futures Quotes</td>\n",
              "      <td>united kingdom</td>\n",
              "      <td>London Sugar</td>\n",
              "      <td>London Sugar Futures</td>\n",
              "      <td>USD</td>\n",
              "      <td>softs</td>\n",
              "    </tr>\n",
              "    <tr>\n",
              "      <th>8</th>\n",
              "      <td>Real Time Streaming Futures Quotes</td>\n",
              "      <td>united states</td>\n",
              "      <td>Lumber</td>\n",
              "      <td>Lumber Futures</td>\n",
              "      <td>USD</td>\n",
              "      <td>softs</td>\n",
              "    </tr>\n",
              "    <tr>\n",
              "      <th>9</th>\n",
              "      <td>MCX Futures Market Quotes</td>\n",
              "      <td>india</td>\n",
              "      <td>MCX Cardamom</td>\n",
              "      <td>Cardamom Futures</td>\n",
              "      <td>INR</td>\n",
              "      <td>softs</td>\n",
              "    </tr>\n",
              "    <tr>\n",
              "      <th>10</th>\n",
              "      <td>MCX Futures Market Quotes</td>\n",
              "      <td>india</td>\n",
              "      <td>MCX Cotton</td>\n",
              "      <td>Cotton 29mm Futures</td>\n",
              "      <td>INR</td>\n",
              "      <td>softs</td>\n",
              "    </tr>\n",
              "    <tr>\n",
              "      <th>11</th>\n",
              "      <td>MCX Futures Market Quotes</td>\n",
              "      <td>india</td>\n",
              "      <td>MCX Crude Palm Oil</td>\n",
              "      <td>Crude Palm Oil Futures</td>\n",
              "      <td>INR</td>\n",
              "      <td>softs</td>\n",
              "    </tr>\n",
              "    <tr>\n",
              "      <th>12</th>\n",
              "      <td>MCX Futures Market Quotes</td>\n",
              "      <td>india</td>\n",
              "      <td>MCX Kapas</td>\n",
              "      <td>Kapas Futures</td>\n",
              "      <td>INR</td>\n",
              "      <td>softs</td>\n",
              "    </tr>\n",
              "    <tr>\n",
              "      <th>13</th>\n",
              "      <td>MCX Futures Market Quotes</td>\n",
              "      <td>india</td>\n",
              "      <td>MCX Mentha Oil</td>\n",
              "      <td>Mentha Oil Futures</td>\n",
              "      <td>INR</td>\n",
              "      <td>softs</td>\n",
              "    </tr>\n",
              "    <tr>\n",
              "      <th>14</th>\n",
              "      <td>MCX Futures Market Quotes</td>\n",
              "      <td>india</td>\n",
              "      <td>MCX Castor Seed</td>\n",
              "      <td>Castor Seed Futures</td>\n",
              "      <td>INR</td>\n",
              "      <td>softs</td>\n",
              "    </tr>\n",
              "  </tbody>\n",
              "</table>\n",
              "</div>\n",
              "      <button class=\"colab-df-convert\" onclick=\"convertToInteractive('df-a65d591b-fedc-4593-bf23-925ec714ac75')\"\n",
              "              title=\"Convert this dataframe to an interactive table.\"\n",
              "              style=\"display:none;\">\n",
              "        \n",
              "  <svg xmlns=\"http://www.w3.org/2000/svg\" height=\"24px\"viewBox=\"0 0 24 24\"\n",
              "       width=\"24px\">\n",
              "    <path d=\"M0 0h24v24H0V0z\" fill=\"none\"/>\n",
              "    <path d=\"M18.56 5.44l.94 2.06.94-2.06 2.06-.94-2.06-.94-.94-2.06-.94 2.06-2.06.94zm-11 1L8.5 8.5l.94-2.06 2.06-.94-2.06-.94L8.5 2.5l-.94 2.06-2.06.94zm10 10l.94 2.06.94-2.06 2.06-.94-2.06-.94-.94-2.06-.94 2.06-2.06.94z\"/><path d=\"M17.41 7.96l-1.37-1.37c-.4-.4-.92-.59-1.43-.59-.52 0-1.04.2-1.43.59L10.3 9.45l-7.72 7.72c-.78.78-.78 2.05 0 2.83L4 21.41c.39.39.9.59 1.41.59.51 0 1.02-.2 1.41-.59l7.78-7.78 2.81-2.81c.8-.78.8-2.07 0-2.86zM5.41 20L4 18.59l7.72-7.72 1.47 1.35L5.41 20z\"/>\n",
              "  </svg>\n",
              "      </button>\n",
              "      \n",
              "  <style>\n",
              "    .colab-df-container {\n",
              "      display:flex;\n",
              "      flex-wrap:wrap;\n",
              "      gap: 12px;\n",
              "    }\n",
              "\n",
              "    .colab-df-convert {\n",
              "      background-color: #E8F0FE;\n",
              "      border: none;\n",
              "      border-radius: 50%;\n",
              "      cursor: pointer;\n",
              "      display: none;\n",
              "      fill: #1967D2;\n",
              "      height: 32px;\n",
              "      padding: 0 0 0 0;\n",
              "      width: 32px;\n",
              "    }\n",
              "\n",
              "    .colab-df-convert:hover {\n",
              "      background-color: #E2EBFA;\n",
              "      box-shadow: 0px 1px 2px rgba(60, 64, 67, 0.3), 0px 1px 3px 1px rgba(60, 64, 67, 0.15);\n",
              "      fill: #174EA6;\n",
              "    }\n",
              "\n",
              "    [theme=dark] .colab-df-convert {\n",
              "      background-color: #3B4455;\n",
              "      fill: #D2E3FC;\n",
              "    }\n",
              "\n",
              "    [theme=dark] .colab-df-convert:hover {\n",
              "      background-color: #434B5C;\n",
              "      box-shadow: 0px 1px 3px 1px rgba(0, 0, 0, 0.15);\n",
              "      filter: drop-shadow(0px 1px 2px rgba(0, 0, 0, 0.3));\n",
              "      fill: #FFFFFF;\n",
              "    }\n",
              "  </style>\n",
              "\n",
              "      <script>\n",
              "        const buttonEl =\n",
              "          document.querySelector('#df-a65d591b-fedc-4593-bf23-925ec714ac75 button.colab-df-convert');\n",
              "        buttonEl.style.display =\n",
              "          google.colab.kernel.accessAllowed ? 'block' : 'none';\n",
              "\n",
              "        async function convertToInteractive(key) {\n",
              "          const element = document.querySelector('#df-a65d591b-fedc-4593-bf23-925ec714ac75');\n",
              "          const dataTable =\n",
              "            await google.colab.kernel.invokeFunction('convertToInteractive',\n",
              "                                                     [key], {});\n",
              "          if (!dataTable) return;\n",
              "\n",
              "          const docLinkHtml = 'Like what you see? Visit the ' +\n",
              "            '<a target=\"_blank\" href=https://colab.research.google.com/notebooks/data_table.ipynb>data table notebook</a>'\n",
              "            + ' to learn more about interactive tables.';\n",
              "          element.innerHTML = '';\n",
              "          dataTable['output_type'] = 'display_data';\n",
              "          await google.colab.output.renderOutput(dataTable, element);\n",
              "          const docLink = document.createElement('div');\n",
              "          docLink.innerHTML = docLinkHtml;\n",
              "          element.appendChild(docLink);\n",
              "        }\n",
              "      </script>\n",
              "    </div>\n",
              "  </div>\n",
              "  "
            ],
            "text/plain": [
              "                                 title         country  ... currency  group\n",
              "0   Real Time Streaming Futures Quotes   united states  ...      USD  softs\n",
              "1   Real Time Streaming Futures Quotes   united states  ...      USD  softs\n",
              "2   Real Time Streaming Futures Quotes   united states  ...      USD  softs\n",
              "3   Real Time Streaming Futures Quotes   united states  ...      USD  softs\n",
              "4   Real Time Streaming Futures Quotes   united states  ...      USD  softs\n",
              "5   Real Time Streaming Futures Quotes  united kingdom  ...      USD  softs\n",
              "6   Real Time Streaming Futures Quotes  united kingdom  ...      GBP  softs\n",
              "7   Real Time Streaming Futures Quotes  united kingdom  ...      USD  softs\n",
              "8   Real Time Streaming Futures Quotes   united states  ...      USD  softs\n",
              "9            MCX Futures Market Quotes           india  ...      INR  softs\n",
              "10           MCX Futures Market Quotes           india  ...      INR  softs\n",
              "11           MCX Futures Market Quotes           india  ...      INR  softs\n",
              "12           MCX Futures Market Quotes           india  ...      INR  softs\n",
              "13           MCX Futures Market Quotes           india  ...      INR  softs\n",
              "14           MCX Futures Market Quotes           india  ...      INR  softs\n",
              "\n",
              "[15 rows x 6 columns]"
            ]
          },
          "metadata": {},
          "execution_count": 91
        }
      ]
    },
    {
      "cell_type": "code",
      "metadata": {
        "id": "r2ADPRAgNSB3",
        "colab": {
          "base_uri": "https://localhost:8080/"
        },
        "outputId": "620a7848-bd20-4b00-d2f4-89d0ca184e19"
      },
      "source": [
        "Cafe=inv.get_commodity_recent_data(\"US Coffee C\",country=\"united states\")\n",
        "Cafe10=Cafe[[\"Close\",\"Open\"]].tail()\n",
        "print(Cafe10)"
      ],
      "execution_count": null,
      "outputs": [
        {
          "output_type": "stream",
          "name": "stdout",
          "text": [
            "             Close    Open\n",
            "Date                      \n",
            "2022-01-26  238.90  238.60\n",
            "2022-01-27  232.05  237.25\n",
            "2022-01-28  235.90  233.05\n",
            "2022-01-31  235.10  235.35\n",
            "2022-02-01  238.85  236.32\n"
          ]
        }
      ]
    },
    {
      "cell_type": "code",
      "source": [
        "Apertura_Cafe = (Cafe10.iat[4,1]) # Este comando esta extraer un valor especifico de un dataframe\n",
        "print(Apertura_Cafe)"
      ],
      "metadata": {
        "id": "P-EH398JCW15",
        "colab": {
          "base_uri": "https://localhost:8080/"
        },
        "outputId": "dd8e7d83-300e-4b56-e6d3-c7ca6730f7c4"
      },
      "execution_count": null,
      "outputs": [
        {
          "output_type": "stream",
          "name": "stdout",
          "text": [
            "236.32\n"
          ]
        }
      ]
    },
    {
      "cell_type": "code",
      "source": [
        "Cierre_precio_anterior_Cafe= Cafe10.iat[3,0]\n",
        "print(Cierre_precio_anterior_Cafe)"
      ],
      "metadata": {
        "id": "ZOZeX8CkCXBA",
        "colab": {
          "base_uri": "https://localhost:8080/"
        },
        "outputId": "a2d39557-2751-4fa2-90b3-766d63b8685d"
      },
      "execution_count": null,
      "outputs": [
        {
          "output_type": "stream",
          "name": "stdout",
          "text": [
            "235.1\n"
          ]
        }
      ]
    },
    {
      "cell_type": "code",
      "source": [
        "Cierre_precio_anterior5dias_Cafe = Cafe10.iat[0,0]\n",
        "print(Cierre_precio_anterior5dias_Cafe)"
      ],
      "metadata": {
        "id": "7_S1EydDCXJn",
        "colab": {
          "base_uri": "https://localhost:8080/"
        },
        "outputId": "3eb79c5a-95a6-47cf-de34-47ff16ef85d9"
      },
      "execution_count": null,
      "outputs": [
        {
          "output_type": "stream",
          "name": "stdout",
          "text": [
            "238.9\n"
          ]
        }
      ]
    },
    {
      "cell_type": "markdown",
      "metadata": {
        "id": "2NU8qF3HIc6n"
      },
      "source": [
        "**Azucar**"
      ]
    },
    {
      "cell_type": "code",
      "metadata": {
        "id": "H8TPGZC_NSru",
        "colab": {
          "base_uri": "https://localhost:8080/"
        },
        "outputId": "416dd889-80b8-4931-d56c-41020850fcdc"
      },
      "source": [
        "Azucar=inv.get_commodity_recent_data(\"US Sugar #11\t\",country=\"united states\")\n",
        "Azucar10=Azucar[[\"Close\",\"Open\"]].tail()\n",
        "print(Azucar10)"
      ],
      "execution_count": null,
      "outputs": [
        {
          "output_type": "stream",
          "name": "stdout",
          "text": [
            "            Close   Open\n",
            "Date                    \n",
            "2022-01-26  18.49  18.75\n",
            "2022-01-27  18.41  18.39\n",
            "2022-01-28  18.20  18.42\n",
            "2022-01-31  18.22  18.30\n",
            "2022-02-01  18.32  18.31\n"
          ]
        }
      ]
    },
    {
      "cell_type": "code",
      "source": [
        "Apertura_Azucar = (Azucar10.iat[4,1]) # Este comando esta extraer un valor especifico de un dataframe\n",
        "print(Apertura_Azucar)"
      ],
      "metadata": {
        "id": "Z5409tDWCqQn",
        "colab": {
          "base_uri": "https://localhost:8080/"
        },
        "outputId": "7385a1be-182b-4ef5-ad8a-c8f19858d3d0"
      },
      "execution_count": null,
      "outputs": [
        {
          "output_type": "stream",
          "name": "stdout",
          "text": [
            "18.31\n"
          ]
        }
      ]
    },
    {
      "cell_type": "code",
      "source": [
        "Cierre_precio_anterior_Azucar= Azucar10.iat[3,0]\n",
        "print(Cierre_precio_anterior_Cafe)"
      ],
      "metadata": {
        "id": "gwM43wekCqaY",
        "colab": {
          "base_uri": "https://localhost:8080/"
        },
        "outputId": "bda523b2-0e6d-429f-dcb3-7228cbed94a7"
      },
      "execution_count": null,
      "outputs": [
        {
          "output_type": "stream",
          "name": "stdout",
          "text": [
            "235.1\n"
          ]
        }
      ]
    },
    {
      "cell_type": "code",
      "source": [
        "Cierre_precio_anterior5dias_Azucar = Azucar10.iat[0,0]\n",
        "print(Cierre_precio_anterior5dias_Azucar)"
      ],
      "metadata": {
        "id": "xIwb2U2gCqiB",
        "colab": {
          "base_uri": "https://localhost:8080/"
        },
        "outputId": "56077d18-8bcc-4524-844a-9c860d3ef2bd"
      },
      "execution_count": null,
      "outputs": [
        {
          "output_type": "stream",
          "name": "stdout",
          "text": [
            "18.49\n"
          ]
        }
      ]
    },
    {
      "cell_type": "markdown",
      "metadata": {
        "id": "9-ZodFiyIt7E"
      },
      "source": [
        "**Bonos a 10Años**"
      ]
    },
    {
      "cell_type": "code",
      "metadata": {
        "id": "k4SBEmTyJqft",
        "colab": {
          "base_uri": "https://localhost:8080/"
        },
        "outputId": "15526669-36d1-47d9-e46b-7a01a855ef3c"
      },
      "source": [
        "inv.get_bond_countries()"
      ],
      "execution_count": null,
      "outputs": [
        {
          "output_type": "execute_result",
          "data": {
            "text/plain": [
              "['argentina',\n",
              " 'australia',\n",
              " 'austria',\n",
              " 'bahrain',\n",
              " 'bangladesh',\n",
              " 'belgium',\n",
              " 'botswana',\n",
              " 'brazil',\n",
              " 'bulgaria',\n",
              " 'canada',\n",
              " 'chile',\n",
              " 'china',\n",
              " 'colombia',\n",
              " 'croatia',\n",
              " 'cyprus',\n",
              " 'czech republic',\n",
              " 'denmark',\n",
              " 'egypt',\n",
              " 'finland',\n",
              " 'france',\n",
              " 'germany',\n",
              " 'greece',\n",
              " 'hong kong',\n",
              " 'hungary',\n",
              " 'iceland',\n",
              " 'india',\n",
              " 'indonesia',\n",
              " 'ireland',\n",
              " 'israel',\n",
              " 'italy',\n",
              " 'japan',\n",
              " 'jordan',\n",
              " 'kenya',\n",
              " 'latvia',\n",
              " 'lithuania',\n",
              " 'luxembourg',\n",
              " 'malaysia',\n",
              " 'malta',\n",
              " 'mauritius',\n",
              " 'mexico',\n",
              " 'morocco',\n",
              " 'namibia',\n",
              " 'netherlands',\n",
              " 'new zealand',\n",
              " 'nigeria',\n",
              " 'norway',\n",
              " 'pakistan',\n",
              " 'peru',\n",
              " 'philippines',\n",
              " 'poland',\n",
              " 'portugal',\n",
              " 'qatar',\n",
              " 'romania',\n",
              " 'russia',\n",
              " 'saudi arabia',\n",
              " 'serbia',\n",
              " 'singapore',\n",
              " 'slovakia',\n",
              " 'slovenia',\n",
              " 'south africa',\n",
              " 'south korea',\n",
              " 'spain',\n",
              " 'sri lanka',\n",
              " 'sweden',\n",
              " 'switzerland',\n",
              " 'taiwan',\n",
              " 'thailand',\n",
              " 'turkey',\n",
              " 'uganda',\n",
              " 'ukraine',\n",
              " 'united kingdom',\n",
              " 'united states',\n",
              " 'venezuela',\n",
              " 'vietnam']"
            ]
          },
          "metadata": {},
          "execution_count": 100
        }
      ]
    },
    {
      "cell_type": "markdown",
      "metadata": {
        "id": "S6zrc3EZIxYH"
      },
      "source": [
        "**Desarrollados**"
      ]
    },
    {
      "cell_type": "markdown",
      "metadata": {
        "id": "hr28tn32I6my"
      },
      "source": [
        "**EEUU**"
      ]
    },
    {
      "cell_type": "code",
      "metadata": {
        "id": "0pJNQ8NkLyr_",
        "colab": {
          "base_uri": "https://localhost:8080/"
        },
        "outputId": "f2cc5ead-fd98-4e6e-8e34-96678bbd9bfb"
      },
      "source": [
        "inv.get_bonds_list(\"united states\")"
      ],
      "execution_count": null,
      "outputs": [
        {
          "output_type": "execute_result",
          "data": {
            "text/plain": [
              "['U.S. 30Y',\n",
              " 'U.S. 10Y',\n",
              " 'U.S. 7Y',\n",
              " 'U.S. 5Y',\n",
              " 'U.S. 3Y',\n",
              " 'U.S. 3M',\n",
              " 'U.S. 1Y',\n",
              " 'U.S. 6M',\n",
              " 'U.S. 1M',\n",
              " 'U.S. 2Y']"
            ]
          },
          "metadata": {},
          "execution_count": 101
        }
      ]
    },
    {
      "cell_type": "code",
      "metadata": {
        "id": "MHMC6kaeI_t-",
        "colab": {
          "base_uri": "https://localhost:8080/"
        },
        "outputId": "d84514cb-6616-4dee-df15-71b9b6296dbb"
      },
      "source": [
        "Estados_unidos=inv.get_bond_recent_data(bond=\"U.S. 10Y\")\n",
        "Estados_unidos10=Estados_unidos[[\"Close\",\"Open\"]].tail()\n",
        "print(Estados_unidos10)"
      ],
      "execution_count": null,
      "outputs": [
        {
          "output_type": "stream",
          "name": "stdout",
          "text": [
            "            Close   Open\n",
            "Date                    \n",
            "2022-01-27  1.803  1.851\n",
            "2022-01-28  1.778  1.808\n",
            "2022-01-30  1.791  1.787\n",
            "2022-01-31  1.784  1.789\n",
            "2022-02-01  1.761  1.789\n"
          ]
        }
      ]
    },
    {
      "cell_type": "code",
      "source": [
        "Apertura_Estados_unidos = (Estados_unidos10.iat[4,1]) # Este comando esta extraer un valor especifico de un dataframe\n",
        "print(Apertura_Estados_unidos)"
      ],
      "metadata": {
        "id": "kzmvuiVPC9x4",
        "colab": {
          "base_uri": "https://localhost:8080/"
        },
        "outputId": "e303edeb-f127-4184-8756-ff9af85b92de"
      },
      "execution_count": null,
      "outputs": [
        {
          "output_type": "stream",
          "name": "stdout",
          "text": [
            "1.789\n"
          ]
        }
      ]
    },
    {
      "cell_type": "code",
      "source": [
        "Cierre_precio_anterior_Estados_unidos= Estados_unidos10.iat[3,0]\n",
        "print(Cierre_precio_anterior_Estados_unidos)"
      ],
      "metadata": {
        "id": "cqnrkpxWC98C",
        "colab": {
          "base_uri": "https://localhost:8080/"
        },
        "outputId": "f60a45f0-6eea-4f4a-adc2-9559726c5741"
      },
      "execution_count": null,
      "outputs": [
        {
          "output_type": "stream",
          "name": "stdout",
          "text": [
            "1.784\n"
          ]
        }
      ]
    },
    {
      "cell_type": "code",
      "source": [
        "Cierre_precio_anterior5dias_Estados_unidos = Estados_unidos10.iat[0,0]\n",
        "print(Cierre_precio_anterior5dias_Estados_unidos)"
      ],
      "metadata": {
        "id": "F4D9_yrlC-F3",
        "colab": {
          "base_uri": "https://localhost:8080/"
        },
        "outputId": "e6459329-505d-426e-d34e-ef563400dbe2"
      },
      "execution_count": null,
      "outputs": [
        {
          "output_type": "stream",
          "name": "stdout",
          "text": [
            "1.803\n"
          ]
        }
      ]
    },
    {
      "cell_type": "markdown",
      "metadata": {
        "id": "Xx6E7ZZEMCw8"
      },
      "source": [
        "**Alemania**"
      ]
    },
    {
      "cell_type": "code",
      "metadata": {
        "id": "HFHUq0OoMHJn",
        "colab": {
          "base_uri": "https://localhost:8080/"
        },
        "outputId": "cf9b4a9e-5c3b-4ecc-9bc6-db62bd29d58b"
      },
      "source": [
        "inv.get_bonds_list(\"germany\")"
      ],
      "execution_count": null,
      "outputs": [
        {
          "output_type": "execute_result",
          "data": {
            "text/plain": [
              "['Germany 10Y',\n",
              " 'Germany 9Y',\n",
              " 'Germany 15Y',\n",
              " 'Germany 8Y',\n",
              " 'Germany 25Y',\n",
              " 'Germany 30Y',\n",
              " 'Germany 20Y',\n",
              " 'Germany 7Y',\n",
              " 'Germany 1Y',\n",
              " 'Germany 5Y',\n",
              " 'Germany 4Y',\n",
              " 'Germany 3Y',\n",
              " 'Germany 2Y',\n",
              " 'Germany 6Y',\n",
              " 'Germany 9M',\n",
              " 'Germany 6M',\n",
              " 'Germany 3M']"
            ]
          },
          "metadata": {},
          "execution_count": 106
        }
      ]
    },
    {
      "cell_type": "code",
      "metadata": {
        "id": "hIG_YwWxOFJv",
        "colab": {
          "base_uri": "https://localhost:8080/"
        },
        "outputId": "71574e85-2c10-462b-fa87-01484400c1bd"
      },
      "source": [
        "Alemania=inv.get_bond_recent_data(bond=\"Germany 10Y\")\n",
        "Alemania10=Alemania[[\"Close\",\"Open\"]].tail()\n",
        "print(Alemania10)"
      ],
      "execution_count": null,
      "outputs": [
        {
          "output_type": "stream",
          "name": "stdout",
          "text": [
            "            Close    Open\n",
            "Date                     \n",
            "2022-01-26 -0.071 -0.0780\n",
            "2022-01-27 -0.057 -0.0600\n",
            "2022-01-28 -0.047 -0.0490\n",
            "2022-01-31  0.014 -0.0320\n",
            "2022-02-01 -0.001  0.0115\n"
          ]
        }
      ]
    },
    {
      "cell_type": "code",
      "source": [
        "Apertura_Alemania = (Alemania10.iat[4,1]) # Este comando esta extraer un valor especifico de un dataframe\n",
        "print(Apertura_Alemania)"
      ],
      "metadata": {
        "id": "4Ewopbl5DWmq",
        "colab": {
          "base_uri": "https://localhost:8080/"
        },
        "outputId": "d863bbdd-678e-400e-aa2d-ad0377b1f60f"
      },
      "execution_count": null,
      "outputs": [
        {
          "output_type": "stream",
          "name": "stdout",
          "text": [
            "0.0115\n"
          ]
        }
      ]
    },
    {
      "cell_type": "code",
      "source": [
        "Cierre_precio_anterior_Alemania= Alemania10.iat[3,0]\n",
        "print(Cierre_precio_anterior_Alemania)"
      ],
      "metadata": {
        "id": "52B6jIijDWxV",
        "colab": {
          "base_uri": "https://localhost:8080/"
        },
        "outputId": "faf002b6-4c82-49c5-948f-80933eaa0164"
      },
      "execution_count": null,
      "outputs": [
        {
          "output_type": "stream",
          "name": "stdout",
          "text": [
            "0.014\n"
          ]
        }
      ]
    },
    {
      "cell_type": "code",
      "source": [
        "Cierre_precio_anterior5dias_Alemania = Alemania10.iat[0,0]\n",
        "print(Cierre_precio_anterior5dias_Alemania)"
      ],
      "metadata": {
        "id": "YE0lgixBDW62",
        "colab": {
          "base_uri": "https://localhost:8080/"
        },
        "outputId": "374e4052-e1ac-4afc-d16e-891e3e2ebdb3"
      },
      "execution_count": null,
      "outputs": [
        {
          "output_type": "stream",
          "name": "stdout",
          "text": [
            "-0.071\n"
          ]
        }
      ]
    },
    {
      "cell_type": "markdown",
      "metadata": {
        "id": "JvQbI6OXMPKD"
      },
      "source": [
        "**Reino Unido**"
      ]
    },
    {
      "cell_type": "code",
      "metadata": {
        "id": "BEoxX7u1MViz",
        "colab": {
          "base_uri": "https://localhost:8080/"
        },
        "outputId": "2726f8ef-b3a0-4d9d-a9d9-d5aed3b7db7e"
      },
      "source": [
        "inv.get_bonds_list(\"United Kingdom\")"
      ],
      "execution_count": null,
      "outputs": [
        {
          "output_type": "execute_result",
          "data": {
            "text/plain": [
              "['U.K. 40Y',\n",
              " 'U.K. 50Y',\n",
              " 'U.K. 30Y',\n",
              " 'U.K. 25Y',\n",
              " 'U.K. 15Y',\n",
              " 'U.K. 12Y',\n",
              " 'U.K. 10Y',\n",
              " 'U.K. 9Y',\n",
              " 'U.K. 8Y',\n",
              " 'U.K. 20Y',\n",
              " 'U.K. 6Y',\n",
              " 'U.K. 5Y',\n",
              " 'U.K. 4Y',\n",
              " 'U.K. 3Y',\n",
              " 'U.K. 2Y',\n",
              " 'U.K. 1Y',\n",
              " 'U.K. 6M',\n",
              " 'U.K. 3M',\n",
              " 'U.K. 1M',\n",
              " 'U.K. 7Y']"
            ]
          },
          "metadata": {},
          "execution_count": 111
        }
      ]
    },
    {
      "cell_type": "code",
      "metadata": {
        "id": "mC1yyX36OLCh",
        "colab": {
          "base_uri": "https://localhost:8080/"
        },
        "outputId": "711b71b8-d5c0-454c-a28a-91bf11b52ceb"
      },
      "source": [
        "Reino_unido=inv.get_bond_recent_data(bond=\"U.K. 10Y\")\n",
        "Reino_unido10=Reino_unido[[\"Close\",\"Open\"]].tail()\n",
        "print(Reino_unido10)"
      ],
      "execution_count": null,
      "outputs": [
        {
          "output_type": "stream",
          "name": "stdout",
          "text": [
            "            Close    Open\n",
            "Date                     \n",
            "2022-01-28  1.244  1.2550\n",
            "2022-01-29  1.243  1.2430\n",
            "2022-01-30  1.245  1.2450\n",
            "2022-01-31  1.307  1.2445\n",
            "2022-02-01  1.280  1.3060\n"
          ]
        }
      ]
    },
    {
      "cell_type": "code",
      "source": [
        "Apertura_Reino_unido = (Reino_unido10.iat[4,1]) # Este comando esta extraer un valor especifico de un dataframe\n",
        "print(Apertura_Reino_unido)"
      ],
      "metadata": {
        "id": "ZTJulB0nDt9E",
        "colab": {
          "base_uri": "https://localhost:8080/"
        },
        "outputId": "d313d71a-3686-41dd-a63d-4e49d3e084f3"
      },
      "execution_count": null,
      "outputs": [
        {
          "output_type": "stream",
          "name": "stdout",
          "text": [
            "1.306\n"
          ]
        }
      ]
    },
    {
      "cell_type": "code",
      "source": [
        "Cierre_precio_anterior_Reino_unido= Reino_unido10.iat[3,0]\n",
        "print(Cierre_precio_anterior_Reino_unido)"
      ],
      "metadata": {
        "id": "l_1JjdsuDuGP",
        "colab": {
          "base_uri": "https://localhost:8080/"
        },
        "outputId": "7f214f97-7e05-4107-8733-990f9ad03fb7"
      },
      "execution_count": null,
      "outputs": [
        {
          "output_type": "stream",
          "name": "stdout",
          "text": [
            "1.307\n"
          ]
        }
      ]
    },
    {
      "cell_type": "code",
      "source": [
        "Cierre_precio_anterior5dias_Reino_unido= Reino_unido10.iat[0,0]\n",
        "print(Cierre_precio_anterior5dias_Reino_unido)"
      ],
      "metadata": {
        "id": "FW0YMHZVDuPH",
        "colab": {
          "base_uri": "https://localhost:8080/"
        },
        "outputId": "f2147f7d-f033-4108-b731-25707fa7fe8a"
      },
      "execution_count": null,
      "outputs": [
        {
          "output_type": "stream",
          "name": "stdout",
          "text": [
            "1.244\n"
          ]
        }
      ]
    },
    {
      "cell_type": "markdown",
      "metadata": {
        "id": "5Rm_c2tQMWOq"
      },
      "source": [
        "**Francia**"
      ]
    },
    {
      "cell_type": "code",
      "metadata": {
        "id": "TQOew382Max3",
        "colab": {
          "base_uri": "https://localhost:8080/"
        },
        "outputId": "084fe3c3-3dfe-4103-ad5a-56544c76931e"
      },
      "source": [
        "inv.get_bonds_list(\"france\")"
      ],
      "execution_count": null,
      "outputs": [
        {
          "output_type": "execute_result",
          "data": {
            "text/plain": [
              "['France 8Y',\n",
              " 'France 30Y',\n",
              " 'France 25Y',\n",
              " 'France 20Y',\n",
              " 'France 50Y',\n",
              " 'France 15Y',\n",
              " 'France 10Y',\n",
              " 'France 9Y',\n",
              " 'France 7Y',\n",
              " 'France 9M',\n",
              " 'France 5Y',\n",
              " 'France 4Y',\n",
              " 'France 3Y',\n",
              " 'France 2Y',\n",
              " 'France 1Y',\n",
              " 'France 6M',\n",
              " 'France 3M',\n",
              " 'France 1M',\n",
              " 'France 6Y']"
            ]
          },
          "metadata": {},
          "execution_count": 116
        }
      ]
    },
    {
      "cell_type": "code",
      "metadata": {
        "id": "vbqp_pyFOZG7",
        "colab": {
          "base_uri": "https://localhost:8080/"
        },
        "outputId": "662b9df0-512f-4c96-d368-5d7716a54a5e"
      },
      "source": [
        "Francia=inv.get_bond_recent_data(bond=\"France 10Y\")\n",
        "Francia10=Francia[[\"Close\",\"Open\"]].tail()\n",
        "print(Francia10)"
      ],
      "execution_count": null,
      "outputs": [
        {
          "output_type": "stream",
          "name": "stdout",
          "text": [
            "            Close   Open\n",
            "Date                    \n",
            "2022-01-26  0.345  0.327\n",
            "2022-01-27  0.345  0.374\n",
            "2022-01-28  0.365  0.360\n",
            "2022-01-31  0.427  0.373\n",
            "2022-02-01  0.415  0.423\n"
          ]
        }
      ]
    },
    {
      "cell_type": "code",
      "source": [
        "Apertura_Francia = (Francia10.iat[4,1]) # Este comando esta extraer un valor especifico de un dataframe\n",
        "print(Apertura_Francia)"
      ],
      "metadata": {
        "id": "sNn60xooEDY4",
        "colab": {
          "base_uri": "https://localhost:8080/"
        },
        "outputId": "b39a539f-9de9-468a-c505-c0482968e4e3"
      },
      "execution_count": null,
      "outputs": [
        {
          "output_type": "stream",
          "name": "stdout",
          "text": [
            "0.423\n"
          ]
        }
      ]
    },
    {
      "cell_type": "code",
      "source": [
        "Cierre_precio_anterior_Francia= Francia10.iat[3,0]\n",
        "print(Cierre_precio_anterior_Francia)"
      ],
      "metadata": {
        "id": "_hVcdQB-EDjG",
        "colab": {
          "base_uri": "https://localhost:8080/"
        },
        "outputId": "c347b3d9-7109-4615-a28a-4018e59a3b6e"
      },
      "execution_count": null,
      "outputs": [
        {
          "output_type": "stream",
          "name": "stdout",
          "text": [
            "0.427\n"
          ]
        }
      ]
    },
    {
      "cell_type": "code",
      "source": [
        "Cierre_precio_anterior5dias_Francia= Francia10.iat[0,0]\n",
        "print(Cierre_precio_anterior5dias_Francia)"
      ],
      "metadata": {
        "id": "TAPlRVSIEDqu",
        "colab": {
          "base_uri": "https://localhost:8080/"
        },
        "outputId": "6395d347-54dc-4c08-f03d-59a42f0b63f6"
      },
      "execution_count": null,
      "outputs": [
        {
          "output_type": "stream",
          "name": "stdout",
          "text": [
            "0.345\n"
          ]
        }
      ]
    },
    {
      "cell_type": "markdown",
      "metadata": {
        "id": "PUrwzaETMbHL"
      },
      "source": [
        "**Italia**"
      ]
    },
    {
      "cell_type": "code",
      "metadata": {
        "id": "THR85NXtNIne",
        "colab": {
          "base_uri": "https://localhost:8080/"
        },
        "outputId": "9f4196f8-591d-4f78-f5b9-6fa6c30748ff"
      },
      "source": [
        "inv.get_bonds_list(\"Italy\")"
      ],
      "execution_count": null,
      "outputs": [
        {
          "output_type": "execute_result",
          "data": {
            "text/plain": [
              "['Italy 50Y',\n",
              " 'Italy 30Y',\n",
              " 'Italy 20Y',\n",
              " 'Italy 15Y',\n",
              " 'Italy 10Y',\n",
              " 'Italy 9Y',\n",
              " 'Italy 8Y',\n",
              " 'Italy 6Y',\n",
              " 'Italy 7Y',\n",
              " 'Italy 4Y',\n",
              " 'Italy 5Y',\n",
              " 'Italy 3M',\n",
              " 'Italy 6M',\n",
              " 'Italy 9M',\n",
              " 'Italy 1M',\n",
              " 'Italy 2Y',\n",
              " 'Italy 3Y',\n",
              " 'Italy 1Y']"
            ]
          },
          "metadata": {},
          "execution_count": 121
        }
      ]
    },
    {
      "cell_type": "code",
      "metadata": {
        "id": "FyMZ1B9COZ5f",
        "colab": {
          "base_uri": "https://localhost:8080/"
        },
        "outputId": "f3a9a7b7-0cb8-4c7e-da1e-fdc774142177"
      },
      "source": [
        "Italia=inv.get_bond_recent_data(bond=\"Italy 10Y\")\n",
        "Italia10=Italia[[\"Close\",\"Open\"]].tail()\n",
        "print(Italia10)"
      ],
      "execution_count": null,
      "outputs": [
        {
          "output_type": "stream",
          "name": "stdout",
          "text": [
            "            Close   Open\n",
            "Date                    \n",
            "2022-01-26  1.397  1.353\n",
            "2022-01-27  1.360  1.452\n",
            "2022-01-28  1.349  1.399\n",
            "2022-01-31  1.368  1.300\n",
            "2022-02-01  1.373  1.367\n"
          ]
        }
      ]
    },
    {
      "cell_type": "code",
      "source": [
        "Apertura_Italia = (Italia10.iat[4,1]) # Este comando esta extraer un valor especifico de un dataframe\n",
        "print(Apertura_Italia)"
      ],
      "metadata": {
        "id": "xfocX2P9FUWU",
        "colab": {
          "base_uri": "https://localhost:8080/"
        },
        "outputId": "22d365bc-d6cd-4879-8d7a-cddacece4ae9"
      },
      "execution_count": null,
      "outputs": [
        {
          "output_type": "stream",
          "name": "stdout",
          "text": [
            "1.367\n"
          ]
        }
      ]
    },
    {
      "cell_type": "code",
      "source": [
        "Cierre_precio_anterior_Italia= Italia10.iat[3,0]\n",
        "print(Cierre_precio_anterior_Italia)"
      ],
      "metadata": {
        "id": "h0QpwRycFUg3",
        "colab": {
          "base_uri": "https://localhost:8080/"
        },
        "outputId": "68af9412-4798-4303-96d6-2ef68e41ff9b"
      },
      "execution_count": null,
      "outputs": [
        {
          "output_type": "stream",
          "name": "stdout",
          "text": [
            "1.368\n"
          ]
        }
      ]
    },
    {
      "cell_type": "code",
      "source": [
        "Cierre_precio_anterior5dias_Italia= Italia10.iat[0,0]\n",
        "print(Cierre_precio_anterior5dias_Italia)"
      ],
      "metadata": {
        "id": "Lod0vaJZFUsQ",
        "colab": {
          "base_uri": "https://localhost:8080/"
        },
        "outputId": "5508ab16-b275-466d-e60f-c35497219b26"
      },
      "execution_count": null,
      "outputs": [
        {
          "output_type": "stream",
          "name": "stdout",
          "text": [
            "1.397\n"
          ]
        }
      ]
    },
    {
      "cell_type": "markdown",
      "metadata": {
        "id": "o5yfHBEuMfjM"
      },
      "source": [
        "**Japon**"
      ]
    },
    {
      "cell_type": "code",
      "metadata": {
        "id": "mazN_e0qNJJu",
        "colab": {
          "base_uri": "https://localhost:8080/"
        },
        "outputId": "0fda8dd3-d377-45bd-9075-41683d04d797"
      },
      "source": [
        "inv.get_bonds_list(\"japan\")"
      ],
      "execution_count": null,
      "outputs": [
        {
          "output_type": "execute_result",
          "data": {
            "text/plain": [
              "['Japan 7Y',\n",
              " 'Japan 30Y',\n",
              " 'Japan 20Y',\n",
              " 'Japan 15Y',\n",
              " 'Japan 10Y',\n",
              " 'Japan 9Y',\n",
              " 'Japan 8Y',\n",
              " 'Japan 6Y',\n",
              " 'Japan 40Y',\n",
              " 'Japan 4Y',\n",
              " 'Japan 3Y',\n",
              " 'Japan 2Y',\n",
              " 'Japan 1Y',\n",
              " 'Japan 9M',\n",
              " 'Japan 6M',\n",
              " 'Japan 3M',\n",
              " 'Japan 1M',\n",
              " 'Japan 5Y']"
            ]
          },
          "metadata": {},
          "execution_count": 126
        }
      ]
    },
    {
      "cell_type": "code",
      "metadata": {
        "id": "MARdyCtVOalS",
        "colab": {
          "base_uri": "https://localhost:8080/"
        },
        "outputId": "836156c4-6bc7-4161-89d7-b9504201e406"
      },
      "source": [
        "Japon=inv.get_bond_recent_data(bond=\"Japan 10Y\")\n",
        "Japon10=Japon[[\"Close\",\"Open\"]].tail()\n",
        "print(Japon10)"
      ],
      "execution_count": null,
      "outputs": [
        {
          "output_type": "stream",
          "name": "stdout",
          "text": [
            "            Close   Open\n",
            "Date                    \n",
            "2022-01-27  0.158  0.146\n",
            "2022-01-28  0.164  0.152\n",
            "2022-01-30  0.162  0.163\n",
            "2022-01-31  0.174  0.165\n",
            "2022-02-01  0.178  0.176\n"
          ]
        }
      ]
    },
    {
      "cell_type": "code",
      "source": [
        "Apertura_Japon = (Japon10.iat[4,1]) # Este comando esta extraer un valor especifico de un dataframe\n",
        "print(Apertura_Japon)"
      ],
      "metadata": {
        "id": "DzfibM7cFqjL",
        "colab": {
          "base_uri": "https://localhost:8080/"
        },
        "outputId": "bd95d04a-7d27-42a8-f4b0-afa08ae07583"
      },
      "execution_count": null,
      "outputs": [
        {
          "output_type": "stream",
          "name": "stdout",
          "text": [
            "0.176\n"
          ]
        }
      ]
    },
    {
      "cell_type": "code",
      "source": [
        "Cierre_precio_anterior_Japon= Japon10.iat[3,0]\n",
        "print(Cierre_precio_anterior_Japon)"
      ],
      "metadata": {
        "id": "ovybVuFeFqug",
        "colab": {
          "base_uri": "https://localhost:8080/"
        },
        "outputId": "160cf6f7-bd43-4ad7-f661-091f257848a0"
      },
      "execution_count": null,
      "outputs": [
        {
          "output_type": "stream",
          "name": "stdout",
          "text": [
            "0.174\n"
          ]
        }
      ]
    },
    {
      "cell_type": "code",
      "source": [
        "Cierre_precio_anterior5dias_Japon= Japon10.iat[0,0]\n",
        "print(Cierre_precio_anterior5dias_Japon)"
      ],
      "metadata": {
        "id": "AFYsmDMCFq4U",
        "colab": {
          "base_uri": "https://localhost:8080/"
        },
        "outputId": "22db331f-272d-410c-e141-998391388215"
      },
      "execution_count": null,
      "outputs": [
        {
          "output_type": "stream",
          "name": "stdout",
          "text": [
            "0.158\n"
          ]
        }
      ]
    },
    {
      "cell_type": "markdown",
      "metadata": {
        "id": "rKK9TQ7kMjRD"
      },
      "source": [
        "**Latinoamerica**"
      ]
    },
    {
      "cell_type": "markdown",
      "metadata": {
        "id": "LNiOh-Z9MpBj"
      },
      "source": [
        "**Brasil**"
      ]
    },
    {
      "cell_type": "code",
      "metadata": {
        "id": "zcnN1t2fNKU9",
        "colab": {
          "base_uri": "https://localhost:8080/"
        },
        "outputId": "c51868c5-e1dc-45b8-8182-32b930e38c9f"
      },
      "source": [
        "inv.get_bonds_list(\"Brazil\")"
      ],
      "execution_count": null,
      "outputs": [
        {
          "output_type": "execute_result",
          "data": {
            "text/plain": [
              "['Brazil 3M',\n",
              " 'Brazil 6M',\n",
              " 'Brazil 9M',\n",
              " 'Brazil 1Y',\n",
              " 'Brazil 2Y',\n",
              " 'Brazil 3Y',\n",
              " 'Brazil 5Y',\n",
              " 'Brazil 8Y',\n",
              " 'Brazil 10Y']"
            ]
          },
          "metadata": {},
          "execution_count": 131
        }
      ]
    },
    {
      "cell_type": "code",
      "metadata": {
        "id": "-k_ScMydObo7",
        "colab": {
          "base_uri": "https://localhost:8080/"
        },
        "outputId": "b842db4c-c353-4bce-9edb-083757a0fc46"
      },
      "source": [
        "Brazil=inv.get_bond_recent_data(bond=\"Brazil 10Y\")\n",
        "Brazil10=Brazil[[\"Close\",\"Open\"]].tail()\n",
        "print(Brazil10)"
      ],
      "execution_count": null,
      "outputs": [
        {
          "output_type": "stream",
          "name": "stdout",
          "text": [
            "             Close    Open\n",
            "Date                      \n",
            "2022-01-25  11.435  11.435\n",
            "2022-01-26  11.330  11.330\n",
            "2022-01-27  11.495  11.495\n",
            "2022-01-28  11.110  11.495\n",
            "2022-01-31  11.032  11.421\n"
          ]
        }
      ]
    },
    {
      "cell_type": "code",
      "source": [
        "Apertura_Brazil = (Brazil10.iat[4,1]) # Este comando esta extraer un valor especifico de un dataframe\n",
        "print(Apertura_Brazil)"
      ],
      "metadata": {
        "id": "lhfNBy5IGEDU",
        "colab": {
          "base_uri": "https://localhost:8080/"
        },
        "outputId": "5269abf7-7925-46a1-cb43-2cf1d8ae2d7e"
      },
      "execution_count": null,
      "outputs": [
        {
          "output_type": "stream",
          "name": "stdout",
          "text": [
            "11.421\n"
          ]
        }
      ]
    },
    {
      "cell_type": "code",
      "source": [
        "Cierre_precio_anterior_Brazil= Brazil10.iat[3,0]\n",
        "print(Cierre_precio_anterior_Brazil)"
      ],
      "metadata": {
        "id": "U6Orzg2FGENo",
        "colab": {
          "base_uri": "https://localhost:8080/"
        },
        "outputId": "8f44a8fe-d678-4dd5-a96e-6a5629a018f9"
      },
      "execution_count": null,
      "outputs": [
        {
          "output_type": "stream",
          "name": "stdout",
          "text": [
            "11.11\n"
          ]
        }
      ]
    },
    {
      "cell_type": "code",
      "source": [
        "Cierre_precio_anterior5dias_Brazil= Brazil10.iat[0,0]\n",
        "print(Cierre_precio_anterior5dias_Brazil)"
      ],
      "metadata": {
        "id": "N9r_R7NDGEYL",
        "colab": {
          "base_uri": "https://localhost:8080/"
        },
        "outputId": "86c2a386-d856-41da-af89-7e1e0b9280ab"
      },
      "execution_count": null,
      "outputs": [
        {
          "output_type": "stream",
          "name": "stdout",
          "text": [
            "11.435\n"
          ]
        }
      ]
    },
    {
      "cell_type": "markdown",
      "metadata": {
        "id": "dcIOm9liMtFJ"
      },
      "source": [
        "**Mexico**"
      ]
    },
    {
      "cell_type": "code",
      "metadata": {
        "id": "EYHQ5xwvNK-c",
        "colab": {
          "base_uri": "https://localhost:8080/"
        },
        "outputId": "4a648591-d339-49c1-99a2-b41a2f2330ce"
      },
      "source": [
        "inv.get_bonds_list(\"Mexico\")"
      ],
      "execution_count": null,
      "outputs": [
        {
          "output_type": "execute_result",
          "data": {
            "text/plain": [
              "['Mexico 7Y',\n",
              " 'Mexico 30Y',\n",
              " 'Mexico 20Y',\n",
              " 'Mexico 15Y',\n",
              " 'Mexico 10Y',\n",
              " 'Mexico 5Y',\n",
              " 'Mexico 1Y',\n",
              " 'Mexico 9M',\n",
              " 'Mexico 3M',\n",
              " 'Mexico 1M',\n",
              " 'Mexico 3Y',\n",
              " 'Mexico 6M']"
            ]
          },
          "metadata": {},
          "execution_count": 136
        }
      ]
    },
    {
      "cell_type": "code",
      "metadata": {
        "id": "RDhFio2sOcSx",
        "colab": {
          "base_uri": "https://localhost:8080/"
        },
        "outputId": "7524630c-a57b-41bb-8d60-adeef24bf352"
      },
      "source": [
        "Mexico=inv.get_bond_recent_data(bond=\"Mexico 10Y\")\n",
        "Mexico10=Mexico[[\"Close\",\"Open\"]].tail()\n",
        "print(Mexico10)"
      ],
      "execution_count": null,
      "outputs": [
        {
          "output_type": "stream",
          "name": "stdout",
          "text": [
            "            Close   Open\n",
            "Date                    \n",
            "2022-01-26  7.676  7.617\n",
            "2022-01-27  7.691  7.726\n",
            "2022-01-28  7.696  7.689\n",
            "2022-01-31  7.915  7.943\n",
            "2022-02-01  7.928  7.928\n"
          ]
        }
      ]
    },
    {
      "cell_type": "code",
      "source": [
        "Apertura_Mexico = (Mexico10.iat[4,1]) # Este comando esta extraer un valor especifico de un dataframe\n",
        "print(Apertura_Mexico)"
      ],
      "metadata": {
        "id": "kg72v1OPGeux",
        "colab": {
          "base_uri": "https://localhost:8080/"
        },
        "outputId": "7644a3b1-b361-4439-c4fc-240e1641cd7e"
      },
      "execution_count": null,
      "outputs": [
        {
          "output_type": "stream",
          "name": "stdout",
          "text": [
            "7.928\n"
          ]
        }
      ]
    },
    {
      "cell_type": "code",
      "source": [
        "Cierre_precio_anterior_Mexico= Mexico10.iat[3,0]\n",
        "print(Cierre_precio_anterior_Mexico)"
      ],
      "metadata": {
        "id": "ythoTfhxGe4z",
        "colab": {
          "base_uri": "https://localhost:8080/"
        },
        "outputId": "ebc188c1-684c-433d-cd7a-7cd8acb5cf81"
      },
      "execution_count": null,
      "outputs": [
        {
          "output_type": "stream",
          "name": "stdout",
          "text": [
            "7.915\n"
          ]
        }
      ]
    },
    {
      "cell_type": "code",
      "source": [
        "Cierre_precio_anterior5dias_Mexico= Mexico10.iat[0,0]\n",
        "print(Cierre_precio_anterior5dias_Mexico)"
      ],
      "metadata": {
        "id": "a9Dqf1ERGfA_",
        "colab": {
          "base_uri": "https://localhost:8080/"
        },
        "outputId": "19d92cb4-146a-477e-8a8c-34163b29789d"
      },
      "execution_count": null,
      "outputs": [
        {
          "output_type": "stream",
          "name": "stdout",
          "text": [
            "7.676\n"
          ]
        }
      ]
    },
    {
      "cell_type": "markdown",
      "metadata": {
        "id": "2MwZpJvRMv9O"
      },
      "source": [
        "**Chile**"
      ]
    },
    {
      "cell_type": "code",
      "metadata": {
        "id": "ypZ9JmNENLZm",
        "colab": {
          "base_uri": "https://localhost:8080/"
        },
        "outputId": "1c21a73f-0b17-4eb6-c3e0-1c26dc329cbe"
      },
      "source": [
        "inv.get_bonds_list(\"chile\")"
      ],
      "execution_count": null,
      "outputs": [
        {
          "output_type": "execute_result",
          "data": {
            "text/plain": [
              "['Chile 10Y',\n",
              " 'Chile 8Y',\n",
              " 'Chile 5Y',\n",
              " 'Chile 3Y',\n",
              " 'Chile 2Y',\n",
              " 'Chile 1Y',\n",
              " 'Chile 4Y']"
            ]
          },
          "metadata": {},
          "execution_count": 141
        }
      ]
    },
    {
      "cell_type": "code",
      "metadata": {
        "id": "4WoEuevrOc74",
        "colab": {
          "base_uri": "https://localhost:8080/"
        },
        "outputId": "4c95d3d2-0e00-467c-d505-b6406d148b09"
      },
      "source": [
        "Chile=inv.get_bond_recent_data(bond=\"Chile 10Y\")\n",
        "Chile10=Chile[[\"Close\",\"Open\"]].tail()\n",
        "print(Chile10)"
      ],
      "execution_count": null,
      "outputs": [
        {
          "output_type": "stream",
          "name": "stdout",
          "text": [
            "            Close  Open\n",
            "Date                   \n",
            "2022-01-25   5.84  5.84\n",
            "2022-01-26   5.87  5.87\n",
            "2022-01-27   5.94  5.94\n",
            "2022-01-28   5.92  5.92\n",
            "2022-01-31   5.82  5.82\n"
          ]
        }
      ]
    },
    {
      "cell_type": "code",
      "source": [
        "Apertura_Chile = (Chile10.iat[4,1]) # Este comando esta extraer un valor especifico de un dataframe\n",
        "print(Apertura_Chile)"
      ],
      "metadata": {
        "id": "o8Rp_a7UG0w1",
        "colab": {
          "base_uri": "https://localhost:8080/"
        },
        "outputId": "cda3c2fc-3293-4f04-d082-572afbc3b80f"
      },
      "execution_count": null,
      "outputs": [
        {
          "output_type": "stream",
          "name": "stdout",
          "text": [
            "5.82\n"
          ]
        }
      ]
    },
    {
      "cell_type": "code",
      "source": [
        "Cierre_precio_anterior_Chile = Chile10.iat[3,0]\n",
        "print(Cierre_precio_anterior_Chile)"
      ],
      "metadata": {
        "id": "P_wjDNciG1AR",
        "colab": {
          "base_uri": "https://localhost:8080/"
        },
        "outputId": "0ad1e6ae-1dad-48f2-8808-49f26798c674"
      },
      "execution_count": null,
      "outputs": [
        {
          "output_type": "stream",
          "name": "stdout",
          "text": [
            "5.92\n"
          ]
        }
      ]
    },
    {
      "cell_type": "code",
      "source": [
        "Cierre_precio_anterior5dias_Chile= Chile10.iat[0,0]\n",
        "print(Cierre_precio_anterior5dias_Chile)"
      ],
      "metadata": {
        "id": "nLTEmsZeG1Jx",
        "colab": {
          "base_uri": "https://localhost:8080/"
        },
        "outputId": "a4bb4d4c-3523-4b69-97b7-5d9e53fa6c31"
      },
      "execution_count": null,
      "outputs": [
        {
          "output_type": "stream",
          "name": "stdout",
          "text": [
            "5.84\n"
          ]
        }
      ]
    },
    {
      "cell_type": "markdown",
      "metadata": {
        "id": "vx8eKrtGM1f0"
      },
      "source": [
        "**Argentina**"
      ]
    },
    {
      "cell_type": "code",
      "metadata": {
        "id": "hGlkCxvoNL-d",
        "colab": {
          "base_uri": "https://localhost:8080/"
        },
        "outputId": "89c8214d-4f23-45fe-bac4-d04a234e773f"
      },
      "source": [
        "inv.get_bonds_list(\"argentina\")"
      ],
      "execution_count": null,
      "outputs": [
        {
          "output_type": "execute_result",
          "data": {
            "text/plain": [
              "['Argentina 1Y', 'Argentina 3Y', 'Argentina 5Y', 'Argentina 9Y']"
            ]
          },
          "metadata": {},
          "execution_count": 146
        }
      ]
    },
    {
      "cell_type": "code",
      "metadata": {
        "id": "j1l9S9lEOdpr",
        "colab": {
          "base_uri": "https://localhost:8080/"
        },
        "outputId": "820accb0-8ecb-4595-84c4-c7859c2c0658"
      },
      "source": [
        "Argentina=inv.get_bond_recent_data(bond=\"Argentina 1Y\")\n",
        "Argentina10=Argentina[[\"Close\",\"Open\"]].tail()\n",
        "print(Argentina10)"
      ],
      "execution_count": null,
      "outputs": [
        {
          "output_type": "stream",
          "name": "stdout",
          "text": [
            "            Close   Open\n",
            "Date                    \n",
            "2022-01-25  38.17  39.99\n",
            "2022-01-26  39.22  38.85\n",
            "2022-01-27  39.86  42.22\n",
            "2022-01-28  37.10  40.62\n",
            "2022-01-31  32.82  31.81\n"
          ]
        }
      ]
    },
    {
      "cell_type": "code",
      "source": [
        "Apertura_Argentina = (Argentina10.iat[4,1]) # Este comando esta extraer un valor especifico de un dataframe\n",
        "print(Apertura_Argentina)"
      ],
      "metadata": {
        "id": "cttXTJmQHHBz",
        "colab": {
          "base_uri": "https://localhost:8080/"
        },
        "outputId": "9a904985-07d2-4515-caac-e25f13af5049"
      },
      "execution_count": null,
      "outputs": [
        {
          "output_type": "stream",
          "name": "stdout",
          "text": [
            "31.81\n"
          ]
        }
      ]
    },
    {
      "cell_type": "code",
      "source": [
        "Cierre_precio_anterior_Argentina = Argentina10.iat[3,0]\n",
        "print(Cierre_precio_anterior_Argentina)"
      ],
      "metadata": {
        "id": "4h4X0qkXHHL6",
        "colab": {
          "base_uri": "https://localhost:8080/"
        },
        "outputId": "7a6875b8-1596-400d-cc67-148ac96df95b"
      },
      "execution_count": null,
      "outputs": [
        {
          "output_type": "stream",
          "name": "stdout",
          "text": [
            "37.1\n"
          ]
        }
      ]
    },
    {
      "cell_type": "code",
      "source": [
        "Cierre_precio_anterior5dias_Argentina= Argentina10.iat[0,0]\n",
        "print(Cierre_precio_anterior5dias_Argentina)"
      ],
      "metadata": {
        "id": "qYe67y7YHHTf",
        "colab": {
          "base_uri": "https://localhost:8080/"
        },
        "outputId": "d2493ee5-be9f-4837-bfd6-7ea6b904d59c"
      },
      "execution_count": null,
      "outputs": [
        {
          "output_type": "stream",
          "name": "stdout",
          "text": [
            "38.17\n"
          ]
        }
      ]
    },
    {
      "cell_type": "markdown",
      "metadata": {
        "id": "2_RdJM4JM8de"
      },
      "source": [
        "**Colombia**"
      ]
    },
    {
      "cell_type": "code",
      "metadata": {
        "id": "7_3UzmQ4M_zn",
        "colab": {
          "base_uri": "https://localhost:8080/"
        },
        "outputId": "dbcbbcf6-fb2d-482e-b0ff-869fa93bece6"
      },
      "source": [
        "inv.get_bonds_list(\"colombia\")"
      ],
      "execution_count": null,
      "outputs": [
        {
          "output_type": "execute_result",
          "data": {
            "text/plain": [
              "['Colombia 1Y', 'Colombia 4Y', 'Colombia 5Y', 'Colombia 10Y', 'Colombia 15Y']"
            ]
          },
          "metadata": {},
          "execution_count": 151
        }
      ]
    },
    {
      "cell_type": "code",
      "metadata": {
        "id": "0lbAXwJ6OePv",
        "colab": {
          "base_uri": "https://localhost:8080/"
        },
        "outputId": "7b21fa7d-2801-4f28-b563-f6265150aa75"
      },
      "source": [
        "Colombia=inv.get_bond_recent_data(bond=\"Colombia 10Y\")\n",
        "Colombia10=Colombia[[\"Close\",\"Open\"]].tail()\n",
        "print(Colombia10)"
      ],
      "execution_count": null,
      "outputs": [
        {
          "output_type": "stream",
          "name": "stdout",
          "text": [
            "            Close   Open\n",
            "Date                    \n",
            "2022-01-27  8.933  8.939\n",
            "2022-01-28  8.900  8.957\n",
            "2022-01-29  8.900  8.900\n",
            "2022-01-30  8.900  8.900\n",
            "2022-01-31  8.900  9.001\n"
          ]
        }
      ]
    },
    {
      "cell_type": "code",
      "source": [
        "Apertura_Colombia = (Colombia10.iat[4,1]) # Este comando esta extraer un valor especifico de un dataframe\n",
        "print(Apertura_Colombia)"
      ],
      "metadata": {
        "id": "XNJaBpHFHdNO",
        "colab": {
          "base_uri": "https://localhost:8080/"
        },
        "outputId": "24e75502-929e-440a-860d-0ec5a26ba3c0"
      },
      "execution_count": null,
      "outputs": [
        {
          "output_type": "stream",
          "name": "stdout",
          "text": [
            "9.001\n"
          ]
        }
      ]
    },
    {
      "cell_type": "code",
      "source": [
        "Cierre_precio_anterior_Colombia = Colombia10.iat[3,0]\n",
        "print(Cierre_precio_anterior_Colombia)"
      ],
      "metadata": {
        "id": "aFSWczUhHdX3",
        "colab": {
          "base_uri": "https://localhost:8080/"
        },
        "outputId": "b0e4c215-8749-49a3-83c4-ec027960274c"
      },
      "execution_count": null,
      "outputs": [
        {
          "output_type": "stream",
          "name": "stdout",
          "text": [
            "8.9\n"
          ]
        }
      ]
    },
    {
      "cell_type": "code",
      "source": [
        "Cierre_precio_anterior5dias_Colombia= Colombia10.iat[0,0]\n",
        "print(Cierre_precio_anterior5dias_Colombia)"
      ],
      "metadata": {
        "id": "8_MV_uriHdb3",
        "colab": {
          "base_uri": "https://localhost:8080/"
        },
        "outputId": "f0663db9-bac3-40ea-8c81-6f2fef8380f2"
      },
      "execution_count": null,
      "outputs": [
        {
          "output_type": "stream",
          "name": "stdout",
          "text": [
            "8.933\n"
          ]
        }
      ]
    },
    {
      "cell_type": "markdown",
      "metadata": {
        "id": "5-oNZkdGNAKX"
      },
      "source": [
        "**Peru** "
      ]
    },
    {
      "cell_type": "code",
      "metadata": {
        "id": "LMJ4nNWXNHAp",
        "colab": {
          "base_uri": "https://localhost:8080/"
        },
        "outputId": "b98a7b5d-3b19-4b19-8248-253c56954f1f"
      },
      "source": [
        "inv.get_bonds_list(\"peru\")"
      ],
      "execution_count": null,
      "outputs": [
        {
          "output_type": "execute_result",
          "data": {
            "text/plain": [
              "['Peru 2Y', 'Peru 5Y', 'Peru 10Y', 'Peru 15Y', 'Peru 20Y', 'Peru 30Y']"
            ]
          },
          "metadata": {},
          "execution_count": 156
        }
      ]
    },
    {
      "cell_type": "code",
      "metadata": {
        "id": "bahdqkDZOe0U",
        "colab": {
          "base_uri": "https://localhost:8080/"
        },
        "outputId": "bab2c4e9-ab6e-4187-b15e-e0b3f4d1e8b7"
      },
      "source": [
        "Peru=inv.get_bond_recent_data(bond=\"Peru 10Y\")\n",
        "Peru10=Peru[[\"Close\",\"Open\"]].tail()\n",
        "print(Peru10)"
      ],
      "execution_count": null,
      "outputs": [
        {
          "output_type": "stream",
          "name": "stdout",
          "text": [
            "            Close   Open\n",
            "Date                    \n",
            "2022-01-21  6.053  6.053\n",
            "2022-01-25  6.087  6.056\n",
            "2022-01-26  6.090  6.090\n",
            "2022-01-28  6.110  6.100\n",
            "2022-01-31  6.126  6.126\n"
          ]
        }
      ]
    },
    {
      "cell_type": "code",
      "source": [
        "Apertura_Peru = (Peru10.iat[4,1]) # Este comando esta extraer un valor especifico de un dataframe\n",
        "print(Apertura_Peru)"
      ],
      "metadata": {
        "id": "ECSHOybZHy6v",
        "colab": {
          "base_uri": "https://localhost:8080/"
        },
        "outputId": "c4f41a18-f490-45ce-e0bc-7769e98a036d"
      },
      "execution_count": null,
      "outputs": [
        {
          "output_type": "stream",
          "name": "stdout",
          "text": [
            "6.126\n"
          ]
        }
      ]
    },
    {
      "cell_type": "code",
      "source": [
        "Cierre_precio_anterior_Peru = Peru10.iat[3,0]\n",
        "print(Cierre_precio_anterior_Peru)"
      ],
      "metadata": {
        "id": "_Bd8qR4eHzBK",
        "colab": {
          "base_uri": "https://localhost:8080/"
        },
        "outputId": "e69f22a9-e909-4c76-d16b-02e6d22e329d"
      },
      "execution_count": null,
      "outputs": [
        {
          "output_type": "stream",
          "name": "stdout",
          "text": [
            "6.11\n"
          ]
        }
      ]
    },
    {
      "cell_type": "code",
      "source": [
        "Cierre_precio_anterior5dias_Peru= Peru10.iat[0,0]\n",
        "print(Cierre_precio_anterior5dias_Peru)"
      ],
      "metadata": {
        "id": "Lh7SBvlCHzV1",
        "colab": {
          "base_uri": "https://localhost:8080/"
        },
        "outputId": "02013ac3-c572-4783-8142-77e756d446d0"
      },
      "execution_count": null,
      "outputs": [
        {
          "output_type": "stream",
          "name": "stdout",
          "text": [
            "6.053\n"
          ]
        }
      ]
    },
    {
      "cell_type": "markdown",
      "metadata": {
        "id": "g93HhYTUNuSo"
      },
      "source": [
        "**Monedas**"
      ]
    },
    {
      "cell_type": "markdown",
      "metadata": {
        "id": "6G9b8ApkNw5_"
      },
      "source": [
        "**Dolar**"
      ]
    },
    {
      "cell_type": "code",
      "metadata": {
        "id": "rU_iqnjGN8KG",
        "colab": {
          "base_uri": "https://localhost:8080/"
        },
        "outputId": "27fab51c-8c84-48cb-b6d1-d70f7cbba6b6"
      },
      "source": [
        "Dolar=inv.get_currency_cross_recent_data(\"USD/COP\")\n",
        "Dolar10=Dolar[[\"Close\",\"Open\"]].tail()\n",
        "print(Dolar10)"
      ],
      "execution_count": null,
      "outputs": [
        {
          "output_type": "stream",
          "name": "stdout",
          "text": [
            "              Close     Open\n",
            "Date                        \n",
            "2022-01-26  3924.22  3968.15\n",
            "2022-01-27  3956.63  3930.00\n",
            "2022-01-28  3951.63  3963.00\n",
            "2022-01-31  3941.41  3958.00\n",
            "2022-02-01  3947.78  3947.78\n"
          ]
        }
      ]
    },
    {
      "cell_type": "code",
      "source": [
        "Apertura_Dolar = (Dolar10.iat[4,1]) # Este comando esta extraer un valor especifico de un dataframe\n",
        "print(Apertura_Dolar)"
      ],
      "metadata": {
        "id": "AAX1Sm5TIG67",
        "colab": {
          "base_uri": "https://localhost:8080/"
        },
        "outputId": "6c4b1fd6-516a-4c88-b091-519505c92498"
      },
      "execution_count": null,
      "outputs": [
        {
          "output_type": "stream",
          "name": "stdout",
          "text": [
            "3947.78\n"
          ]
        }
      ]
    },
    {
      "cell_type": "code",
      "source": [
        "Cierre_precio_anterior_Dolar = Dolar10.iat[3,0]\n",
        "print(Cierre_precio_anterior_Dolar)"
      ],
      "metadata": {
        "id": "m-WxtkLVIHrc",
        "colab": {
          "base_uri": "https://localhost:8080/"
        },
        "outputId": "0db4f057-0eb3-49dc-f7dc-a0138b1bad49"
      },
      "execution_count": null,
      "outputs": [
        {
          "output_type": "stream",
          "name": "stdout",
          "text": [
            "3941.41\n"
          ]
        }
      ]
    },
    {
      "cell_type": "code",
      "source": [
        "Cierre_precio_anterior5dias_Dolar= Dolar10.iat[0,0]\n",
        "print(Cierre_precio_anterior5dias_Dolar)"
      ],
      "metadata": {
        "id": "9yHnc83PIH1a",
        "colab": {
          "base_uri": "https://localhost:8080/"
        },
        "outputId": "da4fbe09-bb0c-42e8-dc9a-0d11f4cf42e3"
      },
      "execution_count": null,
      "outputs": [
        {
          "output_type": "stream",
          "name": "stdout",
          "text": [
            "3924.22\n"
          ]
        }
      ]
    },
    {
      "cell_type": "markdown",
      "metadata": {
        "id": "LEJ-am6_N39V"
      },
      "source": [
        "**Euro**"
      ]
    },
    {
      "cell_type": "code",
      "metadata": {
        "id": "rp8ZBd0ON8z8",
        "colab": {
          "base_uri": "https://localhost:8080/"
        },
        "outputId": "a21a4348-0616-4e12-a2aa-f16ad93321d7"
      },
      "source": [
        "Euro=inv.get_currency_cross_recent_data(\"EUR/COP\")\n",
        "Euro10=Euro[[\"Close\",\"Open\"]].tail()\n",
        "print(Euro10)"
      ],
      "execution_count": null,
      "outputs": [
        {
          "output_type": "stream",
          "name": "stdout",
          "text": [
            "             Close    Open\n",
            "Date                      \n",
            "2022-01-26  4410.0  4484.0\n",
            "2022-01-27  4409.0  4417.5\n",
            "2022-01-28  4403.0  4417.0\n",
            "2022-01-31  4427.0  4411.0\n",
            "2022-02-01  4448.5  4433.5\n"
          ]
        }
      ]
    },
    {
      "cell_type": "code",
      "source": [
        "Apertura_Euro = (Euro10.iat[4,1]) # Este comando esta extraer un valor especifico de un dataframe\n",
        "print(Apertura_Euro)"
      ],
      "metadata": {
        "id": "Buzj53lQIa70",
        "colab": {
          "base_uri": "https://localhost:8080/"
        },
        "outputId": "62e5baad-b98d-48ee-c4ae-99ba4b42ce14"
      },
      "execution_count": null,
      "outputs": [
        {
          "output_type": "stream",
          "name": "stdout",
          "text": [
            "4433.5\n"
          ]
        }
      ]
    },
    {
      "cell_type": "code",
      "source": [
        "Cierre_precio_anterior_Euro = Euro10.iat[3,0]\n",
        "print(Cierre_precio_anterior_Euro)"
      ],
      "metadata": {
        "id": "8uB8f23lIbHY",
        "colab": {
          "base_uri": "https://localhost:8080/"
        },
        "outputId": "e6bb5c87-5894-45f7-e74a-cc65298f75c8"
      },
      "execution_count": null,
      "outputs": [
        {
          "output_type": "stream",
          "name": "stdout",
          "text": [
            "4427.0\n"
          ]
        }
      ]
    },
    {
      "cell_type": "code",
      "source": [
        "Cierre_precio_anterior5dias_Euro= Euro10.iat[0,0]\n",
        "print(Cierre_precio_anterior5dias_Euro)"
      ],
      "metadata": {
        "id": "lcg5cAViIbSK",
        "colab": {
          "base_uri": "https://localhost:8080/"
        },
        "outputId": "6f37ce20-3024-47ad-a1ee-349ea4a5116b"
      },
      "execution_count": null,
      "outputs": [
        {
          "output_type": "stream",
          "name": "stdout",
          "text": [
            "4410.0\n"
          ]
        }
      ]
    },
    {
      "cell_type": "code",
      "source": [
        ""
      ],
      "metadata": {
        "id": "Za1GZbyK9XRI"
      },
      "execution_count": null,
      "outputs": []
    },
    {
      "cell_type": "markdown",
      "metadata": {
        "id": "S8J_1X2RHLyq"
      },
      "source": [
        "# **Descargar Datos**\n",
        "\n"
      ]
    },
    {
      "cell_type": "code",
      "metadata": {
        "id": "FMXQjWY3JS21"
      },
      "source": [
        "##Historica_data5= pd.concat([Historica_data1,Historica_data2,Historica_data3,Historica_data],axis=1)\n",
        "## print(Historica_data5)"
      ],
      "execution_count": null,
      "outputs": []
    },
    {
      "cell_type": "code",
      "metadata": {
        "id": "GWGL1jBUB5-u"
      },
      "source": [
        "## data1=pd.concat([Bovespa1,Mexico1,Chile1,Colombia1,brent10,WTI10,Oro10,Cobre10,Maiz10,soja10,Cafe10,Azucar10,Estados_unidos10,\n",
        "                ##  Alemania10,Reino_unido10,Francia10,Italia10,Japon10,Brazil10,Mexico10,Chile10,Argentina10,Colombia10,Peru10,Dolar10,Euro10],axis=1)     \n",
        "## print(data1)"
      ],
      "execution_count": null,
      "outputs": []
    },
    {
      "cell_type": "code",
      "source": [
        "## data2=data1.fillna(method=\"ffill\")#rellenar Datos Hacia adelante \n",
        "## print(data2)"
      ],
      "metadata": {
        "id": "zvq2fHSLADYT"
      },
      "execution_count": null,
      "outputs": []
    },
    {
      "cell_type": "code",
      "source": [
        " ## data3=data2.fillna(method=\"bfill\")#rellenar Datos hacia atras \n",
        "## print(data3)"
      ],
      "metadata": {
        "id": "eLq8FJ9CDwR7"
      },
      "execution_count": null,
      "outputs": []
    },
    {
      "cell_type": "markdown",
      "metadata": {
        "id": "6szvWYcuGvPX"
      },
      "source": [
        "**Descargar datos**"
      ]
    },
    {
      "cell_type": "code",
      "metadata": {
        "id": "Areidc1-CP-s"
      },
      "source": [
        "## data3.to_excel(\"Bitacora.xlsx\")\n",
        "## files.download(\"Bitacora.xlsx\")"
      ],
      "execution_count": null,
      "outputs": []
    },
    {
      "cell_type": "markdown",
      "source": [
        "# **Conexion Python y Excel**"
      ],
      "metadata": {
        "id": "oq5Exu6Zak7n"
      }
    },
    {
      "cell_type": "code",
      "source": [
        "Nueva_bitacora_py = load_workbook(\"Nueva bitacora.xlsx\")"
      ],
      "metadata": {
        "id": "KSHURtraT__G"
      },
      "execution_count": null,
      "outputs": []
    },
    {
      "cell_type": "code",
      "source": [
        "Prueba = Nueva_bitacora_py[\"Tabla oficial\"]"
      ],
      "metadata": {
        "id": "1jSyDcq2VLBb"
      },
      "execution_count": null,
      "outputs": []
    },
    {
      "cell_type": "markdown",
      "source": [
        "**Dow Jones**"
      ],
      "metadata": {
        "id": "2vuAO22q8oxL"
      }
    },
    {
      "cell_type": "markdown",
      "source": [
        "**Apertura**"
      ],
      "metadata": {
        "id": "fiMmShZf8wgj"
      }
    },
    {
      "cell_type": "code",
      "source": [
        "C6=Prueba[\"c6\"]= Apertura_indice_Dow_Jones_Industrial\n",
        "print(C6)"
      ],
      "metadata": {
        "id": "uN7u6zaN80Dz",
        "colab": {
          "base_uri": "https://localhost:8080/"
        },
        "outputId": "f95e0322-a3a1-4903-af6e-7cff0a6328dc"
      },
      "execution_count": null,
      "outputs": [
        {
          "output_type": "stream",
          "name": "stdout",
          "text": [
            "34612.8\n"
          ]
        }
      ]
    },
    {
      "cell_type": "markdown",
      "source": [
        "**Cierre anterior**"
      ],
      "metadata": {
        "id": "h0xdMKdo8yHd"
      }
    },
    {
      "cell_type": "code",
      "source": [
        "D6=Prueba[\"D6\"]= Cierre_precio_anterior_Dow_Jones_Industrial\n",
        "print(D6)"
      ],
      "metadata": {
        "id": "6id-hmjn80f6",
        "colab": {
          "base_uri": "https://localhost:8080/"
        },
        "outputId": "6ebff9bb-66f8-47f0-8345-df8e0218629a"
      },
      "execution_count": null,
      "outputs": [
        {
          "output_type": "stream",
          "name": "stdout",
          "text": [
            "34726.2\n"
          ]
        }
      ]
    },
    {
      "cell_type": "markdown",
      "source": [
        "**Cierre a 5 dias**"
      ],
      "metadata": {
        "id": "kO1iz6g68zie"
      }
    },
    {
      "cell_type": "code",
      "source": [
        "A6=Prueba[\"A6\"]= Cierre_precio_anterior5dias_Dow_Jones_Industrial\n",
        "print(A6)"
      ],
      "metadata": {
        "id": "HdKQDLzN808a",
        "colab": {
          "base_uri": "https://localhost:8080/"
        },
        "outputId": "bc7dd189-791f-468e-bbac-e95b90838453"
      },
      "execution_count": null,
      "outputs": [
        {
          "output_type": "stream",
          "name": "stdout",
          "text": [
            "34296.74\n"
          ]
        }
      ]
    },
    {
      "cell_type": "markdown",
      "source": [
        "**S&P500**"
      ],
      "metadata": {
        "id": "NUojbLvS816r"
      }
    },
    {
      "cell_type": "markdown",
      "source": [
        "**Apertura**"
      ],
      "metadata": {
        "id": "2BFafJ7o88Px"
      }
    },
    {
      "cell_type": "code",
      "source": [
        "C7=Prueba[\"c7\"]= Apertura_indice_SP_500\n",
        "print(C7)"
      ],
      "metadata": {
        "id": "Qaf69RKN8_T6",
        "colab": {
          "base_uri": "https://localhost:8080/"
        },
        "outputId": "150ee42c-60a8-41b0-eb48-a0bd90c99ec9"
      },
      "execution_count": null,
      "outputs": [
        {
          "output_type": "stream",
          "name": "stdout",
          "text": [
            "4431.79\n"
          ]
        }
      ]
    },
    {
      "cell_type": "markdown",
      "source": [
        "**Cierre anterior**"
      ],
      "metadata": {
        "id": "rfvmvfPb89eM"
      }
    },
    {
      "cell_type": "code",
      "source": [
        "D7=Prueba[\"D7\"]= Cierre_precio_anterior_SP_500\n",
        "print(D7)"
      ],
      "metadata": {
        "id": "AGMwTT5R8_t4",
        "colab": {
          "base_uri": "https://localhost:8080/"
        },
        "outputId": "ef0da75f-ffaf-416b-83e0-d589c1b2d392"
      },
      "execution_count": null,
      "outputs": [
        {
          "output_type": "stream",
          "name": "stdout",
          "text": [
            "4431.85\n"
          ]
        }
      ]
    },
    {
      "cell_type": "markdown",
      "source": [
        "**Cierre a 5 dias**"
      ],
      "metadata": {
        "id": "rITJMwvN8-oL"
      }
    },
    {
      "cell_type": "code",
      "source": [
        "A7=Prueba[\"A7\"]= Cierre_precio_anterior5dias_SP_500\n",
        "print(A7)"
      ],
      "metadata": {
        "id": "H0_rMH5z9GDi",
        "colab": {
          "base_uri": "https://localhost:8080/"
        },
        "outputId": "492f47ba-3cfd-4175-e38d-c86ad0f8aee4"
      },
      "execution_count": null,
      "outputs": [
        {
          "output_type": "stream",
          "name": "stdout",
          "text": [
            "4356.45\n"
          ]
        }
      ]
    },
    {
      "cell_type": "markdown",
      "source": [
        "**Euro Stoxx**"
      ],
      "metadata": {
        "id": "yV3AIcvS1eux"
      }
    },
    {
      "cell_type": "markdown",
      "source": [
        "**Apertura**"
      ],
      "metadata": {
        "id": "ORqTRH3r1qfJ"
      }
    },
    {
      "cell_type": "code",
      "source": [
        "C9=Prueba[\"c9\"]= Apertura_indice_Euro_Stoxx_50\n",
        "print(C9)"
      ],
      "metadata": {
        "id": "FoZPQX6-1u4j",
        "colab": {
          "base_uri": "https://localhost:8080/"
        },
        "outputId": "dfc990c1-21fb-4b8d-8478-60cdcca7163f"
      },
      "execution_count": null,
      "outputs": [
        {
          "output_type": "stream",
          "name": "stdout",
          "text": [
            "4206.15\n"
          ]
        }
      ]
    },
    {
      "cell_type": "markdown",
      "source": [
        "**Cierre anterior**"
      ],
      "metadata": {
        "id": "OeV4JNo01sYt"
      }
    },
    {
      "cell_type": "code",
      "source": [
        "D9=Prueba[\"D9\"]= Cierre_precio_anterior_Euro_Stoxx_50\n",
        "print(D9)"
      ],
      "metadata": {
        "id": "8rJVwnoO1vbc",
        "colab": {
          "base_uri": "https://localhost:8080/"
        },
        "outputId": "48f9c67d-09c7-46d8-cbfa-515f565ef7f4"
      },
      "execution_count": null,
      "outputs": [
        {
          "output_type": "stream",
          "name": "stdout",
          "text": [
            "4174.6\n"
          ]
        }
      ]
    },
    {
      "cell_type": "markdown",
      "source": [
        "**Cierre a 5 dias**"
      ],
      "metadata": {
        "id": "PEgY3m1B1uQe"
      }
    },
    {
      "cell_type": "code",
      "source": [
        "A9=Prueba[\"A9\"]= Cierre_precio_anterior5dias_Euro_Stoxx_50\n",
        "print(A9)"
      ],
      "metadata": {
        "id": "trLnpnFR1wAb",
        "colab": {
          "base_uri": "https://localhost:8080/"
        },
        "outputId": "79a0070d-7749-40f1-b1b8-6717efee47a8"
      },
      "execution_count": null,
      "outputs": [
        {
          "output_type": "stream",
          "name": "stdout",
          "text": [
            "4164.6\n"
          ]
        }
      ]
    },
    {
      "cell_type": "markdown",
      "source": [
        "**Dax**"
      ],
      "metadata": {
        "id": "997sJ0BB1wir"
      }
    },
    {
      "cell_type": "markdown",
      "source": [
        "**Apertura**"
      ],
      "metadata": {
        "id": "1ibo7jzU11MV"
      }
    },
    {
      "cell_type": "code",
      "source": [
        "C10=Prueba[\"c10\"]= Apertura_indice_Dax_Alemania\t\n",
        "print(C10)"
      ],
      "metadata": {
        "id": "Au7fu3mX15A7",
        "colab": {
          "base_uri": "https://localhost:8080/"
        },
        "outputId": "bd1bb835-5364-4159-9252-cb0100910c39"
      },
      "execution_count": null,
      "outputs": [
        {
          "output_type": "stream",
          "name": "stdout",
          "text": [
            "15571.04\n"
          ]
        }
      ]
    },
    {
      "cell_type": "markdown",
      "source": [
        "**Cierre anterior**"
      ],
      "metadata": {
        "id": "F3826vlP12kH"
      }
    },
    {
      "cell_type": "code",
      "source": [
        "D10=Prueba[\"D10\"]= Cierre_precio_anterior_Dax_Alemania\n",
        "print(D10)"
      ],
      "metadata": {
        "id": "16GFI4SG15rU",
        "colab": {
          "base_uri": "https://localhost:8080/"
        },
        "outputId": "54229cbe-7ff2-4277-9b7f-297433a4f33a"
      },
      "execution_count": null,
      "outputs": [
        {
          "output_type": "stream",
          "name": "stdout",
          "text": [
            "15471.2\n"
          ]
        }
      ]
    },
    {
      "cell_type": "markdown",
      "source": [
        "**Cierre a 5 dias**"
      ],
      "metadata": {
        "id": "wyllO1T61334"
      }
    },
    {
      "cell_type": "code",
      "source": [
        "A10=Prueba[\"A10\"]= Cierre_precio_anterior5dias_Dax_Alemania\n",
        "print(A10)"
      ],
      "metadata": {
        "id": "3Zc7aKg-16YG",
        "colab": {
          "base_uri": "https://localhost:8080/"
        },
        "outputId": "804ab3d8-836c-4749-c4de-a77cd5baeac0"
      },
      "execution_count": null,
      "outputs": [
        {
          "output_type": "stream",
          "name": "stdout",
          "text": [
            "15459.39\n"
          ]
        }
      ]
    },
    {
      "cell_type": "markdown",
      "source": [
        "**Nikkei 225**"
      ],
      "metadata": {
        "id": "KZ_QLp4j17XE"
      }
    },
    {
      "cell_type": "markdown",
      "source": [
        "**Apertura**"
      ],
      "metadata": {
        "id": "OsIKRNzh2A48"
      }
    },
    {
      "cell_type": "code",
      "source": [
        "C12=Prueba[\"c12\"]= Apertura_indice_Dax_Nikkei_225\n",
        "print(C12)"
      ],
      "metadata": {
        "id": "Z9NjNmrs2ECN",
        "colab": {
          "base_uri": "https://localhost:8080/"
        },
        "outputId": "f7d7c899-322c-43c3-9aba-7643b376033c"
      },
      "execution_count": null,
      "outputs": [
        {
          "output_type": "stream",
          "name": "stdout",
          "text": [
            "27167.14\n"
          ]
        }
      ]
    },
    {
      "cell_type": "markdown",
      "source": [
        "**Cierre anterior**"
      ],
      "metadata": {
        "id": "O5NWLqqi2CM4"
      }
    },
    {
      "cell_type": "code",
      "source": [
        "D12=Prueba[\"D12\"]= Cierre_precio_anterior_Dax_Nikkei_225\n",
        "print(D12)"
      ],
      "metadata": {
        "id": "jfQWIioS2Em8",
        "colab": {
          "base_uri": "https://localhost:8080/"
        },
        "outputId": "6a403e1c-0c7f-400c-ea33-adf3b66a70d6"
      },
      "execution_count": null,
      "outputs": [
        {
          "output_type": "stream",
          "name": "stdout",
          "text": [
            "27001.98\n"
          ]
        }
      ]
    },
    {
      "cell_type": "markdown",
      "source": [
        "**Cierre a 5 dias**"
      ],
      "metadata": {
        "id": "V3DuT0302DmR"
      }
    },
    {
      "cell_type": "code",
      "source": [
        "A12=Prueba[\"A12\"]= Cierre_precio_anterior5dias_Dax_Nikkei_225\n",
        "print(A12)"
      ],
      "metadata": {
        "id": "y64cOa-A2FPD",
        "colab": {
          "base_uri": "https://localhost:8080/"
        },
        "outputId": "0d3d04a0-dbeb-4536-b0f0-fc42e5d9e193"
      },
      "execution_count": null,
      "outputs": [
        {
          "output_type": "stream",
          "name": "stdout",
          "text": [
            "27011.33\n"
          ]
        }
      ]
    },
    {
      "cell_type": "markdown",
      "source": [
        "**Hang Seng**"
      ],
      "metadata": {
        "id": "g4uG4Hsu2GIz"
      }
    },
    {
      "cell_type": "markdown",
      "source": [
        "**Apertura**"
      ],
      "metadata": {
        "id": "Z1LIEFVr2KfN"
      }
    },
    {
      "cell_type": "code",
      "source": [
        "C13=Prueba[\"c13\"]= Apertura_indice_Hang_seng\n",
        "\n",
        "print(C13)"
      ],
      "metadata": {
        "id": "vdvhwkHU2Npl",
        "colab": {
          "base_uri": "https://localhost:8080/"
        },
        "outputId": "c8a378d1-e3b2-4256-ad69-eb6e47fe713e"
      },
      "execution_count": null,
      "outputs": [
        {
          "output_type": "stream",
          "name": "stdout",
          "text": [
            "23624.14\n"
          ]
        }
      ]
    },
    {
      "cell_type": "markdown",
      "source": [
        "**Cierre anterior**"
      ],
      "metadata": {
        "id": "_Kn2or9Y2Lwh"
      }
    },
    {
      "cell_type": "code",
      "source": [
        "D13=Prueba[\"D13\"]= Cierre_precio_anterior_Hang_seng \n",
        "print(D13)"
      ],
      "metadata": {
        "id": "FjNH6xxa2OI8",
        "colab": {
          "base_uri": "https://localhost:8080/"
        },
        "outputId": "d6daa8c4-e198-4532-abdf-c2776882b49f"
      },
      "execution_count": null,
      "outputs": [
        {
          "output_type": "stream",
          "name": "stdout",
          "text": [
            "23550.08\n"
          ]
        }
      ]
    },
    {
      "cell_type": "markdown",
      "source": [
        "**Cierre a 5 dias**"
      ],
      "metadata": {
        "id": "8XAQtUgq2NDo"
      }
    },
    {
      "cell_type": "code",
      "source": [
        "A13=Prueba[\"A13\"]= Cierre_precio_anterior5dias_Hang_seng\n",
        "print(A13)"
      ],
      "metadata": {
        "id": "ApLT38-u2Ox2",
        "colab": {
          "base_uri": "https://localhost:8080/"
        },
        "outputId": "6a6f4f3a-2589-4ab2-acf7-1e59872f2e3a"
      },
      "execution_count": null,
      "outputs": [
        {
          "output_type": "stream",
          "name": "stdout",
          "text": [
            "24243.61\n"
          ]
        }
      ]
    },
    {
      "cell_type": "markdown",
      "source": [
        "**Brazil-Nueva Bitacora**"
      ],
      "metadata": {
        "id": "_kZi1d-RL1nA"
      }
    },
    {
      "cell_type": "markdown",
      "source": [
        "**Apertura**"
      ],
      "metadata": {
        "id": "zTFpgGH2MCdw"
      }
    },
    {
      "cell_type": "code",
      "source": [
        "C15=Prueba[\"c15\"]\n",
        "print(C15.value)"
      ],
      "metadata": {
        "id": "fIAx7BDqL4ry",
        "colab": {
          "base_uri": "https://localhost:8080/"
        },
        "outputId": "588e6adb-8c9a-42c2-ff40-45bf1801816b"
      },
      "execution_count": null,
      "outputs": [
        {
          "output_type": "stream",
          "name": "stdout",
          "text": [
            "None\n"
          ]
        }
      ]
    },
    {
      "cell_type": "code",
      "source": [
        "C15=Prueba[\"c15\"]= Apertura_indice_Brazil\n",
        "print(C15)"
      ],
      "metadata": {
        "id": "0ThV212lL_JA",
        "colab": {
          "base_uri": "https://localhost:8080/"
        },
        "outputId": "dbb9e6cc-e6d0-4ef5-cf06-354c0d4f6bf3"
      },
      "execution_count": null,
      "outputs": [
        {
          "output_type": "stream",
          "name": "stdout",
          "text": [
            "111910.0\n"
          ]
        }
      ]
    },
    {
      "cell_type": "markdown",
      "source": [
        "**Cierre anterior**"
      ],
      "metadata": {
        "id": "8wZjJjyGML1o"
      }
    },
    {
      "cell_type": "code",
      "source": [
        "D15=Prueba[\"D15\"] # Revisar \n",
        "print(D15.value)"
      ],
      "metadata": {
        "id": "p7_0PgyoMc9Q",
        "colab": {
          "base_uri": "https://localhost:8080/"
        },
        "outputId": "0d9a92e1-98a2-48d3-a510-75c0cb2e58fa"
      },
      "execution_count": null,
      "outputs": [
        {
          "output_type": "stream",
          "name": "stdout",
          "text": [
            "None\n"
          ]
        }
      ]
    },
    {
      "cell_type": "code",
      "source": [
        "D15=Prueba[\"D15\"]= Cierre_precio_anterior__indice_Brazil\n",
        "print(D15)"
      ],
      "metadata": {
        "id": "aeKCYixGMi-6",
        "colab": {
          "base_uri": "https://localhost:8080/"
        },
        "outputId": "cc5d6986-2df9-4ccc-b8dd-2f4f7c76dfad"
      },
      "execution_count": null,
      "outputs": [
        {
          "output_type": "stream",
          "name": "stdout",
          "text": [
            "111910.0\n"
          ]
        }
      ]
    },
    {
      "cell_type": "markdown",
      "source": [
        "**Cierre a 5 dias**"
      ],
      "metadata": {
        "id": "Utqw6HoLMTmH"
      }
    },
    {
      "cell_type": "code",
      "source": [
        "A15=Prueba[\"A15\"] # Revisar\n",
        "print(A15.value)"
      ],
      "metadata": {
        "id": "PzTsT7e2gdtD",
        "colab": {
          "base_uri": "https://localhost:8080/"
        },
        "outputId": "48de959c-8975-486c-bab7-c26f3318bb1a"
      },
      "execution_count": null,
      "outputs": [
        {
          "output_type": "stream",
          "name": "stdout",
          "text": [
            "None\n"
          ]
        }
      ]
    },
    {
      "cell_type": "code",
      "source": [
        "A15=Prueba[\"A15\"]= Cierre_precio_anterior5dias_indice_Brazil\n",
        "print(A15)"
      ],
      "metadata": {
        "id": "Zug_FsA2Xc5D",
        "colab": {
          "base_uri": "https://localhost:8080/"
        },
        "outputId": "148014d6-4927-4f01-94ff-1b283f5d6865"
      },
      "execution_count": null,
      "outputs": [
        {
          "output_type": "stream",
          "name": "stdout",
          "text": [
            "110204.0\n"
          ]
        }
      ]
    },
    {
      "cell_type": "markdown",
      "source": [
        "**Mexico Nueva Bitacora**"
      ],
      "metadata": {
        "id": "KIsuOH6ZMwz7"
      }
    },
    {
      "cell_type": "markdown",
      "source": [
        "**Apertura**"
      ],
      "metadata": {
        "id": "lCe3YlAbM_bm"
      }
    },
    {
      "cell_type": "code",
      "source": [
        "C16=Prueba[\"C16\"] \n",
        "print(C16.value)"
      ],
      "metadata": {
        "id": "gUe8SVqONaJA",
        "colab": {
          "base_uri": "https://localhost:8080/"
        },
        "outputId": "d21abb8c-eea9-4e93-9d84-9c519e73bbd2"
      },
      "execution_count": null,
      "outputs": [
        {
          "output_type": "stream",
          "name": "stdout",
          "text": [
            "None\n"
          ]
        }
      ]
    },
    {
      "cell_type": "code",
      "source": [
        "C16=Prueba[\"C16\"]= Apertura_indice_Mexico\n",
        "print(C16)"
      ],
      "metadata": {
        "id": "fmoWYt3XNaUs",
        "colab": {
          "base_uri": "https://localhost:8080/"
        },
        "outputId": "f1339364-4839-471b-d6d5-a8bb2b8560fa"
      },
      "execution_count": null,
      "outputs": [
        {
          "output_type": "stream",
          "name": "stdout",
          "text": [
            "50670.28\n"
          ]
        }
      ]
    },
    {
      "cell_type": "markdown",
      "source": [
        "**Cierre anterior**"
      ],
      "metadata": {
        "id": "2YQzWf5GNUxo"
      }
    },
    {
      "cell_type": "code",
      "source": [
        "D16=Prueba[\"D16\"] \n",
        "print(D16.value)"
      ],
      "metadata": {
        "id": "CQRV9DAoNbDg",
        "colab": {
          "base_uri": "https://localhost:8080/"
        },
        "outputId": "d71c5a5f-772c-466c-eb44-823d63b1f3ed"
      },
      "execution_count": null,
      "outputs": [
        {
          "output_type": "stream",
          "name": "stdout",
          "text": [
            "None\n"
          ]
        }
      ]
    },
    {
      "cell_type": "code",
      "source": [
        "D16=Prueba[\"D16\"]= Cierre_precio_anterior_indice_Mexico\n",
        "print(D16)"
      ],
      "metadata": {
        "id": "VTZOinmuNbOB",
        "colab": {
          "base_uri": "https://localhost:8080/"
        },
        "outputId": "258f72e1-f0e9-4e53-da20-2ba952d9c682"
      },
      "execution_count": null,
      "outputs": [
        {
          "output_type": "stream",
          "name": "stdout",
          "text": [
            "50661.86\n"
          ]
        }
      ]
    },
    {
      "cell_type": "markdown",
      "source": [
        "**Cierre a 5 dias**"
      ],
      "metadata": {
        "id": "rZA4wdVjNYJt"
      }
    },
    {
      "cell_type": "code",
      "source": [
        "A16=Prueba[\"A16\"] \n",
        "print(A16.value)"
      ],
      "metadata": {
        "id": "qQ6XtL0MNb-D",
        "colab": {
          "base_uri": "https://localhost:8080/"
        },
        "outputId": "764229bf-c076-4504-9285-5d9cf8f5d89f"
      },
      "execution_count": null,
      "outputs": [
        {
          "output_type": "stream",
          "name": "stdout",
          "text": [
            "None\n"
          ]
        }
      ]
    },
    {
      "cell_type": "code",
      "source": [
        "A16=Prueba[\"A16\"]= Cierre_precio_anterior5dias_indice_Mexico\n",
        "print(A16)"
      ],
      "metadata": {
        "id": "FTNkvA9HNcIb",
        "colab": {
          "base_uri": "https://localhost:8080/"
        },
        "outputId": "4b547415-de48-4248-f8d0-d020b56c2b93"
      },
      "execution_count": null,
      "outputs": [
        {
          "output_type": "stream",
          "name": "stdout",
          "text": [
            "51104.39\n"
          ]
        }
      ]
    },
    {
      "cell_type": "markdown",
      "source": [
        "**Chile Nueva Bitacora**"
      ],
      "metadata": {
        "id": "6lMuQ1VbNfWZ"
      }
    },
    {
      "cell_type": "markdown",
      "source": [
        "**Apertura**"
      ],
      "metadata": {
        "id": "bxA73UV3NoHF"
      }
    },
    {
      "cell_type": "code",
      "source": [
        "C17=Prueba[\"C17\"] \n",
        "print(C17.value)"
      ],
      "metadata": {
        "id": "xZupSHMsNoha",
        "colab": {
          "base_uri": "https://localhost:8080/"
        },
        "outputId": "b8092685-04ac-4561-882e-3e0d7f8d9e56"
      },
      "execution_count": null,
      "outputs": [
        {
          "output_type": "stream",
          "name": "stdout",
          "text": [
            "None\n"
          ]
        }
      ]
    },
    {
      "cell_type": "code",
      "source": [
        "C17=Prueba[\"C17\"]= Apertura__indice_Chile\n",
        "print(C17)"
      ],
      "metadata": {
        "id": "-kCxPkPvNopM",
        "colab": {
          "base_uri": "https://localhost:8080/"
        },
        "outputId": "06422302-9197-4e5f-84e7-72f5063a5b4d"
      },
      "execution_count": null,
      "outputs": [
        {
          "output_type": "stream",
          "name": "stdout",
          "text": [
            "4542.86\n"
          ]
        }
      ]
    },
    {
      "cell_type": "markdown",
      "source": [
        "**Cierre anterior**"
      ],
      "metadata": {
        "id": "ZFeQUI_iNuMs"
      }
    },
    {
      "cell_type": "code",
      "source": [
        "D17=Prueba[\"D17\"] \n",
        "print(D17.value)"
      ],
      "metadata": {
        "id": "TWNEVCrGNutX",
        "colab": {
          "base_uri": "https://localhost:8080/"
        },
        "outputId": "b0d12e89-b9fd-4305-da16-b76419a19610"
      },
      "execution_count": null,
      "outputs": [
        {
          "output_type": "stream",
          "name": "stdout",
          "text": [
            "None\n"
          ]
        }
      ]
    },
    {
      "cell_type": "code",
      "source": [
        "D17=Prueba[\"D17\"]= Cierre_precio_anterior_indice_Chile\n",
        "print(D16)"
      ],
      "metadata": {
        "id": "d84yp2g4Nu20",
        "colab": {
          "base_uri": "https://localhost:8080/"
        },
        "outputId": "c055f11d-2723-4156-f2a5-fd701f39f0e2"
      },
      "execution_count": null,
      "outputs": [
        {
          "output_type": "stream",
          "name": "stdout",
          "text": [
            "50661.86\n"
          ]
        }
      ]
    },
    {
      "cell_type": "markdown",
      "source": [
        "**Cierre a 5 dias**"
      ],
      "metadata": {
        "id": "rcYsMoe0Nxep"
      }
    },
    {
      "cell_type": "code",
      "source": [
        "A17=Prueba[\"A17\"] \n",
        "print(A17.value)"
      ],
      "metadata": {
        "id": "deUJ68eGNyPg",
        "colab": {
          "base_uri": "https://localhost:8080/"
        },
        "outputId": "da85b61b-1fd7-4632-d1cb-791216c63fe1"
      },
      "execution_count": null,
      "outputs": [
        {
          "output_type": "stream",
          "name": "stdout",
          "text": [
            "None\n"
          ]
        }
      ]
    },
    {
      "cell_type": "code",
      "source": [
        "A17=Prueba[\"A17\"]= Cierre_precio_anterior5dias_indice_Chile \n",
        "print(A17)"
      ],
      "metadata": {
        "id": "ZomqfPlKNyaP",
        "colab": {
          "base_uri": "https://localhost:8080/"
        },
        "outputId": "1727411e-565b-4848-f78d-f22cdb852dff"
      },
      "execution_count": null,
      "outputs": [
        {
          "output_type": "stream",
          "name": "stdout",
          "text": [
            "4529.3\n"
          ]
        }
      ]
    },
    {
      "cell_type": "markdown",
      "source": [
        " **Colombia Nueva Bitacora**"
      ],
      "metadata": {
        "id": "RdQg5orKN8xf"
      }
    },
    {
      "cell_type": "markdown",
      "source": [
        "**Apertura**"
      ],
      "metadata": {
        "id": "ZnrndGEIOSCe"
      }
    },
    {
      "cell_type": "code",
      "source": [
        "C18=Prueba[\"C18\"] \n",
        "print(C18.value)"
      ],
      "metadata": {
        "id": "WGtAuER9OSkp",
        "colab": {
          "base_uri": "https://localhost:8080/"
        },
        "outputId": "93c67771-9af2-4b1a-e9f2-5b491cf19d26"
      },
      "execution_count": null,
      "outputs": [
        {
          "output_type": "stream",
          "name": "stdout",
          "text": [
            "None\n"
          ]
        }
      ]
    },
    {
      "cell_type": "code",
      "source": [
        "C18=Prueba[\"C18\"]= Apertura_indice_Colombia \n",
        "print(C18)"
      ],
      "metadata": {
        "id": "Ivu2hs4HOStb",
        "colab": {
          "base_uri": "https://localhost:8080/"
        },
        "outputId": "c361aff6-8b04-4f89-9d33-dcd76a99c31f"
      },
      "execution_count": null,
      "outputs": [
        {
          "output_type": "stream",
          "name": "stdout",
          "text": [
            "1530.65\n"
          ]
        }
      ]
    },
    {
      "cell_type": "markdown",
      "source": [
        "**Cierre anterior**"
      ],
      "metadata": {
        "id": "QyPM-fIuOWOq"
      }
    },
    {
      "cell_type": "code",
      "source": [
        "D18=Prueba[\"D18\"] \n",
        "print(D18.value)"
      ],
      "metadata": {
        "id": "cdiCJXRPOW2h",
        "colab": {
          "base_uri": "https://localhost:8080/"
        },
        "outputId": "cab110c6-0de3-4185-a219-6544cacfb371"
      },
      "execution_count": null,
      "outputs": [
        {
          "output_type": "stream",
          "name": "stdout",
          "text": [
            "None\n"
          ]
        }
      ]
    },
    {
      "cell_type": "code",
      "source": [
        "D18=Prueba[\"D18\"]= Cierre_precio_anterior_indice_Colombia\n",
        "print(D18)"
      ],
      "metadata": {
        "id": "aT8vubmTOXBI",
        "colab": {
          "base_uri": "https://localhost:8080/"
        },
        "outputId": "cfcae1aa-ff86-4de0-bc03-e44b96e31f8e"
      },
      "execution_count": null,
      "outputs": [
        {
          "output_type": "stream",
          "name": "stdout",
          "text": [
            "1529.85\n"
          ]
        }
      ]
    },
    {
      "cell_type": "markdown",
      "source": [
        "**Cierre a 5 dias**"
      ],
      "metadata": {
        "id": "xj7q1S8aOY0o"
      }
    },
    {
      "cell_type": "code",
      "source": [
        "A18=Prueba[\"A18\"] \n",
        "print(A18.value)"
      ],
      "metadata": {
        "id": "43sXwySxOZR6",
        "colab": {
          "base_uri": "https://localhost:8080/"
        },
        "outputId": "facc9be1-2e30-4d77-cf3c-b5d96339f620"
      },
      "execution_count": null,
      "outputs": [
        {
          "output_type": "stream",
          "name": "stdout",
          "text": [
            "None\n"
          ]
        }
      ]
    },
    {
      "cell_type": "code",
      "source": [
        "A18=Prueba[\"A18\"]= Cierre_precio_anterior5dias_indice_Colombia \n",
        "print(A18)"
      ],
      "metadata": {
        "id": "vn0o0u-COZbH",
        "colab": {
          "base_uri": "https://localhost:8080/"
        },
        "outputId": "a770012d-1a0e-4521-f177-0c59f389c458"
      },
      "execution_count": null,
      "outputs": [
        {
          "output_type": "stream",
          "name": "stdout",
          "text": [
            "1527.48\n"
          ]
        }
      ]
    },
    {
      "cell_type": "markdown",
      "source": [
        "**Materias Primas -Nueva Bitacora**"
      ],
      "metadata": {
        "id": "jy5uGEC2Rtw1"
      }
    },
    {
      "cell_type": "markdown",
      "source": [
        "**Brent**"
      ],
      "metadata": {
        "id": "9y3ZHXn8STEJ"
      }
    },
    {
      "cell_type": "markdown",
      "source": [
        "**Apertura**"
      ],
      "metadata": {
        "id": "5NESsYFASFG9"
      }
    },
    {
      "cell_type": "code",
      "source": [
        "C25=Prueba[\"c25\"] \n",
        "print(C25.value)"
      ],
      "metadata": {
        "id": "zVPd26YXSPOz",
        "colab": {
          "base_uri": "https://localhost:8080/"
        },
        "outputId": "a82c58ed-bdd8-44dc-c493-844d2b2b9c1d"
      },
      "execution_count": null,
      "outputs": [
        {
          "output_type": "stream",
          "name": "stdout",
          "text": [
            "None\n"
          ]
        }
      ]
    },
    {
      "cell_type": "code",
      "source": [
        "C25=Prueba[\"C25\"]= Apertura_brent\n",
        "print(C25)"
      ],
      "metadata": {
        "id": "_1FkZLU1SPZo",
        "colab": {
          "base_uri": "https://localhost:8080/"
        },
        "outputId": "cdea7c08-4a46-4ca6-801c-5c6f4ad8d190"
      },
      "execution_count": null,
      "outputs": [
        {
          "output_type": "stream",
          "name": "stdout",
          "text": [
            "89.65\n"
          ]
        }
      ]
    },
    {
      "cell_type": "markdown",
      "source": [
        "**Cierre anterior**"
      ],
      "metadata": {
        "id": "Z5h4sDSiSMMj"
      }
    },
    {
      "cell_type": "code",
      "source": [
        "D25=Prueba[\"D25\"] \n",
        "print(D25.value)"
      ],
      "metadata": {
        "id": "bfLeS66ySQN0",
        "colab": {
          "base_uri": "https://localhost:8080/"
        },
        "outputId": "71345c6d-6e37-4639-990f-14a1061aa51c"
      },
      "execution_count": null,
      "outputs": [
        {
          "output_type": "stream",
          "name": "stdout",
          "text": [
            "None\n"
          ]
        }
      ]
    },
    {
      "cell_type": "code",
      "source": [
        "D25=Prueba[\"D25\"]= Cierre_precio_anterior_brent\n",
        "print(D25)"
      ],
      "metadata": {
        "id": "6M6UpDo9SQZO",
        "colab": {
          "base_uri": "https://localhost:8080/"
        },
        "outputId": "12028d02-633c-4909-ee60-132b3231381c"
      },
      "execution_count": null,
      "outputs": [
        {
          "output_type": "stream",
          "name": "stdout",
          "text": [
            "91.21\n"
          ]
        }
      ]
    },
    {
      "cell_type": "markdown",
      "source": [
        "**Cierre a 5 dias**"
      ],
      "metadata": {
        "id": "-WSQF2svSOmJ"
      }
    },
    {
      "cell_type": "code",
      "source": [
        "A25=Prueba[\"A25\"] \n",
        "print(A25.value)"
      ],
      "metadata": {
        "id": "xc3Rg8JxSRLZ",
        "colab": {
          "base_uri": "https://localhost:8080/"
        },
        "outputId": "f05edd2a-45cb-4604-8e50-be51385b5768"
      },
      "execution_count": null,
      "outputs": [
        {
          "output_type": "stream",
          "name": "stdout",
          "text": [
            "None\n"
          ]
        }
      ]
    },
    {
      "cell_type": "code",
      "source": [
        "A25=Prueba[\"A25\"]= Cierre_precio_anterior5dias_brent\n",
        "print(A25)"
      ],
      "metadata": {
        "id": "fRr5hpsFSRWH",
        "colab": {
          "base_uri": "https://localhost:8080/"
        },
        "outputId": "5eeb5f55-34bf-4755-94bf-aa365e54add5"
      },
      "execution_count": null,
      "outputs": [
        {
          "output_type": "stream",
          "name": "stdout",
          "text": [
            "89.96\n"
          ]
        }
      ]
    },
    {
      "cell_type": "markdown",
      "source": [
        "**WTI**"
      ],
      "metadata": {
        "id": "cm63G-HQSX5_"
      }
    },
    {
      "cell_type": "markdown",
      "source": [
        "**Apertura**"
      ],
      "metadata": {
        "id": "cRgu9I3ASfNl"
      }
    },
    {
      "cell_type": "code",
      "source": [
        "C26=Prueba[\"C26\"] \n",
        "print(C26.value)"
      ],
      "metadata": {
        "id": "ZMSg3sLqSava",
        "colab": {
          "base_uri": "https://localhost:8080/"
        },
        "outputId": "dd34c79e-a27b-44ea-9fef-c30b5bb8ee22"
      },
      "execution_count": null,
      "outputs": [
        {
          "output_type": "stream",
          "name": "stdout",
          "text": [
            "None\n"
          ]
        }
      ]
    },
    {
      "cell_type": "code",
      "source": [
        "C26=Prueba[\"C26\"]= Apertura_WTI\n",
        "print(C26)"
      ],
      "metadata": {
        "id": "rnHwe_-mSa6-",
        "colab": {
          "base_uri": "https://localhost:8080/"
        },
        "outputId": "6d5535f4-5601-4dbf-b511-cc72d8b3232b"
      },
      "execution_count": null,
      "outputs": [
        {
          "output_type": "stream",
          "name": "stdout",
          "text": [
            "88.39\n"
          ]
        }
      ]
    },
    {
      "cell_type": "markdown",
      "source": [
        "**Cierre anterior**"
      ],
      "metadata": {
        "id": "Fz93Q1vwSkk_"
      }
    },
    {
      "cell_type": "code",
      "source": [
        "D26=Prueba[\"D26\"] \n",
        "print(D26.value)"
      ],
      "metadata": {
        "id": "en7LBM90TRGD",
        "colab": {
          "base_uri": "https://localhost:8080/"
        },
        "outputId": "85515738-dbb5-40c2-9923-03168b44d553"
      },
      "execution_count": null,
      "outputs": [
        {
          "output_type": "stream",
          "name": "stdout",
          "text": [
            "None\n"
          ]
        }
      ]
    },
    {
      "cell_type": "code",
      "source": [
        "D26=Prueba[\"D26\"]= Cierre_precio_anterior_WTI\n",
        "print(D26)"
      ],
      "metadata": {
        "id": "OCUxX8w7TRRa",
        "colab": {
          "base_uri": "https://localhost:8080/"
        },
        "outputId": "aacee31b-2d01-4540-9edf-8655839cdde1"
      },
      "execution_count": null,
      "outputs": [
        {
          "output_type": "stream",
          "name": "stdout",
          "text": [
            "88.15\n"
          ]
        }
      ]
    },
    {
      "cell_type": "markdown",
      "source": [
        "**Cierre a 5 dias**"
      ],
      "metadata": {
        "id": "V3zhKFIrSnJ2"
      }
    },
    {
      "cell_type": "code",
      "source": [
        "A26=Prueba[\"A26\"] \n",
        "print(A26.value)"
      ],
      "metadata": {
        "id": "VHL1Aci0TR5k",
        "colab": {
          "base_uri": "https://localhost:8080/"
        },
        "outputId": "9f33a313-dc3f-45f2-d22a-e8ec41f67d1b"
      },
      "execution_count": null,
      "outputs": [
        {
          "output_type": "stream",
          "name": "stdout",
          "text": [
            "None\n"
          ]
        }
      ]
    },
    {
      "cell_type": "code",
      "source": [
        "A26=Prueba[\"A26\"]= Cierre_precio_anterior5dias_WTI \n",
        "print(A26)"
      ],
      "metadata": {
        "id": "oSjbxJaZTSDx",
        "colab": {
          "base_uri": "https://localhost:8080/"
        },
        "outputId": "2ec228b9-e4b1-4496-82ab-7eb8b982509f"
      },
      "execution_count": null,
      "outputs": [
        {
          "output_type": "stream",
          "name": "stdout",
          "text": [
            "87.35\n"
          ]
        }
      ]
    },
    {
      "cell_type": "markdown",
      "source": [
        "**Oro**"
      ],
      "metadata": {
        "id": "WT7ZEa4uSrwD"
      }
    },
    {
      "cell_type": "markdown",
      "source": [
        "**Apertura**"
      ],
      "metadata": {
        "id": "QhQRwFquSxfK"
      }
    },
    {
      "cell_type": "code",
      "source": [
        "C28=Prueba[\"C28\"] \n",
        "print(C28.value)"
      ],
      "metadata": {
        "id": "Mo3nBmnZS1rz",
        "colab": {
          "base_uri": "https://localhost:8080/"
        },
        "outputId": "7f6c243b-5432-44b4-aec7-428277c44eb3"
      },
      "execution_count": null,
      "outputs": [
        {
          "output_type": "stream",
          "name": "stdout",
          "text": [
            "None\n"
          ]
        }
      ]
    },
    {
      "cell_type": "code",
      "source": [
        "C28=Prueba[\"C28\"]= Apertura_oro\n",
        "print(C28)"
      ],
      "metadata": {
        "id": "ASjhnt_mS14H",
        "colab": {
          "base_uri": "https://localhost:8080/"
        },
        "outputId": "11a644c5-d4cc-496c-cc73-875396ea2cbc"
      },
      "execution_count": null,
      "outputs": [
        {
          "output_type": "stream",
          "name": "stdout",
          "text": [
            "1797.25\n"
          ]
        }
      ]
    },
    {
      "cell_type": "markdown",
      "source": [
        "**Cierre anterior**"
      ],
      "metadata": {
        "id": "Kss75ileSzJN"
      }
    },
    {
      "cell_type": "code",
      "source": [
        "D28=Prueba[\"D28\"] \n",
        "print(D28.value)"
      ],
      "metadata": {
        "id": "U4pnh4gdS2ej",
        "colab": {
          "base_uri": "https://localhost:8080/"
        },
        "outputId": "5e24f7d2-2f50-40a3-a806-4ffbf5459297"
      },
      "execution_count": null,
      "outputs": [
        {
          "output_type": "stream",
          "name": "stdout",
          "text": [
            "None\n"
          ]
        }
      ]
    },
    {
      "cell_type": "code",
      "source": [
        "D28=Prueba[\"D28\"]= Cierre_precio_anterior_oro\n",
        "print(D28)"
      ],
      "metadata": {
        "id": "EM9ndw5TS2on",
        "colab": {
          "base_uri": "https://localhost:8080/"
        },
        "outputId": "a37251e5-790f-495a-d9cd-1d9ce95b2151"
      },
      "execution_count": null,
      "outputs": [
        {
          "output_type": "stream",
          "name": "stdout",
          "text": [
            "1795.0\n"
          ]
        }
      ]
    },
    {
      "cell_type": "markdown",
      "source": [
        "**Cierre a 5 dias**"
      ],
      "metadata": {
        "id": "8KMf-BayS0zc"
      }
    },
    {
      "cell_type": "code",
      "source": [
        "A28=Prueba[\"A28\"] \n",
        "print(A28.value)"
      ],
      "metadata": {
        "id": "mfYnB7uWS3eT",
        "colab": {
          "base_uri": "https://localhost:8080/"
        },
        "outputId": "cc83ab11-f9e1-4a15-9426-d30bd0a5f6be"
      },
      "execution_count": null,
      "outputs": [
        {
          "output_type": "stream",
          "name": "stdout",
          "text": [
            "None\n"
          ]
        }
      ]
    },
    {
      "cell_type": "code",
      "source": [
        "A28=Prueba[\"A28\"]= Cierre_precio_anterior5dias_oro\n",
        "print(A28)"
      ],
      "metadata": {
        "id": "iACugrcQS3og",
        "colab": {
          "base_uri": "https://localhost:8080/"
        },
        "outputId": "c810961f-1609-4abe-a930-c532bd45f6c2"
      },
      "execution_count": null,
      "outputs": [
        {
          "output_type": "stream",
          "name": "stdout",
          "text": [
            "1829.7\n"
          ]
        }
      ]
    },
    {
      "cell_type": "markdown",
      "source": [
        "**Cobre**"
      ],
      "metadata": {
        "id": "XPFjcCqhTi23"
      }
    },
    {
      "cell_type": "markdown",
      "source": [
        "**Apertura**"
      ],
      "metadata": {
        "id": "tnWRX-0aTn3G"
      }
    },
    {
      "cell_type": "code",
      "source": [
        "C29=Prueba[\"C29\"]= Apertura_cobre\n",
        "print(C29)"
      ],
      "metadata": {
        "id": "jyPR8WPATscX",
        "colab": {
          "base_uri": "https://localhost:8080/"
        },
        "outputId": "44985062-03c8-4f98-aaf6-afd0443489f3"
      },
      "execution_count": null,
      "outputs": [
        {
          "output_type": "stream",
          "name": "stdout",
          "text": [
            "4.3345\n"
          ]
        }
      ]
    },
    {
      "cell_type": "markdown",
      "source": [
        "**Cierre anterior**"
      ],
      "metadata": {
        "id": "sOTXRFZHTpoN"
      }
    },
    {
      "cell_type": "code",
      "source": [
        "D29=Prueba[\"D29\"]= Cierre_precio_anterior_cobre\n",
        "print(D29)"
      ],
      "metadata": {
        "id": "GKujuLTNTtaQ",
        "colab": {
          "base_uri": "https://localhost:8080/"
        },
        "outputId": "9aa18b15-f65b-47e5-e9dc-0249fb766dc4"
      },
      "execution_count": null,
      "outputs": [
        {
          "output_type": "stream",
          "name": "stdout",
          "text": [
            "4.335\n"
          ]
        }
      ]
    },
    {
      "cell_type": "markdown",
      "source": [
        "**Cierre a 5 dias**"
      ],
      "metadata": {
        "id": "BWp-mnVaTrKQ"
      }
    },
    {
      "cell_type": "code",
      "source": [
        "A29=Prueba[\"A29\"]= Cierre_precio_anterior5dias_Cobre\n",
        "print(A29)"
      ],
      "metadata": {
        "id": "BZ0Qbue2TuVZ",
        "colab": {
          "base_uri": "https://localhost:8080/"
        },
        "outputId": "15fc7361-8da5-4c97-c894-22ec9ffab6a1"
      },
      "execution_count": null,
      "outputs": [
        {
          "output_type": "stream",
          "name": "stdout",
          "text": [
            "4.4195\n"
          ]
        }
      ]
    },
    {
      "cell_type": "markdown",
      "source": [
        "**Maiz**"
      ],
      "metadata": {
        "id": "9-FVz-vKTwBj"
      }
    },
    {
      "cell_type": "markdown",
      "source": [
        "**Apertura**"
      ],
      "metadata": {
        "id": "_smumr1-T-Uv"
      }
    },
    {
      "cell_type": "code",
      "source": [
        "C31=Prueba[\"C31\"]= Apertura_Maiz\n",
        "print(C31)"
      ],
      "metadata": {
        "id": "2WzechxMT_gl",
        "colab": {
          "base_uri": "https://localhost:8080/"
        },
        "outputId": "4dcc88d3-ad39-4fdc-e13b-13d608e52995"
      },
      "execution_count": null,
      "outputs": [
        {
          "output_type": "stream",
          "name": "stdout",
          "text": [
            "626.38\n"
          ]
        }
      ]
    },
    {
      "cell_type": "markdown",
      "source": [
        "**Cierre anterior**"
      ],
      "metadata": {
        "id": "ya42f1FsUB0Q"
      }
    },
    {
      "cell_type": "code",
      "source": [
        "D31=Prueba[\"D31\"]= Cierre_precio_anterior_Maiz\n",
        "print(D31)"
      ],
      "metadata": {
        "id": "v090_saHUC8b",
        "colab": {
          "base_uri": "https://localhost:8080/"
        },
        "outputId": "29a9ae53-e238-4ec6-e859-9f51fea64065"
      },
      "execution_count": null,
      "outputs": [
        {
          "output_type": "stream",
          "name": "stdout",
          "text": [
            "626.0\n"
          ]
        }
      ]
    },
    {
      "cell_type": "markdown",
      "source": [
        "**Cierre a 5 dias**"
      ],
      "metadata": {
        "id": "yEqtDawhUFHs"
      }
    },
    {
      "cell_type": "code",
      "source": [
        "A31=Prueba[\"A31\"]= Cierre_precio_anterior5dias_Maiz\n",
        "print(A31)"
      ],
      "metadata": {
        "id": "mPqp4FmPUGds",
        "colab": {
          "base_uri": "https://localhost:8080/"
        },
        "outputId": "ece9545b-9f4f-49fa-c360-d0b20615d262"
      },
      "execution_count": null,
      "outputs": [
        {
          "output_type": "stream",
          "name": "stdout",
          "text": [
            "627.0\n"
          ]
        }
      ]
    },
    {
      "cell_type": "markdown",
      "source": [
        "**Soja**"
      ],
      "metadata": {
        "id": "w0pczoIRUG8M"
      }
    },
    {
      "cell_type": "markdown",
      "source": [
        "**Apertura**"
      ],
      "metadata": {
        "id": "SmLldKqAUQLH"
      }
    },
    {
      "cell_type": "code",
      "source": [
        "C32=Prueba[\"C32\"]= Apertura_soja \n",
        "print(C32)"
      ],
      "metadata": {
        "id": "faoi7stDUUqF",
        "colab": {
          "base_uri": "https://localhost:8080/"
        },
        "outputId": "de65d567-b591-4761-9777-00f3213ddf60"
      },
      "execution_count": null,
      "outputs": [
        {
          "output_type": "stream",
          "name": "stdout",
          "text": [
            "1489.62\n"
          ]
        }
      ]
    },
    {
      "cell_type": "markdown",
      "source": [
        "**Cierre anterior**"
      ],
      "metadata": {
        "id": "T4HAQX3uUSlP"
      }
    },
    {
      "cell_type": "code",
      "source": [
        "D32=Prueba[\"D32\"]= Cierre_precio_anterior_soja\n",
        "print(D32)"
      ],
      "metadata": {
        "id": "u1CZ5cBZUVkn",
        "colab": {
          "base_uri": "https://localhost:8080/"
        },
        "outputId": "0b11ef63-8a71-4344-ad5d-fccd424e29ac"
      },
      "execution_count": null,
      "outputs": [
        {
          "output_type": "stream",
          "name": "stdout",
          "text": [
            "1490.5\n"
          ]
        }
      ]
    },
    {
      "cell_type": "markdown",
      "source": [
        "**Cierre a 5 dias**"
      ],
      "metadata": {
        "id": "Msc53_Y0UUIl"
      }
    },
    {
      "cell_type": "code",
      "source": [
        "A32=Prueba[\"A32\"]= Cierre_precio_anterior5dias_soja\n",
        "print(A32)"
      ],
      "metadata": {
        "id": "c6jHiPd0UWVE",
        "colab": {
          "base_uri": "https://localhost:8080/"
        },
        "outputId": "11115cf0-5f3e-4be4-9465-c0b7d17462de"
      },
      "execution_count": null,
      "outputs": [
        {
          "output_type": "stream",
          "name": "stdout",
          "text": [
            "1440.0\n"
          ]
        }
      ]
    },
    {
      "cell_type": "markdown",
      "source": [
        "**Cafe**"
      ],
      "metadata": {
        "id": "ci9r6TxfUYWI"
      }
    },
    {
      "cell_type": "markdown",
      "source": [
        "**Apertura**"
      ],
      "metadata": {
        "id": "iTocSozkUe9E"
      }
    },
    {
      "cell_type": "code",
      "source": [
        "C33=Prueba[\"C33\"]= Apertura_Cafe/100\n",
        "print(C33)"
      ],
      "metadata": {
        "id": "8vlAj_WrUip0",
        "colab": {
          "base_uri": "https://localhost:8080/"
        },
        "outputId": "899ba6c4-2f81-4a59-fdbc-7a16580b4966"
      },
      "execution_count": null,
      "outputs": [
        {
          "output_type": "stream",
          "name": "stdout",
          "text": [
            "2.3632\n"
          ]
        }
      ]
    },
    {
      "cell_type": "markdown",
      "source": [
        "**Cierre anterior**"
      ],
      "metadata": {
        "id": "3Ba146gzUgoZ"
      }
    },
    {
      "cell_type": "code",
      "source": [
        "D33=Prueba[\"D33\"]= Cierre_precio_anterior_Cafe/100\n",
        "print(D33)"
      ],
      "metadata": {
        "id": "wiN-KvLhUjoN",
        "colab": {
          "base_uri": "https://localhost:8080/"
        },
        "outputId": "064ee335-5428-40e5-b03f-1c20c1929b4c"
      },
      "execution_count": null,
      "outputs": [
        {
          "output_type": "stream",
          "name": "stdout",
          "text": [
            "2.351\n"
          ]
        }
      ]
    },
    {
      "cell_type": "markdown",
      "source": [
        "**Cierre a 5 dias**"
      ],
      "metadata": {
        "id": "RA85KnYTUiHp"
      }
    },
    {
      "cell_type": "code",
      "source": [
        "A33=Prueba[\"A33\"]= Cierre_precio_anterior5dias_Cafe/100\n",
        "print(A33)"
      ],
      "metadata": {
        "id": "_wgZxWw3Ukab",
        "colab": {
          "base_uri": "https://localhost:8080/"
        },
        "outputId": "f97cc432-2856-4057-d019-a5b50eae42cb"
      },
      "execution_count": null,
      "outputs": [
        {
          "output_type": "stream",
          "name": "stdout",
          "text": [
            "2.3890000000000002\n"
          ]
        }
      ]
    },
    {
      "cell_type": "markdown",
      "source": [
        "**Azucar**"
      ],
      "metadata": {
        "id": "YND7NnB-UogQ"
      }
    },
    {
      "cell_type": "markdown",
      "source": [
        "**Apertura**"
      ],
      "metadata": {
        "id": "Exn3rDk5Uyi-"
      }
    },
    {
      "cell_type": "code",
      "source": [
        "C34=Prueba[\"C34\"]= Apertura_Azucar\n",
        "print(C34)"
      ],
      "metadata": {
        "id": "SFZ_hPBZU14F",
        "colab": {
          "base_uri": "https://localhost:8080/"
        },
        "outputId": "252fc294-07b7-4377-8798-27cf9f05c3f6"
      },
      "execution_count": null,
      "outputs": [
        {
          "output_type": "stream",
          "name": "stdout",
          "text": [
            "18.31\n"
          ]
        }
      ]
    },
    {
      "cell_type": "markdown",
      "source": [
        "**Cierre anterior**"
      ],
      "metadata": {
        "id": "7uzKhYvWUz0r"
      }
    },
    {
      "cell_type": "code",
      "source": [
        "D34=Prueba[\"D34\"]= Cierre_precio_anterior_Azucar\n",
        "print(D34)"
      ],
      "metadata": {
        "id": "24ygrLH0U2V8",
        "colab": {
          "base_uri": "https://localhost:8080/"
        },
        "outputId": "680caf96-e384-4e17-c9cf-87cea747d591"
      },
      "execution_count": null,
      "outputs": [
        {
          "output_type": "stream",
          "name": "stdout",
          "text": [
            "18.22\n"
          ]
        }
      ]
    },
    {
      "cell_type": "markdown",
      "source": [
        "**Cierre a 5 dias**"
      ],
      "metadata": {
        "id": "CPgFBVHAU1K8"
      }
    },
    {
      "cell_type": "code",
      "source": [
        "A34=Prueba[\"A34\"]= Cierre_precio_anterior5dias_Azucar\n",
        "print(A34)"
      ],
      "metadata": {
        "id": "-2IIwihJU3Fs",
        "colab": {
          "base_uri": "https://localhost:8080/"
        },
        "outputId": "d7342039-e133-48df-a704-74ffb1a34e7d"
      },
      "execution_count": null,
      "outputs": [
        {
          "output_type": "stream",
          "name": "stdout",
          "text": [
            "18.49\n"
          ]
        }
      ]
    },
    {
      "cell_type": "markdown",
      "source": [
        "**Renta Fija**"
      ],
      "metadata": {
        "id": "vSOUAZmiU6Wo"
      }
    },
    {
      "cell_type": "markdown",
      "source": [
        "**EE.UU**"
      ],
      "metadata": {
        "id": "BveO6bIaU-BB"
      }
    },
    {
      "cell_type": "markdown",
      "source": [
        "**Apertura**"
      ],
      "metadata": {
        "id": "8r_9GQVpVIGA"
      }
    },
    {
      "cell_type": "code",
      "source": [
        "k6 =Prueba[\"k6\"]= Apertura_Estados_unidos/100\n",
        "print(k6)"
      ],
      "metadata": {
        "id": "GLRUushjVIyg",
        "colab": {
          "base_uri": "https://localhost:8080/"
        },
        "outputId": "ac502797-de1c-42b8-ab9c-8e0dcfeecafb"
      },
      "execution_count": null,
      "outputs": [
        {
          "output_type": "stream",
          "name": "stdout",
          "text": [
            "0.01789\n"
          ]
        }
      ]
    },
    {
      "cell_type": "markdown",
      "source": [
        "**Cierre anterior**"
      ],
      "metadata": {
        "id": "1V4AhiMlVKn2"
      }
    },
    {
      "cell_type": "code",
      "source": [
        "l6=Prueba[\"l6\"]= Cierre_precio_anterior_Estados_unidos/100\n",
        "print(l6)"
      ],
      "metadata": {
        "id": "MNcwRDG8VMZj",
        "colab": {
          "base_uri": "https://localhost:8080/"
        },
        "outputId": "c382e326-5c19-4cac-86c9-77c59ce73c7e"
      },
      "execution_count": null,
      "outputs": [
        {
          "output_type": "stream",
          "name": "stdout",
          "text": [
            "0.01784\n"
          ]
        }
      ]
    },
    {
      "cell_type": "markdown",
      "source": [
        "**Cierre a 5 dias**"
      ],
      "metadata": {
        "id": "5obPzWJIVMrF"
      }
    },
    {
      "cell_type": "code",
      "source": [
        "q6=Prueba[\"q6\"]= Cierre_precio_anterior5dias_Estados_unidos/100\n",
        "print(q6)"
      ],
      "metadata": {
        "id": "YLhgZHciVNe7",
        "colab": {
          "base_uri": "https://localhost:8080/"
        },
        "outputId": "e28f584d-bcb0-444a-97db-e214cd625a13"
      },
      "execution_count": null,
      "outputs": [
        {
          "output_type": "stream",
          "name": "stdout",
          "text": [
            "0.01803\n"
          ]
        }
      ]
    },
    {
      "cell_type": "markdown",
      "source": [
        "**Alemania**"
      ],
      "metadata": {
        "id": "ZYBJMG6kVOM8"
      }
    },
    {
      "cell_type": "markdown",
      "source": [
        "**Apertura**"
      ],
      "metadata": {
        "id": "Be_0MDoXVarl"
      }
    },
    {
      "cell_type": "code",
      "source": [
        "k7=Prueba[\"k7\"]= Apertura_Alemania/100\n",
        "print(k7)"
      ],
      "metadata": {
        "id": "CvNUOZYOVdwo",
        "colab": {
          "base_uri": "https://localhost:8080/"
        },
        "outputId": "518e3ed7-62a7-4eae-d220-cee836bf32eb"
      },
      "execution_count": null,
      "outputs": [
        {
          "output_type": "stream",
          "name": "stdout",
          "text": [
            "0.000115\n"
          ]
        }
      ]
    },
    {
      "cell_type": "markdown",
      "source": [
        "**Cierre anterior**"
      ],
      "metadata": {
        "id": "7lkZR6ElVb2X"
      }
    },
    {
      "cell_type": "code",
      "source": [
        "l7=Prueba[\"l7\"]= Cierre_precio_anterior_Alemania/100\n",
        "print(l7)"
      ],
      "metadata": {
        "id": "r-mx0ztHVee8",
        "colab": {
          "base_uri": "https://localhost:8080/"
        },
        "outputId": "ad24e605-ed68-4e38-f685-752eae8e08de"
      },
      "execution_count": null,
      "outputs": [
        {
          "output_type": "stream",
          "name": "stdout",
          "text": [
            "0.00014000000000000001\n"
          ]
        }
      ]
    },
    {
      "cell_type": "markdown",
      "source": [
        "**Cierre a 5 dias**"
      ],
      "metadata": {
        "id": "mClhneOGVdNS"
      }
    },
    {
      "cell_type": "code",
      "source": [
        "q7=Prueba[\"q7\"]= Cierre_precio_anterior5dias_Alemania/100\n",
        "print(q7)"
      ],
      "metadata": {
        "id": "yWHlw3LDVfFi",
        "colab": {
          "base_uri": "https://localhost:8080/"
        },
        "outputId": "929ae0ab-90cf-4852-b8fd-60d70da308a6"
      },
      "execution_count": null,
      "outputs": [
        {
          "output_type": "stream",
          "name": "stdout",
          "text": [
            "-0.0007099999999999999\n"
          ]
        }
      ]
    },
    {
      "cell_type": "markdown",
      "source": [
        "**Reino Unido**"
      ],
      "metadata": {
        "id": "GFSZzfmWVhQR"
      }
    },
    {
      "cell_type": "markdown",
      "source": [
        "**Apertura**"
      ],
      "metadata": {
        "id": "NK9ZXMxbVltm"
      }
    },
    {
      "cell_type": "code",
      "source": [
        "K8=Prueba[\"k8\"]= Apertura_Reino_unido/100\n",
        "print(K8)"
      ],
      "metadata": {
        "id": "2bmDa48fVpM2",
        "colab": {
          "base_uri": "https://localhost:8080/"
        },
        "outputId": "3b33a9f5-1aee-47ec-faae-e29f2ae7993a"
      },
      "execution_count": null,
      "outputs": [
        {
          "output_type": "stream",
          "name": "stdout",
          "text": [
            "0.01306\n"
          ]
        }
      ]
    },
    {
      "cell_type": "markdown",
      "source": [
        "**Cierre anterior**"
      ],
      "metadata": {
        "id": "3LVzvoy_VnNz"
      }
    },
    {
      "cell_type": "code",
      "source": [
        "l8=Prueba[\"l8\"]= Cierre_precio_anterior_Reino_unido/100\n",
        "print(l8)"
      ],
      "metadata": {
        "id": "3BJY94flVp8m",
        "colab": {
          "base_uri": "https://localhost:8080/"
        },
        "outputId": "67c427a4-d2ff-4ab2-f051-088dcf706a9a"
      },
      "execution_count": null,
      "outputs": [
        {
          "output_type": "stream",
          "name": "stdout",
          "text": [
            "0.01307\n"
          ]
        }
      ]
    },
    {
      "cell_type": "markdown",
      "source": [
        "**Cierre a 5 dias**"
      ],
      "metadata": {
        "id": "Hfb5NsnlVocx"
      }
    },
    {
      "cell_type": "code",
      "source": [
        "q8=Prueba[\"q8\"]= Cierre_precio_anterior5dias_Reino_unido/100\n",
        "print(q8)"
      ],
      "metadata": {
        "id": "VJ0DwvHxVkPl",
        "colab": {
          "base_uri": "https://localhost:8080/"
        },
        "outputId": "de6ac4ad-8287-48b3-eb72-fb22d9505d97"
      },
      "execution_count": null,
      "outputs": [
        {
          "output_type": "stream",
          "name": "stdout",
          "text": [
            "0.01244\n"
          ]
        }
      ]
    },
    {
      "cell_type": "markdown",
      "source": [
        "**Francia**"
      ],
      "metadata": {
        "id": "zlDLjcfeVq_9"
      }
    },
    {
      "cell_type": "markdown",
      "source": [
        "**Apertura**"
      ],
      "metadata": {
        "id": "u0qcfSWUV0he"
      }
    },
    {
      "cell_type": "code",
      "source": [
        "K9=Prueba[\"k9\"]= Apertura_Francia/100\n",
        "print(K9)"
      ],
      "metadata": {
        "id": "wSnOM2N2V37W",
        "colab": {
          "base_uri": "https://localhost:8080/"
        },
        "outputId": "eb2c9961-de5b-4ba7-f482-a2ad76056755"
      },
      "execution_count": null,
      "outputs": [
        {
          "output_type": "stream",
          "name": "stdout",
          "text": [
            "0.00423\n"
          ]
        }
      ]
    },
    {
      "cell_type": "markdown",
      "source": [
        "**Cierre anterior**"
      ],
      "metadata": {
        "id": "o6ehN4xyV11W"
      }
    },
    {
      "cell_type": "code",
      "source": [
        "l9=Prueba[\"l9\"]= Cierre_precio_anterior_Francia/100\n",
        "print(l9)"
      ],
      "metadata": {
        "id": "pTLCrYFlV4hg",
        "colab": {
          "base_uri": "https://localhost:8080/"
        },
        "outputId": "1c39a35c-7a61-43fa-bc2a-3a0f5b2fa629"
      },
      "execution_count": null,
      "outputs": [
        {
          "output_type": "stream",
          "name": "stdout",
          "text": [
            "0.0042699999999999995\n"
          ]
        }
      ]
    },
    {
      "cell_type": "markdown",
      "source": [
        "**Cierre a 5 dias**"
      ],
      "metadata": {
        "id": "b6QYexuXV3R0"
      }
    },
    {
      "cell_type": "code",
      "source": [
        "q9=Prueba[\"q9\"]= Cierre_precio_anterior5dias_Francia/100\n",
        "print(q9)"
      ],
      "metadata": {
        "id": "EEvWe5cYV5HX",
        "colab": {
          "base_uri": "https://localhost:8080/"
        },
        "outputId": "f22d8464-35a5-4c4e-b88d-8dc2fd38d77b"
      },
      "execution_count": null,
      "outputs": [
        {
          "output_type": "stream",
          "name": "stdout",
          "text": [
            "0.00345\n"
          ]
        }
      ]
    },
    {
      "cell_type": "markdown",
      "source": [
        "**Italia**"
      ],
      "metadata": {
        "id": "pGpPanF6V-IS"
      }
    },
    {
      "cell_type": "markdown",
      "source": [
        "**Apertura**"
      ],
      "metadata": {
        "id": "jyGAj_2UWB0P"
      }
    },
    {
      "cell_type": "code",
      "source": [
        "k10=Prueba[\"k10\"]= Apertura_Italia/100\n",
        "print(k10)"
      ],
      "metadata": {
        "id": "0_0o80mPWFPu",
        "colab": {
          "base_uri": "https://localhost:8080/"
        },
        "outputId": "4161d744-5538-4d2a-a3c0-487c376eb08f"
      },
      "execution_count": null,
      "outputs": [
        {
          "output_type": "stream",
          "name": "stdout",
          "text": [
            "0.01367\n"
          ]
        }
      ]
    },
    {
      "cell_type": "markdown",
      "source": [
        "**Cierre anterior**"
      ],
      "metadata": {
        "id": "wYQ3IW9bWDBT"
      }
    },
    {
      "cell_type": "code",
      "source": [
        "l10=Prueba[\"l10\"]= Cierre_precio_anterior_Italia/100\n",
        "print(l10)"
      ],
      "metadata": {
        "id": "QrsG3fPHWF5i",
        "colab": {
          "base_uri": "https://localhost:8080/"
        },
        "outputId": "cf23416e-0654-4b9b-e1f5-e782af767a27"
      },
      "execution_count": null,
      "outputs": [
        {
          "output_type": "stream",
          "name": "stdout",
          "text": [
            "0.013680000000000001\n"
          ]
        }
      ]
    },
    {
      "cell_type": "markdown",
      "source": [
        "**Cierre a 5 dias**"
      ],
      "metadata": {
        "id": "8A1eBDx1WEUI"
      }
    },
    {
      "cell_type": "code",
      "source": [
        "q10=Prueba[\"q10\"]= Cierre_precio_anterior5dias_Italia/100\n",
        "print(q10)"
      ],
      "metadata": {
        "id": "fNkvqxLMWGce",
        "colab": {
          "base_uri": "https://localhost:8080/"
        },
        "outputId": "af22f486-0f32-48f9-f099-0a383ea49443"
      },
      "execution_count": null,
      "outputs": [
        {
          "output_type": "stream",
          "name": "stdout",
          "text": [
            "0.01397\n"
          ]
        }
      ]
    },
    {
      "cell_type": "markdown",
      "source": [
        "**Japon**"
      ],
      "metadata": {
        "id": "Rq4BaLi8WIIE"
      }
    },
    {
      "cell_type": "markdown",
      "source": [
        "**Apertura**"
      ],
      "metadata": {
        "id": "dPZy7eNTWMU3"
      }
    },
    {
      "cell_type": "code",
      "source": [
        "k11=Prueba[\"k11\"]= Apertura_Japon/100\n",
        "print(k11)"
      ],
      "metadata": {
        "id": "Z7rwQSIYWQZv",
        "colab": {
          "base_uri": "https://localhost:8080/"
        },
        "outputId": "ae1f7ff1-213b-4b18-9bb9-24774d8032d0"
      },
      "execution_count": null,
      "outputs": [
        {
          "output_type": "stream",
          "name": "stdout",
          "text": [
            "0.0017599999999999998\n"
          ]
        }
      ]
    },
    {
      "cell_type": "markdown",
      "source": [
        "**Cierre anterior**"
      ],
      "metadata": {
        "id": "Y9K7sCG7WNnG"
      }
    },
    {
      "cell_type": "code",
      "source": [
        "l11=Prueba[\"l11\"]= Cierre_precio_anterior_Japon/100\n",
        "print(l11)"
      ],
      "metadata": {
        "id": "ukzR5wzaWRPK",
        "colab": {
          "base_uri": "https://localhost:8080/"
        },
        "outputId": "355fd141-c690-4e98-c118-a023f2c48f07"
      },
      "execution_count": null,
      "outputs": [
        {
          "output_type": "stream",
          "name": "stdout",
          "text": [
            "0.0017399999999999998\n"
          ]
        }
      ]
    },
    {
      "cell_type": "markdown",
      "source": [
        "**Cierre a 5 dias**"
      ],
      "metadata": {
        "id": "mbNUQwKyWPCr"
      }
    },
    {
      "cell_type": "code",
      "source": [
        "q11=Prueba[\"q11\"]= Cierre_precio_anterior5dias_Japon/100\n",
        "print(q11)"
      ],
      "metadata": {
        "id": "SQfw9x7JWSOK",
        "colab": {
          "base_uri": "https://localhost:8080/"
        },
        "outputId": "c15749ac-27de-4060-e0d4-10ef148c73e1"
      },
      "execution_count": null,
      "outputs": [
        {
          "output_type": "stream",
          "name": "stdout",
          "text": [
            "0.00158\n"
          ]
        }
      ]
    },
    {
      "cell_type": "markdown",
      "source": [
        "**Brazil**"
      ],
      "metadata": {
        "id": "mLsL0iQnWWlF"
      }
    },
    {
      "cell_type": "markdown",
      "source": [
        "**Apertura**"
      ],
      "metadata": {
        "id": "KQpH4q6fWac9"
      }
    },
    {
      "cell_type": "code",
      "source": [
        "k13=Prueba[\"k13\"]= Apertura_Brazil/100\n",
        "print(k13)"
      ],
      "metadata": {
        "id": "ui0vWFMIWdxV",
        "colab": {
          "base_uri": "https://localhost:8080/"
        },
        "outputId": "210f8eb5-4c3c-43d0-bb52-21b9a7114749"
      },
      "execution_count": null,
      "outputs": [
        {
          "output_type": "stream",
          "name": "stdout",
          "text": [
            "0.11420999999999999\n"
          ]
        }
      ]
    },
    {
      "cell_type": "markdown",
      "source": [
        "**Cierre anterior**"
      ],
      "metadata": {
        "id": "vtpOi-8-Wb6x"
      }
    },
    {
      "cell_type": "code",
      "source": [
        "l13=Prueba[\"l13\"]= Cierre_precio_anterior_Brazil/100\n",
        "print(l13)"
      ],
      "metadata": {
        "id": "4R_iXmigWeQ8",
        "colab": {
          "base_uri": "https://localhost:8080/"
        },
        "outputId": "f3abf948-1029-4313-bdbf-526626474b85"
      },
      "execution_count": null,
      "outputs": [
        {
          "output_type": "stream",
          "name": "stdout",
          "text": [
            "0.11109999999999999\n"
          ]
        }
      ]
    },
    {
      "cell_type": "markdown",
      "source": [
        "**Cierre a 5 dias**"
      ],
      "metadata": {
        "id": "X9G2m4dVWdQY"
      }
    },
    {
      "cell_type": "code",
      "source": [
        "q13=Prueba[\"q13\"]= Cierre_precio_anterior5dias_Brazil/100\n",
        "print(q13)"
      ],
      "metadata": {
        "id": "TEu_oLEXWYcm",
        "colab": {
          "base_uri": "https://localhost:8080/"
        },
        "outputId": "a0a5508d-59d7-4f86-b5ce-b929f01886c9"
      },
      "execution_count": null,
      "outputs": [
        {
          "output_type": "stream",
          "name": "stdout",
          "text": [
            "0.11435000000000001\n"
          ]
        }
      ]
    },
    {
      "cell_type": "markdown",
      "source": [
        "**Mexico**"
      ],
      "metadata": {
        "id": "yXTWROY6Wf-t"
      }
    },
    {
      "cell_type": "markdown",
      "source": [
        "**Apertura**"
      ],
      "metadata": {
        "id": "kgGJRI13WjEs"
      }
    },
    {
      "cell_type": "code",
      "source": [
        "k14=Prueba[\"k14\"]= Apertura_Mexico/100\n",
        "print(k14)"
      ],
      "metadata": {
        "id": "NYMjkog5WmJm",
        "colab": {
          "base_uri": "https://localhost:8080/"
        },
        "outputId": "ad7d4296-cb37-40e9-be78-3f02ad481662"
      },
      "execution_count": null,
      "outputs": [
        {
          "output_type": "stream",
          "name": "stdout",
          "text": [
            "0.07928\n"
          ]
        }
      ]
    },
    {
      "cell_type": "markdown",
      "source": [
        "**Cierre anterior**"
      ],
      "metadata": {
        "id": "iSTnIz5YWkVD"
      }
    },
    {
      "cell_type": "code",
      "source": [
        "l14=Prueba[\"l14\"]= Cierre_precio_anterior_Mexico/100\n",
        "print(l14)"
      ],
      "metadata": {
        "id": "_aXUjG1-Wmzd",
        "colab": {
          "base_uri": "https://localhost:8080/"
        },
        "outputId": "f041c86f-eec5-46f5-b15e-f95c221132a6"
      },
      "execution_count": null,
      "outputs": [
        {
          "output_type": "stream",
          "name": "stdout",
          "text": [
            "0.07915\n"
          ]
        }
      ]
    },
    {
      "cell_type": "markdown",
      "source": [
        "**Cierre a 5 dias**"
      ],
      "metadata": {
        "id": "e_q9NPtFWllJ"
      }
    },
    {
      "cell_type": "code",
      "source": [
        "q14=Prueba[\"q14\"]= Cierre_precio_anterior5dias_Mexico/100\n",
        "print(q14)"
      ],
      "metadata": {
        "id": "ZvSA49wsWnUv",
        "colab": {
          "base_uri": "https://localhost:8080/"
        },
        "outputId": "4fa2fa49-11b5-4f34-f4fe-6f9ef775fe1f"
      },
      "execution_count": null,
      "outputs": [
        {
          "output_type": "stream",
          "name": "stdout",
          "text": [
            "0.07676\n"
          ]
        }
      ]
    },
    {
      "cell_type": "markdown",
      "source": [
        "**Chile**"
      ],
      "metadata": {
        "id": "-EtdPAKBWoIT"
      }
    },
    {
      "cell_type": "markdown",
      "source": [
        "**Apertura**"
      ],
      "metadata": {
        "id": "h1MZVQmVWsr7"
      }
    },
    {
      "cell_type": "code",
      "source": [
        "k15=Prueba[\"k15\"]= Apertura_Chile/100\n",
        "print(k15)"
      ],
      "metadata": {
        "id": "11LdLXN3WwF9",
        "colab": {
          "base_uri": "https://localhost:8080/"
        },
        "outputId": "65b0dec1-8b70-4fd5-e60d-63099e191757"
      },
      "execution_count": null,
      "outputs": [
        {
          "output_type": "stream",
          "name": "stdout",
          "text": [
            "0.0582\n"
          ]
        }
      ]
    },
    {
      "cell_type": "markdown",
      "source": [
        "**Cierre anterior**"
      ],
      "metadata": {
        "id": "ocekAXsgWt2x"
      }
    },
    {
      "cell_type": "code",
      "source": [
        "l15=Prueba[\"l15\"]= Cierre_precio_anterior_Chile/100\n",
        "print(l15)"
      ],
      "metadata": {
        "id": "dz_tkpn0WwwD",
        "colab": {
          "base_uri": "https://localhost:8080/"
        },
        "outputId": "c8299b94-ae9d-4687-b35b-f05a7da9dd51"
      },
      "execution_count": null,
      "outputs": [
        {
          "output_type": "stream",
          "name": "stdout",
          "text": [
            "0.0592\n"
          ]
        }
      ]
    },
    {
      "cell_type": "markdown",
      "source": [
        "**Cierre a 5 dias**"
      ],
      "metadata": {
        "id": "wKi6NSpesAuX"
      }
    },
    {
      "cell_type": "code",
      "source": [
        "q15=Prueba[\"q15\"]= Cierre_precio_anterior5dias_Chile/100\n",
        "print(q15)"
      ],
      "metadata": {
        "id": "5XFMzXKDsBYG",
        "colab": {
          "base_uri": "https://localhost:8080/"
        },
        "outputId": "5ec6ecf6-f597-4a2f-addb-a16a365c594f"
      },
      "execution_count": null,
      "outputs": [
        {
          "output_type": "stream",
          "name": "stdout",
          "text": [
            "0.0584\n"
          ]
        }
      ]
    },
    {
      "cell_type": "markdown",
      "source": [
        "**Argentina**"
      ],
      "metadata": {
        "id": "3mh4StMQW3US"
      }
    },
    {
      "cell_type": "markdown",
      "source": [
        "**Apertura**"
      ],
      "metadata": {
        "id": "9s8YZeI8W7aO"
      }
    },
    {
      "cell_type": "code",
      "source": [
        "k16=Prueba[\"k16\"]= Apertura_Argentina/100\n",
        "print(k16)"
      ],
      "metadata": {
        "id": "quclovVRW___",
        "colab": {
          "base_uri": "https://localhost:8080/"
        },
        "outputId": "62df2745-8d8e-4294-b3d8-8bb54140adaa"
      },
      "execution_count": null,
      "outputs": [
        {
          "output_type": "stream",
          "name": "stdout",
          "text": [
            "0.3181\n"
          ]
        }
      ]
    },
    {
      "cell_type": "markdown",
      "source": [
        "**Cierre anterior**"
      ],
      "metadata": {
        "id": "7FIkoE00W8ab"
      }
    },
    {
      "cell_type": "code",
      "source": [
        "l16=Prueba[\"l16\"]= Cierre_precio_anterior_Argentina/100\n",
        "print(l16)"
      ],
      "metadata": {
        "id": "2UtkOUMVW2q5",
        "colab": {
          "base_uri": "https://localhost:8080/"
        },
        "outputId": "267980f1-6b09-40c9-90d2-4303991e5f98"
      },
      "execution_count": null,
      "outputs": [
        {
          "output_type": "stream",
          "name": "stdout",
          "text": [
            "0.371\n"
          ]
        }
      ]
    },
    {
      "cell_type": "markdown",
      "source": [
        "**Cierre a 5 dias**"
      ],
      "metadata": {
        "id": "BMIg1ZL3XK4N"
      }
    },
    {
      "cell_type": "code",
      "source": [
        "q16=Prueba[\"q16\"]= Cierre_precio_anterior5dias_Argentina/100\n",
        "print(q16)"
      ],
      "metadata": {
        "id": "zSVYAaL5XQK6",
        "colab": {
          "base_uri": "https://localhost:8080/"
        },
        "outputId": "1b0ff5af-35be-4944-da28-29aef3057ac9"
      },
      "execution_count": null,
      "outputs": [
        {
          "output_type": "stream",
          "name": "stdout",
          "text": [
            "0.38170000000000004\n"
          ]
        }
      ]
    },
    {
      "cell_type": "markdown",
      "source": [
        "**Colombia**"
      ],
      "metadata": {
        "id": "t4bqgt_bXBCH"
      }
    },
    {
      "cell_type": "markdown",
      "source": [
        "**Apertura**"
      ],
      "metadata": {
        "id": "t99LG3EOXM5Z"
      }
    },
    {
      "cell_type": "code",
      "source": [
        "k17=Prueba[\"k17\"]= Apertura_Colombia/100\n",
        "print(k17)"
      ],
      "metadata": {
        "id": "QxNWm8o8XSwH",
        "colab": {
          "base_uri": "https://localhost:8080/"
        },
        "outputId": "adcc2137-be0a-4849-c363-3ef7a1bdd338"
      },
      "execution_count": null,
      "outputs": [
        {
          "output_type": "stream",
          "name": "stdout",
          "text": [
            "0.09000999999999999\n"
          ]
        }
      ]
    },
    {
      "cell_type": "markdown",
      "source": [
        "**Cierre anterior**"
      ],
      "metadata": {
        "id": "hS9x3Gz7XOZc"
      }
    },
    {
      "cell_type": "code",
      "source": [
        "l27=Prueba[\"l17\"]= Cierre_precio_anterior_Colombia/100\n",
        "print(l27)"
      ],
      "metadata": {
        "id": "lacJoTnWXTZG",
        "colab": {
          "base_uri": "https://localhost:8080/"
        },
        "outputId": "aeeb485d-6c5f-49bc-b403-a3a494b7696e"
      },
      "execution_count": null,
      "outputs": [
        {
          "output_type": "stream",
          "name": "stdout",
          "text": [
            "0.08900000000000001\n"
          ]
        }
      ]
    },
    {
      "cell_type": "markdown",
      "source": [
        "**Cierre a 5 dias**"
      ],
      "metadata": {
        "id": "tNN8Ex99XSBL"
      }
    },
    {
      "cell_type": "code",
      "source": [
        "q17=Prueba[\"q17\"]= Cierre_precio_anterior5dias_Colombia/100\n",
        "print(q17)"
      ],
      "metadata": {
        "id": "DjOHGWvKXUMn",
        "colab": {
          "base_uri": "https://localhost:8080/"
        },
        "outputId": "4cb9c01c-6860-4d1c-859b-9af15802ce95"
      },
      "execution_count": null,
      "outputs": [
        {
          "output_type": "stream",
          "name": "stdout",
          "text": [
            "0.08932999999999999\n"
          ]
        }
      ]
    },
    {
      "cell_type": "markdown",
      "source": [
        "**Peru**"
      ],
      "metadata": {
        "id": "dyACtg4RXWDP"
      }
    },
    {
      "cell_type": "markdown",
      "source": [
        "**Apertura**"
      ],
      "metadata": {
        "id": "2fK-jpryXcos"
      }
    },
    {
      "cell_type": "code",
      "source": [
        "k18=Prueba[\"k18\"]= Apertura_Peru/100\n",
        "print(k18)"
      ],
      "metadata": {
        "id": "Pnqi1KGBXgUE",
        "colab": {
          "base_uri": "https://localhost:8080/"
        },
        "outputId": "5d448225-8c8b-4f77-9d8a-555f780551f0"
      },
      "execution_count": null,
      "outputs": [
        {
          "output_type": "stream",
          "name": "stdout",
          "text": [
            "0.06126\n"
          ]
        }
      ]
    },
    {
      "cell_type": "markdown",
      "source": [
        "**Cierre anterior**"
      ],
      "metadata": {
        "id": "VfDBugiiXd7A"
      }
    },
    {
      "cell_type": "code",
      "source": [
        "l18=Prueba[\"l18\"]= Cierre_precio_anterior_Peru/100\n",
        "print(l18)"
      ],
      "metadata": {
        "id": "2OSZh5rdXg4_",
        "colab": {
          "base_uri": "https://localhost:8080/"
        },
        "outputId": "a05347a4-c9c2-4e01-9b91-eedc550c2f23"
      },
      "execution_count": null,
      "outputs": [
        {
          "output_type": "stream",
          "name": "stdout",
          "text": [
            "0.0611\n"
          ]
        }
      ]
    },
    {
      "cell_type": "markdown",
      "source": [
        "**Cierre a 5 dias**"
      ],
      "metadata": {
        "id": "xgYgAMq7Xfn4"
      }
    },
    {
      "cell_type": "code",
      "source": [
        "q18=Prueba[\"q18\"]= Cierre_precio_anterior5dias_Peru/100\n",
        "print(q18)"
      ],
      "metadata": {
        "id": "v2w1pCCIXhsX",
        "colab": {
          "base_uri": "https://localhost:8080/"
        },
        "outputId": "5db56286-95b4-4726-d5e3-b9a90d7092e0"
      },
      "execution_count": null,
      "outputs": [
        {
          "output_type": "stream",
          "name": "stdout",
          "text": [
            "0.06053\n"
          ]
        }
      ]
    },
    {
      "cell_type": "markdown",
      "source": [
        "**Dolar**"
      ],
      "metadata": {
        "id": "HbBUYYIaXs7w"
      }
    },
    {
      "cell_type": "markdown",
      "source": [
        "**Apertura**"
      ],
      "metadata": {
        "id": "ohbp36BRXx4G"
      }
    },
    {
      "cell_type": "code",
      "source": [
        "k25=Prueba[\"k25\"]= Apertura_Dolar\n",
        "print(k25)"
      ],
      "metadata": {
        "id": "eFsNb_NnX8Wt",
        "colab": {
          "base_uri": "https://localhost:8080/"
        },
        "outputId": "5bed1752-3107-4cec-9bc5-0c0d7c8990b0"
      },
      "execution_count": null,
      "outputs": [
        {
          "output_type": "stream",
          "name": "stdout",
          "text": [
            "3947.78\n"
          ]
        }
      ]
    },
    {
      "cell_type": "markdown",
      "source": [
        "**Cierre anterior**"
      ],
      "metadata": {
        "id": "C3gvSMacXzVy"
      }
    },
    {
      "cell_type": "code",
      "source": [
        "l25=Prueba[\"l25\"]= Cierre_precio_anterior_Dolar\n",
        "print(l25)"
      ],
      "metadata": {
        "id": "lDFuGITNX85A",
        "colab": {
          "base_uri": "https://localhost:8080/"
        },
        "outputId": "59fbc188-6064-4627-fa45-ba3b4b128430"
      },
      "execution_count": null,
      "outputs": [
        {
          "output_type": "stream",
          "name": "stdout",
          "text": [
            "3941.41\n"
          ]
        }
      ]
    },
    {
      "cell_type": "markdown",
      "source": [
        "**Cierre a 5 dias**"
      ],
      "metadata": {
        "id": "5_iival1X01d"
      }
    },
    {
      "cell_type": "code",
      "source": [
        "q25=Prueba[\"q25\"]= Cierre_precio_anterior5dias_Dolar \n",
        "print(q25)"
      ],
      "metadata": {
        "id": "kPH9cr8MX9X4",
        "colab": {
          "base_uri": "https://localhost:8080/"
        },
        "outputId": "0cecb7b1-e392-4834-9c22-730a0be394a1"
      },
      "execution_count": null,
      "outputs": [
        {
          "output_type": "stream",
          "name": "stdout",
          "text": [
            "3924.22\n"
          ]
        }
      ]
    },
    {
      "cell_type": "markdown",
      "source": [
        "**Euro**"
      ],
      "metadata": {
        "id": "PqW9fg9SX13X"
      }
    },
    {
      "cell_type": "markdown",
      "source": [
        "**Apertura**"
      ],
      "metadata": {
        "id": "TqvudrYIX5Gv"
      }
    },
    {
      "cell_type": "code",
      "source": [
        "k26=Prueba[\"k26\"]= Apertura_Euro\n",
        "print(k26)"
      ],
      "metadata": {
        "id": "ZencNE-HX97Q",
        "colab": {
          "base_uri": "https://localhost:8080/"
        },
        "outputId": "b47549c3-ad54-427e-d89c-30ee3ef505b5"
      },
      "execution_count": null,
      "outputs": [
        {
          "output_type": "stream",
          "name": "stdout",
          "text": [
            "4433.5\n"
          ]
        }
      ]
    },
    {
      "cell_type": "markdown",
      "source": [
        "**Cierre anterior**"
      ],
      "metadata": {
        "id": "Uf8ERAPAX6a_"
      }
    },
    {
      "cell_type": "code",
      "source": [
        "l26=Prueba[\"l26\"]= Cierre_precio_anterior_Euro\n",
        "print(l26)"
      ],
      "metadata": {
        "id": "CZ1JmdkUX-yo",
        "colab": {
          "base_uri": "https://localhost:8080/"
        },
        "outputId": "f6b5bf53-3160-4913-b4da-ee70825ea4ad"
      },
      "execution_count": null,
      "outputs": [
        {
          "output_type": "stream",
          "name": "stdout",
          "text": [
            "4427.0\n"
          ]
        }
      ]
    },
    {
      "cell_type": "markdown",
      "source": [
        "**Cierre a 5 dias**"
      ],
      "metadata": {
        "id": "irZu1Oj-X7wL"
      }
    },
    {
      "cell_type": "code",
      "source": [
        "q26=Prueba[\"q26\"]= Cierre_precio_anterior5dias_Euro\n",
        "print(q26)"
      ],
      "metadata": {
        "id": "--k1-VsLX_XI",
        "colab": {
          "base_uri": "https://localhost:8080/"
        },
        "outputId": "460128dc-5cee-4c5b-f098-005540f1dabb"
      },
      "execution_count": null,
      "outputs": [
        {
          "output_type": "stream",
          "name": "stdout",
          "text": [
            "4410.0\n"
          ]
        }
      ]
    },
    {
      "cell_type": "code",
      "source": [
        "Nueva_bitacora_py.save(\"Nueva bitacora.xlsx\")"
      ],
      "metadata": {
        "id": "AhOKH9NegyV7"
      },
      "execution_count": null,
      "outputs": []
    },
    {
      "cell_type": "markdown",
      "source": [
        "# **Herramientas Analisis de datos**"
      ],
      "metadata": {
        "id": "AtDkHPKWgbnr"
      }
    },
    {
      "cell_type": "code",
      "source": [
        "plt.scatter(brent[\"Close\"],Dolar[\"Close\"]) #Diagrama de dispersion \n",
        "plt.title(\"Correlacion dolar y petroleo\")\n",
        "plt.xlabel(\"Dolar\")\n",
        "plt.ylabel(\"Petroleo\")"
      ],
      "metadata": {
        "id": "Ge2LrgXDgjSj",
        "colab": {
          "base_uri": "https://localhost:8080/"
        },
        "outputId": "0c7d7071-3eed-4ed2-fcaa-8fb621264dd4"
      },
      "execution_count": null,
      "outputs": [
        {
          "output_type": "execute_result",
          "data": {
            "text/plain": [
              "Text(0, 0.5, 'Petroleo')"
            ]
          },
          "metadata": {},
          "execution_count": 294
        },
        {
          "output_type": "display_data",
          "data": {
            "image/png": "[encoded data removed]",
            "text/plain": [
              "<Figure size 432x288 with 1 Axes>"
            ]
          },
          "metadata": {
            "needs_background": "light"
          }
        }
      ]
    },
    {
      "cell_type": "code",
      "source": [
        "brent[\"Close\"].hist() # Histograma "
      ],
      "metadata": {
        "id": "vjMkkfiXjh44",
        "colab": {
          "base_uri": "https://localhost:8080/"
        },
        "outputId": "a720f748-aa8d-446d-e723-bf19b515e39f"
      },
      "execution_count": null,
      "outputs": [
        {
          "output_type": "execute_result",
          "data": {
            "text/plain": [
              "<matplotlib.axes._subplots.AxesSubplot at 0x7fe46abcad90>"
            ]
          },
          "metadata": {},
          "execution_count": 295
        },
        {
          "output_type": "display_data",
          "data": {
            "image/png": "[encoded data removed]",
            "text/plain": [
              "<Figure size 432x288 with 1 Axes>"
            ]
          },
          "metadata": {
            "needs_background": "light"
          }
        }
      ]
    },
    {
      "cell_type": "code",
      "source": [
        "brent[\"Close\"].describe() # Estadistica descriptiva "
      ],
      "metadata": {
        "id": "jMlp51Syj1uu",
        "colab": {
          "base_uri": "https://localhost:8080/"
        },
        "outputId": "d973ad53-483b-4ea5-8168-18ab2b183e62"
      },
      "execution_count": null,
      "outputs": [
        {
          "output_type": "execute_result",
          "data": {
            "text/plain": [
              "count    22.000000\n",
              "mean     85.735455\n",
              "std       3.673414\n",
              "min      78.980000\n",
              "25%      82.422500\n",
              "50%      86.375000\n",
              "75%      88.425000\n",
              "max      91.210000\n",
              "Name: Close, dtype: float64"
            ]
          },
          "metadata": {},
          "execution_count": 296
        }
      ]
    },
    {
      "cell_type": "code",
      "source": [
        "brent99= pd.DataFrame(brent[\"Close\"]) # Correlacion \n",
        "Dolar99= pd.DataFrame(Dolar[\"Close\"])\n",
        "Euro99= pd.DataFrame(Euro[\"Close\"])\n",
        "correlacion = pd.concat([brent99,Dolar99,Euro99 ], axis=1,)\n",
        "Correlacion1=correlacion.corr(method=\"spearman\")\n",
        "print(Correlacion1)"
      ],
      "metadata": {
        "id": "d8wRS9mKkoMX",
        "colab": {
          "base_uri": "https://localhost:8080/"
        },
        "outputId": "700f6c9f-e928-4e69-d582-8fe5f0f276c2"
      },
      "execution_count": null,
      "outputs": [
        {
          "output_type": "stream",
          "name": "stdout",
          "text": [
            "          Close     Close     Close\n",
            "Close  1.000000 -0.832768 -0.866742\n",
            "Close -0.832768  1.000000  0.925989\n",
            "Close -0.866742  0.925989  1.000000\n"
          ]
        }
      ]
    },
    {
      "cell_type": "code",
      "source": [
        "est = smf.ols(formula='brent99 ~ Dolar99', data = correlacion).fit() # regresion lineal \n",
        "est.summary()"
      ],
      "metadata": {
        "id": "RBg8ytN5wvot",
        "colab": {
          "base_uri": "https://localhost:8080/"
        },
        "outputId": "40cb04dc-b81e-4828-cd06-1ca213c4e5eb"
      },
      "execution_count": null,
      "outputs": [
        {
          "output_type": "execute_result",
          "data": {
            "text/html": [
              "<table class=\"simpletable\">\n",
              "<caption>OLS Regression Results</caption>\n",
              "<tr>\n",
              "  <th>Dep. Variable:</th>         <td>brent99</td>     <th>  R-squared:         </th> <td>   0.727</td>\n",
              "</tr>\n",
              "<tr>\n",
              "  <th>Model:</th>                   <td>OLS</td>       <th>  Adj. R-squared:    </th> <td>   0.714</td>\n",
              "</tr>\n",
              "<tr>\n",
              "  <th>Method:</th>             <td>Least Squares</td>  <th>  F-statistic:       </th> <td>   53.39</td>\n",
              "</tr>\n",
              "<tr>\n",
              "  <th>Date:</th>             <td>Tue, 01 Feb 2022</td> <th>  Prob (F-statistic):</th> <td>4.59e-07</td>\n",
              "</tr>\n",
              "<tr>\n",
              "  <th>Time:</th>                 <td>11:24:00</td>     <th>  Log-Likelihood:    </th> <td> -45.028</td>\n",
              "</tr>\n",
              "<tr>\n",
              "  <th>No. Observations:</th>      <td>    22</td>      <th>  AIC:               </th> <td>   94.06</td>\n",
              "</tr>\n",
              "<tr>\n",
              "  <th>Df Residuals:</th>          <td>    20</td>      <th>  BIC:               </th> <td>   96.24</td>\n",
              "</tr>\n",
              "<tr>\n",
              "  <th>Df Model:</th>              <td>     1</td>      <th>                     </th>     <td> </td>   \n",
              "</tr>\n",
              "<tr>\n",
              "  <th>Covariance Type:</th>      <td>nonrobust</td>    <th>                     </th>     <td> </td>   \n",
              "</tr>\n",
              "</table>\n",
              "<table class=\"simpletable\">\n",
              "<tr>\n",
              "      <td></td>         <th>coef</th>     <th>std err</th>      <th>t</th>      <th>P>|t|</th>  <th>[0.025</th>    <th>0.975]</th>  \n",
              "</tr>\n",
              "<tr>\n",
              "  <th>Intercept</th> <td>  373.5229</td> <td>   39.387</td> <td>    9.483</td> <td> 0.000</td> <td>  291.364</td> <td>  455.682</td>\n",
              "</tr>\n",
              "<tr>\n",
              "  <th>Dolar99</th>   <td>   -0.0721</td> <td>    0.010</td> <td>   -7.307</td> <td> 0.000</td> <td>   -0.093</td> <td>   -0.052</td>\n",
              "</tr>\n",
              "</table>\n",
              "<table class=\"simpletable\">\n",
              "<tr>\n",
              "  <th>Omnibus:</th>       <td> 1.078</td> <th>  Durbin-Watson:     </th> <td>   0.901</td>\n",
              "</tr>\n",
              "<tr>\n",
              "  <th>Prob(Omnibus):</th> <td> 0.583</td> <th>  Jarque-Bera (JB):  </th> <td>   0.414</td>\n",
              "</tr>\n",
              "<tr>\n",
              "  <th>Skew:</th>          <td> 0.332</td> <th>  Prob(JB):          </th> <td>   0.813</td>\n",
              "</tr>\n",
              "<tr>\n",
              "  <th>Kurtosis:</th>      <td> 3.100</td> <th>  Cond. No.          </th> <td>3.75e+05</td>\n",
              "</tr>\n",
              "</table><br/><br/>Warnings:<br/>[1] Standard Errors assume that the covariance matrix of the errors is correctly specified.<br/>[2] The condition number is large, 3.75e+05. This might indicate that there are<br/>strong multicollinearity or other numerical problems."
            ],
            "text/plain": [
              "<class 'statsmodels.iolib.summary.Summary'>\n",
              "\"\"\"\n",
              "                            OLS Regression Results                            \n",
              "==============================================================================\n",
              "Dep. Variable:                brent99   R-squared:                       0.727\n",
              "Model:                            OLS   Adj. R-squared:                  0.714\n",
              "Method:                 Least Squares   F-statistic:                     53.39\n",
              "Date:                Tue, 01 Feb 2022   Prob (F-statistic):           4.59e-07\n",
              "Time:                        11:24:00   Log-Likelihood:                -45.028\n",
              "No. Observations:                  22   AIC:                             94.06\n",
              "Df Residuals:                      20   BIC:                             96.24\n",
              "Df Model:                           1                                         \n",
              "Covariance Type:            nonrobust                                         \n",
              "==============================================================================\n",
              "                 coef    std err          t      P>|t|      [0.025      0.975]\n",
              "------------------------------------------------------------------------------\n",
              "Intercept    373.5229     39.387      9.483      0.000     291.364     455.682\n",
              "Dolar99       -0.0721      0.010     -7.307      0.000      -0.093      -0.052\n",
              "==============================================================================\n",
              "Omnibus:                        1.078   Durbin-Watson:                   0.901\n",
              "Prob(Omnibus):                  0.583   Jarque-Bera (JB):                0.414\n",
              "Skew:                           0.332   Prob(JB):                        0.813\n",
              "Kurtosis:                       3.100   Cond. No.                     3.75e+05\n",
              "==============================================================================\n",
              "\n",
              "Warnings:\n",
              "[1] Standard Errors assume that the covariance matrix of the errors is correctly specified.\n",
              "[2] The condition number is large, 3.75e+05. This might indicate that there are\n",
              "strong multicollinearity or other numerical problems.\n",
              "\"\"\""
            ]
          },
          "metadata": {},
          "execution_count": 298
        }
      ]
    },
    {
      "cell_type": "code",
      "source": [
        "sns.heatmap(Correlacion1,annot=True) # Diagrama de correlacion "
      ],
      "metadata": {
        "id": "mKGS7yS2p8gk",
        "colab": {
          "base_uri": "https://localhost:8080/"
        },
        "outputId": "43119d57-b4b7-4039-e90b-57d6f82ef21a"
      },
      "execution_count": null,
      "outputs": [
        {
          "output_type": "execute_result",
          "data": {
            "text/plain": [
              "<matplotlib.axes._subplots.AxesSubplot at 0x7fe46a711d90>"
            ]
          },
          "metadata": {},
          "execution_count": 299
        },
        {
          "output_type": "display_data",
          "data": {
            "image/png": "[encoded data removed]",
            "text/plain": [
              "<Figure size 432x288 with 2 Axes>"
            ]
          },
          "metadata": {
            "needs_background": "light"
          }
        }
      ]
    },
    {
      "cell_type": "code",
      "source": [
        "Ecopetrol  = yf.Ticker(\"EC\") # yahoo finance (1ADR DE ECOPETROL = 20 COLOMBIANAS) 14.57*3950/20 = 5877.575\n",
        "Ecopetrol.info \n",
        "hist = Ecopetrol.history(period=\"max\")\n",
        "hist.tail()"
      ],
      "metadata": {
        "id": "53J1mMVruQIT",
        "colab": {
          "base_uri": "https://localhost:8080/"
        },
        "outputId": "3cc9abd9-c3ed-4ced-b724-9fd571d4a0a8"
      },
      "execution_count": null,
      "outputs": [
        {
          "output_type": "execute_result",
          "data": {
            "text/html": [
              "\n",
              "  <div id=\"df-a8322ccc-654c-4646-88f3-84b5006e55a0\">\n",
              "    <div class=\"colab-df-container\">\n",
              "      <div>\n",
              "<style scoped>\n",
              "    .dataframe tbody tr th:only-of-type {\n",
              "        vertical-align: middle;\n",
              "    }\n",
              "\n",
              "    .dataframe tbody tr th {\n",
              "        vertical-align: top;\n",
              "    }\n",
              "\n",
              "    .dataframe thead th {\n",
              "        text-align: right;\n",
              "    }\n",
              "</style>\n",
              "<table border=\"1\" class=\"dataframe\">\n",
              "  <thead>\n",
              "    <tr style=\"text-align: right;\">\n",
              "      <th></th>\n",
              "      <th>Open</th>\n",
              "      <th>High</th>\n",
              "      <th>Low</th>\n",
              "      <th>Close</th>\n",
              "      <th>Volume</th>\n",
              "      <th>Dividends</th>\n",
              "      <th>Stock Splits</th>\n",
              "    </tr>\n",
              "    <tr>\n",
              "      <th>Date</th>\n",
              "      <th></th>\n",
              "      <th></th>\n",
              "      <th></th>\n",
              "      <th></th>\n",
              "      <th></th>\n",
              "      <th></th>\n",
              "      <th></th>\n",
              "    </tr>\n",
              "  </thead>\n",
              "  <tbody>\n",
              "    <tr>\n",
              "      <th>2022-01-25</th>\n",
              "      <td>14.08</td>\n",
              "      <td>14.70</td>\n",
              "      <td>13.99</td>\n",
              "      <td>14.67</td>\n",
              "      <td>1384500</td>\n",
              "      <td>0.0</td>\n",
              "      <td>0</td>\n",
              "    </tr>\n",
              "    <tr>\n",
              "      <th>2022-01-26</th>\n",
              "      <td>14.86</td>\n",
              "      <td>15.00</td>\n",
              "      <td>14.64</td>\n",
              "      <td>14.72</td>\n",
              "      <td>1027700</td>\n",
              "      <td>0.0</td>\n",
              "      <td>0</td>\n",
              "    </tr>\n",
              "    <tr>\n",
              "      <th>2022-01-27</th>\n",
              "      <td>14.86</td>\n",
              "      <td>14.96</td>\n",
              "      <td>14.51</td>\n",
              "      <td>14.61</td>\n",
              "      <td>644200</td>\n",
              "      <td>0.0</td>\n",
              "      <td>0</td>\n",
              "    </tr>\n",
              "    <tr>\n",
              "      <th>2022-01-28</th>\n",
              "      <td>14.57</td>\n",
              "      <td>14.77</td>\n",
              "      <td>14.40</td>\n",
              "      <td>14.65</td>\n",
              "      <td>929200</td>\n",
              "      <td>0.0</td>\n",
              "      <td>0</td>\n",
              "    </tr>\n",
              "    <tr>\n",
              "      <th>2022-01-31</th>\n",
              "      <td>14.60</td>\n",
              "      <td>14.83</td>\n",
              "      <td>14.48</td>\n",
              "      <td>14.74</td>\n",
              "      <td>807300</td>\n",
              "      <td>0.0</td>\n",
              "      <td>0</td>\n",
              "    </tr>\n",
              "  </tbody>\n",
              "</table>\n",
              "</div>\n",
              "      <button class=\"colab-df-convert\" onclick=\"convertToInteractive('df-a8322ccc-654c-4646-88f3-84b5006e55a0')\"\n",
              "              title=\"Convert this dataframe to an interactive table.\"\n",
              "              style=\"display:none;\">\n",
              "        \n",
              "  <svg xmlns=\"http://www.w3.org/2000/svg\" height=\"24px\"viewBox=\"0 0 24 24\"\n",
              "       width=\"24px\">\n",
              "    <path d=\"M0 0h24v24H0V0z\" fill=\"none\"/>\n",
              "    <path d=\"M18.56 5.44l.94 2.06.94-2.06 2.06-.94-2.06-.94-.94-2.06-.94 2.06-2.06.94zm-11 1L8.5 8.5l.94-2.06 2.06-.94-2.06-.94L8.5 2.5l-.94 2.06-2.06.94zm10 10l.94 2.06.94-2.06 2.06-.94-2.06-.94-.94-2.06-.94 2.06-2.06.94z\"/><path d=\"M17.41 7.96l-1.37-1.37c-.4-.4-.92-.59-1.43-.59-.52 0-1.04.2-1.43.59L10.3 9.45l-7.72 7.72c-.78.78-.78 2.05 0 2.83L4 21.41c.39.39.9.59 1.41.59.51 0 1.02-.2 1.41-.59l7.78-7.78 2.81-2.81c.8-.78.8-2.07 0-2.86zM5.41 20L4 18.59l7.72-7.72 1.47 1.35L5.41 20z\"/>\n",
              "  </svg>\n",
              "      </button>\n",
              "      \n",
              "  <style>\n",
              "    .colab-df-container {\n",
              "      display:flex;\n",
              "      flex-wrap:wrap;\n",
              "      gap: 12px;\n",
              "    }\n",
              "\n",
              "    .colab-df-convert {\n",
              "      background-color: #E8F0FE;\n",
              "      border: none;\n",
              "      border-radius: 50%;\n",
              "      cursor: pointer;\n",
              "      display: none;\n",
              "      fill: #1967D2;\n",
              "      height: 32px;\n",
              "      padding: 0 0 0 0;\n",
              "      width: 32px;\n",
              "    }\n",
              "\n",
              "    .colab-df-convert:hover {\n",
              "      background-color: #E2EBFA;\n",
              "      box-shadow: 0px 1px 2px rgba(60, 64, 67, 0.3), 0px 1px 3px 1px rgba(60, 64, 67, 0.15);\n",
              "      fill: #174EA6;\n",
              "    }\n",
              "\n",
              "    [theme=dark] .colab-df-convert {\n",
              "      background-color: #3B4455;\n",
              "      fill: #D2E3FC;\n",
              "    }\n",
              "\n",
              "    [theme=dark] .colab-df-convert:hover {\n",
              "      background-color: #434B5C;\n",
              "      box-shadow: 0px 1px 3px 1px rgba(0, 0, 0, 0.15);\n",
              "      filter: drop-shadow(0px 1px 2px rgba(0, 0, 0, 0.3));\n",
              "      fill: #FFFFFF;\n",
              "    }\n",
              "  </style>\n",
              "\n",
              "      <script>\n",
              "        const buttonEl =\n",
              "          document.querySelector('#df-a8322ccc-654c-4646-88f3-84b5006e55a0 button.colab-df-convert');\n",
              "        buttonEl.style.display =\n",
              "          google.colab.kernel.accessAllowed ? 'block' : 'none';\n",
              "\n",
              "        async function convertToInteractive(key) {\n",
              "          const element = document.querySelector('#df-a8322ccc-654c-4646-88f3-84b5006e55a0');\n",
              "          const dataTable =\n",
              "            await google.colab.kernel.invokeFunction('convertToInteractive',\n",
              "                                                     [key], {});\n",
              "          if (!dataTable) return;\n",
              "\n",
              "          const docLinkHtml = 'Like what you see? Visit the ' +\n",
              "            '<a target=\"_blank\" href=https://colab.research.google.com/notebooks/data_table.ipynb>data table notebook</a>'\n",
              "            + ' to learn more about interactive tables.';\n",
              "          element.innerHTML = '';\n",
              "          dataTable['output_type'] = 'display_data';\n",
              "          await google.colab.output.renderOutput(dataTable, element);\n",
              "          const docLink = document.createElement('div');\n",
              "          docLink.innerHTML = docLinkHtml;\n",
              "          element.appendChild(docLink);\n",
              "        }\n",
              "      </script>\n",
              "    </div>\n",
              "  </div>\n",
              "  "
            ],
            "text/plain": [
              "             Open   High    Low  Close   Volume  Dividends  Stock Splits\n",
              "Date                                                                    \n",
              "2022-01-25  14.08  14.70  13.99  14.67  1384500        0.0             0\n",
              "2022-01-26  14.86  15.00  14.64  14.72  1027700        0.0             0\n",
              "2022-01-27  14.86  14.96  14.51  14.61   644200        0.0             0\n",
              "2022-01-28  14.57  14.77  14.40  14.65   929200        0.0             0\n",
              "2022-01-31  14.60  14.83  14.48  14.74   807300        0.0             0"
            ]
          },
          "metadata": {},
          "execution_count": 300
        }
      ]
    },
    {
      "cell_type": "code",
      "source": [
        "Dividendos=Ecopetrol.dividends # Acciones 88,49%  Ministerio de hacienda \n",
        "Dividendos.plot.bar()\n",
        "Dividendos # 2021 0.093"
      ],
      "metadata": {
        "id": "JYmNeMGQvn9O",
        "colab": {
          "base_uri": "https://localhost:8080/"
        },
        "outputId": "f4fdb2a7-f7ee-43e1-b500-07bbb2f4de81"
      },
      "execution_count": null,
      "outputs": [
        {
          "output_type": "execute_result",
          "data": {
            "text/plain": [
              "Date\n",
              "2008-10-10    0.262\n",
              "2008-11-28    0.243\n",
              "2009-04-13    0.297\n",
              "2009-08-12    0.635\n",
              "2009-11-30    0.704\n",
              "2010-04-12    0.329\n",
              "2010-08-10    0.305\n",
              "2010-11-30    0.331\n",
              "2011-04-07    0.524\n",
              "2011-07-08    0.540\n",
              "2011-10-07    0.538\n",
              "2012-04-19    3.410\n",
              "2013-04-09    3.206\n",
              "2014-04-22    2.646\n",
              "2015-06-17    1.034\n",
              "2017-04-25    0.161\n",
              "2018-04-17    0.637\n",
              "2019-04-23    1.444\n",
              "2019-12-26    0.535\n",
              "2020-04-21    0.894\n",
              "2021-04-20    0.093\n",
              "Name: Dividends, dtype: float64"
            ]
          },
          "metadata": {},
          "execution_count": 301
        },
        {
          "output_type": "display_data",
          "data": {
            "image/png": "[encoded data removed]",
            "text/plain": [
              "<Figure size 432x288 with 1 Axes>"
            ]
          },
          "metadata": {
            "needs_background": "light"
          }
        }
      ]
    },
    {
      "cell_type": "markdown",
      "source": [
        "# **Datos economicos de la reserva federal**\n",
        "\n",
        "\n"
      ],
      "metadata": {
        "id": "Cga03zaN4XPn"
      }
    },
    {
      "cell_type": "code",
      "source": [
        "#  https://fred.stlouisfed.org/ \n",
        "tickersfred = [\"COLCPALTT01GPM\"] # Inflacion total, variacion  Mensual \n",
        "Inflacion = wb.DataReader(tickersfred,\"fred\",\"2019-1-1\")\n",
        "Inflacion.columns = [\"Inflacion\"]\n",
        "Inflacion = pd.DataFrame(Inflacion)\n",
        "Inflacion.plot()\n",
        "Inflacion.tail()"
      ],
      "metadata": {
        "id": "9RZ8Xhds4rnL",
        "colab": {
          "base_uri": "https://localhost:8080/"
        },
        "outputId": "23e3701c-7ab6-4e98-9e90-29d869d8287e"
      },
      "execution_count": null,
      "outputs": [
        {
          "output_type": "execute_result",
          "data": {
            "text/html": [
              "\n",
              "  <div id=\"df-0da0e3b9-48b2-4c6d-97e8-f8f70653744f\">\n",
              "    <div class=\"colab-df-container\">\n",
              "      <div>\n",
              "<style scoped>\n",
              "    .dataframe tbody tr th:only-of-type {\n",
              "        vertical-align: middle;\n",
              "    }\n",
              "\n",
              "    .dataframe tbody tr th {\n",
              "        vertical-align: top;\n",
              "    }\n",
              "\n",
              "    .dataframe thead th {\n",
              "        text-align: right;\n",
              "    }\n",
              "</style>\n",
              "<table border=\"1\" class=\"dataframe\">\n",
              "  <thead>\n",
              "    <tr style=\"text-align: right;\">\n",
              "      <th></th>\n",
              "      <th>Inflacion</th>\n",
              "    </tr>\n",
              "    <tr>\n",
              "      <th>DATE</th>\n",
              "      <th></th>\n",
              "    </tr>\n",
              "  </thead>\n",
              "  <tbody>\n",
              "    <tr>\n",
              "      <th>2021-07-01</th>\n",
              "      <td>0.330943</td>\n",
              "    </tr>\n",
              "    <tr>\n",
              "      <th>2021-08-01</th>\n",
              "      <td>0.439802</td>\n",
              "    </tr>\n",
              "    <tr>\n",
              "      <th>2021-09-01</th>\n",
              "      <td>0.383142</td>\n",
              "    </tr>\n",
              "    <tr>\n",
              "      <th>2021-10-01</th>\n",
              "      <td>0.018175</td>\n",
              "    </tr>\n",
              "    <tr>\n",
              "      <th>2021-11-01</th>\n",
              "      <td>0.490641</td>\n",
              "    </tr>\n",
              "  </tbody>\n",
              "</table>\n",
              "</div>\n",
              "      <button class=\"colab-df-convert\" onclick=\"convertToInteractive('df-0da0e3b9-48b2-4c6d-97e8-f8f70653744f')\"\n",
              "              title=\"Convert this dataframe to an interactive table.\"\n",
              "              style=\"display:none;\">\n",
              "        \n",
              "  <svg xmlns=\"http://www.w3.org/2000/svg\" height=\"24px\"viewBox=\"0 0 24 24\"\n",
              "       width=\"24px\">\n",
              "    <path d=\"M0 0h24v24H0V0z\" fill=\"none\"/>\n",
              "    <path d=\"M18.56 5.44l.94 2.06.94-2.06 2.06-.94-2.06-.94-.94-2.06-.94 2.06-2.06.94zm-11 1L8.5 8.5l.94-2.06 2.06-.94-2.06-.94L8.5 2.5l-.94 2.06-2.06.94zm10 10l.94 2.06.94-2.06 2.06-.94-2.06-.94-.94-2.06-.94 2.06-2.06.94z\"/><path d=\"M17.41 7.96l-1.37-1.37c-.4-.4-.92-.59-1.43-.59-.52 0-1.04.2-1.43.59L10.3 9.45l-7.72 7.72c-.78.78-.78 2.05 0 2.83L4 21.41c.39.39.9.59 1.41.59.51 0 1.02-.2 1.41-.59l7.78-7.78 2.81-2.81c.8-.78.8-2.07 0-2.86zM5.41 20L4 18.59l7.72-7.72 1.47 1.35L5.41 20z\"/>\n",
              "  </svg>\n",
              "      </button>\n",
              "      \n",
              "  <style>\n",
              "    .colab-df-container {\n",
              "      display:flex;\n",
              "      flex-wrap:wrap;\n",
              "      gap: 12px;\n",
              "    }\n",
              "\n",
              "    .colab-df-convert {\n",
              "      background-color: #E8F0FE;\n",
              "      border: none;\n",
              "      border-radius: 50%;\n",
              "      cursor: pointer;\n",
              "      display: none;\n",
              "      fill: #1967D2;\n",
              "      height: 32px;\n",
              "      padding: 0 0 0 0;\n",
              "      width: 32px;\n",
              "    }\n",
              "\n",
              "    .colab-df-convert:hover {\n",
              "      background-color: #E2EBFA;\n",
              "      box-shadow: 0px 1px 2px rgba(60, 64, 67, 0.3), 0px 1px 3px 1px rgba(60, 64, 67, 0.15);\n",
              "      fill: #174EA6;\n",
              "    }\n",
              "\n",
              "    [theme=dark] .colab-df-convert {\n",
              "      background-color: #3B4455;\n",
              "      fill: #D2E3FC;\n",
              "    }\n",
              "\n",
              "    [theme=dark] .colab-df-convert:hover {\n",
              "      background-color: #434B5C;\n",
              "      box-shadow: 0px 1px 3px 1px rgba(0, 0, 0, 0.15);\n",
              "      filter: drop-shadow(0px 1px 2px rgba(0, 0, 0, 0.3));\n",
              "      fill: #FFFFFF;\n",
              "    }\n",
              "  </style>\n",
              "\n",
              "      <script>\n",
              "        const buttonEl =\n",
              "          document.querySelector('#df-0da0e3b9-48b2-4c6d-97e8-f8f70653744f button.colab-df-convert');\n",
              "        buttonEl.style.display =\n",
              "          google.colab.kernel.accessAllowed ? 'block' : 'none';\n",
              "\n",
              "        async function convertToInteractive(key) {\n",
              "          const element = document.querySelector('#df-0da0e3b9-48b2-4c6d-97e8-f8f70653744f');\n",
              "          const dataTable =\n",
              "            await google.colab.kernel.invokeFunction('convertToInteractive',\n",
              "                                                     [key], {});\n",
              "          if (!dataTable) return;\n",
              "\n",
              "          const docLinkHtml = 'Like what you see? Visit the ' +\n",
              "            '<a target=\"_blank\" href=https://colab.research.google.com/notebooks/data_table.ipynb>data table notebook</a>'\n",
              "            + ' to learn more about interactive tables.';\n",
              "          element.innerHTML = '';\n",
              "          dataTable['output_type'] = 'display_data';\n",
              "          await google.colab.output.renderOutput(dataTable, element);\n",
              "          const docLink = document.createElement('div');\n",
              "          docLink.innerHTML = docLinkHtml;\n",
              "          element.appendChild(docLink);\n",
              "        }\n",
              "      </script>\n",
              "    </div>\n",
              "  </div>\n",
              "  "
            ],
            "text/plain": [
              "            Inflacion\n",
              "DATE                 \n",
              "2021-07-01   0.330943\n",
              "2021-08-01   0.439802\n",
              "2021-09-01   0.383142\n",
              "2021-10-01   0.018175\n",
              "2021-11-01   0.490641"
            ]
          },
          "metadata": {},
          "execution_count": 302
        },
        {
          "output_type": "display_data",
          "data": {
            "image/png": "[encoded data removed]",
            "text/plain": [
              "<Figure size 432x288 with 1 Axes>"
            ]
          },
          "metadata": {
            "needs_background": "light"
          }
        }
      ]
    },
    {
      "cell_type": "code",
      "source": [
        "Inflacion.columns "
      ],
      "metadata": {
        "id": "LPi38BcCkIuq",
        "colab": {
          "base_uri": "https://localhost:8080/"
        },
        "outputId": "09b9527c-cd07-4be1-acd1-8fd275747d4c"
      },
      "execution_count": null,
      "outputs": [
        {
          "output_type": "execute_result",
          "data": {
            "text/plain": [
              "Index(['Inflacion'], dtype='object')"
            ]
          },
          "metadata": {},
          "execution_count": 303
        }
      ]
    },
    {
      "cell_type": "code",
      "source": [
        "Inflacion= Inflacion.rename_axis('Fecha').reset_index()"
      ],
      "metadata": {
        "id": "equ_DoJ7Y8S5"
      },
      "execution_count": null,
      "outputs": []
    },
    {
      "cell_type": "code",
      "source": [
        "Inflacion.columns "
      ],
      "metadata": {
        "id": "MbVH7ySBlq17",
        "colab": {
          "base_uri": "https://localhost:8080/"
        },
        "outputId": "b6c4743d-3f0c-4444-d6a4-2c9daecc669a"
      },
      "execution_count": null,
      "outputs": [
        {
          "output_type": "execute_result",
          "data": {
            "text/plain": [
              "Index(['Fecha', 'Inflacion'], dtype='object')"
            ]
          },
          "metadata": {},
          "execution_count": 305
        }
      ]
    },
    {
      "cell_type": "code",
      "source": [
        "pd.to_datetime(Inflacion['Fecha'], format = '%Y/%m/%d') # Convertir columna a serie de tiempo %Y/%m/%d\n",
        "Inflacion.plot.bar(x= \"Fecha\" , y =\"Inflacion\")"
      ],
      "metadata": {
        "id": "gkyRYildn0M_",
        "colab": {
          "base_uri": "https://localhost:8080/"
        },
        "outputId": "c2ae6c60-e3be-45b6-b5d4-0b136c8ea607"
      },
      "execution_count": null,
      "outputs": [
        {
          "output_type": "execute_result",
          "data": {
            "text/plain": [
              "<matplotlib.axes._subplots.AxesSubplot at 0x7fe461a49fd0>"
            ]
          },
          "metadata": {},
          "execution_count": 306
        },
        {
          "output_type": "display_data",
          "data": {
            "image/png": "[encoded data removed]",
            "text/plain": [
              "<Figure size 432x288 with 1 Axes>"
            ]
          },
          "metadata": {
            "needs_background": "light"
          }
        }
      ]
    },
    {
      "cell_type": "code",
      "source": [
        "#  https://fred.stlouisfed.org/  \n",
        "tickersfred = [\"FPCPITOTLZGCOL\"] # Inflacion total, variacion  Anual\n",
        "InflacionAnual = wb.DataReader(tickersfred,\"fred\",\"2000-1-1\")\n",
        "InflacionAnual.columns = [\"InflacionAnual\"]\n",
        "InflacionAnual= pd.DataFrame(InflacionAnual)\n",
        "InflacionAnual.plot()\n",
        "InflacionAnual.tail()"
      ],
      "metadata": {
        "id": "LuyE12mQoEjn",
        "colab": {
          "base_uri": "https://localhost:8080/"
        },
        "outputId": "c3d4de50-167d-41e8-ecde-0e0a235c893c"
      },
      "execution_count": null,
      "outputs": [
        {
          "output_type": "execute_result",
          "data": {
            "text/html": [
              "\n",
              "  <div id=\"df-3d98e6da-f7bd-40a0-80a6-10504c8c78fb\">\n",
              "    <div class=\"colab-df-container\">\n",
              "      <div>\n",
              "<style scoped>\n",
              "    .dataframe tbody tr th:only-of-type {\n",
              "        vertical-align: middle;\n",
              "    }\n",
              "\n",
              "    .dataframe tbody tr th {\n",
              "        vertical-align: top;\n",
              "    }\n",
              "\n",
              "    .dataframe thead th {\n",
              "        text-align: right;\n",
              "    }\n",
              "</style>\n",
              "<table border=\"1\" class=\"dataframe\">\n",
              "  <thead>\n",
              "    <tr style=\"text-align: right;\">\n",
              "      <th></th>\n",
              "      <th>InflacionAnual</th>\n",
              "    </tr>\n",
              "    <tr>\n",
              "      <th>DATE</th>\n",
              "      <th></th>\n",
              "    </tr>\n",
              "  </thead>\n",
              "  <tbody>\n",
              "    <tr>\n",
              "      <th>2016-01-01</th>\n",
              "      <td>7.514293</td>\n",
              "    </tr>\n",
              "    <tr>\n",
              "      <th>2017-01-01</th>\n",
              "      <td>4.312141</td>\n",
              "    </tr>\n",
              "    <tr>\n",
              "      <th>2018-01-01</th>\n",
              "      <td>3.240234</td>\n",
              "    </tr>\n",
              "    <tr>\n",
              "      <th>2019-01-01</th>\n",
              "      <td>3.525493</td>\n",
              "    </tr>\n",
              "    <tr>\n",
              "      <th>2020-01-01</th>\n",
              "      <td>2.524621</td>\n",
              "    </tr>\n",
              "  </tbody>\n",
              "</table>\n",
              "</div>\n",
              "      <button class=\"colab-df-convert\" onclick=\"convertToInteractive('df-3d98e6da-f7bd-40a0-80a6-10504c8c78fb')\"\n",
              "              title=\"Convert this dataframe to an interactive table.\"\n",
              "              style=\"display:none;\">\n",
              "        \n",
              "  <svg xmlns=\"http://www.w3.org/2000/svg\" height=\"24px\"viewBox=\"0 0 24 24\"\n",
              "       width=\"24px\">\n",
              "    <path d=\"M0 0h24v24H0V0z\" fill=\"none\"/>\n",
              "    <path d=\"M18.56 5.44l.94 2.06.94-2.06 2.06-.94-2.06-.94-.94-2.06-.94 2.06-2.06.94zm-11 1L8.5 8.5l.94-2.06 2.06-.94-2.06-.94L8.5 2.5l-.94 2.06-2.06.94zm10 10l.94 2.06.94-2.06 2.06-.94-2.06-.94-.94-2.06-.94 2.06-2.06.94z\"/><path d=\"M17.41 7.96l-1.37-1.37c-.4-.4-.92-.59-1.43-.59-.52 0-1.04.2-1.43.59L10.3 9.45l-7.72 7.72c-.78.78-.78 2.05 0 2.83L4 21.41c.39.39.9.59 1.41.59.51 0 1.02-.2 1.41-.59l7.78-7.78 2.81-2.81c.8-.78.8-2.07 0-2.86zM5.41 20L4 18.59l7.72-7.72 1.47 1.35L5.41 20z\"/>\n",
              "  </svg>\n",
              "      </button>\n",
              "      \n",
              "  <style>\n",
              "    .colab-df-container {\n",
              "      display:flex;\n",
              "      flex-wrap:wrap;\n",
              "      gap: 12px;\n",
              "    }\n",
              "\n",
              "    .colab-df-convert {\n",
              "      background-color: #E8F0FE;\n",
              "      border: none;\n",
              "      border-radius: 50%;\n",
              "      cursor: pointer;\n",
              "      display: none;\n",
              "      fill: #1967D2;\n",
              "      height: 32px;\n",
              "      padding: 0 0 0 0;\n",
              "      width: 32px;\n",
              "    }\n",
              "\n",
              "    .colab-df-convert:hover {\n",
              "      background-color: #E2EBFA;\n",
              "      box-shadow: 0px 1px 2px rgba(60, 64, 67, 0.3), 0px 1px 3px 1px rgba(60, 64, 67, 0.15);\n",
              "      fill: #174EA6;\n",
              "    }\n",
              "\n",
              "    [theme=dark] .colab-df-convert {\n",
              "      background-color: #3B4455;\n",
              "      fill: #D2E3FC;\n",
              "    }\n",
              "\n",
              "    [theme=dark] .colab-df-convert:hover {\n",
              "      background-color: #434B5C;\n",
              "      box-shadow: 0px 1px 3px 1px rgba(0, 0, 0, 0.15);\n",
              "      filter: drop-shadow(0px 1px 2px rgba(0, 0, 0, 0.3));\n",
              "      fill: #FFFFFF;\n",
              "    }\n",
              "  </style>\n",
              "\n",
              "      <script>\n",
              "        const buttonEl =\n",
              "          document.querySelector('#df-3d98e6da-f7bd-40a0-80a6-10504c8c78fb button.colab-df-convert');\n",
              "        buttonEl.style.display =\n",
              "          google.colab.kernel.accessAllowed ? 'block' : 'none';\n",
              "\n",
              "        async function convertToInteractive(key) {\n",
              "          const element = document.querySelector('#df-3d98e6da-f7bd-40a0-80a6-10504c8c78fb');\n",
              "          const dataTable =\n",
              "            await google.colab.kernel.invokeFunction('convertToInteractive',\n",
              "                                                     [key], {});\n",
              "          if (!dataTable) return;\n",
              "\n",
              "          const docLinkHtml = 'Like what you see? Visit the ' +\n",
              "            '<a target=\"_blank\" href=https://colab.research.google.com/notebooks/data_table.ipynb>data table notebook</a>'\n",
              "            + ' to learn more about interactive tables.';\n",
              "          element.innerHTML = '';\n",
              "          dataTable['output_type'] = 'display_data';\n",
              "          await google.colab.output.renderOutput(dataTable, element);\n",
              "          const docLink = document.createElement('div');\n",
              "          docLink.innerHTML = docLinkHtml;\n",
              "          element.appendChild(docLink);\n",
              "        }\n",
              "      </script>\n",
              "    </div>\n",
              "  </div>\n",
              "  "
            ],
            "text/plain": [
              "            InflacionAnual\n",
              "DATE                      \n",
              "2016-01-01        7.514293\n",
              "2017-01-01        4.312141\n",
              "2018-01-01        3.240234\n",
              "2019-01-01        3.525493\n",
              "2020-01-01        2.524621"
            ]
          },
          "metadata": {},
          "execution_count": 307
        },
        {
          "output_type": "display_data",
          "data": {
            "image/png": "[encoded data removed]",
            "text/plain": [
              "<Figure size 432x288 with 1 Axes>"
            ]
          },
          "metadata": {
            "needs_background": "light"
          }
        }
      ]
    },
    {
      "cell_type": "code",
      "source": [
        "#  https://fred.stlouisfed.org/ \n",
        "tickersfred = [\"COLMANMM101STSAM\"] # Agregados monetatrios, M1\n",
        "M1 = wb.DataReader(tickersfred,\"fred\",\"2000-1-1\")\n",
        "M1.columns = [\"M1\"]\n",
        "M1= pd.DataFrame(M1)\n",
        "M1.plot()\n",
        "M1.tail()"
      ],
      "metadata": {
        "id": "QxROxV4KpSJ9",
        "colab": {
          "base_uri": "https://localhost:8080/"
        },
        "outputId": "e5d2ea11-0fc7-4246-b129-67e57ebfeade"
      },
      "execution_count": null,
      "outputs": [
        {
          "output_type": "execute_result",
          "data": {
            "text/html": [
              "\n",
              "  <div id=\"df-b0d3bfae-492f-4874-8861-6816e975345c\">\n",
              "    <div class=\"colab-df-container\">\n",
              "      <div>\n",
              "<style scoped>\n",
              "    .dataframe tbody tr th:only-of-type {\n",
              "        vertical-align: middle;\n",
              "    }\n",
              "\n",
              "    .dataframe tbody tr th {\n",
              "        vertical-align: top;\n",
              "    }\n",
              "\n",
              "    .dataframe thead th {\n",
              "        text-align: right;\n",
              "    }\n",
              "</style>\n",
              "<table border=\"1\" class=\"dataframe\">\n",
              "  <thead>\n",
              "    <tr style=\"text-align: right;\">\n",
              "      <th></th>\n",
              "      <th>M1</th>\n",
              "    </tr>\n",
              "    <tr>\n",
              "      <th>DATE</th>\n",
              "      <th></th>\n",
              "    </tr>\n",
              "  </thead>\n",
              "  <tbody>\n",
              "    <tr>\n",
              "      <th>2021-07-01</th>\n",
              "      <td>1.693642e+14</td>\n",
              "    </tr>\n",
              "    <tr>\n",
              "      <th>2021-08-01</th>\n",
              "      <td>1.722251e+14</td>\n",
              "    </tr>\n",
              "    <tr>\n",
              "      <th>2021-09-01</th>\n",
              "      <td>1.726599e+14</td>\n",
              "    </tr>\n",
              "    <tr>\n",
              "      <th>2021-10-01</th>\n",
              "      <td>1.757376e+14</td>\n",
              "    </tr>\n",
              "    <tr>\n",
              "      <th>2021-11-01</th>\n",
              "      <td>1.795055e+14</td>\n",
              "    </tr>\n",
              "  </tbody>\n",
              "</table>\n",
              "</div>\n",
              "      <button class=\"colab-df-convert\" onclick=\"convertToInteractive('df-b0d3bfae-492f-4874-8861-6816e975345c')\"\n",
              "              title=\"Convert this dataframe to an interactive table.\"\n",
              "              style=\"display:none;\">\n",
              "        \n",
              "  <svg xmlns=\"http://www.w3.org/2000/svg\" height=\"24px\"viewBox=\"0 0 24 24\"\n",
              "       width=\"24px\">\n",
              "    <path d=\"M0 0h24v24H0V0z\" fill=\"none\"/>\n",
              "    <path d=\"M18.56 5.44l.94 2.06.94-2.06 2.06-.94-2.06-.94-.94-2.06-.94 2.06-2.06.94zm-11 1L8.5 8.5l.94-2.06 2.06-.94-2.06-.94L8.5 2.5l-.94 2.06-2.06.94zm10 10l.94 2.06.94-2.06 2.06-.94-2.06-.94-.94-2.06-.94 2.06-2.06.94z\"/><path d=\"M17.41 7.96l-1.37-1.37c-.4-.4-.92-.59-1.43-.59-.52 0-1.04.2-1.43.59L10.3 9.45l-7.72 7.72c-.78.78-.78 2.05 0 2.83L4 21.41c.39.39.9.59 1.41.59.51 0 1.02-.2 1.41-.59l7.78-7.78 2.81-2.81c.8-.78.8-2.07 0-2.86zM5.41 20L4 18.59l7.72-7.72 1.47 1.35L5.41 20z\"/>\n",
              "  </svg>\n",
              "      </button>\n",
              "      \n",
              "  <style>\n",
              "    .colab-df-container {\n",
              "      display:flex;\n",
              "      flex-wrap:wrap;\n",
              "      gap: 12px;\n",
              "    }\n",
              "\n",
              "    .colab-df-convert {\n",
              "      background-color: #E8F0FE;\n",
              "      border: none;\n",
              "      border-radius: 50%;\n",
              "      cursor: pointer;\n",
              "      display: none;\n",
              "      fill: #1967D2;\n",
              "      height: 32px;\n",
              "      padding: 0 0 0 0;\n",
              "      width: 32px;\n",
              "    }\n",
              "\n",
              "    .colab-df-convert:hover {\n",
              "      background-color: #E2EBFA;\n",
              "      box-shadow: 0px 1px 2px rgba(60, 64, 67, 0.3), 0px 1px 3px 1px rgba(60, 64, 67, 0.15);\n",
              "      fill: #174EA6;\n",
              "    }\n",
              "\n",
              "    [theme=dark] .colab-df-convert {\n",
              "      background-color: #3B4455;\n",
              "      fill: #D2E3FC;\n",
              "    }\n",
              "\n",
              "    [theme=dark] .colab-df-convert:hover {\n",
              "      background-color: #434B5C;\n",
              "      box-shadow: 0px 1px 3px 1px rgba(0, 0, 0, 0.15);\n",
              "      filter: drop-shadow(0px 1px 2px rgba(0, 0, 0, 0.3));\n",
              "      fill: #FFFFFF;\n",
              "    }\n",
              "  </style>\n",
              "\n",
              "      <script>\n",
              "        const buttonEl =\n",
              "          document.querySelector('#df-b0d3bfae-492f-4874-8861-6816e975345c button.colab-df-convert');\n",
              "        buttonEl.style.display =\n",
              "          google.colab.kernel.accessAllowed ? 'block' : 'none';\n",
              "\n",
              "        async function convertToInteractive(key) {\n",
              "          const element = document.querySelector('#df-b0d3bfae-492f-4874-8861-6816e975345c');\n",
              "          const dataTable =\n",
              "            await google.colab.kernel.invokeFunction('convertToInteractive',\n",
              "                                                     [key], {});\n",
              "          if (!dataTable) return;\n",
              "\n",
              "          const docLinkHtml = 'Like what you see? Visit the ' +\n",
              "            '<a target=\"_blank\" href=https://colab.research.google.com/notebooks/data_table.ipynb>data table notebook</a>'\n",
              "            + ' to learn more about interactive tables.';\n",
              "          element.innerHTML = '';\n",
              "          dataTable['output_type'] = 'display_data';\n",
              "          await google.colab.output.renderOutput(dataTable, element);\n",
              "          const docLink = document.createElement('div');\n",
              "          docLink.innerHTML = docLinkHtml;\n",
              "          element.appendChild(docLink);\n",
              "        }\n",
              "      </script>\n",
              "    </div>\n",
              "  </div>\n",
              "  "
            ],
            "text/plain": [
              "                      M1\n",
              "DATE                    \n",
              "2021-07-01  1.693642e+14\n",
              "2021-08-01  1.722251e+14\n",
              "2021-09-01  1.726599e+14\n",
              "2021-10-01  1.757376e+14\n",
              "2021-11-01  1.795055e+14"
            ]
          },
          "metadata": {},
          "execution_count": 308
        },
        {
          "output_type": "display_data",
          "data": {
            "image/png": "[encoded data removed]",
            "text/plain": [
              "<Figure size 432x288 with 1 Axes>"
            ]
          },
          "metadata": {
            "needs_background": "light"
          }
        }
      ]
    },
    {
      "cell_type": "code",
      "source": [
        "#  https://fred.stlouisfed.org/ \n",
        "tickersfred = [\"NGDPRSAXDCMXQ\"] # PIB REAL MEXICO , TRIMESTRAL\n",
        "PIBREAL_MEXICO = wb.DataReader(tickersfred,\"fred\",\"2016-1-1\")\n",
        "PIBREAL_MEXICO .columns = [\"PIBMEXICO\"]\n",
        "PIBREAL_MEXICO = pd.DataFrame(PIBREAL_MEXICO )\n",
        "PIBREAL_MEXICO .plot()\n",
        "PIBREAL_MEXICO .tail()"
      ],
      "metadata": {
        "id": "yJbNmrHf9OUS",
        "colab": {
          "base_uri": "https://localhost:8080/"
        },
        "outputId": "47964ad2-25f4-40b6-9f75-fd7cdb84c6fa"
      },
      "execution_count": null,
      "outputs": [
        {
          "output_type": "execute_result",
          "data": {
            "text/html": [
              "\n",
              "  <div id=\"df-17ff6880-c231-49d9-a641-c304354f0aa9\">\n",
              "    <div class=\"colab-df-container\">\n",
              "      <div>\n",
              "<style scoped>\n",
              "    .dataframe tbody tr th:only-of-type {\n",
              "        vertical-align: middle;\n",
              "    }\n",
              "\n",
              "    .dataframe tbody tr th {\n",
              "        vertical-align: top;\n",
              "    }\n",
              "\n",
              "    .dataframe thead th {\n",
              "        text-align: right;\n",
              "    }\n",
              "</style>\n",
              "<table border=\"1\" class=\"dataframe\">\n",
              "  <thead>\n",
              "    <tr style=\"text-align: right;\">\n",
              "      <th></th>\n",
              "      <th>PIBMEXICO</th>\n",
              "    </tr>\n",
              "    <tr>\n",
              "      <th>DATE</th>\n",
              "      <th></th>\n",
              "    </tr>\n",
              "  </thead>\n",
              "  <tbody>\n",
              "    <tr>\n",
              "      <th>2020-07-01</th>\n",
              "      <td>4260905.9</td>\n",
              "    </tr>\n",
              "    <tr>\n",
              "      <th>2020-10-01</th>\n",
              "      <td>4384622.6</td>\n",
              "    </tr>\n",
              "    <tr>\n",
              "      <th>2021-01-01</th>\n",
              "      <td>4428930.2</td>\n",
              "    </tr>\n",
              "    <tr>\n",
              "      <th>2021-04-01</th>\n",
              "      <td>4479912.0</td>\n",
              "    </tr>\n",
              "    <tr>\n",
              "      <th>2021-07-01</th>\n",
              "      <td>4460495.3</td>\n",
              "    </tr>\n",
              "  </tbody>\n",
              "</table>\n",
              "</div>\n",
              "      <button class=\"colab-df-convert\" onclick=\"convertToInteractive('df-17ff6880-c231-49d9-a641-c304354f0aa9')\"\n",
              "              title=\"Convert this dataframe to an interactive table.\"\n",
              "              style=\"display:none;\">\n",
              "        \n",
              "  <svg xmlns=\"http://www.w3.org/2000/svg\" height=\"24px\"viewBox=\"0 0 24 24\"\n",
              "       width=\"24px\">\n",
              "    <path d=\"M0 0h24v24H0V0z\" fill=\"none\"/>\n",
              "    <path d=\"M18.56 5.44l.94 2.06.94-2.06 2.06-.94-2.06-.94-.94-2.06-.94 2.06-2.06.94zm-11 1L8.5 8.5l.94-2.06 2.06-.94-2.06-.94L8.5 2.5l-.94 2.06-2.06.94zm10 10l.94 2.06.94-2.06 2.06-.94-2.06-.94-.94-2.06-.94 2.06-2.06.94z\"/><path d=\"M17.41 7.96l-1.37-1.37c-.4-.4-.92-.59-1.43-.59-.52 0-1.04.2-1.43.59L10.3 9.45l-7.72 7.72c-.78.78-.78 2.05 0 2.83L4 21.41c.39.39.9.59 1.41.59.51 0 1.02-.2 1.41-.59l7.78-7.78 2.81-2.81c.8-.78.8-2.07 0-2.86zM5.41 20L4 18.59l7.72-7.72 1.47 1.35L5.41 20z\"/>\n",
              "  </svg>\n",
              "      </button>\n",
              "      \n",
              "  <style>\n",
              "    .colab-df-container {\n",
              "      display:flex;\n",
              "      flex-wrap:wrap;\n",
              "      gap: 12px;\n",
              "    }\n",
              "\n",
              "    .colab-df-convert {\n",
              "      background-color: #E8F0FE;\n",
              "      border: none;\n",
              "      border-radius: 50%;\n",
              "      cursor: pointer;\n",
              "      display: none;\n",
              "      fill: #1967D2;\n",
              "      height: 32px;\n",
              "      padding: 0 0 0 0;\n",
              "      width: 32px;\n",
              "    }\n",
              "\n",
              "    .colab-df-convert:hover {\n",
              "      background-color: #E2EBFA;\n",
              "      box-shadow: 0px 1px 2px rgba(60, 64, 67, 0.3), 0px 1px 3px 1px rgba(60, 64, 67, 0.15);\n",
              "      fill: #174EA6;\n",
              "    }\n",
              "\n",
              "    [theme=dark] .colab-df-convert {\n",
              "      background-color: #3B4455;\n",
              "      fill: #D2E3FC;\n",
              "    }\n",
              "\n",
              "    [theme=dark] .colab-df-convert:hover {\n",
              "      background-color: #434B5C;\n",
              "      box-shadow: 0px 1px 3px 1px rgba(0, 0, 0, 0.15);\n",
              "      filter: drop-shadow(0px 1px 2px rgba(0, 0, 0, 0.3));\n",
              "      fill: #FFFFFF;\n",
              "    }\n",
              "  </style>\n",
              "\n",
              "      <script>\n",
              "        const buttonEl =\n",
              "          document.querySelector('#df-17ff6880-c231-49d9-a641-c304354f0aa9 button.colab-df-convert');\n",
              "        buttonEl.style.display =\n",
              "          google.colab.kernel.accessAllowed ? 'block' : 'none';\n",
              "\n",
              "        async function convertToInteractive(key) {\n",
              "          const element = document.querySelector('#df-17ff6880-c231-49d9-a641-c304354f0aa9');\n",
              "          const dataTable =\n",
              "            await google.colab.kernel.invokeFunction('convertToInteractive',\n",
              "                                                     [key], {});\n",
              "          if (!dataTable) return;\n",
              "\n",
              "          const docLinkHtml = 'Like what you see? Visit the ' +\n",
              "            '<a target=\"_blank\" href=https://colab.research.google.com/notebooks/data_table.ipynb>data table notebook</a>'\n",
              "            + ' to learn more about interactive tables.';\n",
              "          element.innerHTML = '';\n",
              "          dataTable['output_type'] = 'display_data';\n",
              "          await google.colab.output.renderOutput(dataTable, element);\n",
              "          const docLink = document.createElement('div');\n",
              "          docLink.innerHTML = docLinkHtml;\n",
              "          element.appendChild(docLink);\n",
              "        }\n",
              "      </script>\n",
              "    </div>\n",
              "  </div>\n",
              "  "
            ],
            "text/plain": [
              "            PIBMEXICO\n",
              "DATE                 \n",
              "2020-07-01  4260905.9\n",
              "2020-10-01  4384622.6\n",
              "2021-01-01  4428930.2\n",
              "2021-04-01  4479912.0\n",
              "2021-07-01  4460495.3"
            ]
          },
          "metadata": {},
          "execution_count": 309
        },
        {
          "output_type": "display_data",
          "data": {
            "image/png": "[encoded data removed]",
            "text/plain": [
              "<Figure size 432x288 with 1 Axes>"
            ]
          },
          "metadata": {
            "needs_background": "light"
          }
        }
      ]
    }
  ]
}
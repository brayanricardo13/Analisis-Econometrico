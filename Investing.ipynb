{
  "nbformat": 4,
  "nbformat_minor": 0,
  "metadata": {
    "colab": {
      "name": "Investing",
      "provenance": [],
      "collapsed_sections": [],
      "authorship_tag": "ABX9TyP6p9uby/zsyg9jlvfnh1jb",
      "include_colab_link": true
    },
    "kernelspec": {
      "name": "python3",
      "display_name": "Python 3"
    },
    "language_info": {
      "name": "python"
    }
  },
  "cells": [
    {
      "cell_type": "markdown",
      "metadata": {
        "id": "view-in-github",
        "colab_type": "text"
      },
      "source": [
        "<a href=\"https://colab.research.google.com/github/brayanricardo13/Analisis-Econometrico/blob/main/Investing.ipynb\" target=\"_parent\"><img src=\"https://colab.research.google.com/assets/colab-badge.svg\" alt=\"Open In Colab\"/></a>"
      ]
    },
    {
      "cell_type": "code",
      "metadata": {
        "id": "QVWLUVn2wJWP"
      },
      "source": [
        "pip install investpy"
      ],
      "execution_count": null,
      "outputs": []
    },
    {
      "cell_type": "code",
      "metadata": {
        "id": "CHNGAVDnwTMj"
      },
      "source": [
        "import investpy as inv\n",
        "import pandas as pd\n",
        "from openpyxl import workbook\n",
        "from openpyxl import load_workbook"
      ],
      "execution_count": null,
      "outputs": []
    },
    {
      "cell_type": "code",
      "metadata": {
        "id": "E7jx7UfKBceV"
      },
      "source": [
        "from google.colab import files"
      ],
      "execution_count": null,
      "outputs": []
    },
    {
      "cell_type": "markdown",
      "source": [
        "# Extraccion de datos"
      ],
      "metadata": {
        "id": "6OFuLQbgaHr7"
      }
    },
    {
      "cell_type": "markdown",
      "metadata": {
        "id": "l9vXtOsgYR8m"
      },
      "source": [
        "**Futuros de indices renta variable**"
      ]
    },
    {
      "cell_type": "markdown",
      "metadata": {
        "id": "xG4KMGTDCEqC"
      },
      "source": [
        "**Dow Jones**"
      ]
    },
    {
      "cell_type": "code",
      "metadata": {
        "id": "YF3rdzW2v9dH"
      },
      "source": [
        " ## indices de united states inv.get_indices_list(\"united states\")"
      ],
      "execution_count": 247,
      "outputs": []
    },
    {
      "cell_type": "code",
      "metadata": {
        "id": "1dUthN5S-IZO",
        "colab": {
          "base_uri": "https://localhost:8080/"
        },
        "outputId": "14b19661-8964-4f7f-f3b5-127438958189"
      },
      "source": [
        "dow_jones=inv.search_quotes(text='dow jones futures', products=['indices'],countries=['united states'], n_results=1)\n",
        "print(dow_jones)"
      ],
      "execution_count": 248,
      "outputs": [
        {
          "output_type": "stream",
          "name": "stdout",
          "text": [
            "{\"id_\": 8873, \"name\": \"Dow Jones Futures\", \"symbol\": \"1YMc1\", \"country\": \"united states\", \"tag\": \"/indices/us-30-futures\", \"pair_type\": \"indices\", \"exchange\": \"CME\"}\n"
          ]
        }
      ]
    },
    {
      "cell_type": "code",
      "source": [
        "# dow_jones=inv.get_index_recent_data(\"1YMc1\",country=\"united states\",)\n",
        "# dow_jones1=dow_jones[[\"Close\",\"Open\"]].tail()\n",
        "# print(dow_jones1)"
      ],
      "metadata": {
        "id": "l2q8oaM0qYq1"
      },
      "execution_count": 249,
      "outputs": []
    },
    {
      "cell_type": "markdown",
      "metadata": {
        "id": "gtLhno6-CK8K"
      },
      "source": [
        "**S&p500** "
      ]
    },
    {
      "cell_type": "code",
      "metadata": {
        "id": "AIfgEMHPCbxm",
        "colab": {
          "base_uri": "https://localhost:8080/"
        },
        "outputId": "b0e8f78a-b9b2-4504-f7b3-fd42a778b164"
      },
      "source": [
        "Standarpoor500=inv.search_quotes(\"S&P 500 Futures\", products=['indices'],countries=['united states'], n_results=1)\n",
        "print(Standarpoor500)"
      ],
      "execution_count": 250,
      "outputs": [
        {
          "output_type": "stream",
          "name": "stdout",
          "text": [
            "{\"id_\": 8839, \"name\": \"S&P 500 Futures\", \"symbol\": \"ESc1\", \"country\": \"united states\", \"tag\": \"/indices/us-spx-500-futures\", \"pair_type\": \"indices\", \"exchange\": \"CME\"}\n"
          ]
        }
      ]
    },
    {
      "cell_type": "markdown",
      "metadata": {
        "id": "26XOOhcSCcX2"
      },
      "source": [
        "**Euro Stoxx 50**"
      ]
    },
    {
      "cell_type": "code",
      "metadata": {
        "id": "GVyjSVfzCeKa"
      },
      "source": [
        "Euro_stoxx_50=inv.search_quotes(text='Euro Stoxx 50 Futures', products=['indices'],countries=['euro zone'], n_results=1)\n",
        "print(Euro_stoxx_50)"
      ],
      "execution_count": null,
      "outputs": []
    },
    {
      "cell_type": "markdown",
      "metadata": {
        "id": "TcTs_n0GCena"
      },
      "source": [
        "**Dax (Alemania)**"
      ]
    },
    {
      "cell_type": "code",
      "metadata": {
        "id": "ueXDrPqbCj7b",
        "colab": {
          "base_uri": "https://localhost:8080/"
        },
        "outputId": "20dea155-8735-4693-ace8-00c66bdac4a9"
      },
      "source": [
        "Dax_Alemania=inv.search_quotes(text='DAX Futures', products=['indices'],countries=['germany'], n_results=1)\n",
        "print(Dax_Alemania)"
      ],
      "execution_count": 252,
      "outputs": [
        {
          "output_type": "stream",
          "name": "stdout",
          "text": [
            "{\"id_\": 8826, \"name\": \"DAX Futures\", \"symbol\": \"DE30\", \"country\": \"germany\", \"tag\": \"/indices/germany-30-futures\", \"pair_type\": \"indices\", \"exchange\": \"Eurex\"}\n"
          ]
        }
      ]
    },
    {
      "cell_type": "markdown",
      "metadata": {
        "id": "x8i_3KHMCkdZ"
      },
      "source": [
        "**Nikkei (Japón)**"
      ]
    },
    {
      "cell_type": "code",
      "metadata": {
        "id": "QkdjzXzMCrrI",
        "colab": {
          "base_uri": "https://localhost:8080/"
        },
        "outputId": "6584d0b8-2b07-478b-e589-2da1c313f7c4"
      },
      "source": [
        "Nikkei_japon=inv.search_quotes(text='Nikkei 225 Futures', products=['indices'],countries=['japan'], n_results=1)\n",
        "print(Nikkei_japon)"
      ],
      "execution_count": 253,
      "outputs": [
        {
          "output_type": "stream",
          "name": "stdout",
          "text": [
            "{\"id_\": 8859, \"name\": \"Nikkei 225 Futures\", \"symbol\": \"JP225\", \"country\": \"japan\", \"tag\": \"/indices/japan-225-futures\", \"pair_type\": \"indices\", \"exchange\": \"OSE\"}\n"
          ]
        }
      ]
    },
    {
      "cell_type": "markdown",
      "metadata": {
        "id": "b_6kv2VqCt4i"
      },
      "source": [
        "**Hang Seng (China)**"
      ]
    },
    {
      "cell_type": "code",
      "metadata": {
        "id": "9csxbgZeCvfC",
        "colab": {
          "base_uri": "https://localhost:8080/"
        },
        "outputId": "c9578670-3386-4421-99d7-0eb2b3f81a7f"
      },
      "source": [
        "Nikkei_japon=inv.search_quotes(text='Nikkei 225 Futures', products=['indices'],countries=['japan'], n_results=1)\n",
        "print(Nikkei_japon)"
      ],
      "execution_count": 254,
      "outputs": [
        {
          "output_type": "stream",
          "name": "stdout",
          "text": [
            "{\"id_\": 8859, \"name\": \"Nikkei 225 Futures\", \"symbol\": \"JP225\", \"country\": \"japan\", \"tag\": \"/indices/japan-225-futures\", \"pair_type\": \"indices\", \"exchange\": \"OSE\"}\n"
          ]
        }
      ]
    },
    {
      "cell_type": "markdown",
      "metadata": {
        "id": "uAOISXZUw-cV"
      },
      "source": [
        "**Indices Renta variable Sudamerica**"
      ]
    },
    {
      "cell_type": "markdown",
      "metadata": {
        "id": "z75vbO46EcND"
      },
      "source": [
        "**Brasil**"
      ]
    },
    {
      "cell_type": "code",
      "metadata": {
        "id": "Rg5r9Fp5EqEd"
      },
      "source": [
        "inv.get_indices_list(\"brazil\")"
      ],
      "execution_count": null,
      "outputs": []
    },
    {
      "cell_type": "code",
      "metadata": {
        "id": "AUu9-_5MEyhD"
      },
      "source": [
        "data1=inv.get_index_recent_data(\"Bovespa\",country=\"brazil\")\n",
        "Brazil1=data1[[\"Close\",\"Open\"]].tail()\n",
        "print(Brazil1)"
      ],
      "execution_count": null,
      "outputs": []
    },
    {
      "cell_type": "code",
      "source": [
        "Apertura_indice_Brazil = (Brazil1.iat[4,1]) # Este comando esta extraer un valor especifico de un dataframe\n",
        "print(Apertura_indice_Brazil)"
      ],
      "metadata": {
        "id": "_xlgVCeKKsoV"
      },
      "execution_count": null,
      "outputs": []
    },
    {
      "cell_type": "code",
      "source": [
        "Cierre_precio_anterior__indice_Brazil = Brazil1.iat[3,0]\n",
        "print(Cierre_precio_anterior__indice_Brazil)"
      ],
      "metadata": {
        "id": "IBQmCKC3Kszp",
        "colab": {
          "base_uri": "https://localhost:8080/"
        },
        "outputId": "e2d4791f-c35f-4980-9939-d2e2f37b70e0"
      },
      "execution_count": 258,
      "outputs": [
        {
          "output_type": "stream",
          "name": "stdout",
          "text": [
            "108013.0\n"
          ]
        }
      ]
    },
    {
      "cell_type": "code",
      "source": [
        "Cierre_precio_anterior5dias_indice_Brazil= Brazil1.iat[0,0]\n",
        "print(Cierre_precio_anterior5dias_indice_Brazil)"
      ],
      "metadata": {
        "id": "WnEH6m81Ks9z",
        "colab": {
          "base_uri": "https://localhost:8080/"
        },
        "outputId": "6af5bf45-5f52-485b-f0fb-f7ece1216b0b"
      },
      "execution_count": 259,
      "outputs": [
        {
          "output_type": "stream",
          "name": "stdout",
          "text": [
            "106928.0\n"
          ]
        }
      ]
    },
    {
      "cell_type": "markdown",
      "metadata": {
        "id": "MnvD9JPpFb9O"
      },
      "source": [
        "**Mexico**"
      ]
    },
    {
      "cell_type": "code",
      "metadata": {
        "id": "0yGL7xYBFiA8"
      },
      "source": [
        "inv.get_indices_list(\"Mexico\")"
      ],
      "execution_count": null,
      "outputs": []
    },
    {
      "cell_type": "code",
      "metadata": {
        "id": "aWEMdeslFngE",
        "colab": {
          "base_uri": "https://localhost:8080/"
        },
        "outputId": "c310f700-6cc4-4b51-e42d-e98529d81576"
      },
      "source": [
        "data2=inv.get_index_recent_data(\"S&P/BMV IPC\",country=\"Mexico\")\n",
        "Mexico1=data2[[\"Close\",\"Open\"]].tail()\n",
        "print(Mexico1)"
      ],
      "execution_count": 261,
      "outputs": [
        {
          "output_type": "stream",
          "name": "stdout",
          "text": [
            "               Close      Open\n",
            "Date                          \n",
            "2022-01-14  53744.92  53824.77\n",
            "2022-01-17  53973.27  53742.37\n",
            "2022-01-18  53232.20  53985.46\n",
            "2022-01-19  52823.23  53239.99\n",
            "2022-01-20  52803.78  52826.23\n"
          ]
        }
      ]
    },
    {
      "cell_type": "code",
      "source": [
        "Apertura_indice_Mexico = (Mexico1.iat[4,1])#Este comando esta extraer un valor especifico de un dataframe\n",
        "print(Apertura_indice_Mexico)"
      ],
      "metadata": {
        "id": "uaA0bZ6jKYKg",
        "colab": {
          "base_uri": "https://localhost:8080/"
        },
        "outputId": "01b500a6-ccef-4709-d663-6fe978f72684"
      },
      "execution_count": 262,
      "outputs": [
        {
          "output_type": "stream",
          "name": "stdout",
          "text": [
            "52826.23\n"
          ]
        }
      ]
    },
    {
      "cell_type": "code",
      "source": [
        "Cierre_precio_anterior_indice_Mexico = Mexico1.iat[3,0]\n",
        "print(Cierre_precio_anterior_indice_Mexico)"
      ],
      "metadata": {
        "id": "IYU5nOkwKYX9",
        "colab": {
          "base_uri": "https://localhost:8080/"
        },
        "outputId": "9d34c9a5-3351-4380-c6e1-bbdb0f36cb46"
      },
      "execution_count": 263,
      "outputs": [
        {
          "output_type": "stream",
          "name": "stdout",
          "text": [
            "52823.23\n"
          ]
        }
      ]
    },
    {
      "cell_type": "code",
      "source": [
        "Cierre_precio_anterior5dias_indice_Mexico = Mexico1.iat[0,0]\n",
        "print(Cierre_precio_anterior5dias_indice_Mexico)"
      ],
      "metadata": {
        "id": "asr-x4fFKYjB",
        "colab": {
          "base_uri": "https://localhost:8080/"
        },
        "outputId": "7a27961f-bed9-4998-af9c-b8a99caf07c4"
      },
      "execution_count": 264,
      "outputs": [
        {
          "output_type": "stream",
          "name": "stdout",
          "text": [
            "53744.92\n"
          ]
        }
      ]
    },
    {
      "cell_type": "markdown",
      "metadata": {
        "id": "XLqQ8FD_GMfr"
      },
      "source": [
        "**Chile**"
      ]
    },
    {
      "cell_type": "code",
      "metadata": {
        "id": "0cl_uW4kGPYe",
        "colab": {
          "base_uri": "https://localhost:8080/"
        },
        "outputId": "aad115a9-2d5a-434e-c5a7-1405a06f5e51"
      },
      "source": [
        "inv.get_indices_list(\"chile\")"
      ],
      "execution_count": 265,
      "outputs": [
        {
          "output_type": "execute_result",
          "data": {
            "text/plain": [
              "['BNY Mellon Chile ADR TR',\n",
              " 'Inter 10',\n",
              " 'FTSE Chile',\n",
              " 'S&P CLX IPSA',\n",
              " 'BNY Mellon Chile ADR',\n",
              " 'S&P CLX IGPA',\n",
              " 'DJ Chile',\n",
              " 'MSCI Chile Net USD',\n",
              " 'MSCI Chile',\n",
              " 'DJ Chile USD']"
            ]
          },
          "metadata": {},
          "execution_count": 265
        }
      ]
    },
    {
      "cell_type": "code",
      "metadata": {
        "id": "L6fyDg-YGV1F",
        "colab": {
          "base_uri": "https://localhost:8080/"
        },
        "outputId": "9c823317-f083-40f6-8393-11db9f8cdf48"
      },
      "source": [
        "data3=inv.get_index_recent_data(\"S&P CLX IPSA \",country=\"chile\")\n",
        "Chile1=data3[[\"Close\",\"Open\"]].tail()\n",
        "print(Chile1)"
      ],
      "execution_count": 266,
      "outputs": [
        {
          "output_type": "stream",
          "name": "stdout",
          "text": [
            "              Close     Open\n",
            "Date                        \n",
            "2022-01-14  4486.57  4512.43\n",
            "2022-01-17  4473.27  4486.57\n",
            "2022-01-18  4500.80  4473.27\n",
            "2022-01-19  4470.71  4500.80\n",
            "2022-01-20  4477.14  4470.71\n"
          ]
        }
      ]
    },
    {
      "cell_type": "code",
      "source": [
        "Apertura__indice_Chile = (Chile1.iat[4,1])# Este comando esta extraer un valor especifico de un dataframe\n",
        "print(Apertura__indice_Chile)"
      ],
      "metadata": {
        "id": "jjaDw7OOKADe",
        "colab": {
          "base_uri": "https://localhost:8080/"
        },
        "outputId": "8d56efce-52f9-44df-c6f1-408a16a67ca0"
      },
      "execution_count": 267,
      "outputs": [
        {
          "output_type": "stream",
          "name": "stdout",
          "text": [
            "4470.71\n"
          ]
        }
      ]
    },
    {
      "cell_type": "code",
      "source": [
        "Cierre_precio_anterior_indice_Chile= Chile1.iat[3,0]\n",
        "print(Cierre_precio_anterior_indice_Chile)"
      ],
      "metadata": {
        "id": "f96FAsOlKAOL",
        "colab": {
          "base_uri": "https://localhost:8080/"
        },
        "outputId": "c4dddcf2-3f82-453c-9f66-577724d13b45"
      },
      "execution_count": 268,
      "outputs": [
        {
          "output_type": "stream",
          "name": "stdout",
          "text": [
            "4470.71\n"
          ]
        }
      ]
    },
    {
      "cell_type": "code",
      "source": [
        "Cierre_precio_anterior5dias_indice_Chile = Chile1.iat[0,0]\n",
        "print(Cierre_precio_anterior5dias_indice_Chile )"
      ],
      "metadata": {
        "id": "vbs1Q_3OKAWr",
        "colab": {
          "base_uri": "https://localhost:8080/"
        },
        "outputId": "53fb06b3-c25e-4315-ad81-938204ddf760"
      },
      "execution_count": 269,
      "outputs": [
        {
          "output_type": "stream",
          "name": "stdout",
          "text": [
            "4486.57\n"
          ]
        }
      ]
    },
    {
      "cell_type": "markdown",
      "metadata": {
        "id": "9xF7odN1ENHE"
      },
      "source": [
        "**Colombia**"
      ]
    },
    {
      "cell_type": "code",
      "metadata": {
        "id": "JQqp994Q0iHw",
        "colab": {
          "base_uri": "https://localhost:8080/"
        },
        "outputId": "a42602e1-d0fa-4a81-da16-4a66324f815b"
      },
      "source": [
        "inv.get_indices_list(\"Colombia\")"
      ],
      "execution_count": 270,
      "outputs": [
        {
          "output_type": "execute_result",
          "data": {
            "text/plain": [
              "['FTSE Colombia',\n",
              " 'COLEQTY',\n",
              " 'COLSC',\n",
              " 'COL20',\n",
              " 'COLIR',\n",
              " 'COL General',\n",
              " 'COL Financial',\n",
              " 'COL Public Services',\n",
              " 'Investment',\n",
              " 'COL Industrial',\n",
              " 'COLCAP',\n",
              " 'MSCI Colombia',\n",
              " 'COL Services']"
            ]
          },
          "metadata": {},
          "execution_count": 270
        }
      ]
    },
    {
      "cell_type": "code",
      "source": [
        "data4=inv.get_index_recent_data(\"COLCAP\",country=\"Colombia\")\n",
        "Colombia1=data4[[\"Close\",\"Open\"]].tail()\n",
        "print(Colombia1)"
      ],
      "metadata": {
        "id": "gpwWmhHgHhqF",
        "colab": {
          "base_uri": "https://localhost:8080/"
        },
        "outputId": "bcbdf5f6-0c59-44be-ed61-06b99598f956"
      },
      "execution_count": 271,
      "outputs": [
        {
          "output_type": "stream",
          "name": "stdout",
          "text": [
            "              Close     Open\n",
            "Date                        \n",
            "2022-01-14  1431.84  1459.71\n",
            "2022-01-17  1522.21  1450.95\n",
            "2022-01-18  1585.23  1535.77\n",
            "2022-01-19  1582.84  1584.42\n",
            "2022-01-20  1574.60  1579.23\n"
          ]
        }
      ]
    },
    {
      "cell_type": "code",
      "source": [
        "Apertura_indice_Colombia = (Colombia1.iat[4,1])# Este comando esta extraer un valor especifico de un dataframe\n",
        "print(Apertura_indice_Colombia )"
      ],
      "metadata": {
        "id": "FkJsxDouJtiG",
        "colab": {
          "base_uri": "https://localhost:8080/"
        },
        "outputId": "47e27fb5-98ae-4846-96cd-92ae2b602724"
      },
      "execution_count": 272,
      "outputs": [
        {
          "output_type": "stream",
          "name": "stdout",
          "text": [
            "1579.23\n"
          ]
        }
      ]
    },
    {
      "cell_type": "code",
      "source": [
        "Cierre_precio_anterior_indice_Colombia= Colombia1.iat[3,0]\n",
        "print(Cierre_precio_anterior_indice_Colombia)"
      ],
      "metadata": {
        "id": "6cISed_9Jt1s",
        "colab": {
          "base_uri": "https://localhost:8080/"
        },
        "outputId": "3e13926b-2565-4372-8c8b-8f11f6b8887e"
      },
      "execution_count": 273,
      "outputs": [
        {
          "output_type": "stream",
          "name": "stdout",
          "text": [
            "1582.84\n"
          ]
        }
      ]
    },
    {
      "cell_type": "code",
      "source": [
        "Cierre_precio_anterior5dias_indice_Colombia = Colombia1.iat[0,0]\n",
        "print(Cierre_precio_anterior5dias_indice_Colombia  ) "
      ],
      "metadata": {
        "id": "-0tyNU5NJuAj",
        "colab": {
          "base_uri": "https://localhost:8080/"
        },
        "outputId": "27660583-f87f-4309-d99e-1a512f7ab104"
      },
      "execution_count": 274,
      "outputs": [
        {
          "output_type": "stream",
          "name": "stdout",
          "text": [
            "1431.84\n"
          ]
        }
      ]
    },
    {
      "cell_type": "markdown",
      "metadata": {
        "id": "TfHT9MJ0Fk0x"
      },
      "source": [
        "**Materia Primas**"
      ]
    },
    {
      "cell_type": "markdown",
      "metadata": {
        "id": "ZaAJ2gQfGq2g"
      },
      "source": [
        "**Petroleo brent**"
      ]
    },
    {
      "cell_type": "code",
      "metadata": {
        "id": "bSm2XgfWFrfV"
      },
      "source": [
        "inv.get_commodities(group=\"energy\")"
      ],
      "execution_count": null,
      "outputs": []
    },
    {
      "cell_type": "code",
      "metadata": {
        "id": "c--CN3WAG9p3",
        "colab": {
          "base_uri": "https://localhost:8080/"
        },
        "outputId": "165faf18-a68a-4ee5-8fd2-1e47da463430"
      },
      "source": [
        "brent=inv.get_commodity_recent_data(\"Brent Oil\",country=\"united kingdom\")\n",
        "brent10=brent[[\"Close\",\"Open\"]].tail()\n",
        "print(brent10)"
      ],
      "execution_count": 276,
      "outputs": [
        {
          "output_type": "stream",
          "name": "stdout",
          "text": [
            "            Close   Open\n",
            "Date                    \n",
            "2022-01-14  86.06  84.12\n",
            "2022-01-17  86.48  86.15\n",
            "2022-01-18  87.51  86.47\n",
            "2022-01-19  88.44  88.65\n",
            "2022-01-20  89.06  87.81\n"
          ]
        }
      ]
    },
    {
      "cell_type": "code",
      "source": [
        "brent1=inv.get_commodity_historical_data(\"Brent Oil\",country=\"united kingdom\",from_date='01/01/2007',to_date=\"19/01/2022\")\n",
        "brent2=brent1[\"Close\"]\n",
        "brent3=pd.DataFrame(brent2)\n",
        "brent3.plot.line()"
      ],
      "metadata": {
        "id": "U9tdt3hBeRwo",
        "colab": {
          "base_uri": "https://localhost:8080/",
          "height": 286
        },
        "outputId": "6c464bf1-908b-4957-a47b-9b2b915fde2d"
      },
      "execution_count": 277,
      "outputs": [
        {
          "output_type": "execute_result",
          "data": {
            "text/plain": [
              "<matplotlib.axes._subplots.AxesSubplot at 0x7fddfb117fd0>"
            ]
          },
          "metadata": {},
          "execution_count": 277
        },
        {
          "output_type": "display_data",
          "data": {
            "image/png": "[encoded data removed]",
            "text/plain": [
              "<Figure size 432x288 with 1 Axes>"
            ]
          },
          "metadata": {
            "needs_background": "light"
          }
        }
      ]
    },
    {
      "cell_type": "code",
      "source": [
        "Dolar1=inv.get_currency_cross_historical_data(\"USD/COP\",from_date='01/01/2007',to_date=\"19/01/2022\")\n",
        "Dolar2=Dolar1[[\"Close\"]]\n",
        "Dolar3=pd.DataFrame(Dolar2)\n",
        "Dolar3.plot.line()"
      ],
      "metadata": {
        "id": "JUkph52jr9WI",
        "colab": {
          "base_uri": "https://localhost:8080/",
          "height": 296
        },
        "outputId": "5479eef4-b090-4f30-fe16-8c1fc9c67b6f"
      },
      "execution_count": 278,
      "outputs": [
        {
          "output_type": "execute_result",
          "data": {
            "text/plain": [
              "<matplotlib.axes._subplots.AxesSubplot at 0x7fddfaf76790>"
            ]
          },
          "metadata": {},
          "execution_count": 278
        },
        {
          "output_type": "display_data",
          "data": {
            "image/png": "[encoded data removed]",
            "text/plain": [
              "<Figure size 432x288 with 1 Axes>"
            ]
          },
          "metadata": {
            "needs_background": "light"
          }
        }
      ]
    },
    {
      "cell_type": "code",
      "source": [
        "brent_pesos=Dolar3*brent3\n",
        "brent_pesos.plot.line()"
      ],
      "metadata": {
        "id": "fSL4OuWitSEZ",
        "colab": {
          "base_uri": "https://localhost:8080/",
          "height": 296
        },
        "outputId": "bf3b448f-691c-4ee3-c50d-5f2f208af8a6"
      },
      "execution_count": 279,
      "outputs": [
        {
          "output_type": "execute_result",
          "data": {
            "text/plain": [
              "<matplotlib.axes._subplots.AxesSubplot at 0x7fddfb16aad0>"
            ]
          },
          "metadata": {},
          "execution_count": 279
        },
        {
          "output_type": "display_data",
          "data": {
            "image/png": "[encoded data removed]",
            "text/plain": [
              "<Figure size 432x288 with 1 Axes>"
            ]
          },
          "metadata": {
            "needs_background": "light"
          }
        }
      ]
    },
    {
      "cell_type": "code",
      "source": [
        "Apertura_brent = (brent10.iat[4,1])# Este comando esta extraer un valor especifico de un dataframe\n",
        "print(Apertura_brent)"
      ],
      "metadata": {
        "id": "RMeiQDXkJDBk",
        "colab": {
          "base_uri": "https://localhost:8080/"
        },
        "outputId": "4e84477d-67f7-4a25-c3bc-a98317e3c4af"
      },
      "execution_count": 280,
      "outputs": [
        {
          "output_type": "stream",
          "name": "stdout",
          "text": [
            "87.81\n"
          ]
        }
      ]
    },
    {
      "cell_type": "code",
      "source": [
        "Cierre_precio_anterior_brent= brent10.iat[3,0]\n",
        "print(Cierre_precio_anterior_brent)"
      ],
      "metadata": {
        "id": "13WlZweXJDMh",
        "colab": {
          "base_uri": "https://localhost:8080/"
        },
        "outputId": "97ed8332-8dc5-443f-ddd1-e8e4fa70306c"
      },
      "execution_count": 281,
      "outputs": [
        {
          "output_type": "stream",
          "name": "stdout",
          "text": [
            "88.44\n"
          ]
        }
      ]
    },
    {
      "cell_type": "code",
      "source": [
        "Cierre_precio_anterior5dias_brent = brent10.iat[0,0]\n",
        "print(Cierre_precio_anterior5dias_brent ) "
      ],
      "metadata": {
        "id": "ibrKYQXZJDWk",
        "colab": {
          "base_uri": "https://localhost:8080/"
        },
        "outputId": "e3652f56-d871-4506-8f2e-25fa6de61491"
      },
      "execution_count": 282,
      "outputs": [
        {
          "output_type": "stream",
          "name": "stdout",
          "text": [
            "86.06\n"
          ]
        }
      ]
    },
    {
      "cell_type": "markdown",
      "metadata": {
        "id": "yrvoK7DjGunG"
      },
      "source": [
        "**Petroleo WTI**"
      ]
    },
    {
      "cell_type": "code",
      "metadata": {
        "id": "6kNi6d5nG0PW",
        "colab": {
          "base_uri": "https://localhost:8080/"
        },
        "outputId": "2ec85091-aa59-4813-920c-e87731f71502"
      },
      "source": [
        "WTI=inv.get_commodity_recent_data(\"Crude Oil WTI\",country=\"united states\")\n",
        "WTI10=WTI[[\"Close\",\"Open\"]].tail()\n",
        "print(WTI10)"
      ],
      "execution_count": 283,
      "outputs": [
        {
          "output_type": "stream",
          "name": "stdout",
          "text": [
            "            Close   Open\n",
            "Date                    \n",
            "2022-01-16  83.83  83.78\n",
            "2022-01-17  83.69  83.84\n",
            "2022-01-18  85.43  84.32\n",
            "2022-01-19  86.96  86.61\n",
            "2022-01-20  86.63  84.98\n"
          ]
        }
      ]
    },
    {
      "cell_type": "code",
      "source": [
        "Apertura_WTI = (WTI10.iat[4,1])# Este comando esta extraer un valor especifico de un dataframe\n",
        "print(Apertura_WTI)"
      ],
      "metadata": {
        "id": "fjXtn6WzJVkY",
        "colab": {
          "base_uri": "https://localhost:8080/"
        },
        "outputId": "fe3c0676-5307-4f37-fab4-357aa4c5eb2b"
      },
      "execution_count": 284,
      "outputs": [
        {
          "output_type": "stream",
          "name": "stdout",
          "text": [
            "84.98\n"
          ]
        }
      ]
    },
    {
      "cell_type": "code",
      "source": [
        "Cierre_precio_anterior_WTI= WTI10.iat[3,0]\n",
        "print(Cierre_precio_anterior_WTI)"
      ],
      "metadata": {
        "id": "l6iPtgngJVvd",
        "colab": {
          "base_uri": "https://localhost:8080/"
        },
        "outputId": "aac7d49f-6def-4c0d-8c28-9796f706860a"
      },
      "execution_count": 285,
      "outputs": [
        {
          "output_type": "stream",
          "name": "stdout",
          "text": [
            "86.96\n"
          ]
        }
      ]
    },
    {
      "cell_type": "code",
      "source": [
        "Cierre_precio_anterior5dias_WTI = WTI10.iat[0,0]\n",
        "print(Cierre_precio_anterior5dias_WTI ) "
      ],
      "metadata": {
        "id": "MBL3eHYxJV5B",
        "colab": {
          "base_uri": "https://localhost:8080/"
        },
        "outputId": "6d1a4bf4-7a01-47dc-ad1e-c67bd3938e42"
      },
      "execution_count": 286,
      "outputs": [
        {
          "output_type": "stream",
          "name": "stdout",
          "text": [
            "83.83\n"
          ]
        }
      ]
    },
    {
      "cell_type": "markdown",
      "metadata": {
        "id": "K6ZObKHYH-Nf"
      },
      "source": [
        "**Oro**"
      ]
    },
    {
      "cell_type": "code",
      "metadata": {
        "id": "zScHHevlNP4e",
        "colab": {
          "base_uri": "https://localhost:8080/",
          "height": 990
        },
        "outputId": "69fca235-7ad3-4f4f-c007-d518d3bb3606"
      },
      "source": [
        "inv.get_commodities(group=\"metals\")"
      ],
      "execution_count": 287,
      "outputs": [
        {
          "output_type": "execute_result",
          "data": {
            "text/html": [
              "\n",
              "  <div id=\"df-f8247130-a935-4402-97b6-18b22d31d1dc\">\n",
              "    <div class=\"colab-df-container\">\n",
              "      <div>\n",
              "<style scoped>\n",
              "    .dataframe tbody tr th:only-of-type {\n",
              "        vertical-align: middle;\n",
              "    }\n",
              "\n",
              "    .dataframe tbody tr th {\n",
              "        vertical-align: top;\n",
              "    }\n",
              "\n",
              "    .dataframe thead th {\n",
              "        text-align: right;\n",
              "    }\n",
              "</style>\n",
              "<table border=\"1\" class=\"dataframe\">\n",
              "  <thead>\n",
              "    <tr style=\"text-align: right;\">\n",
              "      <th></th>\n",
              "      <th>title</th>\n",
              "      <th>country</th>\n",
              "      <th>name</th>\n",
              "      <th>full_name</th>\n",
              "      <th>currency</th>\n",
              "      <th>group</th>\n",
              "    </tr>\n",
              "  </thead>\n",
              "  <tbody>\n",
              "    <tr>\n",
              "      <th>0</th>\n",
              "      <td>Real Time Streaming Futures Quotes</td>\n",
              "      <td></td>\n",
              "      <td>Gold</td>\n",
              "      <td>Gold Futures</td>\n",
              "      <td>USD</td>\n",
              "      <td>metals</td>\n",
              "    </tr>\n",
              "    <tr>\n",
              "      <th>1</th>\n",
              "      <td>Real Time Streaming Futures Quotes</td>\n",
              "      <td>united states</td>\n",
              "      <td>Copper</td>\n",
              "      <td>Copper Futures</td>\n",
              "      <td>USD</td>\n",
              "      <td>metals</td>\n",
              "    </tr>\n",
              "    <tr>\n",
              "      <th>2</th>\n",
              "      <td>Real Time Streaming Futures Quotes</td>\n",
              "      <td></td>\n",
              "      <td>Silver</td>\n",
              "      <td>Silver Futures</td>\n",
              "      <td>USD</td>\n",
              "      <td>metals</td>\n",
              "    </tr>\n",
              "    <tr>\n",
              "      <th>3</th>\n",
              "      <td>Real Time Streaming Futures Quotes</td>\n",
              "      <td>united states</td>\n",
              "      <td>Palladium</td>\n",
              "      <td>Palladium Futures</td>\n",
              "      <td>USD</td>\n",
              "      <td>metals</td>\n",
              "    </tr>\n",
              "    <tr>\n",
              "      <th>4</th>\n",
              "      <td>Real Time Streaming Futures Quotes</td>\n",
              "      <td>united states</td>\n",
              "      <td>Platinum</td>\n",
              "      <td>Platinum Futures</td>\n",
              "      <td>USD</td>\n",
              "      <td>metals</td>\n",
              "    </tr>\n",
              "    <tr>\n",
              "      <th>5</th>\n",
              "      <td>Real Time Streaming Futures Quotes</td>\n",
              "      <td>united kingdom</td>\n",
              "      <td>Aluminum</td>\n",
              "      <td>Aluminum Futures</td>\n",
              "      <td>USD</td>\n",
              "      <td>metals</td>\n",
              "    </tr>\n",
              "    <tr>\n",
              "      <th>6</th>\n",
              "      <td>Real Time Streaming Futures Quotes</td>\n",
              "      <td>united kingdom</td>\n",
              "      <td>Zinc</td>\n",
              "      <td>Zinc Futures</td>\n",
              "      <td>USD</td>\n",
              "      <td>metals</td>\n",
              "    </tr>\n",
              "    <tr>\n",
              "      <th>7</th>\n",
              "      <td>Real Time Streaming Futures Quotes</td>\n",
              "      <td>united kingdom</td>\n",
              "      <td>Lead</td>\n",
              "      <td>Lead Futures</td>\n",
              "      <td>USD</td>\n",
              "      <td>metals</td>\n",
              "    </tr>\n",
              "    <tr>\n",
              "      <th>8</th>\n",
              "      <td>Real Time Streaming Futures Quotes</td>\n",
              "      <td>united kingdom</td>\n",
              "      <td>Nickel</td>\n",
              "      <td>Nickel Futures</td>\n",
              "      <td>USD</td>\n",
              "      <td>metals</td>\n",
              "    </tr>\n",
              "    <tr>\n",
              "      <th>9</th>\n",
              "      <td>Real Time Streaming Futures Quotes</td>\n",
              "      <td>united kingdom</td>\n",
              "      <td>Tin</td>\n",
              "      <td>Tin Futures</td>\n",
              "      <td>USD</td>\n",
              "      <td>metals</td>\n",
              "    </tr>\n",
              "    <tr>\n",
              "      <th>10</th>\n",
              "      <td>Real Time Streaming Futures Quotes</td>\n",
              "      <td>united kingdom</td>\n",
              "      <td>Copper</td>\n",
              "      <td>Copper Futures</td>\n",
              "      <td>USD</td>\n",
              "      <td>metals</td>\n",
              "    </tr>\n",
              "    <tr>\n",
              "      <th>11</th>\n",
              "      <td>EUREX Futures Market Quotes</td>\n",
              "      <td>euro zone</td>\n",
              "      <td>Xetra-Gold</td>\n",
              "      <td>Xetra-Gold Futures</td>\n",
              "      <td>EUR</td>\n",
              "      <td>metals</td>\n",
              "    </tr>\n",
              "    <tr>\n",
              "      <th>12</th>\n",
              "      <td>MCX Futures Market Quotes</td>\n",
              "      <td>india</td>\n",
              "      <td>MCX Aluminum Mini</td>\n",
              "      <td>Aluminum Mini Futures</td>\n",
              "      <td>INR</td>\n",
              "      <td>metals</td>\n",
              "    </tr>\n",
              "    <tr>\n",
              "      <th>13</th>\n",
              "      <td>MCX Futures Market Quotes</td>\n",
              "      <td>india</td>\n",
              "      <td>MCX Aluminum</td>\n",
              "      <td>Aluminum Futures</td>\n",
              "      <td>INR</td>\n",
              "      <td>metals</td>\n",
              "    </tr>\n",
              "    <tr>\n",
              "      <th>14</th>\n",
              "      <td>MCX Futures Market Quotes</td>\n",
              "      <td>india</td>\n",
              "      <td>MCX Copper</td>\n",
              "      <td>Copper Futures</td>\n",
              "      <td>INR</td>\n",
              "      <td>metals</td>\n",
              "    </tr>\n",
              "    <tr>\n",
              "      <th>15</th>\n",
              "      <td>MCX Futures Market Quotes</td>\n",
              "      <td>india</td>\n",
              "      <td>MCX Copper Mini</td>\n",
              "      <td>Copper Mini Futures</td>\n",
              "      <td>INR</td>\n",
              "      <td>metals</td>\n",
              "    </tr>\n",
              "    <tr>\n",
              "      <th>16</th>\n",
              "      <td>MCX Futures Market Quotes</td>\n",
              "      <td>india</td>\n",
              "      <td>MCX Gold 1 Kg</td>\n",
              "      <td>Gold 1 Kg</td>\n",
              "      <td>INR</td>\n",
              "      <td>metals</td>\n",
              "    </tr>\n",
              "    <tr>\n",
              "      <th>17</th>\n",
              "      <td>MCX Futures Market Quotes</td>\n",
              "      <td>india</td>\n",
              "      <td>MCX Gold Guinea</td>\n",
              "      <td>Gold Guinea Futures</td>\n",
              "      <td>INR</td>\n",
              "      <td>metals</td>\n",
              "    </tr>\n",
              "    <tr>\n",
              "      <th>18</th>\n",
              "      <td>MCX Futures Market Quotes</td>\n",
              "      <td>india</td>\n",
              "      <td>MCX Gold Mini</td>\n",
              "      <td>Gold Mini Futures</td>\n",
              "      <td>INR</td>\n",
              "      <td>metals</td>\n",
              "    </tr>\n",
              "    <tr>\n",
              "      <th>19</th>\n",
              "      <td>MCX Futures Market Quotes</td>\n",
              "      <td>india</td>\n",
              "      <td>MCX Gold Petal</td>\n",
              "      <td>Gold Petal Futures</td>\n",
              "      <td>INR</td>\n",
              "      <td>metals</td>\n",
              "    </tr>\n",
              "    <tr>\n",
              "      <th>20</th>\n",
              "      <td>MCX Futures Market Quotes</td>\n",
              "      <td>india</td>\n",
              "      <td>MCX Gold Petal Del</td>\n",
              "      <td>Gold Petal (New Delhi) Futures</td>\n",
              "      <td>INR</td>\n",
              "      <td>metals</td>\n",
              "    </tr>\n",
              "    <tr>\n",
              "      <th>21</th>\n",
              "      <td>MCX Futures Market Quotes</td>\n",
              "      <td>india</td>\n",
              "      <td>MCX Lead</td>\n",
              "      <td>Lead Futures</td>\n",
              "      <td>INR</td>\n",
              "      <td>metals</td>\n",
              "    </tr>\n",
              "    <tr>\n",
              "      <th>22</th>\n",
              "      <td>MCX Futures Market Quotes</td>\n",
              "      <td>india</td>\n",
              "      <td>MCX Lead Mini</td>\n",
              "      <td>Lead Mini Futures</td>\n",
              "      <td>INR</td>\n",
              "      <td>metals</td>\n",
              "    </tr>\n",
              "    <tr>\n",
              "      <th>23</th>\n",
              "      <td>MCX Futures Market Quotes</td>\n",
              "      <td>india</td>\n",
              "      <td>MCX Nickel</td>\n",
              "      <td>Nickel Futures</td>\n",
              "      <td>INR</td>\n",
              "      <td>metals</td>\n",
              "    </tr>\n",
              "    <tr>\n",
              "      <th>24</th>\n",
              "      <td>MCX Futures Market Quotes</td>\n",
              "      <td>india</td>\n",
              "      <td>MCX Nickel Mini</td>\n",
              "      <td>Nickel Mini Futures</td>\n",
              "      <td>INR</td>\n",
              "      <td>metals</td>\n",
              "    </tr>\n",
              "    <tr>\n",
              "      <th>25</th>\n",
              "      <td>MCX Futures Market Quotes</td>\n",
              "      <td>india</td>\n",
              "      <td>MCX Silver</td>\n",
              "      <td>Silver Futures</td>\n",
              "      <td>INR</td>\n",
              "      <td>metals</td>\n",
              "    </tr>\n",
              "    <tr>\n",
              "      <th>26</th>\n",
              "      <td>MCX Futures Market Quotes</td>\n",
              "      <td>india</td>\n",
              "      <td>MCX Silver Micro</td>\n",
              "      <td>Silver Micro Futures</td>\n",
              "      <td>INR</td>\n",
              "      <td>metals</td>\n",
              "    </tr>\n",
              "    <tr>\n",
              "      <th>27</th>\n",
              "      <td>MCX Futures Market Quotes</td>\n",
              "      <td>india</td>\n",
              "      <td>MCX Silver Mini</td>\n",
              "      <td>Silver Mini Futures</td>\n",
              "      <td>INR</td>\n",
              "      <td>metals</td>\n",
              "    </tr>\n",
              "    <tr>\n",
              "      <th>28</th>\n",
              "      <td>MCX Futures Market Quotes</td>\n",
              "      <td>india</td>\n",
              "      <td>MCX Zinc</td>\n",
              "      <td>Zinc Futures</td>\n",
              "      <td>INR</td>\n",
              "      <td>metals</td>\n",
              "    </tr>\n",
              "    <tr>\n",
              "      <th>29</th>\n",
              "      <td>MCX Futures Market Quotes</td>\n",
              "      <td>india</td>\n",
              "      <td>MCX Zinc Mini</td>\n",
              "      <td>Zinc Mini Futures</td>\n",
              "      <td>INR</td>\n",
              "      <td>metals</td>\n",
              "    </tr>\n",
              "  </tbody>\n",
              "</table>\n",
              "</div>\n",
              "      <button class=\"colab-df-convert\" onclick=\"convertToInteractive('df-f8247130-a935-4402-97b6-18b22d31d1dc')\"\n",
              "              title=\"Convert this dataframe to an interactive table.\"\n",
              "              style=\"display:none;\">\n",
              "        \n",
              "  <svg xmlns=\"http://www.w3.org/2000/svg\" height=\"24px\"viewBox=\"0 0 24 24\"\n",
              "       width=\"24px\">\n",
              "    <path d=\"M0 0h24v24H0V0z\" fill=\"none\"/>\n",
              "    <path d=\"M18.56 5.44l.94 2.06.94-2.06 2.06-.94-2.06-.94-.94-2.06-.94 2.06-2.06.94zm-11 1L8.5 8.5l.94-2.06 2.06-.94-2.06-.94L8.5 2.5l-.94 2.06-2.06.94zm10 10l.94 2.06.94-2.06 2.06-.94-2.06-.94-.94-2.06-.94 2.06-2.06.94z\"/><path d=\"M17.41 7.96l-1.37-1.37c-.4-.4-.92-.59-1.43-.59-.52 0-1.04.2-1.43.59L10.3 9.45l-7.72 7.72c-.78.78-.78 2.05 0 2.83L4 21.41c.39.39.9.59 1.41.59.51 0 1.02-.2 1.41-.59l7.78-7.78 2.81-2.81c.8-.78.8-2.07 0-2.86zM5.41 20L4 18.59l7.72-7.72 1.47 1.35L5.41 20z\"/>\n",
              "  </svg>\n",
              "      </button>\n",
              "      \n",
              "  <style>\n",
              "    .colab-df-container {\n",
              "      display:flex;\n",
              "      flex-wrap:wrap;\n",
              "      gap: 12px;\n",
              "    }\n",
              "\n",
              "    .colab-df-convert {\n",
              "      background-color: #E8F0FE;\n",
              "      border: none;\n",
              "      border-radius: 50%;\n",
              "      cursor: pointer;\n",
              "      display: none;\n",
              "      fill: #1967D2;\n",
              "      height: 32px;\n",
              "      padding: 0 0 0 0;\n",
              "      width: 32px;\n",
              "    }\n",
              "\n",
              "    .colab-df-convert:hover {\n",
              "      background-color: #E2EBFA;\n",
              "      box-shadow: 0px 1px 2px rgba(60, 64, 67, 0.3), 0px 1px 3px 1px rgba(60, 64, 67, 0.15);\n",
              "      fill: #174EA6;\n",
              "    }\n",
              "\n",
              "    [theme=dark] .colab-df-convert {\n",
              "      background-color: #3B4455;\n",
              "      fill: #D2E3FC;\n",
              "    }\n",
              "\n",
              "    [theme=dark] .colab-df-convert:hover {\n",
              "      background-color: #434B5C;\n",
              "      box-shadow: 0px 1px 3px 1px rgba(0, 0, 0, 0.15);\n",
              "      filter: drop-shadow(0px 1px 2px rgba(0, 0, 0, 0.3));\n",
              "      fill: #FFFFFF;\n",
              "    }\n",
              "  </style>\n",
              "\n",
              "      <script>\n",
              "        const buttonEl =\n",
              "          document.querySelector('#df-f8247130-a935-4402-97b6-18b22d31d1dc button.colab-df-convert');\n",
              "        buttonEl.style.display =\n",
              "          google.colab.kernel.accessAllowed ? 'block' : 'none';\n",
              "\n",
              "        async function convertToInteractive(key) {\n",
              "          const element = document.querySelector('#df-f8247130-a935-4402-97b6-18b22d31d1dc');\n",
              "          const dataTable =\n",
              "            await google.colab.kernel.invokeFunction('convertToInteractive',\n",
              "                                                     [key], {});\n",
              "          if (!dataTable) return;\n",
              "\n",
              "          const docLinkHtml = 'Like what you see? Visit the ' +\n",
              "            '<a target=\"_blank\" href=https://colab.research.google.com/notebooks/data_table.ipynb>data table notebook</a>'\n",
              "            + ' to learn more about interactive tables.';\n",
              "          element.innerHTML = '';\n",
              "          dataTable['output_type'] = 'display_data';\n",
              "          await google.colab.output.renderOutput(dataTable, element);\n",
              "          const docLink = document.createElement('div');\n",
              "          docLink.innerHTML = docLinkHtml;\n",
              "          element.appendChild(docLink);\n",
              "        }\n",
              "      </script>\n",
              "    </div>\n",
              "  </div>\n",
              "  "
            ],
            "text/plain": [
              "                                 title         country  ... currency   group\n",
              "0   Real Time Streaming Futures Quotes                  ...      USD  metals\n",
              "1   Real Time Streaming Futures Quotes   united states  ...      USD  metals\n",
              "2   Real Time Streaming Futures Quotes                  ...      USD  metals\n",
              "3   Real Time Streaming Futures Quotes   united states  ...      USD  metals\n",
              "4   Real Time Streaming Futures Quotes   united states  ...      USD  metals\n",
              "5   Real Time Streaming Futures Quotes  united kingdom  ...      USD  metals\n",
              "6   Real Time Streaming Futures Quotes  united kingdom  ...      USD  metals\n",
              "7   Real Time Streaming Futures Quotes  united kingdom  ...      USD  metals\n",
              "8   Real Time Streaming Futures Quotes  united kingdom  ...      USD  metals\n",
              "9   Real Time Streaming Futures Quotes  united kingdom  ...      USD  metals\n",
              "10  Real Time Streaming Futures Quotes  united kingdom  ...      USD  metals\n",
              "11         EUREX Futures Market Quotes       euro zone  ...      EUR  metals\n",
              "12           MCX Futures Market Quotes           india  ...      INR  metals\n",
              "13           MCX Futures Market Quotes           india  ...      INR  metals\n",
              "14           MCX Futures Market Quotes           india  ...      INR  metals\n",
              "15           MCX Futures Market Quotes           india  ...      INR  metals\n",
              "16           MCX Futures Market Quotes           india  ...      INR  metals\n",
              "17           MCX Futures Market Quotes           india  ...      INR  metals\n",
              "18           MCX Futures Market Quotes           india  ...      INR  metals\n",
              "19           MCX Futures Market Quotes           india  ...      INR  metals\n",
              "20           MCX Futures Market Quotes           india  ...      INR  metals\n",
              "21           MCX Futures Market Quotes           india  ...      INR  metals\n",
              "22           MCX Futures Market Quotes           india  ...      INR  metals\n",
              "23           MCX Futures Market Quotes           india  ...      INR  metals\n",
              "24           MCX Futures Market Quotes           india  ...      INR  metals\n",
              "25           MCX Futures Market Quotes           india  ...      INR  metals\n",
              "26           MCX Futures Market Quotes           india  ...      INR  metals\n",
              "27           MCX Futures Market Quotes           india  ...      INR  metals\n",
              "28           MCX Futures Market Quotes           india  ...      INR  metals\n",
              "29           MCX Futures Market Quotes           india  ...      INR  metals\n",
              "\n",
              "[30 rows x 6 columns]"
            ]
          },
          "metadata": {},
          "execution_count": 287
        }
      ]
    },
    {
      "cell_type": "code",
      "metadata": {
        "id": "fA3vUDs9wMRE",
        "colab": {
          "base_uri": "https://localhost:8080/"
        },
        "outputId": "b346ae69-18ee-4cd2-9bca-695e09087aa5"
      },
      "source": [
        "Oro=inv.get_commodity_recent_data(\"gold\")\n",
        "Oro1=Oro[[\"Close\",\"Open\"]].tail()\n",
        "Oro10 = pd.DataFrame(Oro1)\n",
        "print(Oro10)"
      ],
      "execution_count": 288,
      "outputs": [
        {
          "output_type": "stream",
          "name": "stdout",
          "text": [
            "              Close     Open\n",
            "Date                        \n",
            "2022-01-16  1815.75  1816.40\n",
            "2022-01-17  1819.05  1815.85\n",
            "2022-01-18  1812.40  1818.70\n",
            "2022-01-19  1843.20  1812.90\n",
            "2022-01-20  1844.45  1839.05\n"
          ]
        }
      ]
    },
    {
      "cell_type": "code",
      "source": [
        "Apertura_oro = (Oro10.iat[4,1])# Este comando esta extraer un valor especifico de un dataframe\n",
        "print(Apertura_oro)"
      ],
      "metadata": {
        "id": "DlT5kcTVb8BS",
        "colab": {
          "base_uri": "https://localhost:8080/"
        },
        "outputId": "c3b29079-afdc-40d3-cc07-de0353b72b0d"
      },
      "execution_count": 289,
      "outputs": [
        {
          "output_type": "stream",
          "name": "stdout",
          "text": [
            "1839.05\n"
          ]
        }
      ]
    },
    {
      "cell_type": "code",
      "source": [
        "Cierre_precio_anterior_oro= Oro10.iat[3,0]\n",
        "print(Cierre_precio_anterior_oro)"
      ],
      "metadata": {
        "id": "LEukkXDHdyE2",
        "colab": {
          "base_uri": "https://localhost:8080/"
        },
        "outputId": "c6ba2919-3f17-4c0d-da1b-5b4a0581a457"
      },
      "execution_count": 290,
      "outputs": [
        {
          "output_type": "stream",
          "name": "stdout",
          "text": [
            "1843.2\n"
          ]
        }
      ]
    },
    {
      "cell_type": "code",
      "source": [
        "Cierre_precio_anterior5dias_oro = Oro10.iat[0,0]\n",
        "print(Cierre_precio_anterior5dias_oro )"
      ],
      "metadata": {
        "id": "02szCCjReoxC",
        "colab": {
          "base_uri": "https://localhost:8080/"
        },
        "outputId": "422b0b0a-dcb3-403d-d669-b74885f1658b"
      },
      "execution_count": 291,
      "outputs": [
        {
          "output_type": "stream",
          "name": "stdout",
          "text": [
            "1815.75\n"
          ]
        }
      ]
    },
    {
      "cell_type": "markdown",
      "metadata": {
        "id": "iXzWdAMIIFuG"
      },
      "source": [
        "**Cobre**"
      ]
    },
    {
      "cell_type": "code",
      "metadata": {
        "id": "hZZWyqzzNQU3",
        "colab": {
          "base_uri": "https://localhost:8080/"
        },
        "outputId": "2bbe3103-e926-4aad-b8d3-1ae2b88597a0"
      },
      "source": [
        "Cobre=inv.get_commodity_recent_data(\"copper\",country=\"united states\")\n",
        "Cobre10=Cobre[[\"Close\",\"Open\"]].tail()\n",
        "print(Cobre10)"
      ],
      "execution_count": 292,
      "outputs": [
        {
          "output_type": "stream",
          "name": "stdout",
          "text": [
            "             Close    Open\n",
            "Date                      \n",
            "2022-01-16  4.4435  4.4280\n",
            "2022-01-17  4.4335  4.4443\n",
            "2022-01-18  4.3985  4.4330\n",
            "2022-01-19  4.4455  4.3987\n",
            "2022-01-20  4.5542  4.4455\n"
          ]
        }
      ]
    },
    {
      "cell_type": "code",
      "source": [
        "Apertura_cobre = (Cobre10.iat[4,1]) # Este comando esta extraer un valor especifico de un dataframe\n",
        "print(Apertura_cobre)"
      ],
      "metadata": {
        "id": "xxWPa3llAW5I",
        "colab": {
          "base_uri": "https://localhost:8080/"
        },
        "outputId": "c9d6cade-f32b-4c1c-9e48-e1ab2dbdd4e6"
      },
      "execution_count": 293,
      "outputs": [
        {
          "output_type": "stream",
          "name": "stdout",
          "text": [
            "4.4455\n"
          ]
        }
      ]
    },
    {
      "cell_type": "code",
      "source": [
        "Cierre_precio_anterior_cobre= Cobre10.iat[3,0]\n",
        "print(Cierre_precio_anterior_cobre)"
      ],
      "metadata": {
        "id": "EkPPLuz1Azs-",
        "colab": {
          "base_uri": "https://localhost:8080/"
        },
        "outputId": "fdc418cd-e766-4b00-9e2b-d3e9d0beea9c"
      },
      "execution_count": 294,
      "outputs": [
        {
          "output_type": "stream",
          "name": "stdout",
          "text": [
            "4.4455\n"
          ]
        }
      ]
    },
    {
      "cell_type": "code",
      "source": [
        "Cierre_precio_anterior5dias_Cobre = Cobre10.iat[0,0]\n",
        "print(Cierre_precio_anterior5dias_Cobre)"
      ],
      "metadata": {
        "id": "AuRdeqZxAz76",
        "colab": {
          "base_uri": "https://localhost:8080/"
        },
        "outputId": "0aaaea69-2ced-4218-b84c-352fad5a6a4f"
      },
      "execution_count": 295,
      "outputs": [
        {
          "output_type": "stream",
          "name": "stdout",
          "text": [
            "4.4435\n"
          ]
        }
      ]
    },
    {
      "cell_type": "markdown",
      "metadata": {
        "id": "SlR69UDdIJI1"
      },
      "source": [
        "**Maiz**"
      ]
    },
    {
      "cell_type": "code",
      "metadata": {
        "id": "CDAqj7TXymFS",
        "colab": {
          "base_uri": "https://localhost:8080/",
          "height": 300
        },
        "outputId": "12040101-7f8d-4790-8a57-bcacfc3ebe84"
      },
      "source": [
        "inv.get_commodities(group=\"grains\")"
      ],
      "execution_count": 296,
      "outputs": [
        {
          "output_type": "execute_result",
          "data": {
            "text/html": [
              "\n",
              "  <div id=\"df-297a42ae-cc83-43a0-9a73-e81883d9604e\">\n",
              "    <div class=\"colab-df-container\">\n",
              "      <div>\n",
              "<style scoped>\n",
              "    .dataframe tbody tr th:only-of-type {\n",
              "        vertical-align: middle;\n",
              "    }\n",
              "\n",
              "    .dataframe tbody tr th {\n",
              "        vertical-align: top;\n",
              "    }\n",
              "\n",
              "    .dataframe thead th {\n",
              "        text-align: right;\n",
              "    }\n",
              "</style>\n",
              "<table border=\"1\" class=\"dataframe\">\n",
              "  <thead>\n",
              "    <tr style=\"text-align: right;\">\n",
              "      <th></th>\n",
              "      <th>title</th>\n",
              "      <th>country</th>\n",
              "      <th>name</th>\n",
              "      <th>full_name</th>\n",
              "      <th>currency</th>\n",
              "      <th>group</th>\n",
              "    </tr>\n",
              "  </thead>\n",
              "  <tbody>\n",
              "    <tr>\n",
              "      <th>0</th>\n",
              "      <td>Real Time Streaming Futures Quotes</td>\n",
              "      <td>united kingdom</td>\n",
              "      <td>London Wheat</td>\n",
              "      <td>London Wheat Futures</td>\n",
              "      <td>GBP</td>\n",
              "      <td>grains</td>\n",
              "    </tr>\n",
              "    <tr>\n",
              "      <th>1</th>\n",
              "      <td>Real Time Streaming Futures Quotes</td>\n",
              "      <td>united states</td>\n",
              "      <td>Rough Rice</td>\n",
              "      <td>Rough Rice Futures</td>\n",
              "      <td>USD</td>\n",
              "      <td>grains</td>\n",
              "    </tr>\n",
              "    <tr>\n",
              "      <th>2</th>\n",
              "      <td>Real Time Streaming Futures Quotes</td>\n",
              "      <td>united states</td>\n",
              "      <td>US Soybean Oil</td>\n",
              "      <td>US Soybean Oil Futures</td>\n",
              "      <td>USD</td>\n",
              "      <td>grains</td>\n",
              "    </tr>\n",
              "    <tr>\n",
              "      <th>3</th>\n",
              "      <td>Real Time Streaming Futures Quotes</td>\n",
              "      <td>united states</td>\n",
              "      <td>US Soybean Meal</td>\n",
              "      <td>US Soybean Meal Futures</td>\n",
              "      <td>USD</td>\n",
              "      <td>grains</td>\n",
              "    </tr>\n",
              "    <tr>\n",
              "      <th>4</th>\n",
              "      <td>Real Time Streaming Futures Quotes</td>\n",
              "      <td>united states</td>\n",
              "      <td>US Soybeans</td>\n",
              "      <td>US Soybeans Futures</td>\n",
              "      <td>USD</td>\n",
              "      <td>grains</td>\n",
              "    </tr>\n",
              "    <tr>\n",
              "      <th>5</th>\n",
              "      <td>Real Time Streaming Futures Quotes</td>\n",
              "      <td>united states</td>\n",
              "      <td>US Wheat</td>\n",
              "      <td>US Wheat Futures</td>\n",
              "      <td>USD</td>\n",
              "      <td>grains</td>\n",
              "    </tr>\n",
              "    <tr>\n",
              "      <th>6</th>\n",
              "      <td>Real Time Streaming Futures Quotes</td>\n",
              "      <td>united states</td>\n",
              "      <td>US Corn</td>\n",
              "      <td>US Corn Futures</td>\n",
              "      <td>USD</td>\n",
              "      <td>grains</td>\n",
              "    </tr>\n",
              "    <tr>\n",
              "      <th>7</th>\n",
              "      <td>Real Time Streaming Futures Quotes</td>\n",
              "      <td>united states</td>\n",
              "      <td>Oats</td>\n",
              "      <td>Oats Futures</td>\n",
              "      <td>USD</td>\n",
              "      <td>grains</td>\n",
              "    </tr>\n",
              "  </tbody>\n",
              "</table>\n",
              "</div>\n",
              "      <button class=\"colab-df-convert\" onclick=\"convertToInteractive('df-297a42ae-cc83-43a0-9a73-e81883d9604e')\"\n",
              "              title=\"Convert this dataframe to an interactive table.\"\n",
              "              style=\"display:none;\">\n",
              "        \n",
              "  <svg xmlns=\"http://www.w3.org/2000/svg\" height=\"24px\"viewBox=\"0 0 24 24\"\n",
              "       width=\"24px\">\n",
              "    <path d=\"M0 0h24v24H0V0z\" fill=\"none\"/>\n",
              "    <path d=\"M18.56 5.44l.94 2.06.94-2.06 2.06-.94-2.06-.94-.94-2.06-.94 2.06-2.06.94zm-11 1L8.5 8.5l.94-2.06 2.06-.94-2.06-.94L8.5 2.5l-.94 2.06-2.06.94zm10 10l.94 2.06.94-2.06 2.06-.94-2.06-.94-.94-2.06-.94 2.06-2.06.94z\"/><path d=\"M17.41 7.96l-1.37-1.37c-.4-.4-.92-.59-1.43-.59-.52 0-1.04.2-1.43.59L10.3 9.45l-7.72 7.72c-.78.78-.78 2.05 0 2.83L4 21.41c.39.39.9.59 1.41.59.51 0 1.02-.2 1.41-.59l7.78-7.78 2.81-2.81c.8-.78.8-2.07 0-2.86zM5.41 20L4 18.59l7.72-7.72 1.47 1.35L5.41 20z\"/>\n",
              "  </svg>\n",
              "      </button>\n",
              "      \n",
              "  <style>\n",
              "    .colab-df-container {\n",
              "      display:flex;\n",
              "      flex-wrap:wrap;\n",
              "      gap: 12px;\n",
              "    }\n",
              "\n",
              "    .colab-df-convert {\n",
              "      background-color: #E8F0FE;\n",
              "      border: none;\n",
              "      border-radius: 50%;\n",
              "      cursor: pointer;\n",
              "      display: none;\n",
              "      fill: #1967D2;\n",
              "      height: 32px;\n",
              "      padding: 0 0 0 0;\n",
              "      width: 32px;\n",
              "    }\n",
              "\n",
              "    .colab-df-convert:hover {\n",
              "      background-color: #E2EBFA;\n",
              "      box-shadow: 0px 1px 2px rgba(60, 64, 67, 0.3), 0px 1px 3px 1px rgba(60, 64, 67, 0.15);\n",
              "      fill: #174EA6;\n",
              "    }\n",
              "\n",
              "    [theme=dark] .colab-df-convert {\n",
              "      background-color: #3B4455;\n",
              "      fill: #D2E3FC;\n",
              "    }\n",
              "\n",
              "    [theme=dark] .colab-df-convert:hover {\n",
              "      background-color: #434B5C;\n",
              "      box-shadow: 0px 1px 3px 1px rgba(0, 0, 0, 0.15);\n",
              "      filter: drop-shadow(0px 1px 2px rgba(0, 0, 0, 0.3));\n",
              "      fill: #FFFFFF;\n",
              "    }\n",
              "  </style>\n",
              "\n",
              "      <script>\n",
              "        const buttonEl =\n",
              "          document.querySelector('#df-297a42ae-cc83-43a0-9a73-e81883d9604e button.colab-df-convert');\n",
              "        buttonEl.style.display =\n",
              "          google.colab.kernel.accessAllowed ? 'block' : 'none';\n",
              "\n",
              "        async function convertToInteractive(key) {\n",
              "          const element = document.querySelector('#df-297a42ae-cc83-43a0-9a73-e81883d9604e');\n",
              "          const dataTable =\n",
              "            await google.colab.kernel.invokeFunction('convertToInteractive',\n",
              "                                                     [key], {});\n",
              "          if (!dataTable) return;\n",
              "\n",
              "          const docLinkHtml = 'Like what you see? Visit the ' +\n",
              "            '<a target=\"_blank\" href=https://colab.research.google.com/notebooks/data_table.ipynb>data table notebook</a>'\n",
              "            + ' to learn more about interactive tables.';\n",
              "          element.innerHTML = '';\n",
              "          dataTable['output_type'] = 'display_data';\n",
              "          await google.colab.output.renderOutput(dataTable, element);\n",
              "          const docLink = document.createElement('div');\n",
              "          docLink.innerHTML = docLinkHtml;\n",
              "          element.appendChild(docLink);\n",
              "        }\n",
              "      </script>\n",
              "    </div>\n",
              "  </div>\n",
              "  "
            ],
            "text/plain": [
              "                                title         country  ... currency   group\n",
              "0  Real Time Streaming Futures Quotes  united kingdom  ...      GBP  grains\n",
              "1  Real Time Streaming Futures Quotes   united states  ...      USD  grains\n",
              "2  Real Time Streaming Futures Quotes   united states  ...      USD  grains\n",
              "3  Real Time Streaming Futures Quotes   united states  ...      USD  grains\n",
              "4  Real Time Streaming Futures Quotes   united states  ...      USD  grains\n",
              "5  Real Time Streaming Futures Quotes   united states  ...      USD  grains\n",
              "6  Real Time Streaming Futures Quotes   united states  ...      USD  grains\n",
              "7  Real Time Streaming Futures Quotes   united states  ...      USD  grains\n",
              "\n",
              "[8 rows x 6 columns]"
            ]
          },
          "metadata": {},
          "execution_count": 296
        }
      ]
    },
    {
      "cell_type": "code",
      "metadata": {
        "id": "GkxUAABdNQz5",
        "colab": {
          "base_uri": "https://localhost:8080/"
        },
        "outputId": "f5f3e1c0-d36c-432b-b59a-e7ecc4dffa6d"
      },
      "source": [
        "Maiz=inv.get_commodity_recent_data(\"US Corn\",country=\"united states\")\n",
        "Maiz10=Maiz[[\"Close\",\"Open\"]].tail()\n",
        "print(Maiz10)"
      ],
      "execution_count": 297,
      "outputs": [
        {
          "output_type": "stream",
          "name": "stdout",
          "text": [
            "             Close    Open\n",
            "Date                      \n",
            "2022-01-13  587.50  599.00\n",
            "2022-01-14  596.25  587.50\n",
            "2022-01-18  599.50  592.75\n",
            "2022-01-19  610.50  600.00\n",
            "2022-01-20  612.60  608.62\n"
          ]
        }
      ]
    },
    {
      "cell_type": "code",
      "source": [
        "Apertura_Maiz = (Maiz10.iat[4,1]) # Este comando esta extraer un valor especifico de un dataframe\n",
        "print(Apertura_Maiz)"
      ],
      "metadata": {
        "id": "PXqWNYvFBm5a",
        "colab": {
          "base_uri": "https://localhost:8080/"
        },
        "outputId": "ee66cfad-5ce2-4559-ae36-2ee0da16c6bf"
      },
      "execution_count": 298,
      "outputs": [
        {
          "output_type": "stream",
          "name": "stdout",
          "text": [
            "608.62\n"
          ]
        }
      ]
    },
    {
      "cell_type": "code",
      "source": [
        "Cierre_precio_anterior_Maiz= Maiz10.iat[3,0]\n",
        "print(Cierre_precio_anterior_Maiz)"
      ],
      "metadata": {
        "id": "i8DJj2scBnEl",
        "colab": {
          "base_uri": "https://localhost:8080/"
        },
        "outputId": "5ebcf230-74f0-4691-b92e-17e02ce98610"
      },
      "execution_count": 299,
      "outputs": [
        {
          "output_type": "stream",
          "name": "stdout",
          "text": [
            "610.5\n"
          ]
        }
      ]
    },
    {
      "cell_type": "code",
      "source": [
        "Cierre_precio_anterior5dias_Maiz = Maiz10.iat[0,0]\n",
        "print(Cierre_precio_anterior5dias_Maiz)"
      ],
      "metadata": {
        "id": "IEOvoTmHBnO_",
        "colab": {
          "base_uri": "https://localhost:8080/"
        },
        "outputId": "6f4cae70-f75b-4ca8-ecbd-f9c9d61d22f9"
      },
      "execution_count": 300,
      "outputs": [
        {
          "output_type": "stream",
          "name": "stdout",
          "text": [
            "587.5\n"
          ]
        }
      ]
    },
    {
      "cell_type": "markdown",
      "metadata": {
        "id": "cjUuWNSyIT4p"
      },
      "source": [
        "**Soja**"
      ]
    },
    {
      "cell_type": "code",
      "metadata": {
        "id": "1nrm3ALdNRen",
        "colab": {
          "base_uri": "https://localhost:8080/"
        },
        "outputId": "a7b06587-5267-4e04-fb25-c97f2a44830c"
      },
      "source": [
        "soja=inv.get_commodity_recent_data(\"US Soybeans\",country=\"united states\")\n",
        "soja10=soja[[\"Close\",\"Open\"]].tail()\n",
        "print(soja10)"
      ],
      "execution_count": 301,
      "outputs": [
        {
          "output_type": "stream",
          "name": "stdout",
          "text": [
            "              Close     Open\n",
            "Date                        \n",
            "2022-01-13  1365.25  1368.00\n",
            "2022-01-14  1356.75  1376.50\n",
            "2022-01-18  1361.25  1360.00\n",
            "2022-01-19  1391.25  1363.50\n",
            "2022-01-20  1420.25  1388.25\n"
          ]
        }
      ]
    },
    {
      "cell_type": "code",
      "source": [
        "Apertura_soja = (soja10.iat[4,1]) # Este comando esta extraer un valor especifico de un dataframe\n",
        "print(Apertura_soja)"
      ],
      "metadata": {
        "id": "a_OCj3VdCAvB",
        "colab": {
          "base_uri": "https://localhost:8080/"
        },
        "outputId": "4a06073b-e6a9-4728-9d33-bca9e4b1ea91"
      },
      "execution_count": 302,
      "outputs": [
        {
          "output_type": "stream",
          "name": "stdout",
          "text": [
            "1388.25\n"
          ]
        }
      ]
    },
    {
      "cell_type": "code",
      "source": [
        "Cierre_precio_anterior_soja= soja10.iat[3,0]\n",
        "print(Cierre_precio_anterior_soja)"
      ],
      "metadata": {
        "id": "jRP0fi59CA6P",
        "colab": {
          "base_uri": "https://localhost:8080/"
        },
        "outputId": "9175217b-8d67-4d10-a68a-263a38934b71"
      },
      "execution_count": 303,
      "outputs": [
        {
          "output_type": "stream",
          "name": "stdout",
          "text": [
            "1391.25\n"
          ]
        }
      ]
    },
    {
      "cell_type": "code",
      "source": [
        "Cierre_precio_anterior5dias_soja = soja10.iat[0,0]\n",
        "print(Cierre_precio_anterior5dias_soja)"
      ],
      "metadata": {
        "id": "8dqBhg0pCBD2",
        "colab": {
          "base_uri": "https://localhost:8080/"
        },
        "outputId": "7d3d4fa8-fd2c-4bb7-80d8-f83577ed681b"
      },
      "execution_count": 304,
      "outputs": [
        {
          "output_type": "stream",
          "name": "stdout",
          "text": [
            "1365.25\n"
          ]
        }
      ]
    },
    {
      "cell_type": "markdown",
      "metadata": {
        "id": "r0j_iHpsIWpf"
      },
      "source": [
        "**Cafe**"
      ]
    },
    {
      "cell_type": "code",
      "metadata": {
        "id": "2r0SVlcl5PRx",
        "colab": {
          "base_uri": "https://localhost:8080/",
          "height": 520
        },
        "outputId": "924fab2f-574b-46e0-c1d2-74fac3aeb294"
      },
      "source": [
        "inv.get_commodities(group=\"softs\")"
      ],
      "execution_count": 305,
      "outputs": [
        {
          "output_type": "execute_result",
          "data": {
            "text/html": [
              "\n",
              "  <div id=\"df-2a232ed7-4ab0-4621-b526-5aac51130395\">\n",
              "    <div class=\"colab-df-container\">\n",
              "      <div>\n",
              "<style scoped>\n",
              "    .dataframe tbody tr th:only-of-type {\n",
              "        vertical-align: middle;\n",
              "    }\n",
              "\n",
              "    .dataframe tbody tr th {\n",
              "        vertical-align: top;\n",
              "    }\n",
              "\n",
              "    .dataframe thead th {\n",
              "        text-align: right;\n",
              "    }\n",
              "</style>\n",
              "<table border=\"1\" class=\"dataframe\">\n",
              "  <thead>\n",
              "    <tr style=\"text-align: right;\">\n",
              "      <th></th>\n",
              "      <th>title</th>\n",
              "      <th>country</th>\n",
              "      <th>name</th>\n",
              "      <th>full_name</th>\n",
              "      <th>currency</th>\n",
              "      <th>group</th>\n",
              "    </tr>\n",
              "  </thead>\n",
              "  <tbody>\n",
              "    <tr>\n",
              "      <th>0</th>\n",
              "      <td>Real Time Streaming Futures Quotes</td>\n",
              "      <td>united states</td>\n",
              "      <td>US Coffee C</td>\n",
              "      <td>US Coffee C Futures</td>\n",
              "      <td>USD</td>\n",
              "      <td>softs</td>\n",
              "    </tr>\n",
              "    <tr>\n",
              "      <th>1</th>\n",
              "      <td>Real Time Streaming Futures Quotes</td>\n",
              "      <td>united states</td>\n",
              "      <td>US Cotton #2</td>\n",
              "      <td>US Cotton #2 Futures</td>\n",
              "      <td>USD</td>\n",
              "      <td>softs</td>\n",
              "    </tr>\n",
              "    <tr>\n",
              "      <th>2</th>\n",
              "      <td>Real Time Streaming Futures Quotes</td>\n",
              "      <td>united states</td>\n",
              "      <td>US Sugar #11</td>\n",
              "      <td>US Sugar #11 Futures</td>\n",
              "      <td>USD</td>\n",
              "      <td>softs</td>\n",
              "    </tr>\n",
              "    <tr>\n",
              "      <th>3</th>\n",
              "      <td>Real Time Streaming Futures Quotes</td>\n",
              "      <td>united states</td>\n",
              "      <td>Orange Juice</td>\n",
              "      <td>Orange Juice Futures</td>\n",
              "      <td>USD</td>\n",
              "      <td>softs</td>\n",
              "    </tr>\n",
              "    <tr>\n",
              "      <th>4</th>\n",
              "      <td>Real Time Streaming Futures Quotes</td>\n",
              "      <td>united states</td>\n",
              "      <td>US Cocoa</td>\n",
              "      <td>US Cocoa Futures</td>\n",
              "      <td>USD</td>\n",
              "      <td>softs</td>\n",
              "    </tr>\n",
              "    <tr>\n",
              "      <th>5</th>\n",
              "      <td>Real Time Streaming Futures Quotes</td>\n",
              "      <td>united kingdom</td>\n",
              "      <td>London Coffee</td>\n",
              "      <td>London Robusta Coffee Futures</td>\n",
              "      <td>USD</td>\n",
              "      <td>softs</td>\n",
              "    </tr>\n",
              "    <tr>\n",
              "      <th>6</th>\n",
              "      <td>Real Time Streaming Futures Quotes</td>\n",
              "      <td>united kingdom</td>\n",
              "      <td>London Cocoa</td>\n",
              "      <td>London Cocoa Futures</td>\n",
              "      <td>GBP</td>\n",
              "      <td>softs</td>\n",
              "    </tr>\n",
              "    <tr>\n",
              "      <th>7</th>\n",
              "      <td>Real Time Streaming Futures Quotes</td>\n",
              "      <td>united kingdom</td>\n",
              "      <td>London Sugar</td>\n",
              "      <td>London Sugar Futures</td>\n",
              "      <td>USD</td>\n",
              "      <td>softs</td>\n",
              "    </tr>\n",
              "    <tr>\n",
              "      <th>8</th>\n",
              "      <td>Real Time Streaming Futures Quotes</td>\n",
              "      <td>united states</td>\n",
              "      <td>Lumber</td>\n",
              "      <td>Lumber Futures</td>\n",
              "      <td>USD</td>\n",
              "      <td>softs</td>\n",
              "    </tr>\n",
              "    <tr>\n",
              "      <th>9</th>\n",
              "      <td>MCX Futures Market Quotes</td>\n",
              "      <td>india</td>\n",
              "      <td>MCX Cardamom</td>\n",
              "      <td>Cardamom Futures</td>\n",
              "      <td>INR</td>\n",
              "      <td>softs</td>\n",
              "    </tr>\n",
              "    <tr>\n",
              "      <th>10</th>\n",
              "      <td>MCX Futures Market Quotes</td>\n",
              "      <td>india</td>\n",
              "      <td>MCX Cotton</td>\n",
              "      <td>Cotton 29mm Futures</td>\n",
              "      <td>INR</td>\n",
              "      <td>softs</td>\n",
              "    </tr>\n",
              "    <tr>\n",
              "      <th>11</th>\n",
              "      <td>MCX Futures Market Quotes</td>\n",
              "      <td>india</td>\n",
              "      <td>MCX Crude Palm Oil</td>\n",
              "      <td>Crude Palm Oil Futures</td>\n",
              "      <td>INR</td>\n",
              "      <td>softs</td>\n",
              "    </tr>\n",
              "    <tr>\n",
              "      <th>12</th>\n",
              "      <td>MCX Futures Market Quotes</td>\n",
              "      <td>india</td>\n",
              "      <td>MCX Kapas</td>\n",
              "      <td>Kapas Futures</td>\n",
              "      <td>INR</td>\n",
              "      <td>softs</td>\n",
              "    </tr>\n",
              "    <tr>\n",
              "      <th>13</th>\n",
              "      <td>MCX Futures Market Quotes</td>\n",
              "      <td>india</td>\n",
              "      <td>MCX Mentha Oil</td>\n",
              "      <td>Mentha Oil Futures</td>\n",
              "      <td>INR</td>\n",
              "      <td>softs</td>\n",
              "    </tr>\n",
              "    <tr>\n",
              "      <th>14</th>\n",
              "      <td>MCX Futures Market Quotes</td>\n",
              "      <td>india</td>\n",
              "      <td>MCX Castor Seed</td>\n",
              "      <td>Castor Seed Futures</td>\n",
              "      <td>INR</td>\n",
              "      <td>softs</td>\n",
              "    </tr>\n",
              "  </tbody>\n",
              "</table>\n",
              "</div>\n",
              "      <button class=\"colab-df-convert\" onclick=\"convertToInteractive('df-2a232ed7-4ab0-4621-b526-5aac51130395')\"\n",
              "              title=\"Convert this dataframe to an interactive table.\"\n",
              "              style=\"display:none;\">\n",
              "        \n",
              "  <svg xmlns=\"http://www.w3.org/2000/svg\" height=\"24px\"viewBox=\"0 0 24 24\"\n",
              "       width=\"24px\">\n",
              "    <path d=\"M0 0h24v24H0V0z\" fill=\"none\"/>\n",
              "    <path d=\"M18.56 5.44l.94 2.06.94-2.06 2.06-.94-2.06-.94-.94-2.06-.94 2.06-2.06.94zm-11 1L8.5 8.5l.94-2.06 2.06-.94-2.06-.94L8.5 2.5l-.94 2.06-2.06.94zm10 10l.94 2.06.94-2.06 2.06-.94-2.06-.94-.94-2.06-.94 2.06-2.06.94z\"/><path d=\"M17.41 7.96l-1.37-1.37c-.4-.4-.92-.59-1.43-.59-.52 0-1.04.2-1.43.59L10.3 9.45l-7.72 7.72c-.78.78-.78 2.05 0 2.83L4 21.41c.39.39.9.59 1.41.59.51 0 1.02-.2 1.41-.59l7.78-7.78 2.81-2.81c.8-.78.8-2.07 0-2.86zM5.41 20L4 18.59l7.72-7.72 1.47 1.35L5.41 20z\"/>\n",
              "  </svg>\n",
              "      </button>\n",
              "      \n",
              "  <style>\n",
              "    .colab-df-container {\n",
              "      display:flex;\n",
              "      flex-wrap:wrap;\n",
              "      gap: 12px;\n",
              "    }\n",
              "\n",
              "    .colab-df-convert {\n",
              "      background-color: #E8F0FE;\n",
              "      border: none;\n",
              "      border-radius: 50%;\n",
              "      cursor: pointer;\n",
              "      display: none;\n",
              "      fill: #1967D2;\n",
              "      height: 32px;\n",
              "      padding: 0 0 0 0;\n",
              "      width: 32px;\n",
              "    }\n",
              "\n",
              "    .colab-df-convert:hover {\n",
              "      background-color: #E2EBFA;\n",
              "      box-shadow: 0px 1px 2px rgba(60, 64, 67, 0.3), 0px 1px 3px 1px rgba(60, 64, 67, 0.15);\n",
              "      fill: #174EA6;\n",
              "    }\n",
              "\n",
              "    [theme=dark] .colab-df-convert {\n",
              "      background-color: #3B4455;\n",
              "      fill: #D2E3FC;\n",
              "    }\n",
              "\n",
              "    [theme=dark] .colab-df-convert:hover {\n",
              "      background-color: #434B5C;\n",
              "      box-shadow: 0px 1px 3px 1px rgba(0, 0, 0, 0.15);\n",
              "      filter: drop-shadow(0px 1px 2px rgba(0, 0, 0, 0.3));\n",
              "      fill: #FFFFFF;\n",
              "    }\n",
              "  </style>\n",
              "\n",
              "      <script>\n",
              "        const buttonEl =\n",
              "          document.querySelector('#df-2a232ed7-4ab0-4621-b526-5aac51130395 button.colab-df-convert');\n",
              "        buttonEl.style.display =\n",
              "          google.colab.kernel.accessAllowed ? 'block' : 'none';\n",
              "\n",
              "        async function convertToInteractive(key) {\n",
              "          const element = document.querySelector('#df-2a232ed7-4ab0-4621-b526-5aac51130395');\n",
              "          const dataTable =\n",
              "            await google.colab.kernel.invokeFunction('convertToInteractive',\n",
              "                                                     [key], {});\n",
              "          if (!dataTable) return;\n",
              "\n",
              "          const docLinkHtml = 'Like what you see? Visit the ' +\n",
              "            '<a target=\"_blank\" href=https://colab.research.google.com/notebooks/data_table.ipynb>data table notebook</a>'\n",
              "            + ' to learn more about interactive tables.';\n",
              "          element.innerHTML = '';\n",
              "          dataTable['output_type'] = 'display_data';\n",
              "          await google.colab.output.renderOutput(dataTable, element);\n",
              "          const docLink = document.createElement('div');\n",
              "          docLink.innerHTML = docLinkHtml;\n",
              "          element.appendChild(docLink);\n",
              "        }\n",
              "      </script>\n",
              "    </div>\n",
              "  </div>\n",
              "  "
            ],
            "text/plain": [
              "                                 title         country  ... currency  group\n",
              "0   Real Time Streaming Futures Quotes   united states  ...      USD  softs\n",
              "1   Real Time Streaming Futures Quotes   united states  ...      USD  softs\n",
              "2   Real Time Streaming Futures Quotes   united states  ...      USD  softs\n",
              "3   Real Time Streaming Futures Quotes   united states  ...      USD  softs\n",
              "4   Real Time Streaming Futures Quotes   united states  ...      USD  softs\n",
              "5   Real Time Streaming Futures Quotes  united kingdom  ...      USD  softs\n",
              "6   Real Time Streaming Futures Quotes  united kingdom  ...      GBP  softs\n",
              "7   Real Time Streaming Futures Quotes  united kingdom  ...      USD  softs\n",
              "8   Real Time Streaming Futures Quotes   united states  ...      USD  softs\n",
              "9            MCX Futures Market Quotes           india  ...      INR  softs\n",
              "10           MCX Futures Market Quotes           india  ...      INR  softs\n",
              "11           MCX Futures Market Quotes           india  ...      INR  softs\n",
              "12           MCX Futures Market Quotes           india  ...      INR  softs\n",
              "13           MCX Futures Market Quotes           india  ...      INR  softs\n",
              "14           MCX Futures Market Quotes           india  ...      INR  softs\n",
              "\n",
              "[15 rows x 6 columns]"
            ]
          },
          "metadata": {},
          "execution_count": 305
        }
      ]
    },
    {
      "cell_type": "code",
      "metadata": {
        "id": "r2ADPRAgNSB3",
        "colab": {
          "base_uri": "https://localhost:8080/"
        },
        "outputId": "f59e1230-8d8e-4652-aa6d-3e538dedcc37"
      },
      "source": [
        "Cafe=inv.get_commodity_recent_data(\"US Coffee C\",country=\"united states\")\n",
        "Cafe10=Cafe[[\"Close\",\"Open\"]].tail()\n",
        "print(Cafe10)"
      ],
      "execution_count": 306,
      "outputs": [
        {
          "output_type": "stream",
          "name": "stdout",
          "text": [
            "             Close    Open\n",
            "Date                      \n",
            "2022-01-13  237.00  241.30\n",
            "2022-01-14  239.65  236.65\n",
            "2022-01-18  239.60  239.00\n",
            "2022-01-19  244.45  238.40\n",
            "2022-01-20  243.65  244.47\n"
          ]
        }
      ]
    },
    {
      "cell_type": "code",
      "source": [
        "Apertura_Cafe = (Cafe10.iat[4,1]) # Este comando esta extraer un valor especifico de un dataframe\n",
        "print(Apertura_Cafe)"
      ],
      "metadata": {
        "id": "P-EH398JCW15",
        "colab": {
          "base_uri": "https://localhost:8080/"
        },
        "outputId": "c60e7896-770f-4209-e2f3-4aa1a7006a1e"
      },
      "execution_count": 307,
      "outputs": [
        {
          "output_type": "stream",
          "name": "stdout",
          "text": [
            "244.47\n"
          ]
        }
      ]
    },
    {
      "cell_type": "code",
      "source": [
        "Cierre_precio_anterior_Cafe= Cafe10.iat[3,0]\n",
        "print(Cierre_precio_anterior_Cafe)"
      ],
      "metadata": {
        "id": "ZOZeX8CkCXBA",
        "colab": {
          "base_uri": "https://localhost:8080/"
        },
        "outputId": "d9d82a85-fca0-47b2-bb4f-6d6b24a7e35d"
      },
      "execution_count": 308,
      "outputs": [
        {
          "output_type": "stream",
          "name": "stdout",
          "text": [
            "244.45\n"
          ]
        }
      ]
    },
    {
      "cell_type": "code",
      "source": [
        "Cierre_precio_anterior5dias_Cafe = Cafe10.iat[0,0]\n",
        "print(Cierre_precio_anterior5dias_Cafe)"
      ],
      "metadata": {
        "id": "7_S1EydDCXJn",
        "colab": {
          "base_uri": "https://localhost:8080/"
        },
        "outputId": "f2b79d85-b79e-4f12-cd58-7343ba2ca13f"
      },
      "execution_count": 309,
      "outputs": [
        {
          "output_type": "stream",
          "name": "stdout",
          "text": [
            "237.0\n"
          ]
        }
      ]
    },
    {
      "cell_type": "markdown",
      "metadata": {
        "id": "2NU8qF3HIc6n"
      },
      "source": [
        "**Azucar**"
      ]
    },
    {
      "cell_type": "code",
      "metadata": {
        "id": "H8TPGZC_NSru",
        "colab": {
          "base_uri": "https://localhost:8080/"
        },
        "outputId": "e4a5963d-59b2-4ba5-d8ca-d62d4ecc44d3"
      },
      "source": [
        "Azucar=inv.get_commodity_recent_data(\"US Sugar #11\t\",country=\"united states\")\n",
        "Azucar10=Azucar[[\"Close\",\"Open\"]].tail()\n",
        "print(Azucar10)"
      ],
      "execution_count": 310,
      "outputs": [
        {
          "output_type": "stream",
          "name": "stdout",
          "text": [
            "            Close   Open\n",
            "Date                    \n",
            "2022-01-13  18.09  18.34\n",
            "2022-01-14  18.31  18.10\n",
            "2022-01-18  18.66  18.50\n",
            "2022-01-19  19.07  18.75\n",
            "2022-01-20  19.05  19.09\n"
          ]
        }
      ]
    },
    {
      "cell_type": "code",
      "source": [
        "Apertura_Azucar = (Azucar10.iat[4,1]) # Este comando esta extraer un valor especifico de un dataframe\n",
        "print(Apertura_Azucar)"
      ],
      "metadata": {
        "id": "Z5409tDWCqQn",
        "colab": {
          "base_uri": "https://localhost:8080/"
        },
        "outputId": "7f06a59a-58ca-4b0b-e5dd-44984e3e7372"
      },
      "execution_count": 311,
      "outputs": [
        {
          "output_type": "stream",
          "name": "stdout",
          "text": [
            "19.09\n"
          ]
        }
      ]
    },
    {
      "cell_type": "code",
      "source": [
        "Cierre_precio_anterior_Azucar= Azucar10.iat[3,0]\n",
        "print(Cierre_precio_anterior_Cafe)"
      ],
      "metadata": {
        "id": "gwM43wekCqaY",
        "colab": {
          "base_uri": "https://localhost:8080/"
        },
        "outputId": "ba924662-89cd-4ccc-e88b-9e95f9f1f122"
      },
      "execution_count": 312,
      "outputs": [
        {
          "output_type": "stream",
          "name": "stdout",
          "text": [
            "244.45\n"
          ]
        }
      ]
    },
    {
      "cell_type": "code",
      "source": [
        "Cierre_precio_anterior5dias_Azucar = Azucar10.iat[0,0]\n",
        "print(Cierre_precio_anterior5dias_Azucar)"
      ],
      "metadata": {
        "id": "xIwb2U2gCqiB",
        "colab": {
          "base_uri": "https://localhost:8080/"
        },
        "outputId": "b4da4b51-a6b7-4e4d-8820-5634b96e02c3"
      },
      "execution_count": 313,
      "outputs": [
        {
          "output_type": "stream",
          "name": "stdout",
          "text": [
            "18.09\n"
          ]
        }
      ]
    },
    {
      "cell_type": "markdown",
      "metadata": {
        "id": "9-ZodFiyIt7E"
      },
      "source": [
        "**Bonos a 10Años**"
      ]
    },
    {
      "cell_type": "code",
      "metadata": {
        "id": "k4SBEmTyJqft",
        "colab": {
          "base_uri": "https://localhost:8080/"
        },
        "outputId": "406f00ad-775f-4b0d-ae7e-001b57c95714"
      },
      "source": [
        "inv.get_bond_countries()"
      ],
      "execution_count": 314,
      "outputs": [
        {
          "output_type": "execute_result",
          "data": {
            "text/plain": [
              "['argentina',\n",
              " 'australia',\n",
              " 'austria',\n",
              " 'bahrain',\n",
              " 'bangladesh',\n",
              " 'belgium',\n",
              " 'botswana',\n",
              " 'brazil',\n",
              " 'bulgaria',\n",
              " 'canada',\n",
              " 'chile',\n",
              " 'china',\n",
              " 'colombia',\n",
              " 'croatia',\n",
              " 'cyprus',\n",
              " 'czech republic',\n",
              " 'denmark',\n",
              " 'egypt',\n",
              " 'finland',\n",
              " 'france',\n",
              " 'germany',\n",
              " 'greece',\n",
              " 'hong kong',\n",
              " 'hungary',\n",
              " 'iceland',\n",
              " 'india',\n",
              " 'indonesia',\n",
              " 'ireland',\n",
              " 'israel',\n",
              " 'italy',\n",
              " 'japan',\n",
              " 'jordan',\n",
              " 'kenya',\n",
              " 'latvia',\n",
              " 'lithuania',\n",
              " 'luxembourg',\n",
              " 'malaysia',\n",
              " 'malta',\n",
              " 'mauritius',\n",
              " 'mexico',\n",
              " 'morocco',\n",
              " 'namibia',\n",
              " 'netherlands',\n",
              " 'new zealand',\n",
              " 'nigeria',\n",
              " 'norway',\n",
              " 'pakistan',\n",
              " 'peru',\n",
              " 'philippines',\n",
              " 'poland',\n",
              " 'portugal',\n",
              " 'qatar',\n",
              " 'romania',\n",
              " 'russia',\n",
              " 'saudi arabia',\n",
              " 'serbia',\n",
              " 'singapore',\n",
              " 'slovakia',\n",
              " 'slovenia',\n",
              " 'south africa',\n",
              " 'south korea',\n",
              " 'spain',\n",
              " 'sri lanka',\n",
              " 'sweden',\n",
              " 'switzerland',\n",
              " 'taiwan',\n",
              " 'thailand',\n",
              " 'turkey',\n",
              " 'uganda',\n",
              " 'ukraine',\n",
              " 'united kingdom',\n",
              " 'united states',\n",
              " 'venezuela',\n",
              " 'vietnam']"
            ]
          },
          "metadata": {},
          "execution_count": 314
        }
      ]
    },
    {
      "cell_type": "markdown",
      "metadata": {
        "id": "S6zrc3EZIxYH"
      },
      "source": [
        "**Desarrollados**"
      ]
    },
    {
      "cell_type": "markdown",
      "metadata": {
        "id": "hr28tn32I6my"
      },
      "source": [
        "**EEUU**"
      ]
    },
    {
      "cell_type": "code",
      "metadata": {
        "id": "0pJNQ8NkLyr_",
        "colab": {
          "base_uri": "https://localhost:8080/"
        },
        "outputId": "f3a3cc61-9e23-4d13-b7ab-5be60572318c"
      },
      "source": [
        "inv.get_bonds_list(\"united states\")"
      ],
      "execution_count": 315,
      "outputs": [
        {
          "output_type": "execute_result",
          "data": {
            "text/plain": [
              "['U.S. 30Y',\n",
              " 'U.S. 10Y',\n",
              " 'U.S. 7Y',\n",
              " 'U.S. 5Y',\n",
              " 'U.S. 3Y',\n",
              " 'U.S. 3M',\n",
              " 'U.S. 1Y',\n",
              " 'U.S. 6M',\n",
              " 'U.S. 1M',\n",
              " 'U.S. 2Y']"
            ]
          },
          "metadata": {},
          "execution_count": 315
        }
      ]
    },
    {
      "cell_type": "code",
      "metadata": {
        "id": "MHMC6kaeI_t-",
        "colab": {
          "base_uri": "https://localhost:8080/"
        },
        "outputId": "f7a5d11f-7987-4fec-a2b0-159f3b17489b"
      },
      "source": [
        "Estados_unidos=inv.get_bond_recent_data(bond=\"U.S. 10Y\")\n",
        "Estados_unidos10=Estados_unidos[[\"Close\",\"Open\"]].tail()\n",
        "print(Estados_unidos10)"
      ],
      "execution_count": 316,
      "outputs": [
        {
          "output_type": "stream",
          "name": "stdout",
          "text": [
            "            Close   Open\n",
            "Date                    \n",
            "2022-01-14  1.793  1.720\n",
            "2022-01-17  1.809  1.813\n",
            "2022-01-18  1.875  1.807\n",
            "2022-01-19  1.854  1.873\n",
            "2022-01-20  1.832  1.865\n"
          ]
        }
      ]
    },
    {
      "cell_type": "code",
      "source": [
        "Apertura_Estados_unidos = (Estados_unidos10.iat[4,1]) # Este comando esta extraer un valor especifico de un dataframe\n",
        "print(Apertura_Estados_unidos)"
      ],
      "metadata": {
        "id": "kzmvuiVPC9x4",
        "colab": {
          "base_uri": "https://localhost:8080/"
        },
        "outputId": "d30d0528-3d76-4ca6-daec-d0cb365447a8"
      },
      "execution_count": 317,
      "outputs": [
        {
          "output_type": "stream",
          "name": "stdout",
          "text": [
            "1.865\n"
          ]
        }
      ]
    },
    {
      "cell_type": "code",
      "source": [
        "Cierre_precio_anterior_Estados_unidos= Estados_unidos10.iat[3,0]\n",
        "print(Cierre_precio_anterior_Estados_unidos)"
      ],
      "metadata": {
        "id": "cqnrkpxWC98C",
        "colab": {
          "base_uri": "https://localhost:8080/"
        },
        "outputId": "4118da67-4b7a-44b9-b80b-1bc006533641"
      },
      "execution_count": 318,
      "outputs": [
        {
          "output_type": "stream",
          "name": "stdout",
          "text": [
            "1.854\n"
          ]
        }
      ]
    },
    {
      "cell_type": "code",
      "source": [
        "Cierre_precio_anterior5dias_Estados_unidos = Estados_unidos10.iat[0,0]\n",
        "print(Cierre_precio_anterior5dias_Estados_unidos)"
      ],
      "metadata": {
        "id": "F4D9_yrlC-F3",
        "colab": {
          "base_uri": "https://localhost:8080/"
        },
        "outputId": "a027aee1-3ce7-48cb-9f86-5860d490f9d9"
      },
      "execution_count": 319,
      "outputs": [
        {
          "output_type": "stream",
          "name": "stdout",
          "text": [
            "1.793\n"
          ]
        }
      ]
    },
    {
      "cell_type": "markdown",
      "metadata": {
        "id": "Xx6E7ZZEMCw8"
      },
      "source": [
        "**Alemania**"
      ]
    },
    {
      "cell_type": "code",
      "metadata": {
        "id": "HFHUq0OoMHJn",
        "colab": {
          "base_uri": "https://localhost:8080/"
        },
        "outputId": "49283e51-38e3-43c2-c674-ed569fc5af1e"
      },
      "source": [
        "inv.get_bonds_list(\"germany\")"
      ],
      "execution_count": 320,
      "outputs": [
        {
          "output_type": "execute_result",
          "data": {
            "text/plain": [
              "['Germany 10Y',\n",
              " 'Germany 9Y',\n",
              " 'Germany 15Y',\n",
              " 'Germany 8Y',\n",
              " 'Germany 25Y',\n",
              " 'Germany 30Y',\n",
              " 'Germany 20Y',\n",
              " 'Germany 7Y',\n",
              " 'Germany 1Y',\n",
              " 'Germany 5Y',\n",
              " 'Germany 4Y',\n",
              " 'Germany 3Y',\n",
              " 'Germany 2Y',\n",
              " 'Germany 6Y',\n",
              " 'Germany 9M',\n",
              " 'Germany 6M',\n",
              " 'Germany 3M']"
            ]
          },
          "metadata": {},
          "execution_count": 320
        }
      ]
    },
    {
      "cell_type": "code",
      "metadata": {
        "id": "hIG_YwWxOFJv",
        "colab": {
          "base_uri": "https://localhost:8080/"
        },
        "outputId": "10c3952b-1842-4e13-d270-2b53df7ba776"
      },
      "source": [
        "Alemania=inv.get_bond_recent_data(bond=\"Germany 10Y\")\n",
        "Alemania10=Alemania[[\"Close\",\"Open\"]].tail()\n",
        "print(Alemania10)"
      ],
      "execution_count": 321,
      "outputs": [
        {
          "output_type": "stream",
          "name": "stdout",
          "text": [
            "             Close   Open\n",
            "Date                     \n",
            "2022-01-14 -0.0490 -0.088\n",
            "2022-01-17 -0.0260 -0.046\n",
            "2022-01-18 -0.0180 -0.016\n",
            "2022-01-19 -0.0090  0.004\n",
            "2022-01-20 -0.0295 -0.016\n"
          ]
        }
      ]
    },
    {
      "cell_type": "code",
      "source": [
        "Apertura_Alemania = (Alemania10.iat[4,1]) # Este comando esta extraer un valor especifico de un dataframe\n",
        "print(Apertura_Alemania)"
      ],
      "metadata": {
        "id": "4Ewopbl5DWmq",
        "colab": {
          "base_uri": "https://localhost:8080/"
        },
        "outputId": "a66ea28f-0a95-4241-a81a-26a7d34582d7"
      },
      "execution_count": 322,
      "outputs": [
        {
          "output_type": "stream",
          "name": "stdout",
          "text": [
            "-0.016\n"
          ]
        }
      ]
    },
    {
      "cell_type": "code",
      "source": [
        "Cierre_precio_anterior_Alemania= Alemania10.iat[3,0]\n",
        "print(Cierre_precio_anterior_Alemania)"
      ],
      "metadata": {
        "id": "52B6jIijDWxV",
        "colab": {
          "base_uri": "https://localhost:8080/"
        },
        "outputId": "3e693891-1779-4e85-b9ec-2c7cdc66b3ac"
      },
      "execution_count": 323,
      "outputs": [
        {
          "output_type": "stream",
          "name": "stdout",
          "text": [
            "-0.009\n"
          ]
        }
      ]
    },
    {
      "cell_type": "code",
      "source": [
        "Cierre_precio_anterior5dias_Alemania = Alemania10.iat[0,0]\n",
        "print(Cierre_precio_anterior5dias_Alemania)"
      ],
      "metadata": {
        "id": "YE0lgixBDW62",
        "colab": {
          "base_uri": "https://localhost:8080/"
        },
        "outputId": "d8482cf1-00ca-4148-a72a-0d0254d01de9"
      },
      "execution_count": 324,
      "outputs": [
        {
          "output_type": "stream",
          "name": "stdout",
          "text": [
            "-0.049\n"
          ]
        }
      ]
    },
    {
      "cell_type": "markdown",
      "metadata": {
        "id": "JvQbI6OXMPKD"
      },
      "source": [
        "**Reino Unido**"
      ]
    },
    {
      "cell_type": "code",
      "metadata": {
        "id": "BEoxX7u1MViz",
        "colab": {
          "base_uri": "https://localhost:8080/"
        },
        "outputId": "9542f320-5593-4c9b-a4d6-1adceca29d11"
      },
      "source": [
        "inv.get_bonds_list(\"United Kingdom\")"
      ],
      "execution_count": 325,
      "outputs": [
        {
          "output_type": "execute_result",
          "data": {
            "text/plain": [
              "['U.K. 40Y',\n",
              " 'U.K. 50Y',\n",
              " 'U.K. 30Y',\n",
              " 'U.K. 25Y',\n",
              " 'U.K. 15Y',\n",
              " 'U.K. 12Y',\n",
              " 'U.K. 10Y',\n",
              " 'U.K. 9Y',\n",
              " 'U.K. 8Y',\n",
              " 'U.K. 20Y',\n",
              " 'U.K. 6Y',\n",
              " 'U.K. 5Y',\n",
              " 'U.K. 4Y',\n",
              " 'U.K. 3Y',\n",
              " 'U.K. 2Y',\n",
              " 'U.K. 1Y',\n",
              " 'U.K. 6M',\n",
              " 'U.K. 3M',\n",
              " 'U.K. 1M',\n",
              " 'U.K. 7Y']"
            ]
          },
          "metadata": {},
          "execution_count": 325
        }
      ]
    },
    {
      "cell_type": "code",
      "metadata": {
        "id": "mC1yyX36OLCh",
        "colab": {
          "base_uri": "https://localhost:8080/"
        },
        "outputId": "99ba4b80-b6bd-493a-c16e-50807a20e97a"
      },
      "source": [
        "Reino_unido=inv.get_bond_recent_data(bond=\"U.K. 10Y\")\n",
        "Reino_unido10=Reino_unido[[\"Close\",\"Open\"]].tail()\n",
        "print(Reino_unido10)"
      ],
      "execution_count": 326,
      "outputs": [
        {
          "output_type": "stream",
          "name": "stdout",
          "text": [
            "            Close   Open\n",
            "Date                    \n",
            "2022-01-16  1.146  1.146\n",
            "2022-01-17  1.191  1.176\n",
            "2022-01-18  1.219  1.195\n",
            "2022-01-19  1.268  1.285\n",
            "2022-01-20  1.228  1.267\n"
          ]
        }
      ]
    },
    {
      "cell_type": "code",
      "source": [
        "Apertura_Reino_unido = (Reino_unido10.iat[4,1]) # Este comando esta extraer un valor especifico de un dataframe\n",
        "print(Apertura_Reino_unido)"
      ],
      "metadata": {
        "id": "ZTJulB0nDt9E",
        "colab": {
          "base_uri": "https://localhost:8080/"
        },
        "outputId": "4d6de113-cb85-4dee-e51c-f8735b9890ba"
      },
      "execution_count": 327,
      "outputs": [
        {
          "output_type": "stream",
          "name": "stdout",
          "text": [
            "1.267\n"
          ]
        }
      ]
    },
    {
      "cell_type": "code",
      "source": [
        "Cierre_precio_anterior_Reino_unido= Reino_unido10.iat[3,0]\n",
        "print(Cierre_precio_anterior_Reino_unido)"
      ],
      "metadata": {
        "id": "l_1JjdsuDuGP",
        "colab": {
          "base_uri": "https://localhost:8080/"
        },
        "outputId": "3372a632-458a-4dab-9739-541e701d3ca1"
      },
      "execution_count": 328,
      "outputs": [
        {
          "output_type": "stream",
          "name": "stdout",
          "text": [
            "1.268\n"
          ]
        }
      ]
    },
    {
      "cell_type": "code",
      "source": [
        "Cierre_precio_anterior5dias_Reino_unido= Reino_unido10.iat[0,0]\n",
        "print(Cierre_precio_anterior5dias_Reino_unido)"
      ],
      "metadata": {
        "id": "FW0YMHZVDuPH",
        "colab": {
          "base_uri": "https://localhost:8080/"
        },
        "outputId": "6639c184-d31e-47ea-f3a2-675591a4cb86"
      },
      "execution_count": 329,
      "outputs": [
        {
          "output_type": "stream",
          "name": "stdout",
          "text": [
            "1.146\n"
          ]
        }
      ]
    },
    {
      "cell_type": "markdown",
      "metadata": {
        "id": "5Rm_c2tQMWOq"
      },
      "source": [
        "**Francia**"
      ]
    },
    {
      "cell_type": "code",
      "metadata": {
        "id": "TQOew382Max3",
        "colab": {
          "base_uri": "https://localhost:8080/"
        },
        "outputId": "8f0cb5a0-186f-40ac-c7b2-cce1654642fd"
      },
      "source": [
        "inv.get_bonds_list(\"france\")"
      ],
      "execution_count": 330,
      "outputs": [
        {
          "output_type": "execute_result",
          "data": {
            "text/plain": [
              "['France 8Y',\n",
              " 'France 30Y',\n",
              " 'France 25Y',\n",
              " 'France 20Y',\n",
              " 'France 50Y',\n",
              " 'France 15Y',\n",
              " 'France 10Y',\n",
              " 'France 9Y',\n",
              " 'France 7Y',\n",
              " 'France 9M',\n",
              " 'France 5Y',\n",
              " 'France 4Y',\n",
              " 'France 3Y',\n",
              " 'France 2Y',\n",
              " 'France 1Y',\n",
              " 'France 6M',\n",
              " 'France 3M',\n",
              " 'France 1M',\n",
              " 'France 6Y']"
            ]
          },
          "metadata": {},
          "execution_count": 330
        }
      ]
    },
    {
      "cell_type": "code",
      "metadata": {
        "id": "vbqp_pyFOZG7",
        "colab": {
          "base_uri": "https://localhost:8080/"
        },
        "outputId": "96fb964e-fa7b-4d2d-ae53-a9048a6e89db"
      },
      "source": [
        "Francia=inv.get_bond_recent_data(bond=\"France 10Y\")\n",
        "Francia10=Francia[[\"Close\",\"Open\"]].tail()\n",
        "print(Francia10)"
      ],
      "execution_count": 331,
      "outputs": [
        {
          "output_type": "stream",
          "name": "stdout",
          "text": [
            "            Close   Open\n",
            "Date                    \n",
            "2022-01-14  0.332  0.282\n",
            "2022-01-17  0.358  0.351\n",
            "2022-01-18  0.368  0.371\n",
            "2022-01-19  0.375  0.393\n",
            "2022-01-20  0.357  0.390\n"
          ]
        }
      ]
    },
    {
      "cell_type": "code",
      "source": [
        "Apertura_Francia = (Francia10.iat[4,1]) # Este comando esta extraer un valor especifico de un dataframe\n",
        "print(Apertura_Francia)"
      ],
      "metadata": {
        "id": "sNn60xooEDY4",
        "colab": {
          "base_uri": "https://localhost:8080/"
        },
        "outputId": "c0a6f66a-9f47-4de3-a81c-f180d4468b65"
      },
      "execution_count": 332,
      "outputs": [
        {
          "output_type": "stream",
          "name": "stdout",
          "text": [
            "0.39\n"
          ]
        }
      ]
    },
    {
      "cell_type": "code",
      "source": [
        "Cierre_precio_anterior_Francia= Francia10.iat[3,0]\n",
        "print(Cierre_precio_anterior_Francia)"
      ],
      "metadata": {
        "id": "_hVcdQB-EDjG",
        "colab": {
          "base_uri": "https://localhost:8080/"
        },
        "outputId": "5b498367-e9e2-448b-a4bd-a616ad867a0b"
      },
      "execution_count": 333,
      "outputs": [
        {
          "output_type": "stream",
          "name": "stdout",
          "text": [
            "0.375\n"
          ]
        }
      ]
    },
    {
      "cell_type": "code",
      "source": [
        "Cierre_precio_anterior5dias_Francia= Francia10.iat[0,0]\n",
        "print(Cierre_precio_anterior5dias_Francia)"
      ],
      "metadata": {
        "id": "TAPlRVSIEDqu",
        "colab": {
          "base_uri": "https://localhost:8080/"
        },
        "outputId": "011604f5-372a-4f56-b11f-bbd748c1f99b"
      },
      "execution_count": 334,
      "outputs": [
        {
          "output_type": "stream",
          "name": "stdout",
          "text": [
            "0.332\n"
          ]
        }
      ]
    },
    {
      "cell_type": "markdown",
      "metadata": {
        "id": "PUrwzaETMbHL"
      },
      "source": [
        "**Italia**"
      ]
    },
    {
      "cell_type": "code",
      "metadata": {
        "id": "THR85NXtNIne",
        "colab": {
          "base_uri": "https://localhost:8080/"
        },
        "outputId": "05295557-5e53-42fc-c930-0ec31c19c857"
      },
      "source": [
        "inv.get_bonds_list(\"Italy\")"
      ],
      "execution_count": 335,
      "outputs": [
        {
          "output_type": "execute_result",
          "data": {
            "text/plain": [
              "['Italy 50Y',\n",
              " 'Italy 30Y',\n",
              " 'Italy 20Y',\n",
              " 'Italy 15Y',\n",
              " 'Italy 10Y',\n",
              " 'Italy 9Y',\n",
              " 'Italy 8Y',\n",
              " 'Italy 6Y',\n",
              " 'Italy 7Y',\n",
              " 'Italy 4Y',\n",
              " 'Italy 5Y',\n",
              " 'Italy 3M',\n",
              " 'Italy 6M',\n",
              " 'Italy 9M',\n",
              " 'Italy 1M',\n",
              " 'Italy 2Y',\n",
              " 'Italy 3Y',\n",
              " 'Italy 1Y']"
            ]
          },
          "metadata": {},
          "execution_count": 335
        }
      ]
    },
    {
      "cell_type": "code",
      "metadata": {
        "id": "FyMZ1B9COZ5f",
        "colab": {
          "base_uri": "https://localhost:8080/"
        },
        "outputId": "413dc6c9-fd75-4a73-8249-b5b373a95fc8"
      },
      "source": [
        "Italia=inv.get_bond_recent_data(bond=\"Italy 10Y\")\n",
        "Italia10=Italia[[\"Close\",\"Open\"]].tail()\n",
        "print(Italia10)"
      ],
      "execution_count": 336,
      "outputs": [
        {
          "output_type": "stream",
          "name": "stdout",
          "text": [
            "            Close   Open\n",
            "Date                    \n",
            "2022-01-14  1.334  1.286\n",
            "2022-01-17  1.366  1.352\n",
            "2022-01-18  1.390  1.381\n",
            "2022-01-19  1.411  1.443\n",
            "2022-01-20  1.365  1.404\n"
          ]
        }
      ]
    },
    {
      "cell_type": "code",
      "source": [
        "Apertura_Italia = (Italia10.iat[4,1]) # Este comando esta extraer un valor especifico de un dataframe\n",
        "print(Apertura_Italia)"
      ],
      "metadata": {
        "id": "xfocX2P9FUWU",
        "colab": {
          "base_uri": "https://localhost:8080/"
        },
        "outputId": "d758d14b-17c5-45ab-ab14-43853b8de414"
      },
      "execution_count": 337,
      "outputs": [
        {
          "output_type": "stream",
          "name": "stdout",
          "text": [
            "1.404\n"
          ]
        }
      ]
    },
    {
      "cell_type": "code",
      "source": [
        "Cierre_precio_anterior_Italia= Italia10.iat[3,0]\n",
        "print(Cierre_precio_anterior_Italia)"
      ],
      "metadata": {
        "id": "h0QpwRycFUg3",
        "colab": {
          "base_uri": "https://localhost:8080/"
        },
        "outputId": "e525c083-fd72-4def-88c1-e51894b2443a"
      },
      "execution_count": 338,
      "outputs": [
        {
          "output_type": "stream",
          "name": "stdout",
          "text": [
            "1.411\n"
          ]
        }
      ]
    },
    {
      "cell_type": "code",
      "source": [
        "Cierre_precio_anterior5dias_Italia= Italia10.iat[0,0]\n",
        "print(Cierre_precio_anterior5dias_Italia)"
      ],
      "metadata": {
        "id": "Lod0vaJZFUsQ",
        "colab": {
          "base_uri": "https://localhost:8080/"
        },
        "outputId": "17cfc2be-b841-4278-9c6d-debdaae45bb5"
      },
      "execution_count": 339,
      "outputs": [
        {
          "output_type": "stream",
          "name": "stdout",
          "text": [
            "1.334\n"
          ]
        }
      ]
    },
    {
      "cell_type": "markdown",
      "metadata": {
        "id": "o5yfHBEuMfjM"
      },
      "source": [
        "**Japon**"
      ]
    },
    {
      "cell_type": "code",
      "metadata": {
        "id": "mazN_e0qNJJu",
        "colab": {
          "base_uri": "https://localhost:8080/"
        },
        "outputId": "de6d4ab3-cb01-4c3a-dccf-6633bbbe68d2"
      },
      "source": [
        "inv.get_bonds_list(\"japan\")"
      ],
      "execution_count": 340,
      "outputs": [
        {
          "output_type": "execute_result",
          "data": {
            "text/plain": [
              "['Japan 7Y',\n",
              " 'Japan 30Y',\n",
              " 'Japan 20Y',\n",
              " 'Japan 15Y',\n",
              " 'Japan 10Y',\n",
              " 'Japan 9Y',\n",
              " 'Japan 8Y',\n",
              " 'Japan 6Y',\n",
              " 'Japan 40Y',\n",
              " 'Japan 4Y',\n",
              " 'Japan 3Y',\n",
              " 'Japan 2Y',\n",
              " 'Japan 1Y',\n",
              " 'Japan 9M',\n",
              " 'Japan 6M',\n",
              " 'Japan 3M',\n",
              " 'Japan 1M',\n",
              " 'Japan 5Y']"
            ]
          },
          "metadata": {},
          "execution_count": 340
        }
      ]
    },
    {
      "cell_type": "code",
      "metadata": {
        "id": "MARdyCtVOalS",
        "colab": {
          "base_uri": "https://localhost:8080/"
        },
        "outputId": "64993480-8c7a-471c-c714-2ad8113709fe"
      },
      "source": [
        "Japon=inv.get_bond_recent_data(bond=\"Japan 10Y\")\n",
        "Japon10=Japon[[\"Close\",\"Open\"]].tail()\n",
        "print(Japon10)"
      ],
      "execution_count": 341,
      "outputs": [
        {
          "output_type": "stream",
          "name": "stdout",
          "text": [
            "            Close   Open\n",
            "Date                    \n",
            "2022-01-16  0.143  0.145\n",
            "2022-01-17  0.144  0.146\n",
            "2022-01-18  0.148  0.144\n",
            "2022-01-19  0.134  0.145\n",
            "2022-01-20  0.135  0.134\n"
          ]
        }
      ]
    },
    {
      "cell_type": "code",
      "source": [
        "Apertura_Japon = (Japon10.iat[4,1]) # Este comando esta extraer un valor especifico de un dataframe\n",
        "print(Apertura_Japon)"
      ],
      "metadata": {
        "id": "DzfibM7cFqjL",
        "colab": {
          "base_uri": "https://localhost:8080/"
        },
        "outputId": "2195dc9a-67ca-4241-cc40-2766208db672"
      },
      "execution_count": 342,
      "outputs": [
        {
          "output_type": "stream",
          "name": "stdout",
          "text": [
            "0.134\n"
          ]
        }
      ]
    },
    {
      "cell_type": "code",
      "source": [
        "Cierre_precio_anterior_Japon= Japon10.iat[3,0]\n",
        "print(Cierre_precio_anterior_Japon)"
      ],
      "metadata": {
        "id": "ovybVuFeFqug",
        "colab": {
          "base_uri": "https://localhost:8080/"
        },
        "outputId": "3826120e-f293-475e-c1f7-bb1809153e56"
      },
      "execution_count": 343,
      "outputs": [
        {
          "output_type": "stream",
          "name": "stdout",
          "text": [
            "0.134\n"
          ]
        }
      ]
    },
    {
      "cell_type": "code",
      "source": [
        "Cierre_precio_anterior5dias_Japon= Japon10.iat[0,0]\n",
        "print(Cierre_precio_anterior5dias_Japon)"
      ],
      "metadata": {
        "id": "AFYsmDMCFq4U",
        "colab": {
          "base_uri": "https://localhost:8080/"
        },
        "outputId": "b4e6e670-5b91-4151-c26e-cac632fa4200"
      },
      "execution_count": 344,
      "outputs": [
        {
          "output_type": "stream",
          "name": "stdout",
          "text": [
            "0.143\n"
          ]
        }
      ]
    },
    {
      "cell_type": "markdown",
      "metadata": {
        "id": "rKK9TQ7kMjRD"
      },
      "source": [
        "**Latinoamerica**"
      ]
    },
    {
      "cell_type": "markdown",
      "metadata": {
        "id": "LNiOh-Z9MpBj"
      },
      "source": [
        "**Brasil**"
      ]
    },
    {
      "cell_type": "code",
      "metadata": {
        "id": "zcnN1t2fNKU9",
        "colab": {
          "base_uri": "https://localhost:8080/"
        },
        "outputId": "26aedae5-d808-4ae8-9e69-6d7f406d82f9"
      },
      "source": [
        "inv.get_bonds_list(\"Brazil\")"
      ],
      "execution_count": 345,
      "outputs": [
        {
          "output_type": "execute_result",
          "data": {
            "text/plain": [
              "['Brazil 3M',\n",
              " 'Brazil 6M',\n",
              " 'Brazil 9M',\n",
              " 'Brazil 1Y',\n",
              " 'Brazil 2Y',\n",
              " 'Brazil 3Y',\n",
              " 'Brazil 5Y',\n",
              " 'Brazil 8Y',\n",
              " 'Brazil 10Y']"
            ]
          },
          "metadata": {},
          "execution_count": 345
        }
      ]
    },
    {
      "cell_type": "code",
      "metadata": {
        "id": "-k_ScMydObo7",
        "colab": {
          "base_uri": "https://localhost:8080/"
        },
        "outputId": "9ec768ca-fd53-40e2-ac84-67c7388c80a9"
      },
      "source": [
        "Brazil=inv.get_bond_recent_data(bond=\"Brazil 10Y\")\n",
        "Brazil10=Brazil[[\"Close\",\"Open\"]].tail()\n",
        "print(Brazil10)"
      ],
      "execution_count": 346,
      "outputs": [
        {
          "output_type": "stream",
          "name": "stdout",
          "text": [
            "             Close    Open\n",
            "Date                      \n",
            "2022-01-14  11.265  11.310\n",
            "2022-01-17  11.545  11.545\n",
            "2022-01-18  11.595  11.545\n",
            "2022-01-19  11.013  11.551\n",
            "2022-01-20  11.351  11.351\n"
          ]
        }
      ]
    },
    {
      "cell_type": "code",
      "source": [
        "Apertura_Brazil = (Brazil10.iat[4,1]) # Este comando esta extraer un valor especifico de un dataframe\n",
        "print(Apertura_Brazil)"
      ],
      "metadata": {
        "id": "lhfNBy5IGEDU",
        "colab": {
          "base_uri": "https://localhost:8080/"
        },
        "outputId": "3562ccac-bb4a-4d39-d0f4-cc3fcc409213"
      },
      "execution_count": 347,
      "outputs": [
        {
          "output_type": "stream",
          "name": "stdout",
          "text": [
            "11.351\n"
          ]
        }
      ]
    },
    {
      "cell_type": "code",
      "source": [
        "Cierre_precio_anterior_Brazil= Brazil10.iat[3,0]\n",
        "print(Cierre_precio_anterior_Brazil)"
      ],
      "metadata": {
        "id": "U6Orzg2FGENo",
        "colab": {
          "base_uri": "https://localhost:8080/"
        },
        "outputId": "43e2ae42-40d2-4e06-981b-112a6611111a"
      },
      "execution_count": 348,
      "outputs": [
        {
          "output_type": "stream",
          "name": "stdout",
          "text": [
            "11.013\n"
          ]
        }
      ]
    },
    {
      "cell_type": "code",
      "source": [
        "Cierre_precio_anterior5dias_Brazil= Brazil10.iat[0,0]\n",
        "print(Cierre_precio_anterior5dias_Brazil)"
      ],
      "metadata": {
        "id": "N9r_R7NDGEYL",
        "colab": {
          "base_uri": "https://localhost:8080/"
        },
        "outputId": "5f3119ea-279e-4952-b9f2-dc6f6f6a2f1e"
      },
      "execution_count": 349,
      "outputs": [
        {
          "output_type": "stream",
          "name": "stdout",
          "text": [
            "11.265\n"
          ]
        }
      ]
    },
    {
      "cell_type": "markdown",
      "metadata": {
        "id": "dcIOm9liMtFJ"
      },
      "source": [
        "**Mexico**"
      ]
    },
    {
      "cell_type": "code",
      "metadata": {
        "id": "EYHQ5xwvNK-c",
        "colab": {
          "base_uri": "https://localhost:8080/"
        },
        "outputId": "7054080c-be65-4ffc-865a-d771c11b4ed7"
      },
      "source": [
        "inv.get_bonds_list(\"Mexico\")"
      ],
      "execution_count": 350,
      "outputs": [
        {
          "output_type": "execute_result",
          "data": {
            "text/plain": [
              "['Mexico 7Y',\n",
              " 'Mexico 30Y',\n",
              " 'Mexico 20Y',\n",
              " 'Mexico 15Y',\n",
              " 'Mexico 10Y',\n",
              " 'Mexico 5Y',\n",
              " 'Mexico 1Y',\n",
              " 'Mexico 9M',\n",
              " 'Mexico 3M',\n",
              " 'Mexico 1M',\n",
              " 'Mexico 3Y',\n",
              " 'Mexico 6M']"
            ]
          },
          "metadata": {},
          "execution_count": 350
        }
      ]
    },
    {
      "cell_type": "code",
      "metadata": {
        "id": "RDhFio2sOcSx",
        "colab": {
          "base_uri": "https://localhost:8080/"
        },
        "outputId": "278df073-9453-4d74-bc82-969ac61b3ab3"
      },
      "source": [
        "Mexico=inv.get_bond_recent_data(bond=\"Mexico 10Y\")\n",
        "Mexico10=Mexico[[\"Close\",\"Open\"]].tail()\n",
        "print(Mexico10)"
      ],
      "execution_count": 351,
      "outputs": [
        {
          "output_type": "stream",
          "name": "stdout",
          "text": [
            "            Close   Open\n",
            "Date                    \n",
            "2022-01-14  7.666  7.713\n",
            "2022-01-15  7.935  7.935\n",
            "2022-01-17  7.686  7.749\n",
            "2022-01-18  7.751  7.787\n",
            "2022-01-19  7.957  8.024\n"
          ]
        }
      ]
    },
    {
      "cell_type": "code",
      "source": [
        "Apertura_Mexico = (Mexico10.iat[4,1]) # Este comando esta extraer un valor especifico de un dataframe\n",
        "print(Apertura_Mexico)"
      ],
      "metadata": {
        "id": "kg72v1OPGeux",
        "colab": {
          "base_uri": "https://localhost:8080/"
        },
        "outputId": "add314b6-e7b3-4135-f9c8-810d803be1a5"
      },
      "execution_count": 352,
      "outputs": [
        {
          "output_type": "stream",
          "name": "stdout",
          "text": [
            "8.024\n"
          ]
        }
      ]
    },
    {
      "cell_type": "code",
      "source": [
        "Cierre_precio_anterior_Mexico= Mexico10.iat[3,0]\n",
        "print(Cierre_precio_anterior_Mexico)"
      ],
      "metadata": {
        "id": "ythoTfhxGe4z",
        "colab": {
          "base_uri": "https://localhost:8080/"
        },
        "outputId": "a6a48528-dad5-4f38-b717-33c8b951418b"
      },
      "execution_count": 353,
      "outputs": [
        {
          "output_type": "stream",
          "name": "stdout",
          "text": [
            "7.751\n"
          ]
        }
      ]
    },
    {
      "cell_type": "code",
      "source": [
        "Cierre_precio_anterior5dias_Mexico= Mexico10.iat[0,0]\n",
        "print(Cierre_precio_anterior5dias_Mexico)"
      ],
      "metadata": {
        "id": "a9Dqf1ERGfA_",
        "colab": {
          "base_uri": "https://localhost:8080/"
        },
        "outputId": "b3866a2a-c197-40d9-f97e-0d99c269ce20"
      },
      "execution_count": 354,
      "outputs": [
        {
          "output_type": "stream",
          "name": "stdout",
          "text": [
            "7.666\n"
          ]
        }
      ]
    },
    {
      "cell_type": "markdown",
      "metadata": {
        "id": "2MwZpJvRMv9O"
      },
      "source": [
        "**Chile**"
      ]
    },
    {
      "cell_type": "code",
      "metadata": {
        "id": "ypZ9JmNENLZm",
        "colab": {
          "base_uri": "https://localhost:8080/"
        },
        "outputId": "0a5229a4-c80d-4bbf-ab80-3052c8d44025"
      },
      "source": [
        "inv.get_bonds_list(\"chile\")"
      ],
      "execution_count": 355,
      "outputs": [
        {
          "output_type": "execute_result",
          "data": {
            "text/plain": [
              "['Chile 10Y',\n",
              " 'Chile 8Y',\n",
              " 'Chile 5Y',\n",
              " 'Chile 3Y',\n",
              " 'Chile 2Y',\n",
              " 'Chile 1Y',\n",
              " 'Chile 4Y']"
            ]
          },
          "metadata": {},
          "execution_count": 355
        }
      ]
    },
    {
      "cell_type": "code",
      "metadata": {
        "id": "4WoEuevrOc74",
        "colab": {
          "base_uri": "https://localhost:8080/"
        },
        "outputId": "33094875-bb45-464e-c97b-76196d7a81fa"
      },
      "source": [
        "Chile=inv.get_bond_recent_data(bond=\"Chile 10Y\")\n",
        "Chile10=Chile[[\"Close\",\"Open\"]].tail()\n",
        "print(Chile10)"
      ],
      "execution_count": 356,
      "outputs": [
        {
          "output_type": "stream",
          "name": "stdout",
          "text": [
            "            Close  Open\n",
            "Date                   \n",
            "2022-01-13   6.16  6.16\n",
            "2022-01-14   6.21  6.21\n",
            "2022-01-17   6.22  6.22\n",
            "2022-01-18   6.21  6.21\n",
            "2022-01-19   6.24  6.24\n"
          ]
        }
      ]
    },
    {
      "cell_type": "code",
      "source": [
        "Apertura_Chile = (Chile10.iat[4,1]) # Este comando esta extraer un valor especifico de un dataframe\n",
        "print(Apertura_Chile)"
      ],
      "metadata": {
        "id": "o8Rp_a7UG0w1",
        "colab": {
          "base_uri": "https://localhost:8080/"
        },
        "outputId": "af8b22b8-f5d8-4333-9340-b657dce1d158"
      },
      "execution_count": 357,
      "outputs": [
        {
          "output_type": "stream",
          "name": "stdout",
          "text": [
            "6.24\n"
          ]
        }
      ]
    },
    {
      "cell_type": "code",
      "source": [
        "Cierre_precio_anterior_Chile = Chile10.iat[3,0]\n",
        "print(Cierre_precio_anterior_Chile)"
      ],
      "metadata": {
        "id": "P_wjDNciG1AR",
        "colab": {
          "base_uri": "https://localhost:8080/"
        },
        "outputId": "d37f5ca5-e14b-4d6e-8c7e-7617099b9e17"
      },
      "execution_count": 358,
      "outputs": [
        {
          "output_type": "stream",
          "name": "stdout",
          "text": [
            "6.21\n"
          ]
        }
      ]
    },
    {
      "cell_type": "code",
      "source": [
        "Cierre_precio_anterior5dias_Chile= Chile10.iat[0,0]\n",
        "print(Cierre_precio_anterior5dias_Chile)"
      ],
      "metadata": {
        "id": "nLTEmsZeG1Jx",
        "colab": {
          "base_uri": "https://localhost:8080/"
        },
        "outputId": "583ca16f-8bfd-43b6-9c51-aa5fdaddd55a"
      },
      "execution_count": 359,
      "outputs": [
        {
          "output_type": "stream",
          "name": "stdout",
          "text": [
            "6.16\n"
          ]
        }
      ]
    },
    {
      "cell_type": "markdown",
      "metadata": {
        "id": "vx8eKrtGM1f0"
      },
      "source": [
        "**Argentina**"
      ]
    },
    {
      "cell_type": "code",
      "metadata": {
        "id": "hGlkCxvoNL-d",
        "colab": {
          "base_uri": "https://localhost:8080/"
        },
        "outputId": "12d74c9f-22a6-414f-d53e-6ef3d5ce2833"
      },
      "source": [
        "inv.get_bonds_list(\"argentina\")"
      ],
      "execution_count": 360,
      "outputs": [
        {
          "output_type": "execute_result",
          "data": {
            "text/plain": [
              "['Argentina 1Y', 'Argentina 3Y', 'Argentina 5Y', 'Argentina 9Y']"
            ]
          },
          "metadata": {},
          "execution_count": 360
        }
      ]
    },
    {
      "cell_type": "code",
      "metadata": {
        "id": "j1l9S9lEOdpr",
        "colab": {
          "base_uri": "https://localhost:8080/"
        },
        "outputId": "fbd74e6b-0f79-4cd1-c03e-9f401546ffa0"
      },
      "source": [
        "Argentina=inv.get_bond_recent_data(bond=\"Argentina 1Y\")\n",
        "Argentina10=Argentina[[\"Close\",\"Open\"]].tail()\n",
        "print(Argentina10)"
      ],
      "execution_count": 361,
      "outputs": [
        {
          "output_type": "stream",
          "name": "stdout",
          "text": [
            "            Close   Open\n",
            "Date                    \n",
            "2022-01-14  73.88  73.88\n",
            "2022-01-17  75.17  75.17\n",
            "2022-01-18  76.50  76.50\n",
            "2022-01-19  60.42  60.07\n",
            "2022-01-20  45.19  63.75\n"
          ]
        }
      ]
    },
    {
      "cell_type": "code",
      "source": [
        "Apertura_Argentina = (Argentina10.iat[4,1]) # Este comando esta extraer un valor especifico de un dataframe\n",
        "print(Apertura_Argentina)"
      ],
      "metadata": {
        "id": "cttXTJmQHHBz",
        "colab": {
          "base_uri": "https://localhost:8080/"
        },
        "outputId": "1e224a19-d4e3-4464-a4a7-1512a41afc53"
      },
      "execution_count": 362,
      "outputs": [
        {
          "output_type": "stream",
          "name": "stdout",
          "text": [
            "63.75\n"
          ]
        }
      ]
    },
    {
      "cell_type": "code",
      "source": [
        "Cierre_precio_anterior_Argentina = Argentina10.iat[3,0]\n",
        "print(Cierre_precio_anterior_Argentina)"
      ],
      "metadata": {
        "id": "4h4X0qkXHHL6",
        "colab": {
          "base_uri": "https://localhost:8080/"
        },
        "outputId": "d0622e3e-7822-4639-ff21-106cedd07967"
      },
      "execution_count": 363,
      "outputs": [
        {
          "output_type": "stream",
          "name": "stdout",
          "text": [
            "60.42\n"
          ]
        }
      ]
    },
    {
      "cell_type": "code",
      "source": [
        "Cierre_precio_anterior5dias_Argentina= Argentina10.iat[0,0]\n",
        "print(Cierre_precio_anterior5dias_Argentina)"
      ],
      "metadata": {
        "id": "qYe67y7YHHTf",
        "colab": {
          "base_uri": "https://localhost:8080/"
        },
        "outputId": "a15a756f-f59d-4b69-f4a2-f1ac5bb53a8a"
      },
      "execution_count": 364,
      "outputs": [
        {
          "output_type": "stream",
          "name": "stdout",
          "text": [
            "73.88\n"
          ]
        }
      ]
    },
    {
      "cell_type": "markdown",
      "metadata": {
        "id": "2_RdJM4JM8de"
      },
      "source": [
        "**Colombia**"
      ]
    },
    {
      "cell_type": "code",
      "metadata": {
        "id": "7_3UzmQ4M_zn",
        "colab": {
          "base_uri": "https://localhost:8080/"
        },
        "outputId": "5a01c106-fb45-495a-daeb-ec022528c0cb"
      },
      "source": [
        "inv.get_bonds_list(\"colombia\")"
      ],
      "execution_count": 365,
      "outputs": [
        {
          "output_type": "execute_result",
          "data": {
            "text/plain": [
              "['Colombia 1Y', 'Colombia 4Y', 'Colombia 5Y', 'Colombia 10Y', 'Colombia 15Y']"
            ]
          },
          "metadata": {},
          "execution_count": 365
        }
      ]
    },
    {
      "cell_type": "code",
      "metadata": {
        "id": "0lbAXwJ6OePv",
        "colab": {
          "base_uri": "https://localhost:8080/"
        },
        "outputId": "1e65d2d3-4f4b-4680-ccc4-6e1068bb289b"
      },
      "source": [
        "Colombia=inv.get_bond_recent_data(bond=\"Colombia 10Y\")\n",
        "Colombia10=Colombia[[\"Close\",\"Open\"]].tail()\n",
        "print(Colombia10)"
      ],
      "execution_count": 366,
      "outputs": [
        {
          "output_type": "stream",
          "name": "stdout",
          "text": [
            "            Close   Open\n",
            "Date                    \n",
            "2022-01-13  8.740  8.750\n",
            "2022-01-14  8.770  8.700\n",
            "2022-01-17  8.890  8.850\n",
            "2022-01-18  9.089  9.075\n",
            "2022-01-19  9.060  9.050\n"
          ]
        }
      ]
    },
    {
      "cell_type": "code",
      "source": [
        "Apertura_Colombia = (Colombia10.iat[4,1]) # Este comando esta extraer un valor especifico de un dataframe\n",
        "print(Apertura_Colombia)"
      ],
      "metadata": {
        "id": "XNJaBpHFHdNO",
        "colab": {
          "base_uri": "https://localhost:8080/"
        },
        "outputId": "ba79f217-eb7b-4d98-b37a-06701f9e4481"
      },
      "execution_count": 367,
      "outputs": [
        {
          "output_type": "stream",
          "name": "stdout",
          "text": [
            "9.05\n"
          ]
        }
      ]
    },
    {
      "cell_type": "code",
      "source": [
        "Cierre_precio_anterior_Colombia = Colombia10.iat[3,0]\n",
        "print(Cierre_precio_anterior_Colombia)"
      ],
      "metadata": {
        "id": "aFSWczUhHdX3",
        "colab": {
          "base_uri": "https://localhost:8080/"
        },
        "outputId": "f306a6ef-3d44-4dbc-f5c5-40715564a150"
      },
      "execution_count": 368,
      "outputs": [
        {
          "output_type": "stream",
          "name": "stdout",
          "text": [
            "9.089\n"
          ]
        }
      ]
    },
    {
      "cell_type": "code",
      "source": [
        "Cierre_precio_anterior5dias_Colombia= Colombia10.iat[0,0]\n",
        "print(Cierre_precio_anterior5dias_Colombia)"
      ],
      "metadata": {
        "id": "8_MV_uriHdb3",
        "colab": {
          "base_uri": "https://localhost:8080/"
        },
        "outputId": "499851d2-20a6-46aa-ae8f-3cabbf5ae725"
      },
      "execution_count": 369,
      "outputs": [
        {
          "output_type": "stream",
          "name": "stdout",
          "text": [
            "8.74\n"
          ]
        }
      ]
    },
    {
      "cell_type": "markdown",
      "metadata": {
        "id": "5-oNZkdGNAKX"
      },
      "source": [
        "**Peru** "
      ]
    },
    {
      "cell_type": "code",
      "metadata": {
        "id": "LMJ4nNWXNHAp",
        "colab": {
          "base_uri": "https://localhost:8080/"
        },
        "outputId": "ce1089c7-d923-4346-a084-5107c03e9f05"
      },
      "source": [
        "inv.get_bonds_list(\"peru\")"
      ],
      "execution_count": 370,
      "outputs": [
        {
          "output_type": "execute_result",
          "data": {
            "text/plain": [
              "['Peru 2Y', 'Peru 5Y', 'Peru 10Y', 'Peru 15Y', 'Peru 20Y', 'Peru 30Y']"
            ]
          },
          "metadata": {},
          "execution_count": 370
        }
      ]
    },
    {
      "cell_type": "code",
      "metadata": {
        "id": "bahdqkDZOe0U",
        "colab": {
          "base_uri": "https://localhost:8080/"
        },
        "outputId": "a2c25f75-0db0-4691-8021-5461022dca7d"
      },
      "source": [
        "Peru=inv.get_bond_recent_data(bond=\"Peru 10Y\")\n",
        "Peru10=Peru[[\"Close\",\"Open\"]].tail()\n",
        "print(Peru10)"
      ],
      "execution_count": 371,
      "outputs": [
        {
          "output_type": "stream",
          "name": "stdout",
          "text": [
            "            Close   Open\n",
            "Date                    \n",
            "2022-01-12  6.017  6.017\n",
            "2022-01-13  6.070  6.070\n",
            "2022-01-14  6.120  6.120\n",
            "2022-01-18  6.176  6.140\n",
            "2022-01-20  6.177  6.177\n"
          ]
        }
      ]
    },
    {
      "cell_type": "code",
      "source": [
        "Apertura_Peru = (Peru10.iat[4,1]) # Este comando esta extraer un valor especifico de un dataframe\n",
        "print(Apertura_Peru)"
      ],
      "metadata": {
        "id": "ECSHOybZHy6v",
        "colab": {
          "base_uri": "https://localhost:8080/"
        },
        "outputId": "e0d2e61b-f473-493f-e1bd-02a611ae85e7"
      },
      "execution_count": 372,
      "outputs": [
        {
          "output_type": "stream",
          "name": "stdout",
          "text": [
            "6.177\n"
          ]
        }
      ]
    },
    {
      "cell_type": "code",
      "source": [
        "Cierre_precio_anterior_Peru = Peru10.iat[3,0]\n",
        "print(Cierre_precio_anterior_Peru)"
      ],
      "metadata": {
        "id": "_Bd8qR4eHzBK",
        "colab": {
          "base_uri": "https://localhost:8080/"
        },
        "outputId": "a1a71660-a75d-4591-c8ca-eb607a50c10e"
      },
      "execution_count": 373,
      "outputs": [
        {
          "output_type": "stream",
          "name": "stdout",
          "text": [
            "6.176\n"
          ]
        }
      ]
    },
    {
      "cell_type": "code",
      "source": [
        "Cierre_precio_anterior5dias_Peru= Peru10.iat[0,0]\n",
        "print(Cierre_precio_anterior5dias_Peru)"
      ],
      "metadata": {
        "id": "Lh7SBvlCHzV1",
        "colab": {
          "base_uri": "https://localhost:8080/"
        },
        "outputId": "095d6d41-e6f6-4eb0-fa40-a15d66e43a2d"
      },
      "execution_count": 374,
      "outputs": [
        {
          "output_type": "stream",
          "name": "stdout",
          "text": [
            "6.017\n"
          ]
        }
      ]
    },
    {
      "cell_type": "markdown",
      "metadata": {
        "id": "g93HhYTUNuSo"
      },
      "source": [
        "**Monedas**"
      ]
    },
    {
      "cell_type": "markdown",
      "metadata": {
        "id": "6G9b8ApkNw5_"
      },
      "source": [
        "**Dolar**"
      ]
    },
    {
      "cell_type": "code",
      "metadata": {
        "id": "rU_iqnjGN8KG",
        "colab": {
          "base_uri": "https://localhost:8080/"
        },
        "outputId": "dd44a70a-161f-4d1b-fb61-bdbc15c80de2"
      },
      "source": [
        "Dolar=inv.get_currency_cross_recent_data(\"USD/COP\")\n",
        "Dolar10=Dolar[[\"Close\",\"Open\"]].tail()\n",
        "print(Dolar10)"
      ],
      "execution_count": 375,
      "outputs": [
        {
          "output_type": "stream",
          "name": "stdout",
          "text": [
            "              Close     Open\n",
            "Date                        \n",
            "2022-01-14  4003.26  3967.41\n",
            "2022-01-17  4003.26  4007.25\n",
            "2022-01-18  4033.20  4007.25\n",
            "2022-01-19  3990.36  4037.20\n",
            "2022-01-20  3981.50  3994.35\n"
          ]
        }
      ]
    },
    {
      "cell_type": "code",
      "source": [
        "Apertura_Dolar = (Dolar10.iat[4,1]) # Este comando esta extraer un valor especifico de un dataframe\n",
        "print(Apertura_Dolar)"
      ],
      "metadata": {
        "id": "AAX1Sm5TIG67",
        "colab": {
          "base_uri": "https://localhost:8080/"
        },
        "outputId": "810868bd-7195-4525-8da0-b875a355b71f"
      },
      "execution_count": 376,
      "outputs": [
        {
          "output_type": "stream",
          "name": "stdout",
          "text": [
            "3994.35\n"
          ]
        }
      ]
    },
    {
      "cell_type": "code",
      "source": [
        "Cierre_precio_anterior_Dolar = Dolar10.iat[3,0]\n",
        "print(Cierre_precio_anterior_Dolar)"
      ],
      "metadata": {
        "id": "m-WxtkLVIHrc",
        "colab": {
          "base_uri": "https://localhost:8080/"
        },
        "outputId": "4428e451-20ef-4c4e-9352-366bb83761fc"
      },
      "execution_count": 377,
      "outputs": [
        {
          "output_type": "stream",
          "name": "stdout",
          "text": [
            "3990.36\n"
          ]
        }
      ]
    },
    {
      "cell_type": "code",
      "source": [
        "Cierre_precio_anterior5dias_Dolar= Dolar10.iat[0,0]\n",
        "print(Cierre_precio_anterior5dias_Dolar)"
      ],
      "metadata": {
        "id": "9yHnc83PIH1a",
        "colab": {
          "base_uri": "https://localhost:8080/"
        },
        "outputId": "e76dfe27-8c6b-480e-f480-719bc3f08788"
      },
      "execution_count": 378,
      "outputs": [
        {
          "output_type": "stream",
          "name": "stdout",
          "text": [
            "4003.26\n"
          ]
        }
      ]
    },
    {
      "cell_type": "markdown",
      "metadata": {
        "id": "LEJ-am6_N39V"
      },
      "source": [
        "**Euro**"
      ]
    },
    {
      "cell_type": "code",
      "metadata": {
        "id": "rp8ZBd0ON8z8",
        "colab": {
          "base_uri": "https://localhost:8080/"
        },
        "outputId": "7eee9ea3-8ac4-4cd6-a7b3-acb688c25a8b"
      },
      "source": [
        "Euro=inv.get_currency_cross_recent_data(\"EUR/COP\")\n",
        "Euro10=Euro[[\"Close\",\"Open\"]].tail()\n",
        "print(Euro10)"
      ],
      "execution_count": 379,
      "outputs": [
        {
          "output_type": "stream",
          "name": "stdout",
          "text": [
            "             Close    Open\n",
            "Date                      \n",
            "2022-01-14  4569.0  4544.5\n",
            "2022-01-17  4567.0  4574.5\n",
            "2022-01-18  4568.0  4572.0\n",
            "2022-01-19  4525.0  4570.5\n",
            "2022-01-20  4517.5  4530.5\n"
          ]
        }
      ]
    },
    {
      "cell_type": "code",
      "source": [
        "Apertura_Euro = (Euro10.iat[4,1]) # Este comando esta extraer un valor especifico de un dataframe\n",
        "print(Apertura_Euro)"
      ],
      "metadata": {
        "id": "Buzj53lQIa70",
        "colab": {
          "base_uri": "https://localhost:8080/"
        },
        "outputId": "da078d5c-ef49-45e5-bae1-f36e73cd2fd9"
      },
      "execution_count": 380,
      "outputs": [
        {
          "output_type": "stream",
          "name": "stdout",
          "text": [
            "4530.5\n"
          ]
        }
      ]
    },
    {
      "cell_type": "code",
      "source": [
        "Cierre_precio_anterior_Euro = Euro10.iat[3,0]\n",
        "print(Cierre_precio_anterior_Euro)"
      ],
      "metadata": {
        "id": "8uB8f23lIbHY",
        "colab": {
          "base_uri": "https://localhost:8080/"
        },
        "outputId": "9db12b77-ca87-4f13-eda3-646a34596ebc"
      },
      "execution_count": 381,
      "outputs": [
        {
          "output_type": "stream",
          "name": "stdout",
          "text": [
            "4525.0\n"
          ]
        }
      ]
    },
    {
      "cell_type": "code",
      "source": [
        "Cierre_precio_anterior5dias_Euro= Euro10.iat[0,0]\n",
        "print(Cierre_precio_anterior5dias_Euro)"
      ],
      "metadata": {
        "id": "lcg5cAViIbSK",
        "colab": {
          "base_uri": "https://localhost:8080/"
        },
        "outputId": "660a74c6-7ed7-467c-8345-9a7614821ba3"
      },
      "execution_count": 382,
      "outputs": [
        {
          "output_type": "stream",
          "name": "stdout",
          "text": [
            "4569.0\n"
          ]
        }
      ]
    },
    {
      "cell_type": "markdown",
      "metadata": {
        "id": "S8J_1X2RHLyq"
      },
      "source": [
        "**Esta Parte por el momento no se necesita, Se Utilizaba para unir datos**\n",
        "\n"
      ]
    },
    {
      "cell_type": "code",
      "metadata": {
        "id": "FMXQjWY3JS21"
      },
      "source": [
        "##Historica_data5= pd.concat([Historica_data1,Historica_data2,Historica_data3,Historica_data],axis=1)\n",
        "## print(Historica_data5)"
      ],
      "execution_count": 383,
      "outputs": []
    },
    {
      "cell_type": "code",
      "metadata": {
        "id": "GWGL1jBUB5-u"
      },
      "source": [
        "## data1=pd.concat([Bovespa1,Mexico1,Chile1,Colombia1,brent10,WTI10,Oro10,Cobre10,Maiz10,soja10,Cafe10,Azucar10,Estados_unidos10,\n",
        "                ##  Alemania10,Reino_unido10,Francia10,Italia10,Japon10,Brazil10,Mexico10,Chile10,Argentina10,Colombia10,Peru10,Dolar10,Euro10],axis=1)     \n",
        "## print(data1)"
      ],
      "execution_count": 384,
      "outputs": []
    },
    {
      "cell_type": "code",
      "source": [
        "## data2=data1.fillna(method=\"ffill\")#rellenar Datos Hacia adelante \n",
        "## print(data2)"
      ],
      "metadata": {
        "id": "zvq2fHSLADYT"
      },
      "execution_count": 385,
      "outputs": []
    },
    {
      "cell_type": "code",
      "source": [
        " ## data3=data2.fillna(method=\"bfill\")#rellenar Datos hacia atras \n",
        "## print(data3)"
      ],
      "metadata": {
        "id": "eLq8FJ9CDwR7"
      },
      "execution_count": 386,
      "outputs": []
    },
    {
      "cell_type": "markdown",
      "metadata": {
        "id": "6szvWYcuGvPX"
      },
      "source": [
        "**Descargar datos**"
      ]
    },
    {
      "cell_type": "code",
      "metadata": {
        "id": "Areidc1-CP-s"
      },
      "source": [
        "## data3.to_excel(\"Bitacora.xlsx\")\n",
        "## files.download(\"Bitacora.xlsx\")"
      ],
      "execution_count": 387,
      "outputs": []
    },
    {
      "cell_type": "markdown",
      "source": [
        "# Conexion Python y Excel"
      ],
      "metadata": {
        "id": "oq5Exu6Zak7n"
      }
    },
    {
      "cell_type": "code",
      "source": [
        "Nueva_bitacora_py = load_workbook(\"Nueva bitacora.xlsx\")"
      ],
      "metadata": {
        "id": "KSHURtraT__G"
      },
      "execution_count": null,
      "outputs": []
    },
    {
      "cell_type": "code",
      "source": [
        "Prueba = Nueva_bitacora_py[\"Tabla oficial\"]"
      ],
      "metadata": {
        "id": "1jSyDcq2VLBb"
      },
      "execution_count": null,
      "outputs": []
    },
    {
      "cell_type": "markdown",
      "source": [
        "**Brazil-Nueva Bitacora**"
      ],
      "metadata": {
        "id": "_kZi1d-RL1nA"
      }
    },
    {
      "cell_type": "markdown",
      "source": [
        "**Apertura**"
      ],
      "metadata": {
        "id": "zTFpgGH2MCdw"
      }
    },
    {
      "cell_type": "code",
      "source": [
        "C15=Prueba[\"c15\"]\n",
        "print(C15.value)"
      ],
      "metadata": {
        "id": "fIAx7BDqL4ry"
      },
      "execution_count": null,
      "outputs": []
    },
    {
      "cell_type": "code",
      "source": [
        "C15=Prueba[\"c15\"]= Apertura_indice_Brazil\n",
        "print(C15)"
      ],
      "metadata": {
        "id": "0ThV212lL_JA"
      },
      "execution_count": null,
      "outputs": []
    },
    {
      "cell_type": "markdown",
      "source": [
        "**Cierre anterior**"
      ],
      "metadata": {
        "id": "8wZjJjyGML1o"
      }
    },
    {
      "cell_type": "code",
      "source": [
        "D15=Prueba[\"D15\"] # Revisar \n",
        "print(D15.value)"
      ],
      "metadata": {
        "id": "p7_0PgyoMc9Q"
      },
      "execution_count": null,
      "outputs": []
    },
    {
      "cell_type": "code",
      "source": [
        "D15=Prueba[\"D15\"]= Cierre_precio_anterior__indice_Brazil\n",
        "print(D15)"
      ],
      "metadata": {
        "id": "aeKCYixGMi-6"
      },
      "execution_count": null,
      "outputs": []
    },
    {
      "cell_type": "markdown",
      "source": [
        "**Cierre a 5 dias**"
      ],
      "metadata": {
        "id": "Utqw6HoLMTmH"
      }
    },
    {
      "cell_type": "code",
      "source": [
        "A15=Prueba[\"A15\"] # Revisar\n",
        "print(A15.value)"
      ],
      "metadata": {
        "id": "PzTsT7e2gdtD"
      },
      "execution_count": null,
      "outputs": []
    },
    {
      "cell_type": "code",
      "source": [
        "A15=Prueba[\"A15\"]= Cierre_precio_anterior5dias_indice_Brazil\n",
        "print(A15)"
      ],
      "metadata": {
        "id": "Zug_FsA2Xc5D"
      },
      "execution_count": null,
      "outputs": []
    },
    {
      "cell_type": "markdown",
      "source": [
        "**Mexico Nueva Bitacora**"
      ],
      "metadata": {
        "id": "KIsuOH6ZMwz7"
      }
    },
    {
      "cell_type": "markdown",
      "source": [
        "**Apertura**"
      ],
      "metadata": {
        "id": "lCe3YlAbM_bm"
      }
    },
    {
      "cell_type": "code",
      "source": [
        "C16=Prueba[\"C16\"] \n",
        "print(C16.value)"
      ],
      "metadata": {
        "id": "gUe8SVqONaJA"
      },
      "execution_count": null,
      "outputs": []
    },
    {
      "cell_type": "code",
      "source": [
        "C16=Prueba[\"C16\"]= Apertura_indice_Mexico\n",
        "print(C16)"
      ],
      "metadata": {
        "id": "fmoWYt3XNaUs"
      },
      "execution_count": null,
      "outputs": []
    },
    {
      "cell_type": "markdown",
      "source": [
        "**Cierre anterior**"
      ],
      "metadata": {
        "id": "2YQzWf5GNUxo"
      }
    },
    {
      "cell_type": "code",
      "source": [
        "D16=Prueba[\"D16\"] \n",
        "print(D16.value)"
      ],
      "metadata": {
        "id": "CQRV9DAoNbDg"
      },
      "execution_count": null,
      "outputs": []
    },
    {
      "cell_type": "code",
      "source": [
        "D16=Prueba[\"D16\"]= Cierre_precio_anterior_indice_Mexico\n",
        "print(D16)"
      ],
      "metadata": {
        "id": "VTZOinmuNbOB"
      },
      "execution_count": null,
      "outputs": []
    },
    {
      "cell_type": "markdown",
      "source": [
        "**Cierre a 5 dias**"
      ],
      "metadata": {
        "id": "rZA4wdVjNYJt"
      }
    },
    {
      "cell_type": "code",
      "source": [
        "A16=Prueba[\"A16\"] \n",
        "print(A16.value)"
      ],
      "metadata": {
        "id": "qQ6XtL0MNb-D"
      },
      "execution_count": null,
      "outputs": []
    },
    {
      "cell_type": "code",
      "source": [
        "A16=Prueba[\"A16\"]= Cierre_precio_anterior5dias_indice_Mexico\n",
        "print(A16)"
      ],
      "metadata": {
        "id": "FTNkvA9HNcIb"
      },
      "execution_count": null,
      "outputs": []
    },
    {
      "cell_type": "markdown",
      "source": [
        "**Chile Nueva Bitacora**"
      ],
      "metadata": {
        "id": "6lMuQ1VbNfWZ"
      }
    },
    {
      "cell_type": "markdown",
      "source": [
        "**Apertura**"
      ],
      "metadata": {
        "id": "bxA73UV3NoHF"
      }
    },
    {
      "cell_type": "code",
      "source": [
        "C17=Prueba[\"C17\"] \n",
        "print(C17.value)"
      ],
      "metadata": {
        "id": "xZupSHMsNoha"
      },
      "execution_count": null,
      "outputs": []
    },
    {
      "cell_type": "code",
      "source": [
        "C17=Prueba[\"C17\"]= Apertura__indice_Chile\n",
        "print(C17)"
      ],
      "metadata": {
        "id": "-kCxPkPvNopM"
      },
      "execution_count": null,
      "outputs": []
    },
    {
      "cell_type": "markdown",
      "source": [
        "**Cierre anterior**"
      ],
      "metadata": {
        "id": "ZFeQUI_iNuMs"
      }
    },
    {
      "cell_type": "code",
      "source": [
        "D17=Prueba[\"D17\"] \n",
        "print(D17.value)"
      ],
      "metadata": {
        "id": "TWNEVCrGNutX"
      },
      "execution_count": null,
      "outputs": []
    },
    {
      "cell_type": "code",
      "source": [
        "D17=Prueba[\"D17\"]= Cierre_precio_anterior_indice_Chile\n",
        "print(D16)"
      ],
      "metadata": {
        "id": "d84yp2g4Nu20"
      },
      "execution_count": null,
      "outputs": []
    },
    {
      "cell_type": "markdown",
      "source": [
        "**Cierre a 5 dias**"
      ],
      "metadata": {
        "id": "rcYsMoe0Nxep"
      }
    },
    {
      "cell_type": "code",
      "source": [
        "A17=Prueba[\"A17\"] \n",
        "print(A17.value)"
      ],
      "metadata": {
        "id": "deUJ68eGNyPg"
      },
      "execution_count": null,
      "outputs": []
    },
    {
      "cell_type": "code",
      "source": [
        "A17=Prueba[\"A17\"]= Cierre_precio_anterior5dias_indice_Chile \n",
        "print(A17)"
      ],
      "metadata": {
        "id": "ZomqfPlKNyaP"
      },
      "execution_count": null,
      "outputs": []
    },
    {
      "cell_type": "markdown",
      "source": [
        " **Colombia Nueva Bitacora**"
      ],
      "metadata": {
        "id": "RdQg5orKN8xf"
      }
    },
    {
      "cell_type": "markdown",
      "source": [
        "**Apertura**"
      ],
      "metadata": {
        "id": "ZnrndGEIOSCe"
      }
    },
    {
      "cell_type": "code",
      "source": [
        "C18=Prueba[\"C18\"] \n",
        "print(C18.value)"
      ],
      "metadata": {
        "id": "WGtAuER9OSkp"
      },
      "execution_count": null,
      "outputs": []
    },
    {
      "cell_type": "code",
      "source": [
        "C18=Prueba[\"C18\"]= Apertura_indice_Colombia \n",
        "print(C18)"
      ],
      "metadata": {
        "id": "Ivu2hs4HOStb"
      },
      "execution_count": null,
      "outputs": []
    },
    {
      "cell_type": "markdown",
      "source": [
        "**Cierre anterior**"
      ],
      "metadata": {
        "id": "QyPM-fIuOWOq"
      }
    },
    {
      "cell_type": "code",
      "source": [
        "D18=Prueba[\"D18\"] \n",
        "print(D18.value)"
      ],
      "metadata": {
        "id": "cdiCJXRPOW2h"
      },
      "execution_count": null,
      "outputs": []
    },
    {
      "cell_type": "code",
      "source": [
        "D18=Prueba[\"D18\"]= Cierre_precio_anterior_indice_Colombia\n",
        "print(D18)"
      ],
      "metadata": {
        "id": "aT8vubmTOXBI"
      },
      "execution_count": null,
      "outputs": []
    },
    {
      "cell_type": "markdown",
      "source": [
        "**Cierre a 5 dias**"
      ],
      "metadata": {
        "id": "xj7q1S8aOY0o"
      }
    },
    {
      "cell_type": "code",
      "source": [
        "A18=Prueba[\"A18\"] \n",
        "print(A18.value)"
      ],
      "metadata": {
        "id": "43sXwySxOZR6"
      },
      "execution_count": null,
      "outputs": []
    },
    {
      "cell_type": "code",
      "source": [
        "A18=Prueba[\"A18\"]= Cierre_precio_anterior5dias_indice_Colombia \n",
        "print(A18)"
      ],
      "metadata": {
        "id": "vn0o0u-COZbH"
      },
      "execution_count": null,
      "outputs": []
    },
    {
      "cell_type": "markdown",
      "source": [
        "**Materias Primas -Nueva Bitacora**"
      ],
      "metadata": {
        "id": "jy5uGEC2Rtw1"
      }
    },
    {
      "cell_type": "markdown",
      "source": [
        "**Brent**"
      ],
      "metadata": {
        "id": "9y3ZHXn8STEJ"
      }
    },
    {
      "cell_type": "markdown",
      "source": [
        "**Apertura**"
      ],
      "metadata": {
        "id": "5NESsYFASFG9"
      }
    },
    {
      "cell_type": "code",
      "source": [
        "C25=Prueba[\"c25\"] \n",
        "print(C25.value)"
      ],
      "metadata": {
        "id": "zVPd26YXSPOz"
      },
      "execution_count": null,
      "outputs": []
    },
    {
      "cell_type": "code",
      "source": [
        "C25=Prueba[\"C25\"]= Apertura_brent\n",
        "print(C25)"
      ],
      "metadata": {
        "id": "_1FkZLU1SPZo"
      },
      "execution_count": null,
      "outputs": []
    },
    {
      "cell_type": "markdown",
      "source": [
        "**Cierre anterior**"
      ],
      "metadata": {
        "id": "Z5h4sDSiSMMj"
      }
    },
    {
      "cell_type": "code",
      "source": [
        "D25=Prueba[\"D25\"] \n",
        "print(D25.value)"
      ],
      "metadata": {
        "id": "bfLeS66ySQN0"
      },
      "execution_count": null,
      "outputs": []
    },
    {
      "cell_type": "code",
      "source": [
        "D25=Prueba[\"D25\"]= Cierre_precio_anterior_brent\n",
        "print(D25)"
      ],
      "metadata": {
        "id": "6M6UpDo9SQZO"
      },
      "execution_count": null,
      "outputs": []
    },
    {
      "cell_type": "markdown",
      "source": [
        "**Cierre a 5 dias**"
      ],
      "metadata": {
        "id": "-WSQF2svSOmJ"
      }
    },
    {
      "cell_type": "code",
      "source": [
        "A25=Prueba[\"A25\"] \n",
        "print(A25.value)"
      ],
      "metadata": {
        "id": "xc3Rg8JxSRLZ"
      },
      "execution_count": null,
      "outputs": []
    },
    {
      "cell_type": "code",
      "source": [
        "A25=Prueba[\"A25\"]= Cierre_precio_anterior5dias_brent\n",
        "print(A25)"
      ],
      "metadata": {
        "id": "fRr5hpsFSRWH"
      },
      "execution_count": null,
      "outputs": []
    },
    {
      "cell_type": "markdown",
      "source": [
        "**WTI**"
      ],
      "metadata": {
        "id": "cm63G-HQSX5_"
      }
    },
    {
      "cell_type": "markdown",
      "source": [
        "**Apertura**"
      ],
      "metadata": {
        "id": "cRgu9I3ASfNl"
      }
    },
    {
      "cell_type": "code",
      "source": [
        "C26=Prueba[\"C26\"] \n",
        "print(C26.value)"
      ],
      "metadata": {
        "id": "ZMSg3sLqSava"
      },
      "execution_count": null,
      "outputs": []
    },
    {
      "cell_type": "code",
      "source": [
        "C26=Prueba[\"C26\"]= Apertura_WTI\n",
        "print(C26)"
      ],
      "metadata": {
        "id": "rnHwe_-mSa6-"
      },
      "execution_count": null,
      "outputs": []
    },
    {
      "cell_type": "markdown",
      "source": [
        "**Cierre anterior**"
      ],
      "metadata": {
        "id": "Fz93Q1vwSkk_"
      }
    },
    {
      "cell_type": "code",
      "source": [
        "D26=Prueba[\"D26\"] \n",
        "print(D26.value)"
      ],
      "metadata": {
        "id": "en7LBM90TRGD"
      },
      "execution_count": null,
      "outputs": []
    },
    {
      "cell_type": "code",
      "source": [
        "D26=Prueba[\"D26\"]= Cierre_precio_anterior_WTI\n",
        "print(D26)"
      ],
      "metadata": {
        "id": "OCUxX8w7TRRa"
      },
      "execution_count": null,
      "outputs": []
    },
    {
      "cell_type": "markdown",
      "source": [
        "**Cierre a 5 dias**"
      ],
      "metadata": {
        "id": "V3zhKFIrSnJ2"
      }
    },
    {
      "cell_type": "code",
      "source": [
        "A26=Prueba[\"A26\"] \n",
        "print(A26.value)"
      ],
      "metadata": {
        "id": "VHL1Aci0TR5k"
      },
      "execution_count": null,
      "outputs": []
    },
    {
      "cell_type": "code",
      "source": [
        "A26=Prueba[\"A26\"]= Cierre_precio_anterior5dias_WTI \n",
        "print(A26)"
      ],
      "metadata": {
        "id": "oSjbxJaZTSDx"
      },
      "execution_count": null,
      "outputs": []
    },
    {
      "cell_type": "markdown",
      "source": [
        "**Oro**"
      ],
      "metadata": {
        "id": "WT7ZEa4uSrwD"
      }
    },
    {
      "cell_type": "markdown",
      "source": [
        "**Apertura**"
      ],
      "metadata": {
        "id": "QhQRwFquSxfK"
      }
    },
    {
      "cell_type": "code",
      "source": [
        "C28=Prueba[\"C28\"] \n",
        "print(C28.value)"
      ],
      "metadata": {
        "id": "Mo3nBmnZS1rz"
      },
      "execution_count": null,
      "outputs": []
    },
    {
      "cell_type": "code",
      "source": [
        "C28=Prueba[\"C28\"]= Apertura_oro\n",
        "print(C28)"
      ],
      "metadata": {
        "id": "ASjhnt_mS14H"
      },
      "execution_count": null,
      "outputs": []
    },
    {
      "cell_type": "markdown",
      "source": [
        "**Cierre anterior**"
      ],
      "metadata": {
        "id": "Kss75ileSzJN"
      }
    },
    {
      "cell_type": "code",
      "source": [
        "D28=Prueba[\"D28\"] \n",
        "print(D28.value)"
      ],
      "metadata": {
        "id": "U4pnh4gdS2ej"
      },
      "execution_count": null,
      "outputs": []
    },
    {
      "cell_type": "code",
      "source": [
        "D28=Prueba[\"D28\"]= Cierre_precio_anterior_oro\n",
        "print(D28)"
      ],
      "metadata": {
        "id": "EM9ndw5TS2on"
      },
      "execution_count": null,
      "outputs": []
    },
    {
      "cell_type": "markdown",
      "source": [
        "**Cierre a 5 dias**"
      ],
      "metadata": {
        "id": "8KMf-BayS0zc"
      }
    },
    {
      "cell_type": "code",
      "source": [
        "A28=Prueba[\"A28\"] \n",
        "print(A28.value)"
      ],
      "metadata": {
        "id": "mfYnB7uWS3eT"
      },
      "execution_count": null,
      "outputs": []
    },
    {
      "cell_type": "code",
      "source": [
        "A28=Prueba[\"A28\"]= Cierre_precio_anterior5dias_oro\n",
        "print(A28)"
      ],
      "metadata": {
        "id": "iACugrcQS3og"
      },
      "execution_count": null,
      "outputs": []
    },
    {
      "cell_type": "markdown",
      "source": [
        "**Cobre**"
      ],
      "metadata": {
        "id": "XPFjcCqhTi23"
      }
    },
    {
      "cell_type": "markdown",
      "source": [
        "**Apertura**"
      ],
      "metadata": {
        "id": "tnWRX-0aTn3G"
      }
    },
    {
      "cell_type": "code",
      "source": [
        "C29=Prueba[\"C29\"]= Apertura_cobre\n",
        "print(C29)"
      ],
      "metadata": {
        "id": "jyPR8WPATscX"
      },
      "execution_count": null,
      "outputs": []
    },
    {
      "cell_type": "markdown",
      "source": [
        "**Cierre anterior**"
      ],
      "metadata": {
        "id": "sOTXRFZHTpoN"
      }
    },
    {
      "cell_type": "code",
      "source": [
        "D29=Prueba[\"D29\"]= Cierre_precio_anterior_cobre\n",
        "print(D29)"
      ],
      "metadata": {
        "id": "GKujuLTNTtaQ"
      },
      "execution_count": null,
      "outputs": []
    },
    {
      "cell_type": "markdown",
      "source": [
        "**Cierre a 5 dias**"
      ],
      "metadata": {
        "id": "BWp-mnVaTrKQ"
      }
    },
    {
      "cell_type": "code",
      "source": [
        "A29=Prueba[\"A29\"]= Cierre_precio_anterior5dias_Cobre\n",
        "print(A29)"
      ],
      "metadata": {
        "id": "BZ0Qbue2TuVZ"
      },
      "execution_count": null,
      "outputs": []
    },
    {
      "cell_type": "markdown",
      "source": [
        "**Maiz**"
      ],
      "metadata": {
        "id": "9-FVz-vKTwBj"
      }
    },
    {
      "cell_type": "markdown",
      "source": [
        "**Apertura**"
      ],
      "metadata": {
        "id": "_smumr1-T-Uv"
      }
    },
    {
      "cell_type": "code",
      "source": [
        "C31=Prueba[\"C31\"]= Apertura_Maiz\n",
        "print(C31)"
      ],
      "metadata": {
        "id": "2WzechxMT_gl"
      },
      "execution_count": null,
      "outputs": []
    },
    {
      "cell_type": "markdown",
      "source": [
        "**Cierre anterior**"
      ],
      "metadata": {
        "id": "ya42f1FsUB0Q"
      }
    },
    {
      "cell_type": "code",
      "source": [
        "D31=Prueba[\"D31\"]= Cierre_precio_anterior_Maiz\n",
        "print(D31)"
      ],
      "metadata": {
        "id": "v090_saHUC8b"
      },
      "execution_count": null,
      "outputs": []
    },
    {
      "cell_type": "markdown",
      "source": [
        "**Cierre a 5 dias**"
      ],
      "metadata": {
        "id": "yEqtDawhUFHs"
      }
    },
    {
      "cell_type": "code",
      "source": [
        "A31=Prueba[\"A31\"]= Cierre_precio_anterior5dias_Maiz\n",
        "print(A31)"
      ],
      "metadata": {
        "id": "mPqp4FmPUGds"
      },
      "execution_count": null,
      "outputs": []
    },
    {
      "cell_type": "markdown",
      "source": [
        "**Soja**"
      ],
      "metadata": {
        "id": "w0pczoIRUG8M"
      }
    },
    {
      "cell_type": "markdown",
      "source": [
        "**Apertura**"
      ],
      "metadata": {
        "id": "SmLldKqAUQLH"
      }
    },
    {
      "cell_type": "code",
      "source": [
        "C32=Prueba[\"C32\"]= Apertura_soja \n",
        "print(C32)"
      ],
      "metadata": {
        "id": "faoi7stDUUqF"
      },
      "execution_count": null,
      "outputs": []
    },
    {
      "cell_type": "markdown",
      "source": [
        "**Cierre anterior**"
      ],
      "metadata": {
        "id": "T4HAQX3uUSlP"
      }
    },
    {
      "cell_type": "code",
      "source": [
        "D32=Prueba[\"D32\"]= Cierre_precio_anterior_soja\n",
        "print(D32)"
      ],
      "metadata": {
        "id": "u1CZ5cBZUVkn"
      },
      "execution_count": null,
      "outputs": []
    },
    {
      "cell_type": "markdown",
      "source": [
        "**Cierre a 5 dias**"
      ],
      "metadata": {
        "id": "Msc53_Y0UUIl"
      }
    },
    {
      "cell_type": "code",
      "source": [
        "A32=Prueba[\"A32\"]= Cierre_precio_anterior5dias_soja\n",
        "print(A32)"
      ],
      "metadata": {
        "id": "c6jHiPd0UWVE"
      },
      "execution_count": null,
      "outputs": []
    },
    {
      "cell_type": "markdown",
      "source": [
        "**Cafe**"
      ],
      "metadata": {
        "id": "ci9r6TxfUYWI"
      }
    },
    {
      "cell_type": "markdown",
      "source": [
        "**Apertura**"
      ],
      "metadata": {
        "id": "iTocSozkUe9E"
      }
    },
    {
      "cell_type": "code",
      "source": [
        "C33=Prueba[\"C33\"]= Apertura_Cafe/100\n",
        "print(C33)"
      ],
      "metadata": {
        "id": "8vlAj_WrUip0"
      },
      "execution_count": null,
      "outputs": []
    },
    {
      "cell_type": "markdown",
      "source": [
        "**Cierre anterior**"
      ],
      "metadata": {
        "id": "3Ba146gzUgoZ"
      }
    },
    {
      "cell_type": "code",
      "source": [
        "D33=Prueba[\"D33\"]= Cierre_precio_anterior_Cafe/100\n",
        "print(D33)"
      ],
      "metadata": {
        "id": "wiN-KvLhUjoN"
      },
      "execution_count": null,
      "outputs": []
    },
    {
      "cell_type": "markdown",
      "source": [
        "**Cierre a 5 dias**"
      ],
      "metadata": {
        "id": "RA85KnYTUiHp"
      }
    },
    {
      "cell_type": "code",
      "source": [
        "A33=Prueba[\"A33\"]= Cierre_precio_anterior5dias_Cafe/100\n",
        "print(A33)"
      ],
      "metadata": {
        "id": "_wgZxWw3Ukab"
      },
      "execution_count": null,
      "outputs": []
    },
    {
      "cell_type": "markdown",
      "source": [
        "**Azucar**"
      ],
      "metadata": {
        "id": "YND7NnB-UogQ"
      }
    },
    {
      "cell_type": "markdown",
      "source": [
        "**Apertura**"
      ],
      "metadata": {
        "id": "Exn3rDk5Uyi-"
      }
    },
    {
      "cell_type": "code",
      "source": [
        "C34=Prueba[\"C34\"]= Apertura_Azucar\n",
        "print(C34)"
      ],
      "metadata": {
        "id": "SFZ_hPBZU14F"
      },
      "execution_count": null,
      "outputs": []
    },
    {
      "cell_type": "markdown",
      "source": [
        "**Cierre anterior**"
      ],
      "metadata": {
        "id": "7uzKhYvWUz0r"
      }
    },
    {
      "cell_type": "code",
      "source": [
        "D34=Prueba[\"D34\"]= Cierre_precio_anterior_Azucar\n",
        "print(D34)"
      ],
      "metadata": {
        "id": "24ygrLH0U2V8"
      },
      "execution_count": null,
      "outputs": []
    },
    {
      "cell_type": "markdown",
      "source": [
        "**Cierre a 5 dias**"
      ],
      "metadata": {
        "id": "CPgFBVHAU1K8"
      }
    },
    {
      "cell_type": "code",
      "source": [
        "A34=Prueba[\"A34\"]= Cierre_precio_anterior5dias_Azucar\n",
        "print(A34)"
      ],
      "metadata": {
        "id": "-2IIwihJU3Fs"
      },
      "execution_count": null,
      "outputs": []
    },
    {
      "cell_type": "markdown",
      "source": [
        "**Renta Fija**"
      ],
      "metadata": {
        "id": "vSOUAZmiU6Wo"
      }
    },
    {
      "cell_type": "markdown",
      "source": [
        "**EE.UU**"
      ],
      "metadata": {
        "id": "BveO6bIaU-BB"
      }
    },
    {
      "cell_type": "markdown",
      "source": [
        "**Apertura**"
      ],
      "metadata": {
        "id": "8r_9GQVpVIGA"
      }
    },
    {
      "cell_type": "code",
      "source": [
        "k6 =Prueba[\"k6\"]= Apertura_Estados_unidos/100\n",
        "print(k6)"
      ],
      "metadata": {
        "id": "GLRUushjVIyg"
      },
      "execution_count": null,
      "outputs": []
    },
    {
      "cell_type": "markdown",
      "source": [
        "**Cierre anterior**"
      ],
      "metadata": {
        "id": "1V4AhiMlVKn2"
      }
    },
    {
      "cell_type": "code",
      "source": [
        "l6=Prueba[\"l6\"]= Cierre_precio_anterior_Estados_unidos/100\n",
        "print(l6)"
      ],
      "metadata": {
        "id": "MNcwRDG8VMZj"
      },
      "execution_count": null,
      "outputs": []
    },
    {
      "cell_type": "markdown",
      "source": [
        "**Cierre a 5 dias**"
      ],
      "metadata": {
        "id": "5obPzWJIVMrF"
      }
    },
    {
      "cell_type": "code",
      "source": [
        "q6=Prueba[\"q6\"]= Cierre_precio_anterior5dias_Estados_unidos/100\n",
        "print(q6)"
      ],
      "metadata": {
        "id": "YLhgZHciVNe7"
      },
      "execution_count": null,
      "outputs": []
    },
    {
      "cell_type": "markdown",
      "source": [
        "**Alemania**"
      ],
      "metadata": {
        "id": "ZYBJMG6kVOM8"
      }
    },
    {
      "cell_type": "markdown",
      "source": [
        "**Apertura**"
      ],
      "metadata": {
        "id": "Be_0MDoXVarl"
      }
    },
    {
      "cell_type": "code",
      "source": [
        "k7=Prueba[\"k7\"]= Apertura_Alemania/100\n",
        "print(k7)"
      ],
      "metadata": {
        "id": "CvNUOZYOVdwo"
      },
      "execution_count": null,
      "outputs": []
    },
    {
      "cell_type": "markdown",
      "source": [
        "**Cierre anterior**"
      ],
      "metadata": {
        "id": "7lkZR6ElVb2X"
      }
    },
    {
      "cell_type": "code",
      "source": [
        "l7=Prueba[\"l7\"]= Cierre_precio_anterior_Alemania/100\n",
        "print(l7)"
      ],
      "metadata": {
        "id": "r-mx0ztHVee8"
      },
      "execution_count": null,
      "outputs": []
    },
    {
      "cell_type": "markdown",
      "source": [
        "**Cierre a 5 dias**"
      ],
      "metadata": {
        "id": "mClhneOGVdNS"
      }
    },
    {
      "cell_type": "code",
      "source": [
        "q7=Prueba[\"q7\"]= Cierre_precio_anterior5dias_Alemania/100\n",
        "print(q7)"
      ],
      "metadata": {
        "id": "yWHlw3LDVfFi"
      },
      "execution_count": null,
      "outputs": []
    },
    {
      "cell_type": "markdown",
      "source": [
        "**Reino Unido**"
      ],
      "metadata": {
        "id": "GFSZzfmWVhQR"
      }
    },
    {
      "cell_type": "markdown",
      "source": [
        "**Apertura**"
      ],
      "metadata": {
        "id": "NK9ZXMxbVltm"
      }
    },
    {
      "cell_type": "code",
      "source": [
        "K8=Prueba[\"k8\"]= Apertura_Reino_unido/100\n",
        "print(K8)"
      ],
      "metadata": {
        "id": "2bmDa48fVpM2"
      },
      "execution_count": null,
      "outputs": []
    },
    {
      "cell_type": "markdown",
      "source": [
        "**Cierre anterior**"
      ],
      "metadata": {
        "id": "3LVzvoy_VnNz"
      }
    },
    {
      "cell_type": "code",
      "source": [
        "l8=Prueba[\"l8\"]= Cierre_precio_anterior_Reino_unido/100\n",
        "print(l8)"
      ],
      "metadata": {
        "id": "3BJY94flVp8m"
      },
      "execution_count": null,
      "outputs": []
    },
    {
      "cell_type": "markdown",
      "source": [
        "**Cierre a 5 dias**"
      ],
      "metadata": {
        "id": "Hfb5NsnlVocx"
      }
    },
    {
      "cell_type": "code",
      "source": [
        "q8=Prueba[\"q8\"]= Cierre_precio_anterior5dias_Reino_unido/100\n",
        "print(q8)"
      ],
      "metadata": {
        "id": "VJ0DwvHxVkPl"
      },
      "execution_count": null,
      "outputs": []
    },
    {
      "cell_type": "markdown",
      "source": [
        "**Francia**"
      ],
      "metadata": {
        "id": "zlDLjcfeVq_9"
      }
    },
    {
      "cell_type": "markdown",
      "source": [
        "**Apertura**"
      ],
      "metadata": {
        "id": "u0qcfSWUV0he"
      }
    },
    {
      "cell_type": "code",
      "source": [
        "K9=Prueba[\"k9\"]= Apertura_Francia/100\n",
        "print(K9)"
      ],
      "metadata": {
        "id": "wSnOM2N2V37W"
      },
      "execution_count": null,
      "outputs": []
    },
    {
      "cell_type": "markdown",
      "source": [
        "**Cierre anterior**"
      ],
      "metadata": {
        "id": "o6ehN4xyV11W"
      }
    },
    {
      "cell_type": "code",
      "source": [
        "l9=Prueba[\"l9\"]= Cierre_precio_anterior_Francia/100\n",
        "print(l9)"
      ],
      "metadata": {
        "id": "pTLCrYFlV4hg"
      },
      "execution_count": null,
      "outputs": []
    },
    {
      "cell_type": "markdown",
      "source": [
        "**Cierre a 5 dias**"
      ],
      "metadata": {
        "id": "b6QYexuXV3R0"
      }
    },
    {
      "cell_type": "code",
      "source": [
        "q9=Prueba[\"q9\"]= Cierre_precio_anterior5dias_Francia/100\n",
        "print(q9)"
      ],
      "metadata": {
        "id": "EEvWe5cYV5HX"
      },
      "execution_count": null,
      "outputs": []
    },
    {
      "cell_type": "markdown",
      "source": [
        "**Italia**"
      ],
      "metadata": {
        "id": "pGpPanF6V-IS"
      }
    },
    {
      "cell_type": "markdown",
      "source": [
        "**Apertura**"
      ],
      "metadata": {
        "id": "jyGAj_2UWB0P"
      }
    },
    {
      "cell_type": "code",
      "source": [
        "k10=Prueba[\"k10\"]= Apertura_Italia/100\n",
        "print(k10)"
      ],
      "metadata": {
        "id": "0_0o80mPWFPu"
      },
      "execution_count": null,
      "outputs": []
    },
    {
      "cell_type": "markdown",
      "source": [
        "**Cierre anterior**"
      ],
      "metadata": {
        "id": "wYQ3IW9bWDBT"
      }
    },
    {
      "cell_type": "code",
      "source": [
        "l10=Prueba[\"l10\"]= Cierre_precio_anterior_Italia/100\n",
        "print(l10)"
      ],
      "metadata": {
        "id": "QrsG3fPHWF5i"
      },
      "execution_count": null,
      "outputs": []
    },
    {
      "cell_type": "markdown",
      "source": [
        "**Cierre a 5 dias**"
      ],
      "metadata": {
        "id": "8A1eBDx1WEUI"
      }
    },
    {
      "cell_type": "code",
      "source": [
        "q10=Prueba[\"q10\"]= Cierre_precio_anterior5dias_Italia/100\n",
        "print(q10)"
      ],
      "metadata": {
        "id": "fNkvqxLMWGce"
      },
      "execution_count": null,
      "outputs": []
    },
    {
      "cell_type": "markdown",
      "source": [
        "**Japon**"
      ],
      "metadata": {
        "id": "Rq4BaLi8WIIE"
      }
    },
    {
      "cell_type": "markdown",
      "source": [
        "**Apertura**"
      ],
      "metadata": {
        "id": "dPZy7eNTWMU3"
      }
    },
    {
      "cell_type": "code",
      "source": [
        "k11=Prueba[\"k11\"]= Apertura_Japon/100\n",
        "print(k11)"
      ],
      "metadata": {
        "id": "Z7rwQSIYWQZv"
      },
      "execution_count": null,
      "outputs": []
    },
    {
      "cell_type": "markdown",
      "source": [
        "**Cierre anterior**"
      ],
      "metadata": {
        "id": "Y9K7sCG7WNnG"
      }
    },
    {
      "cell_type": "code",
      "source": [
        "l11=Prueba[\"l11\"]= Cierre_precio_anterior_Japon/100\n",
        "print(l11)"
      ],
      "metadata": {
        "id": "ukzR5wzaWRPK"
      },
      "execution_count": null,
      "outputs": []
    },
    {
      "cell_type": "markdown",
      "source": [
        "**Cierre a 5 dias**"
      ],
      "metadata": {
        "id": "mbNUQwKyWPCr"
      }
    },
    {
      "cell_type": "code",
      "source": [
        "q11=Prueba[\"q11\"]= Cierre_precio_anterior5dias_Japon/100\n",
        "print(q11)"
      ],
      "metadata": {
        "id": "SQfw9x7JWSOK"
      },
      "execution_count": null,
      "outputs": []
    },
    {
      "cell_type": "markdown",
      "source": [
        "**Brazil**"
      ],
      "metadata": {
        "id": "mLsL0iQnWWlF"
      }
    },
    {
      "cell_type": "markdown",
      "source": [
        "**Apertura**"
      ],
      "metadata": {
        "id": "KQpH4q6fWac9"
      }
    },
    {
      "cell_type": "code",
      "source": [
        "k13=Prueba[\"k13\"]= Apertura_Brazil/100\n",
        "print(k13)"
      ],
      "metadata": {
        "id": "ui0vWFMIWdxV"
      },
      "execution_count": null,
      "outputs": []
    },
    {
      "cell_type": "markdown",
      "source": [
        "**Cierre anterior**"
      ],
      "metadata": {
        "id": "vtpOi-8-Wb6x"
      }
    },
    {
      "cell_type": "code",
      "source": [
        "l13=Prueba[\"l13\"]= Cierre_precio_anterior_Brazil/100\n",
        "print(l13)"
      ],
      "metadata": {
        "id": "4R_iXmigWeQ8"
      },
      "execution_count": null,
      "outputs": []
    },
    {
      "cell_type": "markdown",
      "source": [
        "**Cierre a 5 dias**"
      ],
      "metadata": {
        "id": "X9G2m4dVWdQY"
      }
    },
    {
      "cell_type": "code",
      "source": [
        "q13=Prueba[\"q13\"]= Cierre_precio_anterior5dias_Brazil/100\n",
        "print(q13)"
      ],
      "metadata": {
        "id": "TEu_oLEXWYcm"
      },
      "execution_count": null,
      "outputs": []
    },
    {
      "cell_type": "markdown",
      "source": [
        "**Mexico**"
      ],
      "metadata": {
        "id": "yXTWROY6Wf-t"
      }
    },
    {
      "cell_type": "markdown",
      "source": [
        "**Apertura**"
      ],
      "metadata": {
        "id": "kgGJRI13WjEs"
      }
    },
    {
      "cell_type": "code",
      "source": [
        "k14=Prueba[\"k14\"]= Apertura_Mexico/100\n",
        "print(k14)"
      ],
      "metadata": {
        "id": "NYMjkog5WmJm"
      },
      "execution_count": null,
      "outputs": []
    },
    {
      "cell_type": "markdown",
      "source": [
        "**Cierre anterior**"
      ],
      "metadata": {
        "id": "iSTnIz5YWkVD"
      }
    },
    {
      "cell_type": "code",
      "source": [
        "l14=Prueba[\"l14\"]= Cierre_precio_anterior_Mexico/100\n",
        "print(l14)"
      ],
      "metadata": {
        "id": "_aXUjG1-Wmzd"
      },
      "execution_count": null,
      "outputs": []
    },
    {
      "cell_type": "markdown",
      "source": [
        "**Cierre a 5 dias**"
      ],
      "metadata": {
        "id": "e_q9NPtFWllJ"
      }
    },
    {
      "cell_type": "code",
      "source": [
        "q14=Prueba[\"q14\"]= Cierre_precio_anterior5dias_Mexico/100\n",
        "print(q14)"
      ],
      "metadata": {
        "id": "ZvSA49wsWnUv"
      },
      "execution_count": null,
      "outputs": []
    },
    {
      "cell_type": "markdown",
      "source": [
        "**Chile**"
      ],
      "metadata": {
        "id": "-EtdPAKBWoIT"
      }
    },
    {
      "cell_type": "markdown",
      "source": [
        "**Apertura**"
      ],
      "metadata": {
        "id": "h1MZVQmVWsr7"
      }
    },
    {
      "cell_type": "code",
      "source": [
        "k15=Prueba[\"k15\"]= Apertura_Chile/100\n",
        "print(k15)"
      ],
      "metadata": {
        "id": "11LdLXN3WwF9"
      },
      "execution_count": null,
      "outputs": []
    },
    {
      "cell_type": "markdown",
      "source": [
        "**Cierre anterior**"
      ],
      "metadata": {
        "id": "ocekAXsgWt2x"
      }
    },
    {
      "cell_type": "code",
      "source": [
        "l15=Prueba[\"l15\"]= Cierre_precio_anterior_Chile/100\n",
        "print(l15)"
      ],
      "metadata": {
        "id": "dz_tkpn0WwwD"
      },
      "execution_count": null,
      "outputs": []
    },
    {
      "cell_type": "markdown",
      "source": [
        "**Cierre a 5 dias**"
      ],
      "metadata": {
        "id": "wKi6NSpesAuX"
      }
    },
    {
      "cell_type": "code",
      "source": [
        "q15=Prueba[\"q15\"]= Cierre_precio_anterior5dias_Chile/100\n",
        "print(q15)"
      ],
      "metadata": {
        "id": "5XFMzXKDsBYG"
      },
      "execution_count": null,
      "outputs": []
    },
    {
      "cell_type": "markdown",
      "source": [
        "**Argentina**"
      ],
      "metadata": {
        "id": "3mh4StMQW3US"
      }
    },
    {
      "cell_type": "markdown",
      "source": [
        "**Apertura**"
      ],
      "metadata": {
        "id": "9s8YZeI8W7aO"
      }
    },
    {
      "cell_type": "code",
      "source": [
        "k16=Prueba[\"k16\"]= Apertura_Argentina/100\n",
        "print(k16)"
      ],
      "metadata": {
        "id": "quclovVRW___"
      },
      "execution_count": null,
      "outputs": []
    },
    {
      "cell_type": "markdown",
      "source": [
        "**Cierre anterior**"
      ],
      "metadata": {
        "id": "7FIkoE00W8ab"
      }
    },
    {
      "cell_type": "code",
      "source": [
        "l16=Prueba[\"l16\"]= Cierre_precio_anterior_Argentina/100\n",
        "print(l16)"
      ],
      "metadata": {
        "id": "2UtkOUMVW2q5"
      },
      "execution_count": null,
      "outputs": []
    },
    {
      "cell_type": "markdown",
      "source": [
        "**Cierre a 5 dias**"
      ],
      "metadata": {
        "id": "BMIg1ZL3XK4N"
      }
    },
    {
      "cell_type": "code",
      "source": [
        "q16=Prueba[\"q16\"]= Cierre_precio_anterior5dias_Argentina/100\n",
        "print(q16)"
      ],
      "metadata": {
        "id": "zSVYAaL5XQK6"
      },
      "execution_count": null,
      "outputs": []
    },
    {
      "cell_type": "markdown",
      "source": [
        "**Colombia**"
      ],
      "metadata": {
        "id": "t4bqgt_bXBCH"
      }
    },
    {
      "cell_type": "markdown",
      "source": [
        "**Apertura**"
      ],
      "metadata": {
        "id": "t99LG3EOXM5Z"
      }
    },
    {
      "cell_type": "code",
      "source": [
        "k17=Prueba[\"k17\"]= Apertura_Colombia/100\n",
        "print(k17)"
      ],
      "metadata": {
        "id": "QxNWm8o8XSwH"
      },
      "execution_count": null,
      "outputs": []
    },
    {
      "cell_type": "markdown",
      "source": [
        "**Cierre anterior**"
      ],
      "metadata": {
        "id": "hS9x3Gz7XOZc"
      }
    },
    {
      "cell_type": "code",
      "source": [
        "l27=Prueba[\"l17\"]= Cierre_precio_anterior_Colombia/100\n",
        "print(l27)"
      ],
      "metadata": {
        "id": "lacJoTnWXTZG"
      },
      "execution_count": null,
      "outputs": []
    },
    {
      "cell_type": "markdown",
      "source": [
        "**Cierre a 5 dias**"
      ],
      "metadata": {
        "id": "tNN8Ex99XSBL"
      }
    },
    {
      "cell_type": "code",
      "source": [
        "q17=Prueba[\"q17\"]= Cierre_precio_anterior5dias_Colombia/100\n",
        "print(q17)"
      ],
      "metadata": {
        "id": "DjOHGWvKXUMn"
      },
      "execution_count": null,
      "outputs": []
    },
    {
      "cell_type": "markdown",
      "source": [
        "**Peru**"
      ],
      "metadata": {
        "id": "dyACtg4RXWDP"
      }
    },
    {
      "cell_type": "markdown",
      "source": [
        "**Apertura**"
      ],
      "metadata": {
        "id": "2fK-jpryXcos"
      }
    },
    {
      "cell_type": "code",
      "source": [
        "k18=Prueba[\"k18\"]= Apertura_Peru/100\n",
        "print(k18)"
      ],
      "metadata": {
        "id": "Pnqi1KGBXgUE"
      },
      "execution_count": null,
      "outputs": []
    },
    {
      "cell_type": "markdown",
      "source": [
        "**Cierre anterior**"
      ],
      "metadata": {
        "id": "VfDBugiiXd7A"
      }
    },
    {
      "cell_type": "code",
      "source": [
        "l18=Prueba[\"l18\"]= Cierre_precio_anterior_Peru/100\n",
        "print(l18)"
      ],
      "metadata": {
        "id": "2OSZh5rdXg4_"
      },
      "execution_count": null,
      "outputs": []
    },
    {
      "cell_type": "markdown",
      "source": [
        "**Cierre a 5 dias**"
      ],
      "metadata": {
        "id": "xgYgAMq7Xfn4"
      }
    },
    {
      "cell_type": "code",
      "source": [
        "q18=Prueba[\"q18\"]= Cierre_precio_anterior5dias_Peru/100\n",
        "print(q18)"
      ],
      "metadata": {
        "id": "v2w1pCCIXhsX"
      },
      "execution_count": null,
      "outputs": []
    },
    {
      "cell_type": "markdown",
      "source": [
        "**Dolar**"
      ],
      "metadata": {
        "id": "HbBUYYIaXs7w"
      }
    },
    {
      "cell_type": "markdown",
      "source": [
        "**Apertura**"
      ],
      "metadata": {
        "id": "ohbp36BRXx4G"
      }
    },
    {
      "cell_type": "code",
      "source": [
        "k25=Prueba[\"k25\"]= Apertura_Dolar\n",
        "print(k25)"
      ],
      "metadata": {
        "id": "eFsNb_NnX8Wt"
      },
      "execution_count": null,
      "outputs": []
    },
    {
      "cell_type": "markdown",
      "source": [
        "**Cierre anterior**"
      ],
      "metadata": {
        "id": "C3gvSMacXzVy"
      }
    },
    {
      "cell_type": "code",
      "source": [
        "l25=Prueba[\"l25\"]= Cierre_precio_anterior_Dolar\n",
        "print(l25)"
      ],
      "metadata": {
        "id": "lDFuGITNX85A"
      },
      "execution_count": null,
      "outputs": []
    },
    {
      "cell_type": "markdown",
      "source": [
        "**Cierre a 5 dias**"
      ],
      "metadata": {
        "id": "5_iival1X01d"
      }
    },
    {
      "cell_type": "code",
      "source": [
        "q25=Prueba[\"q25\"]= Cierre_precio_anterior5dias_Dolar \n",
        "print(q25)"
      ],
      "metadata": {
        "id": "kPH9cr8MX9X4"
      },
      "execution_count": null,
      "outputs": []
    },
    {
      "cell_type": "markdown",
      "source": [
        "**Euro**"
      ],
      "metadata": {
        "id": "PqW9fg9SX13X"
      }
    },
    {
      "cell_type": "markdown",
      "source": [
        "**Apertura**"
      ],
      "metadata": {
        "id": "TqvudrYIX5Gv"
      }
    },
    {
      "cell_type": "code",
      "source": [
        "k26=Prueba[\"k26\"]= Apertura_Euro\n",
        "print(k26)"
      ],
      "metadata": {
        "id": "ZencNE-HX97Q"
      },
      "execution_count": null,
      "outputs": []
    },
    {
      "cell_type": "markdown",
      "source": [
        "**Cierre anterior**"
      ],
      "metadata": {
        "id": "Uf8ERAPAX6a_"
      }
    },
    {
      "cell_type": "code",
      "source": [
        "l26=Prueba[\"l26\"]= Cierre_precio_anterior_Euro\n",
        "print(l26)"
      ],
      "metadata": {
        "id": "CZ1JmdkUX-yo"
      },
      "execution_count": null,
      "outputs": []
    },
    {
      "cell_type": "markdown",
      "source": [
        "**Cierre a 5 dias**"
      ],
      "metadata": {
        "id": "irZu1Oj-X7wL"
      }
    },
    {
      "cell_type": "code",
      "source": [
        "q26=Prueba[\"q26\"]= Cierre_precio_anterior5dias_Euro\n",
        "print(q26)"
      ],
      "metadata": {
        "id": "--k1-VsLX_XI"
      },
      "execution_count": null,
      "outputs": []
    },
    {
      "cell_type": "code",
      "source": [
        "Nueva_bitacora_py.save(\"Nueva bitacora.xlsx\")"
      ],
      "metadata": {
        "id": "AhOKH9NegyV7"
      },
      "execution_count": null,
      "outputs": []
    }
  ]
}
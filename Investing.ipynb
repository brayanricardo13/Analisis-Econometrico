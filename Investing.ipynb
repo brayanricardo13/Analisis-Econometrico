{
  "nbformat": 4,
  "nbformat_minor": 0,
  "metadata": {
    "colab": {
      "name": "Investing",
      "provenance": [],
      "collapsed_sections": [
        "AtDkHPKWgbnr",
        "Cga03zaN4XPn"
      ],
      "toc_visible": true,
      "authorship_tag": "ABX9TyOsJi2+9qAZEde4+sawGmt6",
      "include_colab_link": true
    },
    "kernelspec": {
      "name": "python3",
      "display_name": "Python 3"
    },
    "language_info": {
      "name": "python"
    }
  },
  "cells": [
    {
      "cell_type": "markdown",
      "metadata": {
        "id": "view-in-github",
        "colab_type": "text"
      },
      "source": [
        "<a href=\"https://colab.research.google.com/github/brayanricardo13/Analisis-Econometrico/blob/main/Investing.ipynb\" target=\"_parent\"><img src=\"https://colab.research.google.com/assets/colab-badge.svg\" alt=\"Open In Colab\"/></a>"
      ]
    },
    {
      "cell_type": "code",
      "metadata": {
        "id": "QVWLUVn2wJWP"
      },
      "source": [
        "pip install investpy # tarea TradingView-TA , # yfinance "
      ],
      "execution_count": null,
      "outputs": []
    },
    {
      "cell_type": "code",
      "source": [
        " pip install yfinance"
      ],
      "metadata": {
        "id": "KAH6rQdYtZSi"
      },
      "execution_count": null,
      "outputs": []
    },
    {
      "cell_type": "code",
      "metadata": {
        "id": "CHNGAVDnwTMj"
      },
      "source": [
        "import investpy as inv\n",
        "import pandas as pd # Dataframe\n",
        "import matplotlib.pyplot as plt # Estadistica descriptiva y graficos \n",
        "import seaborn as sns # Diagrama de correlaccciones \n",
        "from openpyxl import workbook   # leer excel \n",
        "from openpyxl import load_workbook # leer excel \n",
        "import statsmodels.formula.api as smf # Regresion multiple\n",
        "import yfinance as yf # yahoo finance\n",
        "import pandas_datareader.data as wb # Reserva Federal \n",
        "import smtplib # Enviar correos por python"
      ],
      "execution_count": null,
      "outputs": []
    },
    {
      "cell_type": "code",
      "metadata": {
        "id": "E7jx7UfKBceV"
      },
      "source": [
        "from google.colab import files # Descargar archivos Excel "
      ],
      "execution_count": null,
      "outputs": []
    },
    {
      "cell_type": "markdown",
      "source": [
        "# **Extraccion de datos**"
      ],
      "metadata": {
        "id": "6OFuLQbgaHr7"
      }
    },
    {
      "cell_type": "code",
      "source": [
        "# Calendario\n",
        "lista_paises =  [\"united states\",\"Brazil\",\"germany\",'euro zone',\"colombia\",\"china\"]\n",
        "Importancia = [\"high\",\"medium\"]\n",
        "Calendario = inv.economic_calendar(\"GMT +5:30\",countries= lista_paises, importances= Importancia)\n",
        "Calendario.head()"
      ],
      "metadata": {
        "id": "7v2T3UNOi7sq"
      },
      "execution_count": null,
      "outputs": []
    },
    {
      "cell_type": "markdown",
      "metadata": {
        "id": "l9vXtOsgYR8m"
      },
      "source": [
        "**Futuros de indices renta variable**"
      ]
    },
    {
      "cell_type": "markdown",
      "metadata": {
        "id": "xG4KMGTDCEqC"
      },
      "source": [
        "**Dow Jones**"
      ]
    },
    {
      "cell_type": "code",
      "metadata": {
        "id": "YF3rdzW2v9dH"
      },
      "source": [
        "inv.get_indices_list(\"united states\")"
      ],
      "execution_count": null,
      "outputs": []
    },
    {
      "cell_type": "code",
      "metadata": {
        "id": "1dUthN5S-IZO"
      },
      "source": [
        "dow_jones=inv.search_quotes(text='dow jones', products=['indices'],countries=['united states'], n_results=1)\n",
        "print(dow_jones)"
      ],
      "execution_count": null,
      "outputs": []
    },
    {
      "cell_type": "code",
      "source": [
        "Dow_Jones= inv.get_index_recent_data(\"Dow 30\",country=\"united states\")\n",
        "Dow_Jones_Industrial= Dow_Jones[[\"Close\",\"Open\"]].tail()\n",
        "print(Dow_Jones_Industrial)"
      ],
      "metadata": {
        "id": "Zd3CtzkF40s3"
      },
      "execution_count": null,
      "outputs": []
    },
    {
      "cell_type": "code",
      "source": [
        "Apertura_indice_Dow_Jones_Industrial = (Dow_Jones_Industrial.iat[4,1])#Este comando esta extraer un valor especifico de un dataframe\n",
        "print(Apertura_indice_Dow_Jones_Industrial)"
      ],
      "metadata": {
        "id": "jYVOV3r_7I0i"
      },
      "execution_count": null,
      "outputs": []
    },
    {
      "cell_type": "code",
      "source": [
        "Cierre_precio_anterior_Dow_Jones_Industrial = Dow_Jones_Industrial.iat[3,0]\n",
        "print(Cierre_precio_anterior_Dow_Jones_Industrial)"
      ],
      "metadata": {
        "id": "vwgKhJJd7JAQ"
      },
      "execution_count": null,
      "outputs": []
    },
    {
      "cell_type": "code",
      "source": [
        "Cierre_precio_anterior5dias_Dow_Jones_Industrial= Dow_Jones_Industrial.iat[0,0]\n",
        "print(Cierre_precio_anterior5dias_Dow_Jones_Industrial)"
      ],
      "metadata": {
        "id": "m03sKAGz7JJ_"
      },
      "execution_count": null,
      "outputs": []
    },
    {
      "cell_type": "markdown",
      "metadata": {
        "id": "gtLhno6-CK8K"
      },
      "source": [
        "**S&p500** "
      ]
    },
    {
      "cell_type": "code",
      "metadata": {
        "id": "AIfgEMHPCbxm"
      },
      "source": [
        "Standarpoor500=inv.search_quotes(\"S&P 500 \", products=['indices'],countries=['united states'], n_results=1)\n",
        "print(Standarpoor500)"
      ],
      "execution_count": null,
      "outputs": []
    },
    {
      "cell_type": "code",
      "source": [
        "SP_500= inv.get_index_recent_data(\"S&P 500\",country=\"united states\")\n",
        "SP_500_1 = SP_500[[\"Close\",\"Open\"]].tail()\n",
        "print(SP_500_1)"
      ],
      "metadata": {
        "id": "srbHQzNk6a0M"
      },
      "execution_count": null,
      "outputs": []
    },
    {
      "cell_type": "code",
      "source": [
        "Apertura_indice_SP_500 = (SP_500_1.iat[4,1])#Este comando esta extraer un valor especifico de un dataframe\n",
        "print(Apertura_indice_SP_500)"
      ],
      "metadata": {
        "id": "eeJh3D_w7Ks5"
      },
      "execution_count": null,
      "outputs": []
    },
    {
      "cell_type": "code",
      "source": [
        "Cierre_precio_anterior_SP_500= SP_500_1.iat[3,0]\n",
        "print(Cierre_precio_anterior_SP_500)"
      ],
      "metadata": {
        "id": "o-F3V-AZ7K3j"
      },
      "execution_count": null,
      "outputs": []
    },
    {
      "cell_type": "code",
      "source": [
        "Cierre_precio_anterior5dias_SP_500= SP_500_1.iat[0,0]\n",
        "print(Cierre_precio_anterior5dias_SP_500)"
      ],
      "metadata": {
        "id": "logCNJwr7K-1"
      },
      "execution_count": null,
      "outputs": []
    },
    {
      "cell_type": "markdown",
      "metadata": {
        "id": "26XOOhcSCcX2"
      },
      "source": [
        "**Euro Stoxx 50**"
      ]
    },
    {
      "cell_type": "code",
      "metadata": {
        "id": "GVyjSVfzCeKa"
      },
      "source": [
        "Euro_stoxx_50=inv.search_quotes(text='Euro Stoxx 50', products=['indices'],countries=['euro zone'], n_results=1)\n",
        "print(Euro_stoxx_50)"
      ],
      "execution_count": null,
      "outputs": []
    },
    {
      "cell_type": "code",
      "source": [
        "inv.get_indices_list(\"euro zone\")"
      ],
      "metadata": {
        "id": "N_7BfFsvgdPL"
      },
      "execution_count": null,
      "outputs": []
    },
    {
      "cell_type": "code",
      "source": [
        "Euro_Stoxx_50=inv.get_index_recent_data(\"Euro Stoxx 50\",country=\"germany\")\n",
        "Stoxx_50=Euro_Stoxx_50[[\"Close\",\"Open\"]].tail()\n",
        "print(Stoxx_50)"
      ],
      "metadata": {
        "id": "WFrmZIxqfn_A"
      },
      "execution_count": null,
      "outputs": []
    },
    {
      "cell_type": "code",
      "source": [
        "Apertura_indice_Euro_Stoxx_50 = (Stoxx_50.iat[4,1])#Este comando esta extraer un valor especifico de un dataframe\n",
        "print(Apertura_indice_Euro_Stoxx_50)"
      ],
      "metadata": {
        "id": "VLZVVS38xax8"
      },
      "execution_count": null,
      "outputs": []
    },
    {
      "cell_type": "code",
      "source": [
        "Cierre_precio_anterior_Euro_Stoxx_50 = Stoxx_50.iat[3,0]\n",
        "print(Cierre_precio_anterior_Euro_Stoxx_50 )"
      ],
      "metadata": {
        "id": "u8LW1u0Zxa9m"
      },
      "execution_count": null,
      "outputs": []
    },
    {
      "cell_type": "code",
      "source": [
        "Cierre_precio_anterior5dias_Euro_Stoxx_50= Stoxx_50.iat[0,0]\n",
        "print(Cierre_precio_anterior5dias_Euro_Stoxx_50)"
      ],
      "metadata": {
        "id": "zbsShRihxbKo"
      },
      "execution_count": null,
      "outputs": []
    },
    {
      "cell_type": "markdown",
      "metadata": {
        "id": "TcTs_n0GCena"
      },
      "source": [
        "**Dax (Alemania)**"
      ]
    },
    {
      "cell_type": "code",
      "metadata": {
        "id": "ueXDrPqbCj7b"
      },
      "source": [
        "Dax_Alemania=inv.search_quotes(text='DAX Futures', products=['indices'],countries=['germany'], n_results=1)\n",
        "print(Dax_Alemania)"
      ],
      "execution_count": null,
      "outputs": []
    },
    {
      "cell_type": "code",
      "source": [
        "inv.get_indices_list(\"germany\")"
      ],
      "metadata": {
        "id": "Ud4oEi8nnz1f"
      },
      "execution_count": null,
      "outputs": []
    },
    {
      "cell_type": "code",
      "source": [
        "Dax_Alemania=inv.get_index_recent_data(\"DAX\",country=\"germany\")\n",
        "Dax=Dax_Alemania[[\"Close\",\"Open\"]].tail()\n",
        "print(Dax)"
      ],
      "metadata": {
        "id": "04mA0yzgo2hH"
      },
      "execution_count": null,
      "outputs": []
    },
    {
      "cell_type": "code",
      "source": [
        "Apertura_indice_Dax_Alemania = (Dax.iat[4,1])#Este comando esta extraer un valor especifico de un dataframe\n",
        "print(Apertura_indice_Dax_Alemania )"
      ],
      "metadata": {
        "id": "Qk8zWQdNzsmx"
      },
      "execution_count": null,
      "outputs": []
    },
    {
      "cell_type": "code",
      "source": [
        "Cierre_precio_anterior_Dax_Alemania = Dax.iat[3,0]\n",
        "print(Cierre_precio_anterior_Dax_Alemania)"
      ],
      "metadata": {
        "id": "l4ZobseUzszP"
      },
      "execution_count": null,
      "outputs": []
    },
    {
      "cell_type": "code",
      "source": [
        "Cierre_precio_anterior5dias_Dax_Alemania= Dax.iat[0,0]\n",
        "print(Cierre_precio_anterior5dias_Dax_Alemania)"
      ],
      "metadata": {
        "id": "M86ergPkzs_s"
      },
      "execution_count": null,
      "outputs": []
    },
    {
      "cell_type": "markdown",
      "metadata": {
        "id": "x8i_3KHMCkdZ"
      },
      "source": [
        "**Nikkei (Japón)**"
      ]
    },
    {
      "cell_type": "code",
      "metadata": {
        "id": "QkdjzXzMCrrI"
      },
      "source": [
        "Nikkei_japon=inv.search_quotes(text='Nikkei 225 Futures', products=['indices'],countries=['japan'], n_results=1)\n",
        "print(Nikkei_japon)"
      ],
      "execution_count": null,
      "outputs": []
    },
    {
      "cell_type": "code",
      "source": [
        "inv.get_indices_list(\"japan\")"
      ],
      "metadata": {
        "id": "2OhDKav7qjEY"
      },
      "execution_count": null,
      "outputs": []
    },
    {
      "cell_type": "code",
      "source": [
        "Nikkei_225=inv.get_index_recent_data(\"Nikkei 225\",country=\"japan\")\n",
        "Nikkei=Nikkei_225[[\"Close\",\"Open\"]].tail()\n",
        "print(Nikkei)"
      ],
      "metadata": {
        "id": "0EfNQGursT2g"
      },
      "execution_count": null,
      "outputs": []
    },
    {
      "cell_type": "code",
      "source": [
        "Apertura_indice_Dax_Nikkei_225 = (Nikkei.iat[4,1])#Este comando esta extraer un valor especifico de un dataframe\n",
        "print(Apertura_indice_Dax_Nikkei_225  )"
      ],
      "metadata": {
        "id": "AHAbp64X0RXS"
      },
      "execution_count": null,
      "outputs": []
    },
    {
      "cell_type": "code",
      "source": [
        "Cierre_precio_anterior_Dax_Nikkei_225 = Nikkei.iat[3,0]\n",
        "print(Cierre_precio_anterior_Dax_Nikkei_225)"
      ],
      "metadata": {
        "id": "Tm9rjlcP0Rhk"
      },
      "execution_count": null,
      "outputs": []
    },
    {
      "cell_type": "code",
      "source": [
        "Cierre_precio_anterior5dias_Dax_Nikkei_225= Nikkei.iat[0,0]\n",
        "print(Cierre_precio_anterior5dias_Dax_Nikkei_225)"
      ],
      "metadata": {
        "id": "bkQyItY60Rqs"
      },
      "execution_count": null,
      "outputs": []
    },
    {
      "cell_type": "markdown",
      "metadata": {
        "id": "b_6kv2VqCt4i"
      },
      "source": [
        "**Hang Seng (China)**"
      ]
    },
    {
      "cell_type": "code",
      "metadata": {
        "id": "9csxbgZeCvfC"
      },
      "source": [
        "Hang_seng_china= inv.search_quotes(text='Hang Seng', products=['indices'],countries=['Hong Kong'], n_results=1)\n",
        "print(Hang_seng_china)"
      ],
      "execution_count": null,
      "outputs": []
    },
    {
      "cell_type": "code",
      "source": [
        "inv.get_indices_list(\"china\")"
      ],
      "metadata": {
        "id": "CvtdOr6ftCV1"
      },
      "execution_count": null,
      "outputs": []
    },
    {
      "cell_type": "code",
      "source": [
        "Hang_seng_china=inv.get_index_recent_data(\"Hang Seng\",country=\"Hong Kong\")\n",
        "Hang_seng=Hang_seng_china[[\"Close\",\"Open\"]].tail()\n",
        "print(Hang_seng)"
      ],
      "metadata": {
        "id": "SnBuT8C2tTo_"
      },
      "execution_count": null,
      "outputs": []
    },
    {
      "cell_type": "code",
      "source": [
        "Apertura_indice_Hang_seng = (Hang_seng.iat[4,1])#Este comando esta extraer un valor especifico de un dataframe\n",
        "print(Apertura_indice_Hang_seng )"
      ],
      "metadata": {
        "id": "qBj3SChg0Swu"
      },
      "execution_count": null,
      "outputs": []
    },
    {
      "cell_type": "code",
      "source": [
        "Cierre_precio_anterior_Hang_seng = Hang_seng.iat[3,0]\n",
        "print(Cierre_precio_anterior_Hang_seng )"
      ],
      "metadata": {
        "id": "T2h3xKsR0S6r"
      },
      "execution_count": null,
      "outputs": []
    },
    {
      "cell_type": "code",
      "source": [
        "Cierre_precio_anterior5dias_Hang_seng= Hang_seng.iat[0,0]\n",
        "print(Cierre_precio_anterior5dias_Hang_seng)"
      ],
      "metadata": {
        "id": "YyVmdcnB0TD0"
      },
      "execution_count": null,
      "outputs": []
    },
    {
      "cell_type": "markdown",
      "metadata": {
        "id": "uAOISXZUw-cV"
      },
      "source": [
        "**Indices Renta variable Sudamerica**"
      ]
    },
    {
      "cell_type": "markdown",
      "metadata": {
        "id": "z75vbO46EcND"
      },
      "source": [
        "**Brasil**"
      ]
    },
    {
      "cell_type": "code",
      "metadata": {
        "id": "Rg5r9Fp5EqEd"
      },
      "source": [
        "inv.get_indices_list(\"brazil\")"
      ],
      "execution_count": null,
      "outputs": []
    },
    {
      "cell_type": "code",
      "metadata": {
        "id": "AUu9-_5MEyhD"
      },
      "source": [
        "data1=inv.get_index_recent_data(\"Bovespa\",country=\"brazil\")\n",
        "Brazil1=data1[[\"Close\",\"Open\"]].tail()\n",
        "print(Brazil1)"
      ],
      "execution_count": null,
      "outputs": []
    },
    {
      "cell_type": "code",
      "source": [
        "Apertura_indice_Brazil = (Brazil1.iat[4,1]) # Este comando esta extraer un valor especifico de un dataframe\n",
        "print(Apertura_indice_Brazil)"
      ],
      "metadata": {
        "id": "_xlgVCeKKsoV"
      },
      "execution_count": null,
      "outputs": []
    },
    {
      "cell_type": "code",
      "source": [
        "Cierre_precio_anterior__indice_Brazil = Brazil1.iat[3,0]\n",
        "print(Cierre_precio_anterior__indice_Brazil)"
      ],
      "metadata": {
        "id": "IBQmCKC3Kszp"
      },
      "execution_count": null,
      "outputs": []
    },
    {
      "cell_type": "code",
      "source": [
        "Cierre_precio_anterior5dias_indice_Brazil= Brazil1.iat[0,0]\n",
        "print(Cierre_precio_anterior5dias_indice_Brazil)"
      ],
      "metadata": {
        "id": "WnEH6m81Ks9z"
      },
      "execution_count": null,
      "outputs": []
    },
    {
      "cell_type": "markdown",
      "metadata": {
        "id": "MnvD9JPpFb9O"
      },
      "source": [
        "**Mexico**"
      ]
    },
    {
      "cell_type": "code",
      "metadata": {
        "id": "0yGL7xYBFiA8"
      },
      "source": [
        "inv.get_indices_list(\"Mexico\")"
      ],
      "execution_count": null,
      "outputs": []
    },
    {
      "cell_type": "code",
      "metadata": {
        "id": "aWEMdeslFngE"
      },
      "source": [
        "data2=inv.get_index_recent_data(\"S&P/BMV IPC\",country=\"Mexico\")\n",
        "Mexico1=data2[[\"Close\",\"Open\"]].tail()\n",
        "print(Mexico1)"
      ],
      "execution_count": null,
      "outputs": []
    },
    {
      "cell_type": "code",
      "source": [
        "Apertura_indice_Mexico = (Mexico1.iat[4,1])#Este comando esta extraer un valor especifico de un dataframe\n",
        "print(Apertura_indice_Mexico)"
      ],
      "metadata": {
        "id": "uaA0bZ6jKYKg"
      },
      "execution_count": null,
      "outputs": []
    },
    {
      "cell_type": "code",
      "source": [
        "Cierre_precio_anterior_indice_Mexico = Mexico1.iat[3,0]\n",
        "print(Cierre_precio_anterior_indice_Mexico)"
      ],
      "metadata": {
        "id": "IYU5nOkwKYX9"
      },
      "execution_count": null,
      "outputs": []
    },
    {
      "cell_type": "code",
      "source": [
        "Cierre_precio_anterior5dias_indice_Mexico = Mexico1.iat[0,0]\n",
        "print(Cierre_precio_anterior5dias_indice_Mexico)"
      ],
      "metadata": {
        "id": "asr-x4fFKYjB"
      },
      "execution_count": null,
      "outputs": []
    },
    {
      "cell_type": "markdown",
      "metadata": {
        "id": "XLqQ8FD_GMfr"
      },
      "source": [
        "**Chile**"
      ]
    },
    {
      "cell_type": "code",
      "metadata": {
        "id": "0cl_uW4kGPYe"
      },
      "source": [
        "inv.get_indices_list(\"chile\")"
      ],
      "execution_count": null,
      "outputs": []
    },
    {
      "cell_type": "code",
      "metadata": {
        "id": "L6fyDg-YGV1F"
      },
      "source": [
        "data3=inv.get_index_recent_data(\"S&P CLX IPSA \",country=\"chile\")\n",
        "Chile1=data3[[\"Close\",\"Open\"]].tail()\n",
        "print(Chile1)"
      ],
      "execution_count": null,
      "outputs": []
    },
    {
      "cell_type": "code",
      "source": [
        "Apertura__indice_Chile = (Chile1.iat[4,1])# Este comando esta extraer un valor especifico de un dataframe\n",
        "print(Apertura__indice_Chile)"
      ],
      "metadata": {
        "id": "jjaDw7OOKADe"
      },
      "execution_count": null,
      "outputs": []
    },
    {
      "cell_type": "code",
      "source": [
        "Cierre_precio_anterior_indice_Chile= Chile1.iat[3,0]\n",
        "print(Cierre_precio_anterior_indice_Chile)"
      ],
      "metadata": {
        "id": "f96FAsOlKAOL"
      },
      "execution_count": null,
      "outputs": []
    },
    {
      "cell_type": "code",
      "source": [
        "Cierre_precio_anterior5dias_indice_Chile = Chile1.iat[0,0]\n",
        "print(Cierre_precio_anterior5dias_indice_Chile )"
      ],
      "metadata": {
        "id": "vbs1Q_3OKAWr"
      },
      "execution_count": null,
      "outputs": []
    },
    {
      "cell_type": "markdown",
      "metadata": {
        "id": "9xF7odN1ENHE"
      },
      "source": [
        "**Colombia**"
      ]
    },
    {
      "cell_type": "code",
      "metadata": {
        "id": "JQqp994Q0iHw"
      },
      "source": [
        "inv.get_indices_list(\"Colombia\")"
      ],
      "execution_count": null,
      "outputs": []
    },
    {
      "cell_type": "code",
      "source": [
        "data4=inv.get_index_recent_data(\"COLCAP\",country=\"Colombia\")\n",
        "Colombia1=data4[[\"Close\",\"Open\"]].tail()\n",
        "print(Colombia1)"
      ],
      "metadata": {
        "id": "gpwWmhHgHhqF"
      },
      "execution_count": null,
      "outputs": []
    },
    {
      "cell_type": "code",
      "source": [
        "Apertura_indice_Colombia = (Colombia1.iat[4,1])# Este comando esta extraer un valor especifico de un dataframe\n",
        "print(Apertura_indice_Colombia )"
      ],
      "metadata": {
        "id": "FkJsxDouJtiG"
      },
      "execution_count": null,
      "outputs": []
    },
    {
      "cell_type": "code",
      "source": [
        "Cierre_precio_anterior_indice_Colombia= Colombia1.iat[3,0]\n",
        "print(Cierre_precio_anterior_indice_Colombia)"
      ],
      "metadata": {
        "id": "6cISed_9Jt1s"
      },
      "execution_count": null,
      "outputs": []
    },
    {
      "cell_type": "code",
      "source": [
        "Cierre_precio_anterior5dias_indice_Colombia = Colombia1.iat[0,0]\n",
        "print(Cierre_precio_anterior5dias_indice_Colombia  ) "
      ],
      "metadata": {
        "id": "-0tyNU5NJuAj"
      },
      "execution_count": null,
      "outputs": []
    },
    {
      "cell_type": "markdown",
      "metadata": {
        "id": "TfHT9MJ0Fk0x"
      },
      "source": [
        "**Materia Primas**"
      ]
    },
    {
      "cell_type": "markdown",
      "metadata": {
        "id": "ZaAJ2gQfGq2g"
      },
      "source": [
        "**Petroleo brent**"
      ]
    },
    {
      "cell_type": "code",
      "metadata": {
        "id": "bSm2XgfWFrfV"
      },
      "source": [
        "inv.get_commodities(group=\"energy\")"
      ],
      "execution_count": null,
      "outputs": []
    },
    {
      "cell_type": "code",
      "metadata": {
        "id": "c--CN3WAG9p3"
      },
      "source": [
        "brent=inv.get_commodity_recent_data(\"Brent Oil\",country=\"united kingdom\")\n",
        "brent10=brent[[\"Close\",\"Open\"]].tail()\n",
        "print(brent10)"
      ],
      "execution_count": null,
      "outputs": []
    },
    {
      "cell_type": "code",
      "source": [
        "brent1=inv.get_commodity_historical_data(\"Brent Oil\",country=\"united kingdom\",from_date='01/01/2007',to_date=\"19/01/2022\")\n",
        "brent2=brent1[\"Close\"]\n",
        "brent3=pd.DataFrame(brent2)\n",
        "brent3.plot.line()"
      ],
      "metadata": {
        "id": "U9tdt3hBeRwo"
      },
      "execution_count": null,
      "outputs": []
    },
    {
      "cell_type": "code",
      "source": [
        "Dolar1=inv.get_currency_cross_historical_data(\"USD/COP\",from_date='01/01/2007',to_date=\"19/01/2022\")\n",
        "Dolar2=Dolar1[[\"Close\"]]\n",
        "Dolar3=pd.DataFrame(Dolar2)\n",
        "Dolar3.plot.line()"
      ],
      "metadata": {
        "id": "JUkph52jr9WI"
      },
      "execution_count": null,
      "outputs": []
    },
    {
      "cell_type": "code",
      "source": [
        "brent_pesos=Dolar3*brent3\n",
        "brent_pesos.plot.line()"
      ],
      "metadata": {
        "id": "fSL4OuWitSEZ"
      },
      "execution_count": null,
      "outputs": []
    },
    {
      "cell_type": "code",
      "source": [
        "Apertura_brent = (brent10.iat[4,1])# Este comando esta extraer un valor especifico de un dataframe\n",
        "print(Apertura_brent)"
      ],
      "metadata": {
        "id": "RMeiQDXkJDBk"
      },
      "execution_count": null,
      "outputs": []
    },
    {
      "cell_type": "code",
      "source": [
        "Cierre_precio_anterior_brent= brent10.iat[3,0]\n",
        "print(Cierre_precio_anterior_brent)"
      ],
      "metadata": {
        "id": "13WlZweXJDMh"
      },
      "execution_count": null,
      "outputs": []
    },
    {
      "cell_type": "code",
      "source": [
        "Cierre_precio_anterior5dias_brent = brent10.iat[0,0]\n",
        "print(Cierre_precio_anterior5dias_brent ) "
      ],
      "metadata": {
        "id": "ibrKYQXZJDWk"
      },
      "execution_count": null,
      "outputs": []
    },
    {
      "cell_type": "markdown",
      "metadata": {
        "id": "yrvoK7DjGunG"
      },
      "source": [
        "**Petroleo WTI**"
      ]
    },
    {
      "cell_type": "code",
      "metadata": {
        "id": "6kNi6d5nG0PW"
      },
      "source": [
        "WTI=inv.get_commodity_recent_data(\"Crude Oil WTI\",country=\"united states\")\n",
        "WTI10=WTI[[\"Close\",\"Open\"]].tail()\n",
        "print(WTI10)"
      ],
      "execution_count": null,
      "outputs": []
    },
    {
      "cell_type": "code",
      "source": [
        "Apertura_WTI = (WTI10.iat[4,1])# Este comando esta extraer un valor especifico de un dataframe\n",
        "print(Apertura_WTI)"
      ],
      "metadata": {
        "id": "fjXtn6WzJVkY"
      },
      "execution_count": null,
      "outputs": []
    },
    {
      "cell_type": "code",
      "source": [
        "Cierre_precio_anterior_WTI= WTI10.iat[3,0]\n",
        "print(Cierre_precio_anterior_WTI)"
      ],
      "metadata": {
        "id": "l6iPtgngJVvd"
      },
      "execution_count": null,
      "outputs": []
    },
    {
      "cell_type": "code",
      "source": [
        "Cierre_precio_anterior5dias_WTI = WTI10.iat[0,0]\n",
        "print(Cierre_precio_anterior5dias_WTI ) "
      ],
      "metadata": {
        "id": "MBL3eHYxJV5B"
      },
      "execution_count": null,
      "outputs": []
    },
    {
      "cell_type": "markdown",
      "metadata": {
        "id": "K6ZObKHYH-Nf"
      },
      "source": [
        "**Oro**"
      ]
    },
    {
      "cell_type": "code",
      "metadata": {
        "id": "zScHHevlNP4e"
      },
      "source": [
        "inv.get_commodities(group=\"metals\")"
      ],
      "execution_count": null,
      "outputs": []
    },
    {
      "cell_type": "code",
      "metadata": {
        "id": "fA3vUDs9wMRE"
      },
      "source": [
        "Oro=inv.get_commodity_recent_data(\"gold\")\n",
        "Oro1=Oro[[\"Close\",\"Open\"]].tail()\n",
        "Oro10 = pd.DataFrame(Oro1)\n",
        "print(Oro10)"
      ],
      "execution_count": null,
      "outputs": []
    },
    {
      "cell_type": "code",
      "source": [
        "Apertura_oro = (Oro10.iat[4,1])# Este comando esta extraer un valor especifico de un dataframe\n",
        "print(Apertura_oro)"
      ],
      "metadata": {
        "id": "DlT5kcTVb8BS"
      },
      "execution_count": null,
      "outputs": []
    },
    {
      "cell_type": "code",
      "source": [
        "Cierre_precio_anterior_oro= Oro10.iat[3,0]\n",
        "print(Cierre_precio_anterior_oro)"
      ],
      "metadata": {
        "id": "LEukkXDHdyE2"
      },
      "execution_count": null,
      "outputs": []
    },
    {
      "cell_type": "code",
      "source": [
        "Cierre_precio_anterior5dias_oro = Oro10.iat[0,0]\n",
        "print(Cierre_precio_anterior5dias_oro )"
      ],
      "metadata": {
        "id": "02szCCjReoxC"
      },
      "execution_count": null,
      "outputs": []
    },
    {
      "cell_type": "markdown",
      "metadata": {
        "id": "iXzWdAMIIFuG"
      },
      "source": [
        "**Cobre**"
      ]
    },
    {
      "cell_type": "code",
      "metadata": {
        "id": "hZZWyqzzNQU3"
      },
      "source": [
        "Cobre=inv.get_commodity_recent_data(\"copper\",country=\"united states\")\n",
        "Cobre10=Cobre[[\"Close\",\"Open\"]].tail()\n",
        "print(Cobre10)"
      ],
      "execution_count": null,
      "outputs": []
    },
    {
      "cell_type": "code",
      "source": [
        "Apertura_cobre = (Cobre10.iat[4,1]) # Este comando esta extraer un valor especifico de un dataframe\n",
        "print(Apertura_cobre)"
      ],
      "metadata": {
        "id": "xxWPa3llAW5I"
      },
      "execution_count": null,
      "outputs": []
    },
    {
      "cell_type": "code",
      "source": [
        "Cierre_precio_anterior_cobre= Cobre10.iat[3,0]\n",
        "print(Cierre_precio_anterior_cobre)"
      ],
      "metadata": {
        "id": "EkPPLuz1Azs-"
      },
      "execution_count": null,
      "outputs": []
    },
    {
      "cell_type": "code",
      "source": [
        "Cierre_precio_anterior5dias_Cobre = Cobre10.iat[0,0]\n",
        "print(Cierre_precio_anterior5dias_Cobre)"
      ],
      "metadata": {
        "id": "AuRdeqZxAz76"
      },
      "execution_count": null,
      "outputs": []
    },
    {
      "cell_type": "markdown",
      "metadata": {
        "id": "SlR69UDdIJI1"
      },
      "source": [
        "**Maiz**"
      ]
    },
    {
      "cell_type": "code",
      "metadata": {
        "id": "CDAqj7TXymFS"
      },
      "source": [
        "inv.get_commodities(group=\"grains\")"
      ],
      "execution_count": null,
      "outputs": []
    },
    {
      "cell_type": "code",
      "metadata": {
        "id": "GkxUAABdNQz5"
      },
      "source": [
        "Maiz=inv.get_commodity_recent_data(\"US Corn\",country=\"united states\")\n",
        "Maiz10=Maiz[[\"Close\",\"Open\"]].tail()\n",
        "print(Maiz10)"
      ],
      "execution_count": null,
      "outputs": []
    },
    {
      "cell_type": "code",
      "source": [
        "Apertura_Maiz = (Maiz10.iat[4,1]) # Este comando esta extraer un valor especifico de un dataframe\n",
        "print(Apertura_Maiz)"
      ],
      "metadata": {
        "id": "PXqWNYvFBm5a"
      },
      "execution_count": null,
      "outputs": []
    },
    {
      "cell_type": "code",
      "source": [
        "Cierre_precio_anterior_Maiz= Maiz10.iat[3,0]\n",
        "print(Cierre_precio_anterior_Maiz)"
      ],
      "metadata": {
        "id": "i8DJj2scBnEl"
      },
      "execution_count": null,
      "outputs": []
    },
    {
      "cell_type": "code",
      "source": [
        "Cierre_precio_anterior5dias_Maiz = Maiz10.iat[0,0]\n",
        "print(Cierre_precio_anterior5dias_Maiz)"
      ],
      "metadata": {
        "id": "IEOvoTmHBnO_"
      },
      "execution_count": null,
      "outputs": []
    },
    {
      "cell_type": "markdown",
      "metadata": {
        "id": "cjUuWNSyIT4p"
      },
      "source": [
        "**Soja**"
      ]
    },
    {
      "cell_type": "code",
      "metadata": {
        "id": "1nrm3ALdNRen"
      },
      "source": [
        "soja=inv.get_commodity_recent_data(\"US Soybeans\",country=\"united states\")\n",
        "soja10=soja[[\"Close\",\"Open\"]].tail()\n",
        "print(soja10)"
      ],
      "execution_count": null,
      "outputs": []
    },
    {
      "cell_type": "code",
      "source": [
        "Apertura_soja = (soja10.iat[4,1]) # Este comando esta extraer un valor especifico de un dataframe\n",
        "print(Apertura_soja)"
      ],
      "metadata": {
        "id": "a_OCj3VdCAvB"
      },
      "execution_count": null,
      "outputs": []
    },
    {
      "cell_type": "code",
      "source": [
        "Cierre_precio_anterior_soja= soja10.iat[3,0]\n",
        "print(Cierre_precio_anterior_soja)"
      ],
      "metadata": {
        "id": "jRP0fi59CA6P"
      },
      "execution_count": null,
      "outputs": []
    },
    {
      "cell_type": "code",
      "source": [
        "Cierre_precio_anterior5dias_soja = soja10.iat[0,0]\n",
        "print(Cierre_precio_anterior5dias_soja)"
      ],
      "metadata": {
        "id": "8dqBhg0pCBD2"
      },
      "execution_count": null,
      "outputs": []
    },
    {
      "cell_type": "markdown",
      "metadata": {
        "id": "r0j_iHpsIWpf"
      },
      "source": [
        "**Cafe**"
      ]
    },
    {
      "cell_type": "code",
      "metadata": {
        "id": "2r0SVlcl5PRx"
      },
      "source": [
        "inv.get_commodities(group=\"softs\")"
      ],
      "execution_count": null,
      "outputs": []
    },
    {
      "cell_type": "code",
      "metadata": {
        "id": "r2ADPRAgNSB3"
      },
      "source": [
        "Cafe=inv.get_commodity_recent_data(\"US Coffee C\",country=\"united states\")\n",
        "Cafe10=Cafe[[\"Close\",\"Open\"]].tail()\n",
        "print(Cafe10)"
      ],
      "execution_count": null,
      "outputs": []
    },
    {
      "cell_type": "code",
      "source": [
        "Apertura_Cafe = (Cafe10.iat[4,1]) # Este comando esta extraer un valor especifico de un dataframe\n",
        "print(Apertura_Cafe)"
      ],
      "metadata": {
        "id": "P-EH398JCW15"
      },
      "execution_count": null,
      "outputs": []
    },
    {
      "cell_type": "code",
      "source": [
        "Cierre_precio_anterior_Cafe= Cafe10.iat[3,0]\n",
        "print(Cierre_precio_anterior_Cafe)"
      ],
      "metadata": {
        "id": "ZOZeX8CkCXBA"
      },
      "execution_count": null,
      "outputs": []
    },
    {
      "cell_type": "code",
      "source": [
        "Cierre_precio_anterior5dias_Cafe = Cafe10.iat[0,0]\n",
        "print(Cierre_precio_anterior5dias_Cafe)"
      ],
      "metadata": {
        "id": "7_S1EydDCXJn"
      },
      "execution_count": null,
      "outputs": []
    },
    {
      "cell_type": "markdown",
      "metadata": {
        "id": "2NU8qF3HIc6n"
      },
      "source": [
        "**Azucar**"
      ]
    },
    {
      "cell_type": "code",
      "metadata": {
        "id": "H8TPGZC_NSru"
      },
      "source": [
        "Azucar=inv.get_commodity_recent_data(\"US Sugar #11\t\",country=\"united states\")\n",
        "Azucar10=Azucar[[\"Close\",\"Open\"]].tail()\n",
        "print(Azucar10)"
      ],
      "execution_count": null,
      "outputs": []
    },
    {
      "cell_type": "code",
      "source": [
        "Apertura_Azucar = (Azucar10.iat[4,1]) # Este comando esta extraer un valor especifico de un dataframe\n",
        "print(Apertura_Azucar)"
      ],
      "metadata": {
        "id": "Z5409tDWCqQn"
      },
      "execution_count": null,
      "outputs": []
    },
    {
      "cell_type": "code",
      "source": [
        "Cierre_precio_anterior_Azucar= Azucar10.iat[3,0]\n",
        "print(Cierre_precio_anterior_Cafe)"
      ],
      "metadata": {
        "id": "gwM43wekCqaY"
      },
      "execution_count": null,
      "outputs": []
    },
    {
      "cell_type": "code",
      "source": [
        "Cierre_precio_anterior5dias_Azucar = Azucar10.iat[0,0]\n",
        "print(Cierre_precio_anterior5dias_Azucar)"
      ],
      "metadata": {
        "id": "xIwb2U2gCqiB"
      },
      "execution_count": null,
      "outputs": []
    },
    {
      "cell_type": "markdown",
      "metadata": {
        "id": "9-ZodFiyIt7E"
      },
      "source": [
        "**Bonos a 10Años**"
      ]
    },
    {
      "cell_type": "code",
      "metadata": {
        "id": "k4SBEmTyJqft"
      },
      "source": [
        "inv.get_bond_countries()"
      ],
      "execution_count": null,
      "outputs": []
    },
    {
      "cell_type": "markdown",
      "metadata": {
        "id": "S6zrc3EZIxYH"
      },
      "source": [
        "**Desarrollados**"
      ]
    },
    {
      "cell_type": "markdown",
      "metadata": {
        "id": "hr28tn32I6my"
      },
      "source": [
        "**EEUU**"
      ]
    },
    {
      "cell_type": "code",
      "metadata": {
        "id": "0pJNQ8NkLyr_"
      },
      "source": [
        "inv.get_bonds_list(\"united states\")"
      ],
      "execution_count": null,
      "outputs": []
    },
    {
      "cell_type": "code",
      "metadata": {
        "id": "MHMC6kaeI_t-"
      },
      "source": [
        "Estados_unidos=inv.get_bond_recent_data(bond=\"U.S. 10Y\")\n",
        "Estados_unidos10=Estados_unidos[[\"Close\",\"Open\"]].tail()\n",
        "print(Estados_unidos10)"
      ],
      "execution_count": null,
      "outputs": []
    },
    {
      "cell_type": "code",
      "source": [
        "Apertura_Estados_unidos = (Estados_unidos10.iat[4,1]) # Este comando esta extraer un valor especifico de un dataframe\n",
        "print(Apertura_Estados_unidos)"
      ],
      "metadata": {
        "id": "kzmvuiVPC9x4"
      },
      "execution_count": null,
      "outputs": []
    },
    {
      "cell_type": "code",
      "source": [
        "Cierre_precio_anterior_Estados_unidos= Estados_unidos10.iat[3,0]\n",
        "print(Cierre_precio_anterior_Estados_unidos)"
      ],
      "metadata": {
        "id": "cqnrkpxWC98C"
      },
      "execution_count": null,
      "outputs": []
    },
    {
      "cell_type": "code",
      "source": [
        "Cierre_precio_anterior5dias_Estados_unidos = Estados_unidos10.iat[0,0]\n",
        "print(Cierre_precio_anterior5dias_Estados_unidos)"
      ],
      "metadata": {
        "id": "F4D9_yrlC-F3"
      },
      "execution_count": null,
      "outputs": []
    },
    {
      "cell_type": "markdown",
      "metadata": {
        "id": "Xx6E7ZZEMCw8"
      },
      "source": [
        "**Alemania**"
      ]
    },
    {
      "cell_type": "code",
      "metadata": {
        "id": "HFHUq0OoMHJn"
      },
      "source": [
        "inv.get_bonds_list(\"germany\")"
      ],
      "execution_count": null,
      "outputs": []
    },
    {
      "cell_type": "code",
      "metadata": {
        "id": "hIG_YwWxOFJv"
      },
      "source": [
        "Alemania=inv.get_bond_recent_data(bond=\"Germany 10Y\")\n",
        "Alemania10=Alemania[[\"Close\",\"Open\"]].tail()\n",
        "print(Alemania10)"
      ],
      "execution_count": null,
      "outputs": []
    },
    {
      "cell_type": "code",
      "source": [
        "Apertura_Alemania = (Alemania10.iat[4,1]) # Este comando esta extraer un valor especifico de un dataframe\n",
        "print(Apertura_Alemania)"
      ],
      "metadata": {
        "id": "4Ewopbl5DWmq"
      },
      "execution_count": null,
      "outputs": []
    },
    {
      "cell_type": "code",
      "source": [
        "Cierre_precio_anterior_Alemania= Alemania10.iat[3,0]\n",
        "print(Cierre_precio_anterior_Alemania)"
      ],
      "metadata": {
        "id": "52B6jIijDWxV"
      },
      "execution_count": null,
      "outputs": []
    },
    {
      "cell_type": "code",
      "source": [
        "Cierre_precio_anterior5dias_Alemania = Alemania10.iat[0,0]\n",
        "print(Cierre_precio_anterior5dias_Alemania)"
      ],
      "metadata": {
        "id": "YE0lgixBDW62"
      },
      "execution_count": null,
      "outputs": []
    },
    {
      "cell_type": "markdown",
      "metadata": {
        "id": "JvQbI6OXMPKD"
      },
      "source": [
        "**Reino Unido**"
      ]
    },
    {
      "cell_type": "code",
      "metadata": {
        "id": "BEoxX7u1MViz"
      },
      "source": [
        "inv.get_bonds_list(\"United Kingdom\")"
      ],
      "execution_count": null,
      "outputs": []
    },
    {
      "cell_type": "code",
      "metadata": {
        "id": "mC1yyX36OLCh"
      },
      "source": [
        "Reino_unido=inv.get_bond_recent_data(bond=\"U.K. 10Y\")\n",
        "Reino_unido10=Reino_unido[[\"Close\",\"Open\"]].tail()\n",
        "print(Reino_unido10)"
      ],
      "execution_count": null,
      "outputs": []
    },
    {
      "cell_type": "code",
      "source": [
        "Apertura_Reino_unido = (Reino_unido10.iat[4,1]) # Este comando esta extraer un valor especifico de un dataframe\n",
        "print(Apertura_Reino_unido)"
      ],
      "metadata": {
        "id": "ZTJulB0nDt9E"
      },
      "execution_count": null,
      "outputs": []
    },
    {
      "cell_type": "code",
      "source": [
        "Cierre_precio_anterior_Reino_unido= Reino_unido10.iat[3,0]\n",
        "print(Cierre_precio_anterior_Reino_unido)"
      ],
      "metadata": {
        "id": "l_1JjdsuDuGP"
      },
      "execution_count": null,
      "outputs": []
    },
    {
      "cell_type": "code",
      "source": [
        "Cierre_precio_anterior5dias_Reino_unido= Reino_unido10.iat[0,0]\n",
        "print(Cierre_precio_anterior5dias_Reino_unido)"
      ],
      "metadata": {
        "id": "FW0YMHZVDuPH"
      },
      "execution_count": null,
      "outputs": []
    },
    {
      "cell_type": "markdown",
      "metadata": {
        "id": "5Rm_c2tQMWOq"
      },
      "source": [
        "**Francia**"
      ]
    },
    {
      "cell_type": "code",
      "metadata": {
        "id": "TQOew382Max3"
      },
      "source": [
        "inv.get_bonds_list(\"france\")"
      ],
      "execution_count": null,
      "outputs": []
    },
    {
      "cell_type": "code",
      "metadata": {
        "id": "vbqp_pyFOZG7"
      },
      "source": [
        "Francia=inv.get_bond_recent_data(bond=\"France 10Y\")\n",
        "Francia10=Francia[[\"Close\",\"Open\"]].tail()\n",
        "print(Francia10)"
      ],
      "execution_count": null,
      "outputs": []
    },
    {
      "cell_type": "code",
      "source": [
        "Apertura_Francia = (Francia10.iat[4,1]) # Este comando esta extraer un valor especifico de un dataframe\n",
        "print(Apertura_Francia)"
      ],
      "metadata": {
        "id": "sNn60xooEDY4"
      },
      "execution_count": null,
      "outputs": []
    },
    {
      "cell_type": "code",
      "source": [
        "Cierre_precio_anterior_Francia= Francia10.iat[3,0]\n",
        "print(Cierre_precio_anterior_Francia)"
      ],
      "metadata": {
        "id": "_hVcdQB-EDjG"
      },
      "execution_count": null,
      "outputs": []
    },
    {
      "cell_type": "code",
      "source": [
        "Cierre_precio_anterior5dias_Francia= Francia10.iat[0,0]\n",
        "print(Cierre_precio_anterior5dias_Francia)"
      ],
      "metadata": {
        "id": "TAPlRVSIEDqu"
      },
      "execution_count": null,
      "outputs": []
    },
    {
      "cell_type": "markdown",
      "metadata": {
        "id": "PUrwzaETMbHL"
      },
      "source": [
        "**Italia**"
      ]
    },
    {
      "cell_type": "code",
      "metadata": {
        "id": "THR85NXtNIne"
      },
      "source": [
        "inv.get_bonds_list(\"Italy\")"
      ],
      "execution_count": null,
      "outputs": []
    },
    {
      "cell_type": "code",
      "metadata": {
        "id": "FyMZ1B9COZ5f"
      },
      "source": [
        "Italia=inv.get_bond_recent_data(bond=\"Italy 10Y\")\n",
        "Italia10=Italia[[\"Close\",\"Open\"]].tail()\n",
        "print(Italia10)"
      ],
      "execution_count": null,
      "outputs": []
    },
    {
      "cell_type": "code",
      "source": [
        "Apertura_Italia = (Italia10.iat[4,1]) # Este comando esta extraer un valor especifico de un dataframe\n",
        "print(Apertura_Italia)"
      ],
      "metadata": {
        "id": "xfocX2P9FUWU"
      },
      "execution_count": null,
      "outputs": []
    },
    {
      "cell_type": "code",
      "source": [
        "Cierre_precio_anterior_Italia= Italia10.iat[3,0]\n",
        "print(Cierre_precio_anterior_Italia)"
      ],
      "metadata": {
        "id": "h0QpwRycFUg3"
      },
      "execution_count": null,
      "outputs": []
    },
    {
      "cell_type": "code",
      "source": [
        "Cierre_precio_anterior5dias_Italia= Italia10.iat[0,0]\n",
        "print(Cierre_precio_anterior5dias_Italia)"
      ],
      "metadata": {
        "id": "Lod0vaJZFUsQ"
      },
      "execution_count": null,
      "outputs": []
    },
    {
      "cell_type": "markdown",
      "metadata": {
        "id": "o5yfHBEuMfjM"
      },
      "source": [
        "**Japon**"
      ]
    },
    {
      "cell_type": "code",
      "metadata": {
        "id": "mazN_e0qNJJu"
      },
      "source": [
        "inv.get_bonds_list(\"japan\")"
      ],
      "execution_count": null,
      "outputs": []
    },
    {
      "cell_type": "code",
      "metadata": {
        "id": "MARdyCtVOalS"
      },
      "source": [
        "Japon=inv.get_bond_recent_data(bond=\"Japan 10Y\")\n",
        "Japon10=Japon[[\"Close\",\"Open\"]].tail()\n",
        "print(Japon10)"
      ],
      "execution_count": null,
      "outputs": []
    },
    {
      "cell_type": "code",
      "source": [
        "Apertura_Japon = (Japon10.iat[4,1]) # Este comando esta extraer un valor especifico de un dataframe\n",
        "print(Apertura_Japon)"
      ],
      "metadata": {
        "id": "DzfibM7cFqjL"
      },
      "execution_count": null,
      "outputs": []
    },
    {
      "cell_type": "code",
      "source": [
        "Cierre_precio_anterior_Japon= Japon10.iat[3,0]\n",
        "print(Cierre_precio_anterior_Japon)"
      ],
      "metadata": {
        "id": "ovybVuFeFqug"
      },
      "execution_count": null,
      "outputs": []
    },
    {
      "cell_type": "code",
      "source": [
        "Cierre_precio_anterior5dias_Japon= Japon10.iat[0,0]\n",
        "print(Cierre_precio_anterior5dias_Japon)"
      ],
      "metadata": {
        "id": "AFYsmDMCFq4U"
      },
      "execution_count": null,
      "outputs": []
    },
    {
      "cell_type": "markdown",
      "metadata": {
        "id": "rKK9TQ7kMjRD"
      },
      "source": [
        "**Latinoamerica**"
      ]
    },
    {
      "cell_type": "markdown",
      "metadata": {
        "id": "LNiOh-Z9MpBj"
      },
      "source": [
        "**Brasil**"
      ]
    },
    {
      "cell_type": "code",
      "metadata": {
        "id": "zcnN1t2fNKU9"
      },
      "source": [
        "inv.get_bonds_list(\"Brazil\")"
      ],
      "execution_count": null,
      "outputs": []
    },
    {
      "cell_type": "code",
      "metadata": {
        "id": "-k_ScMydObo7"
      },
      "source": [
        "Brazil=inv.get_bond_recent_data(bond=\"Brazil 10Y\")\n",
        "Brazil10=Brazil[[\"Close\",\"Open\"]].tail()\n",
        "print(Brazil10)"
      ],
      "execution_count": null,
      "outputs": []
    },
    {
      "cell_type": "code",
      "source": [
        "Apertura_Brazil = (Brazil10.iat[4,1]) # Este comando esta extraer un valor especifico de un dataframe\n",
        "print(Apertura_Brazil)"
      ],
      "metadata": {
        "id": "lhfNBy5IGEDU"
      },
      "execution_count": null,
      "outputs": []
    },
    {
      "cell_type": "code",
      "source": [
        "Cierre_precio_anterior_Brazil= Brazil10.iat[3,0]\n",
        "print(Cierre_precio_anterior_Brazil)"
      ],
      "metadata": {
        "id": "U6Orzg2FGENo"
      },
      "execution_count": null,
      "outputs": []
    },
    {
      "cell_type": "code",
      "source": [
        "Cierre_precio_anterior5dias_Brazil= Brazil10.iat[0,0]\n",
        "print(Cierre_precio_anterior5dias_Brazil)"
      ],
      "metadata": {
        "id": "N9r_R7NDGEYL"
      },
      "execution_count": null,
      "outputs": []
    },
    {
      "cell_type": "markdown",
      "metadata": {
        "id": "dcIOm9liMtFJ"
      },
      "source": [
        "**Mexico**"
      ]
    },
    {
      "cell_type": "code",
      "metadata": {
        "id": "EYHQ5xwvNK-c"
      },
      "source": [
        "inv.get_bonds_list(\"Mexico\")"
      ],
      "execution_count": null,
      "outputs": []
    },
    {
      "cell_type": "code",
      "metadata": {
        "id": "RDhFio2sOcSx"
      },
      "source": [
        "Mexico=inv.get_bond_recent_data(bond=\"Mexico 10Y\")\n",
        "Mexico10=Mexico[[\"Close\",\"Open\"]].tail()\n",
        "print(Mexico10)"
      ],
      "execution_count": null,
      "outputs": []
    },
    {
      "cell_type": "code",
      "source": [
        "Apertura_Mexico = (Mexico10.iat[4,1]) # Este comando esta extraer un valor especifico de un dataframe\n",
        "print(Apertura_Mexico)"
      ],
      "metadata": {
        "id": "kg72v1OPGeux"
      },
      "execution_count": null,
      "outputs": []
    },
    {
      "cell_type": "code",
      "source": [
        "Cierre_precio_anterior_Mexico= Mexico10.iat[3,0]\n",
        "print(Cierre_precio_anterior_Mexico)"
      ],
      "metadata": {
        "id": "ythoTfhxGe4z"
      },
      "execution_count": null,
      "outputs": []
    },
    {
      "cell_type": "code",
      "source": [
        "Cierre_precio_anterior5dias_Mexico= Mexico10.iat[0,0]\n",
        "print(Cierre_precio_anterior5dias_Mexico)"
      ],
      "metadata": {
        "id": "a9Dqf1ERGfA_"
      },
      "execution_count": null,
      "outputs": []
    },
    {
      "cell_type": "markdown",
      "metadata": {
        "id": "2MwZpJvRMv9O"
      },
      "source": [
        "**Chile**"
      ]
    },
    {
      "cell_type": "code",
      "metadata": {
        "id": "ypZ9JmNENLZm"
      },
      "source": [
        "inv.get_bonds_list(\"chile\")"
      ],
      "execution_count": null,
      "outputs": []
    },
    {
      "cell_type": "code",
      "metadata": {
        "id": "4WoEuevrOc74"
      },
      "source": [
        "Chile=inv.get_bond_recent_data(bond=\"Chile 10Y\")\n",
        "Chile10=Chile[[\"Close\",\"Open\"]].tail()\n",
        "print(Chile10)"
      ],
      "execution_count": null,
      "outputs": []
    },
    {
      "cell_type": "code",
      "source": [
        "Apertura_Chile = (Chile10.iat[4,1]) # Este comando esta extraer un valor especifico de un dataframe\n",
        "print(Apertura_Chile)"
      ],
      "metadata": {
        "id": "o8Rp_a7UG0w1"
      },
      "execution_count": null,
      "outputs": []
    },
    {
      "cell_type": "code",
      "source": [
        "Cierre_precio_anterior_Chile = Chile10.iat[3,0]\n",
        "print(Cierre_precio_anterior_Chile)"
      ],
      "metadata": {
        "id": "P_wjDNciG1AR"
      },
      "execution_count": null,
      "outputs": []
    },
    {
      "cell_type": "code",
      "source": [
        "Cierre_precio_anterior5dias_Chile= Chile10.iat[0,0]\n",
        "print(Cierre_precio_anterior5dias_Chile)"
      ],
      "metadata": {
        "id": "nLTEmsZeG1Jx"
      },
      "execution_count": null,
      "outputs": []
    },
    {
      "cell_type": "markdown",
      "metadata": {
        "id": "vx8eKrtGM1f0"
      },
      "source": [
        "**Argentina**"
      ]
    },
    {
      "cell_type": "code",
      "metadata": {
        "id": "hGlkCxvoNL-d"
      },
      "source": [
        "inv.get_bonds_list(\"argentina\")"
      ],
      "execution_count": null,
      "outputs": []
    },
    {
      "cell_type": "code",
      "metadata": {
        "id": "j1l9S9lEOdpr"
      },
      "source": [
        "Argentina=inv.get_bond_recent_data(bond=\"Argentina 1Y\")\n",
        "Argentina10=Argentina[[\"Close\",\"Open\"]].tail()\n",
        "print(Argentina10)"
      ],
      "execution_count": null,
      "outputs": []
    },
    {
      "cell_type": "code",
      "source": [
        "Apertura_Argentina = (Argentina10.iat[4,1]) # Este comando esta extraer un valor especifico de un dataframe\n",
        "print(Apertura_Argentina)"
      ],
      "metadata": {
        "id": "cttXTJmQHHBz"
      },
      "execution_count": null,
      "outputs": []
    },
    {
      "cell_type": "code",
      "source": [
        "Cierre_precio_anterior_Argentina = Argentina10.iat[3,0]\n",
        "print(Cierre_precio_anterior_Argentina)"
      ],
      "metadata": {
        "id": "4h4X0qkXHHL6"
      },
      "execution_count": null,
      "outputs": []
    },
    {
      "cell_type": "code",
      "source": [
        "Cierre_precio_anterior5dias_Argentina= Argentina10.iat[0,0]\n",
        "print(Cierre_precio_anterior5dias_Argentina)"
      ],
      "metadata": {
        "id": "qYe67y7YHHTf"
      },
      "execution_count": null,
      "outputs": []
    },
    {
      "cell_type": "markdown",
      "metadata": {
        "id": "2_RdJM4JM8de"
      },
      "source": [
        "**Colombia**"
      ]
    },
    {
      "cell_type": "code",
      "metadata": {
        "id": "7_3UzmQ4M_zn"
      },
      "source": [
        "inv.get_bonds_list(\"colombia\")"
      ],
      "execution_count": null,
      "outputs": []
    },
    {
      "cell_type": "code",
      "metadata": {
        "id": "0lbAXwJ6OePv"
      },
      "source": [
        "Colombia=inv.get_bond_recent_data(bond=\"Colombia 10Y\")\n",
        "Colombia10=Colombia[[\"Close\",\"Open\"]].tail()\n",
        "print(Colombia10)"
      ],
      "execution_count": null,
      "outputs": []
    },
    {
      "cell_type": "code",
      "source": [
        "Apertura_Colombia = (Colombia10.iat[4,1]) # Este comando esta extraer un valor especifico de un dataframe\n",
        "print(Apertura_Colombia)"
      ],
      "metadata": {
        "id": "XNJaBpHFHdNO"
      },
      "execution_count": null,
      "outputs": []
    },
    {
      "cell_type": "code",
      "source": [
        "Cierre_precio_anterior_Colombia = Colombia10.iat[3,0]\n",
        "print(Cierre_precio_anterior_Colombia)"
      ],
      "metadata": {
        "id": "aFSWczUhHdX3"
      },
      "execution_count": null,
      "outputs": []
    },
    {
      "cell_type": "code",
      "source": [
        "Cierre_precio_anterior5dias_Colombia= Colombia10.iat[0,0]\n",
        "print(Cierre_precio_anterior5dias_Colombia)"
      ],
      "metadata": {
        "id": "8_MV_uriHdb3"
      },
      "execution_count": null,
      "outputs": []
    },
    {
      "cell_type": "markdown",
      "metadata": {
        "id": "5-oNZkdGNAKX"
      },
      "source": [
        "**Peru** "
      ]
    },
    {
      "cell_type": "code",
      "metadata": {
        "id": "LMJ4nNWXNHAp"
      },
      "source": [
        "inv.get_bonds_list(\"peru\")"
      ],
      "execution_count": null,
      "outputs": []
    },
    {
      "cell_type": "code",
      "metadata": {
        "id": "bahdqkDZOe0U"
      },
      "source": [
        "Peru=inv.get_bond_recent_data(bond=\"Peru 10Y\")\n",
        "Peru10=Peru[[\"Close\",\"Open\"]].tail()\n",
        "print(Peru10)"
      ],
      "execution_count": null,
      "outputs": []
    },
    {
      "cell_type": "code",
      "source": [
        "Apertura_Peru = (Peru10.iat[4,1]) # Este comando esta extraer un valor especifico de un dataframe\n",
        "print(Apertura_Peru)"
      ],
      "metadata": {
        "id": "ECSHOybZHy6v"
      },
      "execution_count": null,
      "outputs": []
    },
    {
      "cell_type": "code",
      "source": [
        "Cierre_precio_anterior_Peru = Peru10.iat[3,0]\n",
        "print(Cierre_precio_anterior_Peru)"
      ],
      "metadata": {
        "id": "_Bd8qR4eHzBK"
      },
      "execution_count": null,
      "outputs": []
    },
    {
      "cell_type": "code",
      "source": [
        "Cierre_precio_anterior5dias_Peru= Peru10.iat[0,0]\n",
        "print(Cierre_precio_anterior5dias_Peru)"
      ],
      "metadata": {
        "id": "Lh7SBvlCHzV1"
      },
      "execution_count": null,
      "outputs": []
    },
    {
      "cell_type": "markdown",
      "metadata": {
        "id": "g93HhYTUNuSo"
      },
      "source": [
        "**Monedas**"
      ]
    },
    {
      "cell_type": "markdown",
      "metadata": {
        "id": "6G9b8ApkNw5_"
      },
      "source": [
        "**Dolar**"
      ]
    },
    {
      "cell_type": "code",
      "metadata": {
        "id": "rU_iqnjGN8KG"
      },
      "source": [
        "Dolar=inv.get_currency_cross_recent_data(\"USD/COP\")\n",
        "Dolar10=Dolar[[\"Close\",\"Open\"]].tail()\n",
        "print(Dolar10)"
      ],
      "execution_count": null,
      "outputs": []
    },
    {
      "cell_type": "code",
      "source": [
        "Apertura_Dolar = (Dolar10.iat[4,1]) # Este comando esta extraer un valor especifico de un dataframe\n",
        "print(Apertura_Dolar)"
      ],
      "metadata": {
        "id": "AAX1Sm5TIG67"
      },
      "execution_count": null,
      "outputs": []
    },
    {
      "cell_type": "code",
      "source": [
        "Cierre_precio_anterior_Dolar = Dolar10.iat[3,0]\n",
        "print(Cierre_precio_anterior_Dolar)"
      ],
      "metadata": {
        "id": "m-WxtkLVIHrc"
      },
      "execution_count": null,
      "outputs": []
    },
    {
      "cell_type": "code",
      "source": [
        "Cierre_precio_anterior5dias_Dolar= Dolar10.iat[0,0]\n",
        "print(Cierre_precio_anterior5dias_Dolar)"
      ],
      "metadata": {
        "id": "9yHnc83PIH1a"
      },
      "execution_count": null,
      "outputs": []
    },
    {
      "cell_type": "markdown",
      "metadata": {
        "id": "LEJ-am6_N39V"
      },
      "source": [
        "**Euro**"
      ]
    },
    {
      "cell_type": "code",
      "metadata": {
        "id": "rp8ZBd0ON8z8"
      },
      "source": [
        "Euro=inv.get_currency_cross_recent_data(\"EUR/COP\")\n",
        "Euro10=Euro[[\"Close\",\"Open\"]].tail()\n",
        "print(Euro10)"
      ],
      "execution_count": null,
      "outputs": []
    },
    {
      "cell_type": "code",
      "source": [
        "Apertura_Euro = (Euro10.iat[4,1]) # Este comando esta extraer un valor especifico de un dataframe\n",
        "print(Apertura_Euro)"
      ],
      "metadata": {
        "id": "Buzj53lQIa70"
      },
      "execution_count": null,
      "outputs": []
    },
    {
      "cell_type": "code",
      "source": [
        "Cierre_precio_anterior_Euro = Euro10.iat[3,0]\n",
        "print(Cierre_precio_anterior_Euro)"
      ],
      "metadata": {
        "id": "8uB8f23lIbHY"
      },
      "execution_count": null,
      "outputs": []
    },
    {
      "cell_type": "code",
      "source": [
        "Cierre_precio_anterior5dias_Euro= Euro10.iat[0,0]\n",
        "print(Cierre_precio_anterior5dias_Euro)"
      ],
      "metadata": {
        "id": "lcg5cAViIbSK"
      },
      "execution_count": null,
      "outputs": []
    },
    {
      "cell_type": "markdown",
      "metadata": {
        "id": "S8J_1X2RHLyq"
      },
      "source": [
        "# **Descargar Datos**\n",
        "\n"
      ]
    },
    {
      "cell_type": "code",
      "metadata": {
        "id": "FMXQjWY3JS21"
      },
      "source": [
        "##Historica_data5= pd.concat([Historica_data1,Historica_data2,Historica_data3,Historica_data],axis=1)\n",
        "## print(Historica_data5)"
      ],
      "execution_count": null,
      "outputs": []
    },
    {
      "cell_type": "code",
      "metadata": {
        "id": "GWGL1jBUB5-u"
      },
      "source": [
        "## data1=pd.concat([Bovespa1,Mexico1,Chile1,Colombia1,brent10,WTI10,Oro10,Cobre10,Maiz10,soja10,Cafe10,Azucar10,Estados_unidos10,\n",
        "                ##  Alemania10,Reino_unido10,Francia10,Italia10,Japon10,Brazil10,Mexico10,Chile10,Argentina10,Colombia10,Peru10,Dolar10,Euro10],axis=1)     \n",
        "## print(data1)"
      ],
      "execution_count": null,
      "outputs": []
    },
    {
      "cell_type": "code",
      "source": [
        "## data2=data1.fillna(method=\"ffill\")#rellenar Datos Hacia adelante \n",
        "## print(data2)"
      ],
      "metadata": {
        "id": "zvq2fHSLADYT"
      },
      "execution_count": null,
      "outputs": []
    },
    {
      "cell_type": "code",
      "source": [
        " ## data3=data2.fillna(method=\"bfill\")#rellenar Datos hacia atras \n",
        "## print(data3)"
      ],
      "metadata": {
        "id": "eLq8FJ9CDwR7"
      },
      "execution_count": null,
      "outputs": []
    },
    {
      "cell_type": "markdown",
      "metadata": {
        "id": "6szvWYcuGvPX"
      },
      "source": [
        "**Descargar datos**"
      ]
    },
    {
      "cell_type": "code",
      "metadata": {
        "id": "Areidc1-CP-s"
      },
      "source": [
        "## data3.to_excel(\"Bitacora.xlsx\")\n",
        "## files.download(\"Bitacora.xlsx\")"
      ],
      "execution_count": null,
      "outputs": []
    },
    {
      "cell_type": "markdown",
      "source": [
        "# **Conexion Python y Excel**"
      ],
      "metadata": {
        "id": "oq5Exu6Zak7n"
      }
    },
    {
      "cell_type": "code",
      "source": [
        "Nueva_bitacora_py = load_workbook(\"Nueva bitacora.xlsx\")"
      ],
      "metadata": {
        "id": "KSHURtraT__G"
      },
      "execution_count": null,
      "outputs": []
    },
    {
      "cell_type": "code",
      "source": [
        "Prueba = Nueva_bitacora_py[\"Tabla oficial\"]"
      ],
      "metadata": {
        "id": "1jSyDcq2VLBb"
      },
      "execution_count": null,
      "outputs": []
    },
    {
      "cell_type": "markdown",
      "source": [
        "**Dow Jones**"
      ],
      "metadata": {
        "id": "2vuAO22q8oxL"
      }
    },
    {
      "cell_type": "markdown",
      "source": [
        "**Apertura**"
      ],
      "metadata": {
        "id": "fiMmShZf8wgj"
      }
    },
    {
      "cell_type": "code",
      "source": [
        "C6=Prueba[\"c6\"]= Apertura_indice_Dow_Jones_Industrial\n",
        "print(C6)"
      ],
      "metadata": {
        "id": "uN7u6zaN80Dz"
      },
      "execution_count": null,
      "outputs": []
    },
    {
      "cell_type": "markdown",
      "source": [
        "**Cierre anterior**"
      ],
      "metadata": {
        "id": "h0xdMKdo8yHd"
      }
    },
    {
      "cell_type": "code",
      "source": [
        "D6=Prueba[\"D6\"]= Cierre_precio_anterior_Dow_Jones_Industrial\n",
        "print(D6)"
      ],
      "metadata": {
        "id": "6id-hmjn80f6"
      },
      "execution_count": null,
      "outputs": []
    },
    {
      "cell_type": "markdown",
      "source": [
        "**Cierre a 5 dias**"
      ],
      "metadata": {
        "id": "kO1iz6g68zie"
      }
    },
    {
      "cell_type": "code",
      "source": [
        "A6=Prueba[\"A6\"]= Cierre_precio_anterior5dias_Dow_Jones_Industrial\n",
        "print(A6)"
      ],
      "metadata": {
        "id": "HdKQDLzN808a"
      },
      "execution_count": null,
      "outputs": []
    },
    {
      "cell_type": "markdown",
      "source": [
        "**S&P500**"
      ],
      "metadata": {
        "id": "NUojbLvS816r"
      }
    },
    {
      "cell_type": "markdown",
      "source": [
        "**Apertura**"
      ],
      "metadata": {
        "id": "2BFafJ7o88Px"
      }
    },
    {
      "cell_type": "code",
      "source": [
        "C7=Prueba[\"c7\"]= Apertura_indice_SP_500\n",
        "print(C7)"
      ],
      "metadata": {
        "id": "Qaf69RKN8_T6"
      },
      "execution_count": null,
      "outputs": []
    },
    {
      "cell_type": "markdown",
      "source": [
        "**Cierre anterior**"
      ],
      "metadata": {
        "id": "rfvmvfPb89eM"
      }
    },
    {
      "cell_type": "code",
      "source": [
        "D7=Prueba[\"D7\"]= Cierre_precio_anterior_SP_500\n",
        "print(D7)"
      ],
      "metadata": {
        "id": "AGMwTT5R8_t4"
      },
      "execution_count": null,
      "outputs": []
    },
    {
      "cell_type": "markdown",
      "source": [
        "**Cierre a 5 dias**"
      ],
      "metadata": {
        "id": "rITJMwvN8-oL"
      }
    },
    {
      "cell_type": "code",
      "source": [
        "A7=Prueba[\"A7\"]= Cierre_precio_anterior5dias_SP_500\n",
        "print(A7)"
      ],
      "metadata": {
        "id": "H0_rMH5z9GDi"
      },
      "execution_count": null,
      "outputs": []
    },
    {
      "cell_type": "markdown",
      "source": [
        "**Euro Stoxx**"
      ],
      "metadata": {
        "id": "yV3AIcvS1eux"
      }
    },
    {
      "cell_type": "markdown",
      "source": [
        "**Apertura**"
      ],
      "metadata": {
        "id": "ORqTRH3r1qfJ"
      }
    },
    {
      "cell_type": "code",
      "source": [
        "C9=Prueba[\"c9\"]= Apertura_indice_Euro_Stoxx_50\n",
        "print(C9)"
      ],
      "metadata": {
        "id": "FoZPQX6-1u4j"
      },
      "execution_count": null,
      "outputs": []
    },
    {
      "cell_type": "markdown",
      "source": [
        "**Cierre anterior**"
      ],
      "metadata": {
        "id": "OeV4JNo01sYt"
      }
    },
    {
      "cell_type": "code",
      "source": [
        "D9=Prueba[\"D9\"]= Cierre_precio_anterior_Euro_Stoxx_50\n",
        "print(D9)"
      ],
      "metadata": {
        "id": "8rJVwnoO1vbc"
      },
      "execution_count": null,
      "outputs": []
    },
    {
      "cell_type": "markdown",
      "source": [
        "**Cierre a 5 dias**"
      ],
      "metadata": {
        "id": "PEgY3m1B1uQe"
      }
    },
    {
      "cell_type": "code",
      "source": [
        "A9=Prueba[\"A9\"]= Cierre_precio_anterior5dias_Euro_Stoxx_50\n",
        "print(A9)"
      ],
      "metadata": {
        "id": "trLnpnFR1wAb"
      },
      "execution_count": null,
      "outputs": []
    },
    {
      "cell_type": "markdown",
      "source": [
        "**Dax**"
      ],
      "metadata": {
        "id": "997sJ0BB1wir"
      }
    },
    {
      "cell_type": "markdown",
      "source": [
        "**Apertura**"
      ],
      "metadata": {
        "id": "1ibo7jzU11MV"
      }
    },
    {
      "cell_type": "code",
      "source": [
        "C10=Prueba[\"c10\"]= Apertura_indice_Dax_Alemania\t\n",
        "print(C10)"
      ],
      "metadata": {
        "id": "Au7fu3mX15A7"
      },
      "execution_count": null,
      "outputs": []
    },
    {
      "cell_type": "markdown",
      "source": [
        "**Cierre anterior**"
      ],
      "metadata": {
        "id": "F3826vlP12kH"
      }
    },
    {
      "cell_type": "code",
      "source": [
        "D10=Prueba[\"D10\"]= Cierre_precio_anterior_Dax_Alemania\n",
        "print(D10)"
      ],
      "metadata": {
        "id": "16GFI4SG15rU"
      },
      "execution_count": null,
      "outputs": []
    },
    {
      "cell_type": "markdown",
      "source": [
        "**Cierre a 5 dias**"
      ],
      "metadata": {
        "id": "wyllO1T61334"
      }
    },
    {
      "cell_type": "code",
      "source": [
        "A10=Prueba[\"A10\"]= Cierre_precio_anterior5dias_Dax_Alemania\n",
        "print(A10)"
      ],
      "metadata": {
        "id": "3Zc7aKg-16YG"
      },
      "execution_count": null,
      "outputs": []
    },
    {
      "cell_type": "markdown",
      "source": [
        "**Nikkei 225**"
      ],
      "metadata": {
        "id": "KZ_QLp4j17XE"
      }
    },
    {
      "cell_type": "markdown",
      "source": [
        "**Apertura**"
      ],
      "metadata": {
        "id": "OsIKRNzh2A48"
      }
    },
    {
      "cell_type": "code",
      "source": [
        "C12=Prueba[\"c12\"]= Apertura_indice_Dax_Nikkei_225\n",
        "print(C12)"
      ],
      "metadata": {
        "id": "Z9NjNmrs2ECN"
      },
      "execution_count": null,
      "outputs": []
    },
    {
      "cell_type": "markdown",
      "source": [
        "**Cierre anterior**"
      ],
      "metadata": {
        "id": "O5NWLqqi2CM4"
      }
    },
    {
      "cell_type": "code",
      "source": [
        "D12=Prueba[\"D12\"]= Cierre_precio_anterior_Dax_Nikkei_225\n",
        "print(D12)"
      ],
      "metadata": {
        "id": "jfQWIioS2Em8"
      },
      "execution_count": null,
      "outputs": []
    },
    {
      "cell_type": "markdown",
      "source": [
        "**Cierre a 5 dias**"
      ],
      "metadata": {
        "id": "V3DuT0302DmR"
      }
    },
    {
      "cell_type": "code",
      "source": [
        "A12=Prueba[\"A12\"]= Cierre_precio_anterior5dias_Dax_Nikkei_225\n",
        "print(A12)"
      ],
      "metadata": {
        "id": "y64cOa-A2FPD"
      },
      "execution_count": null,
      "outputs": []
    },
    {
      "cell_type": "markdown",
      "source": [
        "**Hang Seng**"
      ],
      "metadata": {
        "id": "g4uG4Hsu2GIz"
      }
    },
    {
      "cell_type": "markdown",
      "source": [
        "**Apertura**"
      ],
      "metadata": {
        "id": "Z1LIEFVr2KfN"
      }
    },
    {
      "cell_type": "code",
      "source": [
        "C13=Prueba[\"c13\"]= Apertura_indice_Hang_seng\n",
        "\n",
        "print(C13)"
      ],
      "metadata": {
        "id": "vdvhwkHU2Npl"
      },
      "execution_count": null,
      "outputs": []
    },
    {
      "cell_type": "markdown",
      "source": [
        "**Cierre anterior**"
      ],
      "metadata": {
        "id": "_Kn2or9Y2Lwh"
      }
    },
    {
      "cell_type": "code",
      "source": [
        "D13=Prueba[\"D13\"]= Cierre_precio_anterior_Hang_seng \n",
        "print(D13)"
      ],
      "metadata": {
        "id": "FjNH6xxa2OI8"
      },
      "execution_count": null,
      "outputs": []
    },
    {
      "cell_type": "markdown",
      "source": [
        "**Cierre a 5 dias**"
      ],
      "metadata": {
        "id": "8XAQtUgq2NDo"
      }
    },
    {
      "cell_type": "code",
      "source": [
        "A13=Prueba[\"A13\"]= Cierre_precio_anterior5dias_Hang_seng\n",
        "print(A13)"
      ],
      "metadata": {
        "id": "ApLT38-u2Ox2"
      },
      "execution_count": null,
      "outputs": []
    },
    {
      "cell_type": "markdown",
      "source": [
        "**Brazil-Nueva Bitacora**"
      ],
      "metadata": {
        "id": "_kZi1d-RL1nA"
      }
    },
    {
      "cell_type": "markdown",
      "source": [
        "**Apertura**"
      ],
      "metadata": {
        "id": "zTFpgGH2MCdw"
      }
    },
    {
      "cell_type": "code",
      "source": [
        "C15=Prueba[\"c15\"]\n",
        "print(C15.value)"
      ],
      "metadata": {
        "id": "fIAx7BDqL4ry"
      },
      "execution_count": null,
      "outputs": []
    },
    {
      "cell_type": "code",
      "source": [
        "C15=Prueba[\"c15\"]= Apertura_indice_Brazil\n",
        "print(C15)"
      ],
      "metadata": {
        "id": "0ThV212lL_JA"
      },
      "execution_count": null,
      "outputs": []
    },
    {
      "cell_type": "markdown",
      "source": [
        "**Cierre anterior**"
      ],
      "metadata": {
        "id": "8wZjJjyGML1o"
      }
    },
    {
      "cell_type": "code",
      "source": [
        "D15=Prueba[\"D15\"] # Revisar \n",
        "print(D15.value)"
      ],
      "metadata": {
        "id": "p7_0PgyoMc9Q"
      },
      "execution_count": null,
      "outputs": []
    },
    {
      "cell_type": "code",
      "source": [
        "D15=Prueba[\"D15\"]= Cierre_precio_anterior__indice_Brazil\n",
        "print(D15)"
      ],
      "metadata": {
        "id": "aeKCYixGMi-6"
      },
      "execution_count": null,
      "outputs": []
    },
    {
      "cell_type": "markdown",
      "source": [
        "**Cierre a 5 dias**"
      ],
      "metadata": {
        "id": "Utqw6HoLMTmH"
      }
    },
    {
      "cell_type": "code",
      "source": [
        "A15=Prueba[\"A15\"] # Revisar\n",
        "print(A15.value)"
      ],
      "metadata": {
        "id": "PzTsT7e2gdtD"
      },
      "execution_count": null,
      "outputs": []
    },
    {
      "cell_type": "code",
      "source": [
        "A15=Prueba[\"A15\"]= Cierre_precio_anterior5dias_indice_Brazil\n",
        "print(A15)"
      ],
      "metadata": {
        "id": "Zug_FsA2Xc5D"
      },
      "execution_count": null,
      "outputs": []
    },
    {
      "cell_type": "markdown",
      "source": [
        "**Mexico Nueva Bitacora**"
      ],
      "metadata": {
        "id": "KIsuOH6ZMwz7"
      }
    },
    {
      "cell_type": "markdown",
      "source": [
        "**Apertura**"
      ],
      "metadata": {
        "id": "lCe3YlAbM_bm"
      }
    },
    {
      "cell_type": "code",
      "source": [
        "C16=Prueba[\"C16\"] \n",
        "print(C16.value)"
      ],
      "metadata": {
        "id": "gUe8SVqONaJA"
      },
      "execution_count": null,
      "outputs": []
    },
    {
      "cell_type": "code",
      "source": [
        "C16=Prueba[\"C16\"]= Apertura_indice_Mexico\n",
        "print(C16)"
      ],
      "metadata": {
        "id": "fmoWYt3XNaUs"
      },
      "execution_count": null,
      "outputs": []
    },
    {
      "cell_type": "markdown",
      "source": [
        "**Cierre anterior**"
      ],
      "metadata": {
        "id": "2YQzWf5GNUxo"
      }
    },
    {
      "cell_type": "code",
      "source": [
        "D16=Prueba[\"D16\"] \n",
        "print(D16.value)"
      ],
      "metadata": {
        "id": "CQRV9DAoNbDg"
      },
      "execution_count": null,
      "outputs": []
    },
    {
      "cell_type": "code",
      "source": [
        "D16=Prueba[\"D16\"]= Cierre_precio_anterior_indice_Mexico\n",
        "print(D16)"
      ],
      "metadata": {
        "id": "VTZOinmuNbOB"
      },
      "execution_count": null,
      "outputs": []
    },
    {
      "cell_type": "markdown",
      "source": [
        "**Cierre a 5 dias**"
      ],
      "metadata": {
        "id": "rZA4wdVjNYJt"
      }
    },
    {
      "cell_type": "code",
      "source": [
        "A16=Prueba[\"A16\"] \n",
        "print(A16.value)"
      ],
      "metadata": {
        "id": "qQ6XtL0MNb-D"
      },
      "execution_count": null,
      "outputs": []
    },
    {
      "cell_type": "code",
      "source": [
        "A16=Prueba[\"A16\"]= Cierre_precio_anterior5dias_indice_Mexico\n",
        "print(A16)"
      ],
      "metadata": {
        "id": "FTNkvA9HNcIb"
      },
      "execution_count": null,
      "outputs": []
    },
    {
      "cell_type": "markdown",
      "source": [
        "**Chile Nueva Bitacora**"
      ],
      "metadata": {
        "id": "6lMuQ1VbNfWZ"
      }
    },
    {
      "cell_type": "markdown",
      "source": [
        "**Apertura**"
      ],
      "metadata": {
        "id": "bxA73UV3NoHF"
      }
    },
    {
      "cell_type": "code",
      "source": [
        "C17=Prueba[\"C17\"] \n",
        "print(C17.value)"
      ],
      "metadata": {
        "id": "xZupSHMsNoha"
      },
      "execution_count": null,
      "outputs": []
    },
    {
      "cell_type": "code",
      "source": [
        "C17=Prueba[\"C17\"]= Apertura__indice_Chile\n",
        "print(C17)"
      ],
      "metadata": {
        "id": "-kCxPkPvNopM"
      },
      "execution_count": null,
      "outputs": []
    },
    {
      "cell_type": "markdown",
      "source": [
        "**Cierre anterior**"
      ],
      "metadata": {
        "id": "ZFeQUI_iNuMs"
      }
    },
    {
      "cell_type": "code",
      "source": [
        "D17=Prueba[\"D17\"] \n",
        "print(D17.value)"
      ],
      "metadata": {
        "id": "TWNEVCrGNutX"
      },
      "execution_count": null,
      "outputs": []
    },
    {
      "cell_type": "code",
      "source": [
        "D17=Prueba[\"D17\"]= Cierre_precio_anterior_indice_Chile\n",
        "print(D16)"
      ],
      "metadata": {
        "id": "d84yp2g4Nu20"
      },
      "execution_count": null,
      "outputs": []
    },
    {
      "cell_type": "markdown",
      "source": [
        "**Cierre a 5 dias**"
      ],
      "metadata": {
        "id": "rcYsMoe0Nxep"
      }
    },
    {
      "cell_type": "code",
      "source": [
        "A17=Prueba[\"A17\"] \n",
        "print(A17.value)"
      ],
      "metadata": {
        "id": "deUJ68eGNyPg"
      },
      "execution_count": null,
      "outputs": []
    },
    {
      "cell_type": "code",
      "source": [
        "A17=Prueba[\"A17\"]= Cierre_precio_anterior5dias_indice_Chile \n",
        "print(A17)"
      ],
      "metadata": {
        "id": "ZomqfPlKNyaP"
      },
      "execution_count": null,
      "outputs": []
    },
    {
      "cell_type": "markdown",
      "source": [
        " **Colombia Nueva Bitacora**"
      ],
      "metadata": {
        "id": "RdQg5orKN8xf"
      }
    },
    {
      "cell_type": "markdown",
      "source": [
        "**Apertura**"
      ],
      "metadata": {
        "id": "ZnrndGEIOSCe"
      }
    },
    {
      "cell_type": "code",
      "source": [
        "C18=Prueba[\"C18\"] \n",
        "print(C18.value)"
      ],
      "metadata": {
        "id": "WGtAuER9OSkp"
      },
      "execution_count": null,
      "outputs": []
    },
    {
      "cell_type": "code",
      "source": [
        "C18=Prueba[\"C18\"]= Apertura_indice_Colombia \n",
        "print(C18)"
      ],
      "metadata": {
        "id": "Ivu2hs4HOStb"
      },
      "execution_count": null,
      "outputs": []
    },
    {
      "cell_type": "markdown",
      "source": [
        "**Cierre anterior**"
      ],
      "metadata": {
        "id": "QyPM-fIuOWOq"
      }
    },
    {
      "cell_type": "code",
      "source": [
        "D18=Prueba[\"D18\"] \n",
        "print(D18.value)"
      ],
      "metadata": {
        "id": "cdiCJXRPOW2h"
      },
      "execution_count": null,
      "outputs": []
    },
    {
      "cell_type": "code",
      "source": [
        "D18=Prueba[\"D18\"]= Cierre_precio_anterior_indice_Colombia\n",
        "print(D18)"
      ],
      "metadata": {
        "id": "aT8vubmTOXBI"
      },
      "execution_count": null,
      "outputs": []
    },
    {
      "cell_type": "markdown",
      "source": [
        "**Cierre a 5 dias**"
      ],
      "metadata": {
        "id": "xj7q1S8aOY0o"
      }
    },
    {
      "cell_type": "code",
      "source": [
        "A18=Prueba[\"A18\"] \n",
        "print(A18.value)"
      ],
      "metadata": {
        "id": "43sXwySxOZR6"
      },
      "execution_count": null,
      "outputs": []
    },
    {
      "cell_type": "code",
      "source": [
        "A18=Prueba[\"A18\"]= Cierre_precio_anterior5dias_indice_Colombia \n",
        "print(A18)"
      ],
      "metadata": {
        "id": "vn0o0u-COZbH"
      },
      "execution_count": null,
      "outputs": []
    },
    {
      "cell_type": "markdown",
      "source": [
        "**Materias Primas -Nueva Bitacora**"
      ],
      "metadata": {
        "id": "jy5uGEC2Rtw1"
      }
    },
    {
      "cell_type": "markdown",
      "source": [
        "**Brent**"
      ],
      "metadata": {
        "id": "9y3ZHXn8STEJ"
      }
    },
    {
      "cell_type": "markdown",
      "source": [
        "**Apertura**"
      ],
      "metadata": {
        "id": "5NESsYFASFG9"
      }
    },
    {
      "cell_type": "code",
      "source": [
        "C25=Prueba[\"c25\"] \n",
        "print(C25.value)"
      ],
      "metadata": {
        "id": "zVPd26YXSPOz"
      },
      "execution_count": null,
      "outputs": []
    },
    {
      "cell_type": "code",
      "source": [
        "C25=Prueba[\"C25\"]= Apertura_brent\n",
        "print(C25)"
      ],
      "metadata": {
        "id": "_1FkZLU1SPZo"
      },
      "execution_count": null,
      "outputs": []
    },
    {
      "cell_type": "markdown",
      "source": [
        "**Cierre anterior**"
      ],
      "metadata": {
        "id": "Z5h4sDSiSMMj"
      }
    },
    {
      "cell_type": "code",
      "source": [
        "D25=Prueba[\"D25\"] \n",
        "print(D25.value)"
      ],
      "metadata": {
        "id": "bfLeS66ySQN0"
      },
      "execution_count": null,
      "outputs": []
    },
    {
      "cell_type": "code",
      "source": [
        "D25=Prueba[\"D25\"]= Cierre_precio_anterior_brent\n",
        "print(D25)"
      ],
      "metadata": {
        "id": "6M6UpDo9SQZO"
      },
      "execution_count": null,
      "outputs": []
    },
    {
      "cell_type": "markdown",
      "source": [
        "**Cierre a 5 dias**"
      ],
      "metadata": {
        "id": "-WSQF2svSOmJ"
      }
    },
    {
      "cell_type": "code",
      "source": [
        "A25=Prueba[\"A25\"] \n",
        "print(A25.value)"
      ],
      "metadata": {
        "id": "xc3Rg8JxSRLZ"
      },
      "execution_count": null,
      "outputs": []
    },
    {
      "cell_type": "code",
      "source": [
        "A25=Prueba[\"A25\"]= Cierre_precio_anterior5dias_brent\n",
        "print(A25)"
      ],
      "metadata": {
        "id": "fRr5hpsFSRWH"
      },
      "execution_count": null,
      "outputs": []
    },
    {
      "cell_type": "markdown",
      "source": [
        "**WTI**"
      ],
      "metadata": {
        "id": "cm63G-HQSX5_"
      }
    },
    {
      "cell_type": "markdown",
      "source": [
        "**Apertura**"
      ],
      "metadata": {
        "id": "cRgu9I3ASfNl"
      }
    },
    {
      "cell_type": "code",
      "source": [
        "C26=Prueba[\"C26\"] \n",
        "print(C26.value)"
      ],
      "metadata": {
        "id": "ZMSg3sLqSava"
      },
      "execution_count": null,
      "outputs": []
    },
    {
      "cell_type": "code",
      "source": [
        "C26=Prueba[\"C26\"]= Apertura_WTI\n",
        "print(C26)"
      ],
      "metadata": {
        "id": "rnHwe_-mSa6-"
      },
      "execution_count": null,
      "outputs": []
    },
    {
      "cell_type": "markdown",
      "source": [
        "**Cierre anterior**"
      ],
      "metadata": {
        "id": "Fz93Q1vwSkk_"
      }
    },
    {
      "cell_type": "code",
      "source": [
        "D26=Prueba[\"D26\"] \n",
        "print(D26.value)"
      ],
      "metadata": {
        "id": "en7LBM90TRGD"
      },
      "execution_count": null,
      "outputs": []
    },
    {
      "cell_type": "code",
      "source": [
        "D26=Prueba[\"D26\"]= Cierre_precio_anterior_WTI\n",
        "print(D26)"
      ],
      "metadata": {
        "id": "OCUxX8w7TRRa"
      },
      "execution_count": null,
      "outputs": []
    },
    {
      "cell_type": "markdown",
      "source": [
        "**Cierre a 5 dias**"
      ],
      "metadata": {
        "id": "V3zhKFIrSnJ2"
      }
    },
    {
      "cell_type": "code",
      "source": [
        "A26=Prueba[\"A26\"] \n",
        "print(A26.value)"
      ],
      "metadata": {
        "id": "VHL1Aci0TR5k"
      },
      "execution_count": null,
      "outputs": []
    },
    {
      "cell_type": "code",
      "source": [
        "A26=Prueba[\"A26\"]= Cierre_precio_anterior5dias_WTI \n",
        "print(A26)"
      ],
      "metadata": {
        "id": "oSjbxJaZTSDx"
      },
      "execution_count": null,
      "outputs": []
    },
    {
      "cell_type": "markdown",
      "source": [
        "**Oro**"
      ],
      "metadata": {
        "id": "WT7ZEa4uSrwD"
      }
    },
    {
      "cell_type": "markdown",
      "source": [
        "**Apertura**"
      ],
      "metadata": {
        "id": "QhQRwFquSxfK"
      }
    },
    {
      "cell_type": "code",
      "source": [
        "C28=Prueba[\"C28\"] \n",
        "print(C28.value)"
      ],
      "metadata": {
        "id": "Mo3nBmnZS1rz"
      },
      "execution_count": null,
      "outputs": []
    },
    {
      "cell_type": "code",
      "source": [
        "C28=Prueba[\"C28\"]= Apertura_oro\n",
        "print(C28)"
      ],
      "metadata": {
        "id": "ASjhnt_mS14H"
      },
      "execution_count": null,
      "outputs": []
    },
    {
      "cell_type": "markdown",
      "source": [
        "**Cierre anterior**"
      ],
      "metadata": {
        "id": "Kss75ileSzJN"
      }
    },
    {
      "cell_type": "code",
      "source": [
        "D28=Prueba[\"D28\"] \n",
        "print(D28.value)"
      ],
      "metadata": {
        "id": "U4pnh4gdS2ej"
      },
      "execution_count": null,
      "outputs": []
    },
    {
      "cell_type": "code",
      "source": [
        "D28=Prueba[\"D28\"]= Cierre_precio_anterior_oro\n",
        "print(D28)"
      ],
      "metadata": {
        "id": "EM9ndw5TS2on"
      },
      "execution_count": null,
      "outputs": []
    },
    {
      "cell_type": "markdown",
      "source": [
        "**Cierre a 5 dias**"
      ],
      "metadata": {
        "id": "8KMf-BayS0zc"
      }
    },
    {
      "cell_type": "code",
      "source": [
        "A28=Prueba[\"A28\"] \n",
        "print(A28.value)"
      ],
      "metadata": {
        "id": "mfYnB7uWS3eT"
      },
      "execution_count": null,
      "outputs": []
    },
    {
      "cell_type": "code",
      "source": [
        "A28=Prueba[\"A28\"]= Cierre_precio_anterior5dias_oro\n",
        "print(A28)"
      ],
      "metadata": {
        "id": "iACugrcQS3og"
      },
      "execution_count": null,
      "outputs": []
    },
    {
      "cell_type": "markdown",
      "source": [
        "**Cobre**"
      ],
      "metadata": {
        "id": "XPFjcCqhTi23"
      }
    },
    {
      "cell_type": "markdown",
      "source": [
        "**Apertura**"
      ],
      "metadata": {
        "id": "tnWRX-0aTn3G"
      }
    },
    {
      "cell_type": "code",
      "source": [
        "C29=Prueba[\"C29\"]= Apertura_cobre\n",
        "print(C29)"
      ],
      "metadata": {
        "id": "jyPR8WPATscX"
      },
      "execution_count": null,
      "outputs": []
    },
    {
      "cell_type": "markdown",
      "source": [
        "**Cierre anterior**"
      ],
      "metadata": {
        "id": "sOTXRFZHTpoN"
      }
    },
    {
      "cell_type": "code",
      "source": [
        "D29=Prueba[\"D29\"]= Cierre_precio_anterior_cobre\n",
        "print(D29)"
      ],
      "metadata": {
        "id": "GKujuLTNTtaQ"
      },
      "execution_count": null,
      "outputs": []
    },
    {
      "cell_type": "markdown",
      "source": [
        "**Cierre a 5 dias**"
      ],
      "metadata": {
        "id": "BWp-mnVaTrKQ"
      }
    },
    {
      "cell_type": "code",
      "source": [
        "A29=Prueba[\"A29\"]= Cierre_precio_anterior5dias_Cobre\n",
        "print(A29)"
      ],
      "metadata": {
        "id": "BZ0Qbue2TuVZ"
      },
      "execution_count": null,
      "outputs": []
    },
    {
      "cell_type": "markdown",
      "source": [
        "**Maiz**"
      ],
      "metadata": {
        "id": "9-FVz-vKTwBj"
      }
    },
    {
      "cell_type": "markdown",
      "source": [
        "**Apertura**"
      ],
      "metadata": {
        "id": "_smumr1-T-Uv"
      }
    },
    {
      "cell_type": "code",
      "source": [
        "C31=Prueba[\"C31\"]= Apertura_Maiz\n",
        "print(C31)"
      ],
      "metadata": {
        "id": "2WzechxMT_gl"
      },
      "execution_count": null,
      "outputs": []
    },
    {
      "cell_type": "markdown",
      "source": [
        "**Cierre anterior**"
      ],
      "metadata": {
        "id": "ya42f1FsUB0Q"
      }
    },
    {
      "cell_type": "code",
      "source": [
        "D31=Prueba[\"D31\"]= Cierre_precio_anterior_Maiz\n",
        "print(D31)"
      ],
      "metadata": {
        "id": "v090_saHUC8b"
      },
      "execution_count": null,
      "outputs": []
    },
    {
      "cell_type": "markdown",
      "source": [
        "**Cierre a 5 dias**"
      ],
      "metadata": {
        "id": "yEqtDawhUFHs"
      }
    },
    {
      "cell_type": "code",
      "source": [
        "A31=Prueba[\"A31\"]= Cierre_precio_anterior5dias_Maiz\n",
        "print(A31)"
      ],
      "metadata": {
        "id": "mPqp4FmPUGds"
      },
      "execution_count": null,
      "outputs": []
    },
    {
      "cell_type": "markdown",
      "source": [
        "**Soja**"
      ],
      "metadata": {
        "id": "w0pczoIRUG8M"
      }
    },
    {
      "cell_type": "markdown",
      "source": [
        "**Apertura**"
      ],
      "metadata": {
        "id": "SmLldKqAUQLH"
      }
    },
    {
      "cell_type": "code",
      "source": [
        "C32=Prueba[\"C32\"]= Apertura_soja \n",
        "print(C32)"
      ],
      "metadata": {
        "id": "faoi7stDUUqF"
      },
      "execution_count": null,
      "outputs": []
    },
    {
      "cell_type": "markdown",
      "source": [
        "**Cierre anterior**"
      ],
      "metadata": {
        "id": "T4HAQX3uUSlP"
      }
    },
    {
      "cell_type": "code",
      "source": [
        "D32=Prueba[\"D32\"]= Cierre_precio_anterior_soja\n",
        "print(D32)"
      ],
      "metadata": {
        "id": "u1CZ5cBZUVkn"
      },
      "execution_count": null,
      "outputs": []
    },
    {
      "cell_type": "markdown",
      "source": [
        "**Cierre a 5 dias**"
      ],
      "metadata": {
        "id": "Msc53_Y0UUIl"
      }
    },
    {
      "cell_type": "code",
      "source": [
        "A32=Prueba[\"A32\"]= Cierre_precio_anterior5dias_soja\n",
        "print(A32)"
      ],
      "metadata": {
        "id": "c6jHiPd0UWVE"
      },
      "execution_count": null,
      "outputs": []
    },
    {
      "cell_type": "markdown",
      "source": [
        "**Cafe**"
      ],
      "metadata": {
        "id": "ci9r6TxfUYWI"
      }
    },
    {
      "cell_type": "markdown",
      "source": [
        "**Apertura**"
      ],
      "metadata": {
        "id": "iTocSozkUe9E"
      }
    },
    {
      "cell_type": "code",
      "source": [
        "C33=Prueba[\"C33\"]= Apertura_Cafe/100\n",
        "print(C33)"
      ],
      "metadata": {
        "id": "8vlAj_WrUip0"
      },
      "execution_count": null,
      "outputs": []
    },
    {
      "cell_type": "markdown",
      "source": [
        "**Cierre anterior**"
      ],
      "metadata": {
        "id": "3Ba146gzUgoZ"
      }
    },
    {
      "cell_type": "code",
      "source": [
        "D33=Prueba[\"D33\"]= Cierre_precio_anterior_Cafe/100\n",
        "print(D33)"
      ],
      "metadata": {
        "id": "wiN-KvLhUjoN"
      },
      "execution_count": null,
      "outputs": []
    },
    {
      "cell_type": "markdown",
      "source": [
        "**Cierre a 5 dias**"
      ],
      "metadata": {
        "id": "RA85KnYTUiHp"
      }
    },
    {
      "cell_type": "code",
      "source": [
        "A33=Prueba[\"A33\"]= Cierre_precio_anterior5dias_Cafe/100\n",
        "print(A33)"
      ],
      "metadata": {
        "id": "_wgZxWw3Ukab"
      },
      "execution_count": null,
      "outputs": []
    },
    {
      "cell_type": "markdown",
      "source": [
        "**Azucar**"
      ],
      "metadata": {
        "id": "YND7NnB-UogQ"
      }
    },
    {
      "cell_type": "markdown",
      "source": [
        "**Apertura**"
      ],
      "metadata": {
        "id": "Exn3rDk5Uyi-"
      }
    },
    {
      "cell_type": "code",
      "source": [
        "C34=Prueba[\"C34\"]= Apertura_Azucar\n",
        "print(C34)"
      ],
      "metadata": {
        "id": "SFZ_hPBZU14F"
      },
      "execution_count": null,
      "outputs": []
    },
    {
      "cell_type": "markdown",
      "source": [
        "**Cierre anterior**"
      ],
      "metadata": {
        "id": "7uzKhYvWUz0r"
      }
    },
    {
      "cell_type": "code",
      "source": [
        "D34=Prueba[\"D34\"]= Cierre_precio_anterior_Azucar\n",
        "print(D34)"
      ],
      "metadata": {
        "id": "24ygrLH0U2V8"
      },
      "execution_count": null,
      "outputs": []
    },
    {
      "cell_type": "markdown",
      "source": [
        "**Cierre a 5 dias**"
      ],
      "metadata": {
        "id": "CPgFBVHAU1K8"
      }
    },
    {
      "cell_type": "code",
      "source": [
        "A34=Prueba[\"A34\"]= Cierre_precio_anterior5dias_Azucar\n",
        "print(A34)"
      ],
      "metadata": {
        "id": "-2IIwihJU3Fs"
      },
      "execution_count": null,
      "outputs": []
    },
    {
      "cell_type": "markdown",
      "source": [
        "**Renta Fija**"
      ],
      "metadata": {
        "id": "vSOUAZmiU6Wo"
      }
    },
    {
      "cell_type": "markdown",
      "source": [
        "**EE.UU**"
      ],
      "metadata": {
        "id": "BveO6bIaU-BB"
      }
    },
    {
      "cell_type": "markdown",
      "source": [
        "**Apertura**"
      ],
      "metadata": {
        "id": "8r_9GQVpVIGA"
      }
    },
    {
      "cell_type": "code",
      "source": [
        "k6 =Prueba[\"k6\"]= Apertura_Estados_unidos/100\n",
        "print(k6)"
      ],
      "metadata": {
        "id": "GLRUushjVIyg"
      },
      "execution_count": null,
      "outputs": []
    },
    {
      "cell_type": "markdown",
      "source": [
        "**Cierre anterior**"
      ],
      "metadata": {
        "id": "1V4AhiMlVKn2"
      }
    },
    {
      "cell_type": "code",
      "source": [
        "l6=Prueba[\"l6\"]= Cierre_precio_anterior_Estados_unidos/100\n",
        "print(l6)"
      ],
      "metadata": {
        "id": "MNcwRDG8VMZj"
      },
      "execution_count": null,
      "outputs": []
    },
    {
      "cell_type": "markdown",
      "source": [
        "**Cierre a 5 dias**"
      ],
      "metadata": {
        "id": "5obPzWJIVMrF"
      }
    },
    {
      "cell_type": "code",
      "source": [
        "q6=Prueba[\"q6\"]= Cierre_precio_anterior5dias_Estados_unidos/100\n",
        "print(q6)"
      ],
      "metadata": {
        "id": "YLhgZHciVNe7"
      },
      "execution_count": null,
      "outputs": []
    },
    {
      "cell_type": "markdown",
      "source": [
        "**Alemania**"
      ],
      "metadata": {
        "id": "ZYBJMG6kVOM8"
      }
    },
    {
      "cell_type": "markdown",
      "source": [
        "**Apertura**"
      ],
      "metadata": {
        "id": "Be_0MDoXVarl"
      }
    },
    {
      "cell_type": "code",
      "source": [
        "k7=Prueba[\"k7\"]= Apertura_Alemania/100\n",
        "print(k7)"
      ],
      "metadata": {
        "id": "CvNUOZYOVdwo"
      },
      "execution_count": null,
      "outputs": []
    },
    {
      "cell_type": "markdown",
      "source": [
        "**Cierre anterior**"
      ],
      "metadata": {
        "id": "7lkZR6ElVb2X"
      }
    },
    {
      "cell_type": "code",
      "source": [
        "l7=Prueba[\"l7\"]= Cierre_precio_anterior_Alemania/100\n",
        "print(l7)"
      ],
      "metadata": {
        "id": "r-mx0ztHVee8"
      },
      "execution_count": null,
      "outputs": []
    },
    {
      "cell_type": "markdown",
      "source": [
        "**Cierre a 5 dias**"
      ],
      "metadata": {
        "id": "mClhneOGVdNS"
      }
    },
    {
      "cell_type": "code",
      "source": [
        "q7=Prueba[\"q7\"]= Cierre_precio_anterior5dias_Alemania/100\n",
        "print(q7)"
      ],
      "metadata": {
        "id": "yWHlw3LDVfFi"
      },
      "execution_count": null,
      "outputs": []
    },
    {
      "cell_type": "markdown",
      "source": [
        "**Reino Unido**"
      ],
      "metadata": {
        "id": "GFSZzfmWVhQR"
      }
    },
    {
      "cell_type": "markdown",
      "source": [
        "**Apertura**"
      ],
      "metadata": {
        "id": "NK9ZXMxbVltm"
      }
    },
    {
      "cell_type": "code",
      "source": [
        "K8=Prueba[\"k8\"]= Apertura_Reino_unido/100\n",
        "print(K8)"
      ],
      "metadata": {
        "id": "2bmDa48fVpM2"
      },
      "execution_count": null,
      "outputs": []
    },
    {
      "cell_type": "markdown",
      "source": [
        "**Cierre anterior**"
      ],
      "metadata": {
        "id": "3LVzvoy_VnNz"
      }
    },
    {
      "cell_type": "code",
      "source": [
        "l8=Prueba[\"l8\"]= Cierre_precio_anterior_Reino_unido/100\n",
        "print(l8)"
      ],
      "metadata": {
        "id": "3BJY94flVp8m"
      },
      "execution_count": null,
      "outputs": []
    },
    {
      "cell_type": "markdown",
      "source": [
        "**Cierre a 5 dias**"
      ],
      "metadata": {
        "id": "Hfb5NsnlVocx"
      }
    },
    {
      "cell_type": "code",
      "source": [
        "q8=Prueba[\"q8\"]= Cierre_precio_anterior5dias_Reino_unido/100\n",
        "print(q8)"
      ],
      "metadata": {
        "id": "VJ0DwvHxVkPl"
      },
      "execution_count": null,
      "outputs": []
    },
    {
      "cell_type": "markdown",
      "source": [
        "**Francia**"
      ],
      "metadata": {
        "id": "zlDLjcfeVq_9"
      }
    },
    {
      "cell_type": "markdown",
      "source": [
        "**Apertura**"
      ],
      "metadata": {
        "id": "u0qcfSWUV0he"
      }
    },
    {
      "cell_type": "code",
      "source": [
        "K9=Prueba[\"k9\"]= Apertura_Francia/100\n",
        "print(K9)"
      ],
      "metadata": {
        "id": "wSnOM2N2V37W"
      },
      "execution_count": null,
      "outputs": []
    },
    {
      "cell_type": "markdown",
      "source": [
        "**Cierre anterior**"
      ],
      "metadata": {
        "id": "o6ehN4xyV11W"
      }
    },
    {
      "cell_type": "code",
      "source": [
        "l9=Prueba[\"l9\"]= Cierre_precio_anterior_Francia/100\n",
        "print(l9)"
      ],
      "metadata": {
        "id": "pTLCrYFlV4hg"
      },
      "execution_count": null,
      "outputs": []
    },
    {
      "cell_type": "markdown",
      "source": [
        "**Cierre a 5 dias**"
      ],
      "metadata": {
        "id": "b6QYexuXV3R0"
      }
    },
    {
      "cell_type": "code",
      "source": [
        "q9=Prueba[\"q9\"]= Cierre_precio_anterior5dias_Francia/100\n",
        "print(q9)"
      ],
      "metadata": {
        "id": "EEvWe5cYV5HX"
      },
      "execution_count": null,
      "outputs": []
    },
    {
      "cell_type": "markdown",
      "source": [
        "**Italia**"
      ],
      "metadata": {
        "id": "pGpPanF6V-IS"
      }
    },
    {
      "cell_type": "markdown",
      "source": [
        "**Apertura**"
      ],
      "metadata": {
        "id": "jyGAj_2UWB0P"
      }
    },
    {
      "cell_type": "code",
      "source": [
        "k10=Prueba[\"k10\"]= Apertura_Italia/100\n",
        "print(k10)"
      ],
      "metadata": {
        "id": "0_0o80mPWFPu"
      },
      "execution_count": null,
      "outputs": []
    },
    {
      "cell_type": "markdown",
      "source": [
        "**Cierre anterior**"
      ],
      "metadata": {
        "id": "wYQ3IW9bWDBT"
      }
    },
    {
      "cell_type": "code",
      "source": [
        "l10=Prueba[\"l10\"]= Cierre_precio_anterior_Italia/100\n",
        "print(l10)"
      ],
      "metadata": {
        "id": "QrsG3fPHWF5i"
      },
      "execution_count": null,
      "outputs": []
    },
    {
      "cell_type": "markdown",
      "source": [
        "**Cierre a 5 dias**"
      ],
      "metadata": {
        "id": "8A1eBDx1WEUI"
      }
    },
    {
      "cell_type": "code",
      "source": [
        "q10=Prueba[\"q10\"]= Cierre_precio_anterior5dias_Italia/100\n",
        "print(q10)"
      ],
      "metadata": {
        "id": "fNkvqxLMWGce"
      },
      "execution_count": null,
      "outputs": []
    },
    {
      "cell_type": "markdown",
      "source": [
        "**Japon**"
      ],
      "metadata": {
        "id": "Rq4BaLi8WIIE"
      }
    },
    {
      "cell_type": "markdown",
      "source": [
        "**Apertura**"
      ],
      "metadata": {
        "id": "dPZy7eNTWMU3"
      }
    },
    {
      "cell_type": "code",
      "source": [
        "k11=Prueba[\"k11\"]= Apertura_Japon/100\n",
        "print(k11)"
      ],
      "metadata": {
        "id": "Z7rwQSIYWQZv"
      },
      "execution_count": null,
      "outputs": []
    },
    {
      "cell_type": "markdown",
      "source": [
        "**Cierre anterior**"
      ],
      "metadata": {
        "id": "Y9K7sCG7WNnG"
      }
    },
    {
      "cell_type": "code",
      "source": [
        "l11=Prueba[\"l11\"]= Cierre_precio_anterior_Japon/100\n",
        "print(l11)"
      ],
      "metadata": {
        "id": "ukzR5wzaWRPK"
      },
      "execution_count": null,
      "outputs": []
    },
    {
      "cell_type": "markdown",
      "source": [
        "**Cierre a 5 dias**"
      ],
      "metadata": {
        "id": "mbNUQwKyWPCr"
      }
    },
    {
      "cell_type": "code",
      "source": [
        "q11=Prueba[\"q11\"]= Cierre_precio_anterior5dias_Japon/100\n",
        "print(q11)"
      ],
      "metadata": {
        "id": "SQfw9x7JWSOK"
      },
      "execution_count": null,
      "outputs": []
    },
    {
      "cell_type": "markdown",
      "source": [
        "**Brazil**"
      ],
      "metadata": {
        "id": "mLsL0iQnWWlF"
      }
    },
    {
      "cell_type": "markdown",
      "source": [
        "**Apertura**"
      ],
      "metadata": {
        "id": "KQpH4q6fWac9"
      }
    },
    {
      "cell_type": "code",
      "source": [
        "k13=Prueba[\"k13\"]= Apertura_Brazil/100\n",
        "print(k13)"
      ],
      "metadata": {
        "id": "ui0vWFMIWdxV"
      },
      "execution_count": null,
      "outputs": []
    },
    {
      "cell_type": "markdown",
      "source": [
        "**Cierre anterior**"
      ],
      "metadata": {
        "id": "vtpOi-8-Wb6x"
      }
    },
    {
      "cell_type": "code",
      "source": [
        "l13=Prueba[\"l13\"]= Cierre_precio_anterior_Brazil/100\n",
        "print(l13)"
      ],
      "metadata": {
        "id": "4R_iXmigWeQ8"
      },
      "execution_count": null,
      "outputs": []
    },
    {
      "cell_type": "markdown",
      "source": [
        "**Cierre a 5 dias**"
      ],
      "metadata": {
        "id": "X9G2m4dVWdQY"
      }
    },
    {
      "cell_type": "code",
      "source": [
        "q13=Prueba[\"q13\"]= Cierre_precio_anterior5dias_Brazil/100\n",
        "print(q13)"
      ],
      "metadata": {
        "id": "TEu_oLEXWYcm"
      },
      "execution_count": null,
      "outputs": []
    },
    {
      "cell_type": "markdown",
      "source": [
        "**Mexico**"
      ],
      "metadata": {
        "id": "yXTWROY6Wf-t"
      }
    },
    {
      "cell_type": "markdown",
      "source": [
        "**Apertura**"
      ],
      "metadata": {
        "id": "kgGJRI13WjEs"
      }
    },
    {
      "cell_type": "code",
      "source": [
        "k14=Prueba[\"k14\"]= Apertura_Mexico/100\n",
        "print(k14)"
      ],
      "metadata": {
        "id": "NYMjkog5WmJm"
      },
      "execution_count": null,
      "outputs": []
    },
    {
      "cell_type": "markdown",
      "source": [
        "**Cierre anterior**"
      ],
      "metadata": {
        "id": "iSTnIz5YWkVD"
      }
    },
    {
      "cell_type": "code",
      "source": [
        "l14=Prueba[\"l14\"]= Cierre_precio_anterior_Mexico/100\n",
        "print(l14)"
      ],
      "metadata": {
        "id": "_aXUjG1-Wmzd"
      },
      "execution_count": null,
      "outputs": []
    },
    {
      "cell_type": "markdown",
      "source": [
        "**Cierre a 5 dias**"
      ],
      "metadata": {
        "id": "e_q9NPtFWllJ"
      }
    },
    {
      "cell_type": "code",
      "source": [
        "q14=Prueba[\"q14\"]= Cierre_precio_anterior5dias_Mexico/100\n",
        "print(q14)"
      ],
      "metadata": {
        "id": "ZvSA49wsWnUv"
      },
      "execution_count": null,
      "outputs": []
    },
    {
      "cell_type": "markdown",
      "source": [
        "**Chile**"
      ],
      "metadata": {
        "id": "-EtdPAKBWoIT"
      }
    },
    {
      "cell_type": "markdown",
      "source": [
        "**Apertura**"
      ],
      "metadata": {
        "id": "h1MZVQmVWsr7"
      }
    },
    {
      "cell_type": "code",
      "source": [
        "k15=Prueba[\"k15\"]= Apertura_Chile/100\n",
        "print(k15)"
      ],
      "metadata": {
        "id": "11LdLXN3WwF9"
      },
      "execution_count": null,
      "outputs": []
    },
    {
      "cell_type": "markdown",
      "source": [
        "**Cierre anterior**"
      ],
      "metadata": {
        "id": "ocekAXsgWt2x"
      }
    },
    {
      "cell_type": "code",
      "source": [
        "l15=Prueba[\"l15\"]= Cierre_precio_anterior_Chile/100\n",
        "print(l15)"
      ],
      "metadata": {
        "id": "dz_tkpn0WwwD"
      },
      "execution_count": null,
      "outputs": []
    },
    {
      "cell_type": "markdown",
      "source": [
        "**Cierre a 5 dias**"
      ],
      "metadata": {
        "id": "wKi6NSpesAuX"
      }
    },
    {
      "cell_type": "code",
      "source": [
        "q15=Prueba[\"q15\"]= Cierre_precio_anterior5dias_Chile/100\n",
        "print(q15)"
      ],
      "metadata": {
        "id": "5XFMzXKDsBYG"
      },
      "execution_count": null,
      "outputs": []
    },
    {
      "cell_type": "markdown",
      "source": [
        "**Argentina**"
      ],
      "metadata": {
        "id": "3mh4StMQW3US"
      }
    },
    {
      "cell_type": "markdown",
      "source": [
        "**Apertura**"
      ],
      "metadata": {
        "id": "9s8YZeI8W7aO"
      }
    },
    {
      "cell_type": "code",
      "source": [
        "k16=Prueba[\"k16\"]= Apertura_Argentina/100\n",
        "print(k16)"
      ],
      "metadata": {
        "id": "quclovVRW___"
      },
      "execution_count": null,
      "outputs": []
    },
    {
      "cell_type": "markdown",
      "source": [
        "**Cierre anterior**"
      ],
      "metadata": {
        "id": "7FIkoE00W8ab"
      }
    },
    {
      "cell_type": "code",
      "source": [
        "l16=Prueba[\"l16\"]= Cierre_precio_anterior_Argentina/100\n",
        "print(l16)"
      ],
      "metadata": {
        "id": "2UtkOUMVW2q5"
      },
      "execution_count": null,
      "outputs": []
    },
    {
      "cell_type": "markdown",
      "source": [
        "**Cierre a 5 dias**"
      ],
      "metadata": {
        "id": "BMIg1ZL3XK4N"
      }
    },
    {
      "cell_type": "code",
      "source": [
        "q16=Prueba[\"q16\"]= Cierre_precio_anterior5dias_Argentina/100\n",
        "print(q16)"
      ],
      "metadata": {
        "id": "zSVYAaL5XQK6"
      },
      "execution_count": null,
      "outputs": []
    },
    {
      "cell_type": "markdown",
      "source": [
        "**Colombia**"
      ],
      "metadata": {
        "id": "t4bqgt_bXBCH"
      }
    },
    {
      "cell_type": "markdown",
      "source": [
        "**Apertura**"
      ],
      "metadata": {
        "id": "t99LG3EOXM5Z"
      }
    },
    {
      "cell_type": "code",
      "source": [
        "k17=Prueba[\"k17\"]= Apertura_Colombia/100\n",
        "print(k17)"
      ],
      "metadata": {
        "id": "QxNWm8o8XSwH"
      },
      "execution_count": null,
      "outputs": []
    },
    {
      "cell_type": "markdown",
      "source": [
        "**Cierre anterior**"
      ],
      "metadata": {
        "id": "hS9x3Gz7XOZc"
      }
    },
    {
      "cell_type": "code",
      "source": [
        "l27=Prueba[\"l17\"]= Cierre_precio_anterior_Colombia/100\n",
        "print(l27)"
      ],
      "metadata": {
        "id": "lacJoTnWXTZG"
      },
      "execution_count": null,
      "outputs": []
    },
    {
      "cell_type": "markdown",
      "source": [
        "**Cierre a 5 dias**"
      ],
      "metadata": {
        "id": "tNN8Ex99XSBL"
      }
    },
    {
      "cell_type": "code",
      "source": [
        "q17=Prueba[\"q17\"]= Cierre_precio_anterior5dias_Colombia/100\n",
        "print(q17)"
      ],
      "metadata": {
        "id": "DjOHGWvKXUMn"
      },
      "execution_count": null,
      "outputs": []
    },
    {
      "cell_type": "markdown",
      "source": [
        "**Peru**"
      ],
      "metadata": {
        "id": "dyACtg4RXWDP"
      }
    },
    {
      "cell_type": "markdown",
      "source": [
        "**Apertura**"
      ],
      "metadata": {
        "id": "2fK-jpryXcos"
      }
    },
    {
      "cell_type": "code",
      "source": [
        "k18=Prueba[\"k18\"]= Apertura_Peru/100\n",
        "print(k18)"
      ],
      "metadata": {
        "id": "Pnqi1KGBXgUE"
      },
      "execution_count": null,
      "outputs": []
    },
    {
      "cell_type": "markdown",
      "source": [
        "**Cierre anterior**"
      ],
      "metadata": {
        "id": "VfDBugiiXd7A"
      }
    },
    {
      "cell_type": "code",
      "source": [
        "l18=Prueba[\"l18\"]= Cierre_precio_anterior_Peru/100\n",
        "print(l18)"
      ],
      "metadata": {
        "id": "2OSZh5rdXg4_"
      },
      "execution_count": null,
      "outputs": []
    },
    {
      "cell_type": "markdown",
      "source": [
        "**Cierre a 5 dias**"
      ],
      "metadata": {
        "id": "xgYgAMq7Xfn4"
      }
    },
    {
      "cell_type": "code",
      "source": [
        "q18=Prueba[\"q18\"]= Cierre_precio_anterior5dias_Peru/100\n",
        "print(q18)"
      ],
      "metadata": {
        "id": "v2w1pCCIXhsX"
      },
      "execution_count": null,
      "outputs": []
    },
    {
      "cell_type": "markdown",
      "source": [
        "**Dolar**"
      ],
      "metadata": {
        "id": "HbBUYYIaXs7w"
      }
    },
    {
      "cell_type": "markdown",
      "source": [
        "**Apertura**"
      ],
      "metadata": {
        "id": "ohbp36BRXx4G"
      }
    },
    {
      "cell_type": "code",
      "source": [
        "k25=Prueba[\"k25\"]= Apertura_Dolar\n",
        "print(k25)"
      ],
      "metadata": {
        "id": "eFsNb_NnX8Wt"
      },
      "execution_count": null,
      "outputs": []
    },
    {
      "cell_type": "markdown",
      "source": [
        "**Cierre anterior**"
      ],
      "metadata": {
        "id": "C3gvSMacXzVy"
      }
    },
    {
      "cell_type": "code",
      "source": [
        "l25=Prueba[\"l25\"]= Cierre_precio_anterior_Dolar\n",
        "print(l25)"
      ],
      "metadata": {
        "id": "lDFuGITNX85A"
      },
      "execution_count": null,
      "outputs": []
    },
    {
      "cell_type": "markdown",
      "source": [
        "**Cierre a 5 dias**"
      ],
      "metadata": {
        "id": "5_iival1X01d"
      }
    },
    {
      "cell_type": "code",
      "source": [
        "q25=Prueba[\"q25\"]= Cierre_precio_anterior5dias_Dolar \n",
        "print(q25)"
      ],
      "metadata": {
        "id": "kPH9cr8MX9X4"
      },
      "execution_count": null,
      "outputs": []
    },
    {
      "cell_type": "markdown",
      "source": [
        "**Euro**"
      ],
      "metadata": {
        "id": "PqW9fg9SX13X"
      }
    },
    {
      "cell_type": "markdown",
      "source": [
        "**Apertura**"
      ],
      "metadata": {
        "id": "TqvudrYIX5Gv"
      }
    },
    {
      "cell_type": "code",
      "source": [
        "k26=Prueba[\"k26\"]= Apertura_Euro\n",
        "print(k26)"
      ],
      "metadata": {
        "id": "ZencNE-HX97Q"
      },
      "execution_count": null,
      "outputs": []
    },
    {
      "cell_type": "markdown",
      "source": [
        "**Cierre anterior**"
      ],
      "metadata": {
        "id": "Uf8ERAPAX6a_"
      }
    },
    {
      "cell_type": "code",
      "source": [
        "l26=Prueba[\"l26\"]= Cierre_precio_anterior_Euro\n",
        "print(l26)"
      ],
      "metadata": {
        "id": "CZ1JmdkUX-yo"
      },
      "execution_count": null,
      "outputs": []
    },
    {
      "cell_type": "markdown",
      "source": [
        "**Cierre a 5 dias**"
      ],
      "metadata": {
        "id": "irZu1Oj-X7wL"
      }
    },
    {
      "cell_type": "code",
      "source": [
        "q26=Prueba[\"q26\"] = Cierre_precio_anterior5dias_Euro\n",
        "print(q26)"
      ],
      "metadata": {
        "id": "zcTSK02UAe9y"
      },
      "execution_count": null,
      "outputs": []
    },
    {
      "cell_type": "code",
      "source": [
        "Nueva_bitacora_py.save(\"Nueva bitacora.xlsx\")"
      ],
      "metadata": {
        "id": "AhOKH9NegyV7"
      },
      "execution_count": null,
      "outputs": []
    },
    {
      "cell_type": "markdown",
      "source": [
        "# **Herramientas Analisis de datos**"
      ],
      "metadata": {
        "id": "AtDkHPKWgbnr"
      }
    },
    {
      "cell_type": "code",
      "source": [
        "plt.scatter(brent[\"Close\"],Dolar[\"Close\"]) #Diagrama de dispersion \n",
        "plt.title(\"Correlacion dolar y petroleo\")\n",
        "plt.xlabel(\"Dolar\")\n",
        "plt.ylabel(\"Petroleo\")"
      ],
      "metadata": {
        "id": "Ge2LrgXDgjSj"
      },
      "execution_count": null,
      "outputs": []
    },
    {
      "cell_type": "code",
      "source": [
        "brent[\"Close\"].hist() # Histograma "
      ],
      "metadata": {
        "id": "vjMkkfiXjh44"
      },
      "execution_count": null,
      "outputs": []
    },
    {
      "cell_type": "code",
      "source": [
        "brent[\"Close\"].describe() # Estadistica descriptiva "
      ],
      "metadata": {
        "id": "jMlp51Syj1uu"
      },
      "execution_count": null,
      "outputs": []
    },
    {
      "cell_type": "code",
      "source": [
        "brent99= pd.DataFrame(brent[\"Close\"]) # Correlacion \n",
        "Dolar99= pd.DataFrame(Dolar[\"Close\"])\n",
        "Euro99= pd.DataFrame(Euro[\"Close\"])\n",
        "correlacion = pd.concat([brent99,Dolar99,Euro99 ], axis=1,)\n",
        "Correlacion1=correlacion.corr(method=\"spearman\")\n",
        "print(Correlacion1)"
      ],
      "metadata": {
        "id": "d8wRS9mKkoMX"
      },
      "execution_count": null,
      "outputs": []
    },
    {
      "cell_type": "code",
      "source": [
        "est = smf.ols(formula='brent99 ~ Dolar99', data = correlacion).fit() # regresion lineal \n",
        "est.summary()"
      ],
      "metadata": {
        "id": "RBg8ytN5wvot"
      },
      "execution_count": null,
      "outputs": []
    },
    {
      "cell_type": "code",
      "source": [
        "sns.heatmap(Correlacion1,annot=True) # Diagrama de correlacion "
      ],
      "metadata": {
        "id": "mKGS7yS2p8gk"
      },
      "execution_count": null,
      "outputs": []
    },
    {
      "cell_type": "code",
      "source": [
        "Ecopetrol  = yf.Ticker(\"EC\") # yahoo finance (1ADR DE ECOPETROL = 20 COLOMBIANAS) 14.57*3950/20 = 5877.575\n",
        "Ecopetrol.info \n",
        "hist = Ecopetrol.history(period=\"max\")\n",
        "hist.tail()"
      ],
      "metadata": {
        "id": "53J1mMVruQIT"
      },
      "execution_count": null,
      "outputs": []
    },
    {
      "cell_type": "code",
      "source": [
        "Dividendos=Ecopetrol.dividends # Acciones 88,49%  Ministerio de hacienda \n",
        "Dividendos.plot.bar()\n",
        "Dividendos # 2021 0.093"
      ],
      "metadata": {
        "id": "JYmNeMGQvn9O"
      },
      "execution_count": null,
      "outputs": []
    },
    {
      "cell_type": "markdown",
      "source": [
        "# **Datos economicos de la reserva federal**\n",
        "\n",
        "\n"
      ],
      "metadata": {
        "id": "Cga03zaN4XPn"
      }
    },
    {
      "cell_type": "code",
      "source": [
        "#  https://fred.stlouisfed.org/ \n",
        "tickersfred = [\"COLCPALTT01GPM\"] # Inflacion total, variacion  Mensual \n",
        "Inflacion = wb.DataReader(tickersfred,\"fred\",\"2019-1-1\")\n",
        "Inflacion.columns = [\"Inflacion\"]\n",
        "Inflacion = pd.DataFrame(Inflacion)\n",
        "Inflacion.plot()\n",
        "Inflacion.tail()"
      ],
      "metadata": {
        "id": "9RZ8Xhds4rnL"
      },
      "execution_count": null,
      "outputs": []
    },
    {
      "cell_type": "code",
      "source": [
        "Inflacion.columns "
      ],
      "metadata": {
        "id": "LPi38BcCkIuq"
      },
      "execution_count": null,
      "outputs": []
    },
    {
      "cell_type": "code",
      "source": [
        "Inflacion= Inflacion.rename_axis('Fecha').reset_index()"
      ],
      "metadata": {
        "id": "equ_DoJ7Y8S5"
      },
      "execution_count": null,
      "outputs": []
    },
    {
      "cell_type": "code",
      "source": [
        "Inflacion.columns "
      ],
      "metadata": {
        "id": "MbVH7ySBlq17"
      },
      "execution_count": null,
      "outputs": []
    },
    {
      "cell_type": "code",
      "source": [
        "pd.to_datetime(Inflacion['Fecha'], format = '%Y/%m/%d') # Convertir columna a serie de tiempo %Y/%m/%d\n",
        "Inflacion.plot.bar(x= \"Fecha\" , y =\"Inflacion\")"
      ],
      "metadata": {
        "id": "gkyRYildn0M_"
      },
      "execution_count": null,
      "outputs": []
    },
    {
      "cell_type": "code",
      "source": [
        "#  https://fred.stlouisfed.org/  \n",
        "tickersfred = [\"FPCPITOTLZGCOL\"] # Inflacion total, variacion  Anual\n",
        "InflacionAnual = wb.DataReader(tickersfred,\"fred\",\"2000-1-1\")\n",
        "InflacionAnual.columns = [\"InflacionAnual\"]\n",
        "InflacionAnual= pd.DataFrame(InflacionAnual)\n",
        "InflacionAnual.plot()\n",
        "InflacionAnual.tail()"
      ],
      "metadata": {
        "id": "LuyE12mQoEjn"
      },
      "execution_count": null,
      "outputs": []
    },
    {
      "cell_type": "code",
      "source": [
        "#  https://fred.stlouisfed.org/ \n",
        "tickersfred = [\"COLMANMM101STSAM\"] # Agregados monetatrios, M1\n",
        "M1 = wb.DataReader(tickersfred,\"fred\",\"2000-1-1\")\n",
        "M1.columns = [\"M1\"]\n",
        "M1= pd.DataFrame(M1)\n",
        "M1.plot()\n",
        "M1.tail()"
      ],
      "metadata": {
        "id": "QxROxV4KpSJ9"
      },
      "execution_count": null,
      "outputs": []
    },
    {
      "cell_type": "code",
      "source": [
        "#  https://fred.stlouisfed.org/ \n",
        "tickersfred = [\"NGDPRSAXDCMXQ\"] # PIB REAL MEXICO , TRIMESTRAL\n",
        "PIBREAL_MEXICO = wb.DataReader(tickersfred,\"fred\",\"2016-1-1\")\n",
        "PIBREAL_MEXICO .columns = [\"PIBMEXICO\"]\n",
        "PIBREAL_MEXICO = pd.DataFrame(PIBREAL_MEXICO )\n",
        "PIBREAL_MEXICO .plot()\n",
        "PIBREAL_MEXICO .tail()"
      ],
      "metadata": {
        "id": "yJbNmrHf9OUS"
      },
      "execution_count": null,
      "outputs": []
    },
    {
      "cell_type": "markdown",
      "source": [
        "# **Enviar Correos por python**"
      ],
      "metadata": {
        "id": "K8QIU2jS_w8a"
      }
    }
  ]
}
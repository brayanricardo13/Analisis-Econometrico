{
  "nbformat": 4,
  "nbformat_minor": 0,
  "metadata": {
    "colab": {
      "name": "Investing",
      "provenance": [],
      "collapsed_sections": [
        "6OFuLQbgaHr7"
      ],
      "authorship_tag": "ABX9TyNAFkwAyKi85N7BHwaGMzbq",
      "include_colab_link": true
    },
    "kernelspec": {
      "name": "python3",
      "display_name": "Python 3"
    },
    "language_info": {
      "name": "python"
    }
  },
  "cells": [
    {
      "cell_type": "markdown",
      "metadata": {
        "id": "view-in-github",
        "colab_type": "text"
      },
      "source": [
        "<a href=\"https://colab.research.google.com/github/brayanricardo13/Analisis-Econometrico/blob/main/Investing.ipynb\" target=\"_parent\"><img src=\"https://colab.research.google.com/assets/colab-badge.svg\" alt=\"Open In Colab\"/></a>"
      ]
    },
    {
      "cell_type": "code",
      "metadata": {
        "id": "QVWLUVn2wJWP",
        "colab": {
          "base_uri": "https://localhost:8080/"
        },
        "outputId": "a8279961-0d72-4ad4-d5ca-b8598b752fbc"
      },
      "source": [
        "pip install investpy"
      ],
      "execution_count": 250,
      "outputs": [
        {
          "output_type": "stream",
          "name": "stdout",
          "text": [
            "Requirement already satisfied: investpy in /usr/local/lib/python3.7/dist-packages (1.0.7)\n",
            "Requirement already satisfied: pandas>=0.25.1 in /usr/local/lib/python3.7/dist-packages (from investpy) (1.1.5)\n",
            "Requirement already satisfied: setuptools>=41.2.0 in /usr/local/lib/python3.7/dist-packages (from investpy) (57.4.0)\n",
            "Requirement already satisfied: Unidecode>=1.1.1 in /usr/local/lib/python3.7/dist-packages (from investpy) (1.3.2)\n",
            "Requirement already satisfied: numpy>=1.17.2 in /usr/local/lib/python3.7/dist-packages (from investpy) (1.19.5)\n",
            "Requirement already satisfied: lxml>=4.4.1 in /usr/local/lib/python3.7/dist-packages (from investpy) (4.7.1)\n",
            "Requirement already satisfied: requests>=2.22.0 in /usr/local/lib/python3.7/dist-packages (from investpy) (2.23.0)\n",
            "Requirement already satisfied: pytz>=2019.3 in /usr/local/lib/python3.7/dist-packages (from investpy) (2021.3)\n",
            "Requirement already satisfied: python-dateutil>=2.7.3 in /usr/local/lib/python3.7/dist-packages (from pandas>=0.25.1->investpy) (2.8.2)\n",
            "Requirement already satisfied: six>=1.5 in /usr/local/lib/python3.7/dist-packages (from python-dateutil>=2.7.3->pandas>=0.25.1->investpy) (1.15.0)\n",
            "Requirement already satisfied: idna<3,>=2.5 in /usr/local/lib/python3.7/dist-packages (from requests>=2.22.0->investpy) (2.10)\n",
            "Requirement already satisfied: urllib3!=1.25.0,!=1.25.1,<1.26,>=1.21.1 in /usr/local/lib/python3.7/dist-packages (from requests>=2.22.0->investpy) (1.24.3)\n",
            "Requirement already satisfied: chardet<4,>=3.0.2 in /usr/local/lib/python3.7/dist-packages (from requests>=2.22.0->investpy) (3.0.4)\n",
            "Requirement already satisfied: certifi>=2017.4.17 in /usr/local/lib/python3.7/dist-packages (from requests>=2.22.0->investpy) (2021.10.8)\n"
          ]
        }
      ]
    },
    {
      "cell_type": "code",
      "metadata": {
        "id": "CHNGAVDnwTMj"
      },
      "source": [
        "import investpy as inv\n",
        "import pandas as pd\n",
        "from openpyxl import workbook\n",
        "from openpyxl import load_workbook"
      ],
      "execution_count": 251,
      "outputs": []
    },
    {
      "cell_type": "code",
      "metadata": {
        "id": "E7jx7UfKBceV"
      },
      "source": [
        "from google.colab import files"
      ],
      "execution_count": 252,
      "outputs": []
    },
    {
      "cell_type": "markdown",
      "source": [
        "# Extraccion de datos"
      ],
      "metadata": {
        "id": "6OFuLQbgaHr7"
      }
    },
    {
      "cell_type": "markdown",
      "metadata": {
        "id": "l9vXtOsgYR8m"
      },
      "source": [
        "**Futuros de indices renta variable**"
      ]
    },
    {
      "cell_type": "markdown",
      "metadata": {
        "id": "xG4KMGTDCEqC"
      },
      "source": [
        "**Dow Jones**"
      ]
    },
    {
      "cell_type": "code",
      "metadata": {
        "id": "YF3rdzW2v9dH"
      },
      "source": [
        " ## indices de united states inv.get_indices_list(\"united states\")"
      ],
      "execution_count": 253,
      "outputs": []
    },
    {
      "cell_type": "code",
      "metadata": {
        "id": "1dUthN5S-IZO",
        "colab": {
          "base_uri": "https://localhost:8080/"
        },
        "outputId": "b6e5e7a1-b604-49de-fd93-b7d50d08cbae"
      },
      "source": [
        "dow_jones=inv.search_quotes(text='dow jones futures', products=['indices'],countries=['united states'], n_results=1)\n",
        "print(dow_jones)"
      ],
      "execution_count": 254,
      "outputs": [
        {
          "output_type": "stream",
          "name": "stdout",
          "text": [
            "{\"id_\": 8873, \"name\": \"Dow Jones Futures\", \"symbol\": \"1YMc1\", \"country\": \"united states\", \"tag\": \"/indices/us-30-futures\", \"pair_type\": \"indices\", \"exchange\": \"CME\"}\n"
          ]
        }
      ]
    },
    {
      "cell_type": "code",
      "source": [
        "# dow_jones=inv.get_index_recent_data(\"1YMc1\",country=\"united states\",)\n",
        "# dow_jones1=dow_jones[[\"Close\",\"Open\"]].tail()\n",
        "# print(dow_jones1)"
      ],
      "metadata": {
        "id": "l2q8oaM0qYq1"
      },
      "execution_count": 255,
      "outputs": []
    },
    {
      "cell_type": "markdown",
      "metadata": {
        "id": "gtLhno6-CK8K"
      },
      "source": [
        "**S&p500** "
      ]
    },
    {
      "cell_type": "code",
      "metadata": {
        "id": "AIfgEMHPCbxm",
        "colab": {
          "base_uri": "https://localhost:8080/"
        },
        "outputId": "1743dc39-093a-4cfc-f54e-973b901d0772"
      },
      "source": [
        "Standarpoor500=inv.search_quotes(\"S&P 500 Futures\", products=['indices'],countries=['united states'], n_results=1)\n",
        "print(Standarpoor500)"
      ],
      "execution_count": 256,
      "outputs": [
        {
          "output_type": "stream",
          "name": "stdout",
          "text": [
            "{\"id_\": 8839, \"name\": \"S&P 500 Futures\", \"symbol\": \"ESc1\", \"country\": \"united states\", \"tag\": \"/indices/us-spx-500-futures\", \"pair_type\": \"indices\", \"exchange\": \"CME\"}\n"
          ]
        }
      ]
    },
    {
      "cell_type": "markdown",
      "metadata": {
        "id": "26XOOhcSCcX2"
      },
      "source": [
        "**Euro Stoxx 50**"
      ]
    },
    {
      "cell_type": "code",
      "metadata": {
        "id": "GVyjSVfzCeKa",
        "colab": {
          "base_uri": "https://localhost:8080/"
        },
        "outputId": "13e8a636-b14b-450f-d25d-5a3605f39114"
      },
      "source": [
        "Euro_stoxx_50=inv.search_quotes(text='Euro Stoxx 50 Futures', products=['indices'],countries=['euro zone'], n_results=1)\n",
        "print(Euro_stoxx_50)"
      ],
      "execution_count": 257,
      "outputs": [
        {
          "output_type": "stream",
          "name": "stdout",
          "text": [
            "{\"id_\": 8867, \"name\": \"Euro Stoxx 50 Futures\", \"symbol\": \"EU50\", \"country\": \"euro zone\", \"tag\": \"/indices/eu-stocks-50-futures\", \"pair_type\": \"indices\", \"exchange\": \"Eurex\"}\n"
          ]
        }
      ]
    },
    {
      "cell_type": "markdown",
      "metadata": {
        "id": "TcTs_n0GCena"
      },
      "source": [
        "**Dax (Alemania)**"
      ]
    },
    {
      "cell_type": "code",
      "metadata": {
        "id": "ueXDrPqbCj7b",
        "colab": {
          "base_uri": "https://localhost:8080/"
        },
        "outputId": "d1af2740-c93c-472a-f0df-310b93ff15b4"
      },
      "source": [
        "Dax_Alemania=inv.search_quotes(text='DAX Futures', products=['indices'],countries=['germany'], n_results=1)\n",
        "print(Dax_Alemania)"
      ],
      "execution_count": 258,
      "outputs": [
        {
          "output_type": "stream",
          "name": "stdout",
          "text": [
            "{\"id_\": 8826, \"name\": \"DAX Futures\", \"symbol\": \"DE30\", \"country\": \"germany\", \"tag\": \"/indices/germany-30-futures\", \"pair_type\": \"indices\", \"exchange\": \"Eurex\"}\n"
          ]
        }
      ]
    },
    {
      "cell_type": "markdown",
      "metadata": {
        "id": "x8i_3KHMCkdZ"
      },
      "source": [
        "**Nikkei (Japón)**"
      ]
    },
    {
      "cell_type": "code",
      "metadata": {
        "id": "QkdjzXzMCrrI",
        "colab": {
          "base_uri": "https://localhost:8080/"
        },
        "outputId": "05c5035e-ef0f-4c50-b041-83507de405c1"
      },
      "source": [
        "Nikkei_japon=inv.search_quotes(text='Nikkei 225 Futures', products=['indices'],countries=['japan'], n_results=1)\n",
        "print(Nikkei_japon)"
      ],
      "execution_count": 259,
      "outputs": [
        {
          "output_type": "stream",
          "name": "stdout",
          "text": [
            "{\"id_\": 8859, \"name\": \"Nikkei 225 Futures\", \"symbol\": \"JP225\", \"country\": \"japan\", \"tag\": \"/indices/japan-225-futures\", \"pair_type\": \"indices\", \"exchange\": \"OSE\"}\n"
          ]
        }
      ]
    },
    {
      "cell_type": "markdown",
      "metadata": {
        "id": "b_6kv2VqCt4i"
      },
      "source": [
        "**Hang Seng (China)**"
      ]
    },
    {
      "cell_type": "code",
      "metadata": {
        "id": "9csxbgZeCvfC",
        "colab": {
          "base_uri": "https://localhost:8080/"
        },
        "outputId": "a7712e85-6ffd-4c93-b99a-e82bc8dc1bdb"
      },
      "source": [
        "Nikkei_japon=inv.search_quotes(text='Nikkei 225 Futures', products=['indices'],countries=['japan'], n_results=1)\n",
        "print(Nikkei_japon)"
      ],
      "execution_count": 260,
      "outputs": [
        {
          "output_type": "stream",
          "name": "stdout",
          "text": [
            "{\"id_\": 8859, \"name\": \"Nikkei 225 Futures\", \"symbol\": \"JP225\", \"country\": \"japan\", \"tag\": \"/indices/japan-225-futures\", \"pair_type\": \"indices\", \"exchange\": \"OSE\"}\n"
          ]
        }
      ]
    },
    {
      "cell_type": "markdown",
      "metadata": {
        "id": "uAOISXZUw-cV"
      },
      "source": [
        "**Indices Renta variable Sudamerica**"
      ]
    },
    {
      "cell_type": "markdown",
      "metadata": {
        "id": "z75vbO46EcND"
      },
      "source": [
        "**Brasil**"
      ]
    },
    {
      "cell_type": "code",
      "metadata": {
        "id": "Rg5r9Fp5EqEd",
        "colab": {
          "base_uri": "https://localhost:8080/"
        },
        "outputId": "5ca37832-1c15-4cbd-f446-d4551c142b9e"
      },
      "source": [
        "inv.get_indices_list(\"brazil\")"
      ],
      "execution_count": 261,
      "outputs": [
        {
          "output_type": "execute_result",
          "data": {
            "text/plain": [
              "['MSCI Brazil Net USD',\n",
              " 'DJ Brazil',\n",
              " 'TR Brazil 50',\n",
              " 'MSCI Brazil Price USD',\n",
              " 'DJ Brazil Titans 20 ADR',\n",
              " 'BNY Mellon Brazil ADR',\n",
              " 'BNY Mellon Brazil ADR TR',\n",
              " 'BNY Mellon Brazil Classic ADR',\n",
              " 'BNY Mellon Brazil Classic ADR TR',\n",
              " 'FTSE RAFI Brazil 50',\n",
              " 'MSCI Brazil 10 40',\n",
              " 'DJ BRIC Brazil 15 Capped NTR',\n",
              " 'DJ BRIC Brazil 15 USD',\n",
              " 'DJ BRIC Brazil 15 EUR',\n",
              " 'FTSE Brazil Infrastructure Extended',\n",
              " 'MSCI Brazil Gross',\n",
              " 'DJ Brazil Titans 20 ADR TR',\n",
              " 'MSCI Brazil 25-50 Price',\n",
              " 'MSCI Brazil 20-50 Gross Return',\n",
              " 'MSCI Brazil 25-50 Net Return',\n",
              " 'FTSE Brazil Infrastructure Extended USD PR',\n",
              " 'FTSE Brazil Infrastructure Extended Total Return',\n",
              " 'FTSE Brazil Infrastructure Extended Net Tax Total',\n",
              " 'FTSE Brazil Infrastructure Extended Net Tax USD TR',\n",
              " 'DJ BRIC Brazil 15 DR',\n",
              " 'MSCI Brazil',\n",
              " 'BM&FBOVESPA Unsponsored BDRX',\n",
              " 'Small Cap Index',\n",
              " 'Tag Along',\n",
              " 'Brazil broad-Based',\n",
              " 'Brazil Index',\n",
              " 'Mid-Large Cap Index',\n",
              " 'Public Utilities',\n",
              " 'BM&FBOVESPA Real Estate IFIX',\n",
              " 'Financials',\n",
              " 'Carbon Efficient',\n",
              " 'Corporate Governance IGCNM',\n",
              " 'Bovespa Dividend',\n",
              " 'Brazil 50',\n",
              " 'Corporate Gov Trade',\n",
              " 'FTSE Brazil',\n",
              " 'Ibovespa EUR',\n",
              " 'Ibovespa USD',\n",
              " 'IVBX',\n",
              " 'IGCX',\n",
              " 'Consumption',\n",
              " 'Industrial Sector',\n",
              " 'Electrical Energy',\n",
              " 'Basic Materials',\n",
              " 'Bovespa',\n",
              " 'Corporate Sustainability',\n",
              " 'Real Estate']"
            ]
          },
          "metadata": {},
          "execution_count": 261
        }
      ]
    },
    {
      "cell_type": "code",
      "metadata": {
        "id": "AUu9-_5MEyhD",
        "colab": {
          "base_uri": "https://localhost:8080/"
        },
        "outputId": "4f6fb320-82d7-4dce-8f89-f1132432c243"
      },
      "source": [
        "data1=inv.get_index_recent_data(\"Bovespa\",country=\"brazil\")\n",
        "Brazil1=data1[[\"Close\",\"Open\"]].tail()\n",
        "print(Brazil1)"
      ],
      "execution_count": 262,
      "outputs": [
        {
          "output_type": "stream",
          "name": "stdout",
          "text": [
            "               Close      Open\n",
            "Date                          \n",
            "2022-01-10  101945.0  102719.0\n",
            "2022-01-11  103779.0  101946.0\n",
            "2022-01-12  105686.0  103779.0\n",
            "2022-01-13  105530.0  105686.0\n",
            "2022-01-14  106928.0  105530.0\n"
          ]
        }
      ]
    },
    {
      "cell_type": "code",
      "source": [
        "Apertura_indice_Brazil = (Brazil1.iat[4,1]) # Este comando esta extraer un valor especifico de un dataframe\n",
        "print(Apertura_indice_Brazil)"
      ],
      "metadata": {
        "id": "_xlgVCeKKsoV",
        "colab": {
          "base_uri": "https://localhost:8080/"
        },
        "outputId": "e383a8ac-7047-4151-9b2a-3e7b6cbc7b77"
      },
      "execution_count": 263,
      "outputs": [
        {
          "output_type": "stream",
          "name": "stdout",
          "text": [
            "105530.0\n"
          ]
        }
      ]
    },
    {
      "cell_type": "code",
      "source": [
        "Cierre_precio_anterior__indice_Brazil = Brazil1.iat[3,0]\n",
        "print(Cierre_precio_anterior__indice_Brazil)"
      ],
      "metadata": {
        "id": "IBQmCKC3Kszp",
        "colab": {
          "base_uri": "https://localhost:8080/"
        },
        "outputId": "455147a0-384a-4918-ffe4-11e5572d2b47"
      },
      "execution_count": 264,
      "outputs": [
        {
          "output_type": "stream",
          "name": "stdout",
          "text": [
            "105530.0\n"
          ]
        }
      ]
    },
    {
      "cell_type": "code",
      "source": [
        "Cierre_precio_anterior5dias_indice_Brazil= Brazil1.iat[0,0]\n",
        "print(Cierre_precio_anterior5dias_indice_Brazil)"
      ],
      "metadata": {
        "id": "WnEH6m81Ks9z",
        "colab": {
          "base_uri": "https://localhost:8080/"
        },
        "outputId": "117031f0-7e78-41f3-f438-ab8ef20b5483"
      },
      "execution_count": 265,
      "outputs": [
        {
          "output_type": "stream",
          "name": "stdout",
          "text": [
            "101945.0\n"
          ]
        }
      ]
    },
    {
      "cell_type": "markdown",
      "metadata": {
        "id": "MnvD9JPpFb9O"
      },
      "source": [
        "**Mexico**"
      ]
    },
    {
      "cell_type": "code",
      "metadata": {
        "id": "0yGL7xYBFiA8",
        "colab": {
          "base_uri": "https://localhost:8080/"
        },
        "outputId": "5d4cea92-4c37-40cc-aae1-e9a532e6f388"
      },
      "source": [
        "inv.get_indices_list(\"Mexico\")"
      ],
      "execution_count": 266,
      "outputs": [
        {
          "output_type": "execute_result",
          "data": {
            "text/plain": [
              "['S&P/BMV IRT LargeCap',\n",
              " 'S&P/BMV IRT MidCap',\n",
              " 'S&P/BMV IRT SmallCap',\n",
              " 'S&P/BMV IMeBz',\n",
              " 'S&P/BMV IMeBz RT',\n",
              " 'MSCI Mexico Gross',\n",
              " 'BURSA OPTIMO RT',\n",
              " 'BNY Mellon Mexico Classic ADR',\n",
              " 'BNY Mellon Mexico ADR TR',\n",
              " 'BNY Mellon Mexico ADR',\n",
              " 'NQ Mexico Financials',\n",
              " 'DJ Mexico USD',\n",
              " 'DJ Mexico',\n",
              " 'MSCI Mexico',\n",
              " 'BNY Mellon Mexico Classic ADR TR',\n",
              " 'S&P/BMV IRT CompMx',\n",
              " 'MSCI Mexico Special Capping Net USD',\n",
              " 'S&P/BMV IPC SUSTENTABLE RT',\n",
              " 'S&P/BMV-EXTR RT',\n",
              " 'S&P/BMV-COMERCIO RT',\n",
              " 'Banamex',\n",
              " 'FTSE BIVA Eod Net Tax',\n",
              " 'FTSE BIVA EOD Price',\n",
              " 'FTSE BIVA EOD TR',\n",
              " 'FTSE BIVA Real Time Net Tax',\n",
              " 'FTSE BIVA Real Time Total Return',\n",
              " 'FTSE Mexico',\n",
              " 'Mexico 50',\n",
              " 'S&P/BMV BMBra 15',\n",
              " 'S&P/BMV BMBra 15 RT',\n",
              " 'S&P/BMV-SRVCM RT',\n",
              " 'S&P/BMV DDBOL',\n",
              " 'S&P/BMV IRT',\n",
              " 'S&P/BMV-MAT RT',\n",
              " 'S&P/BMV-TRANS RT',\n",
              " 'S&P/BMV-ENL RT',\n",
              " 'S&P/BMV-INDU RT',\n",
              " 'S&P/BMV-MAT',\n",
              " 'S&P/BMV-INDU',\n",
              " 'S&P/BMV HABITA',\n",
              " 'S&P/BMV SALUD',\n",
              " 'S&P/BMV SERVS FINAN',\n",
              " 'S&P/BMV PROD CONS FREC',\n",
              " 'S&P/BMV SRVS CONS NO BCO',\n",
              " 'FTSE BIVA Real Time Price',\n",
              " 'S&P/BMV-SRVCM',\n",
              " 'S&P/BMV IPC CompMx',\n",
              " 'S&P/BMV IMC30',\n",
              " 'S&P/BMV-CONST RT',\n",
              " 'S&P/BMV-ICF RT',\n",
              " 'S&P/BMV-SERV RT',\n",
              " 'S&P/BMV-FINAN RT',\n",
              " 'S&P/BMV HABITA RT',\n",
              " 'S&P/BMV IPC',\n",
              " 'S&P/BMV TELECOM',\n",
              " 'S&P/BMV INMEX',\n",
              " 'S&P/BMV IPC MidCap',\n",
              " 'S&P/BMV IPC LargeCap',\n",
              " 'S&P/BMV DIBOL',\n",
              " 'S&P/BMV IPC SUSTENTABLE',\n",
              " 'S&P/BMV IPC SmallCap']"
            ]
          },
          "metadata": {},
          "execution_count": 266
        }
      ]
    },
    {
      "cell_type": "code",
      "metadata": {
        "id": "aWEMdeslFngE",
        "colab": {
          "base_uri": "https://localhost:8080/"
        },
        "outputId": "27a8a8d5-1a5e-4a1e-e023-b14e26a4d785"
      },
      "source": [
        "data2=inv.get_index_recent_data(\"S&P/BMV IPC\",country=\"Mexico\")\n",
        "Mexico1=data2[[\"Close\",\"Open\"]].tail()\n",
        "print(Mexico1)"
      ],
      "execution_count": 267,
      "outputs": [
        {
          "output_type": "stream",
          "name": "stdout",
          "text": [
            "               Close      Open\n",
            "Date                          \n",
            "2022-01-10  52835.76  53202.84\n",
            "2022-01-11  53061.92  52841.05\n",
            "2022-01-12  53951.14  53068.12\n",
            "2022-01-13  53930.45  53981.55\n",
            "2022-01-14  53744.92  53824.77\n"
          ]
        }
      ]
    },
    {
      "cell_type": "code",
      "source": [
        "Apertura_indice_Mexico = (Mexico1.iat[4,1])#Este comando esta extraer un valor especifico de un dataframe\n",
        "print(Apertura_indice_Mexico)"
      ],
      "metadata": {
        "id": "uaA0bZ6jKYKg",
        "colab": {
          "base_uri": "https://localhost:8080/"
        },
        "outputId": "3036dc12-6591-4cf6-b5ea-bb204fa4eff8"
      },
      "execution_count": 268,
      "outputs": [
        {
          "output_type": "stream",
          "name": "stdout",
          "text": [
            "53824.77\n"
          ]
        }
      ]
    },
    {
      "cell_type": "code",
      "source": [
        "Cierre_precio_anterior_indice_Mexico = Mexico1.iat[3,0]\n",
        "print(Cierre_precio_anterior_indice_Mexico)"
      ],
      "metadata": {
        "id": "IYU5nOkwKYX9",
        "colab": {
          "base_uri": "https://localhost:8080/"
        },
        "outputId": "87a7f271-9817-423a-ba71-330b32d3d6a1"
      },
      "execution_count": 269,
      "outputs": [
        {
          "output_type": "stream",
          "name": "stdout",
          "text": [
            "53930.45\n"
          ]
        }
      ]
    },
    {
      "cell_type": "code",
      "source": [
        "Cierre_precio_anterior5dias_indice_Mexico = Mexico1.iat[0,0]\n",
        "print(Cierre_precio_anterior5dias_indice_Mexico)"
      ],
      "metadata": {
        "id": "asr-x4fFKYjB",
        "colab": {
          "base_uri": "https://localhost:8080/"
        },
        "outputId": "7b207a4f-3872-438d-d026-cc1b05ea789d"
      },
      "execution_count": 270,
      "outputs": [
        {
          "output_type": "stream",
          "name": "stdout",
          "text": [
            "52835.76\n"
          ]
        }
      ]
    },
    {
      "cell_type": "markdown",
      "metadata": {
        "id": "XLqQ8FD_GMfr"
      },
      "source": [
        "**Chile**"
      ]
    },
    {
      "cell_type": "code",
      "metadata": {
        "id": "0cl_uW4kGPYe",
        "colab": {
          "base_uri": "https://localhost:8080/"
        },
        "outputId": "f667afe4-bb6d-4577-f949-4ce3657b2e11"
      },
      "source": [
        "inv.get_indices_list(\"chile\")"
      ],
      "execution_count": 271,
      "outputs": [
        {
          "output_type": "execute_result",
          "data": {
            "text/plain": [
              "['BNY Mellon Chile ADR TR',\n",
              " 'Inter 10',\n",
              " 'FTSE Chile',\n",
              " 'S&P CLX IPSA',\n",
              " 'BNY Mellon Chile ADR',\n",
              " 'S&P CLX IGPA',\n",
              " 'DJ Chile',\n",
              " 'MSCI Chile Net USD',\n",
              " 'MSCI Chile',\n",
              " 'DJ Chile USD']"
            ]
          },
          "metadata": {},
          "execution_count": 271
        }
      ]
    },
    {
      "cell_type": "code",
      "metadata": {
        "id": "L6fyDg-YGV1F",
        "colab": {
          "base_uri": "https://localhost:8080/"
        },
        "outputId": "f1a6fb0b-3443-40b8-c50b-2a4c8809c686"
      },
      "source": [
        "data3=inv.get_index_recent_data(\"S&P CLX IPSA \",country=\"chile\")\n",
        "Chile1=data3[[\"Close\",\"Open\"]].tail()\n",
        "print(Chile1)"
      ],
      "execution_count": 272,
      "outputs": [
        {
          "output_type": "stream",
          "name": "stdout",
          "text": [
            "              Close     Open\n",
            "Date                        \n",
            "2022-01-10  4298.24  4296.35\n",
            "2022-01-11  4394.91  4298.24\n",
            "2022-01-12  4507.82  4394.91\n",
            "2022-01-13  4512.43  4507.82\n",
            "2022-01-14  4486.57  4512.43\n"
          ]
        }
      ]
    },
    {
      "cell_type": "code",
      "source": [
        "Apertura__indice_Chile = (Chile1.iat[4,1])# Este comando esta extraer un valor especifico de un dataframe\n",
        "print(Apertura__indice_Chile)"
      ],
      "metadata": {
        "id": "jjaDw7OOKADe",
        "colab": {
          "base_uri": "https://localhost:8080/"
        },
        "outputId": "3d677dfb-a757-42e2-9e15-99c4f98abac6"
      },
      "execution_count": 273,
      "outputs": [
        {
          "output_type": "stream",
          "name": "stdout",
          "text": [
            "4512.43\n"
          ]
        }
      ]
    },
    {
      "cell_type": "code",
      "source": [
        "Cierre_precio_anterior_indice_Chile= Chile1.iat[3,0]\n",
        "print(Cierre_precio_anterior_indice_Chile)"
      ],
      "metadata": {
        "id": "f96FAsOlKAOL",
        "colab": {
          "base_uri": "https://localhost:8080/"
        },
        "outputId": "79d90327-210e-454f-a7e5-fa6ab117d481"
      },
      "execution_count": 274,
      "outputs": [
        {
          "output_type": "stream",
          "name": "stdout",
          "text": [
            "4512.43\n"
          ]
        }
      ]
    },
    {
      "cell_type": "code",
      "source": [
        "Cierre_precio_anterior5dias_indice_Chile = Chile1.iat[0,0]\n",
        "print(Cierre_precio_anterior5dias_indice_Chile )"
      ],
      "metadata": {
        "id": "vbs1Q_3OKAWr",
        "colab": {
          "base_uri": "https://localhost:8080/"
        },
        "outputId": "2e321c64-e74a-4132-f6ca-960856806091"
      },
      "execution_count": 275,
      "outputs": [
        {
          "output_type": "stream",
          "name": "stdout",
          "text": [
            "4298.24\n"
          ]
        }
      ]
    },
    {
      "cell_type": "markdown",
      "metadata": {
        "id": "9xF7odN1ENHE"
      },
      "source": [
        "**Colombia**"
      ]
    },
    {
      "cell_type": "code",
      "metadata": {
        "id": "JQqp994Q0iHw",
        "colab": {
          "base_uri": "https://localhost:8080/"
        },
        "outputId": "f757cdbf-23ba-45f3-c970-243d9f610a3c"
      },
      "source": [
        "inv.get_indices_list(\"Colombia\")"
      ],
      "execution_count": 276,
      "outputs": [
        {
          "output_type": "execute_result",
          "data": {
            "text/plain": [
              "['FTSE Colombia',\n",
              " 'COLEQTY',\n",
              " 'COLSC',\n",
              " 'COL20',\n",
              " 'COLIR',\n",
              " 'COL General',\n",
              " 'COL Financial',\n",
              " 'COL Public Services',\n",
              " 'Investment',\n",
              " 'COL Industrial',\n",
              " 'COLCAP',\n",
              " 'MSCI Colombia',\n",
              " 'COL Services']"
            ]
          },
          "metadata": {},
          "execution_count": 276
        }
      ]
    },
    {
      "cell_type": "code",
      "source": [
        "data4=inv.get_index_recent_data(\"COLCAP\",country=\"Colombia\")\n",
        "Colombia1=data4[[\"Close\",\"Open\"]].tail()\n",
        "print(Colombia1)"
      ],
      "metadata": {
        "id": "gpwWmhHgHhqF",
        "colab": {
          "base_uri": "https://localhost:8080/"
        },
        "outputId": "f96e3a1e-66e1-48c4-bc69-75b1ca415f83"
      },
      "execution_count": 277,
      "outputs": [
        {
          "output_type": "stream",
          "name": "stdout",
          "text": [
            "              Close     Open\n",
            "Date                        \n",
            "2022-01-07  1394.22  1385.16\n",
            "2022-01-11  1422.57  1394.46\n",
            "2022-01-12  1450.75  1422.28\n",
            "2022-01-13  1466.67  1451.97\n",
            "2022-01-14  1431.84  1459.71\n"
          ]
        }
      ]
    },
    {
      "cell_type": "code",
      "source": [
        "Apertura_indice_Colombia = (Colombia1.iat[4,1])# Este comando esta extraer un valor especifico de un dataframe\n",
        "print(Apertura_indice_Colombia )"
      ],
      "metadata": {
        "id": "FkJsxDouJtiG",
        "colab": {
          "base_uri": "https://localhost:8080/"
        },
        "outputId": "4b5add3e-90d2-45e7-9acd-e204af4f9382"
      },
      "execution_count": 278,
      "outputs": [
        {
          "output_type": "stream",
          "name": "stdout",
          "text": [
            "1459.71\n"
          ]
        }
      ]
    },
    {
      "cell_type": "code",
      "source": [
        "Cierre_precio_anterior_indice_Colombia= Colombia1.iat[3,0]\n",
        "print(Cierre_precio_anterior_indice_Colombia)"
      ],
      "metadata": {
        "id": "6cISed_9Jt1s",
        "colab": {
          "base_uri": "https://localhost:8080/"
        },
        "outputId": "88ff240d-c367-4528-fe1c-ecd0e770966f"
      },
      "execution_count": 279,
      "outputs": [
        {
          "output_type": "stream",
          "name": "stdout",
          "text": [
            "1466.67\n"
          ]
        }
      ]
    },
    {
      "cell_type": "code",
      "source": [
        "Cierre_precio_anterior5dias_indice_Colombia = Colombia1.iat[0,0]\n",
        "print(Cierre_precio_anterior5dias_indice_Colombia  ) "
      ],
      "metadata": {
        "id": "-0tyNU5NJuAj",
        "colab": {
          "base_uri": "https://localhost:8080/"
        },
        "outputId": "636d800f-13a5-48aa-b77a-e1f79cc8dc4e"
      },
      "execution_count": 280,
      "outputs": [
        {
          "output_type": "stream",
          "name": "stdout",
          "text": [
            "1394.22\n"
          ]
        }
      ]
    },
    {
      "cell_type": "markdown",
      "metadata": {
        "id": "TfHT9MJ0Fk0x"
      },
      "source": [
        "**Materia Primas**"
      ]
    },
    {
      "cell_type": "markdown",
      "metadata": {
        "id": "ZaAJ2gQfGq2g"
      },
      "source": [
        "**Petroleo brent**"
      ]
    },
    {
      "cell_type": "code",
      "metadata": {
        "id": "bSm2XgfWFrfV",
        "colab": {
          "base_uri": "https://localhost:8080/",
          "height": 0
        },
        "outputId": "1eebabf8-b80a-4740-c214-08be79e5d720"
      },
      "source": [
        "inv.get_commodities(group=\"energy\")"
      ],
      "execution_count": 281,
      "outputs": [
        {
          "output_type": "execute_result",
          "data": {
            "text/html": [
              "\n",
              "  <div id=\"df-84de9966-6a40-4e38-a34c-db5553dac383\">\n",
              "    <div class=\"colab-df-container\">\n",
              "      <div>\n",
              "<style scoped>\n",
              "    .dataframe tbody tr th:only-of-type {\n",
              "        vertical-align: middle;\n",
              "    }\n",
              "\n",
              "    .dataframe tbody tr th {\n",
              "        vertical-align: top;\n",
              "    }\n",
              "\n",
              "    .dataframe thead th {\n",
              "        text-align: right;\n",
              "    }\n",
              "</style>\n",
              "<table border=\"1\" class=\"dataframe\">\n",
              "  <thead>\n",
              "    <tr style=\"text-align: right;\">\n",
              "      <th></th>\n",
              "      <th>title</th>\n",
              "      <th>country</th>\n",
              "      <th>name</th>\n",
              "      <th>full_name</th>\n",
              "      <th>currency</th>\n",
              "      <th>group</th>\n",
              "    </tr>\n",
              "  </thead>\n",
              "  <tbody>\n",
              "    <tr>\n",
              "      <th>0</th>\n",
              "      <td>Real Time Streaming Futures Quotes</td>\n",
              "      <td>united kingdom</td>\n",
              "      <td>Brent Oil</td>\n",
              "      <td>Brent Oil Futures</td>\n",
              "      <td>USD</td>\n",
              "      <td>energy</td>\n",
              "    </tr>\n",
              "    <tr>\n",
              "      <th>1</th>\n",
              "      <td>Real Time Streaming Futures Quotes</td>\n",
              "      <td>united states</td>\n",
              "      <td>Crude Oil WTI</td>\n",
              "      <td>Crude Oil WTI Futures</td>\n",
              "      <td>USD</td>\n",
              "      <td>energy</td>\n",
              "    </tr>\n",
              "    <tr>\n",
              "      <th>2</th>\n",
              "      <td>Real Time Streaming Futures Quotes</td>\n",
              "      <td>united kingdom</td>\n",
              "      <td>London Gas Oil</td>\n",
              "      <td>London Gas Oil Futures</td>\n",
              "      <td>USD</td>\n",
              "      <td>energy</td>\n",
              "    </tr>\n",
              "    <tr>\n",
              "      <th>3</th>\n",
              "      <td>Real Time Streaming Futures Quotes</td>\n",
              "      <td>united states</td>\n",
              "      <td>Natural Gas</td>\n",
              "      <td>Natural Gas Futures</td>\n",
              "      <td>USD</td>\n",
              "      <td>energy</td>\n",
              "    </tr>\n",
              "    <tr>\n",
              "      <th>4</th>\n",
              "      <td>Real Time Streaming Futures Quotes</td>\n",
              "      <td>united states</td>\n",
              "      <td>Heating Oil</td>\n",
              "      <td>Heating Oil Futures</td>\n",
              "      <td>USD</td>\n",
              "      <td>energy</td>\n",
              "    </tr>\n",
              "    <tr>\n",
              "      <th>5</th>\n",
              "      <td>Real Time Streaming Futures Quotes</td>\n",
              "      <td>united kingdom</td>\n",
              "      <td>Carbon Emissions</td>\n",
              "      <td>Carbon Emissions Futures</td>\n",
              "      <td>EUR</td>\n",
              "      <td>energy</td>\n",
              "    </tr>\n",
              "    <tr>\n",
              "      <th>6</th>\n",
              "      <td>Real Time Streaming Futures Quotes</td>\n",
              "      <td>united states</td>\n",
              "      <td>Gasoline RBOB</td>\n",
              "      <td>Gasoline RBOB Futures</td>\n",
              "      <td>USD</td>\n",
              "      <td>energy</td>\n",
              "    </tr>\n",
              "    <tr>\n",
              "      <th>7</th>\n",
              "      <td>MCX Futures Market Quotes</td>\n",
              "      <td>india</td>\n",
              "      <td>MCX Brent Oil</td>\n",
              "      <td>Brent Oil Futures</td>\n",
              "      <td>INR</td>\n",
              "      <td>energy</td>\n",
              "    </tr>\n",
              "    <tr>\n",
              "      <th>8</th>\n",
              "      <td>MCX Futures Market Quotes</td>\n",
              "      <td>india</td>\n",
              "      <td>MCX Crude Oil WTI</td>\n",
              "      <td>Crude Oil WTI Futures</td>\n",
              "      <td>INR</td>\n",
              "      <td>energy</td>\n",
              "    </tr>\n",
              "    <tr>\n",
              "      <th>9</th>\n",
              "      <td>MCX Futures Market Quotes</td>\n",
              "      <td>india</td>\n",
              "      <td>MCX Natural Gas</td>\n",
              "      <td>Natural Gas Futures</td>\n",
              "      <td>INR</td>\n",
              "      <td>energy</td>\n",
              "    </tr>\n",
              "  </tbody>\n",
              "</table>\n",
              "</div>\n",
              "      <button class=\"colab-df-convert\" onclick=\"convertToInteractive('df-84de9966-6a40-4e38-a34c-db5553dac383')\"\n",
              "              title=\"Convert this dataframe to an interactive table.\"\n",
              "              style=\"display:none;\">\n",
              "        \n",
              "  <svg xmlns=\"http://www.w3.org/2000/svg\" height=\"24px\"viewBox=\"0 0 24 24\"\n",
              "       width=\"24px\">\n",
              "    <path d=\"M0 0h24v24H0V0z\" fill=\"none\"/>\n",
              "    <path d=\"M18.56 5.44l.94 2.06.94-2.06 2.06-.94-2.06-.94-.94-2.06-.94 2.06-2.06.94zm-11 1L8.5 8.5l.94-2.06 2.06-.94-2.06-.94L8.5 2.5l-.94 2.06-2.06.94zm10 10l.94 2.06.94-2.06 2.06-.94-2.06-.94-.94-2.06-.94 2.06-2.06.94z\"/><path d=\"M17.41 7.96l-1.37-1.37c-.4-.4-.92-.59-1.43-.59-.52 0-1.04.2-1.43.59L10.3 9.45l-7.72 7.72c-.78.78-.78 2.05 0 2.83L4 21.41c.39.39.9.59 1.41.59.51 0 1.02-.2 1.41-.59l7.78-7.78 2.81-2.81c.8-.78.8-2.07 0-2.86zM5.41 20L4 18.59l7.72-7.72 1.47 1.35L5.41 20z\"/>\n",
              "  </svg>\n",
              "      </button>\n",
              "      \n",
              "  <style>\n",
              "    .colab-df-container {\n",
              "      display:flex;\n",
              "      flex-wrap:wrap;\n",
              "      gap: 12px;\n",
              "    }\n",
              "\n",
              "    .colab-df-convert {\n",
              "      background-color: #E8F0FE;\n",
              "      border: none;\n",
              "      border-radius: 50%;\n",
              "      cursor: pointer;\n",
              "      display: none;\n",
              "      fill: #1967D2;\n",
              "      height: 32px;\n",
              "      padding: 0 0 0 0;\n",
              "      width: 32px;\n",
              "    }\n",
              "\n",
              "    .colab-df-convert:hover {\n",
              "      background-color: #E2EBFA;\n",
              "      box-shadow: 0px 1px 2px rgba(60, 64, 67, 0.3), 0px 1px 3px 1px rgba(60, 64, 67, 0.15);\n",
              "      fill: #174EA6;\n",
              "    }\n",
              "\n",
              "    [theme=dark] .colab-df-convert {\n",
              "      background-color: #3B4455;\n",
              "      fill: #D2E3FC;\n",
              "    }\n",
              "\n",
              "    [theme=dark] .colab-df-convert:hover {\n",
              "      background-color: #434B5C;\n",
              "      box-shadow: 0px 1px 3px 1px rgba(0, 0, 0, 0.15);\n",
              "      filter: drop-shadow(0px 1px 2px rgba(0, 0, 0, 0.3));\n",
              "      fill: #FFFFFF;\n",
              "    }\n",
              "  </style>\n",
              "\n",
              "      <script>\n",
              "        const buttonEl =\n",
              "          document.querySelector('#df-84de9966-6a40-4e38-a34c-db5553dac383 button.colab-df-convert');\n",
              "        buttonEl.style.display =\n",
              "          google.colab.kernel.accessAllowed ? 'block' : 'none';\n",
              "\n",
              "        async function convertToInteractive(key) {\n",
              "          const element = document.querySelector('#df-84de9966-6a40-4e38-a34c-db5553dac383');\n",
              "          const dataTable =\n",
              "            await google.colab.kernel.invokeFunction('convertToInteractive',\n",
              "                                                     [key], {});\n",
              "          if (!dataTable) return;\n",
              "\n",
              "          const docLinkHtml = 'Like what you see? Visit the ' +\n",
              "            '<a target=\"_blank\" href=https://colab.research.google.com/notebooks/data_table.ipynb>data table notebook</a>'\n",
              "            + ' to learn more about interactive tables.';\n",
              "          element.innerHTML = '';\n",
              "          dataTable['output_type'] = 'display_data';\n",
              "          await google.colab.output.renderOutput(dataTable, element);\n",
              "          const docLink = document.createElement('div');\n",
              "          docLink.innerHTML = docLinkHtml;\n",
              "          element.appendChild(docLink);\n",
              "        }\n",
              "      </script>\n",
              "    </div>\n",
              "  </div>\n",
              "  "
            ],
            "text/plain": [
              "                                title         country  ... currency   group\n",
              "0  Real Time Streaming Futures Quotes  united kingdom  ...      USD  energy\n",
              "1  Real Time Streaming Futures Quotes   united states  ...      USD  energy\n",
              "2  Real Time Streaming Futures Quotes  united kingdom  ...      USD  energy\n",
              "3  Real Time Streaming Futures Quotes   united states  ...      USD  energy\n",
              "4  Real Time Streaming Futures Quotes   united states  ...      USD  energy\n",
              "5  Real Time Streaming Futures Quotes  united kingdom  ...      EUR  energy\n",
              "6  Real Time Streaming Futures Quotes   united states  ...      USD  energy\n",
              "7           MCX Futures Market Quotes           india  ...      INR  energy\n",
              "8           MCX Futures Market Quotes           india  ...      INR  energy\n",
              "9           MCX Futures Market Quotes           india  ...      INR  energy\n",
              "\n",
              "[10 rows x 6 columns]"
            ]
          },
          "metadata": {},
          "execution_count": 281
        }
      ]
    },
    {
      "cell_type": "code",
      "metadata": {
        "id": "c--CN3WAG9p3",
        "colab": {
          "base_uri": "https://localhost:8080/"
        },
        "outputId": "5f5415c9-c69e-46a4-f9a6-fa7458f8087b"
      },
      "source": [
        "brent=inv.get_commodity_recent_data(\"Brent Oil\",country=\"united kingdom\")\n",
        "brent10=brent[[\"Close\",\"Open\"]].tail()\n",
        "print(brent10)"
      ],
      "execution_count": 282,
      "outputs": [
        {
          "output_type": "stream",
          "name": "stdout",
          "text": [
            "            Close   Open\n",
            "Date                    \n",
            "2022-01-10  80.87  81.76\n",
            "2022-01-11  83.72  81.08\n",
            "2022-01-12  84.67  83.78\n",
            "2022-01-13  84.47  84.87\n",
            "2022-01-14  86.06  84.12\n"
          ]
        }
      ]
    },
    {
      "cell_type": "code",
      "source": [
        "Apertura_brent = (brent10.iat[4,1])# Este comando esta extraer un valor especifico de un dataframe\n",
        "print(Apertura_brent)"
      ],
      "metadata": {
        "id": "RMeiQDXkJDBk",
        "colab": {
          "base_uri": "https://localhost:8080/"
        },
        "outputId": "be6b8818-16bf-4f71-d678-32ab8208ee0f"
      },
      "execution_count": 283,
      "outputs": [
        {
          "output_type": "stream",
          "name": "stdout",
          "text": [
            "84.12\n"
          ]
        }
      ]
    },
    {
      "cell_type": "code",
      "source": [
        "Cierre_precio_anterior_brent= brent10.iat[3,0]\n",
        "print(Cierre_precio_anterior_brent)"
      ],
      "metadata": {
        "id": "13WlZweXJDMh",
        "colab": {
          "base_uri": "https://localhost:8080/"
        },
        "outputId": "d0ab5cce-3a99-4662-8c7e-4b25f9cff729"
      },
      "execution_count": 284,
      "outputs": [
        {
          "output_type": "stream",
          "name": "stdout",
          "text": [
            "84.47\n"
          ]
        }
      ]
    },
    {
      "cell_type": "code",
      "source": [
        "Cierre_precio_anterior5dias_brent = brent10.iat[0,0]\n",
        "print(Cierre_precio_anterior5dias_brent ) "
      ],
      "metadata": {
        "id": "ibrKYQXZJDWk",
        "colab": {
          "base_uri": "https://localhost:8080/"
        },
        "outputId": "5071adaf-76fe-419d-ebea-f94d27f19088"
      },
      "execution_count": 285,
      "outputs": [
        {
          "output_type": "stream",
          "name": "stdout",
          "text": [
            "80.87\n"
          ]
        }
      ]
    },
    {
      "cell_type": "markdown",
      "metadata": {
        "id": "yrvoK7DjGunG"
      },
      "source": [
        "**Petroleo WTI**"
      ]
    },
    {
      "cell_type": "code",
      "metadata": {
        "id": "6kNi6d5nG0PW",
        "colab": {
          "base_uri": "https://localhost:8080/"
        },
        "outputId": "789dadd8-a78f-462e-98f9-3770eff86d56"
      },
      "source": [
        "WTI=inv.get_commodity_recent_data(\"Crude Oil WTI\",country=\"united states\")\n",
        "WTI10=WTI[[\"Close\",\"Open\"]].tail()\n",
        "print(WTI10)"
      ],
      "execution_count": 286,
      "outputs": [
        {
          "output_type": "stream",
          "name": "stdout",
          "text": [
            "            Close   Open\n",
            "Date                    \n",
            "2022-01-10  78.23  78.88\n",
            "2022-01-11  81.22  78.42\n",
            "2022-01-12  82.64  81.38\n",
            "2022-01-13  82.12  82.82\n",
            "2022-01-14  83.82  81.73\n"
          ]
        }
      ]
    },
    {
      "cell_type": "code",
      "source": [
        "Apertura_WTI = (WTI10.iat[4,1])# Este comando esta extraer un valor especifico de un dataframe\n",
        "print(Apertura_WTI)"
      ],
      "metadata": {
        "id": "fjXtn6WzJVkY",
        "colab": {
          "base_uri": "https://localhost:8080/"
        },
        "outputId": "69aeaaec-387c-4cbb-bdc3-e3f0bb953e0d"
      },
      "execution_count": 287,
      "outputs": [
        {
          "output_type": "stream",
          "name": "stdout",
          "text": [
            "81.73\n"
          ]
        }
      ]
    },
    {
      "cell_type": "code",
      "source": [
        "Cierre_precio_anterior_WTI= WTI10.iat[3,0]\n",
        "print(Cierre_precio_anterior_WTI)"
      ],
      "metadata": {
        "id": "l6iPtgngJVvd",
        "colab": {
          "base_uri": "https://localhost:8080/"
        },
        "outputId": "27967144-2f21-4bed-ba20-f93c656b8618"
      },
      "execution_count": 288,
      "outputs": [
        {
          "output_type": "stream",
          "name": "stdout",
          "text": [
            "82.12\n"
          ]
        }
      ]
    },
    {
      "cell_type": "code",
      "source": [
        "Cierre_precio_anterior5dias_WTI = WTI10.iat[0,0]\n",
        "print(Cierre_precio_anterior5dias_WTI ) "
      ],
      "metadata": {
        "id": "MBL3eHYxJV5B",
        "colab": {
          "base_uri": "https://localhost:8080/"
        },
        "outputId": "3495aa9b-155e-4e83-e5ff-9499c28fc5fe"
      },
      "execution_count": 289,
      "outputs": [
        {
          "output_type": "stream",
          "name": "stdout",
          "text": [
            "78.23\n"
          ]
        }
      ]
    },
    {
      "cell_type": "markdown",
      "metadata": {
        "id": "K6ZObKHYH-Nf"
      },
      "source": [
        "**Oro**"
      ]
    },
    {
      "cell_type": "code",
      "metadata": {
        "id": "zScHHevlNP4e",
        "colab": {
          "base_uri": "https://localhost:8080/",
          "height": 0
        },
        "outputId": "0c582280-c40f-4766-93bf-2bb07dc282d2"
      },
      "source": [
        "inv.get_commodities(group=\"metals\")"
      ],
      "execution_count": 290,
      "outputs": [
        {
          "output_type": "execute_result",
          "data": {
            "text/html": [
              "\n",
              "  <div id=\"df-cd63b131-e1ce-4f7a-8f9f-d7b83060c41c\">\n",
              "    <div class=\"colab-df-container\">\n",
              "      <div>\n",
              "<style scoped>\n",
              "    .dataframe tbody tr th:only-of-type {\n",
              "        vertical-align: middle;\n",
              "    }\n",
              "\n",
              "    .dataframe tbody tr th {\n",
              "        vertical-align: top;\n",
              "    }\n",
              "\n",
              "    .dataframe thead th {\n",
              "        text-align: right;\n",
              "    }\n",
              "</style>\n",
              "<table border=\"1\" class=\"dataframe\">\n",
              "  <thead>\n",
              "    <tr style=\"text-align: right;\">\n",
              "      <th></th>\n",
              "      <th>title</th>\n",
              "      <th>country</th>\n",
              "      <th>name</th>\n",
              "      <th>full_name</th>\n",
              "      <th>currency</th>\n",
              "      <th>group</th>\n",
              "    </tr>\n",
              "  </thead>\n",
              "  <tbody>\n",
              "    <tr>\n",
              "      <th>0</th>\n",
              "      <td>Real Time Streaming Futures Quotes</td>\n",
              "      <td></td>\n",
              "      <td>Gold</td>\n",
              "      <td>Gold Futures</td>\n",
              "      <td>USD</td>\n",
              "      <td>metals</td>\n",
              "    </tr>\n",
              "    <tr>\n",
              "      <th>1</th>\n",
              "      <td>Real Time Streaming Futures Quotes</td>\n",
              "      <td>united states</td>\n",
              "      <td>Copper</td>\n",
              "      <td>Copper Futures</td>\n",
              "      <td>USD</td>\n",
              "      <td>metals</td>\n",
              "    </tr>\n",
              "    <tr>\n",
              "      <th>2</th>\n",
              "      <td>Real Time Streaming Futures Quotes</td>\n",
              "      <td></td>\n",
              "      <td>Silver</td>\n",
              "      <td>Silver Futures</td>\n",
              "      <td>USD</td>\n",
              "      <td>metals</td>\n",
              "    </tr>\n",
              "    <tr>\n",
              "      <th>3</th>\n",
              "      <td>Real Time Streaming Futures Quotes</td>\n",
              "      <td>united states</td>\n",
              "      <td>Palladium</td>\n",
              "      <td>Palladium Futures</td>\n",
              "      <td>USD</td>\n",
              "      <td>metals</td>\n",
              "    </tr>\n",
              "    <tr>\n",
              "      <th>4</th>\n",
              "      <td>Real Time Streaming Futures Quotes</td>\n",
              "      <td>united states</td>\n",
              "      <td>Platinum</td>\n",
              "      <td>Platinum Futures</td>\n",
              "      <td>USD</td>\n",
              "      <td>metals</td>\n",
              "    </tr>\n",
              "    <tr>\n",
              "      <th>5</th>\n",
              "      <td>Real Time Streaming Futures Quotes</td>\n",
              "      <td>united kingdom</td>\n",
              "      <td>Aluminum</td>\n",
              "      <td>Aluminum Futures</td>\n",
              "      <td>USD</td>\n",
              "      <td>metals</td>\n",
              "    </tr>\n",
              "    <tr>\n",
              "      <th>6</th>\n",
              "      <td>Real Time Streaming Futures Quotes</td>\n",
              "      <td>united kingdom</td>\n",
              "      <td>Zinc</td>\n",
              "      <td>Zinc Futures</td>\n",
              "      <td>USD</td>\n",
              "      <td>metals</td>\n",
              "    </tr>\n",
              "    <tr>\n",
              "      <th>7</th>\n",
              "      <td>Real Time Streaming Futures Quotes</td>\n",
              "      <td>united kingdom</td>\n",
              "      <td>Lead</td>\n",
              "      <td>Lead Futures</td>\n",
              "      <td>USD</td>\n",
              "      <td>metals</td>\n",
              "    </tr>\n",
              "    <tr>\n",
              "      <th>8</th>\n",
              "      <td>Real Time Streaming Futures Quotes</td>\n",
              "      <td>united kingdom</td>\n",
              "      <td>Nickel</td>\n",
              "      <td>Nickel Futures</td>\n",
              "      <td>USD</td>\n",
              "      <td>metals</td>\n",
              "    </tr>\n",
              "    <tr>\n",
              "      <th>9</th>\n",
              "      <td>Real Time Streaming Futures Quotes</td>\n",
              "      <td>united kingdom</td>\n",
              "      <td>Tin</td>\n",
              "      <td>Tin Futures</td>\n",
              "      <td>USD</td>\n",
              "      <td>metals</td>\n",
              "    </tr>\n",
              "    <tr>\n",
              "      <th>10</th>\n",
              "      <td>Real Time Streaming Futures Quotes</td>\n",
              "      <td>united kingdom</td>\n",
              "      <td>Copper</td>\n",
              "      <td>Copper Futures</td>\n",
              "      <td>USD</td>\n",
              "      <td>metals</td>\n",
              "    </tr>\n",
              "    <tr>\n",
              "      <th>11</th>\n",
              "      <td>EUREX Futures Market Quotes</td>\n",
              "      <td>euro zone</td>\n",
              "      <td>Xetra-Gold</td>\n",
              "      <td>Xetra-Gold Futures</td>\n",
              "      <td>EUR</td>\n",
              "      <td>metals</td>\n",
              "    </tr>\n",
              "    <tr>\n",
              "      <th>12</th>\n",
              "      <td>MCX Futures Market Quotes</td>\n",
              "      <td>india</td>\n",
              "      <td>MCX Aluminum Mini</td>\n",
              "      <td>Aluminum Mini Futures</td>\n",
              "      <td>INR</td>\n",
              "      <td>metals</td>\n",
              "    </tr>\n",
              "    <tr>\n",
              "      <th>13</th>\n",
              "      <td>MCX Futures Market Quotes</td>\n",
              "      <td>india</td>\n",
              "      <td>MCX Aluminum</td>\n",
              "      <td>Aluminum Futures</td>\n",
              "      <td>INR</td>\n",
              "      <td>metals</td>\n",
              "    </tr>\n",
              "    <tr>\n",
              "      <th>14</th>\n",
              "      <td>MCX Futures Market Quotes</td>\n",
              "      <td>india</td>\n",
              "      <td>MCX Copper</td>\n",
              "      <td>Copper Futures</td>\n",
              "      <td>INR</td>\n",
              "      <td>metals</td>\n",
              "    </tr>\n",
              "    <tr>\n",
              "      <th>15</th>\n",
              "      <td>MCX Futures Market Quotes</td>\n",
              "      <td>india</td>\n",
              "      <td>MCX Copper Mini</td>\n",
              "      <td>Copper Mini Futures</td>\n",
              "      <td>INR</td>\n",
              "      <td>metals</td>\n",
              "    </tr>\n",
              "    <tr>\n",
              "      <th>16</th>\n",
              "      <td>MCX Futures Market Quotes</td>\n",
              "      <td>india</td>\n",
              "      <td>MCX Gold 1 Kg</td>\n",
              "      <td>Gold 1 Kg</td>\n",
              "      <td>INR</td>\n",
              "      <td>metals</td>\n",
              "    </tr>\n",
              "    <tr>\n",
              "      <th>17</th>\n",
              "      <td>MCX Futures Market Quotes</td>\n",
              "      <td>india</td>\n",
              "      <td>MCX Gold Guinea</td>\n",
              "      <td>Gold Guinea Futures</td>\n",
              "      <td>INR</td>\n",
              "      <td>metals</td>\n",
              "    </tr>\n",
              "    <tr>\n",
              "      <th>18</th>\n",
              "      <td>MCX Futures Market Quotes</td>\n",
              "      <td>india</td>\n",
              "      <td>MCX Gold Mini</td>\n",
              "      <td>Gold Mini Futures</td>\n",
              "      <td>INR</td>\n",
              "      <td>metals</td>\n",
              "    </tr>\n",
              "    <tr>\n",
              "      <th>19</th>\n",
              "      <td>MCX Futures Market Quotes</td>\n",
              "      <td>india</td>\n",
              "      <td>MCX Gold Petal</td>\n",
              "      <td>Gold Petal Futures</td>\n",
              "      <td>INR</td>\n",
              "      <td>metals</td>\n",
              "    </tr>\n",
              "    <tr>\n",
              "      <th>20</th>\n",
              "      <td>MCX Futures Market Quotes</td>\n",
              "      <td>india</td>\n",
              "      <td>MCX Gold Petal Del</td>\n",
              "      <td>Gold Petal (New Delhi) Futures</td>\n",
              "      <td>INR</td>\n",
              "      <td>metals</td>\n",
              "    </tr>\n",
              "    <tr>\n",
              "      <th>21</th>\n",
              "      <td>MCX Futures Market Quotes</td>\n",
              "      <td>india</td>\n",
              "      <td>MCX Lead</td>\n",
              "      <td>Lead Futures</td>\n",
              "      <td>INR</td>\n",
              "      <td>metals</td>\n",
              "    </tr>\n",
              "    <tr>\n",
              "      <th>22</th>\n",
              "      <td>MCX Futures Market Quotes</td>\n",
              "      <td>india</td>\n",
              "      <td>MCX Lead Mini</td>\n",
              "      <td>Lead Mini Futures</td>\n",
              "      <td>INR</td>\n",
              "      <td>metals</td>\n",
              "    </tr>\n",
              "    <tr>\n",
              "      <th>23</th>\n",
              "      <td>MCX Futures Market Quotes</td>\n",
              "      <td>india</td>\n",
              "      <td>MCX Nickel</td>\n",
              "      <td>Nickel Futures</td>\n",
              "      <td>INR</td>\n",
              "      <td>metals</td>\n",
              "    </tr>\n",
              "    <tr>\n",
              "      <th>24</th>\n",
              "      <td>MCX Futures Market Quotes</td>\n",
              "      <td>india</td>\n",
              "      <td>MCX Nickel Mini</td>\n",
              "      <td>Nickel Mini Futures</td>\n",
              "      <td>INR</td>\n",
              "      <td>metals</td>\n",
              "    </tr>\n",
              "    <tr>\n",
              "      <th>25</th>\n",
              "      <td>MCX Futures Market Quotes</td>\n",
              "      <td>india</td>\n",
              "      <td>MCX Silver</td>\n",
              "      <td>Silver Futures</td>\n",
              "      <td>INR</td>\n",
              "      <td>metals</td>\n",
              "    </tr>\n",
              "    <tr>\n",
              "      <th>26</th>\n",
              "      <td>MCX Futures Market Quotes</td>\n",
              "      <td>india</td>\n",
              "      <td>MCX Silver Micro</td>\n",
              "      <td>Silver Micro Futures</td>\n",
              "      <td>INR</td>\n",
              "      <td>metals</td>\n",
              "    </tr>\n",
              "    <tr>\n",
              "      <th>27</th>\n",
              "      <td>MCX Futures Market Quotes</td>\n",
              "      <td>india</td>\n",
              "      <td>MCX Silver Mini</td>\n",
              "      <td>Silver Mini Futures</td>\n",
              "      <td>INR</td>\n",
              "      <td>metals</td>\n",
              "    </tr>\n",
              "    <tr>\n",
              "      <th>28</th>\n",
              "      <td>MCX Futures Market Quotes</td>\n",
              "      <td>india</td>\n",
              "      <td>MCX Zinc</td>\n",
              "      <td>Zinc Futures</td>\n",
              "      <td>INR</td>\n",
              "      <td>metals</td>\n",
              "    </tr>\n",
              "    <tr>\n",
              "      <th>29</th>\n",
              "      <td>MCX Futures Market Quotes</td>\n",
              "      <td>india</td>\n",
              "      <td>MCX Zinc Mini</td>\n",
              "      <td>Zinc Mini Futures</td>\n",
              "      <td>INR</td>\n",
              "      <td>metals</td>\n",
              "    </tr>\n",
              "  </tbody>\n",
              "</table>\n",
              "</div>\n",
              "      <button class=\"colab-df-convert\" onclick=\"convertToInteractive('df-cd63b131-e1ce-4f7a-8f9f-d7b83060c41c')\"\n",
              "              title=\"Convert this dataframe to an interactive table.\"\n",
              "              style=\"display:none;\">\n",
              "        \n",
              "  <svg xmlns=\"http://www.w3.org/2000/svg\" height=\"24px\"viewBox=\"0 0 24 24\"\n",
              "       width=\"24px\">\n",
              "    <path d=\"M0 0h24v24H0V0z\" fill=\"none\"/>\n",
              "    <path d=\"M18.56 5.44l.94 2.06.94-2.06 2.06-.94-2.06-.94-.94-2.06-.94 2.06-2.06.94zm-11 1L8.5 8.5l.94-2.06 2.06-.94-2.06-.94L8.5 2.5l-.94 2.06-2.06.94zm10 10l.94 2.06.94-2.06 2.06-.94-2.06-.94-.94-2.06-.94 2.06-2.06.94z\"/><path d=\"M17.41 7.96l-1.37-1.37c-.4-.4-.92-.59-1.43-.59-.52 0-1.04.2-1.43.59L10.3 9.45l-7.72 7.72c-.78.78-.78 2.05 0 2.83L4 21.41c.39.39.9.59 1.41.59.51 0 1.02-.2 1.41-.59l7.78-7.78 2.81-2.81c.8-.78.8-2.07 0-2.86zM5.41 20L4 18.59l7.72-7.72 1.47 1.35L5.41 20z\"/>\n",
              "  </svg>\n",
              "      </button>\n",
              "      \n",
              "  <style>\n",
              "    .colab-df-container {\n",
              "      display:flex;\n",
              "      flex-wrap:wrap;\n",
              "      gap: 12px;\n",
              "    }\n",
              "\n",
              "    .colab-df-convert {\n",
              "      background-color: #E8F0FE;\n",
              "      border: none;\n",
              "      border-radius: 50%;\n",
              "      cursor: pointer;\n",
              "      display: none;\n",
              "      fill: #1967D2;\n",
              "      height: 32px;\n",
              "      padding: 0 0 0 0;\n",
              "      width: 32px;\n",
              "    }\n",
              "\n",
              "    .colab-df-convert:hover {\n",
              "      background-color: #E2EBFA;\n",
              "      box-shadow: 0px 1px 2px rgba(60, 64, 67, 0.3), 0px 1px 3px 1px rgba(60, 64, 67, 0.15);\n",
              "      fill: #174EA6;\n",
              "    }\n",
              "\n",
              "    [theme=dark] .colab-df-convert {\n",
              "      background-color: #3B4455;\n",
              "      fill: #D2E3FC;\n",
              "    }\n",
              "\n",
              "    [theme=dark] .colab-df-convert:hover {\n",
              "      background-color: #434B5C;\n",
              "      box-shadow: 0px 1px 3px 1px rgba(0, 0, 0, 0.15);\n",
              "      filter: drop-shadow(0px 1px 2px rgba(0, 0, 0, 0.3));\n",
              "      fill: #FFFFFF;\n",
              "    }\n",
              "  </style>\n",
              "\n",
              "      <script>\n",
              "        const buttonEl =\n",
              "          document.querySelector('#df-cd63b131-e1ce-4f7a-8f9f-d7b83060c41c button.colab-df-convert');\n",
              "        buttonEl.style.display =\n",
              "          google.colab.kernel.accessAllowed ? 'block' : 'none';\n",
              "\n",
              "        async function convertToInteractive(key) {\n",
              "          const element = document.querySelector('#df-cd63b131-e1ce-4f7a-8f9f-d7b83060c41c');\n",
              "          const dataTable =\n",
              "            await google.colab.kernel.invokeFunction('convertToInteractive',\n",
              "                                                     [key], {});\n",
              "          if (!dataTable) return;\n",
              "\n",
              "          const docLinkHtml = 'Like what you see? Visit the ' +\n",
              "            '<a target=\"_blank\" href=https://colab.research.google.com/notebooks/data_table.ipynb>data table notebook</a>'\n",
              "            + ' to learn more about interactive tables.';\n",
              "          element.innerHTML = '';\n",
              "          dataTable['output_type'] = 'display_data';\n",
              "          await google.colab.output.renderOutput(dataTable, element);\n",
              "          const docLink = document.createElement('div');\n",
              "          docLink.innerHTML = docLinkHtml;\n",
              "          element.appendChild(docLink);\n",
              "        }\n",
              "      </script>\n",
              "    </div>\n",
              "  </div>\n",
              "  "
            ],
            "text/plain": [
              "                                 title         country  ... currency   group\n",
              "0   Real Time Streaming Futures Quotes                  ...      USD  metals\n",
              "1   Real Time Streaming Futures Quotes   united states  ...      USD  metals\n",
              "2   Real Time Streaming Futures Quotes                  ...      USD  metals\n",
              "3   Real Time Streaming Futures Quotes   united states  ...      USD  metals\n",
              "4   Real Time Streaming Futures Quotes   united states  ...      USD  metals\n",
              "5   Real Time Streaming Futures Quotes  united kingdom  ...      USD  metals\n",
              "6   Real Time Streaming Futures Quotes  united kingdom  ...      USD  metals\n",
              "7   Real Time Streaming Futures Quotes  united kingdom  ...      USD  metals\n",
              "8   Real Time Streaming Futures Quotes  united kingdom  ...      USD  metals\n",
              "9   Real Time Streaming Futures Quotes  united kingdom  ...      USD  metals\n",
              "10  Real Time Streaming Futures Quotes  united kingdom  ...      USD  metals\n",
              "11         EUREX Futures Market Quotes       euro zone  ...      EUR  metals\n",
              "12           MCX Futures Market Quotes           india  ...      INR  metals\n",
              "13           MCX Futures Market Quotes           india  ...      INR  metals\n",
              "14           MCX Futures Market Quotes           india  ...      INR  metals\n",
              "15           MCX Futures Market Quotes           india  ...      INR  metals\n",
              "16           MCX Futures Market Quotes           india  ...      INR  metals\n",
              "17           MCX Futures Market Quotes           india  ...      INR  metals\n",
              "18           MCX Futures Market Quotes           india  ...      INR  metals\n",
              "19           MCX Futures Market Quotes           india  ...      INR  metals\n",
              "20           MCX Futures Market Quotes           india  ...      INR  metals\n",
              "21           MCX Futures Market Quotes           india  ...      INR  metals\n",
              "22           MCX Futures Market Quotes           india  ...      INR  metals\n",
              "23           MCX Futures Market Quotes           india  ...      INR  metals\n",
              "24           MCX Futures Market Quotes           india  ...      INR  metals\n",
              "25           MCX Futures Market Quotes           india  ...      INR  metals\n",
              "26           MCX Futures Market Quotes           india  ...      INR  metals\n",
              "27           MCX Futures Market Quotes           india  ...      INR  metals\n",
              "28           MCX Futures Market Quotes           india  ...      INR  metals\n",
              "29           MCX Futures Market Quotes           india  ...      INR  metals\n",
              "\n",
              "[30 rows x 6 columns]"
            ]
          },
          "metadata": {},
          "execution_count": 290
        }
      ]
    },
    {
      "cell_type": "code",
      "metadata": {
        "id": "fA3vUDs9wMRE",
        "colab": {
          "base_uri": "https://localhost:8080/"
        },
        "outputId": "fc60615f-0753-4aaa-e5c6-0d2857c87c25"
      },
      "source": [
        "Oro=inv.get_commodity_recent_data(\"gold\")\n",
        "Oro1=Oro[[\"Close\",\"Open\"]].tail()\n",
        "Oro10 = pd.DataFrame(Oro1)\n",
        "print(Oro10)"
      ],
      "execution_count": 291,
      "outputs": [
        {
          "output_type": "stream",
          "name": "stdout",
          "text": [
            "             Close    Open\n",
            "Date                      \n",
            "2022-01-10  1798.8  1796.4\n",
            "2022-01-11  1818.5  1801.3\n",
            "2022-01-12  1827.3  1821.3\n",
            "2022-01-13  1821.4  1825.7\n",
            "2022-01-14  1816.5  1822.1\n"
          ]
        }
      ]
    },
    {
      "cell_type": "code",
      "source": [
        "Apertura_oro = (Oro10.iat[4,1])# Este comando esta extraer un valor especifico de un dataframe\n",
        "print(Apertura_oro)"
      ],
      "metadata": {
        "id": "DlT5kcTVb8BS",
        "colab": {
          "base_uri": "https://localhost:8080/"
        },
        "outputId": "1b81c78f-5800-4ea6-95a4-a9b12bdcb5c8"
      },
      "execution_count": 292,
      "outputs": [
        {
          "output_type": "stream",
          "name": "stdout",
          "text": [
            "1822.1\n"
          ]
        }
      ]
    },
    {
      "cell_type": "code",
      "source": [
        "Cierre_precio_anterior_oro= Oro10.iat[3,0]\n",
        "print(Cierre_precio_anterior_oro)"
      ],
      "metadata": {
        "id": "LEukkXDHdyE2",
        "colab": {
          "base_uri": "https://localhost:8080/"
        },
        "outputId": "f229fd55-782f-4801-a675-a4f12a0e3636"
      },
      "execution_count": 293,
      "outputs": [
        {
          "output_type": "stream",
          "name": "stdout",
          "text": [
            "1821.4\n"
          ]
        }
      ]
    },
    {
      "cell_type": "code",
      "source": [
        "Cierre_precio_anterior5dias_oro = Oro10.iat[0,0]\n",
        "print(Cierre_precio_anterior5dias_oro )"
      ],
      "metadata": {
        "id": "02szCCjReoxC",
        "colab": {
          "base_uri": "https://localhost:8080/"
        },
        "outputId": "3f4789a9-4fcb-4036-de5d-172e7b0a1446"
      },
      "execution_count": 294,
      "outputs": [
        {
          "output_type": "stream",
          "name": "stdout",
          "text": [
            "1798.8\n"
          ]
        }
      ]
    },
    {
      "cell_type": "markdown",
      "metadata": {
        "id": "iXzWdAMIIFuG"
      },
      "source": [
        "**Cobre**"
      ]
    },
    {
      "cell_type": "code",
      "metadata": {
        "id": "hZZWyqzzNQU3",
        "colab": {
          "base_uri": "https://localhost:8080/"
        },
        "outputId": "fef5b922-21f8-46a7-8afd-dfe5557daa1d"
      },
      "source": [
        "Cobre=inv.get_commodity_recent_data(\"copper\",country=\"united states\")\n",
        "Cobre10=Cobre[[\"Close\",\"Open\"]].tail()\n",
        "print(Cobre10)"
      ],
      "execution_count": 295,
      "outputs": [
        {
          "output_type": "stream",
          "name": "stdout",
          "text": [
            "             Close    Open\n",
            "Date                      \n",
            "2022-01-10  4.3780  4.3970\n",
            "2022-01-11  4.4260  4.3775\n",
            "2022-01-12  4.5568  4.4260\n",
            "2022-01-13  4.5100  4.5563\n",
            "2022-01-14  4.4298  4.5098\n"
          ]
        }
      ]
    },
    {
      "cell_type": "code",
      "source": [
        "Apertura_cobre = (Cobre10.iat[4,1]) # Este comando esta extraer un valor especifico de un dataframe\n",
        "print(Apertura_cobre)"
      ],
      "metadata": {
        "id": "xxWPa3llAW5I",
        "colab": {
          "base_uri": "https://localhost:8080/"
        },
        "outputId": "6c1aa66e-7b7f-485c-8eb8-650c288de312"
      },
      "execution_count": 296,
      "outputs": [
        {
          "output_type": "stream",
          "name": "stdout",
          "text": [
            "4.5098\n"
          ]
        }
      ]
    },
    {
      "cell_type": "code",
      "source": [
        "Cierre_precio_anterior_cobre= Cobre10.iat[3,0]\n",
        "print(Cierre_precio_anterior_cobre)"
      ],
      "metadata": {
        "id": "EkPPLuz1Azs-",
        "colab": {
          "base_uri": "https://localhost:8080/"
        },
        "outputId": "0df332c8-fd56-461c-9691-38c7ffcac7c7"
      },
      "execution_count": 297,
      "outputs": [
        {
          "output_type": "stream",
          "name": "stdout",
          "text": [
            "4.51\n"
          ]
        }
      ]
    },
    {
      "cell_type": "code",
      "source": [
        "Cierre_precio_anterior5dias_Cobre = Cobre10.iat[0,0]\n",
        "print(Cierre_precio_anterior5dias_Cobre)"
      ],
      "metadata": {
        "id": "AuRdeqZxAz76",
        "colab": {
          "base_uri": "https://localhost:8080/"
        },
        "outputId": "5e303bc5-dc56-4e84-82c0-2564d7d02798"
      },
      "execution_count": 298,
      "outputs": [
        {
          "output_type": "stream",
          "name": "stdout",
          "text": [
            "4.378\n"
          ]
        }
      ]
    },
    {
      "cell_type": "markdown",
      "metadata": {
        "id": "SlR69UDdIJI1"
      },
      "source": [
        "**Maiz**"
      ]
    },
    {
      "cell_type": "code",
      "metadata": {
        "id": "CDAqj7TXymFS",
        "colab": {
          "base_uri": "https://localhost:8080/",
          "height": 0
        },
        "outputId": "79b6e2df-64e1-42a7-c44f-fd5e89c119f5"
      },
      "source": [
        "inv.get_commodities(group=\"grains\")"
      ],
      "execution_count": 299,
      "outputs": [
        {
          "output_type": "execute_result",
          "data": {
            "text/html": [
              "\n",
              "  <div id=\"df-5487db1c-f39d-415e-99f6-458b97e18fcd\">\n",
              "    <div class=\"colab-df-container\">\n",
              "      <div>\n",
              "<style scoped>\n",
              "    .dataframe tbody tr th:only-of-type {\n",
              "        vertical-align: middle;\n",
              "    }\n",
              "\n",
              "    .dataframe tbody tr th {\n",
              "        vertical-align: top;\n",
              "    }\n",
              "\n",
              "    .dataframe thead th {\n",
              "        text-align: right;\n",
              "    }\n",
              "</style>\n",
              "<table border=\"1\" class=\"dataframe\">\n",
              "  <thead>\n",
              "    <tr style=\"text-align: right;\">\n",
              "      <th></th>\n",
              "      <th>title</th>\n",
              "      <th>country</th>\n",
              "      <th>name</th>\n",
              "      <th>full_name</th>\n",
              "      <th>currency</th>\n",
              "      <th>group</th>\n",
              "    </tr>\n",
              "  </thead>\n",
              "  <tbody>\n",
              "    <tr>\n",
              "      <th>0</th>\n",
              "      <td>Real Time Streaming Futures Quotes</td>\n",
              "      <td>united kingdom</td>\n",
              "      <td>London Wheat</td>\n",
              "      <td>London Wheat Futures</td>\n",
              "      <td>GBP</td>\n",
              "      <td>grains</td>\n",
              "    </tr>\n",
              "    <tr>\n",
              "      <th>1</th>\n",
              "      <td>Real Time Streaming Futures Quotes</td>\n",
              "      <td>united states</td>\n",
              "      <td>Rough Rice</td>\n",
              "      <td>Rough Rice Futures</td>\n",
              "      <td>USD</td>\n",
              "      <td>grains</td>\n",
              "    </tr>\n",
              "    <tr>\n",
              "      <th>2</th>\n",
              "      <td>Real Time Streaming Futures Quotes</td>\n",
              "      <td>united states</td>\n",
              "      <td>US Soybean Oil</td>\n",
              "      <td>US Soybean Oil Futures</td>\n",
              "      <td>USD</td>\n",
              "      <td>grains</td>\n",
              "    </tr>\n",
              "    <tr>\n",
              "      <th>3</th>\n",
              "      <td>Real Time Streaming Futures Quotes</td>\n",
              "      <td>united states</td>\n",
              "      <td>US Soybean Meal</td>\n",
              "      <td>US Soybean Meal Futures</td>\n",
              "      <td>USD</td>\n",
              "      <td>grains</td>\n",
              "    </tr>\n",
              "    <tr>\n",
              "      <th>4</th>\n",
              "      <td>Real Time Streaming Futures Quotes</td>\n",
              "      <td>united states</td>\n",
              "      <td>US Soybeans</td>\n",
              "      <td>US Soybeans Futures</td>\n",
              "      <td>USD</td>\n",
              "      <td>grains</td>\n",
              "    </tr>\n",
              "    <tr>\n",
              "      <th>5</th>\n",
              "      <td>Real Time Streaming Futures Quotes</td>\n",
              "      <td>united states</td>\n",
              "      <td>US Wheat</td>\n",
              "      <td>US Wheat Futures</td>\n",
              "      <td>USD</td>\n",
              "      <td>grains</td>\n",
              "    </tr>\n",
              "    <tr>\n",
              "      <th>6</th>\n",
              "      <td>Real Time Streaming Futures Quotes</td>\n",
              "      <td>united states</td>\n",
              "      <td>US Corn</td>\n",
              "      <td>US Corn Futures</td>\n",
              "      <td>USD</td>\n",
              "      <td>grains</td>\n",
              "    </tr>\n",
              "    <tr>\n",
              "      <th>7</th>\n",
              "      <td>Real Time Streaming Futures Quotes</td>\n",
              "      <td>united states</td>\n",
              "      <td>Oats</td>\n",
              "      <td>Oats Futures</td>\n",
              "      <td>USD</td>\n",
              "      <td>grains</td>\n",
              "    </tr>\n",
              "  </tbody>\n",
              "</table>\n",
              "</div>\n",
              "      <button class=\"colab-df-convert\" onclick=\"convertToInteractive('df-5487db1c-f39d-415e-99f6-458b97e18fcd')\"\n",
              "              title=\"Convert this dataframe to an interactive table.\"\n",
              "              style=\"display:none;\">\n",
              "        \n",
              "  <svg xmlns=\"http://www.w3.org/2000/svg\" height=\"24px\"viewBox=\"0 0 24 24\"\n",
              "       width=\"24px\">\n",
              "    <path d=\"M0 0h24v24H0V0z\" fill=\"none\"/>\n",
              "    <path d=\"M18.56 5.44l.94 2.06.94-2.06 2.06-.94-2.06-.94-.94-2.06-.94 2.06-2.06.94zm-11 1L8.5 8.5l.94-2.06 2.06-.94-2.06-.94L8.5 2.5l-.94 2.06-2.06.94zm10 10l.94 2.06.94-2.06 2.06-.94-2.06-.94-.94-2.06-.94 2.06-2.06.94z\"/><path d=\"M17.41 7.96l-1.37-1.37c-.4-.4-.92-.59-1.43-.59-.52 0-1.04.2-1.43.59L10.3 9.45l-7.72 7.72c-.78.78-.78 2.05 0 2.83L4 21.41c.39.39.9.59 1.41.59.51 0 1.02-.2 1.41-.59l7.78-7.78 2.81-2.81c.8-.78.8-2.07 0-2.86zM5.41 20L4 18.59l7.72-7.72 1.47 1.35L5.41 20z\"/>\n",
              "  </svg>\n",
              "      </button>\n",
              "      \n",
              "  <style>\n",
              "    .colab-df-container {\n",
              "      display:flex;\n",
              "      flex-wrap:wrap;\n",
              "      gap: 12px;\n",
              "    }\n",
              "\n",
              "    .colab-df-convert {\n",
              "      background-color: #E8F0FE;\n",
              "      border: none;\n",
              "      border-radius: 50%;\n",
              "      cursor: pointer;\n",
              "      display: none;\n",
              "      fill: #1967D2;\n",
              "      height: 32px;\n",
              "      padding: 0 0 0 0;\n",
              "      width: 32px;\n",
              "    }\n",
              "\n",
              "    .colab-df-convert:hover {\n",
              "      background-color: #E2EBFA;\n",
              "      box-shadow: 0px 1px 2px rgba(60, 64, 67, 0.3), 0px 1px 3px 1px rgba(60, 64, 67, 0.15);\n",
              "      fill: #174EA6;\n",
              "    }\n",
              "\n",
              "    [theme=dark] .colab-df-convert {\n",
              "      background-color: #3B4455;\n",
              "      fill: #D2E3FC;\n",
              "    }\n",
              "\n",
              "    [theme=dark] .colab-df-convert:hover {\n",
              "      background-color: #434B5C;\n",
              "      box-shadow: 0px 1px 3px 1px rgba(0, 0, 0, 0.15);\n",
              "      filter: drop-shadow(0px 1px 2px rgba(0, 0, 0, 0.3));\n",
              "      fill: #FFFFFF;\n",
              "    }\n",
              "  </style>\n",
              "\n",
              "      <script>\n",
              "        const buttonEl =\n",
              "          document.querySelector('#df-5487db1c-f39d-415e-99f6-458b97e18fcd button.colab-df-convert');\n",
              "        buttonEl.style.display =\n",
              "          google.colab.kernel.accessAllowed ? 'block' : 'none';\n",
              "\n",
              "        async function convertToInteractive(key) {\n",
              "          const element = document.querySelector('#df-5487db1c-f39d-415e-99f6-458b97e18fcd');\n",
              "          const dataTable =\n",
              "            await google.colab.kernel.invokeFunction('convertToInteractive',\n",
              "                                                     [key], {});\n",
              "          if (!dataTable) return;\n",
              "\n",
              "          const docLinkHtml = 'Like what you see? Visit the ' +\n",
              "            '<a target=\"_blank\" href=https://colab.research.google.com/notebooks/data_table.ipynb>data table notebook</a>'\n",
              "            + ' to learn more about interactive tables.';\n",
              "          element.innerHTML = '';\n",
              "          dataTable['output_type'] = 'display_data';\n",
              "          await google.colab.output.renderOutput(dataTable, element);\n",
              "          const docLink = document.createElement('div');\n",
              "          docLink.innerHTML = docLinkHtml;\n",
              "          element.appendChild(docLink);\n",
              "        }\n",
              "      </script>\n",
              "    </div>\n",
              "  </div>\n",
              "  "
            ],
            "text/plain": [
              "                                title         country  ... currency   group\n",
              "0  Real Time Streaming Futures Quotes  united kingdom  ...      GBP  grains\n",
              "1  Real Time Streaming Futures Quotes   united states  ...      USD  grains\n",
              "2  Real Time Streaming Futures Quotes   united states  ...      USD  grains\n",
              "3  Real Time Streaming Futures Quotes   united states  ...      USD  grains\n",
              "4  Real Time Streaming Futures Quotes   united states  ...      USD  grains\n",
              "5  Real Time Streaming Futures Quotes   united states  ...      USD  grains\n",
              "6  Real Time Streaming Futures Quotes   united states  ...      USD  grains\n",
              "7  Real Time Streaming Futures Quotes   united states  ...      USD  grains\n",
              "\n",
              "[8 rows x 6 columns]"
            ]
          },
          "metadata": {},
          "execution_count": 299
        }
      ]
    },
    {
      "cell_type": "code",
      "metadata": {
        "id": "GkxUAABdNQz5",
        "colab": {
          "base_uri": "https://localhost:8080/"
        },
        "outputId": "9ffe5f96-ad02-486f-ad97-dd9d8aaec696"
      },
      "source": [
        "Maiz=inv.get_commodity_recent_data(\"US Corn\",country=\"united states\")\n",
        "Maiz10=Maiz[[\"Close\",\"Open\"]].tail()\n",
        "print(Maiz10)"
      ],
      "execution_count": 300,
      "outputs": [
        {
          "output_type": "stream",
          "name": "stdout",
          "text": [
            "             Close    Open\n",
            "Date                      \n",
            "2022-01-10  599.75  605.25\n",
            "2022-01-11  601.00  599.75\n",
            "2022-01-12  599.00  601.00\n",
            "2022-01-13  587.50  599.00\n",
            "2022-01-14  596.25  587.50\n"
          ]
        }
      ]
    },
    {
      "cell_type": "code",
      "source": [
        "Apertura_Maiz = (Maiz10.iat[4,1]) # Este comando esta extraer un valor especifico de un dataframe\n",
        "print(Apertura_Maiz)"
      ],
      "metadata": {
        "id": "PXqWNYvFBm5a",
        "colab": {
          "base_uri": "https://localhost:8080/"
        },
        "outputId": "735662da-a159-4290-b0a8-1bc6eb4e60f3"
      },
      "execution_count": 301,
      "outputs": [
        {
          "output_type": "stream",
          "name": "stdout",
          "text": [
            "587.5\n"
          ]
        }
      ]
    },
    {
      "cell_type": "code",
      "source": [
        "Cierre_precio_anterior_Maiz= Maiz10.iat[3,0]\n",
        "print(Cierre_precio_anterior_Maiz)"
      ],
      "metadata": {
        "id": "i8DJj2scBnEl",
        "colab": {
          "base_uri": "https://localhost:8080/"
        },
        "outputId": "59d42210-67eb-4c58-a2c0-36f6f2fee689"
      },
      "execution_count": 302,
      "outputs": [
        {
          "output_type": "stream",
          "name": "stdout",
          "text": [
            "587.5\n"
          ]
        }
      ]
    },
    {
      "cell_type": "code",
      "source": [
        "Cierre_precio_anterior5dias_Maiz = Maiz10.iat[0,0]\n",
        "print(Cierre_precio_anterior5dias_Maiz)"
      ],
      "metadata": {
        "id": "IEOvoTmHBnO_",
        "colab": {
          "base_uri": "https://localhost:8080/"
        },
        "outputId": "615832b8-4db6-4fb3-a910-76556ccc77b3"
      },
      "execution_count": 303,
      "outputs": [
        {
          "output_type": "stream",
          "name": "stdout",
          "text": [
            "599.75\n"
          ]
        }
      ]
    },
    {
      "cell_type": "markdown",
      "metadata": {
        "id": "cjUuWNSyIT4p"
      },
      "source": [
        "**Soja**"
      ]
    },
    {
      "cell_type": "code",
      "metadata": {
        "id": "1nrm3ALdNRen",
        "colab": {
          "base_uri": "https://localhost:8080/"
        },
        "outputId": "16bf1f4b-c39f-4c90-eb4d-8c8341507e6c"
      },
      "source": [
        "soja=inv.get_commodity_recent_data(\"US Soybeans\",country=\"united states\")\n",
        "soja10=soja[[\"Close\",\"Open\"]].tail()\n",
        "print(soja10)"
      ],
      "execution_count": 304,
      "outputs": [
        {
          "output_type": "stream",
          "name": "stdout",
          "text": [
            "              Close    Open\n",
            "Date                       \n",
            "2022-01-10  1374.75  1394.0\n",
            "2022-01-11  1376.75  1378.0\n",
            "2022-01-12  1391.25  1373.5\n",
            "2022-01-13  1365.25  1368.0\n",
            "2022-01-14  1356.75  1376.5\n"
          ]
        }
      ]
    },
    {
      "cell_type": "code",
      "source": [
        "Apertura_soja = (soja10.iat[4,1]) # Este comando esta extraer un valor especifico de un dataframe\n",
        "print(Apertura_soja)"
      ],
      "metadata": {
        "id": "a_OCj3VdCAvB",
        "colab": {
          "base_uri": "https://localhost:8080/"
        },
        "outputId": "d21ba7f1-e8b9-4035-d18e-d3fe59f4f9d6"
      },
      "execution_count": 305,
      "outputs": [
        {
          "output_type": "stream",
          "name": "stdout",
          "text": [
            "1376.5\n"
          ]
        }
      ]
    },
    {
      "cell_type": "code",
      "source": [
        "Cierre_precio_anterior_soja= soja10.iat[3,0]\n",
        "print(Cierre_precio_anterior_soja)"
      ],
      "metadata": {
        "id": "jRP0fi59CA6P",
        "colab": {
          "base_uri": "https://localhost:8080/"
        },
        "outputId": "5b0e31a2-8777-4cda-bff6-a69004d83060"
      },
      "execution_count": 306,
      "outputs": [
        {
          "output_type": "stream",
          "name": "stdout",
          "text": [
            "1365.25\n"
          ]
        }
      ]
    },
    {
      "cell_type": "code",
      "source": [
        "Cierre_precio_anterior5dias_soja = soja10.iat[0,0]\n",
        "print(Cierre_precio_anterior5dias_soja)"
      ],
      "metadata": {
        "id": "8dqBhg0pCBD2",
        "colab": {
          "base_uri": "https://localhost:8080/"
        },
        "outputId": "2e5141fc-79a8-4345-8b84-366db98fce54"
      },
      "execution_count": 307,
      "outputs": [
        {
          "output_type": "stream",
          "name": "stdout",
          "text": [
            "1374.75\n"
          ]
        }
      ]
    },
    {
      "cell_type": "markdown",
      "metadata": {
        "id": "r0j_iHpsIWpf"
      },
      "source": [
        "**Cafe**"
      ]
    },
    {
      "cell_type": "code",
      "metadata": {
        "id": "2r0SVlcl5PRx",
        "colab": {
          "base_uri": "https://localhost:8080/",
          "height": 0
        },
        "outputId": "30ff6e82-075c-41a9-ddaf-6ded91b9b25e"
      },
      "source": [
        "inv.get_commodities(group=\"softs\")"
      ],
      "execution_count": 308,
      "outputs": [
        {
          "output_type": "execute_result",
          "data": {
            "text/html": [
              "\n",
              "  <div id=\"df-41d4f37c-9471-4f3b-b194-4ea75e84696c\">\n",
              "    <div class=\"colab-df-container\">\n",
              "      <div>\n",
              "<style scoped>\n",
              "    .dataframe tbody tr th:only-of-type {\n",
              "        vertical-align: middle;\n",
              "    }\n",
              "\n",
              "    .dataframe tbody tr th {\n",
              "        vertical-align: top;\n",
              "    }\n",
              "\n",
              "    .dataframe thead th {\n",
              "        text-align: right;\n",
              "    }\n",
              "</style>\n",
              "<table border=\"1\" class=\"dataframe\">\n",
              "  <thead>\n",
              "    <tr style=\"text-align: right;\">\n",
              "      <th></th>\n",
              "      <th>title</th>\n",
              "      <th>country</th>\n",
              "      <th>name</th>\n",
              "      <th>full_name</th>\n",
              "      <th>currency</th>\n",
              "      <th>group</th>\n",
              "    </tr>\n",
              "  </thead>\n",
              "  <tbody>\n",
              "    <tr>\n",
              "      <th>0</th>\n",
              "      <td>Real Time Streaming Futures Quotes</td>\n",
              "      <td>united states</td>\n",
              "      <td>US Coffee C</td>\n",
              "      <td>US Coffee C Futures</td>\n",
              "      <td>USD</td>\n",
              "      <td>softs</td>\n",
              "    </tr>\n",
              "    <tr>\n",
              "      <th>1</th>\n",
              "      <td>Real Time Streaming Futures Quotes</td>\n",
              "      <td>united states</td>\n",
              "      <td>US Cotton #2</td>\n",
              "      <td>US Cotton #2 Futures</td>\n",
              "      <td>USD</td>\n",
              "      <td>softs</td>\n",
              "    </tr>\n",
              "    <tr>\n",
              "      <th>2</th>\n",
              "      <td>Real Time Streaming Futures Quotes</td>\n",
              "      <td>united states</td>\n",
              "      <td>US Sugar #11</td>\n",
              "      <td>US Sugar #11 Futures</td>\n",
              "      <td>USD</td>\n",
              "      <td>softs</td>\n",
              "    </tr>\n",
              "    <tr>\n",
              "      <th>3</th>\n",
              "      <td>Real Time Streaming Futures Quotes</td>\n",
              "      <td>united states</td>\n",
              "      <td>Orange Juice</td>\n",
              "      <td>Orange Juice Futures</td>\n",
              "      <td>USD</td>\n",
              "      <td>softs</td>\n",
              "    </tr>\n",
              "    <tr>\n",
              "      <th>4</th>\n",
              "      <td>Real Time Streaming Futures Quotes</td>\n",
              "      <td>united states</td>\n",
              "      <td>US Cocoa</td>\n",
              "      <td>US Cocoa Futures</td>\n",
              "      <td>USD</td>\n",
              "      <td>softs</td>\n",
              "    </tr>\n",
              "    <tr>\n",
              "      <th>5</th>\n",
              "      <td>Real Time Streaming Futures Quotes</td>\n",
              "      <td>united kingdom</td>\n",
              "      <td>London Coffee</td>\n",
              "      <td>London Robusta Coffee Futures</td>\n",
              "      <td>USD</td>\n",
              "      <td>softs</td>\n",
              "    </tr>\n",
              "    <tr>\n",
              "      <th>6</th>\n",
              "      <td>Real Time Streaming Futures Quotes</td>\n",
              "      <td>united kingdom</td>\n",
              "      <td>London Cocoa</td>\n",
              "      <td>London Cocoa Futures</td>\n",
              "      <td>GBP</td>\n",
              "      <td>softs</td>\n",
              "    </tr>\n",
              "    <tr>\n",
              "      <th>7</th>\n",
              "      <td>Real Time Streaming Futures Quotes</td>\n",
              "      <td>united kingdom</td>\n",
              "      <td>London Sugar</td>\n",
              "      <td>London Sugar Futures</td>\n",
              "      <td>USD</td>\n",
              "      <td>softs</td>\n",
              "    </tr>\n",
              "    <tr>\n",
              "      <th>8</th>\n",
              "      <td>Real Time Streaming Futures Quotes</td>\n",
              "      <td>united states</td>\n",
              "      <td>Lumber</td>\n",
              "      <td>Lumber Futures</td>\n",
              "      <td>USD</td>\n",
              "      <td>softs</td>\n",
              "    </tr>\n",
              "    <tr>\n",
              "      <th>9</th>\n",
              "      <td>MCX Futures Market Quotes</td>\n",
              "      <td>india</td>\n",
              "      <td>MCX Cardamom</td>\n",
              "      <td>Cardamom Futures</td>\n",
              "      <td>INR</td>\n",
              "      <td>softs</td>\n",
              "    </tr>\n",
              "    <tr>\n",
              "      <th>10</th>\n",
              "      <td>MCX Futures Market Quotes</td>\n",
              "      <td>india</td>\n",
              "      <td>MCX Cotton</td>\n",
              "      <td>Cotton 29mm Futures</td>\n",
              "      <td>INR</td>\n",
              "      <td>softs</td>\n",
              "    </tr>\n",
              "    <tr>\n",
              "      <th>11</th>\n",
              "      <td>MCX Futures Market Quotes</td>\n",
              "      <td>india</td>\n",
              "      <td>MCX Crude Palm Oil</td>\n",
              "      <td>Crude Palm Oil Futures</td>\n",
              "      <td>INR</td>\n",
              "      <td>softs</td>\n",
              "    </tr>\n",
              "    <tr>\n",
              "      <th>12</th>\n",
              "      <td>MCX Futures Market Quotes</td>\n",
              "      <td>india</td>\n",
              "      <td>MCX Kapas</td>\n",
              "      <td>Kapas Futures</td>\n",
              "      <td>INR</td>\n",
              "      <td>softs</td>\n",
              "    </tr>\n",
              "    <tr>\n",
              "      <th>13</th>\n",
              "      <td>MCX Futures Market Quotes</td>\n",
              "      <td>india</td>\n",
              "      <td>MCX Mentha Oil</td>\n",
              "      <td>Mentha Oil Futures</td>\n",
              "      <td>INR</td>\n",
              "      <td>softs</td>\n",
              "    </tr>\n",
              "    <tr>\n",
              "      <th>14</th>\n",
              "      <td>MCX Futures Market Quotes</td>\n",
              "      <td>india</td>\n",
              "      <td>MCX Castor Seed</td>\n",
              "      <td>Castor Seed Futures</td>\n",
              "      <td>INR</td>\n",
              "      <td>softs</td>\n",
              "    </tr>\n",
              "  </tbody>\n",
              "</table>\n",
              "</div>\n",
              "      <button class=\"colab-df-convert\" onclick=\"convertToInteractive('df-41d4f37c-9471-4f3b-b194-4ea75e84696c')\"\n",
              "              title=\"Convert this dataframe to an interactive table.\"\n",
              "              style=\"display:none;\">\n",
              "        \n",
              "  <svg xmlns=\"http://www.w3.org/2000/svg\" height=\"24px\"viewBox=\"0 0 24 24\"\n",
              "       width=\"24px\">\n",
              "    <path d=\"M0 0h24v24H0V0z\" fill=\"none\"/>\n",
              "    <path d=\"M18.56 5.44l.94 2.06.94-2.06 2.06-.94-2.06-.94-.94-2.06-.94 2.06-2.06.94zm-11 1L8.5 8.5l.94-2.06 2.06-.94-2.06-.94L8.5 2.5l-.94 2.06-2.06.94zm10 10l.94 2.06.94-2.06 2.06-.94-2.06-.94-.94-2.06-.94 2.06-2.06.94z\"/><path d=\"M17.41 7.96l-1.37-1.37c-.4-.4-.92-.59-1.43-.59-.52 0-1.04.2-1.43.59L10.3 9.45l-7.72 7.72c-.78.78-.78 2.05 0 2.83L4 21.41c.39.39.9.59 1.41.59.51 0 1.02-.2 1.41-.59l7.78-7.78 2.81-2.81c.8-.78.8-2.07 0-2.86zM5.41 20L4 18.59l7.72-7.72 1.47 1.35L5.41 20z\"/>\n",
              "  </svg>\n",
              "      </button>\n",
              "      \n",
              "  <style>\n",
              "    .colab-df-container {\n",
              "      display:flex;\n",
              "      flex-wrap:wrap;\n",
              "      gap: 12px;\n",
              "    }\n",
              "\n",
              "    .colab-df-convert {\n",
              "      background-color: #E8F0FE;\n",
              "      border: none;\n",
              "      border-radius: 50%;\n",
              "      cursor: pointer;\n",
              "      display: none;\n",
              "      fill: #1967D2;\n",
              "      height: 32px;\n",
              "      padding: 0 0 0 0;\n",
              "      width: 32px;\n",
              "    }\n",
              "\n",
              "    .colab-df-convert:hover {\n",
              "      background-color: #E2EBFA;\n",
              "      box-shadow: 0px 1px 2px rgba(60, 64, 67, 0.3), 0px 1px 3px 1px rgba(60, 64, 67, 0.15);\n",
              "      fill: #174EA6;\n",
              "    }\n",
              "\n",
              "    [theme=dark] .colab-df-convert {\n",
              "      background-color: #3B4455;\n",
              "      fill: #D2E3FC;\n",
              "    }\n",
              "\n",
              "    [theme=dark] .colab-df-convert:hover {\n",
              "      background-color: #434B5C;\n",
              "      box-shadow: 0px 1px 3px 1px rgba(0, 0, 0, 0.15);\n",
              "      filter: drop-shadow(0px 1px 2px rgba(0, 0, 0, 0.3));\n",
              "      fill: #FFFFFF;\n",
              "    }\n",
              "  </style>\n",
              "\n",
              "      <script>\n",
              "        const buttonEl =\n",
              "          document.querySelector('#df-41d4f37c-9471-4f3b-b194-4ea75e84696c button.colab-df-convert');\n",
              "        buttonEl.style.display =\n",
              "          google.colab.kernel.accessAllowed ? 'block' : 'none';\n",
              "\n",
              "        async function convertToInteractive(key) {\n",
              "          const element = document.querySelector('#df-41d4f37c-9471-4f3b-b194-4ea75e84696c');\n",
              "          const dataTable =\n",
              "            await google.colab.kernel.invokeFunction('convertToInteractive',\n",
              "                                                     [key], {});\n",
              "          if (!dataTable) return;\n",
              "\n",
              "          const docLinkHtml = 'Like what you see? Visit the ' +\n",
              "            '<a target=\"_blank\" href=https://colab.research.google.com/notebooks/data_table.ipynb>data table notebook</a>'\n",
              "            + ' to learn more about interactive tables.';\n",
              "          element.innerHTML = '';\n",
              "          dataTable['output_type'] = 'display_data';\n",
              "          await google.colab.output.renderOutput(dataTable, element);\n",
              "          const docLink = document.createElement('div');\n",
              "          docLink.innerHTML = docLinkHtml;\n",
              "          element.appendChild(docLink);\n",
              "        }\n",
              "      </script>\n",
              "    </div>\n",
              "  </div>\n",
              "  "
            ],
            "text/plain": [
              "                                 title         country  ... currency  group\n",
              "0   Real Time Streaming Futures Quotes   united states  ...      USD  softs\n",
              "1   Real Time Streaming Futures Quotes   united states  ...      USD  softs\n",
              "2   Real Time Streaming Futures Quotes   united states  ...      USD  softs\n",
              "3   Real Time Streaming Futures Quotes   united states  ...      USD  softs\n",
              "4   Real Time Streaming Futures Quotes   united states  ...      USD  softs\n",
              "5   Real Time Streaming Futures Quotes  united kingdom  ...      USD  softs\n",
              "6   Real Time Streaming Futures Quotes  united kingdom  ...      GBP  softs\n",
              "7   Real Time Streaming Futures Quotes  united kingdom  ...      USD  softs\n",
              "8   Real Time Streaming Futures Quotes   united states  ...      USD  softs\n",
              "9            MCX Futures Market Quotes           india  ...      INR  softs\n",
              "10           MCX Futures Market Quotes           india  ...      INR  softs\n",
              "11           MCX Futures Market Quotes           india  ...      INR  softs\n",
              "12           MCX Futures Market Quotes           india  ...      INR  softs\n",
              "13           MCX Futures Market Quotes           india  ...      INR  softs\n",
              "14           MCX Futures Market Quotes           india  ...      INR  softs\n",
              "\n",
              "[15 rows x 6 columns]"
            ]
          },
          "metadata": {},
          "execution_count": 308
        }
      ]
    },
    {
      "cell_type": "code",
      "metadata": {
        "id": "r2ADPRAgNSB3",
        "colab": {
          "base_uri": "https://localhost:8080/"
        },
        "outputId": "fcc07c56-c765-47f9-c463-937f6307e52d"
      },
      "source": [
        "Cafe=inv.get_commodity_recent_data(\"US Coffee C\",country=\"united states\")\n",
        "Cafe10=Cafe[[\"Close\",\"Open\"]].tail()\n",
        "print(Cafe10)"
      ],
      "execution_count": 309,
      "outputs": [
        {
          "output_type": "stream",
          "name": "stdout",
          "text": [
            "             Close    Open\n",
            "Date                      \n",
            "2022-01-10  234.90  238.40\n",
            "2022-01-11  237.05  235.75\n",
            "2022-01-12  240.85  238.25\n",
            "2022-01-13  237.00  241.30\n",
            "2022-01-14  239.65  236.65\n"
          ]
        }
      ]
    },
    {
      "cell_type": "code",
      "source": [
        "Apertura_Cafe = (Cafe10.iat[4,1]) # Este comando esta extraer un valor especifico de un dataframe\n",
        "print(Apertura_Cafe)"
      ],
      "metadata": {
        "id": "P-EH398JCW15",
        "colab": {
          "base_uri": "https://localhost:8080/"
        },
        "outputId": "b354aa69-b28c-4449-93e7-197ef8ec64ac"
      },
      "execution_count": 310,
      "outputs": [
        {
          "output_type": "stream",
          "name": "stdout",
          "text": [
            "236.65\n"
          ]
        }
      ]
    },
    {
      "cell_type": "code",
      "source": [
        "Cierre_precio_anterior_Cafe= Cafe10.iat[3,0]\n",
        "print(Cierre_precio_anterior_Cafe)"
      ],
      "metadata": {
        "id": "ZOZeX8CkCXBA",
        "colab": {
          "base_uri": "https://localhost:8080/"
        },
        "outputId": "299f3e40-bfe7-47d8-820d-587f2d2a0c68"
      },
      "execution_count": 311,
      "outputs": [
        {
          "output_type": "stream",
          "name": "stdout",
          "text": [
            "237.0\n"
          ]
        }
      ]
    },
    {
      "cell_type": "code",
      "source": [
        "Cierre_precio_anterior5dias_Cafe = Cafe10.iat[0,0]\n",
        "print(Cierre_precio_anterior5dias_Cafe)"
      ],
      "metadata": {
        "id": "7_S1EydDCXJn",
        "colab": {
          "base_uri": "https://localhost:8080/"
        },
        "outputId": "19a65af5-5436-42c6-dfe8-bb4b384a4a48"
      },
      "execution_count": 312,
      "outputs": [
        {
          "output_type": "stream",
          "name": "stdout",
          "text": [
            "234.9\n"
          ]
        }
      ]
    },
    {
      "cell_type": "markdown",
      "metadata": {
        "id": "2NU8qF3HIc6n"
      },
      "source": [
        "**Azucar**"
      ]
    },
    {
      "cell_type": "code",
      "metadata": {
        "id": "H8TPGZC_NSru",
        "colab": {
          "base_uri": "https://localhost:8080/"
        },
        "outputId": "b25c0f58-1d30-40cb-9c4c-6b1cd4c379ee"
      },
      "source": [
        "Azucar=inv.get_commodity_recent_data(\"US Sugar #11\t\",country=\"united states\")\n",
        "Azucar10=Azucar[[\"Close\",\"Open\"]].tail()\n",
        "print(Azucar10)"
      ],
      "execution_count": 313,
      "outputs": [
        {
          "output_type": "stream",
          "name": "stdout",
          "text": [
            "            Close   Open\n",
            "Date                    \n",
            "2022-01-10  17.83  18.15\n",
            "2022-01-11  18.11  17.95\n",
            "2022-01-12  18.34  18.19\n",
            "2022-01-13  18.09  18.34\n",
            "2022-01-14  18.31  18.10\n"
          ]
        }
      ]
    },
    {
      "cell_type": "code",
      "source": [
        "Apertura_Azucar = (Azucar10.iat[4,1]) # Este comando esta extraer un valor especifico de un dataframe\n",
        "print(Apertura_Azucar)"
      ],
      "metadata": {
        "id": "Z5409tDWCqQn",
        "colab": {
          "base_uri": "https://localhost:8080/"
        },
        "outputId": "8004ee0b-1848-4266-ec78-19a7110c2f0a"
      },
      "execution_count": 314,
      "outputs": [
        {
          "output_type": "stream",
          "name": "stdout",
          "text": [
            "18.1\n"
          ]
        }
      ]
    },
    {
      "cell_type": "code",
      "source": [
        "Cierre_precio_anterior_Azucar= Azucar10.iat[3,0]\n",
        "print(Cierre_precio_anterior_Cafe)"
      ],
      "metadata": {
        "id": "gwM43wekCqaY",
        "colab": {
          "base_uri": "https://localhost:8080/"
        },
        "outputId": "f9cb64d3-da25-4aae-e86a-26a0d3f7bac7"
      },
      "execution_count": 315,
      "outputs": [
        {
          "output_type": "stream",
          "name": "stdout",
          "text": [
            "237.0\n"
          ]
        }
      ]
    },
    {
      "cell_type": "code",
      "source": [
        "Cierre_precio_anterior5dias_Azucar = Azucar10.iat[0,0]\n",
        "print(Cierre_precio_anterior5dias_Azucar)"
      ],
      "metadata": {
        "id": "xIwb2U2gCqiB",
        "colab": {
          "base_uri": "https://localhost:8080/"
        },
        "outputId": "0396e06a-a1d0-4e44-c07c-25a87d4cd58d"
      },
      "execution_count": 316,
      "outputs": [
        {
          "output_type": "stream",
          "name": "stdout",
          "text": [
            "17.83\n"
          ]
        }
      ]
    },
    {
      "cell_type": "markdown",
      "metadata": {
        "id": "9-ZodFiyIt7E"
      },
      "source": [
        "**Bonos a 10Años**"
      ]
    },
    {
      "cell_type": "code",
      "metadata": {
        "id": "k4SBEmTyJqft",
        "colab": {
          "base_uri": "https://localhost:8080/"
        },
        "outputId": "6756acd1-ab3b-4d01-cec0-445a8b30cc2b"
      },
      "source": [
        "inv.get_bond_countries()"
      ],
      "execution_count": 317,
      "outputs": [
        {
          "output_type": "execute_result",
          "data": {
            "text/plain": [
              "['argentina',\n",
              " 'australia',\n",
              " 'austria',\n",
              " 'bahrain',\n",
              " 'bangladesh',\n",
              " 'belgium',\n",
              " 'botswana',\n",
              " 'brazil',\n",
              " 'bulgaria',\n",
              " 'canada',\n",
              " 'chile',\n",
              " 'china',\n",
              " 'colombia',\n",
              " 'croatia',\n",
              " 'cyprus',\n",
              " 'czech republic',\n",
              " 'denmark',\n",
              " 'egypt',\n",
              " 'finland',\n",
              " 'france',\n",
              " 'germany',\n",
              " 'greece',\n",
              " 'hong kong',\n",
              " 'hungary',\n",
              " 'iceland',\n",
              " 'india',\n",
              " 'indonesia',\n",
              " 'ireland',\n",
              " 'israel',\n",
              " 'italy',\n",
              " 'japan',\n",
              " 'jordan',\n",
              " 'kenya',\n",
              " 'latvia',\n",
              " 'lithuania',\n",
              " 'luxembourg',\n",
              " 'malaysia',\n",
              " 'malta',\n",
              " 'mauritius',\n",
              " 'mexico',\n",
              " 'morocco',\n",
              " 'namibia',\n",
              " 'netherlands',\n",
              " 'new zealand',\n",
              " 'nigeria',\n",
              " 'norway',\n",
              " 'pakistan',\n",
              " 'peru',\n",
              " 'philippines',\n",
              " 'poland',\n",
              " 'portugal',\n",
              " 'qatar',\n",
              " 'romania',\n",
              " 'russia',\n",
              " 'saudi arabia',\n",
              " 'serbia',\n",
              " 'singapore',\n",
              " 'slovakia',\n",
              " 'slovenia',\n",
              " 'south africa',\n",
              " 'south korea',\n",
              " 'spain',\n",
              " 'sri lanka',\n",
              " 'sweden',\n",
              " 'switzerland',\n",
              " 'taiwan',\n",
              " 'thailand',\n",
              " 'turkey',\n",
              " 'uganda',\n",
              " 'ukraine',\n",
              " 'united kingdom',\n",
              " 'united states',\n",
              " 'venezuela',\n",
              " 'vietnam']"
            ]
          },
          "metadata": {},
          "execution_count": 317
        }
      ]
    },
    {
      "cell_type": "markdown",
      "metadata": {
        "id": "S6zrc3EZIxYH"
      },
      "source": [
        "**Desarrollados**"
      ]
    },
    {
      "cell_type": "markdown",
      "metadata": {
        "id": "hr28tn32I6my"
      },
      "source": [
        "**EEUU**"
      ]
    },
    {
      "cell_type": "code",
      "metadata": {
        "id": "0pJNQ8NkLyr_",
        "colab": {
          "base_uri": "https://localhost:8080/"
        },
        "outputId": "bc10d035-1d07-4ea5-b094-1b2cf1da7419"
      },
      "source": [
        "inv.get_bonds_list(\"united states\")"
      ],
      "execution_count": 318,
      "outputs": [
        {
          "output_type": "execute_result",
          "data": {
            "text/plain": [
              "['U.S. 30Y',\n",
              " 'U.S. 10Y',\n",
              " 'U.S. 7Y',\n",
              " 'U.S. 5Y',\n",
              " 'U.S. 3Y',\n",
              " 'U.S. 3M',\n",
              " 'U.S. 1Y',\n",
              " 'U.S. 6M',\n",
              " 'U.S. 1M',\n",
              " 'U.S. 2Y']"
            ]
          },
          "metadata": {},
          "execution_count": 318
        }
      ]
    },
    {
      "cell_type": "code",
      "metadata": {
        "id": "MHMC6kaeI_t-",
        "colab": {
          "base_uri": "https://localhost:8080/"
        },
        "outputId": "2cbd2559-1738-487b-bb95-b43cf98709f6"
      },
      "source": [
        "Estados_unidos=inv.get_bond_recent_data(bond=\"U.S. 10Y\")\n",
        "Estados_unidos10=Estados_unidos[[\"Close\",\"Open\"]].tail()\n",
        "print(Estados_unidos10)"
      ],
      "execution_count": 319,
      "outputs": [
        {
          "output_type": "stream",
          "name": "stdout",
          "text": [
            "            Close   Open\n",
            "Date                    \n",
            "2022-01-10  1.755  1.767\n",
            "2022-01-11  1.746  1.769\n",
            "2022-01-12  1.752  1.743\n",
            "2022-01-13  1.701  1.748\n",
            "2022-01-14  1.793  1.720\n"
          ]
        }
      ]
    },
    {
      "cell_type": "code",
      "source": [
        "Apertura_Estados_unidos = (Estados_unidos10.iat[4,1]) # Este comando esta extraer un valor especifico de un dataframe\n",
        "print(Apertura_Estados_unidos)"
      ],
      "metadata": {
        "id": "kzmvuiVPC9x4",
        "colab": {
          "base_uri": "https://localhost:8080/"
        },
        "outputId": "e15105bb-7da3-4fd9-9161-3ec6ed13b196"
      },
      "execution_count": 320,
      "outputs": [
        {
          "output_type": "stream",
          "name": "stdout",
          "text": [
            "1.72\n"
          ]
        }
      ]
    },
    {
      "cell_type": "code",
      "source": [
        "Cierre_precio_anterior_Estados_unidos= Estados_unidos10.iat[3,0]\n",
        "print(Cierre_precio_anterior_Estados_unidos)"
      ],
      "metadata": {
        "id": "cqnrkpxWC98C",
        "colab": {
          "base_uri": "https://localhost:8080/"
        },
        "outputId": "7c4c6972-36ef-4f7e-dd7a-8223d286a7a7"
      },
      "execution_count": 321,
      "outputs": [
        {
          "output_type": "stream",
          "name": "stdout",
          "text": [
            "1.701\n"
          ]
        }
      ]
    },
    {
      "cell_type": "code",
      "source": [
        "Cierre_precio_anterior5dias_Estados_unidos = Estados_unidos10.iat[0,0]\n",
        "print(Cierre_precio_anterior5dias_Estados_unidos)"
      ],
      "metadata": {
        "id": "F4D9_yrlC-F3",
        "colab": {
          "base_uri": "https://localhost:8080/"
        },
        "outputId": "e9620cbb-b861-478d-ed3b-5b159c530cff"
      },
      "execution_count": 322,
      "outputs": [
        {
          "output_type": "stream",
          "name": "stdout",
          "text": [
            "1.755\n"
          ]
        }
      ]
    },
    {
      "cell_type": "markdown",
      "metadata": {
        "id": "Xx6E7ZZEMCw8"
      },
      "source": [
        "**Alemania**"
      ]
    },
    {
      "cell_type": "code",
      "metadata": {
        "id": "HFHUq0OoMHJn",
        "colab": {
          "base_uri": "https://localhost:8080/"
        },
        "outputId": "1a2df3bc-811c-41e7-8223-37187a74ad2b"
      },
      "source": [
        "inv.get_bonds_list(\"germany\")"
      ],
      "execution_count": 323,
      "outputs": [
        {
          "output_type": "execute_result",
          "data": {
            "text/plain": [
              "['Germany 10Y',\n",
              " 'Germany 9Y',\n",
              " 'Germany 15Y',\n",
              " 'Germany 8Y',\n",
              " 'Germany 25Y',\n",
              " 'Germany 30Y',\n",
              " 'Germany 20Y',\n",
              " 'Germany 7Y',\n",
              " 'Germany 1Y',\n",
              " 'Germany 5Y',\n",
              " 'Germany 4Y',\n",
              " 'Germany 3Y',\n",
              " 'Germany 2Y',\n",
              " 'Germany 6Y',\n",
              " 'Germany 9M',\n",
              " 'Germany 6M',\n",
              " 'Germany 3M']"
            ]
          },
          "metadata": {},
          "execution_count": 323
        }
      ]
    },
    {
      "cell_type": "code",
      "metadata": {
        "id": "hIG_YwWxOFJv",
        "colab": {
          "base_uri": "https://localhost:8080/"
        },
        "outputId": "c53ad966-e4d8-42ea-f320-c43872f88d5c"
      },
      "source": [
        "Alemania=inv.get_bond_recent_data(bond=\"Germany 10Y\")\n",
        "Alemania10=Alemania[[\"Close\",\"Open\"]].tail()\n",
        "print(Alemania10)"
      ],
      "execution_count": 324,
      "outputs": [
        {
          "output_type": "stream",
          "name": "stdout",
          "text": [
            "             Close   Open\n",
            "Date                     \n",
            "2022-01-10 -0.0360 -0.038\n",
            "2022-01-11 -0.0320 -0.040\n",
            "2022-01-12 -0.0570 -0.038\n",
            "2022-01-13 -0.0860 -0.047\n",
            "2022-01-14 -0.0395 -0.088\n"
          ]
        }
      ]
    },
    {
      "cell_type": "code",
      "source": [
        "Apertura_Alemania = (Alemania10.iat[4,1]) # Este comando esta extraer un valor especifico de un dataframe\n",
        "print(Apertura_Alemania)"
      ],
      "metadata": {
        "id": "4Ewopbl5DWmq",
        "colab": {
          "base_uri": "https://localhost:8080/"
        },
        "outputId": "5e7aa636-4161-4504-c82f-26a4f4bbe5bf"
      },
      "execution_count": 325,
      "outputs": [
        {
          "output_type": "stream",
          "name": "stdout",
          "text": [
            "-0.088\n"
          ]
        }
      ]
    },
    {
      "cell_type": "code",
      "source": [
        "Cierre_precio_anterior_Alemania= Alemania10.iat[3,0]\n",
        "print(Cierre_precio_anterior_Alemania)"
      ],
      "metadata": {
        "id": "52B6jIijDWxV",
        "colab": {
          "base_uri": "https://localhost:8080/"
        },
        "outputId": "9b60103b-a931-4fcc-fa69-f276e3277b35"
      },
      "execution_count": 326,
      "outputs": [
        {
          "output_type": "stream",
          "name": "stdout",
          "text": [
            "-0.086\n"
          ]
        }
      ]
    },
    {
      "cell_type": "code",
      "source": [
        "Cierre_precio_anterior5dias_Alemania = Alemania10.iat[0,0]\n",
        "print(Cierre_precio_anterior5dias_Alemania)"
      ],
      "metadata": {
        "id": "YE0lgixBDW62",
        "colab": {
          "base_uri": "https://localhost:8080/"
        },
        "outputId": "dcc5b0a7-faf2-47c4-facb-fc13a8c75a7b"
      },
      "execution_count": 327,
      "outputs": [
        {
          "output_type": "stream",
          "name": "stdout",
          "text": [
            "-0.036\n"
          ]
        }
      ]
    },
    {
      "cell_type": "markdown",
      "metadata": {
        "id": "JvQbI6OXMPKD"
      },
      "source": [
        "**Reino Unido**"
      ]
    },
    {
      "cell_type": "code",
      "metadata": {
        "id": "BEoxX7u1MViz",
        "colab": {
          "base_uri": "https://localhost:8080/"
        },
        "outputId": "deab108f-679d-41c2-ce0b-9ecfdbacc690"
      },
      "source": [
        "inv.get_bonds_list(\"United Kingdom\")"
      ],
      "execution_count": 328,
      "outputs": [
        {
          "output_type": "execute_result",
          "data": {
            "text/plain": [
              "['U.K. 40Y',\n",
              " 'U.K. 50Y',\n",
              " 'U.K. 30Y',\n",
              " 'U.K. 25Y',\n",
              " 'U.K. 15Y',\n",
              " 'U.K. 12Y',\n",
              " 'U.K. 10Y',\n",
              " 'U.K. 9Y',\n",
              " 'U.K. 8Y',\n",
              " 'U.K. 20Y',\n",
              " 'U.K. 6Y',\n",
              " 'U.K. 5Y',\n",
              " 'U.K. 4Y',\n",
              " 'U.K. 3Y',\n",
              " 'U.K. 2Y',\n",
              " 'U.K. 1Y',\n",
              " 'U.K. 6M',\n",
              " 'U.K. 3M',\n",
              " 'U.K. 1M',\n",
              " 'U.K. 7Y']"
            ]
          },
          "metadata": {},
          "execution_count": 328
        }
      ]
    },
    {
      "cell_type": "code",
      "metadata": {
        "id": "mC1yyX36OLCh",
        "colab": {
          "base_uri": "https://localhost:8080/"
        },
        "outputId": "c3407423-f653-4b66-a43e-1144cd98b41a"
      },
      "source": [
        "Reino_unido=inv.get_bond_recent_data(bond=\"U.K. 10Y\")\n",
        "Reino_unido10=Reino_unido[[\"Close\",\"Open\"]].tail()\n",
        "print(Reino_unido10)"
      ],
      "execution_count": 329,
      "outputs": [
        {
          "output_type": "stream",
          "name": "stdout",
          "text": [
            "            Close   Open\n",
            "Date                    \n",
            "2022-01-11  1.172  1.189\n",
            "2022-01-12  1.139  1.153\n",
            "2022-01-13  1.106  1.146\n",
            "2022-01-14  1.151  1.102\n",
            "2022-01-15  1.161  1.161\n"
          ]
        }
      ]
    },
    {
      "cell_type": "code",
      "source": [
        "Apertura_Reino_unido = (Reino_unido10.iat[4,1]) # Este comando esta extraer un valor especifico de un dataframe\n",
        "print(Apertura_Reino_unido)"
      ],
      "metadata": {
        "id": "ZTJulB0nDt9E",
        "colab": {
          "base_uri": "https://localhost:8080/"
        },
        "outputId": "99360134-b8e1-4333-89e9-e9aaa313cfb6"
      },
      "execution_count": 330,
      "outputs": [
        {
          "output_type": "stream",
          "name": "stdout",
          "text": [
            "1.161\n"
          ]
        }
      ]
    },
    {
      "cell_type": "code",
      "source": [
        "Cierre_precio_anterior_Reino_unido= Reino_unido10.iat[3,0]\n",
        "print(Cierre_precio_anterior_Reino_unido)"
      ],
      "metadata": {
        "id": "l_1JjdsuDuGP",
        "colab": {
          "base_uri": "https://localhost:8080/"
        },
        "outputId": "0b58af0f-9a76-4ce8-ee73-d8e173af5669"
      },
      "execution_count": 331,
      "outputs": [
        {
          "output_type": "stream",
          "name": "stdout",
          "text": [
            "1.151\n"
          ]
        }
      ]
    },
    {
      "cell_type": "code",
      "source": [
        "Cierre_precio_anterior5dias_Reino_unido= Reino_unido10.iat[0,0]\n",
        "print(Cierre_precio_anterior5dias_Reino_unido)"
      ],
      "metadata": {
        "id": "FW0YMHZVDuPH",
        "colab": {
          "base_uri": "https://localhost:8080/"
        },
        "outputId": "cae1a156-eefc-4518-b244-3b8a822d32c0"
      },
      "execution_count": 332,
      "outputs": [
        {
          "output_type": "stream",
          "name": "stdout",
          "text": [
            "1.172\n"
          ]
        }
      ]
    },
    {
      "cell_type": "markdown",
      "metadata": {
        "id": "5Rm_c2tQMWOq"
      },
      "source": [
        "**Francia**"
      ]
    },
    {
      "cell_type": "code",
      "metadata": {
        "id": "TQOew382Max3",
        "colab": {
          "base_uri": "https://localhost:8080/"
        },
        "outputId": "b08ebac9-97ed-44ac-df9a-06db1f5290c7"
      },
      "source": [
        "inv.get_bonds_list(\"france\")"
      ],
      "execution_count": 333,
      "outputs": [
        {
          "output_type": "execute_result",
          "data": {
            "text/plain": [
              "['France 8Y',\n",
              " 'France 30Y',\n",
              " 'France 25Y',\n",
              " 'France 20Y',\n",
              " 'France 50Y',\n",
              " 'France 15Y',\n",
              " 'France 10Y',\n",
              " 'France 9Y',\n",
              " 'France 7Y',\n",
              " 'France 9M',\n",
              " 'France 5Y',\n",
              " 'France 4Y',\n",
              " 'France 3Y',\n",
              " 'France 2Y',\n",
              " 'France 1Y',\n",
              " 'France 6M',\n",
              " 'France 3M',\n",
              " 'France 1M',\n",
              " 'France 6Y']"
            ]
          },
          "metadata": {},
          "execution_count": 333
        }
      ]
    },
    {
      "cell_type": "code",
      "metadata": {
        "id": "vbqp_pyFOZG7",
        "colab": {
          "base_uri": "https://localhost:8080/"
        },
        "outputId": "223acd9a-cc92-4c1d-9ef6-f868f0fc9051"
      },
      "source": [
        "Francia=inv.get_bond_recent_data(bond=\"France 10Y\")\n",
        "Francia10=Francia[[\"Close\",\"Open\"]].tail()\n",
        "print(Francia10)"
      ],
      "execution_count": 334,
      "outputs": [
        {
          "output_type": "stream",
          "name": "stdout",
          "text": [
            "            Close   Open\n",
            "Date                    \n",
            "2022-01-10  0.285  0.292\n",
            "2022-01-11  0.298  0.284\n",
            "2022-01-12  0.274  0.292\n",
            "2022-01-13  0.242  0.281\n",
            "2022-01-14  0.332  0.282\n"
          ]
        }
      ]
    },
    {
      "cell_type": "code",
      "source": [
        "Apertura_Francia = (Francia10.iat[4,1]) # Este comando esta extraer un valor especifico de un dataframe\n",
        "print(Apertura_Francia)"
      ],
      "metadata": {
        "id": "sNn60xooEDY4",
        "colab": {
          "base_uri": "https://localhost:8080/"
        },
        "outputId": "5534d1f2-16a0-41af-b6cd-ed312828e24a"
      },
      "execution_count": 335,
      "outputs": [
        {
          "output_type": "stream",
          "name": "stdout",
          "text": [
            "0.282\n"
          ]
        }
      ]
    },
    {
      "cell_type": "code",
      "source": [
        "Cierre_precio_anterior_Francia= Francia10.iat[3,0]\n",
        "print(Cierre_precio_anterior_Francia)"
      ],
      "metadata": {
        "id": "_hVcdQB-EDjG",
        "colab": {
          "base_uri": "https://localhost:8080/"
        },
        "outputId": "defc1161-3b86-498f-c65e-7c554415b585"
      },
      "execution_count": 336,
      "outputs": [
        {
          "output_type": "stream",
          "name": "stdout",
          "text": [
            "0.242\n"
          ]
        }
      ]
    },
    {
      "cell_type": "code",
      "source": [
        "Cierre_precio_anterior5dias_Francia= Francia10.iat[0,0]\n",
        "print(Cierre_precio_anterior5dias_Francia)"
      ],
      "metadata": {
        "id": "TAPlRVSIEDqu",
        "colab": {
          "base_uri": "https://localhost:8080/"
        },
        "outputId": "5eb11037-e9df-48d4-d142-944542665719"
      },
      "execution_count": 337,
      "outputs": [
        {
          "output_type": "stream",
          "name": "stdout",
          "text": [
            "0.285\n"
          ]
        }
      ]
    },
    {
      "cell_type": "markdown",
      "metadata": {
        "id": "PUrwzaETMbHL"
      },
      "source": [
        "**Italia**"
      ]
    },
    {
      "cell_type": "code",
      "metadata": {
        "id": "THR85NXtNIne",
        "colab": {
          "base_uri": "https://localhost:8080/"
        },
        "outputId": "2bba357a-4215-42f2-9bc4-4268b774cd41"
      },
      "source": [
        "inv.get_bonds_list(\"Italy\")"
      ],
      "execution_count": 338,
      "outputs": [
        {
          "output_type": "execute_result",
          "data": {
            "text/plain": [
              "['Italy 50Y',\n",
              " 'Italy 30Y',\n",
              " 'Italy 20Y',\n",
              " 'Italy 15Y',\n",
              " 'Italy 10Y',\n",
              " 'Italy 9Y',\n",
              " 'Italy 8Y',\n",
              " 'Italy 6Y',\n",
              " 'Italy 7Y',\n",
              " 'Italy 4Y',\n",
              " 'Italy 5Y',\n",
              " 'Italy 3M',\n",
              " 'Italy 6M',\n",
              " 'Italy 9M',\n",
              " 'Italy 1M',\n",
              " 'Italy 2Y',\n",
              " 'Italy 3Y',\n",
              " 'Italy 1Y']"
            ]
          },
          "metadata": {},
          "execution_count": 338
        }
      ]
    },
    {
      "cell_type": "code",
      "metadata": {
        "id": "FyMZ1B9COZ5f",
        "colab": {
          "base_uri": "https://localhost:8080/"
        },
        "outputId": "8e21b3f4-c87b-4642-89a4-615a875af4de"
      },
      "source": [
        "Italia=inv.get_bond_recent_data(bond=\"Italy 10Y\")\n",
        "Italia10=Italia[[\"Close\",\"Open\"]].tail()\n",
        "print(Italia10)"
      ],
      "execution_count": 339,
      "outputs": [
        {
          "output_type": "stream",
          "name": "stdout",
          "text": [
            "            Close   Open\n",
            "Date                    \n",
            "2022-01-10  1.283  1.322\n",
            "2022-01-11  1.374  1.378\n",
            "2022-01-12  1.327  1.371\n",
            "2022-01-13  1.291  1.349\n",
            "2022-01-14  1.340  1.286\n"
          ]
        }
      ]
    },
    {
      "cell_type": "code",
      "source": [
        "Apertura_Italia = (Italia10.iat[4,1]) # Este comando esta extraer un valor especifico de un dataframe\n",
        "print(Apertura_Italia)"
      ],
      "metadata": {
        "id": "xfocX2P9FUWU",
        "colab": {
          "base_uri": "https://localhost:8080/"
        },
        "outputId": "a05d12f3-d9f8-4bdf-902f-979f7c14ec2d"
      },
      "execution_count": 340,
      "outputs": [
        {
          "output_type": "stream",
          "name": "stdout",
          "text": [
            "1.286\n"
          ]
        }
      ]
    },
    {
      "cell_type": "code",
      "source": [
        "Cierre_precio_anterior_Italia= Italia10.iat[3,0]\n",
        "print(Cierre_precio_anterior_Italia)"
      ],
      "metadata": {
        "id": "h0QpwRycFUg3",
        "colab": {
          "base_uri": "https://localhost:8080/"
        },
        "outputId": "4f1a0b12-9de7-41db-c008-07bd0743358e"
      },
      "execution_count": 341,
      "outputs": [
        {
          "output_type": "stream",
          "name": "stdout",
          "text": [
            "1.291\n"
          ]
        }
      ]
    },
    {
      "cell_type": "code",
      "source": [
        "Cierre_precio_anterior5dias_Italia= Italia10.iat[0,0]\n",
        "print(Cierre_precio_anterior5dias_Italia)"
      ],
      "metadata": {
        "id": "Lod0vaJZFUsQ",
        "colab": {
          "base_uri": "https://localhost:8080/"
        },
        "outputId": "c165a032-b096-4b91-b8f5-6037b227632c"
      },
      "execution_count": 342,
      "outputs": [
        {
          "output_type": "stream",
          "name": "stdout",
          "text": [
            "1.283\n"
          ]
        }
      ]
    },
    {
      "cell_type": "markdown",
      "metadata": {
        "id": "o5yfHBEuMfjM"
      },
      "source": [
        "**Japon**"
      ]
    },
    {
      "cell_type": "code",
      "metadata": {
        "id": "mazN_e0qNJJu",
        "colab": {
          "base_uri": "https://localhost:8080/"
        },
        "outputId": "f418a309-1e42-49a6-e454-ba1c1a458f7f"
      },
      "source": [
        "inv.get_bonds_list(\"japan\")"
      ],
      "execution_count": 343,
      "outputs": [
        {
          "output_type": "execute_result",
          "data": {
            "text/plain": [
              "['Japan 7Y',\n",
              " 'Japan 30Y',\n",
              " 'Japan 20Y',\n",
              " 'Japan 15Y',\n",
              " 'Japan 10Y',\n",
              " 'Japan 9Y',\n",
              " 'Japan 8Y',\n",
              " 'Japan 6Y',\n",
              " 'Japan 40Y',\n",
              " 'Japan 4Y',\n",
              " 'Japan 3Y',\n",
              " 'Japan 2Y',\n",
              " 'Japan 1Y',\n",
              " 'Japan 9M',\n",
              " 'Japan 6M',\n",
              " 'Japan 3M',\n",
              " 'Japan 1M',\n",
              " 'Japan 5Y']"
            ]
          },
          "metadata": {},
          "execution_count": 343
        }
      ]
    },
    {
      "cell_type": "code",
      "metadata": {
        "id": "MARdyCtVOalS",
        "colab": {
          "base_uri": "https://localhost:8080/"
        },
        "outputId": "e27c3e96-5765-45d6-cf4e-5bb92571de30"
      },
      "source": [
        "Japon=inv.get_bond_recent_data(bond=\"Japan 10Y\")\n",
        "Japon10=Japon[[\"Close\",\"Open\"]].tail()\n",
        "print(Japon10)"
      ],
      "execution_count": 344,
      "outputs": [
        {
          "output_type": "stream",
          "name": "stdout",
          "text": [
            "            Close   Open\n",
            "Date                    \n",
            "2022-01-10  0.131  0.132\n",
            "2022-01-11  0.149  0.138\n",
            "2022-01-12  0.124  0.145\n",
            "2022-01-13  0.125  0.129\n",
            "2022-01-14  0.150  0.126\n"
          ]
        }
      ]
    },
    {
      "cell_type": "code",
      "source": [
        "Apertura_Japon = (Japon10.iat[4,1]) # Este comando esta extraer un valor especifico de un dataframe\n",
        "print(Apertura_Japon)"
      ],
      "metadata": {
        "id": "DzfibM7cFqjL",
        "colab": {
          "base_uri": "https://localhost:8080/"
        },
        "outputId": "323ff371-a36b-4be6-e3bd-c32ffc7836cc"
      },
      "execution_count": 345,
      "outputs": [
        {
          "output_type": "stream",
          "name": "stdout",
          "text": [
            "0.126\n"
          ]
        }
      ]
    },
    {
      "cell_type": "code",
      "source": [
        "Cierre_precio_anterior_Japon= Japon10.iat[3,0]\n",
        "print(Cierre_precio_anterior_Japon)"
      ],
      "metadata": {
        "id": "ovybVuFeFqug",
        "colab": {
          "base_uri": "https://localhost:8080/"
        },
        "outputId": "781dbaef-430c-4e8c-ab0e-b4f49dd62978"
      },
      "execution_count": 346,
      "outputs": [
        {
          "output_type": "stream",
          "name": "stdout",
          "text": [
            "0.125\n"
          ]
        }
      ]
    },
    {
      "cell_type": "code",
      "source": [
        "Cierre_precio_anterior5dias_Japon= Japon10.iat[0,0]\n",
        "print(Cierre_precio_anterior5dias_Japon)"
      ],
      "metadata": {
        "id": "AFYsmDMCFq4U",
        "colab": {
          "base_uri": "https://localhost:8080/"
        },
        "outputId": "d9c5f1b6-a6ba-4e45-e33f-5b2da5f04c31"
      },
      "execution_count": 347,
      "outputs": [
        {
          "output_type": "stream",
          "name": "stdout",
          "text": [
            "0.131\n"
          ]
        }
      ]
    },
    {
      "cell_type": "markdown",
      "metadata": {
        "id": "rKK9TQ7kMjRD"
      },
      "source": [
        "**Latinoamerica**"
      ]
    },
    {
      "cell_type": "markdown",
      "metadata": {
        "id": "LNiOh-Z9MpBj"
      },
      "source": [
        "**Brasil**"
      ]
    },
    {
      "cell_type": "code",
      "metadata": {
        "id": "zcnN1t2fNKU9",
        "colab": {
          "base_uri": "https://localhost:8080/"
        },
        "outputId": "b4a6f17f-8c42-483a-cb31-24100cdc517a"
      },
      "source": [
        "inv.get_bonds_list(\"Brazil\")"
      ],
      "execution_count": 348,
      "outputs": [
        {
          "output_type": "execute_result",
          "data": {
            "text/plain": [
              "['Brazil 3M',\n",
              " 'Brazil 6M',\n",
              " 'Brazil 9M',\n",
              " 'Brazil 1Y',\n",
              " 'Brazil 2Y',\n",
              " 'Brazil 3Y',\n",
              " 'Brazil 5Y',\n",
              " 'Brazil 8Y',\n",
              " 'Brazil 10Y']"
            ]
          },
          "metadata": {},
          "execution_count": 348
        }
      ]
    },
    {
      "cell_type": "code",
      "metadata": {
        "id": "-k_ScMydObo7",
        "colab": {
          "base_uri": "https://localhost:8080/"
        },
        "outputId": "73f7b875-ecc1-4668-dafb-1d4751ef2e6b"
      },
      "source": [
        "Brazil=inv.get_bond_recent_data(bond=\"Brazil 10Y\")\n",
        "Brazil10=Brazil[[\"Close\",\"Open\"]].tail()\n",
        "print(Brazil10)"
      ],
      "execution_count": 349,
      "outputs": [
        {
          "output_type": "stream",
          "name": "stdout",
          "text": [
            "             Close    Open\n",
            "Date                      \n",
            "2022-01-10  11.140  11.385\n",
            "2022-01-11  11.250  11.535\n",
            "2022-01-12  11.315  11.315\n",
            "2022-01-13  11.000  11.315\n",
            "2022-01-14  11.265  11.310\n"
          ]
        }
      ]
    },
    {
      "cell_type": "code",
      "source": [
        "Apertura_Brazil = (Brazil10.iat[4,1]) # Este comando esta extraer un valor especifico de un dataframe\n",
        "print(Apertura_Brazil)"
      ],
      "metadata": {
        "id": "lhfNBy5IGEDU",
        "colab": {
          "base_uri": "https://localhost:8080/"
        },
        "outputId": "091b5722-a68b-4739-c40d-ca6208f3565c"
      },
      "execution_count": 350,
      "outputs": [
        {
          "output_type": "stream",
          "name": "stdout",
          "text": [
            "11.31\n"
          ]
        }
      ]
    },
    {
      "cell_type": "code",
      "source": [
        "Cierre_precio_anterior_Brazil= Brazil10.iat[3,0]\n",
        "print(Cierre_precio_anterior_Brazil)"
      ],
      "metadata": {
        "id": "U6Orzg2FGENo",
        "colab": {
          "base_uri": "https://localhost:8080/"
        },
        "outputId": "f10d4209-25d8-4a0b-9886-ebf45a93dbdb"
      },
      "execution_count": 351,
      "outputs": [
        {
          "output_type": "stream",
          "name": "stdout",
          "text": [
            "11.0\n"
          ]
        }
      ]
    },
    {
      "cell_type": "code",
      "source": [
        "Cierre_precio_anterior5dias_Brazil= Brazil10.iat[0,0]\n",
        "print(Cierre_precio_anterior5dias_Brazil)"
      ],
      "metadata": {
        "id": "N9r_R7NDGEYL",
        "colab": {
          "base_uri": "https://localhost:8080/"
        },
        "outputId": "09864140-9a94-4c39-fcf5-9ec4046b5ece"
      },
      "execution_count": 352,
      "outputs": [
        {
          "output_type": "stream",
          "name": "stdout",
          "text": [
            "11.14\n"
          ]
        }
      ]
    },
    {
      "cell_type": "markdown",
      "metadata": {
        "id": "dcIOm9liMtFJ"
      },
      "source": [
        "**Mexico**"
      ]
    },
    {
      "cell_type": "code",
      "metadata": {
        "id": "EYHQ5xwvNK-c",
        "colab": {
          "base_uri": "https://localhost:8080/"
        },
        "outputId": "d04aa942-4e9c-4b5f-b97b-a93c3a1f90c8"
      },
      "source": [
        "inv.get_bonds_list(\"Mexico\")"
      ],
      "execution_count": 353,
      "outputs": [
        {
          "output_type": "execute_result",
          "data": {
            "text/plain": [
              "['Mexico 7Y',\n",
              " 'Mexico 30Y',\n",
              " 'Mexico 20Y',\n",
              " 'Mexico 15Y',\n",
              " 'Mexico 10Y',\n",
              " 'Mexico 5Y',\n",
              " 'Mexico 1Y',\n",
              " 'Mexico 9M',\n",
              " 'Mexico 3M',\n",
              " 'Mexico 1M',\n",
              " 'Mexico 3Y',\n",
              " 'Mexico 6M']"
            ]
          },
          "metadata": {},
          "execution_count": 353
        }
      ]
    },
    {
      "cell_type": "code",
      "metadata": {
        "id": "RDhFio2sOcSx",
        "colab": {
          "base_uri": "https://localhost:8080/"
        },
        "outputId": "d617d00d-f6f3-49a7-d4ed-9b8af869284f"
      },
      "source": [
        "Mexico=inv.get_bond_recent_data(bond=\"Mexico 10Y\")\n",
        "Mexico10=Mexico[[\"Close\",\"Open\"]].tail()\n",
        "print(Mexico10)"
      ],
      "execution_count": 354,
      "outputs": [
        {
          "output_type": "stream",
          "name": "stdout",
          "text": [
            "            Close   Open\n",
            "Date                    \n",
            "2022-01-11  7.786  7.905\n",
            "2022-01-12  7.786  7.748\n",
            "2022-01-13  7.646  7.699\n",
            "2022-01-14  7.666  7.713\n",
            "2022-01-15  7.935  7.935\n"
          ]
        }
      ]
    },
    {
      "cell_type": "code",
      "source": [
        "Apertura_Mexico = (Mexico10.iat[4,1]) # Este comando esta extraer un valor especifico de un dataframe\n",
        "print(Apertura_Mexico)"
      ],
      "metadata": {
        "id": "kg72v1OPGeux",
        "colab": {
          "base_uri": "https://localhost:8080/"
        },
        "outputId": "c8ef62c7-cf73-45f5-cba7-95ad9d199b1a"
      },
      "execution_count": 355,
      "outputs": [
        {
          "output_type": "stream",
          "name": "stdout",
          "text": [
            "7.935\n"
          ]
        }
      ]
    },
    {
      "cell_type": "code",
      "source": [
        "Cierre_precio_anterior_Mexico= Mexico10.iat[3,0]\n",
        "print(Cierre_precio_anterior_Mexico)"
      ],
      "metadata": {
        "id": "ythoTfhxGe4z",
        "colab": {
          "base_uri": "https://localhost:8080/"
        },
        "outputId": "9f814151-f7a8-41cc-eca7-28d241a7bc01"
      },
      "execution_count": 356,
      "outputs": [
        {
          "output_type": "stream",
          "name": "stdout",
          "text": [
            "7.666\n"
          ]
        }
      ]
    },
    {
      "cell_type": "code",
      "source": [
        "Cierre_precio_anterior5dias_Mexico= Mexico10.iat[0,0]\n",
        "print(Cierre_precio_anterior5dias_Mexico)"
      ],
      "metadata": {
        "id": "a9Dqf1ERGfA_",
        "colab": {
          "base_uri": "https://localhost:8080/"
        },
        "outputId": "36ccb18e-9384-4689-b7e9-7e297377b895"
      },
      "execution_count": 357,
      "outputs": [
        {
          "output_type": "stream",
          "name": "stdout",
          "text": [
            "7.786\n"
          ]
        }
      ]
    },
    {
      "cell_type": "markdown",
      "metadata": {
        "id": "2MwZpJvRMv9O"
      },
      "source": [
        "**Chile**"
      ]
    },
    {
      "cell_type": "code",
      "metadata": {
        "id": "ypZ9JmNENLZm",
        "colab": {
          "base_uri": "https://localhost:8080/"
        },
        "outputId": "3061aa02-a254-49e4-f871-dc9fab9fcbd4"
      },
      "source": [
        "inv.get_bonds_list(\"chile\")"
      ],
      "execution_count": 358,
      "outputs": [
        {
          "output_type": "execute_result",
          "data": {
            "text/plain": [
              "['Chile 10Y',\n",
              " 'Chile 8Y',\n",
              " 'Chile 5Y',\n",
              " 'Chile 3Y',\n",
              " 'Chile 2Y',\n",
              " 'Chile 1Y',\n",
              " 'Chile 4Y']"
            ]
          },
          "metadata": {},
          "execution_count": 358
        }
      ]
    },
    {
      "cell_type": "code",
      "metadata": {
        "id": "4WoEuevrOc74",
        "colab": {
          "base_uri": "https://localhost:8080/"
        },
        "outputId": "faf0268f-1f50-420d-ddaf-ffe3f66540f8"
      },
      "source": [
        "Chile=inv.get_bond_recent_data(bond=\"Chile 10Y\")\n",
        "Chile10=Chile[[\"Close\",\"Open\"]].tail()\n",
        "print(Chile10)"
      ],
      "execution_count": 359,
      "outputs": [
        {
          "output_type": "stream",
          "name": "stdout",
          "text": [
            "            Close  Open\n",
            "Date                   \n",
            "2022-01-10   5.97  5.97\n",
            "2022-01-11   6.07  6.07\n",
            "2022-01-12   6.10  6.10\n",
            "2022-01-13   6.16  6.16\n",
            "2022-01-14   6.21  6.21\n"
          ]
        }
      ]
    },
    {
      "cell_type": "code",
      "source": [
        "Apertura_Chile = (Chile10.iat[4,1]) # Este comando esta extraer un valor especifico de un dataframe\n",
        "print(Apertura_Chile)"
      ],
      "metadata": {
        "id": "o8Rp_a7UG0w1",
        "colab": {
          "base_uri": "https://localhost:8080/"
        },
        "outputId": "c14bfff4-c2a5-4e9a-b636-2b596e62966d"
      },
      "execution_count": 360,
      "outputs": [
        {
          "output_type": "stream",
          "name": "stdout",
          "text": [
            "6.21\n"
          ]
        }
      ]
    },
    {
      "cell_type": "code",
      "source": [
        "Cierre_precio_anterior_Chile = Chile10.iat[3,0]\n",
        "print(Cierre_precio_anterior_Chile)"
      ],
      "metadata": {
        "id": "P_wjDNciG1AR",
        "colab": {
          "base_uri": "https://localhost:8080/"
        },
        "outputId": "e338b430-ebbd-4347-cece-bf8466201941"
      },
      "execution_count": 361,
      "outputs": [
        {
          "output_type": "stream",
          "name": "stdout",
          "text": [
            "6.16\n"
          ]
        }
      ]
    },
    {
      "cell_type": "code",
      "source": [
        "Cierre_precio_anterior5dias_Chile= Chile10.iat[0,0]\n",
        "print(Cierre_precio_anterior5dias_Chile)"
      ],
      "metadata": {
        "id": "nLTEmsZeG1Jx",
        "colab": {
          "base_uri": "https://localhost:8080/"
        },
        "outputId": "78d7bf5e-35cb-4d02-ad4f-a1ab69698122"
      },
      "execution_count": 362,
      "outputs": [
        {
          "output_type": "stream",
          "name": "stdout",
          "text": [
            "5.97\n"
          ]
        }
      ]
    },
    {
      "cell_type": "markdown",
      "metadata": {
        "id": "vx8eKrtGM1f0"
      },
      "source": [
        "**Argentina**"
      ]
    },
    {
      "cell_type": "code",
      "metadata": {
        "id": "hGlkCxvoNL-d",
        "colab": {
          "base_uri": "https://localhost:8080/"
        },
        "outputId": "d0389920-2466-46e2-8df8-886be19ccd3d"
      },
      "source": [
        "inv.get_bonds_list(\"argentina\")"
      ],
      "execution_count": 363,
      "outputs": [
        {
          "output_type": "execute_result",
          "data": {
            "text/plain": [
              "['Argentina 1Y', 'Argentina 3Y', 'Argentina 5Y', 'Argentina 9Y']"
            ]
          },
          "metadata": {},
          "execution_count": 363
        }
      ]
    },
    {
      "cell_type": "code",
      "metadata": {
        "id": "j1l9S9lEOdpr",
        "colab": {
          "base_uri": "https://localhost:8080/"
        },
        "outputId": "63d48240-9f9a-45d5-eb56-0c686a6878c3"
      },
      "source": [
        "Argentina=inv.get_bond_recent_data(bond=\"Argentina 1Y\")\n",
        "Argentina10=Argentina[[\"Close\",\"Open\"]].tail()\n",
        "print(Argentina10)"
      ],
      "execution_count": 364,
      "outputs": [
        {
          "output_type": "stream",
          "name": "stdout",
          "text": [
            "            Close   Open\n",
            "Date                    \n",
            "2022-01-10  66.91  66.91\n",
            "2022-01-11  67.97  67.97\n",
            "2022-01-12  69.14  69.06\n",
            "2022-01-13  72.64  72.64\n",
            "2022-01-14  73.88  73.88\n"
          ]
        }
      ]
    },
    {
      "cell_type": "code",
      "source": [
        "Apertura_Argentina = (Argentina10.iat[4,1]) # Este comando esta extraer un valor especifico de un dataframe\n",
        "print(Apertura_Argentina)"
      ],
      "metadata": {
        "id": "cttXTJmQHHBz",
        "colab": {
          "base_uri": "https://localhost:8080/"
        },
        "outputId": "5d745a33-3aa8-40c4-b196-98eff9d56e96"
      },
      "execution_count": 365,
      "outputs": [
        {
          "output_type": "stream",
          "name": "stdout",
          "text": [
            "73.88\n"
          ]
        }
      ]
    },
    {
      "cell_type": "code",
      "source": [
        "Cierre_precio_anterior_Argentina = Argentina10.iat[3,0]\n",
        "print(Cierre_precio_anterior_Argentina)"
      ],
      "metadata": {
        "id": "4h4X0qkXHHL6",
        "colab": {
          "base_uri": "https://localhost:8080/"
        },
        "outputId": "52a832cf-85d6-422b-c38e-93d5f116241a"
      },
      "execution_count": 366,
      "outputs": [
        {
          "output_type": "stream",
          "name": "stdout",
          "text": [
            "72.64\n"
          ]
        }
      ]
    },
    {
      "cell_type": "code",
      "source": [
        "Cierre_precio_anterior5dias_Argentina= Argentina10.iat[0,0]\n",
        "print(Cierre_precio_anterior5dias_Argentina)"
      ],
      "metadata": {
        "id": "qYe67y7YHHTf",
        "colab": {
          "base_uri": "https://localhost:8080/"
        },
        "outputId": "b8e59425-7b1f-4016-b7df-631d020b97a8"
      },
      "execution_count": 367,
      "outputs": [
        {
          "output_type": "stream",
          "name": "stdout",
          "text": [
            "66.91\n"
          ]
        }
      ]
    },
    {
      "cell_type": "markdown",
      "metadata": {
        "id": "2_RdJM4JM8de"
      },
      "source": [
        "**Colombia**"
      ]
    },
    {
      "cell_type": "code",
      "metadata": {
        "id": "7_3UzmQ4M_zn",
        "colab": {
          "base_uri": "https://localhost:8080/"
        },
        "outputId": "780b012b-7953-4b03-964b-991ce9d152c0"
      },
      "source": [
        "inv.get_bonds_list(\"colombia\")"
      ],
      "execution_count": 368,
      "outputs": [
        {
          "output_type": "execute_result",
          "data": {
            "text/plain": [
              "['Colombia 1Y', 'Colombia 4Y', 'Colombia 5Y', 'Colombia 10Y', 'Colombia 15Y']"
            ]
          },
          "metadata": {},
          "execution_count": 368
        }
      ]
    },
    {
      "cell_type": "code",
      "metadata": {
        "id": "0lbAXwJ6OePv",
        "colab": {
          "base_uri": "https://localhost:8080/"
        },
        "outputId": "aad45729-598d-415f-8ba4-1bb20590a747"
      },
      "source": [
        "Colombia=inv.get_bond_recent_data(bond=\"Colombia 10Y\")\n",
        "Colombia10=Colombia[[\"Close\",\"Open\"]].tail()\n",
        "print(Colombia10)"
      ],
      "execution_count": 369,
      "outputs": [
        {
          "output_type": "stream",
          "name": "stdout",
          "text": [
            "            Close   Open\n",
            "Date                    \n",
            "2022-01-09  8.720  8.720\n",
            "2022-01-11  8.870  8.906\n",
            "2022-01-12  8.801  8.755\n",
            "2022-01-13  8.740  8.750\n",
            "2022-01-14  8.770  8.700\n"
          ]
        }
      ]
    },
    {
      "cell_type": "code",
      "source": [
        "Apertura_Colombia = (Colombia10.iat[4,1]) # Este comando esta extraer un valor especifico de un dataframe\n",
        "print(Apertura_Colombia)"
      ],
      "metadata": {
        "id": "XNJaBpHFHdNO",
        "colab": {
          "base_uri": "https://localhost:8080/"
        },
        "outputId": "dff6e83e-8758-4406-d6b5-5cb216fd6e58"
      },
      "execution_count": 370,
      "outputs": [
        {
          "output_type": "stream",
          "name": "stdout",
          "text": [
            "8.7\n"
          ]
        }
      ]
    },
    {
      "cell_type": "code",
      "source": [
        "Cierre_precio_anterior_Colombia = Colombia10.iat[3,0]\n",
        "print(Cierre_precio_anterior_Colombia)"
      ],
      "metadata": {
        "id": "aFSWczUhHdX3",
        "colab": {
          "base_uri": "https://localhost:8080/"
        },
        "outputId": "8779b328-adb9-4056-d205-439fdf62c375"
      },
      "execution_count": 371,
      "outputs": [
        {
          "output_type": "stream",
          "name": "stdout",
          "text": [
            "8.74\n"
          ]
        }
      ]
    },
    {
      "cell_type": "code",
      "source": [
        "Cierre_precio_anterior5dias_Colombia= Colombia10.iat[0,0]\n",
        "print(Cierre_precio_anterior5dias_Colombia)"
      ],
      "metadata": {
        "id": "8_MV_uriHdb3",
        "colab": {
          "base_uri": "https://localhost:8080/"
        },
        "outputId": "de61ffb9-2364-4e0a-87e1-b19d347f7474"
      },
      "execution_count": 372,
      "outputs": [
        {
          "output_type": "stream",
          "name": "stdout",
          "text": [
            "8.72\n"
          ]
        }
      ]
    },
    {
      "cell_type": "markdown",
      "metadata": {
        "id": "5-oNZkdGNAKX"
      },
      "source": [
        "**Peru** "
      ]
    },
    {
      "cell_type": "code",
      "metadata": {
        "id": "LMJ4nNWXNHAp",
        "colab": {
          "base_uri": "https://localhost:8080/"
        },
        "outputId": "2837733b-ae75-42ac-acdb-78fa9527b49a"
      },
      "source": [
        "inv.get_bonds_list(\"peru\")"
      ],
      "execution_count": 373,
      "outputs": [
        {
          "output_type": "execute_result",
          "data": {
            "text/plain": [
              "['Peru 2Y', 'Peru 5Y', 'Peru 10Y', 'Peru 15Y', 'Peru 20Y', 'Peru 30Y']"
            ]
          },
          "metadata": {},
          "execution_count": 373
        }
      ]
    },
    {
      "cell_type": "code",
      "metadata": {
        "id": "bahdqkDZOe0U",
        "colab": {
          "base_uri": "https://localhost:8080/"
        },
        "outputId": "cbe91017-ee7a-4e23-94f3-bda95eba4227"
      },
      "source": [
        "Peru=inv.get_bond_recent_data(bond=\"Peru 10Y\")\n",
        "Peru10=Peru[[\"Close\",\"Open\"]].tail()\n",
        "print(Peru10)"
      ],
      "execution_count": 374,
      "outputs": [
        {
          "output_type": "stream",
          "name": "stdout",
          "text": [
            "            Close   Open\n",
            "Date                    \n",
            "2022-01-10  6.090  6.090\n",
            "2022-01-11  6.054  6.054\n",
            "2022-01-12  6.017  6.017\n",
            "2022-01-13  6.070  6.070\n",
            "2022-01-14  6.120  6.120\n"
          ]
        }
      ]
    },
    {
      "cell_type": "code",
      "source": [
        "Apertura_Peru = (Peru10.iat[4,1]) # Este comando esta extraer un valor especifico de un dataframe\n",
        "print(Apertura_Peru)"
      ],
      "metadata": {
        "id": "ECSHOybZHy6v",
        "colab": {
          "base_uri": "https://localhost:8080/"
        },
        "outputId": "547824c5-97c2-47fa-debc-7c1d33378f43"
      },
      "execution_count": 375,
      "outputs": [
        {
          "output_type": "stream",
          "name": "stdout",
          "text": [
            "6.12\n"
          ]
        }
      ]
    },
    {
      "cell_type": "code",
      "source": [
        "Cierre_precio_anterior_Peru = Peru10.iat[3,0]\n",
        "print(Cierre_precio_anterior_Peru)"
      ],
      "metadata": {
        "id": "_Bd8qR4eHzBK",
        "colab": {
          "base_uri": "https://localhost:8080/"
        },
        "outputId": "41a69031-aa30-4449-821c-d7427d3d73e4"
      },
      "execution_count": 376,
      "outputs": [
        {
          "output_type": "stream",
          "name": "stdout",
          "text": [
            "6.07\n"
          ]
        }
      ]
    },
    {
      "cell_type": "code",
      "source": [
        "Cierre_precio_anterior5dias_Peru= Peru10.iat[0,0]\n",
        "print(Cierre_precio_anterior5dias_Peru)"
      ],
      "metadata": {
        "id": "Lh7SBvlCHzV1",
        "colab": {
          "base_uri": "https://localhost:8080/"
        },
        "outputId": "e8ff6981-c159-4821-e2e3-2b3abe2f72a6"
      },
      "execution_count": 377,
      "outputs": [
        {
          "output_type": "stream",
          "name": "stdout",
          "text": [
            "6.09\n"
          ]
        }
      ]
    },
    {
      "cell_type": "markdown",
      "metadata": {
        "id": "g93HhYTUNuSo"
      },
      "source": [
        "**Monedas**"
      ]
    },
    {
      "cell_type": "markdown",
      "metadata": {
        "id": "6G9b8ApkNw5_"
      },
      "source": [
        "**Dolar**"
      ]
    },
    {
      "cell_type": "code",
      "metadata": {
        "id": "rU_iqnjGN8KG",
        "colab": {
          "base_uri": "https://localhost:8080/"
        },
        "outputId": "54797fb9-0a23-4a89-d5ed-caf6c5b5c81c"
      },
      "source": [
        "Dolar=inv.get_currency_cross_recent_data(\"USD/COP\")\n",
        "Dolar10=Dolar[[\"Close\",\"Open\"]].tail()\n",
        "print(Dolar10)"
      ],
      "execution_count": 378,
      "outputs": [
        {
          "output_type": "stream",
          "name": "stdout",
          "text": [
            "              Close     Open\n",
            "Date                        \n",
            "2022-01-10  4047.06  4051.05\n",
            "2022-01-11  3987.91  4051.05\n",
            "2022-01-12  3970.51  3991.91\n",
            "2022-01-13  3963.41  3974.50\n",
            "2022-01-14  4003.26  3967.41\n"
          ]
        }
      ]
    },
    {
      "cell_type": "code",
      "source": [
        "Apertura_Dolar = (Dolar10.iat[4,1]) # Este comando esta extraer un valor especifico de un dataframe\n",
        "print(Apertura_Dolar)"
      ],
      "metadata": {
        "id": "AAX1Sm5TIG67",
        "colab": {
          "base_uri": "https://localhost:8080/"
        },
        "outputId": "d29b3f09-4774-4995-8754-86b5e0f2766e"
      },
      "execution_count": 379,
      "outputs": [
        {
          "output_type": "stream",
          "name": "stdout",
          "text": [
            "3967.41\n"
          ]
        }
      ]
    },
    {
      "cell_type": "code",
      "source": [
        "Cierre_precio_anterior_Dolar = Dolar10.iat[3,0]\n",
        "print(Cierre_precio_anterior_Dolar)"
      ],
      "metadata": {
        "id": "m-WxtkLVIHrc",
        "colab": {
          "base_uri": "https://localhost:8080/"
        },
        "outputId": "399fc5c3-638b-47e5-e0f5-898b18538692"
      },
      "execution_count": 380,
      "outputs": [
        {
          "output_type": "stream",
          "name": "stdout",
          "text": [
            "3963.41\n"
          ]
        }
      ]
    },
    {
      "cell_type": "code",
      "source": [
        "Cierre_precio_anterior5dias_Dolar= Dolar10.iat[0,0]\n",
        "print(Cierre_precio_anterior5dias_Dolar)"
      ],
      "metadata": {
        "id": "9yHnc83PIH1a",
        "colab": {
          "base_uri": "https://localhost:8080/"
        },
        "outputId": "72e13f5a-6634-44fa-a932-4633d70f5871"
      },
      "execution_count": 381,
      "outputs": [
        {
          "output_type": "stream",
          "name": "stdout",
          "text": [
            "4047.06\n"
          ]
        }
      ]
    },
    {
      "cell_type": "markdown",
      "metadata": {
        "id": "LEJ-am6_N39V"
      },
      "source": [
        "**Euro**"
      ]
    },
    {
      "cell_type": "code",
      "metadata": {
        "id": "rp8ZBd0ON8z8",
        "colab": {
          "base_uri": "https://localhost:8080/"
        },
        "outputId": "b3490815-7b0b-4706-f627-2b790319aaa4"
      },
      "source": [
        "Euro=inv.get_currency_cross_recent_data(\"EUR/COP\")\n",
        "Euro10=Euro[[\"Close\",\"Open\"]].tail()\n",
        "print(Euro10)"
      ],
      "execution_count": 382,
      "outputs": [
        {
          "output_type": "stream",
          "name": "stdout",
          "text": [
            "             Close    Open\n",
            "Date                      \n",
            "2022-01-10  4583.0  4602.5\n",
            "2022-01-11  4532.0  4588.5\n",
            "2022-01-12  4543.0  4537.5\n",
            "2022-01-13  4539.0  4548.0\n",
            "2022-01-14  4569.0  4544.5\n"
          ]
        }
      ]
    },
    {
      "cell_type": "code",
      "source": [
        "Apertura_Euro = (Euro10.iat[4,1]) # Este comando esta extraer un valor especifico de un dataframe\n",
        "print(Apertura_Euro)"
      ],
      "metadata": {
        "id": "Buzj53lQIa70",
        "colab": {
          "base_uri": "https://localhost:8080/"
        },
        "outputId": "1699bf74-43f7-4580-94e5-28375477eee4"
      },
      "execution_count": 383,
      "outputs": [
        {
          "output_type": "stream",
          "name": "stdout",
          "text": [
            "4544.5\n"
          ]
        }
      ]
    },
    {
      "cell_type": "code",
      "source": [
        "Cierre_precio_anterior_Euro = Euro10.iat[3,0]\n",
        "print(Cierre_precio_anterior_Euro)"
      ],
      "metadata": {
        "id": "8uB8f23lIbHY",
        "colab": {
          "base_uri": "https://localhost:8080/"
        },
        "outputId": "12a3c1be-e96c-4f3a-d58a-e6fcd72a73dc"
      },
      "execution_count": 384,
      "outputs": [
        {
          "output_type": "stream",
          "name": "stdout",
          "text": [
            "4539.0\n"
          ]
        }
      ]
    },
    {
      "cell_type": "code",
      "source": [
        "Cierre_precio_anterior5dias_Euro= Euro10.iat[0,0]\n",
        "print(Cierre_precio_anterior5dias_Euro)"
      ],
      "metadata": {
        "id": "lcg5cAViIbSK",
        "colab": {
          "base_uri": "https://localhost:8080/"
        },
        "outputId": "50576598-88e0-4c7c-a9ad-d62a36da56a8"
      },
      "execution_count": 385,
      "outputs": [
        {
          "output_type": "stream",
          "name": "stdout",
          "text": [
            "4583.0\n"
          ]
        }
      ]
    },
    {
      "cell_type": "markdown",
      "metadata": {
        "id": "S8J_1X2RHLyq"
      },
      "source": [
        "**Esta Parte por el momento no se necesita, Se Utilizaba para unir datos**\n",
        "\n"
      ]
    },
    {
      "cell_type": "code",
      "metadata": {
        "id": "FMXQjWY3JS21"
      },
      "source": [
        "##Historica_data5= pd.concat([Historica_data1,Historica_data2,Historica_data3,Historica_data],axis=1)\n",
        "## print(Historica_data5)"
      ],
      "execution_count": 386,
      "outputs": []
    },
    {
      "cell_type": "code",
      "metadata": {
        "id": "GWGL1jBUB5-u"
      },
      "source": [
        "## data1=pd.concat([Bovespa1,Mexico1,Chile1,Colombia1,brent10,WTI10,Oro10,Cobre10,Maiz10,soja10,Cafe10,Azucar10,Estados_unidos10,\n",
        "                ##  Alemania10,Reino_unido10,Francia10,Italia10,Japon10,Brazil10,Mexico10,Chile10,Argentina10,Colombia10,Peru10,Dolar10,Euro10],axis=1)     \n",
        "## print(data1)"
      ],
      "execution_count": 387,
      "outputs": []
    },
    {
      "cell_type": "code",
      "source": [
        "## data2=data1.fillna(method=\"ffill\")#rellenar Datos Hacia adelante \n",
        "## print(data2)"
      ],
      "metadata": {
        "id": "zvq2fHSLADYT"
      },
      "execution_count": 388,
      "outputs": []
    },
    {
      "cell_type": "code",
      "source": [
        " ## data3=data2.fillna(method=\"bfill\")#rellenar Datos hacia atras \n",
        "## print(data3)"
      ],
      "metadata": {
        "id": "eLq8FJ9CDwR7"
      },
      "execution_count": 389,
      "outputs": []
    },
    {
      "cell_type": "markdown",
      "metadata": {
        "id": "6szvWYcuGvPX"
      },
      "source": [
        "**Descargar datos**"
      ]
    },
    {
      "cell_type": "code",
      "metadata": {
        "id": "Areidc1-CP-s"
      },
      "source": [
        "## data3.to_excel(\"Bitacora.xlsx\")\n",
        "## files.download(\"Bitacora.xlsx\")"
      ],
      "execution_count": 390,
      "outputs": []
    },
    {
      "cell_type": "markdown",
      "source": [
        "# Conexion Python y Excel"
      ],
      "metadata": {
        "id": "oq5Exu6Zak7n"
      }
    },
    {
      "cell_type": "code",
      "source": [
        "Nueva_bitacora_py = load_workbook(\"Nueva bitacora.xlsx\")"
      ],
      "metadata": {
        "id": "KSHURtraT__G"
      },
      "execution_count": 391,
      "outputs": []
    },
    {
      "cell_type": "code",
      "source": [
        "Prueba = Nueva_bitacora_py[\"Tabla oficial\"]"
      ],
      "metadata": {
        "id": "1jSyDcq2VLBb"
      },
      "execution_count": 392,
      "outputs": []
    },
    {
      "cell_type": "markdown",
      "source": [
        "**Brazil-Nueva Bitacora**"
      ],
      "metadata": {
        "id": "_kZi1d-RL1nA"
      }
    },
    {
      "cell_type": "markdown",
      "source": [
        "**Apertura**"
      ],
      "metadata": {
        "id": "zTFpgGH2MCdw"
      }
    },
    {
      "cell_type": "code",
      "source": [
        "C15=Prueba[\"c15\"]\n",
        "print(C15.value)"
      ],
      "metadata": {
        "id": "fIAx7BDqL4ry",
        "colab": {
          "base_uri": "https://localhost:8080/"
        },
        "outputId": "9a218849-983c-4b59-86e6-fb1a4b35cb48"
      },
      "execution_count": 393,
      "outputs": [
        {
          "output_type": "stream",
          "name": "stdout",
          "text": [
            "105530\n"
          ]
        }
      ]
    },
    {
      "cell_type": "code",
      "source": [
        "C15=Prueba[\"c15\"]= Apertura_indice_Brazil\n",
        "print(C15)"
      ],
      "metadata": {
        "id": "0ThV212lL_JA",
        "colab": {
          "base_uri": "https://localhost:8080/"
        },
        "outputId": "fa1bde74-102d-429b-ff81-ad566b48f387"
      },
      "execution_count": 394,
      "outputs": [
        {
          "output_type": "stream",
          "name": "stdout",
          "text": [
            "105530.0\n"
          ]
        }
      ]
    },
    {
      "cell_type": "markdown",
      "source": [
        "**Cierre anterior**"
      ],
      "metadata": {
        "id": "8wZjJjyGML1o"
      }
    },
    {
      "cell_type": "code",
      "source": [
        "D15=Prueba[\"D15\"] # Revisar \n",
        "print(D15.value)"
      ],
      "metadata": {
        "id": "p7_0PgyoMc9Q",
        "colab": {
          "base_uri": "https://localhost:8080/"
        },
        "outputId": "3548b787-578b-468e-dadb-aeec7382b27a"
      },
      "execution_count": 395,
      "outputs": [
        {
          "output_type": "stream",
          "name": "stdout",
          "text": [
            "105530\n"
          ]
        }
      ]
    },
    {
      "cell_type": "code",
      "source": [
        "D15=Prueba[\"D15\"]= Cierre_precio_anterior__indice_Brazil\n",
        "print(D15)"
      ],
      "metadata": {
        "id": "aeKCYixGMi-6",
        "colab": {
          "base_uri": "https://localhost:8080/"
        },
        "outputId": "6375b3aa-ae7f-4efe-94b5-db8680b5990e"
      },
      "execution_count": 396,
      "outputs": [
        {
          "output_type": "stream",
          "name": "stdout",
          "text": [
            "105530.0\n"
          ]
        }
      ]
    },
    {
      "cell_type": "markdown",
      "source": [
        "**Cierre a 5 dias**"
      ],
      "metadata": {
        "id": "Utqw6HoLMTmH"
      }
    },
    {
      "cell_type": "code",
      "source": [
        "A15=Prueba[\"A15\"] # Revisar\n",
        "print(A15.value)"
      ],
      "metadata": {
        "id": "PzTsT7e2gdtD",
        "colab": {
          "base_uri": "https://localhost:8080/"
        },
        "outputId": "ac6c996c-3f5a-4daf-a20c-d143fbee54f0"
      },
      "execution_count": 397,
      "outputs": [
        {
          "output_type": "stream",
          "name": "stdout",
          "text": [
            "101945\n"
          ]
        }
      ]
    },
    {
      "cell_type": "code",
      "source": [
        "A15=Prueba[\"A15\"]= Cierre_precio_anterior5dias_indice_Brazil\n",
        "print(A15)"
      ],
      "metadata": {
        "id": "Zug_FsA2Xc5D",
        "colab": {
          "base_uri": "https://localhost:8080/"
        },
        "outputId": "b12c1ea7-332f-4330-8c3e-890f1d9f43a9"
      },
      "execution_count": 398,
      "outputs": [
        {
          "output_type": "stream",
          "name": "stdout",
          "text": [
            "101945.0\n"
          ]
        }
      ]
    },
    {
      "cell_type": "markdown",
      "source": [
        "**Mexico Nueva Bitacora**"
      ],
      "metadata": {
        "id": "KIsuOH6ZMwz7"
      }
    },
    {
      "cell_type": "markdown",
      "source": [
        "**Apertura**"
      ],
      "metadata": {
        "id": "lCe3YlAbM_bm"
      }
    },
    {
      "cell_type": "code",
      "source": [
        "C16=Prueba[\"C16\"] \n",
        "print(C16.value)"
      ],
      "metadata": {
        "id": "gUe8SVqONaJA",
        "colab": {
          "base_uri": "https://localhost:8080/"
        },
        "outputId": "3bd4756c-4ede-4baf-ea34-bc083f356a6d"
      },
      "execution_count": 399,
      "outputs": [
        {
          "output_type": "stream",
          "name": "stdout",
          "text": [
            "53824.77\n"
          ]
        }
      ]
    },
    {
      "cell_type": "code",
      "source": [
        "C16=Prueba[\"C16\"]= Apertura_indice_Mexico\n",
        "print(C16)"
      ],
      "metadata": {
        "id": "fmoWYt3XNaUs",
        "colab": {
          "base_uri": "https://localhost:8080/"
        },
        "outputId": "2e86c98f-f3af-4cda-a6c8-94c1b3741299"
      },
      "execution_count": 400,
      "outputs": [
        {
          "output_type": "stream",
          "name": "stdout",
          "text": [
            "53824.77\n"
          ]
        }
      ]
    },
    {
      "cell_type": "markdown",
      "source": [
        "**Cierre anterior**"
      ],
      "metadata": {
        "id": "2YQzWf5GNUxo"
      }
    },
    {
      "cell_type": "code",
      "source": [
        "D16=Prueba[\"D16\"] \n",
        "print(D16.value)"
      ],
      "metadata": {
        "id": "CQRV9DAoNbDg",
        "colab": {
          "base_uri": "https://localhost:8080/"
        },
        "outputId": "6b074261-ce03-4d3c-ba0a-14118d293628"
      },
      "execution_count": 401,
      "outputs": [
        {
          "output_type": "stream",
          "name": "stdout",
          "text": [
            "53930.45\n"
          ]
        }
      ]
    },
    {
      "cell_type": "code",
      "source": [
        "D16=Prueba[\"D16\"]= Cierre_precio_anterior_indice_Mexico\n",
        "print(D16)"
      ],
      "metadata": {
        "id": "VTZOinmuNbOB",
        "colab": {
          "base_uri": "https://localhost:8080/"
        },
        "outputId": "4f23a22b-2123-4f5f-dc89-339977550728"
      },
      "execution_count": 402,
      "outputs": [
        {
          "output_type": "stream",
          "name": "stdout",
          "text": [
            "53930.45\n"
          ]
        }
      ]
    },
    {
      "cell_type": "markdown",
      "source": [
        "**Cierre a 5 dias**"
      ],
      "metadata": {
        "id": "rZA4wdVjNYJt"
      }
    },
    {
      "cell_type": "code",
      "source": [
        "A16=Prueba[\"A16\"] \n",
        "print(A16.value)"
      ],
      "metadata": {
        "id": "qQ6XtL0MNb-D",
        "colab": {
          "base_uri": "https://localhost:8080/"
        },
        "outputId": "61cb601f-61c4-4ce3-a615-3d86f804fab6"
      },
      "execution_count": 403,
      "outputs": [
        {
          "output_type": "stream",
          "name": "stdout",
          "text": [
            "52835.76\n"
          ]
        }
      ]
    },
    {
      "cell_type": "code",
      "source": [
        "A16=Prueba[\"A16\"]= Cierre_precio_anterior5dias_indice_Mexico\n",
        "print(A16)"
      ],
      "metadata": {
        "id": "FTNkvA9HNcIb",
        "colab": {
          "base_uri": "https://localhost:8080/"
        },
        "outputId": "ec65c730-cdc3-4178-ee70-21c7f8f70d73"
      },
      "execution_count": 404,
      "outputs": [
        {
          "output_type": "stream",
          "name": "stdout",
          "text": [
            "52835.76\n"
          ]
        }
      ]
    },
    {
      "cell_type": "markdown",
      "source": [
        "**Chile Nueva Bitacora**"
      ],
      "metadata": {
        "id": "6lMuQ1VbNfWZ"
      }
    },
    {
      "cell_type": "markdown",
      "source": [
        "**Apertura**"
      ],
      "metadata": {
        "id": "bxA73UV3NoHF"
      }
    },
    {
      "cell_type": "code",
      "source": [
        "C17=Prueba[\"C17\"] \n",
        "print(C17.value)"
      ],
      "metadata": {
        "id": "xZupSHMsNoha",
        "colab": {
          "base_uri": "https://localhost:8080/"
        },
        "outputId": "e236b155-c82a-453d-9e17-ad60e8af70b9"
      },
      "execution_count": 405,
      "outputs": [
        {
          "output_type": "stream",
          "name": "stdout",
          "text": [
            "4512.43\n"
          ]
        }
      ]
    },
    {
      "cell_type": "code",
      "source": [
        "C17=Prueba[\"C17\"]= Apertura__indice_Chile\n",
        "print(C17)"
      ],
      "metadata": {
        "id": "-kCxPkPvNopM",
        "colab": {
          "base_uri": "https://localhost:8080/"
        },
        "outputId": "5b9d89db-a38c-4729-fb0f-7f1486f5da05"
      },
      "execution_count": 406,
      "outputs": [
        {
          "output_type": "stream",
          "name": "stdout",
          "text": [
            "4512.43\n"
          ]
        }
      ]
    },
    {
      "cell_type": "markdown",
      "source": [
        "**Cierre anterior**"
      ],
      "metadata": {
        "id": "ZFeQUI_iNuMs"
      }
    },
    {
      "cell_type": "code",
      "source": [
        "D17=Prueba[\"D17\"] \n",
        "print(D17.value)"
      ],
      "metadata": {
        "id": "TWNEVCrGNutX",
        "colab": {
          "base_uri": "https://localhost:8080/"
        },
        "outputId": "a569abd1-f8e8-4b67-ff22-e86dd45d917a"
      },
      "execution_count": 407,
      "outputs": [
        {
          "output_type": "stream",
          "name": "stdout",
          "text": [
            "4512.43\n"
          ]
        }
      ]
    },
    {
      "cell_type": "code",
      "source": [
        "D17=Prueba[\"D17\"]= Cierre_precio_anterior_indice_Chile\n",
        "print(D16)"
      ],
      "metadata": {
        "id": "d84yp2g4Nu20",
        "colab": {
          "base_uri": "https://localhost:8080/"
        },
        "outputId": "8b7d0a68-5372-4338-aa4e-8f7faab3c955"
      },
      "execution_count": 408,
      "outputs": [
        {
          "output_type": "stream",
          "name": "stdout",
          "text": [
            "53930.45\n"
          ]
        }
      ]
    },
    {
      "cell_type": "markdown",
      "source": [
        "**Cierre a 5 dias**"
      ],
      "metadata": {
        "id": "rcYsMoe0Nxep"
      }
    },
    {
      "cell_type": "code",
      "source": [
        "A17=Prueba[\"A17\"] \n",
        "print(A17.value)"
      ],
      "metadata": {
        "id": "deUJ68eGNyPg",
        "colab": {
          "base_uri": "https://localhost:8080/"
        },
        "outputId": "6903a8cd-ecc2-466f-d359-3f8cf3a71702"
      },
      "execution_count": 409,
      "outputs": [
        {
          "output_type": "stream",
          "name": "stdout",
          "text": [
            "4298.24\n"
          ]
        }
      ]
    },
    {
      "cell_type": "code",
      "source": [
        "A17=Prueba[\"A17\"]= Cierre_precio_anterior5dias_indice_Chile \n",
        "print(A17)"
      ],
      "metadata": {
        "id": "ZomqfPlKNyaP",
        "colab": {
          "base_uri": "https://localhost:8080/"
        },
        "outputId": "5b08f832-36eb-4058-8d1f-f52f2f3e2e99"
      },
      "execution_count": 410,
      "outputs": [
        {
          "output_type": "stream",
          "name": "stdout",
          "text": [
            "4298.24\n"
          ]
        }
      ]
    },
    {
      "cell_type": "markdown",
      "source": [
        " **Colombia Nueva Bitacora**"
      ],
      "metadata": {
        "id": "RdQg5orKN8xf"
      }
    },
    {
      "cell_type": "markdown",
      "source": [
        "**Apertura**"
      ],
      "metadata": {
        "id": "ZnrndGEIOSCe"
      }
    },
    {
      "cell_type": "code",
      "source": [
        "C18=Prueba[\"C18\"] \n",
        "print(C18.value)"
      ],
      "metadata": {
        "id": "WGtAuER9OSkp",
        "colab": {
          "base_uri": "https://localhost:8080/"
        },
        "outputId": "a811f371-e482-4a8e-f980-f04a05755b98"
      },
      "execution_count": 411,
      "outputs": [
        {
          "output_type": "stream",
          "name": "stdout",
          "text": [
            "1459.71\n"
          ]
        }
      ]
    },
    {
      "cell_type": "code",
      "source": [
        "C18=Prueba[\"C18\"]= Apertura_indice_Colombia \n",
        "print(C18)"
      ],
      "metadata": {
        "id": "Ivu2hs4HOStb",
        "colab": {
          "base_uri": "https://localhost:8080/"
        },
        "outputId": "c9e7b97e-82c1-4073-bf84-4d3739b8173e"
      },
      "execution_count": 412,
      "outputs": [
        {
          "output_type": "stream",
          "name": "stdout",
          "text": [
            "1459.71\n"
          ]
        }
      ]
    },
    {
      "cell_type": "markdown",
      "source": [
        "**Cierre anterior**"
      ],
      "metadata": {
        "id": "QyPM-fIuOWOq"
      }
    },
    {
      "cell_type": "code",
      "source": [
        "D18=Prueba[\"D18\"] \n",
        "print(D18.value)"
      ],
      "metadata": {
        "id": "cdiCJXRPOW2h",
        "colab": {
          "base_uri": "https://localhost:8080/"
        },
        "outputId": "78744c1d-dfd3-4186-d6e0-29446ee5fdea"
      },
      "execution_count": 413,
      "outputs": [
        {
          "output_type": "stream",
          "name": "stdout",
          "text": [
            "1466.67\n"
          ]
        }
      ]
    },
    {
      "cell_type": "code",
      "source": [
        "D18=Prueba[\"D18\"]= Cierre_precio_anterior_indice_Colombia\n",
        "print(D18)"
      ],
      "metadata": {
        "id": "aT8vubmTOXBI",
        "colab": {
          "base_uri": "https://localhost:8080/"
        },
        "outputId": "50309db1-fdb4-4ccf-b691-9fe60ef7d437"
      },
      "execution_count": 414,
      "outputs": [
        {
          "output_type": "stream",
          "name": "stdout",
          "text": [
            "1466.67\n"
          ]
        }
      ]
    },
    {
      "cell_type": "markdown",
      "source": [
        "**Cierre a 5 dias**"
      ],
      "metadata": {
        "id": "xj7q1S8aOY0o"
      }
    },
    {
      "cell_type": "code",
      "source": [
        "A18=Prueba[\"A18\"] \n",
        "print(A18.value)"
      ],
      "metadata": {
        "id": "43sXwySxOZR6",
        "colab": {
          "base_uri": "https://localhost:8080/"
        },
        "outputId": "61309467-7008-44df-c7a0-a0740a2bbeb5"
      },
      "execution_count": 415,
      "outputs": [
        {
          "output_type": "stream",
          "name": "stdout",
          "text": [
            "1394.22\n"
          ]
        }
      ]
    },
    {
      "cell_type": "code",
      "source": [
        "A18=Prueba[\"A18\"]= Cierre_precio_anterior5dias_indice_Colombia \n",
        "print(A18)"
      ],
      "metadata": {
        "id": "vn0o0u-COZbH",
        "colab": {
          "base_uri": "https://localhost:8080/"
        },
        "outputId": "298e491a-8581-4a0c-c8a1-141478673b00"
      },
      "execution_count": 416,
      "outputs": [
        {
          "output_type": "stream",
          "name": "stdout",
          "text": [
            "1394.22\n"
          ]
        }
      ]
    },
    {
      "cell_type": "markdown",
      "source": [
        "**Materias Primas -Nueva Bitacora**"
      ],
      "metadata": {
        "id": "jy5uGEC2Rtw1"
      }
    },
    {
      "cell_type": "markdown",
      "source": [
        "**Brent**"
      ],
      "metadata": {
        "id": "9y3ZHXn8STEJ"
      }
    },
    {
      "cell_type": "markdown",
      "source": [
        "**Apertura**"
      ],
      "metadata": {
        "id": "5NESsYFASFG9"
      }
    },
    {
      "cell_type": "code",
      "source": [
        "C25=Prueba[\"c25\"] \n",
        "print(C25.value)"
      ],
      "metadata": {
        "colab": {
          "base_uri": "https://localhost:8080/"
        },
        "id": "zVPd26YXSPOz",
        "outputId": "8420d085-d760-415a-875b-04e7c85a615e"
      },
      "execution_count": 417,
      "outputs": [
        {
          "output_type": "stream",
          "name": "stdout",
          "text": [
            "84.12\n"
          ]
        }
      ]
    },
    {
      "cell_type": "code",
      "source": [
        "C25=Prueba[\"C25\"]= Apertura_brent\n",
        "print(C25)"
      ],
      "metadata": {
        "colab": {
          "base_uri": "https://localhost:8080/"
        },
        "id": "_1FkZLU1SPZo",
        "outputId": "b8ccf906-3733-4174-c99c-714f0c7f6e00"
      },
      "execution_count": 418,
      "outputs": [
        {
          "output_type": "stream",
          "name": "stdout",
          "text": [
            "84.12\n"
          ]
        }
      ]
    },
    {
      "cell_type": "markdown",
      "source": [
        "**Cierre anterior**"
      ],
      "metadata": {
        "id": "Z5h4sDSiSMMj"
      }
    },
    {
      "cell_type": "code",
      "source": [
        "D25=Prueba[\"D25\"] \n",
        "print(D25.value)"
      ],
      "metadata": {
        "colab": {
          "base_uri": "https://localhost:8080/"
        },
        "id": "bfLeS66ySQN0",
        "outputId": "0a52794e-e155-48e0-b57b-c9f4f1dd435f"
      },
      "execution_count": 419,
      "outputs": [
        {
          "output_type": "stream",
          "name": "stdout",
          "text": [
            "84.47\n"
          ]
        }
      ]
    },
    {
      "cell_type": "code",
      "source": [
        "D25=Prueba[\"D25\"]= Cierre_precio_anterior_brent\n",
        "print(D25)"
      ],
      "metadata": {
        "colab": {
          "base_uri": "https://localhost:8080/"
        },
        "id": "6M6UpDo9SQZO",
        "outputId": "b7140c23-2f6d-4cba-cc4d-98a3ef702063"
      },
      "execution_count": 420,
      "outputs": [
        {
          "output_type": "stream",
          "name": "stdout",
          "text": [
            "84.47\n"
          ]
        }
      ]
    },
    {
      "cell_type": "markdown",
      "source": [
        "**Cierre a 5 dias**"
      ],
      "metadata": {
        "id": "-WSQF2svSOmJ"
      }
    },
    {
      "cell_type": "code",
      "source": [
        "A25=Prueba[\"A25\"] \n",
        "print(A25.value)"
      ],
      "metadata": {
        "colab": {
          "base_uri": "https://localhost:8080/"
        },
        "id": "xc3Rg8JxSRLZ",
        "outputId": "8b7b7ca0-543b-410d-b8ac-80eddbc82416"
      },
      "execution_count": 421,
      "outputs": [
        {
          "output_type": "stream",
          "name": "stdout",
          "text": [
            "80.87\n"
          ]
        }
      ]
    },
    {
      "cell_type": "code",
      "source": [
        "A25=Prueba[\"A25\"]= Cierre_precio_anterior5dias_brent\n",
        "print(A25)"
      ],
      "metadata": {
        "colab": {
          "base_uri": "https://localhost:8080/"
        },
        "id": "fRr5hpsFSRWH",
        "outputId": "6bd34ba2-a779-493d-ab44-587a00c9be38"
      },
      "execution_count": 422,
      "outputs": [
        {
          "output_type": "stream",
          "name": "stdout",
          "text": [
            "80.87\n"
          ]
        }
      ]
    },
    {
      "cell_type": "markdown",
      "source": [
        "**WTI**"
      ],
      "metadata": {
        "id": "cm63G-HQSX5_"
      }
    },
    {
      "cell_type": "markdown",
      "source": [
        "**Apertura**"
      ],
      "metadata": {
        "id": "cRgu9I3ASfNl"
      }
    },
    {
      "cell_type": "code",
      "source": [
        "C26=Prueba[\"C26\"] \n",
        "print(C26.value)"
      ],
      "metadata": {
        "colab": {
          "base_uri": "https://localhost:8080/"
        },
        "id": "ZMSg3sLqSava",
        "outputId": "25de4ea5-3c2a-4278-f229-3716b59106e8"
      },
      "execution_count": 423,
      "outputs": [
        {
          "output_type": "stream",
          "name": "stdout",
          "text": [
            "81.73\n"
          ]
        }
      ]
    },
    {
      "cell_type": "code",
      "source": [
        "C26=Prueba[\"C26\"]= Apertura_WTI\n",
        "print(C26)"
      ],
      "metadata": {
        "colab": {
          "base_uri": "https://localhost:8080/"
        },
        "id": "rnHwe_-mSa6-",
        "outputId": "35087c52-1363-472a-8a46-3eee32876da0"
      },
      "execution_count": 424,
      "outputs": [
        {
          "output_type": "stream",
          "name": "stdout",
          "text": [
            "81.73\n"
          ]
        }
      ]
    },
    {
      "cell_type": "markdown",
      "source": [
        "**Cierre anterior**"
      ],
      "metadata": {
        "id": "Fz93Q1vwSkk_"
      }
    },
    {
      "cell_type": "code",
      "source": [
        "D26=Prueba[\"D26\"] \n",
        "print(D26.value)"
      ],
      "metadata": {
        "colab": {
          "base_uri": "https://localhost:8080/"
        },
        "id": "en7LBM90TRGD",
        "outputId": "d93bda56-d080-43c3-e357-da181b36842f"
      },
      "execution_count": 425,
      "outputs": [
        {
          "output_type": "stream",
          "name": "stdout",
          "text": [
            "82.12\n"
          ]
        }
      ]
    },
    {
      "cell_type": "code",
      "source": [
        "D26=Prueba[\"D26\"]= Cierre_precio_anterior_WTI\n",
        "print(D26)"
      ],
      "metadata": {
        "colab": {
          "base_uri": "https://localhost:8080/"
        },
        "id": "OCUxX8w7TRRa",
        "outputId": "01cfa712-21ec-48d8-d7d8-a260cee7fa48"
      },
      "execution_count": 426,
      "outputs": [
        {
          "output_type": "stream",
          "name": "stdout",
          "text": [
            "82.12\n"
          ]
        }
      ]
    },
    {
      "cell_type": "markdown",
      "source": [
        "**Cierre a 5 dias**"
      ],
      "metadata": {
        "id": "V3zhKFIrSnJ2"
      }
    },
    {
      "cell_type": "code",
      "source": [
        "A26=Prueba[\"A26\"] \n",
        "print(A26.value)"
      ],
      "metadata": {
        "colab": {
          "base_uri": "https://localhost:8080/"
        },
        "id": "VHL1Aci0TR5k",
        "outputId": "c5dd8ec1-2430-4bfd-f5ac-ff7ad4ab59b7"
      },
      "execution_count": 427,
      "outputs": [
        {
          "output_type": "stream",
          "name": "stdout",
          "text": [
            "78.23\n"
          ]
        }
      ]
    },
    {
      "cell_type": "code",
      "source": [
        "A26=Prueba[\"A26\"]= Cierre_precio_anterior5dias_WTI \n",
        "print(A26)"
      ],
      "metadata": {
        "colab": {
          "base_uri": "https://localhost:8080/"
        },
        "id": "oSjbxJaZTSDx",
        "outputId": "8b0a00b0-fee1-4b43-ebaa-3a695ff73ee2"
      },
      "execution_count": 428,
      "outputs": [
        {
          "output_type": "stream",
          "name": "stdout",
          "text": [
            "78.23\n"
          ]
        }
      ]
    },
    {
      "cell_type": "markdown",
      "source": [
        "**Oro**"
      ],
      "metadata": {
        "id": "WT7ZEa4uSrwD"
      }
    },
    {
      "cell_type": "markdown",
      "source": [
        "**Apertura**"
      ],
      "metadata": {
        "id": "QhQRwFquSxfK"
      }
    },
    {
      "cell_type": "code",
      "source": [
        "C28=Prueba[\"C28\"] \n",
        "print(C28.value)"
      ],
      "metadata": {
        "colab": {
          "base_uri": "https://localhost:8080/"
        },
        "id": "Mo3nBmnZS1rz",
        "outputId": "3a686de0-3ccd-4eed-8766-ba9064e976a1"
      },
      "execution_count": 429,
      "outputs": [
        {
          "output_type": "stream",
          "name": "stdout",
          "text": [
            "1822.1\n"
          ]
        }
      ]
    },
    {
      "cell_type": "code",
      "source": [
        "C28=Prueba[\"C28\"]= Apertura_oro\n",
        "print(C28)"
      ],
      "metadata": {
        "colab": {
          "base_uri": "https://localhost:8080/"
        },
        "id": "ASjhnt_mS14H",
        "outputId": "a7b8572a-3bf0-417b-e91f-3d63bd7f05a1"
      },
      "execution_count": 430,
      "outputs": [
        {
          "output_type": "stream",
          "name": "stdout",
          "text": [
            "1822.1\n"
          ]
        }
      ]
    },
    {
      "cell_type": "markdown",
      "source": [
        "**Cierre anterior**"
      ],
      "metadata": {
        "id": "Kss75ileSzJN"
      }
    },
    {
      "cell_type": "code",
      "source": [
        "D28=Prueba[\"D28\"] \n",
        "print(D28.value)"
      ],
      "metadata": {
        "colab": {
          "base_uri": "https://localhost:8080/"
        },
        "id": "U4pnh4gdS2ej",
        "outputId": "9e78128c-f45d-4c7a-d0ce-f826dc841e24"
      },
      "execution_count": 431,
      "outputs": [
        {
          "output_type": "stream",
          "name": "stdout",
          "text": [
            "1821.4\n"
          ]
        }
      ]
    },
    {
      "cell_type": "code",
      "source": [
        "D28=Prueba[\"D28\"]= Cierre_precio_anterior_oro\n",
        "print(D28)"
      ],
      "metadata": {
        "colab": {
          "base_uri": "https://localhost:8080/"
        },
        "id": "EM9ndw5TS2on",
        "outputId": "741984b2-ba06-4d78-c83c-dc2750765e99"
      },
      "execution_count": 432,
      "outputs": [
        {
          "output_type": "stream",
          "name": "stdout",
          "text": [
            "1821.4\n"
          ]
        }
      ]
    },
    {
      "cell_type": "markdown",
      "source": [
        "**Cierre a 5 dias**"
      ],
      "metadata": {
        "id": "8KMf-BayS0zc"
      }
    },
    {
      "cell_type": "code",
      "source": [
        "A28=Prueba[\"A28\"] \n",
        "print(A28.value)"
      ],
      "metadata": {
        "colab": {
          "base_uri": "https://localhost:8080/"
        },
        "id": "mfYnB7uWS3eT",
        "outputId": "cce4bc9d-b15f-447b-a91e-b3549c906ae7"
      },
      "execution_count": 433,
      "outputs": [
        {
          "output_type": "stream",
          "name": "stdout",
          "text": [
            "1798.8\n"
          ]
        }
      ]
    },
    {
      "cell_type": "code",
      "source": [
        "A28=Prueba[\"A28\"]= Cierre_precio_anterior5dias_oro\n",
        "print(A28)"
      ],
      "metadata": {
        "colab": {
          "base_uri": "https://localhost:8080/"
        },
        "id": "iACugrcQS3og",
        "outputId": "37210d54-5486-472d-a385-9358467bd133"
      },
      "execution_count": 434,
      "outputs": [
        {
          "output_type": "stream",
          "name": "stdout",
          "text": [
            "1798.8\n"
          ]
        }
      ]
    },
    {
      "cell_type": "markdown",
      "source": [
        "**Cobre**"
      ],
      "metadata": {
        "id": "XPFjcCqhTi23"
      }
    },
    {
      "cell_type": "markdown",
      "source": [
        "**Apertura**"
      ],
      "metadata": {
        "id": "tnWRX-0aTn3G"
      }
    },
    {
      "cell_type": "code",
      "source": [
        "C29=Prueba[\"C29\"]= Apertura_cobre\n",
        "print(C29)"
      ],
      "metadata": {
        "colab": {
          "base_uri": "https://localhost:8080/"
        },
        "id": "jyPR8WPATscX",
        "outputId": "611f0941-9a9a-46b1-fa88-24c22b09b220"
      },
      "execution_count": 435,
      "outputs": [
        {
          "output_type": "stream",
          "name": "stdout",
          "text": [
            "4.5098\n"
          ]
        }
      ]
    },
    {
      "cell_type": "markdown",
      "source": [
        "**Cierre anterior**"
      ],
      "metadata": {
        "id": "sOTXRFZHTpoN"
      }
    },
    {
      "cell_type": "code",
      "source": [
        "D29=Prueba[\"D29\"]= Cierre_precio_anterior_cobre\n",
        "print(D29)"
      ],
      "metadata": {
        "colab": {
          "base_uri": "https://localhost:8080/"
        },
        "id": "GKujuLTNTtaQ",
        "outputId": "f91b97ef-1686-4b75-8de8-24aab0e47919"
      },
      "execution_count": 436,
      "outputs": [
        {
          "output_type": "stream",
          "name": "stdout",
          "text": [
            "4.51\n"
          ]
        }
      ]
    },
    {
      "cell_type": "markdown",
      "source": [
        "**Cierre a 5 dias**"
      ],
      "metadata": {
        "id": "BWp-mnVaTrKQ"
      }
    },
    {
      "cell_type": "code",
      "source": [
        "A29=Prueba[\"A29\"]= Cierre_precio_anterior5dias_Cobre\n",
        "print(A29)"
      ],
      "metadata": {
        "colab": {
          "base_uri": "https://localhost:8080/"
        },
        "id": "BZ0Qbue2TuVZ",
        "outputId": "bec647fc-37c7-4737-f008-df3935a95c24"
      },
      "execution_count": 437,
      "outputs": [
        {
          "output_type": "stream",
          "name": "stdout",
          "text": [
            "4.378\n"
          ]
        }
      ]
    },
    {
      "cell_type": "markdown",
      "source": [
        "**Maiz**"
      ],
      "metadata": {
        "id": "9-FVz-vKTwBj"
      }
    },
    {
      "cell_type": "markdown",
      "source": [
        "**Apertura**"
      ],
      "metadata": {
        "id": "_smumr1-T-Uv"
      }
    },
    {
      "cell_type": "code",
      "source": [
        "C31=Prueba[\"C31\"]= Apertura_Maiz\n",
        "print(C31)"
      ],
      "metadata": {
        "colab": {
          "base_uri": "https://localhost:8080/"
        },
        "id": "2WzechxMT_gl",
        "outputId": "875493d1-cd81-4aa7-bba0-3be66c5c8d99"
      },
      "execution_count": 438,
      "outputs": [
        {
          "output_type": "stream",
          "name": "stdout",
          "text": [
            "587.5\n"
          ]
        }
      ]
    },
    {
      "cell_type": "markdown",
      "source": [
        "**Cierre anterior**"
      ],
      "metadata": {
        "id": "ya42f1FsUB0Q"
      }
    },
    {
      "cell_type": "code",
      "source": [
        "D31=Prueba[\"D31\"]= Cierre_precio_anterior_Maiz\n",
        "print(D31)"
      ],
      "metadata": {
        "colab": {
          "base_uri": "https://localhost:8080/"
        },
        "id": "v090_saHUC8b",
        "outputId": "9ee27e1e-fcc8-405e-ab50-327a727a7fa2"
      },
      "execution_count": 439,
      "outputs": [
        {
          "output_type": "stream",
          "name": "stdout",
          "text": [
            "587.5\n"
          ]
        }
      ]
    },
    {
      "cell_type": "markdown",
      "source": [
        "**Cierre a 5 dias**"
      ],
      "metadata": {
        "id": "yEqtDawhUFHs"
      }
    },
    {
      "cell_type": "code",
      "source": [
        "A31=Prueba[\"A31\"]= Cierre_precio_anterior5dias_Maiz\n",
        "print(A31)"
      ],
      "metadata": {
        "colab": {
          "base_uri": "https://localhost:8080/"
        },
        "id": "mPqp4FmPUGds",
        "outputId": "2a07b020-1217-4dec-b64f-f0405ee2fc4d"
      },
      "execution_count": 440,
      "outputs": [
        {
          "output_type": "stream",
          "name": "stdout",
          "text": [
            "599.75\n"
          ]
        }
      ]
    },
    {
      "cell_type": "markdown",
      "source": [
        "**Soja**"
      ],
      "metadata": {
        "id": "w0pczoIRUG8M"
      }
    },
    {
      "cell_type": "markdown",
      "source": [
        "**Apertura**"
      ],
      "metadata": {
        "id": "SmLldKqAUQLH"
      }
    },
    {
      "cell_type": "code",
      "source": [
        "C32=Prueba[\"C32\"]= Apertura_soja \n",
        "print(C32)"
      ],
      "metadata": {
        "colab": {
          "base_uri": "https://localhost:8080/"
        },
        "id": "faoi7stDUUqF",
        "outputId": "823c5451-c57c-43db-e0d6-afde3e893be1"
      },
      "execution_count": 441,
      "outputs": [
        {
          "output_type": "stream",
          "name": "stdout",
          "text": [
            "1376.5\n"
          ]
        }
      ]
    },
    {
      "cell_type": "markdown",
      "source": [
        "**Cierre anterior**"
      ],
      "metadata": {
        "id": "T4HAQX3uUSlP"
      }
    },
    {
      "cell_type": "code",
      "source": [
        "D32=Prueba[\"D32\"]= Cierre_precio_anterior_soja\n",
        "print(D32)"
      ],
      "metadata": {
        "colab": {
          "base_uri": "https://localhost:8080/"
        },
        "id": "u1CZ5cBZUVkn",
        "outputId": "1f02aea8-9fa2-4e0a-e526-f52cf936dcfc"
      },
      "execution_count": 442,
      "outputs": [
        {
          "output_type": "stream",
          "name": "stdout",
          "text": [
            "1365.25\n"
          ]
        }
      ]
    },
    {
      "cell_type": "markdown",
      "source": [
        "**Cierre a 5 dias**"
      ],
      "metadata": {
        "id": "Msc53_Y0UUIl"
      }
    },
    {
      "cell_type": "code",
      "source": [
        "A32=Prueba[\"A32\"]= Cierre_precio_anterior5dias_soja\n",
        "print(A32)"
      ],
      "metadata": {
        "colab": {
          "base_uri": "https://localhost:8080/"
        },
        "id": "c6jHiPd0UWVE",
        "outputId": "98e3dd83-f7c3-49c4-83c7-083abe745bb1"
      },
      "execution_count": 443,
      "outputs": [
        {
          "output_type": "stream",
          "name": "stdout",
          "text": [
            "1374.75\n"
          ]
        }
      ]
    },
    {
      "cell_type": "markdown",
      "source": [
        "**Cafe**"
      ],
      "metadata": {
        "id": "ci9r6TxfUYWI"
      }
    },
    {
      "cell_type": "markdown",
      "source": [
        "**Apertura**"
      ],
      "metadata": {
        "id": "iTocSozkUe9E"
      }
    },
    {
      "cell_type": "code",
      "source": [
        "C33=Prueba[\"C33\"]= Apertura_Cafe\n",
        "print(C33)"
      ],
      "metadata": {
        "colab": {
          "base_uri": "https://localhost:8080/"
        },
        "id": "8vlAj_WrUip0",
        "outputId": "1f04708b-06ab-4aed-a59d-6dfbea8dbb68"
      },
      "execution_count": 444,
      "outputs": [
        {
          "output_type": "stream",
          "name": "stdout",
          "text": [
            "236.65\n"
          ]
        }
      ]
    },
    {
      "cell_type": "markdown",
      "source": [
        "**Cierre anterior**"
      ],
      "metadata": {
        "id": "3Ba146gzUgoZ"
      }
    },
    {
      "cell_type": "code",
      "source": [
        "D33=Prueba[\"D33\"]= Cierre_precio_anterior_Cafe\n",
        "print(D33)"
      ],
      "metadata": {
        "colab": {
          "base_uri": "https://localhost:8080/"
        },
        "id": "wiN-KvLhUjoN",
        "outputId": "999b70a0-9e9a-4c51-8954-c2736a41dd6f"
      },
      "execution_count": 445,
      "outputs": [
        {
          "output_type": "stream",
          "name": "stdout",
          "text": [
            "237.0\n"
          ]
        }
      ]
    },
    {
      "cell_type": "markdown",
      "source": [
        "**Cierre a 5 dias**"
      ],
      "metadata": {
        "id": "RA85KnYTUiHp"
      }
    },
    {
      "cell_type": "code",
      "source": [
        "A33=Prueba[\"A33\"]= Cierre_precio_anterior5dias_Cafe\n",
        "print(A33)"
      ],
      "metadata": {
        "colab": {
          "base_uri": "https://localhost:8080/"
        },
        "id": "_wgZxWw3Ukab",
        "outputId": "fe7103c7-dc16-4190-f00c-c890376de138"
      },
      "execution_count": 446,
      "outputs": [
        {
          "output_type": "stream",
          "name": "stdout",
          "text": [
            "234.9\n"
          ]
        }
      ]
    },
    {
      "cell_type": "markdown",
      "source": [
        "**Azucar**"
      ],
      "metadata": {
        "id": "YND7NnB-UogQ"
      }
    },
    {
      "cell_type": "markdown",
      "source": [
        "**Apertura**"
      ],
      "metadata": {
        "id": "Exn3rDk5Uyi-"
      }
    },
    {
      "cell_type": "code",
      "source": [
        "C34=Prueba[\"C34\"]= Apertura_Azucar\n",
        "print(C34)"
      ],
      "metadata": {
        "colab": {
          "base_uri": "https://localhost:8080/"
        },
        "id": "SFZ_hPBZU14F",
        "outputId": "e01bb5af-2f95-4f38-e0fd-53ec83a23fe6"
      },
      "execution_count": 447,
      "outputs": [
        {
          "output_type": "stream",
          "name": "stdout",
          "text": [
            "18.1\n"
          ]
        }
      ]
    },
    {
      "cell_type": "markdown",
      "source": [
        "**Cierre anterior**"
      ],
      "metadata": {
        "id": "7uzKhYvWUz0r"
      }
    },
    {
      "cell_type": "code",
      "source": [
        "D34=Prueba[\"D34\"]= Cierre_precio_anterior_Azucar\n",
        "print(D34)"
      ],
      "metadata": {
        "colab": {
          "base_uri": "https://localhost:8080/"
        },
        "id": "24ygrLH0U2V8",
        "outputId": "2f413bab-5253-4351-aa8f-b98370c5cabc"
      },
      "execution_count": 448,
      "outputs": [
        {
          "output_type": "stream",
          "name": "stdout",
          "text": [
            "18.09\n"
          ]
        }
      ]
    },
    {
      "cell_type": "markdown",
      "source": [
        "**Cierre a 5 dias**"
      ],
      "metadata": {
        "id": "CPgFBVHAU1K8"
      }
    },
    {
      "cell_type": "code",
      "source": [
        "A34=Prueba[\"A34\"]= Cierre_precio_anterior5dias_Azucar\n",
        "print(A34)"
      ],
      "metadata": {
        "colab": {
          "base_uri": "https://localhost:8080/"
        },
        "id": "-2IIwihJU3Fs",
        "outputId": "76f839fd-4ca4-4e74-e35b-282b9d876667"
      },
      "execution_count": 449,
      "outputs": [
        {
          "output_type": "stream",
          "name": "stdout",
          "text": [
            "17.83\n"
          ]
        }
      ]
    },
    {
      "cell_type": "markdown",
      "source": [
        "**Renta Fija**"
      ],
      "metadata": {
        "id": "vSOUAZmiU6Wo"
      }
    },
    {
      "cell_type": "markdown",
      "source": [
        "**EE.UU**"
      ],
      "metadata": {
        "id": "BveO6bIaU-BB"
      }
    },
    {
      "cell_type": "markdown",
      "source": [
        "**Apertura**"
      ],
      "metadata": {
        "id": "8r_9GQVpVIGA"
      }
    },
    {
      "cell_type": "code",
      "source": [
        "k6 =Prueba[\"k6\"]= Apertura_Estados_unidos/100\n",
        "print(k6)"
      ],
      "metadata": {
        "colab": {
          "base_uri": "https://localhost:8080/"
        },
        "id": "GLRUushjVIyg",
        "outputId": "3b47a8d6-6f43-4342-dbe4-c446402d62b0"
      },
      "execution_count": 450,
      "outputs": [
        {
          "output_type": "stream",
          "name": "stdout",
          "text": [
            "0.0172\n"
          ]
        }
      ]
    },
    {
      "cell_type": "markdown",
      "source": [
        "**Cierre anterior**"
      ],
      "metadata": {
        "id": "1V4AhiMlVKn2"
      }
    },
    {
      "cell_type": "code",
      "source": [
        "l6=Prueba[\"l6\"]= Cierre_precio_anterior_Estados_unidos/100\n",
        "print(l6)"
      ],
      "metadata": {
        "colab": {
          "base_uri": "https://localhost:8080/"
        },
        "id": "MNcwRDG8VMZj",
        "outputId": "0da56700-2b37-4ee9-f5e3-4a19e8b1e36e"
      },
      "execution_count": 451,
      "outputs": [
        {
          "output_type": "stream",
          "name": "stdout",
          "text": [
            "0.01701\n"
          ]
        }
      ]
    },
    {
      "cell_type": "markdown",
      "source": [
        "**Cierre a 5 dias**"
      ],
      "metadata": {
        "id": "5obPzWJIVMrF"
      }
    },
    {
      "cell_type": "code",
      "source": [
        "q6=Prueba[\"q6\"]= Cierre_precio_anterior5dias_Estados_unidos/100\n",
        "print(q6)"
      ],
      "metadata": {
        "colab": {
          "base_uri": "https://localhost:8080/"
        },
        "id": "YLhgZHciVNe7",
        "outputId": "dfba93af-df6e-4827-c0fc-c9a445cfda3b"
      },
      "execution_count": 452,
      "outputs": [
        {
          "output_type": "stream",
          "name": "stdout",
          "text": [
            "0.01755\n"
          ]
        }
      ]
    },
    {
      "cell_type": "markdown",
      "source": [
        "**Alemania**"
      ],
      "metadata": {
        "id": "ZYBJMG6kVOM8"
      }
    },
    {
      "cell_type": "markdown",
      "source": [
        "**Apertura**"
      ],
      "metadata": {
        "id": "Be_0MDoXVarl"
      }
    },
    {
      "cell_type": "code",
      "source": [
        "k7=Prueba[\"k7\"]= Apertura_Alemania/100\n",
        "print(k7)"
      ],
      "metadata": {
        "colab": {
          "base_uri": "https://localhost:8080/"
        },
        "id": "CvNUOZYOVdwo",
        "outputId": "f41a2084-5788-4784-a907-1252bb85a807"
      },
      "execution_count": 453,
      "outputs": [
        {
          "output_type": "stream",
          "name": "stdout",
          "text": [
            "-0.0008799999999999999\n"
          ]
        }
      ]
    },
    {
      "cell_type": "markdown",
      "source": [
        "**Cierre anterior**"
      ],
      "metadata": {
        "id": "7lkZR6ElVb2X"
      }
    },
    {
      "cell_type": "code",
      "source": [
        "l7=Prueba[\"l7\"]= Cierre_precio_anterior_Alemania/100\n",
        "print(l7)"
      ],
      "metadata": {
        "colab": {
          "base_uri": "https://localhost:8080/"
        },
        "id": "r-mx0ztHVee8",
        "outputId": "b838f210-66ed-4a2c-8665-ba22a5ecb344"
      },
      "execution_count": 454,
      "outputs": [
        {
          "output_type": "stream",
          "name": "stdout",
          "text": [
            "-0.00086\n"
          ]
        }
      ]
    },
    {
      "cell_type": "markdown",
      "source": [
        "**Cierre a 5 dias**"
      ],
      "metadata": {
        "id": "mClhneOGVdNS"
      }
    },
    {
      "cell_type": "code",
      "source": [
        "q7=Prueba[\"q7\"]= Cierre_precio_anterior5dias_Alemania/100\n",
        "print(q7)"
      ],
      "metadata": {
        "colab": {
          "base_uri": "https://localhost:8080/"
        },
        "id": "yWHlw3LDVfFi",
        "outputId": "569a2b62-b560-41c9-86f4-0d48e166b79d"
      },
      "execution_count": 455,
      "outputs": [
        {
          "output_type": "stream",
          "name": "stdout",
          "text": [
            "-0.00035999999999999997\n"
          ]
        }
      ]
    },
    {
      "cell_type": "markdown",
      "source": [
        "**Reino Unido**"
      ],
      "metadata": {
        "id": "GFSZzfmWVhQR"
      }
    },
    {
      "cell_type": "markdown",
      "source": [
        "**Apertura**"
      ],
      "metadata": {
        "id": "NK9ZXMxbVltm"
      }
    },
    {
      "cell_type": "code",
      "source": [
        "K8=Prueba[\"k8\"]= Apertura_Reino_unido/100\n",
        "print(K8)"
      ],
      "metadata": {
        "colab": {
          "base_uri": "https://localhost:8080/"
        },
        "id": "2bmDa48fVpM2",
        "outputId": "2272d008-7c6d-4a3c-d600-9a6984ade9a4"
      },
      "execution_count": 456,
      "outputs": [
        {
          "output_type": "stream",
          "name": "stdout",
          "text": [
            "0.01161\n"
          ]
        }
      ]
    },
    {
      "cell_type": "markdown",
      "source": [
        "**Cierre anterior**"
      ],
      "metadata": {
        "id": "3LVzvoy_VnNz"
      }
    },
    {
      "cell_type": "code",
      "source": [
        "l8=Prueba[\"l8\"]= Cierre_precio_anterior_Reino_unido/100\n",
        "print(l8)"
      ],
      "metadata": {
        "colab": {
          "base_uri": "https://localhost:8080/"
        },
        "id": "3BJY94flVp8m",
        "outputId": "8e6d03ea-93ff-48b7-8c8f-4e3b2e499656"
      },
      "execution_count": 457,
      "outputs": [
        {
          "output_type": "stream",
          "name": "stdout",
          "text": [
            "0.01151\n"
          ]
        }
      ]
    },
    {
      "cell_type": "markdown",
      "source": [
        "**Cierre a 5 dias**"
      ],
      "metadata": {
        "id": "Hfb5NsnlVocx"
      }
    },
    {
      "cell_type": "code",
      "source": [
        "q8=Prueba[\"q8\"]= Cierre_precio_anterior5dias_Reino_unido/100\n",
        "print(q8)"
      ],
      "metadata": {
        "colab": {
          "base_uri": "https://localhost:8080/"
        },
        "id": "VJ0DwvHxVkPl",
        "outputId": "d3734245-11bd-47b2-8680-7cacc8a19dee"
      },
      "execution_count": 458,
      "outputs": [
        {
          "output_type": "stream",
          "name": "stdout",
          "text": [
            "0.01172\n"
          ]
        }
      ]
    },
    {
      "cell_type": "markdown",
      "source": [
        "**Francia**"
      ],
      "metadata": {
        "id": "zlDLjcfeVq_9"
      }
    },
    {
      "cell_type": "markdown",
      "source": [
        "**Apertura**"
      ],
      "metadata": {
        "id": "u0qcfSWUV0he"
      }
    },
    {
      "cell_type": "code",
      "source": [
        "K9=Prueba[\"k9\"]= Apertura_Francia/100\n",
        "print(K9)"
      ],
      "metadata": {
        "colab": {
          "base_uri": "https://localhost:8080/"
        },
        "id": "wSnOM2N2V37W",
        "outputId": "3996ef4b-b8a4-4809-edaf-3666f58d29b0"
      },
      "execution_count": 459,
      "outputs": [
        {
          "output_type": "stream",
          "name": "stdout",
          "text": [
            "0.0028199999999999996\n"
          ]
        }
      ]
    },
    {
      "cell_type": "markdown",
      "source": [
        "**Cierre anterior**"
      ],
      "metadata": {
        "id": "o6ehN4xyV11W"
      }
    },
    {
      "cell_type": "code",
      "source": [
        "l9=Prueba[\"l9\"]= Cierre_precio_anterior_Francia/100\n",
        "print(l9)"
      ],
      "metadata": {
        "colab": {
          "base_uri": "https://localhost:8080/"
        },
        "id": "pTLCrYFlV4hg",
        "outputId": "3f3786a3-41e6-4d08-d548-7c4dea6dc353"
      },
      "execution_count": 460,
      "outputs": [
        {
          "output_type": "stream",
          "name": "stdout",
          "text": [
            "0.00242\n"
          ]
        }
      ]
    },
    {
      "cell_type": "markdown",
      "source": [
        "**Cierre a 5 dias**"
      ],
      "metadata": {
        "id": "b6QYexuXV3R0"
      }
    },
    {
      "cell_type": "code",
      "source": [
        "q9=Prueba[\"q9\"]= Cierre_precio_anterior5dias_Francia/100\n",
        "print(q9)"
      ],
      "metadata": {
        "colab": {
          "base_uri": "https://localhost:8080/"
        },
        "id": "EEvWe5cYV5HX",
        "outputId": "0149156e-9794-4681-ee62-86fcbfbab1bb"
      },
      "execution_count": 461,
      "outputs": [
        {
          "output_type": "stream",
          "name": "stdout",
          "text": [
            "0.0028499999999999997\n"
          ]
        }
      ]
    },
    {
      "cell_type": "markdown",
      "source": [
        "**Italia**"
      ],
      "metadata": {
        "id": "pGpPanF6V-IS"
      }
    },
    {
      "cell_type": "markdown",
      "source": [
        "**Apertura**"
      ],
      "metadata": {
        "id": "jyGAj_2UWB0P"
      }
    },
    {
      "cell_type": "code",
      "source": [
        "k10=Prueba[\"k10\"]= Apertura_Italia/100\n",
        "print(k10)"
      ],
      "metadata": {
        "colab": {
          "base_uri": "https://localhost:8080/"
        },
        "id": "0_0o80mPWFPu",
        "outputId": "7f8f160f-793f-40c2-fc61-f8def9eaa5b6"
      },
      "execution_count": 462,
      "outputs": [
        {
          "output_type": "stream",
          "name": "stdout",
          "text": [
            "0.01286\n"
          ]
        }
      ]
    },
    {
      "cell_type": "markdown",
      "source": [
        "**Cierre anterior**"
      ],
      "metadata": {
        "id": "wYQ3IW9bWDBT"
      }
    },
    {
      "cell_type": "code",
      "source": [
        "l10=Prueba[\"l10\"]= Cierre_precio_anterior_Italia/100\n",
        "print(l10)"
      ],
      "metadata": {
        "colab": {
          "base_uri": "https://localhost:8080/"
        },
        "id": "QrsG3fPHWF5i",
        "outputId": "79e4c242-75f8-4126-db29-1a2f55273999"
      },
      "execution_count": 463,
      "outputs": [
        {
          "output_type": "stream",
          "name": "stdout",
          "text": [
            "0.01291\n"
          ]
        }
      ]
    },
    {
      "cell_type": "markdown",
      "source": [
        "**Cierre a 5 dias**"
      ],
      "metadata": {
        "id": "8A1eBDx1WEUI"
      }
    },
    {
      "cell_type": "code",
      "source": [
        "q10=Prueba[\"q10\"]= Cierre_precio_anterior5dias_Italia/100\n",
        "print(q10)"
      ],
      "metadata": {
        "colab": {
          "base_uri": "https://localhost:8080/"
        },
        "id": "fNkvqxLMWGce",
        "outputId": "5b7cc63f-93bf-41be-9e44-9f50eb6bf878"
      },
      "execution_count": 464,
      "outputs": [
        {
          "output_type": "stream",
          "name": "stdout",
          "text": [
            "0.01283\n"
          ]
        }
      ]
    },
    {
      "cell_type": "markdown",
      "source": [
        "**Japon**"
      ],
      "metadata": {
        "id": "Rq4BaLi8WIIE"
      }
    },
    {
      "cell_type": "markdown",
      "source": [
        "**Apertura**"
      ],
      "metadata": {
        "id": "dPZy7eNTWMU3"
      }
    },
    {
      "cell_type": "code",
      "source": [
        "k11=Prueba[\"k11\"]= Apertura_Japon/100\n",
        "print(k11)"
      ],
      "metadata": {
        "colab": {
          "base_uri": "https://localhost:8080/"
        },
        "id": "Z7rwQSIYWQZv",
        "outputId": "c433e066-359f-4de3-e77a-ac09e3fee520"
      },
      "execution_count": 465,
      "outputs": [
        {
          "output_type": "stream",
          "name": "stdout",
          "text": [
            "0.00126\n"
          ]
        }
      ]
    },
    {
      "cell_type": "markdown",
      "source": [
        "**Cierre anterior**"
      ],
      "metadata": {
        "id": "Y9K7sCG7WNnG"
      }
    },
    {
      "cell_type": "code",
      "source": [
        "l11=Prueba[\"l11\"]= Cierre_precio_anterior_Japon/100\n",
        "print(l11)"
      ],
      "metadata": {
        "colab": {
          "base_uri": "https://localhost:8080/"
        },
        "id": "ukzR5wzaWRPK",
        "outputId": "52782c2d-506a-4d86-9985-2c04f7641483"
      },
      "execution_count": 466,
      "outputs": [
        {
          "output_type": "stream",
          "name": "stdout",
          "text": [
            "0.00125\n"
          ]
        }
      ]
    },
    {
      "cell_type": "markdown",
      "source": [
        "**Cierre a 5 dias**"
      ],
      "metadata": {
        "id": "mbNUQwKyWPCr"
      }
    },
    {
      "cell_type": "code",
      "source": [
        "q11=Prueba[\"q11\"]= Cierre_precio_anterior5dias_Japon/100\n",
        "print(q11)"
      ],
      "metadata": {
        "colab": {
          "base_uri": "https://localhost:8080/"
        },
        "id": "SQfw9x7JWSOK",
        "outputId": "7c9bd5b7-db10-497a-b3a6-36bd01a051c0"
      },
      "execution_count": 467,
      "outputs": [
        {
          "output_type": "stream",
          "name": "stdout",
          "text": [
            "0.00131\n"
          ]
        }
      ]
    },
    {
      "cell_type": "markdown",
      "source": [
        "**Brazil**"
      ],
      "metadata": {
        "id": "mLsL0iQnWWlF"
      }
    },
    {
      "cell_type": "markdown",
      "source": [
        "**Apertura**"
      ],
      "metadata": {
        "id": "KQpH4q6fWac9"
      }
    },
    {
      "cell_type": "code",
      "source": [
        "k13=Prueba[\"k13\"]= Apertura_Brazil/100\n",
        "print(k13)"
      ],
      "metadata": {
        "colab": {
          "base_uri": "https://localhost:8080/"
        },
        "id": "ui0vWFMIWdxV",
        "outputId": "fef8599e-da4a-40a3-c0e3-04cb3f11dcbd"
      },
      "execution_count": 468,
      "outputs": [
        {
          "output_type": "stream",
          "name": "stdout",
          "text": [
            "0.1131\n"
          ]
        }
      ]
    },
    {
      "cell_type": "markdown",
      "source": [
        "**Cierre anterior**"
      ],
      "metadata": {
        "id": "vtpOi-8-Wb6x"
      }
    },
    {
      "cell_type": "code",
      "source": [
        "l13=Prueba[\"l13\"]= Cierre_precio_anterior_Brazil/100\n",
        "print(l13)"
      ],
      "metadata": {
        "colab": {
          "base_uri": "https://localhost:8080/"
        },
        "id": "4R_iXmigWeQ8",
        "outputId": "adddf224-1976-4b3a-f514-48f8c33763e6"
      },
      "execution_count": 469,
      "outputs": [
        {
          "output_type": "stream",
          "name": "stdout",
          "text": [
            "0.11\n"
          ]
        }
      ]
    },
    {
      "cell_type": "markdown",
      "source": [
        "**Cierre a 5 dias**"
      ],
      "metadata": {
        "id": "X9G2m4dVWdQY"
      }
    },
    {
      "cell_type": "code",
      "source": [
        "q13=Prueba[\"q13\"]= Cierre_precio_anterior5dias_Brazil/100\n",
        "print(q13)"
      ],
      "metadata": {
        "colab": {
          "base_uri": "https://localhost:8080/"
        },
        "id": "TEu_oLEXWYcm",
        "outputId": "f56c0c30-a8dc-4bd7-e379-8ed06f21d6c7"
      },
      "execution_count": 470,
      "outputs": [
        {
          "output_type": "stream",
          "name": "stdout",
          "text": [
            "0.1114\n"
          ]
        }
      ]
    },
    {
      "cell_type": "markdown",
      "source": [
        "**Mexico**"
      ],
      "metadata": {
        "id": "yXTWROY6Wf-t"
      }
    },
    {
      "cell_type": "markdown",
      "source": [
        "**Apertura**"
      ],
      "metadata": {
        "id": "kgGJRI13WjEs"
      }
    },
    {
      "cell_type": "code",
      "source": [
        "k14=Prueba[\"k14\"]= Apertura_Mexico/100\n",
        "print(k14)"
      ],
      "metadata": {
        "colab": {
          "base_uri": "https://localhost:8080/"
        },
        "id": "NYMjkog5WmJm",
        "outputId": "856ff6f2-46f2-4da3-9116-8a2bbbe20d9a"
      },
      "execution_count": 471,
      "outputs": [
        {
          "output_type": "stream",
          "name": "stdout",
          "text": [
            "0.07934999999999999\n"
          ]
        }
      ]
    },
    {
      "cell_type": "markdown",
      "source": [
        "**Cierre anterior**"
      ],
      "metadata": {
        "id": "iSTnIz5YWkVD"
      }
    },
    {
      "cell_type": "code",
      "source": [
        "l14=Prueba[\"l14\"]= Cierre_precio_anterior_Mexico/100\n",
        "print(l14)"
      ],
      "metadata": {
        "colab": {
          "base_uri": "https://localhost:8080/"
        },
        "id": "_aXUjG1-Wmzd",
        "outputId": "45b9e660-8704-43e0-c458-1e5449e4abc9"
      },
      "execution_count": 472,
      "outputs": [
        {
          "output_type": "stream",
          "name": "stdout",
          "text": [
            "0.07666\n"
          ]
        }
      ]
    },
    {
      "cell_type": "markdown",
      "source": [
        "**Cierre a 5 dias**"
      ],
      "metadata": {
        "id": "e_q9NPtFWllJ"
      }
    },
    {
      "cell_type": "code",
      "source": [
        "q14=Prueba[\"q14\"]= Cierre_precio_anterior5dias_Mexico/100\n",
        "print(q14)"
      ],
      "metadata": {
        "colab": {
          "base_uri": "https://localhost:8080/"
        },
        "id": "ZvSA49wsWnUv",
        "outputId": "dfaded7d-d490-4faa-ffaf-a41db6b7c3d7"
      },
      "execution_count": 473,
      "outputs": [
        {
          "output_type": "stream",
          "name": "stdout",
          "text": [
            "0.07786\n"
          ]
        }
      ]
    },
    {
      "cell_type": "markdown",
      "source": [
        "**Chile**"
      ],
      "metadata": {
        "id": "-EtdPAKBWoIT"
      }
    },
    {
      "cell_type": "markdown",
      "source": [
        "**Apertura**"
      ],
      "metadata": {
        "id": "h1MZVQmVWsr7"
      }
    },
    {
      "cell_type": "code",
      "source": [
        "k15=Prueba[\"k15\"]= Apertura_Chile/100\n",
        "print(k15)"
      ],
      "metadata": {
        "colab": {
          "base_uri": "https://localhost:8080/"
        },
        "id": "11LdLXN3WwF9",
        "outputId": "6d588b9e-8ff3-4868-a5b8-606c2d2f4253"
      },
      "execution_count": 474,
      "outputs": [
        {
          "output_type": "stream",
          "name": "stdout",
          "text": [
            "0.0621\n"
          ]
        }
      ]
    },
    {
      "cell_type": "markdown",
      "source": [
        "**Cierre anterior**"
      ],
      "metadata": {
        "id": "ocekAXsgWt2x"
      }
    },
    {
      "cell_type": "code",
      "source": [
        "l15=Prueba[\"l15\"]= Cierre_precio_anterior_Chile/100\n",
        "print(l15)"
      ],
      "metadata": {
        "colab": {
          "base_uri": "https://localhost:8080/"
        },
        "id": "dz_tkpn0WwwD",
        "outputId": "93758731-2181-486c-9270-7f965e5ccaaf"
      },
      "execution_count": 475,
      "outputs": [
        {
          "output_type": "stream",
          "name": "stdout",
          "text": [
            "0.0616\n"
          ]
        }
      ]
    },
    {
      "cell_type": "markdown",
      "source": [
        "**Cierre a 5 dias**"
      ],
      "metadata": {
        "id": "wKi6NSpesAuX"
      }
    },
    {
      "cell_type": "code",
      "source": [
        "q15=Prueba[\"q15\"]= Cierre_precio_anterior5dias_Chile/100\n",
        "print(q15)"
      ],
      "metadata": {
        "colab": {
          "base_uri": "https://localhost:8080/"
        },
        "id": "5XFMzXKDsBYG",
        "outputId": "82a9abfd-f494-4931-c275-dc6ecd7c9d1b"
      },
      "execution_count": 476,
      "outputs": [
        {
          "output_type": "stream",
          "name": "stdout",
          "text": [
            "0.059699999999999996\n"
          ]
        }
      ]
    },
    {
      "cell_type": "markdown",
      "source": [
        "**Argentina**"
      ],
      "metadata": {
        "id": "3mh4StMQW3US"
      }
    },
    {
      "cell_type": "markdown",
      "source": [
        "**Apertura**"
      ],
      "metadata": {
        "id": "9s8YZeI8W7aO"
      }
    },
    {
      "cell_type": "code",
      "source": [
        "k16=Prueba[\"k16\"]= Apertura_Argentina/100\n",
        "print(k16)"
      ],
      "metadata": {
        "colab": {
          "base_uri": "https://localhost:8080/"
        },
        "id": "quclovVRW___",
        "outputId": "2ec7274b-9c89-4ca5-8912-9bf13de75d6f"
      },
      "execution_count": 477,
      "outputs": [
        {
          "output_type": "stream",
          "name": "stdout",
          "text": [
            "0.7387999999999999\n"
          ]
        }
      ]
    },
    {
      "cell_type": "markdown",
      "source": [
        "**Cierre anterior**"
      ],
      "metadata": {
        "id": "7FIkoE00W8ab"
      }
    },
    {
      "cell_type": "code",
      "source": [
        "l16=Prueba[\"l16\"]= Cierre_precio_anterior_Argentina/100\n",
        "print(l16)"
      ],
      "metadata": {
        "colab": {
          "base_uri": "https://localhost:8080/"
        },
        "id": "2UtkOUMVW2q5",
        "outputId": "d8a46cb2-4dcd-4373-9058-f89a275138ba"
      },
      "execution_count": 478,
      "outputs": [
        {
          "output_type": "stream",
          "name": "stdout",
          "text": [
            "0.7264\n"
          ]
        }
      ]
    },
    {
      "cell_type": "markdown",
      "source": [
        "**Cierre a 5 dias**"
      ],
      "metadata": {
        "id": "BMIg1ZL3XK4N"
      }
    },
    {
      "cell_type": "code",
      "source": [
        "q16=Prueba[\"q16\"]= Cierre_precio_anterior5dias_Argentina/100\n",
        "print(q16)"
      ],
      "metadata": {
        "colab": {
          "base_uri": "https://localhost:8080/"
        },
        "id": "zSVYAaL5XQK6",
        "outputId": "f65a8fd3-0386-46c7-e8d0-41b74ddd45d4"
      },
      "execution_count": 479,
      "outputs": [
        {
          "output_type": "stream",
          "name": "stdout",
          "text": [
            "0.6690999999999999\n"
          ]
        }
      ]
    },
    {
      "cell_type": "markdown",
      "source": [
        "**Colombia**"
      ],
      "metadata": {
        "id": "t4bqgt_bXBCH"
      }
    },
    {
      "cell_type": "markdown",
      "source": [
        "**Apertura**"
      ],
      "metadata": {
        "id": "t99LG3EOXM5Z"
      }
    },
    {
      "cell_type": "code",
      "source": [
        "k17=Prueba[\"k17\"]= Apertura_Colombia/100\n",
        "print(k17)"
      ],
      "metadata": {
        "colab": {
          "base_uri": "https://localhost:8080/"
        },
        "id": "QxNWm8o8XSwH",
        "outputId": "0c9da9f9-5d16-41c1-d788-c25be6f10b1a"
      },
      "execution_count": 480,
      "outputs": [
        {
          "output_type": "stream",
          "name": "stdout",
          "text": [
            "0.087\n"
          ]
        }
      ]
    },
    {
      "cell_type": "markdown",
      "source": [
        "**Cierre anterior**"
      ],
      "metadata": {
        "id": "hS9x3Gz7XOZc"
      }
    },
    {
      "cell_type": "code",
      "source": [
        "l27=Prueba[\"l17\"]= Cierre_precio_anterior_Colombia/100\n",
        "print(l27)"
      ],
      "metadata": {
        "colab": {
          "base_uri": "https://localhost:8080/"
        },
        "id": "lacJoTnWXTZG",
        "outputId": "50db8da1-2ed5-4de6-8453-4e586e8ef0a3"
      },
      "execution_count": 481,
      "outputs": [
        {
          "output_type": "stream",
          "name": "stdout",
          "text": [
            "0.0874\n"
          ]
        }
      ]
    },
    {
      "cell_type": "markdown",
      "source": [
        "**Cierre a 5 dias**"
      ],
      "metadata": {
        "id": "tNN8Ex99XSBL"
      }
    },
    {
      "cell_type": "code",
      "source": [
        "q17=Prueba[\"q17\"]= Cierre_precio_anterior5dias_Colombia/100\n",
        "print(q17)"
      ],
      "metadata": {
        "colab": {
          "base_uri": "https://localhost:8080/"
        },
        "id": "DjOHGWvKXUMn",
        "outputId": "1522e792-8dbf-47ae-e395-6c469c00a4cb"
      },
      "execution_count": 482,
      "outputs": [
        {
          "output_type": "stream",
          "name": "stdout",
          "text": [
            "0.0872\n"
          ]
        }
      ]
    },
    {
      "cell_type": "markdown",
      "source": [
        "**Peru**"
      ],
      "metadata": {
        "id": "dyACtg4RXWDP"
      }
    },
    {
      "cell_type": "markdown",
      "source": [
        "**Apertura**"
      ],
      "metadata": {
        "id": "2fK-jpryXcos"
      }
    },
    {
      "cell_type": "code",
      "source": [
        "k18=Prueba[\"k18\"]= Apertura_Peru/100\n",
        "print(k18)"
      ],
      "metadata": {
        "colab": {
          "base_uri": "https://localhost:8080/"
        },
        "id": "Pnqi1KGBXgUE",
        "outputId": "621032bb-b56b-48c5-8d29-fc866b919fda"
      },
      "execution_count": 483,
      "outputs": [
        {
          "output_type": "stream",
          "name": "stdout",
          "text": [
            "0.061200000000000004\n"
          ]
        }
      ]
    },
    {
      "cell_type": "markdown",
      "source": [
        "**Cierre anterior**"
      ],
      "metadata": {
        "id": "VfDBugiiXd7A"
      }
    },
    {
      "cell_type": "code",
      "source": [
        "l18=Prueba[\"l18\"]= Cierre_precio_anterior_Peru/100\n",
        "print(l18)"
      ],
      "metadata": {
        "colab": {
          "base_uri": "https://localhost:8080/"
        },
        "id": "2OSZh5rdXg4_",
        "outputId": "5b35243c-939c-4a09-b6e8-e95b4c695937"
      },
      "execution_count": 484,
      "outputs": [
        {
          "output_type": "stream",
          "name": "stdout",
          "text": [
            "0.060700000000000004\n"
          ]
        }
      ]
    },
    {
      "cell_type": "markdown",
      "source": [
        "**Cierre a 5 dias**"
      ],
      "metadata": {
        "id": "xgYgAMq7Xfn4"
      }
    },
    {
      "cell_type": "code",
      "source": [
        "q18=Prueba[\"q18\"]= Cierre_precio_anterior5dias_Peru/100\n",
        "print(q18)"
      ],
      "metadata": {
        "colab": {
          "base_uri": "https://localhost:8080/"
        },
        "id": "v2w1pCCIXhsX",
        "outputId": "c6f591b0-1899-4fe8-c99e-64bcbf0a18a6"
      },
      "execution_count": 485,
      "outputs": [
        {
          "output_type": "stream",
          "name": "stdout",
          "text": [
            "0.060899999999999996\n"
          ]
        }
      ]
    },
    {
      "cell_type": "markdown",
      "source": [
        "**Dolar**"
      ],
      "metadata": {
        "id": "HbBUYYIaXs7w"
      }
    },
    {
      "cell_type": "markdown",
      "source": [
        "**Apertura**"
      ],
      "metadata": {
        "id": "ohbp36BRXx4G"
      }
    },
    {
      "cell_type": "code",
      "source": [
        "k25=Prueba[\"k25\"]= Apertura_Dolar\n",
        "print(k25)"
      ],
      "metadata": {
        "colab": {
          "base_uri": "https://localhost:8080/"
        },
        "id": "eFsNb_NnX8Wt",
        "outputId": "cd73c39d-4c65-4d52-e91c-4a345039bb8c"
      },
      "execution_count": 486,
      "outputs": [
        {
          "output_type": "stream",
          "name": "stdout",
          "text": [
            "3967.41\n"
          ]
        }
      ]
    },
    {
      "cell_type": "markdown",
      "source": [
        "**Cierre anterior**"
      ],
      "metadata": {
        "id": "C3gvSMacXzVy"
      }
    },
    {
      "cell_type": "code",
      "source": [
        "l25=Prueba[\"l25\"]= Cierre_precio_anterior_Dolar\n",
        "print(l25)"
      ],
      "metadata": {
        "colab": {
          "base_uri": "https://localhost:8080/"
        },
        "id": "lDFuGITNX85A",
        "outputId": "fcdcd8b7-c2bb-498e-c2ed-a0b925e13416"
      },
      "execution_count": 487,
      "outputs": [
        {
          "output_type": "stream",
          "name": "stdout",
          "text": [
            "3963.41\n"
          ]
        }
      ]
    },
    {
      "cell_type": "markdown",
      "source": [
        "**Cierre a 5 dias**"
      ],
      "metadata": {
        "id": "5_iival1X01d"
      }
    },
    {
      "cell_type": "code",
      "source": [
        "q25=Prueba[\"q25\"]= Cierre_precio_anterior5dias_Dolar \n",
        "print(q25)"
      ],
      "metadata": {
        "colab": {
          "base_uri": "https://localhost:8080/"
        },
        "id": "kPH9cr8MX9X4",
        "outputId": "ec6b90c2-a4c5-459b-f59d-5ae086af3ac3"
      },
      "execution_count": 488,
      "outputs": [
        {
          "output_type": "stream",
          "name": "stdout",
          "text": [
            "4047.06\n"
          ]
        }
      ]
    },
    {
      "cell_type": "markdown",
      "source": [
        "**Euro**"
      ],
      "metadata": {
        "id": "PqW9fg9SX13X"
      }
    },
    {
      "cell_type": "markdown",
      "source": [
        "**Apertura**"
      ],
      "metadata": {
        "id": "TqvudrYIX5Gv"
      }
    },
    {
      "cell_type": "code",
      "source": [
        "k26=Prueba[\"k26\"]= Apertura_Euro\n",
        "print(k26)"
      ],
      "metadata": {
        "colab": {
          "base_uri": "https://localhost:8080/"
        },
        "id": "ZencNE-HX97Q",
        "outputId": "9e12ab27-6d50-4cb2-f914-0e934bf97e6b"
      },
      "execution_count": 489,
      "outputs": [
        {
          "output_type": "stream",
          "name": "stdout",
          "text": [
            "4544.5\n"
          ]
        }
      ]
    },
    {
      "cell_type": "markdown",
      "source": [
        "**Cierre anterior**"
      ],
      "metadata": {
        "id": "Uf8ERAPAX6a_"
      }
    },
    {
      "cell_type": "code",
      "source": [
        "l26=Prueba[\"l26\"]= Cierre_precio_anterior_Euro\n",
        "print(l26)"
      ],
      "metadata": {
        "colab": {
          "base_uri": "https://localhost:8080/"
        },
        "id": "CZ1JmdkUX-yo",
        "outputId": "7d62731a-05e0-4e1e-d17c-0c33cff43090"
      },
      "execution_count": 490,
      "outputs": [
        {
          "output_type": "stream",
          "name": "stdout",
          "text": [
            "4539.0\n"
          ]
        }
      ]
    },
    {
      "cell_type": "markdown",
      "source": [
        "**Cierre a 5 dias**"
      ],
      "metadata": {
        "id": "irZu1Oj-X7wL"
      }
    },
    {
      "cell_type": "code",
      "source": [
        "q26=Prueba[\"q26\"]= Cierre_precio_anterior5dias_Euro\n",
        "print(q26)"
      ],
      "metadata": {
        "colab": {
          "base_uri": "https://localhost:8080/"
        },
        "id": "--k1-VsLX_XI",
        "outputId": "e3ffe3c8-4fe3-4d77-cc95-27001a5bc050"
      },
      "execution_count": 491,
      "outputs": [
        {
          "output_type": "stream",
          "name": "stdout",
          "text": [
            "4583.0\n"
          ]
        }
      ]
    },
    {
      "cell_type": "code",
      "source": [
        "Nueva_bitacora_py.save(\"Nueva bitacora.xlsx\")"
      ],
      "metadata": {
        "id": "AhOKH9NegyV7"
      },
      "execution_count": 492,
      "outputs": []
    }
  ]
}
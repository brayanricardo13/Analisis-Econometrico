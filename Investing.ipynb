{
  "nbformat": 4,
  "nbformat_minor": 0,
  "metadata": {
    "colab": {
      "name": "Investing",
      "provenance": [],
      "collapsed_sections": [],
      "authorship_tag": "ABX9TyMmdI/GJ+7fl1jwVHenfkem",
      "include_colab_link": true
    },
    "kernelspec": {
      "name": "python3",
      "display_name": "Python 3"
    },
    "language_info": {
      "name": "python"
    }
  },
  "cells": [
    {
      "cell_type": "markdown",
      "metadata": {
        "id": "view-in-github",
        "colab_type": "text"
      },
      "source": [
        "<a href=\"https://colab.research.google.com/github/brayanricardo13/Analisis-Econometrico/blob/main/Investing.ipynb\" target=\"_parent\"><img src=\"https://colab.research.google.com/assets/colab-badge.svg\" alt=\"Open In Colab\"/></a>"
      ]
    },
    {
      "cell_type": "code",
      "metadata": {
        "id": "QVWLUVn2wJWP",
        "colab": {
          "base_uri": "https://localhost:8080/"
        },
        "outputId": "5e05bb82-6a16-41c4-9e7a-4e447bfa681f"
      },
      "source": [
        "pip install investpy"
      ],
      "execution_count": 199,
      "outputs": [
        {
          "output_type": "stream",
          "name": "stdout",
          "text": [
            "Requirement already satisfied: investpy in /usr/local/lib/python3.7/dist-packages (1.0.7)\n",
            "Requirement already satisfied: pandas>=0.25.1 in /usr/local/lib/python3.7/dist-packages (from investpy) (1.1.5)\n",
            "Requirement already satisfied: pytz>=2019.3 in /usr/local/lib/python3.7/dist-packages (from investpy) (2021.3)\n",
            "Requirement already satisfied: numpy>=1.17.2 in /usr/local/lib/python3.7/dist-packages (from investpy) (1.19.5)\n",
            "Requirement already satisfied: Unidecode>=1.1.1 in /usr/local/lib/python3.7/dist-packages (from investpy) (1.3.2)\n",
            "Requirement already satisfied: setuptools>=41.2.0 in /usr/local/lib/python3.7/dist-packages (from investpy) (57.4.0)\n",
            "Requirement already satisfied: lxml>=4.4.1 in /usr/local/lib/python3.7/dist-packages (from investpy) (4.7.1)\n",
            "Requirement already satisfied: requests>=2.22.0 in /usr/local/lib/python3.7/dist-packages (from investpy) (2.23.0)\n",
            "Requirement already satisfied: python-dateutil>=2.7.3 in /usr/local/lib/python3.7/dist-packages (from pandas>=0.25.1->investpy) (2.8.2)\n",
            "Requirement already satisfied: six>=1.5 in /usr/local/lib/python3.7/dist-packages (from python-dateutil>=2.7.3->pandas>=0.25.1->investpy) (1.15.0)\n",
            "Requirement already satisfied: certifi>=2017.4.17 in /usr/local/lib/python3.7/dist-packages (from requests>=2.22.0->investpy) (2021.10.8)\n",
            "Requirement already satisfied: idna<3,>=2.5 in /usr/local/lib/python3.7/dist-packages (from requests>=2.22.0->investpy) (2.10)\n",
            "Requirement already satisfied: chardet<4,>=3.0.2 in /usr/local/lib/python3.7/dist-packages (from requests>=2.22.0->investpy) (3.0.4)\n",
            "Requirement already satisfied: urllib3!=1.25.0,!=1.25.1,<1.26,>=1.21.1 in /usr/local/lib/python3.7/dist-packages (from requests>=2.22.0->investpy) (1.24.3)\n"
          ]
        }
      ]
    },
    {
      "cell_type": "code",
      "metadata": {
        "id": "CHNGAVDnwTMj"
      },
      "source": [
        "import investpy as inv\n",
        "import pandas as pd"
      ],
      "execution_count": 200,
      "outputs": []
    },
    {
      "cell_type": "code",
      "metadata": {
        "id": "E7jx7UfKBceV"
      },
      "source": [
        "from google.colab import files"
      ],
      "execution_count": 201,
      "outputs": []
    },
    {
      "cell_type": "markdown",
      "metadata": {
        "id": "l9vXtOsgYR8m"
      },
      "source": [
        "**Futuros de indices renta variable**"
      ]
    },
    {
      "cell_type": "markdown",
      "metadata": {
        "id": "xG4KMGTDCEqC"
      },
      "source": [
        "**Dow Jones**"
      ]
    },
    {
      "cell_type": "code",
      "metadata": {
        "id": "YF3rdzW2v9dH"
      },
      "source": [
        " ## indices de united states inv.get_indices_list(\"united states\")"
      ],
      "execution_count": 202,
      "outputs": []
    },
    {
      "cell_type": "code",
      "metadata": {
        "id": "1dUthN5S-IZO",
        "colab": {
          "base_uri": "https://localhost:8080/"
        },
        "outputId": "5f6966e6-6b04-4c70-9696-0590ebaf9ca7"
      },
      "source": [
        "dow_jones=inv.search_quotes(text='dow jones futures', products=['indices'],countries=['united states'], n_results=1)\n",
        "print(dow_jones)"
      ],
      "execution_count": 203,
      "outputs": [
        {
          "output_type": "stream",
          "name": "stdout",
          "text": [
            "{\"id_\": 8873, \"name\": \"Dow Jones Futures\", \"symbol\": \"1YMc1\", \"country\": \"united states\", \"tag\": \"/indices/us-30-futures\", \"pair_type\": \"indices\", \"exchange\": \"CME\"}\n"
          ]
        }
      ]
    },
    {
      "cell_type": "code",
      "metadata": {
        "id": "CFk61gI7vPn-",
        "colab": {
          "base_uri": "https://localhost:8080/"
        },
        "outputId": "941100ea-ddb2-4df4-a5ac-4eebf87c01e7"
      },
      "source": [
        "data = inv.get_index_recent_data(index='ibex 35', country='spain')\n",
        "print(data)"
      ],
      "execution_count": 204,
      "outputs": [
        {
          "output_type": "stream",
          "name": "stdout",
          "text": [
            "              Open    High     Low   Close     Volume Currency\n",
            "Date                                                          \n",
            "2021-12-02  8335.7  8390.0  8264.3  8300.8  197930000      EUR\n",
            "2021-12-03  8371.9  8374.3  8210.2  8241.7  169542000      EUR\n",
            "2021-12-06  8323.8  8446.7  8288.6  8439.7  143536000      EUR\n",
            "2021-12-07  8523.6  8560.9  8472.7  8559.5  170695008      EUR\n",
            "2021-12-08  8527.6  8582.4  8462.5  8478.4  221534000      EUR\n",
            "2021-12-09  8490.3  8490.3  8394.3  8399.6  144640000      EUR\n",
            "2021-12-10  8356.7  8410.4  8339.5  8360.2  116319000      EUR\n",
            "2021-12-13  8380.6  8408.9  8289.6  8322.7  140412000      EUR\n",
            "2021-12-14  8358.8  8411.7  8356.2  8378.5  163939008      EUR\n",
            "2021-12-15  8382.9  8382.9  8268.0  8275.0  147414000      EUR\n",
            "2021-12-16  8387.4  8433.7  8356.8  8380.0  198863008      EUR\n",
            "2021-12-17  8328.5  8344.4  8246.8  8311.6  323191008      EUR\n",
            "2021-12-20  8113.5  8271.7  8082.4  8242.4  172112992      EUR\n",
            "2021-12-21  8344.7  8394.2  8274.8  8387.5  143384992      EUR\n",
            "2021-12-22  8388.9  8461.8  8373.2  8459.1  115841000      EUR\n",
            "2021-12-23  8476.8  8587.7  8469.7  8563.7  142487008      EUR\n",
            "2021-12-27  8512.2  8634.3  8508.4  8622.1   93359000      EUR\n",
            "2021-12-28  8623.5  8703.6  8617.0  8688.9   90378000      EUR\n",
            "2021-12-29  8691.5  8697.6  8641.3  8673.7  110776000      EUR\n",
            "2021-12-30  8665.8  8728.0  8661.5  8713.8  127210000      EUR\n"
          ]
        }
      ]
    },
    {
      "cell_type": "markdown",
      "metadata": {
        "id": "gtLhno6-CK8K"
      },
      "source": [
        "**S&p500** "
      ]
    },
    {
      "cell_type": "code",
      "metadata": {
        "id": "AIfgEMHPCbxm",
        "colab": {
          "base_uri": "https://localhost:8080/"
        },
        "outputId": "13964b61-005b-46e4-8f82-612e022b2b56"
      },
      "source": [
        "Standarpoor500=inv.search_quotes(\"S&P 500 Futures\", products=['indices'],countries=['united states'], n_results=1)\n",
        "print(Standarpoor500)"
      ],
      "execution_count": 205,
      "outputs": [
        {
          "output_type": "stream",
          "name": "stdout",
          "text": [
            "{\"id_\": 8839, \"name\": \"S&P 500 Futures\", \"symbol\": \"ESc1\", \"country\": \"united states\", \"tag\": \"/indices/us-spx-500-futures\", \"pair_type\": \"indices\", \"exchange\": \"CME\"}\n"
          ]
        }
      ]
    },
    {
      "cell_type": "markdown",
      "metadata": {
        "id": "26XOOhcSCcX2"
      },
      "source": [
        "**Euro Stoxx 50**"
      ]
    },
    {
      "cell_type": "code",
      "metadata": {
        "id": "GVyjSVfzCeKa",
        "colab": {
          "base_uri": "https://localhost:8080/"
        },
        "outputId": "954c06a9-6b4e-4f4b-f49d-dbc060c7f599"
      },
      "source": [
        "Euro_stoxx_50=inv.search_quotes(text='Euro Stoxx 50 Futures', products=['indices'],countries=['euro zone'], n_results=1)\n",
        "print(Euro_stoxx_50)"
      ],
      "execution_count": 206,
      "outputs": [
        {
          "output_type": "stream",
          "name": "stdout",
          "text": [
            "{\"id_\": 8867, \"name\": \"Euro Stoxx 50 Futures\", \"symbol\": \"EU50\", \"country\": \"euro zone\", \"tag\": \"/indices/eu-stocks-50-futures\", \"pair_type\": \"indices\", \"exchange\": \"Eurex\"}\n"
          ]
        }
      ]
    },
    {
      "cell_type": "markdown",
      "metadata": {
        "id": "TcTs_n0GCena"
      },
      "source": [
        "**Dax (Alemania)**"
      ]
    },
    {
      "cell_type": "code",
      "metadata": {
        "id": "ueXDrPqbCj7b",
        "colab": {
          "base_uri": "https://localhost:8080/"
        },
        "outputId": "f0e5e178-3bfd-42f3-8944-50148a5dae67"
      },
      "source": [
        "Dax_Alemania=inv.search_quotes(text='DAX Futures', products=['indices'],countries=['germany'], n_results=1)\n",
        "print(Dax_Alemania)"
      ],
      "execution_count": 207,
      "outputs": [
        {
          "output_type": "stream",
          "name": "stdout",
          "text": [
            "{\"id_\": 8826, \"name\": \"DAX Futures\", \"symbol\": \"DE30\", \"country\": \"germany\", \"tag\": \"/indices/germany-30-futures\", \"pair_type\": \"indices\", \"exchange\": \"Eurex\"}\n"
          ]
        }
      ]
    },
    {
      "cell_type": "markdown",
      "metadata": {
        "id": "x8i_3KHMCkdZ"
      },
      "source": [
        "**Nikkei (Japón)**"
      ]
    },
    {
      "cell_type": "code",
      "metadata": {
        "id": "QkdjzXzMCrrI",
        "colab": {
          "base_uri": "https://localhost:8080/"
        },
        "outputId": "9fac29e0-f753-40d1-ce5f-f31818afcdae"
      },
      "source": [
        "Nikkei_japon=inv.search_quotes(text='Nikkei 225 Futures', products=['indices'],countries=['japan'], n_results=1)\n",
        "print(Nikkei_japon)"
      ],
      "execution_count": 208,
      "outputs": [
        {
          "output_type": "stream",
          "name": "stdout",
          "text": [
            "{\"id_\": 8859, \"name\": \"Nikkei 225 Futures\", \"symbol\": \"JP225\", \"country\": \"japan\", \"tag\": \"/indices/japan-225-futures\", \"pair_type\": \"indices\", \"exchange\": \"OSE\"}\n"
          ]
        }
      ]
    },
    {
      "cell_type": "markdown",
      "metadata": {
        "id": "b_6kv2VqCt4i"
      },
      "source": [
        "**Hang Seng (China)**"
      ]
    },
    {
      "cell_type": "code",
      "metadata": {
        "id": "9csxbgZeCvfC"
      },
      "source": [
        ""
      ],
      "execution_count": 208,
      "outputs": []
    },
    {
      "cell_type": "markdown",
      "metadata": {
        "id": "uAOISXZUw-cV"
      },
      "source": [
        "**Indices Renta variable Sudamerica**"
      ]
    },
    {
      "cell_type": "markdown",
      "metadata": {
        "id": "z75vbO46EcND"
      },
      "source": [
        "**Brasil**"
      ]
    },
    {
      "cell_type": "code",
      "metadata": {
        "id": "Rg5r9Fp5EqEd",
        "colab": {
          "base_uri": "https://localhost:8080/"
        },
        "outputId": "d457450d-2d59-45b3-c7d0-28ccfd666c8b"
      },
      "source": [
        "inv.get_indices_list(\"brazil\")"
      ],
      "execution_count": 209,
      "outputs": [
        {
          "output_type": "execute_result",
          "data": {
            "text/plain": [
              "['MSCI Brazil Net USD',\n",
              " 'DJ Brazil',\n",
              " 'TR Brazil 50',\n",
              " 'MSCI Brazil Price USD',\n",
              " 'DJ Brazil Titans 20 ADR',\n",
              " 'BNY Mellon Brazil ADR',\n",
              " 'BNY Mellon Brazil ADR TR',\n",
              " 'BNY Mellon Brazil Classic ADR',\n",
              " 'BNY Mellon Brazil Classic ADR TR',\n",
              " 'FTSE RAFI Brazil 50',\n",
              " 'MSCI Brazil 10 40',\n",
              " 'DJ BRIC Brazil 15 Capped NTR',\n",
              " 'DJ BRIC Brazil 15 USD',\n",
              " 'DJ BRIC Brazil 15 EUR',\n",
              " 'FTSE Brazil Infrastructure Extended',\n",
              " 'MSCI Brazil Gross',\n",
              " 'DJ Brazil Titans 20 ADR TR',\n",
              " 'MSCI Brazil 25-50 Price',\n",
              " 'MSCI Brazil 20-50 Gross Return',\n",
              " 'MSCI Brazil 25-50 Net Return',\n",
              " 'FTSE Brazil Infrastructure Extended USD PR',\n",
              " 'FTSE Brazil Infrastructure Extended Total Return',\n",
              " 'FTSE Brazil Infrastructure Extended Net Tax Total',\n",
              " 'FTSE Brazil Infrastructure Extended Net Tax USD TR',\n",
              " 'DJ BRIC Brazil 15 DR',\n",
              " 'MSCI Brazil',\n",
              " 'BM&FBOVESPA Unsponsored BDRX',\n",
              " 'Small Cap Index',\n",
              " 'Tag Along',\n",
              " 'Brazil broad-Based',\n",
              " 'Brazil Index',\n",
              " 'Mid-Large Cap Index',\n",
              " 'Public Utilities',\n",
              " 'BM&FBOVESPA Real Estate IFIX',\n",
              " 'Financials',\n",
              " 'Carbon Efficient',\n",
              " 'Corporate Governance IGCNM',\n",
              " 'Bovespa Dividend',\n",
              " 'Brazil 50',\n",
              " 'Corporate Gov Trade',\n",
              " 'FTSE Brazil',\n",
              " 'Ibovespa EUR',\n",
              " 'Ibovespa USD',\n",
              " 'IVBX',\n",
              " 'IGCX',\n",
              " 'Consumption',\n",
              " 'Industrial Sector',\n",
              " 'Electrical Energy',\n",
              " 'Basic Materials',\n",
              " 'Bovespa',\n",
              " 'Corporate Sustainability',\n",
              " 'Real Estate']"
            ]
          },
          "metadata": {},
          "execution_count": 209
        }
      ]
    },
    {
      "cell_type": "code",
      "metadata": {
        "id": "AUu9-_5MEyhD",
        "colab": {
          "base_uri": "https://localhost:8080/"
        },
        "outputId": "24b77055-3c18-4463-ffa4-45b4766382bb"
      },
      "source": [
        "data1=inv.get_index_recent_data(\"Bovespa\",country=\"brazil\")\n",
        "Bovespa=data1[[\"Close\",\"Open\"]].tail()\n",
        "print(Bovespa)"
      ],
      "execution_count": 210,
      "outputs": [
        {
          "output_type": "stream",
          "name": "stdout",
          "text": [
            "               Close      Open\n",
            "Date                          \n",
            "2021-12-23  104891.0  105251.0\n",
            "2021-12-27  105554.0  104892.0\n",
            "2021-12-28  104864.0  105555.0\n",
            "2021-12-29  104107.0  104863.0\n",
            "2021-12-30  104822.0  104106.0\n"
          ]
        }
      ]
    },
    {
      "cell_type": "code",
      "metadata": {
        "id": "cjz5AAbUFAGz"
      },
      "source": [
        "## No es necesario\n",
        "## Historica_data1 =inv.get_index_historical_data(\"bovespa\",country=\"brazil\",from_date=\"05/09/2021\",to_date=\"10/09/2021\")\n",
        "## print(Historica_data1)"
      ],
      "execution_count": 211,
      "outputs": []
    },
    {
      "cell_type": "markdown",
      "metadata": {
        "id": "MnvD9JPpFb9O"
      },
      "source": [
        "**Mexico**"
      ]
    },
    {
      "cell_type": "code",
      "metadata": {
        "id": "0yGL7xYBFiA8",
        "colab": {
          "base_uri": "https://localhost:8080/"
        },
        "outputId": "ac96ea46-b6ac-48bb-c468-e8f8e381624c"
      },
      "source": [
        "inv.get_indices_list(\"Mexico\")"
      ],
      "execution_count": 212,
      "outputs": [
        {
          "output_type": "execute_result",
          "data": {
            "text/plain": [
              "['S&P/BMV IRT LargeCap',\n",
              " 'S&P/BMV IRT MidCap',\n",
              " 'S&P/BMV IRT SmallCap',\n",
              " 'S&P/BMV IMeBz',\n",
              " 'S&P/BMV IMeBz RT',\n",
              " 'MSCI Mexico Gross',\n",
              " 'BURSA OPTIMO RT',\n",
              " 'BNY Mellon Mexico Classic ADR',\n",
              " 'BNY Mellon Mexico ADR TR',\n",
              " 'BNY Mellon Mexico ADR',\n",
              " 'NQ Mexico Financials',\n",
              " 'DJ Mexico USD',\n",
              " 'DJ Mexico',\n",
              " 'MSCI Mexico',\n",
              " 'BNY Mellon Mexico Classic ADR TR',\n",
              " 'S&P/BMV IRT CompMx',\n",
              " 'MSCI Mexico Special Capping Net USD',\n",
              " 'S&P/BMV IPC SUSTENTABLE RT',\n",
              " 'S&P/BMV-EXTR RT',\n",
              " 'S&P/BMV-COMERCIO RT',\n",
              " 'Banamex',\n",
              " 'FTSE BIVA Eod Net Tax',\n",
              " 'FTSE BIVA EOD Price',\n",
              " 'FTSE BIVA EOD TR',\n",
              " 'FTSE BIVA Real Time Net Tax',\n",
              " 'FTSE BIVA Real Time Total Return',\n",
              " 'FTSE Mexico',\n",
              " 'Mexico 50',\n",
              " 'S&P/BMV BMBra 15',\n",
              " 'S&P/BMV BMBra 15 RT',\n",
              " 'S&P/BMV-SRVCM RT',\n",
              " 'S&P/BMV DDBOL',\n",
              " 'S&P/BMV IRT',\n",
              " 'S&P/BMV-MAT RT',\n",
              " 'S&P/BMV-TRANS RT',\n",
              " 'S&P/BMV-ENL RT',\n",
              " 'S&P/BMV-INDU RT',\n",
              " 'S&P/BMV-MAT',\n",
              " 'S&P/BMV-INDU',\n",
              " 'S&P/BMV HABITA',\n",
              " 'S&P/BMV SALUD',\n",
              " 'S&P/BMV SERVS FINAN',\n",
              " 'S&P/BMV PROD CONS FREC',\n",
              " 'S&P/BMV SRVS CONS NO BCO',\n",
              " 'FTSE BIVA Real Time Price',\n",
              " 'S&P/BMV-SRVCM',\n",
              " 'S&P/BMV IPC CompMx',\n",
              " 'S&P/BMV IMC30',\n",
              " 'S&P/BMV-CONST RT',\n",
              " 'S&P/BMV-ICF RT',\n",
              " 'S&P/BMV-SERV RT',\n",
              " 'S&P/BMV-FINAN RT',\n",
              " 'S&P/BMV HABITA RT',\n",
              " 'S&P/BMV IPC',\n",
              " 'S&P/BMV TELECOM',\n",
              " 'S&P/BMV INMEX',\n",
              " 'S&P/BMV IPC MidCap',\n",
              " 'S&P/BMV IPC LargeCap',\n",
              " 'S&P/BMV DIBOL',\n",
              " 'S&P/BMV IPC SUSTENTABLE',\n",
              " 'S&P/BMV IPC SmallCap']"
            ]
          },
          "metadata": {},
          "execution_count": 212
        }
      ]
    },
    {
      "cell_type": "code",
      "metadata": {
        "id": "aWEMdeslFngE",
        "colab": {
          "base_uri": "https://localhost:8080/"
        },
        "outputId": "67810d9b-3a78-425f-ba50-5979dc00bde6"
      },
      "source": [
        "data2=inv.get_index_recent_data(\"S&P/BMV IPC\",country=\"Mexico\")\n",
        "Mexico=data2[[\"Close\",\"Open\"]].tail()\n",
        "print(Mexico)"
      ],
      "execution_count": 213,
      "outputs": [
        {
          "output_type": "stream",
          "name": "stdout",
          "text": [
            "               Close      Open\n",
            "Date                          \n",
            "2021-12-27  53259.56  52853.66\n",
            "2021-12-28  53238.48  53201.69\n",
            "2021-12-29  52748.93  53223.76\n",
            "2021-12-30  53175.25  52809.78\n",
            "2021-12-31  53272.44  53099.77\n"
          ]
        }
      ]
    },
    {
      "cell_type": "code",
      "metadata": {
        "id": "KO_dMz3DGB2h"
      },
      "source": [
        "## No es necesario\n",
        "## Historica_data2 =inv.get_index_historical_data(\"COLCAP\",country=\"Colombia\",from_date=\"05/09/2021\",to_date=\"10/09/2021\")\n",
        "## print(Historica_data2)"
      ],
      "execution_count": 214,
      "outputs": []
    },
    {
      "cell_type": "markdown",
      "metadata": {
        "id": "XLqQ8FD_GMfr"
      },
      "source": [
        "**Chile**"
      ]
    },
    {
      "cell_type": "code",
      "metadata": {
        "id": "0cl_uW4kGPYe",
        "colab": {
          "base_uri": "https://localhost:8080/"
        },
        "outputId": "22bc90b1-1389-40db-ac93-0aaf42f44a2a"
      },
      "source": [
        "inv.get_indices_list(\"chile\")"
      ],
      "execution_count": 215,
      "outputs": [
        {
          "output_type": "execute_result",
          "data": {
            "text/plain": [
              "['BNY Mellon Chile ADR TR',\n",
              " 'Inter 10',\n",
              " 'FTSE Chile',\n",
              " 'S&P CLX IPSA',\n",
              " 'BNY Mellon Chile ADR',\n",
              " 'S&P CLX IGPA',\n",
              " 'DJ Chile',\n",
              " 'MSCI Chile Net USD',\n",
              " 'MSCI Chile',\n",
              " 'DJ Chile USD']"
            ]
          },
          "metadata": {},
          "execution_count": 215
        }
      ]
    },
    {
      "cell_type": "code",
      "metadata": {
        "id": "L6fyDg-YGV1F",
        "colab": {
          "base_uri": "https://localhost:8080/"
        },
        "outputId": "fe29edf5-8f66-45c1-b7f0-7d32c1687990"
      },
      "source": [
        "data3=inv.get_index_recent_data(\"S&P CLX IPSA \",country=\"chile\")\n",
        "Chile=data3[[\"Close\",\"Open\"]].tail()\n",
        "print(Chile)"
      ],
      "execution_count": 216,
      "outputs": [
        {
          "output_type": "stream",
          "name": "stdout",
          "text": [
            "              Close     Open\n",
            "Date                        \n",
            "2021-12-24  4297.86  4241.63\n",
            "2021-12-27  4281.89  4299.09\n",
            "2021-12-28  4269.37  4281.89\n",
            "2021-12-29  4250.29  4269.37\n",
            "2021-12-30  4300.12  4250.29\n"
          ]
        }
      ]
    },
    {
      "cell_type": "code",
      "metadata": {
        "id": "iuTk1gU9GltO"
      },
      "source": [
        "# No es necesario\n",
        "## Historica_data3 =inv.get_index_historical_data(\"COLCAP\",country=\"Colombia\",from_date=\"05/09/2021\",to_date=\"10/09/2021\")\n",
        "## print(Historica_data3)"
      ],
      "execution_count": 217,
      "outputs": []
    },
    {
      "cell_type": "markdown",
      "metadata": {
        "id": "9xF7odN1ENHE"
      },
      "source": [
        "**Colombia**"
      ]
    },
    {
      "cell_type": "code",
      "metadata": {
        "id": "JQqp994Q0iHw",
        "colab": {
          "base_uri": "https://localhost:8080/"
        },
        "outputId": "bbb18c53-3dab-4315-e978-01e07d7b382a"
      },
      "source": [
        "inv.get_indices_list(\"Colombia\")"
      ],
      "execution_count": 218,
      "outputs": [
        {
          "output_type": "execute_result",
          "data": {
            "text/plain": [
              "['FTSE Colombia',\n",
              " 'COLEQTY',\n",
              " 'COLSC',\n",
              " 'COL20',\n",
              " 'COLIR',\n",
              " 'COL General',\n",
              " 'COL Financial',\n",
              " 'COL Public Services',\n",
              " 'Investment',\n",
              " 'COL Industrial',\n",
              " 'COLCAP',\n",
              " 'MSCI Colombia',\n",
              " 'COL Services']"
            ]
          },
          "metadata": {},
          "execution_count": 218
        }
      ]
    },
    {
      "cell_type": "code",
      "source": [
        "data4=inv.get_index_recent_data(\"COLCAP\",country=\"Colombia\")\n",
        "Colombia=data4[[\"Close\",\"Open\"]].tail()\n",
        "print(Colombia)"
      ],
      "metadata": {
        "id": "gpwWmhHgHhqF",
        "colab": {
          "base_uri": "https://localhost:8080/"
        },
        "outputId": "0fdf8396-35e8-466f-c33d-5291cf489c8f"
      },
      "execution_count": 219,
      "outputs": [
        {
          "output_type": "stream",
          "name": "stdout",
          "text": [
            "              Close     Open\n",
            "Date                        \n",
            "2021-12-24  1401.66  1394.59\n",
            "2021-12-27  1404.62  1401.66\n",
            "2021-12-28  1408.20  1404.58\n",
            "2021-12-29  1415.79  1408.20\n",
            "2021-12-30  1410.97  1415.79\n"
          ]
        }
      ]
    },
    {
      "cell_type": "code",
      "metadata": {
        "id": "UmPjy5e84w6Y"
      },
      "source": [
        "# No es necesario\n",
        "## Historica_data =inv.get_index_historical_data(\"COLCAP\",country=\"Colombia\",from_date=\"05/09/2021\",to_date=\"10/09/2021\")\n",
        "## print(Historica_data)"
      ],
      "execution_count": 220,
      "outputs": []
    },
    {
      "cell_type": "markdown",
      "metadata": {
        "id": "TfHT9MJ0Fk0x"
      },
      "source": [
        "**Materia Primas**"
      ]
    },
    {
      "cell_type": "markdown",
      "metadata": {
        "id": "ZaAJ2gQfGq2g"
      },
      "source": [
        "**Petroleo brent**"
      ]
    },
    {
      "cell_type": "code",
      "metadata": {
        "id": "bSm2XgfWFrfV",
        "colab": {
          "base_uri": "https://localhost:8080/",
          "height": 363
        },
        "outputId": "4d6f58ac-41c0-42a7-f732-3e12031493fc"
      },
      "source": [
        "inv.get_commodities(group=\"energy\")"
      ],
      "execution_count": 221,
      "outputs": [
        {
          "output_type": "execute_result",
          "data": {
            "text/html": [
              "\n",
              "  <div id=\"df-32742281-ea6e-4d42-a8aa-3989206e444d\">\n",
              "    <div class=\"colab-df-container\">\n",
              "      <div>\n",
              "<style scoped>\n",
              "    .dataframe tbody tr th:only-of-type {\n",
              "        vertical-align: middle;\n",
              "    }\n",
              "\n",
              "    .dataframe tbody tr th {\n",
              "        vertical-align: top;\n",
              "    }\n",
              "\n",
              "    .dataframe thead th {\n",
              "        text-align: right;\n",
              "    }\n",
              "</style>\n",
              "<table border=\"1\" class=\"dataframe\">\n",
              "  <thead>\n",
              "    <tr style=\"text-align: right;\">\n",
              "      <th></th>\n",
              "      <th>title</th>\n",
              "      <th>country</th>\n",
              "      <th>name</th>\n",
              "      <th>full_name</th>\n",
              "      <th>currency</th>\n",
              "      <th>group</th>\n",
              "    </tr>\n",
              "  </thead>\n",
              "  <tbody>\n",
              "    <tr>\n",
              "      <th>0</th>\n",
              "      <td>Real Time Streaming Futures Quotes</td>\n",
              "      <td>united kingdom</td>\n",
              "      <td>Brent Oil</td>\n",
              "      <td>Brent Oil Futures</td>\n",
              "      <td>USD</td>\n",
              "      <td>energy</td>\n",
              "    </tr>\n",
              "    <tr>\n",
              "      <th>1</th>\n",
              "      <td>Real Time Streaming Futures Quotes</td>\n",
              "      <td>united states</td>\n",
              "      <td>Crude Oil WTI</td>\n",
              "      <td>Crude Oil WTI Futures</td>\n",
              "      <td>USD</td>\n",
              "      <td>energy</td>\n",
              "    </tr>\n",
              "    <tr>\n",
              "      <th>2</th>\n",
              "      <td>Real Time Streaming Futures Quotes</td>\n",
              "      <td>united kingdom</td>\n",
              "      <td>London Gas Oil</td>\n",
              "      <td>London Gas Oil Futures</td>\n",
              "      <td>USD</td>\n",
              "      <td>energy</td>\n",
              "    </tr>\n",
              "    <tr>\n",
              "      <th>3</th>\n",
              "      <td>Real Time Streaming Futures Quotes</td>\n",
              "      <td>united states</td>\n",
              "      <td>Natural Gas</td>\n",
              "      <td>Natural Gas Futures</td>\n",
              "      <td>USD</td>\n",
              "      <td>energy</td>\n",
              "    </tr>\n",
              "    <tr>\n",
              "      <th>4</th>\n",
              "      <td>Real Time Streaming Futures Quotes</td>\n",
              "      <td>united states</td>\n",
              "      <td>Heating Oil</td>\n",
              "      <td>Heating Oil Futures</td>\n",
              "      <td>USD</td>\n",
              "      <td>energy</td>\n",
              "    </tr>\n",
              "    <tr>\n",
              "      <th>5</th>\n",
              "      <td>Real Time Streaming Futures Quotes</td>\n",
              "      <td>united kingdom</td>\n",
              "      <td>Carbon Emissions</td>\n",
              "      <td>Carbon Emissions Futures</td>\n",
              "      <td>EUR</td>\n",
              "      <td>energy</td>\n",
              "    </tr>\n",
              "    <tr>\n",
              "      <th>6</th>\n",
              "      <td>Real Time Streaming Futures Quotes</td>\n",
              "      <td>united states</td>\n",
              "      <td>Gasoline RBOB</td>\n",
              "      <td>Gasoline RBOB Futures</td>\n",
              "      <td>USD</td>\n",
              "      <td>energy</td>\n",
              "    </tr>\n",
              "    <tr>\n",
              "      <th>7</th>\n",
              "      <td>MCX Futures Market Quotes</td>\n",
              "      <td>india</td>\n",
              "      <td>MCX Brent Oil</td>\n",
              "      <td>Brent Oil Futures</td>\n",
              "      <td>INR</td>\n",
              "      <td>energy</td>\n",
              "    </tr>\n",
              "    <tr>\n",
              "      <th>8</th>\n",
              "      <td>MCX Futures Market Quotes</td>\n",
              "      <td>india</td>\n",
              "      <td>MCX Crude Oil WTI</td>\n",
              "      <td>Crude Oil WTI Futures</td>\n",
              "      <td>INR</td>\n",
              "      <td>energy</td>\n",
              "    </tr>\n",
              "    <tr>\n",
              "      <th>9</th>\n",
              "      <td>MCX Futures Market Quotes</td>\n",
              "      <td>india</td>\n",
              "      <td>MCX Natural Gas</td>\n",
              "      <td>Natural Gas Futures</td>\n",
              "      <td>INR</td>\n",
              "      <td>energy</td>\n",
              "    </tr>\n",
              "  </tbody>\n",
              "</table>\n",
              "</div>\n",
              "      <button class=\"colab-df-convert\" onclick=\"convertToInteractive('df-32742281-ea6e-4d42-a8aa-3989206e444d')\"\n",
              "              title=\"Convert this dataframe to an interactive table.\"\n",
              "              style=\"display:none;\">\n",
              "        \n",
              "  <svg xmlns=\"http://www.w3.org/2000/svg\" height=\"24px\"viewBox=\"0 0 24 24\"\n",
              "       width=\"24px\">\n",
              "    <path d=\"M0 0h24v24H0V0z\" fill=\"none\"/>\n",
              "    <path d=\"M18.56 5.44l.94 2.06.94-2.06 2.06-.94-2.06-.94-.94-2.06-.94 2.06-2.06.94zm-11 1L8.5 8.5l.94-2.06 2.06-.94-2.06-.94L8.5 2.5l-.94 2.06-2.06.94zm10 10l.94 2.06.94-2.06 2.06-.94-2.06-.94-.94-2.06-.94 2.06-2.06.94z\"/><path d=\"M17.41 7.96l-1.37-1.37c-.4-.4-.92-.59-1.43-.59-.52 0-1.04.2-1.43.59L10.3 9.45l-7.72 7.72c-.78.78-.78 2.05 0 2.83L4 21.41c.39.39.9.59 1.41.59.51 0 1.02-.2 1.41-.59l7.78-7.78 2.81-2.81c.8-.78.8-2.07 0-2.86zM5.41 20L4 18.59l7.72-7.72 1.47 1.35L5.41 20z\"/>\n",
              "  </svg>\n",
              "      </button>\n",
              "      \n",
              "  <style>\n",
              "    .colab-df-container {\n",
              "      display:flex;\n",
              "      flex-wrap:wrap;\n",
              "      gap: 12px;\n",
              "    }\n",
              "\n",
              "    .colab-df-convert {\n",
              "      background-color: #E8F0FE;\n",
              "      border: none;\n",
              "      border-radius: 50%;\n",
              "      cursor: pointer;\n",
              "      display: none;\n",
              "      fill: #1967D2;\n",
              "      height: 32px;\n",
              "      padding: 0 0 0 0;\n",
              "      width: 32px;\n",
              "    }\n",
              "\n",
              "    .colab-df-convert:hover {\n",
              "      background-color: #E2EBFA;\n",
              "      box-shadow: 0px 1px 2px rgba(60, 64, 67, 0.3), 0px 1px 3px 1px rgba(60, 64, 67, 0.15);\n",
              "      fill: #174EA6;\n",
              "    }\n",
              "\n",
              "    [theme=dark] .colab-df-convert {\n",
              "      background-color: #3B4455;\n",
              "      fill: #D2E3FC;\n",
              "    }\n",
              "\n",
              "    [theme=dark] .colab-df-convert:hover {\n",
              "      background-color: #434B5C;\n",
              "      box-shadow: 0px 1px 3px 1px rgba(0, 0, 0, 0.15);\n",
              "      filter: drop-shadow(0px 1px 2px rgba(0, 0, 0, 0.3));\n",
              "      fill: #FFFFFF;\n",
              "    }\n",
              "  </style>\n",
              "\n",
              "      <script>\n",
              "        const buttonEl =\n",
              "          document.querySelector('#df-32742281-ea6e-4d42-a8aa-3989206e444d button.colab-df-convert');\n",
              "        buttonEl.style.display =\n",
              "          google.colab.kernel.accessAllowed ? 'block' : 'none';\n",
              "\n",
              "        async function convertToInteractive(key) {\n",
              "          const element = document.querySelector('#df-32742281-ea6e-4d42-a8aa-3989206e444d');\n",
              "          const dataTable =\n",
              "            await google.colab.kernel.invokeFunction('convertToInteractive',\n",
              "                                                     [key], {});\n",
              "          if (!dataTable) return;\n",
              "\n",
              "          const docLinkHtml = 'Like what you see? Visit the ' +\n",
              "            '<a target=\"_blank\" href=https://colab.research.google.com/notebooks/data_table.ipynb>data table notebook</a>'\n",
              "            + ' to learn more about interactive tables.';\n",
              "          element.innerHTML = '';\n",
              "          dataTable['output_type'] = 'display_data';\n",
              "          await google.colab.output.renderOutput(dataTable, element);\n",
              "          const docLink = document.createElement('div');\n",
              "          docLink.innerHTML = docLinkHtml;\n",
              "          element.appendChild(docLink);\n",
              "        }\n",
              "      </script>\n",
              "    </div>\n",
              "  </div>\n",
              "  "
            ],
            "text/plain": [
              "                                title         country  ... currency   group\n",
              "0  Real Time Streaming Futures Quotes  united kingdom  ...      USD  energy\n",
              "1  Real Time Streaming Futures Quotes   united states  ...      USD  energy\n",
              "2  Real Time Streaming Futures Quotes  united kingdom  ...      USD  energy\n",
              "3  Real Time Streaming Futures Quotes   united states  ...      USD  energy\n",
              "4  Real Time Streaming Futures Quotes   united states  ...      USD  energy\n",
              "5  Real Time Streaming Futures Quotes  united kingdom  ...      EUR  energy\n",
              "6  Real Time Streaming Futures Quotes   united states  ...      USD  energy\n",
              "7           MCX Futures Market Quotes           india  ...      INR  energy\n",
              "8           MCX Futures Market Quotes           india  ...      INR  energy\n",
              "9           MCX Futures Market Quotes           india  ...      INR  energy\n",
              "\n",
              "[10 rows x 6 columns]"
            ]
          },
          "metadata": {},
          "execution_count": 221
        }
      ]
    },
    {
      "cell_type": "code",
      "metadata": {
        "id": "c--CN3WAG9p3",
        "colab": {
          "base_uri": "https://localhost:8080/"
        },
        "outputId": "bae68fa3-40b9-49c8-d38f-6bfcc6f47bff"
      },
      "source": [
        "brent=inv.get_commodity_recent_data(\"Brent Oil\",country=\"united kingdom\")\n",
        "brent10=brent[[\"Close\",\"Open\"]].tail()\n",
        "print(brent10)"
      ],
      "execution_count": 222,
      "outputs": [
        {
          "output_type": "stream",
          "name": "stdout",
          "text": [
            "            Close   Open\n",
            "Date                    \n",
            "2021-12-28  78.94  78.67\n",
            "2021-12-29  79.23  79.28\n",
            "2021-12-30  79.32  79.19\n",
            "2021-12-31  77.78  78.81\n",
            "2022-01-02  78.38  78.17\n"
          ]
        }
      ]
    },
    {
      "cell_type": "markdown",
      "metadata": {
        "id": "yrvoK7DjGunG"
      },
      "source": [
        "**Petroleo WTI**"
      ]
    },
    {
      "cell_type": "code",
      "metadata": {
        "id": "6kNi6d5nG0PW",
        "colab": {
          "base_uri": "https://localhost:8080/"
        },
        "outputId": "f8e144ff-3aa0-4e71-f246-445d5682eea1"
      },
      "source": [
        "WTI=inv.get_commodity_recent_data(\"Crude Oil WTI\",country=\"united states\")\n",
        "WTI10=WTI[[\"Close\",\"Open\"]].tail()\n",
        "print(WTI10)"
      ],
      "execution_count": 223,
      "outputs": [
        {
          "output_type": "stream",
          "name": "stdout",
          "text": [
            "            Close   Open\n",
            "Date                    \n",
            "2021-12-28  75.98  75.97\n",
            "2021-12-29  76.56  76.04\n",
            "2021-12-30  76.99  76.58\n",
            "2021-12-31  75.21  76.66\n",
            "2022-01-02  75.78  75.62\n"
          ]
        }
      ]
    },
    {
      "cell_type": "markdown",
      "metadata": {
        "id": "K6ZObKHYH-Nf"
      },
      "source": [
        "**Oro**"
      ]
    },
    {
      "cell_type": "code",
      "metadata": {
        "id": "zScHHevlNP4e"
      },
      "source": [
        "inv.get_commodities(group=\"metals\")"
      ],
      "execution_count": null,
      "outputs": []
    },
    {
      "cell_type": "code",
      "metadata": {
        "id": "fA3vUDs9wMRE",
        "colab": {
          "base_uri": "https://localhost:8080/"
        },
        "outputId": "88f2f7af-d597-4d0a-b017-d44fd0936b5c"
      },
      "source": [
        "Oro=inv.get_commodity_recent_data(\"gold\")\n",
        "Oro10=Oro[[\"Close\",\"Open\"]].tail()\n",
        "print(Oro10)"
      ],
      "execution_count": 225,
      "outputs": [
        {
          "output_type": "stream",
          "name": "stdout",
          "text": [
            "             Close     Open\n",
            "Date                       \n",
            "2021-12-28  1810.9  1812.10\n",
            "2021-12-29  1805.8  1806.60\n",
            "2021-12-30  1814.1  1805.60\n",
            "2021-12-31  1828.6  1817.00\n",
            "2022-01-02  1830.0  1830.15\n"
          ]
        }
      ]
    },
    {
      "cell_type": "markdown",
      "metadata": {
        "id": "iXzWdAMIIFuG"
      },
      "source": [
        "**Cobre**"
      ]
    },
    {
      "cell_type": "code",
      "metadata": {
        "id": "hZZWyqzzNQU3",
        "colab": {
          "base_uri": "https://localhost:8080/"
        },
        "outputId": "76b552e9-4b60-413b-e640-bbbc5c31d630"
      },
      "source": [
        "Cobre=inv.get_commodity_recent_data(\"copper\",country=\"united states\")\n",
        "Cobre10=Cobre[[\"Close\",\"Open\"]].tail()\n",
        "print(Cobre10)"
      ],
      "execution_count": 226,
      "outputs": [
        {
          "output_type": "stream",
          "name": "stdout",
          "text": [
            "             Close    Open\n",
            "Date                      \n",
            "2021-12-28  4.4200  4.4580\n",
            "2021-12-29  4.4020  4.4120\n",
            "2021-12-30  4.3925  4.4143\n",
            "2021-12-31  4.4595  4.3918\n",
            "2022-01-02  4.4595  4.4618\n"
          ]
        }
      ]
    },
    {
      "cell_type": "markdown",
      "metadata": {
        "id": "SlR69UDdIJI1"
      },
      "source": [
        "**Maiz**"
      ]
    },
    {
      "cell_type": "code",
      "metadata": {
        "id": "CDAqj7TXymFS"
      },
      "source": [
        "inv.get_commodities(group=\"grains\")"
      ],
      "execution_count": null,
      "outputs": []
    },
    {
      "cell_type": "code",
      "metadata": {
        "id": "GkxUAABdNQz5",
        "colab": {
          "base_uri": "https://localhost:8080/"
        },
        "outputId": "3a6e0a8f-139e-4720-867e-b4e987f0a1a8"
      },
      "source": [
        "Maiz=inv.get_commodity_recent_data(\"US Corn\",country=\"united states\")\n",
        "Maiz10=Maiz[[\"Close\",\"Open\"]].tail()\n",
        "print(Maiz10)"
      ],
      "execution_count": 228,
      "outputs": [
        {
          "output_type": "stream",
          "name": "stdout",
          "text": [
            "             Close    Open\n",
            "Date                      \n",
            "2021-12-27  614.75  608.25\n",
            "2021-12-28  604.75  614.25\n",
            "2021-12-29  605.50  604.00\n",
            "2021-12-30  596.00  605.50\n",
            "2021-12-31  593.25  595.75\n"
          ]
        }
      ]
    },
    {
      "cell_type": "markdown",
      "metadata": {
        "id": "cjUuWNSyIT4p"
      },
      "source": [
        "**Soja**"
      ]
    },
    {
      "cell_type": "code",
      "metadata": {
        "id": "1nrm3ALdNRen",
        "colab": {
          "base_uri": "https://localhost:8080/"
        },
        "outputId": "c8e6de81-b9b8-4763-a08c-e16cf56428c7"
      },
      "source": [
        "soja=inv.get_commodity_recent_data(\"US Soybeans\",country=\"united states\")\n",
        "soja10=soja[[\"Close\",\"Open\"]].tail()\n",
        "print(soja10)"
      ],
      "execution_count": 229,
      "outputs": [
        {
          "output_type": "stream",
          "name": "stdout",
          "text": [
            "              Close     Open\n",
            "Date                        \n",
            "2021-12-28  1359.25  1360.50\n",
            "2021-12-29  1356.50  1359.50\n",
            "2021-12-30  1327.75  1354.75\n",
            "2021-12-31  1328.75  1328.50\n",
            "2022-01-02  1340.62  1340.88\n"
          ]
        }
      ]
    },
    {
      "cell_type": "markdown",
      "metadata": {
        "id": "r0j_iHpsIWpf"
      },
      "source": [
        "**Cafe**"
      ]
    },
    {
      "cell_type": "code",
      "metadata": {
        "id": "2r0SVlcl5PRx"
      },
      "source": [
        "inv.get_commodities(group=\"softs\")"
      ],
      "execution_count": null,
      "outputs": []
    },
    {
      "cell_type": "code",
      "metadata": {
        "id": "r2ADPRAgNSB3",
        "colab": {
          "base_uri": "https://localhost:8080/"
        },
        "outputId": "fd429d74-0d2e-448b-e90f-88bd58041686"
      },
      "source": [
        "Cafe=inv.get_commodity_recent_data(\"US Coffee C\",country=\"united states\")\n",
        "Cafe10=Cafe[[\"Close\",\"Open\"]].tail()\n",
        "print(Cafe10)"
      ],
      "execution_count": 231,
      "outputs": [
        {
          "output_type": "stream",
          "name": "stdout",
          "text": [
            "             Close    Open\n",
            "Date                      \n",
            "2021-12-27  227.05  229.55\n",
            "2021-12-28  225.60  227.90\n",
            "2021-12-29  228.90  225.60\n",
            "2021-12-30  228.85  229.10\n",
            "2021-12-31  226.10  228.50\n"
          ]
        }
      ]
    },
    {
      "cell_type": "markdown",
      "metadata": {
        "id": "2NU8qF3HIc6n"
      },
      "source": [
        "**Azucar**"
      ]
    },
    {
      "cell_type": "code",
      "metadata": {
        "id": "H8TPGZC_NSru",
        "colab": {
          "base_uri": "https://localhost:8080/"
        },
        "outputId": "0ecd819f-1ded-4ced-9496-2f489f1686cf"
      },
      "source": [
        "Azucar=inv.get_commodity_recent_data(\"US Sugar #11\t\",country=\"united states\")\n",
        "Azucar10=Azucar[[\"Close\",\"Open\"]].tail()\n",
        "print(Azucar10)"
      ],
      "execution_count": 232,
      "outputs": [
        {
          "output_type": "stream",
          "name": "stdout",
          "text": [
            "            Close   Open\n",
            "Date                    \n",
            "2021-12-27  19.21  19.15\n",
            "2021-12-28  18.96  19.22\n",
            "2021-12-29  19.10  18.97\n",
            "2021-12-30  18.78  19.10\n",
            "2021-12-31  18.88  18.78\n"
          ]
        }
      ]
    },
    {
      "cell_type": "markdown",
      "metadata": {
        "id": "9-ZodFiyIt7E"
      },
      "source": [
        "**Bonos a 10Años**"
      ]
    },
    {
      "cell_type": "code",
      "metadata": {
        "id": "k4SBEmTyJqft"
      },
      "source": [
        "inv.get_bond_countries()"
      ],
      "execution_count": null,
      "outputs": []
    },
    {
      "cell_type": "markdown",
      "metadata": {
        "id": "S6zrc3EZIxYH"
      },
      "source": [
        "**Desarrollados**"
      ]
    },
    {
      "cell_type": "markdown",
      "metadata": {
        "id": "hr28tn32I6my"
      },
      "source": [
        "**EEUU**"
      ]
    },
    {
      "cell_type": "code",
      "metadata": {
        "id": "0pJNQ8NkLyr_",
        "colab": {
          "base_uri": "https://localhost:8080/"
        },
        "outputId": "02ecf9b3-ea82-4625-9de2-2b4adbd8315c"
      },
      "source": [
        "inv.get_bonds_list(\"united states\")"
      ],
      "execution_count": 234,
      "outputs": [
        {
          "output_type": "execute_result",
          "data": {
            "text/plain": [
              "['U.S. 30Y',\n",
              " 'U.S. 10Y',\n",
              " 'U.S. 7Y',\n",
              " 'U.S. 5Y',\n",
              " 'U.S. 3Y',\n",
              " 'U.S. 3M',\n",
              " 'U.S. 1Y',\n",
              " 'U.S. 6M',\n",
              " 'U.S. 1M',\n",
              " 'U.S. 2Y']"
            ]
          },
          "metadata": {},
          "execution_count": 234
        }
      ]
    },
    {
      "cell_type": "code",
      "metadata": {
        "id": "MHMC6kaeI_t-",
        "colab": {
          "base_uri": "https://localhost:8080/"
        },
        "outputId": "968cd4de-1b57-4e8c-b8c0-2b412af0c77a"
      },
      "source": [
        "Estados_unidos=inv.get_bond_recent_data(bond=\"U.S. 10Y\")\n",
        "Estados_unidos10=Estados_unidos[[\"Close\",\"Open\"]].tail()\n",
        "print(Estados_unidos10)"
      ],
      "execution_count": 235,
      "outputs": [
        {
          "output_type": "stream",
          "name": "stdout",
          "text": [
            "            Close   Open\n",
            "Date                    \n",
            "2021-12-27  1.477  1.486\n",
            "2021-12-28  1.484  1.479\n",
            "2021-12-29  1.556  1.477\n",
            "2021-12-30  1.507  1.551\n",
            "2021-12-31  1.512  1.512\n"
          ]
        }
      ]
    },
    {
      "cell_type": "markdown",
      "metadata": {
        "id": "Xx6E7ZZEMCw8"
      },
      "source": [
        "**Alemania**"
      ]
    },
    {
      "cell_type": "code",
      "metadata": {
        "id": "HFHUq0OoMHJn",
        "colab": {
          "base_uri": "https://localhost:8080/"
        },
        "outputId": "b0a72d95-e533-4e59-c4a1-aaaa1dcd320b"
      },
      "source": [
        "inv.get_bonds_list(\"germany\")"
      ],
      "execution_count": 236,
      "outputs": [
        {
          "output_type": "execute_result",
          "data": {
            "text/plain": [
              "['Germany 10Y',\n",
              " 'Germany 9Y',\n",
              " 'Germany 15Y',\n",
              " 'Germany 8Y',\n",
              " 'Germany 25Y',\n",
              " 'Germany 30Y',\n",
              " 'Germany 20Y',\n",
              " 'Germany 7Y',\n",
              " 'Germany 1Y',\n",
              " 'Germany 5Y',\n",
              " 'Germany 4Y',\n",
              " 'Germany 3Y',\n",
              " 'Germany 2Y',\n",
              " 'Germany 6Y',\n",
              " 'Germany 9M',\n",
              " 'Germany 6M',\n",
              " 'Germany 3M']"
            ]
          },
          "metadata": {},
          "execution_count": 236
        }
      ]
    },
    {
      "cell_type": "code",
      "metadata": {
        "id": "hIG_YwWxOFJv",
        "colab": {
          "base_uri": "https://localhost:8080/"
        },
        "outputId": "4dd73791-d716-42ed-c656-38d2daeacad2"
      },
      "source": [
        "Alemania=inv.get_bond_recent_data(bond=\"Germany 10Y\")\n",
        "Alemania10=Alemania[[\"Close\",\"Open\"]].tail()\n",
        "print(Alemania10)"
      ],
      "execution_count": 237,
      "outputs": [
        {
          "output_type": "stream",
          "name": "stdout",
          "text": [
            "            Close   Open\n",
            "Date                    \n",
            "2021-12-27 -0.244 -0.254\n",
            "2021-12-28 -0.239 -0.241\n",
            "2021-12-29 -0.180 -0.240\n",
            "2021-12-30 -0.176 -0.180\n",
            "2021-12-31 -0.179 -0.179\n"
          ]
        }
      ]
    },
    {
      "cell_type": "markdown",
      "metadata": {
        "id": "JvQbI6OXMPKD"
      },
      "source": [
        "**Reino Unido**"
      ]
    },
    {
      "cell_type": "code",
      "metadata": {
        "id": "BEoxX7u1MViz",
        "colab": {
          "base_uri": "https://localhost:8080/"
        },
        "outputId": "23de0391-1a24-487c-8dbd-de8f3fb9bab2"
      },
      "source": [
        "inv.get_bonds_list(\"United Kingdom\")"
      ],
      "execution_count": 238,
      "outputs": [
        {
          "output_type": "execute_result",
          "data": {
            "text/plain": [
              "['U.K. 40Y',\n",
              " 'U.K. 50Y',\n",
              " 'U.K. 30Y',\n",
              " 'U.K. 25Y',\n",
              " 'U.K. 15Y',\n",
              " 'U.K. 12Y',\n",
              " 'U.K. 10Y',\n",
              " 'U.K. 9Y',\n",
              " 'U.K. 8Y',\n",
              " 'U.K. 20Y',\n",
              " 'U.K. 6Y',\n",
              " 'U.K. 5Y',\n",
              " 'U.K. 4Y',\n",
              " 'U.K. 3Y',\n",
              " 'U.K. 2Y',\n",
              " 'U.K. 1Y',\n",
              " 'U.K. 6M',\n",
              " 'U.K. 3M',\n",
              " 'U.K. 1M',\n",
              " 'U.K. 7Y']"
            ]
          },
          "metadata": {},
          "execution_count": 238
        }
      ]
    },
    {
      "cell_type": "code",
      "metadata": {
        "id": "mC1yyX36OLCh",
        "colab": {
          "base_uri": "https://localhost:8080/"
        },
        "outputId": "474d450b-fce8-47d1-bed6-51649e2b6e07"
      },
      "source": [
        "Reino_unido=inv.get_bond_recent_data(bond=\"U.K. 10Y\")\n",
        "Reino_unido10=Reino_unido[[\"Close\",\"Open\"]].tail()\n",
        "print(Reino_unido10)"
      ],
      "execution_count": 239,
      "outputs": [
        {
          "output_type": "stream",
          "name": "stdout",
          "text": [
            "             Close    Open\n",
            "Date                      \n",
            "2021-12-29  1.0140  0.9260\n",
            "2021-12-30  0.9770  1.0040\n",
            "2021-12-31  0.9720  0.9740\n",
            "2022-01-01  0.9695  0.9695\n",
            "2022-01-02  0.9730  0.9730\n"
          ]
        }
      ]
    },
    {
      "cell_type": "markdown",
      "metadata": {
        "id": "5Rm_c2tQMWOq"
      },
      "source": [
        "**Francia**"
      ]
    },
    {
      "cell_type": "code",
      "metadata": {
        "id": "TQOew382Max3",
        "colab": {
          "base_uri": "https://localhost:8080/"
        },
        "outputId": "6bba882f-84ef-4d46-beeb-c324827375c5"
      },
      "source": [
        "inv.get_bonds_list(\"france\")"
      ],
      "execution_count": 240,
      "outputs": [
        {
          "output_type": "execute_result",
          "data": {
            "text/plain": [
              "['France 8Y',\n",
              " 'France 30Y',\n",
              " 'France 25Y',\n",
              " 'France 20Y',\n",
              " 'France 50Y',\n",
              " 'France 15Y',\n",
              " 'France 10Y',\n",
              " 'France 9Y',\n",
              " 'France 7Y',\n",
              " 'France 9M',\n",
              " 'France 5Y',\n",
              " 'France 4Y',\n",
              " 'France 3Y',\n",
              " 'France 2Y',\n",
              " 'France 1Y',\n",
              " 'France 6M',\n",
              " 'France 3M',\n",
              " 'France 1M',\n",
              " 'France 6Y']"
            ]
          },
          "metadata": {},
          "execution_count": 240
        }
      ]
    },
    {
      "cell_type": "code",
      "metadata": {
        "id": "vbqp_pyFOZG7",
        "colab": {
          "base_uri": "https://localhost:8080/"
        },
        "outputId": "e43c6ee0-3014-403d-8a15-ceaa93a762bf"
      },
      "source": [
        "Francia=inv.get_bond_recent_data(bond=\"France 10Y\")\n",
        "Francia10=Francia[[\"Close\",\"Open\"]].tail()\n",
        "print(Francia10)"
      ],
      "execution_count": 241,
      "outputs": [
        {
          "output_type": "stream",
          "name": "stdout",
          "text": [
            "            Close   Open\n",
            "Date                    \n",
            "2021-12-27  0.127  0.122\n",
            "2021-12-28  0.124  0.129\n",
            "2021-12-29  0.194  0.127\n",
            "2021-12-30  0.199  0.189\n",
            "2021-12-31  0.194  0.192\n"
          ]
        }
      ]
    },
    {
      "cell_type": "markdown",
      "metadata": {
        "id": "PUrwzaETMbHL"
      },
      "source": [
        "**Italia**"
      ]
    },
    {
      "cell_type": "code",
      "metadata": {
        "id": "THR85NXtNIne",
        "colab": {
          "base_uri": "https://localhost:8080/"
        },
        "outputId": "f10c4cb6-0d4c-4f93-8de1-f83882d0d630"
      },
      "source": [
        "inv.get_bonds_list(\"Italy\")"
      ],
      "execution_count": 242,
      "outputs": [
        {
          "output_type": "execute_result",
          "data": {
            "text/plain": [
              "['Italy 50Y',\n",
              " 'Italy 30Y',\n",
              " 'Italy 20Y',\n",
              " 'Italy 15Y',\n",
              " 'Italy 10Y',\n",
              " 'Italy 9Y',\n",
              " 'Italy 8Y',\n",
              " 'Italy 6Y',\n",
              " 'Italy 7Y',\n",
              " 'Italy 4Y',\n",
              " 'Italy 5Y',\n",
              " 'Italy 3M',\n",
              " 'Italy 6M',\n",
              " 'Italy 9M',\n",
              " 'Italy 1M',\n",
              " 'Italy 2Y',\n",
              " 'Italy 3Y',\n",
              " 'Italy 1Y']"
            ]
          },
          "metadata": {},
          "execution_count": 242
        }
      ]
    },
    {
      "cell_type": "code",
      "metadata": {
        "id": "FyMZ1B9COZ5f",
        "colab": {
          "base_uri": "https://localhost:8080/"
        },
        "outputId": "8abedf06-8efe-4a92-dde2-06fdcbf64024"
      },
      "source": [
        "Italia=inv.get_bond_recent_data(bond=\"Italy 10Y\")\n",
        "Italia10=Italia[[\"Close\",\"Open\"]].tail()\n",
        "print(Italia10)"
      ],
      "execution_count": 243,
      "outputs": [
        {
          "output_type": "stream",
          "name": "stdout",
          "text": [
            "            Close   Open\n",
            "Date                    \n",
            "2021-12-27  1.129  1.126\n",
            "2021-12-28  1.101  1.134\n",
            "2021-12-29  1.163  1.108\n",
            "2021-12-30  1.176  1.151\n",
            "2021-12-31  1.185  1.192\n"
          ]
        }
      ]
    },
    {
      "cell_type": "markdown",
      "metadata": {
        "id": "o5yfHBEuMfjM"
      },
      "source": [
        "**Japon**"
      ]
    },
    {
      "cell_type": "code",
      "metadata": {
        "id": "mazN_e0qNJJu",
        "colab": {
          "base_uri": "https://localhost:8080/"
        },
        "outputId": "1908b5fd-9bf4-4e11-d330-d7e30c0d7789"
      },
      "source": [
        "inv.get_bonds_list(\"japan\")"
      ],
      "execution_count": 244,
      "outputs": [
        {
          "output_type": "execute_result",
          "data": {
            "text/plain": [
              "['Japan 7Y',\n",
              " 'Japan 30Y',\n",
              " 'Japan 20Y',\n",
              " 'Japan 15Y',\n",
              " 'Japan 10Y',\n",
              " 'Japan 9Y',\n",
              " 'Japan 8Y',\n",
              " 'Japan 6Y',\n",
              " 'Japan 40Y',\n",
              " 'Japan 4Y',\n",
              " 'Japan 3Y',\n",
              " 'Japan 2Y',\n",
              " 'Japan 1Y',\n",
              " 'Japan 9M',\n",
              " 'Japan 6M',\n",
              " 'Japan 3M',\n",
              " 'Japan 1M',\n",
              " 'Japan 5Y']"
            ]
          },
          "metadata": {},
          "execution_count": 244
        }
      ]
    },
    {
      "cell_type": "code",
      "metadata": {
        "id": "MARdyCtVOalS",
        "colab": {
          "base_uri": "https://localhost:8080/"
        },
        "outputId": "25d4dff5-d4af-400d-c7f8-2293135ca467"
      },
      "source": [
        "Japon=inv.get_bond_recent_data(bond=\"Japan 10Y\")\n",
        "Japon10=Japon[[\"Close\",\"Open\"]].tail()\n",
        "print(Japon10)"
      ],
      "execution_count": 245,
      "outputs": [
        {
          "output_type": "stream",
          "name": "stdout",
          "text": [
            "            Close   Open\n",
            "Date                    \n",
            "2021-12-26  0.060  0.060\n",
            "2021-12-27  0.059  0.063\n",
            "2021-12-28  0.059  0.057\n",
            "2021-12-29  0.059  0.059\n",
            "2021-12-30  0.070  0.065\n"
          ]
        }
      ]
    },
    {
      "cell_type": "markdown",
      "metadata": {
        "id": "rKK9TQ7kMjRD"
      },
      "source": [
        "**Latinoamerica**"
      ]
    },
    {
      "cell_type": "markdown",
      "metadata": {
        "id": "LNiOh-Z9MpBj"
      },
      "source": [
        "**Brasil**"
      ]
    },
    {
      "cell_type": "code",
      "metadata": {
        "id": "zcnN1t2fNKU9",
        "colab": {
          "base_uri": "https://localhost:8080/"
        },
        "outputId": "b0229a43-5948-4df1-a2c3-5f3a61cd10e9"
      },
      "source": [
        "inv.get_bonds_list(\"Brazil\")"
      ],
      "execution_count": 246,
      "outputs": [
        {
          "output_type": "execute_result",
          "data": {
            "text/plain": [
              "['Brazil 3M',\n",
              " 'Brazil 6M',\n",
              " 'Brazil 9M',\n",
              " 'Brazil 1Y',\n",
              " 'Brazil 2Y',\n",
              " 'Brazil 3Y',\n",
              " 'Brazil 5Y',\n",
              " 'Brazil 8Y',\n",
              " 'Brazil 10Y']"
            ]
          },
          "metadata": {},
          "execution_count": 246
        }
      ]
    },
    {
      "cell_type": "code",
      "metadata": {
        "id": "-k_ScMydObo7",
        "colab": {
          "base_uri": "https://localhost:8080/"
        },
        "outputId": "8edee33b-5c44-4388-e90f-c1d0e9209ae9"
      },
      "source": [
        "Brazil=inv.get_bond_recent_data(bond=\"Brazil 10Y\")\n",
        "Brazil10=Brazil[[\"Close\",\"Open\"]].tail()\n",
        "print(Brazil10)"
      ],
      "execution_count": 247,
      "outputs": [
        {
          "output_type": "stream",
          "name": "stdout",
          "text": [
            "            Close   Open\n",
            "Date                    \n",
            "2021-12-23  10.63  10.63\n",
            "2021-12-27  10.35  10.74\n",
            "2021-12-28  10.31  10.75\n",
            "2021-12-29  10.44  10.73\n",
            "2021-12-30  10.31  10.85\n"
          ]
        }
      ]
    },
    {
      "cell_type": "markdown",
      "metadata": {
        "id": "dcIOm9liMtFJ"
      },
      "source": [
        "**Mexico**"
      ]
    },
    {
      "cell_type": "code",
      "metadata": {
        "id": "EYHQ5xwvNK-c",
        "colab": {
          "base_uri": "https://localhost:8080/"
        },
        "outputId": "aa9cb81d-4e1f-49f2-e495-17e8f342dacb"
      },
      "source": [
        "inv.get_bonds_list(\"Mexico\")"
      ],
      "execution_count": 248,
      "outputs": [
        {
          "output_type": "execute_result",
          "data": {
            "text/plain": [
              "['Mexico 7Y',\n",
              " 'Mexico 30Y',\n",
              " 'Mexico 20Y',\n",
              " 'Mexico 15Y',\n",
              " 'Mexico 10Y',\n",
              " 'Mexico 5Y',\n",
              " 'Mexico 1Y',\n",
              " 'Mexico 9M',\n",
              " 'Mexico 3M',\n",
              " 'Mexico 1M',\n",
              " 'Mexico 3Y',\n",
              " 'Mexico 6M']"
            ]
          },
          "metadata": {},
          "execution_count": 248
        }
      ]
    },
    {
      "cell_type": "code",
      "metadata": {
        "id": "RDhFio2sOcSx",
        "colab": {
          "base_uri": "https://localhost:8080/"
        },
        "outputId": "c682a220-7ce3-46eb-b429-3c84331af93f"
      },
      "source": [
        "Mexico=inv.get_bond_recent_data(bond=\"Mexico 10Y\")\n",
        "Mexico10=Mexico[[\"Close\",\"Open\"]].tail()\n",
        "print(Mexico10)"
      ],
      "execution_count": 249,
      "outputs": [
        {
          "output_type": "stream",
          "name": "stdout",
          "text": [
            "            Close   Open\n",
            "Date                    \n",
            "2021-12-28  7.556  7.665\n",
            "2021-12-29  7.586  7.625\n",
            "2021-12-30  7.581  7.646\n",
            "2021-12-31  7.556  7.629\n",
            "2022-01-01  7.819  7.819\n"
          ]
        }
      ]
    },
    {
      "cell_type": "markdown",
      "metadata": {
        "id": "2MwZpJvRMv9O"
      },
      "source": [
        "**Chile**"
      ]
    },
    {
      "cell_type": "code",
      "metadata": {
        "id": "ypZ9JmNENLZm",
        "colab": {
          "base_uri": "https://localhost:8080/"
        },
        "outputId": "cc6f40c5-3a8c-4ee9-fb6c-9ea5fce97df6"
      },
      "source": [
        "inv.get_bonds_list(\"chile\")"
      ],
      "execution_count": 250,
      "outputs": [
        {
          "output_type": "execute_result",
          "data": {
            "text/plain": [
              "['Chile 10Y',\n",
              " 'Chile 8Y',\n",
              " 'Chile 5Y',\n",
              " 'Chile 3Y',\n",
              " 'Chile 2Y',\n",
              " 'Chile 1Y',\n",
              " 'Chile 4Y']"
            ]
          },
          "metadata": {},
          "execution_count": 250
        }
      ]
    },
    {
      "cell_type": "code",
      "metadata": {
        "id": "4WoEuevrOc74",
        "colab": {
          "base_uri": "https://localhost:8080/"
        },
        "outputId": "71a2ee05-b108-474e-8509-d4df32671640"
      },
      "source": [
        "Chile=inv.get_bond_recent_data(bond=\"Chile 10Y\")\n",
        "Chile10=Chile[[\"Close\",\"Open\"]].tail()\n",
        "print(Chile10)"
      ],
      "execution_count": 251,
      "outputs": [
        {
          "output_type": "stream",
          "name": "stdout",
          "text": [
            "            Close  Open\n",
            "Date                   \n",
            "2021-12-27   5.78  5.78\n",
            "2021-12-28   5.74  5.74\n",
            "2021-12-29   5.74  5.74\n",
            "2021-12-30   5.72  5.72\n",
            "2021-12-31   5.77  5.77\n"
          ]
        }
      ]
    },
    {
      "cell_type": "markdown",
      "metadata": {
        "id": "vx8eKrtGM1f0"
      },
      "source": [
        "**Argentina**"
      ]
    },
    {
      "cell_type": "code",
      "metadata": {
        "id": "hGlkCxvoNL-d",
        "colab": {
          "base_uri": "https://localhost:8080/"
        },
        "outputId": "0a91672d-ca2f-4eb9-93c7-1c8b6e690cb8"
      },
      "source": [
        "inv.get_bonds_list(\"argentina\")"
      ],
      "execution_count": 252,
      "outputs": [
        {
          "output_type": "execute_result",
          "data": {
            "text/plain": [
              "['Argentina 1Y', 'Argentina 3Y', 'Argentina 5Y', 'Argentina 9Y']"
            ]
          },
          "metadata": {},
          "execution_count": 252
        }
      ]
    },
    {
      "cell_type": "code",
      "metadata": {
        "id": "j1l9S9lEOdpr",
        "colab": {
          "base_uri": "https://localhost:8080/"
        },
        "outputId": "e3f03858-09ff-4976-d17b-860c08eca118"
      },
      "source": [
        "Argentina=inv.get_bond_recent_data(bond=\"Argentina 1Y\")\n",
        "Argentina10=Argentina[[\"Close\",\"Open\"]].tail()\n",
        "print(Argentina10)"
      ],
      "execution_count": 253,
      "outputs": [
        {
          "output_type": "stream",
          "name": "stdout",
          "text": [
            "            Close   Open\n",
            "Date                    \n",
            "2021-12-23  45.61  56.96\n",
            "2021-12-27  46.22  58.49\n",
            "2021-12-28  43.24  46.85\n",
            "2021-12-29  43.24  43.24\n",
            "2021-12-30  58.74  58.74\n"
          ]
        }
      ]
    },
    {
      "cell_type": "markdown",
      "metadata": {
        "id": "2_RdJM4JM8de"
      },
      "source": [
        "**Colombia**"
      ]
    },
    {
      "cell_type": "code",
      "metadata": {
        "id": "7_3UzmQ4M_zn",
        "colab": {
          "base_uri": "https://localhost:8080/"
        },
        "outputId": "6bd05ea7-f303-4770-93f4-0b74ee0ea2c7"
      },
      "source": [
        "inv.get_bonds_list(\"colombia\")"
      ],
      "execution_count": 254,
      "outputs": [
        {
          "output_type": "execute_result",
          "data": {
            "text/plain": [
              "['Colombia 1Y', 'Colombia 4Y', 'Colombia 5Y', 'Colombia 10Y', 'Colombia 15Y']"
            ]
          },
          "metadata": {},
          "execution_count": 254
        }
      ]
    },
    {
      "cell_type": "code",
      "metadata": {
        "id": "0lbAXwJ6OePv",
        "colab": {
          "base_uri": "https://localhost:8080/"
        },
        "outputId": "db4081e3-46dd-49a8-8048-841b0ca81dc1"
      },
      "source": [
        "Colombia=inv.get_bond_recent_data(bond=\"Colombia 10Y\")\n",
        "Colombia10=Colombia[[\"Close\",\"Open\"]].tail()\n",
        "print(Colombia10)"
      ],
      "execution_count": 255,
      "outputs": [
        {
          "output_type": "stream",
          "name": "stdout",
          "text": [
            "            Close   Open\n",
            "Date                    \n",
            "2021-12-21  8.000  7.950\n",
            "2021-12-22  8.070  8.023\n",
            "2021-12-23  8.100  8.100\n",
            "2021-12-28  8.060  8.055\n",
            "2021-12-29  8.135  8.089\n"
          ]
        }
      ]
    },
    {
      "cell_type": "markdown",
      "metadata": {
        "id": "5-oNZkdGNAKX"
      },
      "source": [
        "**Peru** "
      ]
    },
    {
      "cell_type": "code",
      "metadata": {
        "id": "LMJ4nNWXNHAp",
        "colab": {
          "base_uri": "https://localhost:8080/"
        },
        "outputId": "6687236b-5559-4dca-c5a3-159c627f5fea"
      },
      "source": [
        "inv.get_bonds_list(\"peru\")"
      ],
      "execution_count": 256,
      "outputs": [
        {
          "output_type": "execute_result",
          "data": {
            "text/plain": [
              "['Peru 2Y', 'Peru 5Y', 'Peru 10Y', 'Peru 15Y', 'Peru 20Y', 'Peru 30Y']"
            ]
          },
          "metadata": {},
          "execution_count": 256
        }
      ]
    },
    {
      "cell_type": "code",
      "metadata": {
        "id": "bahdqkDZOe0U",
        "colab": {
          "base_uri": "https://localhost:8080/"
        },
        "outputId": "c1041622-f9b0-4c77-c450-52454c0e9e88"
      },
      "source": [
        "Peru=inv.get_bond_recent_data(bond=\"Peru 10Y\")\n",
        "Peru10=Peru[[\"Close\",\"Open\"]].tail()\n",
        "print(Peru10)"
      ],
      "execution_count": 257,
      "outputs": [
        {
          "output_type": "stream",
          "name": "stdout",
          "text": [
            "            Close   Open\n",
            "Date                    \n",
            "2021-12-21  5.986  5.965\n",
            "2021-12-22  5.979  5.979\n",
            "2021-12-24  5.937  5.937\n",
            "2021-12-28  5.880  5.880\n",
            "2021-12-30  5.915  5.925\n"
          ]
        }
      ]
    },
    {
      "cell_type": "markdown",
      "metadata": {
        "id": "g93HhYTUNuSo"
      },
      "source": [
        "**Monedas**"
      ]
    },
    {
      "cell_type": "markdown",
      "metadata": {
        "id": "6G9b8ApkNw5_"
      },
      "source": [
        "**Dolar**"
      ]
    },
    {
      "cell_type": "code",
      "metadata": {
        "id": "rU_iqnjGN8KG",
        "colab": {
          "base_uri": "https://localhost:8080/"
        },
        "outputId": "ffd389d2-1cea-43c8-cf18-8fef65c55ece"
      },
      "source": [
        "Dolar=inv.get_currency_cross_recent_data(\"USD/COP\")\n",
        "Dolar10=Dolar[[\"Close\",\"Open\"]].tail()\n",
        "print(Dolar10)"
      ],
      "execution_count": 258,
      "outputs": [
        {
          "output_type": "stream",
          "name": "stdout",
          "text": [
            "              Close     Open\n",
            "Date                        \n",
            "2021-12-28  4005.60  4000.00\n",
            "2021-12-29  4034.46  4009.00\n",
            "2021-12-30  4065.41  4039.05\n",
            "2021-12-31  4065.41  4070.00\n",
            "2022-01-02  4070.00  4070.00\n"
          ]
        }
      ]
    },
    {
      "cell_type": "markdown",
      "metadata": {
        "id": "LEJ-am6_N39V"
      },
      "source": [
        "**Euro**"
      ]
    },
    {
      "cell_type": "code",
      "metadata": {
        "id": "rp8ZBd0ON8z8",
        "colab": {
          "base_uri": "https://localhost:8080/"
        },
        "outputId": "f259eefd-709f-40e0-87cc-52bfa7ea557e"
      },
      "source": [
        "Euro=inv.get_currency_cross_recent_data(\"EUR/COP\")\n",
        "Euro10=Euro[[\"Close\",\"Open\"]].tail()\n",
        "print(Euro10)"
      ],
      "execution_count": 259,
      "outputs": [
        {
          "output_type": "stream",
          "name": "stdout",
          "text": [
            "             Close    Open\n",
            "Date                      \n",
            "2021-12-28  4530.0  4531.5\n",
            "2021-12-29  4578.0  4534.5\n",
            "2021-12-30  4603.0  4584.0\n",
            "2021-12-31  4622.0  4609.0\n",
            "2022-01-02  4629.0  4627.0\n"
          ]
        }
      ]
    },
    {
      "cell_type": "markdown",
      "metadata": {
        "id": "S8J_1X2RHLyq"
      },
      "source": [
        "**Unir datos**"
      ]
    },
    {
      "cell_type": "code",
      "metadata": {
        "id": "FMXQjWY3JS21"
      },
      "source": [
        "##Historica_data5= pd.concat([Historica_data1,Historica_data2,Historica_data3,Historica_data],axis=1)\n",
        "## print(Historica_data5)"
      ],
      "execution_count": 260,
      "outputs": []
    },
    {
      "cell_type": "code",
      "metadata": {
        "id": "GWGL1jBUB5-u"
      },
      "source": [
        "data1=pd.concat([Bovespa,Mexico,Chile,Colombia,brent10,WTI10,Oro10,Cobre10,Maiz10,soja10,Cafe10,Azucar10,Estados_unidos10,\n",
        "                  Alemania10,Reino_unido10,Francia10,Italia10,Japon10,Brazil10,Mexico10,Chile10,Argentina10,Colombia10,Peru10,Dolar10,Euro10],axis=1)     \n",
        "print(data1)"
      ],
      "execution_count": null,
      "outputs": []
    },
    {
      "cell_type": "code",
      "source": [
        "data2=data1.fillna(method=\"ffill\")#rellenar Datos Hacia adelante \n",
        "print(data2)"
      ],
      "metadata": {
        "id": "zvq2fHSLADYT"
      },
      "execution_count": null,
      "outputs": []
    },
    {
      "cell_type": "code",
      "source": [
        "data3=data2.fillna(method=\"bfill\")#rellenar Datos hacia atras \n",
        "print(data3)"
      ],
      "metadata": {
        "id": "eLq8FJ9CDwR7"
      },
      "execution_count": null,
      "outputs": []
    },
    {
      "cell_type": "markdown",
      "metadata": {
        "id": "6szvWYcuGvPX"
      },
      "source": [
        "**Descargar datos**"
      ]
    },
    {
      "cell_type": "code",
      "metadata": {
        "id": "Areidc1-CP-s",
        "colab": {
          "base_uri": "https://localhost:8080/",
          "height": 17
        },
        "outputId": "696183b0-97a0-4e3d-cb5a-adaf7a922ba0"
      },
      "source": [
        "data3.to_excel(\"Bitacora.xlsx\")\n",
        "files.download(\"Bitacora.xlsx\")"
      ],
      "execution_count": 264,
      "outputs": [
        {
          "output_type": "display_data",
          "data": {
            "application/javascript": [
              "\n",
              "    async function download(id, filename, size) {\n",
              "      if (!google.colab.kernel.accessAllowed) {\n",
              "        return;\n",
              "      }\n",
              "      const div = document.createElement('div');\n",
              "      const label = document.createElement('label');\n",
              "      label.textContent = `Downloading \"${filename}\": `;\n",
              "      div.appendChild(label);\n",
              "      const progress = document.createElement('progress');\n",
              "      progress.max = size;\n",
              "      div.appendChild(progress);\n",
              "      document.body.appendChild(div);\n",
              "\n",
              "      const buffers = [];\n",
              "      let downloaded = 0;\n",
              "\n",
              "      const channel = await google.colab.kernel.comms.open(id);\n",
              "      // Send a message to notify the kernel that we're ready.\n",
              "      channel.send({})\n",
              "\n",
              "      for await (const message of channel.messages) {\n",
              "        // Send a message to notify the kernel that we're ready.\n",
              "        channel.send({})\n",
              "        if (message.buffers) {\n",
              "          for (const buffer of message.buffers) {\n",
              "            buffers.push(buffer);\n",
              "            downloaded += buffer.byteLength;\n",
              "            progress.value = downloaded;\n",
              "          }\n",
              "        }\n",
              "      }\n",
              "      const blob = new Blob(buffers, {type: 'application/binary'});\n",
              "      const a = document.createElement('a');\n",
              "      a.href = window.URL.createObjectURL(blob);\n",
              "      a.download = filename;\n",
              "      div.appendChild(a);\n",
              "      a.click();\n",
              "      div.remove();\n",
              "    }\n",
              "  "
            ],
            "text/plain": [
              "<IPython.core.display.Javascript object>"
            ]
          },
          "metadata": {}
        },
        {
          "output_type": "display_data",
          "data": {
            "application/javascript": [
              "download(\"download_c732f780-3654-423a-a966-4a9cd8e58653\", \"Bitacora.xlsx\", 12311)"
            ],
            "text/plain": [
              "<IPython.core.display.Javascript object>"
            ]
          },
          "metadata": {}
        }
      ]
    }
  ]
}
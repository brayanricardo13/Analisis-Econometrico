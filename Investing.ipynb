{
  "nbformat": 4,
  "nbformat_minor": 0,
  "metadata": {
    "colab": {
      "name": "Investing",
      "provenance": [],
      "collapsed_sections": [
        "6OFuLQbgaHr7",
        "oq5Exu6Zak7n"
      ],
      "authorship_tag": "ABX9TyMeUIbmpLBnmKNmMuEHcYhX",
      "include_colab_link": true
    },
    "kernelspec": {
      "name": "python3",
      "display_name": "Python 3"
    },
    "language_info": {
      "name": "python"
    }
  },
  "cells": [
    {
      "cell_type": "markdown",
      "metadata": {
        "id": "view-in-github",
        "colab_type": "text"
      },
      "source": [
        "<a href=\"https://colab.research.google.com/github/brayanricardo13/Analisis-Econometrico/blob/main/Investing.ipynb\" target=\"_parent\"><img src=\"https://colab.research.google.com/assets/colab-badge.svg\" alt=\"Open In Colab\"/></a>"
      ]
    },
    {
      "cell_type": "code",
      "metadata": {
        "id": "QVWLUVn2wJWP"
      },
      "source": [
        "pip install investpy"
      ],
      "execution_count": null,
      "outputs": []
    },
    {
      "cell_type": "code",
      "metadata": {
        "id": "CHNGAVDnwTMj"
      },
      "source": [
        "import investpy as inv\n",
        "import pandas as pd\n",
        "from openpyxl import workbook\n",
        "from openpyxl import load_workbook"
      ],
      "execution_count": 802,
      "outputs": []
    },
    {
      "cell_type": "code",
      "metadata": {
        "id": "E7jx7UfKBceV"
      },
      "source": [
        "from google.colab import files"
      ],
      "execution_count": 803,
      "outputs": []
    },
    {
      "cell_type": "markdown",
      "source": [
        "# Extraccion de datos"
      ],
      "metadata": {
        "id": "6OFuLQbgaHr7"
      }
    },
    {
      "cell_type": "code",
      "source": [
        "# Calendario\n",
        "lista_paises =  [\"united states\",\"Brazil\",\"germany\",'euro zone',\"colombia\",\"china\"]\n",
        "Importancia = [\"high\",\"medium\"]\n",
        "Calendario = inv.economic_calendar(\"GMT +5:30\",countries= lista_paises, importances= Importancia)\n",
        "Calendario.head()"
      ],
      "metadata": {
        "colab": {
          "base_uri": "https://localhost:8080/",
          "height": 0
        },
        "id": "7v2T3UNOi7sq",
        "outputId": "e06b1167-e30f-489a-8430-8b9ebb894119"
      },
      "execution_count": 804,
      "outputs": [
        {
          "output_type": "execute_result",
          "data": {
            "text/html": [
              "\n",
              "  <div id=\"df-f595f471-883b-4aae-80f1-f80efd8474a8\">\n",
              "    <div class=\"colab-df-container\">\n",
              "      <div>\n",
              "<style scoped>\n",
              "    .dataframe tbody tr th:only-of-type {\n",
              "        vertical-align: middle;\n",
              "    }\n",
              "\n",
              "    .dataframe tbody tr th {\n",
              "        vertical-align: top;\n",
              "    }\n",
              "\n",
              "    .dataframe thead th {\n",
              "        text-align: right;\n",
              "    }\n",
              "</style>\n",
              "<table border=\"1\" class=\"dataframe\">\n",
              "  <thead>\n",
              "    <tr style=\"text-align: right;\">\n",
              "      <th></th>\n",
              "      <th>id</th>\n",
              "      <th>date</th>\n",
              "      <th>time</th>\n",
              "      <th>zone</th>\n",
              "      <th>currency</th>\n",
              "      <th>importance</th>\n",
              "      <th>event</th>\n",
              "      <th>actual</th>\n",
              "      <th>forecast</th>\n",
              "      <th>previous</th>\n",
              "    </tr>\n",
              "  </thead>\n",
              "  <tbody>\n",
              "    <tr>\n",
              "      <th>0</th>\n",
              "      <td>444348</td>\n",
              "      <td>21/01/2022</td>\n",
              "      <td>18:00</td>\n",
              "      <td>euro zone</td>\n",
              "      <td>EUR</td>\n",
              "      <td>high</td>\n",
              "      <td>ECB President Lagarde Speaks</td>\n",
              "      <td>None</td>\n",
              "      <td>None</td>\n",
              "      <td>None</td>\n",
              "    </tr>\n",
              "    <tr>\n",
              "      <th>1</th>\n",
              "      <td>444542</td>\n",
              "      <td>21/01/2022</td>\n",
              "      <td>22:00</td>\n",
              "      <td>united states</td>\n",
              "      <td>USD</td>\n",
              "      <td>high</td>\n",
              "      <td>Fed Chair Yellen Speaks</td>\n",
              "      <td>None</td>\n",
              "      <td>None</td>\n",
              "      <td>None</td>\n",
              "    </tr>\n",
              "    <tr>\n",
              "      <th>2</th>\n",
              "      <td>444268</td>\n",
              "      <td>21/01/2022</td>\n",
              "      <td>23:30</td>\n",
              "      <td>united states</td>\n",
              "      <td>USD</td>\n",
              "      <td>medium</td>\n",
              "      <td>U.S. Baker Hughes Oil Rig Count</td>\n",
              "      <td>None</td>\n",
              "      <td>None</td>\n",
              "      <td>481</td>\n",
              "    </tr>\n",
              "    <tr>\n",
              "      <th>3</th>\n",
              "      <td>444269</td>\n",
              "      <td>21/01/2022</td>\n",
              "      <td>23:30</td>\n",
              "      <td>united states</td>\n",
              "      <td>USD</td>\n",
              "      <td>medium</td>\n",
              "      <td>U.S. Baker Hughes Total Rig Count</td>\n",
              "      <td>None</td>\n",
              "      <td>None</td>\n",
              "      <td>588</td>\n",
              "    </tr>\n",
              "  </tbody>\n",
              "</table>\n",
              "</div>\n",
              "      <button class=\"colab-df-convert\" onclick=\"convertToInteractive('df-f595f471-883b-4aae-80f1-f80efd8474a8')\"\n",
              "              title=\"Convert this dataframe to an interactive table.\"\n",
              "              style=\"display:none;\">\n",
              "        \n",
              "  <svg xmlns=\"http://www.w3.org/2000/svg\" height=\"24px\"viewBox=\"0 0 24 24\"\n",
              "       width=\"24px\">\n",
              "    <path d=\"M0 0h24v24H0V0z\" fill=\"none\"/>\n",
              "    <path d=\"M18.56 5.44l.94 2.06.94-2.06 2.06-.94-2.06-.94-.94-2.06-.94 2.06-2.06.94zm-11 1L8.5 8.5l.94-2.06 2.06-.94-2.06-.94L8.5 2.5l-.94 2.06-2.06.94zm10 10l.94 2.06.94-2.06 2.06-.94-2.06-.94-.94-2.06-.94 2.06-2.06.94z\"/><path d=\"M17.41 7.96l-1.37-1.37c-.4-.4-.92-.59-1.43-.59-.52 0-1.04.2-1.43.59L10.3 9.45l-7.72 7.72c-.78.78-.78 2.05 0 2.83L4 21.41c.39.39.9.59 1.41.59.51 0 1.02-.2 1.41-.59l7.78-7.78 2.81-2.81c.8-.78.8-2.07 0-2.86zM5.41 20L4 18.59l7.72-7.72 1.47 1.35L5.41 20z\"/>\n",
              "  </svg>\n",
              "      </button>\n",
              "      \n",
              "  <style>\n",
              "    .colab-df-container {\n",
              "      display:flex;\n",
              "      flex-wrap:wrap;\n",
              "      gap: 12px;\n",
              "    }\n",
              "\n",
              "    .colab-df-convert {\n",
              "      background-color: #E8F0FE;\n",
              "      border: none;\n",
              "      border-radius: 50%;\n",
              "      cursor: pointer;\n",
              "      display: none;\n",
              "      fill: #1967D2;\n",
              "      height: 32px;\n",
              "      padding: 0 0 0 0;\n",
              "      width: 32px;\n",
              "    }\n",
              "\n",
              "    .colab-df-convert:hover {\n",
              "      background-color: #E2EBFA;\n",
              "      box-shadow: 0px 1px 2px rgba(60, 64, 67, 0.3), 0px 1px 3px 1px rgba(60, 64, 67, 0.15);\n",
              "      fill: #174EA6;\n",
              "    }\n",
              "\n",
              "    [theme=dark] .colab-df-convert {\n",
              "      background-color: #3B4455;\n",
              "      fill: #D2E3FC;\n",
              "    }\n",
              "\n",
              "    [theme=dark] .colab-df-convert:hover {\n",
              "      background-color: #434B5C;\n",
              "      box-shadow: 0px 1px 3px 1px rgba(0, 0, 0, 0.15);\n",
              "      filter: drop-shadow(0px 1px 2px rgba(0, 0, 0, 0.3));\n",
              "      fill: #FFFFFF;\n",
              "    }\n",
              "  </style>\n",
              "\n",
              "      <script>\n",
              "        const buttonEl =\n",
              "          document.querySelector('#df-f595f471-883b-4aae-80f1-f80efd8474a8 button.colab-df-convert');\n",
              "        buttonEl.style.display =\n",
              "          google.colab.kernel.accessAllowed ? 'block' : 'none';\n",
              "\n",
              "        async function convertToInteractive(key) {\n",
              "          const element = document.querySelector('#df-f595f471-883b-4aae-80f1-f80efd8474a8');\n",
              "          const dataTable =\n",
              "            await google.colab.kernel.invokeFunction('convertToInteractive',\n",
              "                                                     [key], {});\n",
              "          if (!dataTable) return;\n",
              "\n",
              "          const docLinkHtml = 'Like what you see? Visit the ' +\n",
              "            '<a target=\"_blank\" href=https://colab.research.google.com/notebooks/data_table.ipynb>data table notebook</a>'\n",
              "            + ' to learn more about interactive tables.';\n",
              "          element.innerHTML = '';\n",
              "          dataTable['output_type'] = 'display_data';\n",
              "          await google.colab.output.renderOutput(dataTable, element);\n",
              "          const docLink = document.createElement('div');\n",
              "          docLink.innerHTML = docLinkHtml;\n",
              "          element.appendChild(docLink);\n",
              "        }\n",
              "      </script>\n",
              "    </div>\n",
              "  </div>\n",
              "  "
            ],
            "text/plain": [
              "       id        date   time  ... actual forecast previous\n",
              "0  444348  21/01/2022  18:00  ...   None     None     None\n",
              "1  444542  21/01/2022  22:00  ...   None     None     None\n",
              "2  444268  21/01/2022  23:30  ...   None     None      481\n",
              "3  444269  21/01/2022  23:30  ...   None     None      588\n",
              "\n",
              "[4 rows x 10 columns]"
            ]
          },
          "metadata": {},
          "execution_count": 804
        }
      ]
    },
    {
      "cell_type": "markdown",
      "metadata": {
        "id": "l9vXtOsgYR8m"
      },
      "source": [
        "**Futuros de indices renta variable**"
      ]
    },
    {
      "cell_type": "markdown",
      "metadata": {
        "id": "xG4KMGTDCEqC"
      },
      "source": [
        "**Dow Jones**"
      ]
    },
    {
      "cell_type": "code",
      "metadata": {
        "id": "YF3rdzW2v9dH",
        "colab": {
          "base_uri": "https://localhost:8080/"
        },
        "outputId": "e236768a-84fc-4472-e5ee-f18c955894ee"
      },
      "source": [
        "inv.get_indices_list(\"united states\")"
      ],
      "execution_count": 805,
      "outputs": [
        {
          "output_type": "execute_result",
          "data": {
            "text/plain": [
              "['NQ US Mid Cap Value',\n",
              " 'NQ US Mid Cap Growth',\n",
              " 'NQ US Mid Cap Telecommunications Equipment',\n",
              " 'NQ US Mid Cap Semiconductors',\n",
              " 'NQ US Mid Cap Computer Hardware',\n",
              " 'NQ US Mid Cap Technology Hardware & Equipment',\n",
              " 'NQ US Mid Cap Technology',\n",
              " 'NQ US Mid Cap Software',\n",
              " 'NQ US Mid Cap Software & Computer Services',\n",
              " 'NQ US Mid Cap Investment Services',\n",
              " 'NQ US Mid Cap Asset Managers',\n",
              " 'NQ US Small Cap Oil & Gas',\n",
              " 'NQ US Mid Cap Financial Service',\n",
              " 'NQ US Mid Cap Financial Services Sector',\n",
              " 'NQ US Mid Cap Mortgage REITs',\n",
              " 'NQ US Small Cap Oil & Gas Producers',\n",
              " 'NQ US Small Cap Forestry & Paper',\n",
              " 'NQ US Small Cap Oil Equipment & Services',\n",
              " 'NQ US Small Cap General Mining',\n",
              " 'NQ US Small Cap Coal',\n",
              " 'NQ US Mid Cap Specialty REITs',\n",
              " 'NQ US Small Cap Mining',\n",
              " 'NQ US Small Cap Iron & Steel',\n",
              " 'NQ US Small Cap Nonferrous Metals',\n",
              " 'NQ US Small Cap Industrial Metals & Mining',\n",
              " 'NQ US Small Cap Paper',\n",
              " 'NQ US Small Cap Basic Resources',\n",
              " 'NQ US Small Cap Specialty Chemicals',\n",
              " 'NQ US Small Cap Commodity Chemicals',\n",
              " 'NQ US Small Cap Chemicals',\n",
              " 'NQ US Small Cap Basic Materials',\n",
              " 'NQ US Small Cap Renewable Energy Equipment',\n",
              " 'NQ US Small Cap Alternative Energy',\n",
              " 'NQ US Small Cap Exploration & Production',\n",
              " 'NQ US Mid Cap Residential REITs',\n",
              " 'NQ US Mid Cap Specialty Retailers',\n",
              " 'NQ US Mid Cap Industrial & Office REITs',\n",
              " 'NQ US Mid Cap Broadcasting & Entertainment',\n",
              " 'NQ US Mid Cap Media',\n",
              " 'NQ US Mid Cap Specialized Consumer Services',\n",
              " 'NQ US Mid Cap Apparel Retailers',\n",
              " 'NQ US Mid Cap General Retailers',\n",
              " 'NQ US Mid Cap Food Retailers & Wholesalers',\n",
              " 'NQ US Mid Cap Food & Drug Retailers',\n",
              " 'NQ US Mid Cap Retail',\n",
              " 'NQ US Mid Cap Consumer Services',\n",
              " 'NQ US Mid Cap Pharmaceuticals',\n",
              " 'NQ US Mid Cap Biotechnology',\n",
              " 'NQ US Mid Cap Pharmaceuticals & Biotechnology',\n",
              " 'NQ US Mid Cap Medical Supplies',\n",
              " 'NQ US Small Cap Gold Mining',\n",
              " 'NQ US Mid Cap Medical Equipment',\n",
              " 'NQ US Mid Cap Publishing',\n",
              " 'NQ US Mid Cap Retail REITs',\n",
              " 'NQ US Mid Cap Travel & Leisure',\n",
              " 'NQ US Mid Cap Restaurants & Bars',\n",
              " 'NQ US Mid Cap Real Estate Investment Trusts',\n",
              " 'NQ US Mid Cap Real Estate Investment & Services',\n",
              " 'NQ US Mid Cap Real Estate',\n",
              " 'NQ US Mid Cap Life Insurance',\n",
              " 'NQ US Mid Cap Reinsurance',\n",
              " 'NQ US Mid Cap Property & Casualty Insurance',\n",
              " 'NQ US Mid Cap Nonlife Insurance',\n",
              " 'NQ US Mid Cap Insurance',\n",
              " 'NQ US Mid Cap Banks',\n",
              " 'NQ US Mid Cap Financials',\n",
              " 'NQ US Mid Cap Gas, Water & Multiutilities',\n",
              " 'NQ US Mid Cap Conventional Electricity',\n",
              " 'NQ US Mid Cap Electricity',\n",
              " 'NQ US Mid Cap Utilities',\n",
              " 'NQ US Mid Cap Telecom',\n",
              " 'NQ US Mid Cap Recreational Services',\n",
              " 'NQ US Small Cap Industrials',\n",
              " 'NQ US Small Cap Pharmaceuticals',\n",
              " 'NQ US Small Cap Building Materials & Fixtures',\n",
              " 'NQ US Small Cap Food Retailers & Wholesalers',\n",
              " 'NQ US Small Cap Food & Drug Retailers',\n",
              " 'NQ US Small Cap Retail',\n",
              " 'NQ US Small Cap Consumer Services',\n",
              " 'NQ US Small Cap Biotechnology',\n",
              " 'NQ US Small Cap Pharmaceuticals & Biotechnology',\n",
              " 'NQ US Small Cap General Retailers',\n",
              " 'NQ US Small Cap Medical Supplies',\n",
              " 'NQ US Small Cap Health Care Providers',\n",
              " 'NQ US Small Cap Health Care Equipment & Services',\n",
              " 'NQ US Small Cap Health Care',\n",
              " 'NQ US Small Cap Tobacco',\n",
              " 'NQ US Small Cap Personal Products',\n",
              " 'NQ US Small Cap Footwear',\n",
              " 'NQ US Small Cap Medical Equipment',\n",
              " 'NQ US Small Cap Apparel Retailers',\n",
              " 'NQ US Small Cap Broadline Retailers',\n",
              " 'NQ US Small Cap Home Improvement Retailers',\n",
              " 'NQ US Mid Cap Health Care Providers',\n",
              " 'NQ US Sml Cap Telecommunicati',\n",
              " 'NQ US Small Cap Travel & Tourism',\n",
              " 'NQ US Small Cap Restaurants & Bars',\n",
              " 'NQ US Small Cap Recreational Services',\n",
              " 'NQ US Small Cap Hotels',\n",
              " 'NQ US Small Cap Gambling',\n",
              " 'NQ US Small Cap Airlines',\n",
              " 'NQ US Sml Cap Travel & Leisure',\n",
              " 'NQ US Small Cap Publishing',\n",
              " 'NQ US Small Cap Media Agencies',\n",
              " 'NQ US Small Cap Broadcasting & Entertainment',\n",
              " 'NQ US Small Cap Media',\n",
              " 'NQ US Small Cap Specialty Retailers',\n",
              " 'NQ US Small Cap Specialized Consumer Services',\n",
              " 'NQ US Small Cap Clothing & Accessories',\n",
              " 'NQ US Small Cap Personal Goods',\n",
              " 'NQ US Small Cap Toys',\n",
              " 'NQ US Small Cap Recreational Products',\n",
              " 'NQ US Small Cap Trucking',\n",
              " 'NQ US Small Cap Transportation Services',\n",
              " 'NQ US Small Cap Industrial Transportation',\n",
              " 'NQ US Small Cap Industrial Machinery',\n",
              " 'NQ US Small Cap Commercial Vehicles & Trucks',\n",
              " 'NQ US Small Cap Industrial Engineering',\n",
              " 'NQ US Small Cap Electronic Equipment',\n",
              " 'NQ US Small Cap Electrical Components & Equipment',\n",
              " 'NQ US Small Cap Electronic & Electrical Equipment',\n",
              " 'NQ US Small Cap Containers & Packaging',\n",
              " 'NQ US Small Cap General Industrials',\n",
              " 'NQ US Small Cap Defense',\n",
              " 'NQ US Small Cap Aerospace',\n",
              " 'NQ US Small Cap Aerospace & Defense',\n",
              " 'NQ US Small Cap Industrial G&S',\n",
              " 'NQ US Small Cap Support Services',\n",
              " 'NQ US Sml Cap Construct & Mtrl',\n",
              " 'NQ US Small Cap Business Support Services',\n",
              " 'NQ US Small Cap Financial Administration',\n",
              " 'NQ US Small Cap Consumer Electronics',\n",
              " 'NQ US Small Cap Leisure Goods',\n",
              " 'NQ US Small Cap Furnishings',\n",
              " 'NQ US Small Cap Nondurable Household Products',\n",
              " 'NQ US Small Cap Durable Household Products',\n",
              " 'NQ US Small Cap Personal & Household Goods',\n",
              " 'NQ US Small Cap Food Products',\n",
              " 'NQ US Small Cap Food Producers',\n",
              " 'NQ US Small Cap Beverages',\n",
              " 'NQ US Small Cap Food & Beverage',\n",
              " 'NQ US Small Cap Auto Parts',\n",
              " 'NQ US Small Cap Automobiles & Parts',\n",
              " 'NQ US Small Cap Consumer Goods',\n",
              " 'NQ US Small Cap Waste & Disposal Services',\n",
              " 'NQ US Small Cap Industrial Suppliers',\n",
              " 'NQ US Small Cap Business Training & Employment Age',\n",
              " 'NQ US Mid Cap Health Care Equipment & Services',\n",
              " 'NQ US Large Cap Industrial Machinery',\n",
              " 'NQ US Mid Cap Clothing and Accessories',\n",
              " 'NQ US Large Cap Consumer Goods',\n",
              " 'NQ US Large Cap Financial Administration',\n",
              " 'NQ US Large Cap Business Support Services',\n",
              " 'NQ US Large Cap Support Services',\n",
              " 'NQ US Large Cap Industrial Transportation',\n",
              " 'NQ US Small Cap Fixed Line Telecommunications',\n",
              " 'NQ US Large Cap Automobiles & Parts',\n",
              " 'NQ US Large Cap Commercial Vehicles & Trucks',\n",
              " 'NQ US Large Cap Electronic Equipment',\n",
              " 'NQ US Large Cap Electronic & Electrical Equipment',\n",
              " 'NQ US Large Cap Diversified Industrials',\n",
              " 'NQ US Large Cap General Industrials',\n",
              " 'NQ US Large Cap Defense',\n",
              " 'NQ US Large Cap Aerospace',\n",
              " 'NQ US Large Cap Industrial Engineering',\n",
              " 'NQ US Large Cap Food & Beverage',\n",
              " 'NQ US Large Cap Beverages',\n",
              " 'NQ US Large Cap Food Producers',\n",
              " 'NQ US Large Cap Drug Retailers',\n",
              " 'NQ US Large Cap Food & Drug Retailers',\n",
              " 'NQ US Large Cap Retail',\n",
              " 'NQ US Large Cap Consumer Services',\n",
              " 'NQ US Large Cap Pharmaceuticals',\n",
              " 'NQ US Large Cap Biotechnology',\n",
              " 'NQ US Large Cap Pharmaceuticals & Biotechnology',\n",
              " 'NQ US Large Cap Medical Supplies',\n",
              " 'NQ US Large Cap Medical Equipment',\n",
              " 'NQ US Large Cap Health Care Providers',\n",
              " 'NQ US Large Cap Health Care Equipment & Services',\n",
              " 'NQ US Large Cap Health Care',\n",
              " 'NQ US Large Cap Personal Goods',\n",
              " 'NQ US Large Cap Personal & Household Goods',\n",
              " 'NQ US Large Cap Food Products',\n",
              " 'NQ US Large Cap Aerospace & Defense',\n",
              " 'NQ US Large Cap Industrial G&S',\n",
              " 'NQ US Large Cap Industrials',\n",
              " 'NQ US Large Cap Industrial Metals & Mining',\n",
              " 'NQ US Benchmark Mortgage Finance',\n",
              " 'NQ US Benchmark Investment Services',\n",
              " 'NQ US Benchmark Specialty Finance',\n",
              " 'NQ US Benchmark Consumer Finance',\n",
              " 'NQ US Benchmark Asset Managers',\n",
              " 'NQ US Benchmark Financial Services Sector',\n",
              " 'NQ US Benchmark Hotel & Lodging REITs',\n",
              " 'NQ US Benchmark Mortgage REITs',\n",
              " 'NQ US Benchmark Specialty REITs',\n",
              " 'NQ US Benchmark Diversified REITs',\n",
              " 'NQ US Benchmark Residential REITs',\n",
              " 'NQ US Benchmark Retail REITs',\n",
              " 'NQ US Benchmark Industrial & Office REITs',\n",
              " 'NQ US Benchmark Real Estate Investment Trusts',\n",
              " 'NQ US Benchmark Real Estate Services',\n",
              " 'NQ US Benchmark Software & Computer Services',\n",
              " 'NQ US Large Cap General Retailers',\n",
              " 'NQ US Benchmark Computer Services',\n",
              " 'NQ US Benchmark Software',\n",
              " 'NQ US Large Cap Basic Resources',\n",
              " 'NQ US Large Cap Specialty Chemicals',\n",
              " 'NQ US Large Cap Commodity Chemicals',\n",
              " 'NQ US Large Cap Chemicals',\n",
              " 'NQ US Large Cap Basic Materials',\n",
              " 'NQ US Large Cap Oil Equipment & Services',\n",
              " 'NQ US Large Cap Integrated Oil & Gas',\n",
              " 'NQ US Large Cap Exploration & Production',\n",
              " 'NQ US Large Cap Oil & Gas Producers',\n",
              " 'NQ US Large Cap Oil & Gas',\n",
              " 'NQ Chaikin Power US Small Cap',\n",
              " 'NQ US Benchmark Telecommunications Equipment',\n",
              " 'NQ US Benchmark Semiconductors',\n",
              " 'NQ US Benchmark Computer Hardware',\n",
              " 'NQ US Benchmark Technology Hardware & Equipment',\n",
              " 'NQ US Benchmark Internet',\n",
              " 'NQ US Mid Cap Health Care',\n",
              " 'NQ US Large Cap Apparel Retailers',\n",
              " 'NQ US Large Cap Specialty Retailers',\n",
              " 'NQ US Mid Cap Aerospace',\n",
              " 'NQ US Mid Cap Industrial G&S',\n",
              " 'NQ US Mid Cap Building Materials & Fixtures',\n",
              " 'NQ US Mid Cap Construct & Mater',\n",
              " 'NQ US Mid Cap Industrials',\n",
              " 'NQ US Mid Cap Iron and Steel',\n",
              " 'NQ US Mid Cap General Industrials',\n",
              " 'NQ US Mid Cap Basic Resources',\n",
              " 'NQ US Mid Cap Commodity Chemicals',\n",
              " 'NQ US Mid Cap Chemicals',\n",
              " 'NQ US Mid Cap Basic Materials',\n",
              " 'NQ US Mid Cap Oil Equipment & Services',\n",
              " 'NQ US Mid Cap Exploration & Production',\n",
              " 'NQ US Mid Cap Oil & Gas Producers',\n",
              " 'NQ US Mid Cap Specialty Chemicals',\n",
              " 'NQ US Mid Cap Containers & Packaging',\n",
              " 'NQ US Mid Cap Electronic & Electrical Equipment',\n",
              " 'NQ US Mid Cap Electrical Components & Equipment',\n",
              " 'NQ US Mid Cap Leisure Goods',\n",
              " 'NQ US Mid Cap Personal & Household Goods',\n",
              " 'NQ US Mid Cap Food Products',\n",
              " 'NQ US Mid Cap Food Producers',\n",
              " 'NQ US Mid Cap Food & Beverage',\n",
              " 'NQ US Mid Cap Automobiles & Parts',\n",
              " 'NQ US Mid Cap Consumer Goods',\n",
              " 'NQ US Mid Cap Financial Administration',\n",
              " 'NQ US Mid Cap Business Support Services',\n",
              " 'NQ US Mid Cap Support Services',\n",
              " 'NQ US Md Cap Ind Transportation',\n",
              " 'NQ US Mid Cap Industrial Machinery',\n",
              " 'NQ US Mid Cap Commercial Vehicles & Trucks',\n",
              " 'NQ US Mid Cap Industrial Engineering',\n",
              " 'NQ US Mid Cap Electronic Equipment',\n",
              " 'NQ US Mid Cap Oil & Gas',\n",
              " 'NQ US Large Cap Value',\n",
              " 'NQ US Large Cap Growth',\n",
              " 'NQ US Large Cap Telecommunications Equipment',\n",
              " 'NQ US Large Cap Nonlife Insurance',\n",
              " 'NQ US Large Cap Insurance',\n",
              " 'NQ US Large Cap Banks',\n",
              " 'NQ US Large Cap Financials',\n",
              " 'NQ US Large Cap Multiutilities',\n",
              " 'NQ US Large Cap Gas, Water & Multiutilities',\n",
              " 'NQ US Large Cap Conventional Electricity',\n",
              " 'NQ US Large Cap Electricity',\n",
              " 'NQ US Large Cap Utilities',\n",
              " 'NQ US Large Cap Fixed Line Telecommunications',\n",
              " 'NQ US Large Cap Telecommunications',\n",
              " 'NQ US Large Cap Restaurants & Bars',\n",
              " 'NQ US Large Cap Travel& Leisure',\n",
              " 'NQ US Large Cap Broadcasting & Entertainment',\n",
              " 'NQ US Large Cap Media',\n",
              " 'NQ US Large Cap Property & Casualty Insurance',\n",
              " 'NQ US Large Cap Broadline Retailers',\n",
              " 'NQ US Large Cap Life Insurance',\n",
              " 'NQ US Large Cap Real Estate Investment Trusts',\n",
              " 'NQ US Large Cap Semiconductors',\n",
              " 'NQ US Large Cap Computer Hardware',\n",
              " 'NQ US Large Cap Technology Hardware & Equipment',\n",
              " 'NQ US Large Cap Software',\n",
              " 'NQ US Large Cap Computer Services',\n",
              " 'NQ US Large Cap Software & Computer Services',\n",
              " 'NQ US Large Cap Technology',\n",
              " 'NQ US Large Cap Investment Services',\n",
              " 'NQ US Large Cap Consumer Finance',\n",
              " 'NQ US Large Cap Asset Managers',\n",
              " 'NQ US Large Cap Financial Services Sector',\n",
              " 'NQ US Lr Cap Financial Services',\n",
              " 'NQ US Large Cap Specialty REITs',\n",
              " 'NQ US Large Cap Retail REITs',\n",
              " 'NQ US Large Cap Industrial and Office REITs',\n",
              " 'NQ US Large Cap Real Estate',\n",
              " 'NQ US Small Cap Mobile Telecommunications',\n",
              " 'Low Volatility Short Only TR',\n",
              " 'NQ US Small Cap Electricity',\n",
              " 'DJ Asset Managers',\n",
              " 'DJ Auto Parts Makers',\n",
              " 'DJ Automobiles',\n",
              " 'DJ Automobiles & Parts',\n",
              " 'DJ Banks',\n",
              " 'DJ Basic Resources',\n",
              " 'DJ Apparel Retailers',\n",
              " 'DJ Beverages',\n",
              " 'DJ Brewers',\n",
              " 'DJ Broadcasting & Entertainment',\n",
              " 'DJ Broadline Retailers',\n",
              " 'DJ Building Materials & Fixtures',\n",
              " 'DJ Business Support Services',\n",
              " 'DJ Business Training & Employment Agencies',\n",
              " 'DJ Biotechnology',\n",
              " 'DJ Aluminum',\n",
              " 'DJ Airlines',\n",
              " 'DJ Aerospace & Defense',\n",
              " 'ARCA Mini-Natural Gas',\n",
              " 'ARCA Mini-Oil',\n",
              " 'ARCA Mini-Pharmaceutical',\n",
              " 'ARCA Mini-Securities',\n",
              " 'ARCA Natural Gas',\n",
              " 'ARCA Networking',\n",
              " 'ARCA North American Telecommunications',\n",
              " 'ARCA Oil',\n",
              " 'ARCA Pharmaceutical',\n",
              " 'ARCA Securities Broker',\n",
              " 'ARCA Steel',\n",
              " 'ARCA Technology 100',\n",
              " 'ARCA Telecom',\n",
              " 'ARCA Tobacco',\n",
              " 'DJ Aerospace',\n",
              " 'DJ Chemicals',\n",
              " 'DJ Clothing & Accessories',\n",
              " 'DJ Coal',\n",
              " 'DJ Commercial Vehicles & Trucks',\n",
              " 'DJ Equity All REIT',\n",
              " 'DJ Exploration & Production',\n",
              " 'DJ Financial Administration',\n",
              " 'DJ Financial Services',\n",
              " 'DJ Financial Services',\n",
              " 'DJ Financial Services Composite',\n",
              " 'DJ Food & Beverage Makers',\n",
              " 'DJ Food & Drug Retailers',\n",
              " 'DJ Food Producers',\n",
              " 'DJ Food Product Makers',\n",
              " 'DJ Food Retail & Wholesale',\n",
              " 'DJ Footwear',\n",
              " 'DJ Forestry & Paper',\n",
              " 'DJ Full Line Insurance',\n",
              " 'DJ Furnishings',\n",
              " 'DJ Electronic Equipment',\n",
              " 'ARCA Mini-Biotechnology',\n",
              " 'DJ Electronic & Electrical Equipment',\n",
              " 'DJ Electrical Components & Equipment',\n",
              " 'DJ Commodity Chemicals',\n",
              " 'DJ Composite',\n",
              " 'DJ Computer Hardware',\n",
              " 'DJ Computer Services',\n",
              " 'DJ Construction & Materials',\n",
              " 'DJ Consumer Finance',\n",
              " 'DJ Containers & Packaging',\n",
              " 'DJ Conventional Electricity',\n",
              " 'DJ Defense',\n",
              " 'DJ Delivery Services',\n",
              " 'DJ Distillers & Vintners',\n",
              " 'DJ Diversified Industrials',\n",
              " 'DJ Diversified REITs',\n",
              " 'DJ Drug Retailers',\n",
              " 'DJ Durable Household Products',\n",
              " 'DJ Electricity',\n",
              " 'DJ Gambling',\n",
              " 'ARCA Junior Gold BUGS',\n",
              " 'ARCA Gold Miners',\n",
              " 'NQ Industrial',\n",
              " 'NQ Insurance',\n",
              " 'NQ Internet',\n",
              " 'NQ Other Finance',\n",
              " 'NQ Telecommunications',\n",
              " 'NQ Transportation',\n",
              " 'NASDAQ Health Care',\n",
              " 'NYSE Energy',\n",
              " 'NYSE Healthcare',\n",
              " 'NYSE TMT',\n",
              " 'PHLX Semiconductor',\n",
              " 'Russell 1000 Financial Services',\n",
              " 'S&P 500 Consumer Discretionary',\n",
              " 'S&P 500 Consumer Staples',\n",
              " 'NYSE Financials',\n",
              " 'NQ Financial 100',\n",
              " 'NQ Computer',\n",
              " 'NQ Biotechnology',\n",
              " 'Dow 30',\n",
              " 'Nasdaq 100',\n",
              " 'Nasdaq',\n",
              " 'S&P 500',\n",
              " 'DJ Basic Materials',\n",
              " 'DJ Consumer Goods',\n",
              " 'DJ Consumer Services',\n",
              " 'DJ Financials',\n",
              " 'DJ Health Care',\n",
              " 'DJ Industrials',\n",
              " 'DJ Oil&Gas',\n",
              " 'DJ Technology',\n",
              " 'DJ Telecom',\n",
              " 'DJ Utilities',\n",
              " 'NQ Bank',\n",
              " 'S&P 500 Energy',\n",
              " 'S&P 500 Financials',\n",
              " 'S&P 500 Health Care',\n",
              " 'S&P 500 Industrials',\n",
              " 'Braclays Capital Commodities',\n",
              " 'Canadian Crude Excess Return',\n",
              " 'Canadian Crude Reference Price',\n",
              " 'ISE Natural Gas TR',\n",
              " 'ARCA Airline',\n",
              " 'ARCA Biotechnology',\n",
              " 'ARCA Computer Hardware',\n",
              " 'ARCA Computer Technology',\n",
              " 'ARCA Defense',\n",
              " 'ARCA Disk Drive',\n",
              " 'ARCA Electric Power & Natural Gas Infrastructure',\n",
              " 'ARCA Environmental Svcs',\n",
              " 'ARCA Equal Weighted Pharmaceutical',\n",
              " 'ARCA Global Airline',\n",
              " 'ARCA Gold BUGS',\n",
              " 'Bloomberg Corn Subindex TR',\n",
              " 'ARCA Institutional',\n",
              " 'Bloomberg Brent Crude Subindex TR',\n",
              " '10-year US Treasury VIX',\n",
              " 'S&P 500 Information Technology',\n",
              " 'S&P 500 Materials',\n",
              " 'S&P 500 Real Estate',\n",
              " 'S&P 500 Telecom Services',\n",
              " 'S&P 500 Utilities',\n",
              " 'S&P 500 VIX',\n",
              " 'DJ Composite',\n",
              " 'DJ Transportation',\n",
              " 'DJ Utility',\n",
              " 'NYSE AMEX Composite',\n",
              " 'NYSE Composite',\n",
              " 'OTCM ADR',\n",
              " 'OTCM QX ADR 30',\n",
              " 'S&P 100',\n",
              " 'SmallCap 2000',\n",
              " 'Barclays WTI Crude Oil Pure Beta TR',\n",
              " 'DJ Gas Distribution',\n",
              " 'DJ Gas Water & Multiutilities',\n",
              " 'DJ General Industrials',\n",
              " 'FTSE USA Large Cap Super Liquid Net Of Tax',\n",
              " 'FTSE RAFI US Low Volatility',\n",
              " 'FTSE RAFI US 3000 QSR',\n",
              " 'FTSE RAFI US 1500 Mid Small QSR',\n",
              " 'FTSE RAFI US 1000 QSR',\n",
              " 'FTSE EPRA/NAREIT US Dividend+',\n",
              " 'FTSE USA Super Liquid',\n",
              " 'WisdomTree US Equity Income iNAV',\n",
              " 'NQ 100 Settlement',\n",
              " 'NQ Composite Settlement',\n",
              " 'NQ Premarket',\n",
              " 'NQ After Market',\n",
              " 'NQ US Small Cap Value',\n",
              " 'NQ US Small Cap Growth',\n",
              " 'WisdomTree US SmallCap Dividend iNAV',\n",
              " 'FTSE Renaissance US IPO',\n",
              " 'FTSE Renaissance US IPO Investable',\n",
              " 'FTSE USA Large Cap Super Liquid 2x Daily Leveraged',\n",
              " 'Stoxx USA 50  Daily EUR',\n",
              " 'Stoxx USA 50 Daily EUR',\n",
              " 'Stoxx USA 50 Daily 4 EUR',\n",
              " 'Federal Funds Composite Interest Rate',\n",
              " 'MSCI US Small Gross',\n",
              " 'MSCI USA Quality GR',\n",
              " 'FTSE RAFI US 1000 Hedged In CAD',\n",
              " 'DJ U.S. Select REIT TR',\n",
              " 'DJ U.S. Select Dividend TR',\n",
              " 'DJ U.S. Select Dividend Net TR',\n",
              " 'FTSE USA Large Cap Super Liquid 3x Daily Leveraged',\n",
              " 'FTSE USA Large Cap Super Liquid 3x Daily Short',\n",
              " 'FTSE USA Large Cap Super Liquid 2x Daily Short',\n",
              " 'FTSE USA Large Cap Super Liquid Daily Short',\n",
              " 'FTSE USA Large Cap Super Liquid 4x Daily Leveraged',\n",
              " 'NQ US Small Cap Telecommunications Equipment',\n",
              " 'NQ US Small Cap Semiconductors',\n",
              " 'NQ US Small Cap Computer Hardware',\n",
              " 'NQ US Small Cap Technology Hardware & Equipment',\n",
              " 'NQ US Small Cap Real Estate Investment Trusts',\n",
              " 'NQ US Small Cap Real Estate Services',\n",
              " 'NQ US Small Cap Real Estate Holding & Development',\n",
              " 'NQ US Small Cap Real Estate Investment & Services',\n",
              " 'NQ US Small Cap Real Estate',\n",
              " 'NQ US Small Cap Life Insurance',\n",
              " 'NQ US Small Cap Reinsurance',\n",
              " 'NQ US Small Cap Property & Casualty Insurance',\n",
              " 'NQ US Small Cap Nonlife Insurance',\n",
              " 'NQ US Small Cap Insurance',\n",
              " 'NQ US Small Cap Banks',\n",
              " 'NQ US Small Cap Financials',\n",
              " 'NQ US Small Cap Water',\n",
              " 'NQ US Small Cap Gas, Water & Multiutilities',\n",
              " 'NQ US Small Cap Conventional Electricity',\n",
              " 'NQ US Small Cap Industrial & Office REITs',\n",
              " 'Stoxx USA 50 Risk 10% RV USD',\n",
              " 'NQ US Small Cap Retail REITs',\n",
              " 'NQ US Small Cap Diversified REITs',\n",
              " 'NQ US Small Cap Software',\n",
              " 'NQ US Small Cap Internet',\n",
              " 'NQ US Small Cap Computer Services',\n",
              " 'NQ US Small Cap Software & Computer Services',\n",
              " 'NQ US Small Cap Technology',\n",
              " 'NQ US Small Cap Mortgage Finance',\n",
              " 'NQ US Small Cap Investment Services',\n",
              " 'NQ US Small Cap Specialty Finance',\n",
              " 'NQ US Small Cap Consumer Finance',\n",
              " 'NQ US Small Cap Asset Managers',\n",
              " 'NQ US Small Cap Financial Services Sector',\n",
              " 'NQ US Small Cap Financial Services',\n",
              " 'NQ US Small Cap Hotel & Lodging REITs',\n",
              " 'NQ US Small Cap Mortgage REITs',\n",
              " 'NQ US Small Cap Specialty REITs',\n",
              " 'NQ US Small Cap Residential REITs',\n",
              " 'Stoxx USA 50 Risk 10% RV EUR',\n",
              " 'Stoxx USA 50 Risk 15% RV USD',\n",
              " 'Stoxx USA 50 Risk 15% RV EUR',\n",
              " 'Merrill Lynch MOVE Index 1 Month',\n",
              " 'FTSE USA Core Infrastructure Capped Net Tax',\n",
              " 'FTSE US Risk Premium Dividend Yield Short only TR',\n",
              " 'FTSE US Risk Premium Dividend Yield Long only TR',\n",
              " 'Forward Earnings Yield Short only TR',\n",
              " 'Dividend Yield Long only TR',\n",
              " 'Seasonality Short only TR',\n",
              " 'FTSE US Risk Premium Dividend Yield Long only Pric',\n",
              " 'Cash flow Yield Long only Net Tax',\n",
              " 'Low Volatility Long Only TR',\n",
              " 'Cash flow Yield short only TR',\n",
              " 'FTSE US Risk Premium Dividend Yield Short only Pri',\n",
              " 'Cash flow/Invested Capital short only TR',\n",
              " 'Forward Dividend Yield Short only TR',\n",
              " 'Scaled NOA Differential Long only TR',\n",
              " 'Merrill Lynch MOVE Index 3 Month',\n",
              " 'Cash flow/Invested Capital Trend long only TR',\n",
              " 'Merrill Lynch MOVE Index 6 Month',\n",
              " 'DJ Industrial Suppliers',\n",
              " 'DJ General Retailers',\n",
              " 'DJ Gold Mining',\n",
              " 'DJ Health Care Equipment & Services',\n",
              " 'DJ Health Care Providers',\n",
              " 'DJ Heavy Construction',\n",
              " 'DJ Home Construction',\n",
              " 'DJ Home Improvement Retailers',\n",
              " 'DJ Hotel & Lodging REITs',\n",
              " 'DJ Hotels',\n",
              " 'DJ Household Goods & Home Construction',\n",
              " 'DJ Industrial & Office REITs',\n",
              " 'DJ Industrial Engineering',\n",
              " 'DJ Industrial Goods & Services',\n",
              " 'DJ Industrial Machinery',\n",
              " 'DJ Industrial Metals & Mining',\n",
              " 'DJ Industrial Transportation',\n",
              " 'NQ US Small Cap Utilities',\n",
              " 'Forward Dividend Yield Long only TR',\n",
              " 'ROE short only TR',\n",
              " 'S&P Midcap 400 Growth Total Return',\n",
              " 'S&P 500 Growth Total Return',\n",
              " 'MSCI United States Broad Gross',\n",
              " 'S&P 500 Net TR',\n",
              " 'CEMP US Small Cap 500 Vol Weighted TR',\n",
              " 'CEMP US Small Cap 500 Vol Weighted',\n",
              " 'CEMP US Large Cap 500 Vol Weighted TR',\n",
              " 'CEMP US Large Cap 500 Vol Weighted',\n",
              " 'CEMP US Equity Hedge Vol Weighted TR',\n",
              " 'CEMP US Large Cap High Dividend',\n",
              " 'CEMP US Large Cap High Dividend 100 Vol Weighted',\n",
              " 'Stoxx USA 50 Risk 5% RV EUR',\n",
              " 'Stoxx USA 50 Risk 5% RV USD',\n",
              " 'Stoxx USA 50 Risk 20% RV EUR',\n",
              " 'Stoxx USA 50 Risk 20% RV USD',\n",
              " 'S&P Midcap 400 Value Total Return',\n",
              " 'Price Momentum long only TR',\n",
              " 'S&P SmallCap 600 Growth Total Return',\n",
              " 'S&P 400 Total Return',\n",
              " 'Cash flow/Invested Capital Trend short only TR',\n",
              " 'Cash flow Yield Long only TR',\n",
              " 'Extended Price Momentum Long only TR',\n",
              " 'Size Long only TR',\n",
              " 'Price Momentum short only TR',\n",
              " 'Cash flow/Invested Capital long only TR',\n",
              " 'Scaled NOA Differential short only TR',\n",
              " 'Dividend Yield Short only TR',\n",
              " 'NQ US Benchmark Real Estate Holding & Development',\n",
              " 'Extended Price Momentum Short only TR',\n",
              " 'Size Short only TR',\n",
              " 'Forward Earnings Yield Long only TR',\n",
              " 'Seasonality Long only TR',\n",
              " 'ROE Long only TR',\n",
              " 'LadderRite 0-10year USD Corporate Bond',\n",
              " 'S&P SmallCap 600 Value Total Return',\n",
              " 'NQ US Benchmark Real Estate Investment & Services',\n",
              " 'MSCI US Gross',\n",
              " 'NQ US Benchmark Reinsurance',\n",
              " 'CBOE Energy Sector Etf Volitlity',\n",
              " 'CBOE Equity VIX on Amazon',\n",
              " 'CBOE Equity VIX on Apple',\n",
              " 'CBOE Equity VIX on Goldman Sachs',\n",
              " 'CBOE Equity VIX on Google',\n",
              " 'Sabrient Global Balanced Income',\n",
              " 'Sabrient Global Balanced Growth',\n",
              " 'S&P Smallcap 600 Value',\n",
              " 'S&P SmallCap 600 Pure Value',\n",
              " 'CBOE Emerging Markets Etf Volitlity',\n",
              " 'S&P SmallCap 600 Pure Growth',\n",
              " 'S&P Midcap 400 Value',\n",
              " 'S&P MidCap 400 Pure Value',\n",
              " 'S&P MidCap 400 Pure Growth',\n",
              " 'S&P Midcap 400 Growth',\n",
              " 'S&P Midcap 400',\n",
              " 'S&P High Yield Dividend Aristocrats',\n",
              " 'S&P GSCI Natural Gas ER',\n",
              " 'S&P GSCI Crude Oil ER',\n",
              " 'SP GSCI 3Month Forward Capped Sector EW',\n",
              " 'S&P Smallcap 600 Growth',\n",
              " 'S&P Goldman Sachs Commodity',\n",
              " 'CBOE Dyn Short Vix Fut',\n",
              " 'CBOE Crude Oil Volatility',\n",
              " 'ARCA Hong Kong Option',\n",
              " 'ARCA International Market',\n",
              " 'ARCA Japan',\n",
              " 'ARCA Major Markets',\n",
              " 'ARCA Mexico',\n",
              " 'Total Return Fed Funds Investable',\n",
              " 'Barron’s 400',\n",
              " 'Barron’s 400 TR',\n",
              " 'Gemini Bitcoin',\n",
              " 'CBOE Dyn Long Vix Fut',\n",
              " 'Bitcoin Real-Time',\n",
              " 'SP500 VIX Futures Enhanced Roll TR',\n",
              " 'SmallCap 2000 NR',\n",
              " 'CBOE Binary Options S&P 500',\n",
              " 'CBOE Binary Options Volatility',\n",
              " 'SGI Smart WTI Long Invest',\n",
              " 'CBOE Brazil Etf Volatility',\n",
              " 'CBOE Capped Vix Premium Strateg',\n",
              " 'CBOE China Etf Volatility',\n",
              " 'CBOE Citigroup Bxm Pistons Net',\n",
              " 'Brent Oil x5 Leveraged',\n",
              " 'S&P Composite 1500',\n",
              " 'S&P Completion',\n",
              " 'S&P 600 Small Cap',\n",
              " 'CBOE NASDAQ 100 Settle',\n",
              " 'SP 500 CAD Hdg TR',\n",
              " 'SP 500 Buyback NTR',\n",
              " 'S&P 1000',\n",
              " 'Russell Midcap TR',\n",
              " 'Russell 3000 TR',\n",
              " 'Russell 1000',\n",
              " 'Reality Shares Drone PR',\n",
              " 'Reality Shares Drone NTR',\n",
              " 'CBOE Ms Strategic Total Return',\n",
              " 'Reality Shares Drone GTR',\n",
              " 'PHLX Euro',\n",
              " 'PHLX Canadian Dollar',\n",
              " 'PHLX Australian Dollar',\n",
              " 'Philadelphia Gold/Silver',\n",
              " 'OTCM ADR TR',\n",
              " 'NYSE World Leaders Mini Value',\n",
              " 'NYSE World Leaders',\n",
              " 'NYSE TOP US 100',\n",
              " 'NYSE TOP International 100',\n",
              " 'PHLX Swiss Franc',\n",
              " 'CBOE Ms 8% Targeted Income Stra',\n",
              " 'CBOE Morgan Stanley U.S. Strate',\n",
              " 'CBOE Mid Term Volatility',\n",
              " 'S&P 600',\n",
              " 'S&P 500 Vix Short Term Futures ER',\n",
              " 'S&P 500 Value TR',\n",
              " 'S&P500 Pure Value',\n",
              " 'S&P500 Pure Growth',\n",
              " 'SP 500 Minimum Volatility Net TR',\n",
              " 'SP 500 Low Volatility TR',\n",
              " 'S&P500 Equal Weighted',\n",
              " 'CBOE Equity VIX on Ibm',\n",
              " 'SP 500 Dividends Aristocrats TR',\n",
              " 'S&P 500 Daily Hedged EUR Net TR',\n",
              " 'CBOE Euro Currency Volatility',\n",
              " 'CBOE Far-Term Vix',\n",
              " 'CBOE Gold Miners Etf Volatility',\n",
              " 'CBOE Gold Volatitity',\n",
              " 'CBOE Jumbo Dj Volatility Ask',\n",
              " 'CBOE Jumbo Dj Volatility Bid',\n",
              " 'CBOE Large Cap Over Small Cap S',\n",
              " 'CBOE Low Volatility',\n",
              " 'CBOE Market Volatility Spx Bid',\n",
              " 'CBOE Market Volatility Spx Offe',\n",
              " 'ARCA Hong Kong 30',\n",
              " 'ARCA China',\n",
              " 'US Dollar Index',\n",
              " 'AMEX TRIN',\n",
              " 'PHLX Gold Silver Settlement',\n",
              " 'PHLX Gold Silver TR',\n",
              " 'PHLX Housing',\n",
              " 'PHLX Housing Settlement',\n",
              " 'PHLX Housing TR',\n",
              " 'PHLX Oil Service',\n",
              " 'PHLX Semiconductor Settlement',\n",
              " 'PHLX Semiconductor TR',\n",
              " 'PHLX Utility',\n",
              " 'NYSE Technology',\n",
              " 'PHLX Utility Settlement',\n",
              " 'S&P 400 Consumer Discretionary',\n",
              " 'S&P 400 Consumer Staples',\n",
              " 'S&P 400 Energy',\n",
              " 'S&P 400 Financials',\n",
              " 'S&P 400 Health Care',\n",
              " 'S&P 400 Industrials',\n",
              " 'S&P 400 Information Technology',\n",
              " 'S&P 400 Materials',\n",
              " 'S&P 400 Telecommunication Services',\n",
              " 'PHLX Utility TR',\n",
              " 'NYSE Market Composite Technology',\n",
              " 'NYSE Market Composite Natural Resources',\n",
              " 'NYSE Market Composite Industrial',\n",
              " 'NQ OMX Natural Resources',\n",
              " 'NQ OMX Natural Resources TR',\n",
              " 'NQ OMX Pollution Mitigation',\n",
              " 'NQ OMX Pollution Mitigation TR',\n",
              " 'NQ OMX Recycling',\n",
              " 'NQ OMX Recycling TR',\n",
              " 'NQ OMX Renewable Energy Generation',\n",
              " 'NQ OMX Renewable Energy Generation TR',\n",
              " 'NQ OMX Smart Grid',\n",
              " 'NQ OMX Smart Grid TR',\n",
              " 'NQ OMX Solar',\n",
              " 'NQ OMX Solar Total Return',\n",
              " 'NQ OMX US Water',\n",
              " 'NQ OMX US Water TR',\n",
              " 'NQ OMX Water',\n",
              " 'NQ OMX Water TR',\n",
              " 'NQ OMX Wind',\n",
              " 'NQ OMX Wind TR',\n",
              " 'NYSE Arca Gold Miners GTR',\n",
              " 'NYSE Market Composite Financial',\n",
              " 'NYSE Market Composite Healthcare',\n",
              " 'S&P 400 Utilities',\n",
              " 'NYSE Tick Index',\n",
              " 'S&P 600 Consumer Discretionary',\n",
              " 'S&P 600 Energy',\n",
              " 'S&P Computer Hardware',\n",
              " 'S&P Health Care Equipment',\n",
              " 'S&P Health Care Services',\n",
              " 'S&P Homebuilders',\n",
              " 'S&P Industrials Composite',\n",
              " 'S&P Metals & Mining',\n",
              " 'S&P Oil & Gas Equipment & Services',\n",
              " 'S&P Oil & Gas Exploration & Production',\n",
              " 'S&P Pharmaceuticals',\n",
              " 'Wilder Hill New Energy Global',\n",
              " 'S&P Retail Select Industry',\n",
              " 'S&P Telecom Select Industry',\n",
              " 'S&P Transportation SI',\n",
              " 'Technology Select Sector NTR',\n",
              " '1/100 Dow Jones Industrial Average',\n",
              " 'Alerian MLP EW',\n",
              " 'Alerian MLP EW TR',\n",
              " 'Alerian MLP Infrastructure TR',\n",
              " 'AMEX Japan',\n",
              " 'AMEX Mexico',\n",
              " 'S&P Semiconductors',\n",
              " 'Wilshire 4500 Completion',\n",
              " 'Wilshire 5000 Total Market Full Cap',\n",
              " 'Wisdom Tree Earnings',\n",
              " 'S&P 600 Financials',\n",
              " 'S&P 600 Health Care',\n",
              " 'S&P 600 Industrials',\n",
              " 'S&P 600 Information Technology',\n",
              " 'S&P 600 Materials',\n",
              " 'S&P 600 Telecommunication Services',\n",
              " 'S&P 600 Utilities',\n",
              " 'S&P Aerospace & Defense',\n",
              " 'S&P Biotech Select Industry',\n",
              " 'S&P Composite 1500 Consumer Discretionary',\n",
              " 'S&P Composite 1500 Consumer Staples',\n",
              " 'S&P Composite 1500 Energy',\n",
              " 'S&P Composite 1500 Financials',\n",
              " 'S&P Composite 1500 Health Care',\n",
              " 'S&P Composite 1500 Industrials',\n",
              " 'S&P Composite 1500 Information Technology',\n",
              " 'S&P Composite 1500 Materials',\n",
              " 'S&P Composite 1500 Telecommunication Services',\n",
              " 'S&P Composite 1500 Utilities',\n",
              " 'WisdomTree LargeCap Value',\n",
              " 'Wisdom Tree MidCap earnings',\n",
              " 'S&P 600 Consumer Staples',\n",
              " 'NQ OMX Lighting TR',\n",
              " 'NYSE TRIN',\n",
              " 'NYSE FANG+TM',\n",
              " 'NQ Global Market Composite',\n",
              " 'Nasdaq Factor Dog',\n",
              " 'Nasdaq Emerging Select Leaders',\n",
              " 'Nasdaq Dorsey Wright Peoples Portfolio',\n",
              " 'Nasdaq Developed Select Leaders',\n",
              " 'NQ Composite TR',\n",
              " 'NQ Capital Market Composite',\n",
              " 'Nasdaq BulletShares Investment Grade 7 Year Ladder',\n",
              " 'Nasdaq BulletShares Investment Grade 7 Year Ladder',\n",
              " 'NQ Global Select Market Composite',\n",
              " 'Nasdaq BulletShares Investment Grade 5 Year Ladder',\n",
              " 'Nasdaq BulletShares Investment Grade 3 Year Ladder',\n",
              " 'Nasdaq BulletShares Investment Grade 3 Year Ladder',\n",
              " 'Nasdaq BulletShares High Yield 7 Year Ladder TR',\n",
              " 'Nasdaq BulletShares High Yield 7 Year Ladder',\n",
              " 'Nasdaq BulletShares High Yield 5 Year Ladder TR',\n",
              " 'Nasdaq BulletShares High Yield 5 Year Ladder',\n",
              " 'Nasdaq BulletShares High Yield 3 Year Ladder TR',\n",
              " 'Nasdaq BulletShares High Yield 3 Year Ladder',\n",
              " 'Nasdaq Australia Completion Cap Gross Local Return',\n",
              " 'Nasdaq BulletShares Investment Grade 5 Year Ladder',\n",
              " 'Nasdaq 100 TR',\n",
              " 'Nasdaq International Dividend Achievers Local',\n",
              " 'NASDAQ Nordea SmartBeta Dividend Sweden PR',\n",
              " 'Dow Jones U.S. Completion TSM',\n",
              " 'DJ US',\n",
              " 'DJ Value',\n",
              " 'Dynamic Daily Long Exposure to Vol',\n",
              " 'Dynamic Emarket Intellidex',\n",
              " 'EFA ETF Vol',\n",
              " 'Energy Select Sector NTR',\n",
              " 'FTSE Environmental Opportunities USA',\n",
              " 'FTSE GWA US',\n",
              " 'NASDAQ Nordea SmartBeta Dividend Momentum PR',\n",
              " 'NQ OMX Russia 15',\n",
              " 'NASDAQ Nordea SmartBeta Volatility Sweden PR',\n",
              " 'NASDAQ Nordea SmartBeta Momentum Volatility PR',\n",
              " 'NASDAQ Nordea SmartBeta Momentum Sweden PR',\n",
              " 'FTSE RAFI US 1000',\n",
              " 'FTSE RAFI US 1000 Net',\n",
              " 'FTSE RAFI US 1500 Mid Small',\n",
              " 'FTSE RAFI US Mid Small 1500',\n",
              " 'FTSE Shariah USA',\n",
              " 'NASDAQ Nordea SmartBeta Dividend Volatility PR',\n",
              " 'Nasdaq North America Air Transportation',\n",
              " 'NQ 100 Leveraged Notional Net Return',\n",
              " 'NQ 100 Hedged EUR Net TR',\n",
              " 'NQ 100 Double Leverage',\n",
              " 'ISE BICK TR',\n",
              " 'ISE BICK',\n",
              " 'Investing.com US 500',\n",
              " 'US 50',\n",
              " 'Investing US 30',\n",
              " 'ICE Crude Oil',\n",
              " 'Horizon Kinetics ISE Wealth TR',\n",
              " 'Horizon Kinetics ISE Wealth',\n",
              " 'Horizon Kinetics ISE International Wealth PR',\n",
              " 'ISE British Pound FX',\n",
              " 'HK ISE Global Wealth TR',\n",
              " 'HK ISE Asia ex Japan Wealth TR',\n",
              " 'HK ISE Asia ex Japan Wealth Price',\n",
              " 'HFRX GlbFdIdx',\n",
              " 'Hashdex Digital Assets',\n",
              " 'FTSE US 500',\n",
              " 'FTSE USA',\n",
              " 'FTSE4Good US 100',\n",
              " 'FTSE4Good US Benchmark',\n",
              " 'Gold x5 Leveraged',\n",
              " 'HK ISE Global Wealth Price',\n",
              " 'ISE CHIndia',\n",
              " 'ISE ChIndia TR',\n",
              " 'ISE ETF 50 Price Return',\n",
              " 'Mini Nasdaq 100',\n",
              " 'Kinetics ISE International Wealth TR',\n",
              " 'KBW Nasdaq Financial Technology NNR 85',\n",
              " 'KBW Nasdaq Financial Technology NNR 70',\n",
              " 'Jumbo CBOE Volatility',\n",
              " 'ISE Water TR',\n",
              " 'ISE SINdex TR',\n",
              " 'ISE SINdex',\n",
              " 'ISE Mobile Payments GTR',\n",
              " 'ISE Mobile Payments',\n",
              " 'ISE Junior Silver Small Cap Miners/Explorers TR',\n",
              " 'ISE HiInc TR',\n",
              " 'ISE HiInc PR',\n",
              " 'ISE Global Wind Energy TR',\n",
              " 'ISE Global Engineerng and Construction',\n",
              " 'ISE Global Engineering & Construction TR',\n",
              " 'ISE Exclusively Homebuilders TR',\n",
              " 'ISE Exclusively Homebuilders',\n",
              " 'ISE ETF Composite TR',\n",
              " 'ISE ETF Composite',\n",
              " 'ISE ETF 50 TR',\n",
              " 'DJ Top-Cap',\n",
              " 'DJ Small-Cap Value',\n",
              " 'DJ Small-Cap Growth',\n",
              " 'DJ Small-Cap',\n",
              " 'NQ US Benchmark Life Insurance',\n",
              " 'NQ US Large Cap',\n",
              " 'Nasdaq US High Yield Factor',\n",
              " 'Nasdaq US Growth Factor',\n",
              " 'NQ US Benchmark',\n",
              " 'NQ US 450 TR',\n",
              " 'NQ US 450',\n",
              " 'NQ US 300 TR',\n",
              " 'NQ US 300',\n",
              " 'Nasdaq US Large Cap Equities for Rising Rates',\n",
              " 'NQ US 1500',\n",
              " 'Nasdaq Riskalyze US Mid Cap',\n",
              " 'Nasdaq Riskalyze US Large Cap Select Dividend',\n",
              " 'Nasdaq Riskalyze US Large Cap',\n",
              " 'Nasdaq Riskalyze Emerging Markets',\n",
              " 'Nasdaq Riskalyze Developed Markets',\n",
              " 'CBOE Oil 1/10 Value',\n",
              " 'CBOE Reduced-Value',\n",
              " 'NQ Q-50',\n",
              " 'CBOE Russell 2000 Buy Write',\n",
              " 'Nasdaq Riskalyze US Small Cap',\n",
              " 'NQ US Large Cap TR',\n",
              " 'Nasdaq US Low Volatility Factor',\n",
              " 'NQ US Mid Cap',\n",
              " 'NYSE Composite TR',\n",
              " 'NYSE Composite Mini Value',\n",
              " 'NYSE Bitcoin',\n",
              " 'NASDAQ-100 Target 25 Net Excess Return',\n",
              " 'NASDAQ-100 Target 25 Excess Return',\n",
              " 'NASDAQ 100 VIX',\n",
              " 'NASDAQ-100 Target 25',\n",
              " 'CBOE Nasdaq100 Buywrite',\n",
              " 'Nasdaq-100 Notional Net TR',\n",
              " 'NQ-100 Ex-Tech TR',\n",
              " 'Nasdaq Victory Multi-Factor US Minimum Volatility',\n",
              " 'CBOE Near-Term Vix',\n",
              " 'Nasdaq Victory Dividend Accelerator Dividend Point',\n",
              " 'Nasdaq Victory Dividend Accelerator',\n",
              " 'Nasdaq US Value Factor',\n",
              " 'NQ US Small Cap',\n",
              " 'CBOE OEX Implied Volatility',\n",
              " 'Nasdaq US Quality Factor',\n",
              " 'Nasdaq US Multi-Asset Diversified Income NTR',\n",
              " 'Nasdaq US Momentum Factor',\n",
              " 'NQ US Mid Cap TR',\n",
              " 'CBOE Russell 2000 Volatility',\n",
              " 'NYSE International 100 Mini',\n",
              " 'CBOE S&P 500 3 Month Volatility',\n",
              " 'CBOE S&P 500 Implied Correlation 2014',\n",
              " 'Cohen & Steers Realty Majors Portfolio',\n",
              " 'CRSP US Mid Cap TR',\n",
              " 'CRSP US Small Cap TR',\n",
              " 'CRSP US Total Market TR',\n",
              " 'DJIA BuyWrite',\n",
              " 'DJIA Volatility',\n",
              " 'DJl Average Net TR',\n",
              " 'DJ Dividend 100',\n",
              " 'DJ EW US Corporate Bond',\n",
              " 'Cohen Steers Global Realty Majors Portfolio',\n",
              " 'DJ Growth',\n",
              " 'DJ Large-Cap',\n",
              " 'DJ Large-Cap Growth',\n",
              " 'DJ Large-Cap Value',\n",
              " 'DJ Low-Cap',\n",
              " 'DJ Mid-Cap',\n",
              " 'DJ Mid-Cap Growth',\n",
              " 'DJ Mid-Cap Value',\n",
              " 'DJ Select Dividend',\n",
              " 'DJ Select Micro-Cap',\n",
              " 'DJ High Yield Select 10',\n",
              " 'FX Yen Volatility',\n",
              " 'FX Euro Volatility',\n",
              " 'FX British Pound Volatility',\n",
              " 'CBOE S&P 500 Implied Correlation 2015',\n",
              " 'CBOE S&P 500 Putwrite',\n",
              " 'S&P 500 Short Term Volatility',\n",
              " 'CBOE S&P500 Buy Write 2% Otm',\n",
              " 'CBOE S&P500 Dec Volatility',\n",
              " 'CBOE S&P500 Jun Volatility',\n",
              " 'CBOE S&P500 Mar Volatility',\n",
              " 'CBOE S&P500 Sep Volatility',\n",
              " 'CBOE Silver Etf Volatility',\n",
              " 'CBOE SKEW',\n",
              " 'SPX Far Term VXST',\n",
              " 'SPX Near Term VXST',\n",
              " 'CBOE Spx Nearterm Expiry Vix',\n",
              " 'CBOE U.S.-Europe-Japan Basket',\n",
              " 'CBOE Vix Premium Strategy',\n",
              " 'CBOE Vix Tail Hedge',\n",
              " 'CBOE Vix Volatility',\n",
              " 'CBOE Vxeem Ask',\n",
              " 'CBOE Vxeem Bid',\n",
              " 'CBOE/Cbot Corn Volatility',\n",
              " 'CBOE/Cbot Soybean Volatility',\n",
              " 'CBOE S&P 500 95-110 Collar',\n",
              " 'NQ OMX Lighting',\n",
              " 'AMEX Tick Index',\n",
              " 'NQ OMX Healthy Living',\n",
              " 'DJ U.S. Relative Value',\n",
              " 'DJ U.S. Thematic Long Size',\n",
              " 'DJ U.S. Thematic Long Quality',\n",
              " 'DJ U.S. High Momentum',\n",
              " 'DJ US Low Beta',\n",
              " 'DJ U.S. Select Regional Banks',\n",
              " 'DJ US Select Pharmaceuticals',\n",
              " 'DJ US Select Oil Equipment Services',\n",
              " 'DJ US Select Oil Exploration Prod',\n",
              " ...]"
            ]
          },
          "metadata": {},
          "execution_count": 805
        }
      ]
    },
    {
      "cell_type": "code",
      "metadata": {
        "id": "1dUthN5S-IZO",
        "colab": {
          "base_uri": "https://localhost:8080/"
        },
        "outputId": "16319f68-bc19-4a58-a4c9-7f16324ad0e8"
      },
      "source": [
        "dow_jones=inv.search_quotes(text='dow jones', products=['indices'],countries=['united states'], n_results=1)\n",
        "print(dow_jones)"
      ],
      "execution_count": 806,
      "outputs": [
        {
          "output_type": "stream",
          "name": "stdout",
          "text": [
            "{\"id_\": 169, \"name\": \"Dow Jones Industrial Average\", \"symbol\": \"DJI\", \"country\": \"united states\", \"tag\": \"/indices/us-30\", \"pair_type\": \"indices\", \"exchange\": \"NYSE\"}\n"
          ]
        }
      ]
    },
    {
      "cell_type": "code",
      "source": [
        "Dow_Jones= inv.get_index_recent_data(\"Dow 30\",country=\"united states\")\n",
        "Dow_Jones_Industrial= Dow_Jones[[\"Close\",\"Open\"]].tail()\n",
        "print(Dow_Jones_Industrial)"
      ],
      "metadata": {
        "colab": {
          "base_uri": "https://localhost:8080/"
        },
        "id": "Zd3CtzkF40s3",
        "outputId": "c91320d0-72e7-448e-abec-07e81617b26b"
      },
      "execution_count": 807,
      "outputs": [
        {
          "output_type": "stream",
          "name": "stdout",
          "text": [
            "               Close      Open\n",
            "Date                          \n",
            "2022-01-13  36114.94  36440.52\n",
            "2022-01-14  35911.28  35996.43\n",
            "2022-01-18  35369.39  35541.37\n",
            "2022-01-19  35029.17  35412.30\n",
            "2022-01-20  35210.09  35150.02\n"
          ]
        }
      ]
    },
    {
      "cell_type": "code",
      "source": [
        "Apertura_indice_Dow_Jones_Industrial = (Dow_Jones_Industrial.iat[4,1])#Este comando esta extraer un valor especifico de un dataframe\n",
        "print(Apertura_indice_Dow_Jones_Industrial)"
      ],
      "metadata": {
        "colab": {
          "base_uri": "https://localhost:8080/"
        },
        "id": "jYVOV3r_7I0i",
        "outputId": "b69e10d4-1176-4d4f-b8bd-ee7a04cbdaa3"
      },
      "execution_count": 808,
      "outputs": [
        {
          "output_type": "stream",
          "name": "stdout",
          "text": [
            "35150.02\n"
          ]
        }
      ]
    },
    {
      "cell_type": "code",
      "source": [
        "Cierre_precio_anterior_Dow_Jones_Industrial = Dow_Jones_Industrial.iat[3,0]\n",
        "print(Cierre_precio_anterior_Dow_Jones_Industrial)"
      ],
      "metadata": {
        "colab": {
          "base_uri": "https://localhost:8080/"
        },
        "id": "vwgKhJJd7JAQ",
        "outputId": "b6c960a8-30bf-4bfc-a215-f30b059bfef4"
      },
      "execution_count": 809,
      "outputs": [
        {
          "output_type": "stream",
          "name": "stdout",
          "text": [
            "35029.17\n"
          ]
        }
      ]
    },
    {
      "cell_type": "code",
      "source": [
        "Cierre_precio_anterior5dias_Dow_Jones_Industrial= Dow_Jones_Industrial.iat[0,0]\n",
        "print(Cierre_precio_anterior5dias_Dow_Jones_Industrial)"
      ],
      "metadata": {
        "colab": {
          "base_uri": "https://localhost:8080/"
        },
        "id": "m03sKAGz7JJ_",
        "outputId": "741b41cc-bca1-41a3-f1b6-fdd6cae76f16"
      },
      "execution_count": 810,
      "outputs": [
        {
          "output_type": "stream",
          "name": "stdout",
          "text": [
            "36114.94\n"
          ]
        }
      ]
    },
    {
      "cell_type": "markdown",
      "metadata": {
        "id": "gtLhno6-CK8K"
      },
      "source": [
        "**S&p500** "
      ]
    },
    {
      "cell_type": "code",
      "metadata": {
        "id": "AIfgEMHPCbxm",
        "colab": {
          "base_uri": "https://localhost:8080/"
        },
        "outputId": "25d9d10c-1b97-438d-9aa8-4becce938d6a"
      },
      "source": [
        "Standarpoor500=inv.search_quotes(\"S&P 500 \", products=['indices'],countries=['united states'], n_results=1)\n",
        "print(Standarpoor500)"
      ],
      "execution_count": 811,
      "outputs": [
        {
          "output_type": "stream",
          "name": "stdout",
          "text": [
            "{\"id_\": 166, \"name\": \"S&P 500\", \"symbol\": \"US500\", \"country\": \"united states\", \"tag\": \"/indices/us-spx-500\", \"pair_type\": \"indices\", \"exchange\": \"NYSE\"}\n"
          ]
        }
      ]
    },
    {
      "cell_type": "code",
      "source": [
        "SP_500= inv.get_index_recent_data(\"S&P 500\",country=\"united states\")\n",
        "SP_500_1 = SP_500[[\"Close\",\"Open\"]].tail()\n",
        "print(SP_500_1)"
      ],
      "metadata": {
        "colab": {
          "base_uri": "https://localhost:8080/"
        },
        "id": "srbHQzNk6a0M",
        "outputId": "642f0375-802b-45be-860a-ebe794a91760"
      },
      "execution_count": 812,
      "outputs": [
        {
          "output_type": "stream",
          "name": "stdout",
          "text": [
            "              Close     Open\n",
            "Date                        \n",
            "2022-01-13  4659.02  4733.56\n",
            "2022-01-14  4662.85  4637.99\n",
            "2022-01-18  4577.34  4632.24\n",
            "2022-01-19  4532.76  4588.03\n",
            "2022-01-20  4558.70  4551.20\n"
          ]
        }
      ]
    },
    {
      "cell_type": "code",
      "source": [
        "Apertura_indice_SP_500 = (SP_500_1.iat[4,1])#Este comando esta extraer un valor especifico de un dataframe\n",
        "print(Apertura_indice_SP_500)"
      ],
      "metadata": {
        "colab": {
          "base_uri": "https://localhost:8080/"
        },
        "id": "eeJh3D_w7Ks5",
        "outputId": "08276ab6-9e67-446f-e865-1660aa3203f1"
      },
      "execution_count": 813,
      "outputs": [
        {
          "output_type": "stream",
          "name": "stdout",
          "text": [
            "4551.2\n"
          ]
        }
      ]
    },
    {
      "cell_type": "code",
      "source": [
        "Cierre_precio_anterior_SP_500= SP_500_1.iat[3,0]\n",
        "print(Cierre_precio_anterior_SP_500)"
      ],
      "metadata": {
        "colab": {
          "base_uri": "https://localhost:8080/"
        },
        "id": "o-F3V-AZ7K3j",
        "outputId": "ca42a3cc-928a-45dd-f78f-6859159fe9c5"
      },
      "execution_count": 814,
      "outputs": [
        {
          "output_type": "stream",
          "name": "stdout",
          "text": [
            "4532.76\n"
          ]
        }
      ]
    },
    {
      "cell_type": "code",
      "source": [
        "Cierre_precio_anterior5dias_SP_500= SP_500_1.iat[0,0]\n",
        "print(Cierre_precio_anterior5dias_SP_500)"
      ],
      "metadata": {
        "colab": {
          "base_uri": "https://localhost:8080/"
        },
        "id": "logCNJwr7K-1",
        "outputId": "a3fd6359-0845-4508-8dbf-c46d8ac13040"
      },
      "execution_count": 815,
      "outputs": [
        {
          "output_type": "stream",
          "name": "stdout",
          "text": [
            "4659.02\n"
          ]
        }
      ]
    },
    {
      "cell_type": "markdown",
      "metadata": {
        "id": "26XOOhcSCcX2"
      },
      "source": [
        "**Euro Stoxx 50**"
      ]
    },
    {
      "cell_type": "code",
      "metadata": {
        "id": "GVyjSVfzCeKa",
        "colab": {
          "base_uri": "https://localhost:8080/"
        },
        "outputId": "0d28fb01-faf8-42d2-c074-431605123d58"
      },
      "source": [
        "Euro_stoxx_50=inv.search_quotes(text='Euro Stoxx 50', products=['indices'],countries=['euro zone'], n_results=1)\n",
        "print(Euro_stoxx_50)"
      ],
      "execution_count": 816,
      "outputs": [
        {
          "output_type": "stream",
          "name": "stdout",
          "text": [
            "{\"id_\": 175, \"name\": \"Euro Stoxx 50\", \"symbol\": \"STOXX50\", \"country\": \"euro zone\", \"tag\": \"/indices/eu-stoxx50\", \"pair_type\": \"indices\", \"exchange\": \"Xetra\"}\n"
          ]
        }
      ]
    },
    {
      "cell_type": "code",
      "source": [
        "inv.get_indices_list(\"euro zone\")"
      ],
      "metadata": {
        "colab": {
          "base_uri": "https://localhost:8080/"
        },
        "id": "N_7BfFsvgdPL",
        "outputId": "a09921d2-0f9d-48d5-ecf7-3be7c32ae034"
      },
      "execution_count": 817,
      "outputs": [
        {
          "output_type": "execute_result",
          "data": {
            "text/plain": [
              "['FTSE MTS Highest Rated Macro-Weighted Government B',\n",
              " 'FTSE MTS Eurozone Government Broad IG 10-15Y',\n",
              " 'FTSE MTS Eurozone Government Broad IG 5-7Y',\n",
              " 'FTSE MTS Eurozone Government Broad IG 3-5Y',\n",
              " 'FTSE MTS Eurozone Government Bond IG Ex-CNO',\n",
              " 'FTSE MTS Eur Gov Bond IG 15Y+ Ex-CNO',\n",
              " 'FTSE MTS Eur Gov Bond IG 10-15Y Ex-CNO',\n",
              " 'FTSE MTS Eur Gov Bond IG 7-10Y Ex-CNO',\n",
              " 'TR Eurozone 2 Years Government Benchmark',\n",
              " 'TR Eurozone 3 Years Government Benchmark',\n",
              " 'TR Eurozone 5 Years Government Benchmark',\n",
              " 'TR Eurozone 7 Years Government Benchmark',\n",
              " 'TR Eurozone 10 Years Government Benchmark',\n",
              " 'TR Eurozone 15 Years Government Benchmark',\n",
              " 'FTSE MTS Eur Gov Bond IG 3-5Y Ex-CNO',\n",
              " 'FTSE MTS Eurozone Government Broad IG',\n",
              " 'FTSE MTS Eur Gov Bond IG 5-7Y Ex-CNO',\n",
              " 'FTSE MTS Eur Gov Bond IG 1-3Y Ex-CNO',\n",
              " 'FTSE MTS Highest-Rated Eurozone Government Bond',\n",
              " 'TR Eurozone 20 Years Government Benchmark',\n",
              " 'TR Eurozone 30 Years Government Benchmark',\n",
              " 'Amundi Float Rate Eur Corp 1-3',\n",
              " 'iBoxx EUR Liquid Investment Grade Ultrashort',\n",
              " 'FTSE MTS Short Eurozone Government Broad IG 10-15Y',\n",
              " 'FTSE MTS Eurozone Inflation-Linked Bond IG',\n",
              " 'MSCI Europe Industrials NR USD',\n",
              " 'MSCI EMU',\n",
              " 'MSCI EMU Small Cap',\n",
              " 'MSCI EMU Mid Cap',\n",
              " 'MSCI EMU Large Cap',\n",
              " 'MSCI EM Europe',\n",
              " 'MSCI EM Eastern Europe',\n",
              " 'MSCI Europe Ex EMU',\n",
              " 'MSCI Europe Ex UK',\n",
              " 'MSCI EMU Ex Germany',\n",
              " 'MSCI AC Europe',\n",
              " 'FTSE EPRA NAREIT Eurozone Capped Net TRI',\n",
              " 'EURO STOXX 50 Daily Short',\n",
              " 'EURO STOXX 50 Daily Leverage',\n",
              " 'EURO STOXX Small Cap',\n",
              " 'MSCI Euro In Euro',\n",
              " 'MSCI Pan-Euro In Euro',\n",
              " 'MSCI EM Eastern Europe Ex RU',\n",
              " 'FTSE Nordic 30 USD',\n",
              " 'FTSE Nordic 30',\n",
              " 'FTSE All World Europe',\n",
              " 'BNY Mellon Europe Classic ADR TR',\n",
              " 'FTSE MTS Eonia Investable',\n",
              " 'BNY Mellon Europe ADR TR',\n",
              " 'BNY Mellon Europe Classic ADR',\n",
              " 'BNY Mellon Europe ADR',\n",
              " 'The Europe Dow USD',\n",
              " 'STOXX Europe 600 EUR NR',\n",
              " 'MSCI Europe FX Hedge',\n",
              " 'MSCI Europe Standard',\n",
              " 'MSCI Europe Ex Switzerland',\n",
              " 'FTSE RAFI Europe NR',\n",
              " 'EuroMTS Lowest-Rated Eurozone IG Go',\n",
              " 'EURO STOXX Oil Gas NR',\n",
              " 'EuroMTS Eurozone Government Broad A',\n",
              " 'FTSEurofirst Euro Personal & Household Goods',\n",
              " 'FTSEurofirst Euro Food & Beverage',\n",
              " 'FTSEurofirst Euro Automobiles & Parts',\n",
              " 'FTSEurofirst Euro Industrial Goods & Services',\n",
              " 'FTSEurofirst Euro Construction & Materials',\n",
              " 'FTSEurofirst Euro Basic Resources',\n",
              " 'FTSEurofirst Euro Chemicals',\n",
              " 'FTSEurofirst Euro Oil & Gas',\n",
              " 'FTSEurofirst Technology',\n",
              " 'FTSEurofirst Financial Services',\n",
              " 'FTSEurofirst Real Estate',\n",
              " 'FTSEurofirst Insurance',\n",
              " 'FTSEurofirst Banks',\n",
              " 'FTSEurofirst Euro Health Care',\n",
              " 'FTSEurofirst Utilities',\n",
              " 'FTSEurofirst Travel & Leisure',\n",
              " 'FTSEurofirst Media',\n",
              " 'FTSEurofirst Retail',\n",
              " 'FTSEurofirst Health Care',\n",
              " 'FTSEurofirst 300 Real Estate Investment & Services',\n",
              " 'FTSEurofirst 300 Banks',\n",
              " 'FTSEurofirst 300 Financials',\n",
              " 'FTSEurofirst 300 Utilities',\n",
              " 'FTSEurofirst 300 Telecommunications',\n",
              " 'FTSEurofirst 300 Travel & Leisure',\n",
              " 'FTSEurofirst 300 Media',\n",
              " 'FTSEurofirst 300 General Retailers',\n",
              " 'FTSEurofirst 300 Food & Drug Retailers',\n",
              " 'FTSEurofirst Telecommunications',\n",
              " 'FTSEurofirst Euro Retail',\n",
              " 'FTSEurofirst Euro Media',\n",
              " 'FTSEurofirst Euro Travel & Leisure',\n",
              " 'EuroMTS Eurozone IG Government Broa',\n",
              " 'EuroMTS Eurozone IG 7-10Y Governmen',\n",
              " 'EuroMTS Eurozone IG 1-3Y Government',\n",
              " 'EuroMTS Highest Rated Government Bo',\n",
              " 'FTSE MTS Highest-Rated Eurozone Gov',\n",
              " 'Short EuroMTS IG Broad All 1100',\n",
              " 'Short EuroMTS IG Broad All 1730',\n",
              " 'EuroMTS Highest Rated MW 5-7 1730',\n",
              " 'EuroMTS Highest Rated MW 3-5 1730',\n",
              " 'EuroMTS Highest Rated MW 1-3 1730',\n",
              " 'SGI Bond EONIA',\n",
              " 'iBoxx EUR Liquid Sov Capped 1-5 TRI',\n",
              " 'IBX EUREZ AAA 1-3T',\n",
              " 'IBX EURSOV GC3M2',\n",
              " 'CBK EONIA EUR',\n",
              " 'iBoxx EUR Liquid Sover Divers 1-10',\n",
              " 'Stoxx 600 Banks PR',\n",
              " 'EURO STOXX Telecommunications 30-15',\n",
              " 'MSCI Europe MID CAP',\n",
              " 'EURO STOXX Health Care Price',\n",
              " 'EURO STOXX Banks 30-15',\n",
              " 'STOXX Europe 600 Real Estate Cap NR',\n",
              " 'FTSEurofirst Euro Technology',\n",
              " 'FTSEurofirst Euro Financial Services',\n",
              " 'FTSEurofirst Eurozone Real Estate',\n",
              " 'FTSEurofirst Euro Insurance',\n",
              " 'FTSEurofirst Euro Banks',\n",
              " 'FTSEurofirst Euro Utilities',\n",
              " 'FTSEurofirst Euro Telecommunications',\n",
              " 'EuroMTS Lowest Rated Investment Gra',\n",
              " 'MSCI Europe Small Cap',\n",
              " 'EURO ISTOXX 50 Equal Risk',\n",
              " 'MSCI Europe IMI',\n",
              " 'STOXX 50 Daily Leverage x3 EUR NR',\n",
              " 'STOXX 50 Daily Short 3 EUR GR',\n",
              " 'STOXX 50 Volatility Mid-Term Futures EUR TR',\n",
              " 'STOXX 50 Volatility VSTOXX EUR',\n",
              " 'STOXX Europe 600 Equal Weight EUR NR',\n",
              " 'STOXX Europe 600 Retail EUR NR',\n",
              " 'STOXX Europe 600 Optimised Retail',\n",
              " 'STOXX Europe 600 Optimised Media',\n",
              " 'STOXX Europe 600 Opt Chem EUR NR',\n",
              " 'STOXX Europe 600 Chemicals EUR NR',\n",
              " 'STOXX Europe Strong Value 20 EUR',\n",
              " 'STOXX Europe Strong Style Composite 40 EUR Price',\n",
              " 'STOXX Total Market Large EUR NR',\n",
              " 'SX5EF 3XL',\n",
              " 'STOXX Total Market Large EUR P',\n",
              " 'STOXX Total Market Growth Large Price EUR',\n",
              " 'Short DAX',\n",
              " 'STOXX Europe Strong Growth 20 EUR P',\n",
              " 'STOXX Global Select Div 100 EUR',\n",
              " 'STOXX Select Div 30 EUR P',\n",
              " 'STOXX Small EUR NR',\n",
              " 'STOXX Europe Small 200 EUR NR',\n",
              " 'STOXX Europe Small 200 EUR Price',\n",
              " 'STOXX Europe 600 RE Cap EUR Price',\n",
              " 'MSCI Europe Materials Sector EUR',\n",
              " 'MSCI Europe Consumer Staples EUR',\n",
              " 'MSCI Europe Consumer Discretionary Price EUR',\n",
              " 'MSCI Europe Small Price EUR',\n",
              " 'STOXX Total Market Growth Large NR EUR',\n",
              " 'SX5EF 4XL',\n",
              " 'SX5EF 3XS',\n",
              " 'SX5EF 4XS',\n",
              " 'NQ EURO 50',\n",
              " 'NQ EM Europe Media',\n",
              " 'NQ AlphaDEX Eurozone',\n",
              " 'NQ AlphaDEX Europe',\n",
              " 'BNY Mellon Eastern Europe GDR TR',\n",
              " 'BNY Mellon Eastern Europe DR TR',\n",
              " 'BNY Mellon Euroland ADR',\n",
              " 'DJ Europe - Nordic',\n",
              " 'DJ Europe ex-UK',\n",
              " 'DJ Europe ex-UK Consumer Services',\n",
              " 'DJ Europe exUK Basic Materials',\n",
              " 'DJ Europe Industrials',\n",
              " 'DJ Europe Consumer Services',\n",
              " 'DJ Europe Basic Materials',\n",
              " 'DJ Europe Select Real Estate',\n",
              " 'DJ Islamic Euro Small-Cap',\n",
              " 'DJ Islamic Euro Large-Cap',\n",
              " 'DJ Islamic Market Euro',\n",
              " 'DJ Islamic Europe Mid-Cap',\n",
              " 'DJ Islamic Market Europe',\n",
              " 'DJ Eurozone SelDiv 30 USD',\n",
              " 'DJ Eurozone SelDiv 30 EUR',\n",
              " 'DJ Eurozone SelDiv 30 Dist EUR',\n",
              " 'DJ Europe SelDiv 30 USD',\n",
              " 'DJ Europe SelDiv 30 EUR',\n",
              " 'DJ Europe SelDiv 30 Distr EUR',\n",
              " 'DJ Islamic Europe Titans 25',\n",
              " 'STOXX Value Large EUR Net Return',\n",
              " 'STOXX Value Large EUR Price',\n",
              " 'MSCI Intl EMU P EUR',\n",
              " 'MSCI Europe SMID',\n",
              " 'MSCI Europe Information Tech NR USD',\n",
              " 'MSCI Intl EMU Growth P EUR',\n",
              " 'EURO STOXX Mid EUR Price',\n",
              " 'FTSE EPRA NAREIT Europe Ex UK Div',\n",
              " 'Stoxx 600 Travel & Leisure PR',\n",
              " 'Stoxx 600 Personal Goods PR',\n",
              " 'Stoxx 600 Basic Resources PR',\n",
              " 'Stoxx 600 Industrial Goods Srvcs PR',\n",
              " 'Stoxx 600 Media NR',\n",
              " 'Stoxx 600 Media PR',\n",
              " 'Stoxx 600 Financial Services PR',\n",
              " 'FTSEurofirst 300 Pharmaceuticals & Biotechnology',\n",
              " 'STXE Technology NR',\n",
              " 'Stoxx 600 Chemicals PR',\n",
              " 'MSCI Europe Barra Value',\n",
              " 'EURO STOXX Select Div 30 EUR NR',\n",
              " 'MSCI Europe Barra Momentum',\n",
              " 'MSCI Europe Barra Low Lev',\n",
              " 'MSCI EM Eastern Europe 10 40',\n",
              " 'MSCI Europe Materials',\n",
              " 'MSCI Europe It',\n",
              " 'MSCI Europe Energy',\n",
              " 'MSCI Europe Consumer Staples',\n",
              " 'MSCI Europe Consumer Disc',\n",
              " 'MSCI EMU Materials',\n",
              " 'MSCI EMU IT',\n",
              " 'MSCI EMU Energy',\n",
              " 'MSCI EMU EAFE',\n",
              " 'MSCI EMU Consumer Disc',\n",
              " 'MSCI Europe Large Cap',\n",
              " 'MSCI Europe Barra Low Vol',\n",
              " 'FTSE EUROFIRST 100 Market',\n",
              " 'FTSE EUROFIRST 80 Market',\n",
              " 'FTSE Eurofirst 100',\n",
              " 'MSCI Europe ex UK Net USD',\n",
              " 'MSCI EM Europe Net USD',\n",
              " 'MSCI EM East Europe Net EUR',\n",
              " 'MSCI EM East Europe Net USD',\n",
              " 'MSCI Europe ex EMU Net EUR',\n",
              " 'MSCI Europe ex Swiss Net EUR',\n",
              " 'MSCI Europe Materials NR USD',\n",
              " 'MSCI Europe Consumer Staples NR USD',\n",
              " 'MSCI Intl Europe Consumer Discr NR USD',\n",
              " 'MSCI Europe Small Cap NR USD',\n",
              " 'MSCI Intl Europe Value Net EUR',\n",
              " 'MSCI Europe Growth Net EUR',\n",
              " 'MSCI Europe Short Gross EUR',\n",
              " 'MSCI Europe Net USD',\n",
              " 'MSCI Europe Net EUR',\n",
              " 'MSCI Europe Leveraged 2x Net EUR',\n",
              " 'MSCI EMU Small Net EUR',\n",
              " 'MSCI EMU Value Net EUR',\n",
              " 'MSCI EMU Growth Net EUR',\n",
              " 'MSCI EMU Net USD',\n",
              " 'MSCI EMU Net EUR',\n",
              " 'STOXX Mid EUR NR',\n",
              " 'STOXX Europe Mid 200 EUR NR',\n",
              " 'STOXX Europe Mid 200 EUR P',\n",
              " 'STOXX Europe Large 200 EUR Price',\n",
              " 'Europe Minimum Variance NR EUR',\n",
              " 'FTSE EPRA/NAREIT Dev Europe Net TRI',\n",
              " 'FTSE RAFI Europe USD',\n",
              " 'FTSE RAFI Europe EUR',\n",
              " 'MSCI Intl EMU Small P EUR',\n",
              " 'FTSEurofirst 300 Health Care',\n",
              " 'MSCI Intl EMU Value P EUR',\n",
              " 'FTSEurofirst 300 Household Goods & Home Constructi',\n",
              " 'Stoxx 600 Banks PR',\n",
              " 'Stoxx 600 Banks NR',\n",
              " 'Stoxx 600 Automobiles & Parts RP',\n",
              " 'Stoxx 600 Automobiles & Parts NR',\n",
              " 'STXE Health Care PR',\n",
              " 'STXE Health Care NR',\n",
              " 'STXE Oil & Gas NR',\n",
              " 'Stoxx 600 Insurance PR',\n",
              " 'Stoxx 600 Insurance NR',\n",
              " 'STXE Telecommunications NR',\n",
              " 'Stoxx 600 Construction Materials PR',\n",
              " 'STXE Construction & Materials NR',\n",
              " 'MSCI Europe Energy NR USD',\n",
              " 'MSCI Europe Health Care NR USD',\n",
              " 'MSCI Europe RE P EUR',\n",
              " 'MSCI Europe Telecom Svc NR USD',\n",
              " 'MSCI Europe Utilities NR USD',\n",
              " 'MSCI Europe Energy Price EUR',\n",
              " 'MSCI Europe Financials Price EUR',\n",
              " 'MSCI Europe Health Care EUR',\n",
              " 'MSCI Europe Industrials EUR',\n",
              " 'MSCI Europe Info Tech P EUR',\n",
              " 'MSCI Europe Telecom Srvcs Price EUR',\n",
              " 'MSCI Europe Utilities Sector EUR',\n",
              " 'STOXX 600 Banks Daily Short EUR GR',\n",
              " 'STXE Utilities NR',\n",
              " 'Stoxx 600 Food & Beverage NR',\n",
              " 'Stoxx 600 Food & Beverage PR',\n",
              " 'MSCI Europe Utilities',\n",
              " 'MSCI Europe',\n",
              " 'FTSE Europe',\n",
              " 'MSCI Mexico Net USD',\n",
              " 'DJ Europe',\n",
              " 'The Europe Dow EUR',\n",
              " 'FTSE4Good Europe 50',\n",
              " 'STOXX 600',\n",
              " 'REIT Europe NR',\n",
              " 'REIT Europe GR',\n",
              " 'REIT Europe',\n",
              " 'STOXX Europe 600 Utilities',\n",
              " 'STOXX Europe 600 Technology',\n",
              " 'STOXX Europe 600 RE EUR NR',\n",
              " 'STOXX Europe 600 Oil & Gas',\n",
              " 'STOXX Europe 600 Retail',\n",
              " 'MSCI EMU Financials',\n",
              " 'MSCI EMU Health Care',\n",
              " 'MSCI EMU Industrials',\n",
              " 'MSCI EMU Telecom',\n",
              " 'MSCI EMU Utilities',\n",
              " 'MSCI Europe Financials',\n",
              " 'MSCI Europe Health Care',\n",
              " 'FTSEurofirst 300 Personal Goods',\n",
              " 'MSCI EU',\n",
              " 'MSCI Europe Industrials',\n",
              " 'MSCI Europe Telecom',\n",
              " 'STOXX Europe 600 Telecom',\n",
              " 'STOXX Europe 600 Oil Gas Short EUR GR',\n",
              " 'STOXX 600',\n",
              " 'STOXX Europe 600 Opt Food Beverage',\n",
              " 'BNY Mellon European Telecom ADR',\n",
              " 'BNY Mellon European Oil & Gas ADR',\n",
              " 'FTSEurofirst 300 Food Producers',\n",
              " 'FTSEurofirst 300 Beverages',\n",
              " 'FTSEurofirst 300 Automobiles & Parts',\n",
              " 'FTSEurofirst 300 Consumer Goods',\n",
              " 'FTSEurofirst 300 Electronic & Electrical Equipment',\n",
              " 'FTSEurofirst 300 Aerospace & Defense',\n",
              " 'FTSEurofirst 300 Construction & Materials',\n",
              " 'BNY Mellon European Oil & Gas ADR TR',\n",
              " 'FTSEurofirst 300 Industrials',\n",
              " 'FTSEurofirst 300 Mining',\n",
              " 'DJ Europe ex-U.K. Utilities',\n",
              " 'FTSEurofirst 300 Chemicals',\n",
              " 'FTSEurofirst 300 Oil & Gas',\n",
              " 'FTSEurofirst Personal & Household Goods',\n",
              " 'FTSEurofirst Food & Beverage',\n",
              " 'FTSEurofirst Automobiles & Parts',\n",
              " 'BNY Mellon European Telecom ADR TR',\n",
              " 'FTSEurofirst Industrial Goods & Services',\n",
              " 'FTSEurofirst Construction & Materials',\n",
              " 'FTSEurofirst Basic Resources',\n",
              " 'FTSEurofirst Chemicals',\n",
              " 'NQ EM MEA Technology',\n",
              " 'NQ EM Europe Health Care',\n",
              " 'STOXX Europe 600 Fin Srvcs EUR NR',\n",
              " 'FTSEurofirst 300 Basic Materials',\n",
              " 'DJ Europe ex-UK Telecom',\n",
              " 'FTSEurofirst 300 Industrial Metals & Mining',\n",
              " 'DJ Europe ex-UK Consumer Goods',\n",
              " 'DJ Europe ex-U.K. Technology',\n",
              " 'STOXX Europe 600 Optimised Tech',\n",
              " 'STOXX Europe 600 Optim HealthCare',\n",
              " 'STOXX Europe 600 Optimised Oil Gas',\n",
              " 'STOXX Europe 600 Optimised Fin Srvc',\n",
              " 'STOXX Europe 600 Optim Insurance',\n",
              " 'STOXX Europe 600 Optimised Telecom',\n",
              " 'MSCI International EMU Defensive Sectors Capped PR',\n",
              " 'STOXX Banks EUR NR',\n",
              " 'STOXX Food Beverage EUR Net Return',\n",
              " 'STOXX 600 ex UK Retail EUR NR',\n",
              " 'EURO STOXX Retail USD Price',\n",
              " 'STOXX Europe 600 Retail USD Price',\n",
              " 'MSCI International EMU Cyclical Sectors Capped PR',\n",
              " 'DJ Europe Select REIT',\n",
              " 'DJ Europe ex-UK Industrials',\n",
              " 'DJ Europe ex-U.K. Health Care',\n",
              " 'DJ Europe ex-U.K. Financials',\n",
              " 'DJ Europe ex-U.K. Oil & Gas',\n",
              " 'DJ Europe Utilities',\n",
              " 'DJ Europe Telecommunications',\n",
              " 'STOXX Europe 600 Optim Utilities',\n",
              " 'DJ Europe Consumer Goods',\n",
              " 'DJ Europe Health Care',\n",
              " 'DJ Europe Financials',\n",
              " 'DJ Europe Oil Gas',\n",
              " 'DJ Europe Technology']"
            ]
          },
          "metadata": {},
          "execution_count": 817
        }
      ]
    },
    {
      "cell_type": "code",
      "source": [
        "Euro_Stoxx_50=inv.get_index_recent_data(\"Euro Stoxx 50\",country=\"germany\")\n",
        "Stoxx_50=Euro_Stoxx_50[[\"Close\",\"Open\"]].tail()\n",
        "print(Stoxx_50)"
      ],
      "metadata": {
        "colab": {
          "base_uri": "https://localhost:8080/"
        },
        "id": "WFrmZIxqfn_A",
        "outputId": "81f383f8-6e7f-4549-a745-cb22e4eff505"
      },
      "execution_count": 818,
      "outputs": [
        {
          "output_type": "stream",
          "name": "stdout",
          "text": [
            "              Close     Open\n",
            "Date                        \n",
            "2022-01-14  4272.19  4307.48\n",
            "2022-01-17  4302.14  4281.31\n",
            "2022-01-18  4257.82  4293.58\n",
            "2022-01-19  4268.28  4249.40\n",
            "2022-01-20  4299.61  4271.25\n"
          ]
        }
      ]
    },
    {
      "cell_type": "code",
      "source": [
        "Apertura_indice_Euro_Stoxx_50 = (Stoxx_50.iat[4,1])#Este comando esta extraer un valor especifico de un dataframe\n",
        "print(Apertura_indice_Euro_Stoxx_50)"
      ],
      "metadata": {
        "colab": {
          "base_uri": "https://localhost:8080/"
        },
        "id": "VLZVVS38xax8",
        "outputId": "1215c394-c88e-4d4c-8270-39b2f680bb9e"
      },
      "execution_count": 819,
      "outputs": [
        {
          "output_type": "stream",
          "name": "stdout",
          "text": [
            "4271.25\n"
          ]
        }
      ]
    },
    {
      "cell_type": "code",
      "source": [
        "Cierre_precio_anterior_Euro_Stoxx_50 = Stoxx_50.iat[3,0]\n",
        "print(Cierre_precio_anterior_Euro_Stoxx_50 )"
      ],
      "metadata": {
        "colab": {
          "base_uri": "https://localhost:8080/"
        },
        "id": "u8LW1u0Zxa9m",
        "outputId": "88b68681-36ec-4ed1-f334-30fa3d24882a"
      },
      "execution_count": 820,
      "outputs": [
        {
          "output_type": "stream",
          "name": "stdout",
          "text": [
            "4268.28\n"
          ]
        }
      ]
    },
    {
      "cell_type": "code",
      "source": [
        "Cierre_precio_anterior5dias_Euro_Stoxx_50= Stoxx_50.iat[0,0]\n",
        "print(Cierre_precio_anterior5dias_Euro_Stoxx_50)"
      ],
      "metadata": {
        "colab": {
          "base_uri": "https://localhost:8080/"
        },
        "id": "zbsShRihxbKo",
        "outputId": "953fbbea-7f6b-47af-c404-a04bc27c4abc"
      },
      "execution_count": 821,
      "outputs": [
        {
          "output_type": "stream",
          "name": "stdout",
          "text": [
            "4272.19\n"
          ]
        }
      ]
    },
    {
      "cell_type": "markdown",
      "metadata": {
        "id": "TcTs_n0GCena"
      },
      "source": [
        "**Dax (Alemania)**"
      ]
    },
    {
      "cell_type": "code",
      "metadata": {
        "id": "ueXDrPqbCj7b",
        "colab": {
          "base_uri": "https://localhost:8080/"
        },
        "outputId": "4e874d4b-c77d-4b77-fc9a-c53cd89969d4"
      },
      "source": [
        "Dax_Alemania=inv.search_quotes(text='DAX Futures', products=['indices'],countries=['germany'], n_results=1)\n",
        "print(Dax_Alemania)"
      ],
      "execution_count": 822,
      "outputs": [
        {
          "output_type": "stream",
          "name": "stdout",
          "text": [
            "{\"id_\": 8826, \"name\": \"DAX Futures\", \"symbol\": \"DE30\", \"country\": \"germany\", \"tag\": \"/indices/germany-30-futures\", \"pair_type\": \"indices\", \"exchange\": \"Eurex\"}\n"
          ]
        }
      ]
    },
    {
      "cell_type": "code",
      "source": [
        "inv.get_indices_list(\"germany\")"
      ],
      "metadata": {
        "colab": {
          "base_uri": "https://localhost:8080/"
        },
        "id": "Ud4oEi8nnz1f",
        "outputId": "6670ede3-4e90-426c-c898-5694534be3c3"
      },
      "execution_count": 823,
      "outputs": [
        {
          "output_type": "execute_result",
          "data": {
            "text/plain": [
              "['Technology All Share',\n",
              " 'Pharma & Healthcare',\n",
              " 'Software',\n",
              " 'Technology',\n",
              " 'Telecom',\n",
              " 'Transport & Logistics',\n",
              " 'DJ Germany Titans 30 TR US',\n",
              " 'Midcap',\n",
              " 'Retail',\n",
              " 'Classic All Share',\n",
              " 'XETRA DAX Price',\n",
              " 'Prime All Share',\n",
              " 'REX 10 Years',\n",
              " 'REX 10 Year Performance',\n",
              " 'REX 1 Year Performance',\n",
              " 'REX 1 Year',\n",
              " 'REX',\n",
              " 'PRIME IG MINING',\n",
              " 'Prime All Share Price',\n",
              " 'North American Marijuana',\n",
              " 'NISAX 20',\n",
              " 'MVIS Vietnam TR Net',\n",
              " 'MVIS US Listed Retail 25 Pr',\n",
              " 'MVIS US Business Development Companies Pr',\n",
              " 'MVIS Russia TR Net',\n",
              " 'MVIS Russia Small Cap',\n",
              " 'MVIS Russia',\n",
              " 'MVIS Poland TR Net',\n",
              " 'MVIS India Small-Cap TR Net',\n",
              " 'MVIS Global Rare Earth/Strategic Metals TR Net',\n",
              " 'MVIS Global Junior Gold Miners TR Net',\n",
              " 'MVIS Egypt TR Net',\n",
              " 'MVIS Brazil Small-Cap TR Net',\n",
              " 'REX 2 Year Performance',\n",
              " 'Long DAX x3 AR TR',\n",
              " 'REX 2 Years',\n",
              " 'REX 3 Years',\n",
              " 'TecDAX Price',\n",
              " 'STOXX Europe 50 EUR Price',\n",
              " 'STOXX 50 EUR Net Return',\n",
              " 'Solactive Leveraged Short x 7 BTP Futures',\n",
              " 'Solacative Computing Cloud Performance',\n",
              " 'ShortDAX x2 TR',\n",
              " 'Short DAX x3 AR TR',\n",
              " 'SDAX Price',\n",
              " 'REX Performance',\n",
              " 'REX 9 Years',\n",
              " 'REX 9 Year Performance',\n",
              " 'REX 8 Years',\n",
              " 'REX 8 Year Performance',\n",
              " 'REX 7 Years',\n",
              " 'REX 7 Year Performance',\n",
              " 'REX 6 Years',\n",
              " 'REX 6 Year Performance',\n",
              " 'REX 5 Years',\n",
              " 'REX 5 Year Performance',\n",
              " 'REX 4 Years',\n",
              " 'REX 4 Year Performance',\n",
              " 'REX 3 Year Performance',\n",
              " 'HDAX',\n",
              " 'LEVDAX X5 TR',\n",
              " 'Germany 50',\n",
              " 'Transport & Logistics Price',\n",
              " 'Telecom Price',\n",
              " 'Technology Price',\n",
              " 'Software Price',\n",
              " 'Retail Price',\n",
              " 'Pharma & Healthcare Price',\n",
              " 'Media Price',\n",
              " 'Insurance Price',\n",
              " 'Industrial Price',\n",
              " 'Food & Beverages Price',\n",
              " 'Financial Services Price',\n",
              " 'Consumer & Cyclical Price',\n",
              " 'Construction Price',\n",
              " 'Chemicals Price',\n",
              " 'Basic Resources Price',\n",
              " 'Banks Price',\n",
              " 'Automobile Price',\n",
              " 'EUROGOV Fance 1-10Y Price',\n",
              " 'Media',\n",
              " 'TecDAX',\n",
              " 'SDAX',\n",
              " 'Utilities Price',\n",
              " 'LevDAX x2 TR EUR',\n",
              " 'EURO STOXX 50 DVP Futures EUR Price',\n",
              " 'BNP Paribas Next 11 Core 8 TR',\n",
              " 'HDAX Price',\n",
              " 'HDAX Pref',\n",
              " 'GEX Price',\n",
              " 'GEX',\n",
              " 'FTSE Germany',\n",
              " 'FAZ Share',\n",
              " 'EURO STOXX 50 Daily Leverage NR',\n",
              " 'EURO STOXX 50 Daily Double Short GR',\n",
              " 'DAXplus Price',\n",
              " 'DAXplus',\n",
              " 'Technology All Share Price',\n",
              " 'DAX Price',\n",
              " 'VDAX New',\n",
              " 'Midcap Price',\n",
              " 'Midcap Market Price',\n",
              " 'DAX BRIC PR',\n",
              " 'CRYPTOINDEX.com 100',\n",
              " 'Continental Star',\n",
              " 'Classic All Share Price',\n",
              " 'Cannabis World Index GTR',\n",
              " 'Bundesbank Yield',\n",
              " 'BEI Marijuana Sector Price',\n",
              " 'Insurance',\n",
              " 'DJ Germany 30 TR',\n",
              " 'Food & Beverage',\n",
              " 'DivDAX PF',\n",
              " 'DivDAX PR',\n",
              " 'DAX Kursindex',\n",
              " 'BNY Mellon Germany Classic ADR TR',\n",
              " 'BNY Mellon Germany Classic ADR',\n",
              " 'BNY Mellon Germany ADR TR',\n",
              " 'BNY Mellon Germany ADR',\n",
              " 'DJ Germany Titans 30 USD',\n",
              " 'LevDAX x2 Kursindex',\n",
              " 'DJ Germany Titans 30 EUR',\n",
              " 'Eb.Rexx Government Germany 10.5+ TR',\n",
              " 'Eb.Rexx Government Germany TR',\n",
              " 'Eb.Rexx Government Germany 5.5-10.5 TR',\n",
              " 'Eb.Rexx Government Germany 2.5-5.5 TR',\n",
              " 'Eb.Rexx Government Germany 1.5-2.5 TR',\n",
              " 'TR Germany 30 Years Government Benchmark',\n",
              " 'TR Germany 20 Years Government Benchmark',\n",
              " 'TR Germany 10 Years Government Benchmark',\n",
              " 'TR Germany 50',\n",
              " 'DAX x3 Levereged EUR TR',\n",
              " 'ShortDAX x3 EUR TR',\n",
              " 'DAXF 3XL',\n",
              " 'DJ Germany Select Dividend 20 TR',\n",
              " 'FTSE Germany SMID Cap Tradable Plus Price',\n",
              " 'FTSE Germany SMID Cap Tradable Plus TR',\n",
              " 'Industrial',\n",
              " 'MSCI Germany NR',\n",
              " 'DJ Germany Select Dividend 20',\n",
              " 'DJ Germany SelDiv 20 Distr EUR',\n",
              " 'X DAX PR',\n",
              " 'TECDAXF 4XS INDX',\n",
              " 'TECDAXF 3XS INDX',\n",
              " 'TECDAXF 4XL INDX',\n",
              " 'TECDAXF 3XL INDX',\n",
              " 'MDAXF 4XS',\n",
              " 'MDAXF 3XS',\n",
              " 'MDAXF 4XL',\n",
              " 'MDAXF 3XL',\n",
              " 'DAXF 4XS',\n",
              " 'DAXF 3XS',\n",
              " 'DAXF 4XL',\n",
              " 'TR Germany 7 Years Government Benchmark',\n",
              " 'TR Germany 5 Years Government Benchmark',\n",
              " 'Utilities',\n",
              " 'TR Germany 2 Years Government Benchmark',\n",
              " 'DBAG Eurogov Germany 10+ PR',\n",
              " 'DBAG Eurogov Germany 5-10 PR',\n",
              " 'DBAG Eurogov Germany 3-5 PR',\n",
              " 'DBAG Eurogov Germany 1-3 PR',\n",
              " 'SGI Double Short Bund',\n",
              " 'DJ Germany USD',\n",
              " 'DJ Germany',\n",
              " 'MSCI Germany Net EUR',\n",
              " 'DBAG Eurogov Germany 1-10 PR',\n",
              " 'MSCI Germany',\n",
              " 'DAX',\n",
              " 'Euro Stoxx 50',\n",
              " 'Banks',\n",
              " 'Basic Resources',\n",
              " 'Consumer & Cyclical',\n",
              " 'Construction',\n",
              " 'TR Germany 3 Years Government Benchmark',\n",
              " 'Chemicals',\n",
              " 'Financial Services',\n",
              " 'DBAG Eurogov Germany Money Market',\n",
              " 'Automobile',\n",
              " 'CBK Bund-Future Strategie Leveraged EUR',\n",
              " 'SCHATZF 10XL IDX',\n",
              " 'CBK Bund-Future Strategie EUR',\n",
              " 'SCHATZF 15XL IDX',\n",
              " 'SCHATZF 5XL INDX',\n",
              " 'BUNDF 15XS',\n",
              " 'BUNDF 5XS',\n",
              " 'BUNDF 15XL',\n",
              " 'BUNDF 10XL',\n",
              " 'BUNDF 5XL',\n",
              " 'BUNDF 10XS',\n",
              " 'SCHATZF 10XS IDX',\n",
              " 'SCHATZF 5XS INDX',\n",
              " 'EB REXX Germany 10.5+ PR',\n",
              " 'EB REXX Government Price',\n",
              " 'CBK Bund-Future Strategie 2xShort EUR',\n",
              " 'EB REXX Germany 5.5-10.5 PR',\n",
              " 'EB REXX Germany 2.5-5.5 PR',\n",
              " 'EB REXX Germany 1.5-2.5 PR',\n",
              " 'SCHATZF 15XS IDX',\n",
              " 'CBK Bund-Future Strategie Short']"
            ]
          },
          "metadata": {},
          "execution_count": 823
        }
      ]
    },
    {
      "cell_type": "code",
      "source": [
        "Dax_Alemania=inv.get_index_recent_data(\"DAX\",country=\"germany\")\n",
        "Dax=Dax_Alemania[[\"Close\",\"Open\"]].tail()\n",
        "print(Dax)"
      ],
      "metadata": {
        "colab": {
          "base_uri": "https://localhost:8080/"
        },
        "id": "04mA0yzgo2hH",
        "outputId": "0a96c038-00a5-4c03-abee-1b10108a5e4b"
      },
      "execution_count": 824,
      "outputs": [
        {
          "output_type": "stream",
          "name": "stdout",
          "text": [
            "               Close      Open\n",
            "Date                          \n",
            "2022-01-14  15883.24  15929.37\n",
            "2022-01-17  15933.72  15948.90\n",
            "2022-01-18  15772.56  15839.15\n",
            "2022-01-19  15809.72  15639.45\n",
            "2022-01-20  15912.33  15837.24\n"
          ]
        }
      ]
    },
    {
      "cell_type": "code",
      "source": [
        "Apertura_indice_Dax_Alemania = (Dax.iat[4,1])#Este comando esta extraer un valor especifico de un dataframe\n",
        "print(Apertura_indice_Dax_Alemania )"
      ],
      "metadata": {
        "colab": {
          "base_uri": "https://localhost:8080/"
        },
        "id": "Qk8zWQdNzsmx",
        "outputId": "f61b1e27-e644-4a9c-a047-414d8cb46824"
      },
      "execution_count": 825,
      "outputs": [
        {
          "output_type": "stream",
          "name": "stdout",
          "text": [
            "15837.24\n"
          ]
        }
      ]
    },
    {
      "cell_type": "code",
      "source": [
        "Cierre_precio_anterior_Dax_Alemania = Dax.iat[3,0]\n",
        "print(Cierre_precio_anterior_Dax_Alemania)"
      ],
      "metadata": {
        "colab": {
          "base_uri": "https://localhost:8080/"
        },
        "id": "l4ZobseUzszP",
        "outputId": "e2bea6ae-4d16-4272-aca7-ffa6603cdb11"
      },
      "execution_count": 826,
      "outputs": [
        {
          "output_type": "stream",
          "name": "stdout",
          "text": [
            "15809.72\n"
          ]
        }
      ]
    },
    {
      "cell_type": "code",
      "source": [
        "Cierre_precio_anterior5dias_Dax_Alemania= Dax.iat[0,0]\n",
        "print(Cierre_precio_anterior5dias_Dax_Alemania)"
      ],
      "metadata": {
        "colab": {
          "base_uri": "https://localhost:8080/"
        },
        "id": "M86ergPkzs_s",
        "outputId": "1ef614e5-bf05-45ab-9ec5-cf11e32208fc"
      },
      "execution_count": 827,
      "outputs": [
        {
          "output_type": "stream",
          "name": "stdout",
          "text": [
            "15883.24\n"
          ]
        }
      ]
    },
    {
      "cell_type": "markdown",
      "metadata": {
        "id": "x8i_3KHMCkdZ"
      },
      "source": [
        "**Nikkei (Japón)**"
      ]
    },
    {
      "cell_type": "code",
      "metadata": {
        "id": "QkdjzXzMCrrI",
        "colab": {
          "base_uri": "https://localhost:8080/"
        },
        "outputId": "dde47038-76c7-40a3-8d1e-147c46da3c47"
      },
      "source": [
        "Nikkei_japon=inv.search_quotes(text='Nikkei 225 Futures', products=['indices'],countries=['japan'], n_results=1)\n",
        "print(Nikkei_japon)"
      ],
      "execution_count": 828,
      "outputs": [
        {
          "output_type": "stream",
          "name": "stdout",
          "text": [
            "{\"id_\": 8859, \"name\": \"Nikkei 225 Futures\", \"symbol\": \"JP225\", \"country\": \"japan\", \"tag\": \"/indices/japan-225-futures\", \"pair_type\": \"indices\", \"exchange\": \"OSE\"}\n"
          ]
        }
      ]
    },
    {
      "cell_type": "code",
      "source": [
        "inv.get_indices_list(\"japan\")"
      ],
      "metadata": {
        "colab": {
          "base_uri": "https://localhost:8080/"
        },
        "id": "2OhDKav7qjEY",
        "outputId": "571476f3-2003-47f9-8b5b-48f788d66d24"
      },
      "execution_count": 829,
      "outputs": [
        {
          "output_type": "execute_result",
          "data": {
            "text/plain": [
              "['TSE TOPIX17 Wholesale Stock Price',\n",
              " 'TOPIX Banks',\n",
              " 'TSE TOPIX17 Transportation Stock Price',\n",
              " 'TOPIX Air Transportation',\n",
              " 'TSE TOPIX17 Steel Stock Price',\n",
              " 'TSE TOPIX17 IT Services Stock Price',\n",
              " 'TSE TOPIX17 Real Estate Stock Price',\n",
              " 'TSE TOPIX17 Power Gas Stock Price',\n",
              " 'TSE TOPIX17 Pharmacetical Stock Price',\n",
              " 'TSE TOPIX17 Machinery Stock Price',\n",
              " 'TSE TOPIX17 Food Stock Price',\n",
              " 'TOPIX Chemicals',\n",
              " 'TSE TOPIX17 Retail Stock Price',\n",
              " 'TOPIX Construction',\n",
              " 'TOPIX Insurance',\n",
              " 'TOPIX Electric Power & Gas',\n",
              " 'Stoxx Japan 50  Daily EUR',\n",
              " 'Stoxx Japan 50 Risk 10% RV USD',\n",
              " 'Stoxx Japan 50 Risk 10% RV EUR',\n",
              " 'Stoxx Japan 50 Risk 15% RV EUR',\n",
              " 'Stoxx Japan 50 Risk 20% RV USD',\n",
              " 'Stoxx Japan 50 Risk 20% RV EUR',\n",
              " 'Stoxx Japan 50 Risk 5% RV USD',\n",
              " 'Stoxx Japan 50 Risk 5% RV EUR',\n",
              " 'TOPIX Other Products',\n",
              " 'TOPIX Other Financing Business',\n",
              " 'TOPIX Electric Appliances',\n",
              " 'TOPIX Oil & Coal Products',\n",
              " 'TOPIX Mining',\n",
              " 'TOPIX Metal Products',\n",
              " 'TOPIX Marine Transportation',\n",
              " 'TOPIX Machinery',\n",
              " 'TOPIX Land Transportation',\n",
              " 'TOPIX Iron & Steel',\n",
              " 'TOPIX Information & Communication',\n",
              " 'TOPIX Glass & Ceramics Products',\n",
              " 'TOPIX Foods',\n",
              " 'TOPIX Fishery Agriculture & Forestry',\n",
              " 'TOPIX Nonferrous Metals',\n",
              " 'TOPIX Pharmaceutical',\n",
              " 'REIT Office Ex-Div',\n",
              " 'TOPIX Pulp & Paper',\n",
              " 'TOPIX Small Growth',\n",
              " 'Topix Small Market',\n",
              " 'Topix Small Market Div',\n",
              " 'TOPIX Small Value',\n",
              " 'TOPIX Value',\n",
              " 'TSE Dividend Focus 100',\n",
              " 'Large Stock Price',\n",
              " 'Large Stock Price Div',\n",
              " 'Medium Stock Price',\n",
              " 'Medium Stock Price Div',\n",
              " 'TSE Mothers Core',\n",
              " 'Second Section',\n",
              " 'Second Section Div',\n",
              " 'Small Stock Price',\n",
              " 'Small Stock Price Div',\n",
              " 'TOPIX Net TR',\n",
              " 'TSE TOPIX17 Financials Stock Price',\n",
              " 'Topix Mother Market',\n",
              " 'Topix Mid 400 Market Div',\n",
              " 'TOPIX 1500',\n",
              " 'TOPIX Composite for Mothers',\n",
              " 'Topix Core 30',\n",
              " 'TOPIX Core 30 Market Dividend included',\n",
              " 'TOPIX Core30 Dividend',\n",
              " 'TOPIX Dividend',\n",
              " 'TOPIX Double Inverse',\n",
              " 'Stoxx Japan 50 Daily EUR',\n",
              " 'Topix DV',\n",
              " 'TOPIX Ex-Financials Dividend',\n",
              " 'TOPIX Growth',\n",
              " 'TOPIX Inverse x1',\n",
              " 'Topix Large 70 Market',\n",
              " 'Topix Large 70 Market Div',\n",
              " 'TOPIX Leveraged x2',\n",
              " 'TOPIX Mid 400 Market',\n",
              " 'TOPIX Ex-Financials',\n",
              " 'Stoxx Japan 50 Daily 4 EUR',\n",
              " 'MSCI Japan Price',\n",
              " 'MSCI Japan Gross',\n",
              " 'BNY Mellon Japan Classic ADR',\n",
              " 'BNY Mellon Japan ADR',\n",
              " 'TR Japan 50',\n",
              " 'TR Japan 30 Year Government Benchmark',\n",
              " 'TR Japan 20 Years Government Benchmark',\n",
              " 'TR Japan 15 Year Government Benchmark',\n",
              " 'TR Japan 10 Years Government Benchmark',\n",
              " 'BNY Mellon Japan ADR TR',\n",
              " 'TR Japan 7 Years Government Benchmark',\n",
              " 'TR Japan 3 Years Government Benchmark',\n",
              " 'TR Japan 2 Years Government Benchmark',\n",
              " 'FTSE Japan',\n",
              " 'DJ Japan USD',\n",
              " 'DJ Japan',\n",
              " 'MSCI Japan Net USD',\n",
              " 'MSCI Japan Net JPY',\n",
              " 'TR Japan 5 Years Government Benchmark',\n",
              " 'TOPIX 500 Value',\n",
              " 'BNY Mellon Japan Classic ADR TR',\n",
              " 'MSCI Japan Mid Price JPY',\n",
              " 'FTSE Japan EUR',\n",
              " 'FTSE Japan Large Cap Super Liquid 3x Daily Short',\n",
              " 'FTSE Japan Large Cap Super Liquid 2x Daily Short',\n",
              " 'FTSE Japan Large Cap Super Liquid Daily Short',\n",
              " 'FTSE Japan Large Cap Super Liquid 3x Daily Leverag',\n",
              " 'FTSE Japan Large Cap Super Liquid 2x Daily Leverag',\n",
              " 'FTSE Japan All Cap',\n",
              " 'MSCI Japan Large Price JPY',\n",
              " 'FTSE Value Stocks Japan',\n",
              " 'FTSE RAFI Japan 350 QSR',\n",
              " 'NQ AlphaDEX Japan',\n",
              " 'NQ AlphaDEX Japan JPY',\n",
              " 'DJ Japan Select Dividend 30',\n",
              " 'DJ Islamic Market Japan',\n",
              " 'MSCI Japan Price JPY',\n",
              " 'MSCI Japan Hedged P EUR',\n",
              " 'FTSE RAFI Japan QSR',\n",
              " 'TOPIX 500 Growth',\n",
              " 'Topix 500 Dividend included',\n",
              " 'TOPIX 1000 Div',\n",
              " 'Topix 1000',\n",
              " 'Topix 500',\n",
              " 'TOPIX Composite',\n",
              " 'FTSE Japan Green Chip 35',\n",
              " 'REIT Retail & Logistics, Other Ex-Div',\n",
              " 'REIT Residential Ex-Div',\n",
              " 'FTSE Env. Opportunities Japan',\n",
              " 'Topix 100',\n",
              " 'FTSE Japan',\n",
              " 'FTSE RAFI Japan CAD',\n",
              " 'FTSE Shariah Japan 100',\n",
              " 'FTSE Shariah Japan 100 USD',\n",
              " 'FTSE4Good Japan Benchmark',\n",
              " 'Japan 50',\n",
              " 'JASDAQ Growth',\n",
              " 'JASDAQ J-Stock',\n",
              " 'FTSE RAFI Japan',\n",
              " 'JASDAQ Standard',\n",
              " 'TOPIX',\n",
              " 'Nikkei JQ Average',\n",
              " 'TOPIX Real Estate',\n",
              " 'Topix REIT Market',\n",
              " 'TOPIX Retail Trade',\n",
              " 'TOPIX Rubber Products',\n",
              " 'TOPIX Securities',\n",
              " 'TOPIX Services',\n",
              " 'TOPIX Textiles & Apparels',\n",
              " 'Nikkei Volatility',\n",
              " 'TOPIX Transportation Equipment',\n",
              " 'TOPIX Wholesale Trade',\n",
              " 'JASDAQ',\n",
              " 'JASDAQ 20',\n",
              " 'JPX-Nikkei 400',\n",
              " 'Nikkei 1000',\n",
              " 'Nikkei 300',\n",
              " 'Nikkei 500',\n",
              " 'TOPIX Warehouse & Harbour Transport',\n",
              " 'TOPIX Precision Instruments',\n",
              " 'JPX Nikkei 400 Double Inverse 2x',\n",
              " 'JPX Nikkei 400 Leveraged 2x',\n",
              " 'NK-TCE Crude Oil',\n",
              " 'NK-TCE Gasoline',\n",
              " 'NK-TCE Gold',\n",
              " 'NK-TCE Indust Com',\n",
              " 'NK-TCE Kerosene',\n",
              " 'NK-TCE Nearby Month',\n",
              " 'NK-TCE Oil',\n",
              " 'NK-TCE Corn',\n",
              " 'NK-TCE Palladium',\n",
              " 'NK-TCE Precious Metals',\n",
              " 'NK-TCE Rubber',\n",
              " 'NK-TCE Silver',\n",
              " 'NK-TCE Soybean',\n",
              " 'TSE JPX-Nikkei 400 Net TR',\n",
              " 'Tokyo SE JPX-Nikkei Div 400',\n",
              " 'TOPIX 100 Div',\n",
              " 'NK-TCE Platinum',\n",
              " 'JPX Nikkei 400 Inverse 1x',\n",
              " 'NK-TCE Azuki',\n",
              " 'Nikkei China Related Stock 50',\n",
              " 'JPX-Nikkei Mid and Small Cap',\n",
              " 'Mothers General TR',\n",
              " 'MSCI Japan JPY',\n",
              " 'Nikkei 225 Covered Call',\n",
              " 'Nikkei 225 Double Inverse',\n",
              " 'Nikkei 225 EUR Hedged',\n",
              " 'Nikkei 225 Inverse',\n",
              " 'NK-TCE Agri & Sugar',\n",
              " 'Nikkei 225 Leveraged',\n",
              " 'Nikkei 225 Risk Control',\n",
              " 'Nikkei 225 Total Return',\n",
              " 'Nikkei 225 TR EUR Hedged',\n",
              " 'Nikkei 225 TR USD Hedged',\n",
              " 'Nikkei 225 USD Hedged',\n",
              " 'Nikkei 225 VI Futures',\n",
              " 'Nikkei Average Dividend',\n",
              " 'Nikkei 225 Net Total Return',\n",
              " 'TSE TOPIX17 Energy Resources Stock Price',\n",
              " 'Stoxx Japan 50 Risk 15% RV USD',\n",
              " 'TSE TOPIX17 Construction Stock Price',\n",
              " 'N500 Mining',\n",
              " 'N500 Marine Transport',\n",
              " 'N500 Machinery',\n",
              " 'N500 Land Transport',\n",
              " 'N500 Insurance',\n",
              " 'N500 Glass & Ceramics',\n",
              " 'N500 Gas',\n",
              " 'N500 Foods',\n",
              " 'N500 Fishery',\n",
              " 'N500 Electric Power',\n",
              " 'Nikkei 225',\n",
              " 'N500 Electric Machinery',\n",
              " 'N500 Construction',\n",
              " 'N500 Communications',\n",
              " 'N500 Chemicals',\n",
              " 'N500 Banking',\n",
              " 'N500 Automobiles & Auto parts',\n",
              " 'N500 Air Transport',\n",
              " 'FTSE EPRA/NAREIT Japan',\n",
              " 'N500 Nonferrous Metals',\n",
              " 'N500 Other Financial Services',\n",
              " 'TSE TOPIX17 Electric Stock Price',\n",
              " 'N500 Petroleum',\n",
              " 'N500 Other Manufacturing',\n",
              " 'N500 Steel',\n",
              " 'N500 Textiles & Apparel',\n",
              " 'N500 Trading Companies',\n",
              " 'N500 Transportation Equipment',\n",
              " 'N500 Warehousing',\n",
              " 'REIT General Div',\n",
              " 'TSE TOPIX17 Banks Stock Price',\n",
              " 'TSE TOPIX17 Chemicals Stock Price',\n",
              " 'TSE TOPIX17 Automobile Stock Price',\n",
              " 'N500 Services',\n",
              " 'N500 Securities',\n",
              " 'N500 Rubber',\n",
              " 'N500 Retail',\n",
              " 'N500 Real Estate',\n",
              " 'N500 Railway & Bus',\n",
              " 'N500 Pulp & Paper',\n",
              " 'N500 Shipbuilding',\n",
              " 'N500 Precision Instruments',\n",
              " 'N500 Pharmaceuticals']"
            ]
          },
          "metadata": {},
          "execution_count": 829
        }
      ]
    },
    {
      "cell_type": "code",
      "source": [
        "Nikkei_225=inv.get_index_recent_data(\"Nikkei 225\",country=\"japan\")\n",
        "Nikkei=Nikkei_225[[\"Close\",\"Open\"]].tail()\n",
        "print(Nikkei)"
      ],
      "metadata": {
        "colab": {
          "base_uri": "https://localhost:8080/"
        },
        "id": "0EfNQGursT2g",
        "outputId": "d9a527ad-6314-40f1-d377-1de256b2cd44"
      },
      "execution_count": 830,
      "outputs": [
        {
          "output_type": "stream",
          "name": "stdout",
          "text": [
            "               Close      Open\n",
            "Date                          \n",
            "2022-01-14  28124.28  28246.99\n",
            "2022-01-17  28333.52  28332.72\n",
            "2022-01-18  28257.25  28451.34\n",
            "2022-01-19  27467.23  27928.89\n",
            "2022-01-20  27772.93  27401.43\n"
          ]
        }
      ]
    },
    {
      "cell_type": "code",
      "source": [
        "Apertura_indice_Dax_Nikkei_225 = (Nikkei.iat[4,1])#Este comando esta extraer un valor especifico de un dataframe\n",
        "print(Apertura_indice_Dax_Nikkei_225  )"
      ],
      "metadata": {
        "colab": {
          "base_uri": "https://localhost:8080/"
        },
        "id": "AHAbp64X0RXS",
        "outputId": "8b98af45-4a92-49ef-fc64-e7d360b79d8c"
      },
      "execution_count": 831,
      "outputs": [
        {
          "output_type": "stream",
          "name": "stdout",
          "text": [
            "27401.43\n"
          ]
        }
      ]
    },
    {
      "cell_type": "code",
      "source": [
        "Cierre_precio_anterior_Dax_Nikkei_225 = Nikkei.iat[3,0]\n",
        "print(Cierre_precio_anterior_Dax_Nikkei_225)"
      ],
      "metadata": {
        "colab": {
          "base_uri": "https://localhost:8080/"
        },
        "id": "Tm9rjlcP0Rhk",
        "outputId": "94024ab4-7634-4264-81c5-059b5f038114"
      },
      "execution_count": 832,
      "outputs": [
        {
          "output_type": "stream",
          "name": "stdout",
          "text": [
            "27467.23\n"
          ]
        }
      ]
    },
    {
      "cell_type": "code",
      "source": [
        "Cierre_precio_anterior5dias_Dax_Nikkei_225= Nikkei.iat[0,0]\n",
        "print(Cierre_precio_anterior5dias_Dax_Nikkei_225)"
      ],
      "metadata": {
        "colab": {
          "base_uri": "https://localhost:8080/"
        },
        "id": "bkQyItY60Rqs",
        "outputId": "23ae8b97-48b4-437c-938c-ba8aeee6d6ea"
      },
      "execution_count": 833,
      "outputs": [
        {
          "output_type": "stream",
          "name": "stdout",
          "text": [
            "28124.28\n"
          ]
        }
      ]
    },
    {
      "cell_type": "markdown",
      "metadata": {
        "id": "b_6kv2VqCt4i"
      },
      "source": [
        "**Hang Seng (China)**"
      ]
    },
    {
      "cell_type": "code",
      "metadata": {
        "id": "9csxbgZeCvfC",
        "colab": {
          "base_uri": "https://localhost:8080/"
        },
        "outputId": "4cfa2a9d-a8f7-4a22-f6cc-1f5e2be5b0b7"
      },
      "source": [
        "Hang_seng_china= inv.search_quotes(text='Hang Seng', products=['indices'],countries=['Hong Kong'], n_results=1)\n",
        "print(Hang_seng_china)"
      ],
      "execution_count": 834,
      "outputs": [
        {
          "output_type": "stream",
          "name": "stdout",
          "text": [
            "{\"id_\": 8984, \"name\": \"Hang Seng Futures\", \"symbol\": \"HK50\", \"country\": \"hong kong\", \"tag\": \"/indices/hong-kong-40-futures\", \"pair_type\": \"indices\", \"exchange\": \"HKEx\"}\n"
          ]
        }
      ]
    },
    {
      "cell_type": "code",
      "source": [
        "inv.get_indices_list(\"china\")"
      ],
      "metadata": {
        "colab": {
          "base_uri": "https://localhost:8080/"
        },
        "id": "CvtdOr6ftCV1",
        "outputId": "c459a66a-c7bb-495c-c5b7-e35f46e293fc"
      },
      "execution_count": 835,
      "outputs": [
        {
          "output_type": "execute_result",
          "data": {
            "text/plain": [
              "['MSCI China Price HKD',\n",
              " 'MSCI China A NR USD',\n",
              " 'AlphaShares China All Cap',\n",
              " 'AlphaShares China Technology',\n",
              " 'S Box China Energy TR',\n",
              " 'S Box China Industrial TR',\n",
              " 'S Box China Consumer TR',\n",
              " 'CSI Overseas China Internet USD',\n",
              " 'HSCEIF 3XL',\n",
              " 'HSIF 4XS',\n",
              " 'HSCEIF 4XL',\n",
              " 'HSIF 1XL',\n",
              " 'HSIF 2XL',\n",
              " 'HSIF 1XS',\n",
              " 'HSIF 2XS',\n",
              " 'HSIF 3XS',\n",
              " 'CSI Overseas China 5y Plan USD',\n",
              " 'China Securities 300 Consumer Disc',\n",
              " 'DJ China Offshore 50',\n",
              " 'CSI 300 Net TR USD',\n",
              " 'DJ Shenzhen',\n",
              " 'DJ Shanghai',\n",
              " 'BNY Mellon China Select ADRSM',\n",
              " 'HSCEIF 3XS',\n",
              " 'BNY Mellon China ADR',\n",
              " 'BNY Mellon China Classic ADR',\n",
              " 'BNY Mellon China xià yī dài ADR',\n",
              " 'DJ China Offshore 50 Tot',\n",
              " 'BNY Mellon China ADR TR',\n",
              " 'BNY Mellon China Select ADR TRSM',\n",
              " 'FTSE China A-H 50',\n",
              " 'FTSE China A All Share',\n",
              " 'FTSE RAFI Hong Kong/China',\n",
              " 'MSCI Golden Dragon',\n",
              " 'MSCI Zhong Hua',\n",
              " 'DJ BRIC China 15 Capped NTR',\n",
              " 'BNY Mellon China Classic ADR TR',\n",
              " 'HSCEIF 1XL',\n",
              " 'HSCEIF 2XL',\n",
              " 'HSCEIF 1XS',\n",
              " 'FTSE China Chemicals EUR',\n",
              " 'FTSE China Beverages GBP',\n",
              " 'FTSE China Beverages JPY',\n",
              " 'FTSE China Beverages USD',\n",
              " 'FTSE China Beverages EUR',\n",
              " 'FTSE China Basic Materials GBP',\n",
              " 'FTSE China Basic Materials JPY',\n",
              " 'FTSE China Basic Materials USD',\n",
              " 'FTSE China Basic Materials EUR',\n",
              " 'FTSE China Banks GBP',\n",
              " 'FTSE China Chemicals USD',\n",
              " 'FTSE China Banks JPY',\n",
              " 'FTSE China Banks EUR',\n",
              " 'FTSE China Automobiles Parts GBP',\n",
              " 'FTSE China Automobiles Parts JPY',\n",
              " 'FTSE China Automobiles Parts USD',\n",
              " 'FTSE China Automobiles Parts EUR',\n",
              " 'FTSE China A TR CHF',\n",
              " 'FTSE China A TR CNY',\n",
              " 'FTSE China A TR JPY',\n",
              " 'FTSE China A TR GBP',\n",
              " 'FTSE China A TR EUR',\n",
              " 'FTSE China Banks USD',\n",
              " 'FTSE China Chemicals JPY',\n",
              " 'FTSE China Chemicals GBP',\n",
              " 'FTSE China Construction Materi EUR',\n",
              " 'FTSE China Financials GBP',\n",
              " 'FTSE China Financials JPY',\n",
              " 'FTSE China Financials USD',\n",
              " 'FTSE China Financials EUR',\n",
              " 'FTSE China Electronic Electric GBP',\n",
              " 'FTSE China Electronic Electric JPY',\n",
              " 'FTSE China Electronic Electric USD',\n",
              " 'FTSE China Electronic Electric EUR',\n",
              " 'FTSE China Electricity GBP',\n",
              " 'FTSE China Electricity JPY',\n",
              " 'FTSE China Electricity USD',\n",
              " 'FTSE China Electricity EUR',\n",
              " 'FTSE China Consumer Services GBP',\n",
              " 'FTSE China Consumer Services JPY',\n",
              " 'FTSE China Consumer Services USD',\n",
              " 'FTSE China Consumer Services EUR',\n",
              " 'FTSE China Consumer Goods GBP',\n",
              " 'FTSE China Consumer Goods JPY',\n",
              " 'FTSE China Consumer Goods USD',\n",
              " 'FTSE China Consumer Goods EUR',\n",
              " 'FTSE China Construction Materi GBP',\n",
              " 'FTSE China Construction Materi JPY',\n",
              " 'FTSE China Construction Materi USD',\n",
              " 'FTSE China A TR USD',\n",
              " 'MSCI China ex Hong Kong Net USD',\n",
              " 'FTSE China A TR CAD',\n",
              " 'FTSE China A Small Cap USD',\n",
              " 'FTSE Value Stocks China A Share',\n",
              " 'FTSE China A50 Shariah',\n",
              " 'FTSE Emerging incl China Overseas non R/QFII GDP W',\n",
              " 'FTSE China Small Cap',\n",
              " 'FTSE China A 400',\n",
              " 'FTSE China A 600',\n",
              " 'FTSE China A 200',\n",
              " 'NQ Golden Dragon China',\n",
              " 'NQ OMX China Technology',\n",
              " 'BNY Mellon China xia yi dai ADR TR',\n",
              " 'FTSE Renaissance Hong Kong/China Top IPO',\n",
              " 'DJ Islam China/HK Titans 30 USD',\n",
              " 'DJ China 88',\n",
              " 'DJ China Broad Market',\n",
              " 'DJ BRIC China 15 EUR',\n",
              " 'DJ BRIC China 15 USD',\n",
              " 'DJ BRIC China 15 DR USD',\n",
              " 'China Securities 500',\n",
              " 'HSIF 4XL',\n",
              " 'HSIF 3XL',\n",
              " 'HSCEIF 4XS',\n",
              " 'HSCEIF 2XS',\n",
              " 'DJ Islam China/HK Titans 30 HKD',\n",
              " 'FTSE China 50 Net Tax CAD',\n",
              " 'FTSE China 50 TR HKD',\n",
              " 'FTSE China 50 TR',\n",
              " 'FTSE China A Small Cap CNY',\n",
              " 'FTSE China A Small Cap HKD',\n",
              " 'FTSE China A Net Tax USD',\n",
              " 'FTSE China A All Share USD',\n",
              " 'FTSE China A All Share CNY',\n",
              " 'FTSE China A All Share HKD',\n",
              " 'FTSE China A 600 USD',\n",
              " 'FTSE China A 600 CNY',\n",
              " 'FTSE China A 600 HKD',\n",
              " 'FTSE China A 400 USD',\n",
              " 'FTSE China A 400 CNY',\n",
              " 'FTSE China A 400 HKD',\n",
              " 'FTSE China A 200 USD',\n",
              " 'FTSE China A 200 CNY',\n",
              " 'FTSE China A 200 HKD',\n",
              " 'FTSE China A50 Net CNY',\n",
              " 'CSI All Share TR',\n",
              " 'BNY China Select ADR TR',\n",
              " 'BNY China Select ADR TR Hedged',\n",
              " 'BNY China Select ADR Hedged',\n",
              " 'BNY China Select ADR',\n",
              " 'MSCI Golden Dragon Net',\n",
              " 'FTSE China A50 TR',\n",
              " 'FTSE China A TR AUD',\n",
              " 'FTSE China 50 TR NET',\n",
              " 'SME-Chinext 500',\n",
              " 'SSE 5 year China T Note',\n",
              " 'FTSE China Aerospace&Defence',\n",
              " 'FTSE China Altenative Energy',\n",
              " 'FTSE China Auto&Parts',\n",
              " 'FTSE China Basic Materials',\n",
              " 'FTSE China Beverages',\n",
              " 'FTSE China Chemicals',\n",
              " 'SSE Enterprise Bond',\n",
              " 'FTSE China Constr&Materials',\n",
              " 'FTSE China Consumer Svcs',\n",
              " 'FTSE China E&E Equip',\n",
              " 'FTSE China Food&Drug Retail',\n",
              " 'FTSE China Food Producers',\n",
              " 'FTSE China Forestry Paper',\n",
              " 'FTSE China General Financial',\n",
              " 'FTSE China Consumer Goods',\n",
              " 'FTSE China General Industr',\n",
              " 'SSE Credit Bond 100',\n",
              " 'SSE CB 30',\n",
              " 'SZSE Technology',\n",
              " 'SZSE Telecom',\n",
              " 'SZSE Transportation',\n",
              " 'SZSE Upstream Industry',\n",
              " 'SZSE Utilities',\n",
              " 'SZSE Wholesale & Retail',\n",
              " 'SSE Convertible Bond',\n",
              " 'China A50',\n",
              " 'S&P/CITIC50',\n",
              " 'Shanghai SE A Share',\n",
              " 'SSE 100',\n",
              " 'Shanghai SE Corporate Bond',\n",
              " 'Shanghai SE Treasury Bond',\n",
              " 'SSE 5-Year Credit Bond',\n",
              " 'S&P/CITIC300',\n",
              " 'FTSE China Health Care',\n",
              " 'FTSE China Household Goods',\n",
              " 'FTSE China H. Goods&Textiles',\n",
              " 'FTSE China',\n",
              " 'FTSE China China',\n",
              " 'FTSE China H Share',\n",
              " 'FTSE Greater China',\n",
              " 'FTSE Greater China All Cap',\n",
              " 'FTSE Shariah China',\n",
              " 'CITIC Corp Bond',\n",
              " 'FTSE Value Stocks China',\n",
              " 'Shanghai SE 180 Financial',\n",
              " 'Shanghai SE 50',\n",
              " 'Shanghai SE B Share',\n",
              " 'CSI 300',\n",
              " 'SME 300 Growth Price',\n",
              " 'SME 300 Value Price',\n",
              " 'Shanghai SE 180',\n",
              " 'Chinext Return',\n",
              " 'Chinext Price',\n",
              " 'Chinext Composite',\n",
              " 'FTSE China Ind. Engineering',\n",
              " 'FTSE China Industrial Metal',\n",
              " 'FTSE China Industr Transport',\n",
              " 'FTSE China Industrials',\n",
              " 'FTSE China Mining',\n",
              " 'FTSE China Oil&Gas',\n",
              " 'FTSE China Oil&Gas Producers',\n",
              " 'FTSE China Personal Goods',\n",
              " 'FTSE China Pharma&Biotech',\n",
              " 'FTSE China Support Svcs',\n",
              " 'SSE Consumer Commodity',\n",
              " 'SSE Corporate Governance',\n",
              " 'SSE Investment Commodity',\n",
              " 'Chinext 300 Growth',\n",
              " 'Chinext 300 Value',\n",
              " 'SZSE Responsibility Price',\n",
              " 'SZSE Research & Development',\n",
              " 'SZSE Real Estate',\n",
              " 'SZSE Performance',\n",
              " 'FTSE China Travel&Leisure',\n",
              " 'FTSE China Utilities',\n",
              " 'FTSE China BlueChip Value 100',\n",
              " 'FTSE China Mobile',\n",
              " 'FTSE China Telecom',\n",
              " 'SSE Banks',\n",
              " 'FTSE China Tech Hardware&Equip',\n",
              " 'SSE Commodity Equity',\n",
              " 'SSE Consumer Staples',\n",
              " 'SSE Emerging Industries',\n",
              " 'SSE Energy',\n",
              " 'SSE Financials',\n",
              " 'SSE Health Care',\n",
              " 'SSE Industrials',\n",
              " 'SSE Consumer Discretionary',\n",
              " 'FTSE China Technology',\n",
              " 'FTSE China Software&Comp Svcs',\n",
              " 'FTSE China RE Invest&Svcs',\n",
              " 'FTSE China 50 USD',\n",
              " 'FTSE China 50 HKD',\n",
              " 'MSCI China Net USD',\n",
              " 'FTSE China Fixed Line TelecommunEUR',\n",
              " 'SGEX Gold 99.99 Commodity Cash',\n",
              " 'Shanghai',\n",
              " 'SZSE Component',\n",
              " 'FTSE China Oil Equip Svcs&Dist',\n",
              " 'FTSE China Banks',\n",
              " 'FTSE China Electricity',\n",
              " 'FTSE China Financials',\n",
              " 'FTSE China Gas&Water Utilities',\n",
              " 'FTSE China General Retailers',\n",
              " 'FTSE China Life Insurance',\n",
              " 'FTSE China Media',\n",
              " 'SSE Information Technology',\n",
              " 'TR China 50',\n",
              " 'SSE Materials',\n",
              " 'SSE Natural Resource',\n",
              " 'SZSE Financials',\n",
              " 'SZSE Health Care',\n",
              " 'SZSE Health Care 50',\n",
              " 'SZSE Hotel & Catering',\n",
              " 'SZSE Individual Businesses Price',\n",
              " 'SZSE Industrials',\n",
              " 'SZSE Equipment Manufacturing',\n",
              " 'SZSE Industry Top',\n",
              " 'SZSE Investment Clock',\n",
              " 'SZSE Manufacturing',\n",
              " 'SZSE Materials',\n",
              " 'SZSE Media',\n",
              " 'SZSE Midstream Industry',\n",
              " 'SZSE Mining',\n",
              " 'SZSE Information Technology',\n",
              " 'SZSE Environmental Protection',\n",
              " 'SZSE Energy',\n",
              " 'SZSE Downstream Industry',\n",
              " 'SSE New Comp',\n",
              " 'SSE Telecommunication Services',\n",
              " 'SSE Utilities',\n",
              " 'SZSE Agriculture',\n",
              " 'SZSE Business Service',\n",
              " 'SZSE Central Company',\n",
              " 'SZSE Chinext 50',\n",
              " 'SZSE Commodities Producer',\n",
              " 'SZSE Conglomerates',\n",
              " 'SZSE Construction',\n",
              " 'SZSE Consumer 50',\n",
              " 'SZSE Consumer Discretionary',\n",
              " 'SZSE Consumer Staples',\n",
              " 'SZSE Culture',\n",
              " 'SZSE Defensive 50',\n",
              " 'SSE Misc Sub',\n",
              " 'FTSE China Fixed Line TelecommunUSD',\n",
              " 'FTSE China Fixed Line TelecommunJPY',\n",
              " 'FTSE China Fixed Line TelecommunGBP',\n",
              " 'FTSE China A50 CNY',\n",
              " 'FTSE China A50 HKD',\n",
              " 'FTSE/Xinhua China A50 Total Return',\n",
              " 'FTSE China 50 Total Return',\n",
              " 'FTSE China 50 Mini',\n",
              " 'FTSE Intl All-World Regional Indices - Greater Chi',\n",
              " 'FTSE Intl All-World Regional Indices - Greater Chi',\n",
              " 'FTSE Intl All-World Regional Indices - Greater Chi',\n",
              " 'FTSE China A50 USD',\n",
              " 'FTSE Intl All-World Regional Indices - Greater Chi',\n",
              " 'FTSE Intl All-World Country Indices - China JPY',\n",
              " 'FTSE Intl All-World Country Indices - China GBP',\n",
              " 'FTSE Mpf Domestic Hong Kong',\n",
              " 'FTSE China Health Care Equipment & Services Total',\n",
              " 'FTSE MPF China Total Return',\n",
              " 'FTSE China Support Services Total Return USD',\n",
              " 'FTSE China Mobile Telecommunications Total Return',\n",
              " 'FTSE China Food Producers Total Return USD',\n",
              " 'FTSE Intl All-World Country Indices - China EUR',\n",
              " 'FTSE China Real Estate Investment & Services Total',\n",
              " 'FTSE China 50 Net Tax',\n",
              " 'FTSE China A 200 Total Return CNY',\n",
              " 'FTSE China 200 Oil Equipment Services & Distributi',\n",
              " 'FTSE China 200 Oil & Gas Producers HKD',\n",
              " 'FTSE China A50 Shariah',\n",
              " 'FTSE China A50 CNHUSD Net Total Return',\n",
              " 'FTSE Custom China 50 CAD Total Return',\n",
              " 'FTSE China 50 3x Daily Leveraged',\n",
              " 'FTSE China 50 2x Daily Leveraged',\n",
              " 'FTSE China 50 3x Daily Short',\n",
              " 'FTSE China A Net Tax',\n",
              " 'FTSE Custom China 50 CAD',\n",
              " 'FTSE China 50 Daily Short',\n",
              " 'FTSE China 50 2x Daily Short',\n",
              " 'FTSE China A-H 50',\n",
              " 'FTSE Emerging Markets All Cap China A Inclusion Ne',\n",
              " 'FTSE Emerging incl China Overseas non-R/QFII GDP W',\n",
              " 'FTSE China 50 Net Tax USD',\n",
              " 'FTSE China A 200 Total Return USD',\n",
              " 'FTSE Emerging incl China Overseas non-R/QFII Total',\n",
              " 'FTSE Emerging incl China Overseas non-R/QFII Net T',\n",
              " 'FTSE China Health Care Equipment & Services Total',\n",
              " 'FTSE China Alternative Energy Total Return JPY',\n",
              " 'FTSE China Financial Services Total Return GBP',\n",
              " 'FTSE China Support Services Price JPY',\n",
              " 'FTSE China Real Estate Investment & Services Price',\n",
              " 'FTSE China Real Estate Investment & Services Price',\n",
              " 'FTSE China Real Estate Investment & Services Price',\n",
              " 'FTSE China Real Estate Investment & Services Price',\n",
              " 'FTSE China Mobile Telecommunications Price JPY',\n",
              " 'FTSE China Mobile Telecommunications Price EUR',\n",
              " 'FTSE China Mobile Telecommunications Price USD',\n",
              " 'FTSE China Support Services Price GBP',\n",
              " 'FTSE China Mobile Telecommunications Price GBP',\n",
              " 'FTSE China Health Care Equipment & Services Price',\n",
              " 'FTSE China Health Care Equipment & Services Price',\n",
              " 'FTSE China Health Care Equipment & Services Price',\n",
              " 'FTSE China Food Producers Price EUR',\n",
              " 'FTSE China Food Producers Price USD',\n",
              " 'FTSE China Food Producers Price JPY',\n",
              " 'FTSE China Food Producers Price GBP',\n",
              " 'FTSE China Financial Services Price JPY',\n",
              " 'FTSE China Health Care Equipment & Services Price',\n",
              " 'FTSE China Support Services Price EUR',\n",
              " 'FTSE China Support Services Price USD',\n",
              " 'FTSE China Alternative Energy Total Return EUR',\n",
              " 'FTSE China Real Estate Investment & Services Total',\n",
              " 'FTSE China Health Care Equipment & Services Total',\n",
              " 'FTSE China Food Producers Total Return JPY',\n",
              " 'FTSE China Financial Services Total Return JPY',\n",
              " 'FTSE China Real Estate Investment & Services Total',\n",
              " 'FTSE China Support Services Total Return JPY',\n",
              " 'FTSE China Financial Services Total Return EUR',\n",
              " 'FTSE China Health Care Equipment & Services Total',\n",
              " 'FTSE China Alternative Energy Total Return USD',\n",
              " 'FTSE China Alternative Energy Total Return GBP',\n",
              " 'FTSE China Mobile Telecommunications Total Return',\n",
              " 'FTSE China Food Producers Total Return EUR',\n",
              " 'FTSE China Mobile Telecommunications Total Return',\n",
              " 'FTSE China Support Services Total Return GBP',\n",
              " 'FTSE China Support Services Total Return EUR',\n",
              " 'FTSE China Mobile Telecommunications Total Return',\n",
              " 'FTSE China Food Producers Total Return GBP',\n",
              " 'FTSE China Financial Services Total Return USD',\n",
              " 'FTSE China Real Estate Investment & Services Total',\n",
              " 'FTSE China 200 Chemicals HKD',\n",
              " 'FTSE China 200 Industrial Metals HKD',\n",
              " 'FTSE China 200 Mining HKD',\n",
              " 'FTSE China 200 Construction & Materials HKD',\n",
              " 'FTSE China 200 Beverages USD',\n",
              " 'FTSE China 200 Automobiles & Parts USD',\n",
              " 'FTSE China 200 Industrial Transportation USD',\n",
              " 'FTSE China 200 Industrial Engineering USD',\n",
              " 'FTSE China 200 Electronic & Electrical Equipment U',\n",
              " 'FTSE China 200 General Industrials USD',\n",
              " 'FTSE China 200 Aerospace & Defence USD',\n",
              " 'FTSE China 200 Construction & Materials USD',\n",
              " 'FTSE China 200 Food Producers USD',\n",
              " 'FTSE China 200 Mining USD',\n",
              " 'FTSE China 200 Chemicals USD',\n",
              " 'FTSE China 200 Oil Equipment Services & Distributi',\n",
              " 'FTSE China 200 Oil & Gas Producers USD',\n",
              " 'FTSE China 200 Technology Hardware & Equipment CNY',\n",
              " 'FTSE China 200 Software and Computer Services CNY',\n",
              " 'FTSE China 200 General Financial CNY',\n",
              " 'FTSE China 200 Life Insurance CNY',\n",
              " 'FTSE China 200 Banks CNY',\n",
              " 'FTSE China 200 Industrial Metals USD',\n",
              " 'FTSE China 200 Household Goods USD',\n",
              " 'FTSE China 200 Leisure Goods USD',\n",
              " 'FTSE China 200 Personal Goods USD',\n",
              " 'MSCI China A Onshore Price CNY',\n",
              " 'MSCI China A International Pr USD',\n",
              " 'FTSE China 200 Real Estate Investment and Services',\n",
              " 'FTSE China 200 Alternate Energy HKD',\n",
              " 'FTSE China 200 Real Estate Investment and Services',\n",
              " 'FTSE China 200 Real Estate Investment and Services',\n",
              " 'FTSE China 200 Alternate Energy USD',\n",
              " 'FTSE China 200 Alternate Energy CNY',\n",
              " 'FTSE China 200 General Financial USD',\n",
              " 'FTSE China 200 Banks USD',\n",
              " 'FTSE China 200 Electricity USD',\n",
              " 'FTSE China 200 Pharmaceuticals & Biotechnology USD',\n",
              " 'FTSE China 200 Technology Hardware & Equipment USD',\n",
              " 'FTSE China 200 Software and Computer Services USD',\n",
              " 'FTSE China 200 Life Insurance USD',\n",
              " 'FTSE China 200 Mobile Telecommunication USD',\n",
              " 'FTSE China 200 Travel & Leisure USD',\n",
              " 'FTSE China 200 Media USD',\n",
              " 'FTSE China 200 General Retailers USD',\n",
              " 'FTSE China 200 Electricity CNY',\n",
              " 'FTSE China Financial Services Price USD',\n",
              " 'FTSE China 200 Mobile Telecommunication CNY',\n",
              " 'FTSE China 200 Media CNY',\n",
              " 'FTSE China 200 Oil & Gas Producers CNY',\n",
              " 'FTSE China 200 Life Insurance HKD',\n",
              " 'FTSE China 200 Mobile Telecommunication HKD',\n",
              " 'FTSE China 200 Travel & Leisure HKD',\n",
              " 'FTSE China 200 Media HKD',\n",
              " 'FTSE China 200 General Retailers HKD',\n",
              " 'FTSE China 200 Pharmaceuticals & Biotechnology HKD',\n",
              " 'FTSE China 200 Personal Goods HKD',\n",
              " 'FTSE China 200 Chemicals CNY',\n",
              " 'FTSE China 200 Leisure Goods HKD',\n",
              " 'FTSE China 200 Food Producers HKD',\n",
              " 'FTSE China 200 Beverages HKD',\n",
              " 'FTSE China 200 Automobiles & Parts HKD',\n",
              " 'FTSE China 200 Industrial Transportation HKD',\n",
              " 'FTSE China 200 Industrial Engineering HKD',\n",
              " 'FTSE China 200 Electronic & Electrical Equipment H',\n",
              " 'FTSE China 200 General Industrials HKD',\n",
              " 'FTSE China 200 Aerospace & Defence HKD',\n",
              " 'FTSE China 200 Household Goods HKD',\n",
              " 'FTSE China 200 Industrial Metals CNY',\n",
              " 'FTSE China 200 Mining CNY',\n",
              " 'FTSE China 200 Aerospace & Defence CNY',\n",
              " 'FTSE China 200 General Retailers CNY',\n",
              " 'FTSE China 200 Pharmaceuticals & Biotechnology CNY',\n",
              " 'FTSE China 200 Personal Goods CNY',\n",
              " 'FTSE China 200 Leisure Goods CNY',\n",
              " 'FTSE China 200 Household Goods CNY',\n",
              " 'FTSE China 200 Food Producers CNY',\n",
              " 'FTSE China 200 Beverages CNY',\n",
              " 'FTSE China 200 Automobiles & Parts CNY',\n",
              " 'FTSE China 200 Industrial Transportation CNY',\n",
              " 'FTSE China 200 Industrial Engineering CNY',\n",
              " 'FTSE China 200 Construction & Materials CNY',\n",
              " 'FTSE China 200 Oil Equipment Services & Distributi',\n",
              " 'FTSE China 200 Technology Hardware & Equipment HKD',\n",
              " 'FTSE China 200 Software and Computer Services HKD',\n",
              " 'FTSE China 200 General Financial HKD',\n",
              " 'FTSE China 200 Banks HKD',\n",
              " 'FTSE China 200 Electricity HKD',\n",
              " 'FTSE China 200 Electronic & Electrical Equipment C',\n",
              " 'FTSE China 200 General Industrials CNY',\n",
              " 'FTSE China 200 Travel & Leisure CNY',\n",
              " 'FTSE China Financial Services Price EUR',\n",
              " 'FTSE China Financial Services Price GBP',\n",
              " 'FTSE China Alternative Energy Price USD',\n",
              " 'FTSE China Oil Equipment Servi JPY',\n",
              " 'FTSE China Oil Equipment Servi USD',\n",
              " 'FTSE China Oil Equipment Servi EUR',\n",
              " 'FTSE China Oil Gas Producers GBP',\n",
              " 'FTSE China Oil Gas Producers JPY',\n",
              " 'FTSE China Oil Gas Producers USD',\n",
              " 'SME-Chinext 400',\n",
              " 'FTSE China Oil Gas GBP',\n",
              " 'FTSE China Oil Equipment Servi GBP',\n",
              " 'FTSE China Oil Gas JPY',\n",
              " 'FTSE China Oil Gas EUR',\n",
              " 'FTSE China Nonlife Insurance GBP',\n",
              " 'FTSE China Nonlife Insurance JPY',\n",
              " 'FTSE China Nonlife Insurance USD',\n",
              " 'FTSE China Nonlife Insurance EUR',\n",
              " 'FTSE China Mining GBP',\n",
              " 'FTSE China Mining JPY',\n",
              " 'FTSE China Mining USD',\n",
              " 'FTSE China Oil Gas USD',\n",
              " 'FTSE China Personal Goods EUR',\n",
              " 'FTSE China Personal Goods USD',\n",
              " 'FTSE China Personal Goods JPY',\n",
              " 'FTSE China Telecommunication USD',\n",
              " 'FTSE China Telecommunication EUR',\n",
              " 'FTSE China Technology Hardware  GBP',\n",
              " 'FTSE China Technology Hardware  JPY',\n",
              " 'FTSE China Technology Hardware  USD',\n",
              " 'FTSE China Technology Hardware  EUR',\n",
              " 'FTSE China Technology GBP',\n",
              " 'FTSE China Technology JPY',\n",
              " 'FTSE China Technology USD',\n",
              " 'FTSE China Technology EUR',\n",
              " 'FTSE China Software Computer S GBP',\n",
              " 'FTSE China Software Computer S JPY',\n",
              " 'FTSE China Software Computer S USD',\n",
              " 'FTSE China Software Computer S EUR',\n",
              " 'FTSE China Pharmaceuticals Bio GBP',\n",
              " 'FTSE China Pharmaceuticals Bio JPY',\n",
              " 'FTSE China Pharmaceuticals Bio USD',\n",
              " 'FTSE China Pharmaceuticals Bio EUR',\n",
              " 'FTSE China Personal Goods GBP',\n",
              " 'FTSE China Mining EUR',\n",
              " 'FTSE China Telecommunication JPY',\n",
              " 'FTSE China Life Insurance GBP',\n",
              " 'FTSE China Life Insurance USD',\n",
              " 'FTSE China Health Care USD',\n",
              " 'FTSE China Health Care EUR',\n",
              " 'FTSE China General Retailers GBP',\n",
              " 'FTSE China General Retailers JPY',\n",
              " 'FTSE China General Retailers USD',\n",
              " 'FTSE China General Retailers EUR',\n",
              " 'FTSE China General Industrials GBP',\n",
              " 'FTSE China General Industrials JPY',\n",
              " 'FTSE China Health Care JPY',\n",
              " 'FTSE China General Industrials USD',\n",
              " 'FTSE China Gas Water Multiutil GBP',\n",
              " 'FTSE China Gas Water Multiutil JPY',\n",
              " 'FTSE China Gas Water Multiutil USD',\n",
              " 'FTSE China Gas Water Multiutil EUR',\n",
              " 'FTSE China Forestry Paper GBP',\n",
              " 'FTSE China Forestry Paper JPY',\n",
              " 'FTSE China Forestry Paper USD',\n",
              " 'FTSE China Forestry Paper EUR',\n",
              " 'FTSE China General Industrials EUR',\n",
              " 'FTSE China Health Care GBP',\n",
              " 'FTSE China Household Goods EUR',\n",
              " 'FTSE China Household Goods USD',\n",
              " 'FTSE China Life Insurance EUR',\n",
              " 'FTSE China Industrials GBP',\n",
              " 'FTSE China Industrials JPY',\n",
              " 'FTSE China Industrials USD',\n",
              " 'FTSE China Industrials EUR',\n",
              " 'FTSE China Industrial TransportaGBP',\n",
              " 'FTSE China Industrial TransportaJPY',\n",
              " 'FTSE China Industrial TransportaUSD',\n",
              " 'FTSE China Industrial TransportaEUR',\n",
              " 'FTSE China Industrial Metals GBP',\n",
              " 'FTSE China Industrial Metals JPY',\n",
              " 'FTSE China Industrial Metals USD',\n",
              " 'FTSE China Industrial Metals EUR',\n",
              " 'FTSE China Industrial Engineerin GBP',\n",
              " 'FTSE China Industrial Engineerin JPY',\n",
              " 'FTSE China Industrial Engineerin USD',\n",
              " 'FTSE China Industrial Engineerin EUR',\n",
              " 'FTSE China Household Goods GBP',\n",
              " 'FTSE China Household Goods JPY',\n",
              " 'FTSE China Life Insurance JPY',\n",
              " 'SME-Chinext 100 Price',\n",
              " 'FTSE China Telecommunication GBP',\n",
              " 'FTSE China Travel Leisure USD',\n",
              " 'FTSE Greater China Total Return GBP',\n",
              " 'FTSE Greater China Total Return JPY',\n",
              " 'FTSE China A 200 Composite',\n",
              " 'FTSE Greater China Small Cap YEN',\n",
              " 'FTSE Greater China Small Cap EURO',\n",
              " 'FTSE Greater China Small Cap GBP',\n",
              " 'FTSE GREATER CHINA SMALL CAP USD',\n",
              " 'FTSE AW China Total Return JPY',\n",
              " 'FTSE Greater China Total Return USD',\n",
              " 'FTSE AW China Total Return GBP',\n",
              " 'FTSE AW China Total Return EUR',\n",
              " 'FTSE Global Equity Series Wi China EURO',\n",
              " 'FTSE Global Equity Series Wi China YEN',\n",
              " 'FTSE Intl All-World Country Indices - China USD',\n",
              " 'FTSE Global Equity Series Wi China GBP',\n",
              " 'FTSE CHINA SMALL CAP USD',\n",
              " 'FTSE China 50',\n",
              " 'FTSE China HY150 TR HKD',\n",
              " 'FTSE AW China Total Return USD',\n",
              " 'FTSE Greater China Total Return EUR',\n",
              " 'FTSE Global All Cap ex Canada China A Inclusion Ne',\n",
              " 'FT V China A TR',\n",
              " 'FTSE China Alternative Energy Price EUR',\n",
              " 'FTSE China Alternative Energy Price GBP',\n",
              " 'FTSE China Alternative Energy Price JPY',\n",
              " 'FTSE RAFI Hong Kong/China 80 - QSR GBP TR',\n",
              " 'FTSE RAFI Hong Kong/China 80 - QSR AUD TR',\n",
              " 'FTSE RAFI Hong Kong/China 80 - QSR CAD TR',\n",
              " 'FTSE RAFI Hong Kong/China 80 - QSR CHF PR',\n",
              " 'FTSE RAFI Hong Kong/China 80 - QSR JPY TR',\n",
              " 'FTSE RAFI Hong Kong/China 80 - QSR EUR TR',\n",
              " 'FTSE RAFI Hong Kong/China 80 - QSR USD TR',\n",
              " 'FTSE RAFI Hong Kong/China 80 - QSR CAD PR',\n",
              " 'FTSE RAFI Hong Kong/China 80 - QSR CHF TR',\n",
              " 'FTSE China 50 NET',\n",
              " 'FTSE Global All Cap ex Canada China A Inclusion Ne',\n",
              " 'FTSE RAFI Hong Kong/China 80 - QSR USD PR',\n",
              " 'FTSE RAFI Hong Kong/China 80 - QSR EUR PR',\n",
              " 'FTSE RAFI Hong Kong/China 80 - QSR AUD PR',\n",
              " 'FTSE RAFI Hong Kong/China 80 - QSR JPY PR',\n",
              " 'FTSE RAFI Hong Kong/China 80 - QSR GBP PR',\n",
              " 'FTSE China HY150 TR CNY',\n",
              " 'FTSE China Travel Leisure EUR',\n",
              " 'FTSE China HY150 TR USD',\n",
              " 'FTSE ChinaA HY150 CNY',\n",
              " 'FTSE Mpf China',\n",
              " 'FTSE Greater China 150',\n",
              " 'FTSE EPRANAREIT Emerging Net TRIUSD',\n",
              " 'FTSE EPRANAREIT Emerging Net TRIGBP',\n",
              " 'FTSE EPRANAREIT Emerging Net TRIEUR',\n",
              " 'FTSE EPRANAREIT Emerging Net TRIAUD',\n",
              " 'FTSE EPRANAREIT Emerging Net TRIJPY',\n",
              " 'FTSE EPRANAREIT Emerging CHINA EUR',\n",
              " 'FTSE Mpf Greater China',\n",
              " 'FTSE EPRANAREIT Emerging CHINA JPY',\n",
              " 'FTSE EPRANAREIT Emerging CHINA AUD',\n",
              " 'FTSE EPRANAREIT Emerging CHINA GBP',\n",
              " 'FTSE China Utilities GBP',\n",
              " 'FTSE China Utilities JPY',\n",
              " 'FTSE China Utilities USD',\n",
              " 'FTSE China Utilities EUR',\n",
              " 'FTSE China Travel Leisure GBP',\n",
              " 'FTSE China Travel Leisure JPY',\n",
              " 'FTSE EPRANAREIT Emerging CHINA USD',\n",
              " 'FTSE RAFI Hong Kong China HKD',\n",
              " 'FTSE RAFI Hong Kong China AUD',\n",
              " 'FTSE RAFI Hong Kong China EUR',\n",
              " 'FTSE ChinaA HY150 HKD',\n",
              " 'FTSE V SK China TR CHF',\n",
              " 'FTSE V SK China TR AUD',\n",
              " 'FTSE V SK China TR JPY',\n",
              " 'FTSE V SK China TR GBP',\n",
              " 'FTSE V SK China TR EUR',\n",
              " 'FTSE V SK China TR USD',\n",
              " 'FTSE V SK China TR CAD',\n",
              " 'FTSE Shariah Greater China USD',\n",
              " 'FTSE Shariah Greater China JPY',\n",
              " 'FTSE Shariah Greater China GBP',\n",
              " 'FTSE Shariah Greater China EUR',\n",
              " 'FTSE Shariah China USD',\n",
              " 'FTSE Shariah China JPY',\n",
              " 'FTSE Shariah China GBP',\n",
              " 'FTSE Shariah China EUR',\n",
              " 'FTSE RAFI Hong Kong China USD',\n",
              " 'FTSE RAFI Hong Kong China JPY',\n",
              " 'FTSE RAFI Hong Kong China GBP',\n",
              " 'FTSE ChinaA HY150 USD',\n",
              " 'SME-Chinext 100 TRN',\n",
              " 'FTSE China Oil Gas Producers EUR',\n",
              " 'SSE MidCap',\n",
              " 'SSE Upstream Industry',\n",
              " 'SSE Utilities EW',\n",
              " 'SSE Utility Sub',\n",
              " 'SSE Wealth Mid-Small',\n",
              " 'SSE180 Growth',\n",
              " 'SSE180 Relative Growth',\n",
              " 'SSE180 Relative Value',\n",
              " 'SSE180 Value',\n",
              " 'SSEF 200',\n",
              " 'SSEF 300',\n",
              " 'SSEF 500',\n",
              " 'SZFI 120',\n",
              " 'SZFI 200',\n",
              " 'SZFI 60',\n",
              " 'SZSE 100',\n",
              " 'SSE Telecommunication Services EW',\n",
              " 'SZSE 100 Equal Weight',\n",
              " 'SSE Sustainable Development Industry',\n",
              " 'SSE State-owned Enterprises 100',\n",
              " 'SSE Midstream Industry',\n",
              " 'SSE non-Cyclical Industry 100',\n",
              " 'SSE Overseas-listing A Share',\n",
              " 'SSE Private-owned Enterprises 50',\n",
              " 'SSE Private-owned Enterprises Dividend',\n",
              " 'SSE Property Sub',\n",
              " 'SSE Resource 50',\n",
              " 'SSE Select Consumption Industries',\n",
              " 'SSE Select Consumption Industries TR',\n",
              " 'SSE Select Manufacturing Industries',\n",
              " 'SSE Select Resources Industries',\n",
              " 'SSE Select Resources Industries TR',\n",
              " 'SSE Shanghai Enterprises',\n",
              " 'SSE SmallCap',\n",
              " 'SSE Social Responsibility',\n",
              " 'SSE State-owned Enterprises Dividend',\n",
              " 'SSE Mid&Small Cap',\n",
              " 'SZSE 100 Low Volatility',\n",
              " 'SZSE 100 Price',\n",
              " 'SZSE B Share',\n",
              " 'SZSE B Share Sub',\n",
              " 'SZSE Chinext 300',\n",
              " 'SZSE Chinext Equal Weight',\n",
              " 'SZSE Chinext Prime Market',\n",
              " 'SZSE Chinext Strategic Emerging Industries',\n",
              " 'SZSE Component Equal Weighted',\n",
              " 'SZSE Corp Governance Price',\n",
              " 'SZSE Cyclical 50',\n",
              " 'SZSE Dividend Price',\n",
              " 'SZSE GDP 100',\n",
              " 'SZSE Growth Price',\n",
              " 'SZSE Innovation',\n",
              " 'SZSE New',\n",
              " 'SZSE Press',\n",
              " 'SZSE A Share Sub',\n",
              " 'SZSE 100 Performance Weighted',\n",
              " 'SZSE A Share',\n",
              " 'SZSE 700 Growth',\n",
              " 'SZSE 1000',\n",
              " 'SZSE 1000 Growth',\n",
              " 'SZSE 1000 Value',\n",
              " 'SZSE 200',\n",
              " 'SZSE 300',\n",
              " 'SZSE 300 Equal Weight',\n",
              " 'SZSE 300 Growth Price',\n",
              " 'SZSE 300 High Beta',\n",
              " 'SZSE 300 Low Volatility',\n",
              " 'SZSE 300 Performance Weighted',\n",
              " 'SZSE 300 Price',\n",
              " 'SZSE 300 Value Price',\n",
              " 'SZSE 500 High Beta',\n",
              " 'SZSE 500 Low Volatility',\n",
              " 'SZSE 700',\n",
              " 'SZSE 700 Value',\n",
              " 'SZSE Press Composite',\n",
              " 'SSE Mega-cap',\n",
              " 'SSE Materials EW',\n",
              " 'SSE 380 Dividend',\n",
              " 'SSE 380 Dynamic',\n",
              " 'SSE 380 Energy',\n",
              " 'SSE 380 EW',\n",
              " 'SSE 380 Financials',\n",
              " 'SSE 380 Fundamental Weighted',\n",
              " 'SSE 380 Growth',\n",
              " 'SSE 380 Health Care',\n",
              " 'SSE 380 High Beta',\n",
              " 'SSE 380 Industrials',\n",
              " 'SSE 380 Information Technology',\n",
              " 'SSE 380 Low Beta',\n",
              " 'SSE 380 Materials',\n",
              " 'SSE 380 Relative Growth',\n",
              " 'SSE 380 Relative Value',\n",
              " 'SSE 380 Consumer Staples',\n",
              " 'SSE 380 Stability',\n",
              " 'SSE 380 Consumer Discretionary',\n",
              " 'SSE 180 Volatility Weighted',\n",
              " 'SME-Chinext Growth',\n",
              " 'SME-Chinext Tec 100 Price',\n",
              " 'SME-Chinext Value',\n",
              " 'SSE 150',\n",
              " 'SSE 180 Corporate Governance',\n",
              " 'SSE 180 Dividend',\n",
              " 'SSE 180 Dynamic',\n",
              " 'SSE 180 EW',\n",
              " 'SSE 180 Fundamental Weighted',\n",
              " 'SSE 180 High Beta',\n",
              " 'SSE 180 Infrastructure',\n",
              " 'SSE 180 Low Beta',\n",
              " 'SSE 180 Natural Resource',\n",
              " 'SSE 180 Stability',\n",
              " 'SSE 180 Transportation',\n",
              " 'SSE 380',\n",
              " 'SSE Medium Enterprise Composite',\n",
              " 'SSE 380 Telecommunication Services',\n",
              " 'SSE 380 Value',\n",
              " 'SSE Health Care theme',\n",
              " 'SSE High And New Technology Enterprises',\n",
              " 'SSE High-End Equipment Manufacturing 60',\n",
              " 'SSE Industrial Sub',\n",
              " 'SSE Industrials EW',\n",
              " 'SSE Industry Top',\n",
              " 'SSE Information Technology EW',\n",
              " 'SSE Large&Mid&Small Cap',\n",
              " 'SSE Large&Mid&Small Cap Growth',\n",
              " 'SSE Large&Mid&Small Cap Relative Growth',\n",
              " 'SSE Large&Mid&Small Cap Relative Value',\n",
              " 'SSE Large&Mid&Small Cap Value',\n",
              " 'SSE Leading Consumption and Services',\n",
              " 'SSE Local State-owned Enterprises 50',\n",
              " 'SSE Market Value Top 100',\n",
              " 'SSE Health Care EW',\n",
              " 'SSE 380 Utilities',\n",
              " 'SSE Free Float',\n",
              " 'SSE Environmental Protection Industry',\n",
              " 'SSE 380 Volatility Weighted',\n",
              " 'SSE 50 EW',\n",
              " 'SSE 50 Fundamental Weighted',\n",
              " 'SSE Agriculture theme',\n",
              " 'SSE Banks Total Return',\n",
              " 'SSE Central State-owned Enterprises 50',\n",
              " 'SSE Commercial Sub',\n",
              " 'SSE Consumer 50',\n",
              " 'SSE Consumer 80',\n",
              " 'SSE Consumer Discretionary EW',\n",
              " 'SSE Consumer Staples EW',\n",
              " 'SSE Cyclical Industry 50',\n",
              " 'SSE Dividend',\n",
              " 'SSE Downstream Industry',\n",
              " 'SSE Energy EW',\n",
              " 'SSE Financials EW',\n",
              " 'SZSE SME 300 Price',\n",
              " 'SZSE Composite',\n",
              " 'SZSE SME Corp Governance',\n",
              " 'SZSE TMT50 Price',\n",
              " 'SZSE Strategic Emerging Industries',\n",
              " 'SZSE SME-Chinext Hnte',\n",
              " 'SZSE SME-Chinext 100 Equal Weighted',\n",
              " 'SZSE SME Strategic Emerging Industries',\n",
              " 'SZSE SME Return',\n",
              " 'SZSE SME Prime Market',\n",
              " 'SZSE SME Performance Weighted',\n",
              " 'SZSE SME Low Volatility',\n",
              " 'SZSE SME High Beta',\n",
              " 'SZSE SME Equal Weight',\n",
              " 'SZSE SME Dividend',\n",
              " 'SZSE SME CSR',\n",
              " 'SZSE SME Price',\n",
              " 'SZSE SME Composite']"
            ]
          },
          "metadata": {},
          "execution_count": 835
        }
      ]
    },
    {
      "cell_type": "code",
      "source": [
        "Hang_seng_china=inv.get_index_recent_data(\"Hang Seng\",country=\"Hong Kong\")\n",
        "Hang_seng=Hang_seng_china[[\"Close\",\"Open\"]].tail()\n",
        "print(Hang_seng)"
      ],
      "metadata": {
        "colab": {
          "base_uri": "https://localhost:8080/"
        },
        "id": "SnBuT8C2tTo_",
        "outputId": "39f8a7e4-4c0f-45af-d838-cd12b00915ef"
      },
      "execution_count": 836,
      "outputs": [
        {
          "output_type": "stream",
          "name": "stdout",
          "text": [
            "               Close      Open\n",
            "Date                          \n",
            "2022-01-14  24383.32  24185.86\n",
            "2022-01-17  24218.03  24390.29\n",
            "2022-01-18  24112.78  24274.75\n",
            "2022-01-19  24127.85  24229.78\n",
            "2022-01-20  24952.35  24263.15\n"
          ]
        }
      ]
    },
    {
      "cell_type": "code",
      "source": [
        "Apertura_indice_Hang_seng = (Hang_seng.iat[4,1])#Este comando esta extraer un valor especifico de un dataframe\n",
        "print(Apertura_indice_Hang_seng )"
      ],
      "metadata": {
        "colab": {
          "base_uri": "https://localhost:8080/"
        },
        "id": "qBj3SChg0Swu",
        "outputId": "daaa478f-ed8a-4e30-846b-e27cd034ba8f"
      },
      "execution_count": 837,
      "outputs": [
        {
          "output_type": "stream",
          "name": "stdout",
          "text": [
            "24263.15\n"
          ]
        }
      ]
    },
    {
      "cell_type": "code",
      "source": [
        "Cierre_precio_anterior_Hang_seng = Hang_seng.iat[3,0]\n",
        "print(Cierre_precio_anterior_Hang_seng )"
      ],
      "metadata": {
        "colab": {
          "base_uri": "https://localhost:8080/"
        },
        "id": "T2h3xKsR0S6r",
        "outputId": "360472e8-6c9b-4861-87bb-12b8f90980f8"
      },
      "execution_count": 838,
      "outputs": [
        {
          "output_type": "stream",
          "name": "stdout",
          "text": [
            "24127.85\n"
          ]
        }
      ]
    },
    {
      "cell_type": "code",
      "source": [
        "Cierre_precio_anterior5dias_Hang_seng= Hang_seng.iat[0,0]\n",
        "print(Cierre_precio_anterior5dias_Hang_seng)"
      ],
      "metadata": {
        "colab": {
          "base_uri": "https://localhost:8080/"
        },
        "id": "YyVmdcnB0TD0",
        "outputId": "bc4425be-b6a9-48d2-a69e-bf31adedce1b"
      },
      "execution_count": 839,
      "outputs": [
        {
          "output_type": "stream",
          "name": "stdout",
          "text": [
            "24383.32\n"
          ]
        }
      ]
    },
    {
      "cell_type": "markdown",
      "metadata": {
        "id": "uAOISXZUw-cV"
      },
      "source": [
        "**Indices Renta variable Sudamerica**"
      ]
    },
    {
      "cell_type": "markdown",
      "metadata": {
        "id": "z75vbO46EcND"
      },
      "source": [
        "**Brasil**"
      ]
    },
    {
      "cell_type": "code",
      "metadata": {
        "id": "Rg5r9Fp5EqEd",
        "colab": {
          "base_uri": "https://localhost:8080/"
        },
        "outputId": "ddbc8baf-fd24-4677-97cd-94b5b6a0f99c"
      },
      "source": [
        "inv.get_indices_list(\"brazil\")"
      ],
      "execution_count": 840,
      "outputs": [
        {
          "output_type": "execute_result",
          "data": {
            "text/plain": [
              "['MSCI Brazil Net USD',\n",
              " 'DJ Brazil',\n",
              " 'TR Brazil 50',\n",
              " 'MSCI Brazil Price USD',\n",
              " 'DJ Brazil Titans 20 ADR',\n",
              " 'BNY Mellon Brazil ADR',\n",
              " 'BNY Mellon Brazil ADR TR',\n",
              " 'BNY Mellon Brazil Classic ADR',\n",
              " 'BNY Mellon Brazil Classic ADR TR',\n",
              " 'FTSE RAFI Brazil 50',\n",
              " 'MSCI Brazil 10 40',\n",
              " 'DJ BRIC Brazil 15 Capped NTR',\n",
              " 'DJ BRIC Brazil 15 USD',\n",
              " 'DJ BRIC Brazil 15 EUR',\n",
              " 'FTSE Brazil Infrastructure Extended',\n",
              " 'MSCI Brazil Gross',\n",
              " 'DJ Brazil Titans 20 ADR TR',\n",
              " 'MSCI Brazil 25-50 Price',\n",
              " 'MSCI Brazil 20-50 Gross Return',\n",
              " 'MSCI Brazil 25-50 Net Return',\n",
              " 'FTSE Brazil Infrastructure Extended USD PR',\n",
              " 'FTSE Brazil Infrastructure Extended Total Return',\n",
              " 'FTSE Brazil Infrastructure Extended Net Tax Total',\n",
              " 'FTSE Brazil Infrastructure Extended Net Tax USD TR',\n",
              " 'DJ BRIC Brazil 15 DR',\n",
              " 'MSCI Brazil',\n",
              " 'BM&FBOVESPA Unsponsored BDRX',\n",
              " 'Small Cap Index',\n",
              " 'Tag Along',\n",
              " 'Brazil broad-Based',\n",
              " 'Brazil Index',\n",
              " 'Mid-Large Cap Index',\n",
              " 'Public Utilities',\n",
              " 'BM&FBOVESPA Real Estate IFIX',\n",
              " 'Financials',\n",
              " 'Carbon Efficient',\n",
              " 'Corporate Governance IGCNM',\n",
              " 'Bovespa Dividend',\n",
              " 'Brazil 50',\n",
              " 'Corporate Gov Trade',\n",
              " 'FTSE Brazil',\n",
              " 'Ibovespa EUR',\n",
              " 'Ibovespa USD',\n",
              " 'IVBX',\n",
              " 'IGCX',\n",
              " 'Consumption',\n",
              " 'Industrial Sector',\n",
              " 'Electrical Energy',\n",
              " 'Basic Materials',\n",
              " 'Bovespa',\n",
              " 'Corporate Sustainability',\n",
              " 'Real Estate']"
            ]
          },
          "metadata": {},
          "execution_count": 840
        }
      ]
    },
    {
      "cell_type": "code",
      "metadata": {
        "id": "AUu9-_5MEyhD",
        "colab": {
          "base_uri": "https://localhost:8080/"
        },
        "outputId": "c4ec888f-277c-4f91-dc84-9d1afd4f63e4"
      },
      "source": [
        "data1=inv.get_index_recent_data(\"Bovespa\",country=\"brazil\")\n",
        "Brazil1=data1[[\"Close\",\"Open\"]].tail()\n",
        "print(Brazil1)"
      ],
      "execution_count": 841,
      "outputs": [
        {
          "output_type": "stream",
          "name": "stdout",
          "text": [
            "               Close      Open\n",
            "Date                          \n",
            "2022-01-14  106928.0  105530.0\n",
            "2022-01-17  106374.0  106927.0\n",
            "2022-01-18  106668.0  106369.0\n",
            "2022-01-19  108013.0  106670.0\n",
            "2022-01-20  109721.0  108015.0\n"
          ]
        }
      ]
    },
    {
      "cell_type": "code",
      "source": [
        "Apertura_indice_Brazil = (Brazil1.iat[4,1]) # Este comando esta extraer un valor especifico de un dataframe\n",
        "print(Apertura_indice_Brazil)"
      ],
      "metadata": {
        "id": "_xlgVCeKKsoV",
        "colab": {
          "base_uri": "https://localhost:8080/"
        },
        "outputId": "10198cff-4874-44a9-889c-729e63c72f2c"
      },
      "execution_count": 842,
      "outputs": [
        {
          "output_type": "stream",
          "name": "stdout",
          "text": [
            "108015.0\n"
          ]
        }
      ]
    },
    {
      "cell_type": "code",
      "source": [
        "Cierre_precio_anterior__indice_Brazil = Brazil1.iat[3,0]\n",
        "print(Cierre_precio_anterior__indice_Brazil)"
      ],
      "metadata": {
        "id": "IBQmCKC3Kszp",
        "colab": {
          "base_uri": "https://localhost:8080/"
        },
        "outputId": "addb11aa-be9f-4b47-e885-723cf5ed3caf"
      },
      "execution_count": 843,
      "outputs": [
        {
          "output_type": "stream",
          "name": "stdout",
          "text": [
            "108013.0\n"
          ]
        }
      ]
    },
    {
      "cell_type": "code",
      "source": [
        "Cierre_precio_anterior5dias_indice_Brazil= Brazil1.iat[0,0]\n",
        "print(Cierre_precio_anterior5dias_indice_Brazil)"
      ],
      "metadata": {
        "id": "WnEH6m81Ks9z",
        "colab": {
          "base_uri": "https://localhost:8080/"
        },
        "outputId": "308f9489-a80d-4186-9861-780edef70699"
      },
      "execution_count": 844,
      "outputs": [
        {
          "output_type": "stream",
          "name": "stdout",
          "text": [
            "106928.0\n"
          ]
        }
      ]
    },
    {
      "cell_type": "markdown",
      "metadata": {
        "id": "MnvD9JPpFb9O"
      },
      "source": [
        "**Mexico**"
      ]
    },
    {
      "cell_type": "code",
      "metadata": {
        "id": "0yGL7xYBFiA8",
        "colab": {
          "base_uri": "https://localhost:8080/"
        },
        "outputId": "cbfca3d9-62d1-4f40-e4fe-36bcbe9979cb"
      },
      "source": [
        "inv.get_indices_list(\"Mexico\")"
      ],
      "execution_count": 845,
      "outputs": [
        {
          "output_type": "execute_result",
          "data": {
            "text/plain": [
              "['S&P/BMV IRT LargeCap',\n",
              " 'S&P/BMV IRT MidCap',\n",
              " 'S&P/BMV IRT SmallCap',\n",
              " 'S&P/BMV IMeBz',\n",
              " 'S&P/BMV IMeBz RT',\n",
              " 'MSCI Mexico Gross',\n",
              " 'BURSA OPTIMO RT',\n",
              " 'BNY Mellon Mexico Classic ADR',\n",
              " 'BNY Mellon Mexico ADR TR',\n",
              " 'BNY Mellon Mexico ADR',\n",
              " 'NQ Mexico Financials',\n",
              " 'DJ Mexico USD',\n",
              " 'DJ Mexico',\n",
              " 'MSCI Mexico',\n",
              " 'BNY Mellon Mexico Classic ADR TR',\n",
              " 'S&P/BMV IRT CompMx',\n",
              " 'MSCI Mexico Special Capping Net USD',\n",
              " 'S&P/BMV IPC SUSTENTABLE RT',\n",
              " 'S&P/BMV-EXTR RT',\n",
              " 'S&P/BMV-COMERCIO RT',\n",
              " 'Banamex',\n",
              " 'FTSE BIVA Eod Net Tax',\n",
              " 'FTSE BIVA EOD Price',\n",
              " 'FTSE BIVA EOD TR',\n",
              " 'FTSE BIVA Real Time Net Tax',\n",
              " 'FTSE BIVA Real Time Total Return',\n",
              " 'FTSE Mexico',\n",
              " 'Mexico 50',\n",
              " 'S&P/BMV BMBra 15',\n",
              " 'S&P/BMV BMBra 15 RT',\n",
              " 'S&P/BMV-SRVCM RT',\n",
              " 'S&P/BMV DDBOL',\n",
              " 'S&P/BMV IRT',\n",
              " 'S&P/BMV-MAT RT',\n",
              " 'S&P/BMV-TRANS RT',\n",
              " 'S&P/BMV-ENL RT',\n",
              " 'S&P/BMV-INDU RT',\n",
              " 'S&P/BMV-MAT',\n",
              " 'S&P/BMV-INDU',\n",
              " 'S&P/BMV HABITA',\n",
              " 'S&P/BMV SALUD',\n",
              " 'S&P/BMV SERVS FINAN',\n",
              " 'S&P/BMV PROD CONS FREC',\n",
              " 'S&P/BMV SRVS CONS NO BCO',\n",
              " 'FTSE BIVA Real Time Price',\n",
              " 'S&P/BMV-SRVCM',\n",
              " 'S&P/BMV IPC CompMx',\n",
              " 'S&P/BMV IMC30',\n",
              " 'S&P/BMV-CONST RT',\n",
              " 'S&P/BMV-ICF RT',\n",
              " 'S&P/BMV-SERV RT',\n",
              " 'S&P/BMV-FINAN RT',\n",
              " 'S&P/BMV HABITA RT',\n",
              " 'S&P/BMV IPC',\n",
              " 'S&P/BMV TELECOM',\n",
              " 'S&P/BMV INMEX',\n",
              " 'S&P/BMV IPC MidCap',\n",
              " 'S&P/BMV IPC LargeCap',\n",
              " 'S&P/BMV DIBOL',\n",
              " 'S&P/BMV IPC SUSTENTABLE',\n",
              " 'S&P/BMV IPC SmallCap']"
            ]
          },
          "metadata": {},
          "execution_count": 845
        }
      ]
    },
    {
      "cell_type": "code",
      "metadata": {
        "id": "aWEMdeslFngE",
        "colab": {
          "base_uri": "https://localhost:8080/"
        },
        "outputId": "de804b40-b8ca-4c5f-d221-ce21c9aec963"
      },
      "source": [
        "data2=inv.get_index_recent_data(\"S&P/BMV IPC\",country=\"Mexico\")\n",
        "Mexico1=data2[[\"Close\",\"Open\"]].tail()\n",
        "print(Mexico1)"
      ],
      "execution_count": 846,
      "outputs": [
        {
          "output_type": "stream",
          "name": "stdout",
          "text": [
            "               Close      Open\n",
            "Date                          \n",
            "2022-01-14  53744.92  53824.77\n",
            "2022-01-17  53973.27  53742.37\n",
            "2022-01-18  53232.20  53985.46\n",
            "2022-01-19  52823.23  53239.99\n",
            "2022-01-20  52770.63  52826.23\n"
          ]
        }
      ]
    },
    {
      "cell_type": "code",
      "source": [
        "Apertura_indice_Mexico = (Mexico1.iat[4,1])#Este comando esta extraer un valor especifico de un dataframe\n",
        "print(Apertura_indice_Mexico)"
      ],
      "metadata": {
        "id": "uaA0bZ6jKYKg",
        "colab": {
          "base_uri": "https://localhost:8080/"
        },
        "outputId": "5b127796-c674-4ffa-aa33-9a52085507da"
      },
      "execution_count": 847,
      "outputs": [
        {
          "output_type": "stream",
          "name": "stdout",
          "text": [
            "52826.23\n"
          ]
        }
      ]
    },
    {
      "cell_type": "code",
      "source": [
        "Cierre_precio_anterior_indice_Mexico = Mexico1.iat[3,0]\n",
        "print(Cierre_precio_anterior_indice_Mexico)"
      ],
      "metadata": {
        "id": "IYU5nOkwKYX9",
        "colab": {
          "base_uri": "https://localhost:8080/"
        },
        "outputId": "0560515f-a8e6-4fa6-886b-7d46bd522fd7"
      },
      "execution_count": 848,
      "outputs": [
        {
          "output_type": "stream",
          "name": "stdout",
          "text": [
            "52823.23\n"
          ]
        }
      ]
    },
    {
      "cell_type": "code",
      "source": [
        "Cierre_precio_anterior5dias_indice_Mexico = Mexico1.iat[0,0]\n",
        "print(Cierre_precio_anterior5dias_indice_Mexico)"
      ],
      "metadata": {
        "id": "asr-x4fFKYjB",
        "colab": {
          "base_uri": "https://localhost:8080/"
        },
        "outputId": "3c4f1883-5c64-49e6-ca84-2863d228c6ed"
      },
      "execution_count": 849,
      "outputs": [
        {
          "output_type": "stream",
          "name": "stdout",
          "text": [
            "53744.92\n"
          ]
        }
      ]
    },
    {
      "cell_type": "markdown",
      "metadata": {
        "id": "XLqQ8FD_GMfr"
      },
      "source": [
        "**Chile**"
      ]
    },
    {
      "cell_type": "code",
      "metadata": {
        "id": "0cl_uW4kGPYe",
        "colab": {
          "base_uri": "https://localhost:8080/"
        },
        "outputId": "70d68e6c-2791-4cf4-f819-3d370e97e2db"
      },
      "source": [
        "inv.get_indices_list(\"chile\")"
      ],
      "execution_count": 850,
      "outputs": [
        {
          "output_type": "execute_result",
          "data": {
            "text/plain": [
              "['BNY Mellon Chile ADR TR',\n",
              " 'Inter 10',\n",
              " 'FTSE Chile',\n",
              " 'S&P CLX IPSA',\n",
              " 'BNY Mellon Chile ADR',\n",
              " 'S&P CLX IGPA',\n",
              " 'DJ Chile',\n",
              " 'MSCI Chile Net USD',\n",
              " 'MSCI Chile',\n",
              " 'DJ Chile USD']"
            ]
          },
          "metadata": {},
          "execution_count": 850
        }
      ]
    },
    {
      "cell_type": "code",
      "metadata": {
        "id": "L6fyDg-YGV1F",
        "colab": {
          "base_uri": "https://localhost:8080/"
        },
        "outputId": "d3c0a713-27f3-4678-dac2-8842649c0b65"
      },
      "source": [
        "data3=inv.get_index_recent_data(\"S&P CLX IPSA \",country=\"chile\")\n",
        "Chile1=data3[[\"Close\",\"Open\"]].tail()\n",
        "print(Chile1)"
      ],
      "execution_count": 851,
      "outputs": [
        {
          "output_type": "stream",
          "name": "stdout",
          "text": [
            "              Close     Open\n",
            "Date                        \n",
            "2022-01-14  4486.57  4512.43\n",
            "2022-01-17  4473.27  4486.57\n",
            "2022-01-18  4500.80  4473.27\n",
            "2022-01-19  4470.71  4500.80\n",
            "2022-01-20  4486.59  4470.71\n"
          ]
        }
      ]
    },
    {
      "cell_type": "code",
      "source": [
        "Apertura__indice_Chile = (Chile1.iat[4,1])# Este comando esta extraer un valor especifico de un dataframe\n",
        "print(Apertura__indice_Chile)"
      ],
      "metadata": {
        "id": "jjaDw7OOKADe",
        "colab": {
          "base_uri": "https://localhost:8080/"
        },
        "outputId": "cdee17ed-2a16-44b6-8adb-2c1bbf9c4d4e"
      },
      "execution_count": 852,
      "outputs": [
        {
          "output_type": "stream",
          "name": "stdout",
          "text": [
            "4470.71\n"
          ]
        }
      ]
    },
    {
      "cell_type": "code",
      "source": [
        "Cierre_precio_anterior_indice_Chile= Chile1.iat[3,0]\n",
        "print(Cierre_precio_anterior_indice_Chile)"
      ],
      "metadata": {
        "id": "f96FAsOlKAOL",
        "colab": {
          "base_uri": "https://localhost:8080/"
        },
        "outputId": "f7349059-963b-4df5-912e-7b4cd9d937cd"
      },
      "execution_count": 853,
      "outputs": [
        {
          "output_type": "stream",
          "name": "stdout",
          "text": [
            "4470.71\n"
          ]
        }
      ]
    },
    {
      "cell_type": "code",
      "source": [
        "Cierre_precio_anterior5dias_indice_Chile = Chile1.iat[0,0]\n",
        "print(Cierre_precio_anterior5dias_indice_Chile )"
      ],
      "metadata": {
        "id": "vbs1Q_3OKAWr",
        "colab": {
          "base_uri": "https://localhost:8080/"
        },
        "outputId": "3c6d8280-a175-4474-c1f7-a971aab78e36"
      },
      "execution_count": 854,
      "outputs": [
        {
          "output_type": "stream",
          "name": "stdout",
          "text": [
            "4486.57\n"
          ]
        }
      ]
    },
    {
      "cell_type": "markdown",
      "metadata": {
        "id": "9xF7odN1ENHE"
      },
      "source": [
        "**Colombia**"
      ]
    },
    {
      "cell_type": "code",
      "metadata": {
        "id": "JQqp994Q0iHw",
        "colab": {
          "base_uri": "https://localhost:8080/"
        },
        "outputId": "03387087-e1a2-43b9-aa40-332d1884d18c"
      },
      "source": [
        "inv.get_indices_list(\"Colombia\")"
      ],
      "execution_count": 855,
      "outputs": [
        {
          "output_type": "execute_result",
          "data": {
            "text/plain": [
              "['FTSE Colombia',\n",
              " 'COLEQTY',\n",
              " 'COLSC',\n",
              " 'COL20',\n",
              " 'COLIR',\n",
              " 'COL General',\n",
              " 'COL Financial',\n",
              " 'COL Public Services',\n",
              " 'Investment',\n",
              " 'COL Industrial',\n",
              " 'COLCAP',\n",
              " 'MSCI Colombia',\n",
              " 'COL Services']"
            ]
          },
          "metadata": {},
          "execution_count": 855
        }
      ]
    },
    {
      "cell_type": "code",
      "source": [
        "data4=inv.get_index_recent_data(\"COLCAP\",country=\"Colombia\")\n",
        "Colombia1=data4[[\"Close\",\"Open\"]].tail()\n",
        "print(Colombia1)"
      ],
      "metadata": {
        "id": "gpwWmhHgHhqF",
        "colab": {
          "base_uri": "https://localhost:8080/"
        },
        "outputId": "8cdcee27-087c-4cc7-bfff-dd2ad5e37271"
      },
      "execution_count": 856,
      "outputs": [
        {
          "output_type": "stream",
          "name": "stdout",
          "text": [
            "              Close     Open\n",
            "Date                        \n",
            "2022-01-14  1431.84  1459.71\n",
            "2022-01-17  1522.21  1450.95\n",
            "2022-01-18  1585.23  1535.77\n",
            "2022-01-19  1582.84  1584.42\n",
            "2022-01-20  1553.90  1579.23\n"
          ]
        }
      ]
    },
    {
      "cell_type": "code",
      "source": [
        "Apertura_indice_Colombia = (Colombia1.iat[4,1])# Este comando esta extraer un valor especifico de un dataframe\n",
        "print(Apertura_indice_Colombia )"
      ],
      "metadata": {
        "id": "FkJsxDouJtiG",
        "colab": {
          "base_uri": "https://localhost:8080/"
        },
        "outputId": "6195e757-d670-468f-ffc2-2586f9b04782"
      },
      "execution_count": 857,
      "outputs": [
        {
          "output_type": "stream",
          "name": "stdout",
          "text": [
            "1579.23\n"
          ]
        }
      ]
    },
    {
      "cell_type": "code",
      "source": [
        "Cierre_precio_anterior_indice_Colombia= Colombia1.iat[3,0]\n",
        "print(Cierre_precio_anterior_indice_Colombia)"
      ],
      "metadata": {
        "id": "6cISed_9Jt1s",
        "colab": {
          "base_uri": "https://localhost:8080/"
        },
        "outputId": "e29384bc-a19c-4deb-f1c4-f83d69a955d6"
      },
      "execution_count": 858,
      "outputs": [
        {
          "output_type": "stream",
          "name": "stdout",
          "text": [
            "1582.84\n"
          ]
        }
      ]
    },
    {
      "cell_type": "code",
      "source": [
        "Cierre_precio_anterior5dias_indice_Colombia = Colombia1.iat[0,0]\n",
        "print(Cierre_precio_anterior5dias_indice_Colombia  ) "
      ],
      "metadata": {
        "id": "-0tyNU5NJuAj",
        "colab": {
          "base_uri": "https://localhost:8080/"
        },
        "outputId": "56c2f553-289a-43db-fb09-d2b110628251"
      },
      "execution_count": 859,
      "outputs": [
        {
          "output_type": "stream",
          "name": "stdout",
          "text": [
            "1431.84\n"
          ]
        }
      ]
    },
    {
      "cell_type": "markdown",
      "metadata": {
        "id": "TfHT9MJ0Fk0x"
      },
      "source": [
        "**Materia Primas**"
      ]
    },
    {
      "cell_type": "markdown",
      "metadata": {
        "id": "ZaAJ2gQfGq2g"
      },
      "source": [
        "**Petroleo brent**"
      ]
    },
    {
      "cell_type": "code",
      "metadata": {
        "id": "bSm2XgfWFrfV",
        "colab": {
          "base_uri": "https://localhost:8080/",
          "height": 0
        },
        "outputId": "e2ccb3d9-8534-45f1-9dfd-ceeb441e0f18"
      },
      "source": [
        "inv.get_commodities(group=\"energy\")"
      ],
      "execution_count": 860,
      "outputs": [
        {
          "output_type": "execute_result",
          "data": {
            "text/html": [
              "\n",
              "  <div id=\"df-eb344435-844f-4c02-8645-53561e99950b\">\n",
              "    <div class=\"colab-df-container\">\n",
              "      <div>\n",
              "<style scoped>\n",
              "    .dataframe tbody tr th:only-of-type {\n",
              "        vertical-align: middle;\n",
              "    }\n",
              "\n",
              "    .dataframe tbody tr th {\n",
              "        vertical-align: top;\n",
              "    }\n",
              "\n",
              "    .dataframe thead th {\n",
              "        text-align: right;\n",
              "    }\n",
              "</style>\n",
              "<table border=\"1\" class=\"dataframe\">\n",
              "  <thead>\n",
              "    <tr style=\"text-align: right;\">\n",
              "      <th></th>\n",
              "      <th>title</th>\n",
              "      <th>country</th>\n",
              "      <th>name</th>\n",
              "      <th>full_name</th>\n",
              "      <th>currency</th>\n",
              "      <th>group</th>\n",
              "    </tr>\n",
              "  </thead>\n",
              "  <tbody>\n",
              "    <tr>\n",
              "      <th>0</th>\n",
              "      <td>Real Time Streaming Futures Quotes</td>\n",
              "      <td>united kingdom</td>\n",
              "      <td>Brent Oil</td>\n",
              "      <td>Brent Oil Futures</td>\n",
              "      <td>USD</td>\n",
              "      <td>energy</td>\n",
              "    </tr>\n",
              "    <tr>\n",
              "      <th>1</th>\n",
              "      <td>Real Time Streaming Futures Quotes</td>\n",
              "      <td>united states</td>\n",
              "      <td>Crude Oil WTI</td>\n",
              "      <td>Crude Oil WTI Futures</td>\n",
              "      <td>USD</td>\n",
              "      <td>energy</td>\n",
              "    </tr>\n",
              "    <tr>\n",
              "      <th>2</th>\n",
              "      <td>Real Time Streaming Futures Quotes</td>\n",
              "      <td>united kingdom</td>\n",
              "      <td>London Gas Oil</td>\n",
              "      <td>London Gas Oil Futures</td>\n",
              "      <td>USD</td>\n",
              "      <td>energy</td>\n",
              "    </tr>\n",
              "    <tr>\n",
              "      <th>3</th>\n",
              "      <td>Real Time Streaming Futures Quotes</td>\n",
              "      <td>united states</td>\n",
              "      <td>Natural Gas</td>\n",
              "      <td>Natural Gas Futures</td>\n",
              "      <td>USD</td>\n",
              "      <td>energy</td>\n",
              "    </tr>\n",
              "    <tr>\n",
              "      <th>4</th>\n",
              "      <td>Real Time Streaming Futures Quotes</td>\n",
              "      <td>united states</td>\n",
              "      <td>Heating Oil</td>\n",
              "      <td>Heating Oil Futures</td>\n",
              "      <td>USD</td>\n",
              "      <td>energy</td>\n",
              "    </tr>\n",
              "    <tr>\n",
              "      <th>5</th>\n",
              "      <td>Real Time Streaming Futures Quotes</td>\n",
              "      <td>united kingdom</td>\n",
              "      <td>Carbon Emissions</td>\n",
              "      <td>Carbon Emissions Futures</td>\n",
              "      <td>EUR</td>\n",
              "      <td>energy</td>\n",
              "    </tr>\n",
              "    <tr>\n",
              "      <th>6</th>\n",
              "      <td>Real Time Streaming Futures Quotes</td>\n",
              "      <td>united states</td>\n",
              "      <td>Gasoline RBOB</td>\n",
              "      <td>Gasoline RBOB Futures</td>\n",
              "      <td>USD</td>\n",
              "      <td>energy</td>\n",
              "    </tr>\n",
              "    <tr>\n",
              "      <th>7</th>\n",
              "      <td>MCX Futures Market Quotes</td>\n",
              "      <td>india</td>\n",
              "      <td>MCX Brent Oil</td>\n",
              "      <td>Brent Oil Futures</td>\n",
              "      <td>INR</td>\n",
              "      <td>energy</td>\n",
              "    </tr>\n",
              "    <tr>\n",
              "      <th>8</th>\n",
              "      <td>MCX Futures Market Quotes</td>\n",
              "      <td>india</td>\n",
              "      <td>MCX Crude Oil WTI</td>\n",
              "      <td>Crude Oil WTI Futures</td>\n",
              "      <td>INR</td>\n",
              "      <td>energy</td>\n",
              "    </tr>\n",
              "    <tr>\n",
              "      <th>9</th>\n",
              "      <td>MCX Futures Market Quotes</td>\n",
              "      <td>india</td>\n",
              "      <td>MCX Natural Gas</td>\n",
              "      <td>Natural Gas Futures</td>\n",
              "      <td>INR</td>\n",
              "      <td>energy</td>\n",
              "    </tr>\n",
              "  </tbody>\n",
              "</table>\n",
              "</div>\n",
              "      <button class=\"colab-df-convert\" onclick=\"convertToInteractive('df-eb344435-844f-4c02-8645-53561e99950b')\"\n",
              "              title=\"Convert this dataframe to an interactive table.\"\n",
              "              style=\"display:none;\">\n",
              "        \n",
              "  <svg xmlns=\"http://www.w3.org/2000/svg\" height=\"24px\"viewBox=\"0 0 24 24\"\n",
              "       width=\"24px\">\n",
              "    <path d=\"M0 0h24v24H0V0z\" fill=\"none\"/>\n",
              "    <path d=\"M18.56 5.44l.94 2.06.94-2.06 2.06-.94-2.06-.94-.94-2.06-.94 2.06-2.06.94zm-11 1L8.5 8.5l.94-2.06 2.06-.94-2.06-.94L8.5 2.5l-.94 2.06-2.06.94zm10 10l.94 2.06.94-2.06 2.06-.94-2.06-.94-.94-2.06-.94 2.06-2.06.94z\"/><path d=\"M17.41 7.96l-1.37-1.37c-.4-.4-.92-.59-1.43-.59-.52 0-1.04.2-1.43.59L10.3 9.45l-7.72 7.72c-.78.78-.78 2.05 0 2.83L4 21.41c.39.39.9.59 1.41.59.51 0 1.02-.2 1.41-.59l7.78-7.78 2.81-2.81c.8-.78.8-2.07 0-2.86zM5.41 20L4 18.59l7.72-7.72 1.47 1.35L5.41 20z\"/>\n",
              "  </svg>\n",
              "      </button>\n",
              "      \n",
              "  <style>\n",
              "    .colab-df-container {\n",
              "      display:flex;\n",
              "      flex-wrap:wrap;\n",
              "      gap: 12px;\n",
              "    }\n",
              "\n",
              "    .colab-df-convert {\n",
              "      background-color: #E8F0FE;\n",
              "      border: none;\n",
              "      border-radius: 50%;\n",
              "      cursor: pointer;\n",
              "      display: none;\n",
              "      fill: #1967D2;\n",
              "      height: 32px;\n",
              "      padding: 0 0 0 0;\n",
              "      width: 32px;\n",
              "    }\n",
              "\n",
              "    .colab-df-convert:hover {\n",
              "      background-color: #E2EBFA;\n",
              "      box-shadow: 0px 1px 2px rgba(60, 64, 67, 0.3), 0px 1px 3px 1px rgba(60, 64, 67, 0.15);\n",
              "      fill: #174EA6;\n",
              "    }\n",
              "\n",
              "    [theme=dark] .colab-df-convert {\n",
              "      background-color: #3B4455;\n",
              "      fill: #D2E3FC;\n",
              "    }\n",
              "\n",
              "    [theme=dark] .colab-df-convert:hover {\n",
              "      background-color: #434B5C;\n",
              "      box-shadow: 0px 1px 3px 1px rgba(0, 0, 0, 0.15);\n",
              "      filter: drop-shadow(0px 1px 2px rgba(0, 0, 0, 0.3));\n",
              "      fill: #FFFFFF;\n",
              "    }\n",
              "  </style>\n",
              "\n",
              "      <script>\n",
              "        const buttonEl =\n",
              "          document.querySelector('#df-eb344435-844f-4c02-8645-53561e99950b button.colab-df-convert');\n",
              "        buttonEl.style.display =\n",
              "          google.colab.kernel.accessAllowed ? 'block' : 'none';\n",
              "\n",
              "        async function convertToInteractive(key) {\n",
              "          const element = document.querySelector('#df-eb344435-844f-4c02-8645-53561e99950b');\n",
              "          const dataTable =\n",
              "            await google.colab.kernel.invokeFunction('convertToInteractive',\n",
              "                                                     [key], {});\n",
              "          if (!dataTable) return;\n",
              "\n",
              "          const docLinkHtml = 'Like what you see? Visit the ' +\n",
              "            '<a target=\"_blank\" href=https://colab.research.google.com/notebooks/data_table.ipynb>data table notebook</a>'\n",
              "            + ' to learn more about interactive tables.';\n",
              "          element.innerHTML = '';\n",
              "          dataTable['output_type'] = 'display_data';\n",
              "          await google.colab.output.renderOutput(dataTable, element);\n",
              "          const docLink = document.createElement('div');\n",
              "          docLink.innerHTML = docLinkHtml;\n",
              "          element.appendChild(docLink);\n",
              "        }\n",
              "      </script>\n",
              "    </div>\n",
              "  </div>\n",
              "  "
            ],
            "text/plain": [
              "                                title         country  ... currency   group\n",
              "0  Real Time Streaming Futures Quotes  united kingdom  ...      USD  energy\n",
              "1  Real Time Streaming Futures Quotes   united states  ...      USD  energy\n",
              "2  Real Time Streaming Futures Quotes  united kingdom  ...      USD  energy\n",
              "3  Real Time Streaming Futures Quotes   united states  ...      USD  energy\n",
              "4  Real Time Streaming Futures Quotes   united states  ...      USD  energy\n",
              "5  Real Time Streaming Futures Quotes  united kingdom  ...      EUR  energy\n",
              "6  Real Time Streaming Futures Quotes   united states  ...      USD  energy\n",
              "7           MCX Futures Market Quotes           india  ...      INR  energy\n",
              "8           MCX Futures Market Quotes           india  ...      INR  energy\n",
              "9           MCX Futures Market Quotes           india  ...      INR  energy\n",
              "\n",
              "[10 rows x 6 columns]"
            ]
          },
          "metadata": {},
          "execution_count": 860
        }
      ]
    },
    {
      "cell_type": "code",
      "metadata": {
        "id": "c--CN3WAG9p3",
        "colab": {
          "base_uri": "https://localhost:8080/"
        },
        "outputId": "2d4ef231-3a01-46bd-a4b9-e47bc926e113"
      },
      "source": [
        "brent=inv.get_commodity_recent_data(\"Brent Oil\",country=\"united kingdom\")\n",
        "brent10=brent[[\"Close\",\"Open\"]].tail()\n",
        "print(brent10)"
      ],
      "execution_count": 861,
      "outputs": [
        {
          "output_type": "stream",
          "name": "stdout",
          "text": [
            "            Close   Open\n",
            "Date                    \n",
            "2022-01-14  86.06  84.12\n",
            "2022-01-17  86.48  86.15\n",
            "2022-01-18  87.51  86.47\n",
            "2022-01-19  88.44  88.65\n",
            "2022-01-20  88.37  87.81\n"
          ]
        }
      ]
    },
    {
      "cell_type": "code",
      "source": [
        "brent1=inv.get_commodity_historical_data(\"Brent Oil\",country=\"united kingdom\",from_date='01/01/2007',to_date=\"19/01/2022\")\n",
        "brent2=brent1[\"Close\"]\n",
        "brent3=pd.DataFrame(brent2)\n",
        "brent3.plot.line()"
      ],
      "metadata": {
        "id": "U9tdt3hBeRwo",
        "colab": {
          "base_uri": "https://localhost:8080/",
          "height": 0
        },
        "outputId": "babf9436-d6e3-4ee5-dee2-9dc8c8459681"
      },
      "execution_count": 862,
      "outputs": [
        {
          "output_type": "execute_result",
          "data": {
            "text/plain": [
              "<matplotlib.axes._subplots.AxesSubplot at 0x7fddf3bf9090>"
            ]
          },
          "metadata": {},
          "execution_count": 862
        },
        {
          "output_type": "display_data",
          "data": {
            "image/png": "[encoded data removed]",
            "text/plain": [
              "<Figure size 432x288 with 1 Axes>"
            ]
          },
          "metadata": {
            "needs_background": "light"
          }
        }
      ]
    },
    {
      "cell_type": "code",
      "source": [
        "Dolar1=inv.get_currency_cross_historical_data(\"USD/COP\",from_date='01/01/2007',to_date=\"19/01/2022\")\n",
        "Dolar2=Dolar1[[\"Close\"]]\n",
        "Dolar3=pd.DataFrame(Dolar2)\n",
        "Dolar3.plot.line()"
      ],
      "metadata": {
        "id": "JUkph52jr9WI",
        "colab": {
          "base_uri": "https://localhost:8080/",
          "height": 0
        },
        "outputId": "52036a1a-683f-465b-965d-2be48bc8d433"
      },
      "execution_count": 863,
      "outputs": [
        {
          "output_type": "execute_result",
          "data": {
            "text/plain": [
              "<matplotlib.axes._subplots.AxesSubplot at 0x7fddf42a6f10>"
            ]
          },
          "metadata": {},
          "execution_count": 863
        },
        {
          "output_type": "display_data",
          "data": {
            "image/png": "[encoded data removed]",
            "text/plain": [
              "<Figure size 432x288 with 1 Axes>"
            ]
          },
          "metadata": {
            "needs_background": "light"
          }
        }
      ]
    },
    {
      "cell_type": "code",
      "source": [
        "brent_pesos=Dolar3*brent3\n",
        "brent_pesos.plot.line()"
      ],
      "metadata": {
        "id": "fSL4OuWitSEZ",
        "colab": {
          "base_uri": "https://localhost:8080/",
          "height": 0
        },
        "outputId": "088c41e4-ad2f-47a5-ff17-98e53bc65641"
      },
      "execution_count": 864,
      "outputs": [
        {
          "output_type": "execute_result",
          "data": {
            "text/plain": [
              "<matplotlib.axes._subplots.AxesSubplot at 0x7fddf41da9d0>"
            ]
          },
          "metadata": {},
          "execution_count": 864
        },
        {
          "output_type": "display_data",
          "data": {
            "image/png": "[encoded data removed]",
            "text/plain": [
              "<Figure size 432x288 with 1 Axes>"
            ]
          },
          "metadata": {
            "needs_background": "light"
          }
        }
      ]
    },
    {
      "cell_type": "code",
      "source": [
        "Apertura_brent = (brent10.iat[4,1])# Este comando esta extraer un valor especifico de un dataframe\n",
        "print(Apertura_brent)"
      ],
      "metadata": {
        "id": "RMeiQDXkJDBk",
        "colab": {
          "base_uri": "https://localhost:8080/"
        },
        "outputId": "8ae03240-4fa2-45eb-f3b3-c8b58e08ddd2"
      },
      "execution_count": 865,
      "outputs": [
        {
          "output_type": "stream",
          "name": "stdout",
          "text": [
            "87.81\n"
          ]
        }
      ]
    },
    {
      "cell_type": "code",
      "source": [
        "Cierre_precio_anterior_brent= brent10.iat[3,0]\n",
        "print(Cierre_precio_anterior_brent)"
      ],
      "metadata": {
        "id": "13WlZweXJDMh",
        "colab": {
          "base_uri": "https://localhost:8080/"
        },
        "outputId": "5655636a-a5e1-42fe-af49-09188f855ddc"
      },
      "execution_count": 866,
      "outputs": [
        {
          "output_type": "stream",
          "name": "stdout",
          "text": [
            "88.44\n"
          ]
        }
      ]
    },
    {
      "cell_type": "code",
      "source": [
        "Cierre_precio_anterior5dias_brent = brent10.iat[0,0]\n",
        "print(Cierre_precio_anterior5dias_brent ) "
      ],
      "metadata": {
        "id": "ibrKYQXZJDWk",
        "colab": {
          "base_uri": "https://localhost:8080/"
        },
        "outputId": "b7e52430-10de-4d01-d5ed-a3eace449c07"
      },
      "execution_count": 867,
      "outputs": [
        {
          "output_type": "stream",
          "name": "stdout",
          "text": [
            "86.06\n"
          ]
        }
      ]
    },
    {
      "cell_type": "markdown",
      "metadata": {
        "id": "yrvoK7DjGunG"
      },
      "source": [
        "**Petroleo WTI**"
      ]
    },
    {
      "cell_type": "code",
      "metadata": {
        "id": "6kNi6d5nG0PW",
        "colab": {
          "base_uri": "https://localhost:8080/"
        },
        "outputId": "bff65404-f6e5-48a9-ea89-be0db151597b"
      },
      "source": [
        "WTI=inv.get_commodity_recent_data(\"Crude Oil WTI\",country=\"united states\")\n",
        "WTI10=WTI[[\"Close\",\"Open\"]].tail()\n",
        "print(WTI10)"
      ],
      "execution_count": 868,
      "outputs": [
        {
          "output_type": "stream",
          "name": "stdout",
          "text": [
            "            Close   Open\n",
            "Date                    \n",
            "2022-01-16  83.83  83.78\n",
            "2022-01-17  83.69  83.84\n",
            "2022-01-18  85.43  84.32\n",
            "2022-01-19  86.96  86.61\n",
            "2022-01-20  85.52  84.98\n"
          ]
        }
      ]
    },
    {
      "cell_type": "code",
      "source": [
        "Apertura_WTI = (WTI10.iat[4,1])# Este comando esta extraer un valor especifico de un dataframe\n",
        "print(Apertura_WTI)"
      ],
      "metadata": {
        "id": "fjXtn6WzJVkY",
        "colab": {
          "base_uri": "https://localhost:8080/"
        },
        "outputId": "d99f0286-5ee3-490f-cb14-12e843ca8520"
      },
      "execution_count": 869,
      "outputs": [
        {
          "output_type": "stream",
          "name": "stdout",
          "text": [
            "84.98\n"
          ]
        }
      ]
    },
    {
      "cell_type": "code",
      "source": [
        "Cierre_precio_anterior_WTI= WTI10.iat[3,0]\n",
        "print(Cierre_precio_anterior_WTI)"
      ],
      "metadata": {
        "id": "l6iPtgngJVvd",
        "colab": {
          "base_uri": "https://localhost:8080/"
        },
        "outputId": "2269aebd-04a7-4d4d-a9ea-1cf269619040"
      },
      "execution_count": 870,
      "outputs": [
        {
          "output_type": "stream",
          "name": "stdout",
          "text": [
            "86.96\n"
          ]
        }
      ]
    },
    {
      "cell_type": "code",
      "source": [
        "Cierre_precio_anterior5dias_WTI = WTI10.iat[0,0]\n",
        "print(Cierre_precio_anterior5dias_WTI ) "
      ],
      "metadata": {
        "id": "MBL3eHYxJV5B",
        "colab": {
          "base_uri": "https://localhost:8080/"
        },
        "outputId": "fcc0def9-fc1a-4419-80fb-c5dda122f295"
      },
      "execution_count": 871,
      "outputs": [
        {
          "output_type": "stream",
          "name": "stdout",
          "text": [
            "83.83\n"
          ]
        }
      ]
    },
    {
      "cell_type": "markdown",
      "metadata": {
        "id": "K6ZObKHYH-Nf"
      },
      "source": [
        "**Oro**"
      ]
    },
    {
      "cell_type": "code",
      "metadata": {
        "id": "zScHHevlNP4e",
        "colab": {
          "base_uri": "https://localhost:8080/",
          "height": 0
        },
        "outputId": "be5fcb35-1760-4ea0-bb31-e96c18d16d1c"
      },
      "source": [
        "inv.get_commodities(group=\"metals\")"
      ],
      "execution_count": 872,
      "outputs": [
        {
          "output_type": "execute_result",
          "data": {
            "text/html": [
              "\n",
              "  <div id=\"df-4111b674-ac1a-4087-8284-7d456f04e23a\">\n",
              "    <div class=\"colab-df-container\">\n",
              "      <div>\n",
              "<style scoped>\n",
              "    .dataframe tbody tr th:only-of-type {\n",
              "        vertical-align: middle;\n",
              "    }\n",
              "\n",
              "    .dataframe tbody tr th {\n",
              "        vertical-align: top;\n",
              "    }\n",
              "\n",
              "    .dataframe thead th {\n",
              "        text-align: right;\n",
              "    }\n",
              "</style>\n",
              "<table border=\"1\" class=\"dataframe\">\n",
              "  <thead>\n",
              "    <tr style=\"text-align: right;\">\n",
              "      <th></th>\n",
              "      <th>title</th>\n",
              "      <th>country</th>\n",
              "      <th>name</th>\n",
              "      <th>full_name</th>\n",
              "      <th>currency</th>\n",
              "      <th>group</th>\n",
              "    </tr>\n",
              "  </thead>\n",
              "  <tbody>\n",
              "    <tr>\n",
              "      <th>0</th>\n",
              "      <td>Real Time Streaming Futures Quotes</td>\n",
              "      <td></td>\n",
              "      <td>Gold</td>\n",
              "      <td>Gold Futures</td>\n",
              "      <td>USD</td>\n",
              "      <td>metals</td>\n",
              "    </tr>\n",
              "    <tr>\n",
              "      <th>1</th>\n",
              "      <td>Real Time Streaming Futures Quotes</td>\n",
              "      <td>united states</td>\n",
              "      <td>Copper</td>\n",
              "      <td>Copper Futures</td>\n",
              "      <td>USD</td>\n",
              "      <td>metals</td>\n",
              "    </tr>\n",
              "    <tr>\n",
              "      <th>2</th>\n",
              "      <td>Real Time Streaming Futures Quotes</td>\n",
              "      <td></td>\n",
              "      <td>Silver</td>\n",
              "      <td>Silver Futures</td>\n",
              "      <td>USD</td>\n",
              "      <td>metals</td>\n",
              "    </tr>\n",
              "    <tr>\n",
              "      <th>3</th>\n",
              "      <td>Real Time Streaming Futures Quotes</td>\n",
              "      <td>united states</td>\n",
              "      <td>Palladium</td>\n",
              "      <td>Palladium Futures</td>\n",
              "      <td>USD</td>\n",
              "      <td>metals</td>\n",
              "    </tr>\n",
              "    <tr>\n",
              "      <th>4</th>\n",
              "      <td>Real Time Streaming Futures Quotes</td>\n",
              "      <td>united states</td>\n",
              "      <td>Platinum</td>\n",
              "      <td>Platinum Futures</td>\n",
              "      <td>USD</td>\n",
              "      <td>metals</td>\n",
              "    </tr>\n",
              "    <tr>\n",
              "      <th>5</th>\n",
              "      <td>Real Time Streaming Futures Quotes</td>\n",
              "      <td>united kingdom</td>\n",
              "      <td>Aluminum</td>\n",
              "      <td>Aluminum Futures</td>\n",
              "      <td>USD</td>\n",
              "      <td>metals</td>\n",
              "    </tr>\n",
              "    <tr>\n",
              "      <th>6</th>\n",
              "      <td>Real Time Streaming Futures Quotes</td>\n",
              "      <td>united kingdom</td>\n",
              "      <td>Zinc</td>\n",
              "      <td>Zinc Futures</td>\n",
              "      <td>USD</td>\n",
              "      <td>metals</td>\n",
              "    </tr>\n",
              "    <tr>\n",
              "      <th>7</th>\n",
              "      <td>Real Time Streaming Futures Quotes</td>\n",
              "      <td>united kingdom</td>\n",
              "      <td>Lead</td>\n",
              "      <td>Lead Futures</td>\n",
              "      <td>USD</td>\n",
              "      <td>metals</td>\n",
              "    </tr>\n",
              "    <tr>\n",
              "      <th>8</th>\n",
              "      <td>Real Time Streaming Futures Quotes</td>\n",
              "      <td>united kingdom</td>\n",
              "      <td>Nickel</td>\n",
              "      <td>Nickel Futures</td>\n",
              "      <td>USD</td>\n",
              "      <td>metals</td>\n",
              "    </tr>\n",
              "    <tr>\n",
              "      <th>9</th>\n",
              "      <td>Real Time Streaming Futures Quotes</td>\n",
              "      <td>united kingdom</td>\n",
              "      <td>Tin</td>\n",
              "      <td>Tin Futures</td>\n",
              "      <td>USD</td>\n",
              "      <td>metals</td>\n",
              "    </tr>\n",
              "    <tr>\n",
              "      <th>10</th>\n",
              "      <td>Real Time Streaming Futures Quotes</td>\n",
              "      <td>united kingdom</td>\n",
              "      <td>Copper</td>\n",
              "      <td>Copper Futures</td>\n",
              "      <td>USD</td>\n",
              "      <td>metals</td>\n",
              "    </tr>\n",
              "    <tr>\n",
              "      <th>11</th>\n",
              "      <td>EUREX Futures Market Quotes</td>\n",
              "      <td>euro zone</td>\n",
              "      <td>Xetra-Gold</td>\n",
              "      <td>Xetra-Gold Futures</td>\n",
              "      <td>EUR</td>\n",
              "      <td>metals</td>\n",
              "    </tr>\n",
              "    <tr>\n",
              "      <th>12</th>\n",
              "      <td>MCX Futures Market Quotes</td>\n",
              "      <td>india</td>\n",
              "      <td>MCX Aluminum Mini</td>\n",
              "      <td>Aluminum Mini Futures</td>\n",
              "      <td>INR</td>\n",
              "      <td>metals</td>\n",
              "    </tr>\n",
              "    <tr>\n",
              "      <th>13</th>\n",
              "      <td>MCX Futures Market Quotes</td>\n",
              "      <td>india</td>\n",
              "      <td>MCX Aluminum</td>\n",
              "      <td>Aluminum Futures</td>\n",
              "      <td>INR</td>\n",
              "      <td>metals</td>\n",
              "    </tr>\n",
              "    <tr>\n",
              "      <th>14</th>\n",
              "      <td>MCX Futures Market Quotes</td>\n",
              "      <td>india</td>\n",
              "      <td>MCX Copper</td>\n",
              "      <td>Copper Futures</td>\n",
              "      <td>INR</td>\n",
              "      <td>metals</td>\n",
              "    </tr>\n",
              "    <tr>\n",
              "      <th>15</th>\n",
              "      <td>MCX Futures Market Quotes</td>\n",
              "      <td>india</td>\n",
              "      <td>MCX Copper Mini</td>\n",
              "      <td>Copper Mini Futures</td>\n",
              "      <td>INR</td>\n",
              "      <td>metals</td>\n",
              "    </tr>\n",
              "    <tr>\n",
              "      <th>16</th>\n",
              "      <td>MCX Futures Market Quotes</td>\n",
              "      <td>india</td>\n",
              "      <td>MCX Gold 1 Kg</td>\n",
              "      <td>Gold 1 Kg</td>\n",
              "      <td>INR</td>\n",
              "      <td>metals</td>\n",
              "    </tr>\n",
              "    <tr>\n",
              "      <th>17</th>\n",
              "      <td>MCX Futures Market Quotes</td>\n",
              "      <td>india</td>\n",
              "      <td>MCX Gold Guinea</td>\n",
              "      <td>Gold Guinea Futures</td>\n",
              "      <td>INR</td>\n",
              "      <td>metals</td>\n",
              "    </tr>\n",
              "    <tr>\n",
              "      <th>18</th>\n",
              "      <td>MCX Futures Market Quotes</td>\n",
              "      <td>india</td>\n",
              "      <td>MCX Gold Mini</td>\n",
              "      <td>Gold Mini Futures</td>\n",
              "      <td>INR</td>\n",
              "      <td>metals</td>\n",
              "    </tr>\n",
              "    <tr>\n",
              "      <th>19</th>\n",
              "      <td>MCX Futures Market Quotes</td>\n",
              "      <td>india</td>\n",
              "      <td>MCX Gold Petal</td>\n",
              "      <td>Gold Petal Futures</td>\n",
              "      <td>INR</td>\n",
              "      <td>metals</td>\n",
              "    </tr>\n",
              "    <tr>\n",
              "      <th>20</th>\n",
              "      <td>MCX Futures Market Quotes</td>\n",
              "      <td>india</td>\n",
              "      <td>MCX Gold Petal Del</td>\n",
              "      <td>Gold Petal (New Delhi) Futures</td>\n",
              "      <td>INR</td>\n",
              "      <td>metals</td>\n",
              "    </tr>\n",
              "    <tr>\n",
              "      <th>21</th>\n",
              "      <td>MCX Futures Market Quotes</td>\n",
              "      <td>india</td>\n",
              "      <td>MCX Lead</td>\n",
              "      <td>Lead Futures</td>\n",
              "      <td>INR</td>\n",
              "      <td>metals</td>\n",
              "    </tr>\n",
              "    <tr>\n",
              "      <th>22</th>\n",
              "      <td>MCX Futures Market Quotes</td>\n",
              "      <td>india</td>\n",
              "      <td>MCX Lead Mini</td>\n",
              "      <td>Lead Mini Futures</td>\n",
              "      <td>INR</td>\n",
              "      <td>metals</td>\n",
              "    </tr>\n",
              "    <tr>\n",
              "      <th>23</th>\n",
              "      <td>MCX Futures Market Quotes</td>\n",
              "      <td>india</td>\n",
              "      <td>MCX Nickel</td>\n",
              "      <td>Nickel Futures</td>\n",
              "      <td>INR</td>\n",
              "      <td>metals</td>\n",
              "    </tr>\n",
              "    <tr>\n",
              "      <th>24</th>\n",
              "      <td>MCX Futures Market Quotes</td>\n",
              "      <td>india</td>\n",
              "      <td>MCX Nickel Mini</td>\n",
              "      <td>Nickel Mini Futures</td>\n",
              "      <td>INR</td>\n",
              "      <td>metals</td>\n",
              "    </tr>\n",
              "    <tr>\n",
              "      <th>25</th>\n",
              "      <td>MCX Futures Market Quotes</td>\n",
              "      <td>india</td>\n",
              "      <td>MCX Silver</td>\n",
              "      <td>Silver Futures</td>\n",
              "      <td>INR</td>\n",
              "      <td>metals</td>\n",
              "    </tr>\n",
              "    <tr>\n",
              "      <th>26</th>\n",
              "      <td>MCX Futures Market Quotes</td>\n",
              "      <td>india</td>\n",
              "      <td>MCX Silver Micro</td>\n",
              "      <td>Silver Micro Futures</td>\n",
              "      <td>INR</td>\n",
              "      <td>metals</td>\n",
              "    </tr>\n",
              "    <tr>\n",
              "      <th>27</th>\n",
              "      <td>MCX Futures Market Quotes</td>\n",
              "      <td>india</td>\n",
              "      <td>MCX Silver Mini</td>\n",
              "      <td>Silver Mini Futures</td>\n",
              "      <td>INR</td>\n",
              "      <td>metals</td>\n",
              "    </tr>\n",
              "    <tr>\n",
              "      <th>28</th>\n",
              "      <td>MCX Futures Market Quotes</td>\n",
              "      <td>india</td>\n",
              "      <td>MCX Zinc</td>\n",
              "      <td>Zinc Futures</td>\n",
              "      <td>INR</td>\n",
              "      <td>metals</td>\n",
              "    </tr>\n",
              "    <tr>\n",
              "      <th>29</th>\n",
              "      <td>MCX Futures Market Quotes</td>\n",
              "      <td>india</td>\n",
              "      <td>MCX Zinc Mini</td>\n",
              "      <td>Zinc Mini Futures</td>\n",
              "      <td>INR</td>\n",
              "      <td>metals</td>\n",
              "    </tr>\n",
              "  </tbody>\n",
              "</table>\n",
              "</div>\n",
              "      <button class=\"colab-df-convert\" onclick=\"convertToInteractive('df-4111b674-ac1a-4087-8284-7d456f04e23a')\"\n",
              "              title=\"Convert this dataframe to an interactive table.\"\n",
              "              style=\"display:none;\">\n",
              "        \n",
              "  <svg xmlns=\"http://www.w3.org/2000/svg\" height=\"24px\"viewBox=\"0 0 24 24\"\n",
              "       width=\"24px\">\n",
              "    <path d=\"M0 0h24v24H0V0z\" fill=\"none\"/>\n",
              "    <path d=\"M18.56 5.44l.94 2.06.94-2.06 2.06-.94-2.06-.94-.94-2.06-.94 2.06-2.06.94zm-11 1L8.5 8.5l.94-2.06 2.06-.94-2.06-.94L8.5 2.5l-.94 2.06-2.06.94zm10 10l.94 2.06.94-2.06 2.06-.94-2.06-.94-.94-2.06-.94 2.06-2.06.94z\"/><path d=\"M17.41 7.96l-1.37-1.37c-.4-.4-.92-.59-1.43-.59-.52 0-1.04.2-1.43.59L10.3 9.45l-7.72 7.72c-.78.78-.78 2.05 0 2.83L4 21.41c.39.39.9.59 1.41.59.51 0 1.02-.2 1.41-.59l7.78-7.78 2.81-2.81c.8-.78.8-2.07 0-2.86zM5.41 20L4 18.59l7.72-7.72 1.47 1.35L5.41 20z\"/>\n",
              "  </svg>\n",
              "      </button>\n",
              "      \n",
              "  <style>\n",
              "    .colab-df-container {\n",
              "      display:flex;\n",
              "      flex-wrap:wrap;\n",
              "      gap: 12px;\n",
              "    }\n",
              "\n",
              "    .colab-df-convert {\n",
              "      background-color: #E8F0FE;\n",
              "      border: none;\n",
              "      border-radius: 50%;\n",
              "      cursor: pointer;\n",
              "      display: none;\n",
              "      fill: #1967D2;\n",
              "      height: 32px;\n",
              "      padding: 0 0 0 0;\n",
              "      width: 32px;\n",
              "    }\n",
              "\n",
              "    .colab-df-convert:hover {\n",
              "      background-color: #E2EBFA;\n",
              "      box-shadow: 0px 1px 2px rgba(60, 64, 67, 0.3), 0px 1px 3px 1px rgba(60, 64, 67, 0.15);\n",
              "      fill: #174EA6;\n",
              "    }\n",
              "\n",
              "    [theme=dark] .colab-df-convert {\n",
              "      background-color: #3B4455;\n",
              "      fill: #D2E3FC;\n",
              "    }\n",
              "\n",
              "    [theme=dark] .colab-df-convert:hover {\n",
              "      background-color: #434B5C;\n",
              "      box-shadow: 0px 1px 3px 1px rgba(0, 0, 0, 0.15);\n",
              "      filter: drop-shadow(0px 1px 2px rgba(0, 0, 0, 0.3));\n",
              "      fill: #FFFFFF;\n",
              "    }\n",
              "  </style>\n",
              "\n",
              "      <script>\n",
              "        const buttonEl =\n",
              "          document.querySelector('#df-4111b674-ac1a-4087-8284-7d456f04e23a button.colab-df-convert');\n",
              "        buttonEl.style.display =\n",
              "          google.colab.kernel.accessAllowed ? 'block' : 'none';\n",
              "\n",
              "        async function convertToInteractive(key) {\n",
              "          const element = document.querySelector('#df-4111b674-ac1a-4087-8284-7d456f04e23a');\n",
              "          const dataTable =\n",
              "            await google.colab.kernel.invokeFunction('convertToInteractive',\n",
              "                                                     [key], {});\n",
              "          if (!dataTable) return;\n",
              "\n",
              "          const docLinkHtml = 'Like what you see? Visit the ' +\n",
              "            '<a target=\"_blank\" href=https://colab.research.google.com/notebooks/data_table.ipynb>data table notebook</a>'\n",
              "            + ' to learn more about interactive tables.';\n",
              "          element.innerHTML = '';\n",
              "          dataTable['output_type'] = 'display_data';\n",
              "          await google.colab.output.renderOutput(dataTable, element);\n",
              "          const docLink = document.createElement('div');\n",
              "          docLink.innerHTML = docLinkHtml;\n",
              "          element.appendChild(docLink);\n",
              "        }\n",
              "      </script>\n",
              "    </div>\n",
              "  </div>\n",
              "  "
            ],
            "text/plain": [
              "                                 title         country  ... currency   group\n",
              "0   Real Time Streaming Futures Quotes                  ...      USD  metals\n",
              "1   Real Time Streaming Futures Quotes   united states  ...      USD  metals\n",
              "2   Real Time Streaming Futures Quotes                  ...      USD  metals\n",
              "3   Real Time Streaming Futures Quotes   united states  ...      USD  metals\n",
              "4   Real Time Streaming Futures Quotes   united states  ...      USD  metals\n",
              "5   Real Time Streaming Futures Quotes  united kingdom  ...      USD  metals\n",
              "6   Real Time Streaming Futures Quotes  united kingdom  ...      USD  metals\n",
              "7   Real Time Streaming Futures Quotes  united kingdom  ...      USD  metals\n",
              "8   Real Time Streaming Futures Quotes  united kingdom  ...      USD  metals\n",
              "9   Real Time Streaming Futures Quotes  united kingdom  ...      USD  metals\n",
              "10  Real Time Streaming Futures Quotes  united kingdom  ...      USD  metals\n",
              "11         EUREX Futures Market Quotes       euro zone  ...      EUR  metals\n",
              "12           MCX Futures Market Quotes           india  ...      INR  metals\n",
              "13           MCX Futures Market Quotes           india  ...      INR  metals\n",
              "14           MCX Futures Market Quotes           india  ...      INR  metals\n",
              "15           MCX Futures Market Quotes           india  ...      INR  metals\n",
              "16           MCX Futures Market Quotes           india  ...      INR  metals\n",
              "17           MCX Futures Market Quotes           india  ...      INR  metals\n",
              "18           MCX Futures Market Quotes           india  ...      INR  metals\n",
              "19           MCX Futures Market Quotes           india  ...      INR  metals\n",
              "20           MCX Futures Market Quotes           india  ...      INR  metals\n",
              "21           MCX Futures Market Quotes           india  ...      INR  metals\n",
              "22           MCX Futures Market Quotes           india  ...      INR  metals\n",
              "23           MCX Futures Market Quotes           india  ...      INR  metals\n",
              "24           MCX Futures Market Quotes           india  ...      INR  metals\n",
              "25           MCX Futures Market Quotes           india  ...      INR  metals\n",
              "26           MCX Futures Market Quotes           india  ...      INR  metals\n",
              "27           MCX Futures Market Quotes           india  ...      INR  metals\n",
              "28           MCX Futures Market Quotes           india  ...      INR  metals\n",
              "29           MCX Futures Market Quotes           india  ...      INR  metals\n",
              "\n",
              "[30 rows x 6 columns]"
            ]
          },
          "metadata": {},
          "execution_count": 872
        }
      ]
    },
    {
      "cell_type": "code",
      "metadata": {
        "id": "fA3vUDs9wMRE",
        "colab": {
          "base_uri": "https://localhost:8080/"
        },
        "outputId": "dbd2c226-c28c-4bf5-9432-901762126dfa"
      },
      "source": [
        "Oro=inv.get_commodity_recent_data(\"gold\")\n",
        "Oro1=Oro[[\"Close\",\"Open\"]].tail()\n",
        "Oro10 = pd.DataFrame(Oro1)\n",
        "print(Oro10)"
      ],
      "execution_count": 873,
      "outputs": [
        {
          "output_type": "stream",
          "name": "stdout",
          "text": [
            "              Close     Open\n",
            "Date                        \n",
            "2022-01-16  1815.75  1816.40\n",
            "2022-01-17  1819.05  1815.85\n",
            "2022-01-18  1812.40  1818.70\n",
            "2022-01-19  1843.20  1812.90\n",
            "2022-01-20  1840.50  1839.05\n"
          ]
        }
      ]
    },
    {
      "cell_type": "code",
      "source": [
        "Apertura_oro = (Oro10.iat[4,1])# Este comando esta extraer un valor especifico de un dataframe\n",
        "print(Apertura_oro)"
      ],
      "metadata": {
        "id": "DlT5kcTVb8BS",
        "colab": {
          "base_uri": "https://localhost:8080/"
        },
        "outputId": "af1ece4f-679e-4849-b410-18023787a796"
      },
      "execution_count": 874,
      "outputs": [
        {
          "output_type": "stream",
          "name": "stdout",
          "text": [
            "1839.05\n"
          ]
        }
      ]
    },
    {
      "cell_type": "code",
      "source": [
        "Cierre_precio_anterior_oro= Oro10.iat[3,0]\n",
        "print(Cierre_precio_anterior_oro)"
      ],
      "metadata": {
        "id": "LEukkXDHdyE2",
        "colab": {
          "base_uri": "https://localhost:8080/"
        },
        "outputId": "0065e094-3b91-4bcf-f333-8299414ea341"
      },
      "execution_count": 875,
      "outputs": [
        {
          "output_type": "stream",
          "name": "stdout",
          "text": [
            "1843.2\n"
          ]
        }
      ]
    },
    {
      "cell_type": "code",
      "source": [
        "Cierre_precio_anterior5dias_oro = Oro10.iat[0,0]\n",
        "print(Cierre_precio_anterior5dias_oro )"
      ],
      "metadata": {
        "id": "02szCCjReoxC",
        "colab": {
          "base_uri": "https://localhost:8080/"
        },
        "outputId": "967b82cb-d1d3-40a0-d46c-337f9ef99407"
      },
      "execution_count": 876,
      "outputs": [
        {
          "output_type": "stream",
          "name": "stdout",
          "text": [
            "1815.75\n"
          ]
        }
      ]
    },
    {
      "cell_type": "markdown",
      "metadata": {
        "id": "iXzWdAMIIFuG"
      },
      "source": [
        "**Cobre**"
      ]
    },
    {
      "cell_type": "code",
      "metadata": {
        "id": "hZZWyqzzNQU3",
        "colab": {
          "base_uri": "https://localhost:8080/"
        },
        "outputId": "8bfbcb93-efcd-42d8-902f-a92266b00d13"
      },
      "source": [
        "Cobre=inv.get_commodity_recent_data(\"copper\",country=\"united states\")\n",
        "Cobre10=Cobre[[\"Close\",\"Open\"]].tail()\n",
        "print(Cobre10)"
      ],
      "execution_count": 877,
      "outputs": [
        {
          "output_type": "stream",
          "name": "stdout",
          "text": [
            "             Close    Open\n",
            "Date                      \n",
            "2022-01-16  4.4435  4.4280\n",
            "2022-01-17  4.4335  4.4443\n",
            "2022-01-18  4.3985  4.4330\n",
            "2022-01-19  4.4455  4.3987\n",
            "2022-01-20  4.5610  4.4455\n"
          ]
        }
      ]
    },
    {
      "cell_type": "code",
      "source": [
        "Apertura_cobre = (Cobre10.iat[4,1]) # Este comando esta extraer un valor especifico de un dataframe\n",
        "print(Apertura_cobre)"
      ],
      "metadata": {
        "id": "xxWPa3llAW5I",
        "colab": {
          "base_uri": "https://localhost:8080/"
        },
        "outputId": "c8a4af27-6620-4925-a882-cd0d8dedc49f"
      },
      "execution_count": 878,
      "outputs": [
        {
          "output_type": "stream",
          "name": "stdout",
          "text": [
            "4.4455\n"
          ]
        }
      ]
    },
    {
      "cell_type": "code",
      "source": [
        "Cierre_precio_anterior_cobre= Cobre10.iat[3,0]\n",
        "print(Cierre_precio_anterior_cobre)"
      ],
      "metadata": {
        "id": "EkPPLuz1Azs-",
        "colab": {
          "base_uri": "https://localhost:8080/"
        },
        "outputId": "7680ee7e-e06e-47f9-c2cb-ed2a33d4334e"
      },
      "execution_count": 879,
      "outputs": [
        {
          "output_type": "stream",
          "name": "stdout",
          "text": [
            "4.4455\n"
          ]
        }
      ]
    },
    {
      "cell_type": "code",
      "source": [
        "Cierre_precio_anterior5dias_Cobre = Cobre10.iat[0,0]\n",
        "print(Cierre_precio_anterior5dias_Cobre)"
      ],
      "metadata": {
        "id": "AuRdeqZxAz76",
        "colab": {
          "base_uri": "https://localhost:8080/"
        },
        "outputId": "a2637989-8c38-4b73-e4cf-e39d2ca0c554"
      },
      "execution_count": 880,
      "outputs": [
        {
          "output_type": "stream",
          "name": "stdout",
          "text": [
            "4.4435\n"
          ]
        }
      ]
    },
    {
      "cell_type": "markdown",
      "metadata": {
        "id": "SlR69UDdIJI1"
      },
      "source": [
        "**Maiz**"
      ]
    },
    {
      "cell_type": "code",
      "metadata": {
        "id": "CDAqj7TXymFS",
        "colab": {
          "base_uri": "https://localhost:8080/",
          "height": 0
        },
        "outputId": "e7e864c4-94c4-4d01-9b3d-ad6f7fb10925"
      },
      "source": [
        "inv.get_commodities(group=\"grains\")"
      ],
      "execution_count": 881,
      "outputs": [
        {
          "output_type": "execute_result",
          "data": {
            "text/html": [
              "\n",
              "  <div id=\"df-d7ec26d5-d04f-44ab-b2db-7433e8f199cf\">\n",
              "    <div class=\"colab-df-container\">\n",
              "      <div>\n",
              "<style scoped>\n",
              "    .dataframe tbody tr th:only-of-type {\n",
              "        vertical-align: middle;\n",
              "    }\n",
              "\n",
              "    .dataframe tbody tr th {\n",
              "        vertical-align: top;\n",
              "    }\n",
              "\n",
              "    .dataframe thead th {\n",
              "        text-align: right;\n",
              "    }\n",
              "</style>\n",
              "<table border=\"1\" class=\"dataframe\">\n",
              "  <thead>\n",
              "    <tr style=\"text-align: right;\">\n",
              "      <th></th>\n",
              "      <th>title</th>\n",
              "      <th>country</th>\n",
              "      <th>name</th>\n",
              "      <th>full_name</th>\n",
              "      <th>currency</th>\n",
              "      <th>group</th>\n",
              "    </tr>\n",
              "  </thead>\n",
              "  <tbody>\n",
              "    <tr>\n",
              "      <th>0</th>\n",
              "      <td>Real Time Streaming Futures Quotes</td>\n",
              "      <td>united kingdom</td>\n",
              "      <td>London Wheat</td>\n",
              "      <td>London Wheat Futures</td>\n",
              "      <td>GBP</td>\n",
              "      <td>grains</td>\n",
              "    </tr>\n",
              "    <tr>\n",
              "      <th>1</th>\n",
              "      <td>Real Time Streaming Futures Quotes</td>\n",
              "      <td>united states</td>\n",
              "      <td>Rough Rice</td>\n",
              "      <td>Rough Rice Futures</td>\n",
              "      <td>USD</td>\n",
              "      <td>grains</td>\n",
              "    </tr>\n",
              "    <tr>\n",
              "      <th>2</th>\n",
              "      <td>Real Time Streaming Futures Quotes</td>\n",
              "      <td>united states</td>\n",
              "      <td>US Soybean Oil</td>\n",
              "      <td>US Soybean Oil Futures</td>\n",
              "      <td>USD</td>\n",
              "      <td>grains</td>\n",
              "    </tr>\n",
              "    <tr>\n",
              "      <th>3</th>\n",
              "      <td>Real Time Streaming Futures Quotes</td>\n",
              "      <td>united states</td>\n",
              "      <td>US Soybean Meal</td>\n",
              "      <td>US Soybean Meal Futures</td>\n",
              "      <td>USD</td>\n",
              "      <td>grains</td>\n",
              "    </tr>\n",
              "    <tr>\n",
              "      <th>4</th>\n",
              "      <td>Real Time Streaming Futures Quotes</td>\n",
              "      <td>united states</td>\n",
              "      <td>US Soybeans</td>\n",
              "      <td>US Soybeans Futures</td>\n",
              "      <td>USD</td>\n",
              "      <td>grains</td>\n",
              "    </tr>\n",
              "    <tr>\n",
              "      <th>5</th>\n",
              "      <td>Real Time Streaming Futures Quotes</td>\n",
              "      <td>united states</td>\n",
              "      <td>US Wheat</td>\n",
              "      <td>US Wheat Futures</td>\n",
              "      <td>USD</td>\n",
              "      <td>grains</td>\n",
              "    </tr>\n",
              "    <tr>\n",
              "      <th>6</th>\n",
              "      <td>Real Time Streaming Futures Quotes</td>\n",
              "      <td>united states</td>\n",
              "      <td>US Corn</td>\n",
              "      <td>US Corn Futures</td>\n",
              "      <td>USD</td>\n",
              "      <td>grains</td>\n",
              "    </tr>\n",
              "    <tr>\n",
              "      <th>7</th>\n",
              "      <td>Real Time Streaming Futures Quotes</td>\n",
              "      <td>united states</td>\n",
              "      <td>Oats</td>\n",
              "      <td>Oats Futures</td>\n",
              "      <td>USD</td>\n",
              "      <td>grains</td>\n",
              "    </tr>\n",
              "  </tbody>\n",
              "</table>\n",
              "</div>\n",
              "      <button class=\"colab-df-convert\" onclick=\"convertToInteractive('df-d7ec26d5-d04f-44ab-b2db-7433e8f199cf')\"\n",
              "              title=\"Convert this dataframe to an interactive table.\"\n",
              "              style=\"display:none;\">\n",
              "        \n",
              "  <svg xmlns=\"http://www.w3.org/2000/svg\" height=\"24px\"viewBox=\"0 0 24 24\"\n",
              "       width=\"24px\">\n",
              "    <path d=\"M0 0h24v24H0V0z\" fill=\"none\"/>\n",
              "    <path d=\"M18.56 5.44l.94 2.06.94-2.06 2.06-.94-2.06-.94-.94-2.06-.94 2.06-2.06.94zm-11 1L8.5 8.5l.94-2.06 2.06-.94-2.06-.94L8.5 2.5l-.94 2.06-2.06.94zm10 10l.94 2.06.94-2.06 2.06-.94-2.06-.94-.94-2.06-.94 2.06-2.06.94z\"/><path d=\"M17.41 7.96l-1.37-1.37c-.4-.4-.92-.59-1.43-.59-.52 0-1.04.2-1.43.59L10.3 9.45l-7.72 7.72c-.78.78-.78 2.05 0 2.83L4 21.41c.39.39.9.59 1.41.59.51 0 1.02-.2 1.41-.59l7.78-7.78 2.81-2.81c.8-.78.8-2.07 0-2.86zM5.41 20L4 18.59l7.72-7.72 1.47 1.35L5.41 20z\"/>\n",
              "  </svg>\n",
              "      </button>\n",
              "      \n",
              "  <style>\n",
              "    .colab-df-container {\n",
              "      display:flex;\n",
              "      flex-wrap:wrap;\n",
              "      gap: 12px;\n",
              "    }\n",
              "\n",
              "    .colab-df-convert {\n",
              "      background-color: #E8F0FE;\n",
              "      border: none;\n",
              "      border-radius: 50%;\n",
              "      cursor: pointer;\n",
              "      display: none;\n",
              "      fill: #1967D2;\n",
              "      height: 32px;\n",
              "      padding: 0 0 0 0;\n",
              "      width: 32px;\n",
              "    }\n",
              "\n",
              "    .colab-df-convert:hover {\n",
              "      background-color: #E2EBFA;\n",
              "      box-shadow: 0px 1px 2px rgba(60, 64, 67, 0.3), 0px 1px 3px 1px rgba(60, 64, 67, 0.15);\n",
              "      fill: #174EA6;\n",
              "    }\n",
              "\n",
              "    [theme=dark] .colab-df-convert {\n",
              "      background-color: #3B4455;\n",
              "      fill: #D2E3FC;\n",
              "    }\n",
              "\n",
              "    [theme=dark] .colab-df-convert:hover {\n",
              "      background-color: #434B5C;\n",
              "      box-shadow: 0px 1px 3px 1px rgba(0, 0, 0, 0.15);\n",
              "      filter: drop-shadow(0px 1px 2px rgba(0, 0, 0, 0.3));\n",
              "      fill: #FFFFFF;\n",
              "    }\n",
              "  </style>\n",
              "\n",
              "      <script>\n",
              "        const buttonEl =\n",
              "          document.querySelector('#df-d7ec26d5-d04f-44ab-b2db-7433e8f199cf button.colab-df-convert');\n",
              "        buttonEl.style.display =\n",
              "          google.colab.kernel.accessAllowed ? 'block' : 'none';\n",
              "\n",
              "        async function convertToInteractive(key) {\n",
              "          const element = document.querySelector('#df-d7ec26d5-d04f-44ab-b2db-7433e8f199cf');\n",
              "          const dataTable =\n",
              "            await google.colab.kernel.invokeFunction('convertToInteractive',\n",
              "                                                     [key], {});\n",
              "          if (!dataTable) return;\n",
              "\n",
              "          const docLinkHtml = 'Like what you see? Visit the ' +\n",
              "            '<a target=\"_blank\" href=https://colab.research.google.com/notebooks/data_table.ipynb>data table notebook</a>'\n",
              "            + ' to learn more about interactive tables.';\n",
              "          element.innerHTML = '';\n",
              "          dataTable['output_type'] = 'display_data';\n",
              "          await google.colab.output.renderOutput(dataTable, element);\n",
              "          const docLink = document.createElement('div');\n",
              "          docLink.innerHTML = docLinkHtml;\n",
              "          element.appendChild(docLink);\n",
              "        }\n",
              "      </script>\n",
              "    </div>\n",
              "  </div>\n",
              "  "
            ],
            "text/plain": [
              "                                title         country  ... currency   group\n",
              "0  Real Time Streaming Futures Quotes  united kingdom  ...      GBP  grains\n",
              "1  Real Time Streaming Futures Quotes   united states  ...      USD  grains\n",
              "2  Real Time Streaming Futures Quotes   united states  ...      USD  grains\n",
              "3  Real Time Streaming Futures Quotes   united states  ...      USD  grains\n",
              "4  Real Time Streaming Futures Quotes   united states  ...      USD  grains\n",
              "5  Real Time Streaming Futures Quotes   united states  ...      USD  grains\n",
              "6  Real Time Streaming Futures Quotes   united states  ...      USD  grains\n",
              "7  Real Time Streaming Futures Quotes   united states  ...      USD  grains\n",
              "\n",
              "[8 rows x 6 columns]"
            ]
          },
          "metadata": {},
          "execution_count": 881
        }
      ]
    },
    {
      "cell_type": "code",
      "metadata": {
        "id": "GkxUAABdNQz5",
        "colab": {
          "base_uri": "https://localhost:8080/"
        },
        "outputId": "00d10f15-ba7d-467c-f529-e073cc1f3873"
      },
      "source": [
        "Maiz=inv.get_commodity_recent_data(\"US Corn\",country=\"united states\")\n",
        "Maiz10=Maiz[[\"Close\",\"Open\"]].tail()\n",
        "print(Maiz10)"
      ],
      "execution_count": 882,
      "outputs": [
        {
          "output_type": "stream",
          "name": "stdout",
          "text": [
            "             Close    Open\n",
            "Date                      \n",
            "2022-01-13  587.50  599.00\n",
            "2022-01-14  596.25  587.50\n",
            "2022-01-18  599.50  592.75\n",
            "2022-01-19  610.50  600.00\n",
            "2022-01-20  610.10  608.62\n"
          ]
        }
      ]
    },
    {
      "cell_type": "code",
      "source": [
        "Apertura_Maiz = (Maiz10.iat[4,1]) # Este comando esta extraer un valor especifico de un dataframe\n",
        "print(Apertura_Maiz)"
      ],
      "metadata": {
        "id": "PXqWNYvFBm5a",
        "colab": {
          "base_uri": "https://localhost:8080/"
        },
        "outputId": "bae1386e-78b4-4679-ae53-f7f3ad24829c"
      },
      "execution_count": 883,
      "outputs": [
        {
          "output_type": "stream",
          "name": "stdout",
          "text": [
            "608.62\n"
          ]
        }
      ]
    },
    {
      "cell_type": "code",
      "source": [
        "Cierre_precio_anterior_Maiz= Maiz10.iat[3,0]\n",
        "print(Cierre_precio_anterior_Maiz)"
      ],
      "metadata": {
        "id": "i8DJj2scBnEl",
        "colab": {
          "base_uri": "https://localhost:8080/"
        },
        "outputId": "4c0fdfbe-7ae3-4c3d-8ef2-70d780af6add"
      },
      "execution_count": 884,
      "outputs": [
        {
          "output_type": "stream",
          "name": "stdout",
          "text": [
            "610.5\n"
          ]
        }
      ]
    },
    {
      "cell_type": "code",
      "source": [
        "Cierre_precio_anterior5dias_Maiz = Maiz10.iat[0,0]\n",
        "print(Cierre_precio_anterior5dias_Maiz)"
      ],
      "metadata": {
        "id": "IEOvoTmHBnO_",
        "colab": {
          "base_uri": "https://localhost:8080/"
        },
        "outputId": "5c9db2ce-6a6c-441e-f989-fb554d816a6b"
      },
      "execution_count": 885,
      "outputs": [
        {
          "output_type": "stream",
          "name": "stdout",
          "text": [
            "587.5\n"
          ]
        }
      ]
    },
    {
      "cell_type": "markdown",
      "metadata": {
        "id": "cjUuWNSyIT4p"
      },
      "source": [
        "**Soja**"
      ]
    },
    {
      "cell_type": "code",
      "metadata": {
        "id": "1nrm3ALdNRen",
        "colab": {
          "base_uri": "https://localhost:8080/"
        },
        "outputId": "fa8d2ff5-2af6-4ca0-c955-3e583abe7578"
      },
      "source": [
        "soja=inv.get_commodity_recent_data(\"US Soybeans\",country=\"united states\")\n",
        "soja10=soja[[\"Close\",\"Open\"]].tail()\n",
        "print(soja10)"
      ],
      "execution_count": 886,
      "outputs": [
        {
          "output_type": "stream",
          "name": "stdout",
          "text": [
            "              Close     Open\n",
            "Date                        \n",
            "2022-01-13  1365.25  1368.00\n",
            "2022-01-14  1356.75  1376.50\n",
            "2022-01-18  1361.25  1360.00\n",
            "2022-01-19  1391.25  1363.50\n",
            "2022-01-20  1424.25  1388.25\n"
          ]
        }
      ]
    },
    {
      "cell_type": "code",
      "source": [
        "Apertura_soja = (soja10.iat[4,1]) # Este comando esta extraer un valor especifico de un dataframe\n",
        "print(Apertura_soja)"
      ],
      "metadata": {
        "id": "a_OCj3VdCAvB",
        "colab": {
          "base_uri": "https://localhost:8080/"
        },
        "outputId": "823aed19-7ae2-4b9e-be33-aefef4657361"
      },
      "execution_count": 887,
      "outputs": [
        {
          "output_type": "stream",
          "name": "stdout",
          "text": [
            "1388.25\n"
          ]
        }
      ]
    },
    {
      "cell_type": "code",
      "source": [
        "Cierre_precio_anterior_soja= soja10.iat[3,0]\n",
        "print(Cierre_precio_anterior_soja)"
      ],
      "metadata": {
        "id": "jRP0fi59CA6P",
        "colab": {
          "base_uri": "https://localhost:8080/"
        },
        "outputId": "44893475-d23e-4f01-8665-da6262e76bd2"
      },
      "execution_count": 888,
      "outputs": [
        {
          "output_type": "stream",
          "name": "stdout",
          "text": [
            "1391.25\n"
          ]
        }
      ]
    },
    {
      "cell_type": "code",
      "source": [
        "Cierre_precio_anterior5dias_soja = soja10.iat[0,0]\n",
        "print(Cierre_precio_anterior5dias_soja)"
      ],
      "metadata": {
        "id": "8dqBhg0pCBD2",
        "colab": {
          "base_uri": "https://localhost:8080/"
        },
        "outputId": "d1b3502e-106a-4e98-bc07-431587f73dbe"
      },
      "execution_count": 889,
      "outputs": [
        {
          "output_type": "stream",
          "name": "stdout",
          "text": [
            "1365.25\n"
          ]
        }
      ]
    },
    {
      "cell_type": "markdown",
      "metadata": {
        "id": "r0j_iHpsIWpf"
      },
      "source": [
        "**Cafe**"
      ]
    },
    {
      "cell_type": "code",
      "metadata": {
        "id": "2r0SVlcl5PRx",
        "colab": {
          "base_uri": "https://localhost:8080/",
          "height": 0
        },
        "outputId": "121b26f3-df00-422f-cdc6-7bfc2fb42d95"
      },
      "source": [
        "inv.get_commodities(group=\"softs\")"
      ],
      "execution_count": 890,
      "outputs": [
        {
          "output_type": "execute_result",
          "data": {
            "text/html": [
              "\n",
              "  <div id=\"df-1c15fad9-1edb-40cd-8f3e-373d04a5861e\">\n",
              "    <div class=\"colab-df-container\">\n",
              "      <div>\n",
              "<style scoped>\n",
              "    .dataframe tbody tr th:only-of-type {\n",
              "        vertical-align: middle;\n",
              "    }\n",
              "\n",
              "    .dataframe tbody tr th {\n",
              "        vertical-align: top;\n",
              "    }\n",
              "\n",
              "    .dataframe thead th {\n",
              "        text-align: right;\n",
              "    }\n",
              "</style>\n",
              "<table border=\"1\" class=\"dataframe\">\n",
              "  <thead>\n",
              "    <tr style=\"text-align: right;\">\n",
              "      <th></th>\n",
              "      <th>title</th>\n",
              "      <th>country</th>\n",
              "      <th>name</th>\n",
              "      <th>full_name</th>\n",
              "      <th>currency</th>\n",
              "      <th>group</th>\n",
              "    </tr>\n",
              "  </thead>\n",
              "  <tbody>\n",
              "    <tr>\n",
              "      <th>0</th>\n",
              "      <td>Real Time Streaming Futures Quotes</td>\n",
              "      <td>united states</td>\n",
              "      <td>US Coffee C</td>\n",
              "      <td>US Coffee C Futures</td>\n",
              "      <td>USD</td>\n",
              "      <td>softs</td>\n",
              "    </tr>\n",
              "    <tr>\n",
              "      <th>1</th>\n",
              "      <td>Real Time Streaming Futures Quotes</td>\n",
              "      <td>united states</td>\n",
              "      <td>US Cotton #2</td>\n",
              "      <td>US Cotton #2 Futures</td>\n",
              "      <td>USD</td>\n",
              "      <td>softs</td>\n",
              "    </tr>\n",
              "    <tr>\n",
              "      <th>2</th>\n",
              "      <td>Real Time Streaming Futures Quotes</td>\n",
              "      <td>united states</td>\n",
              "      <td>US Sugar #11</td>\n",
              "      <td>US Sugar #11 Futures</td>\n",
              "      <td>USD</td>\n",
              "      <td>softs</td>\n",
              "    </tr>\n",
              "    <tr>\n",
              "      <th>3</th>\n",
              "      <td>Real Time Streaming Futures Quotes</td>\n",
              "      <td>united states</td>\n",
              "      <td>Orange Juice</td>\n",
              "      <td>Orange Juice Futures</td>\n",
              "      <td>USD</td>\n",
              "      <td>softs</td>\n",
              "    </tr>\n",
              "    <tr>\n",
              "      <th>4</th>\n",
              "      <td>Real Time Streaming Futures Quotes</td>\n",
              "      <td>united states</td>\n",
              "      <td>US Cocoa</td>\n",
              "      <td>US Cocoa Futures</td>\n",
              "      <td>USD</td>\n",
              "      <td>softs</td>\n",
              "    </tr>\n",
              "    <tr>\n",
              "      <th>5</th>\n",
              "      <td>Real Time Streaming Futures Quotes</td>\n",
              "      <td>united kingdom</td>\n",
              "      <td>London Coffee</td>\n",
              "      <td>London Robusta Coffee Futures</td>\n",
              "      <td>USD</td>\n",
              "      <td>softs</td>\n",
              "    </tr>\n",
              "    <tr>\n",
              "      <th>6</th>\n",
              "      <td>Real Time Streaming Futures Quotes</td>\n",
              "      <td>united kingdom</td>\n",
              "      <td>London Cocoa</td>\n",
              "      <td>London Cocoa Futures</td>\n",
              "      <td>GBP</td>\n",
              "      <td>softs</td>\n",
              "    </tr>\n",
              "    <tr>\n",
              "      <th>7</th>\n",
              "      <td>Real Time Streaming Futures Quotes</td>\n",
              "      <td>united kingdom</td>\n",
              "      <td>London Sugar</td>\n",
              "      <td>London Sugar Futures</td>\n",
              "      <td>USD</td>\n",
              "      <td>softs</td>\n",
              "    </tr>\n",
              "    <tr>\n",
              "      <th>8</th>\n",
              "      <td>Real Time Streaming Futures Quotes</td>\n",
              "      <td>united states</td>\n",
              "      <td>Lumber</td>\n",
              "      <td>Lumber Futures</td>\n",
              "      <td>USD</td>\n",
              "      <td>softs</td>\n",
              "    </tr>\n",
              "    <tr>\n",
              "      <th>9</th>\n",
              "      <td>MCX Futures Market Quotes</td>\n",
              "      <td>india</td>\n",
              "      <td>MCX Cardamom</td>\n",
              "      <td>Cardamom Futures</td>\n",
              "      <td>INR</td>\n",
              "      <td>softs</td>\n",
              "    </tr>\n",
              "    <tr>\n",
              "      <th>10</th>\n",
              "      <td>MCX Futures Market Quotes</td>\n",
              "      <td>india</td>\n",
              "      <td>MCX Cotton</td>\n",
              "      <td>Cotton 29mm Futures</td>\n",
              "      <td>INR</td>\n",
              "      <td>softs</td>\n",
              "    </tr>\n",
              "    <tr>\n",
              "      <th>11</th>\n",
              "      <td>MCX Futures Market Quotes</td>\n",
              "      <td>india</td>\n",
              "      <td>MCX Crude Palm Oil</td>\n",
              "      <td>Crude Palm Oil Futures</td>\n",
              "      <td>INR</td>\n",
              "      <td>softs</td>\n",
              "    </tr>\n",
              "    <tr>\n",
              "      <th>12</th>\n",
              "      <td>MCX Futures Market Quotes</td>\n",
              "      <td>india</td>\n",
              "      <td>MCX Kapas</td>\n",
              "      <td>Kapas Futures</td>\n",
              "      <td>INR</td>\n",
              "      <td>softs</td>\n",
              "    </tr>\n",
              "    <tr>\n",
              "      <th>13</th>\n",
              "      <td>MCX Futures Market Quotes</td>\n",
              "      <td>india</td>\n",
              "      <td>MCX Mentha Oil</td>\n",
              "      <td>Mentha Oil Futures</td>\n",
              "      <td>INR</td>\n",
              "      <td>softs</td>\n",
              "    </tr>\n",
              "    <tr>\n",
              "      <th>14</th>\n",
              "      <td>MCX Futures Market Quotes</td>\n",
              "      <td>india</td>\n",
              "      <td>MCX Castor Seed</td>\n",
              "      <td>Castor Seed Futures</td>\n",
              "      <td>INR</td>\n",
              "      <td>softs</td>\n",
              "    </tr>\n",
              "  </tbody>\n",
              "</table>\n",
              "</div>\n",
              "      <button class=\"colab-df-convert\" onclick=\"convertToInteractive('df-1c15fad9-1edb-40cd-8f3e-373d04a5861e')\"\n",
              "              title=\"Convert this dataframe to an interactive table.\"\n",
              "              style=\"display:none;\">\n",
              "        \n",
              "  <svg xmlns=\"http://www.w3.org/2000/svg\" height=\"24px\"viewBox=\"0 0 24 24\"\n",
              "       width=\"24px\">\n",
              "    <path d=\"M0 0h24v24H0V0z\" fill=\"none\"/>\n",
              "    <path d=\"M18.56 5.44l.94 2.06.94-2.06 2.06-.94-2.06-.94-.94-2.06-.94 2.06-2.06.94zm-11 1L8.5 8.5l.94-2.06 2.06-.94-2.06-.94L8.5 2.5l-.94 2.06-2.06.94zm10 10l.94 2.06.94-2.06 2.06-.94-2.06-.94-.94-2.06-.94 2.06-2.06.94z\"/><path d=\"M17.41 7.96l-1.37-1.37c-.4-.4-.92-.59-1.43-.59-.52 0-1.04.2-1.43.59L10.3 9.45l-7.72 7.72c-.78.78-.78 2.05 0 2.83L4 21.41c.39.39.9.59 1.41.59.51 0 1.02-.2 1.41-.59l7.78-7.78 2.81-2.81c.8-.78.8-2.07 0-2.86zM5.41 20L4 18.59l7.72-7.72 1.47 1.35L5.41 20z\"/>\n",
              "  </svg>\n",
              "      </button>\n",
              "      \n",
              "  <style>\n",
              "    .colab-df-container {\n",
              "      display:flex;\n",
              "      flex-wrap:wrap;\n",
              "      gap: 12px;\n",
              "    }\n",
              "\n",
              "    .colab-df-convert {\n",
              "      background-color: #E8F0FE;\n",
              "      border: none;\n",
              "      border-radius: 50%;\n",
              "      cursor: pointer;\n",
              "      display: none;\n",
              "      fill: #1967D2;\n",
              "      height: 32px;\n",
              "      padding: 0 0 0 0;\n",
              "      width: 32px;\n",
              "    }\n",
              "\n",
              "    .colab-df-convert:hover {\n",
              "      background-color: #E2EBFA;\n",
              "      box-shadow: 0px 1px 2px rgba(60, 64, 67, 0.3), 0px 1px 3px 1px rgba(60, 64, 67, 0.15);\n",
              "      fill: #174EA6;\n",
              "    }\n",
              "\n",
              "    [theme=dark] .colab-df-convert {\n",
              "      background-color: #3B4455;\n",
              "      fill: #D2E3FC;\n",
              "    }\n",
              "\n",
              "    [theme=dark] .colab-df-convert:hover {\n",
              "      background-color: #434B5C;\n",
              "      box-shadow: 0px 1px 3px 1px rgba(0, 0, 0, 0.15);\n",
              "      filter: drop-shadow(0px 1px 2px rgba(0, 0, 0, 0.3));\n",
              "      fill: #FFFFFF;\n",
              "    }\n",
              "  </style>\n",
              "\n",
              "      <script>\n",
              "        const buttonEl =\n",
              "          document.querySelector('#df-1c15fad9-1edb-40cd-8f3e-373d04a5861e button.colab-df-convert');\n",
              "        buttonEl.style.display =\n",
              "          google.colab.kernel.accessAllowed ? 'block' : 'none';\n",
              "\n",
              "        async function convertToInteractive(key) {\n",
              "          const element = document.querySelector('#df-1c15fad9-1edb-40cd-8f3e-373d04a5861e');\n",
              "          const dataTable =\n",
              "            await google.colab.kernel.invokeFunction('convertToInteractive',\n",
              "                                                     [key], {});\n",
              "          if (!dataTable) return;\n",
              "\n",
              "          const docLinkHtml = 'Like what you see? Visit the ' +\n",
              "            '<a target=\"_blank\" href=https://colab.research.google.com/notebooks/data_table.ipynb>data table notebook</a>'\n",
              "            + ' to learn more about interactive tables.';\n",
              "          element.innerHTML = '';\n",
              "          dataTable['output_type'] = 'display_data';\n",
              "          await google.colab.output.renderOutput(dataTable, element);\n",
              "          const docLink = document.createElement('div');\n",
              "          docLink.innerHTML = docLinkHtml;\n",
              "          element.appendChild(docLink);\n",
              "        }\n",
              "      </script>\n",
              "    </div>\n",
              "  </div>\n",
              "  "
            ],
            "text/plain": [
              "                                 title         country  ... currency  group\n",
              "0   Real Time Streaming Futures Quotes   united states  ...      USD  softs\n",
              "1   Real Time Streaming Futures Quotes   united states  ...      USD  softs\n",
              "2   Real Time Streaming Futures Quotes   united states  ...      USD  softs\n",
              "3   Real Time Streaming Futures Quotes   united states  ...      USD  softs\n",
              "4   Real Time Streaming Futures Quotes   united states  ...      USD  softs\n",
              "5   Real Time Streaming Futures Quotes  united kingdom  ...      USD  softs\n",
              "6   Real Time Streaming Futures Quotes  united kingdom  ...      GBP  softs\n",
              "7   Real Time Streaming Futures Quotes  united kingdom  ...      USD  softs\n",
              "8   Real Time Streaming Futures Quotes   united states  ...      USD  softs\n",
              "9            MCX Futures Market Quotes           india  ...      INR  softs\n",
              "10           MCX Futures Market Quotes           india  ...      INR  softs\n",
              "11           MCX Futures Market Quotes           india  ...      INR  softs\n",
              "12           MCX Futures Market Quotes           india  ...      INR  softs\n",
              "13           MCX Futures Market Quotes           india  ...      INR  softs\n",
              "14           MCX Futures Market Quotes           india  ...      INR  softs\n",
              "\n",
              "[15 rows x 6 columns]"
            ]
          },
          "metadata": {},
          "execution_count": 890
        }
      ]
    },
    {
      "cell_type": "code",
      "metadata": {
        "id": "r2ADPRAgNSB3",
        "colab": {
          "base_uri": "https://localhost:8080/"
        },
        "outputId": "c90357a0-7615-4943-e430-af296680aa50"
      },
      "source": [
        "Cafe=inv.get_commodity_recent_data(\"US Coffee C\",country=\"united states\")\n",
        "Cafe10=Cafe[[\"Close\",\"Open\"]].tail()\n",
        "print(Cafe10)"
      ],
      "execution_count": 891,
      "outputs": [
        {
          "output_type": "stream",
          "name": "stdout",
          "text": [
            "             Close    Open\n",
            "Date                      \n",
            "2022-01-13  237.00  241.30\n",
            "2022-01-14  239.65  236.65\n",
            "2022-01-18  239.60  239.00\n",
            "2022-01-19  244.45  238.40\n",
            "2022-01-20  242.75  244.47\n"
          ]
        }
      ]
    },
    {
      "cell_type": "code",
      "source": [
        "Apertura_Cafe = (Cafe10.iat[4,1]) # Este comando esta extraer un valor especifico de un dataframe\n",
        "print(Apertura_Cafe)"
      ],
      "metadata": {
        "id": "P-EH398JCW15",
        "colab": {
          "base_uri": "https://localhost:8080/"
        },
        "outputId": "751f1f8f-86a6-4dc0-ee7a-2f4fe219a973"
      },
      "execution_count": 892,
      "outputs": [
        {
          "output_type": "stream",
          "name": "stdout",
          "text": [
            "244.47\n"
          ]
        }
      ]
    },
    {
      "cell_type": "code",
      "source": [
        "Cierre_precio_anterior_Cafe= Cafe10.iat[3,0]\n",
        "print(Cierre_precio_anterior_Cafe)"
      ],
      "metadata": {
        "id": "ZOZeX8CkCXBA",
        "colab": {
          "base_uri": "https://localhost:8080/"
        },
        "outputId": "c1691e93-db4e-47a3-c2e8-d551f0834c34"
      },
      "execution_count": 893,
      "outputs": [
        {
          "output_type": "stream",
          "name": "stdout",
          "text": [
            "244.45\n"
          ]
        }
      ]
    },
    {
      "cell_type": "code",
      "source": [
        "Cierre_precio_anterior5dias_Cafe = Cafe10.iat[0,0]\n",
        "print(Cierre_precio_anterior5dias_Cafe)"
      ],
      "metadata": {
        "id": "7_S1EydDCXJn",
        "colab": {
          "base_uri": "https://localhost:8080/"
        },
        "outputId": "97fc9cc2-6a7c-4a07-ea7c-e79c171cbca6"
      },
      "execution_count": 894,
      "outputs": [
        {
          "output_type": "stream",
          "name": "stdout",
          "text": [
            "237.0\n"
          ]
        }
      ]
    },
    {
      "cell_type": "markdown",
      "metadata": {
        "id": "2NU8qF3HIc6n"
      },
      "source": [
        "**Azucar**"
      ]
    },
    {
      "cell_type": "code",
      "metadata": {
        "id": "H8TPGZC_NSru",
        "colab": {
          "base_uri": "https://localhost:8080/"
        },
        "outputId": "a1faa121-26ba-4ba5-a225-b385a94d2db0"
      },
      "source": [
        "Azucar=inv.get_commodity_recent_data(\"US Sugar #11\t\",country=\"united states\")\n",
        "Azucar10=Azucar[[\"Close\",\"Open\"]].tail()\n",
        "print(Azucar10)"
      ],
      "execution_count": 895,
      "outputs": [
        {
          "output_type": "stream",
          "name": "stdout",
          "text": [
            "            Close   Open\n",
            "Date                    \n",
            "2022-01-13  18.09  18.34\n",
            "2022-01-14  18.31  18.10\n",
            "2022-01-18  18.66  18.50\n",
            "2022-01-19  19.07  18.75\n",
            "2022-01-20  18.93  19.09\n"
          ]
        }
      ]
    },
    {
      "cell_type": "code",
      "source": [
        "Apertura_Azucar = (Azucar10.iat[4,1]) # Este comando esta extraer un valor especifico de un dataframe\n",
        "print(Apertura_Azucar)"
      ],
      "metadata": {
        "id": "Z5409tDWCqQn",
        "colab": {
          "base_uri": "https://localhost:8080/"
        },
        "outputId": "24d7c61f-8a00-4adb-dcf9-ccf92a3db594"
      },
      "execution_count": 896,
      "outputs": [
        {
          "output_type": "stream",
          "name": "stdout",
          "text": [
            "19.09\n"
          ]
        }
      ]
    },
    {
      "cell_type": "code",
      "source": [
        "Cierre_precio_anterior_Azucar= Azucar10.iat[3,0]\n",
        "print(Cierre_precio_anterior_Cafe)"
      ],
      "metadata": {
        "id": "gwM43wekCqaY",
        "colab": {
          "base_uri": "https://localhost:8080/"
        },
        "outputId": "45c2c330-22c2-49e8-a816-4972efd0b62b"
      },
      "execution_count": 897,
      "outputs": [
        {
          "output_type": "stream",
          "name": "stdout",
          "text": [
            "244.45\n"
          ]
        }
      ]
    },
    {
      "cell_type": "code",
      "source": [
        "Cierre_precio_anterior5dias_Azucar = Azucar10.iat[0,0]\n",
        "print(Cierre_precio_anterior5dias_Azucar)"
      ],
      "metadata": {
        "id": "xIwb2U2gCqiB",
        "colab": {
          "base_uri": "https://localhost:8080/"
        },
        "outputId": "b933f721-b23c-4d42-fcc6-57d9ab6de694"
      },
      "execution_count": 898,
      "outputs": [
        {
          "output_type": "stream",
          "name": "stdout",
          "text": [
            "18.09\n"
          ]
        }
      ]
    },
    {
      "cell_type": "markdown",
      "metadata": {
        "id": "9-ZodFiyIt7E"
      },
      "source": [
        "**Bonos a 10Años**"
      ]
    },
    {
      "cell_type": "code",
      "metadata": {
        "id": "k4SBEmTyJqft",
        "colab": {
          "base_uri": "https://localhost:8080/"
        },
        "outputId": "d42cb863-4b7a-40af-d771-92c26d1a4b07"
      },
      "source": [
        "inv.get_bond_countries()"
      ],
      "execution_count": 899,
      "outputs": [
        {
          "output_type": "execute_result",
          "data": {
            "text/plain": [
              "['argentina',\n",
              " 'australia',\n",
              " 'austria',\n",
              " 'bahrain',\n",
              " 'bangladesh',\n",
              " 'belgium',\n",
              " 'botswana',\n",
              " 'brazil',\n",
              " 'bulgaria',\n",
              " 'canada',\n",
              " 'chile',\n",
              " 'china',\n",
              " 'colombia',\n",
              " 'croatia',\n",
              " 'cyprus',\n",
              " 'czech republic',\n",
              " 'denmark',\n",
              " 'egypt',\n",
              " 'finland',\n",
              " 'france',\n",
              " 'germany',\n",
              " 'greece',\n",
              " 'hong kong',\n",
              " 'hungary',\n",
              " 'iceland',\n",
              " 'india',\n",
              " 'indonesia',\n",
              " 'ireland',\n",
              " 'israel',\n",
              " 'italy',\n",
              " 'japan',\n",
              " 'jordan',\n",
              " 'kenya',\n",
              " 'latvia',\n",
              " 'lithuania',\n",
              " 'luxembourg',\n",
              " 'malaysia',\n",
              " 'malta',\n",
              " 'mauritius',\n",
              " 'mexico',\n",
              " 'morocco',\n",
              " 'namibia',\n",
              " 'netherlands',\n",
              " 'new zealand',\n",
              " 'nigeria',\n",
              " 'norway',\n",
              " 'pakistan',\n",
              " 'peru',\n",
              " 'philippines',\n",
              " 'poland',\n",
              " 'portugal',\n",
              " 'qatar',\n",
              " 'romania',\n",
              " 'russia',\n",
              " 'saudi arabia',\n",
              " 'serbia',\n",
              " 'singapore',\n",
              " 'slovakia',\n",
              " 'slovenia',\n",
              " 'south africa',\n",
              " 'south korea',\n",
              " 'spain',\n",
              " 'sri lanka',\n",
              " 'sweden',\n",
              " 'switzerland',\n",
              " 'taiwan',\n",
              " 'thailand',\n",
              " 'turkey',\n",
              " 'uganda',\n",
              " 'ukraine',\n",
              " 'united kingdom',\n",
              " 'united states',\n",
              " 'venezuela',\n",
              " 'vietnam']"
            ]
          },
          "metadata": {},
          "execution_count": 899
        }
      ]
    },
    {
      "cell_type": "markdown",
      "metadata": {
        "id": "S6zrc3EZIxYH"
      },
      "source": [
        "**Desarrollados**"
      ]
    },
    {
      "cell_type": "markdown",
      "metadata": {
        "id": "hr28tn32I6my"
      },
      "source": [
        "**EEUU**"
      ]
    },
    {
      "cell_type": "code",
      "metadata": {
        "id": "0pJNQ8NkLyr_",
        "colab": {
          "base_uri": "https://localhost:8080/"
        },
        "outputId": "6a462059-7140-4683-d60d-859433e0fe2d"
      },
      "source": [
        "inv.get_bonds_list(\"united states\")"
      ],
      "execution_count": 900,
      "outputs": [
        {
          "output_type": "execute_result",
          "data": {
            "text/plain": [
              "['U.S. 30Y',\n",
              " 'U.S. 10Y',\n",
              " 'U.S. 7Y',\n",
              " 'U.S. 5Y',\n",
              " 'U.S. 3Y',\n",
              " 'U.S. 3M',\n",
              " 'U.S. 1Y',\n",
              " 'U.S. 6M',\n",
              " 'U.S. 1M',\n",
              " 'U.S. 2Y']"
            ]
          },
          "metadata": {},
          "execution_count": 900
        }
      ]
    },
    {
      "cell_type": "code",
      "metadata": {
        "id": "MHMC6kaeI_t-",
        "colab": {
          "base_uri": "https://localhost:8080/"
        },
        "outputId": "4cc61136-b731-459e-d209-7b1a5262b566"
      },
      "source": [
        "Estados_unidos=inv.get_bond_recent_data(bond=\"U.S. 10Y\")\n",
        "Estados_unidos10=Estados_unidos[[\"Close\",\"Open\"]].tail()\n",
        "print(Estados_unidos10)"
      ],
      "execution_count": 901,
      "outputs": [
        {
          "output_type": "stream",
          "name": "stdout",
          "text": [
            "            Close   Open\n",
            "Date                    \n",
            "2022-01-14  1.793  1.720\n",
            "2022-01-17  1.809  1.813\n",
            "2022-01-18  1.875  1.807\n",
            "2022-01-19  1.854  1.873\n",
            "2022-01-20  1.838  1.865\n"
          ]
        }
      ]
    },
    {
      "cell_type": "code",
      "source": [
        "Apertura_Estados_unidos = (Estados_unidos10.iat[4,1]) # Este comando esta extraer un valor especifico de un dataframe\n",
        "print(Apertura_Estados_unidos)"
      ],
      "metadata": {
        "id": "kzmvuiVPC9x4",
        "colab": {
          "base_uri": "https://localhost:8080/"
        },
        "outputId": "d49360c2-ef46-4da0-c1a5-bc0ba411474b"
      },
      "execution_count": 902,
      "outputs": [
        {
          "output_type": "stream",
          "name": "stdout",
          "text": [
            "1.865\n"
          ]
        }
      ]
    },
    {
      "cell_type": "code",
      "source": [
        "Cierre_precio_anterior_Estados_unidos= Estados_unidos10.iat[3,0]\n",
        "print(Cierre_precio_anterior_Estados_unidos)"
      ],
      "metadata": {
        "id": "cqnrkpxWC98C",
        "colab": {
          "base_uri": "https://localhost:8080/"
        },
        "outputId": "a56033b6-b46f-4355-b8fd-2dd66302ed16"
      },
      "execution_count": 903,
      "outputs": [
        {
          "output_type": "stream",
          "name": "stdout",
          "text": [
            "1.854\n"
          ]
        }
      ]
    },
    {
      "cell_type": "code",
      "source": [
        "Cierre_precio_anterior5dias_Estados_unidos = Estados_unidos10.iat[0,0]\n",
        "print(Cierre_precio_anterior5dias_Estados_unidos)"
      ],
      "metadata": {
        "id": "F4D9_yrlC-F3",
        "colab": {
          "base_uri": "https://localhost:8080/"
        },
        "outputId": "b80733c0-67fa-41ea-da2c-73ad932553ec"
      },
      "execution_count": 904,
      "outputs": [
        {
          "output_type": "stream",
          "name": "stdout",
          "text": [
            "1.793\n"
          ]
        }
      ]
    },
    {
      "cell_type": "markdown",
      "metadata": {
        "id": "Xx6E7ZZEMCw8"
      },
      "source": [
        "**Alemania**"
      ]
    },
    {
      "cell_type": "code",
      "metadata": {
        "id": "HFHUq0OoMHJn",
        "colab": {
          "base_uri": "https://localhost:8080/"
        },
        "outputId": "4f8da92a-4dc9-4a9b-ffdd-805914690a15"
      },
      "source": [
        "inv.get_bonds_list(\"germany\")"
      ],
      "execution_count": 905,
      "outputs": [
        {
          "output_type": "execute_result",
          "data": {
            "text/plain": [
              "['Germany 10Y',\n",
              " 'Germany 9Y',\n",
              " 'Germany 15Y',\n",
              " 'Germany 8Y',\n",
              " 'Germany 25Y',\n",
              " 'Germany 30Y',\n",
              " 'Germany 20Y',\n",
              " 'Germany 7Y',\n",
              " 'Germany 1Y',\n",
              " 'Germany 5Y',\n",
              " 'Germany 4Y',\n",
              " 'Germany 3Y',\n",
              " 'Germany 2Y',\n",
              " 'Germany 6Y',\n",
              " 'Germany 9M',\n",
              " 'Germany 6M',\n",
              " 'Germany 3M']"
            ]
          },
          "metadata": {},
          "execution_count": 905
        }
      ]
    },
    {
      "cell_type": "code",
      "metadata": {
        "id": "hIG_YwWxOFJv",
        "colab": {
          "base_uri": "https://localhost:8080/"
        },
        "outputId": "89509117-67b5-4b4b-fcb2-b829bfdcd18b"
      },
      "source": [
        "Alemania=inv.get_bond_recent_data(bond=\"Germany 10Y\")\n",
        "Alemania10=Alemania[[\"Close\",\"Open\"]].tail()\n",
        "print(Alemania10)"
      ],
      "execution_count": 906,
      "outputs": [
        {
          "output_type": "stream",
          "name": "stdout",
          "text": [
            "            Close   Open\n",
            "Date                    \n",
            "2022-01-14 -0.049 -0.088\n",
            "2022-01-17 -0.026 -0.046\n",
            "2022-01-18 -0.018 -0.016\n",
            "2022-01-19 -0.009  0.004\n",
            "2022-01-20 -0.027 -0.016\n"
          ]
        }
      ]
    },
    {
      "cell_type": "code",
      "source": [
        "Apertura_Alemania = (Alemania10.iat[4,1]) # Este comando esta extraer un valor especifico de un dataframe\n",
        "print(Apertura_Alemania)"
      ],
      "metadata": {
        "id": "4Ewopbl5DWmq",
        "colab": {
          "base_uri": "https://localhost:8080/"
        },
        "outputId": "44c381c6-5eef-448d-b628-718d05bd05dc"
      },
      "execution_count": 907,
      "outputs": [
        {
          "output_type": "stream",
          "name": "stdout",
          "text": [
            "-0.016\n"
          ]
        }
      ]
    },
    {
      "cell_type": "code",
      "source": [
        "Cierre_precio_anterior_Alemania= Alemania10.iat[3,0]\n",
        "print(Cierre_precio_anterior_Alemania)"
      ],
      "metadata": {
        "id": "52B6jIijDWxV",
        "colab": {
          "base_uri": "https://localhost:8080/"
        },
        "outputId": "a468cb16-7d2b-4da0-cafa-cf05f6dd68a4"
      },
      "execution_count": 908,
      "outputs": [
        {
          "output_type": "stream",
          "name": "stdout",
          "text": [
            "-0.009\n"
          ]
        }
      ]
    },
    {
      "cell_type": "code",
      "source": [
        "Cierre_precio_anterior5dias_Alemania = Alemania10.iat[0,0]\n",
        "print(Cierre_precio_anterior5dias_Alemania)"
      ],
      "metadata": {
        "id": "YE0lgixBDW62",
        "colab": {
          "base_uri": "https://localhost:8080/"
        },
        "outputId": "1dca16a6-a3b3-4034-f4df-8e224c4e39d7"
      },
      "execution_count": 909,
      "outputs": [
        {
          "output_type": "stream",
          "name": "stdout",
          "text": [
            "-0.049\n"
          ]
        }
      ]
    },
    {
      "cell_type": "markdown",
      "metadata": {
        "id": "JvQbI6OXMPKD"
      },
      "source": [
        "**Reino Unido**"
      ]
    },
    {
      "cell_type": "code",
      "metadata": {
        "id": "BEoxX7u1MViz",
        "colab": {
          "base_uri": "https://localhost:8080/"
        },
        "outputId": "f09e204c-769e-41de-a5cc-84473935d9b6"
      },
      "source": [
        "inv.get_bonds_list(\"United Kingdom\")"
      ],
      "execution_count": 910,
      "outputs": [
        {
          "output_type": "execute_result",
          "data": {
            "text/plain": [
              "['U.K. 40Y',\n",
              " 'U.K. 50Y',\n",
              " 'U.K. 30Y',\n",
              " 'U.K. 25Y',\n",
              " 'U.K. 15Y',\n",
              " 'U.K. 12Y',\n",
              " 'U.K. 10Y',\n",
              " 'U.K. 9Y',\n",
              " 'U.K. 8Y',\n",
              " 'U.K. 20Y',\n",
              " 'U.K. 6Y',\n",
              " 'U.K. 5Y',\n",
              " 'U.K. 4Y',\n",
              " 'U.K. 3Y',\n",
              " 'U.K. 2Y',\n",
              " 'U.K. 1Y',\n",
              " 'U.K. 6M',\n",
              " 'U.K. 3M',\n",
              " 'U.K. 1M',\n",
              " 'U.K. 7Y']"
            ]
          },
          "metadata": {},
          "execution_count": 910
        }
      ]
    },
    {
      "cell_type": "code",
      "metadata": {
        "id": "mC1yyX36OLCh",
        "colab": {
          "base_uri": "https://localhost:8080/"
        },
        "outputId": "9e7ac08f-c524-46dc-a851-4c932f63eac4"
      },
      "source": [
        "Reino_unido=inv.get_bond_recent_data(bond=\"U.K. 10Y\")\n",
        "Reino_unido10=Reino_unido[[\"Close\",\"Open\"]].tail()\n",
        "print(Reino_unido10)"
      ],
      "execution_count": 911,
      "outputs": [
        {
          "output_type": "stream",
          "name": "stdout",
          "text": [
            "            Close   Open\n",
            "Date                    \n",
            "2022-01-16  1.146  1.146\n",
            "2022-01-17  1.191  1.176\n",
            "2022-01-18  1.219  1.195\n",
            "2022-01-19  1.268  1.285\n",
            "2022-01-20  1.226  1.267\n"
          ]
        }
      ]
    },
    {
      "cell_type": "code",
      "source": [
        "Apertura_Reino_unido = (Reino_unido10.iat[4,1]) # Este comando esta extraer un valor especifico de un dataframe\n",
        "print(Apertura_Reino_unido)"
      ],
      "metadata": {
        "id": "ZTJulB0nDt9E",
        "colab": {
          "base_uri": "https://localhost:8080/"
        },
        "outputId": "6cca3825-7b38-4fe1-cf5f-f9601fe7765b"
      },
      "execution_count": 912,
      "outputs": [
        {
          "output_type": "stream",
          "name": "stdout",
          "text": [
            "1.267\n"
          ]
        }
      ]
    },
    {
      "cell_type": "code",
      "source": [
        "Cierre_precio_anterior_Reino_unido= Reino_unido10.iat[3,0]\n",
        "print(Cierre_precio_anterior_Reino_unido)"
      ],
      "metadata": {
        "id": "l_1JjdsuDuGP",
        "colab": {
          "base_uri": "https://localhost:8080/"
        },
        "outputId": "440aad2f-b483-4974-d5c7-4f1cb360e26d"
      },
      "execution_count": 913,
      "outputs": [
        {
          "output_type": "stream",
          "name": "stdout",
          "text": [
            "1.268\n"
          ]
        }
      ]
    },
    {
      "cell_type": "code",
      "source": [
        "Cierre_precio_anterior5dias_Reino_unido= Reino_unido10.iat[0,0]\n",
        "print(Cierre_precio_anterior5dias_Reino_unido)"
      ],
      "metadata": {
        "id": "FW0YMHZVDuPH",
        "colab": {
          "base_uri": "https://localhost:8080/"
        },
        "outputId": "aa39c730-79d7-44a4-ea2d-652f26a08c46"
      },
      "execution_count": 914,
      "outputs": [
        {
          "output_type": "stream",
          "name": "stdout",
          "text": [
            "1.146\n"
          ]
        }
      ]
    },
    {
      "cell_type": "markdown",
      "metadata": {
        "id": "5Rm_c2tQMWOq"
      },
      "source": [
        "**Francia**"
      ]
    },
    {
      "cell_type": "code",
      "metadata": {
        "id": "TQOew382Max3",
        "colab": {
          "base_uri": "https://localhost:8080/"
        },
        "outputId": "b766e218-6267-4637-e3a9-886280e2f593"
      },
      "source": [
        "inv.get_bonds_list(\"france\")"
      ],
      "execution_count": 915,
      "outputs": [
        {
          "output_type": "execute_result",
          "data": {
            "text/plain": [
              "['France 8Y',\n",
              " 'France 30Y',\n",
              " 'France 25Y',\n",
              " 'France 20Y',\n",
              " 'France 50Y',\n",
              " 'France 15Y',\n",
              " 'France 10Y',\n",
              " 'France 9Y',\n",
              " 'France 7Y',\n",
              " 'France 9M',\n",
              " 'France 5Y',\n",
              " 'France 4Y',\n",
              " 'France 3Y',\n",
              " 'France 2Y',\n",
              " 'France 1Y',\n",
              " 'France 6M',\n",
              " 'France 3M',\n",
              " 'France 1M',\n",
              " 'France 6Y']"
            ]
          },
          "metadata": {},
          "execution_count": 915
        }
      ]
    },
    {
      "cell_type": "code",
      "metadata": {
        "id": "vbqp_pyFOZG7",
        "colab": {
          "base_uri": "https://localhost:8080/"
        },
        "outputId": "c526333f-de7d-45e8-ca05-b840cc9ceb70"
      },
      "source": [
        "Francia=inv.get_bond_recent_data(bond=\"France 10Y\")\n",
        "Francia10=Francia[[\"Close\",\"Open\"]].tail()\n",
        "print(Francia10)"
      ],
      "execution_count": 916,
      "outputs": [
        {
          "output_type": "stream",
          "name": "stdout",
          "text": [
            "            Close   Open\n",
            "Date                    \n",
            "2022-01-14  0.332  0.282\n",
            "2022-01-17  0.358  0.351\n",
            "2022-01-18  0.368  0.371\n",
            "2022-01-19  0.375  0.393\n",
            "2022-01-20  0.363  0.387\n"
          ]
        }
      ]
    },
    {
      "cell_type": "code",
      "source": [
        "Apertura_Francia = (Francia10.iat[4,1]) # Este comando esta extraer un valor especifico de un dataframe\n",
        "print(Apertura_Francia)"
      ],
      "metadata": {
        "id": "sNn60xooEDY4",
        "colab": {
          "base_uri": "https://localhost:8080/"
        },
        "outputId": "c74e6a68-32d1-4879-8c70-127aeb8e2944"
      },
      "execution_count": 917,
      "outputs": [
        {
          "output_type": "stream",
          "name": "stdout",
          "text": [
            "0.387\n"
          ]
        }
      ]
    },
    {
      "cell_type": "code",
      "source": [
        "Cierre_precio_anterior_Francia= Francia10.iat[3,0]\n",
        "print(Cierre_precio_anterior_Francia)"
      ],
      "metadata": {
        "id": "_hVcdQB-EDjG",
        "colab": {
          "base_uri": "https://localhost:8080/"
        },
        "outputId": "4e4f0442-b143-4042-84a6-b26080f8b9ba"
      },
      "execution_count": 918,
      "outputs": [
        {
          "output_type": "stream",
          "name": "stdout",
          "text": [
            "0.375\n"
          ]
        }
      ]
    },
    {
      "cell_type": "code",
      "source": [
        "Cierre_precio_anterior5dias_Francia= Francia10.iat[0,0]\n",
        "print(Cierre_precio_anterior5dias_Francia)"
      ],
      "metadata": {
        "id": "TAPlRVSIEDqu",
        "colab": {
          "base_uri": "https://localhost:8080/"
        },
        "outputId": "8dc39a86-01cc-4b69-cdd1-27da03116061"
      },
      "execution_count": 919,
      "outputs": [
        {
          "output_type": "stream",
          "name": "stdout",
          "text": [
            "0.332\n"
          ]
        }
      ]
    },
    {
      "cell_type": "markdown",
      "metadata": {
        "id": "PUrwzaETMbHL"
      },
      "source": [
        "**Italia**"
      ]
    },
    {
      "cell_type": "code",
      "metadata": {
        "id": "THR85NXtNIne",
        "colab": {
          "base_uri": "https://localhost:8080/"
        },
        "outputId": "c8a6adc3-e44f-4d52-c49c-8950546fbf62"
      },
      "source": [
        "inv.get_bonds_list(\"Italy\")"
      ],
      "execution_count": 920,
      "outputs": [
        {
          "output_type": "execute_result",
          "data": {
            "text/plain": [
              "['Italy 50Y',\n",
              " 'Italy 30Y',\n",
              " 'Italy 20Y',\n",
              " 'Italy 15Y',\n",
              " 'Italy 10Y',\n",
              " 'Italy 9Y',\n",
              " 'Italy 8Y',\n",
              " 'Italy 6Y',\n",
              " 'Italy 7Y',\n",
              " 'Italy 4Y',\n",
              " 'Italy 5Y',\n",
              " 'Italy 3M',\n",
              " 'Italy 6M',\n",
              " 'Italy 9M',\n",
              " 'Italy 1M',\n",
              " 'Italy 2Y',\n",
              " 'Italy 3Y',\n",
              " 'Italy 1Y']"
            ]
          },
          "metadata": {},
          "execution_count": 920
        }
      ]
    },
    {
      "cell_type": "code",
      "metadata": {
        "id": "FyMZ1B9COZ5f",
        "colab": {
          "base_uri": "https://localhost:8080/"
        },
        "outputId": "ced57303-d7d8-496e-faea-cebedbcc0152"
      },
      "source": [
        "Italia=inv.get_bond_recent_data(bond=\"Italy 10Y\")\n",
        "Italia10=Italia[[\"Close\",\"Open\"]].tail()\n",
        "print(Italia10)"
      ],
      "execution_count": 921,
      "outputs": [
        {
          "output_type": "stream",
          "name": "stdout",
          "text": [
            "            Close   Open\n",
            "Date                    \n",
            "2022-01-14  1.334  1.286\n",
            "2022-01-17  1.366  1.352\n",
            "2022-01-18  1.390  1.381\n",
            "2022-01-19  1.411  1.443\n",
            "2022-01-20  1.366  1.404\n"
          ]
        }
      ]
    },
    {
      "cell_type": "code",
      "source": [
        "Apertura_Italia = (Italia10.iat[4,1]) # Este comando esta extraer un valor especifico de un dataframe\n",
        "print(Apertura_Italia)"
      ],
      "metadata": {
        "id": "xfocX2P9FUWU",
        "colab": {
          "base_uri": "https://localhost:8080/"
        },
        "outputId": "b537c950-c438-4271-c488-83cca6c5bb9d"
      },
      "execution_count": 922,
      "outputs": [
        {
          "output_type": "stream",
          "name": "stdout",
          "text": [
            "1.404\n"
          ]
        }
      ]
    },
    {
      "cell_type": "code",
      "source": [
        "Cierre_precio_anterior_Italia= Italia10.iat[3,0]\n",
        "print(Cierre_precio_anterior_Italia)"
      ],
      "metadata": {
        "id": "h0QpwRycFUg3",
        "colab": {
          "base_uri": "https://localhost:8080/"
        },
        "outputId": "f507f1a1-a8fe-4eec-9cfd-254727c22817"
      },
      "execution_count": 923,
      "outputs": [
        {
          "output_type": "stream",
          "name": "stdout",
          "text": [
            "1.411\n"
          ]
        }
      ]
    },
    {
      "cell_type": "code",
      "source": [
        "Cierre_precio_anterior5dias_Italia= Italia10.iat[0,0]\n",
        "print(Cierre_precio_anterior5dias_Italia)"
      ],
      "metadata": {
        "id": "Lod0vaJZFUsQ",
        "colab": {
          "base_uri": "https://localhost:8080/"
        },
        "outputId": "c059d920-330e-4e57-fea8-2bfbbcd65a62"
      },
      "execution_count": 924,
      "outputs": [
        {
          "output_type": "stream",
          "name": "stdout",
          "text": [
            "1.334\n"
          ]
        }
      ]
    },
    {
      "cell_type": "markdown",
      "metadata": {
        "id": "o5yfHBEuMfjM"
      },
      "source": [
        "**Japon**"
      ]
    },
    {
      "cell_type": "code",
      "metadata": {
        "id": "mazN_e0qNJJu",
        "colab": {
          "base_uri": "https://localhost:8080/"
        },
        "outputId": "58e418c1-4789-4f29-a383-335163c58bde"
      },
      "source": [
        "inv.get_bonds_list(\"japan\")"
      ],
      "execution_count": 925,
      "outputs": [
        {
          "output_type": "execute_result",
          "data": {
            "text/plain": [
              "['Japan 7Y',\n",
              " 'Japan 30Y',\n",
              " 'Japan 20Y',\n",
              " 'Japan 15Y',\n",
              " 'Japan 10Y',\n",
              " 'Japan 9Y',\n",
              " 'Japan 8Y',\n",
              " 'Japan 6Y',\n",
              " 'Japan 40Y',\n",
              " 'Japan 4Y',\n",
              " 'Japan 3Y',\n",
              " 'Japan 2Y',\n",
              " 'Japan 1Y',\n",
              " 'Japan 9M',\n",
              " 'Japan 6M',\n",
              " 'Japan 3M',\n",
              " 'Japan 1M',\n",
              " 'Japan 5Y']"
            ]
          },
          "metadata": {},
          "execution_count": 925
        }
      ]
    },
    {
      "cell_type": "code",
      "metadata": {
        "id": "MARdyCtVOalS",
        "colab": {
          "base_uri": "https://localhost:8080/"
        },
        "outputId": "2f8e42f3-a553-4fbe-9152-9b71a3372147"
      },
      "source": [
        "Japon=inv.get_bond_recent_data(bond=\"Japan 10Y\")\n",
        "Japon10=Japon[[\"Close\",\"Open\"]].tail()\n",
        "print(Japon10)"
      ],
      "execution_count": 926,
      "outputs": [
        {
          "output_type": "stream",
          "name": "stdout",
          "text": [
            "            Close   Open\n",
            "Date                    \n",
            "2022-01-16  0.143  0.145\n",
            "2022-01-17  0.144  0.146\n",
            "2022-01-18  0.148  0.144\n",
            "2022-01-19  0.134  0.145\n",
            "2022-01-20  0.140  0.134\n"
          ]
        }
      ]
    },
    {
      "cell_type": "code",
      "source": [
        "Apertura_Japon = (Japon10.iat[4,1]) # Este comando esta extraer un valor especifico de un dataframe\n",
        "print(Apertura_Japon)"
      ],
      "metadata": {
        "id": "DzfibM7cFqjL",
        "colab": {
          "base_uri": "https://localhost:8080/"
        },
        "outputId": "82f4a148-17b4-4fcf-fde3-366c1a7ffe2a"
      },
      "execution_count": 927,
      "outputs": [
        {
          "output_type": "stream",
          "name": "stdout",
          "text": [
            "0.134\n"
          ]
        }
      ]
    },
    {
      "cell_type": "code",
      "source": [
        "Cierre_precio_anterior_Japon= Japon10.iat[3,0]\n",
        "print(Cierre_precio_anterior_Japon)"
      ],
      "metadata": {
        "id": "ovybVuFeFqug",
        "colab": {
          "base_uri": "https://localhost:8080/"
        },
        "outputId": "a70fb57a-9658-4d76-ae6b-8af8b5eb50b1"
      },
      "execution_count": 928,
      "outputs": [
        {
          "output_type": "stream",
          "name": "stdout",
          "text": [
            "0.134\n"
          ]
        }
      ]
    },
    {
      "cell_type": "code",
      "source": [
        "Cierre_precio_anterior5dias_Japon= Japon10.iat[0,0]\n",
        "print(Cierre_precio_anterior5dias_Japon)"
      ],
      "metadata": {
        "id": "AFYsmDMCFq4U",
        "colab": {
          "base_uri": "https://localhost:8080/"
        },
        "outputId": "45ebfb6f-17ca-4993-f91c-f83fb63b0e7f"
      },
      "execution_count": 929,
      "outputs": [
        {
          "output_type": "stream",
          "name": "stdout",
          "text": [
            "0.143\n"
          ]
        }
      ]
    },
    {
      "cell_type": "markdown",
      "metadata": {
        "id": "rKK9TQ7kMjRD"
      },
      "source": [
        "**Latinoamerica**"
      ]
    },
    {
      "cell_type": "markdown",
      "metadata": {
        "id": "LNiOh-Z9MpBj"
      },
      "source": [
        "**Brasil**"
      ]
    },
    {
      "cell_type": "code",
      "metadata": {
        "id": "zcnN1t2fNKU9",
        "colab": {
          "base_uri": "https://localhost:8080/"
        },
        "outputId": "26a8ed6c-9b02-45cb-ab63-a8757a99e0ee"
      },
      "source": [
        "inv.get_bonds_list(\"Brazil\")"
      ],
      "execution_count": 930,
      "outputs": [
        {
          "output_type": "execute_result",
          "data": {
            "text/plain": [
              "['Brazil 3M',\n",
              " 'Brazil 6M',\n",
              " 'Brazil 9M',\n",
              " 'Brazil 1Y',\n",
              " 'Brazil 2Y',\n",
              " 'Brazil 3Y',\n",
              " 'Brazil 5Y',\n",
              " 'Brazil 8Y',\n",
              " 'Brazil 10Y']"
            ]
          },
          "metadata": {},
          "execution_count": 930
        }
      ]
    },
    {
      "cell_type": "code",
      "metadata": {
        "id": "-k_ScMydObo7",
        "colab": {
          "base_uri": "https://localhost:8080/"
        },
        "outputId": "66852ad2-2e5c-4dea-909c-8b5d5a949444"
      },
      "source": [
        "Brazil=inv.get_bond_recent_data(bond=\"Brazil 10Y\")\n",
        "Brazil10=Brazil[[\"Close\",\"Open\"]].tail()\n",
        "print(Brazil10)"
      ],
      "execution_count": 931,
      "outputs": [
        {
          "output_type": "stream",
          "name": "stdout",
          "text": [
            "             Close    Open\n",
            "Date                      \n",
            "2022-01-14  11.265  11.310\n",
            "2022-01-17  11.545  11.545\n",
            "2022-01-18  11.595  11.545\n",
            "2022-01-19  11.013  11.551\n",
            "2022-01-20  11.351  11.351\n"
          ]
        }
      ]
    },
    {
      "cell_type": "code",
      "source": [
        "Apertura_Brazil = (Brazil10.iat[4,1]) # Este comando esta extraer un valor especifico de un dataframe\n",
        "print(Apertura_Brazil)"
      ],
      "metadata": {
        "id": "lhfNBy5IGEDU",
        "colab": {
          "base_uri": "https://localhost:8080/"
        },
        "outputId": "cbfa67cc-3125-48cd-c174-a8ddb2185b20"
      },
      "execution_count": 932,
      "outputs": [
        {
          "output_type": "stream",
          "name": "stdout",
          "text": [
            "11.351\n"
          ]
        }
      ]
    },
    {
      "cell_type": "code",
      "source": [
        "Cierre_precio_anterior_Brazil= Brazil10.iat[3,0]\n",
        "print(Cierre_precio_anterior_Brazil)"
      ],
      "metadata": {
        "id": "U6Orzg2FGENo",
        "colab": {
          "base_uri": "https://localhost:8080/"
        },
        "outputId": "60375d38-ed72-4d61-db2d-f6a4ea81ab92"
      },
      "execution_count": 933,
      "outputs": [
        {
          "output_type": "stream",
          "name": "stdout",
          "text": [
            "11.013\n"
          ]
        }
      ]
    },
    {
      "cell_type": "code",
      "source": [
        "Cierre_precio_anterior5dias_Brazil= Brazil10.iat[0,0]\n",
        "print(Cierre_precio_anterior5dias_Brazil)"
      ],
      "metadata": {
        "id": "N9r_R7NDGEYL",
        "colab": {
          "base_uri": "https://localhost:8080/"
        },
        "outputId": "a81c9fe8-0774-4c7b-cda6-8f409495767d"
      },
      "execution_count": 934,
      "outputs": [
        {
          "output_type": "stream",
          "name": "stdout",
          "text": [
            "11.265\n"
          ]
        }
      ]
    },
    {
      "cell_type": "markdown",
      "metadata": {
        "id": "dcIOm9liMtFJ"
      },
      "source": [
        "**Mexico**"
      ]
    },
    {
      "cell_type": "code",
      "metadata": {
        "id": "EYHQ5xwvNK-c",
        "colab": {
          "base_uri": "https://localhost:8080/"
        },
        "outputId": "c4d556f4-da7d-411d-cb35-a4693d450681"
      },
      "source": [
        "inv.get_bonds_list(\"Mexico\")"
      ],
      "execution_count": 935,
      "outputs": [
        {
          "output_type": "execute_result",
          "data": {
            "text/plain": [
              "['Mexico 7Y',\n",
              " 'Mexico 30Y',\n",
              " 'Mexico 20Y',\n",
              " 'Mexico 15Y',\n",
              " 'Mexico 10Y',\n",
              " 'Mexico 5Y',\n",
              " 'Mexico 1Y',\n",
              " 'Mexico 9M',\n",
              " 'Mexico 3M',\n",
              " 'Mexico 1M',\n",
              " 'Mexico 3Y',\n",
              " 'Mexico 6M']"
            ]
          },
          "metadata": {},
          "execution_count": 935
        }
      ]
    },
    {
      "cell_type": "code",
      "metadata": {
        "id": "RDhFio2sOcSx",
        "colab": {
          "base_uri": "https://localhost:8080/"
        },
        "outputId": "0bebcee7-6fc6-478b-c6d4-f4c553b38e69"
      },
      "source": [
        "Mexico=inv.get_bond_recent_data(bond=\"Mexico 10Y\")\n",
        "Mexico10=Mexico[[\"Close\",\"Open\"]].tail()\n",
        "print(Mexico10)"
      ],
      "execution_count": 936,
      "outputs": [
        {
          "output_type": "stream",
          "name": "stdout",
          "text": [
            "            Close   Open\n",
            "Date                    \n",
            "2022-01-15  7.935  7.935\n",
            "2022-01-17  7.686  7.749\n",
            "2022-01-18  7.751  7.787\n",
            "2022-01-19  7.957  8.024\n",
            "2022-01-20  7.904  7.904\n"
          ]
        }
      ]
    },
    {
      "cell_type": "code",
      "source": [
        "Apertura_Mexico = (Mexico10.iat[4,1]) # Este comando esta extraer un valor especifico de un dataframe\n",
        "print(Apertura_Mexico)"
      ],
      "metadata": {
        "id": "kg72v1OPGeux",
        "colab": {
          "base_uri": "https://localhost:8080/"
        },
        "outputId": "b3a152d7-2497-4f55-f680-28416eb4f954"
      },
      "execution_count": 937,
      "outputs": [
        {
          "output_type": "stream",
          "name": "stdout",
          "text": [
            "7.904\n"
          ]
        }
      ]
    },
    {
      "cell_type": "code",
      "source": [
        "Cierre_precio_anterior_Mexico= Mexico10.iat[3,0]\n",
        "print(Cierre_precio_anterior_Mexico)"
      ],
      "metadata": {
        "id": "ythoTfhxGe4z",
        "colab": {
          "base_uri": "https://localhost:8080/"
        },
        "outputId": "d7beff72-19a5-48d6-a946-bfc40dbb520e"
      },
      "execution_count": 938,
      "outputs": [
        {
          "output_type": "stream",
          "name": "stdout",
          "text": [
            "7.957\n"
          ]
        }
      ]
    },
    {
      "cell_type": "code",
      "source": [
        "Cierre_precio_anterior5dias_Mexico= Mexico10.iat[0,0]\n",
        "print(Cierre_precio_anterior5dias_Mexico)"
      ],
      "metadata": {
        "id": "a9Dqf1ERGfA_",
        "colab": {
          "base_uri": "https://localhost:8080/"
        },
        "outputId": "06835e04-591a-4bd2-d56a-aa12004fc295"
      },
      "execution_count": 939,
      "outputs": [
        {
          "output_type": "stream",
          "name": "stdout",
          "text": [
            "7.935\n"
          ]
        }
      ]
    },
    {
      "cell_type": "markdown",
      "metadata": {
        "id": "2MwZpJvRMv9O"
      },
      "source": [
        "**Chile**"
      ]
    },
    {
      "cell_type": "code",
      "metadata": {
        "id": "ypZ9JmNENLZm",
        "colab": {
          "base_uri": "https://localhost:8080/"
        },
        "outputId": "8d79eb4c-915b-4f94-be8c-f169428cbb7c"
      },
      "source": [
        "inv.get_bonds_list(\"chile\")"
      ],
      "execution_count": 940,
      "outputs": [
        {
          "output_type": "execute_result",
          "data": {
            "text/plain": [
              "['Chile 10Y',\n",
              " 'Chile 8Y',\n",
              " 'Chile 5Y',\n",
              " 'Chile 3Y',\n",
              " 'Chile 2Y',\n",
              " 'Chile 1Y',\n",
              " 'Chile 4Y']"
            ]
          },
          "metadata": {},
          "execution_count": 940
        }
      ]
    },
    {
      "cell_type": "code",
      "metadata": {
        "id": "4WoEuevrOc74",
        "colab": {
          "base_uri": "https://localhost:8080/"
        },
        "outputId": "1a0b516a-0687-4d97-8785-e4bf3a67b812"
      },
      "source": [
        "Chile=inv.get_bond_recent_data(bond=\"Chile 10Y\")\n",
        "Chile10=Chile[[\"Close\",\"Open\"]].tail()\n",
        "print(Chile10)"
      ],
      "execution_count": 941,
      "outputs": [
        {
          "output_type": "stream",
          "name": "stdout",
          "text": [
            "            Close  Open\n",
            "Date                   \n",
            "2022-01-13   6.16  6.16\n",
            "2022-01-14   6.21  6.21\n",
            "2022-01-17   6.22  6.22\n",
            "2022-01-18   6.21  6.21\n",
            "2022-01-19   6.24  6.24\n"
          ]
        }
      ]
    },
    {
      "cell_type": "code",
      "source": [
        "Apertura_Chile = (Chile10.iat[4,1]) # Este comando esta extraer un valor especifico de un dataframe\n",
        "print(Apertura_Chile)"
      ],
      "metadata": {
        "id": "o8Rp_a7UG0w1",
        "colab": {
          "base_uri": "https://localhost:8080/"
        },
        "outputId": "6dbf5b90-b4d9-4107-ad69-07bdd878a6a4"
      },
      "execution_count": 942,
      "outputs": [
        {
          "output_type": "stream",
          "name": "stdout",
          "text": [
            "6.24\n"
          ]
        }
      ]
    },
    {
      "cell_type": "code",
      "source": [
        "Cierre_precio_anterior_Chile = Chile10.iat[3,0]\n",
        "print(Cierre_precio_anterior_Chile)"
      ],
      "metadata": {
        "id": "P_wjDNciG1AR",
        "colab": {
          "base_uri": "https://localhost:8080/"
        },
        "outputId": "42658ed1-9c0a-422b-90bd-54e6a660d685"
      },
      "execution_count": 943,
      "outputs": [
        {
          "output_type": "stream",
          "name": "stdout",
          "text": [
            "6.21\n"
          ]
        }
      ]
    },
    {
      "cell_type": "code",
      "source": [
        "Cierre_precio_anterior5dias_Chile= Chile10.iat[0,0]\n",
        "print(Cierre_precio_anterior5dias_Chile)"
      ],
      "metadata": {
        "id": "nLTEmsZeG1Jx",
        "colab": {
          "base_uri": "https://localhost:8080/"
        },
        "outputId": "c414ddfc-58d6-4a7a-e10e-0494abd61bcb"
      },
      "execution_count": 944,
      "outputs": [
        {
          "output_type": "stream",
          "name": "stdout",
          "text": [
            "6.16\n"
          ]
        }
      ]
    },
    {
      "cell_type": "markdown",
      "metadata": {
        "id": "vx8eKrtGM1f0"
      },
      "source": [
        "**Argentina**"
      ]
    },
    {
      "cell_type": "code",
      "metadata": {
        "id": "hGlkCxvoNL-d",
        "colab": {
          "base_uri": "https://localhost:8080/"
        },
        "outputId": "b2018be0-5d79-4a52-dbf8-e4b86098d018"
      },
      "source": [
        "inv.get_bonds_list(\"argentina\")"
      ],
      "execution_count": 945,
      "outputs": [
        {
          "output_type": "execute_result",
          "data": {
            "text/plain": [
              "['Argentina 1Y', 'Argentina 3Y', 'Argentina 5Y', 'Argentina 9Y']"
            ]
          },
          "metadata": {},
          "execution_count": 945
        }
      ]
    },
    {
      "cell_type": "code",
      "metadata": {
        "id": "j1l9S9lEOdpr",
        "colab": {
          "base_uri": "https://localhost:8080/"
        },
        "outputId": "b762dd09-b4e8-44b7-db7c-38ef5dc1a169"
      },
      "source": [
        "Argentina=inv.get_bond_recent_data(bond=\"Argentina 1Y\")\n",
        "Argentina10=Argentina[[\"Close\",\"Open\"]].tail()\n",
        "print(Argentina10)"
      ],
      "execution_count": 946,
      "outputs": [
        {
          "output_type": "stream",
          "name": "stdout",
          "text": [
            "            Close   Open\n",
            "Date                    \n",
            "2022-01-14  73.88  73.88\n",
            "2022-01-17  75.17  75.17\n",
            "2022-01-18  76.50  76.50\n",
            "2022-01-19  60.42  60.07\n",
            "2022-01-20  40.57  63.75\n"
          ]
        }
      ]
    },
    {
      "cell_type": "code",
      "source": [
        "Apertura_Argentina = (Argentina10.iat[4,1]) # Este comando esta extraer un valor especifico de un dataframe\n",
        "print(Apertura_Argentina)"
      ],
      "metadata": {
        "id": "cttXTJmQHHBz",
        "colab": {
          "base_uri": "https://localhost:8080/"
        },
        "outputId": "986dd7f0-ae2c-44d4-da71-6d97f7a58890"
      },
      "execution_count": 947,
      "outputs": [
        {
          "output_type": "stream",
          "name": "stdout",
          "text": [
            "63.75\n"
          ]
        }
      ]
    },
    {
      "cell_type": "code",
      "source": [
        "Cierre_precio_anterior_Argentina = Argentina10.iat[3,0]\n",
        "print(Cierre_precio_anterior_Argentina)"
      ],
      "metadata": {
        "id": "4h4X0qkXHHL6",
        "colab": {
          "base_uri": "https://localhost:8080/"
        },
        "outputId": "fc70dd45-26c1-4733-9ec0-9ff9ab42f372"
      },
      "execution_count": 948,
      "outputs": [
        {
          "output_type": "stream",
          "name": "stdout",
          "text": [
            "60.42\n"
          ]
        }
      ]
    },
    {
      "cell_type": "code",
      "source": [
        "Cierre_precio_anterior5dias_Argentina= Argentina10.iat[0,0]\n",
        "print(Cierre_precio_anterior5dias_Argentina)"
      ],
      "metadata": {
        "id": "qYe67y7YHHTf",
        "colab": {
          "base_uri": "https://localhost:8080/"
        },
        "outputId": "0f0014c8-3b1c-4f39-a8e1-5ced16021dc5"
      },
      "execution_count": 949,
      "outputs": [
        {
          "output_type": "stream",
          "name": "stdout",
          "text": [
            "73.88\n"
          ]
        }
      ]
    },
    {
      "cell_type": "markdown",
      "metadata": {
        "id": "2_RdJM4JM8de"
      },
      "source": [
        "**Colombia**"
      ]
    },
    {
      "cell_type": "code",
      "metadata": {
        "id": "7_3UzmQ4M_zn",
        "colab": {
          "base_uri": "https://localhost:8080/"
        },
        "outputId": "01606649-94eb-477c-a098-3d3ebfcd7151"
      },
      "source": [
        "inv.get_bonds_list(\"colombia\")"
      ],
      "execution_count": 950,
      "outputs": [
        {
          "output_type": "execute_result",
          "data": {
            "text/plain": [
              "['Colombia 1Y', 'Colombia 4Y', 'Colombia 5Y', 'Colombia 10Y', 'Colombia 15Y']"
            ]
          },
          "metadata": {},
          "execution_count": 950
        }
      ]
    },
    {
      "cell_type": "code",
      "metadata": {
        "id": "0lbAXwJ6OePv",
        "colab": {
          "base_uri": "https://localhost:8080/"
        },
        "outputId": "b18247b6-f00c-4c99-d053-986b8a1121ea"
      },
      "source": [
        "Colombia=inv.get_bond_recent_data(bond=\"Colombia 10Y\")\n",
        "Colombia10=Colombia[[\"Close\",\"Open\"]].tail()\n",
        "print(Colombia10)"
      ],
      "execution_count": null,
      "outputs": [
        {
          "output_type": "stream",
          "name": "stdout",
          "text": [
            "            Close   Open\n",
            "Date                    \n",
            "2022-01-14  8.770  8.700\n",
            "2022-01-17  8.890  8.850\n",
            "2022-01-18  9.089  9.075\n",
            "2022-01-19  9.060  9.050\n",
            "2022-01-20  8.950  8.950\n"
          ]
        }
      ]
    },
    {
      "cell_type": "code",
      "source": [
        "Apertura_Colombia = (Colombia10.iat[4,1]) # Este comando esta extraer un valor especifico de un dataframe\n",
        "print(Apertura_Colombia)"
      ],
      "metadata": {
        "id": "XNJaBpHFHdNO"
      },
      "execution_count": null,
      "outputs": []
    },
    {
      "cell_type": "code",
      "source": [
        "Cierre_precio_anterior_Colombia = Colombia10.iat[3,0]\n",
        "print(Cierre_precio_anterior_Colombia)"
      ],
      "metadata": {
        "id": "aFSWczUhHdX3"
      },
      "execution_count": null,
      "outputs": []
    },
    {
      "cell_type": "code",
      "source": [
        "Cierre_precio_anterior5dias_Colombia= Colombia10.iat[0,0]\n",
        "print(Cierre_precio_anterior5dias_Colombia)"
      ],
      "metadata": {
        "id": "8_MV_uriHdb3"
      },
      "execution_count": null,
      "outputs": []
    },
    {
      "cell_type": "markdown",
      "metadata": {
        "id": "5-oNZkdGNAKX"
      },
      "source": [
        "**Peru** "
      ]
    },
    {
      "cell_type": "code",
      "metadata": {
        "id": "LMJ4nNWXNHAp"
      },
      "source": [
        "inv.get_bonds_list(\"peru\")"
      ],
      "execution_count": null,
      "outputs": []
    },
    {
      "cell_type": "code",
      "metadata": {
        "id": "bahdqkDZOe0U"
      },
      "source": [
        "Peru=inv.get_bond_recent_data(bond=\"Peru 10Y\")\n",
        "Peru10=Peru[[\"Close\",\"Open\"]].tail()\n",
        "print(Peru10)"
      ],
      "execution_count": null,
      "outputs": []
    },
    {
      "cell_type": "code",
      "source": [
        "Apertura_Peru = (Peru10.iat[4,1]) # Este comando esta extraer un valor especifico de un dataframe\n",
        "print(Apertura_Peru)"
      ],
      "metadata": {
        "id": "ECSHOybZHy6v"
      },
      "execution_count": null,
      "outputs": []
    },
    {
      "cell_type": "code",
      "source": [
        "Cierre_precio_anterior_Peru = Peru10.iat[3,0]\n",
        "print(Cierre_precio_anterior_Peru)"
      ],
      "metadata": {
        "id": "_Bd8qR4eHzBK"
      },
      "execution_count": null,
      "outputs": []
    },
    {
      "cell_type": "code",
      "source": [
        "Cierre_precio_anterior5dias_Peru= Peru10.iat[0,0]\n",
        "print(Cierre_precio_anterior5dias_Peru)"
      ],
      "metadata": {
        "id": "Lh7SBvlCHzV1"
      },
      "execution_count": null,
      "outputs": []
    },
    {
      "cell_type": "markdown",
      "metadata": {
        "id": "g93HhYTUNuSo"
      },
      "source": [
        "**Monedas**"
      ]
    },
    {
      "cell_type": "markdown",
      "metadata": {
        "id": "6G9b8ApkNw5_"
      },
      "source": [
        "**Dolar**"
      ]
    },
    {
      "cell_type": "code",
      "metadata": {
        "id": "rU_iqnjGN8KG"
      },
      "source": [
        "Dolar=inv.get_currency_cross_recent_data(\"USD/COP\")\n",
        "Dolar10=Dolar[[\"Close\",\"Open\"]].tail()\n",
        "print(Dolar10)"
      ],
      "execution_count": null,
      "outputs": []
    },
    {
      "cell_type": "code",
      "source": [
        "Apertura_Dolar = (Dolar10.iat[4,1]) # Este comando esta extraer un valor especifico de un dataframe\n",
        "print(Apertura_Dolar)"
      ],
      "metadata": {
        "id": "AAX1Sm5TIG67"
      },
      "execution_count": null,
      "outputs": []
    },
    {
      "cell_type": "code",
      "source": [
        "Cierre_precio_anterior_Dolar = Dolar10.iat[3,0]\n",
        "print(Cierre_precio_anterior_Dolar)"
      ],
      "metadata": {
        "id": "m-WxtkLVIHrc"
      },
      "execution_count": null,
      "outputs": []
    },
    {
      "cell_type": "code",
      "source": [
        "Cierre_precio_anterior5dias_Dolar= Dolar10.iat[0,0]\n",
        "print(Cierre_precio_anterior5dias_Dolar)"
      ],
      "metadata": {
        "id": "9yHnc83PIH1a"
      },
      "execution_count": null,
      "outputs": []
    },
    {
      "cell_type": "markdown",
      "metadata": {
        "id": "LEJ-am6_N39V"
      },
      "source": [
        "**Euro**"
      ]
    },
    {
      "cell_type": "code",
      "metadata": {
        "id": "rp8ZBd0ON8z8"
      },
      "source": [
        "Euro=inv.get_currency_cross_recent_data(\"EUR/COP\")\n",
        "Euro10=Euro[[\"Close\",\"Open\"]].tail()\n",
        "print(Euro10)"
      ],
      "execution_count": null,
      "outputs": []
    },
    {
      "cell_type": "code",
      "source": [
        "Apertura_Euro = (Euro10.iat[4,1]) # Este comando esta extraer un valor especifico de un dataframe\n",
        "print(Apertura_Euro)"
      ],
      "metadata": {
        "id": "Buzj53lQIa70"
      },
      "execution_count": null,
      "outputs": []
    },
    {
      "cell_type": "code",
      "source": [
        "Cierre_precio_anterior_Euro = Euro10.iat[3,0]\n",
        "print(Cierre_precio_anterior_Euro)"
      ],
      "metadata": {
        "id": "8uB8f23lIbHY"
      },
      "execution_count": null,
      "outputs": []
    },
    {
      "cell_type": "code",
      "source": [
        "Cierre_precio_anterior5dias_Euro= Euro10.iat[0,0]\n",
        "print(Cierre_precio_anterior5dias_Euro)"
      ],
      "metadata": {
        "id": "lcg5cAViIbSK"
      },
      "execution_count": null,
      "outputs": []
    },
    {
      "cell_type": "markdown",
      "metadata": {
        "id": "S8J_1X2RHLyq"
      },
      "source": [
        "**Esta Parte por el momento no se necesita, Se Utilizaba para unir datos**\n",
        "\n"
      ]
    },
    {
      "cell_type": "code",
      "metadata": {
        "id": "FMXQjWY3JS21"
      },
      "source": [
        "##Historica_data5= pd.concat([Historica_data1,Historica_data2,Historica_data3,Historica_data],axis=1)\n",
        "## print(Historica_data5)"
      ],
      "execution_count": null,
      "outputs": []
    },
    {
      "cell_type": "code",
      "metadata": {
        "id": "GWGL1jBUB5-u"
      },
      "source": [
        "## data1=pd.concat([Bovespa1,Mexico1,Chile1,Colombia1,brent10,WTI10,Oro10,Cobre10,Maiz10,soja10,Cafe10,Azucar10,Estados_unidos10,\n",
        "                ##  Alemania10,Reino_unido10,Francia10,Italia10,Japon10,Brazil10,Mexico10,Chile10,Argentina10,Colombia10,Peru10,Dolar10,Euro10],axis=1)     \n",
        "## print(data1)"
      ],
      "execution_count": null,
      "outputs": []
    },
    {
      "cell_type": "code",
      "source": [
        "## data2=data1.fillna(method=\"ffill\")#rellenar Datos Hacia adelante \n",
        "## print(data2)"
      ],
      "metadata": {
        "id": "zvq2fHSLADYT"
      },
      "execution_count": null,
      "outputs": []
    },
    {
      "cell_type": "code",
      "source": [
        " ## data3=data2.fillna(method=\"bfill\")#rellenar Datos hacia atras \n",
        "## print(data3)"
      ],
      "metadata": {
        "id": "eLq8FJ9CDwR7"
      },
      "execution_count": null,
      "outputs": []
    },
    {
      "cell_type": "markdown",
      "metadata": {
        "id": "6szvWYcuGvPX"
      },
      "source": [
        "**Descargar datos**"
      ]
    },
    {
      "cell_type": "code",
      "metadata": {
        "id": "Areidc1-CP-s"
      },
      "source": [
        "## data3.to_excel(\"Bitacora.xlsx\")\n",
        "## files.download(\"Bitacora.xlsx\")"
      ],
      "execution_count": null,
      "outputs": []
    },
    {
      "cell_type": "markdown",
      "source": [
        "# Conexion Python y Excel"
      ],
      "metadata": {
        "id": "oq5Exu6Zak7n"
      }
    },
    {
      "cell_type": "code",
      "source": [
        "Nueva_bitacora_py = load_workbook(\"Nueva bitacora.xlsx\")"
      ],
      "metadata": {
        "id": "KSHURtraT__G"
      },
      "execution_count": null,
      "outputs": []
    },
    {
      "cell_type": "code",
      "source": [
        "Prueba = Nueva_bitacora_py[\"Tabla oficial\"]"
      ],
      "metadata": {
        "id": "1jSyDcq2VLBb"
      },
      "execution_count": null,
      "outputs": []
    },
    {
      "cell_type": "markdown",
      "source": [
        "**Dow Jones**"
      ],
      "metadata": {
        "id": "2vuAO22q8oxL"
      }
    },
    {
      "cell_type": "markdown",
      "source": [
        "**Apertura**"
      ],
      "metadata": {
        "id": "fiMmShZf8wgj"
      }
    },
    {
      "cell_type": "code",
      "source": [
        "C6=Prueba[\"c6\"]= Apertura_indice_Dow_Jones_Industrial\n",
        "print(C6)"
      ],
      "metadata": {
        "id": "uN7u6zaN80Dz"
      },
      "execution_count": null,
      "outputs": []
    },
    {
      "cell_type": "markdown",
      "source": [
        "**Cierre anterior**"
      ],
      "metadata": {
        "id": "h0xdMKdo8yHd"
      }
    },
    {
      "cell_type": "code",
      "source": [
        "D6=Prueba[\"D6\"]= Cierre_precio_anterior_Dow_Jones_Industrial\n",
        "print(D6)"
      ],
      "metadata": {
        "id": "6id-hmjn80f6"
      },
      "execution_count": null,
      "outputs": []
    },
    {
      "cell_type": "markdown",
      "source": [
        "**Cierre a 5 dias**"
      ],
      "metadata": {
        "id": "kO1iz6g68zie"
      }
    },
    {
      "cell_type": "code",
      "source": [
        "A6=Prueba[\"A6\"]= Cierre_precio_anterior5dias_Dow_Jones_Industrial\n",
        "print(A6)"
      ],
      "metadata": {
        "id": "HdKQDLzN808a"
      },
      "execution_count": null,
      "outputs": []
    },
    {
      "cell_type": "markdown",
      "source": [
        "**S&P500**"
      ],
      "metadata": {
        "id": "NUojbLvS816r"
      }
    },
    {
      "cell_type": "markdown",
      "source": [
        "**Apertura**"
      ],
      "metadata": {
        "id": "2BFafJ7o88Px"
      }
    },
    {
      "cell_type": "code",
      "source": [
        "C7=Prueba[\"c7\"]= Apertura_indice_SP_500\n",
        "print(C7)"
      ],
      "metadata": {
        "id": "Qaf69RKN8_T6"
      },
      "execution_count": null,
      "outputs": []
    },
    {
      "cell_type": "markdown",
      "source": [
        "**Cierre anterior**"
      ],
      "metadata": {
        "id": "rfvmvfPb89eM"
      }
    },
    {
      "cell_type": "code",
      "source": [
        "D7=Prueba[\"D7\"]= Cierre_precio_anterior_SP_500\n",
        "print(D7)"
      ],
      "metadata": {
        "id": "AGMwTT5R8_t4"
      },
      "execution_count": null,
      "outputs": []
    },
    {
      "cell_type": "markdown",
      "source": [
        "**Cierre a 5 dias**"
      ],
      "metadata": {
        "id": "rITJMwvN8-oL"
      }
    },
    {
      "cell_type": "code",
      "source": [
        "A7=Prueba[\"A7\"]= Cierre_precio_anterior5dias_SP_500\n",
        "print(A7)"
      ],
      "metadata": {
        "id": "H0_rMH5z9GDi"
      },
      "execution_count": null,
      "outputs": []
    },
    {
      "cell_type": "markdown",
      "source": [
        "**Euro Stoxx**"
      ],
      "metadata": {
        "id": "yV3AIcvS1eux"
      }
    },
    {
      "cell_type": "markdown",
      "source": [
        "**Apertura**"
      ],
      "metadata": {
        "id": "ORqTRH3r1qfJ"
      }
    },
    {
      "cell_type": "code",
      "source": [
        "C9=Prueba[\"c9\"]= Apertura_indice_Euro_Stoxx_50\n",
        "print(C9)"
      ],
      "metadata": {
        "id": "FoZPQX6-1u4j"
      },
      "execution_count": null,
      "outputs": []
    },
    {
      "cell_type": "markdown",
      "source": [
        "**Cierre anterior**"
      ],
      "metadata": {
        "id": "OeV4JNo01sYt"
      }
    },
    {
      "cell_type": "code",
      "source": [
        "D9=Prueba[\"D9\"]= Cierre_precio_anterior_Euro_Stoxx_50\n",
        "print(D9)"
      ],
      "metadata": {
        "id": "8rJVwnoO1vbc"
      },
      "execution_count": null,
      "outputs": []
    },
    {
      "cell_type": "markdown",
      "source": [
        "**Cierre a 5 dias**"
      ],
      "metadata": {
        "id": "PEgY3m1B1uQe"
      }
    },
    {
      "cell_type": "code",
      "source": [
        "A9=Prueba[\"A9\"]= Cierre_precio_anterior5dias_Euro_Stoxx_50\n",
        "print(A9)"
      ],
      "metadata": {
        "id": "trLnpnFR1wAb"
      },
      "execution_count": null,
      "outputs": []
    },
    {
      "cell_type": "markdown",
      "source": [
        "**Dax**"
      ],
      "metadata": {
        "id": "997sJ0BB1wir"
      }
    },
    {
      "cell_type": "markdown",
      "source": [
        "**Apertura**"
      ],
      "metadata": {
        "id": "1ibo7jzU11MV"
      }
    },
    {
      "cell_type": "code",
      "source": [
        "C10=Prueba[\"c10\"]= Apertura_indice_Dax_Alemania\t\n",
        "print(C10)"
      ],
      "metadata": {
        "id": "Au7fu3mX15A7"
      },
      "execution_count": null,
      "outputs": []
    },
    {
      "cell_type": "markdown",
      "source": [
        "**Cierre anterior**"
      ],
      "metadata": {
        "id": "F3826vlP12kH"
      }
    },
    {
      "cell_type": "code",
      "source": [
        "D10=Prueba[\"D10\"]= Cierre_precio_anterior_Dax_Alemania\n",
        "print(D10)"
      ],
      "metadata": {
        "id": "16GFI4SG15rU"
      },
      "execution_count": null,
      "outputs": []
    },
    {
      "cell_type": "markdown",
      "source": [
        "**Cierre a 5 dias**"
      ],
      "metadata": {
        "id": "wyllO1T61334"
      }
    },
    {
      "cell_type": "code",
      "source": [
        "A10=Prueba[\"A10\"]= Cierre_precio_anterior5dias_Dax_Alemania\n",
        "print(A10)"
      ],
      "metadata": {
        "id": "3Zc7aKg-16YG"
      },
      "execution_count": null,
      "outputs": []
    },
    {
      "cell_type": "markdown",
      "source": [
        "**Nikkei 225**"
      ],
      "metadata": {
        "id": "KZ_QLp4j17XE"
      }
    },
    {
      "cell_type": "markdown",
      "source": [
        "**Apertura**"
      ],
      "metadata": {
        "id": "OsIKRNzh2A48"
      }
    },
    {
      "cell_type": "code",
      "source": [
        "C12=Prueba[\"c12\"]= Apertura_indice_Dax_Nikkei_225\n",
        "print(C12)"
      ],
      "metadata": {
        "id": "Z9NjNmrs2ECN"
      },
      "execution_count": null,
      "outputs": []
    },
    {
      "cell_type": "markdown",
      "source": [
        "**Cierre anterior**"
      ],
      "metadata": {
        "id": "O5NWLqqi2CM4"
      }
    },
    {
      "cell_type": "code",
      "source": [
        "D12=Prueba[\"D12\"]= Cierre_precio_anterior_Dax_Nikkei_225\n",
        "print(D12)"
      ],
      "metadata": {
        "id": "jfQWIioS2Em8"
      },
      "execution_count": null,
      "outputs": []
    },
    {
      "cell_type": "markdown",
      "source": [
        "**Cierre a 5 dias**"
      ],
      "metadata": {
        "id": "V3DuT0302DmR"
      }
    },
    {
      "cell_type": "code",
      "source": [
        "A12=Prueba[\"A12\"]= Cierre_precio_anterior5dias_Dax_Nikkei_225\n",
        "print(A12)"
      ],
      "metadata": {
        "id": "y64cOa-A2FPD"
      },
      "execution_count": null,
      "outputs": []
    },
    {
      "cell_type": "markdown",
      "source": [
        "**Hang Seng**"
      ],
      "metadata": {
        "id": "g4uG4Hsu2GIz"
      }
    },
    {
      "cell_type": "markdown",
      "source": [
        "**Apertura**"
      ],
      "metadata": {
        "id": "Z1LIEFVr2KfN"
      }
    },
    {
      "cell_type": "code",
      "source": [
        "C13=Prueba[\"c13\"]= Apertura_indice_Hang_seng\n",
        "\n",
        "print(C13)"
      ],
      "metadata": {
        "id": "vdvhwkHU2Npl"
      },
      "execution_count": null,
      "outputs": []
    },
    {
      "cell_type": "markdown",
      "source": [
        "**Cierre anterior**"
      ],
      "metadata": {
        "id": "_Kn2or9Y2Lwh"
      }
    },
    {
      "cell_type": "code",
      "source": [
        "D13=Prueba[\"D13\"]= Cierre_precio_anterior_Hang_seng \n",
        "print(D13)"
      ],
      "metadata": {
        "id": "FjNH6xxa2OI8"
      },
      "execution_count": null,
      "outputs": []
    },
    {
      "cell_type": "markdown",
      "source": [
        "**Cierre a 5 dias**"
      ],
      "metadata": {
        "id": "8XAQtUgq2NDo"
      }
    },
    {
      "cell_type": "code",
      "source": [
        "A13=Prueba[\"A13\"]= Cierre_precio_anterior5dias_Hang_seng\n",
        "print(A13)"
      ],
      "metadata": {
        "id": "ApLT38-u2Ox2"
      },
      "execution_count": null,
      "outputs": []
    },
    {
      "cell_type": "markdown",
      "source": [
        "**Brazil-Nueva Bitacora**"
      ],
      "metadata": {
        "id": "_kZi1d-RL1nA"
      }
    },
    {
      "cell_type": "markdown",
      "source": [
        "**Apertura**"
      ],
      "metadata": {
        "id": "zTFpgGH2MCdw"
      }
    },
    {
      "cell_type": "code",
      "source": [
        "C15=Prueba[\"c15\"]\n",
        "print(C15.value)"
      ],
      "metadata": {
        "id": "fIAx7BDqL4ry"
      },
      "execution_count": null,
      "outputs": []
    },
    {
      "cell_type": "code",
      "source": [
        "C15=Prueba[\"c15\"]= Apertura_indice_Brazil\n",
        "print(C15)"
      ],
      "metadata": {
        "id": "0ThV212lL_JA"
      },
      "execution_count": null,
      "outputs": []
    },
    {
      "cell_type": "markdown",
      "source": [
        "**Cierre anterior**"
      ],
      "metadata": {
        "id": "8wZjJjyGML1o"
      }
    },
    {
      "cell_type": "code",
      "source": [
        "D15=Prueba[\"D15\"] # Revisar \n",
        "print(D15.value)"
      ],
      "metadata": {
        "id": "p7_0PgyoMc9Q"
      },
      "execution_count": null,
      "outputs": []
    },
    {
      "cell_type": "code",
      "source": [
        "D15=Prueba[\"D15\"]= Cierre_precio_anterior__indice_Brazil\n",
        "print(D15)"
      ],
      "metadata": {
        "id": "aeKCYixGMi-6"
      },
      "execution_count": null,
      "outputs": []
    },
    {
      "cell_type": "markdown",
      "source": [
        "**Cierre a 5 dias**"
      ],
      "metadata": {
        "id": "Utqw6HoLMTmH"
      }
    },
    {
      "cell_type": "code",
      "source": [
        "A15=Prueba[\"A15\"] # Revisar\n",
        "print(A15.value)"
      ],
      "metadata": {
        "id": "PzTsT7e2gdtD"
      },
      "execution_count": null,
      "outputs": []
    },
    {
      "cell_type": "code",
      "source": [
        "A15=Prueba[\"A15\"]= Cierre_precio_anterior5dias_indice_Brazil\n",
        "print(A15)"
      ],
      "metadata": {
        "id": "Zug_FsA2Xc5D"
      },
      "execution_count": null,
      "outputs": []
    },
    {
      "cell_type": "markdown",
      "source": [
        "**Mexico Nueva Bitacora**"
      ],
      "metadata": {
        "id": "KIsuOH6ZMwz7"
      }
    },
    {
      "cell_type": "markdown",
      "source": [
        "**Apertura**"
      ],
      "metadata": {
        "id": "lCe3YlAbM_bm"
      }
    },
    {
      "cell_type": "code",
      "source": [
        "C16=Prueba[\"C16\"] \n",
        "print(C16.value)"
      ],
      "metadata": {
        "id": "gUe8SVqONaJA"
      },
      "execution_count": null,
      "outputs": []
    },
    {
      "cell_type": "code",
      "source": [
        "C16=Prueba[\"C16\"]= Apertura_indice_Mexico\n",
        "print(C16)"
      ],
      "metadata": {
        "id": "fmoWYt3XNaUs"
      },
      "execution_count": null,
      "outputs": []
    },
    {
      "cell_type": "markdown",
      "source": [
        "**Cierre anterior**"
      ],
      "metadata": {
        "id": "2YQzWf5GNUxo"
      }
    },
    {
      "cell_type": "code",
      "source": [
        "D16=Prueba[\"D16\"] \n",
        "print(D16.value)"
      ],
      "metadata": {
        "id": "CQRV9DAoNbDg"
      },
      "execution_count": null,
      "outputs": []
    },
    {
      "cell_type": "code",
      "source": [
        "D16=Prueba[\"D16\"]= Cierre_precio_anterior_indice_Mexico\n",
        "print(D16)"
      ],
      "metadata": {
        "id": "VTZOinmuNbOB"
      },
      "execution_count": null,
      "outputs": []
    },
    {
      "cell_type": "markdown",
      "source": [
        "**Cierre a 5 dias**"
      ],
      "metadata": {
        "id": "rZA4wdVjNYJt"
      }
    },
    {
      "cell_type": "code",
      "source": [
        "A16=Prueba[\"A16\"] \n",
        "print(A16.value)"
      ],
      "metadata": {
        "id": "qQ6XtL0MNb-D"
      },
      "execution_count": null,
      "outputs": []
    },
    {
      "cell_type": "code",
      "source": [
        "A16=Prueba[\"A16\"]= Cierre_precio_anterior5dias_indice_Mexico\n",
        "print(A16)"
      ],
      "metadata": {
        "id": "FTNkvA9HNcIb"
      },
      "execution_count": null,
      "outputs": []
    },
    {
      "cell_type": "markdown",
      "source": [
        "**Chile Nueva Bitacora**"
      ],
      "metadata": {
        "id": "6lMuQ1VbNfWZ"
      }
    },
    {
      "cell_type": "markdown",
      "source": [
        "**Apertura**"
      ],
      "metadata": {
        "id": "bxA73UV3NoHF"
      }
    },
    {
      "cell_type": "code",
      "source": [
        "C17=Prueba[\"C17\"] \n",
        "print(C17.value)"
      ],
      "metadata": {
        "id": "xZupSHMsNoha"
      },
      "execution_count": null,
      "outputs": []
    },
    {
      "cell_type": "code",
      "source": [
        "C17=Prueba[\"C17\"]= Apertura__indice_Chile\n",
        "print(C17)"
      ],
      "metadata": {
        "id": "-kCxPkPvNopM"
      },
      "execution_count": null,
      "outputs": []
    },
    {
      "cell_type": "markdown",
      "source": [
        "**Cierre anterior**"
      ],
      "metadata": {
        "id": "ZFeQUI_iNuMs"
      }
    },
    {
      "cell_type": "code",
      "source": [
        "D17=Prueba[\"D17\"] \n",
        "print(D17.value)"
      ],
      "metadata": {
        "id": "TWNEVCrGNutX"
      },
      "execution_count": null,
      "outputs": []
    },
    {
      "cell_type": "code",
      "source": [
        "D17=Prueba[\"D17\"]= Cierre_precio_anterior_indice_Chile\n",
        "print(D16)"
      ],
      "metadata": {
        "id": "d84yp2g4Nu20"
      },
      "execution_count": null,
      "outputs": []
    },
    {
      "cell_type": "markdown",
      "source": [
        "**Cierre a 5 dias**"
      ],
      "metadata": {
        "id": "rcYsMoe0Nxep"
      }
    },
    {
      "cell_type": "code",
      "source": [
        "A17=Prueba[\"A17\"] \n",
        "print(A17.value)"
      ],
      "metadata": {
        "id": "deUJ68eGNyPg"
      },
      "execution_count": null,
      "outputs": []
    },
    {
      "cell_type": "code",
      "source": [
        "A17=Prueba[\"A17\"]= Cierre_precio_anterior5dias_indice_Chile \n",
        "print(A17)"
      ],
      "metadata": {
        "id": "ZomqfPlKNyaP"
      },
      "execution_count": null,
      "outputs": []
    },
    {
      "cell_type": "markdown",
      "source": [
        " **Colombia Nueva Bitacora**"
      ],
      "metadata": {
        "id": "RdQg5orKN8xf"
      }
    },
    {
      "cell_type": "markdown",
      "source": [
        "**Apertura**"
      ],
      "metadata": {
        "id": "ZnrndGEIOSCe"
      }
    },
    {
      "cell_type": "code",
      "source": [
        "C18=Prueba[\"C18\"] \n",
        "print(C18.value)"
      ],
      "metadata": {
        "id": "WGtAuER9OSkp"
      },
      "execution_count": null,
      "outputs": []
    },
    {
      "cell_type": "code",
      "source": [
        "C18=Prueba[\"C18\"]= Apertura_indice_Colombia \n",
        "print(C18)"
      ],
      "metadata": {
        "id": "Ivu2hs4HOStb"
      },
      "execution_count": null,
      "outputs": []
    },
    {
      "cell_type": "markdown",
      "source": [
        "**Cierre anterior**"
      ],
      "metadata": {
        "id": "QyPM-fIuOWOq"
      }
    },
    {
      "cell_type": "code",
      "source": [
        "D18=Prueba[\"D18\"] \n",
        "print(D18.value)"
      ],
      "metadata": {
        "id": "cdiCJXRPOW2h"
      },
      "execution_count": null,
      "outputs": []
    },
    {
      "cell_type": "code",
      "source": [
        "D18=Prueba[\"D18\"]= Cierre_precio_anterior_indice_Colombia\n",
        "print(D18)"
      ],
      "metadata": {
        "id": "aT8vubmTOXBI"
      },
      "execution_count": null,
      "outputs": []
    },
    {
      "cell_type": "markdown",
      "source": [
        "**Cierre a 5 dias**"
      ],
      "metadata": {
        "id": "xj7q1S8aOY0o"
      }
    },
    {
      "cell_type": "code",
      "source": [
        "A18=Prueba[\"A18\"] \n",
        "print(A18.value)"
      ],
      "metadata": {
        "id": "43sXwySxOZR6"
      },
      "execution_count": null,
      "outputs": []
    },
    {
      "cell_type": "code",
      "source": [
        "A18=Prueba[\"A18\"]= Cierre_precio_anterior5dias_indice_Colombia \n",
        "print(A18)"
      ],
      "metadata": {
        "id": "vn0o0u-COZbH"
      },
      "execution_count": null,
      "outputs": []
    },
    {
      "cell_type": "markdown",
      "source": [
        "**Materias Primas -Nueva Bitacora**"
      ],
      "metadata": {
        "id": "jy5uGEC2Rtw1"
      }
    },
    {
      "cell_type": "markdown",
      "source": [
        "**Brent**"
      ],
      "metadata": {
        "id": "9y3ZHXn8STEJ"
      }
    },
    {
      "cell_type": "markdown",
      "source": [
        "**Apertura**"
      ],
      "metadata": {
        "id": "5NESsYFASFG9"
      }
    },
    {
      "cell_type": "code",
      "source": [
        "C25=Prueba[\"c25\"] \n",
        "print(C25.value)"
      ],
      "metadata": {
        "id": "zVPd26YXSPOz"
      },
      "execution_count": null,
      "outputs": []
    },
    {
      "cell_type": "code",
      "source": [
        "C25=Prueba[\"C25\"]= Apertura_brent\n",
        "print(C25)"
      ],
      "metadata": {
        "id": "_1FkZLU1SPZo"
      },
      "execution_count": null,
      "outputs": []
    },
    {
      "cell_type": "markdown",
      "source": [
        "**Cierre anterior**"
      ],
      "metadata": {
        "id": "Z5h4sDSiSMMj"
      }
    },
    {
      "cell_type": "code",
      "source": [
        "D25=Prueba[\"D25\"] \n",
        "print(D25.value)"
      ],
      "metadata": {
        "id": "bfLeS66ySQN0"
      },
      "execution_count": null,
      "outputs": []
    },
    {
      "cell_type": "code",
      "source": [
        "D25=Prueba[\"D25\"]= Cierre_precio_anterior_brent\n",
        "print(D25)"
      ],
      "metadata": {
        "id": "6M6UpDo9SQZO"
      },
      "execution_count": null,
      "outputs": []
    },
    {
      "cell_type": "markdown",
      "source": [
        "**Cierre a 5 dias**"
      ],
      "metadata": {
        "id": "-WSQF2svSOmJ"
      }
    },
    {
      "cell_type": "code",
      "source": [
        "A25=Prueba[\"A25\"] \n",
        "print(A25.value)"
      ],
      "metadata": {
        "id": "xc3Rg8JxSRLZ"
      },
      "execution_count": null,
      "outputs": []
    },
    {
      "cell_type": "code",
      "source": [
        "A25=Prueba[\"A25\"]= Cierre_precio_anterior5dias_brent\n",
        "print(A25)"
      ],
      "metadata": {
        "id": "fRr5hpsFSRWH"
      },
      "execution_count": null,
      "outputs": []
    },
    {
      "cell_type": "markdown",
      "source": [
        "**WTI**"
      ],
      "metadata": {
        "id": "cm63G-HQSX5_"
      }
    },
    {
      "cell_type": "markdown",
      "source": [
        "**Apertura**"
      ],
      "metadata": {
        "id": "cRgu9I3ASfNl"
      }
    },
    {
      "cell_type": "code",
      "source": [
        "C26=Prueba[\"C26\"] \n",
        "print(C26.value)"
      ],
      "metadata": {
        "id": "ZMSg3sLqSava"
      },
      "execution_count": null,
      "outputs": []
    },
    {
      "cell_type": "code",
      "source": [
        "C26=Prueba[\"C26\"]= Apertura_WTI\n",
        "print(C26)"
      ],
      "metadata": {
        "id": "rnHwe_-mSa6-"
      },
      "execution_count": null,
      "outputs": []
    },
    {
      "cell_type": "markdown",
      "source": [
        "**Cierre anterior**"
      ],
      "metadata": {
        "id": "Fz93Q1vwSkk_"
      }
    },
    {
      "cell_type": "code",
      "source": [
        "D26=Prueba[\"D26\"] \n",
        "print(D26.value)"
      ],
      "metadata": {
        "id": "en7LBM90TRGD"
      },
      "execution_count": null,
      "outputs": []
    },
    {
      "cell_type": "code",
      "source": [
        "D26=Prueba[\"D26\"]= Cierre_precio_anterior_WTI\n",
        "print(D26)"
      ],
      "metadata": {
        "id": "OCUxX8w7TRRa"
      },
      "execution_count": null,
      "outputs": []
    },
    {
      "cell_type": "markdown",
      "source": [
        "**Cierre a 5 dias**"
      ],
      "metadata": {
        "id": "V3zhKFIrSnJ2"
      }
    },
    {
      "cell_type": "code",
      "source": [
        "A26=Prueba[\"A26\"] \n",
        "print(A26.value)"
      ],
      "metadata": {
        "id": "VHL1Aci0TR5k"
      },
      "execution_count": null,
      "outputs": []
    },
    {
      "cell_type": "code",
      "source": [
        "A26=Prueba[\"A26\"]= Cierre_precio_anterior5dias_WTI \n",
        "print(A26)"
      ],
      "metadata": {
        "id": "oSjbxJaZTSDx"
      },
      "execution_count": null,
      "outputs": []
    },
    {
      "cell_type": "markdown",
      "source": [
        "**Oro**"
      ],
      "metadata": {
        "id": "WT7ZEa4uSrwD"
      }
    },
    {
      "cell_type": "markdown",
      "source": [
        "**Apertura**"
      ],
      "metadata": {
        "id": "QhQRwFquSxfK"
      }
    },
    {
      "cell_type": "code",
      "source": [
        "C28=Prueba[\"C28\"] \n",
        "print(C28.value)"
      ],
      "metadata": {
        "id": "Mo3nBmnZS1rz"
      },
      "execution_count": null,
      "outputs": []
    },
    {
      "cell_type": "code",
      "source": [
        "C28=Prueba[\"C28\"]= Apertura_oro\n",
        "print(C28)"
      ],
      "metadata": {
        "id": "ASjhnt_mS14H"
      },
      "execution_count": null,
      "outputs": []
    },
    {
      "cell_type": "markdown",
      "source": [
        "**Cierre anterior**"
      ],
      "metadata": {
        "id": "Kss75ileSzJN"
      }
    },
    {
      "cell_type": "code",
      "source": [
        "D28=Prueba[\"D28\"] \n",
        "print(D28.value)"
      ],
      "metadata": {
        "id": "U4pnh4gdS2ej"
      },
      "execution_count": null,
      "outputs": []
    },
    {
      "cell_type": "code",
      "source": [
        "D28=Prueba[\"D28\"]= Cierre_precio_anterior_oro\n",
        "print(D28)"
      ],
      "metadata": {
        "id": "EM9ndw5TS2on"
      },
      "execution_count": null,
      "outputs": []
    },
    {
      "cell_type": "markdown",
      "source": [
        "**Cierre a 5 dias**"
      ],
      "metadata": {
        "id": "8KMf-BayS0zc"
      }
    },
    {
      "cell_type": "code",
      "source": [
        "A28=Prueba[\"A28\"] \n",
        "print(A28.value)"
      ],
      "metadata": {
        "id": "mfYnB7uWS3eT"
      },
      "execution_count": null,
      "outputs": []
    },
    {
      "cell_type": "code",
      "source": [
        "A28=Prueba[\"A28\"]= Cierre_precio_anterior5dias_oro\n",
        "print(A28)"
      ],
      "metadata": {
        "id": "iACugrcQS3og"
      },
      "execution_count": null,
      "outputs": []
    },
    {
      "cell_type": "markdown",
      "source": [
        "**Cobre**"
      ],
      "metadata": {
        "id": "XPFjcCqhTi23"
      }
    },
    {
      "cell_type": "markdown",
      "source": [
        "**Apertura**"
      ],
      "metadata": {
        "id": "tnWRX-0aTn3G"
      }
    },
    {
      "cell_type": "code",
      "source": [
        "C29=Prueba[\"C29\"]= Apertura_cobre\n",
        "print(C29)"
      ],
      "metadata": {
        "id": "jyPR8WPATscX"
      },
      "execution_count": null,
      "outputs": []
    },
    {
      "cell_type": "markdown",
      "source": [
        "**Cierre anterior**"
      ],
      "metadata": {
        "id": "sOTXRFZHTpoN"
      }
    },
    {
      "cell_type": "code",
      "source": [
        "D29=Prueba[\"D29\"]= Cierre_precio_anterior_cobre\n",
        "print(D29)"
      ],
      "metadata": {
        "id": "GKujuLTNTtaQ"
      },
      "execution_count": null,
      "outputs": []
    },
    {
      "cell_type": "markdown",
      "source": [
        "**Cierre a 5 dias**"
      ],
      "metadata": {
        "id": "BWp-mnVaTrKQ"
      }
    },
    {
      "cell_type": "code",
      "source": [
        "A29=Prueba[\"A29\"]= Cierre_precio_anterior5dias_Cobre\n",
        "print(A29)"
      ],
      "metadata": {
        "id": "BZ0Qbue2TuVZ"
      },
      "execution_count": null,
      "outputs": []
    },
    {
      "cell_type": "markdown",
      "source": [
        "**Maiz**"
      ],
      "metadata": {
        "id": "9-FVz-vKTwBj"
      }
    },
    {
      "cell_type": "markdown",
      "source": [
        "**Apertura**"
      ],
      "metadata": {
        "id": "_smumr1-T-Uv"
      }
    },
    {
      "cell_type": "code",
      "source": [
        "C31=Prueba[\"C31\"]= Apertura_Maiz\n",
        "print(C31)"
      ],
      "metadata": {
        "id": "2WzechxMT_gl"
      },
      "execution_count": null,
      "outputs": []
    },
    {
      "cell_type": "markdown",
      "source": [
        "**Cierre anterior**"
      ],
      "metadata": {
        "id": "ya42f1FsUB0Q"
      }
    },
    {
      "cell_type": "code",
      "source": [
        "D31=Prueba[\"D31\"]= Cierre_precio_anterior_Maiz\n",
        "print(D31)"
      ],
      "metadata": {
        "id": "v090_saHUC8b"
      },
      "execution_count": null,
      "outputs": []
    },
    {
      "cell_type": "markdown",
      "source": [
        "**Cierre a 5 dias**"
      ],
      "metadata": {
        "id": "yEqtDawhUFHs"
      }
    },
    {
      "cell_type": "code",
      "source": [
        "A31=Prueba[\"A31\"]= Cierre_precio_anterior5dias_Maiz\n",
        "print(A31)"
      ],
      "metadata": {
        "id": "mPqp4FmPUGds"
      },
      "execution_count": null,
      "outputs": []
    },
    {
      "cell_type": "markdown",
      "source": [
        "**Soja**"
      ],
      "metadata": {
        "id": "w0pczoIRUG8M"
      }
    },
    {
      "cell_type": "markdown",
      "source": [
        "**Apertura**"
      ],
      "metadata": {
        "id": "SmLldKqAUQLH"
      }
    },
    {
      "cell_type": "code",
      "source": [
        "C32=Prueba[\"C32\"]= Apertura_soja \n",
        "print(C32)"
      ],
      "metadata": {
        "id": "faoi7stDUUqF"
      },
      "execution_count": null,
      "outputs": []
    },
    {
      "cell_type": "markdown",
      "source": [
        "**Cierre anterior**"
      ],
      "metadata": {
        "id": "T4HAQX3uUSlP"
      }
    },
    {
      "cell_type": "code",
      "source": [
        "D32=Prueba[\"D32\"]= Cierre_precio_anterior_soja\n",
        "print(D32)"
      ],
      "metadata": {
        "id": "u1CZ5cBZUVkn"
      },
      "execution_count": null,
      "outputs": []
    },
    {
      "cell_type": "markdown",
      "source": [
        "**Cierre a 5 dias**"
      ],
      "metadata": {
        "id": "Msc53_Y0UUIl"
      }
    },
    {
      "cell_type": "code",
      "source": [
        "A32=Prueba[\"A32\"]= Cierre_precio_anterior5dias_soja\n",
        "print(A32)"
      ],
      "metadata": {
        "id": "c6jHiPd0UWVE"
      },
      "execution_count": null,
      "outputs": []
    },
    {
      "cell_type": "markdown",
      "source": [
        "**Cafe**"
      ],
      "metadata": {
        "id": "ci9r6TxfUYWI"
      }
    },
    {
      "cell_type": "markdown",
      "source": [
        "**Apertura**"
      ],
      "metadata": {
        "id": "iTocSozkUe9E"
      }
    },
    {
      "cell_type": "code",
      "source": [
        "C33=Prueba[\"C33\"]= Apertura_Cafe/100\n",
        "print(C33)"
      ],
      "metadata": {
        "id": "8vlAj_WrUip0"
      },
      "execution_count": null,
      "outputs": []
    },
    {
      "cell_type": "markdown",
      "source": [
        "**Cierre anterior**"
      ],
      "metadata": {
        "id": "3Ba146gzUgoZ"
      }
    },
    {
      "cell_type": "code",
      "source": [
        "D33=Prueba[\"D33\"]= Cierre_precio_anterior_Cafe/100\n",
        "print(D33)"
      ],
      "metadata": {
        "id": "wiN-KvLhUjoN"
      },
      "execution_count": null,
      "outputs": []
    },
    {
      "cell_type": "markdown",
      "source": [
        "**Cierre a 5 dias**"
      ],
      "metadata": {
        "id": "RA85KnYTUiHp"
      }
    },
    {
      "cell_type": "code",
      "source": [
        "A33=Prueba[\"A33\"]= Cierre_precio_anterior5dias_Cafe/100\n",
        "print(A33)"
      ],
      "metadata": {
        "id": "_wgZxWw3Ukab"
      },
      "execution_count": null,
      "outputs": []
    },
    {
      "cell_type": "markdown",
      "source": [
        "**Azucar**"
      ],
      "metadata": {
        "id": "YND7NnB-UogQ"
      }
    },
    {
      "cell_type": "markdown",
      "source": [
        "**Apertura**"
      ],
      "metadata": {
        "id": "Exn3rDk5Uyi-"
      }
    },
    {
      "cell_type": "code",
      "source": [
        "C34=Prueba[\"C34\"]= Apertura_Azucar\n",
        "print(C34)"
      ],
      "metadata": {
        "id": "SFZ_hPBZU14F"
      },
      "execution_count": null,
      "outputs": []
    },
    {
      "cell_type": "markdown",
      "source": [
        "**Cierre anterior**"
      ],
      "metadata": {
        "id": "7uzKhYvWUz0r"
      }
    },
    {
      "cell_type": "code",
      "source": [
        "D34=Prueba[\"D34\"]= Cierre_precio_anterior_Azucar\n",
        "print(D34)"
      ],
      "metadata": {
        "id": "24ygrLH0U2V8"
      },
      "execution_count": null,
      "outputs": []
    },
    {
      "cell_type": "markdown",
      "source": [
        "**Cierre a 5 dias**"
      ],
      "metadata": {
        "id": "CPgFBVHAU1K8"
      }
    },
    {
      "cell_type": "code",
      "source": [
        "A34=Prueba[\"A34\"]= Cierre_precio_anterior5dias_Azucar\n",
        "print(A34)"
      ],
      "metadata": {
        "id": "-2IIwihJU3Fs"
      },
      "execution_count": null,
      "outputs": []
    },
    {
      "cell_type": "markdown",
      "source": [
        "**Renta Fija**"
      ],
      "metadata": {
        "id": "vSOUAZmiU6Wo"
      }
    },
    {
      "cell_type": "markdown",
      "source": [
        "**EE.UU**"
      ],
      "metadata": {
        "id": "BveO6bIaU-BB"
      }
    },
    {
      "cell_type": "markdown",
      "source": [
        "**Apertura**"
      ],
      "metadata": {
        "id": "8r_9GQVpVIGA"
      }
    },
    {
      "cell_type": "code",
      "source": [
        "k6 =Prueba[\"k6\"]= Apertura_Estados_unidos/100\n",
        "print(k6)"
      ],
      "metadata": {
        "id": "GLRUushjVIyg"
      },
      "execution_count": null,
      "outputs": []
    },
    {
      "cell_type": "markdown",
      "source": [
        "**Cierre anterior**"
      ],
      "metadata": {
        "id": "1V4AhiMlVKn2"
      }
    },
    {
      "cell_type": "code",
      "source": [
        "l6=Prueba[\"l6\"]= Cierre_precio_anterior_Estados_unidos/100\n",
        "print(l6)"
      ],
      "metadata": {
        "id": "MNcwRDG8VMZj"
      },
      "execution_count": null,
      "outputs": []
    },
    {
      "cell_type": "markdown",
      "source": [
        "**Cierre a 5 dias**"
      ],
      "metadata": {
        "id": "5obPzWJIVMrF"
      }
    },
    {
      "cell_type": "code",
      "source": [
        "q6=Prueba[\"q6\"]= Cierre_precio_anterior5dias_Estados_unidos/100\n",
        "print(q6)"
      ],
      "metadata": {
        "id": "YLhgZHciVNe7"
      },
      "execution_count": null,
      "outputs": []
    },
    {
      "cell_type": "markdown",
      "source": [
        "**Alemania**"
      ],
      "metadata": {
        "id": "ZYBJMG6kVOM8"
      }
    },
    {
      "cell_type": "markdown",
      "source": [
        "**Apertura**"
      ],
      "metadata": {
        "id": "Be_0MDoXVarl"
      }
    },
    {
      "cell_type": "code",
      "source": [
        "k7=Prueba[\"k7\"]= Apertura_Alemania/100\n",
        "print(k7)"
      ],
      "metadata": {
        "id": "CvNUOZYOVdwo"
      },
      "execution_count": null,
      "outputs": []
    },
    {
      "cell_type": "markdown",
      "source": [
        "**Cierre anterior**"
      ],
      "metadata": {
        "id": "7lkZR6ElVb2X"
      }
    },
    {
      "cell_type": "code",
      "source": [
        "l7=Prueba[\"l7\"]= Cierre_precio_anterior_Alemania/100\n",
        "print(l7)"
      ],
      "metadata": {
        "id": "r-mx0ztHVee8"
      },
      "execution_count": null,
      "outputs": []
    },
    {
      "cell_type": "markdown",
      "source": [
        "**Cierre a 5 dias**"
      ],
      "metadata": {
        "id": "mClhneOGVdNS"
      }
    },
    {
      "cell_type": "code",
      "source": [
        "q7=Prueba[\"q7\"]= Cierre_precio_anterior5dias_Alemania/100\n",
        "print(q7)"
      ],
      "metadata": {
        "id": "yWHlw3LDVfFi"
      },
      "execution_count": null,
      "outputs": []
    },
    {
      "cell_type": "markdown",
      "source": [
        "**Reino Unido**"
      ],
      "metadata": {
        "id": "GFSZzfmWVhQR"
      }
    },
    {
      "cell_type": "markdown",
      "source": [
        "**Apertura**"
      ],
      "metadata": {
        "id": "NK9ZXMxbVltm"
      }
    },
    {
      "cell_type": "code",
      "source": [
        "K8=Prueba[\"k8\"]= Apertura_Reino_unido/100\n",
        "print(K8)"
      ],
      "metadata": {
        "id": "2bmDa48fVpM2"
      },
      "execution_count": null,
      "outputs": []
    },
    {
      "cell_type": "markdown",
      "source": [
        "**Cierre anterior**"
      ],
      "metadata": {
        "id": "3LVzvoy_VnNz"
      }
    },
    {
      "cell_type": "code",
      "source": [
        "l8=Prueba[\"l8\"]= Cierre_precio_anterior_Reino_unido/100\n",
        "print(l8)"
      ],
      "metadata": {
        "id": "3BJY94flVp8m"
      },
      "execution_count": null,
      "outputs": []
    },
    {
      "cell_type": "markdown",
      "source": [
        "**Cierre a 5 dias**"
      ],
      "metadata": {
        "id": "Hfb5NsnlVocx"
      }
    },
    {
      "cell_type": "code",
      "source": [
        "q8=Prueba[\"q8\"]= Cierre_precio_anterior5dias_Reino_unido/100\n",
        "print(q8)"
      ],
      "metadata": {
        "id": "VJ0DwvHxVkPl"
      },
      "execution_count": null,
      "outputs": []
    },
    {
      "cell_type": "markdown",
      "source": [
        "**Francia**"
      ],
      "metadata": {
        "id": "zlDLjcfeVq_9"
      }
    },
    {
      "cell_type": "markdown",
      "source": [
        "**Apertura**"
      ],
      "metadata": {
        "id": "u0qcfSWUV0he"
      }
    },
    {
      "cell_type": "code",
      "source": [
        "K9=Prueba[\"k9\"]= Apertura_Francia/100\n",
        "print(K9)"
      ],
      "metadata": {
        "id": "wSnOM2N2V37W"
      },
      "execution_count": null,
      "outputs": []
    },
    {
      "cell_type": "markdown",
      "source": [
        "**Cierre anterior**"
      ],
      "metadata": {
        "id": "o6ehN4xyV11W"
      }
    },
    {
      "cell_type": "code",
      "source": [
        "l9=Prueba[\"l9\"]= Cierre_precio_anterior_Francia/100\n",
        "print(l9)"
      ],
      "metadata": {
        "id": "pTLCrYFlV4hg"
      },
      "execution_count": null,
      "outputs": []
    },
    {
      "cell_type": "markdown",
      "source": [
        "**Cierre a 5 dias**"
      ],
      "metadata": {
        "id": "b6QYexuXV3R0"
      }
    },
    {
      "cell_type": "code",
      "source": [
        "q9=Prueba[\"q9\"]= Cierre_precio_anterior5dias_Francia/100\n",
        "print(q9)"
      ],
      "metadata": {
        "id": "EEvWe5cYV5HX"
      },
      "execution_count": null,
      "outputs": []
    },
    {
      "cell_type": "markdown",
      "source": [
        "**Italia**"
      ],
      "metadata": {
        "id": "pGpPanF6V-IS"
      }
    },
    {
      "cell_type": "markdown",
      "source": [
        "**Apertura**"
      ],
      "metadata": {
        "id": "jyGAj_2UWB0P"
      }
    },
    {
      "cell_type": "code",
      "source": [
        "k10=Prueba[\"k10\"]= Apertura_Italia/100\n",
        "print(k10)"
      ],
      "metadata": {
        "id": "0_0o80mPWFPu"
      },
      "execution_count": null,
      "outputs": []
    },
    {
      "cell_type": "markdown",
      "source": [
        "**Cierre anterior**"
      ],
      "metadata": {
        "id": "wYQ3IW9bWDBT"
      }
    },
    {
      "cell_type": "code",
      "source": [
        "l10=Prueba[\"l10\"]= Cierre_precio_anterior_Italia/100\n",
        "print(l10)"
      ],
      "metadata": {
        "id": "QrsG3fPHWF5i"
      },
      "execution_count": null,
      "outputs": []
    },
    {
      "cell_type": "markdown",
      "source": [
        "**Cierre a 5 dias**"
      ],
      "metadata": {
        "id": "8A1eBDx1WEUI"
      }
    },
    {
      "cell_type": "code",
      "source": [
        "q10=Prueba[\"q10\"]= Cierre_precio_anterior5dias_Italia/100\n",
        "print(q10)"
      ],
      "metadata": {
        "id": "fNkvqxLMWGce"
      },
      "execution_count": null,
      "outputs": []
    },
    {
      "cell_type": "markdown",
      "source": [
        "**Japon**"
      ],
      "metadata": {
        "id": "Rq4BaLi8WIIE"
      }
    },
    {
      "cell_type": "markdown",
      "source": [
        "**Apertura**"
      ],
      "metadata": {
        "id": "dPZy7eNTWMU3"
      }
    },
    {
      "cell_type": "code",
      "source": [
        "k11=Prueba[\"k11\"]= Apertura_Japon/100\n",
        "print(k11)"
      ],
      "metadata": {
        "id": "Z7rwQSIYWQZv"
      },
      "execution_count": null,
      "outputs": []
    },
    {
      "cell_type": "markdown",
      "source": [
        "**Cierre anterior**"
      ],
      "metadata": {
        "id": "Y9K7sCG7WNnG"
      }
    },
    {
      "cell_type": "code",
      "source": [
        "l11=Prueba[\"l11\"]= Cierre_precio_anterior_Japon/100\n",
        "print(l11)"
      ],
      "metadata": {
        "id": "ukzR5wzaWRPK"
      },
      "execution_count": null,
      "outputs": []
    },
    {
      "cell_type": "markdown",
      "source": [
        "**Cierre a 5 dias**"
      ],
      "metadata": {
        "id": "mbNUQwKyWPCr"
      }
    },
    {
      "cell_type": "code",
      "source": [
        "q11=Prueba[\"q11\"]= Cierre_precio_anterior5dias_Japon/100\n",
        "print(q11)"
      ],
      "metadata": {
        "id": "SQfw9x7JWSOK"
      },
      "execution_count": null,
      "outputs": []
    },
    {
      "cell_type": "markdown",
      "source": [
        "**Brazil**"
      ],
      "metadata": {
        "id": "mLsL0iQnWWlF"
      }
    },
    {
      "cell_type": "markdown",
      "source": [
        "**Apertura**"
      ],
      "metadata": {
        "id": "KQpH4q6fWac9"
      }
    },
    {
      "cell_type": "code",
      "source": [
        "k13=Prueba[\"k13\"]= Apertura_Brazil/100\n",
        "print(k13)"
      ],
      "metadata": {
        "id": "ui0vWFMIWdxV"
      },
      "execution_count": null,
      "outputs": []
    },
    {
      "cell_type": "markdown",
      "source": [
        "**Cierre anterior**"
      ],
      "metadata": {
        "id": "vtpOi-8-Wb6x"
      }
    },
    {
      "cell_type": "code",
      "source": [
        "l13=Prueba[\"l13\"]= Cierre_precio_anterior_Brazil/100\n",
        "print(l13)"
      ],
      "metadata": {
        "id": "4R_iXmigWeQ8"
      },
      "execution_count": null,
      "outputs": []
    },
    {
      "cell_type": "markdown",
      "source": [
        "**Cierre a 5 dias**"
      ],
      "metadata": {
        "id": "X9G2m4dVWdQY"
      }
    },
    {
      "cell_type": "code",
      "source": [
        "q13=Prueba[\"q13\"]= Cierre_precio_anterior5dias_Brazil/100\n",
        "print(q13)"
      ],
      "metadata": {
        "id": "TEu_oLEXWYcm"
      },
      "execution_count": null,
      "outputs": []
    },
    {
      "cell_type": "markdown",
      "source": [
        "**Mexico**"
      ],
      "metadata": {
        "id": "yXTWROY6Wf-t"
      }
    },
    {
      "cell_type": "markdown",
      "source": [
        "**Apertura**"
      ],
      "metadata": {
        "id": "kgGJRI13WjEs"
      }
    },
    {
      "cell_type": "code",
      "source": [
        "k14=Prueba[\"k14\"]= Apertura_Mexico/100\n",
        "print(k14)"
      ],
      "metadata": {
        "id": "NYMjkog5WmJm"
      },
      "execution_count": null,
      "outputs": []
    },
    {
      "cell_type": "markdown",
      "source": [
        "**Cierre anterior**"
      ],
      "metadata": {
        "id": "iSTnIz5YWkVD"
      }
    },
    {
      "cell_type": "code",
      "source": [
        "l14=Prueba[\"l14\"]= Cierre_precio_anterior_Mexico/100\n",
        "print(l14)"
      ],
      "metadata": {
        "id": "_aXUjG1-Wmzd"
      },
      "execution_count": null,
      "outputs": []
    },
    {
      "cell_type": "markdown",
      "source": [
        "**Cierre a 5 dias**"
      ],
      "metadata": {
        "id": "e_q9NPtFWllJ"
      }
    },
    {
      "cell_type": "code",
      "source": [
        "q14=Prueba[\"q14\"]= Cierre_precio_anterior5dias_Mexico/100\n",
        "print(q14)"
      ],
      "metadata": {
        "id": "ZvSA49wsWnUv"
      },
      "execution_count": null,
      "outputs": []
    },
    {
      "cell_type": "markdown",
      "source": [
        "**Chile**"
      ],
      "metadata": {
        "id": "-EtdPAKBWoIT"
      }
    },
    {
      "cell_type": "markdown",
      "source": [
        "**Apertura**"
      ],
      "metadata": {
        "id": "h1MZVQmVWsr7"
      }
    },
    {
      "cell_type": "code",
      "source": [
        "k15=Prueba[\"k15\"]= Apertura_Chile/100\n",
        "print(k15)"
      ],
      "metadata": {
        "id": "11LdLXN3WwF9"
      },
      "execution_count": null,
      "outputs": []
    },
    {
      "cell_type": "markdown",
      "source": [
        "**Cierre anterior**"
      ],
      "metadata": {
        "id": "ocekAXsgWt2x"
      }
    },
    {
      "cell_type": "code",
      "source": [
        "l15=Prueba[\"l15\"]= Cierre_precio_anterior_Chile/100\n",
        "print(l15)"
      ],
      "metadata": {
        "id": "dz_tkpn0WwwD"
      },
      "execution_count": null,
      "outputs": []
    },
    {
      "cell_type": "markdown",
      "source": [
        "**Cierre a 5 dias**"
      ],
      "metadata": {
        "id": "wKi6NSpesAuX"
      }
    },
    {
      "cell_type": "code",
      "source": [
        "q15=Prueba[\"q15\"]= Cierre_precio_anterior5dias_Chile/100\n",
        "print(q15)"
      ],
      "metadata": {
        "id": "5XFMzXKDsBYG"
      },
      "execution_count": null,
      "outputs": []
    },
    {
      "cell_type": "markdown",
      "source": [
        "**Argentina**"
      ],
      "metadata": {
        "id": "3mh4StMQW3US"
      }
    },
    {
      "cell_type": "markdown",
      "source": [
        "**Apertura**"
      ],
      "metadata": {
        "id": "9s8YZeI8W7aO"
      }
    },
    {
      "cell_type": "code",
      "source": [
        "k16=Prueba[\"k16\"]= Apertura_Argentina/100\n",
        "print(k16)"
      ],
      "metadata": {
        "id": "quclovVRW___"
      },
      "execution_count": null,
      "outputs": []
    },
    {
      "cell_type": "markdown",
      "source": [
        "**Cierre anterior**"
      ],
      "metadata": {
        "id": "7FIkoE00W8ab"
      }
    },
    {
      "cell_type": "code",
      "source": [
        "l16=Prueba[\"l16\"]= Cierre_precio_anterior_Argentina/100\n",
        "print(l16)"
      ],
      "metadata": {
        "id": "2UtkOUMVW2q5"
      },
      "execution_count": null,
      "outputs": []
    },
    {
      "cell_type": "markdown",
      "source": [
        "**Cierre a 5 dias**"
      ],
      "metadata": {
        "id": "BMIg1ZL3XK4N"
      }
    },
    {
      "cell_type": "code",
      "source": [
        "q16=Prueba[\"q16\"]= Cierre_precio_anterior5dias_Argentina/100\n",
        "print(q16)"
      ],
      "metadata": {
        "id": "zSVYAaL5XQK6"
      },
      "execution_count": null,
      "outputs": []
    },
    {
      "cell_type": "markdown",
      "source": [
        "**Colombia**"
      ],
      "metadata": {
        "id": "t4bqgt_bXBCH"
      }
    },
    {
      "cell_type": "markdown",
      "source": [
        "**Apertura**"
      ],
      "metadata": {
        "id": "t99LG3EOXM5Z"
      }
    },
    {
      "cell_type": "code",
      "source": [
        "k17=Prueba[\"k17\"]= Apertura_Colombia/100\n",
        "print(k17)"
      ],
      "metadata": {
        "id": "QxNWm8o8XSwH"
      },
      "execution_count": null,
      "outputs": []
    },
    {
      "cell_type": "markdown",
      "source": [
        "**Cierre anterior**"
      ],
      "metadata": {
        "id": "hS9x3Gz7XOZc"
      }
    },
    {
      "cell_type": "code",
      "source": [
        "l27=Prueba[\"l17\"]= Cierre_precio_anterior_Colombia/100\n",
        "print(l27)"
      ],
      "metadata": {
        "id": "lacJoTnWXTZG"
      },
      "execution_count": null,
      "outputs": []
    },
    {
      "cell_type": "markdown",
      "source": [
        "**Cierre a 5 dias**"
      ],
      "metadata": {
        "id": "tNN8Ex99XSBL"
      }
    },
    {
      "cell_type": "code",
      "source": [
        "q17=Prueba[\"q17\"]= Cierre_precio_anterior5dias_Colombia/100\n",
        "print(q17)"
      ],
      "metadata": {
        "id": "DjOHGWvKXUMn"
      },
      "execution_count": null,
      "outputs": []
    },
    {
      "cell_type": "markdown",
      "source": [
        "**Peru**"
      ],
      "metadata": {
        "id": "dyACtg4RXWDP"
      }
    },
    {
      "cell_type": "markdown",
      "source": [
        "**Apertura**"
      ],
      "metadata": {
        "id": "2fK-jpryXcos"
      }
    },
    {
      "cell_type": "code",
      "source": [
        "k18=Prueba[\"k18\"]= Apertura_Peru/100\n",
        "print(k18)"
      ],
      "metadata": {
        "id": "Pnqi1KGBXgUE"
      },
      "execution_count": null,
      "outputs": []
    },
    {
      "cell_type": "markdown",
      "source": [
        "**Cierre anterior**"
      ],
      "metadata": {
        "id": "VfDBugiiXd7A"
      }
    },
    {
      "cell_type": "code",
      "source": [
        "l18=Prueba[\"l18\"]= Cierre_precio_anterior_Peru/100\n",
        "print(l18)"
      ],
      "metadata": {
        "id": "2OSZh5rdXg4_"
      },
      "execution_count": null,
      "outputs": []
    },
    {
      "cell_type": "markdown",
      "source": [
        "**Cierre a 5 dias**"
      ],
      "metadata": {
        "id": "xgYgAMq7Xfn4"
      }
    },
    {
      "cell_type": "code",
      "source": [
        "q18=Prueba[\"q18\"]= Cierre_precio_anterior5dias_Peru/100\n",
        "print(q18)"
      ],
      "metadata": {
        "id": "v2w1pCCIXhsX"
      },
      "execution_count": null,
      "outputs": []
    },
    {
      "cell_type": "markdown",
      "source": [
        "**Dolar**"
      ],
      "metadata": {
        "id": "HbBUYYIaXs7w"
      }
    },
    {
      "cell_type": "markdown",
      "source": [
        "**Apertura**"
      ],
      "metadata": {
        "id": "ohbp36BRXx4G"
      }
    },
    {
      "cell_type": "code",
      "source": [
        "k25=Prueba[\"k25\"]= Apertura_Dolar\n",
        "print(k25)"
      ],
      "metadata": {
        "id": "eFsNb_NnX8Wt"
      },
      "execution_count": null,
      "outputs": []
    },
    {
      "cell_type": "markdown",
      "source": [
        "**Cierre anterior**"
      ],
      "metadata": {
        "id": "C3gvSMacXzVy"
      }
    },
    {
      "cell_type": "code",
      "source": [
        "l25=Prueba[\"l25\"]= Cierre_precio_anterior_Dolar\n",
        "print(l25)"
      ],
      "metadata": {
        "id": "lDFuGITNX85A"
      },
      "execution_count": null,
      "outputs": []
    },
    {
      "cell_type": "markdown",
      "source": [
        "**Cierre a 5 dias**"
      ],
      "metadata": {
        "id": "5_iival1X01d"
      }
    },
    {
      "cell_type": "code",
      "source": [
        "q25=Prueba[\"q25\"]= Cierre_precio_anterior5dias_Dolar \n",
        "print(q25)"
      ],
      "metadata": {
        "id": "kPH9cr8MX9X4"
      },
      "execution_count": null,
      "outputs": []
    },
    {
      "cell_type": "markdown",
      "source": [
        "**Euro**"
      ],
      "metadata": {
        "id": "PqW9fg9SX13X"
      }
    },
    {
      "cell_type": "markdown",
      "source": [
        "**Apertura**"
      ],
      "metadata": {
        "id": "TqvudrYIX5Gv"
      }
    },
    {
      "cell_type": "code",
      "source": [
        "k26=Prueba[\"k26\"]= Apertura_Euro\n",
        "print(k26)"
      ],
      "metadata": {
        "id": "ZencNE-HX97Q"
      },
      "execution_count": null,
      "outputs": []
    },
    {
      "cell_type": "markdown",
      "source": [
        "**Cierre anterior**"
      ],
      "metadata": {
        "id": "Uf8ERAPAX6a_"
      }
    },
    {
      "cell_type": "code",
      "source": [
        "l26=Prueba[\"l26\"]= Cierre_precio_anterior_Euro\n",
        "print(l26)"
      ],
      "metadata": {
        "id": "CZ1JmdkUX-yo"
      },
      "execution_count": null,
      "outputs": []
    },
    {
      "cell_type": "markdown",
      "source": [
        "**Cierre a 5 dias**"
      ],
      "metadata": {
        "id": "irZu1Oj-X7wL"
      }
    },
    {
      "cell_type": "code",
      "source": [
        "q26=Prueba[\"q26\"]= Cierre_precio_anterior5dias_Euro\n",
        "print(q26)"
      ],
      "metadata": {
        "id": "--k1-VsLX_XI"
      },
      "execution_count": null,
      "outputs": []
    },
    {
      "cell_type": "code",
      "source": [
        "Nueva_bitacora_py.save(\"Nueva bitacora.xlsx\")"
      ],
      "metadata": {
        "id": "AhOKH9NegyV7"
      },
      "execution_count": null,
      "outputs": []
    }
  ]
}
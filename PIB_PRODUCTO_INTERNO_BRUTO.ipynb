{
  "nbformat": 4,
  "nbformat_minor": 0,
  "metadata": {
    "colab": {
      "name": "PIB-PRODUCTO INTERNO BRUTO",
      "provenance": [],
      "collapsed_sections": [
        "_t6IfBxbG-8S",
        "arvdms4bIe2T"
      ],
      "toc_visible": true,
      "authorship_tag": "ABX9TyN4Jf+QPR92arco2C+2+QxP",
      "include_colab_link": true
    },
    "kernelspec": {
      "name": "python3",
      "display_name": "Python 3"
    },
    "language_info": {
      "name": "python"
    }
  },
  "cells": [
    {
      "cell_type": "markdown",
      "metadata": {
        "id": "view-in-github",
        "colab_type": "text"
      },
      "source": [
        "<a href=\"https://colab.research.google.com/github/brayanricardo13/Analisis-Econometrico/blob/main/PIB_PRODUCTO_INTERNO_BRUTO.ipynb\" target=\"_parent\"><img src=\"https://colab.research.google.com/assets/colab-badge.svg\" alt=\"Open In Colab\"/></a>"
      ]
    },
    {
      "cell_type": "code",
      "execution_count": 165,
      "metadata": {
        "id": "Sgq5AtgcL4q3"
      },
      "outputs": [],
      "source": [
        "from openpyxl import workbook   # leer excel \n",
        "from openpyxl import load_workbook \n",
        "import pandas as pd\n",
        "import statsmodels.api as sm\n",
        "from datetime import datetime, timedelta"
      ]
    },
    {
      "cell_type": "code",
      "source": [
        "from google.colab import drive\n",
        "drive.mount('/content/drive')"
      ],
      "metadata": {
        "id": "-ya0yqgkSWdt",
        "colab": {
          "base_uri": "https://localhost:8080/"
        },
        "outputId": "17d1dc5d-bc62-441a-df33-31b4efe09ade"
      },
      "execution_count": 166,
      "outputs": [
        {
          "output_type": "stream",
          "name": "stdout",
          "text": [
            "Drive already mounted at /content/drive; to attempt to forcibly remount, call drive.mount(\"/content/drive\", force_remount=True).\n"
          ]
        }
      ]
    },
    {
      "cell_type": "markdown",
      "source": [
        "# **Obtener datos**"
      ],
      "metadata": {
        "id": "_t6IfBxbG-8S"
      }
    },
    {
      "cell_type": "code",
      "source": [
        "Produccion_Corrientes = load_workbook(\"/content/drive/MyDrive/U CENTRAL ECONOMÍA/DOCUMENTOS ADICIONALES/CURSOS/MEDICION ECONOMICA/PRODUCTO INTERNO BRUTO/Anexos_produccion_corrientes_I_2022.xlsx\") "
      ],
      "metadata": {
        "id": "cBvYR3iaUAWl"
      },
      "execution_count": 167,
      "outputs": []
    },
    {
      "cell_type": "code",
      "source": [
        "Produccion_constantes = load_workbook(\"/content/drive/MyDrive/U CENTRAL ECONOMÍA/DOCUMENTOS ADICIONALES/CURSOS/MEDICION ECONOMICA/PRODUCTO INTERNO BRUTO/Anexos_produccion_constantes_I_2022.xlsx\") "
      ],
      "metadata": {
        "id": "0DVTMR8yScBn"
      },
      "execution_count": 168,
      "outputs": []
    },
    {
      "cell_type": "code",
      "source": [
        "PIB  = Produccion_constantes[\"Cuadro 1\"] "
      ],
      "metadata": {
        "id": "qvM0CKPgUAp_"
      },
      "execution_count": 169,
      "outputs": []
    },
    {
      "cell_type": "code",
      "source": [
        "PIB_Desestacionalizado  = Produccion_constantes[\"Cuadro 4\"] "
      ],
      "metadata": {
        "id": "W05Uch0we_Dg"
      },
      "execution_count": 170,
      "outputs": []
    },
    {
      "cell_type": "code",
      "source": [
        "for Tasa_Crecimiento_Anual in PIB .iter_rows(min_row = 62,max_row= 62, min_col=8, max_col = 200,  values_only=True):\n",
        "   print(Tasa_Crecimiento_Anual) # row = Filas , Col =  Columnas "
      ],
      "metadata": {
        "id": "sbeIZmmNVno6",
        "colab": {
          "base_uri": "https://localhost:8080/"
        },
        "outputId": "069959fb-08fd-4e78-e387-35da6e5d804b"
      },
      "execution_count": 171,
      "outputs": [
        {
          "output_type": "stream",
          "name": "stdout",
          "text": [
            "(6.3214383117893505, 5.303381248417139, 7.6676064207295695, 7.442040194053391, 6.800034781467417, 6.86230872113309, 6.842359079910395, 6.48187764157646, 5.14227936031763, 4.797070622528693, 3.3292364549272264, 0.34026716974257454, 0.26317598922101126, 0.6616464213338418, 0.48228119098523337, 2.979170198847342, 3.6596092102116273, 4.662812151271652, 4.101177215637037, 5.430297974890678, 6.816810564221342, 6.679971467396257, 7.866993879959324, 6.456535845243167, 5.9424495064994005, 4.959903516874277, 2.452009547394013, 2.603828747193276, 2.665230470215519, 5.338729445988349, 6.078551209011351, 6.2464963789477395, 6.43427416280538, 3.418592625795469, 4.255424062684739, 4.0534546820892245, 2.94483968307631, 3.4834990078099253, 3.742371581292474, 1.7640540699155167, 2.283336275884949, 2.060460672879458, 1.4963638230261864, 2.4972706306595143, 1.0292388120206226, 1.2711769410680347, 1.6912970408056651, 1.4192007032890501, 1.6096512487537638, 2.775089148281282, 2.8773568243382073, 2.915027175475089, 3.5287193085118673, 3.014194275356303, 3.1862402462746076, 3.0485536349226408, 0.7992578030565198, -16.55184583067343, -8.795323526495707, -3.6125040545465055, 0.9091888405505415, 18.305676986548917, 13.744591573680538, 10.837723973553722, 8.541360598804943, None, None, None, None, None, None, None, None, None, None, None, None, None, None, None, None, None, None, None, None, None, None, None, None, None, None, None, None, None, None, None, None, None, None, None, None, None, None, None, None, None, None, None, None, None, None, None, None, None, None, None, None, None, None, None, None, None, None, None, None, None, None, None, None, None, None, None, None, None, None, None, None, None, None, None, None, None, None, None, None, None, None, None, None, None, None, None, None, None, None, None, None, None, None, None, None, None, None, None, None, None, None, None, None, None, None, None, None, None, None, None, None, None, None, None, None, None, None, None, None, None, None, None, None, None, None, None, None)\n"
          ]
        }
      ]
    },
    {
      "cell_type": "code",
      "source": [
        "for PIB_Miles_de_millones in PIB .iter_rows(min_row = 29,max_row= 29, min_col=4, max_col = 200,  values_only=True):\n",
        "   print(PIB_Miles_de_millones ) # row = Filas , Col =  Columnas "
      ],
      "metadata": {
        "id": "eNWCklqMcZuY",
        "colab": {
          "base_uri": "https://localhost:8080/"
        },
        "outputId": "18dd27e3-c7a2-4ac9-9138-e0df61c274fc"
      },
      "execution_count": 172,
      "outputs": [
        {
          "output_type": "stream",
          "name": "stdout",
          "text": [
            "(120001.40028252866, 125296.3456748175, 128934.3088434943, 140620.94519915953, 127587.21477467212, 131941.28857628768, 138820.48418690136, 151086.01246213878, 136263.18975605536, 140995.50712903365, 148319.0801914394, 160879.2229234716, 143270.22363859144, 147759.16118060588, 153256.97307878552, 161426.64210201715, 143647.27646691145, 148736.80438275027, 153996.10263381782, 166235.81651652043, 148904.2054267127, 155672.1221709223, 160311.755708005, 175262.91669436, 159054.7230328107, 166070.97551463012, 172923.4717184091, 186578.82973415003, 168506.46963673795, 174307.93566968766, 177163.5717546297, 191437.0229389446, 172997.55540978076, 183613.7647579797, 187932.55018744842, 203395.12964479113, 184128.69241979718, 189890.7713799414, 195929.87714974215, 211639.65905051935, 189550.9872221049, 196505.6145168843, 203262.30119145536, 215373.09706955534, 193879.07367464527, 200554.5354240048, 206303.84473233484, 220751.54616901517, 195874.55234929078, 203103.9384325809, 209793.0555533611, 223884.45366476726, 199027.44952717196, 208740.25378775536, 215829.5503543134, 230410.7463307592, 206050.56956787597, 215032.09056779006, 222706.39835105604, 237434.94151327794, 207697.4448233896, 179440.31045053538, 203118.65010187437, 228857.59462420066, 209585.8068138325, 212288.07406527098, 231036.47896835025, 253660.54902208602, 227487.28633771662, None, None, None, None, None, None, None, None, None, None, None, None, None, None, None, None, None, None, None, None, None, None, None, None, None, None, None, None, None, None, None, None, None, None, None, None, None, None, None, None, None, None, None, None, None, None, None, None, None, None, None, None, None, None, None, None, None, None, None, None, None, None, None, None, None, None, None, None, None, None, None, None, None, None, None, None, None, None, None, None, None, None, None, None, None, None, None, None, None, None, None, None, None, None, None, None, None, None, None, None, None, None, None, None, None, None, None, None, None, None, None, None, None, None, None, None, None, None, None, None, None, None, None, None, None, None, None, None)\n"
          ]
        }
      ]
    },
    {
      "cell_type": "code",
      "source": [
        "for Tasa_Crecimiento_Anual_Desestacionalizado in PIB_Desestacionalizado .iter_rows(min_row = 62,max_row= 62, min_col=8, max_col = 200,  values_only=True):\n",
        "   print(Tasa_Crecimiento_Anual_Desestacionalizado) # row = Filas , Col =  Columnas "
      ],
      "metadata": {
        "id": "hHZOY2lhfXu8",
        "colab": {
          "base_uri": "https://localhost:8080/"
        },
        "outputId": "7c0dc0e3-5b95-401d-c71d-336a26405579"
      },
      "execution_count": 173,
      "outputs": [
        {
          "output_type": "stream",
          "name": "stdout",
          "text": [
            "(2.0702787749022207, 1.3759711084749995, 2.043114013383345, 1.7994384900960512, 1.526139719549363, 1.2014686909999455, 2.1577506695528825, 1.4302717523856643, 0.5383666774136202, 0.04234962983680646, 1.2287160202105696, -1.446938154214891, 0.11126437891016394, 1.0231493590751768, 0.9596638174007097, 0.9990194785385711, 0.8875178708222791, 1.3524913419116729, 0.9208303384056649, 2.273779574993057, 1.8320411609061011, 1.6111317552514208, 2.033133720864271, 0.8618787431510668, 1.2408373507248456, 0.6164983250112499, -0.32133001293111363, 1.0821339652820967, 1.5967563398001232, 2.694064027893887, 0.607066843191518, 1.2629254920139061, 1.4208290568456334, 0.5138930470493648, 0.8297703485080916, 1.1784761049983246, 0.6526433948901484, 0.6451508011127771, 1.0589505172736722, -0.6533129072204815, 1.556591045136301, -0.03521595602059335, 0.4842441106316784, 0.446934490260702, -0.11260105999039638, 0.823879919047755, 0.463273141560137, 0.19340498841530973, 0.5785252161112737, 1.1462802092695483, 0.9711302760156713, 0.13425129330109087, 0.8511812375705148, 1.3836845183798516, 0.8557443013654193, -0.14302330626755122, -1.3635083845854012, -15.972818384844786, 10.345606868883877, 5.398729164330092, 3.5036806978056205, -1.796005146734359, 6.36281819850926, 2.522532249798175, 0.9958443971624291, None, None, None, None, None, None, None, None, None, None, None, None, None, None, None, None, None, None, None, None, None, None, None, None, None, None, None, None, None, None, None, None, None, None, None, None, None, None, None, None, None, None, None, None, None, None, None, None, None, None, None, None, None, None, None, None, None, None, None, None, None, None, None, None, None, None, None, None, None, None, None, None, None, None, None, None, None, None, None, None, None, None, None, None, None, None, None, None, None, None, None, None, None, None, None, None, None, None, None, None, None, None, None, None, None, None, None, None, None, None, None, None, None, None, None, None, None, None, None, None, None, None, None, None, None, None, None, None)\n"
          ]
        }
      ]
    },
    {
      "cell_type": "code",
      "source": [
        "for PIB_Miles_de_millones_Desestacionalizado in PIB_Desestacionalizado .iter_rows(min_row = 29,max_row= 29, min_col=4, max_col = 200,  values_only=True):\n",
        "   print(PIB_Miles_de_millones_Desestacionalizado ) # row = Filas , Col =  Columnas "
      ],
      "metadata": {
        "id": "zH0EvcsefX3x",
        "colab": {
          "base_uri": "https://localhost:8080/"
        },
        "outputId": "bafe3743-3c02-490d-abb2-cc53f6c719a0"
      },
      "execution_count": 174,
      "outputs": [
        {
          "output_type": "stream",
          "name": "stdout",
          "text": [
            "(126394.561593596, 128524.865426872, 128685.31757255, 131248.255265252, 133965.460036438, 135808.786061875, 138583.514401311, 141077.239500376, 143230.275287635, 144951.142201249, 148078.826442621, 150196.756068494, 151005.365353723, 151069.315566984, 152925.528448978, 150712.790630315, 150880.480280748, 152424.21294771, 153886.972968327, 155424.333803214, 156803.752541324, 158924.509718238, 160387.934818886, 164034.802921551, 167039.988029285, 169731.222320393, 173182.085036224, 174674.704614097, 176842.133591217, 177932.362382721, 177360.612299668, 179279.891726395, 182142.554763523, 187049.591810894, 188185.107863103, 190561.74556248, 193269.302214664, 194262.499720826, 195874.43234178, 198182.765722729, 199476.192453029, 200763.114706669, 202889.09674835, 201563.59609195, 204701.116978972, 204629.029523643, 205619.933547754, 206538.91994963, 206306.354936474, 208006.071566515, 208969.707828897, 209373.865668115, 210585.146276952, 212999.042132386, 215067.540318157, 215356.271272505, 217189.343447508, 220194.558768362, 222078.861156939, 221761.236627191, 218737.503572019, 183798.959386917, 202814.077154187, 213763.459886877, 221253.048969895, 217279.332823089, 231104.421753556, 236934.105322999, 239293.600335825, None, None, None, None, None, None, None, None, None, None, None, None, None, None, None, None, None, None, None, None, None, None, None, None, None, None, None, None, None, None, None, None, None, None, None, None, None, None, None, None, None, None, None, None, None, None, None, None, None, None, None, None, None, None, None, None, None, None, None, None, None, None, None, None, None, None, None, None, None, None, None, None, None, None, None, None, None, None, None, None, None, None, None, None, None, None, None, None, None, None, None, None, None, None, None, None, None, None, None, None, None, None, None, None, None, None, None, None, None, None, None, None, None, None, None, None, None, None, None, None, None, None, None, None, None, None, None, None)\n"
          ]
        }
      ]
    },
    {
      "cell_type": "markdown",
      "source": [
        "# **Crear serie de tiempo** "
      ],
      "metadata": {
        "id": "kgrDP15w0Olf"
      }
    },
    {
      "cell_type": "markdown",
      "source": [
        "## **Miles de millones**"
      ],
      "metadata": {
        "id": "arvdms4bIe2T"
      }
    },
    {
      "cell_type": "code",
      "source": [
        "for Trimestres  in PIB .iter_rows(min_row =13 ,max_row= 13, min_col=4, max_col = 200,  values_only=True):\n",
        "   print(Trimestres ) # row = Filas , Col =  Columnas "
      ],
      "metadata": {
        "colab": {
          "base_uri": "https://localhost:8080/"
        },
        "id": "oXfNNgYrDEUo",
        "outputId": "6aa729e4-6fe8-49ac-d1f5-a26e06ea4bf1"
      },
      "execution_count": 175,
      "outputs": [
        {
          "output_type": "stream",
          "name": "stdout",
          "text": [
            "('I', 'II', 'III', 'IV', 'I', 'II', 'III', 'IV', 'I', 'II', 'III', 'IV', 'I', 'II', 'III', 'IV', 'I', 'II', 'III', 'IV', 'I', 'II', 'III', 'IV', 'I', 'II', 'III', 'IV', 'I', 'II', 'III', 'IV', 'I', 'II', 'III', 'IV', 'I', 'II', 'III', 'IV', 'I', 'II', 'III', 'IV', 'I', 'II', 'III', 'IV', 'I', 'II', 'III', 'IV', 'I', 'II', 'III', 'IV', 'I', 'II', 'III', 'IV', 'I', 'II', 'III', 'IV', 'I', 'II', 'III', 'IV', 'I', None, None, None, None, None, None, None, None, None, None, None, None, None, None, None, None, None, None, None, None, None, None, None, None, None, None, None, None, None, None, None, None, None, None, None, None, None, None, None, None, None, None, None, None, None, None, None, None, None, None, None, None, None, None, None, None, None, None, None, None, None, None, None, None, None, None, None, None, None, None, None, None, None, None, None, None, None, None, None, None, None, None, None, None, None, None, None, None, None, None, None, None, None, None, None, None, None, None, None, None, None, None, None, None, None, None, None, None, None, None, None, None, None, None, None, None, None, None, None, None, None, None, None, None, None, None, None, None)\n"
          ]
        }
      ]
    },
    {
      "cell_type": "code",
      "source": [
        "Trimestres  = pd.DataFrame( Trimestres  ).dropna() #  Elimanar Celdas Vacias y converir en DATAFRAME \n",
        "Trimestres  .columns = [' Trimestres   ']\n",
        "Trimestres  "
      ],
      "metadata": {
        "colab": {
          "base_uri": "https://localhost:8080/",
          "height": 424
        },
        "id": "C5TT3gWNDWBM",
        "outputId": "87578b4d-e5f7-42f6-9c6f-332ea04a2dc2"
      },
      "execution_count": 176,
      "outputs": [
        {
          "output_type": "execute_result",
          "data": {
            "text/plain": [
              "    Trimestres   \n",
              "0               I\n",
              "1              II\n",
              "2             III\n",
              "3              IV\n",
              "4               I\n",
              "..            ...\n",
              "64              I\n",
              "65             II\n",
              "66            III\n",
              "67             IV\n",
              "68              I\n",
              "\n",
              "[69 rows x 1 columns]"
            ],
            "text/html": [
              "\n",
              "  <div id=\"df-4f3c31f0-df31-48dc-97d8-d6303ce4e733\">\n",
              "    <div class=\"colab-df-container\">\n",
              "      <div>\n",
              "<style scoped>\n",
              "    .dataframe tbody tr th:only-of-type {\n",
              "        vertical-align: middle;\n",
              "    }\n",
              "\n",
              "    .dataframe tbody tr th {\n",
              "        vertical-align: top;\n",
              "    }\n",
              "\n",
              "    .dataframe thead th {\n",
              "        text-align: right;\n",
              "    }\n",
              "</style>\n",
              "<table border=\"1\" class=\"dataframe\">\n",
              "  <thead>\n",
              "    <tr style=\"text-align: right;\">\n",
              "      <th></th>\n",
              "      <th>Trimestres</th>\n",
              "    </tr>\n",
              "  </thead>\n",
              "  <tbody>\n",
              "    <tr>\n",
              "      <th>0</th>\n",
              "      <td>I</td>\n",
              "    </tr>\n",
              "    <tr>\n",
              "      <th>1</th>\n",
              "      <td>II</td>\n",
              "    </tr>\n",
              "    <tr>\n",
              "      <th>2</th>\n",
              "      <td>III</td>\n",
              "    </tr>\n",
              "    <tr>\n",
              "      <th>3</th>\n",
              "      <td>IV</td>\n",
              "    </tr>\n",
              "    <tr>\n",
              "      <th>4</th>\n",
              "      <td>I</td>\n",
              "    </tr>\n",
              "    <tr>\n",
              "      <th>...</th>\n",
              "      <td>...</td>\n",
              "    </tr>\n",
              "    <tr>\n",
              "      <th>64</th>\n",
              "      <td>I</td>\n",
              "    </tr>\n",
              "    <tr>\n",
              "      <th>65</th>\n",
              "      <td>II</td>\n",
              "    </tr>\n",
              "    <tr>\n",
              "      <th>66</th>\n",
              "      <td>III</td>\n",
              "    </tr>\n",
              "    <tr>\n",
              "      <th>67</th>\n",
              "      <td>IV</td>\n",
              "    </tr>\n",
              "    <tr>\n",
              "      <th>68</th>\n",
              "      <td>I</td>\n",
              "    </tr>\n",
              "  </tbody>\n",
              "</table>\n",
              "<p>69 rows × 1 columns</p>\n",
              "</div>\n",
              "      <button class=\"colab-df-convert\" onclick=\"convertToInteractive('df-4f3c31f0-df31-48dc-97d8-d6303ce4e733')\"\n",
              "              title=\"Convert this dataframe to an interactive table.\"\n",
              "              style=\"display:none;\">\n",
              "        \n",
              "  <svg xmlns=\"http://www.w3.org/2000/svg\" height=\"24px\"viewBox=\"0 0 24 24\"\n",
              "       width=\"24px\">\n",
              "    <path d=\"M0 0h24v24H0V0z\" fill=\"none\"/>\n",
              "    <path d=\"M18.56 5.44l.94 2.06.94-2.06 2.06-.94-2.06-.94-.94-2.06-.94 2.06-2.06.94zm-11 1L8.5 8.5l.94-2.06 2.06-.94-2.06-.94L8.5 2.5l-.94 2.06-2.06.94zm10 10l.94 2.06.94-2.06 2.06-.94-2.06-.94-.94-2.06-.94 2.06-2.06.94z\"/><path d=\"M17.41 7.96l-1.37-1.37c-.4-.4-.92-.59-1.43-.59-.52 0-1.04.2-1.43.59L10.3 9.45l-7.72 7.72c-.78.78-.78 2.05 0 2.83L4 21.41c.39.39.9.59 1.41.59.51 0 1.02-.2 1.41-.59l7.78-7.78 2.81-2.81c.8-.78.8-2.07 0-2.86zM5.41 20L4 18.59l7.72-7.72 1.47 1.35L5.41 20z\"/>\n",
              "  </svg>\n",
              "      </button>\n",
              "      \n",
              "  <style>\n",
              "    .colab-df-container {\n",
              "      display:flex;\n",
              "      flex-wrap:wrap;\n",
              "      gap: 12px;\n",
              "    }\n",
              "\n",
              "    .colab-df-convert {\n",
              "      background-color: #E8F0FE;\n",
              "      border: none;\n",
              "      border-radius: 50%;\n",
              "      cursor: pointer;\n",
              "      display: none;\n",
              "      fill: #1967D2;\n",
              "      height: 32px;\n",
              "      padding: 0 0 0 0;\n",
              "      width: 32px;\n",
              "    }\n",
              "\n",
              "    .colab-df-convert:hover {\n",
              "      background-color: #E2EBFA;\n",
              "      box-shadow: 0px 1px 2px rgba(60, 64, 67, 0.3), 0px 1px 3px 1px rgba(60, 64, 67, 0.15);\n",
              "      fill: #174EA6;\n",
              "    }\n",
              "\n",
              "    [theme=dark] .colab-df-convert {\n",
              "      background-color: #3B4455;\n",
              "      fill: #D2E3FC;\n",
              "    }\n",
              "\n",
              "    [theme=dark] .colab-df-convert:hover {\n",
              "      background-color: #434B5C;\n",
              "      box-shadow: 0px 1px 3px 1px rgba(0, 0, 0, 0.15);\n",
              "      filter: drop-shadow(0px 1px 2px rgba(0, 0, 0, 0.3));\n",
              "      fill: #FFFFFF;\n",
              "    }\n",
              "  </style>\n",
              "\n",
              "      <script>\n",
              "        const buttonEl =\n",
              "          document.querySelector('#df-4f3c31f0-df31-48dc-97d8-d6303ce4e733 button.colab-df-convert');\n",
              "        buttonEl.style.display =\n",
              "          google.colab.kernel.accessAllowed ? 'block' : 'none';\n",
              "\n",
              "        async function convertToInteractive(key) {\n",
              "          const element = document.querySelector('#df-4f3c31f0-df31-48dc-97d8-d6303ce4e733');\n",
              "          const dataTable =\n",
              "            await google.colab.kernel.invokeFunction('convertToInteractive',\n",
              "                                                     [key], {});\n",
              "          if (!dataTable) return;\n",
              "\n",
              "          const docLinkHtml = 'Like what you see? Visit the ' +\n",
              "            '<a target=\"_blank\" href=https://colab.research.google.com/notebooks/data_table.ipynb>data table notebook</a>'\n",
              "            + ' to learn more about interactive tables.';\n",
              "          element.innerHTML = '';\n",
              "          dataTable['output_type'] = 'display_data';\n",
              "          await google.colab.output.renderOutput(dataTable, element);\n",
              "          const docLink = document.createElement('div');\n",
              "          docLink.innerHTML = docLinkHtml;\n",
              "          element.appendChild(docLink);\n",
              "        }\n",
              "      </script>\n",
              "    </div>\n",
              "  </div>\n",
              "  "
            ]
          },
          "metadata": {},
          "execution_count": 176
        }
      ]
    },
    {
      "cell_type": "code",
      "source": [
        "for Años  in PIB .iter_rows(min_row =12 ,max_row= 12, min_col=4, max_col = 200,  values_only=True):\n",
        "   print(Años ) # row = Filas , Col =  Columnas "
      ],
      "metadata": {
        "colab": {
          "base_uri": "https://localhost:8080/"
        },
        "id": "c2XeFY05EmHL",
        "outputId": "9c15b8c6-020e-4869-c660-1282e0febe48"
      },
      "execution_count": 177,
      "outputs": [
        {
          "output_type": "stream",
          "name": "stdout",
          "text": [
            "(2005, None, None, None, 2006, None, None, None, 2007, None, None, None, 2008, None, None, None, 2009, None, None, None, 2010, None, None, None, 2011, None, None, None, 2012, None, None, None, 2013, None, None, None, 2014, None, None, None, 2015, None, None, None, 2016, None, None, None, 2017, None, None, None, 2018, None, None, None, 2019, None, None, None, '2020p', None, None, None, '2021pr', None, None, None, '2022pr', None, None, None, None, None, None, None, None, None, None, None, None, None, None, None, None, None, None, None, None, None, None, None, None, None, None, None, None, None, None, None, None, None, None, None, None, None, None, None, None, None, None, None, None, None, None, None, None, None, None, None, None, None, None, None, None, None, None, None, None, None, None, None, None, None, None, None, None, None, None, None, None, None, None, None, None, None, None, None, None, None, None, None, None, None, None, None, None, None, None, None, None, None, None, None, None, None, None, None, None, None, None, None, None, None, None, None, None, None, None, None, None, None, None, None, None, None, None, None, None, None, None, None, None, None, None, None, None)\n"
          ]
        }
      ]
    },
    {
      "cell_type": "code",
      "source": [
        "Años  = pd.DataFrame(Años).dropna() \n",
        "Años  .columns = ['Años']\n",
        "Años  "
      ],
      "metadata": {
        "id": "FWMTi6P3ExkB"
      },
      "execution_count": null,
      "outputs": []
    },
    {
      "cell_type": "code",
      "source": [
        "Año_trimestre = pd.concat([Años,Trimestres ], axis=1,)\n",
        "Año_trimestre"
      ],
      "metadata": {
        "colab": {
          "base_uri": "https://localhost:8080/",
          "height": 424
        },
        "id": "MWPnNQsaFOiP",
        "outputId": "48adf4e1-59ca-4b15-a2dd-8933fd8c2849"
      },
      "execution_count": 179,
      "outputs": [
        {
          "output_type": "execute_result",
          "data": {
            "text/plain": [
              "      Años  Trimestres   \n",
              "0     2005              I\n",
              "1      NaN             II\n",
              "2      NaN            III\n",
              "3      NaN             IV\n",
              "4     2006              I\n",
              "..     ...            ...\n",
              "64  2021pr              I\n",
              "65     NaN             II\n",
              "66     NaN            III\n",
              "67     NaN             IV\n",
              "68  2022pr              I\n",
              "\n",
              "[69 rows x 2 columns]"
            ],
            "text/html": [
              "\n",
              "  <div id=\"df-7e8237ab-7bdd-4c69-8b86-86f6f1d89843\">\n",
              "    <div class=\"colab-df-container\">\n",
              "      <div>\n",
              "<style scoped>\n",
              "    .dataframe tbody tr th:only-of-type {\n",
              "        vertical-align: middle;\n",
              "    }\n",
              "\n",
              "    .dataframe tbody tr th {\n",
              "        vertical-align: top;\n",
              "    }\n",
              "\n",
              "    .dataframe thead th {\n",
              "        text-align: right;\n",
              "    }\n",
              "</style>\n",
              "<table border=\"1\" class=\"dataframe\">\n",
              "  <thead>\n",
              "    <tr style=\"text-align: right;\">\n",
              "      <th></th>\n",
              "      <th>Años</th>\n",
              "      <th>Trimestres</th>\n",
              "    </tr>\n",
              "  </thead>\n",
              "  <tbody>\n",
              "    <tr>\n",
              "      <th>0</th>\n",
              "      <td>2005</td>\n",
              "      <td>I</td>\n",
              "    </tr>\n",
              "    <tr>\n",
              "      <th>1</th>\n",
              "      <td>NaN</td>\n",
              "      <td>II</td>\n",
              "    </tr>\n",
              "    <tr>\n",
              "      <th>2</th>\n",
              "      <td>NaN</td>\n",
              "      <td>III</td>\n",
              "    </tr>\n",
              "    <tr>\n",
              "      <th>3</th>\n",
              "      <td>NaN</td>\n",
              "      <td>IV</td>\n",
              "    </tr>\n",
              "    <tr>\n",
              "      <th>4</th>\n",
              "      <td>2006</td>\n",
              "      <td>I</td>\n",
              "    </tr>\n",
              "    <tr>\n",
              "      <th>...</th>\n",
              "      <td>...</td>\n",
              "      <td>...</td>\n",
              "    </tr>\n",
              "    <tr>\n",
              "      <th>64</th>\n",
              "      <td>2021pr</td>\n",
              "      <td>I</td>\n",
              "    </tr>\n",
              "    <tr>\n",
              "      <th>65</th>\n",
              "      <td>NaN</td>\n",
              "      <td>II</td>\n",
              "    </tr>\n",
              "    <tr>\n",
              "      <th>66</th>\n",
              "      <td>NaN</td>\n",
              "      <td>III</td>\n",
              "    </tr>\n",
              "    <tr>\n",
              "      <th>67</th>\n",
              "      <td>NaN</td>\n",
              "      <td>IV</td>\n",
              "    </tr>\n",
              "    <tr>\n",
              "      <th>68</th>\n",
              "      <td>2022pr</td>\n",
              "      <td>I</td>\n",
              "    </tr>\n",
              "  </tbody>\n",
              "</table>\n",
              "<p>69 rows × 2 columns</p>\n",
              "</div>\n",
              "      <button class=\"colab-df-convert\" onclick=\"convertToInteractive('df-7e8237ab-7bdd-4c69-8b86-86f6f1d89843')\"\n",
              "              title=\"Convert this dataframe to an interactive table.\"\n",
              "              style=\"display:none;\">\n",
              "        \n",
              "  <svg xmlns=\"http://www.w3.org/2000/svg\" height=\"24px\"viewBox=\"0 0 24 24\"\n",
              "       width=\"24px\">\n",
              "    <path d=\"M0 0h24v24H0V0z\" fill=\"none\"/>\n",
              "    <path d=\"M18.56 5.44l.94 2.06.94-2.06 2.06-.94-2.06-.94-.94-2.06-.94 2.06-2.06.94zm-11 1L8.5 8.5l.94-2.06 2.06-.94-2.06-.94L8.5 2.5l-.94 2.06-2.06.94zm10 10l.94 2.06.94-2.06 2.06-.94-2.06-.94-.94-2.06-.94 2.06-2.06.94z\"/><path d=\"M17.41 7.96l-1.37-1.37c-.4-.4-.92-.59-1.43-.59-.52 0-1.04.2-1.43.59L10.3 9.45l-7.72 7.72c-.78.78-.78 2.05 0 2.83L4 21.41c.39.39.9.59 1.41.59.51 0 1.02-.2 1.41-.59l7.78-7.78 2.81-2.81c.8-.78.8-2.07 0-2.86zM5.41 20L4 18.59l7.72-7.72 1.47 1.35L5.41 20z\"/>\n",
              "  </svg>\n",
              "      </button>\n",
              "      \n",
              "  <style>\n",
              "    .colab-df-container {\n",
              "      display:flex;\n",
              "      flex-wrap:wrap;\n",
              "      gap: 12px;\n",
              "    }\n",
              "\n",
              "    .colab-df-convert {\n",
              "      background-color: #E8F0FE;\n",
              "      border: none;\n",
              "      border-radius: 50%;\n",
              "      cursor: pointer;\n",
              "      display: none;\n",
              "      fill: #1967D2;\n",
              "      height: 32px;\n",
              "      padding: 0 0 0 0;\n",
              "      width: 32px;\n",
              "    }\n",
              "\n",
              "    .colab-df-convert:hover {\n",
              "      background-color: #E2EBFA;\n",
              "      box-shadow: 0px 1px 2px rgba(60, 64, 67, 0.3), 0px 1px 3px 1px rgba(60, 64, 67, 0.15);\n",
              "      fill: #174EA6;\n",
              "    }\n",
              "\n",
              "    [theme=dark] .colab-df-convert {\n",
              "      background-color: #3B4455;\n",
              "      fill: #D2E3FC;\n",
              "    }\n",
              "\n",
              "    [theme=dark] .colab-df-convert:hover {\n",
              "      background-color: #434B5C;\n",
              "      box-shadow: 0px 1px 3px 1px rgba(0, 0, 0, 0.15);\n",
              "      filter: drop-shadow(0px 1px 2px rgba(0, 0, 0, 0.3));\n",
              "      fill: #FFFFFF;\n",
              "    }\n",
              "  </style>\n",
              "\n",
              "      <script>\n",
              "        const buttonEl =\n",
              "          document.querySelector('#df-7e8237ab-7bdd-4c69-8b86-86f6f1d89843 button.colab-df-convert');\n",
              "        buttonEl.style.display =\n",
              "          google.colab.kernel.accessAllowed ? 'block' : 'none';\n",
              "\n",
              "        async function convertToInteractive(key) {\n",
              "          const element = document.querySelector('#df-7e8237ab-7bdd-4c69-8b86-86f6f1d89843');\n",
              "          const dataTable =\n",
              "            await google.colab.kernel.invokeFunction('convertToInteractive',\n",
              "                                                     [key], {});\n",
              "          if (!dataTable) return;\n",
              "\n",
              "          const docLinkHtml = 'Like what you see? Visit the ' +\n",
              "            '<a target=\"_blank\" href=https://colab.research.google.com/notebooks/data_table.ipynb>data table notebook</a>'\n",
              "            + ' to learn more about interactive tables.';\n",
              "          element.innerHTML = '';\n",
              "          dataTable['output_type'] = 'display_data';\n",
              "          await google.colab.output.renderOutput(dataTable, element);\n",
              "          const docLink = document.createElement('div');\n",
              "          docLink.innerHTML = docLinkHtml;\n",
              "          element.appendChild(docLink);\n",
              "        }\n",
              "      </script>\n",
              "    </div>\n",
              "  </div>\n",
              "  "
            ]
          },
          "metadata": {},
          "execution_count": 179
        }
      ]
    },
    {
      "cell_type": "markdown",
      "source": [
        "## **Tasa de Crecimiento**"
      ],
      "metadata": {
        "id": "55nj6d-zIncK"
      }
    },
    {
      "cell_type": "code",
      "source": [
        "for Años_1  in PIB .iter_rows(min_row =78 ,max_row= 78, min_col=8, max_col = 200,  values_only=True):\n",
        "   print(Años_1  ) # row = Filas , Col =  Columnas "
      ],
      "metadata": {
        "colab": {
          "base_uri": "https://localhost:8080/"
        },
        "id": "3D-UjAULJYST",
        "outputId": "226aa50a-358d-45c2-f11e-cee2274e7b46"
      },
      "execution_count": 180,
      "outputs": [
        {
          "output_type": "stream",
          "name": "stdout",
          "text": [
            "(2006, None, None, None, 2007, None, None, None, 2008, None, None, None, 2009, None, None, None, 2010, None, None, None, 2011, None, None, None, 2012, None, None, None, 2013, None, None, None, 2014, None, None, None, 2015, None, None, None, 2016, None, None, None, 2017, None, None, None, 2018, None, None, None, 2019, None, None, None, '2020p', None, None, None, '2021pr', None, None, None, '2022pr', None, None, None, None, None, None, None, None, None, None, None, None, None, None, None, None, None, None, None, None, None, None, None, None, None, None, None, None, None, None, None, None, None, None, None, None, None, None, None, None, None, None, None, None, None, None, None, None, None, None, None, None, None, None, None, None, None, None, None, None, None, None, None, None, None, None, None, None, None, None, None, None, None, None, None, None, None, None, None, None, None, None, None, None, None, None, None, None, None, None, None, None, None, None, None, None, None, None, None, None, None, None, None, None, None, None, None, None, None, None, None, None, None, None, None, None, None, None, None, None, None, None, None, None, None, None, None, None)\n"
          ]
        }
      ]
    },
    {
      "cell_type": "code",
      "source": [
        "Años_1   = pd.DataFrame(Años_1 ).dropna() \n",
        "Años_1   .columns = ['Años_1 ']\n",
        "Años_1 "
      ],
      "metadata": {
        "id": "KbAY17PRJYH0"
      },
      "execution_count": null,
      "outputs": []
    },
    {
      "cell_type": "code",
      "source": [
        ""
      ],
      "metadata": {
        "id": "svsSpM2fKtQr"
      },
      "execution_count": null,
      "outputs": []
    },
    {
      "cell_type": "code",
      "source": [
        "for Trimestres_1  in PIB .iter_rows(min_row =46 ,max_row= 46, min_col=8, max_col = 200,  values_only=True):\n",
        "   print(Trimestres ) # row = Filas , Col =  Columnas "
      ],
      "metadata": {
        "colab": {
          "base_uri": "https://localhost:8080/"
        },
        "id": "yHSqMNavIxto",
        "outputId": "5ae7aaf9-ba4a-4dfe-ce15-734225b1a60c"
      },
      "execution_count": 182,
      "outputs": [
        {
          "output_type": "stream",
          "name": "stdout",
          "text": [
            "    Trimestres   \n",
            "0               I\n",
            "1              II\n",
            "2             III\n",
            "3              IV\n",
            "4               I\n",
            "..            ...\n",
            "64              I\n",
            "65             II\n",
            "66            III\n",
            "67             IV\n",
            "68              I\n",
            "\n",
            "[69 rows x 1 columns]\n"
          ]
        }
      ]
    },
    {
      "cell_type": "code",
      "source": [
        "Trimestres_1  = pd.DataFrame( Trimestres_1).dropna() #  Elimanar Celdas Vacias y converir en DATAFRAME \n",
        "Trimestres_1  .columns = [' Trimestres_1   ']\n",
        "Trimestres_1  "
      ],
      "metadata": {
        "id": "I7En-S-HI8IL"
      },
      "execution_count": null,
      "outputs": []
    },
    {
      "cell_type": "code",
      "source": [
        "Año_trimestre_1 = pd.concat([Años_1,Trimestres_1], axis=1,)\n",
        "Año_trimestre_1"
      ],
      "metadata": {
        "id": "qDHWbsWHK0NU"
      },
      "execution_count": null,
      "outputs": []
    },
    {
      "cell_type": "markdown",
      "source": [
        "# **Tasa Crecimiento Anual PIB**"
      ],
      "metadata": {
        "id": "URHzLAs7gjvb"
      }
    },
    {
      "cell_type": "code",
      "source": [
        "Tasa_Crecimiento_Anual  = pd.DataFrame(Tasa_Crecimiento_Anual).dropna() #  Elimanar Celdas Vacias y converir en DATAFRAME \n",
        "Tasa_Crecimiento_Anual.columns = ['Tasa_Crecimiento_Anual']\n",
        "Tasa_Crecimiento_Anual.plot()\n",
        "Tasa_Crecimiento_Anual.tail()\n",
        "Tasa_Crecimiento_Anual = pd.concat([Año_trimestre_1,Tasa_Crecimiento_Anual], axis=1,)\n",
        "Tasa_Crecimiento_Anual"
      ],
      "metadata": {
        "id": "a3hRob7sZdah"
      },
      "execution_count": null,
      "outputs": []
    },
    {
      "cell_type": "code",
      "source": [
        "Tasa_Crecimiento_Anual_Desestacionalizado  = pd.DataFrame(Tasa_Crecimiento_Anual_Desestacionalizado).dropna() #  Elimanar Celdas Vacias y converir en DATAFRAME \n",
        "Tasa_Crecimiento_Anual_Desestacionalizado.columns = ['Tasa_Crecimiento_Anual_Desestacionalizado']\n",
        "Tasa_Crecimiento_Anual_Desestacionalizado.plot()\n",
        "Tasa_Crecimiento_Anual_Desestacionalizado.tail()\n",
        "Tasa_Crecimiento_Anual_Desestacionalizado = pd.concat([Año_trimestre_1,Tasa_Crecimiento_Anual_Desestacionalizado], axis=1,)\n",
        "Tasa_Crecimiento_Anual_Desestacionalizado"
      ],
      "metadata": {
        "id": "EjhQZH32fxz-"
      },
      "execution_count": null,
      "outputs": []
    },
    {
      "cell_type": "markdown",
      "source": [
        "# **PIB_Miles_de_millones**"
      ],
      "metadata": {
        "id": "USIRLp2QgsqN"
      }
    },
    {
      "cell_type": "code",
      "source": [
        "PIB_Miles_de_millones  = pd.DataFrame( PIB_Miles_de_millones ).dropna() #  Elimanar Celdas Vacias y converir en DATAFRAME \n",
        "PIB_Miles_de_millones.columns = [' PIB_Miles_de_millones ']\n",
        "PIB_Miles_de_millones.plot()\n",
        "PIB_Miles_de_millones.tail()\n",
        "PIB_Miles_de_millones = pd.concat([Años,Trimestres,PIB_Miles_de_millones], axis=1,)\n",
        "PIB_Miles_de_millones"
      ],
      "metadata": {
        "id": "Lho7m8NQdCHe"
      },
      "execution_count": null,
      "outputs": []
    },
    {
      "cell_type": "code",
      "source": [
        "PIB_Miles_de_millones_Desestacionalizado = pd.DataFrame( PIB_Miles_de_millones_Desestacionalizado ).dropna() #  Elimanar Celdas Vacias y converir en DATAFRAME \n",
        "PIB_Miles_de_millones_Desestacionalizado .columns = [' PIB_Miles_de_millones_Desestacionalizado   ']\n",
        "PIB_Miles_de_millones_Desestacionalizado.plot()\n",
        "PIB_Miles_de_millones_Desestacionalizado.tail()\n",
        "PIB_Miles_de_millones_Desestacionalizado  = pd.concat([Años,Trimestres,PIB_Miles_de_millones_Desestacionalizado  ], axis=1,)\n",
        "PIB_Miles_de_millones_Desestacionalizado  "
      ],
      "metadata": {
        "id": "A0r1u8o5H6my"
      },
      "execution_count": null,
      "outputs": []
    }
  ]
}
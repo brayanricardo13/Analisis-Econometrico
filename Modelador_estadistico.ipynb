{
  "cells": [
    {
      "cell_type": "markdown",
      "metadata": {
        "id": "view-in-github",
        "colab_type": "text"
      },
      "source": [
        "<a href=\"https://colab.research.google.com/github/brayanricardo13/Analisis-Econometrico/blob/main/Modelador_estadistico.ipynb\" target=\"_parent\"><img src=\"https://colab.research.google.com/assets/colab-badge.svg\" alt=\"Open In Colab\"/></a>"
      ]
    },
    {
      "cell_type": "code",
      "execution_count": 100,
      "metadata": {
        "id": "CuyWea0oi4-D"
      },
      "outputs": [],
      "source": [
        "from openpyxl import workbook , load_workbook \n",
        "import pandas as pd\n",
        "import matplotlib.pyplot as plt\n",
        "import seaborn as sns\n",
        "import statsmodels.formula.api as smf # Regresion multiple"
      ]
    },
    {
      "cell_type": "code",
      "execution_count": null,
      "metadata": {
        "id": "wbH8bgCJjtt8",
        "colab": {
          "base_uri": "https://localhost:8080/"
        },
        "outputId": "4fca2608-51bb-4792-c5f0-d2bf74dc0cea"
      },
      "outputs": [
        {
          "output_type": "stream",
          "name": "stdout",
          "text": [
            "Drive already mounted at /content/drive; to attempt to forcibly remount, call drive.mount(\"/content/drive\", force_remount=True).\n"
          ]
        }
      ],
      "source": [
        "from google.colab import drive\n",
        "drive.mount('/content/drive')"
      ]
    },
    {
      "cell_type": "code",
      "execution_count": 105,
      "metadata": {
        "id": "dolEy_jFjwAA",
        "colab": {
          "base_uri": "https://localhost:8080/",
          "height": 409
        },
        "outputId": "2a792eab-7edf-4bd9-b1b9-a6177e91b165"
      },
      "outputs": [
        {
          "output_type": "execute_result",
          "data": {
            "text/plain": [
              "   ID F_FECHAAVALUO  TOT_BANOS  DEPOSITO  HABITACIONES  ESTRATO  TOTALGARAJES  \\\n",
              "0   1    2016-01-05          1         0             2        2             0   \n",
              "1   2    2016-01-05          1         0             2        2             0   \n",
              "2   3    2016-01-05          1         0             2        2             0   \n",
              "3   4    2016-01-05          1         0             2        3             0   \n",
              "4   5    2016-01-05          1         0             2        2             0   \n",
              "\n",
              "   PISOS  SOTANOS  ANTIGUEDAD  EDIPISO  IDCATEGORIA  ASCENSOR   LATITUD  \\\n",
              "0      2        0           0      2.0         Casa         0  4.518112   \n",
              "1      2        0           0      2.0         Casa         0  4.518112   \n",
              "2      2        0           0      2.0         Casa         0  4.518112   \n",
              "3     24        0           0      NaN  Apartamento         1  4.583075   \n",
              "4      6        0           0      2.0  Apartamento         0  4.525112   \n",
              "\n",
              "    LONGITUD       LOCALIDAD                BARRIO  AREA_PRIVADA  \\\n",
              "0 -74.090000   SAN CRISTOBAL                YOMASA     39.661019   \n",
              "1 -74.090000   SAN CRISTOBAL                YOMASA     39.401477   \n",
              "2 -74.091686   SAN CRISTOBAL                YOMASA     39.420774   \n",
              "3 -74.168148  CIUDAD BOLIVAR  EL PENON DEL CORTIJO     37.464301   \n",
              "4 -74.087588   SAN CRISTOBAL     JUAN REY (LA PAZ)     37.690574   \n",
              "\n",
              "   AREA_PRIVADA_VALFINAL  \n",
              "0           1.737997e+08  \n",
              "1           1.743664e+08  \n",
              "2           1.831345e+08  \n",
              "3           2.253010e+08  \n",
              "4           1.759704e+08  "
            ],
            "text/html": [
              "\n",
              "  <div id=\"df-ac97bd8a-51e8-46c8-9a53-b92c20dc1772\">\n",
              "    <div class=\"colab-df-container\">\n",
              "      <div>\n",
              "<style scoped>\n",
              "    .dataframe tbody tr th:only-of-type {\n",
              "        vertical-align: middle;\n",
              "    }\n",
              "\n",
              "    .dataframe tbody tr th {\n",
              "        vertical-align: top;\n",
              "    }\n",
              "\n",
              "    .dataframe thead th {\n",
              "        text-align: right;\n",
              "    }\n",
              "</style>\n",
              "<table border=\"1\" class=\"dataframe\">\n",
              "  <thead>\n",
              "    <tr style=\"text-align: right;\">\n",
              "      <th></th>\n",
              "      <th>ID</th>\n",
              "      <th>F_FECHAAVALUO</th>\n",
              "      <th>TOT_BANOS</th>\n",
              "      <th>DEPOSITO</th>\n",
              "      <th>HABITACIONES</th>\n",
              "      <th>ESTRATO</th>\n",
              "      <th>TOTALGARAJES</th>\n",
              "      <th>PISOS</th>\n",
              "      <th>SOTANOS</th>\n",
              "      <th>ANTIGUEDAD</th>\n",
              "      <th>EDIPISO</th>\n",
              "      <th>IDCATEGORIA</th>\n",
              "      <th>ASCENSOR</th>\n",
              "      <th>LATITUD</th>\n",
              "      <th>LONGITUD</th>\n",
              "      <th>LOCALIDAD</th>\n",
              "      <th>BARRIO</th>\n",
              "      <th>AREA_PRIVADA</th>\n",
              "      <th>AREA_PRIVADA_VALFINAL</th>\n",
              "    </tr>\n",
              "  </thead>\n",
              "  <tbody>\n",
              "    <tr>\n",
              "      <th>0</th>\n",
              "      <td>1</td>\n",
              "      <td>2016-01-05</td>\n",
              "      <td>1</td>\n",
              "      <td>0</td>\n",
              "      <td>2</td>\n",
              "      <td>2</td>\n",
              "      <td>0</td>\n",
              "      <td>2</td>\n",
              "      <td>0</td>\n",
              "      <td>0</td>\n",
              "      <td>2.0</td>\n",
              "      <td>Casa</td>\n",
              "      <td>0</td>\n",
              "      <td>4.518112</td>\n",
              "      <td>-74.090000</td>\n",
              "      <td>SAN CRISTOBAL</td>\n",
              "      <td>YOMASA</td>\n",
              "      <td>39.661019</td>\n",
              "      <td>1.737997e+08</td>\n",
              "    </tr>\n",
              "    <tr>\n",
              "      <th>1</th>\n",
              "      <td>2</td>\n",
              "      <td>2016-01-05</td>\n",
              "      <td>1</td>\n",
              "      <td>0</td>\n",
              "      <td>2</td>\n",
              "      <td>2</td>\n",
              "      <td>0</td>\n",
              "      <td>2</td>\n",
              "      <td>0</td>\n",
              "      <td>0</td>\n",
              "      <td>2.0</td>\n",
              "      <td>Casa</td>\n",
              "      <td>0</td>\n",
              "      <td>4.518112</td>\n",
              "      <td>-74.090000</td>\n",
              "      <td>SAN CRISTOBAL</td>\n",
              "      <td>YOMASA</td>\n",
              "      <td>39.401477</td>\n",
              "      <td>1.743664e+08</td>\n",
              "    </tr>\n",
              "    <tr>\n",
              "      <th>2</th>\n",
              "      <td>3</td>\n",
              "      <td>2016-01-05</td>\n",
              "      <td>1</td>\n",
              "      <td>0</td>\n",
              "      <td>2</td>\n",
              "      <td>2</td>\n",
              "      <td>0</td>\n",
              "      <td>2</td>\n",
              "      <td>0</td>\n",
              "      <td>0</td>\n",
              "      <td>2.0</td>\n",
              "      <td>Casa</td>\n",
              "      <td>0</td>\n",
              "      <td>4.518112</td>\n",
              "      <td>-74.091686</td>\n",
              "      <td>SAN CRISTOBAL</td>\n",
              "      <td>YOMASA</td>\n",
              "      <td>39.420774</td>\n",
              "      <td>1.831345e+08</td>\n",
              "    </tr>\n",
              "    <tr>\n",
              "      <th>3</th>\n",
              "      <td>4</td>\n",
              "      <td>2016-01-05</td>\n",
              "      <td>1</td>\n",
              "      <td>0</td>\n",
              "      <td>2</td>\n",
              "      <td>3</td>\n",
              "      <td>0</td>\n",
              "      <td>24</td>\n",
              "      <td>0</td>\n",
              "      <td>0</td>\n",
              "      <td>NaN</td>\n",
              "      <td>Apartamento</td>\n",
              "      <td>1</td>\n",
              "      <td>4.583075</td>\n",
              "      <td>-74.168148</td>\n",
              "      <td>CIUDAD BOLIVAR</td>\n",
              "      <td>EL PENON DEL CORTIJO</td>\n",
              "      <td>37.464301</td>\n",
              "      <td>2.253010e+08</td>\n",
              "    </tr>\n",
              "    <tr>\n",
              "      <th>4</th>\n",
              "      <td>5</td>\n",
              "      <td>2016-01-05</td>\n",
              "      <td>1</td>\n",
              "      <td>0</td>\n",
              "      <td>2</td>\n",
              "      <td>2</td>\n",
              "      <td>0</td>\n",
              "      <td>6</td>\n",
              "      <td>0</td>\n",
              "      <td>0</td>\n",
              "      <td>2.0</td>\n",
              "      <td>Apartamento</td>\n",
              "      <td>0</td>\n",
              "      <td>4.525112</td>\n",
              "      <td>-74.087588</td>\n",
              "      <td>SAN CRISTOBAL</td>\n",
              "      <td>JUAN REY (LA PAZ)</td>\n",
              "      <td>37.690574</td>\n",
              "      <td>1.759704e+08</td>\n",
              "    </tr>\n",
              "  </tbody>\n",
              "</table>\n",
              "</div>\n",
              "      <button class=\"colab-df-convert\" onclick=\"convertToInteractive('df-ac97bd8a-51e8-46c8-9a53-b92c20dc1772')\"\n",
              "              title=\"Convert this dataframe to an interactive table.\"\n",
              "              style=\"display:none;\">\n",
              "        \n",
              "  <svg xmlns=\"http://www.w3.org/2000/svg\" height=\"24px\"viewBox=\"0 0 24 24\"\n",
              "       width=\"24px\">\n",
              "    <path d=\"M0 0h24v24H0V0z\" fill=\"none\"/>\n",
              "    <path d=\"M18.56 5.44l.94 2.06.94-2.06 2.06-.94-2.06-.94-.94-2.06-.94 2.06-2.06.94zm-11 1L8.5 8.5l.94-2.06 2.06-.94-2.06-.94L8.5 2.5l-.94 2.06-2.06.94zm10 10l.94 2.06.94-2.06 2.06-.94-2.06-.94-.94-2.06-.94 2.06-2.06.94z\"/><path d=\"M17.41 7.96l-1.37-1.37c-.4-.4-.92-.59-1.43-.59-.52 0-1.04.2-1.43.59L10.3 9.45l-7.72 7.72c-.78.78-.78 2.05 0 2.83L4 21.41c.39.39.9.59 1.41.59.51 0 1.02-.2 1.41-.59l7.78-7.78 2.81-2.81c.8-.78.8-2.07 0-2.86zM5.41 20L4 18.59l7.72-7.72 1.47 1.35L5.41 20z\"/>\n",
              "  </svg>\n",
              "      </button>\n",
              "      \n",
              "  <style>\n",
              "    .colab-df-container {\n",
              "      display:flex;\n",
              "      flex-wrap:wrap;\n",
              "      gap: 12px;\n",
              "    }\n",
              "\n",
              "    .colab-df-convert {\n",
              "      background-color: #E8F0FE;\n",
              "      border: none;\n",
              "      border-radius: 50%;\n",
              "      cursor: pointer;\n",
              "      display: none;\n",
              "      fill: #1967D2;\n",
              "      height: 32px;\n",
              "      padding: 0 0 0 0;\n",
              "      width: 32px;\n",
              "    }\n",
              "\n",
              "    .colab-df-convert:hover {\n",
              "      background-color: #E2EBFA;\n",
              "      box-shadow: 0px 1px 2px rgba(60, 64, 67, 0.3), 0px 1px 3px 1px rgba(60, 64, 67, 0.15);\n",
              "      fill: #174EA6;\n",
              "    }\n",
              "\n",
              "    [theme=dark] .colab-df-convert {\n",
              "      background-color: #3B4455;\n",
              "      fill: #D2E3FC;\n",
              "    }\n",
              "\n",
              "    [theme=dark] .colab-df-convert:hover {\n",
              "      background-color: #434B5C;\n",
              "      box-shadow: 0px 1px 3px 1px rgba(0, 0, 0, 0.15);\n",
              "      filter: drop-shadow(0px 1px 2px rgba(0, 0, 0, 0.3));\n",
              "      fill: #FFFFFF;\n",
              "    }\n",
              "  </style>\n",
              "\n",
              "      <script>\n",
              "        const buttonEl =\n",
              "          document.querySelector('#df-ac97bd8a-51e8-46c8-9a53-b92c20dc1772 button.colab-df-convert');\n",
              "        buttonEl.style.display =\n",
              "          google.colab.kernel.accessAllowed ? 'block' : 'none';\n",
              "\n",
              "        async function convertToInteractive(key) {\n",
              "          const element = document.querySelector('#df-ac97bd8a-51e8-46c8-9a53-b92c20dc1772');\n",
              "          const dataTable =\n",
              "            await google.colab.kernel.invokeFunction('convertToInteractive',\n",
              "                                                     [key], {});\n",
              "          if (!dataTable) return;\n",
              "\n",
              "          const docLinkHtml = 'Like what you see? Visit the ' +\n",
              "            '<a target=\"_blank\" href=https://colab.research.google.com/notebooks/data_table.ipynb>data table notebook</a>'\n",
              "            + ' to learn more about interactive tables.';\n",
              "          element.innerHTML = '';\n",
              "          dataTable['output_type'] = 'display_data';\n",
              "          await google.colab.output.renderOutput(dataTable, element);\n",
              "          const docLink = document.createElement('div');\n",
              "          docLink.innerHTML = docLinkHtml;\n",
              "          element.appendChild(docLink);\n",
              "        }\n",
              "      </script>\n",
              "    </div>\n",
              "  </div>\n",
              "  "
            ]
          },
          "metadata": {},
          "execution_count": 105
        }
      ],
      "source": [
        "Bolivar = pd.read_excel(\"/content/drive/MyDrive/U CENTRAL ECONOMÍA/PRACTICAS/GRUPO BOLIVAR/base_prueba (1).xlsx\", sheet_name=\"Hoja 1\",header=0, index_col=None) \n",
        "Bolivar.head()"
      ]
    },
    {
      "cell_type": "code",
      "source": [
        "Bolivar.info()"
      ],
      "metadata": {
        "id": "GhM7Q0tpv7E8"
      },
      "execution_count": null,
      "outputs": []
    },
    {
      "cell_type": "code",
      "source": [
        "Bolivar.describe()"
      ],
      "metadata": {
        "id": "r8hDe08Ew7hN"
      },
      "execution_count": null,
      "outputs": []
    },
    {
      "cell_type": "markdown",
      "source": [
        "**Avaluo del Inmueble**\n",
        "\\begin{equation}\n",
        "Avaluo = β_1(N_{Habitaciones})+β_2(N_{Baños})+β_3(Estrato)+β_4(N_{Garajes})+β_5(N_{Pisos})+β_5(N_{Antiguedad})+β_6(N_{ ascensores})\n",
        "\\end{equation}\n"
      ],
      "metadata": {
        "id": "XUxMU08bx534"
      }
    },
    {
      "cell_type": "code",
      "source": [
        "Bolivar=Bolivar.corr(method=\"spearman\") \n",
        "sns.heatmap(Bolivar,annot=True) # Diagrama de correlacion "
      ],
      "metadata": {
        "id": "eJ-9Gl2s5kvA"
      },
      "execution_count": null,
      "outputs": []
    },
    {
      "cell_type": "code",
      "source": [
        "corr_matrix = Bolivar.corr(method='pearson')\n",
        "corr_matrix"
      ],
      "metadata": {
        "id": "yhD_3mWj89lE"
      },
      "execution_count": null,
      "outputs": []
    },
    {
      "cell_type": "code",
      "source": [
        "est = smf.ols(formula='Bolivar[\"AREA_PRIVADA_VALFINAL\"]~ Bolivar[\"ESTRATO\"] + Bolivar[\"HABITACIONES\"]+ Bolivar[\"TOTALGARAJES\"]+Bolivar[\"EDIPISO\"]+Bolivar[\"ASCENSOR\"]', data = Bolivar ).fit() # regresion lineal \n",
        "est.summary()"
      ],
      "metadata": {
        "id": "Y3L2B4RWAiP4"
      },
      "execution_count": null,
      "outputs": []
    }
  ],
  "metadata": {
    "colab": {
      "collapsed_sections": [],
      "name": "Modelador estadistico",
      "provenance": [],
      "mount_file_id": "19Tvcm-zzDM4uk6bMFtYi2fQ368OOQPd3",
      "authorship_tag": "ABX9TyNfwLJQJjsKiqO9bwbmFjzG",
      "include_colab_link": true
    },
    "kernelspec": {
      "display_name": "Python 3",
      "name": "python3"
    },
    "language_info": {
      "name": "python"
    }
  },
  "nbformat": 4,
  "nbformat_minor": 0
}
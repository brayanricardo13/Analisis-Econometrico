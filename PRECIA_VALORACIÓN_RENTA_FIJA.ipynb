{
  "nbformat": 4,
  "nbformat_minor": 0,
  "metadata": {
    "colab": {
      "provenance": [],
      "toc_visible": true,
      "authorship_tag": "ABX9TyO515mKp6FuDn/PSzFdfYlN",
      "include_colab_link": true
    },
    "kernelspec": {
      "name": "python3",
      "display_name": "Python 3"
    },
    "language_info": {
      "name": "python"
    }
  },
  "cells": [
    {
      "cell_type": "markdown",
      "metadata": {
        "id": "view-in-github",
        "colab_type": "text"
      },
      "source": [
        "<a href=\"https://colab.research.google.com/github/brayanricardo13/Analisis-Econometrico/blob/main/PRECIA_VALORACI%C3%93N_RENTA_FIJA.ipynb\" target=\"_parent\"><img src=\"https://colab.research.google.com/assets/colab-badge.svg\" alt=\"Open In Colab\"/></a>"
      ]
    },
    {
      "cell_type": "markdown",
      "source": [
        "# **SX - MX download**"
      ],
      "metadata": {
        "id": "Bs4tErVqiW7J"
      }
    },
    {
      "cell_type": "code",
      "source": [
        "%%shell\n",
        "# Ubuntu no longer distributes chromium-browser outside of snap\n",
        "#\n",
        "# Proposed solution: https://askubuntu.com/questions/1204571/how-to-install-chromium-without-snap\n",
        "\n",
        "# Add debian buster\n",
        "cat > /etc/apt/sources.list.d/debian.list <<'EOF'\n",
        "deb [arch=amd64 signed-by=/usr/share/keyrings/debian-buster.gpg] http://deb.debian.org/debian buster main\n",
        "deb [arch=amd64 signed-by=/usr/share/keyrings/debian-buster-updates.gpg] http://deb.debian.org/debian buster-updates main\n",
        "deb [arch=amd64 signed-by=/usr/share/keyrings/debian-security-buster.gpg] http://deb.debian.org/debian-security buster/updates main\n",
        "EOF\n",
        "\n",
        "# Add keys\n",
        "apt-key adv --keyserver keyserver.ubuntu.com --recv-keys DCC9EFBF77E11517\n",
        "apt-key adv --keyserver keyserver.ubuntu.com --recv-keys 648ACFD622F3D138\n",
        "apt-key adv --keyserver keyserver.ubuntu.com --recv-keys 112695A0E562B32A\n",
        "\n",
        "apt-key export 77E11517 | gpg --dearmour -o /usr/share/keyrings/debian-buster.gpg\n",
        "apt-key export 22F3D138 | gpg --dearmour -o /usr/share/keyrings/debian-buster-updates.gpg\n",
        "apt-key export E562B32A | gpg --dearmour -o /usr/share/keyrings/debian-security-buster.gpg\n",
        "\n",
        "# Prefer debian repo for chromium* packages only\n",
        "# Note the double-blank lines between entries\n",
        "cat > /etc/apt/preferences.d/chromium.pref << 'EOF'\n",
        "Package: *\n",
        "Pin: release a=eoan\n",
        "Pin-Priority: 500\n",
        "\n",
        "Package: *\n",
        "Pin: origin \"deb.debian.org\"\n",
        "Pin-Priority: 300\n",
        "\n",
        "Package: chromium*\n",
        "Pin: origin \"deb.debian.org\"\n",
        "Pin-Priority: 700\n",
        "EOF\n",
        "\n",
        "# Install chromium and chromium-driver\n",
        "apt-get update\n",
        "apt-get install chromium chromium-driver\n",
        "\n",
        "# Install selenium\n",
        "pip install selenium"
      ],
      "metadata": {
        "id": "4Rn3JdEjh6l2",
        "colab": {
          "base_uri": "https://localhost:8080/"
        },
        "outputId": "7e5145d5-8548-4bff-f860-79a118c8e1b0"
      },
      "execution_count": 45,
      "outputs": [
        {
          "output_type": "stream",
          "name": "stdout",
          "text": [
            "Warning: apt-key is deprecated. Manage keyring files in trusted.gpg.d instead (see apt-key(8)).\n",
            "Executing: /tmp/apt-key-gpghome.i9iMXNCB1Y/gpg.1.sh --keyserver keyserver.ubuntu.com --recv-keys DCC9EFBF77E11517\n",
            "gpg: key DCC9EFBF77E11517: \"Debian Stable Release Key (10/buster) <debian-release@lists.debian.org>\" not changed\n",
            "gpg: Total number processed: 1\n",
            "gpg:              unchanged: 1\n",
            "Warning: apt-key is deprecated. Manage keyring files in trusted.gpg.d instead (see apt-key(8)).\n",
            "Executing: /tmp/apt-key-gpghome.y1ZT0t65Nz/gpg.1.sh --keyserver keyserver.ubuntu.com --recv-keys 648ACFD622F3D138\n",
            "gpg: key DC30D7C23CBBABEE: \"Debian Archive Automatic Signing Key (10/buster) <ftpmaster@debian.org>\" not changed\n",
            "gpg: Total number processed: 1\n",
            "gpg:              unchanged: 1\n",
            "Warning: apt-key is deprecated. Manage keyring files in trusted.gpg.d instead (see apt-key(8)).\n",
            "Executing: /tmp/apt-key-gpghome.UlIy2bIgmr/gpg.1.sh --keyserver keyserver.ubuntu.com --recv-keys 112695A0E562B32A\n",
            "gpg: key 4DFAB270CAA96DFA: \"Debian Security Archive Automatic Signing Key (10/buster) <ftpmaster@debian.org>\" not changed\n",
            "gpg: Total number processed: 1\n",
            "gpg:              unchanged: 1\n",
            "gpg: cannot open '/dev/tty': No such device or address\n",
            "Warning: apt-key is deprecated. Manage keyring files in trusted.gpg.d instead (see apt-key(8)).\n",
            "gpg: [stdout]: write error: Broken pipe\n",
            "gpg: filter_flush failed on close: Broken pipe\n",
            "gpg: cannot open '/dev/tty': No such device or address\n",
            "Warning: apt-key is deprecated. Manage keyring files in trusted.gpg.d instead (see apt-key(8)).\n",
            "gpg: [stdout]: write error: Broken pipe\n",
            "gpg: filter_flush failed on close: Broken pipe\n",
            "gpg: cannot open '/dev/tty': No such device or address\n",
            "Warning: apt-key is deprecated. Manage keyring files in trusted.gpg.d instead (see apt-key(8)).\n",
            "gpg: [stdout]: write error: Broken pipe\n",
            "gpg: filter_flush failed on close: Broken pipe\n",
            "Hit:1 http://deb.debian.org/debian buster InRelease\n",
            "Hit:2 https://cloud.r-project.org/bin/linux/ubuntu jammy-cran40/ InRelease\n",
            "Hit:3 http://deb.debian.org/debian buster-updates InRelease\n",
            "Hit:4 https://developer.download.nvidia.com/compute/cuda/repos/ubuntu2204/x86_64  InRelease\n",
            "Hit:5 http://deb.debian.org/debian-security buster/updates InRelease\n",
            "Hit:6 http://security.ubuntu.com/ubuntu jammy-security InRelease\n",
            "Hit:7 http://archive.ubuntu.com/ubuntu jammy InRelease\n",
            "Get:8 http://archive.ubuntu.com/ubuntu jammy-updates InRelease [119 kB]\n",
            "Hit:9 https://ppa.launchpadcontent.net/c2d4u.team/c2d4u4.0+/ubuntu jammy InRelease\n",
            "Get:10 http://archive.ubuntu.com/ubuntu jammy-backports InRelease [108 kB]\n",
            "Hit:11 https://ppa.launchpadcontent.net/deadsnakes/ppa/ubuntu jammy InRelease\n",
            "Hit:12 https://ppa.launchpadcontent.net/graphics-drivers/ppa/ubuntu jammy InRelease\n",
            "Hit:13 https://ppa.launchpadcontent.net/ubuntugis/ppa/ubuntu jammy InRelease\n",
            "Fetched 226 kB in 2s (116 kB/s)\n",
            "Reading package lists... Done\n",
            "Reading package lists... Done\n",
            "Building dependency tree... Done\n",
            "Reading state information... Done\n",
            "chromium is already the newest version (90.0.4430.212-1~deb10u1).\n",
            "chromium-driver is already the newest version (90.0.4430.212-1~deb10u1).\n",
            "0 upgraded, 0 newly installed, 0 to remove and 19 not upgraded.\n",
            "Requirement already satisfied: selenium in /usr/local/lib/python3.10/dist-packages (4.11.2)\n",
            "Requirement already satisfied: urllib3[socks]<3,>=1.26 in /usr/local/lib/python3.10/dist-packages (from selenium) (1.26.16)\n",
            "Requirement already satisfied: trio~=0.17 in /usr/local/lib/python3.10/dist-packages (from selenium) (0.22.2)\n",
            "Requirement already satisfied: trio-websocket~=0.9 in /usr/local/lib/python3.10/dist-packages (from selenium) (0.10.3)\n",
            "Requirement already satisfied: certifi>=2021.10.8 in /usr/local/lib/python3.10/dist-packages (from selenium) (2023.7.22)\n",
            "Requirement already satisfied: attrs>=20.1.0 in /usr/local/lib/python3.10/dist-packages (from trio~=0.17->selenium) (23.1.0)\n",
            "Requirement already satisfied: sortedcontainers in /usr/local/lib/python3.10/dist-packages (from trio~=0.17->selenium) (2.4.0)\n",
            "Requirement already satisfied: idna in /usr/local/lib/python3.10/dist-packages (from trio~=0.17->selenium) (3.4)\n",
            "Requirement already satisfied: outcome in /usr/local/lib/python3.10/dist-packages (from trio~=0.17->selenium) (1.2.0)\n",
            "Requirement already satisfied: sniffio in /usr/local/lib/python3.10/dist-packages (from trio~=0.17->selenium) (1.3.0)\n",
            "Requirement already satisfied: exceptiongroup>=1.0.0rc9 in /usr/local/lib/python3.10/dist-packages (from trio~=0.17->selenium) (1.1.2)\n",
            "Requirement already satisfied: wsproto>=0.14 in /usr/local/lib/python3.10/dist-packages (from trio-websocket~=0.9->selenium) (1.2.0)\n",
            "Requirement already satisfied: PySocks!=1.5.7,<2.0,>=1.5.6 in /usr/local/lib/python3.10/dist-packages (from urllib3[socks]<3,>=1.26->selenium) (1.7.1)\n",
            "Requirement already satisfied: h11<1,>=0.9.0 in /usr/local/lib/python3.10/dist-packages (from wsproto>=0.14->trio-websocket~=0.9->selenium) (0.14.0)\n"
          ]
        },
        {
          "output_type": "execute_result",
          "data": {
            "text/plain": []
          },
          "metadata": {},
          "execution_count": 45
        }
      ]
    },
    {
      "cell_type": "code",
      "source": [
        "from selenium import webdriver\n",
        "from selenium.webdriver.support.ui import Select"
      ],
      "metadata": {
        "id": "XL4XbT_tim-6"
      },
      "execution_count": 46,
      "outputs": []
    },
    {
      "cell_type": "code",
      "source": [
        "import os\n",
        "import time\n",
        "import warnings\n",
        "import numpy as np\n",
        "import pandas as pd"
      ],
      "metadata": {
        "id": "z6rANc0JiwDg"
      },
      "execution_count": 47,
      "outputs": []
    },
    {
      "cell_type": "code",
      "source": [
        "from IPython.display import Image\n",
        "from bs4 import BeautifulSoup\n",
        "from pandas.tseries.offsets import MonthEnd"
      ],
      "metadata": {
        "id": "bvnT0Xhxi2xG"
      },
      "execution_count": 48,
      "outputs": []
    },
    {
      "cell_type": "code",
      "source": [
        "warnings.filterwarnings(\"ignore\")\n",
        ""
      ],
      "metadata": {
        "id": "OnIN260Qi4H1"
      },
      "execution_count": 49,
      "outputs": []
    },
    {
      "cell_type": "code",
      "source": [
        "def web_driver():\n",
        "  chrome_options = webdriver.ChromeOptions()\n",
        "\n",
        "  chrome_options.add_argument('--verbose')\n",
        "  chrome_options.add_argument('--no-sandbox')\n",
        "  chrome_options.add_argument('--headless')\n",
        "  chrome_options.add_argument('--disable-gpu')\n",
        "  chrome_options.add_argument('--window-size=1420,1080')\n",
        "  chrome_options.add_argument('--disable-dev-shm-usage')\n",
        "\n",
        "  driver = webdriver.Chrome(options=chrome_options)\n",
        "\n",
        "  return driver\n",
        "\n"
      ],
      "metadata": {
        "id": "zQgFhVzWi6LR"
      },
      "execution_count": 50,
      "outputs": []
    },
    {
      "cell_type": "code",
      "source": [
        "def month_days_range(year, month):\n",
        "\n",
        "    base_date = pd.Timestamp(year, month, 1)\n",
        "\n",
        "    first_day = base_date.day\n",
        "    last_day = (base_date + MonthEnd()).day\n",
        "\n",
        "    return range(first_day,last_day + 1)\n",
        ""
      ],
      "metadata": {
        "id": "2wlOw-gcjBFW"
      },
      "execution_count": 51,
      "outputs": []
    },
    {
      "cell_type": "code",
      "source": [
        "def date_range(year, month):\n",
        "\n",
        "    initial_date = pd.Timestamp(year, month, 1)\n",
        "    final_date = (initial_date + MonthEnd())\n",
        "\n",
        "    first_day = initial_date.day\n",
        "    last_day = final_date.day\n",
        "\n",
        "    days_range_ = range(first_day,last_day + 1)\n",
        "    date_range_ = pd.date_range(initial_date,final_date)\n",
        "\n",
        "    return date_range_, days_range_"
      ],
      "metadata": {
        "id": "3k4e99mBjD1V"
      },
      "execution_count": 52,
      "outputs": []
    },
    {
      "cell_type": "code",
      "source": [
        "def download_sx(driver,year,month,day):\n",
        "\n",
        "  MONTHS = {1:'Ene',2:'Feb',3:'Mar',4:'Abr',5:'May',6:'Jun',7:'Jul',8:'Ago',9:'Sep',10:'Oct',11:'Nov',12:'Dic'}\n",
        "  month = MONTHS[month]\n",
        "\n",
        "  select_element_year = driver.find_element(by = 'xpath',value = '//form[@id = \"form\" and @method = \"post\"]//div[@class = \"ui-fieldset-content\"]//span//div/select[@class = \"ui-datepicker-year\"]')\n",
        "  select_year = Select(select_element_year)\n",
        "  select_year.select_by_visible_text(str(year))\n",
        "\n",
        "  time.sleep(3)\n",
        "  select_element_month = driver.find_element(by = 'xpath',value = '//form[@id = \"form\" and @method = \"post\"]//div[@class = \"ui-fieldset-content\"]//span//div/select[@class = \"ui-datepicker-month\"]')\n",
        "  select_month = Select(select_element_month)\n",
        "  select_month.select_by_visible_text(month)\n",
        "\n",
        "  time.sleep(3)\n",
        "  day = driver.find_element(by = 'xpath',value = '//form[@id = \"form\" and @method = \"post\"]//div[@class = \"ui-fieldset-content\"]//span//table/tbody/tr/td[@data-handler = \"selectDay\"]/a[text() = {0}]'.format(day))\n",
        "\n",
        "  time.sleep(3)\n",
        "  day.click()\n",
        "\n",
        "  time.sleep(2)\n",
        "  sx = driver.find_element(by = 'xpath',value = '//form[@id = \"form\" and @method = \"post\"]//div[@class = \"ui-fieldset-content\"]/div[@id = \"form:TablaValoracionRentaFija\"]/div[@class=\"ui-datatable-tablewrapper\"]//tbody/tr[contains(@data-rk,\"SX\")]/td[last()]//a')\n",
        "\n",
        "  time.sleep(3)\n",
        "  sx.click()"
      ],
      "metadata": {
        "id": "lAiyGEisjKn6"
      },
      "execution_count": 53,
      "outputs": []
    },
    {
      "cell_type": "code",
      "source": [
        "def reload(driver):\n",
        "\n",
        "    driver.get(URLS['renta_fija'])\n",
        "\n",
        "    renta_fija = driver.find_element(by = 'id',value = 'arin')\n",
        "    time.sleep(3)\n",
        "    renta_fija.click()\n",
        "\n",
        "    iframe = driver.find_element(by = 'id',value =  'BranderFrame')\n",
        "    driver.switch_to.frame(iframe)"
      ],
      "metadata": {
        "id": "XU61dPGfjPI2"
      },
      "execution_count": 54,
      "outputs": []
    },
    {
      "cell_type": "code",
      "source": [
        "def download_mx_loop(year,month,day_range,today):\n",
        "\n",
        "    range_ = np.array(day_range)\n",
        "    indexes = list()\n",
        "\n",
        "    for index, day in enumerate(day_range):\n",
        "        date = pd.Timestamp(year,month,day)\n",
        "\n",
        "        if not(date < today):\n",
        "          break\n",
        "\n",
        "        try:\n",
        "            download_mx(driver,year,month,day)\n",
        "            print(\"MX del {0} descargado.\".format(date.strftime('%Y-%m-%d')))\n",
        "            indexes.append(index)\n",
        "            time.sleep(3)\n",
        "\n",
        "        except:\n",
        "            print(\"\\tRevisar: MX del {0} no descargado.\".format(date.strftime('%Y-%m-%d')))\n",
        "            time.sleep(3)\n",
        "\n",
        "            return range(range_[range_ >= (day)].min(),range_[range_ > (day - 1)].max() + 1)\n",
        "            break\n",
        "\n",
        "    return None"
      ],
      "metadata": {
        "id": "roU75kbLjTjQ"
      },
      "execution_count": 55,
      "outputs": []
    },
    {
      "cell_type": "code",
      "source": [
        "def download_mx(driver,year,month,day):\n",
        "\n",
        "  MONTHS = {1:'Ene',2:'Feb',3:'Mar',4:'Abr',5:'May',6:'Jun',7:'Jul',8:'Ago',9:'Sep',10:'Oct',11:'Nov',12:'Dic'}\n",
        "  month = MONTHS[month]\n",
        "\n",
        "  select_element_year = driver.find_element(by = 'xpath',value = '//form[@id = \"form\" and @method = \"post\"]//div[@class = \"ui-fieldset-content\"]//span//div/select[@class = \"ui-datepicker-year\"]')\n",
        "  select_year = Select(select_element_year)\n",
        "  select_year.select_by_visible_text(str(year))\n",
        "\n",
        "  time.sleep(3)\n",
        "  select_element_month = driver.find_element(by = 'xpath',value = '//form[@id = \"form\" and @method = \"post\"]//div[@class = \"ui-fieldset-content\"]//span//div/select[@class = \"ui-datepicker-month\"]')\n",
        "  select_month = Select(select_element_month)\n",
        "  select_month.select_by_visible_text(month)\n",
        "\n",
        "  time.sleep(3)\n",
        "  day = driver.find_element(by = 'xpath',value = '//form[@id = \"form\" and @method = \"post\"]//div[@class = \"ui-fieldset-content\"]//span//table/tbody/tr/td[@data-handler = \"selectDay\"]/a[text() = {0}]'.format(day))\n",
        "\n",
        "  time.sleep(3)\n",
        "  day.click()\n",
        "\n",
        "  time.sleep(2)\n",
        "  mx = driver.find_element(by = 'xpath',value = '//form[@id = \"form\" and @method = \"post\"]//div[@class = \"ui-datatable-tablewrapper\"]//tbody/tr//label[contains(text(),\"MX\") and not(contains(text(),\"_\"))]/parent::td/following-sibling::td//a')\n",
        "\n",
        "  time.sleep(3)\n",
        "  mx.click()"
      ],
      "metadata": {
        "id": "9yShpHhfjVMU"
      },
      "execution_count": 56,
      "outputs": []
    },
    {
      "cell_type": "code",
      "source": [
        "def sx_download(driver:webdriver,year:int,month:int,day:int = None):\n",
        "\n",
        "  year_range = years_range(driver)\n",
        "  month_range = range(1,12 + 1)\n",
        "  date_range_, day_range = date_range(year, month)\n",
        "\n",
        "  condition1 = year in year_range\n",
        "  condition2 = month in month_range\n",
        "  condition3 = day in day_range\n",
        "\n",
        "  conditions1 = np.all([condition1,condition2,condition3])\n",
        "  conditions2 = np.all([condition1,condition2])\n",
        "\n",
        "  if conditions1:\n",
        "    date = pd.Timestamp(year,month,day)\n",
        "\n",
        "    try:\n",
        "      download_sx(driver,year,month,day)\n",
        "      print(\"SX del {0} descargado.\".format(date.strftime('%Y-%m-%d')))\n",
        "      time.sleep(2)\n",
        "    except:\n",
        "      print(\"\\tRevisar: SX del {0} no descargado.\".format(date.strftime('%Y-%m-%d')))\n",
        "      time.sleep(2)\n",
        "\n",
        "  elif (day is None) and conditions2:\n",
        "\n",
        "    today_date = pd.Timestamp.today(tz = 'America/Bogota')\n",
        "    today = pd.Timestamp(today_date.year,today_date.month,today_date.day)\n",
        "\n",
        "    for day in day_range:\n",
        "\n",
        "      date = pd.Timestamp(year,month,day)\n",
        "\n",
        "      if not(date < today):\n",
        "        break\n",
        "\n",
        "      try:\n",
        "        download_sx(driver,year,month,day)\n",
        "        print(\"SX del {0} descargado.\".format(date.strftime('%Y-%m-%d')))\n",
        "        time.sleep(3)\n",
        "      except:\n",
        "        print(\"\\tRevisar: SX del {0} no descargado.\".format(date.strftime('%Y-%m-%d')))\n",
        "        time.sleep(3)\n",
        "\n"
      ],
      "metadata": {
        "id": "ly-wrZkojbV5"
      },
      "execution_count": 57,
      "outputs": []
    },
    {
      "cell_type": "code",
      "source": [
        "def mx_download(driver:webdriver,year:int,month:int,day:int = None):\n",
        "\n",
        "  year_range = years_range(driver)\n",
        "  month_range = range(1,12 + 1)\n",
        "  date_range_, day_range = date_range(year, month)\n",
        "\n",
        "  condition1 = year in year_range\n",
        "  condition2 = month in month_range\n",
        "  condition3 = day in day_range\n",
        "\n",
        "  conditions1 = np.all([condition1,condition2,condition3])\n",
        "  conditions2 = np.all([condition1,condition2])\n",
        "\n",
        "  today_date = pd.Timestamp.today(tz = 'America/Bogota')\n",
        "  today = pd.Timestamp(today_date.year,today_date.month,today_date.day)\n",
        "\n",
        "  if conditions1:\n",
        "    date = pd.Timestamp(year,month,day)\n",
        "\n",
        "    try:\n",
        "      download_mx(driver,year,month,day)\n",
        "      print(\"MX del {0} descargado.\".format(date.strftime('%Y-%m-%d')))\n",
        "      time.sleep(2)\n",
        "    except:\n",
        "      print(\"\\tRevisar: MX del {0} no descargado.\".format(date.strftime('%Y-%m-%d')))\n",
        "      time.sleep(2)\n",
        "\n",
        "  elif (day is None) and conditions2:\n",
        "\n",
        "      range_ = download_mx_loop(year,month,day_range,today)\n",
        "\n",
        "      while not(range_ is None):\n",
        "          range_ = download_mx_loop(year,month,range_,today)\n",
        "          reload(driver)\n",
        "\n",
        "      df_mx_files = files_dataframe(os.getcwd(),date_range_,'mx')\n",
        "      loading_lacking_mx(df_mx_files,date_range_,driver)\n",
        ""
      ],
      "metadata": {
        "id": "SZ_YW88sjhW5"
      },
      "execution_count": 58,
      "outputs": []
    },
    {
      "cell_type": "code",
      "source": [
        "def loading_lacking_mx(df_mx_files,date_range,driver):\n",
        "\n",
        "    if len(df_mx_files.loc[df_mx_files['name'].isna()].index) == 0:\n",
        "\n",
        "      min_date = df_mx_files.index.min().strftime('%Y-%m-%d')\n",
        "      max_date = df_mx_files.index.max().strftime('%Y-%m-%d')\n",
        "\n",
        "      print(\"\\nTodos los MXs desde {0} hasta {1} han sido descargados.\".format(min_date,max_date))\n",
        "\n",
        "    else:\n",
        "\n",
        "      print(\"\\nLos siguientes MXs no han sido descargados correctamente:\\n\")\n",
        "\n",
        "      for date in df_mx_files.loc[df_mx_files['name'].isna()].index:\n",
        "\n",
        "        print(\"\\tMX del {0}\".format(date.strftime('%Y-%m-%d')))\n",
        "\n",
        "      print(\"\\nReanudando proceso.\\n\")\n",
        "\n",
        "      for date in df_mx_files.loc[df_mx_files['name'].isna()].index:\n",
        "\n",
        "        try:\n",
        "          mx_download(driver,date.year,date.month,date.day)\n",
        "        except:\n",
        "          reload(driver)\n",
        "          mx_download(driver,date.year,date.month,date.day)\n",
        "\n",
        "      df_mx_files = files_dataframe(os.getcwd(),date_range,'mx')\n",
        "      loading_lacking_mx(df_mx_files,date_range,driver)\n",
        ""
      ],
      "metadata": {
        "id": "ADbgHiT7jpq9"
      },
      "execution_count": 59,
      "outputs": []
    },
    {
      "cell_type": "code",
      "source": [
        "### returns list of subdirectories and list of files within a directory\n",
        "\n",
        "def list_dir(directory):\n",
        "\n",
        "    directories, files = list(), list()\n",
        "\n",
        "    for filename in os.listdir(directory):\n",
        "\n",
        "        filepath = os.path.join(directory, filename)\n",
        "\n",
        "        if os.path.isfile(filepath):\n",
        "            files.append(filepath)\n",
        "        elif os.path.isdir(filepath):\n",
        "            directories.append(filepath)\n",
        "\n",
        "    return directories, files"
      ],
      "metadata": {
        "id": "zvv9T__2jtZq"
      },
      "execution_count": 60,
      "outputs": []
    },
    {
      "cell_type": "code",
      "source": [
        "### returns list of all files within a directory\n",
        "\n",
        "def list_files(directory):\n",
        "\n",
        "    directories, files = list_dir(directory)\n",
        "\n",
        "    while len(directories) > 0:\n",
        "\n",
        "        directory = directories.pop(0)\n",
        "        directories_, files_ = list_dir(directory)\n",
        "\n",
        "        directories.extend(directories_)\n",
        "        files.extend(files_)\n",
        "\n",
        "    return files"
      ],
      "metadata": {
        "id": "16SG3Z7XjxAC"
      },
      "execution_count": 61,
      "outputs": []
    },
    {
      "cell_type": "code",
      "source": [
        "### returns dataframe with date, name and filepath for the sx or mx in a given date range\n",
        "\n",
        "def files_dataframe(directory,date_range,name):\n",
        "\n",
        "    files = list_files(directory)\n",
        "    files = [file for file in files if name.upper() in file]\n",
        "\n",
        "    df_filepath = pd.DataFrame(columns = ['date','name','filepath'])\n",
        "\n",
        "    for file in files:\n",
        "        date = pd.to_datetime('20' + file[-6:-4] + '-' + file[-10:-8] + '-' + file[-8:-6])\n",
        "        filepath = file\n",
        "\n",
        "        name_ = 'df_{0}_'.format(name) + str(date.year) +str(date.month).zfill(2) + str(date.day).zfill(2)\n",
        "\n",
        "\n",
        "        df_filepath = df_filepath.append({'date':date,\n",
        "                                          'name':name_,\n",
        "                                          'filepath':filepath},\n",
        "                                          ignore_index=True)\n",
        "\n",
        "    df_filepath.set_index(['date'],inplace = True)\n",
        "    df_filepath.index.name = None\n",
        "\n",
        "    df_mx = pd.DataFrame(index = date_range).pipe(\n",
        "                lambda df:\n",
        "                    df\n",
        "                    .merge(df_filepath,\n",
        "                           left_index = True,\n",
        "                           right_index = True,\n",
        "                           how = 'left')\n",
        "                    .sort_index()\n",
        "                )\n",
        "\n",
        "    return df_mx"
      ],
      "metadata": {
        "id": "f5OwBSG5j1bC"
      },
      "execution_count": 62,
      "outputs": []
    },
    {
      "cell_type": "markdown",
      "source": [
        "**Credenciales**"
      ],
      "metadata": {
        "id": "PT5iafAWj5Gs"
      }
    },
    {
      "cell_type": "markdown",
      "source": [
        "# **Credenciales**"
      ],
      "metadata": {
        "id": "Lbt_XvUXkAww"
      }
    },
    {
      "cell_type": "code",
      "source": [
        "CREDENTIALS = {\n",
        "    'user':'diana.rodriguez@fiduciariacorficolombiana.com',\n",
        "    'password':'dic$2020'\n",
        "}"
      ],
      "metadata": {
        "id": "H1DGYDuZkH4p"
      },
      "execution_count": 63,
      "outputs": []
    },
    {
      "cell_type": "code",
      "source": [
        "\n",
        "URLS = {\n",
        "    'login':'https://www.precia.co/wp-login.php',\n",
        "    'renta_fija':'https://www.precia.co/index.php/renta-fija/'\n",
        "}"
      ],
      "metadata": {
        "id": "2ktV9TSvkL4r"
      },
      "execution_count": 66,
      "outputs": []
    },
    {
      "cell_type": "code",
      "source": [
        "driver = web_driver()\n",
        "driver.get(URLS['login'])"
      ],
      "metadata": {
        "colab": {
          "base_uri": "https://localhost:8080/",
          "height": 836
        },
        "id": "EnvQ7KgxkP7y",
        "outputId": "b77f17f4-1f15-422e-97d6-e312a52e57f3"
      },
      "execution_count": 65,
      "outputs": [
        {
          "output_type": "stream",
          "name": "stderr",
          "text": [
            "WARNING:selenium.webdriver.common.selenium_manager:The chromedriver version (90.0.4430.212) detected in PATH at /usr/bin/chromedriver might not be compatible with the detected chrome version (115.0.5790.170); currently, chromedriver 115.0.5790.170 is recommended for chrome 115.*, so it is advised to delete the driver in PATH and retry\n"
          ]
        },
        {
          "output_type": "error",
          "ename": "SessionNotCreatedException",
          "evalue": "ignored",
          "traceback": [
            "\u001b[0;31m---------------------------------------------------------------------------\u001b[0m",
            "\u001b[0;31mSessionNotCreatedException\u001b[0m                Traceback (most recent call last)",
            "\u001b[0;32m<ipython-input-65-1bdf1b5f69a6>\u001b[0m in \u001b[0;36m<cell line: 1>\u001b[0;34m()\u001b[0m\n\u001b[0;32m----> 1\u001b[0;31m \u001b[0mdriver\u001b[0m \u001b[0;34m=\u001b[0m \u001b[0mweb_driver\u001b[0m\u001b[0;34m(\u001b[0m\u001b[0;34m)\u001b[0m\u001b[0;34m\u001b[0m\u001b[0;34m\u001b[0m\u001b[0m\n\u001b[0m\u001b[1;32m      2\u001b[0m \u001b[0mdriver\u001b[0m\u001b[0;34m.\u001b[0m\u001b[0mget\u001b[0m\u001b[0;34m(\u001b[0m\u001b[0mURLS\u001b[0m\u001b[0;34m[\u001b[0m\u001b[0;34m'login'\u001b[0m\u001b[0;34m]\u001b[0m\u001b[0;34m)\u001b[0m\u001b[0;34m\u001b[0m\u001b[0;34m\u001b[0m\u001b[0m\n",
            "\u001b[0;32m<ipython-input-50-8565c322f549>\u001b[0m in \u001b[0;36mweb_driver\u001b[0;34m()\u001b[0m\n\u001b[1;32m      9\u001b[0m   \u001b[0mchrome_options\u001b[0m\u001b[0;34m.\u001b[0m\u001b[0madd_argument\u001b[0m\u001b[0;34m(\u001b[0m\u001b[0;34m'--disable-dev-shm-usage'\u001b[0m\u001b[0;34m)\u001b[0m\u001b[0;34m\u001b[0m\u001b[0;34m\u001b[0m\u001b[0m\n\u001b[1;32m     10\u001b[0m \u001b[0;34m\u001b[0m\u001b[0m\n\u001b[0;32m---> 11\u001b[0;31m   \u001b[0mdriver\u001b[0m \u001b[0;34m=\u001b[0m \u001b[0mwebdriver\u001b[0m\u001b[0;34m.\u001b[0m\u001b[0mChrome\u001b[0m\u001b[0;34m(\u001b[0m\u001b[0moptions\u001b[0m\u001b[0;34m=\u001b[0m\u001b[0mchrome_options\u001b[0m\u001b[0;34m)\u001b[0m\u001b[0;34m\u001b[0m\u001b[0;34m\u001b[0m\u001b[0m\n\u001b[0m\u001b[1;32m     12\u001b[0m \u001b[0;34m\u001b[0m\u001b[0m\n\u001b[1;32m     13\u001b[0m   \u001b[0;32mreturn\u001b[0m \u001b[0mdriver\u001b[0m\u001b[0;34m\u001b[0m\u001b[0;34m\u001b[0m\u001b[0m\n",
            "\u001b[0;32m/usr/local/lib/python3.10/dist-packages/selenium/webdriver/chrome/webdriver.py\u001b[0m in \u001b[0;36m__init__\u001b[0;34m(self, options, service, keep_alive)\u001b[0m\n\u001b[1;32m     43\u001b[0m         \u001b[0moptions\u001b[0m \u001b[0;34m=\u001b[0m \u001b[0moptions\u001b[0m \u001b[0;32mif\u001b[0m \u001b[0moptions\u001b[0m \u001b[0;32melse\u001b[0m \u001b[0mOptions\u001b[0m\u001b[0;34m(\u001b[0m\u001b[0;34m)\u001b[0m\u001b[0;34m\u001b[0m\u001b[0;34m\u001b[0m\u001b[0m\n\u001b[1;32m     44\u001b[0m \u001b[0;34m\u001b[0m\u001b[0m\n\u001b[0;32m---> 45\u001b[0;31m         super().__init__(\n\u001b[0m\u001b[1;32m     46\u001b[0m             \u001b[0mDesiredCapabilities\u001b[0m\u001b[0;34m.\u001b[0m\u001b[0mCHROME\u001b[0m\u001b[0;34m[\u001b[0m\u001b[0;34m\"browserName\"\u001b[0m\u001b[0;34m]\u001b[0m\u001b[0;34m,\u001b[0m\u001b[0;34m\u001b[0m\u001b[0;34m\u001b[0m\u001b[0m\n\u001b[1;32m     47\u001b[0m             \u001b[0;34m\"goog\"\u001b[0m\u001b[0;34m,\u001b[0m\u001b[0;34m\u001b[0m\u001b[0;34m\u001b[0m\u001b[0m\n",
            "\u001b[0;32m/usr/local/lib/python3.10/dist-packages/selenium/webdriver/chromium/webdriver.py\u001b[0m in \u001b[0;36m__init__\u001b[0;34m(self, browser_name, vendor_prefix, options, service, keep_alive)\u001b[0m\n\u001b[1;32m     54\u001b[0m \u001b[0;34m\u001b[0m\u001b[0m\n\u001b[1;32m     55\u001b[0m         \u001b[0;32mtry\u001b[0m\u001b[0;34m:\u001b[0m\u001b[0;34m\u001b[0m\u001b[0;34m\u001b[0m\u001b[0m\n\u001b[0;32m---> 56\u001b[0;31m             super().__init__(\n\u001b[0m\u001b[1;32m     57\u001b[0m                 command_executor=ChromiumRemoteConnection(\n\u001b[1;32m     58\u001b[0m                     \u001b[0mremote_server_addr\u001b[0m\u001b[0;34m=\u001b[0m\u001b[0mself\u001b[0m\u001b[0;34m.\u001b[0m\u001b[0mservice\u001b[0m\u001b[0;34m.\u001b[0m\u001b[0mservice_url\u001b[0m\u001b[0;34m,\u001b[0m\u001b[0;34m\u001b[0m\u001b[0;34m\u001b[0m\u001b[0m\n",
            "\u001b[0;32m/usr/local/lib/python3.10/dist-packages/selenium/webdriver/remote/webdriver.py\u001b[0m in \u001b[0;36m__init__\u001b[0;34m(self, command_executor, keep_alive, file_detector, options)\u001b[0m\n\u001b[1;32m    204\u001b[0m         \u001b[0mself\u001b[0m\u001b[0;34m.\u001b[0m\u001b[0m_authenticator_id\u001b[0m \u001b[0;34m=\u001b[0m \u001b[0;32mNone\u001b[0m\u001b[0;34m\u001b[0m\u001b[0;34m\u001b[0m\u001b[0m\n\u001b[1;32m    205\u001b[0m         \u001b[0mself\u001b[0m\u001b[0;34m.\u001b[0m\u001b[0mstart_client\u001b[0m\u001b[0;34m(\u001b[0m\u001b[0;34m)\u001b[0m\u001b[0;34m\u001b[0m\u001b[0;34m\u001b[0m\u001b[0m\n\u001b[0;32m--> 206\u001b[0;31m         \u001b[0mself\u001b[0m\u001b[0;34m.\u001b[0m\u001b[0mstart_session\u001b[0m\u001b[0;34m(\u001b[0m\u001b[0mcapabilities\u001b[0m\u001b[0;34m)\u001b[0m\u001b[0;34m\u001b[0m\u001b[0;34m\u001b[0m\u001b[0m\n\u001b[0m\u001b[1;32m    207\u001b[0m \u001b[0;34m\u001b[0m\u001b[0m\n\u001b[1;32m    208\u001b[0m     \u001b[0;32mdef\u001b[0m \u001b[0m__repr__\u001b[0m\u001b[0;34m(\u001b[0m\u001b[0mself\u001b[0m\u001b[0;34m)\u001b[0m\u001b[0;34m:\u001b[0m\u001b[0;34m\u001b[0m\u001b[0;34m\u001b[0m\u001b[0m\n",
            "\u001b[0;32m/usr/local/lib/python3.10/dist-packages/selenium/webdriver/remote/webdriver.py\u001b[0m in \u001b[0;36mstart_session\u001b[0;34m(self, capabilities)\u001b[0m\n\u001b[1;32m    288\u001b[0m \u001b[0;34m\u001b[0m\u001b[0m\n\u001b[1;32m    289\u001b[0m         \u001b[0mcaps\u001b[0m \u001b[0;34m=\u001b[0m \u001b[0m_create_caps\u001b[0m\u001b[0;34m(\u001b[0m\u001b[0mcapabilities\u001b[0m\u001b[0;34m)\u001b[0m\u001b[0;34m\u001b[0m\u001b[0;34m\u001b[0m\u001b[0m\n\u001b[0;32m--> 290\u001b[0;31m         \u001b[0mresponse\u001b[0m \u001b[0;34m=\u001b[0m \u001b[0mself\u001b[0m\u001b[0;34m.\u001b[0m\u001b[0mexecute\u001b[0m\u001b[0;34m(\u001b[0m\u001b[0mCommand\u001b[0m\u001b[0;34m.\u001b[0m\u001b[0mNEW_SESSION\u001b[0m\u001b[0;34m,\u001b[0m \u001b[0mcaps\u001b[0m\u001b[0;34m)\u001b[0m\u001b[0;34m[\u001b[0m\u001b[0;34m\"value\"\u001b[0m\u001b[0;34m]\u001b[0m\u001b[0;34m\u001b[0m\u001b[0;34m\u001b[0m\u001b[0m\n\u001b[0m\u001b[1;32m    291\u001b[0m         \u001b[0mself\u001b[0m\u001b[0;34m.\u001b[0m\u001b[0msession_id\u001b[0m \u001b[0;34m=\u001b[0m \u001b[0mresponse\u001b[0m\u001b[0;34m.\u001b[0m\u001b[0mget\u001b[0m\u001b[0;34m(\u001b[0m\u001b[0;34m\"sessionId\"\u001b[0m\u001b[0;34m)\u001b[0m\u001b[0;34m\u001b[0m\u001b[0;34m\u001b[0m\u001b[0m\n\u001b[1;32m    292\u001b[0m         \u001b[0mself\u001b[0m\u001b[0;34m.\u001b[0m\u001b[0mcaps\u001b[0m \u001b[0;34m=\u001b[0m \u001b[0mresponse\u001b[0m\u001b[0;34m.\u001b[0m\u001b[0mget\u001b[0m\u001b[0;34m(\u001b[0m\u001b[0;34m\"capabilities\"\u001b[0m\u001b[0;34m)\u001b[0m\u001b[0;34m\u001b[0m\u001b[0;34m\u001b[0m\u001b[0m\n",
            "\u001b[0;32m/usr/local/lib/python3.10/dist-packages/selenium/webdriver/remote/webdriver.py\u001b[0m in \u001b[0;36mexecute\u001b[0;34m(self, driver_command, params)\u001b[0m\n\u001b[1;32m    343\u001b[0m         \u001b[0mresponse\u001b[0m \u001b[0;34m=\u001b[0m \u001b[0mself\u001b[0m\u001b[0;34m.\u001b[0m\u001b[0mcommand_executor\u001b[0m\u001b[0;34m.\u001b[0m\u001b[0mexecute\u001b[0m\u001b[0;34m(\u001b[0m\u001b[0mdriver_command\u001b[0m\u001b[0;34m,\u001b[0m \u001b[0mparams\u001b[0m\u001b[0;34m)\u001b[0m\u001b[0;34m\u001b[0m\u001b[0;34m\u001b[0m\u001b[0m\n\u001b[1;32m    344\u001b[0m         \u001b[0;32mif\u001b[0m \u001b[0mresponse\u001b[0m\u001b[0;34m:\u001b[0m\u001b[0;34m\u001b[0m\u001b[0;34m\u001b[0m\u001b[0m\n\u001b[0;32m--> 345\u001b[0;31m             \u001b[0mself\u001b[0m\u001b[0;34m.\u001b[0m\u001b[0merror_handler\u001b[0m\u001b[0;34m.\u001b[0m\u001b[0mcheck_response\u001b[0m\u001b[0;34m(\u001b[0m\u001b[0mresponse\u001b[0m\u001b[0;34m)\u001b[0m\u001b[0;34m\u001b[0m\u001b[0;34m\u001b[0m\u001b[0m\n\u001b[0m\u001b[1;32m    346\u001b[0m             \u001b[0mresponse\u001b[0m\u001b[0;34m[\u001b[0m\u001b[0;34m\"value\"\u001b[0m\u001b[0;34m]\u001b[0m \u001b[0;34m=\u001b[0m \u001b[0mself\u001b[0m\u001b[0;34m.\u001b[0m\u001b[0m_unwrap_value\u001b[0m\u001b[0;34m(\u001b[0m\u001b[0mresponse\u001b[0m\u001b[0;34m.\u001b[0m\u001b[0mget\u001b[0m\u001b[0;34m(\u001b[0m\u001b[0;34m\"value\"\u001b[0m\u001b[0;34m,\u001b[0m \u001b[0;32mNone\u001b[0m\u001b[0;34m)\u001b[0m\u001b[0;34m)\u001b[0m\u001b[0;34m\u001b[0m\u001b[0;34m\u001b[0m\u001b[0m\n\u001b[1;32m    347\u001b[0m             \u001b[0;32mreturn\u001b[0m \u001b[0mresponse\u001b[0m\u001b[0;34m\u001b[0m\u001b[0;34m\u001b[0m\u001b[0m\n",
            "\u001b[0;32m/usr/local/lib/python3.10/dist-packages/selenium/webdriver/remote/errorhandler.py\u001b[0m in \u001b[0;36mcheck_response\u001b[0;34m(self, response)\u001b[0m\n\u001b[1;32m    227\u001b[0m                 \u001b[0malert_text\u001b[0m \u001b[0;34m=\u001b[0m \u001b[0mvalue\u001b[0m\u001b[0;34m[\u001b[0m\u001b[0;34m\"alert\"\u001b[0m\u001b[0;34m]\u001b[0m\u001b[0;34m.\u001b[0m\u001b[0mget\u001b[0m\u001b[0;34m(\u001b[0m\u001b[0;34m\"text\"\u001b[0m\u001b[0;34m)\u001b[0m\u001b[0;34m\u001b[0m\u001b[0;34m\u001b[0m\u001b[0m\n\u001b[1;32m    228\u001b[0m             \u001b[0;32mraise\u001b[0m \u001b[0mexception_class\u001b[0m\u001b[0;34m(\u001b[0m\u001b[0mmessage\u001b[0m\u001b[0;34m,\u001b[0m \u001b[0mscreen\u001b[0m\u001b[0;34m,\u001b[0m \u001b[0mstacktrace\u001b[0m\u001b[0;34m,\u001b[0m \u001b[0malert_text\u001b[0m\u001b[0;34m)\u001b[0m  \u001b[0;31m# type: ignore[call-arg]  # mypy is not smart enough here\u001b[0m\u001b[0;34m\u001b[0m\u001b[0;34m\u001b[0m\u001b[0m\n\u001b[0;32m--> 229\u001b[0;31m         \u001b[0;32mraise\u001b[0m \u001b[0mexception_class\u001b[0m\u001b[0;34m(\u001b[0m\u001b[0mmessage\u001b[0m\u001b[0;34m,\u001b[0m \u001b[0mscreen\u001b[0m\u001b[0;34m,\u001b[0m \u001b[0mstacktrace\u001b[0m\u001b[0;34m)\u001b[0m\u001b[0;34m\u001b[0m\u001b[0;34m\u001b[0m\u001b[0m\n\u001b[0m",
            "\u001b[0;31mSessionNotCreatedException\u001b[0m: Message: session not created: This version of ChromeDriver only supports Chrome version 90\nCurrent browser version is 115.0.5790.170 with binary path /root/.cache/selenium/chrome/linux64/115.0.5790.170/chrome\nStacktrace:\n#0 0x56abbb6ed7f9 <unknown>\n#1 0x56abbb68d3b3 <unknown>\n#2 0x56abbb3d5016 <unknown>\n#3 0x56abbb3fbe4a <unknown>\n#4 0x56abbb3f799a <unknown>\n#5 0x56abbb3f489a <unknown>\n#6 0x56abbb43200a <unknown>\n#7 0x56abbb42cc93 <unknown>\n#8 0x56abbb3fece4 <unknown>\n#9 0x56abbb4004d2 <unknown>\n#10 0x56abbb6b9542 <unknown>\n#11 0x56abbb6c8ce7 <unknown>\n#12 0x56abbb6c89e4 <unknown>\n#13 0x56abbb6cd13a <unknown>\n#14 0x56abbb6c95b9 <unknown>\n#15 0x56abbb6aee00 <unknown>\n#16 0x56abbb6e05d2 <unknown>\n#17 0x56abbb6e0778 <unknown>\n#18 0x56abbb6f8a1f <unknown>\n#19 0x7c107ce40b43 <unknown>\n#20 0x7c107ced2a00 <unknown>\n"
          ]
        }
      ]
    },
    {
      "cell_type": "code",
      "source": [
        "user.send_keys(CREDENTIALS['user'])\n",
        "password.send_keys(CREDENTIALS['password'])"
      ],
      "metadata": {
        "id": "1vIvtMvwkT7d"
      },
      "execution_count": null,
      "outputs": []
    },
    {
      "cell_type": "code",
      "source": [
        "time.sleep(3)\n",
        "access.click()"
      ],
      "metadata": {
        "id": "I-AFHtTdkYel"
      },
      "execution_count": null,
      "outputs": []
    },
    {
      "cell_type": "markdown",
      "source": [
        "#**SX**"
      ],
      "metadata": {
        "id": "vPxhJ1uukjmZ"
      }
    },
    {
      "cell_type": "code",
      "source": [
        "# Image(driver.get_screenshot_as_png())"
      ],
      "metadata": {
        "id": "c7FNuCD7knuN"
      },
      "execution_count": null,
      "outputs": []
    },
    {
      "cell_type": "code",
      "source": [
        "driver.get(URLS['renta_fija'])"
      ],
      "metadata": {
        "id": "DRzWaGT-kuKa"
      },
      "execution_count": null,
      "outputs": []
    },
    {
      "cell_type": "code",
      "source": [
        "renta_fija = driver.find_element(by = 'id',value = 'arlo')\n",
        "time.sleep(3)\n",
        "renta_fija.click()"
      ],
      "metadata": {
        "id": "hHvVjcqhkwPQ"
      },
      "execution_count": null,
      "outputs": []
    },
    {
      "cell_type": "code",
      "source": [
        "iframe = driver.find_element(by = 'id',value =  'BranderFrame')\n",
        "driver.switch_to.frame(iframe)"
      ],
      "metadata": {
        "id": "fNrbZWcikx4Z"
      },
      "execution_count": null,
      "outputs": []
    },
    {
      "cell_type": "code",
      "source": [
        "sx_download(driver,2023,8,1)"
      ],
      "metadata": {
        "id": "cN7s6w4ukzzd"
      },
      "execution_count": null,
      "outputs": []
    }
  ]
}
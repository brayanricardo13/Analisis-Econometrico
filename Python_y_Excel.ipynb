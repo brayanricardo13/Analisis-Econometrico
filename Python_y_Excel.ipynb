{
  "nbformat": 4,
  "nbformat_minor": 0,
  "metadata": {
    "colab": {
      "name": "Python y Excel ",
      "provenance": [],
      "authorship_tag": "ABX9TyOiTZ2z62CZWJnwlnV7V2bW",
      "include_colab_link": true
    },
    "kernelspec": {
      "name": "python3",
      "display_name": "Python 3"
    },
    "language_info": {
      "name": "python"
    }
  },
  "cells": [
    {
      "cell_type": "markdown",
      "metadata": {
        "id": "view-in-github",
        "colab_type": "text"
      },
      "source": [
        "<a href=\"https://colab.research.google.com/github/brayanricardo13/Analisis-Econometrico/blob/main/Python_y_Excel.ipynb\" target=\"_parent\"><img src=\"https://colab.research.google.com/assets/colab-badge.svg\" alt=\"Open In Colab\"/></a>"
      ]
    },
    {
      "cell_type": "code",
      "execution_count": null,
      "metadata": {
        "id": "QmcvylPCLDCG"
      },
      "outputs": [],
      "source": [
        "pip install openpyxl"
      ]
    },
    {
      "cell_type": "code",
      "source": [
        "from openpyxl import Workbook\n",
        "from openpyxl.styles import Font\n",
        "import time"
      ],
      "metadata": {
        "id": "wEHLau5QLVe0"
      },
      "execution_count": 2,
      "outputs": []
    },
    {
      "cell_type": "code",
      "source": [
        "book = Workbook() # \n",
        "sheet = book.active # Hoja por defecto "
      ],
      "metadata": {
        "id": "AqvZsr40LcBI"
      },
      "execution_count": 3,
      "outputs": []
    },
    {
      "cell_type": "code",
      "source": [
        "sheet['A1'] = 5\n",
        "sheet['A2'] = 10"
      ],
      "metadata": {
        "id": "rOXaCktwLmRg"
      },
      "execution_count": 4,
      "outputs": []
    },
    {
      "cell_type": "code",
      "source": [
        "book.save('prueba_escritura.xlsx')"
      ],
      "metadata": {
        "id": "UW1z6CNkLsvP"
      },
      "execution_count": 5,
      "outputs": []
    }
  ]
}
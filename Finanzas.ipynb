{
  "nbformat": 4,
  "nbformat_minor": 0,
  "metadata": {
    "colab": {
      "name": "Finanzas ",
      "provenance": [],
      "authorship_tag": "ABX9TyNXLYX83kNVcSFiX5ZErAoS",
      "include_colab_link": true
    },
    "kernelspec": {
      "name": "python3",
      "display_name": "Python 3"
    },
    "language_info": {
      "name": "python"
    }
  },
  "cells": [
    {
      "cell_type": "markdown",
      "metadata": {
        "id": "view-in-github",
        "colab_type": "text"
      },
      "source": [
        "<a href=\"https://colab.research.google.com/github/brayanricardo13/Analisis-Econometrico/blob/main/Finanzas.ipynb\" target=\"_parent\"><img src=\"https://colab.research.google.com/assets/colab-badge.svg\" alt=\"Open In Colab\"/></a>"
      ]
    },
    {
      "cell_type": "code",
      "metadata": {
        "id": "XQosNTC_MBLP"
      },
      "source": [
        "pip install investpy"
      ],
      "execution_count": null,
      "outputs": []
    },
    {
      "cell_type": "code",
      "metadata": {
        "id": "ipzvQBkoMJPO"
      },
      "source": [
        "import investpy as inv\n",
        "import pandas as pd\n",
        "import matplotlib.pyplot as plt\n",
        "import numpy as np\n",
        "import statsmodels.formula.api as smf\n",
        "import statsmodels.api as sm"
      ],
      "execution_count": null,
      "outputs": []
    },
    {
      "cell_type": "code",
      "source": [
        ""
      ],
      "metadata": {
        "id": "ZDbMh1UKbGQe"
      },
      "execution_count": null,
      "outputs": []
    },
    {
      "cell_type": "code",
      "metadata": {
        "id": "05wJ_kpgL1tX"
      },
      "source": [
        "from google.colab import files"
      ],
      "execution_count": null,
      "outputs": []
    },
    {
      "cell_type": "code",
      "metadata": {
        "id": "75cgmpPxMWdH"
      },
      "source": [
        "inv.get_stocks_list(\"colombia\")"
      ],
      "execution_count": null,
      "outputs": []
    },
    {
      "cell_type": "code",
      "source": [
        "Bancolombia_ordinaria=inv.get_stock_historical_data(\"BIC_p1\",country=\"colombia\",from_date='01/01/2017',to_date='08/01/2022')\n",
        "ordinaria=Bancolombia_ordinaria[[\"Close\"]]\n",
        "print(ordinaria)"
      ],
      "metadata": {
        "id": "iAvvdbtvnbfl"
      },
      "execution_count": null,
      "outputs": []
    },
    {
      "cell_type": "code",
      "source": [
        "ordinaria.mean() # Promedio"
      ],
      "metadata": {
        "colab": {
          "base_uri": "https://localhost:8080/"
        },
        "id": "A_uEnC4zY1tJ",
        "outputId": "31854dbf-3c90-4cc2-b7fa-3720abab7b57"
      },
      "execution_count": 49,
      "outputs": [
        {
          "output_type": "execute_result",
          "data": {
            "text/plain": [
              "Close    32895.535568\n",
              "dtype: float64"
            ]
          },
          "metadata": {},
          "execution_count": 49
        }
      ]
    },
    {
      "cell_type": "code",
      "source": [
        "ordinaria.median() # Mediana"
      ],
      "metadata": {
        "id": "cc8lzU6LZQCw"
      },
      "execution_count": null,
      "outputs": []
    },
    {
      "cell_type": "code",
      "source": [
        "ordinaria.std() # Desviacion Estandar"
      ],
      "metadata": {
        "id": "3yS65-nHZX3v"
      },
      "execution_count": null,
      "outputs": []
    },
    {
      "cell_type": "code",
      "source": [
        "ordinaria.var() # Varianza"
      ],
      "metadata": {
        "id": "yHmiMt7cZjfn"
      },
      "execution_count": null,
      "outputs": []
    },
    {
      "cell_type": "code",
      "source": [
        "Bancolombia_preferencial=inv.get_stock_historical_data(\"BIC\",country=\"colombia\",from_date='01/01/2017',to_date='08/01/2022')\n",
        "preferencial=Bancolombia_preferencial[[\"Close\"]]\n",
        "print(preferencial)"
      ],
      "metadata": {
        "id": "XcuEqQgJnbvx"
      },
      "execution_count": null,
      "outputs": []
    },
    {
      "cell_type": "code",
      "source": [
        "ordinaria.plot.line()"
      ],
      "metadata": {
        "id": "tbthh2YenguK"
      },
      "execution_count": null,
      "outputs": []
    },
    {
      "cell_type": "code",
      "source": [
        "preferencial.plot.line()"
      ],
      "metadata": {
        "id": "eXtDGkVQnhQ6"
      },
      "execution_count": null,
      "outputs": []
    },
    {
      "cell_type": "code",
      "source": [
        "Bancolombia=pd.concat([ordinaria,preferencial],axis=1)\n",
        "print(Bancolombia)"
      ],
      "metadata": {
        "id": "BU12z1cKni2y"
      },
      "execution_count": null,
      "outputs": []
    },
    {
      "cell_type": "code",
      "source": [
        "Bancolombia_frame = pd.DataFrame(Bancolombia) #convertir dataframe \n",
        "Bancolombia_frame.columns = ['preferencial', 'ordinaria']\n",
        "print(Bancolombia_frame)"
      ],
      "metadata": {
        "id": "DBa62-PqbuHx"
      },
      "execution_count": null,
      "outputs": []
    },
    {
      "cell_type": "code",
      "source": [
        "Bancolombia.describe()# Estadisticas descriptivas "
      ],
      "metadata": {
        "id": "8TDDeNGLab6g"
      },
      "execution_count": null,
      "outputs": []
    },
    {
      "cell_type": "code",
      "source": [
        "est = smf.ols(formula='ordinaria ~ preferencial', data = Bancolombia_frame).fit() # regresion lineal \n",
        "est.summary()"
      ],
      "metadata": {
        "colab": {
          "base_uri": "https://localhost:8080/",
          "height": 486
        },
        "id": "gS77_PzQa5q_",
        "outputId": "1245b5ac-3956-4507-c9bb-6682bd0de2e6"
      },
      "execution_count": 83,
      "outputs": [
        {
          "output_type": "execute_result",
          "data": {
            "text/html": [
              "<table class=\"simpletable\">\n",
              "<caption>OLS Regression Results</caption>\n",
              "<tr>\n",
              "  <th>Dep. Variable:</th>        <td>ordinaria</td>    <th>  R-squared:         </th> <td>   0.967</td> \n",
              "</tr>\n",
              "<tr>\n",
              "  <th>Model:</th>                   <td>OLS</td>       <th>  Adj. R-squared:    </th> <td>   0.967</td> \n",
              "</tr>\n",
              "<tr>\n",
              "  <th>Method:</th>             <td>Least Squares</td>  <th>  F-statistic:       </th> <td>3.557e+04</td>\n",
              "</tr>\n",
              "<tr>\n",
              "  <th>Date:</th>             <td>Sun, 09 Jan 2022</td> <th>  Prob (F-statistic):</th>  <td>  0.00</td>  \n",
              "</tr>\n",
              "<tr>\n",
              "  <th>Time:</th>                 <td>01:35:22</td>     <th>  Log-Likelihood:    </th> <td> -10119.</td> \n",
              "</tr>\n",
              "<tr>\n",
              "  <th>No. Observations:</th>      <td>  1222</td>      <th>  AIC:               </th> <td>2.024e+04</td>\n",
              "</tr>\n",
              "<tr>\n",
              "  <th>Df Residuals:</th>          <td>  1220</td>      <th>  BIC:               </th> <td>2.025e+04</td>\n",
              "</tr>\n",
              "<tr>\n",
              "  <th>Df Model:</th>              <td>     1</td>      <th>                     </th>     <td> </td>    \n",
              "</tr>\n",
              "<tr>\n",
              "  <th>Covariance Type:</th>      <td>nonrobust</td>    <th>                     </th>     <td> </td>    \n",
              "</tr>\n",
              "</table>\n",
              "<table class=\"simpletable\">\n",
              "<tr>\n",
              "        <td></td>          <th>coef</th>     <th>std err</th>      <th>t</th>      <th>P>|t|</th>  <th>[0.025</th>    <th>0.975]</th>  \n",
              "</tr>\n",
              "<tr>\n",
              "  <th>Intercept</th>    <td> 2235.8799</td> <td>  160.296</td> <td>   13.948</td> <td> 0.000</td> <td> 1921.393</td> <td> 2550.367</td>\n",
              "</tr>\n",
              "<tr>\n",
              "  <th>preferencial</th> <td>    0.9055</td> <td>    0.005</td> <td>  188.597</td> <td> 0.000</td> <td>    0.896</td> <td>    0.915</td>\n",
              "</tr>\n",
              "</table>\n",
              "<table class=\"simpletable\">\n",
              "<tr>\n",
              "  <th>Omnibus:</th>       <td>38.291</td> <th>  Durbin-Watson:     </th> <td>   0.151</td>\n",
              "</tr>\n",
              "<tr>\n",
              "  <th>Prob(Omnibus):</th> <td> 0.000</td> <th>  Jarque-Bera (JB):  </th> <td>  58.196</td>\n",
              "</tr>\n",
              "<tr>\n",
              "  <th>Skew:</th>          <td>-0.287</td> <th>  Prob(JB):          </th> <td>2.31e-13</td>\n",
              "</tr>\n",
              "<tr>\n",
              "  <th>Kurtosis:</th>      <td> 3.901</td> <th>  Cond. No.          </th> <td>1.96e+05</td>\n",
              "</tr>\n",
              "</table><br/><br/>Warnings:<br/>[1] Standard Errors assume that the covariance matrix of the errors is correctly specified.<br/>[2] The condition number is large, 1.96e+05. This might indicate that there are<br/>strong multicollinearity or other numerical problems."
            ],
            "text/plain": [
              "<class 'statsmodels.iolib.summary.Summary'>\n",
              "\"\"\"\n",
              "                            OLS Regression Results                            \n",
              "==============================================================================\n",
              "Dep. Variable:              ordinaria   R-squared:                       0.967\n",
              "Model:                            OLS   Adj. R-squared:                  0.967\n",
              "Method:                 Least Squares   F-statistic:                 3.557e+04\n",
              "Date:                Sun, 09 Jan 2022   Prob (F-statistic):               0.00\n",
              "Time:                        01:35:22   Log-Likelihood:                -10119.\n",
              "No. Observations:                1222   AIC:                         2.024e+04\n",
              "Df Residuals:                    1220   BIC:                         2.025e+04\n",
              "Df Model:                           1                                         \n",
              "Covariance Type:            nonrobust                                         \n",
              "================================================================================\n",
              "                   coef    std err          t      P>|t|      [0.025      0.975]\n",
              "--------------------------------------------------------------------------------\n",
              "Intercept     2235.8799    160.296     13.948      0.000    1921.393    2550.367\n",
              "preferencial     0.9055      0.005    188.597      0.000       0.896       0.915\n",
              "==============================================================================\n",
              "Omnibus:                       38.291   Durbin-Watson:                   0.151\n",
              "Prob(Omnibus):                  0.000   Jarque-Bera (JB):               58.196\n",
              "Skew:                          -0.287   Prob(JB):                     2.31e-13\n",
              "Kurtosis:                       3.901   Cond. No.                     1.96e+05\n",
              "==============================================================================\n",
              "\n",
              "Warnings:\n",
              "[1] Standard Errors assume that the covariance matrix of the errors is correctly specified.\n",
              "[2] The condition number is large, 1.96e+05. This might indicate that there are\n",
              "strong multicollinearity or other numerical problems.\n",
              "\"\"\""
            ]
          },
          "metadata": {},
          "execution_count": 83
        }
      ]
    },
    {
      "cell_type": "code",
      "source": [
        "Bancolombia.plot.line()"
      ],
      "metadata": {
        "colab": {
          "base_uri": "https://localhost:8080/",
          "height": 286
        },
        "id": "srIWrootnj2S",
        "outputId": "bae92e3c-5a0b-4104-f6f4-029d57d3f6e4"
      },
      "execution_count": 81,
      "outputs": [
        {
          "output_type": "execute_result",
          "data": {
            "text/plain": [
              "<matplotlib.axes._subplots.AxesSubplot at 0x7f00d88770d0>"
            ]
          },
          "metadata": {},
          "execution_count": 81
        },
        {
          "output_type": "display_data",
          "data": {
            "image/png": "[encoded data removed]",
            "text/plain": [
              "<Figure size 432x288 with 1 Axes>"
            ]
          },
          "metadata": {
            "needs_background": "light"
          }
        }
      ]
    },
    {
      "cell_type": "code",
      "source": [
        "retrono_ordinaria=np.log(ordinaria)-np.log(ordinaria.shift(1))# calculo retornos\n",
        "print(retrono_ordinaria)"
      ],
      "metadata": {
        "id": "4HjBXqziVu8i"
      },
      "execution_count": null,
      "outputs": []
    },
    {
      "cell_type": "code",
      "source": [
        "plt.plot(retrono_ordinaria)"
      ],
      "metadata": {
        "id": "BuWvLyajYMh_"
      },
      "execution_count": null,
      "outputs": []
    },
    {
      "cell_type": "code",
      "source": [
        "retrono_preferencial=np.log(preferencial)-np.log(preferencial.shift(1))\n",
        "print(retrono_preferencial)"
      ],
      "metadata": {
        "id": "jImwaNCYX1Cg"
      },
      "execution_count": null,
      "outputs": []
    },
    {
      "cell_type": "code",
      "source": [
        "plt.plot(retrono_preferencial)"
      ],
      "metadata": {
        "id": "p06CPmYhYWFO"
      },
      "execution_count": null,
      "outputs": []
    }
  ]
}
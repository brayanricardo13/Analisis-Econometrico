{
  "nbformat": 4,
  "nbformat_minor": 0,
  "metadata": {
    "colab": {
      "provenance": [],
      "collapsed_sections": [],
      "mount_file_id": "1zq1CclTEBJXWR0Xff0D46DEEOBC0CgWZ",
      "authorship_tag": "ABX9TyPkCESQ3fHd8mPemQicG7zL",
      "include_colab_link": true
    },
    "kernelspec": {
      "name": "python3",
      "display_name": "Python 3"
    },
    "language_info": {
      "name": "python"
    }
  },
  "cells": [
    {
      "cell_type": "markdown",
      "metadata": {
        "id": "view-in-github",
        "colab_type": "text"
      },
      "source": [
        "<a href=\"https://colab.research.google.com/github/brayanricardo13/Analisis-Econometrico/blob/main/Super_Servicios.ipynb\" target=\"_parent\"><img src=\"https://colab.research.google.com/assets/colab-badge.svg\" alt=\"Open In Colab\"/></a>"
      ]
    },
    {
      "cell_type": "code",
      "execution_count": 1,
      "metadata": {
        "id": "zAy9ErR-es52"
      },
      "outputs": [],
      "source": [
        "from openpyxl import workbook , load_workbook \n",
        "import pandas as pd\n",
        "import matplotlib.pyplot as plt"
      ]
    },
    {
      "cell_type": "code",
      "source": [
        "from google.colab import drive\n",
        "drive.mount('/content/drive')"
      ],
      "metadata": {
        "colab": {
          "base_uri": "https://localhost:8080/"
        },
        "id": "TpQi2HvmfIAO",
        "outputId": "3f55c8ff-57fa-4f9f-f610-a14defe14ea0"
      },
      "execution_count": 3,
      "outputs": [
        {
          "output_type": "stream",
          "name": "stdout",
          "text": [
            "Mounted at /content/drive\n"
          ]
        }
      ]
    },
    {
      "cell_type": "code",
      "source": [
        "Superservicios = pd.read_excel(\"/content/drive/MyDrive/U CENTRAL ECONOMÍA/PRACTICAS/PRUEBAS /SUPER SERVICIOS/base.xlsx\", sheet_name=\"Base\",header=0, index_col=None) \n",
        "Superservicios.head()"
      ],
      "metadata": {
        "id": "a9su0fStfKIF"
      },
      "execution_count": null,
      "outputs": []
    },
    {
      "cell_type": "code",
      "source": [
        "Superservicios.info()"
      ],
      "metadata": {
        "id": "gy3IV6S9gCRY"
      },
      "execution_count": null,
      "outputs": []
    },
    {
      "cell_type": "code",
      "source": [],
      "metadata": {
        "id": "fBRMIZw2gXCt"
      },
      "execution_count": null,
      "outputs": []
    }
  ]
}
{
  "nbformat": 4,
  "nbformat_minor": 0,
  "metadata": {
    "colab": {
      "name": "Gran Encuesta Integrada de Hogares",
      "provenance": [],
      "collapsed_sections": [
        "YPkYbrVBRmza",
        "WtZmh1lrULY5",
        "1FYgSbqeRu1I"
      ],
      "toc_visible": true,
      "authorship_tag": "ABX9TyNp1WTYXPRv8LIWr3mwW/i3",
      "include_colab_link": true
    },
    "kernelspec": {
      "name": "python3",
      "display_name": "Python 3"
    },
    "language_info": {
      "name": "python"
    }
  },
  "cells": [
    {
      "cell_type": "markdown",
      "metadata": {
        "id": "view-in-github",
        "colab_type": "text"
      },
      "source": [
        "<a href=\"https://colab.research.google.com/github/brayanricardo13/Analisis-Econometrico/blob/main/Gran_Encuesta_Integrada_de_Hogares.ipynb\" target=\"_parent\"><img src=\"https://colab.research.google.com/assets/colab-badge.svg\" alt=\"Open In Colab\"/></a>"
      ]
    },
    {
      "cell_type": "code",
      "execution_count": null,
      "metadata": {
        "id": "qdL2ixY6Gosh"
      },
      "outputs": [],
      "source": [
        "pip install geihdanepy # Liberia GEIH"
      ]
    },
    {
      "cell_type": "code",
      "source": [
        "import geihdanepy as geih\n",
        "from google.colab import files"
      ],
      "metadata": {
        "id": "Gr9qCrrBHBc-"
      },
      "execution_count": 36,
      "outputs": []
    },
    {
      "cell_type": "code",
      "source": [
        "geih.info_modulos() # Modulos"
      ],
      "metadata": {
        "id": "KjkA7MOrG89R"
      },
      "execution_count": null,
      "outputs": []
    },
    {
      "cell_type": "code",
      "source": [
        "geih.info_zonas() # Zonas"
      ],
      "metadata": {
        "id": "3AkUOEAdHOEX"
      },
      "execution_count": null,
      "outputs": []
    },
    {
      "cell_type": "markdown",
      "source": [
        "# **Enero 2021**"
      ],
      "metadata": {
        "id": "YPkYbrVBRmza"
      }
    },
    {
      "cell_type": "code",
      "source": [
        "Enero_2021_Vivienda_y_Hogares = geih.datos(2021,'Enero','Vivienda','all')\n",
        "Enero_2021_Vivienda_y_Hogares"
      ],
      "metadata": {
        "id": "R45msNgeHYyl"
      },
      "execution_count": null,
      "outputs": []
    },
    {
      "cell_type": "code",
      "source": [
        "Enero_2021_Caracteristicas_Generales = geih.datos(2021,'Enero','Caracteristicas','all')\n",
        "Enero_2021_Caracteristicas_Generales"
      ],
      "metadata": {
        "id": "6JmUe2vPKKbd"
      },
      "execution_count": null,
      "outputs": []
    },
    {
      "cell_type": "code",
      "source": [
        "Enero_2021_Fuerza_de_Trabajo = geih.datos(2021,'Enero','Fuerza','all')\n",
        "Enero_2021_Fuerza_de_Trabajo "
      ],
      "metadata": {
        "id": "XIiYQi__La1v"
      },
      "execution_count": null,
      "outputs": []
    },
    {
      "cell_type": "code",
      "source": [
        "Enero_2021_Ocupados = geih.datos(2021,'Enero','Ocupados','all')\n",
        "Enero_2021_Ocupados"
      ],
      "metadata": {
        "id": "XnQuHG2GLrE5"
      },
      "execution_count": null,
      "outputs": []
    },
    {
      "cell_type": "code",
      "source": [
        "Enero_2021_Desocupados = geih.datos(2021,'Enero','Desocupados','all')\n",
        "Enero_2021_Desocupados"
      ],
      "metadata": {
        "id": "WX6LSAahL02g"
      },
      "execution_count": null,
      "outputs": []
    },
    {
      "cell_type": "code",
      "source": [
        "Enero_2021_Inactivos = geih.datos(2021,'Enero','Inactivos','all')\n",
        "Enero_2021_Inactivos"
      ],
      "metadata": {
        "id": "yys_FGpSMF41"
      },
      "execution_count": null,
      "outputs": []
    },
    {
      "cell_type": "code",
      "source": [
        "Enero_2021_Otras_actividades = geih.datos(2021,'Enero','Otras actividades','all')\n",
        "Enero_2021_Otras_actividades "
      ],
      "metadata": {
        "id": "LOcEZuCGMPgp"
      },
      "execution_count": null,
      "outputs": []
    },
    {
      "cell_type": "code",
      "source": [
        "Enero_2021_Otros_Ingresos = geih.datos(2021,'Enero','Otros Ingresos','all')\n",
        "Enero_2021_Otros_Ingresos "
      ],
      "metadata": {
        "id": "WV0cPT0hMPm3"
      },
      "execution_count": null,
      "outputs": []
    },
    {
      "cell_type": "markdown",
      "source": [
        "# **Febrero 2021**"
      ],
      "metadata": {
        "id": "WtZmh1lrULY5"
      }
    },
    {
      "cell_type": "code",
      "source": [
        "Febrero_2021_Vivienda_y_Hogares = geih.datos(2021,'Febrero','Vivienda','all')\n",
        "Febrero_2021_Vivienda_y_Hogares"
      ],
      "metadata": {
        "id": "2DHJ3TGFUREh"
      },
      "execution_count": null,
      "outputs": []
    },
    {
      "cell_type": "code",
      "source": [
        "Febrero_2021_Caracteristicas_Generales = geih.datos(2021,'Febrero','Caracteristicas','all')\n",
        "Febrero_2021_Caracteristicas_Generales"
      ],
      "metadata": {
        "id": "kI92A5PwURXX"
      },
      "execution_count": null,
      "outputs": []
    },
    {
      "cell_type": "code",
      "source": [
        "Febrero_2021_Fuerza_de_Trabajo = geih.datos(2021,'Febrero','Fuerza','all')\n",
        "Febrero_2021_Fuerza_de_Trabajo "
      ],
      "metadata": {
        "id": "pgDW-LzDUU_y"
      },
      "execution_count": null,
      "outputs": []
    },
    {
      "cell_type": "code",
      "source": [
        "Febrero_2021_Ocupados = geih.datos(2021,'Febrero','Ocupados','all')\n",
        "Febrero_2021_Ocupados"
      ],
      "metadata": {
        "id": "B_AuCwRfUW76"
      },
      "execution_count": null,
      "outputs": []
    },
    {
      "cell_type": "code",
      "source": [
        "Febrero_2021_Desocupados = geih.datos(2021,'Febrero','Desocupados','all')\n",
        "Febrero_2021_Desocupados"
      ],
      "metadata": {
        "id": "95AtwA1CUY7p"
      },
      "execution_count": null,
      "outputs": []
    },
    {
      "cell_type": "code",
      "source": [
        "Febrero_2021_Inactivos = geih.datos(2021,'Febrero','Inactivos','all')\n",
        "Febrero_2021_Inactivos"
      ],
      "metadata": {
        "id": "ah0InyiPUbE5"
      },
      "execution_count": null,
      "outputs": []
    },
    {
      "cell_type": "code",
      "source": [
        "Febrero_2021_Otras_actividades = geih.datos(2021,'Febrero','Otras actividades','all')\n",
        "Febrero_2021_Otras_actividades "
      ],
      "metadata": {
        "id": "F5jmGId_Uc4B"
      },
      "execution_count": null,
      "outputs": []
    },
    {
      "cell_type": "code",
      "source": [
        "Febrero_2021_Otros_Ingresos = geih.datos(2021,'Febrero','Otros Ingresos','all')\n",
        "Febrero_2021_Otros_Ingresos "
      ],
      "metadata": {
        "id": "Yn7hZ56FUdGC"
      },
      "execution_count": null,
      "outputs": []
    },
    {
      "cell_type": "markdown",
      "source": [
        "# **Descargar informacion**"
      ],
      "metadata": {
        "id": "1FYgSbqeRu1I"
      }
    },
    {
      "cell_type": "code",
      "source": [
        "Enero_2021_Vivienda_y_Hogares.to_csv(\"Enero_2021_Vivienda_y_Hogares.csv\") # Se descarga CSV por el peso \n",
        "files.download(\"Enero_2021_Vivienda_y_Hogares.csv\")"
      ],
      "metadata": {
        "colab": {
          "base_uri": "https://localhost:8080/",
          "height": 17
        },
        "id": "ETxKgqPiS6ow",
        "outputId": "52ef98a9-e738-4095-e123-e04dfefa25a9"
      },
      "execution_count": 39,
      "outputs": [
        {
          "output_type": "display_data",
          "data": {
            "text/plain": [
              "<IPython.core.display.Javascript object>"
            ],
            "application/javascript": [
              "\n",
              "    async function download(id, filename, size) {\n",
              "      if (!google.colab.kernel.accessAllowed) {\n",
              "        return;\n",
              "      }\n",
              "      const div = document.createElement('div');\n",
              "      const label = document.createElement('label');\n",
              "      label.textContent = `Downloading \"${filename}\": `;\n",
              "      div.appendChild(label);\n",
              "      const progress = document.createElement('progress');\n",
              "      progress.max = size;\n",
              "      div.appendChild(progress);\n",
              "      document.body.appendChild(div);\n",
              "\n",
              "      const buffers = [];\n",
              "      let downloaded = 0;\n",
              "\n",
              "      const channel = await google.colab.kernel.comms.open(id);\n",
              "      // Send a message to notify the kernel that we're ready.\n",
              "      channel.send({})\n",
              "\n",
              "      for await (const message of channel.messages) {\n",
              "        // Send a message to notify the kernel that we're ready.\n",
              "        channel.send({})\n",
              "        if (message.buffers) {\n",
              "          for (const buffer of message.buffers) {\n",
              "            buffers.push(buffer);\n",
              "            downloaded += buffer.byteLength;\n",
              "            progress.value = downloaded;\n",
              "          }\n",
              "        }\n",
              "      }\n",
              "      const blob = new Blob(buffers, {type: 'application/binary'});\n",
              "      const a = document.createElement('a');\n",
              "      a.href = window.URL.createObjectURL(blob);\n",
              "      a.download = filename;\n",
              "      div.appendChild(a);\n",
              "      a.click();\n",
              "      div.remove();\n",
              "    }\n",
              "  "
            ]
          },
          "metadata": {}
        },
        {
          "output_type": "display_data",
          "data": {
            "text/plain": [
              "<IPython.core.display.Javascript object>"
            ],
            "application/javascript": [
              "download(\"download_7174330b-d750-4985-b807-a5e553ddb448\", \"Enero_2021_Vivienda_y_Hogares.csv\", 4217594)"
            ]
          },
          "metadata": {}
        }
      ]
    }
  ]
}
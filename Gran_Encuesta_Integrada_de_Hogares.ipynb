{
  "nbformat": 4,
  "nbformat_minor": 0,
  "metadata": {
    "colab": {
      "name": "Gran Encuesta Integrada de Hogares",
      "provenance": [],
      "collapsed_sections": [],
      "authorship_tag": "ABX9TyNONM7BcpBLJQFLh+eLhbMZ",
      "include_colab_link": true
    },
    "kernelspec": {
      "name": "python3",
      "display_name": "Python 3"
    },
    "language_info": {
      "name": "python"
    }
  },
  "cells": [
    {
      "cell_type": "markdown",
      "metadata": {
        "id": "view-in-github",
        "colab_type": "text"
      },
      "source": [
        "<a href=\"https://colab.research.google.com/github/brayanricardo13/Analisis-Econometrico/blob/main/Gran_Encuesta_Integrada_de_Hogares.ipynb\" target=\"_parent\"><img src=\"https://colab.research.google.com/assets/colab-badge.svg\" alt=\"Open In Colab\"/></a>"
      ]
    },
    {
      "cell_type": "code",
      "execution_count": null,
      "metadata": {
        "id": "qdL2ixY6Gosh"
      },
      "outputs": [],
      "source": [
        "pip install geihdanepy # Liberia GEIH"
      ]
    },
    {
      "cell_type": "code",
      "source": [
        "import geihdanepy as geih"
      ],
      "metadata": {
        "id": "Gr9qCrrBHBc-"
      },
      "execution_count": 3,
      "outputs": []
    },
    {
      "cell_type": "code",
      "source": [
        "geih.info_modulos()"
      ],
      "metadata": {
        "id": "KjkA7MOrG89R"
      },
      "execution_count": null,
      "outputs": []
    },
    {
      "cell_type": "code",
      "source": [
        "geih.info_zonas() "
      ],
      "metadata": {
        "colab": {
          "base_uri": "https://localhost:8080/"
        },
        "id": "3AkUOEAdHOEX",
        "outputId": "4aa2b194-0b5c-46a3-d2a7-af049206d3e0"
      },
      "execution_count": 11,
      "outputs": [
        {
          "output_type": "stream",
          "name": "stdout",
          "text": [
            "Las palabras clave validas para los zonas de la GEIH dentro de geihdanepy son:\n",
            "\n",
            "\n",
            "\n",
            "____________________________________________________________\n",
            "\n",
            "|    Zonas de la GEIH   | Zonas en funciones de geihdanepy |\n",
            "\n",
            "|____________________ _____________________________________|\n",
            "\n",
            "|        Area          |             Area                  |\n",
            "\n",
            "|      Cabecera        |           Cabecera                |\n",
            "\n",
            "|        Resto         |             Resto                 |\n",
            "\n",
            "|    Todas las Zonas   |              all                  |\n",
            "\n",
            "------------------------------------------------------------\n"
          ]
        }
      ]
    },
    {
      "cell_type": "code",
      "source": [
        "df = geih.datos(2019,'Octubre','Ocupados','all')\n",
        "df"
      ],
      "metadata": {
        "id": "R45msNgeHYyl"
      },
      "execution_count": null,
      "outputs": []
    }
  ]
}
{
  "cells": [
    {
      "cell_type": "markdown",
      "metadata": {
        "id": "view-in-github",
        "colab_type": "text"
      },
      "source": [
        "<a href=\"https://colab.research.google.com/github/brayanricardo13/Analisis-Econometrico/blob/main/BENCKMARK_Renta_Fija.ipynb\" target=\"_parent\"><img src=\"https://colab.research.google.com/assets/colab-badge.svg\" alt=\"Open In Colab\"/></a>"
      ]
    },
    {
      "cell_type": "code",
      "source": [
        "from openpyxl import workbook , load_workbook \n",
        "import pandas as pd\n",
        "import matplotlib.pyplot as plt\n",
        "import seaborn as sns\n",
        "import statsmodels.formula.api as smf # Regresion multiple\n",
        "from sklearn.ensemble import RandomForestClassifier,RandomForestRegressor\n",
        "import statsmodels.api as sm\n",
        "import statistics"
      ],
      "metadata": {
        "id": "aMcMs9dG6Y4n"
      },
      "execution_count": 1,
      "outputs": []
    },
    {
      "cell_type": "code",
      "source": [
        "from google.colab import drive\n",
        "drive.mount('/content/drive')"
      ],
      "metadata": {
        "colab": {
          "base_uri": "https://localhost:8080/"
        },
        "id": "Osbje8Rx677O",
        "outputId": "2e822819-c84e-430f-9c49-9d35c5d93830"
      },
      "execution_count": 2,
      "outputs": [
        {
          "output_type": "stream",
          "name": "stdout",
          "text": [
            "Mounted at /content/drive\n"
          ]
        }
      ]
    },
    {
      "cell_type": "code",
      "source": [
        "Modelo = pd.read_excel(\"/content/drive/MyDrive/CORFICOLOMBIANA/Base Indices.xlsx\", sheet_name=\"Indices\",header=0, index_col=None) \n",
        "Modelo.head()"
      ],
      "metadata": {
        "id": "dV6p4O2O6_cW"
      },
      "execution_count": null,
      "outputs": []
    },
    {
      "cell_type": "code",
      "source": [
        "Modelo.info()"
      ],
      "metadata": {
        "id": "9KHlKxGa7Bmo"
      },
      "execution_count": null,
      "outputs": []
    },
    {
      "cell_type": "code",
      "source": [
        "Modelo.describe()"
      ],
      "metadata": {
        "id": "I1IxMOf37DS5"
      },
      "execution_count": null,
      "outputs": []
    },
    {
      "cell_type": "code",
      "source": [
        "Modelo=Modelo.corr(method=\"spearman\") \n",
        "sns.heatmap(Modelo,annot=True) # Diagrama de correlacion "
      ],
      "metadata": {
        "id": "-iH3iKmJ7dz_"
      },
      "execution_count": null,
      "outputs": []
    },
    {
      "cell_type": "code",
      "source": [],
      "metadata": {
        "id": "ymHkfQn57vmT"
      },
      "execution_count": null,
      "outputs": []
    }
  ],
  "metadata": {
    "colab": {
      "provenance": [],
      "toc_visible": true,
      "authorship_tag": "ABX9TyO9LGEyg/LWELy9JzcUxQ5U",
      "include_colab_link": true
    },
    "kernelspec": {
      "display_name": "Python 3",
      "name": "python3"
    },
    "language_info": {
      "name": "python"
    }
  },
  "nbformat": 4,
  "nbformat_minor": 0
}
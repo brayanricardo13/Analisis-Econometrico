{
  "cells": [
    {
      "cell_type": "markdown",
      "metadata": {
        "id": "view-in-github",
        "colab_type": "text"
      },
      "source": [
        "<a href=\"https://colab.research.google.com/github/brayanricardo13/Analisis-Econometrico/blob/main/VAR_Value_at_Risk.ipynb\" target=\"_parent\"><img src=\"https://colab.research.google.com/assets/colab-badge.svg\" alt=\"Open In Colab\"/></a>"
      ]
    },
    {
      "cell_type": "code",
      "execution_count": null,
      "metadata": {
        "id": "BQp1AW-reqrc"
      },
      "outputs": [],
      "source": [
        "pip install yfinance"
      ]
    },
    {
      "cell_type": "code",
      "execution_count": 2,
      "metadata": {
        "id": "Hga4WyjlDbj4"
      },
      "outputs": [],
      "source": [
        "import yfinance as yf ,numpy as np, datetime as dt, matplotlib.pyplot as plt \n",
        "from scipy.stats import norm"
      ]
    },
    {
      "cell_type": "code",
      "execution_count": 4,
      "metadata": {
        "id": "XIZ4rCboD282"
      },
      "outputs": [],
      "source": [
        "tickers = [\"VOO\",\"QQQ\",\"AAPL\",\"AMZN\",\"JPM\"]\n",
        "weight = np.array([0.2,0.2,0.2,0.2,0.2])"
      ]
    },
    {
      "cell_type": "code",
      "source": [
        "Start = dt.datetime(2019,1,1)\n",
        "end = dt.datetime.now()\n",
        "\n",
        "df = yf.download(tickers,Start,end)[\"Adj Close\"]\n",
        "df"
      ],
      "metadata": {
        "id": "O45CITbUk6h7"
      },
      "execution_count": null,
      "outputs": []
    },
    {
      "cell_type": "code",
      "source": [
        "retourns = df.pct_change() # Retornos \n",
        "retourns"
      ],
      "metadata": {
        "id": "AQVagGHFkOJz"
      },
      "execution_count": null,
      "outputs": []
    },
    {
      "cell_type": "code",
      "source": [
        "cov_matrix = retourns.cov() # Matriz de varianzas y Covarianzas \n",
        "cov_matrix "
      ],
      "metadata": {
        "id": "WtL5td6FlRnG"
      },
      "execution_count": null,
      "outputs": []
    },
    {
      "cell_type": "code",
      "source": [
        "avg_retorns = retourns.mean() # Promedio de retornos \n",
        "avg_retorns"
      ],
      "metadata": {
        "id": "m-SejivTlzI1"
      },
      "execution_count": null,
      "outputs": []
    },
    {
      "cell_type": "code",
      "source": [
        "count = retourns.count() # Numero de retornos \n",
        "count"
      ],
      "metadata": {
        "id": "RLZqDHJ8mAfa"
      },
      "execution_count": null,
      "outputs": []
    },
    {
      "cell_type": "code",
      "source": [
        "Port_mean =avg_retorns @ weight\n",
        "Port_std = np.sqrt(weight.T @cov_matrix @weight  )"
      ],
      "metadata": {
        "id": "XU_OAsSSmR99"
      },
      "execution_count": 26,
      "outputs": []
    },
    {
      "cell_type": "code",
      "source": [
        "Port_mean # Media del Portafolio "
      ],
      "metadata": {
        "id": "5fa3c1URnKLS"
      },
      "execution_count": null,
      "outputs": []
    },
    {
      "cell_type": "code",
      "source": [
        "Port_std # Desviacion estandar del portafolio "
      ],
      "metadata": {
        "id": "C1YC1WztnZlz"
      },
      "execution_count": null,
      "outputs": []
    },
    {
      "cell_type": "code",
      "source": [
        "x = np.arange(-0.05,0.05,0.001)\n",
        "norm_dist = norm.pdf(x,Port_mean,Port_std)\n",
        "plt.plot(x,norm_dist,color=\"r\")\n",
        "plt.show()"
      ],
      "metadata": {
        "colab": {
          "base_uri": "https://localhost:8080/",
          "height": 265
        },
        "id": "ksTp4DGonpok",
        "outputId": "d3dc7245-1295-4480-d1e8-aa4dc6b20d49"
      },
      "execution_count": 32,
      "outputs": [
        {
          "output_type": "display_data",
          "data": {
            "text/plain": [
              "<Figure size 432x288 with 1 Axes>"
            ],
            "image/png": "[encoded data removed]"
          },
          "metadata": {
            "needs_background": "light"
          }
        }
      ]
    },
    {
      "cell_type": "code",
      "source": [
        "confidence_level = 0.05\n",
        "VaR = norm.ppf(confidence_level,Port_mean,Port_std)\n",
        "VaR"
      ],
      "metadata": {
        "colab": {
          "base_uri": "https://localhost:8080/"
        },
        "id": "MuRz4f7VoeSU",
        "outputId": "618b4207-f05d-40d5-a3ce-024ed454fe83"
      },
      "execution_count": 34,
      "outputs": [
        {
          "output_type": "execute_result",
          "data": {
            "text/plain": [
              "-0.024594024293472568"
            ]
          },
          "metadata": {},
          "execution_count": 34
        }
      ]
    },
    {
      "cell_type": "code",
      "source": [
        "num_days = 5 \n",
        "VaR*np.sqrt(num_days)"
      ],
      "metadata": {
        "colab": {
          "base_uri": "https://localhost:8080/"
        },
        "id": "KGZm0RTqpDav",
        "outputId": "a6e8b8e7-c627-472b-b371-515ce4498b2b"
      },
      "execution_count": 35,
      "outputs": [
        {
          "output_type": "execute_result",
          "data": {
            "text/plain": [
              "-0.0549939101604859"
            ]
          },
          "metadata": {},
          "execution_count": 35
        }
      ]
    }
  ],
  "metadata": {
    "colab": {
      "collapsed_sections": [],
      "name": "VAR-Value at Risk",
      "provenance": [],
      "authorship_tag": "ABX9TyND4XS1C30spMu/AfkZIoKA",
      "include_colab_link": true
    },
    "kernelspec": {
      "display_name": "Python 3",
      "name": "python3"
    },
    "language_info": {
      "name": "python"
    }
  },
  "nbformat": 4,
  "nbformat_minor": 0
}
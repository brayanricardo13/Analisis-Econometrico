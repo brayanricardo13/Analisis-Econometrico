{
  "cells": [
    {
      "cell_type": "markdown",
      "metadata": {
        "id": "view-in-github",
        "colab_type": "text"
      },
      "source": [
        "<a href=\"https://colab.research.google.com/github/brayanricardo13/Analisis-Econometrico/blob/main/VAR_Value_at_Risk.ipynb\" target=\"_parent\"><img src=\"https://colab.research.google.com/assets/colab-badge.svg\" alt=\"Open In Colab\"/></a>"
      ]
    },
    {
      "cell_type": "code",
      "execution_count": null,
      "metadata": {
        "id": "BQp1AW-reqrc"
      },
      "outputs": [],
      "source": [
        "pip install yfinance"
      ]
    },
    {
      "cell_type": "code",
      "execution_count": null,
      "metadata": {
        "id": "aIcm3X9UuAjb"
      },
      "outputs": [],
      "source": [
        "pip install PyPortfolioOpt"
      ]
    },
    {
      "cell_type": "markdown",
      "source": [
        "# **VAR - Value at risk**"
      ],
      "metadata": {
        "id": "YCigEX37o4R2"
      }
    },
    {
      "cell_type": "code",
      "execution_count": null,
      "metadata": {
        "id": "Hga4WyjlDbj4"
      },
      "outputs": [],
      "source": [
        "import yfinance as yf ,numpy as np, datetime as dt, matplotlib.pyplot as plt \n",
        "import pandas as pd\n",
        "import seaborn as sns\n",
        "from scipy.stats import norm"
      ]
    },
    {
      "cell_type": "code",
      "execution_count": null,
      "metadata": {
        "id": "XIZ4rCboD282"
      },
      "outputs": [],
      "source": [
        "tickers = [\"MSFT\",\"AAPL\",\"AMZN\"]\n",
        "weight = np.array([1/3,1/3,1/3])"
      ]
    },
    {
      "cell_type": "code",
      "execution_count": null,
      "metadata": {
        "id": "O45CITbUk6h7"
      },
      "outputs": [],
      "source": [
        "Start = dt.datetime(2019,1,1)\n",
        "end = dt.datetime.now()\n",
        "\n",
        "df = yf.download(tickers,Start,end,interval=\"1wk\")[\"Adj Close\"]\n",
        "df=df.dropna()\n",
        "df"
      ]
    },
    {
      "cell_type": "code",
      "source": [
        "df.describe()"
      ],
      "metadata": {
        "id": "5ngnLn2-YMpZ"
      },
      "execution_count": null,
      "outputs": []
    },
    {
      "cell_type": "code",
      "execution_count": null,
      "metadata": {
        "id": "nLrm5-l4vVz3"
      },
      "outputs": [],
      "source": [
        "df.plot()\n",
        "plt.show()"
      ]
    },
    {
      "cell_type": "code",
      "execution_count": null,
      "metadata": {
        "id": "AQVagGHFkOJz"
      },
      "outputs": [],
      "source": [
        "retourns = df.pct_change() # Retornos \n",
        "retourns.plot()\n",
        "retourns"
      ]
    },
    {
      "cell_type": "code",
      "execution_count": null,
      "metadata": {
        "id": "WtL5td6FlRnG"
      },
      "outputs": [],
      "source": [
        "cov_matrix = retourns.cov() # Matriz de varianzas y Covarianzas \n",
        "cov_matrix "
      ]
    },
    {
      "cell_type": "code",
      "source": [
        "corr = retourns.corr() # correlaciones \n",
        "corr"
      ],
      "metadata": {
        "id": "9hUDjSish1WS"
      },
      "execution_count": null,
      "outputs": []
    },
    {
      "cell_type": "code",
      "execution_count": null,
      "metadata": {
        "id": "m-SejivTlzI1"
      },
      "outputs": [],
      "source": [
        "avg_retorns = retourns.mean() # Promedio de retornos \n",
        "avg_retorns"
      ]
    },
    {
      "cell_type": "code",
      "execution_count": null,
      "metadata": {
        "id": "RLZqDHJ8mAfa"
      },
      "outputs": [],
      "source": [
        "count = retourns.count() # Numero de retornos \n",
        "count"
      ]
    },
    {
      "cell_type": "code",
      "execution_count": null,
      "metadata": {
        "id": "XU_OAsSSmR99"
      },
      "outputs": [],
      "source": [
        "Port_mean =avg_retorns @ weight\n",
        "Port_std = np.sqrt(weight.T @cov_matrix @weight  )"
      ]
    },
    {
      "cell_type": "code",
      "execution_count": null,
      "metadata": {
        "id": "5fa3c1URnKLS"
      },
      "outputs": [],
      "source": [
        "Port_mean # Media del Portafolio "
      ]
    },
    {
      "cell_type": "code",
      "execution_count": null,
      "metadata": {
        "id": "C1YC1WztnZlz"
      },
      "outputs": [],
      "source": [
        "Port_std # Desviacion estandar del portafolio "
      ]
    },
    {
      "cell_type": "code",
      "execution_count": null,
      "metadata": {
        "id": "ksTp4DGonpok"
      },
      "outputs": [],
      "source": [
        "x = np.arange(-0.05,0.05,0.001)\n",
        "norm_dist = norm.pdf(x,Port_mean,Port_std)\n",
        "plt.plot(x,norm_dist,color=\"r\")\n",
        "plt.show()"
      ]
    },
    {
      "cell_type": "code",
      "execution_count": null,
      "metadata": {
        "id": "MuRz4f7VoeSU"
      },
      "outputs": [],
      "source": [
        "confidence_level = 0.05\n",
        "VaR = norm.ppf(confidence_level,Port_mean,Port_std)\n",
        "VaR"
      ]
    },
    {
      "cell_type": "code",
      "execution_count": null,
      "metadata": {
        "id": "KGZm0RTqpDav"
      },
      "outputs": [],
      "source": [
        "num_days = 5 \n",
        "VaR*np.sqrt(num_days)"
      ]
    },
    {
      "cell_type": "markdown",
      "source": [
        "# **Portafolio Eficiente**"
      ],
      "metadata": {
        "id": "HYUtcKaAdWBD"
      }
    },
    {
      "cell_type": "code",
      "source": [
        "acoes = [\"MSFT\",\"AAPL\",\"AMZN\"]\n",
        "carteira = pd.DataFrame()\n",
        "for i in acoes:\n",
        "  carteira[i] = yf.download(i,Start,end,interval=\"1wk\")['Adj Close']\n",
        "carteira=carteira.dropna()\n",
        "carteira"
      ],
      "metadata": {
        "id": "EXVopOpCilj7"
      },
      "execution_count": null,
      "outputs": []
    },
    {
      "cell_type": "code",
      "source": [
        "sns.set()\n",
        "carteira_normalizada = carteira/carteira.iloc[0]\n",
        "carteira_normalizada.plot(figsize=(21,9))"
      ],
      "metadata": {
        "id": "nD3-q9TqiyOe"
      },
      "execution_count": null,
      "outputs": []
    },
    {
      "cell_type": "code",
      "source": [
        "retorno = carteira.pct_change()\n",
        "retorno"
      ],
      "metadata": {
        "id": "Vvrh0NLAi-pM"
      },
      "execution_count": null,
      "outputs": []
    },
    {
      "cell_type": "code",
      "source": [
        "retorno_anual = retorno.mean() * 264\n",
        "retorno_anual"
      ],
      "metadata": {
        "id": "4snB7TdCjC43"
      },
      "execution_count": null,
      "outputs": []
    },
    {
      "cell_type": "code",
      "source": [
        "cov = retorno.cov() * 264\n",
        "cov"
      ],
      "metadata": {
        "id": "CUxXXJopjC8C"
      },
      "execution_count": null,
      "outputs": []
    },
    {
      "cell_type": "code",
      "source": [
        "corr = retorno.corr()\n",
        "corr"
      ],
      "metadata": {
        "id": "gFhDy1NCjC_O"
      },
      "execution_count": null,
      "outputs": []
    },
    {
      "cell_type": "code",
      "source": [
        "num_acoes = len(acoes)\n",
        "num_carteiras = 10000\n",
        "\n",
        "lista_retornos = []\n",
        "lista_volatilidade = []\n",
        "lista_pesos = []\n",
        "lista_sharpe_ratio = []"
      ],
      "metadata": {
        "id": "7GMn4HKVjJ7V"
      },
      "execution_count": 300,
      "outputs": []
    },
    {
      "cell_type": "code",
      "source": [
        "for carteira in range(num_carteiras):\n",
        "  peso = np.random.random(num_acoes)\n",
        "  peso /= np.sum(peso)\n",
        "  lista_pesos.append(peso)\n",
        "  retorno_esperado = np.dot(peso, retorno_anual)\n",
        "  lista_retornos.append(retorno_esperado)\n",
        "  volatilidade = np.sqrt(np.dot(peso.T, np.dot(cov, peso)))\n",
        "  lista_volatilidade.append(volatilidade)\n",
        "  sharpe_ratio = retorno_esperado/volatilidade\n",
        "  lista_sharpe_ratio.append(sharpe_ratio)"
      ],
      "metadata": {
        "id": "DCS-sjeCjMZl"
      },
      "execution_count": 301,
      "outputs": []
    },
    {
      "cell_type": "code",
      "source": [
        "dic_carteiras = {'Retorno': lista_retornos, 'Volatilidade': lista_volatilidade, 'Sharpe Ratio': lista_sharpe_ratio}\n",
        "for contar,acao in enumerate(acoes):\n",
        "  dic_carteiras[acao+' Peso'] = [Peso[contar] for Peso in lista_pesos]\n",
        "portfolios = pd.DataFrame(dic_carteiras)\n",
        "colunas = ['Retorno', 'Volatilidade', 'Sharpe Ratio'] + [acao+' Peso' for acao in acoes]\n",
        "\n",
        "portfolios = portfolios[colunas]\n",
        "portfolios"
      ],
      "metadata": {
        "id": "RaJp05fHjMjh"
      },
      "execution_count": null,
      "outputs": []
    },
    {
      "cell_type": "code",
      "source": [
        "plt.style.use('seaborn-dark')\n",
        "portfolios.plot.scatter(x='Volatilidade', y='Retorno', c='Sharpe Ratio', edgecolors='black', figsize=(21,9), grid=True)\n",
        "plt.xlabel('Volatilidade', fontsize=16)\n",
        "plt.ylabel('Retorno Esperado', fontsize=16)\n",
        "plt.title('Fronteira Eficiente de Markowitz', fontsize=22)\n",
        "plt.savefig('Fronteira.png', dpi = 500)"
      ],
      "metadata": {
        "id": "97INy4MQjMq_"
      },
      "execution_count": null,
      "outputs": []
    },
    {
      "cell_type": "code",
      "source": [
        "sns.scatterplot(x = 'Volatilidade', y = 'Retorno', hue = 'Sharpe Ratio', data = portfolios, legend=None)\n",
        "sns.set_xticklabels('Volatilidade', fontsize = 16)\n",
        "sns.set_yticklabels('Retorno Esperado', fontsize = 16)\n",
        "sns.set_title('Fronteira Eficiente de Markowitz', fontsize = 22)"
      ],
      "metadata": {
        "id": "0uW_dThnjTGA"
      },
      "execution_count": null,
      "outputs": []
    },
    {
      "cell_type": "code",
      "source": [
        "menor_volatilidade = portfolios['Volatilidade'].min()\n",
        "carteira_min_variancia = portfolios.loc[portfolios['Volatilidade'] == menor_volatilidade]\n",
        "carteira_min_variancia.T"
      ],
      "metadata": {
        "colab": {
          "base_uri": "https://localhost:8080/",
          "height": 238
        },
        "id": "hgAYy6OojVe3",
        "outputId": "f746b84b-352d-4893-eae2-6f494540bde1"
      },
      "execution_count": 305,
      "outputs": [
        {
          "output_type": "execute_result",
          "data": {
            "text/plain": [
              "                  9962\n",
              "Retorno       1.853918\n",
              "Volatilidade  0.571505\n",
              "Sharpe Ratio  3.243923\n",
              "MSFT Peso     0.552292\n",
              "AAPL Peso     0.134145\n",
              "AMZN Peso     0.313564"
            ],
            "text/html": [
              "\n",
              "  <div id=\"df-456d3fb2-5c4d-476b-a308-015c78c9821e\">\n",
              "    <div class=\"colab-df-container\">\n",
              "      <div>\n",
              "<style scoped>\n",
              "    .dataframe tbody tr th:only-of-type {\n",
              "        vertical-align: middle;\n",
              "    }\n",
              "\n",
              "    .dataframe tbody tr th {\n",
              "        vertical-align: top;\n",
              "    }\n",
              "\n",
              "    .dataframe thead th {\n",
              "        text-align: right;\n",
              "    }\n",
              "</style>\n",
              "<table border=\"1\" class=\"dataframe\">\n",
              "  <thead>\n",
              "    <tr style=\"text-align: right;\">\n",
              "      <th></th>\n",
              "      <th>9962</th>\n",
              "    </tr>\n",
              "  </thead>\n",
              "  <tbody>\n",
              "    <tr>\n",
              "      <th>Retorno</th>\n",
              "      <td>1.853918</td>\n",
              "    </tr>\n",
              "    <tr>\n",
              "      <th>Volatilidade</th>\n",
              "      <td>0.571505</td>\n",
              "    </tr>\n",
              "    <tr>\n",
              "      <th>Sharpe Ratio</th>\n",
              "      <td>3.243923</td>\n",
              "    </tr>\n",
              "    <tr>\n",
              "      <th>MSFT Peso</th>\n",
              "      <td>0.552292</td>\n",
              "    </tr>\n",
              "    <tr>\n",
              "      <th>AAPL Peso</th>\n",
              "      <td>0.134145</td>\n",
              "    </tr>\n",
              "    <tr>\n",
              "      <th>AMZN Peso</th>\n",
              "      <td>0.313564</td>\n",
              "    </tr>\n",
              "  </tbody>\n",
              "</table>\n",
              "</div>\n",
              "      <button class=\"colab-df-convert\" onclick=\"convertToInteractive('df-456d3fb2-5c4d-476b-a308-015c78c9821e')\"\n",
              "              title=\"Convert this dataframe to an interactive table.\"\n",
              "              style=\"display:none;\">\n",
              "        \n",
              "  <svg xmlns=\"http://www.w3.org/2000/svg\" height=\"24px\"viewBox=\"0 0 24 24\"\n",
              "       width=\"24px\">\n",
              "    <path d=\"M0 0h24v24H0V0z\" fill=\"none\"/>\n",
              "    <path d=\"M18.56 5.44l.94 2.06.94-2.06 2.06-.94-2.06-.94-.94-2.06-.94 2.06-2.06.94zm-11 1L8.5 8.5l.94-2.06 2.06-.94-2.06-.94L8.5 2.5l-.94 2.06-2.06.94zm10 10l.94 2.06.94-2.06 2.06-.94-2.06-.94-.94-2.06-.94 2.06-2.06.94z\"/><path d=\"M17.41 7.96l-1.37-1.37c-.4-.4-.92-.59-1.43-.59-.52 0-1.04.2-1.43.59L10.3 9.45l-7.72 7.72c-.78.78-.78 2.05 0 2.83L4 21.41c.39.39.9.59 1.41.59.51 0 1.02-.2 1.41-.59l7.78-7.78 2.81-2.81c.8-.78.8-2.07 0-2.86zM5.41 20L4 18.59l7.72-7.72 1.47 1.35L5.41 20z\"/>\n",
              "  </svg>\n",
              "      </button>\n",
              "      \n",
              "  <style>\n",
              "    .colab-df-container {\n",
              "      display:flex;\n",
              "      flex-wrap:wrap;\n",
              "      gap: 12px;\n",
              "    }\n",
              "\n",
              "    .colab-df-convert {\n",
              "      background-color: #E8F0FE;\n",
              "      border: none;\n",
              "      border-radius: 50%;\n",
              "      cursor: pointer;\n",
              "      display: none;\n",
              "      fill: #1967D2;\n",
              "      height: 32px;\n",
              "      padding: 0 0 0 0;\n",
              "      width: 32px;\n",
              "    }\n",
              "\n",
              "    .colab-df-convert:hover {\n",
              "      background-color: #E2EBFA;\n",
              "      box-shadow: 0px 1px 2px rgba(60, 64, 67, 0.3), 0px 1px 3px 1px rgba(60, 64, 67, 0.15);\n",
              "      fill: #174EA6;\n",
              "    }\n",
              "\n",
              "    [theme=dark] .colab-df-convert {\n",
              "      background-color: #3B4455;\n",
              "      fill: #D2E3FC;\n",
              "    }\n",
              "\n",
              "    [theme=dark] .colab-df-convert:hover {\n",
              "      background-color: #434B5C;\n",
              "      box-shadow: 0px 1px 3px 1px rgba(0, 0, 0, 0.15);\n",
              "      filter: drop-shadow(0px 1px 2px rgba(0, 0, 0, 0.3));\n",
              "      fill: #FFFFFF;\n",
              "    }\n",
              "  </style>\n",
              "\n",
              "      <script>\n",
              "        const buttonEl =\n",
              "          document.querySelector('#df-456d3fb2-5c4d-476b-a308-015c78c9821e button.colab-df-convert');\n",
              "        buttonEl.style.display =\n",
              "          google.colab.kernel.accessAllowed ? 'block' : 'none';\n",
              "\n",
              "        async function convertToInteractive(key) {\n",
              "          const element = document.querySelector('#df-456d3fb2-5c4d-476b-a308-015c78c9821e');\n",
              "          const dataTable =\n",
              "            await google.colab.kernel.invokeFunction('convertToInteractive',\n",
              "                                                     [key], {});\n",
              "          if (!dataTable) return;\n",
              "\n",
              "          const docLinkHtml = 'Like what you see? Visit the ' +\n",
              "            '<a target=\"_blank\" href=https://colab.research.google.com/notebooks/data_table.ipynb>data table notebook</a>'\n",
              "            + ' to learn more about interactive tables.';\n",
              "          element.innerHTML = '';\n",
              "          dataTable['output_type'] = 'display_data';\n",
              "          await google.colab.output.renderOutput(dataTable, element);\n",
              "          const docLink = document.createElement('div');\n",
              "          docLink.innerHTML = docLinkHtml;\n",
              "          element.appendChild(docLink);\n",
              "        }\n",
              "      </script>\n",
              "    </div>\n",
              "  </div>\n",
              "  "
            ]
          },
          "metadata": {},
          "execution_count": 305
        }
      ]
    },
    {
      "cell_type": "code",
      "source": [
        "maior_sharpe = portfolios['Sharpe Ratio'].max()\n",
        "carteira_maior_sharpe = portfolios.loc[portfolios['Sharpe Ratio'] == maior_sharpe]\n",
        "carteira_maior_sharpe.T"
      ],
      "metadata": {
        "id": "_RQ1raSzjVm9"
      },
      "execution_count": null,
      "outputs": []
    }
  ],
  "metadata": {
    "colab": {
      "collapsed_sections": [
        "YCigEX37o4R2",
        "HYUtcKaAdWBD"
      ],
      "name": "VAR-Value at Risk",
      "provenance": [],
      "toc_visible": true,
      "authorship_tag": "ABX9TyOwZk8DOaswgQw1MGcRomDU",
      "include_colab_link": true
    },
    "kernelspec": {
      "display_name": "Python 3",
      "name": "python3"
    },
    "language_info": {
      "name": "python"
    }
  },
  "nbformat": 4,
  "nbformat_minor": 0
}
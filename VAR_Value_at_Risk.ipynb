{
  "cells": [
    {
      "cell_type": "markdown",
      "metadata": {
        "id": "view-in-github",
        "colab_type": "text"
      },
      "source": [
        "<a href=\"https://colab.research.google.com/github/brayanricardo13/Analisis-Econometrico/blob/main/VAR_Value_at_Risk.ipynb\" target=\"_parent\"><img src=\"https://colab.research.google.com/assets/colab-badge.svg\" alt=\"Open In Colab\"/></a>"
      ]
    },
    {
      "cell_type": "code",
      "execution_count": null,
      "metadata": {
        "id": "BQp1AW-reqrc"
      },
      "outputs": [],
      "source": [
        "pip install yfinance"
      ]
    },
    {
      "cell_type": "code",
      "execution_count": 2,
      "metadata": {
        "id": "aIcm3X9UuAjb",
        "colab": {
          "base_uri": "https://localhost:8080/"
        },
        "outputId": "74496d1d-b752-4f1a-a2e1-d5cfaec81371"
      },
      "outputs": [
        {
          "output_type": "stream",
          "name": "stdout",
          "text": [
            "      Successfully uninstalled cvxpy-1.0.31\n",
            "Successfully installed PyPortfolioOpt-1.5.2 cvxpy-1.2.1\n"
          ]
        }
      ],
      "source": [
        "pip install PyPortfolioOpt"
      ]
    },
    {
      "cell_type": "markdown",
      "source": [
        "# **VAR - Value at risk**"
      ],
      "metadata": {
        "id": "YCigEX37o4R2"
      }
    },
    {
      "cell_type": "code",
      "execution_count": 3,
      "metadata": {
        "id": "Hga4WyjlDbj4"
      },
      "outputs": [],
      "source": [
        "import yfinance as yf ,numpy as np, datetime as dt, matplotlib.pyplot as plt \n",
        "import pandas as pd\n",
        "import seaborn as sns\n",
        "from scipy.stats import norm"
      ]
    },
    {
      "cell_type": "code",
      "execution_count": 29,
      "metadata": {
        "id": "XIZ4rCboD282"
      },
      "outputs": [],
      "source": [
        "tickers = [\"TQQQ\",\"PYPL\",\"AMZN\",\"MCO\",\"QQQ\",\"META\",\"GOOGL\",\"DIS\",\"MSFT\",\"JPM\",\"NVDA\",\"SSO\"]\n",
        "weight = np.array([11.4,6.0,11.1,0.8,17.4,16.8,10.8,5.8,2.1,2.5,0.9,2.9])"
      ]
    },
    {
      "cell_type": "code",
      "execution_count": null,
      "metadata": {
        "id": "O45CITbUk6h7"
      },
      "outputs": [],
      "source": [
        "Start = dt.datetime(2019,1,1)\n",
        "end = dt.datetime.now()\n",
        "\n",
        "df = yf.download(tickers,Start,end,interval=\"1d\")[\"Adj Close\"]\n",
        "df=df.dropna()\n",
        "df"
      ]
    },
    {
      "cell_type": "code",
      "source": [
        "df.describe()"
      ],
      "metadata": {
        "id": "5ngnLn2-YMpZ"
      },
      "execution_count": null,
      "outputs": []
    },
    {
      "cell_type": "code",
      "execution_count": null,
      "metadata": {
        "id": "nLrm5-l4vVz3"
      },
      "outputs": [],
      "source": [
        "df.plot()\n",
        "plt.show()"
      ]
    },
    {
      "cell_type": "code",
      "execution_count": null,
      "metadata": {
        "id": "AQVagGHFkOJz"
      },
      "outputs": [],
      "source": [
        "retourns = df.pct_change() # Retornos \n",
        "retourns.plot()\n",
        "retourns"
      ]
    },
    {
      "cell_type": "code",
      "execution_count": null,
      "metadata": {
        "id": "WtL5td6FlRnG"
      },
      "outputs": [],
      "source": [
        "cov_matrix = retourns.cov() # Matriz de varianzas y Covarianzas de los retornos\n",
        "cov_matrix "
      ]
    },
    {
      "cell_type": "code",
      "source": [
        "corr = retourns.corr() # correlaciones \n",
        "corr"
      ],
      "metadata": {
        "id": "9hUDjSish1WS"
      },
      "execution_count": null,
      "outputs": []
    },
    {
      "cell_type": "code",
      "source": [
        "retourns=retourns.corr(method=\"spearman\") # Correlaciones Dolar \n",
        "sns.heatmap(retourns,annot=True) # Diagrama de correlacion "
      ],
      "metadata": {
        "id": "0gPvL0m72ukA"
      },
      "execution_count": null,
      "outputs": []
    },
    {
      "cell_type": "code",
      "execution_count": null,
      "metadata": {
        "id": "m-SejivTlzI1"
      },
      "outputs": [],
      "source": [
        "avg_retorns = retourns.mean() # Promedio de retornos \n",
        "avg_retorns"
      ]
    },
    {
      "cell_type": "code",
      "execution_count": null,
      "metadata": {
        "id": "RLZqDHJ8mAfa"
      },
      "outputs": [],
      "source": [
        "count = retourns.count() # Numero de retornos \n",
        "count"
      ]
    },
    {
      "cell_type": "code",
      "execution_count": 30,
      "metadata": {
        "id": "XU_OAsSSmR99"
      },
      "outputs": [],
      "source": [
        "Port_mean = avg_retorns @ weight\n",
        "Port_std = np.sqrt(weight.T @cov_matrix @weight  )"
      ]
    },
    {
      "cell_type": "code",
      "execution_count": 31,
      "metadata": {
        "id": "5fa3c1URnKLS",
        "colab": {
          "base_uri": "https://localhost:8080/"
        },
        "outputId": "dc3b7314-d209-45c3-9e54-a796c2b02bbf"
      },
      "outputs": [
        {
          "output_type": "execute_result",
          "data": {
            "text/plain": [
              "26.394375412481708"
            ]
          },
          "metadata": {},
          "execution_count": 31
        }
      ],
      "source": [
        "Port_mean # Media del Portafolio "
      ]
    },
    {
      "cell_type": "code",
      "execution_count": 32,
      "metadata": {
        "id": "C1YC1WztnZlz",
        "colab": {
          "base_uri": "https://localhost:8080/"
        },
        "outputId": "74696ccd-d370-4a27-d721-ee3bedcf5acd"
      },
      "outputs": [
        {
          "output_type": "execute_result",
          "data": {
            "text/plain": [
              "27.140664191110403"
            ]
          },
          "metadata": {},
          "execution_count": 32
        }
      ],
      "source": [
        "Port_std # Desviacion estandar del portafolio "
      ]
    },
    {
      "cell_type": "code",
      "execution_count": null,
      "metadata": {
        "id": "ksTp4DGonpok"
      },
      "outputs": [],
      "source": [
        "x = np.arange(-0.05,0.05,0.001)\n",
        "norm_dist = norm.pdf(x,Port_mean,Port_std)\n",
        "plt.plot(x,norm_dist,color=\"r\")\n",
        "plt.show()"
      ]
    },
    {
      "cell_type": "code",
      "execution_count": 34,
      "metadata": {
        "id": "MuRz4f7VoeSU",
        "colab": {
          "base_uri": "https://localhost:8080/"
        },
        "outputId": "ce518fe0-8aab-4656-bb94-48a7487580f3"
      },
      "outputs": [
        {
          "output_type": "execute_result",
          "data": {
            "text/plain": [
              "-18.2480445201382"
            ]
          },
          "metadata": {},
          "execution_count": 34
        }
      ],
      "source": [
        "confidence_level = 0.05\n",
        "VaR = norm.ppf(confidence_level,Port_mean,Port_std)\n",
        "VaR"
      ]
    },
    {
      "cell_type": "code",
      "execution_count": 35,
      "metadata": {
        "id": "KGZm0RTqpDav",
        "colab": {
          "base_uri": "https://localhost:8080/"
        },
        "outputId": "2de19e38-8d15-4a03-c9e3-9aba2ccd7dd5"
      },
      "outputs": [
        {
          "output_type": "execute_result",
          "data": {
            "text/plain": [
              "-40.80386800347155"
            ]
          },
          "metadata": {},
          "execution_count": 35
        }
      ],
      "source": [
        "num_days = 5 \n",
        "VaR*np.sqrt(num_days)"
      ]
    },
    {
      "cell_type": "markdown",
      "source": [
        "# **Portafolio Eficiente**"
      ],
      "metadata": {
        "id": "HYUtcKaAdWBD"
      }
    },
    {
      "cell_type": "code",
      "source": [
        "acoes = [\"TQQQ\",\"PYPL\",\"AMZN\",\"MCO\",\"QQQ\",\"META\",\"GOOGL\",\"DIS\",\"MSFT\",\"JPM\",\"NVDA\",\"SSO\",\"SPXL\"]\n",
        "carteira = pd.DataFrame()\n",
        "for i in acoes:\n",
        "  carteira[i] = yf.download(i,Start,end,interval=\"1d\")['Adj Close']\n",
        "carteira=carteira.dropna()\n",
        "carteira"
      ],
      "metadata": {
        "id": "EXVopOpCilj7"
      },
      "execution_count": null,
      "outputs": []
    },
    {
      "cell_type": "code",
      "source": [
        "sns.set()\n",
        "carteira_normalizada = carteira/carteira.iloc[0]\n",
        "carteira_normalizada.plot(figsize=(21,9))"
      ],
      "metadata": {
        "id": "nD3-q9TqiyOe"
      },
      "execution_count": null,
      "outputs": []
    },
    {
      "cell_type": "code",
      "source": [
        "retorno = carteira.pct_change()\n",
        "retorno"
      ],
      "metadata": {
        "id": "Vvrh0NLAi-pM"
      },
      "execution_count": null,
      "outputs": []
    },
    {
      "cell_type": "code",
      "source": [
        "retorno_anual = retorno.mean() * 365\n",
        "retorno_anual"
      ],
      "metadata": {
        "id": "4snB7TdCjC43"
      },
      "execution_count": null,
      "outputs": []
    },
    {
      "cell_type": "code",
      "source": [
        "cov = retorno.cov() * 365\n",
        "cov"
      ],
      "metadata": {
        "id": "CUxXXJopjC8C"
      },
      "execution_count": null,
      "outputs": []
    },
    {
      "cell_type": "code",
      "source": [
        "corr = retorno.corr()\n",
        "corr"
      ],
      "metadata": {
        "id": "gFhDy1NCjC_O"
      },
      "execution_count": null,
      "outputs": []
    },
    {
      "cell_type": "code",
      "source": [
        "num_acoes = len(acoes)\n",
        "num_carteiras = 10000\n",
        "\n",
        "lista_retornos = []\n",
        "lista_volatilidade = []\n",
        "lista_pesos = []\n",
        "lista_sharpe_ratio = []"
      ],
      "metadata": {
        "id": "7GMn4HKVjJ7V"
      },
      "execution_count": 60,
      "outputs": []
    },
    {
      "cell_type": "code",
      "source": [
        "for carteira in range(num_carteiras):\n",
        "  peso = np.random.random(num_acoes)\n",
        "  peso /= np.sum(peso)\n",
        "  lista_pesos.append(peso)\n",
        "  retorno_esperado = np.dot(peso, retorno_anual)\n",
        "  lista_retornos.append(retorno_esperado)\n",
        "  volatilidade = np.sqrt(np.dot(peso.T, np.dot(cov, peso)))\n",
        "  lista_volatilidade.append(volatilidade)\n",
        "  sharpe_ratio = retorno_esperado/volatilidade\n",
        "  lista_sharpe_ratio.append(sharpe_ratio)"
      ],
      "metadata": {
        "id": "DCS-sjeCjMZl"
      },
      "execution_count": 61,
      "outputs": []
    },
    {
      "cell_type": "code",
      "source": [
        "dic_carteiras = {'Retorno': lista_retornos, 'Volatilidade': lista_volatilidade, 'Sharpe Ratio': lista_sharpe_ratio}\n",
        "for contar,acao in enumerate(acoes):\n",
        "  dic_carteiras[acao+' Peso'] = [Peso[contar] for Peso in lista_pesos]\n",
        "portfolios = pd.DataFrame(dic_carteiras)\n",
        "colunas = ['Retorno', 'Volatilidade', 'Sharpe Ratio'] + [acao+' Peso' for acao in acoes]\n",
        "\n",
        "portfolios = portfolios[colunas]\n",
        "portfolios"
      ],
      "metadata": {
        "id": "RaJp05fHjMjh"
      },
      "execution_count": null,
      "outputs": []
    },
    {
      "cell_type": "code",
      "source": [
        "plt.style.use('seaborn-dark')\n",
        "portfolios.plot.scatter(x='Volatilidade', y='Retorno', c='Sharpe Ratio', edgecolors='black', figsize=(21,9), grid=True)\n",
        "plt.xlabel('Volatilidade', fontsize=16)\n",
        "plt.ylabel('Retorno Esperado', fontsize=16)\n",
        "plt.title('Fronteira Eficiente de Markowitz', fontsize=22)\n",
        "plt.savefig('Fronteira.png', dpi = 500)"
      ],
      "metadata": {
        "id": "97INy4MQjMq_"
      },
      "execution_count": null,
      "outputs": []
    },
    {
      "cell_type": "code",
      "source": [
        "sns.scatterplot(x = 'Volatilidade', y = 'Retorno', hue = 'Sharpe Ratio', data = portfolios, legend=None)\n",
        "sns.set_xticklabels('Volatilidade', fontsize = 16)\n",
        "sns.set_yticklabels('Retorno Esperado', fontsize = 16)\n",
        "sns.set_title('Fronteira Eficiente de Markowitz', fontsize = 22)"
      ],
      "metadata": {
        "id": "0uW_dThnjTGA"
      },
      "execution_count": null,
      "outputs": []
    },
    {
      "cell_type": "code",
      "source": [
        "menor_volatilidade = portfolios['Volatilidade'].min()\n",
        "carteira_min_variancia = portfolios.loc[portfolios['Volatilidade'] == menor_volatilidade]\n",
        "carteira_min_variancia.T*100"
      ],
      "metadata": {
        "colab": {
          "base_uri": "https://localhost:8080/",
          "height": 551
        },
        "id": "hgAYy6OojVe3",
        "outputId": "e212385f-b90b-4c6f-bc2c-f875a50556ee"
      },
      "execution_count": 65,
      "outputs": [
        {
          "output_type": "execute_result",
          "data": {
            "text/plain": [
              "                   8008\n",
              "Retorno       22.502959\n",
              "Volatilidade  33.764236\n",
              "Sharpe Ratio  66.647321\n",
              "TQQQ Peso      0.522628\n",
              "PYPL Peso     13.657357\n",
              "AMZN Peso     15.303782\n",
              "MCO Peso       6.961951\n",
              "QQQ Peso      18.433762\n",
              "META Peso      8.350411\n",
              "GOOGL Peso    12.693651\n",
              "DIS Peso      17.429364\n",
              "MSFT Peso      1.975358\n",
              "JPM Peso       3.286347\n",
              "NVDA Peso      0.326164\n",
              "SSO Peso       0.853532\n",
              "SPXL Peso      0.205692"
            ],
            "text/html": [
              "\n",
              "  <div id=\"df-dfe2e169-21f9-4017-b910-7e8821375176\">\n",
              "    <div class=\"colab-df-container\">\n",
              "      <div>\n",
              "<style scoped>\n",
              "    .dataframe tbody tr th:only-of-type {\n",
              "        vertical-align: middle;\n",
              "    }\n",
              "\n",
              "    .dataframe tbody tr th {\n",
              "        vertical-align: top;\n",
              "    }\n",
              "\n",
              "    .dataframe thead th {\n",
              "        text-align: right;\n",
              "    }\n",
              "</style>\n",
              "<table border=\"1\" class=\"dataframe\">\n",
              "  <thead>\n",
              "    <tr style=\"text-align: right;\">\n",
              "      <th></th>\n",
              "      <th>8008</th>\n",
              "    </tr>\n",
              "  </thead>\n",
              "  <tbody>\n",
              "    <tr>\n",
              "      <th>Retorno</th>\n",
              "      <td>22.502959</td>\n",
              "    </tr>\n",
              "    <tr>\n",
              "      <th>Volatilidade</th>\n",
              "      <td>33.764236</td>\n",
              "    </tr>\n",
              "    <tr>\n",
              "      <th>Sharpe Ratio</th>\n",
              "      <td>66.647321</td>\n",
              "    </tr>\n",
              "    <tr>\n",
              "      <th>TQQQ Peso</th>\n",
              "      <td>0.522628</td>\n",
              "    </tr>\n",
              "    <tr>\n",
              "      <th>PYPL Peso</th>\n",
              "      <td>13.657357</td>\n",
              "    </tr>\n",
              "    <tr>\n",
              "      <th>AMZN Peso</th>\n",
              "      <td>15.303782</td>\n",
              "    </tr>\n",
              "    <tr>\n",
              "      <th>MCO Peso</th>\n",
              "      <td>6.961951</td>\n",
              "    </tr>\n",
              "    <tr>\n",
              "      <th>QQQ Peso</th>\n",
              "      <td>18.433762</td>\n",
              "    </tr>\n",
              "    <tr>\n",
              "      <th>META Peso</th>\n",
              "      <td>8.350411</td>\n",
              "    </tr>\n",
              "    <tr>\n",
              "      <th>GOOGL Peso</th>\n",
              "      <td>12.693651</td>\n",
              "    </tr>\n",
              "    <tr>\n",
              "      <th>DIS Peso</th>\n",
              "      <td>17.429364</td>\n",
              "    </tr>\n",
              "    <tr>\n",
              "      <th>MSFT Peso</th>\n",
              "      <td>1.975358</td>\n",
              "    </tr>\n",
              "    <tr>\n",
              "      <th>JPM Peso</th>\n",
              "      <td>3.286347</td>\n",
              "    </tr>\n",
              "    <tr>\n",
              "      <th>NVDA Peso</th>\n",
              "      <td>0.326164</td>\n",
              "    </tr>\n",
              "    <tr>\n",
              "      <th>SSO Peso</th>\n",
              "      <td>0.853532</td>\n",
              "    </tr>\n",
              "    <tr>\n",
              "      <th>SPXL Peso</th>\n",
              "      <td>0.205692</td>\n",
              "    </tr>\n",
              "  </tbody>\n",
              "</table>\n",
              "</div>\n",
              "      <button class=\"colab-df-convert\" onclick=\"convertToInteractive('df-dfe2e169-21f9-4017-b910-7e8821375176')\"\n",
              "              title=\"Convert this dataframe to an interactive table.\"\n",
              "              style=\"display:none;\">\n",
              "        \n",
              "  <svg xmlns=\"http://www.w3.org/2000/svg\" height=\"24px\"viewBox=\"0 0 24 24\"\n",
              "       width=\"24px\">\n",
              "    <path d=\"M0 0h24v24H0V0z\" fill=\"none\"/>\n",
              "    <path d=\"M18.56 5.44l.94 2.06.94-2.06 2.06-.94-2.06-.94-.94-2.06-.94 2.06-2.06.94zm-11 1L8.5 8.5l.94-2.06 2.06-.94-2.06-.94L8.5 2.5l-.94 2.06-2.06.94zm10 10l.94 2.06.94-2.06 2.06-.94-2.06-.94-.94-2.06-.94 2.06-2.06.94z\"/><path d=\"M17.41 7.96l-1.37-1.37c-.4-.4-.92-.59-1.43-.59-.52 0-1.04.2-1.43.59L10.3 9.45l-7.72 7.72c-.78.78-.78 2.05 0 2.83L4 21.41c.39.39.9.59 1.41.59.51 0 1.02-.2 1.41-.59l7.78-7.78 2.81-2.81c.8-.78.8-2.07 0-2.86zM5.41 20L4 18.59l7.72-7.72 1.47 1.35L5.41 20z\"/>\n",
              "  </svg>\n",
              "      </button>\n",
              "      \n",
              "  <style>\n",
              "    .colab-df-container {\n",
              "      display:flex;\n",
              "      flex-wrap:wrap;\n",
              "      gap: 12px;\n",
              "    }\n",
              "\n",
              "    .colab-df-convert {\n",
              "      background-color: #E8F0FE;\n",
              "      border: none;\n",
              "      border-radius: 50%;\n",
              "      cursor: pointer;\n",
              "      display: none;\n",
              "      fill: #1967D2;\n",
              "      height: 32px;\n",
              "      padding: 0 0 0 0;\n",
              "      width: 32px;\n",
              "    }\n",
              "\n",
              "    .colab-df-convert:hover {\n",
              "      background-color: #E2EBFA;\n",
              "      box-shadow: 0px 1px 2px rgba(60, 64, 67, 0.3), 0px 1px 3px 1px rgba(60, 64, 67, 0.15);\n",
              "      fill: #174EA6;\n",
              "    }\n",
              "\n",
              "    [theme=dark] .colab-df-convert {\n",
              "      background-color: #3B4455;\n",
              "      fill: #D2E3FC;\n",
              "    }\n",
              "\n",
              "    [theme=dark] .colab-df-convert:hover {\n",
              "      background-color: #434B5C;\n",
              "      box-shadow: 0px 1px 3px 1px rgba(0, 0, 0, 0.15);\n",
              "      filter: drop-shadow(0px 1px 2px rgba(0, 0, 0, 0.3));\n",
              "      fill: #FFFFFF;\n",
              "    }\n",
              "  </style>\n",
              "\n",
              "      <script>\n",
              "        const buttonEl =\n",
              "          document.querySelector('#df-dfe2e169-21f9-4017-b910-7e8821375176 button.colab-df-convert');\n",
              "        buttonEl.style.display =\n",
              "          google.colab.kernel.accessAllowed ? 'block' : 'none';\n",
              "\n",
              "        async function convertToInteractive(key) {\n",
              "          const element = document.querySelector('#df-dfe2e169-21f9-4017-b910-7e8821375176');\n",
              "          const dataTable =\n",
              "            await google.colab.kernel.invokeFunction('convertToInteractive',\n",
              "                                                     [key], {});\n",
              "          if (!dataTable) return;\n",
              "\n",
              "          const docLinkHtml = 'Like what you see? Visit the ' +\n",
              "            '<a target=\"_blank\" href=https://colab.research.google.com/notebooks/data_table.ipynb>data table notebook</a>'\n",
              "            + ' to learn more about interactive tables.';\n",
              "          element.innerHTML = '';\n",
              "          dataTable['output_type'] = 'display_data';\n",
              "          await google.colab.output.renderOutput(dataTable, element);\n",
              "          const docLink = document.createElement('div');\n",
              "          docLink.innerHTML = docLinkHtml;\n",
              "          element.appendChild(docLink);\n",
              "        }\n",
              "      </script>\n",
              "    </div>\n",
              "  </div>\n",
              "  "
            ]
          },
          "metadata": {},
          "execution_count": 65
        }
      ]
    },
    {
      "cell_type": "code",
      "source": [
        "maior_sharpe = portfolios['Sharpe Ratio'].max()\n",
        "carteira_maior_sharpe = portfolios.loc[portfolios['Sharpe Ratio'] == maior_sharpe]\n",
        "carteira_maior_sharpe.T*100"
      ],
      "metadata": {
        "id": "_RQ1raSzjVm9",
        "colab": {
          "base_uri": "https://localhost:8080/",
          "height": 551
        },
        "outputId": "01cd4fd1-cafe-4dea-eb9d-b608e6de5a6a"
      },
      "execution_count": 67,
      "outputs": [
        {
          "output_type": "execute_result",
          "data": {
            "text/plain": [
              "                    3339\n",
              "Retorno        44.679960\n",
              "Volatilidade   40.187075\n",
              "Sharpe Ratio  111.179927\n",
              "TQQQ Peso       3.435076\n",
              "PYPL Peso       3.545163\n",
              "AMZN Peso       3.787258\n",
              "MCO Peso       13.433571\n",
              "QQQ Peso        8.723760\n",
              "META Peso       0.279281\n",
              "GOOGL Peso     11.964235\n",
              "DIS Peso        6.467070\n",
              "MSFT Peso      15.709540\n",
              "JPM Peso        4.474535\n",
              "NVDA Peso      20.598888\n",
              "SSO Peso        6.837804\n",
              "SPXL Peso       0.743818"
            ],
            "text/html": [
              "\n",
              "  <div id=\"df-0d47f4a8-5cfe-437a-be5f-44b3f00c160a\">\n",
              "    <div class=\"colab-df-container\">\n",
              "      <div>\n",
              "<style scoped>\n",
              "    .dataframe tbody tr th:only-of-type {\n",
              "        vertical-align: middle;\n",
              "    }\n",
              "\n",
              "    .dataframe tbody tr th {\n",
              "        vertical-align: top;\n",
              "    }\n",
              "\n",
              "    .dataframe thead th {\n",
              "        text-align: right;\n",
              "    }\n",
              "</style>\n",
              "<table border=\"1\" class=\"dataframe\">\n",
              "  <thead>\n",
              "    <tr style=\"text-align: right;\">\n",
              "      <th></th>\n",
              "      <th>3339</th>\n",
              "    </tr>\n",
              "  </thead>\n",
              "  <tbody>\n",
              "    <tr>\n",
              "      <th>Retorno</th>\n",
              "      <td>44.679960</td>\n",
              "    </tr>\n",
              "    <tr>\n",
              "      <th>Volatilidade</th>\n",
              "      <td>40.187075</td>\n",
              "    </tr>\n",
              "    <tr>\n",
              "      <th>Sharpe Ratio</th>\n",
              "      <td>111.179927</td>\n",
              "    </tr>\n",
              "    <tr>\n",
              "      <th>TQQQ Peso</th>\n",
              "      <td>3.435076</td>\n",
              "    </tr>\n",
              "    <tr>\n",
              "      <th>PYPL Peso</th>\n",
              "      <td>3.545163</td>\n",
              "    </tr>\n",
              "    <tr>\n",
              "      <th>AMZN Peso</th>\n",
              "      <td>3.787258</td>\n",
              "    </tr>\n",
              "    <tr>\n",
              "      <th>MCO Peso</th>\n",
              "      <td>13.433571</td>\n",
              "    </tr>\n",
              "    <tr>\n",
              "      <th>QQQ Peso</th>\n",
              "      <td>8.723760</td>\n",
              "    </tr>\n",
              "    <tr>\n",
              "      <th>META Peso</th>\n",
              "      <td>0.279281</td>\n",
              "    </tr>\n",
              "    <tr>\n",
              "      <th>GOOGL Peso</th>\n",
              "      <td>11.964235</td>\n",
              "    </tr>\n",
              "    <tr>\n",
              "      <th>DIS Peso</th>\n",
              "      <td>6.467070</td>\n",
              "    </tr>\n",
              "    <tr>\n",
              "      <th>MSFT Peso</th>\n",
              "      <td>15.709540</td>\n",
              "    </tr>\n",
              "    <tr>\n",
              "      <th>JPM Peso</th>\n",
              "      <td>4.474535</td>\n",
              "    </tr>\n",
              "    <tr>\n",
              "      <th>NVDA Peso</th>\n",
              "      <td>20.598888</td>\n",
              "    </tr>\n",
              "    <tr>\n",
              "      <th>SSO Peso</th>\n",
              "      <td>6.837804</td>\n",
              "    </tr>\n",
              "    <tr>\n",
              "      <th>SPXL Peso</th>\n",
              "      <td>0.743818</td>\n",
              "    </tr>\n",
              "  </tbody>\n",
              "</table>\n",
              "</div>\n",
              "      <button class=\"colab-df-convert\" onclick=\"convertToInteractive('df-0d47f4a8-5cfe-437a-be5f-44b3f00c160a')\"\n",
              "              title=\"Convert this dataframe to an interactive table.\"\n",
              "              style=\"display:none;\">\n",
              "        \n",
              "  <svg xmlns=\"http://www.w3.org/2000/svg\" height=\"24px\"viewBox=\"0 0 24 24\"\n",
              "       width=\"24px\">\n",
              "    <path d=\"M0 0h24v24H0V0z\" fill=\"none\"/>\n",
              "    <path d=\"M18.56 5.44l.94 2.06.94-2.06 2.06-.94-2.06-.94-.94-2.06-.94 2.06-2.06.94zm-11 1L8.5 8.5l.94-2.06 2.06-.94-2.06-.94L8.5 2.5l-.94 2.06-2.06.94zm10 10l.94 2.06.94-2.06 2.06-.94-2.06-.94-.94-2.06-.94 2.06-2.06.94z\"/><path d=\"M17.41 7.96l-1.37-1.37c-.4-.4-.92-.59-1.43-.59-.52 0-1.04.2-1.43.59L10.3 9.45l-7.72 7.72c-.78.78-.78 2.05 0 2.83L4 21.41c.39.39.9.59 1.41.59.51 0 1.02-.2 1.41-.59l7.78-7.78 2.81-2.81c.8-.78.8-2.07 0-2.86zM5.41 20L4 18.59l7.72-7.72 1.47 1.35L5.41 20z\"/>\n",
              "  </svg>\n",
              "      </button>\n",
              "      \n",
              "  <style>\n",
              "    .colab-df-container {\n",
              "      display:flex;\n",
              "      flex-wrap:wrap;\n",
              "      gap: 12px;\n",
              "    }\n",
              "\n",
              "    .colab-df-convert {\n",
              "      background-color: #E8F0FE;\n",
              "      border: none;\n",
              "      border-radius: 50%;\n",
              "      cursor: pointer;\n",
              "      display: none;\n",
              "      fill: #1967D2;\n",
              "      height: 32px;\n",
              "      padding: 0 0 0 0;\n",
              "      width: 32px;\n",
              "    }\n",
              "\n",
              "    .colab-df-convert:hover {\n",
              "      background-color: #E2EBFA;\n",
              "      box-shadow: 0px 1px 2px rgba(60, 64, 67, 0.3), 0px 1px 3px 1px rgba(60, 64, 67, 0.15);\n",
              "      fill: #174EA6;\n",
              "    }\n",
              "\n",
              "    [theme=dark] .colab-df-convert {\n",
              "      background-color: #3B4455;\n",
              "      fill: #D2E3FC;\n",
              "    }\n",
              "\n",
              "    [theme=dark] .colab-df-convert:hover {\n",
              "      background-color: #434B5C;\n",
              "      box-shadow: 0px 1px 3px 1px rgba(0, 0, 0, 0.15);\n",
              "      filter: drop-shadow(0px 1px 2px rgba(0, 0, 0, 0.3));\n",
              "      fill: #FFFFFF;\n",
              "    }\n",
              "  </style>\n",
              "\n",
              "      <script>\n",
              "        const buttonEl =\n",
              "          document.querySelector('#df-0d47f4a8-5cfe-437a-be5f-44b3f00c160a button.colab-df-convert');\n",
              "        buttonEl.style.display =\n",
              "          google.colab.kernel.accessAllowed ? 'block' : 'none';\n",
              "\n",
              "        async function convertToInteractive(key) {\n",
              "          const element = document.querySelector('#df-0d47f4a8-5cfe-437a-be5f-44b3f00c160a');\n",
              "          const dataTable =\n",
              "            await google.colab.kernel.invokeFunction('convertToInteractive',\n",
              "                                                     [key], {});\n",
              "          if (!dataTable) return;\n",
              "\n",
              "          const docLinkHtml = 'Like what you see? Visit the ' +\n",
              "            '<a target=\"_blank\" href=https://colab.research.google.com/notebooks/data_table.ipynb>data table notebook</a>'\n",
              "            + ' to learn more about interactive tables.';\n",
              "          element.innerHTML = '';\n",
              "          dataTable['output_type'] = 'display_data';\n",
              "          await google.colab.output.renderOutput(dataTable, element);\n",
              "          const docLink = document.createElement('div');\n",
              "          docLink.innerHTML = docLinkHtml;\n",
              "          element.appendChild(docLink);\n",
              "        }\n",
              "      </script>\n",
              "    </div>\n",
              "  </div>\n",
              "  "
            ]
          },
          "metadata": {},
          "execution_count": 67
        }
      ]
    }
  ],
  "metadata": {
    "colab": {
      "collapsed_sections": [
        "YCigEX37o4R2",
        "HYUtcKaAdWBD"
      ],
      "name": "VAR-Value at Risk",
      "provenance": [],
      "include_colab_link": true
    },
    "kernelspec": {
      "display_name": "Python 3",
      "name": "python3"
    },
    "language_info": {
      "name": "python"
    }
  },
  "nbformat": 4,
  "nbformat_minor": 0
}
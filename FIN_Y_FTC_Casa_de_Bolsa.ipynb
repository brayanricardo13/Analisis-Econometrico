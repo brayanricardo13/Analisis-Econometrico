{
  "cells": [
    {
      "cell_type": "markdown",
      "metadata": {
        "id": "view-in-github",
        "colab_type": "text"
      },
      "source": [
        "<a href=\"https://colab.research.google.com/github/brayanricardo13/Analisis-Econometrico/blob/main/FIN_Y_FTC_Casa_de_Bolsa.ipynb\" target=\"_parent\"><img src=\"https://colab.research.google.com/assets/colab-badge.svg\" alt=\"Open In Colab\"/></a>"
      ]
    },
    {
      "cell_type": "code",
      "execution_count": 1,
      "metadata": {
        "id": "twJF-INpWwaM"
      },
      "outputs": [],
      "source": [
        "import pandas as pd\n",
        "import matplotlib.pyplot as plt\n",
        "import numpy as np\n",
        "import seaborn as sns"
      ]
    },
    {
      "cell_type": "code",
      "execution_count": 2,
      "metadata": {
        "id": "5zZx22blVNCe",
        "colab": {
          "base_uri": "https://localhost:8080/",
          "height": 90
        },
        "outputId": "b2345cda-cb89-4204-e60a-3062f3915c92"
      },
      "outputs": [
        {
          "output_type": "display_data",
          "data": {
            "text/plain": [
              "<IPython.core.display.HTML object>"
            ],
            "text/html": [
              "\n",
              "     <input type=\"file\" id=\"files-ce0b3c2a-d165-44cc-ba6a-8d8a152e4149\" name=\"files[]\" multiple disabled\n",
              "        style=\"border:none\" />\n",
              "     <output id=\"result-ce0b3c2a-d165-44cc-ba6a-8d8a152e4149\">\n",
              "      Upload widget is only available when the cell has been executed in the\n",
              "      current browser session. Please rerun this cell to enable.\n",
              "      </output>\n",
              "      <script>// Copyright 2017 Google LLC\n",
              "//\n",
              "// Licensed under the Apache License, Version 2.0 (the \"License\");\n",
              "// you may not use this file except in compliance with the License.\n",
              "// You may obtain a copy of the License at\n",
              "//\n",
              "//      http://www.apache.org/licenses/LICENSE-2.0\n",
              "//\n",
              "// Unless required by applicable law or agreed to in writing, software\n",
              "// distributed under the License is distributed on an \"AS IS\" BASIS,\n",
              "// WITHOUT WARRANTIES OR CONDITIONS OF ANY KIND, either express or implied.\n",
              "// See the License for the specific language governing permissions and\n",
              "// limitations under the License.\n",
              "\n",
              "/**\n",
              " * @fileoverview Helpers for google.colab Python module.\n",
              " */\n",
              "(function(scope) {\n",
              "function span(text, styleAttributes = {}) {\n",
              "  const element = document.createElement('span');\n",
              "  element.textContent = text;\n",
              "  for (const key of Object.keys(styleAttributes)) {\n",
              "    element.style[key] = styleAttributes[key];\n",
              "  }\n",
              "  return element;\n",
              "}\n",
              "\n",
              "// Max number of bytes which will be uploaded at a time.\n",
              "const MAX_PAYLOAD_SIZE = 100 * 1024;\n",
              "\n",
              "function _uploadFiles(inputId, outputId) {\n",
              "  const steps = uploadFilesStep(inputId, outputId);\n",
              "  const outputElement = document.getElementById(outputId);\n",
              "  // Cache steps on the outputElement to make it available for the next call\n",
              "  // to uploadFilesContinue from Python.\n",
              "  outputElement.steps = steps;\n",
              "\n",
              "  return _uploadFilesContinue(outputId);\n",
              "}\n",
              "\n",
              "// This is roughly an async generator (not supported in the browser yet),\n",
              "// where there are multiple asynchronous steps and the Python side is going\n",
              "// to poll for completion of each step.\n",
              "// This uses a Promise to block the python side on completion of each step,\n",
              "// then passes the result of the previous step as the input to the next step.\n",
              "function _uploadFilesContinue(outputId) {\n",
              "  const outputElement = document.getElementById(outputId);\n",
              "  const steps = outputElement.steps;\n",
              "\n",
              "  const next = steps.next(outputElement.lastPromiseValue);\n",
              "  return Promise.resolve(next.value.promise).then((value) => {\n",
              "    // Cache the last promise value to make it available to the next\n",
              "    // step of the generator.\n",
              "    outputElement.lastPromiseValue = value;\n",
              "    return next.value.response;\n",
              "  });\n",
              "}\n",
              "\n",
              "/**\n",
              " * Generator function which is called between each async step of the upload\n",
              " * process.\n",
              " * @param {string} inputId Element ID of the input file picker element.\n",
              " * @param {string} outputId Element ID of the output display.\n",
              " * @return {!Iterable<!Object>} Iterable of next steps.\n",
              " */\n",
              "function* uploadFilesStep(inputId, outputId) {\n",
              "  const inputElement = document.getElementById(inputId);\n",
              "  inputElement.disabled = false;\n",
              "\n",
              "  const outputElement = document.getElementById(outputId);\n",
              "  outputElement.innerHTML = '';\n",
              "\n",
              "  const pickedPromise = new Promise((resolve) => {\n",
              "    inputElement.addEventListener('change', (e) => {\n",
              "      resolve(e.target.files);\n",
              "    });\n",
              "  });\n",
              "\n",
              "  const cancel = document.createElement('button');\n",
              "  inputElement.parentElement.appendChild(cancel);\n",
              "  cancel.textContent = 'Cancel upload';\n",
              "  const cancelPromise = new Promise((resolve) => {\n",
              "    cancel.onclick = () => {\n",
              "      resolve(null);\n",
              "    };\n",
              "  });\n",
              "\n",
              "  // Wait for the user to pick the files.\n",
              "  const files = yield {\n",
              "    promise: Promise.race([pickedPromise, cancelPromise]),\n",
              "    response: {\n",
              "      action: 'starting',\n",
              "    }\n",
              "  };\n",
              "\n",
              "  cancel.remove();\n",
              "\n",
              "  // Disable the input element since further picks are not allowed.\n",
              "  inputElement.disabled = true;\n",
              "\n",
              "  if (!files) {\n",
              "    return {\n",
              "      response: {\n",
              "        action: 'complete',\n",
              "      }\n",
              "    };\n",
              "  }\n",
              "\n",
              "  for (const file of files) {\n",
              "    const li = document.createElement('li');\n",
              "    li.append(span(file.name, {fontWeight: 'bold'}));\n",
              "    li.append(span(\n",
              "        `(${file.type || 'n/a'}) - ${file.size} bytes, ` +\n",
              "        `last modified: ${\n",
              "            file.lastModifiedDate ? file.lastModifiedDate.toLocaleDateString() :\n",
              "                                    'n/a'} - `));\n",
              "    const percent = span('0% done');\n",
              "    li.appendChild(percent);\n",
              "\n",
              "    outputElement.appendChild(li);\n",
              "\n",
              "    const fileDataPromise = new Promise((resolve) => {\n",
              "      const reader = new FileReader();\n",
              "      reader.onload = (e) => {\n",
              "        resolve(e.target.result);\n",
              "      };\n",
              "      reader.readAsArrayBuffer(file);\n",
              "    });\n",
              "    // Wait for the data to be ready.\n",
              "    let fileData = yield {\n",
              "      promise: fileDataPromise,\n",
              "      response: {\n",
              "        action: 'continue',\n",
              "      }\n",
              "    };\n",
              "\n",
              "    // Use a chunked sending to avoid message size limits. See b/62115660.\n",
              "    let position = 0;\n",
              "    do {\n",
              "      const length = Math.min(fileData.byteLength - position, MAX_PAYLOAD_SIZE);\n",
              "      const chunk = new Uint8Array(fileData, position, length);\n",
              "      position += length;\n",
              "\n",
              "      const base64 = btoa(String.fromCharCode.apply(null, chunk));\n",
              "      yield {\n",
              "        response: {\n",
              "          action: 'append',\n",
              "          file: file.name,\n",
              "          data: base64,\n",
              "        },\n",
              "      };\n",
              "\n",
              "      let percentDone = fileData.byteLength === 0 ?\n",
              "          100 :\n",
              "          Math.round((position / fileData.byteLength) * 100);\n",
              "      percent.textContent = `${percentDone}% done`;\n",
              "\n",
              "    } while (position < fileData.byteLength);\n",
              "  }\n",
              "\n",
              "  // All done.\n",
              "  yield {\n",
              "    response: {\n",
              "      action: 'complete',\n",
              "    }\n",
              "  };\n",
              "}\n",
              "\n",
              "scope.google = scope.google || {};\n",
              "scope.google.colab = scope.google.colab || {};\n",
              "scope.google.colab._files = {\n",
              "  _uploadFiles,\n",
              "  _uploadFilesContinue,\n",
              "};\n",
              "})(self);\n",
              "</script> "
            ]
          },
          "metadata": {}
        },
        {
          "output_type": "stream",
          "name": "stdout",
          "text": [
            "Saving Valor de la Unidad.xlsx to Valor de la Unidad.xlsx\n"
          ]
        }
      ],
      "source": [
        "from google.colab import files\n",
        "# Subir múltiples archivos\n",
        "uploaded = files.upload()"
      ]
    },
    {
      "cell_type": "code",
      "execution_count": 3,
      "metadata": {
        "id": "nvOTjBRrW1db"
      },
      "outputs": [],
      "source": [
        "FIN = pd.read_excel(\"/content/Valor de la Unidad.xlsx\", sheet_name=\"FIN\")"
      ]
    },
    {
      "cell_type": "code",
      "source": [
        "FTC = pd.read_excel(\"/content/Valor de la Unidad.xlsx\", sheet_name=\"FTC\")"
      ],
      "metadata": {
        "id": "dhQw7XwctKob"
      },
      "execution_count": 4,
      "outputs": []
    },
    {
      "cell_type": "code",
      "source": [
        "FIN['Fecha'] = pd.to_datetime(FIN['Fecha'])\n",
        "FTC['Fecha'] = pd.to_datetime(FTC['Fecha'])"
      ],
      "metadata": {
        "id": "MqYVEK5nuJng"
      },
      "execution_count": 5,
      "outputs": []
    },
    {
      "cell_type": "code",
      "source": [
        "FIN.set_index('Fecha', inplace=True)\n",
        "FTC.set_index('Fecha', inplace=True)"
      ],
      "metadata": {
        "id": "NdOs-Tgr0_Cd"
      },
      "execution_count": 6,
      "outputs": []
    },
    {
      "cell_type": "code",
      "execution_count": 7,
      "metadata": {
        "id": "nY3DPqcfXNrU",
        "outputId": "82a3066c-c702-424c-f01d-9428dab297ec",
        "colab": {
          "base_uri": "https://localhost:8080/",
          "height": 440
        }
      },
      "outputs": [
        {
          "output_type": "execute_result",
          "data": {
            "text/plain": [
              "             Valor Fondo  Valor Unidad  Unidades en Circulación  Rendimientos  \\\n",
              "Fecha                                                                           \n",
              "2023-04-27  4.075393e+07       1000.00                 40753.93          0.00   \n",
              "2023-04-28  2.081243e+10        988.22              21060439.60    -479922.23   \n",
              "2023-04-29  2.082169e+10        988.66              21060439.60    9256151.44   \n",
              "2023-04-30  2.083098e+10        989.10              21060439.60    9298926.12   \n",
              "2023-05-01  2.084028e+10        989.55              21060439.60    9297320.57   \n",
              "\n",
              "            Comisión Fija  Comisión Exito  Retención  Factor Retenc.  \\\n",
              "Fecha                                                                  \n",
              "2023-04-27           0.00               0          0               0   \n",
              "2023-04-28         390.11               0          0               0   \n",
              "2023-04-29      199223.76               0          0               0   \n",
              "2023-04-30      199312.36               0          0               0   \n",
              "2023-05-01      199401.38               0          0               0   \n",
              "\n",
              "            Rentab Diaria  Rentab Bruta  Rent Mes Eje Izq  Suscrip tores  \\\n",
              "Fecha                                                                      \n",
              "2023-04-27           0.00          0.00               0.0              1   \n",
              "2023-04-28          -0.99         -0.99               0.0              1   \n",
              "2023-04-29           0.18          0.18               0.0              1   \n",
              "2023-04-30           0.18          0.18               0.0              1   \n",
              "2023-05-01           0.18          0.18               0.0              1   \n",
              "\n",
              "            Total Aperturas  Total Adiciones  Total Retiros  Imp. Retiros  \\\n",
              "Fecha                                                                       \n",
              "2023-04-27         40753930     0.000000e+00            0.0             0   \n",
              "2023-04-28                0     2.077216e+10            0.0             0   \n",
              "2023-04-29                0     0.000000e+00            0.0             0   \n",
              "2023-04-30                0     0.000000e+00            0.0             0   \n",
              "2023-05-01                0     0.000000e+00            0.0             0   \n",
              "\n",
              "            Total Cancel  Imp. Cancel  Total NC  Total ND  \n",
              "Fecha                                                      \n",
              "2023-04-27             0            0         0         0  \n",
              "2023-04-28             0            0         0         0  \n",
              "2023-04-29             0            0         0         0  \n",
              "2023-04-30             0            0         0         0  \n",
              "2023-05-01             0            0         0         0  "
            ],
            "text/html": [
              "\n",
              "  <div id=\"df-64570eb0-6435-413c-b23e-1a3dbcb9614a\">\n",
              "    <div class=\"colab-df-container\">\n",
              "      <div>\n",
              "<style scoped>\n",
              "    .dataframe tbody tr th:only-of-type {\n",
              "        vertical-align: middle;\n",
              "    }\n",
              "\n",
              "    .dataframe tbody tr th {\n",
              "        vertical-align: top;\n",
              "    }\n",
              "\n",
              "    .dataframe thead th {\n",
              "        text-align: right;\n",
              "    }\n",
              "</style>\n",
              "<table border=\"1\" class=\"dataframe\">\n",
              "  <thead>\n",
              "    <tr style=\"text-align: right;\">\n",
              "      <th></th>\n",
              "      <th>Valor Fondo</th>\n",
              "      <th>Valor Unidad</th>\n",
              "      <th>Unidades en Circulación</th>\n",
              "      <th>Rendimientos</th>\n",
              "      <th>Comisión Fija</th>\n",
              "      <th>Comisión Exito</th>\n",
              "      <th>Retención</th>\n",
              "      <th>Factor Retenc.</th>\n",
              "      <th>Rentab Diaria</th>\n",
              "      <th>Rentab Bruta</th>\n",
              "      <th>Rent Mes Eje Izq</th>\n",
              "      <th>Suscrip tores</th>\n",
              "      <th>Total Aperturas</th>\n",
              "      <th>Total Adiciones</th>\n",
              "      <th>Total Retiros</th>\n",
              "      <th>Imp. Retiros</th>\n",
              "      <th>Total Cancel</th>\n",
              "      <th>Imp. Cancel</th>\n",
              "      <th>Total NC</th>\n",
              "      <th>Total ND</th>\n",
              "    </tr>\n",
              "    <tr>\n",
              "      <th>Fecha</th>\n",
              "      <th></th>\n",
              "      <th></th>\n",
              "      <th></th>\n",
              "      <th></th>\n",
              "      <th></th>\n",
              "      <th></th>\n",
              "      <th></th>\n",
              "      <th></th>\n",
              "      <th></th>\n",
              "      <th></th>\n",
              "      <th></th>\n",
              "      <th></th>\n",
              "      <th></th>\n",
              "      <th></th>\n",
              "      <th></th>\n",
              "      <th></th>\n",
              "      <th></th>\n",
              "      <th></th>\n",
              "      <th></th>\n",
              "      <th></th>\n",
              "    </tr>\n",
              "  </thead>\n",
              "  <tbody>\n",
              "    <tr>\n",
              "      <th>2023-04-27</th>\n",
              "      <td>4.075393e+07</td>\n",
              "      <td>1000.00</td>\n",
              "      <td>40753.93</td>\n",
              "      <td>0.00</td>\n",
              "      <td>0.00</td>\n",
              "      <td>0</td>\n",
              "      <td>0</td>\n",
              "      <td>0</td>\n",
              "      <td>0.00</td>\n",
              "      <td>0.00</td>\n",
              "      <td>0.0</td>\n",
              "      <td>1</td>\n",
              "      <td>40753930</td>\n",
              "      <td>0.000000e+00</td>\n",
              "      <td>0.0</td>\n",
              "      <td>0</td>\n",
              "      <td>0</td>\n",
              "      <td>0</td>\n",
              "      <td>0</td>\n",
              "      <td>0</td>\n",
              "    </tr>\n",
              "    <tr>\n",
              "      <th>2023-04-28</th>\n",
              "      <td>2.081243e+10</td>\n",
              "      <td>988.22</td>\n",
              "      <td>21060439.60</td>\n",
              "      <td>-479922.23</td>\n",
              "      <td>390.11</td>\n",
              "      <td>0</td>\n",
              "      <td>0</td>\n",
              "      <td>0</td>\n",
              "      <td>-0.99</td>\n",
              "      <td>-0.99</td>\n",
              "      <td>0.0</td>\n",
              "      <td>1</td>\n",
              "      <td>0</td>\n",
              "      <td>2.077216e+10</td>\n",
              "      <td>0.0</td>\n",
              "      <td>0</td>\n",
              "      <td>0</td>\n",
              "      <td>0</td>\n",
              "      <td>0</td>\n",
              "      <td>0</td>\n",
              "    </tr>\n",
              "    <tr>\n",
              "      <th>2023-04-29</th>\n",
              "      <td>2.082169e+10</td>\n",
              "      <td>988.66</td>\n",
              "      <td>21060439.60</td>\n",
              "      <td>9256151.44</td>\n",
              "      <td>199223.76</td>\n",
              "      <td>0</td>\n",
              "      <td>0</td>\n",
              "      <td>0</td>\n",
              "      <td>0.18</td>\n",
              "      <td>0.18</td>\n",
              "      <td>0.0</td>\n",
              "      <td>1</td>\n",
              "      <td>0</td>\n",
              "      <td>0.000000e+00</td>\n",
              "      <td>0.0</td>\n",
              "      <td>0</td>\n",
              "      <td>0</td>\n",
              "      <td>0</td>\n",
              "      <td>0</td>\n",
              "      <td>0</td>\n",
              "    </tr>\n",
              "    <tr>\n",
              "      <th>2023-04-30</th>\n",
              "      <td>2.083098e+10</td>\n",
              "      <td>989.10</td>\n",
              "      <td>21060439.60</td>\n",
              "      <td>9298926.12</td>\n",
              "      <td>199312.36</td>\n",
              "      <td>0</td>\n",
              "      <td>0</td>\n",
              "      <td>0</td>\n",
              "      <td>0.18</td>\n",
              "      <td>0.18</td>\n",
              "      <td>0.0</td>\n",
              "      <td>1</td>\n",
              "      <td>0</td>\n",
              "      <td>0.000000e+00</td>\n",
              "      <td>0.0</td>\n",
              "      <td>0</td>\n",
              "      <td>0</td>\n",
              "      <td>0</td>\n",
              "      <td>0</td>\n",
              "      <td>0</td>\n",
              "    </tr>\n",
              "    <tr>\n",
              "      <th>2023-05-01</th>\n",
              "      <td>2.084028e+10</td>\n",
              "      <td>989.55</td>\n",
              "      <td>21060439.60</td>\n",
              "      <td>9297320.57</td>\n",
              "      <td>199401.38</td>\n",
              "      <td>0</td>\n",
              "      <td>0</td>\n",
              "      <td>0</td>\n",
              "      <td>0.18</td>\n",
              "      <td>0.18</td>\n",
              "      <td>0.0</td>\n",
              "      <td>1</td>\n",
              "      <td>0</td>\n",
              "      <td>0.000000e+00</td>\n",
              "      <td>0.0</td>\n",
              "      <td>0</td>\n",
              "      <td>0</td>\n",
              "      <td>0</td>\n",
              "      <td>0</td>\n",
              "      <td>0</td>\n",
              "    </tr>\n",
              "  </tbody>\n",
              "</table>\n",
              "</div>\n",
              "      <button class=\"colab-df-convert\" onclick=\"convertToInteractive('df-64570eb0-6435-413c-b23e-1a3dbcb9614a')\"\n",
              "              title=\"Convert this dataframe to an interactive table.\"\n",
              "              style=\"display:none;\">\n",
              "        \n",
              "  <svg xmlns=\"http://www.w3.org/2000/svg\" height=\"24px\"viewBox=\"0 0 24 24\"\n",
              "       width=\"24px\">\n",
              "    <path d=\"M0 0h24v24H0V0z\" fill=\"none\"/>\n",
              "    <path d=\"M18.56 5.44l.94 2.06.94-2.06 2.06-.94-2.06-.94-.94-2.06-.94 2.06-2.06.94zm-11 1L8.5 8.5l.94-2.06 2.06-.94-2.06-.94L8.5 2.5l-.94 2.06-2.06.94zm10 10l.94 2.06.94-2.06 2.06-.94-2.06-.94-.94-2.06-.94 2.06-2.06.94z\"/><path d=\"M17.41 7.96l-1.37-1.37c-.4-.4-.92-.59-1.43-.59-.52 0-1.04.2-1.43.59L10.3 9.45l-7.72 7.72c-.78.78-.78 2.05 0 2.83L4 21.41c.39.39.9.59 1.41.59.51 0 1.02-.2 1.41-.59l7.78-7.78 2.81-2.81c.8-.78.8-2.07 0-2.86zM5.41 20L4 18.59l7.72-7.72 1.47 1.35L5.41 20z\"/>\n",
              "  </svg>\n",
              "      </button>\n",
              "      \n",
              "  <style>\n",
              "    .colab-df-container {\n",
              "      display:flex;\n",
              "      flex-wrap:wrap;\n",
              "      gap: 12px;\n",
              "    }\n",
              "\n",
              "    .colab-df-convert {\n",
              "      background-color: #E8F0FE;\n",
              "      border: none;\n",
              "      border-radius: 50%;\n",
              "      cursor: pointer;\n",
              "      display: none;\n",
              "      fill: #1967D2;\n",
              "      height: 32px;\n",
              "      padding: 0 0 0 0;\n",
              "      width: 32px;\n",
              "    }\n",
              "\n",
              "    .colab-df-convert:hover {\n",
              "      background-color: #E2EBFA;\n",
              "      box-shadow: 0px 1px 2px rgba(60, 64, 67, 0.3), 0px 1px 3px 1px rgba(60, 64, 67, 0.15);\n",
              "      fill: #174EA6;\n",
              "    }\n",
              "\n",
              "    [theme=dark] .colab-df-convert {\n",
              "      background-color: #3B4455;\n",
              "      fill: #D2E3FC;\n",
              "    }\n",
              "\n",
              "    [theme=dark] .colab-df-convert:hover {\n",
              "      background-color: #434B5C;\n",
              "      box-shadow: 0px 1px 3px 1px rgba(0, 0, 0, 0.15);\n",
              "      filter: drop-shadow(0px 1px 2px rgba(0, 0, 0, 0.3));\n",
              "      fill: #FFFFFF;\n",
              "    }\n",
              "  </style>\n",
              "\n",
              "      <script>\n",
              "        const buttonEl =\n",
              "          document.querySelector('#df-64570eb0-6435-413c-b23e-1a3dbcb9614a button.colab-df-convert');\n",
              "        buttonEl.style.display =\n",
              "          google.colab.kernel.accessAllowed ? 'block' : 'none';\n",
              "\n",
              "        async function convertToInteractive(key) {\n",
              "          const element = document.querySelector('#df-64570eb0-6435-413c-b23e-1a3dbcb9614a');\n",
              "          const dataTable =\n",
              "            await google.colab.kernel.invokeFunction('convertToInteractive',\n",
              "                                                     [key], {});\n",
              "          if (!dataTable) return;\n",
              "\n",
              "          const docLinkHtml = 'Like what you see? Visit the ' +\n",
              "            '<a target=\"_blank\" href=https://colab.research.google.com/notebooks/data_table.ipynb>data table notebook</a>'\n",
              "            + ' to learn more about interactive tables.';\n",
              "          element.innerHTML = '';\n",
              "          dataTable['output_type'] = 'display_data';\n",
              "          await google.colab.output.renderOutput(dataTable, element);\n",
              "          const docLink = document.createElement('div');\n",
              "          docLink.innerHTML = docLinkHtml;\n",
              "          element.appendChild(docLink);\n",
              "        }\n",
              "      </script>\n",
              "    </div>\n",
              "  </div>\n",
              "  "
            ]
          },
          "metadata": {},
          "execution_count": 7
        }
      ],
      "source": [
        "FIN.head()"
      ]
    },
    {
      "cell_type": "code",
      "source": [
        "FTC.head()"
      ],
      "metadata": {
        "id": "h5GRwD-6tOaJ",
        "outputId": "bab35048-15c8-4250-ad7a-b069ac318203",
        "colab": {
          "base_uri": "https://localhost:8080/",
          "height": 440
        }
      },
      "execution_count": 8,
      "outputs": [
        {
          "output_type": "execute_result",
          "data": {
            "text/plain": [
              "             Valor Fondo  Valor Unidad  Unidades en Circulación  Rendimientos  \\\n",
              "Fecha                                                                           \n",
              "2023-04-27  2.833568e+07       1000.00                 28335.69          0.00   \n",
              "2023-04-28  1.403352e+10        988.22              14200745.04    -333683.78   \n",
              "2023-04-29  1.403921e+10        988.62              14200745.04    5690237.51   \n",
              "2023-04-30  1.404491e+10        989.03              14200745.04    5703307.11   \n",
              "2023-05-01  1.405061e+10        989.43              14200745.04    5698349.59   \n",
              "\n",
              "            Comisión Fija  Comisión Exito  Retención  Factor Retenc.  \\\n",
              "Fecha                                                                  \n",
              "2023-04-27           0.00               0          0               0   \n",
              "2023-04-28         271.24               0          0               0   \n",
              "2023-04-29      134333.66               0          0               0   \n",
              "2023-04-30      134388.12               0          0               0   \n",
              "2023-05-01      134442.72               0          0               0   \n",
              "\n",
              "            Rentab Diaria  Rentab Bruta  Rent Mes Eje Izq  Suscrip tores  \\\n",
              "Fecha                                                                      \n",
              "2023-04-27           0.00          0.00               0.0              1   \n",
              "2023-04-28          -0.99         -0.99               0.0              1   \n",
              "2023-04-29           0.16          0.16               0.0              1   \n",
              "2023-04-30           0.16          0.16               0.0              1   \n",
              "2023-05-01           0.16          0.16               0.0              1   \n",
              "\n",
              "            Total Aperturas  Total Adiciones  Total Retiros  Imp. Retiros  \\\n",
              "Fecha                                                                       \n",
              "2023-04-27         28335685     0.000000e+00            0.0             0   \n",
              "2023-04-28                0     1.400551e+10            0.0             0   \n",
              "2023-04-29                0     0.000000e+00            0.0             0   \n",
              "2023-04-30                0     0.000000e+00            0.0             0   \n",
              "2023-05-01                0     0.000000e+00            0.0             0   \n",
              "\n",
              "            Total Cancel  Imp. Cancel  Total NC  Total ND  \n",
              "Fecha                                                      \n",
              "2023-04-27             0            0         0         0  \n",
              "2023-04-28             0            0         0         0  \n",
              "2023-04-29             0            0         0         0  \n",
              "2023-04-30             0            0         0         0  \n",
              "2023-05-01             0            0         0         0  "
            ],
            "text/html": [
              "\n",
              "  <div id=\"df-231ebfdb-751d-4acf-94b0-8650f8b0025e\">\n",
              "    <div class=\"colab-df-container\">\n",
              "      <div>\n",
              "<style scoped>\n",
              "    .dataframe tbody tr th:only-of-type {\n",
              "        vertical-align: middle;\n",
              "    }\n",
              "\n",
              "    .dataframe tbody tr th {\n",
              "        vertical-align: top;\n",
              "    }\n",
              "\n",
              "    .dataframe thead th {\n",
              "        text-align: right;\n",
              "    }\n",
              "</style>\n",
              "<table border=\"1\" class=\"dataframe\">\n",
              "  <thead>\n",
              "    <tr style=\"text-align: right;\">\n",
              "      <th></th>\n",
              "      <th>Valor Fondo</th>\n",
              "      <th>Valor Unidad</th>\n",
              "      <th>Unidades en Circulación</th>\n",
              "      <th>Rendimientos</th>\n",
              "      <th>Comisión Fija</th>\n",
              "      <th>Comisión Exito</th>\n",
              "      <th>Retención</th>\n",
              "      <th>Factor Retenc.</th>\n",
              "      <th>Rentab Diaria</th>\n",
              "      <th>Rentab Bruta</th>\n",
              "      <th>Rent Mes Eje Izq</th>\n",
              "      <th>Suscrip tores</th>\n",
              "      <th>Total Aperturas</th>\n",
              "      <th>Total Adiciones</th>\n",
              "      <th>Total Retiros</th>\n",
              "      <th>Imp. Retiros</th>\n",
              "      <th>Total Cancel</th>\n",
              "      <th>Imp. Cancel</th>\n",
              "      <th>Total NC</th>\n",
              "      <th>Total ND</th>\n",
              "    </tr>\n",
              "    <tr>\n",
              "      <th>Fecha</th>\n",
              "      <th></th>\n",
              "      <th></th>\n",
              "      <th></th>\n",
              "      <th></th>\n",
              "      <th></th>\n",
              "      <th></th>\n",
              "      <th></th>\n",
              "      <th></th>\n",
              "      <th></th>\n",
              "      <th></th>\n",
              "      <th></th>\n",
              "      <th></th>\n",
              "      <th></th>\n",
              "      <th></th>\n",
              "      <th></th>\n",
              "      <th></th>\n",
              "      <th></th>\n",
              "      <th></th>\n",
              "      <th></th>\n",
              "      <th></th>\n",
              "    </tr>\n",
              "  </thead>\n",
              "  <tbody>\n",
              "    <tr>\n",
              "      <th>2023-04-27</th>\n",
              "      <td>2.833568e+07</td>\n",
              "      <td>1000.00</td>\n",
              "      <td>28335.69</td>\n",
              "      <td>0.00</td>\n",
              "      <td>0.00</td>\n",
              "      <td>0</td>\n",
              "      <td>0</td>\n",
              "      <td>0</td>\n",
              "      <td>0.00</td>\n",
              "      <td>0.00</td>\n",
              "      <td>0.0</td>\n",
              "      <td>1</td>\n",
              "      <td>28335685</td>\n",
              "      <td>0.000000e+00</td>\n",
              "      <td>0.0</td>\n",
              "      <td>0</td>\n",
              "      <td>0</td>\n",
              "      <td>0</td>\n",
              "      <td>0</td>\n",
              "      <td>0</td>\n",
              "    </tr>\n",
              "    <tr>\n",
              "      <th>2023-04-28</th>\n",
              "      <td>1.403352e+10</td>\n",
              "      <td>988.22</td>\n",
              "      <td>14200745.04</td>\n",
              "      <td>-333683.78</td>\n",
              "      <td>271.24</td>\n",
              "      <td>0</td>\n",
              "      <td>0</td>\n",
              "      <td>0</td>\n",
              "      <td>-0.99</td>\n",
              "      <td>-0.99</td>\n",
              "      <td>0.0</td>\n",
              "      <td>1</td>\n",
              "      <td>0</td>\n",
              "      <td>1.400551e+10</td>\n",
              "      <td>0.0</td>\n",
              "      <td>0</td>\n",
              "      <td>0</td>\n",
              "      <td>0</td>\n",
              "      <td>0</td>\n",
              "      <td>0</td>\n",
              "    </tr>\n",
              "    <tr>\n",
              "      <th>2023-04-29</th>\n",
              "      <td>1.403921e+10</td>\n",
              "      <td>988.62</td>\n",
              "      <td>14200745.04</td>\n",
              "      <td>5690237.51</td>\n",
              "      <td>134333.66</td>\n",
              "      <td>0</td>\n",
              "      <td>0</td>\n",
              "      <td>0</td>\n",
              "      <td>0.16</td>\n",
              "      <td>0.16</td>\n",
              "      <td>0.0</td>\n",
              "      <td>1</td>\n",
              "      <td>0</td>\n",
              "      <td>0.000000e+00</td>\n",
              "      <td>0.0</td>\n",
              "      <td>0</td>\n",
              "      <td>0</td>\n",
              "      <td>0</td>\n",
              "      <td>0</td>\n",
              "      <td>0</td>\n",
              "    </tr>\n",
              "    <tr>\n",
              "      <th>2023-04-30</th>\n",
              "      <td>1.404491e+10</td>\n",
              "      <td>989.03</td>\n",
              "      <td>14200745.04</td>\n",
              "      <td>5703307.11</td>\n",
              "      <td>134388.12</td>\n",
              "      <td>0</td>\n",
              "      <td>0</td>\n",
              "      <td>0</td>\n",
              "      <td>0.16</td>\n",
              "      <td>0.16</td>\n",
              "      <td>0.0</td>\n",
              "      <td>1</td>\n",
              "      <td>0</td>\n",
              "      <td>0.000000e+00</td>\n",
              "      <td>0.0</td>\n",
              "      <td>0</td>\n",
              "      <td>0</td>\n",
              "      <td>0</td>\n",
              "      <td>0</td>\n",
              "      <td>0</td>\n",
              "    </tr>\n",
              "    <tr>\n",
              "      <th>2023-05-01</th>\n",
              "      <td>1.405061e+10</td>\n",
              "      <td>989.43</td>\n",
              "      <td>14200745.04</td>\n",
              "      <td>5698349.59</td>\n",
              "      <td>134442.72</td>\n",
              "      <td>0</td>\n",
              "      <td>0</td>\n",
              "      <td>0</td>\n",
              "      <td>0.16</td>\n",
              "      <td>0.16</td>\n",
              "      <td>0.0</td>\n",
              "      <td>1</td>\n",
              "      <td>0</td>\n",
              "      <td>0.000000e+00</td>\n",
              "      <td>0.0</td>\n",
              "      <td>0</td>\n",
              "      <td>0</td>\n",
              "      <td>0</td>\n",
              "      <td>0</td>\n",
              "      <td>0</td>\n",
              "    </tr>\n",
              "  </tbody>\n",
              "</table>\n",
              "</div>\n",
              "      <button class=\"colab-df-convert\" onclick=\"convertToInteractive('df-231ebfdb-751d-4acf-94b0-8650f8b0025e')\"\n",
              "              title=\"Convert this dataframe to an interactive table.\"\n",
              "              style=\"display:none;\">\n",
              "        \n",
              "  <svg xmlns=\"http://www.w3.org/2000/svg\" height=\"24px\"viewBox=\"0 0 24 24\"\n",
              "       width=\"24px\">\n",
              "    <path d=\"M0 0h24v24H0V0z\" fill=\"none\"/>\n",
              "    <path d=\"M18.56 5.44l.94 2.06.94-2.06 2.06-.94-2.06-.94-.94-2.06-.94 2.06-2.06.94zm-11 1L8.5 8.5l.94-2.06 2.06-.94-2.06-.94L8.5 2.5l-.94 2.06-2.06.94zm10 10l.94 2.06.94-2.06 2.06-.94-2.06-.94-.94-2.06-.94 2.06-2.06.94z\"/><path d=\"M17.41 7.96l-1.37-1.37c-.4-.4-.92-.59-1.43-.59-.52 0-1.04.2-1.43.59L10.3 9.45l-7.72 7.72c-.78.78-.78 2.05 0 2.83L4 21.41c.39.39.9.59 1.41.59.51 0 1.02-.2 1.41-.59l7.78-7.78 2.81-2.81c.8-.78.8-2.07 0-2.86zM5.41 20L4 18.59l7.72-7.72 1.47 1.35L5.41 20z\"/>\n",
              "  </svg>\n",
              "      </button>\n",
              "      \n",
              "  <style>\n",
              "    .colab-df-container {\n",
              "      display:flex;\n",
              "      flex-wrap:wrap;\n",
              "      gap: 12px;\n",
              "    }\n",
              "\n",
              "    .colab-df-convert {\n",
              "      background-color: #E8F0FE;\n",
              "      border: none;\n",
              "      border-radius: 50%;\n",
              "      cursor: pointer;\n",
              "      display: none;\n",
              "      fill: #1967D2;\n",
              "      height: 32px;\n",
              "      padding: 0 0 0 0;\n",
              "      width: 32px;\n",
              "    }\n",
              "\n",
              "    .colab-df-convert:hover {\n",
              "      background-color: #E2EBFA;\n",
              "      box-shadow: 0px 1px 2px rgba(60, 64, 67, 0.3), 0px 1px 3px 1px rgba(60, 64, 67, 0.15);\n",
              "      fill: #174EA6;\n",
              "    }\n",
              "\n",
              "    [theme=dark] .colab-df-convert {\n",
              "      background-color: #3B4455;\n",
              "      fill: #D2E3FC;\n",
              "    }\n",
              "\n",
              "    [theme=dark] .colab-df-convert:hover {\n",
              "      background-color: #434B5C;\n",
              "      box-shadow: 0px 1px 3px 1px rgba(0, 0, 0, 0.15);\n",
              "      filter: drop-shadow(0px 1px 2px rgba(0, 0, 0, 0.3));\n",
              "      fill: #FFFFFF;\n",
              "    }\n",
              "  </style>\n",
              "\n",
              "      <script>\n",
              "        const buttonEl =\n",
              "          document.querySelector('#df-231ebfdb-751d-4acf-94b0-8650f8b0025e button.colab-df-convert');\n",
              "        buttonEl.style.display =\n",
              "          google.colab.kernel.accessAllowed ? 'block' : 'none';\n",
              "\n",
              "        async function convertToInteractive(key) {\n",
              "          const element = document.querySelector('#df-231ebfdb-751d-4acf-94b0-8650f8b0025e');\n",
              "          const dataTable =\n",
              "            await google.colab.kernel.invokeFunction('convertToInteractive',\n",
              "                                                     [key], {});\n",
              "          if (!dataTable) return;\n",
              "\n",
              "          const docLinkHtml = 'Like what you see? Visit the ' +\n",
              "            '<a target=\"_blank\" href=https://colab.research.google.com/notebooks/data_table.ipynb>data table notebook</a>'\n",
              "            + ' to learn more about interactive tables.';\n",
              "          element.innerHTML = '';\n",
              "          dataTable['output_type'] = 'display_data';\n",
              "          await google.colab.output.renderOutput(dataTable, element);\n",
              "          const docLink = document.createElement('div');\n",
              "          docLink.innerHTML = docLinkHtml;\n",
              "          element.appendChild(docLink);\n",
              "        }\n",
              "      </script>\n",
              "    </div>\n",
              "  </div>\n",
              "  "
            ]
          },
          "metadata": {},
          "execution_count": 8
        }
      ]
    },
    {
      "cell_type": "code",
      "source": [
        "FIN['Rentab Diaria'].plot()\n",
        "FTC['Rentab Diaria'].plot()\n",
        "plt.title('Rendimientos de FIN Y FTC')\n",
        "resampled_dates = pd.date_range(start=FIN.index.min(), end=FIN.index.max(), freq='M')  # Rango de fechas mensuales\n",
        "plt.legend(['FIN',\"FTC\"])\n",
        "plt.xlabel('Fecha')"
      ],
      "metadata": {
        "id": "BOzWQ3DPtpXD",
        "outputId": "3e526293-351a-44a5-b1e8-f3ded852e18b",
        "colab": {
          "base_uri": "https://localhost:8080/",
          "height": 538
        }
      },
      "execution_count": 9,
      "outputs": [
        {
          "output_type": "execute_result",
          "data": {
            "text/plain": [
              "Text(0.5, 0, 'Fecha')"
            ]
          },
          "metadata": {},
          "execution_count": 9
        },
        {
          "output_type": "display_data",
          "data": {
            "text/plain": [
              "<Figure size 640x480 with 1 Axes>"
            ],
            "image/png": "[encoded data removed]"
          },
          "metadata": {}
        }
      ]
    },
    {
      "cell_type": "code",
      "source": [
        "descripcion_RENDIMIENTOSFIN = FIN['Rentab Diaria'].describe()\n",
        "descripcion_RENDIMIENTOSFIN"
      ],
      "metadata": {
        "id": "oMLYXEA3zFpP",
        "outputId": "03dd2b95-424a-4227-91eb-a0a671868d13",
        "colab": {
          "base_uri": "https://localhost:8080/"
        }
      },
      "execution_count": 10,
      "outputs": [
        {
          "output_type": "execute_result",
          "data": {
            "text/plain": [
              "count    56.000000\n",
              "mean      0.385536\n",
              "std       1.622784\n",
              "min      -0.990000\n",
              "25%      -0.142500\n",
              "50%       0.165000\n",
              "75%       0.202500\n",
              "max      10.560000\n",
              "Name: Rentab Diaria, dtype: float64"
            ]
          },
          "metadata": {},
          "execution_count": 10
        }
      ]
    },
    {
      "cell_type": "code",
      "source": [
        "descripcion_RENDIMIENTOSFTC = FTC['Rentab Diaria'].describe()\n",
        "descripcion_RENDIMIENTOSFTC"
      ],
      "metadata": {
        "id": "3xxGZ55wzZB2",
        "outputId": "eed9cb0a-91a2-4417-df93-b99459ba05c7",
        "colab": {
          "base_uri": "https://localhost:8080/"
        }
      },
      "execution_count": 11,
      "outputs": [
        {
          "output_type": "execute_result",
          "data": {
            "text/plain": [
              "count    56.000000\n",
              "mean      0.419464\n",
              "std       1.897662\n",
              "min      -0.990000\n",
              "25%      -0.172500\n",
              "50%       0.150000\n",
              "75%       0.162500\n",
              "max      12.400000\n",
              "Name: Rentab Diaria, dtype: float64"
            ]
          },
          "metadata": {},
          "execution_count": 11
        }
      ]
    },
    {
      "cell_type": "code",
      "source": [
        "FIN[\"Valor Unidad\"].plot()\n",
        "FTC[\"Valor Unidad\"].plot()\n",
        "plt.title('VALOR DE LA UNIDAD FIN Y FTC')\n",
        "resampled_dates = pd.date_range(start=FIN.index.min(), end=FIN.index.max(), freq='M')\n",
        "plt.legend(['FIN',\"FTC\"])"
      ],
      "metadata": {
        "id": "G84-oRkwuOWO",
        "colab": {
          "base_uri": "https://localhost:8080/",
          "height": 538
        },
        "outputId": "63ead5f3-de50-4eb7-a3f6-9337457ec4d6"
      },
      "execution_count": 12,
      "outputs": [
        {
          "output_type": "execute_result",
          "data": {
            "text/plain": [
              "<matplotlib.legend.Legend at 0x7f4f78a8fa30>"
            ]
          },
          "metadata": {},
          "execution_count": 12
        },
        {
          "output_type": "display_data",
          "data": {
            "text/plain": [
              "<Figure size 640x480 with 1 Axes>"
            ],
            "image/png": "[encoded data removed]"
          },
          "metadata": {}
        }
      ]
    },
    {
      "cell_type": "code",
      "source": [
        "descripcion_VUFIN = FIN['Valor Unidad'].describe()\n",
        "descripcion_VUFIN"
      ],
      "metadata": {
        "id": "fonTH04yzWLe",
        "outputId": "2e326de3-3d12-4c95-9666-efd379845d19",
        "colab": {
          "base_uri": "https://localhost:8080/"
        }
      },
      "execution_count": 13,
      "outputs": [
        {
          "output_type": "execute_result",
          "data": {
            "text/plain": [
              "count      56.000000\n",
              "mean      990.378750\n",
              "std         7.767994\n",
              "min       981.340000\n",
              "25%       984.145000\n",
              "50%       986.500000\n",
              "75%      1000.057500\n",
              "max      1003.030000\n",
              "Name: Valor Unidad, dtype: float64"
            ]
          },
          "metadata": {},
          "execution_count": 13
        }
      ]
    },
    {
      "cell_type": "code",
      "source": [
        "descripcion_VUFTC = FTC['Valor Unidad'].describe()\n",
        "descripcion_VUFTC"
      ],
      "metadata": {
        "id": "Z7KaE8Sjzd_-",
        "outputId": "8bedf476-9a38-43e9-a4cd-fb8800b59f6a",
        "colab": {
          "base_uri": "https://localhost:8080/"
        }
      },
      "execution_count": 14,
      "outputs": [
        {
          "output_type": "execute_result",
          "data": {
            "text/plain": [
              "count      56.000000\n",
              "mean      989.588750\n",
              "std         8.136788\n",
              "min       980.990000\n",
              "25%       982.795000\n",
              "50%       985.685000\n",
              "75%       999.902500\n",
              "max      1004.280000\n",
              "Name: Valor Unidad, dtype: float64"
            ]
          },
          "metadata": {},
          "execution_count": 14
        }
      ]
    },
    {
      "cell_type": "code",
      "source": [
        "FIN['Valor Fondo'].plot()\n",
        "FTC['Valor Fondo'].plot()\n",
        "plt.title('VALOR DE LA AUM FIN Y FTC')\n",
        "plt.legend(['FIN',\"FTC\"])"
      ],
      "metadata": {
        "colab": {
          "base_uri": "https://localhost:8080/",
          "height": 538
        },
        "id": "gm-qB-XqFNuc",
        "outputId": "71070044-ccf7-46a1-95dc-41ea826f0cbf"
      },
      "execution_count": 15,
      "outputs": [
        {
          "output_type": "execute_result",
          "data": {
            "text/plain": [
              "<matplotlib.legend.Legend at 0x7f4fb2c52c50>"
            ]
          },
          "metadata": {},
          "execution_count": 15
        },
        {
          "output_type": "display_data",
          "data": {
            "text/plain": [
              "<Figure size 640x480 with 1 Axes>"
            ],
            "image/png": "[encoded data removed]"
          },
          "metadata": {}
        }
      ]
    },
    {
      "cell_type": "code",
      "source": [
        "FIN['Valor Fondo'].apply(lambda x: \"{:,.2f}\".format(x).replace(\",\", \".\").replace(\".\", \",\")).tail()"
      ],
      "metadata": {
        "id": "wSw9w2h1Mo3N",
        "outputId": "80c0ad2e-903a-4e4b-c6c0-f10a6131ebaa",
        "colab": {
          "base_uri": "https://localhost:8080/"
        }
      },
      "execution_count": 16,
      "outputs": [
        {
          "output_type": "execute_result",
          "data": {
            "text/plain": [
              "Fecha\n",
              "2023-06-17    15,672,973,289,51\n",
              "2023-06-18    15,679,028,475,92\n",
              "2023-06-19    15,685,089,020,06\n",
              "2023-06-20    15,282,092,767,89\n",
              "2023-06-21    15,263,953,055,31\n",
              "Name: Valor Fondo, dtype: object"
            ]
          },
          "metadata": {},
          "execution_count": 16
        }
      ]
    },
    {
      "cell_type": "code",
      "source": [
        "FTC['Valor Fondo'].apply(lambda x: \"{:,.2f}\".format(x).replace(\",\", \".\").replace(\".\", \",\")).tail()"
      ],
      "metadata": {
        "id": "I9hNkyTdNhuk",
        "colab": {
          "base_uri": "https://localhost:8080/"
        },
        "outputId": "c24533d2-6f64-4765-bb4f-9fad55482e4c"
      },
      "execution_count": 17,
      "outputs": [
        {
          "output_type": "execute_result",
          "data": {
            "text/plain": [
              "Fecha\n",
              "2023-06-17    23,913,815,930,13\n",
              "2023-06-18    23,923,737,523,49\n",
              "2023-06-19    23,933,687,378,94\n",
              "2023-06-20    23,248,815,335,17\n",
              "2023-06-21    23,215,548,793,27\n",
              "Name: Valor Fondo, dtype: object"
            ]
          },
          "metadata": {},
          "execution_count": 17
        }
      ]
    },
    {
      "cell_type": "code",
      "source": [
        "nivel_confianza = 0.95"
      ],
      "metadata": {
        "id": "AOZIOUMDu1iH"
      },
      "execution_count": 18,
      "outputs": []
    },
    {
      "cell_type": "code",
      "source": [
        "FIN['Valor Unidad'].head()"
      ],
      "metadata": {
        "id": "kxa94-TFyPpE",
        "colab": {
          "base_uri": "https://localhost:8080/"
        },
        "outputId": "b00a17ab-b30e-4804-da99-55f8d9b5dce3"
      },
      "execution_count": 19,
      "outputs": [
        {
          "output_type": "execute_result",
          "data": {
            "text/plain": [
              "Fecha\n",
              "2023-04-27    1000.00\n",
              "2023-04-28     988.22\n",
              "2023-04-29     988.66\n",
              "2023-04-30     989.10\n",
              "2023-05-01     989.55\n",
              "Name: Valor Unidad, dtype: float64"
            ]
          },
          "metadata": {},
          "execution_count": 19
        }
      ]
    },
    {
      "cell_type": "code",
      "source": [
        "FIN['Rentab Diaria'].head()"
      ],
      "metadata": {
        "id": "L3yv7nPayTuU",
        "outputId": "f27383a5-b157-40f6-9374-b74ca9042a41",
        "colab": {
          "base_uri": "https://localhost:8080/"
        }
      },
      "execution_count": 20,
      "outputs": [
        {
          "output_type": "execute_result",
          "data": {
            "text/plain": [
              "Fecha\n",
              "2023-04-27    0.00\n",
              "2023-04-28   -0.99\n",
              "2023-04-29    0.18\n",
              "2023-04-30    0.18\n",
              "2023-05-01    0.18\n",
              "Name: Rentab Diaria, dtype: float64"
            ]
          },
          "metadata": {},
          "execution_count": 20
        }
      ]
    },
    {
      "cell_type": "code",
      "source": [
        "Retorno_FTC = FTC['Valor Fondo']*FTC['Rentab Diaria']\n",
        "Retorno_FTC.head()"
      ],
      "metadata": {
        "id": "QBC5HCF5uLqg",
        "colab": {
          "base_uri": "https://localhost:8080/"
        },
        "outputId": "8d525682-13a0-4422-c28c-f43ad1813fb9"
      },
      "execution_count": 21,
      "outputs": [
        {
          "output_type": "execute_result",
          "data": {
            "text/plain": [
              "Fecha\n",
              "2023-04-27    0.000000e+00\n",
              "2023-04-28   -1.389318e+10\n",
              "2023-04-29    2.246273e+09\n",
              "2023-04-30    2.247185e+09\n",
              "2023-05-01    2.248097e+09\n",
              "dtype: float64"
            ]
          },
          "metadata": {},
          "execution_count": 21
        }
      ]
    },
    {
      "cell_type": "code",
      "source": [
        "Retorno_FIN = FIN['Valor Fondo']*FIN['Rentab Diaria']\n",
        "Retorno_FIN.head()"
      ],
      "metadata": {
        "id": "6qeWrTU30u_F",
        "outputId": "ac0b7f1a-2a3c-449e-a025-e37192fe6244",
        "colab": {
          "base_uri": "https://localhost:8080/"
        }
      },
      "execution_count": 22,
      "outputs": [
        {
          "output_type": "execute_result",
          "data": {
            "text/plain": [
              "Fecha\n",
              "2023-04-27    0.000000e+00\n",
              "2023-04-28   -2.060431e+10\n",
              "2023-04-29    3.747903e+09\n",
              "2023-04-30    3.749577e+09\n",
              "2023-05-01    3.751251e+09\n",
              "dtype: float64"
            ]
          },
          "metadata": {},
          "execution_count": 22
        }
      ]
    },
    {
      "cell_type": "code",
      "source": [
        "var_FTC = np.percentile(Retorno_FTC, (1 - nivel_confianza) * 100)"
      ],
      "metadata": {
        "id": "px3rezo8xr9z"
      },
      "execution_count": 23,
      "outputs": []
    },
    {
      "cell_type": "code",
      "source": [
        "var_FIN = np.percentile(Retorno_FIN, (1 - nivel_confianza) * 100)"
      ],
      "metadata": {
        "id": "TlFmjZ1u029d"
      },
      "execution_count": 24,
      "outputs": []
    },
    {
      "cell_type": "markdown",
      "source": [
        "# **VaR FTC**"
      ],
      "metadata": {
        "id": "LsCah7ftKR3t"
      }
    },
    {
      "cell_type": "code",
      "source": [
        "var_formatted = \"{:,.2f}\".format(var_FTC).replace(\",\", \"temp\").replace(\".\", \",\").replace(\"temp\", \".\")\n",
        "print(\"El VaR al {}% de confianza es: {}\".format(nivel_confianza * 100, var_formatted))"
      ],
      "metadata": {
        "colab": {
          "base_uri": "https://localhost:8080/"
        },
        "id": "2Ljcke-L0VSd",
        "outputId": "65703b7d-b87b-4388-b438-8e6444bb7014"
      },
      "execution_count": 25,
      "outputs": [
        {
          "output_type": "stream",
          "name": "stdout",
          "text": [
            "El VaR al 95.0% de confianza es: -10.277.371.324,18\n"
          ]
        }
      ]
    },
    {
      "cell_type": "markdown",
      "source": [
        "# **VaR FIN**"
      ],
      "metadata": {
        "id": "gO7CqlBiKbb8"
      }
    },
    {
      "cell_type": "code",
      "source": [
        "var_formatted = \"{:,.2f}\".format(var_FIN).replace(\",\", \"temp\").replace(\".\", \",\").replace(\"temp\", \".\")\n",
        "print(\"El VaR al {}% de confianza es: {}\".format(nivel_confianza * 100, var_formatted))"
      ],
      "metadata": {
        "colab": {
          "base_uri": "https://localhost:8080/"
        },
        "id": "mi1kSG5_1M8e",
        "outputId": "00a603a1-2edf-4ec9-a24c-ec278286286a"
      },
      "execution_count": 26,
      "outputs": [
        {
          "output_type": "stream",
          "name": "stdout",
          "text": [
            "El VaR al 95.0% de confianza es: -11.699.557.134,40\n"
          ]
        }
      ]
    },
    {
      "cell_type": "code",
      "source": [
        "plt.hist(Retorno_FTC , bins=50, alpha=0.5)\n",
        "plt.axvline(x=var_FTC, color='r', linestyle='--', linewidth=2)\n",
        "plt.xlabel('Retornos diarios')\n",
        "plt.ylabel('Frecuencia')\n",
        "plt.title('Histograma de retornos diarios FTC con VaR al {}%'.format(nivel_confianza * 100))\n",
        "\n",
        "plt.show()"
      ],
      "metadata": {
        "colab": {
          "base_uri": "https://localhost:8080/",
          "height": 472
        },
        "id": "uDThnbd_zRol",
        "outputId": "78a11c02-a776-43dd-bc11-bb54840f93aa"
      },
      "execution_count": 27,
      "outputs": [
        {
          "output_type": "display_data",
          "data": {
            "text/plain": [
              "<Figure size 640x480 with 1 Axes>"
            ],
            "image/png": "[encoded data removed]"
          },
          "metadata": {}
        }
      ]
    },
    {
      "cell_type": "code",
      "source": [
        "sns.kdeplot(Retorno_FTC, shade=True)\n",
        "plt.axvline(x=var_FTC, color='r', linestyle='--', linewidth=2)\n",
        "plt.xlabel('Retornos diarios')\n",
        "plt.ylabel('Densidad')\n",
        "plt.title('Distribución de los retornos diarios FTC con VaR al {}%'.format(nivel_confianza * 100))\n",
        "plt.show()"
      ],
      "metadata": {
        "id": "vm157HA5EJ27",
        "outputId": "6ddf3e76-da8c-465b-8f72-f8b440475fe1",
        "colab": {
          "base_uri": "https://localhost:8080/",
          "height": 597
        }
      },
      "execution_count": 28,
      "outputs": [
        {
          "output_type": "stream",
          "name": "stderr",
          "text": [
            "<ipython-input-28-c9d723731fc9>:1: FutureWarning: \n",
            "\n",
            "`shade` is now deprecated in favor of `fill`; setting `fill=True`.\n",
            "This will become an error in seaborn v0.14.0; please update your code.\n",
            "\n",
            "  sns.kdeplot(Retorno_FTC, shade=True)\n"
          ]
        },
        {
          "output_type": "display_data",
          "data": {
            "text/plain": [
              "<Figure size 640x480 with 1 Axes>"
            ],
            "image/png": "[encoded data removed]"
          },
          "metadata": {}
        }
      ]
    },
    {
      "cell_type": "code",
      "source": [
        "plt.hist(Retorno_FIN , bins=50, alpha=0.5)\n",
        "plt.axvline(x=var_FIN, color='r', linestyle='--', linewidth=2)\n",
        "plt.xlabel('Retornos diarios')\n",
        "plt.ylabel('Frecuencia')\n",
        "plt.title('Histograma de retornos diarios FIN con VaR al {}%'.format(nivel_confianza * 100))\n",
        "\n",
        "plt.show()"
      ],
      "metadata": {
        "id": "oRHefUxS1s2R",
        "outputId": "64e8723e-1900-40b7-96b7-480e406c4342",
        "colab": {
          "base_uri": "https://localhost:8080/",
          "height": 472
        }
      },
      "execution_count": 29,
      "outputs": [
        {
          "output_type": "display_data",
          "data": {
            "text/plain": [
              "<Figure size 640x480 with 1 Axes>"
            ],
            "image/png": "[encoded data removed]"
          },
          "metadata": {}
        }
      ]
    },
    {
      "cell_type": "code",
      "source": [
        "sns.kdeplot(Retorno_FIN, shade=True)\n",
        "plt.axvline(x=var_FIN, color='r', linestyle='--', linewidth=2)\n",
        "plt.xlabel('Retornos diarios')\n",
        "plt.ylabel('Densidad')\n",
        "plt.title('Distribución de los retornos diarios FIN con VaR al {}%'.format(nivel_confianza * 100))\n",
        "plt.show()"
      ],
      "metadata": {
        "id": "5Zj4Bs42Eh4n",
        "outputId": "18a8870c-a092-477f-8b33-1e783bb51fff",
        "colab": {
          "base_uri": "https://localhost:8080/",
          "height": 597
        }
      },
      "execution_count": 30,
      "outputs": [
        {
          "output_type": "stream",
          "name": "stderr",
          "text": [
            "<ipython-input-30-f91fb862fd29>:1: FutureWarning: \n",
            "\n",
            "`shade` is now deprecated in favor of `fill`; setting `fill=True`.\n",
            "This will become an error in seaborn v0.14.0; please update your code.\n",
            "\n",
            "  sns.kdeplot(Retorno_FIN, shade=True)\n"
          ]
        },
        {
          "output_type": "display_data",
          "data": {
            "text/plain": [
              "<Figure size 640x480 with 1 Axes>"
            ],
            "image/png": "[encoded data removed]"
          },
          "metadata": {}
        }
      ]
    }
  ],
  "metadata": {
    "colab": {
      "provenance": [],
      "toc_visible": true,
      "authorship_tag": "ABX9TyN8G4Lhgk9WbvS2+pCU+ugw",
      "include_colab_link": true
    },
    "kernelspec": {
      "display_name": "Python 3",
      "name": "python3"
    },
    "language_info": {
      "name": "python"
    }
  },
  "nbformat": 4,
  "nbformat_minor": 0
}
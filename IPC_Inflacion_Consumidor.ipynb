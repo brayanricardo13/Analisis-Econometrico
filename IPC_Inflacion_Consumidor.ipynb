{
  "nbformat": 4,
  "nbformat_minor": 0,
  "metadata": {
    "colab": {
      "name": "IPC - Inflacion Consumidor ",
      "provenance": [],
      "collapsed_sections": [],
      "authorship_tag": "ABX9TyNl7kacroUy+j1mGfMuMrZl",
      "include_colab_link": true
    },
    "kernelspec": {
      "name": "python3",
      "display_name": "Python 3"
    },
    "language_info": {
      "name": "python"
    }
  },
  "cells": [
    {
      "cell_type": "markdown",
      "metadata": {
        "id": "view-in-github",
        "colab_type": "text"
      },
      "source": [
        "<a href=\"https://colab.research.google.com/github/brayanricardo13/Analisis-Econometrico/blob/main/IPC_Inflacion_Consumidor.ipynb\" target=\"_parent\"><img src=\"https://colab.research.google.com/assets/colab-badge.svg\" alt=\"Open In Colab\"/></a>"
      ]
    },
    {
      "cell_type": "code",
      "execution_count": 19,
      "metadata": {
        "id": "cF5_PMWpJIDc"
      },
      "outputs": [],
      "source": [
        "from openpyxl import workbook   # leer excel \n",
        "from openpyxl import load_workbook \n",
        "import pandas as pd\n",
        "import statsmodels.api as sm\n",
        "from datetime import datetime, timedelta\n",
        "import matplotlib.pyplot as plt"
      ]
    },
    {
      "cell_type": "code",
      "source": [
        "from google.colab import drive\n",
        "drive.mount('/content/drive')"
      ],
      "metadata": {
        "colab": {
          "base_uri": "https://localhost:8080/"
        },
        "id": "I7otr2esKCrr",
        "outputId": "78522117-5cb6-4ac7-8747-77b4124cd8e6"
      },
      "execution_count": 20,
      "outputs": [
        {
          "output_type": "stream",
          "name": "stdout",
          "text": [
            "Drive already mounted at /content/drive; to attempt to forcibly remount, call drive.mount(\"/content/drive\", force_remount=True).\n"
          ]
        }
      ]
    },
    {
      "cell_type": "code",
      "source": [
        "IPC = load_workbook(\"/content/drive/MyDrive/U CENTRAL ECONOMÍA/DOCUMENTOS ADICIONALES/CURSOS/MEDICION ECONOMICA/INFLACION /anexo_ipc_jun22.xlsx\") "
      ],
      "metadata": {
        "id": "XVH4UORAKN9H"
      },
      "execution_count": 49,
      "outputs": []
    },
    {
      "cell_type": "code",
      "source": [
        "Variación_mensual_año_corrido_y_anual = IPC[\"1\"] "
      ],
      "metadata": {
        "id": "mD_eRKopK1T4"
      },
      "execution_count": 56,
      "outputs": []
    },
    {
      "cell_type": "code",
      "source": [
        "for Variación_mensual in Variación_mensual_año_corrido_y_anual.iter_cols(min_row = 10,max_row= 50, min_col=2, max_col = 2,  values_only=True):\n",
        "   print(Variación_mensual) # row = Filas , Col =  Columnas "
      ],
      "metadata": {
        "id": "_gKTBOPHLSOS"
      },
      "execution_count": null,
      "outputs": []
    },
    {
      "cell_type": "code",
      "source": [
        "Variación_mensual  = pd.DataFrame(Variación_mensual).dropna() #  Elimanar Celdas Vacias y converir en DATAFRAME \n",
        "Variación_mensual.columns = ['Variación_mensual']\n",
        "Variación_mensual "
      ],
      "metadata": {
        "id": "FuX-gWj2Ls6b"
      },
      "execution_count": null,
      "outputs": []
    },
    {
      "cell_type": "code",
      "source": [
        "index = pd.period_range('2013', '2022', freq=\"A\")\n",
        "index = pd.DataFrame(index ) \n",
        "index.columns = [' Años ']"
      ],
      "metadata": {
        "id": "SM4gYQOlQp1Y"
      },
      "execution_count": 109,
      "outputs": []
    },
    {
      "cell_type": "code",
      "source": [
        "Variación_mensual_IPC = pd.concat([index,Variación_mensual ], axis=1,)\n",
        "Variación_mensual_IPC =  Variación_mensual_IPC.set_index(' Años ')\n",
        "Variación_mensual_IPC.tail()"
      ],
      "metadata": {
        "id": "KzqHGtPyRwU2"
      },
      "execution_count": null,
      "outputs": []
    },
    {
      "cell_type": "code",
      "source": [
        "Variación_mensual_IPC.plot(kind = 'bar')\n",
        "Variación_mensual_IPC.describe()"
      ],
      "metadata": {
        "id": "FOs2U-Q7V7ZT"
      },
      "execution_count": null,
      "outputs": []
    }
  ]
}
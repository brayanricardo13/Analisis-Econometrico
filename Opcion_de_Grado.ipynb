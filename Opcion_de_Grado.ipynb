{
  "nbformat": 4,
  "nbformat_minor": 0,
  "metadata": {
    "colab": {
      "name": "Opcion de Grado",
      "provenance": [],
      "collapsed_sections": [
        "aQprPXBBdSzE"
      ],
      "authorship_tag": "ABX9TyOv5Nqyxgd+dlP6IJWXAGPY",
      "include_colab_link": true
    },
    "kernelspec": {
      "name": "python3",
      "display_name": "Python 3"
    },
    "language_info": {
      "name": "python"
    }
  },
  "cells": [
    {
      "cell_type": "markdown",
      "metadata": {
        "id": "view-in-github",
        "colab_type": "text"
      },
      "source": [
        "<a href=\"https://colab.research.google.com/github/brayanricardo13/Analisis-Econometrico/blob/main/Opcion_de_Grado.ipynb\" target=\"_parent\"><img src=\"https://colab.research.google.com/assets/colab-badge.svg\" alt=\"Open In Colab\"/></a>"
      ]
    },
    {
      "cell_type": "markdown",
      "source": [
        "# **Datos abiertos colombia**"
      ],
      "metadata": {
        "id": "ZCg6M-4TcERD"
      }
    },
    {
      "cell_type": "markdown",
      "source": [
        "https://www.datos.gov.co"
      ],
      "metadata": {
        "id": "vrNSVzOKg1G6"
      }
    },
    {
      "cell_type": "code",
      "execution_count": null,
      "metadata": {
        "id": "QcYQL8_lRKa-"
      },
      "outputs": [],
      "source": [
        "pip install leila # Gov.co"
      ]
    },
    {
      "cell_type": "code",
      "source": [
        "from leila.reporte import generar_reporte \n",
        "from leila.calidad_datos import CalidadDatos\n",
        "from leila import datos_gov\n",
        "from leila.datos_gov import DatosGov"
      ],
      "metadata": {
        "id": "RwgmyS-VWTCf"
      },
      "execution_count": 2,
      "outputs": []
    },
    {
      "cell_type": "code",
      "source": [
        "inventario = DatosGov().tabla_inventario()"
      ],
      "metadata": {
        "id": "Q3rXMhAyZut6"
      },
      "execution_count": 3,
      "outputs": []
    },
    {
      "cell_type": "markdown",
      "source": [
        "# **Buscar Datos**"
      ],
      "metadata": {
        "id": "aQprPXBBdSzE"
      }
    },
    {
      "cell_type": "code",
      "source": [
        "filtro = {\n",
        "    \"nombre\": [\"economia\", \"ambiente\"],\n",
        "    \"tipo\": [\"conjunto de datos\"]\n",
        "}\n",
        "inventario = DatosGov().tabla_inventario(filtro=filtro)"
      ],
      "metadata": {
        "id": "QRdVUXWeYJ3t"
      },
      "execution_count": null,
      "outputs": []
    },
    {
      "cell_type": "code",
      "source": [
        "inventario"
      ],
      "metadata": {
        "id": "fZKylpWpajV6"
      },
      "execution_count": null,
      "outputs": []
    },
    {
      "cell_type": "markdown",
      "source": [
        "# **Buscar Datos con la API**"
      ],
      "metadata": {
        "id": "kC86-gbfdE8J"
      }
    },
    {
      "cell_type": "code",
      "source": [
        "numero_api = \"32sa-8pi3\"\n",
        "data = DatosGov().cargar_base(api_id = numero_api)\n",
        "datos = data.to_dataframe()\n",
        "datos"
      ],
      "metadata": {
        "id": "1aFhGhO5c1Z0"
      },
      "execution_count": null,
      "outputs": []
    }
  ]
}
{
  "nbformat": 4,
  "nbformat_minor": 0,
  "metadata": {
    "colab": {
      "name": "Opcion de Grado",
      "provenance": [],
      "collapsed_sections": [
        "aQprPXBBdSzE"
      ],
      "authorship_tag": "ABX9TyNbTvbECCVWnjB8mctz5HR5",
      "include_colab_link": true
    },
    "kernelspec": {
      "name": "python3",
      "display_name": "Python 3"
    },
    "language_info": {
      "name": "python"
    }
  },
  "cells": [
    {
      "cell_type": "markdown",
      "metadata": {
        "id": "view-in-github",
        "colab_type": "text"
      },
      "source": [
        "<a href=\"https://colab.research.google.com/github/brayanricardo13/Analisis-Econometrico/blob/main/Opcion_de_Grado.ipynb\" target=\"_parent\"><img src=\"https://colab.research.google.com/assets/colab-badge.svg\" alt=\"Open In Colab\"/></a>"
      ]
    },
    {
      "cell_type": "markdown",
      "source": [
        "# **Datos abiertos colombia**"
      ],
      "metadata": {
        "id": "ZCg6M-4TcERD"
      }
    },
    {
      "cell_type": "code",
      "execution_count": null,
      "metadata": {
        "id": "QcYQL8_lRKa-"
      },
      "outputs": [],
      "source": [
        "pip install leila # Gov.co"
      ]
    },
    {
      "cell_type": "code",
      "source": [
        "from leila.reporte import generar_reporte \n",
        "from leila.calidad_datos import CalidadDatos\n",
        "from leila import datos_gov\n",
        "from leila.datos_gov import DatosGov"
      ],
      "metadata": {
        "id": "RwgmyS-VWTCf"
      },
      "execution_count": 10,
      "outputs": []
    },
    {
      "cell_type": "code",
      "source": [
        "inventario = DatosGov().tabla_inventario()"
      ],
      "metadata": {
        "id": "Q3rXMhAyZut6"
      },
      "execution_count": null,
      "outputs": []
    },
    {
      "cell_type": "markdown",
      "source": [
        "# **Buscar Datos**"
      ],
      "metadata": {
        "id": "aQprPXBBdSzE"
      }
    },
    {
      "cell_type": "code",
      "source": [
        "filtro = {\n",
        "    \"nombre\": [\"economia\", \"ambiente\"],\n",
        "    \"tipo\": [\"conjunto de datos\"]\n",
        "}\n",
        "inventario = DatosGov().tabla_inventario(filtro=filtro)"
      ],
      "metadata": {
        "id": "QRdVUXWeYJ3t"
      },
      "execution_count": 18,
      "outputs": []
    },
    {
      "cell_type": "code",
      "source": [
        "inventario"
      ],
      "metadata": {
        "id": "fZKylpWpajV6"
      },
      "execution_count": null,
      "outputs": []
    },
    {
      "cell_type": "markdown",
      "source": [
        "# **Buscar Datos con la API**"
      ],
      "metadata": {
        "id": "kC86-gbfdE8J"
      }
    },
    {
      "cell_type": "code",
      "source": [
        "numero_api = \"32sa-8pi3\"\n",
        "data = DatosGov().cargar_base(api_id = numero_api)\n",
        "datos = data.to_dataframe()\n",
        "datos"
      ],
      "metadata": {
        "colab": {
          "base_uri": "https://localhost:8080/",
          "height": 424
        },
        "id": "1aFhGhO5c1Z0",
        "outputId": "21fd90a9-bcd7-4bb9-f260-6dc767fffca3"
      },
      "execution_count": 22,
      "outputs": [
        {
          "output_type": "execute_result",
          "data": {
            "text/plain": [
              "        valor unidad vigenciadesde vigenciahasta\n",
              "0     2850.98    COP    2002-10-09    2002-10-09\n",
              "1     2854.04    COP    2002-10-10    2002-10-10\n",
              "2     2870.63    COP    2002-10-11    2002-10-11\n",
              "3     2861.16    COP    2002-10-12    2002-10-15\n",
              "4     2852.99    COP    2002-10-16    2002-10-16\n",
              "...       ...    ...           ...           ...\n",
              "7339  3799.50    COP    2022-06-07    2022-06-07\n",
              "7340  3790.88    COP    2022-06-08    2022-06-08\n",
              "7341  3782.65    COP    2022-06-09    2022-06-09\n",
              "7342  3833.34    COP    2022-06-10    2022-06-10\n",
              "7343  3912.51    COP    2022-06-11    2022-06-13\n",
              "\n",
              "[7344 rows x 4 columns]"
            ],
            "text/html": [
              "\n",
              "  <div id=\"df-2108da86-bcfc-4429-bacb-171f40fb0431\">\n",
              "    <div class=\"colab-df-container\">\n",
              "      <div>\n",
              "<style scoped>\n",
              "    .dataframe tbody tr th:only-of-type {\n",
              "        vertical-align: middle;\n",
              "    }\n",
              "\n",
              "    .dataframe tbody tr th {\n",
              "        vertical-align: top;\n",
              "    }\n",
              "\n",
              "    .dataframe thead th {\n",
              "        text-align: right;\n",
              "    }\n",
              "</style>\n",
              "<table border=\"1\" class=\"dataframe\">\n",
              "  <thead>\n",
              "    <tr style=\"text-align: right;\">\n",
              "      <th></th>\n",
              "      <th>valor</th>\n",
              "      <th>unidad</th>\n",
              "      <th>vigenciadesde</th>\n",
              "      <th>vigenciahasta</th>\n",
              "    </tr>\n",
              "  </thead>\n",
              "  <tbody>\n",
              "    <tr>\n",
              "      <th>0</th>\n",
              "      <td>2850.98</td>\n",
              "      <td>COP</td>\n",
              "      <td>2002-10-09</td>\n",
              "      <td>2002-10-09</td>\n",
              "    </tr>\n",
              "    <tr>\n",
              "      <th>1</th>\n",
              "      <td>2854.04</td>\n",
              "      <td>COP</td>\n",
              "      <td>2002-10-10</td>\n",
              "      <td>2002-10-10</td>\n",
              "    </tr>\n",
              "    <tr>\n",
              "      <th>2</th>\n",
              "      <td>2870.63</td>\n",
              "      <td>COP</td>\n",
              "      <td>2002-10-11</td>\n",
              "      <td>2002-10-11</td>\n",
              "    </tr>\n",
              "    <tr>\n",
              "      <th>3</th>\n",
              "      <td>2861.16</td>\n",
              "      <td>COP</td>\n",
              "      <td>2002-10-12</td>\n",
              "      <td>2002-10-15</td>\n",
              "    </tr>\n",
              "    <tr>\n",
              "      <th>4</th>\n",
              "      <td>2852.99</td>\n",
              "      <td>COP</td>\n",
              "      <td>2002-10-16</td>\n",
              "      <td>2002-10-16</td>\n",
              "    </tr>\n",
              "    <tr>\n",
              "      <th>...</th>\n",
              "      <td>...</td>\n",
              "      <td>...</td>\n",
              "      <td>...</td>\n",
              "      <td>...</td>\n",
              "    </tr>\n",
              "    <tr>\n",
              "      <th>7339</th>\n",
              "      <td>3799.50</td>\n",
              "      <td>COP</td>\n",
              "      <td>2022-06-07</td>\n",
              "      <td>2022-06-07</td>\n",
              "    </tr>\n",
              "    <tr>\n",
              "      <th>7340</th>\n",
              "      <td>3790.88</td>\n",
              "      <td>COP</td>\n",
              "      <td>2022-06-08</td>\n",
              "      <td>2022-06-08</td>\n",
              "    </tr>\n",
              "    <tr>\n",
              "      <th>7341</th>\n",
              "      <td>3782.65</td>\n",
              "      <td>COP</td>\n",
              "      <td>2022-06-09</td>\n",
              "      <td>2022-06-09</td>\n",
              "    </tr>\n",
              "    <tr>\n",
              "      <th>7342</th>\n",
              "      <td>3833.34</td>\n",
              "      <td>COP</td>\n",
              "      <td>2022-06-10</td>\n",
              "      <td>2022-06-10</td>\n",
              "    </tr>\n",
              "    <tr>\n",
              "      <th>7343</th>\n",
              "      <td>3912.51</td>\n",
              "      <td>COP</td>\n",
              "      <td>2022-06-11</td>\n",
              "      <td>2022-06-13</td>\n",
              "    </tr>\n",
              "  </tbody>\n",
              "</table>\n",
              "<p>7344 rows × 4 columns</p>\n",
              "</div>\n",
              "      <button class=\"colab-df-convert\" onclick=\"convertToInteractive('df-2108da86-bcfc-4429-bacb-171f40fb0431')\"\n",
              "              title=\"Convert this dataframe to an interactive table.\"\n",
              "              style=\"display:none;\">\n",
              "        \n",
              "  <svg xmlns=\"http://www.w3.org/2000/svg\" height=\"24px\"viewBox=\"0 0 24 24\"\n",
              "       width=\"24px\">\n",
              "    <path d=\"M0 0h24v24H0V0z\" fill=\"none\"/>\n",
              "    <path d=\"M18.56 5.44l.94 2.06.94-2.06 2.06-.94-2.06-.94-.94-2.06-.94 2.06-2.06.94zm-11 1L8.5 8.5l.94-2.06 2.06-.94-2.06-.94L8.5 2.5l-.94 2.06-2.06.94zm10 10l.94 2.06.94-2.06 2.06-.94-2.06-.94-.94-2.06-.94 2.06-2.06.94z\"/><path d=\"M17.41 7.96l-1.37-1.37c-.4-.4-.92-.59-1.43-.59-.52 0-1.04.2-1.43.59L10.3 9.45l-7.72 7.72c-.78.78-.78 2.05 0 2.83L4 21.41c.39.39.9.59 1.41.59.51 0 1.02-.2 1.41-.59l7.78-7.78 2.81-2.81c.8-.78.8-2.07 0-2.86zM5.41 20L4 18.59l7.72-7.72 1.47 1.35L5.41 20z\"/>\n",
              "  </svg>\n",
              "      </button>\n",
              "      \n",
              "  <style>\n",
              "    .colab-df-container {\n",
              "      display:flex;\n",
              "      flex-wrap:wrap;\n",
              "      gap: 12px;\n",
              "    }\n",
              "\n",
              "    .colab-df-convert {\n",
              "      background-color: #E8F0FE;\n",
              "      border: none;\n",
              "      border-radius: 50%;\n",
              "      cursor: pointer;\n",
              "      display: none;\n",
              "      fill: #1967D2;\n",
              "      height: 32px;\n",
              "      padding: 0 0 0 0;\n",
              "      width: 32px;\n",
              "    }\n",
              "\n",
              "    .colab-df-convert:hover {\n",
              "      background-color: #E2EBFA;\n",
              "      box-shadow: 0px 1px 2px rgba(60, 64, 67, 0.3), 0px 1px 3px 1px rgba(60, 64, 67, 0.15);\n",
              "      fill: #174EA6;\n",
              "    }\n",
              "\n",
              "    [theme=dark] .colab-df-convert {\n",
              "      background-color: #3B4455;\n",
              "      fill: #D2E3FC;\n",
              "    }\n",
              "\n",
              "    [theme=dark] .colab-df-convert:hover {\n",
              "      background-color: #434B5C;\n",
              "      box-shadow: 0px 1px 3px 1px rgba(0, 0, 0, 0.15);\n",
              "      filter: drop-shadow(0px 1px 2px rgba(0, 0, 0, 0.3));\n",
              "      fill: #FFFFFF;\n",
              "    }\n",
              "  </style>\n",
              "\n",
              "      <script>\n",
              "        const buttonEl =\n",
              "          document.querySelector('#df-2108da86-bcfc-4429-bacb-171f40fb0431 button.colab-df-convert');\n",
              "        buttonEl.style.display =\n",
              "          google.colab.kernel.accessAllowed ? 'block' : 'none';\n",
              "\n",
              "        async function convertToInteractive(key) {\n",
              "          const element = document.querySelector('#df-2108da86-bcfc-4429-bacb-171f40fb0431');\n",
              "          const dataTable =\n",
              "            await google.colab.kernel.invokeFunction('convertToInteractive',\n",
              "                                                     [key], {});\n",
              "          if (!dataTable) return;\n",
              "\n",
              "          const docLinkHtml = 'Like what you see? Visit the ' +\n",
              "            '<a target=\"_blank\" href=https://colab.research.google.com/notebooks/data_table.ipynb>data table notebook</a>'\n",
              "            + ' to learn more about interactive tables.';\n",
              "          element.innerHTML = '';\n",
              "          dataTable['output_type'] = 'display_data';\n",
              "          await google.colab.output.renderOutput(dataTable, element);\n",
              "          const docLink = document.createElement('div');\n",
              "          docLink.innerHTML = docLinkHtml;\n",
              "          element.appendChild(docLink);\n",
              "        }\n",
              "      </script>\n",
              "    </div>\n",
              "  </div>\n",
              "  "
            ]
          },
          "metadata": {},
          "execution_count": 22
        }
      ]
    }
  ]
}
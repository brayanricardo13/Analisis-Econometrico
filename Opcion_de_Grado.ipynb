{
  "nbformat": 4,
  "nbformat_minor": 0,
  "metadata": {
    "colab": {
      "name": "Opcion de Grado",
      "provenance": [],
      "collapsed_sections": [],
      "authorship_tag": "ABX9TyNWrQntSjUybhUDUSTD2avq",
      "include_colab_link": true
    },
    "kernelspec": {
      "name": "python3",
      "display_name": "Python 3"
    },
    "language_info": {
      "name": "python"
    }
  },
  "cells": [
    {
      "cell_type": "markdown",
      "metadata": {
        "id": "view-in-github",
        "colab_type": "text"
      },
      "source": [
        "<a href=\"https://colab.research.google.com/github/brayanricardo13/Analisis-Econometrico/blob/main/Opcion_de_Grado.ipynb\" target=\"_parent\"><img src=\"https://colab.research.google.com/assets/colab-badge.svg\" alt=\"Open In Colab\"/></a>"
      ]
    },
    {
      "cell_type": "code",
      "execution_count": null,
      "metadata": {
        "id": "QcYQL8_lRKa-"
      },
      "outputs": [],
      "source": [
        "pip install leila # Gov.co"
      ]
    },
    {
      "cell_type": "code",
      "source": [
        "from leila.reporte import generar_reporte \n"
      ],
      "metadata": {
        "id": "RwgmyS-VWTCf"
      },
      "execution_count": 2,
      "outputs": []
    }
  ]
}